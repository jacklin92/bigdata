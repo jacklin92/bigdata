{
 "cells": [
  {
   "cell_type": "markdown",
   "metadata": {},
   "source": [
    "# Selenium Usage\n",
    "\n",
    "反爬設置：若需避免反爬，可以加上自訂的 User-Agent 或模擬人類行為（如隨機點擊、等待）\n",
    "\n",
    "1. 設置自訂的 User-Agent\n",
    "\n",
    "    許多網站會檢測 User-Agent，如果發現是無頭瀏覽器，可能會拒絕訪問。可以通過 chrome_options 設置自訂的 User-Agent。\n",
    "\n",
    "        from selenium.webdriver.chrome.options import Options\n",
    "\n",
    "        chrome_options = Options()\n",
    "        chrome_options.add_argument(\"--headless\")\n",
    "        chrome_options.add_argument(\"user-agent=Mozilla/5.0 (Windows NT 10.0; Win64; x64) AppleWebKit/537.36 (KHTML, like Gecko) Chrome/114.0.5735.198 Safari/537.36\")\n",
    "\n",
    "\n",
    "2. 禁用 Selenium 的特徵標記\n",
    "    某些網站會檢測瀏覽器中的特徵標記（如 navigator.webdriver），以此識別 Selenium。可以通過修改 JavaScript 屬性來隱藏這些標記。\n",
    "\n",
    "        driver.execute_cdp_cmd(\"Page.addScriptToEvaluateOnNewDocument\", {\n",
    "            \"source\": \"\"\"\n",
    "            Object.defineProperty(navigator, 'webdriver', { get: () => undefined });\n",
    "            \"\"\"\n",
    "        })\n",
    "\n",
    "\n",
    "3. 隨機延遲操作 \n",
    "    爬取時添加隨機延遲來模仿人類操作，而不是直接快速執行每個動作。\n",
    "        import time\n",
    "        import random\n",
    "        def random_delay():\n",
    "            time.sleep(random.uniform(2, 5))  # 隨機延遲 2 到 5 秒\n",
    "        使用時：\n",
    "        random_delay()\n",
    "        driver.get(\"https://example.com\")\n",
    "        random_delay()\n",
    "\n",
    "\n",
    "4. 設置瀏覽器窗口大小\n",
    "    某些網站會檢測瀏覽器窗口大小，無頭模式默認使用最小窗口，可以手動設置為普通大小。\n",
    "        chrome_options.add_argument(\"window-size=1920,1080\")\n",
    "\n",
    "5. 禁用無頭模式標記\n",
    "    某些網站能識別到無頭瀏覽器，可以通過禁用一些無頭模式特徵來隱藏。\n",
    "        chrome_options.add_argument(\"--disable-blink-features=AutomationControlled\")\n",
    "\n",
    "6. 模擬鼠標和鍵盤操作 通過 Selenium 的 ActionChains 模組模擬滑鼠移動、點擊和鍵盤輸入。\n",
    "\n",
    "        from selenium.webdriver.common.action_chains import ActionChains\n",
    "        from selenium.webdriver.common.keys import Keys\n",
    "\n",
    "        action = ActionChains(driver)\n",
    "        element = driver.find_element(\"name\", \"q\")  # 找到 Google 搜索框\n",
    "        action.move_to_element(element).click().send_keys(\"Selenium\").send_keys(Keys.RETURN).perform()\n",
    "\n",
    "\n",
    "7. 使用代理 IP\n",
    "    使用代理 IP 可以減少目標網站對於同一 IP 的訪問限制。\n",
    "        \n",
    "        chrome_options.add_argument(\"--proxy-server=http://your-proxy-server:port\")\n",
    "        \n",
    "        若需要動態代理，建議使用服務如 ProxyMesh 或 Bright Data。\n",
    "\n",
    "8. 多用戶代理切換\n",
    "    通過腳本自動切換不同的代理 IP，減少單一 IP 的檢測風險。"
   ]
  },
  {
   "cell_type": "markdown",
   "metadata": {},
   "source": [
    "# Install packages"
   ]
  },
  {
   "cell_type": "code",
   "execution_count": 1,
   "metadata": {},
   "outputs": [
    {
     "name": "stdout",
     "output_type": "stream",
     "text": [
      "Requirement already satisfied: selenium in c:\\users\\jackl\\anaconda3\\lib\\site-packages (4.18.1)\n",
      "Collecting webdriver-manager\n",
      "  Downloading webdriver_manager-4.0.2-py2.py3-none-any.whl.metadata (12 kB)\n",
      "Requirement already satisfied: urllib3<3,>=1.26 in c:\\users\\jackl\\anaconda3\\lib\\site-packages (from urllib3[socks]<3,>=1.26->selenium) (1.26.18)\n",
      "Requirement already satisfied: trio~=0.17 in c:\\users\\jackl\\anaconda3\\lib\\site-packages (from selenium) (0.24.0)\n",
      "Requirement already satisfied: trio-websocket~=0.9 in c:\\users\\jackl\\anaconda3\\lib\\site-packages (from selenium) (0.11.1)\n",
      "Requirement already satisfied: certifi>=2021.10.8 in c:\\users\\jackl\\anaconda3\\lib\\site-packages (from selenium) (2023.11.17)\n",
      "Requirement already satisfied: typing_extensions>=4.9.0 in c:\\users\\jackl\\anaconda3\\lib\\site-packages (from selenium) (4.10.0)\n",
      "Requirement already satisfied: requests in c:\\users\\jackl\\anaconda3\\lib\\site-packages (from webdriver-manager) (2.31.0)\n",
      "Requirement already satisfied: python-dotenv in c:\\users\\jackl\\anaconda3\\lib\\site-packages (from webdriver-manager) (0.21.0)\n",
      "Requirement already satisfied: packaging in c:\\users\\jackl\\anaconda3\\lib\\site-packages (from webdriver-manager) (23.1)\n",
      "Requirement already satisfied: attrs>=20.1.0 in c:\\users\\jackl\\anaconda3\\lib\\site-packages (from trio~=0.17->selenium) (23.1.0)\n",
      "Requirement already satisfied: sortedcontainers in c:\\users\\jackl\\anaconda3\\lib\\site-packages (from trio~=0.17->selenium) (2.4.0)\n",
      "Requirement already satisfied: idna in c:\\users\\jackl\\anaconda3\\lib\\site-packages (from trio~=0.17->selenium) (2.10)\n",
      "Requirement already satisfied: outcome in c:\\users\\jackl\\anaconda3\\lib\\site-packages (from trio~=0.17->selenium) (1.3.0.post0)\n",
      "Requirement already satisfied: sniffio>=1.3.0 in c:\\users\\jackl\\anaconda3\\lib\\site-packages (from trio~=0.17->selenium) (1.3.1)\n",
      "Requirement already satisfied: cffi>=1.14 in c:\\users\\jackl\\anaconda3\\lib\\site-packages (from trio~=0.17->selenium) (1.16.0)\n",
      "Requirement already satisfied: exceptiongroup in c:\\users\\jackl\\anaconda3\\lib\\site-packages (from trio~=0.17->selenium) (1.0.4)\n",
      "Requirement already satisfied: wsproto>=0.14 in c:\\users\\jackl\\anaconda3\\lib\\site-packages (from trio-websocket~=0.9->selenium) (1.2.0)\n",
      "Requirement already satisfied: PySocks!=1.5.7,<2.0,>=1.5.6 in c:\\users\\jackl\\anaconda3\\lib\\site-packages (from urllib3[socks]<3,>=1.26->selenium) (1.7.1)\n",
      "Requirement already satisfied: charset-normalizer<4,>=2 in c:\\users\\jackl\\anaconda3\\lib\\site-packages (from requests->webdriver-manager) (2.0.4)\n",
      "Requirement already satisfied: pycparser in c:\\users\\jackl\\anaconda3\\lib\\site-packages (from cffi>=1.14->trio~=0.17->selenium) (2.21)\n",
      "Requirement already satisfied: h11<1,>=0.9.0 in c:\\users\\jackl\\anaconda3\\lib\\site-packages (from wsproto>=0.14->trio-websocket~=0.9->selenium) (0.9.0)\n",
      "Downloading webdriver_manager-4.0.2-py2.py3-none-any.whl (27 kB)\n",
      "Installing collected packages: webdriver-manager\n",
      "Successfully installed webdriver-manager-4.0.2\n"
     ]
    },
    {
     "name": "stderr",
     "output_type": "stream",
     "text": [
      "\n",
      "[notice] A new release of pip is available: 24.2 -> 25.0.1\n",
      "[notice] To update, run: python.exe -m pip install --upgrade pip\n"
     ]
    },
    {
     "name": "stdout",
     "output_type": "stream",
     "text": [
      "Requirement already satisfied: fake-useragent in c:\\users\\jackl\\anaconda3\\lib\\site-packages (2.0.3)\n",
      "Collecting fake-useragent\n",
      "  Downloading fake_useragent-2.1.0-py3-none-any.whl.metadata (17 kB)\n",
      "Requirement already satisfied: importlib-resources>=6.0 in c:\\users\\jackl\\anaconda3\\lib\\site-packages (from fake-useragent) (6.1.0)\n",
      "Requirement already satisfied: zipp>=3.1.0 in c:\\users\\jackl\\anaconda3\\lib\\site-packages (from importlib-resources>=6.0->fake-useragent) (3.11.0)\n",
      "Downloading fake_useragent-2.1.0-py3-none-any.whl (125 kB)\n",
      "Installing collected packages: fake-useragent\n",
      "  Attempting uninstall: fake-useragent\n",
      "    Found existing installation: fake-useragent 2.0.3\n",
      "    Uninstalling fake-useragent-2.0.3:\n",
      "      Successfully uninstalled fake-useragent-2.0.3\n",
      "Successfully installed fake-useragent-2.1.0\n"
     ]
    },
    {
     "name": "stderr",
     "output_type": "stream",
     "text": [
      "\n",
      "[notice] A new release of pip is available: 24.2 -> 25.0.1\n",
      "[notice] To update, run: python.exe -m pip install --upgrade pip\n"
     ]
    }
   ],
   "source": [
    "# 安裝所需套件\n",
    "!pip install selenium webdriver-manager\n",
    "!pip install fake-useragent -U\n"
   ]
  },
  {
   "cell_type": "code",
   "execution_count": 2,
   "metadata": {},
   "outputs": [],
   "source": [
    "\n",
    "# 安裝 Google Chrome\n",
    "# !apt-get update\n",
    "# !apt-get install -y wget\n",
    "# !wget -q -O google-chrome-stable_current_amd64.deb https://dl.google.com/linux/direct/google-chrome-stable_current_amd64.deb\n",
    "# !dpkg -i google-chrome-stable_current_amd64.deb\n",
    "# !apt-get -f install -y\n"
   ]
  },
  {
   "cell_type": "code",
   "execution_count": 3,
   "metadata": {},
   "outputs": [],
   "source": [
    "\n",
    "# 實作程式碼\n",
    "from selenium import webdriver\n",
    "from selenium.webdriver.chrome.service import Service\n",
    "from selenium.webdriver.chrome.options import Options\n",
    "from webdriver_manager.chrome import ChromeDriverManager\n",
    "import time\n",
    "import random\n"
   ]
  },
  {
   "cell_type": "code",
   "execution_count": 4,
   "metadata": {},
   "outputs": [
    {
     "data": {
      "text/plain": [
       "{'identifier': '2'}"
      ]
     },
     "execution_count": 4,
     "metadata": {},
     "output_type": "execute_result"
    }
   ],
   "source": [
    "# 隨機延遲 (random_delay)\n",
    "# 模擬人類操作的速度，避免連續的快速請求引起網站注意。\n",
    "\n",
    "# 自訂 User-Agent\n",
    "# 模仿真實的瀏覽器標識，避免被識別為自動化工具。\n",
    "\n",
    "# 隱藏 Selenium 的特徵\n",
    "# 使用 JavaScript 修改 navigator.webdriver，防止網站檢測到 Selenium 的執行環境。\n",
    "\n",
    "# 設置窗口大小\n",
    "# 無頭模式下默認窗口大小可能會暴露機器特徵，設置常見的分辨率如 1920x1080。\n",
    "\n",
    "# 模擬輸入與提交\n",
    "# 使用 Selenium 的 send_keys 和 submit 進行互動操作，模擬用戶行為。\n",
    "\n",
    "#-------------------\n",
    "# 隨機延遲函數\n",
    "def random_delay():\n",
    "    time.sleep(random.uniform(5, 15))  # 隨機延遲 2 到 5 秒\n",
    "\n",
    "# 設定 Chrome Options\n",
    "chrome_options = Options()\n",
    "chrome_options.add_argument(\"--headless\")  # 無頭模式 不顯示瀏覽器界面\n",
    "chrome_options.add_argument(\"--no-sandbox\") # 避免沙盒\n",
    "chrome_options.add_argument(\"--incognito\") # 無痕模式\n",
    "chrome_options.add_argument(\"--disable-dev-shm-usage\") # 避免記憶體不足\n",
    "chrome_options.add_argument(\"--disable-blink-features=AutomationControlled\")  # 隱藏無頭模式特徵\n",
    "chrome_options.add_argument(\"window-size=1920,1080\")  # 模擬普通瀏覽器視窗大小\n",
    "# 禁止印出log、隱藏受自動化軟體控制之資訊\n",
    "# 禁用Chrome的自動化擴充功能\n",
    "# 可以避免某些網站檢測到自動化測試而阻擋訪問\n",
    "# 提高爬蟲的穩定性和真實性\n",
    "# 這些設定的主要目的是:\n",
    "\n",
    "# 讓自動化程式更像真實用戶在使用瀏覽器\n",
    "# 避免被網站檢測出是自動化工具\n",
    "# 減少不必要的日誌輸出\n",
    "chrome_options.add_experimental_option('excludeSwitches', ['enable-logging', 'enable-automation'])\n",
    "chrome_options.add_experimental_option('useAutomationExtension', False)\n",
    "\n",
    "# 許多網站會檢測 User-Agent，如果發現是無頭瀏覽器，可能會拒絕訪問。可以通過 chrome_options 設置自訂的 User-Agent。\n",
    "chrome_options.add_argument(\n",
    "    \"user-agent=Mozilla/5.0 (Windows NT 10.0; Win64; x64) AppleWebKit/537.36 (KHTML, like Gecko) Chrome/114.0.5735.198 Safari/537.36\"\n",
    ")  # 設定自訂 User-Agent\n",
    "\n",
    "# 自動下載與配置 ChromeDriver 它會根據你的 Chrome 瀏覽器版本自動匹配合適的 ChromeDriver，免除手動下載與管理\n",
    "#service = Service(ChromeDriverManager().install())\n",
    "# 啟動 Selenium WebDriver\n",
    "#driver = webdriver.Chrome(service=service, options=chrome_options)\n",
    "\n",
    "# 啟動 Selenium WebDriver\n",
    "try:\n",
    "    service = Service(ChromeDriverManager().install())\n",
    "    browser = webdriver.Chrome(\n",
    "        service=service,\n",
    "        options=chrome_options\n",
    "    )\n",
    "except Exception as e:\n",
    "    print(f\"Error initializing Chrome browser: {e}\")\n",
    "    raise # Keep this to ensure program stops on critical error\n",
    "\n",
    "\n",
    "# 禁用 Selenium 的特徵標記\n",
    "# 隱藏 Selenium 特徵\n",
    "browser.execute_cdp_cmd(\n",
    "    \"Page.addScriptToEvaluateOnNewDocument\",\n",
    "    {\n",
    "        \"source\": \"\"\"\n",
    "        Object.defineProperty(navigator, 'webdriver', { get: () => undefined });\n",
    "        \"\"\"\n",
    "    },\n",
    ")\n"
   ]
  },
  {
   "cell_type": "code",
   "execution_count": 5,
   "metadata": {},
   "outputs": [
    {
     "name": "stdout",
     "output_type": "stream",
     "text": [
      "Page Title: Python - 維基百科，自由的百科全書\n",
      "\n",
      "介紹文字:\n",
      "Python（英式發音：/ˈpaɪθən/；美式發音：/ˈpaɪθɑːn/），是一種廣泛使用的直譯式、進階和通用的程式語言。Python支援多種程式設計範式，包括結構化、程序式、反射式、物件導向和函數式程式設計。它擁有動態型別系統和垃圾回收功能，能夠自動管理主記憶體使用，並且其本身擁有一個巨大而廣泛的標準庫。它的語言結構以及物件導向的方法，旨在幫助程式設計師為小型的和大型的專案編寫邏輯清晰的程式碼。\n",
      "\n",
      "目錄項目:\n",
      "瀏覽器已關閉。\n"
     ]
    }
   ],
   "source": [
    "def crawl_some_information():\n",
    "    try:\n",
    "        # 訪問維基百科頁面\n",
    "        browser.get(\"https://zh.wikipedia.org/wiki/Python\")\n",
    "        print(\"Page Title:\", browser.title)\n",
    "\n",
    "        # 隨機延遲，模擬人類行為\n",
    "        random_delay()\n",
    "\n",
    "        # 取得頁面中的第一段介紹文字\n",
    "        intro_text = browser.find_element(\"css selector\", \"#mw-content-text p:not(.mw-empty-elt)\").text\n",
    "        print(\"\\n介紹文字:\")\n",
    "        print(intro_text)\n",
    "\n",
    "        # 取得目錄標題\n",
    "        toc_items = browser.find_elements(\"css selector\", \"#toc ul li .toctext\")\n",
    "        print(\"\\n目錄項目:\")\n",
    "        for item in toc_items[:5]:  # 只印出前5個目錄項目\n",
    "            print(\"- \" + item.text)\n",
    "\n",
    "        random_delay()\n",
    "        \n",
    "    except Exception as e:\n",
    "        print(f\"發生錯誤: {e}\")\n",
    "    finally:\n",
    "        # 關閉瀏覽器\n",
    "        browser.quit()\n",
    "        print(\"瀏覽器已關閉。\")\n",
    "\n",
    "crawl_some_information()"
   ]
  },
  {
   "cell_type": "code",
   "execution_count": null,
   "metadata": {},
   "outputs": [],
   "source": []
  }
 ],
 "metadata": {
  "kernelspec": {
   "display_name": "base",
   "language": "python",
   "name": "python3"
  },
  "language_info": {
   "codemirror_mode": {
    "name": "ipython",
    "version": 3
   },
   "file_extension": ".py",
   "mimetype": "text/x-python",
   "name": "python",
   "nbconvert_exporter": "python",
   "pygments_lexer": "ipython3",
   "version": "3.9.18"
  }
 },
 "nbformat": 4,
 "nbformat_minor": 2
}
