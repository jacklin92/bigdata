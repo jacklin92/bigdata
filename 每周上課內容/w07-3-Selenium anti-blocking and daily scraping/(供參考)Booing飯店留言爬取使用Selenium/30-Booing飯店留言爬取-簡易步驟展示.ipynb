{
 "cells": [
  {
   "attachments": {},
   "cell_type": "markdown",
   "id": "chicken-killing",
   "metadata": {},
   "source": [
    "# Booking.com Hotel Review"
   ]
  },
  {
   "attachments": {},
   "cell_type": "markdown",
   "id": "statutory-video",
   "metadata": {},
   "source": [
    "# All-in-one function"
   ]
  },
  {
   "cell_type": "code",
   "execution_count": 1,
   "id": "arctic-browser",
   "metadata": {},
   "outputs": [],
   "source": [
    "# import packages\n",
    "import requests\n",
    "import re\n",
    "from bs4 import BeautifulSoup\n",
    "import time\n",
    "import pandas as pd\n",
    "from selenium import webdriver "
   ]
  },
  {
   "attachments": {},
   "cell_type": "markdown",
   "id": "skilled-condition",
   "metadata": {},
   "source": [
    "## Selenium連續爬取多頁: 下一頁"
   ]
  },
  {
   "cell_type": "code",
   "execution_count": 2,
   "id": "ecological-leone",
   "metadata": {},
   "outputs": [
    {
     "name": "stderr",
     "output_type": "stream",
     "text": [
      "C:\\Users\\user\\AppData\\Local\\Temp\\ipykernel_2276\\2070418874.py:2: DeprecationWarning: executable_path has been deprecated, please pass in a Service object\n",
      "  driver = webdriver.Chrome(chrome_path)\n"
     ]
    }
   ],
   "source": [
    "chrome_path = \"chromedriver110.exe\" \n",
    "driver = webdriver.Chrome(chrome_path)"
   ]
  },
  {
   "cell_type": "code",
   "execution_count": 3,
   "id": "through-pocket",
   "metadata": {},
   "outputs": [
    {
     "name": "stdout",
     "output_type": "stream",
     "text": [
      "俊億\n",
      "\n",
      "臺灣\n",
      "傑出\n",
      "10\n",
      "夏\n",
      "\n",
      "臺灣\n",
      "非常好\n",
      "8.0\n",
      "蘇\n",
      "\n",
      "臺灣\n",
      "非常好\n",
      "8.0\n",
      "士強\n",
      "\n",
      "臺灣\n",
      "很棒\n",
      "8.0\n",
      "I\n",
      "\n",
      "臺灣\n",
      "好\n",
      "7.0\n",
      "Pinchun\n",
      "\n",
      "臺灣\n",
      "這裡的舒適度普通，但以價格來說，CP值很高，而且住這裡有機會升等，這次很幸運，有遇到升等，如果你也是省錢一族，高雄首推龍翔大飯店！\n",
      "8.0\n",
      "Chih-hsien\n",
      "\n",
      "臺灣\n",
      "令人愉悅\n",
      "6.0\n",
      "嘉瑩\n",
      "\n",
      "臺灣\n",
      "好\n",
      "7.0\n",
      "Chialing\n",
      "\n",
      "臺灣\n",
      "好\n",
      "7.0\n",
      "謝\n",
      "\n",
      "臺灣\n",
      "燈光偏暗但其餘設備佳，員工熱情且床的品質算不錯，空間也大\n",
      "7.0\n",
      "劉\n",
      "\n",
      "臺灣\n",
      "令人愉悅\n",
      "6.0\n",
      "貞文\n",
      "\n",
      "臺灣\n",
      "好\n",
      "7.0\n",
      "詩鈞\n",
      "\n",
      "臺灣\n",
      "非常好\n",
      "8.0\n",
      "詠騰\n",
      "\n",
      "臺灣\n",
      "非常好\n",
      "8.0\n",
      "東龍\n",
      "\n",
      "臺灣\n",
      "整體CP值高\n",
      "8.0\n",
      "Sam\n",
      "\n",
      "臺灣\n",
      "非常好\n",
      "8.0\n",
      "蓁蓁\n",
      "\n",
      "臺灣\n",
      "非常好\n",
      "8.0\n",
      "威\n",
      "\n",
      "臺灣\n",
      "性價比很高\n",
      "7.0\n",
      "品璇\n",
      "\n",
      "臺灣\n",
      "令人愉悅\n",
      "6.0\n",
      "Tk郭\n",
      "\n",
      "臺灣\n",
      "令人愉悅\n",
      "6.0\n",
      "Chihlung\n",
      "\n",
      "臺灣\n",
      "整體不錯對煙味不排斥的人含適合\n",
      "7.0\n",
      "Lin\n",
      "\n",
      "臺灣\n",
      "好\n",
      "7.0\n",
      "泓鑫\n",
      "\n",
      "臺灣\n",
      "我再考慮的好地方\n",
      "8.0\n",
      "郭亞芬\n",
      "\n",
      "臺灣\n",
      "非常好\n",
      "8.0\n",
      "Joesphkuo\n",
      "\n",
      "臺灣\n",
      "非常好\n",
      "8.0\n",
      "Ljiavaws\n",
      "\n",
      "臺灣\n",
      "好\n",
      "7.0\n",
      "喬\n",
      "\n",
      "臺灣\n",
      "令人愉悅\n",
      "6.0\n",
      "Lei\n",
      "\n",
      "臺灣\n",
      "好\n",
      "7.0\n",
      "惠欣\n",
      "\n",
      "臺灣\n",
      "好\n",
      "7.0\n",
      "德榮\n",
      "\n",
      "臺灣\n",
      "好\n",
      "7.0\n",
      "Hanyu\n",
      "\n",
      "臺灣\n",
      "好\n",
      "7.0\n",
      "何\n",
      "\n",
      "臺灣\n",
      "非常好\n",
      "8.0\n",
      "Jiuyi\n",
      "\n",
      "臺灣\n",
      "非常好\n",
      "8.0\n",
      "Hsiaowei\n",
      "\n",
      "臺灣\n",
      "非常便宜地點佳\n",
      "8.0\n",
      "靜如\n",
      "\n",
      "臺灣\n",
      "非常好\n",
      "8.0\n",
      "Ko\n",
      "\n",
      "臺灣\n",
      "整體上性價比高，推薦\n",
      "7.0\n",
      "嘉惠\n",
      "\n",
      "臺灣\n",
      "櫃檯的服務人員態度都很好很親切，但是走廊跟房間的燈真的都太暗了！\n",
      "6.0\n",
      "Chien\n",
      "\n",
      "臺灣\n",
      "如果只要一個回來能睡覺的地方，那麼性價比很高\n",
      "7.0\n",
      "育薇\n",
      "\n",
      "臺灣\n",
      "只有地點OK\n",
      "6.0\n",
      "Lili\n",
      "\n",
      "臺灣\n",
      "整體CP值蠻高的，房間大，附近便利，退宿還會送一張平日的折價住宿券，對於只是想有個睡覺的地方是不錯的選擇\n",
      "7.0\n",
      "許國龍\n",
      "\n",
      "臺灣\n",
      "平日住宿 Cp值高\n",
      "8.0\n",
      "家綺\n",
      "\n",
      "臺灣\n",
      "非常好\n",
      "8.0\n",
      "Kuo\n",
      "\n",
      "臺灣\n",
      "好\n",
      "7.0\n",
      "子\n",
      "\n",
      "臺灣\n",
      "簡單舒適\n",
      "6.0\n",
      "Wu\n",
      "\n",
      "越南\n",
      "地點方便\n",
      "7.0\n",
      "Jen\n",
      "\n",
      "臺灣\n",
      "好\n",
      "7.0\n",
      "映廷\n",
      "\n",
      "臺灣\n",
      "好\n",
      "7.0\n",
      "秀珊\n",
      "\n",
      "臺灣\n",
      "如果不是很要求住宿的話，這倒是可以考慮\n",
      "7.0\n",
      "娜\n",
      "\n",
      "臺灣\n",
      "房間、浴室很寬敞\n",
      "7.0\n",
      "Yucheng\n",
      "\n",
      "臺灣\n",
      "如果應急的話是個非常不錯的選擇，但要捨棄一些住宿該有的期待\n",
      "6.0\n",
      "提前結束!\n",
      "CPU times: total: 500 ms\n",
      "Wall time: 33.3 s\n"
     ]
    }
   ],
   "source": [
    "%%time\n",
    "\n",
    "pageNum=1\n",
    "\n",
    "scores=[]\n",
    "reviews=[]\n",
    "users=[]\n",
    "likeReviews=[]\n",
    "dislikeReviews=[]\n",
    "\n",
    "#path = \"https://www.booking.com/reviewlist.zh-tw.html?label=gen173nr-1DCAEoggI46AdIMFgEaOcBiAEBmAEwuAEXyAEM2AED6AEB-AECiAIBqAIDuALdhvOFBsACAdICJGI1OWQzODA1LTJlNTAtNDM0Ni1hMDdmLThiMDIyZGY4Yzg3NNgCBOACAQ&sid=22759720e84ae79815aa2dad1c896751&cc1=tw&pagename=kang-qiao-shang-lu-gao-xiong-zhan-qian-guan&r_lang=&review_topic_category_id=&type=total&score=&sort=&dist=1&rows=10&rurl=&text=&translate=&time_of_year=&_=1623001361582&offset=0\"\n",
    "\n",
    "path = \"https://www.booking.com/hotel/tw/long-xiang-hotel.zh-tw.html?aid=304142&label=gen173nr-1FCAEoggI46AdIMFgEaOcBiAEBmAEwuAEXyAEM2AEB6AEB-AECiAIBqAIDuAK0_uaiBsACAdICJDg0NDU2NGExLWIzZDUtNDAzMi05MDJmLWY4Nzk5N2Q3MDI4YdgCBeACAQ&dest_id=-2632378;dest_type=city;dist=0;group_adults=2;group_children=0;hapos=3;hpos=3;no_rooms=1;req_adults=2;req_children=0;room1=A%2CA;sb_price_type=total;sr_order=popularity;srepoch=1683603264;srpvid=eb8c191f98cf0021;type=total;ucfs=1&#tab-reviews\"\n",
    "\n",
    "while True:\n",
    "    try:\n",
    "        if pageNum%10 == 0: \n",
    "            print(\"處理頁次到pageNum: {}\".format(pgNum))\n",
    "        \n",
    "        driver.get(path)\n",
    "        time.sleep(5)\n",
    "\n",
    "        page = BeautifulSoup(driver.page_source,'lxml')        \n",
    "       \n",
    "        samples = page.findAll('li',{'class':'review_list_new_item_block'})\n",
    "        \n",
    "        \n",
    "        for itemNum, sample in enumerate (samples):\n",
    "            \n",
    "            try:\n",
    "                user = sample.find('div',{'class':'c-review-block__row'}).text.strip()\n",
    "\n",
    "                # score\n",
    "                score = sample.find('div',{'class':'bui-review-score__badge'}).text.strip()\n",
    "                # review\n",
    "                review = sample.find('h3',{'class':'c-review-block__title c-review__title--ltr'}).text.strip()\n",
    "                \n",
    "                ## 喜歡的是那些? \n",
    "                reviewBlock = sample.find('div',{'class':'bui-grid__column-9 c-review-block__right'})\n",
    "                try:\n",
    "                    likeReview = reviewBlock.find('p',{'class':'c-review__inner c-review__inner--ltr'}).find('span',{'class':'c-review__body'}).text\n",
    "                    #print(likeReview)\n",
    "                except:\n",
    "                    likeReview=''\n",
    "                \n",
    "                ## 不喜歡的是那些?\n",
    "                try:\n",
    "                    dislikeReview = reviewBlock.find('div',{'class':'c-review__row lalala'}).find('span',{'class':'c-review__body'}).text\n",
    "                    print(dislikeReview)\n",
    "                except:\n",
    "                    dislikeReview=''\n",
    "                \n",
    "                likeReviews.append(likeReview)\n",
    "                dislikeReviews.append(dislikeReview)\n",
    "\n",
    "                users.append(user)\n",
    "                scores.append(score)\n",
    "                reviews.append(review)\n",
    "\n",
    "                print(user)\n",
    "                print(review)\n",
    "                print(score)\n",
    "                \n",
    "            except Exception as e:\n",
    "                print(e)\n",
    "                print(\"pageNum: {}, offset:{}, itemNum:{}\".format(pgNum, offset, itemNum))\n",
    "                print(\"跳開這一筆\")\n",
    "                continue\n",
    "                \n",
    "            # Next user review\n",
    "        \n",
    "        # Next Page       \n",
    "        for item in reversed(page.findAll('div',{'class':'bui-pagination__item'})):\n",
    "            try:\n",
    "                if item.find('a').get('aria-label')==\"下一頁\":\n",
    "                    nextPage=item.find('a').get('href')\n",
    "                    break\n",
    "                else:\n",
    "                    nextPage=''\n",
    "            except:\n",
    "                pass\n",
    "        if nextPage != '':\n",
    "            path = \"https://www.booking.com\"+nextPage\n",
    "            pageNum += 1\n",
    "        else:\n",
    "            print(\"沒有下一頁，結束!\")\n",
    "            break           \n",
    "        \n",
    "        if pageNum > 5:\n",
    "            print(\"提前結束!\")\n",
    "            break\n",
    "        \n",
    "    except Exception as e:\n",
    "        print(e)\n",
    "        print(pageNum)\n",
    "        print(\"結束!\")\n",
    "        break\n"
   ]
  },
  {
   "cell_type": "code",
   "execution_count": null,
   "id": "logical-margin",
   "metadata": {},
   "outputs": [],
   "source": []
  },
  {
   "attachments": {},
   "cell_type": "markdown",
   "id": "frequent-competition",
   "metadata": {},
   "source": [
    "## Save data"
   ]
  },
  {
   "cell_type": "code",
   "execution_count": 16,
   "id": "banner-samuel",
   "metadata": {},
   "outputs": [],
   "source": [
    "data = zip(scores, reviews,likeReviews, dislikeReviews,users)\n",
    "df = pd.DataFrame(list(data), columns=['scores','reviews','likeReview','dislikeReview','users'])"
   ]
  },
  {
   "cell_type": "code",
   "execution_count": 17,
   "id": "temporal-abuse",
   "metadata": {},
   "outputs": [
    {
     "data": {
      "text/plain": [
       "(50, 5)"
      ]
     },
     "execution_count": 17,
     "metadata": {},
     "output_type": "execute_result"
    }
   ],
   "source": [
    "df.shape"
   ]
  },
  {
   "cell_type": "code",
   "execution_count": 18,
   "id": "reliable-spyware",
   "metadata": {},
   "outputs": [
    {
     "data": {
      "text/html": [
       "<div>\n",
       "<style scoped>\n",
       "    .dataframe tbody tr th:only-of-type {\n",
       "        vertical-align: middle;\n",
       "    }\n",
       "\n",
       "    .dataframe tbody tr th {\n",
       "        vertical-align: top;\n",
       "    }\n",
       "\n",
       "    .dataframe thead th {\n",
       "        text-align: right;\n",
       "    }\n",
       "</style>\n",
       "<table border=\"1\" class=\"dataframe\">\n",
       "  <thead>\n",
       "    <tr style=\"text-align: right;\">\n",
       "      <th></th>\n",
       "      <th>scores</th>\n",
       "      <th>reviews</th>\n",
       "      <th>likeReview</th>\n",
       "      <th>dislikeReview</th>\n",
       "      <th>users</th>\n",
       "    </tr>\n",
       "  </thead>\n",
       "  <tbody>\n",
       "    <tr>\n",
       "      <th>0</th>\n",
       "      <td>10</td>\n",
       "      <td>傑出</td>\n",
       "      <td>走路到捷運站、漢神巨蛋、瑞豐夜市都很近。房間寬敞。雖然老舊但乾淨。服務人員很親切。</td>\n",
       "      <td></td>\n",
       "      <td>俊億\\n\\n臺灣</td>\n",
       "    </tr>\n",
       "    <tr>\n",
       "      <th>1</th>\n",
       "      <td>8.0</td>\n",
       "      <td>很棒</td>\n",
       "      <td>自動升等很感謝</td>\n",
       "      <td></td>\n",
       "      <td>士強\\n\\n臺灣</td>\n",
       "    </tr>\n",
       "  </tbody>\n",
       "</table>\n",
       "</div>"
      ],
      "text/plain": [
       "  scores reviews                                 likeReview dislikeReview  \\\n",
       "0     10      傑出  走路到捷運站、漢神巨蛋、瑞豐夜市都很近。房間寬敞。雖然老舊但乾淨。服務人員很親切。                 \n",
       "1    8.0      很棒                                    自動升等很感謝                 \n",
       "\n",
       "      users  \n",
       "0  俊億\\n\\n臺灣  \n",
       "1  士強\\n\\n臺灣  "
      ]
     },
     "execution_count": 18,
     "metadata": {},
     "output_type": "execute_result"
    }
   ],
   "source": [
    "df.head(2)"
   ]
  },
  {
   "cell_type": "code",
   "execution_count": 8,
   "id": "blind-hormone",
   "metadata": {},
   "outputs": [],
   "source": [
    "# 存csv\n",
    "df.to_csv(\"booking-review.csv\", sep=\"|\", index = False, header=True)"
   ]
  },
  {
   "cell_type": "code",
   "execution_count": 9,
   "id": "indonesian-variety",
   "metadata": {},
   "outputs": [],
   "source": [
    "# driver.close()"
   ]
  },
  {
   "cell_type": "code",
   "execution_count": null,
   "id": "certified-cooling",
   "metadata": {},
   "outputs": [],
   "source": []
  },
  {
   "attachments": {},
   "cell_type": "markdown",
   "id": "worldwide-contents",
   "metadata": {},
   "source": [
    "# Step by Step for your reference"
   ]
  },
  {
   "attachments": {},
   "cell_type": "markdown",
   "id": "private-wesley",
   "metadata": {},
   "source": [
    "# 挑選一家Hotel"
   ]
  },
  {
   "cell_type": "code",
   "execution_count": 10,
   "id": "owned-links",
   "metadata": {},
   "outputs": [],
   "source": [
    "# import packages\n",
    "import requests\n",
    "import re\n",
    "from bs4 import BeautifulSoup\n",
    "import time\n",
    "import pandas as pd\n",
    "from selenium import webdriver "
   ]
  },
  {
   "cell_type": "code",
   "execution_count": 11,
   "id": "purple-paintball",
   "metadata": {},
   "outputs": [
    {
     "name": "stderr",
     "output_type": "stream",
     "text": [
      "C:\\Users\\clhuang\\AppData\\Local\\Temp\\ipykernel_7604\\4239655825.py:2: DeprecationWarning: executable_path has been deprecated, please pass in a Service object\n",
      "  driver = webdriver.Chrome(chrome_path)\n"
     ]
    }
   ],
   "source": [
    "chrome_path = \"chromedriver110.exe\" \n",
    "driver = webdriver.Chrome(chrome_path)"
   ]
  },
  {
   "cell_type": "code",
   "execution_count": 12,
   "id": "contained-three",
   "metadata": {},
   "outputs": [],
   "source": [
    "hotel = \"https://www.booking.com/hotel/tw/kang-qiao-shang-lu-gao-xiong-zhan-qian-guan.zh-tw.html?label=gen173nr-1DCAEoggI46AdIMFgEaOcBiAEBmAEwuAEXyAEM2AED6AEB-AECiAIBqAIDuALdhvOFBsACAdICJGI1OWQzODA1LTJlNTAtNDM0Ni1hMDdmLThiMDIyZGY4Yzg3NNgCBOACAQ;sid=22759720e84ae79815aa2dad1c896751;checkin=2021-06-06;checkout=2021-06-07&#tab-main\""
   ]
  },
  {
   "attachments": {},
   "cell_type": "markdown",
   "id": "diverse-harmony",
   "metadata": {},
   "source": [
    "## 到某個飯店網頁"
   ]
  },
  {
   "cell_type": "code",
   "execution_count": 13,
   "id": "bored-adrian",
   "metadata": {},
   "outputs": [],
   "source": [
    "# 到某個飯店網頁\n",
    "driver.get(hotel)"
   ]
  },
  {
   "cell_type": "code",
   "execution_count": null,
   "id": "experienced-seller",
   "metadata": {},
   "outputs": [],
   "source": []
  },
  {
   "attachments": {},
   "cell_type": "markdown",
   "id": "ordered-percentage",
   "metadata": {},
   "source": [
    "## 點選住戶評語 轉到住戶評語畫面\n",
    "\n",
    "    如何找到客戶評論按鈕的對應事件?\n",
    "\n",
    "    在瀏覽器右鍵按下:\"檢查\" 可以查看以下元素:\n",
    "\n",
    "    找到以下id\n",
    "    id=\"show_reviews_tab\"\n",
    "\n",
    "    執行以下動作即可翻頁到住戶評語\n",
    "    driver.find_element_by_id(\"show_reviews_tab\").click()"
   ]
  },
  {
   "cell_type": "raw",
   "id": "sharing-information",
   "metadata": {},
   "source": [
    "    <a href=\"#blockdisplay4\" class=\"hp_nav_reviews_link toggle_review track_review_link_zh\" id=\"show_reviews_tab\" data-tab-link=\"\" rel=\"reviews\" data-component=\"core/sliding-panel-trigger\" data-target=\"hp-reviews-sliding\" data-active-class=\"selected\" data-google-track=\"Click/Action: hotel/review_link_inline_v1\" role=\"button\" aria-controls=\"hp-reviews-sliding\">\n",
    "    <span>\n",
    "    <strong>住客評語</strong> （7,756）\n",
    "    </span>\n",
    "    </a>"
   ]
  },
  {
   "cell_type": "code",
   "execution_count": 14,
   "id": "liable-cause",
   "metadata": {},
   "outputs": [
    {
     "ename": "AttributeError",
     "evalue": "'WebDriver' object has no attribute 'find_element_by_id'",
     "output_type": "error",
     "traceback": [
      "\u001b[1;31m---------------------------------------------------------------------------\u001b[0m",
      "\u001b[1;31mAttributeError\u001b[0m                            Traceback (most recent call last)",
      "Cell \u001b[1;32mIn[14], line 1\u001b[0m\n\u001b[1;32m----> 1\u001b[0m driver\u001b[39m.\u001b[39;49mfind_element_by_id(\u001b[39m\"\u001b[39m\u001b[39mshow_reviews_tab\u001b[39m\u001b[39m\"\u001b[39m)\u001b[39m.\u001b[39mclick()\n",
      "\u001b[1;31mAttributeError\u001b[0m: 'WebDriver' object has no attribute 'find_element_by_id'"
     ]
    }
   ],
   "source": [
    "driver.find_element_by_id(\"show_reviews_tab\").click()"
   ]
  },
  {
   "cell_type": "code",
   "execution_count": null,
   "id": "labeled-merit",
   "metadata": {},
   "outputs": [],
   "source": []
  },
  {
   "cell_type": "code",
   "execution_count": null,
   "id": "medieval-washer",
   "metadata": {},
   "outputs": [],
   "source": [
    "page = BeautifulSoup(driver.page_source,'lxml')        \n",
    "samples = page.findAll('li',{'class':'review_list_new_item_block'})"
   ]
  },
  {
   "attachments": {},
   "cell_type": "markdown",
   "id": "preliminary-queens",
   "metadata": {},
   "source": [
    "## 如何找到Next Page下一頁的連結URL?"
   ]
  },
  {
   "attachments": {},
   "cell_type": "markdown",
   "id": "finished-ancient",
   "metadata": {},
   "source": [
    "    Next Page下一頁的連結URL:\n",
    "    \n",
    "    <div class=\"bui-pagination__item bui-pagination__next-arrow\">\n",
    "     <a aria-label=\"下一頁\" class=\"pagenext\" href=\"/reviewlist.zh-tw.html?aid=304142;label=gen173nr-1DCAEoggI46AdIMFgEaOcBiAEBmAEwuAEXyAEM2AED6AEB-AECiAIBqAIDuALdhvOFBsACAdICJGI1OWQzODA1LTJlNTAtNDM0Ni1hMDdmLThiMDIyZGY4Yzg3NNgCBOACAQ;sid=6522fb4e1ed7acf59a81f227ccc26144;cc1=tw;dist=1;pagename=kang-qiao-shang-lu-gao-xiong-zhan-qian-guan;type=total&amp;;offset=550;rows=10\">\n",
    "\n",
    "     <svg class=\"bk-icon -iconset-navarrow_right bui-pagination__icon\" height=\"18\" role=\"presentation\" width=\"18\" viewBox=\"0 0 128 128\" aria-hidden=\"true\" focusable=\"false\"><path d=\"M54.3 96a4 4 0 0 1-2.8-6.8L76.7 64 51.5 38.8a4 4 0 0 1 5.7-5.6L88 64 57.2 94.8a4 4 0 0 1-2.9 1.2z\"></path></svg>"
   ]
  },
  {
   "cell_type": "code",
   "execution_count": null,
   "id": "suspected-orange",
   "metadata": {},
   "outputs": [
    {
     "data": {
      "text/plain": [
       "[<div class=\"bui-pagination__item bui-pagination__prev-arrow bui-pagination__item--disabled\">\n",
       " <span class=\"bui-pagination__link\">\n",
       " <svg aria-hidden=\"true\" class=\"bk-icon -iconset-navarrow_left bui-pagination__icon\" focusable=\"false\" height=\"18\" role=\"presentation\" viewbox=\"0 0 128 128\" width=\"18\"><path d=\"M73.7 96a4 4 0 0 1-2.9-1.2L40 64l30.8-30.8a4 4 0 0 1 5.7 5.6L51.3 64l25.2 25.2a4 4 0 0 1-2.8 6.8z\"></path></svg>\n",
       " </span>\n",
       " </div>,\n",
       " <div class=\"bui-pagination__item bui-pagination__item--active\">\n",
       " <span class=\"bui-pagination__link\">\n",
       " <span aria-hidden=\"true\">1</span>\n",
       " <span class=\"bui-u-sr-only\">目前頁數：1</span>\n",
       " </span>\n",
       " </div>,\n",
       " <div class=\"bui-pagination__item\">\n",
       " <a class=\"bui-pagination__link\" data-page-number=\"2\" href=\"/reviewlist.zh-tw.html?aid=304142&amp;label=gen173nr-1FCAEoggI46AdIMFgEaOcBiAEBmAEwuAEXyAEM2AEB6AEB-AECiAIBqAIDuALdhvOFBsACAdICJGI1OWQzODA1LTJlNTAtNDM0Ni1hMDdmLThiMDIyZGY4Yzg3NNgCBeACAQ&amp;sid=0ef52705bd7edda046e6cfe4fb0fc195&amp;cc1=tw;dist=1;pagename=kang-qiao-shang-lu-gao-xiong-zhan-qian-guan;type=total&amp;&amp;offset=10;rows=10\">\n",
       " <span aria-hidden=\"true\">2</span>\n",
       " <span class=\"bui-u-sr-only\">第 2 頁</span>\n",
       " </a>\n",
       " </div>,\n",
       " <div class=\"bui-pagination__item\">\n",
       " <a class=\"bui-pagination__link\" data-page-number=\"3\" href=\"/reviewlist.zh-tw.html?aid=304142&amp;label=gen173nr-1FCAEoggI46AdIMFgEaOcBiAEBmAEwuAEXyAEM2AEB6AEB-AECiAIBqAIDuALdhvOFBsACAdICJGI1OWQzODA1LTJlNTAtNDM0Ni1hMDdmLThiMDIyZGY4Yzg3NNgCBeACAQ&amp;sid=0ef52705bd7edda046e6cfe4fb0fc195&amp;cc1=tw;dist=1;pagename=kang-qiao-shang-lu-gao-xiong-zhan-qian-guan;type=total&amp;&amp;offset=20;rows=10\">\n",
       " <span aria-hidden=\"true\">3</span>\n",
       " <span class=\"bui-u-sr-only\">第 3 頁</span>\n",
       " </a>\n",
       " </div>,\n",
       " <div class=\"bui-pagination__item\">\n",
       " <a class=\"bui-pagination__link\" data-page-number=\"4\" href=\"/reviewlist.zh-tw.html?aid=304142&amp;label=gen173nr-1FCAEoggI46AdIMFgEaOcBiAEBmAEwuAEXyAEM2AEB6AEB-AECiAIBqAIDuALdhvOFBsACAdICJGI1OWQzODA1LTJlNTAtNDM0Ni1hMDdmLThiMDIyZGY4Yzg3NNgCBeACAQ&amp;sid=0ef52705bd7edda046e6cfe4fb0fc195&amp;cc1=tw;dist=1;pagename=kang-qiao-shang-lu-gao-xiong-zhan-qian-guan;type=total&amp;&amp;offset=30;rows=10\">\n",
       " <span aria-hidden=\"true\">4</span>\n",
       " <span class=\"bui-u-sr-only\">第 4 頁</span>\n",
       " </a>\n",
       " </div>,\n",
       " <div class=\"bui-pagination__item\">\n",
       " <a class=\"bui-pagination__link\" data-page-number=\"5\" href=\"/reviewlist.zh-tw.html?aid=304142&amp;label=gen173nr-1FCAEoggI46AdIMFgEaOcBiAEBmAEwuAEXyAEM2AEB6AEB-AECiAIBqAIDuALdhvOFBsACAdICJGI1OWQzODA1LTJlNTAtNDM0Ni1hMDdmLThiMDIyZGY4Yzg3NNgCBeACAQ&amp;sid=0ef52705bd7edda046e6cfe4fb0fc195&amp;cc1=tw;dist=1;pagename=kang-qiao-shang-lu-gao-xiong-zhan-qian-guan;type=total&amp;&amp;offset=40;rows=10\">\n",
       " <span aria-hidden=\"true\">5</span>\n",
       " <span class=\"bui-u-sr-only\">第 5 頁</span>\n",
       " </a>\n",
       " </div>,\n",
       " <div class=\"bui-pagination__item\">\n",
       " <span class=\"bui-pagination__separator\">…</span>\n",
       " </div>,\n",
       " <div class=\"bui-pagination__item\">\n",
       " <a class=\"bui-pagination__link\" data-page-number=\"270\" href=\"/reviewlist.zh-tw.html?label=gen173nr-1FCAEoggI46AdIMFgEaOcBiAEBmAEwuAEXyAEM2AEB6AEB-AECiAIBqAIDuALdhvOFBsACAdICJGI1OWQzODA1LTJlNTAtNDM0Ni1hMDdmLThiMDIyZGY4Yzg3NNgCBeACAQ&amp;sid=0ef52705bd7edda046e6cfe4fb0fc195&amp;cc1=tw&amp;pagename=kang-qiao-shang-lu-gao-xiong-zhan-qian-guan&amp;r_lang=&amp;review_topic_category_id=&amp;type=total&amp;score=&amp;sort=&amp;room_id=&amp;time_of_year=&amp;dist=1&amp;rows=10&amp;rurl=&amp;text=&amp;translate=&amp;_=1651503685648&amp;offset=2690\">\n",
       " <span aria-hidden=\"true\">270</span>\n",
       " <span class=\"bui-u-sr-only\">第 270 頁</span>\n",
       " </a>\n",
       " </div>,\n",
       " <div class=\"bui-pagination__item bui-pagination__next-arrow\">\n",
       " <a aria-label=\"下一頁\" class=\"pagenext\" data-page-number=\"2\" href=\"/reviewlist.zh-tw.html?aid=304142&amp;label=gen173nr-1FCAEoggI46AdIMFgEaOcBiAEBmAEwuAEXyAEM2AEB6AEB-AECiAIBqAIDuALdhvOFBsACAdICJGI1OWQzODA1LTJlNTAtNDM0Ni1hMDdmLThiMDIyZGY4Yzg3NNgCBeACAQ&amp;sid=0ef52705bd7edda046e6cfe4fb0fc195&amp;cc1=tw;dist=1;pagename=kang-qiao-shang-lu-gao-xiong-zhan-qian-guan;type=total&amp;&amp;offset=10;rows=10\">\n",
       " <svg aria-hidden=\"true\" class=\"bk-icon -iconset-navarrow_right bui-pagination__icon\" focusable=\"false\" height=\"18\" role=\"presentation\" viewbox=\"0 0 128 128\" width=\"18\"><path d=\"M54.3 96a4 4 0 0 1-2.8-6.8L76.7 64 51.5 38.8a4 4 0 0 1 5.7-5.6L88 64 57.2 94.8a4 4 0 0 1-2.9 1.2z\"></path></svg>\n",
       " </a>\n",
       " </div>]"
      ]
     },
     "execution_count": 10,
     "metadata": {},
     "output_type": "execute_result"
    }
   ],
   "source": [
    "page.findAll('div',{'class':'bui-pagination__item'})"
   ]
  },
  {
   "cell_type": "code",
   "execution_count": null,
   "id": "touched-subscriber",
   "metadata": {},
   "outputs": [],
   "source": [
    "# Next Page\n",
    "pageNum=1       \n",
    "for item in reversed(page.findAll('div',{'class':'bui-pagination__item'})):\n",
    "    try:\n",
    "        if item.find('a').get('aria-label')==\"下一頁\":\n",
    "            nextPage=item.find('a').get('href')\n",
    "            break\n",
    "        else:\n",
    "            nextPage=''\n",
    "    except:\n",
    "        pass\n",
    "if nextPage != '':\n",
    "    path = \"https://www.booking.com\"+nextPage\n",
    "    pageNum += 1\n",
    "else:\n",
    "    print(\"沒有下一頁，結束!\")"
   ]
  },
  {
   "cell_type": "code",
   "execution_count": null,
   "id": "german-affect",
   "metadata": {},
   "outputs": [
    {
     "data": {
      "text/plain": [
       "'https://www.booking.com/reviewlist.zh-tw.html?label=gen173nr-1DCAEoggI46AdIMFgEaOcBiAEBmAEwuAEXyAEM2AED6AEB-AECiAIBqAIDuALdhvOFBsACAdICJGI1OWQzODA1LTJlNTAtNDM0Ni1hMDdmLThiMDIyZGY4Yzg3NNgCBOACAQ&sid=0ef52705bd7edda046e6cfe4fb0fc195&cc1=tw;dist=1;pagename=kang-qiao-shang-lu-gao-xiong-zhan-qian-guan;type=total&&offset=50;rows=10'"
      ]
     },
     "execution_count": 18,
     "metadata": {},
     "output_type": "execute_result"
    }
   ],
   "source": [
    "path"
   ]
  },
  {
   "cell_type": "code",
   "execution_count": null,
   "id": "unsigned-identity",
   "metadata": {},
   "outputs": [],
   "source": []
  },
  {
   "attachments": {},
   "cell_type": "markdown",
   "id": "returning-warrior",
   "metadata": {},
   "source": [
    "# 留言評論之網頁:讀入一整頁面"
   ]
  },
  {
   "cell_type": "code",
   "execution_count": null,
   "id": "happy-parts",
   "metadata": {},
   "outputs": [],
   "source": []
  },
  {
   "cell_type": "code",
   "execution_count": null,
   "id": "crazy-geneva",
   "metadata": {},
   "outputs": [
    {
     "data": {
      "text/html": [
       "<div class=\"bui-grid__column-9 c-review-block__right\">\n",
       "<div class=\"c-review-block__row\">\n",
       "<span class=\"c-review-block__badge\">\n",
       "<span class=\"c-review-block__badge__icon\">\n",
       "<svg aria-hidden=\"true\" class=\"bk-icon -iconset-star\" fill=\"#FFFFFF\" focusable=\"false\" height=\"10\" role=\"presentation\" viewbox=\"0 0 128 128\" width=\"10\"><path d=\"M117.4 56.3L89.6 77.5a1.7 1.7 0 0 0-.3 1.2l10.7 34.2c1.2 3.9-.8 5.7-1.6 6.3-.7.5-3.2 1.8-6.4-.6L64.3 97.4a1 1 0 0 0-.6 0l-27.8 21.2a6 6 0 0 1-3.6 1.4 4.7 4.7 0 0 1-2.7-.8c-.8-.6-2.8-2.4-1.6-6.3l10.6-34.2a1.7 1.7 0 0 0-.3-1.2L10.4 56.3c-3.1-2.4-2.5-5.1-2.3-6S9.6 47 13.5 47h34.3a1.3 1.3 0 0 0 .7-.6L59 12.2C60.2 8.4 62.9 8 63.9 8s3.7.4 4.9 4.2l10.6 34.3a1.3 1.3 0 0 0 .7.6h34.2c4 0 5.1 2.5 5.4 3.3s.9 3.5-2.3 6z\"></path></svg>\n",
       "</span>\n",
       "住客精選評論 \n",
       "</span>\n",
       "<span class=\"c-review-block__date\">\n",
       "2019 年 5 月 29 日 留下評語\n",
       "</span>\n",
       "<div class=\"bui-grid\">\n",
       "<div class=\"bui-grid__column-10\">\n",
       "<h3 class=\"c-review-block__title c-review__title--ltr\" lang=\"zh\">\n",
       "傑出\n",
       "</h3>\n",
       "</div>\n",
       "<div class=\"bui-grid__column-2 bui-u-text-right\">\n",
       "<div class=\"bui-review-score c-score\"> <div aria-label=\"分數10分\" class=\"bui-review-score__badge\"> 10 </div> </div>\n",
       "</div>\n",
       "</div>\n",
       "</div>\n",
       "<div class=\"c-review-block__row\">\n",
       "<div class=\"c-review\">\n",
       "<div class=\"c-review__row\">\n",
       "<p class=\"c-review__inner c-review__inner--ltr\">\n",
       "<span class=\"c-review__prefix c-review__prefix--color-green\"><svg aria-hidden=\"true\" class=\"bk-icon -iconset-review_great c-review__icon\" focusable=\"false\" height=\"128\" role=\"presentation\" viewbox=\"0 0 128 128\" width=\"128\"><path d=\"M64 8a56 56 0 1 0 56 56A56 56 0 0 0 64 8zm0 104a48 48 0 1 1 48-48 48 48 0 0 1-48 48zM44 64a8 8 0 1 1 8-8 8 8 0 0 1-8 8zm48-8a8 8 0 1 1-8-8 8 8 0 0 1 8 8zm-4.8 21.6a4 4 0 0 1 .6 3.6A24.3 24.3 0 0 1 64 97c-9.7 0-15.7-4.2-19-7.8a22.7 22.7 0 0 1-4.8-8A4 4 0 0 1 44 76h40a4 4 0 0 1 3.2 1.6z\"></path></svg><span class=\"bui-u-sr-only\">喜歡</span> </span><span aria-hidden=\"true\"> · </span><span class=\"c-review__body\" lang=\"zh-tw\">房間非常乾淨，設備也很齊全，服務人員都非常熱心有禮！還有包早餐宵夜！地理位置非常便利！下次還會想要再來造訪！</span>\n",
       "</p>\n",
       "</div>\n",
       "<div class=\"c-review__row lalala\">\n",
       "<p class=\"c-review__inner c-review__inner--ltr\" lang=\"zh-tw\">\n",
       "<span class=\"c-review__prefix\"><svg aria-hidden=\"true\" class=\"bk-icon -iconset-review_poor c-review__icon\" focusable=\"false\" height=\"128\" role=\"presentation\" viewbox=\"0 0 128 128\" width=\"128\"><path d=\"M64 8a56 56 0 1 0 56 56A56 56 0 0 0 64 8zm0 104a48 48 0 1 1 48-48 48 48 0 0 1-48 48zM44 64a8 8 0 1 1 8-8 8 8 0 0 1-8 8zm48-8a8 8 0 1 1-8-8 8 8 0 0 1 8 8zm-5.2 30.2a4 4 0 1 1-5.6 5.6c-10.5-10.4-24-10.4-34.4 0a4 4 0 0 1-5.6-5.6c13.6-13.7 32-13.7 45.6 0z\"></path></svg><span class=\"bui-u-sr-only\">不喜歡</span> </span><span aria-hidden=\"true\"> · </span><span class=\"c-review__body\" lang=\"zh-tw\">一百分💯！</span>\n",
       "</p>\n",
       "</div>\n",
       "</div>\n",
       "</div>\n",
       "<div class=\"c-review-block__row c-review-block__row--helpful-vote bui-u-text-right\">\n",
       "<div class=\"c-review-block__actions\">\n",
       "<div class=\"review-helpful__container\" data-component=\"reviews/review-helpful-unhelpful\">\n",
       "<p class=\"review-helpful__vote-feedback-message review-helpful-heart-vote-feedback-message review-helpful__vote-others-helpful\" style=\"display: none;\">\n",
       "</p>\n",
       "<p class=\"review-helpful__vote-feedback-message review-helpful-heart-vote-feedback-message --unhelpful\">\n",
       "</p>\n",
       "<form action=\"/vote_review\" class=\"review-helpful__form clearfix\" data-current-count=\"0\" method=\"post\">\n",
       "<input name=\"hotel_id\" type=\"hidden\" value=\"1101786\"/>\n",
       "<input name=\"review_url\" type=\"hidden\" value=\"551ceb7811861fe2\"/>\n",
       "<input name=\"review_id\" type=\"hidden\" value=\"0\"/>\n",
       "<input name=\"vote_type\" type=\"hidden\" value=\"1\"/>\n",
       "<input name=\"vote_value\" type=\"hidden\" value=\"1\"/>\n",
       "<button class=\"review-helpful__form-submit review-helpful-heart-submit\" data-type=\"helpful\" type=\"submit\">\n",
       "<svg aria-hidden=\"true\" class=\"bk-icon -iconset-thumbs_up\" fill=\"#0071C2\" focusable=\"false\" height=\"14\" role=\"presentation\" viewbox=\"0 0 128 128\" width=\"14\"><path d=\"M8 76a12 12 0 0 1 3.6-8.6A12 12 0 0 1 21 48h35.9L49 28a15.2 15.2 0 0 1-1-4 8 8 0 0 1 15-4l17 36v56H30a12 12 0 0 1-12-10.7 12 12 0 0 1-6.6-17A12 12 0 0 1 8 76zm112-20H88v56h32z\"></path></svg>\n",
       "有用的\n",
       "</button>\n",
       "</form>\n",
       "<form action=\"/vote_review\" class=\"review-helpful__form --unhelpful clearfix\" method=\"post\">\n",
       "<input name=\"hotel_id\" type=\"hidden\" value=\"1101786\"/>\n",
       "<input name=\"review_url\" type=\"hidden\" value=\"551ceb7811861fe2\"/>\n",
       "<input name=\"review_id\" type=\"hidden\" value=\"0\"/>\n",
       "<input name=\"vote_type\" type=\"hidden\" value=\"4\"/>\n",
       "<input name=\"vote_value\" type=\"hidden\" value=\"1\"/>\n",
       "<button class=\"review-helpful__form-submit review-helpful-heart-submit\" data-type=\"unhelpful\" type=\"submit\">\n",
       "<svg aria-hidden=\"true\" class=\"bk-icon -iconset-thumbs_down\" fill=\"#0071C2\" focusable=\"false\" height=\"14\" role=\"presentation\" viewbox=\"0 0 128 128\" width=\"14\"><path d=\"M11.4 43.6a12 12 0 0 1 6.7-17A12 12 0 0 1 30 16h50v56l-17 36a8 8 0 0 1-15-4 15.2 15.2 0 0 1 1-4l7.9-20H21a12 12 0 0 1-9.4-19.4 12 12 0 0 1-.2-17zM120 16H88v56h32z\"></path></svg>\n",
       "沒有幫助\n",
       "</button>\n",
       "</form>\n",
       "</div>\n",
       "<div>\n",
       "</div>\n",
       "</div>\n",
       "</div>\n",
       "</div>\n"
      ],
      "text/plain": [
       "<IPython.core.display.HTML object>"
      ]
     },
     "metadata": {},
     "output_type": "display_data"
    }
   ],
   "source": [
    "%%HTML\n",
    "<div class=\"bui-grid__column-9 c-review-block__right\">\n",
    "<div class=\"c-review-block__row\">\n",
    "<span class=\"c-review-block__badge\">\n",
    "<span class=\"c-review-block__badge__icon\">\n",
    "<svg aria-hidden=\"true\" class=\"bk-icon -iconset-star\" fill=\"#FFFFFF\" focusable=\"false\" height=\"10\" role=\"presentation\" viewbox=\"0 0 128 128\" width=\"10\"><path d=\"M117.4 56.3L89.6 77.5a1.7 1.7 0 0 0-.3 1.2l10.7 34.2c1.2 3.9-.8 5.7-1.6 6.3-.7.5-3.2 1.8-6.4-.6L64.3 97.4a1 1 0 0 0-.6 0l-27.8 21.2a6 6 0 0 1-3.6 1.4 4.7 4.7 0 0 1-2.7-.8c-.8-.6-2.8-2.4-1.6-6.3l10.6-34.2a1.7 1.7 0 0 0-.3-1.2L10.4 56.3c-3.1-2.4-2.5-5.1-2.3-6S9.6 47 13.5 47h34.3a1.3 1.3 0 0 0 .7-.6L59 12.2C60.2 8.4 62.9 8 63.9 8s3.7.4 4.9 4.2l10.6 34.3a1.3 1.3 0 0 0 .7.6h34.2c4 0 5.1 2.5 5.4 3.3s.9 3.5-2.3 6z\"></path></svg>\n",
    "</span>\n",
    "住客精選評論 \n",
    "</span>\n",
    "<span class=\"c-review-block__date\">\n",
    "2019 年 5 月 29 日 留下評語\n",
    "</span>\n",
    "<div class=\"bui-grid\">\n",
    "<div class=\"bui-grid__column-10\">\n",
    "<h3 class=\"c-review-block__title c-review__title--ltr\" lang=\"zh\">\n",
    "傑出\n",
    "</h3>\n",
    "</div>\n",
    "<div class=\"bui-grid__column-2 bui-u-text-right\">\n",
    "<div class=\"bui-review-score c-score\"> <div aria-label=\"分數10分\" class=\"bui-review-score__badge\"> 10 </div> </div>\n",
    "</div>\n",
    "</div>\n",
    "</div>\n",
    "<div class=\"c-review-block__row\">\n",
    "<div class=\"c-review\">\n",
    "<div class=\"c-review__row\">\n",
    "<p class=\"c-review__inner c-review__inner--ltr\">\n",
    "<span class=\"c-review__prefix c-review__prefix--color-green\"><svg aria-hidden=\"true\" class=\"bk-icon -iconset-review_great c-review__icon\" focusable=\"false\" height=\"128\" role=\"presentation\" viewbox=\"0 0 128 128\" width=\"128\"><path d=\"M64 8a56 56 0 1 0 56 56A56 56 0 0 0 64 8zm0 104a48 48 0 1 1 48-48 48 48 0 0 1-48 48zM44 64a8 8 0 1 1 8-8 8 8 0 0 1-8 8zm48-8a8 8 0 1 1-8-8 8 8 0 0 1 8 8zm-4.8 21.6a4 4 0 0 1 .6 3.6A24.3 24.3 0 0 1 64 97c-9.7 0-15.7-4.2-19-7.8a22.7 22.7 0 0 1-4.8-8A4 4 0 0 1 44 76h40a4 4 0 0 1 3.2 1.6z\"></path></svg><span class=\"bui-u-sr-only\">喜歡</span> </span><span aria-hidden=\"true\"> · </span><span class=\"c-review__body\" lang=\"zh-tw\">房間非常乾淨，設備也很齊全，服務人員都非常熱心有禮！還有包早餐宵夜！地理位置非常便利！下次還會想要再來造訪！</span>\n",
    "</p>\n",
    "</div>\n",
    "<div class=\"c-review__row lalala\">\n",
    "<p class=\"c-review__inner c-review__inner--ltr\" lang=\"zh-tw\">\n",
    "<span class=\"c-review__prefix\"><svg aria-hidden=\"true\" class=\"bk-icon -iconset-review_poor c-review__icon\" focusable=\"false\" height=\"128\" role=\"presentation\" viewbox=\"0 0 128 128\" width=\"128\"><path d=\"M64 8a56 56 0 1 0 56 56A56 56 0 0 0 64 8zm0 104a48 48 0 1 1 48-48 48 48 0 0 1-48 48zM44 64a8 8 0 1 1 8-8 8 8 0 0 1-8 8zm48-8a8 8 0 1 1-8-8 8 8 0 0 1 8 8zm-5.2 30.2a4 4 0 1 1-5.6 5.6c-10.5-10.4-24-10.4-34.4 0a4 4 0 0 1-5.6-5.6c13.6-13.7 32-13.7 45.6 0z\"></path></svg><span class=\"bui-u-sr-only\">不喜歡</span> </span><span aria-hidden=\"true\"> · </span><span class=\"c-review__body\" lang=\"zh-tw\">一百分💯！</span>\n",
    "</p>\n",
    "</div>\n",
    "</div>\n",
    "</div>\n",
    "<div class=\"c-review-block__row c-review-block__row--helpful-vote bui-u-text-right\">\n",
    "<div class=\"c-review-block__actions\">\n",
    "<div class=\"review-helpful__container\" data-component=\"reviews/review-helpful-unhelpful\">\n",
    "<p class=\"review-helpful__vote-feedback-message review-helpful-heart-vote-feedback-message review-helpful__vote-others-helpful\" style=\"display: none;\">\n",
    "</p>\n",
    "<p class=\"review-helpful__vote-feedback-message review-helpful-heart-vote-feedback-message --unhelpful\">\n",
    "</p>\n",
    "<form action=\"/vote_review\" class=\"review-helpful__form clearfix\" data-current-count=\"0\" method=\"post\">\n",
    "<input name=\"hotel_id\" type=\"hidden\" value=\"1101786\"/>\n",
    "<input name=\"review_url\" type=\"hidden\" value=\"551ceb7811861fe2\"/>\n",
    "<input name=\"review_id\" type=\"hidden\" value=\"0\"/>\n",
    "<input name=\"vote_type\" type=\"hidden\" value=\"1\"/>\n",
    "<input name=\"vote_value\" type=\"hidden\" value=\"1\"/>\n",
    "<button class=\"review-helpful__form-submit review-helpful-heart-submit\" data-type=\"helpful\" type=\"submit\">\n",
    "<svg aria-hidden=\"true\" class=\"bk-icon -iconset-thumbs_up\" fill=\"#0071C2\" focusable=\"false\" height=\"14\" role=\"presentation\" viewbox=\"0 0 128 128\" width=\"14\"><path d=\"M8 76a12 12 0 0 1 3.6-8.6A12 12 0 0 1 21 48h35.9L49 28a15.2 15.2 0 0 1-1-4 8 8 0 0 1 15-4l17 36v56H30a12 12 0 0 1-12-10.7 12 12 0 0 1-6.6-17A12 12 0 0 1 8 76zm112-20H88v56h32z\"></path></svg>\n",
    "有用的\n",
    "</button>\n",
    "</form>\n",
    "<form action=\"/vote_review\" class=\"review-helpful__form --unhelpful clearfix\" method=\"post\">\n",
    "<input name=\"hotel_id\" type=\"hidden\" value=\"1101786\"/>\n",
    "<input name=\"review_url\" type=\"hidden\" value=\"551ceb7811861fe2\"/>\n",
    "<input name=\"review_id\" type=\"hidden\" value=\"0\"/>\n",
    "<input name=\"vote_type\" type=\"hidden\" value=\"4\"/>\n",
    "<input name=\"vote_value\" type=\"hidden\" value=\"1\"/>\n",
    "<button class=\"review-helpful__form-submit review-helpful-heart-submit\" data-type=\"unhelpful\" type=\"submit\">\n",
    "<svg aria-hidden=\"true\" class=\"bk-icon -iconset-thumbs_down\" fill=\"#0071C2\" focusable=\"false\" height=\"14\" role=\"presentation\" viewbox=\"0 0 128 128\" width=\"14\"><path d=\"M11.4 43.6a12 12 0 0 1 6.7-17A12 12 0 0 1 30 16h50v56l-17 36a8 8 0 0 1-15-4 15.2 15.2 0 0 1 1-4l7.9-20H21a12 12 0 0 1-9.4-19.4 12 12 0 0 1-.2-17zM120 16H88v56h32z\"></path></svg>\n",
    "沒有幫助\n",
    "</button>\n",
    "</form>\n",
    "</div>\n",
    "<div>\n",
    "</div>\n",
    "</div>\n",
    "</div>\n",
    "</div>"
   ]
  },
  {
   "cell_type": "code",
   "execution_count": null,
   "id": "elect-affairs",
   "metadata": {},
   "outputs": [],
   "source": [
    "# import packages\n",
    "import requests\n",
    "import re\n",
    "from bs4 import BeautifulSoup\n",
    "import time\n",
    "import pandas as pd\n",
    "from selenium import webdriver "
   ]
  },
  {
   "cell_type": "code",
   "execution_count": null,
   "id": "meaning-trust",
   "metadata": {},
   "outputs": [],
   "source": [
    "chrome_path = \"chromedriver100.exe\" \n",
    "driver = webdriver.Chrome(chrome_path)"
   ]
  },
  {
   "cell_type": "code",
   "execution_count": null,
   "id": "correct-genesis",
   "metadata": {},
   "outputs": [],
   "source": [
    "url = \"https://www.booking.com/reviewlist.zh-tw.html?label=gen173nr-1DCAEoggI46AdIMFgEaOcBiAEBmAEwuAEXyAEM2AED6AEB-AECiAIBqAIDuALdhvOFBsACAdICJGI1OWQzODA1LTJlNTAtNDM0Ni1hMDdmLThiMDIyZGY4Yzg3NNgCBOACAQ;sid=22759720e84ae79815aa2dad1c896751;cc1=tw;dist=1;pagename=kang-qiao-shang-lu-gao-xiong-zhan-qian-guan;type=total&;offset=0;rows=25\""
   ]
  },
  {
   "cell_type": "code",
   "execution_count": null,
   "id": "considered-bristol",
   "metadata": {},
   "outputs": [],
   "source": [
    "driver.get(url)"
   ]
  },
  {
   "cell_type": "code",
   "execution_count": null,
   "id": "falling-twist",
   "metadata": {},
   "outputs": [],
   "source": [
    "page = BeautifulSoup(driver.page_source,'lxml')"
   ]
  },
  {
   "cell_type": "code",
   "execution_count": null,
   "id": "fifteen-footwear",
   "metadata": {},
   "outputs": [],
   "source": [
    "#page.prettify()"
   ]
  },
  {
   "attachments": {},
   "cell_type": "markdown",
   "id": "civil-african",
   "metadata": {},
   "source": [
    "# 一筆完整的sample"
   ]
  },
  {
   "cell_type": "code",
   "execution_count": null,
   "id": "logical-miniature",
   "metadata": {},
   "outputs": [],
   "source": [
    "sample = page.find('li',{'class':'review_list_new_item_block'})"
   ]
  },
  {
   "cell_type": "code",
   "execution_count": null,
   "id": "catholic-individual",
   "metadata": {},
   "outputs": [
    {
     "data": {
      "text/plain": [
       "25"
      ]
     },
     "execution_count": 270,
     "metadata": {},
     "output_type": "execute_result"
    }
   ],
   "source": [
    "len(page.findAll('li',{'class':'review_list_new_item_block'}))"
   ]
  },
  {
   "cell_type": "code",
   "execution_count": null,
   "id": "rubber-trigger",
   "metadata": {},
   "outputs": [],
   "source": [
    "#sample"
   ]
  },
  {
   "attachments": {},
   "cell_type": "markdown",
   "id": "brazilian-samoa",
   "metadata": {},
   "source": [
    "## cusemer and country顧客與國家"
   ]
  },
  {
   "cell_type": "code",
   "execution_count": null,
   "id": "requested-platform",
   "metadata": {},
   "outputs": [
    {
     "data": {
      "text/plain": [
       "'David\\n\\n多明尼加共和國'"
      ]
     },
     "execution_count": 283,
     "metadata": {},
     "output_type": "execute_result"
    }
   ],
   "source": [
    "sample.find('div',{'class':'c-review-block__row'}).text.strip()"
   ]
  },
  {
   "cell_type": "code",
   "execution_count": null,
   "id": "economic-alias",
   "metadata": {},
   "outputs": [
    {
     "data": {
      "text/plain": [
       "<li class=\"review_list_new_item_block\" data-review-url=\"551ceb7811861fe2\">\n",
       "<div class=\"c-review-block\" data-et-view=\"\n",
       "\" itemprop=\"review\" itemscope=\"\" itemtype=\"http://schema.org/Review\">\n",
       "<div itemprop=\"publisher\" itemscope=\"\" itemtype=\"http://schema.org/Organization\">\n",
       "<meta content=\"Booking.com B.V.\" itemprop=\"name\"/>\n",
       "</div>\n",
       "<div class=\"bui-grid\">\n",
       "<div class=\"bui-grid__column-3 c-review-block__left\">\n",
       "<div class=\"c-review-block__row c-review-block__guest\">\n",
       "<div class=\"c-guest bui-avatar-block\"><div class=\"c-avatar bui-avatar\"><img alt=\"\" aria-hidden=\"true\" class=\"bui-avatar__image\" data-component=\"image-fallback\" data-fallback-src=\"https://cf.bstatic.com/static/img/review/avatars/ava-d/bebbb1d5ff29328157080e4e2e5d15a29c5aa34a.png\" src=\"https://cf.bstatic.com/static/img/review/avatars/ava-d/bebbb1d5ff29328157080e4e2e5d15a29c5aa34a.png\"/></div>\n",
       "<div class=\"bui-avatar-block__text\">\n",
       "<span class=\"bui-avatar-block__title\">David</span><span class=\"bui-avatar-block__subtitle\"><span class=\"bui-flag bui-avatar-block__flag\">\n",
       "<img alt=\"\" src=\"https://cf.bstatic.com/static/img/flags/16/do/ae26a25867b22d2271c5273090e89abc1eb3e3ff.png\"/>\n",
       "</span>多明尼加共和國</span></div>\n",
       "</div>\n",
       "</div>\n",
       "<div class=\"c-review-block__row c-review-block__room-info-row\" data-component=\"ugcs/shared/room-info\" data-room-id=\"110178602\">\n",
       "<ul class=\"bui-list bui-list--text bui-list--icon bui_font_caption\">\n",
       "<li class=\"bui-list__item\" data-component=\"ugcs/shared/room-info\" data-room-id=\"110178602\">\n",
       "<a class=\"c-review-block__room-link\" href=\"#\">\n",
       "<span class=\"bui-list__icon\" role=\"presentation\">\n",
       "<svg aria-hidden=\"true\" class=\"bk-icon -streamline-bed_double\" focusable=\"false\" height=\"16\" role=\"presentation\" viewbox=\"0 0 24 24\" width=\"16\"><path d=\"M3.75 11.25V9a.75.75 0 0 1 .75-.75h6a.75.75 0 0 1 .75.75v2.25a.75.75 0 0 0 1.5 0V9a2.25 2.25 0 0 0-2.25-2.25h-6A2.25 2.25 0 0 0 2.25 9v2.25a.75.75 0 0 0 1.5 0zm9 0V9a.75.75 0 0 1 .75-.75h6a.75.75 0 0 1 .75.75v2.25a.75.75 0 0 0 1.5 0V9a2.25 2.25 0 0 0-2.25-2.25h-6A2.25 2.25 0 0 0 11.25 9v2.25a.75.75 0 0 0 1.5 0zm-10 .75h18.5c.69 0 1.25.56 1.25 1.25V18l.75-.75H.75l.75.75v-4.75c0-.69.56-1.25 1.25-1.25zm0-1.5A2.75 2.75 0 0 0 0 13.25V18c0 .414.336.75.75.75h22.5A.75.75 0 0 0 24 18v-4.75a2.75 2.75 0 0 0-2.75-2.75H2.75zM0 18v3a.75.75 0 0 0 1.5 0v-3A.75.75 0 0 0 0 18zm22.5 0v3a.75.75 0 0 0 1.5 0v-3a.75.75 0 0 0-1.5 0zm-.75-6.75V4.5a2.25 2.25 0 0 0-2.25-2.25h-15A2.25 2.25 0 0 0 2.25 4.5v6.75a.75.75 0 0 0 1.5 0V4.5a.75.75 0 0 1 .75-.75h15a.75.75 0 0 1 .75.75v6.75a.75.75 0 0 0 1.5 0z\"></path></svg>\n",
       "</span>\n",
       "<span></span>\n",
       "<div class=\"bui-list__body\">\n",
       "商務雙人房\n",
       "</div>\n",
       "</a>\n",
       "</li>\n",
       "</ul>\n",
       "</div>\n",
       "<ul class=\"bui-list bui-list--text bui-list--icon bui_font_caption c-review-block__row c-review-block__stay-date\">\n",
       "<li class=\"bui-list__item\">\n",
       "<span class=\"bui-list__icon\" role=\"presentation\">\n",
       "<svg aria-hidden=\"true\" class=\"bk-icon -streamline-calendar\" focusable=\"false\" height=\"16\" role=\"presentation\" viewbox=\"0 0 24 24\" width=\"16\"><path d=\"M22.502 13.5v8.25a.75.75 0 0 1-.75.75h-19.5a.75.75 0 0 1-.75-.75V5.25a.75.75 0 0 1 .75-.75h19.5a.75.75 0 0 1 .75.75v8.25zm1.5 0V5.25A2.25 2.25 0 0 0 21.752 3h-19.5a2.25 2.25 0 0 0-2.25 2.25v16.5A2.25 2.25 0 0 0 2.252 24h19.5a2.25 2.25 0 0 0 2.25-2.25V13.5zm-23.25-3h22.5a.75.75 0 0 0 0-1.5H.752a.75.75 0 0 0 0 1.5zM7.502 6V.75a.75.75 0 0 0-1.5 0V6a.75.75 0 0 0 1.5 0zm10.5 0V.75a.75.75 0 0 0-1.5 0V6a.75.75 0 0 0 1.5 0z\"></path></svg>\n",
       "</span>\n",
       "<div class=\"bui-list__body\">\n",
       "2 晚 · \n",
       "<span class=\"c-review-block__date\">\n",
       "2019 年 5 月\n",
       "</span>\n",
       "</div>\n",
       "</li>\n",
       "</ul>\n",
       "<ul class=\"bui-list bui-list--text bui-list--icon bui_font_caption review-panel-wide__traveller_type c-review-block__row\">\n",
       "<li class=\"bui-list__item\">\n",
       "<span class=\"bui-list__icon\" role=\"presentation\">\n",
       "<svg aria-hidden=\"true\" class=\"bk-icon -streamline-person\" focusable=\"false\" height=\"16\" role=\"presentation\" viewbox=\"0 0 24 24\" width=\"16\"><path d=\"M14.25 3.75a2.25 2.25 0 1 1-4.5 0 2.25 2.25 0 0 1 4.5 0zm1.5 0a3.75 3.75 0 1 0-7.5 0 3.75 3.75 0 0 0 7.5 0zM18 13.5a6 6 0 0 0-12 0v2.25c0 .414.336.75.75.75H9l-.746-.675.75 7.5A.75.75 0 0 0 9.75 24h4.5a.75.75 0 0 0 .746-.675l.75-7.5L15 16.5h2.25a.75.75 0 0 0 .75-.75V13.5zm-1.5 0v2.25l.75-.75H15a.75.75 0 0 0-.746.675l-.75 7.5.746-.675h-4.5l.746.675-.75-7.5A.75.75 0 0 0 9 15H6.75l.75.75V13.5a4.5 4.5 0 1 1 9 0z\"></path></svg>\n",
       "</span>\n",
       "<div class=\"bui-list__body\">\n",
       "獨行旅客\n",
       "</div>\n",
       "</li>\n",
       "</ul>\n",
       "</div>\n",
       "<div class=\"bui-grid__column-9 c-review-block__right\">\n",
       "<div class=\"c-review-block__row\">\n",
       "<span class=\"c-review-block__badge\">\n",
       "<span class=\"c-review-block__badge__icon\">\n",
       "<svg aria-hidden=\"true\" class=\"bk-icon -iconset-star\" fill=\"#FFFFFF\" focusable=\"false\" height=\"10\" role=\"presentation\" viewbox=\"0 0 128 128\" width=\"10\"><path d=\"M117.4 56.3L89.6 77.5a1.7 1.7 0 0 0-.3 1.2l10.7 34.2c1.2 3.9-.8 5.7-1.6 6.3-.7.5-3.2 1.8-6.4-.6L64.3 97.4a1 1 0 0 0-.6 0l-27.8 21.2a6 6 0 0 1-3.6 1.4 4.7 4.7 0 0 1-2.7-.8c-.8-.6-2.8-2.4-1.6-6.3l10.6-34.2a1.7 1.7 0 0 0-.3-1.2L10.4 56.3c-3.1-2.4-2.5-5.1-2.3-6S9.6 47 13.5 47h34.3a1.3 1.3 0 0 0 .7-.6L59 12.2C60.2 8.4 62.9 8 63.9 8s3.7.4 4.9 4.2l10.6 34.3a1.3 1.3 0 0 0 .7.6h34.2c4 0 5.1 2.5 5.4 3.3s.9 3.5-2.3 6z\"></path></svg>\n",
       "</span>\n",
       "住客精選評論 \n",
       "</span>\n",
       "<span class=\"c-review-block__date\">\n",
       "2019 年 5 月 29 日 留下評語\n",
       "</span>\n",
       "<div class=\"bui-grid\">\n",
       "<div class=\"bui-grid__column-10\">\n",
       "<h3 class=\"c-review-block__title c-review__title--ltr\" lang=\"zh\">\n",
       "傑出\n",
       "</h3>\n",
       "</div>\n",
       "<div class=\"bui-grid__column-2 bui-u-text-right\">\n",
       "<div class=\"bui-review-score c-score\"> <div aria-label=\"分數10分\" class=\"bui-review-score__badge\"> 10 </div> </div>\n",
       "</div>\n",
       "</div>\n",
       "</div>\n",
       "<div class=\"c-review-block__row\">\n",
       "<div class=\"c-review\">\n",
       "<div class=\"c-review__row\">\n",
       "<p class=\"c-review__inner c-review__inner--ltr\">\n",
       "<span class=\"c-review__prefix c-review__prefix--color-green\"><svg aria-hidden=\"true\" class=\"bk-icon -iconset-review_great c-review__icon\" focusable=\"false\" height=\"128\" role=\"presentation\" viewbox=\"0 0 128 128\" width=\"128\"><path d=\"M64 8a56 56 0 1 0 56 56A56 56 0 0 0 64 8zm0 104a48 48 0 1 1 48-48 48 48 0 0 1-48 48zM44 64a8 8 0 1 1 8-8 8 8 0 0 1-8 8zm48-8a8 8 0 1 1-8-8 8 8 0 0 1 8 8zm-4.8 21.6a4 4 0 0 1 .6 3.6A24.3 24.3 0 0 1 64 97c-9.7 0-15.7-4.2-19-7.8a22.7 22.7 0 0 1-4.8-8A4 4 0 0 1 44 76h40a4 4 0 0 1 3.2 1.6z\"></path></svg><span class=\"bui-u-sr-only\">喜歡</span> </span><span aria-hidden=\"true\"> · </span><span class=\"c-review__body\" lang=\"zh-tw\">房間非常乾淨，設備也很齊全，服務人員都非常熱心有禮！還有包早餐宵夜！地理位置非常便利！下次還會想要再來造訪！</span>\n",
       "</p>\n",
       "</div>\n",
       "<div class=\"c-review__row lalala\">\n",
       "<p class=\"c-review__inner c-review__inner--ltr\" lang=\"zh-tw\">\n",
       "<span class=\"c-review__prefix\"><svg aria-hidden=\"true\" class=\"bk-icon -iconset-review_poor c-review__icon\" focusable=\"false\" height=\"128\" role=\"presentation\" viewbox=\"0 0 128 128\" width=\"128\"><path d=\"M64 8a56 56 0 1 0 56 56A56 56 0 0 0 64 8zm0 104a48 48 0 1 1 48-48 48 48 0 0 1-48 48zM44 64a8 8 0 1 1 8-8 8 8 0 0 1-8 8zm48-8a8 8 0 1 1-8-8 8 8 0 0 1 8 8zm-5.2 30.2a4 4 0 1 1-5.6 5.6c-10.5-10.4-24-10.4-34.4 0a4 4 0 0 1-5.6-5.6c13.6-13.7 32-13.7 45.6 0z\"></path></svg><span class=\"bui-u-sr-only\">不喜歡</span> </span><span aria-hidden=\"true\"> · </span><span class=\"c-review__body\" lang=\"zh-tw\">一百分💯！</span>\n",
       "</p>\n",
       "</div>\n",
       "</div>\n",
       "</div>\n",
       "<div class=\"c-review-block__row c-review-block__row--helpful-vote bui-u-text-right\">\n",
       "<div class=\"c-review-block__actions\">\n",
       "<div class=\"review-helpful__container\" data-component=\"reviews/review-helpful-unhelpful\">\n",
       "<p class=\"review-helpful__vote-feedback-message review-helpful-heart-vote-feedback-message review-helpful__vote-others-helpful\" style=\"display: none;\">\n",
       "</p>\n",
       "<p class=\"review-helpful__vote-feedback-message review-helpful-heart-vote-feedback-message --unhelpful\">\n",
       "</p>\n",
       "<form action=\"/vote_review\" class=\"review-helpful__form clearfix\" data-current-count=\"0\" method=\"post\">\n",
       "<input name=\"hotel_id\" type=\"hidden\" value=\"1101786\"/>\n",
       "<input name=\"review_url\" type=\"hidden\" value=\"551ceb7811861fe2\"/>\n",
       "<input name=\"review_id\" type=\"hidden\" value=\"0\"/>\n",
       "<input name=\"vote_type\" type=\"hidden\" value=\"1\"/>\n",
       "<input name=\"vote_value\" type=\"hidden\" value=\"1\"/>\n",
       "<button class=\"review-helpful__form-submit review-helpful-heart-submit\" data-type=\"helpful\" type=\"submit\">\n",
       "<svg aria-hidden=\"true\" class=\"bk-icon -iconset-thumbs_up\" fill=\"#0071C2\" focusable=\"false\" height=\"14\" role=\"presentation\" viewbox=\"0 0 128 128\" width=\"14\"><path d=\"M8 76a12 12 0 0 1 3.6-8.6A12 12 0 0 1 21 48h35.9L49 28a15.2 15.2 0 0 1-1-4 8 8 0 0 1 15-4l17 36v56H30a12 12 0 0 1-12-10.7 12 12 0 0 1-6.6-17A12 12 0 0 1 8 76zm112-20H88v56h32z\"></path></svg>\n",
       "有用的\n",
       "</button>\n",
       "</form>\n",
       "<form action=\"/vote_review\" class=\"review-helpful__form --unhelpful clearfix\" method=\"post\">\n",
       "<input name=\"hotel_id\" type=\"hidden\" value=\"1101786\"/>\n",
       "<input name=\"review_url\" type=\"hidden\" value=\"551ceb7811861fe2\"/>\n",
       "<input name=\"review_id\" type=\"hidden\" value=\"0\"/>\n",
       "<input name=\"vote_type\" type=\"hidden\" value=\"4\"/>\n",
       "<input name=\"vote_value\" type=\"hidden\" value=\"1\"/>\n",
       "<button class=\"review-helpful__form-submit review-helpful-heart-submit\" data-type=\"unhelpful\" type=\"submit\">\n",
       "<svg aria-hidden=\"true\" class=\"bk-icon -iconset-thumbs_down\" fill=\"#0071C2\" focusable=\"false\" height=\"14\" role=\"presentation\" viewbox=\"0 0 128 128\" width=\"14\"><path d=\"M11.4 43.6a12 12 0 0 1 6.7-17A12 12 0 0 1 30 16h50v56l-17 36a8 8 0 0 1-15-4 15.2 15.2 0 0 1 1-4l7.9-20H21a12 12 0 0 1-9.4-19.4 12 12 0 0 1-.2-17zM120 16H88v56h32z\"></path></svg>\n",
       "沒有幫助\n",
       "</button>\n",
       "</form>\n",
       "</div>\n",
       "<div>\n",
       "</div>\n",
       "</div>\n",
       "</div>\n",
       "</div>\n",
       "</div>\n",
       "</div>\n",
       "</li>"
      ]
     },
     "execution_count": 284,
     "metadata": {},
     "output_type": "execute_result"
    }
   ],
   "source": [
    "sample"
   ]
  },
  {
   "cell_type": "code",
   "execution_count": null,
   "id": "dutch-crest",
   "metadata": {},
   "outputs": [],
   "source": []
  },
  {
   "cell_type": "code",
   "execution_count": null,
   "id": "supreme-medium",
   "metadata": {},
   "outputs": [],
   "source": []
  },
  {
   "attachments": {},
   "cell_type": "markdown",
   "id": "former-utilization",
   "metadata": {},
   "source": [
    "## 房型"
   ]
  },
  {
   "cell_type": "code",
   "execution_count": null,
   "id": "hazardous-villa",
   "metadata": {},
   "outputs": [
    {
     "data": {
      "text/plain": [
       "<div class=\"c-review-block__row c-review-block__room-info-row\" data-component=\"ugcs/shared/room-info\" data-room-id=\"110178602\">\n",
       "<ul class=\"bui-list bui-list--text bui-list--icon bui_font_caption\">\n",
       "<li class=\"bui-list__item\" data-component=\"ugcs/shared/room-info\" data-room-id=\"110178602\">\n",
       "<a class=\"c-review-block__room-link\" href=\"#\">\n",
       "<span class=\"bui-list__icon\" role=\"presentation\">\n",
       "<svg aria-hidden=\"true\" class=\"bk-icon -streamline-bed_double\" focusable=\"false\" height=\"16\" role=\"presentation\" viewbox=\"0 0 24 24\" width=\"16\"><path d=\"M3.75 11.25V9a.75.75 0 0 1 .75-.75h6a.75.75 0 0 1 .75.75v2.25a.75.75 0 0 0 1.5 0V9a2.25 2.25 0 0 0-2.25-2.25h-6A2.25 2.25 0 0 0 2.25 9v2.25a.75.75 0 0 0 1.5 0zm9 0V9a.75.75 0 0 1 .75-.75h6a.75.75 0 0 1 .75.75v2.25a.75.75 0 0 0 1.5 0V9a2.25 2.25 0 0 0-2.25-2.25h-6A2.25 2.25 0 0 0 11.25 9v2.25a.75.75 0 0 0 1.5 0zm-10 .75h18.5c.69 0 1.25.56 1.25 1.25V18l.75-.75H.75l.75.75v-4.75c0-.69.56-1.25 1.25-1.25zm0-1.5A2.75 2.75 0 0 0 0 13.25V18c0 .414.336.75.75.75h22.5A.75.75 0 0 0 24 18v-4.75a2.75 2.75 0 0 0-2.75-2.75H2.75zM0 18v3a.75.75 0 0 0 1.5 0v-3A.75.75 0 0 0 0 18zm22.5 0v3a.75.75 0 0 0 1.5 0v-3a.75.75 0 0 0-1.5 0zm-.75-6.75V4.5a2.25 2.25 0 0 0-2.25-2.25h-15A2.25 2.25 0 0 0 2.25 4.5v6.75a.75.75 0 0 0 1.5 0V4.5a.75.75 0 0 1 .75-.75h15a.75.75 0 0 1 .75.75v6.75a.75.75 0 0 0 1.5 0z\"></path></svg>\n",
       "</span>\n",
       "<span></span>\n",
       "<div class=\"bui-list__body\">\n",
       "商務雙人房\n",
       "</div>\n",
       "</a>\n",
       "</li>\n",
       "</ul>\n",
       "</div>"
      ]
     },
     "execution_count": 285,
     "metadata": {},
     "output_type": "execute_result"
    }
   ],
   "source": [
    "sample.find('div',{'class':'c-review-block__row c-review-block__room-info-row'})"
   ]
  },
  {
   "cell_type": "code",
   "execution_count": null,
   "id": "advised-chase",
   "metadata": {},
   "outputs": [
    {
     "data": {
      "text/plain": [
       "[<div class=\"bui-list__body\">\n",
       " 商務雙人房\n",
       " </div>,\n",
       " <div class=\"bui-list__body\">\n",
       " 2 晚 · \n",
       " <span class=\"c-review-block__date\">\n",
       " 2019 年 5 月\n",
       " </span>\n",
       " </div>,\n",
       " <div class=\"bui-list__body\">\n",
       " 獨行旅客\n",
       " </div>]"
      ]
     },
     "execution_count": 286,
     "metadata": {},
     "output_type": "execute_result"
    }
   ],
   "source": [
    "sample.findAll('div',{'class':'bui-list__body'})"
   ]
  },
  {
   "attachments": {},
   "cell_type": "markdown",
   "id": "integral-gothic",
   "metadata": {},
   "source": [
    "## Date"
   ]
  },
  {
   "cell_type": "code",
   "execution_count": null,
   "id": "eleven-nickname",
   "metadata": {},
   "outputs": [
    {
     "data": {
      "text/plain": [
       "<span class=\"c-review-block__date\">\n",
       "2019 年 5 月\n",
       "</span>"
      ]
     },
     "execution_count": 287,
     "metadata": {},
     "output_type": "execute_result"
    }
   ],
   "source": [
    "sample.find('span',{'class':'c-review-block__date'})"
   ]
  },
  {
   "attachments": {},
   "cell_type": "markdown",
   "id": "fluid-eleven",
   "metadata": {},
   "source": [
    "## Score"
   ]
  },
  {
   "cell_type": "code",
   "execution_count": null,
   "id": "angry-lincoln",
   "metadata": {},
   "outputs": [
    {
     "data": {
      "text/plain": [
       "<div aria-label=\"分數10分\" class=\"bui-review-score__badge\"> 10 </div>"
      ]
     },
     "execution_count": 288,
     "metadata": {},
     "output_type": "execute_result"
    }
   ],
   "source": [
    "sample.find('div',{'class':'bui-review-score__badge'})"
   ]
  },
  {
   "cell_type": "code",
   "execution_count": null,
   "id": "altered-ideal",
   "metadata": {},
   "outputs": [
    {
     "data": {
      "text/plain": [
       "'10'"
      ]
     },
     "execution_count": 289,
     "metadata": {},
     "output_type": "execute_result"
    }
   ],
   "source": [
    "sample.find('div',{'class':'bui-review-score__badge'}).text.strip()"
   ]
  },
  {
   "attachments": {},
   "cell_type": "markdown",
   "id": "backed-pavilion",
   "metadata": {},
   "source": [
    "## Review"
   ]
  },
  {
   "cell_type": "code",
   "execution_count": null,
   "id": "pregnant-rubber",
   "metadata": {},
   "outputs": [
    {
     "data": {
      "text/plain": [
       "<h3 class=\"c-review-block__title c-review__title--ltr\" lang=\"zh\">\n",
       "傑出\n",
       "</h3>"
      ]
     },
     "execution_count": 290,
     "metadata": {},
     "output_type": "execute_result"
    }
   ],
   "source": [
    "sample.find('h3',{'class':'c-review-block__title c-review__title--ltr'})"
   ]
  },
  {
   "cell_type": "code",
   "execution_count": null,
   "id": "cognitive-ensemble",
   "metadata": {},
   "outputs": [
    {
     "data": {
      "text/plain": [
       "'傑出'"
      ]
     },
     "execution_count": 291,
     "metadata": {},
     "output_type": "execute_result"
    }
   ],
   "source": [
    "sample.find('h3',{'class':'c-review-block__title c-review__title--ltr'}).text.strip()"
   ]
  },
  {
   "cell_type": "code",
   "execution_count": null,
   "id": "amino-carry",
   "metadata": {},
   "outputs": [],
   "source": []
  },
  {
   "cell_type": "code",
   "execution_count": null,
   "id": "federal-building",
   "metadata": {},
   "outputs": [],
   "source": [
    "# 翻譯的格式不一樣\n",
    "#sample.find('h3',{'class':'c-review-block__title c-review-block__title--original c-review__title--ltr'})\n",
    "\n",
    "#sample.find('h3',{'class':'c-review-block__title c-review-block__title--original c-review__title--ltr'}).text.strip()"
   ]
  },
  {
   "cell_type": "code",
   "execution_count": null,
   "id": "composite-rebecca",
   "metadata": {},
   "outputs": [],
   "source": []
  },
  {
   "attachments": {},
   "cell_type": "markdown",
   "id": "responsible-tiffany",
   "metadata": {},
   "source": [
    "## Like, dislike"
   ]
  },
  {
   "cell_type": "code",
   "execution_count": null,
   "id": "suspected-seven",
   "metadata": {},
   "outputs": [
    {
     "data": {
      "text/plain": [
       "<div class=\"bui-grid__column-9 c-review-block__right\">\n",
       "<div class=\"c-review-block__row\">\n",
       "<span class=\"c-review-block__badge\">\n",
       "<span class=\"c-review-block__badge__icon\">\n",
       "<svg aria-hidden=\"true\" class=\"bk-icon -iconset-star\" fill=\"#FFFFFF\" focusable=\"false\" height=\"10\" role=\"presentation\" viewbox=\"0 0 128 128\" width=\"10\"><path d=\"M117.4 56.3L89.6 77.5a1.7 1.7 0 0 0-.3 1.2l10.7 34.2c1.2 3.9-.8 5.7-1.6 6.3-.7.5-3.2 1.8-6.4-.6L64.3 97.4a1 1 0 0 0-.6 0l-27.8 21.2a6 6 0 0 1-3.6 1.4 4.7 4.7 0 0 1-2.7-.8c-.8-.6-2.8-2.4-1.6-6.3l10.6-34.2a1.7 1.7 0 0 0-.3-1.2L10.4 56.3c-3.1-2.4-2.5-5.1-2.3-6S9.6 47 13.5 47h34.3a1.3 1.3 0 0 0 .7-.6L59 12.2C60.2 8.4 62.9 8 63.9 8s3.7.4 4.9 4.2l10.6 34.3a1.3 1.3 0 0 0 .7.6h34.2c4 0 5.1 2.5 5.4 3.3s.9 3.5-2.3 6z\"></path></svg>\n",
       "</span>\n",
       "住客精選評論 \n",
       "</span>\n",
       "<span class=\"c-review-block__date\">\n",
       "2019 年 5 月 29 日 留下評語\n",
       "</span>\n",
       "<div class=\"bui-grid\">\n",
       "<div class=\"bui-grid__column-10\">\n",
       "<h3 class=\"c-review-block__title c-review__title--ltr\" lang=\"zh\">\n",
       "傑出\n",
       "</h3>\n",
       "</div>\n",
       "<div class=\"bui-grid__column-2 bui-u-text-right\">\n",
       "<div class=\"bui-review-score c-score\"> <div aria-label=\"分數10分\" class=\"bui-review-score__badge\"> 10 </div> </div>\n",
       "</div>\n",
       "</div>\n",
       "</div>\n",
       "<div class=\"c-review-block__row\">\n",
       "<div class=\"c-review\">\n",
       "<div class=\"c-review__row\">\n",
       "<p class=\"c-review__inner c-review__inner--ltr\">\n",
       "<span class=\"c-review__prefix c-review__prefix--color-green\"><svg aria-hidden=\"true\" class=\"bk-icon -iconset-review_great c-review__icon\" focusable=\"false\" height=\"128\" role=\"presentation\" viewbox=\"0 0 128 128\" width=\"128\"><path d=\"M64 8a56 56 0 1 0 56 56A56 56 0 0 0 64 8zm0 104a48 48 0 1 1 48-48 48 48 0 0 1-48 48zM44 64a8 8 0 1 1 8-8 8 8 0 0 1-8 8zm48-8a8 8 0 1 1-8-8 8 8 0 0 1 8 8zm-4.8 21.6a4 4 0 0 1 .6 3.6A24.3 24.3 0 0 1 64 97c-9.7 0-15.7-4.2-19-7.8a22.7 22.7 0 0 1-4.8-8A4 4 0 0 1 44 76h40a4 4 0 0 1 3.2 1.6z\"></path></svg><span class=\"bui-u-sr-only\">喜歡</span> </span><span aria-hidden=\"true\"> · </span><span class=\"c-review__body\" lang=\"zh-tw\">房間非常乾淨，設備也很齊全，服務人員都非常熱心有禮！還有包早餐宵夜！地理位置非常便利！下次還會想要再來造訪！</span>\n",
       "</p>\n",
       "</div>\n",
       "<div class=\"c-review__row lalala\">\n",
       "<p class=\"c-review__inner c-review__inner--ltr\" lang=\"zh-tw\">\n",
       "<span class=\"c-review__prefix\"><svg aria-hidden=\"true\" class=\"bk-icon -iconset-review_poor c-review__icon\" focusable=\"false\" height=\"128\" role=\"presentation\" viewbox=\"0 0 128 128\" width=\"128\"><path d=\"M64 8a56 56 0 1 0 56 56A56 56 0 0 0 64 8zm0 104a48 48 0 1 1 48-48 48 48 0 0 1-48 48zM44 64a8 8 0 1 1 8-8 8 8 0 0 1-8 8zm48-8a8 8 0 1 1-8-8 8 8 0 0 1 8 8zm-5.2 30.2a4 4 0 1 1-5.6 5.6c-10.5-10.4-24-10.4-34.4 0a4 4 0 0 1-5.6-5.6c13.6-13.7 32-13.7 45.6 0z\"></path></svg><span class=\"bui-u-sr-only\">不喜歡</span> </span><span aria-hidden=\"true\"> · </span><span class=\"c-review__body\" lang=\"zh-tw\">一百分💯！</span>\n",
       "</p>\n",
       "</div>\n",
       "</div>\n",
       "</div>\n",
       "<div class=\"c-review-block__row c-review-block__row--helpful-vote bui-u-text-right\">\n",
       "<div class=\"c-review-block__actions\">\n",
       "<div class=\"review-helpful__container\" data-component=\"reviews/review-helpful-unhelpful\">\n",
       "<p class=\"review-helpful__vote-feedback-message review-helpful-heart-vote-feedback-message review-helpful__vote-others-helpful\" style=\"display: none;\">\n",
       "</p>\n",
       "<p class=\"review-helpful__vote-feedback-message review-helpful-heart-vote-feedback-message --unhelpful\">\n",
       "</p>\n",
       "<form action=\"/vote_review\" class=\"review-helpful__form clearfix\" data-current-count=\"0\" method=\"post\">\n",
       "<input name=\"hotel_id\" type=\"hidden\" value=\"1101786\"/>\n",
       "<input name=\"review_url\" type=\"hidden\" value=\"551ceb7811861fe2\"/>\n",
       "<input name=\"review_id\" type=\"hidden\" value=\"0\"/>\n",
       "<input name=\"vote_type\" type=\"hidden\" value=\"1\"/>\n",
       "<input name=\"vote_value\" type=\"hidden\" value=\"1\"/>\n",
       "<button class=\"review-helpful__form-submit review-helpful-heart-submit\" data-type=\"helpful\" type=\"submit\">\n",
       "<svg aria-hidden=\"true\" class=\"bk-icon -iconset-thumbs_up\" fill=\"#0071C2\" focusable=\"false\" height=\"14\" role=\"presentation\" viewbox=\"0 0 128 128\" width=\"14\"><path d=\"M8 76a12 12 0 0 1 3.6-8.6A12 12 0 0 1 21 48h35.9L49 28a15.2 15.2 0 0 1-1-4 8 8 0 0 1 15-4l17 36v56H30a12 12 0 0 1-12-10.7 12 12 0 0 1-6.6-17A12 12 0 0 1 8 76zm112-20H88v56h32z\"></path></svg>\n",
       "有用的\n",
       "</button>\n",
       "</form>\n",
       "<form action=\"/vote_review\" class=\"review-helpful__form --unhelpful clearfix\" method=\"post\">\n",
       "<input name=\"hotel_id\" type=\"hidden\" value=\"1101786\"/>\n",
       "<input name=\"review_url\" type=\"hidden\" value=\"551ceb7811861fe2\"/>\n",
       "<input name=\"review_id\" type=\"hidden\" value=\"0\"/>\n",
       "<input name=\"vote_type\" type=\"hidden\" value=\"4\"/>\n",
       "<input name=\"vote_value\" type=\"hidden\" value=\"1\"/>\n",
       "<button class=\"review-helpful__form-submit review-helpful-heart-submit\" data-type=\"unhelpful\" type=\"submit\">\n",
       "<svg aria-hidden=\"true\" class=\"bk-icon -iconset-thumbs_down\" fill=\"#0071C2\" focusable=\"false\" height=\"14\" role=\"presentation\" viewbox=\"0 0 128 128\" width=\"14\"><path d=\"M11.4 43.6a12 12 0 0 1 6.7-17A12 12 0 0 1 30 16h50v56l-17 36a8 8 0 0 1-15-4 15.2 15.2 0 0 1 1-4l7.9-20H21a12 12 0 0 1-9.4-19.4 12 12 0 0 1-.2-17zM120 16H88v56h32z\"></path></svg>\n",
       "沒有幫助\n",
       "</button>\n",
       "</form>\n",
       "</div>\n",
       "<div>\n",
       "</div>\n",
       "</div>\n",
       "</div>\n",
       "</div>"
      ]
     },
     "execution_count": 293,
     "metadata": {},
     "output_type": "execute_result"
    }
   ],
   "source": [
    "sample.find('div',{'class':'bui-grid__column-9 c-review-block__right'})"
   ]
  },
  {
   "cell_type": "code",
   "execution_count": null,
   "id": "stainless-graphic",
   "metadata": {},
   "outputs": [
    {
     "data": {
      "text/plain": [
       "'\\n\\n\\n\\n\\n\\n住客精選評論 \\n\\n\\n2019 年 5 月 29 日 留下評語\\n\\n\\n\\n\\n傑出\\n\\n\\n\\n  10  \\n\\n\\n\\n\\n\\n\\n\\n喜歡 \\xa0·\\xa0房間非常乾淨，設備也很齊全，服務人員都非常熱心有禮！還有包早餐宵夜！地理位置非常便利！下次還會想要再來造訪！\\n\\n\\n\\n\\n不喜歡 \\xa0·\\xa0一百分💯！\\n\\n\\n\\n\\n\\n\\n\\n\\n\\n\\n\\n\\n\\n\\n\\n\\n\\n\\n\\n有用的\\n\\n\\n\\n\\n\\n\\n\\n\\n\\n\\n沒有幫助\\n\\n\\n\\n\\n\\n\\n\\n'"
      ]
     },
     "execution_count": 294,
     "metadata": {},
     "output_type": "execute_result"
    }
   ],
   "source": [
    "sample.find('div',{'class':'bui-grid__column-9 c-review-block__right'}).text"
   ]
  },
  {
   "attachments": {},
   "cell_type": "markdown",
   "id": "engaged-defendant",
   "metadata": {},
   "source": [
    "## 喜歡的是那些?"
   ]
  },
  {
   "cell_type": "code",
   "execution_count": null,
   "id": "fatty-socket",
   "metadata": {},
   "outputs": [],
   "source": [
    "reviewBlock = sample.find('div',{'class':'bui-grid__column-9 c-review-block__right'})"
   ]
  },
  {
   "cell_type": "code",
   "execution_count": null,
   "id": "continued-turkish",
   "metadata": {},
   "outputs": [
    {
     "data": {
      "text/plain": [
       "<p class=\"c-review__inner c-review__inner--ltr\">\n",
       "<span class=\"c-review__prefix c-review__prefix--color-green\"><svg aria-hidden=\"true\" class=\"bk-icon -iconset-review_great c-review__icon\" focusable=\"false\" height=\"128\" role=\"presentation\" viewbox=\"0 0 128 128\" width=\"128\"><path d=\"M64 8a56 56 0 1 0 56 56A56 56 0 0 0 64 8zm0 104a48 48 0 1 1 48-48 48 48 0 0 1-48 48zM44 64a8 8 0 1 1 8-8 8 8 0 0 1-8 8zm48-8a8 8 0 1 1-8-8 8 8 0 0 1 8 8zm-4.8 21.6a4 4 0 0 1 .6 3.6A24.3 24.3 0 0 1 64 97c-9.7 0-15.7-4.2-19-7.8a22.7 22.7 0 0 1-4.8-8A4 4 0 0 1 44 76h40a4 4 0 0 1 3.2 1.6z\"></path></svg><span class=\"bui-u-sr-only\">喜歡</span> </span><span aria-hidden=\"true\"> · </span><span class=\"c-review__body\" lang=\"zh-tw\">房間非常乾淨，設備也很齊全，服務人員都非常熱心有禮！還有包早餐宵夜！地理位置非常便利！下次還會想要再來造訪！</span>\n",
       "</p>"
      ]
     },
     "execution_count": 296,
     "metadata": {},
     "output_type": "execute_result"
    }
   ],
   "source": [
    "reviewBlock.find('p',{'class':'c-review__inner c-review__inner--ltr'})"
   ]
  },
  {
   "cell_type": "code",
   "execution_count": null,
   "id": "valuable-chassis",
   "metadata": {},
   "outputs": [
    {
     "data": {
      "text/plain": [
       "<p class=\"c-review__inner c-review__inner--ltr\">\n",
       "<span class=\"c-review__prefix c-review__prefix--color-green\"><svg aria-hidden=\"true\" class=\"bk-icon -iconset-review_great c-review__icon\" focusable=\"false\" height=\"128\" role=\"presentation\" viewbox=\"0 0 128 128\" width=\"128\"><path d=\"M64 8a56 56 0 1 0 56 56A56 56 0 0 0 64 8zm0 104a48 48 0 1 1 48-48 48 48 0 0 1-48 48zM44 64a8 8 0 1 1 8-8 8 8 0 0 1-8 8zm48-8a8 8 0 1 1-8-8 8 8 0 0 1 8 8zm-4.8 21.6a4 4 0 0 1 .6 3.6A24.3 24.3 0 0 1 64 97c-9.7 0-15.7-4.2-19-7.8a22.7 22.7 0 0 1-4.8-8A4 4 0 0 1 44 76h40a4 4 0 0 1 3.2 1.6z\"></path></svg><span class=\"bui-u-sr-only\">喜歡</span> </span><span aria-hidden=\"true\"> · </span><span class=\"c-review__body\" lang=\"zh-tw\">房間非常乾淨，設備也很齊全，服務人員都非常熱心有禮！還有包早餐宵夜！地理位置非常便利！下次還會想要再來造訪！</span>\n",
       "</p>"
      ]
     },
     "execution_count": 297,
     "metadata": {},
     "output_type": "execute_result"
    }
   ],
   "source": [
    "reviewBlock.find('p',{'class':'c-review__inner c-review__inner--ltr'})"
   ]
  },
  {
   "cell_type": "code",
   "execution_count": null,
   "id": "applied-spotlight",
   "metadata": {},
   "outputs": [
    {
     "data": {
      "text/plain": [
       "<span class=\"c-review__body\" lang=\"zh-tw\">房間非常乾淨，設備也很齊全，服務人員都非常熱心有禮！還有包早餐宵夜！地理位置非常便利！下次還會想要再來造訪！</span>"
      ]
     },
     "execution_count": 300,
     "metadata": {},
     "output_type": "execute_result"
    }
   ],
   "source": [
    "reviewBlock.find('p',{'class':'c-review__inner c-review__inner--ltr'}).find('span',{'class':'c-review__body'})"
   ]
  },
  {
   "cell_type": "code",
   "execution_count": null,
   "id": "strategic-egyptian",
   "metadata": {},
   "outputs": [
    {
     "data": {
      "text/plain": [
       "'房間非常乾淨，設備也很齊全，服務人員都非常熱心有禮！還有包早餐宵夜！地理位置非常便利！下次還會想要再來造訪！'"
      ]
     },
     "execution_count": 301,
     "metadata": {},
     "output_type": "execute_result"
    }
   ],
   "source": [
    "reviewBlock.find('p',{'class':'c-review__inner c-review__inner--ltr'}).find('span',{'class':'c-review__body'}).text"
   ]
  },
  {
   "cell_type": "code",
   "execution_count": null,
   "id": "conscious-store",
   "metadata": {},
   "outputs": [],
   "source": []
  },
  {
   "attachments": {},
   "cell_type": "markdown",
   "id": "frequent-aberdeen",
   "metadata": {},
   "source": [
    "## 不喜歡的是那些?"
   ]
  },
  {
   "cell_type": "code",
   "execution_count": null,
   "id": "graphic-armenia",
   "metadata": {},
   "outputs": [
    {
     "data": {
      "text/plain": [
       "<div class=\"c-review__row lalala\">\n",
       "<p class=\"c-review__inner c-review__inner--ltr\" lang=\"zh-tw\">\n",
       "<span class=\"c-review__prefix\"><svg aria-hidden=\"true\" class=\"bk-icon -iconset-review_poor c-review__icon\" focusable=\"false\" height=\"128\" role=\"presentation\" viewbox=\"0 0 128 128\" width=\"128\"><path d=\"M64 8a56 56 0 1 0 56 56A56 56 0 0 0 64 8zm0 104a48 48 0 1 1 48-48 48 48 0 0 1-48 48zM44 64a8 8 0 1 1 8-8 8 8 0 0 1-8 8zm48-8a8 8 0 1 1-8-8 8 8 0 0 1 8 8zm-5.2 30.2a4 4 0 1 1-5.6 5.6c-10.5-10.4-24-10.4-34.4 0a4 4 0 0 1-5.6-5.6c13.6-13.7 32-13.7 45.6 0z\"></path></svg><span class=\"bui-u-sr-only\">不喜歡</span> </span><span aria-hidden=\"true\"> · </span><span class=\"c-review__body\" lang=\"zh-tw\">一百分💯！</span>\n",
       "</p>\n",
       "</div>"
      ]
     },
     "execution_count": 298,
     "metadata": {},
     "output_type": "execute_result"
    }
   ],
   "source": [
    "reviewBlock.find('div',{'class':'c-review__row lalala'})"
   ]
  },
  {
   "cell_type": "code",
   "execution_count": null,
   "id": "thick-auckland",
   "metadata": {},
   "outputs": [
    {
     "data": {
      "text/plain": [
       "'\\n\\n不喜歡 \\xa0·\\xa0一百分💯！\\n\\n'"
      ]
     },
     "execution_count": 25,
     "metadata": {},
     "output_type": "execute_result"
    }
   ],
   "source": [
    "reviewBlock.find('div',{'class':'c-review__row lalala'}).text"
   ]
  },
  {
   "cell_type": "code",
   "execution_count": null,
   "id": "yellow-student",
   "metadata": {},
   "outputs": [],
   "source": []
  },
  {
   "cell_type": "code",
   "execution_count": null,
   "id": "ancient-piece",
   "metadata": {},
   "outputs": [
    {
     "data": {
      "text/plain": [
       "'一百分💯！'"
      ]
     },
     "execution_count": 302,
     "metadata": {},
     "output_type": "execute_result"
    }
   ],
   "source": [
    "reviewBlock.find('div',{'class':'c-review__row lalala'}).find('span',{'class':'c-review__body'}).text"
   ]
  },
  {
   "cell_type": "code",
   "execution_count": null,
   "id": "associate-courage",
   "metadata": {},
   "outputs": [],
   "source": []
  },
  {
   "cell_type": "code",
   "execution_count": null,
   "id": "electric-exhibit",
   "metadata": {},
   "outputs": [],
   "source": []
  }
 ],
 "metadata": {
  "kernelspec": {
   "display_name": "Python 3",
   "language": "python",
   "name": "python3"
  },
  "language_info": {
   "codemirror_mode": {
    "name": "ipython",
    "version": 3
   },
   "file_extension": ".py",
   "mimetype": "text/x-python",
   "name": "python",
   "nbconvert_exporter": "python",
   "pygments_lexer": "ipython3",
   "version": "3.8.13"
  }
 },
 "nbformat": 4,
 "nbformat_minor": 5
}
