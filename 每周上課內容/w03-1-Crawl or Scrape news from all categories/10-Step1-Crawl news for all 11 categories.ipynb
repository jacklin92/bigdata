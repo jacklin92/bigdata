{
 "cells": [
  {
   "cell_type": "markdown",
   "metadata": {},
   "source": [
    "# Crawl CNA news from several categories\n",
    "\n",
    "Only 5 pieces of news on the first page from each category\n",
    "\n",
    "中央社新聞各類新聞各5篇\n"
   ]
  },
  {
   "cell_type": "code",
   "execution_count": 16,
   "metadata": {},
   "outputs": [],
   "source": [
    "import requests\n",
    "from bs4 import BeautifulSoup\n",
    "import re"
   ]
  },
  {
   "cell_type": "markdown",
   "metadata": {},
   "source": [
    "# There are 11 categories in CNA news\n",
    "\n",
    "Crawl links on a category's first page.\n",
    "\n",
    "中央社新聞爬蟲-11類別的新聞(只能爬第一頁的內容，沒有翻頁的功能)"
   ]
  },
  {
   "cell_type": "raw",
   "metadata": {},
   "source": [
    "政治\n",
    "https://www.cna.com.tw/list/aipl.aspx\n",
    "科技\n",
    "https://www.cna.com.tw/list/ait.aspx\n",
    "運動\n",
    "https://www.cna.com.tw/list/aspt.aspx\n",
    "證卷\n",
    "https://www.cna.com.tw/list/asc.aspx\n",
    "產經\n",
    "https://www.cna.com.tw/list/aie.aspx\n",
    "娛樂\n",
    "https://www.cna.com.tw/list/amov.aspx\n",
    "生活\n",
    "https://www.cna.com.tw/list/ahel.aspx\n",
    "國際\n",
    "https://www.cna.com.tw/list/aopl.aspx\n",
    "社會\n",
    "https://www.cna.com.tw/list/asoc.aspx\n",
    "文化\n",
    "https://www.cna.com.tw/list/acul.aspx\n",
    "\n",
    "\n",
    "兩岸\n",
    "https://www.cna.com.tw/list/acn.aspx"
   ]
  },
  {
   "cell_type": "code",
   "execution_count": 17,
   "metadata": {},
   "outputs": [
    {
     "name": "stdout",
     "output_type": "stream",
     "text": [
      "Requirement already satisfied: fake_useragent in c:\\users\\jackl\\anaconda3\\lib\\site-packages (2.0.3)\n",
      "Requirement already satisfied: importlib-resources>=6.0 in c:\\users\\jackl\\anaconda3\\lib\\site-packages (from fake_useragent) (6.1.0)\n",
      "Requirement already satisfied: zipp>=3.1.0 in c:\\users\\jackl\\anaconda3\\lib\\site-packages (from importlib-resources>=6.0->fake_useragent) (3.11.0)\n"
     ]
    },
    {
     "name": "stderr",
     "output_type": "stream",
     "text": [
      "\n",
      "[notice] A new release of pip is available: 24.2 -> 25.0.1\n",
      "[notice] To update, run: python.exe -m pip install --upgrade pip\n"
     ]
    }
   ],
   "source": [
    "!pip install fake_useragent"
   ]
  },
  {
   "cell_type": "markdown",
   "metadata": {},
   "source": [
    "## Crawl news for 11 categories"
   ]
  },
  {
   "cell_type": "code",
   "execution_count": 18,
   "metadata": {},
   "outputs": [],
   "source": [
    "# 11 news categories\n",
    "#news_links =['aipl', 'ait', 'aspt', 'asc', 'aie', 'amov','ahel','aopl','asoc','acul','acn']\n",
    "#news_categories=['政治','科技','運動','證卷','產經','娛樂','生活','國際','社會','文化','兩岸']\n",
    "news_links =['aipl', 'ait', 'aspt']\n",
    "news_categories=['政治','科技','運動']\n",
    "base_url = 'https://www.cna.com.tw/list/'"
   ]
  },
  {
   "cell_type": "code",
   "execution_count": 19,
   "metadata": {},
   "outputs": [],
   "source": [
    "import requests\n",
    "import re\n",
    "from bs4 import BeautifulSoup\n",
    "import time\n",
    "import pandas as pd\n",
    "from datetime import datetime, timedelta\n",
    "from fake_useragent import UserAgent"
   ]
  },
  {
   "cell_type": "code",
   "execution_count": 20,
   "metadata": {},
   "outputs": [],
   "source": [
    "user_agent = UserAgent()"
   ]
  },
  {
   "cell_type": "code",
   "execution_count": 21,
   "metadata": {},
   "outputs": [
    {
     "name": "stdout",
     "output_type": "stream",
     "text": [
      "Getting categorical news: 政治\n",
      "1 -- 美國務院指中國曲解聯大2758號決議 外交部誠摯感謝\n",
      "/news/aipl/202503080218.aspx\n",
      "2025/03/08 20:50\n",
      "https://www.cna.com.tw/news/aipl/202503080218.aspx\n",
      "2 -- 解析川普「4R」 林佳龍：台灣是非紅供應鏈關鍵角色\n",
      "/news/aipl/202503080214.aspx\n",
      "2025/03/08 20:37\n",
      "https://www.cna.com.tw/news/aipl/202503080214.aspx\n",
      "3 -- 民進黨政策宣講15日台中首發場 定調對抗混亂在野\n",
      "/news/aipl/202503083001.aspx\n",
      "2025/03/08 20:22\n",
      "https://www.cna.com.tw/news/aipl/202503083001.aspx\n",
      "4 -- 藍推反廢死公投 黃國昌：立院合作開放找時間詳談\n",
      "/news/aipl/202503080200.aspx\n",
      "2025/03/08 19:32\n",
      "https://www.cna.com.tw/news/aipl/202503080200.aspx\n",
      "Getting categorical news: 科技\n",
      "1 -- SpaceX星艦第8次試飛又爆炸 碎片影響佛州飛航[影]\n",
      "/news/ait/202503070073.aspx\n",
      "2025/03/07 11:02\n",
      "https://www.cna.com.tw/news/ait/202503070073.aspx\n",
      "2 -- 培養科技女力 國科會啟動2025 GiCS尋找資安女婕思\n",
      "/news/ait/202503080155.aspx\n",
      "2025/03/08 16:54\n",
      "https://www.cna.com.tw/news/ait/202503080155.aspx\n",
      "3 -- 美民間企業二度嘗試登月 登陸器再次傾倒以側面著陸\n",
      "/news/ait/202503070201.aspx\n",
      "2025/03/07 16:20\n",
      "https://www.cna.com.tw/news/ait/202503070201.aspx\n",
      "4 -- 中國加強碳排控管 鋼鋁水泥業年底納入碳市場\n",
      "https://netzero.cna.com.tw/news/202503070145/\n",
      "2025/03/07 13:46\n",
      "https://netzero.cna.com.tw/news/202503070145/\n",
      "Getting categorical news: 運動\n",
      "1 -- 響應FIFA培育人才計畫 高雄先鋒女足將成立預備軍\n",
      "/news/aspt/202503080222.aspx\n",
      "2025/03/08 21:28\n",
      "https://www.cna.com.tw/news/aspt/202503080222.aspx\n",
      "2 -- PLG林志傑復出得15分  勇士擊退獵鷹\n",
      "/news/aspt/202503080208.aspx\n",
      "2025/03/08 20:09\n",
      "https://www.cna.com.tw/news/aspt/202503080208.aspx\n",
      "3 -- HBL北一女斷淡商小巨蛋12連勝 晉冠軍戰拚衛冕\n",
      "/news/aspt/202503080205.aspx\n",
      "2025/03/08 19:49\n",
      "https://www.cna.com.tw/news/aspt/202503080205.aspx\n",
      "4 -- HBL松山劉程恩罰球大心臟 感謝隊友一起逆轉勝\n",
      "/news/aspt/202503080197.aspx\n",
      "2025/03/08 19:09\n",
      "https://www.cna.com.tw/news/aspt/202503080197.aspx\n",
      "CPU times: total: 1.5 s\n",
      "Wall time: 1min 33s\n"
     ]
    }
   ],
   "source": [
    "%%time\n",
    "# 存放資料之變數\n",
    "links = []\n",
    "titles = []\n",
    "dates = []\n",
    "contents = []\n",
    "categories = []\n",
    "item_id = []\n",
    "photo_links = []\n",
    "\n",
    "\n",
    "# 這裡我們需要用for迴圈爬取11個類別\n",
    "# Here we need to crawl 11 categories using for loop\n",
    "for i, url_short_name in enumerate(news_links):  #針對每一類 共有11類\n",
    "\n",
    "    category = news_categories[i] #'政治' #類別名稱紀錄起來 \n",
    "\n",
    "    # Categorical url link\n",
    "    category_url = base_url + url_short_name + '.aspx'\n",
    "    print(\"Getting categorical news:\", category)\n",
    "\n",
    "    # Request the categorical news page\n",
    "    # req = requests.get(category_url)\n",
    "    req = requests.get(category_url, headers={ 'user-agent': user_agent.random }, timeout=5)\n",
    "    page = BeautifulSoup(req.text, 'lxml')\n",
    "\n",
    "    # 抓新聞列表\n",
    "    items = page.find('ul', {'id': re.compile(\"jsMainList\\w*\")}).findAll('li')\n",
    "    #print(items)\n",
    "\n",
    "\n",
    "    # Let's start to crawl the news in the first page for that category\n",
    "    serial_no = 1\n",
    "    for item_j, item in enumerate(items,start=1): #針對每一篇項目 抓其細節\n",
    "        title = item.find('h2').text\n",
    "        print(serial_no,'--', title )\n",
    "        \n",
    "        link = item.find('a').get('href')\n",
    "        print(link)\n",
    "\n",
    "        try:\n",
    "            if item.find('img').has_attr('data-src'):\n",
    "                photo_link = item.find('img').get('data-src')\n",
    "            else:\n",
    "                photo_link = item.find('img').get('src')\n",
    "        except:\n",
    "            photo_link = ''\n",
    "        \n",
    "        # get date and convert it with the format of  \"2022-04-20\"\n",
    "        news_date = item.find('div', {'class':\"date\"}).text\n",
    "        print(news_date)\n",
    "        dtime = datetime.strptime(news_date, '%Y/%m/%d %H:%M')\n",
    "        # conver to the format of  \"2022-04-20\"\n",
    "        news_date_str = dtime.strftime(\"%Y-%m-%d\") # keep only date, remove the time.\n",
    "\n",
    "        categories.append(category)\n",
    "        titles.append(title)\n",
    "        links.append(link)\n",
    "        photo_links.append(photo_link)\n",
    "        dates.append(news_date_str)\n",
    " \n",
    "        # item_id.append(\"cna_\" + tstr + \"_\" + str(serial_no))\n",
    "        # conver to the format of  \"20220420\"\n",
    "        dtstr = dtime.strftime(\"%Y%m%d\") # keep only date, remove the time.\n",
    "        # format of serial number: aipl_20220314_1\n",
    "        \n",
    "        item_id.append(url_short_name + \"_\" + dtstr + \"_\" + str(serial_no))\n",
    "        serial_no += 1\n",
    "\n",
    "        #抓新聞內容\n",
    "        # 最新的新聞列表之新聞連結:開頭缺少\"https://www.cna.com.tw\"\n",
    "        if link.startswith(\"/news\"):\n",
    "            link = \"https://www.cna.com.tw\"+link\n",
    "        \n",
    "        print(link)\n",
    "        req = requests.get(link, headers={ 'user-agent': user_agent.random }, timeout=5)\n",
    "        \n",
    "        page = BeautifulSoup(req.text,'lxml')\n",
    "\n",
    "        # Find content\n",
    "        content = page.find('div',{'class':\"paragraph\"})\n",
    "\n",
    "        # Remove unnecessary content\n",
    "        # There are some words we don't like to analyze, They should be removed.\n",
    "        # Remove \"透過 Google News追蹤中央社\"\n",
    "        try:\n",
    "            content.find('div', {'class':\"gmailNews\"}).decompose()\n",
    "        except:\n",
    "            pass\n",
    "        # 額外插入的延伸閱讀區塊-->移除之\n",
    "        try:\n",
    "            content.find('div', {'class':\"paragraph moreArticle\"}).decompose()\n",
    "        except:\n",
    "            pass\n",
    "        # 額外插入的訂閱連結-->移除之\n",
    "        try:\n",
    "            content.find('div', class_=\"SubscriptionInner mySubscriptionInner\").decompose()\n",
    "        except:\n",
    "            pass\n",
    "\n",
    "        # 額外插入的圖片與文字說明區塊-->移除之\n",
    "        try:\n",
    "            for media in content.findAll('div', {'class':\"media\"}):\n",
    "                media.decompose()\n",
    "        except:\n",
    "            pass\n",
    "\n",
    "        # Remove unnecessary content\n",
    "        cont = content.text\n",
    "        cont = re.sub('（中央社.+?）','', cont)\n",
    "        cont = re.sub('（編輯：.*','', cont) \n",
    "        cont = re.sub('（譯者：.*','', cont) \n",
    "        \n",
    "        contents.append(cont)\n",
    "\n",
    "        if item_j >= 4: # Here we crawl only 4 pieces of news for each category, in order to save time.\n",
    "            break \n",
    "        \n",
    "        time.sleep(10)  # 遵守爬蟲禮節，請小睡一下\n"
   ]
  },
  {
   "cell_type": "code",
   "execution_count": 22,
   "metadata": {},
   "outputs": [
    {
     "data": {
      "text/plain": [
       "['美國務院指中國曲解聯大2758號決議 外交部誠摯感謝',\n",
       " '解析川普「4R」 林佳龍：台灣是非紅供應鏈關鍵角色',\n",
       " '民進黨政策宣講15日台中首發場 定調對抗混亂在野',\n",
       " '藍推反廢死公投 黃國昌：立院合作開放找時間詳談',\n",
       " 'SpaceX星艦第8次試飛又爆炸 碎片影響佛州飛航[影]',\n",
       " '培養科技女力 國科會啟動2025 GiCS尋找資安女婕思',\n",
       " '美民間企業二度嘗試登月 登陸器再次傾倒以側面著陸',\n",
       " '中國加強碳排控管 鋼鋁水泥業年底納入碳市場',\n",
       " '響應FIFA培育人才計畫 高雄先鋒女足將成立預備軍',\n",
       " 'PLG林志傑復出得15分  勇士擊退獵鷹',\n",
       " 'HBL北一女斷淡商小巨蛋12連勝 晉冠軍戰拚衛冕',\n",
       " 'HBL松山劉程恩罰球大心臟 感謝隊友一起逆轉勝']"
      ]
     },
     "execution_count": 22,
     "metadata": {},
     "output_type": "execute_result"
    }
   ],
   "source": [
    "titles"
   ]
  },
  {
   "cell_type": "code",
   "execution_count": 23,
   "metadata": {},
   "outputs": [
    {
     "data": {
      "text/plain": [
       "['美國國務院昨天指出，中國刻意濫用和扭曲聯大2758決議，是中國施壓行動的一環，意在將台灣孤立於國際社會。外交部今天表示，美國充分彰顯歷來對此議題所採取的一貫堅定立場，對此表達誠摯感謝。中國外交部長王毅7日稱，聯合國大會第2758號決議已徹底解決包括台灣在內全中國在聯合國的代表權問題，台灣在聯合國的唯一稱謂就是「中國台灣省」，台灣從來不是一個國家，過去不是，今後更絕無可能。美國國務院一名發言人美東時間7日對中央社指出，刻意誤用和曲解聯合國大會第2758號決議，是中國施壓行動一環，目的是使台灣孤立於國際社會。外交部表示，聯大第2758號決議僅決定中國在聯合國代表權的歸屬，全文未曾提及台灣，也未認定台灣是中華人民共和國的一部分，更未授權中華人民共和國在聯合國代表台灣。外交部指出，部長林佳龍已多次在各種不同場合強調前述客觀事實，尤其指出聯大第2758號決議並未涉及或排除台灣參加國際組織的權利，這也是許多民主國家的共識；除美國外，英國、瑞典、荷蘭、澳大利亞、加拿大、匈牙利、比利時、瓜地馬拉等國的行政或立法部門，以及歐盟執委會與歐洲議會等，都已公開表示相同的立場，並力挺台灣。外交部呼籲中方認清現實，台灣是主權獨立國家，與中華人民共和國互不隸屬，有權與各國交往，更何況參與國際組織是全體台灣人民的正當權利，中國無權置喙。外交部指出，對於中國企圖將台灣問題「內政化」，片面改變台海現狀，為其未來武力犯台建構法理基礎的野心，予以嚴正譴責，並呼籲國際社會持續以具體行動加以反制，駁斥中國所謂「一中原則」已是國際共識的謬論，台灣將繼續與理念相近國家共同合作，維護台海及印太地區的和平、穩定及繁榮。',\n",
       " '外交部長林佳龍指出，美國總統川普的性格特質可透過「4R」來理解，包括Reciprocity（互惠）、Reindustrialization（再工業化）、Respect（尊重）及Real Estate（不動產），而台灣掌握民主國家的信賴與技術，在非紅供應鏈中扮演關鍵角色。林佳龍今天在臉書發文指出，昨天應邀赴風傳媒「大浪當前－2025高峰論壇」，致詞分析川普（Donald Trump）的施政理念與台灣的因應之道。林佳龍表示，川普在安全領域將延續印太戰略，並透過美日峰會、Quad外長會議及美日韓外長會議進行再確認，但與第一任期相比，川普更強調「盟友責任分擔」與「安全靠實力」，包括台灣、日本、菲律賓等第一島鏈國家，都需展現更強的自我防衛決心，而總統賴清德已宣布將國防預算提升至GDP 3%，並著手強化全社會防衛韌性。林佳龍指出，在經濟領域，川普第一任期的「去中化」政策將延續，透過加強關稅促使供應鏈重組，並建立「非紅供應鏈」與「乾淨網路」，確保國家關鍵基礎設施的安全，並推動「對等關稅」政策，以促使製造業回流美國，實現產業「美國化」目標。針對近期台積電擴大美國投資，林佳龍強調，「要相信台積電的布局」，台積電的技術深耕台灣、產線布局全球，投資美國、日本與歐盟符合「Taiwan Plus N」戰略方向，利用各國資金、技術與人才壯大企業，也讓台灣擁有全新視野。林佳龍指出，中美兩國的競爭已從傳統經濟擴展至人工智慧（AI）軍備競賽，而台灣掌握著民主國家的「信賴」（Trust）與「技術」（Technology），在非紅供應鏈中扮演關鍵角色。面對全球變局，林佳龍強調，台灣應了解自身位處「戰略三鏈」，包括第一島鏈、非紅供應鏈、民主價值鏈的關鍵地位，不管產業是西進、東進，最重要的是台灣要上進，清楚自己在國際上的定位。',\n",
       " '罷免議題延燒，黨政人士今天表示，總統賴清德帶領的府、院、黨執政團隊將分進合擊，除持續採取必要的憲政程序救濟外，下週末擬啟動政策宣講會，擴大社會面溝通，訴求「穩健執政」對抗「混亂在野」。黨政人士今天表示，社會對大罷免議題討論熱烈，但總統賴清德仍以國家領導者高度，穩健帶領國家前進，面對美國總統川普上任後的新變局，首先召開國安會議宣布將組成「全球半導體民主供應鏈」倡議，接續台積電宣布赴美投資，賴總統與台積電董事長魏哲家聯袂召開記者會後，獲得施振榮、蔡明忠等多位工商界領袖的正面回應，多數民眾也抱持支持態度。黨政人士指出，農曆年前因藍白在國會惡意凍刪總預算，春節期間掀起一波連署聲浪，許多藍營立委的選區連署份數迅速達標；國民黨在春節後，急忙找青年軍或有黨籍背景的地方人士領銜提案反制，要罷免綠營立委，卻接連發生領銜人資格不符等事件。黨政人士說，對於大罷免，民進黨一直維持罷免團體的公民主體性，以避免落入「當家鬧事」之嫌，但因為近期藍營的報復式罷免，民進黨改採「顧好立委、守護公民」做主軸，籌組律師團協助被「惡罷」的綠委，也維護公民團體在連署罷免的權利。黨政人士以民進黨立委王美惠與陳冠廷的罷免提案為例說，經由黨部的律師團協助提告，已讓被冒名的領銜人表態不願繼續二階連署，顯見黨部的「法律戰」開始奏效。面對國內外的變局，黨政人士指出，賴總統率領執政團隊以及府院黨，未來將在各自崗位分進合擊，對於行政團隊面對總預算被惡意凍刪，以及未來財劃法修法可能對中央執政造成的影響，除持續採取必要憲政程序救濟外，更將擴大社會面溝通，以獲得社會大眾認同整體政府未來施政方向藍圖。至於外傳黨中央15日將展開政策宣講會，黨政人士表示，向人民說明政策方向本身就是執政黨的工作，當然也不排除進行下鄉宣講等任何形式向人民說明。據了解，民進黨中央黨部規劃3月15日啟動「人民是頭家政策說明會」，首發場從台中市出發，至於總共規畫幾場說明會，黨政人士表示，還在規劃中。',\n",
       " '國民黨為迎戰大罷免潮，將啟動反廢死公投因應，且傳出擬透過立法院提案。民眾黨主席黃國昌今天表示，民眾黨對立法院合作保持開放，至於公投的題目得與國民黨找時間坐下來詳細討論。根據公投法，立法院對於重大政策的創制或複決，若認為有提出公投必要，得附具主文、理由書，經立法院院會通過後10日內，交由主管機關辦理公民投票，且不適用領銜人提案連署相關規定。今天是國際婦女節，民眾黨桃園市黨部下午舉辦「敬女力，現活力」活動，黃國昌與黨秘書長周榆修及女性黨公職前往參與，黃國昌也在會前接受媒體訪問。媒體詢問，國民黨因應大罷免將推出反廢死公投促「公投綁罷免」，但連署可能來不及，擬採取立法院提案方式，未來民眾黨是否贊同。黃國昌說，重要的公共政策藉由公投反映全民意志，這是在民主憲政下民眾表達意見非常好的方式，至於8月的公投題目，例如國民黨先前表示，不贊成進一步推動廢死，他相信在台灣可得到多數民眾支持。黃國昌表示，至於立法院如何合作，民眾黨保持開放，若是有可相互討論共同努力推動的方向，這一點沒有太大問題。黃國昌指出，接下來公投的題目，民眾黨與國民黨可能有需要找時間坐下來，詳細討論多數台灣民眾所關心的問題。談及媒體報導指民眾黨對反罷免態度轉趨保守，黃國昌說，網媒引用匿名放話，他看了非常驚訝，但民眾黨內部根本沒有這樣的討論，他身為黨主席也沒聽過這樣的話或參與討論，並強調民眾黨對於深化台灣民主、反對綠色威權的立場從未動搖。此外，黃國昌在「敬女力，現活力」活動上表示，台灣社會在文化與法規導致女性工作者處於不公平狀態，有時必須透過制度調整，現行法規有7天家庭照顧假，但被歸類在無薪的事假；從今年起，民眾黨將給予黨工優於法令的7天全薪家庭照顧假，並於立法院推動修法，讓全台民眾都享有這項福利。',\n",
       " '科技大亨馬斯克的太空探索科技公司（SpaceX）今天進行星艦火箭第8次測試任務時與星艦失聯，導致衛星部署示範失敗；這是SpaceX今年連續第2次星艦任務失敗。路透社報導，社群媒體上的影片顯示，星艦（Starship）在太空解體後，碎片在黃昏時分劃過佛羅里達州南部和巴哈馬附近上空，稍早SpaceX的直播畫面則顯示星艦失控翻滾。高達123公尺的星艦火箭於美東時間今天晚間6時30分（台北時間7日早上7時30分）從SpaceX位於德州波卡契卡（Boca Chica）的火箭設施發射，「超重型」（Super Heavy）第一節推推器按計畫成功返回地面。但數分鐘後，SpaceX的直播畫面顯示，星艦上節在太空中旋轉，且火箭引擎的視覺化圖像顯示多個引擎熄火，隨後SpaceX確認與星艦失聯。SpaceX發言人胡歐（Dan Huot）在直播中說：「不幸的是，這上次也發生過，所以我們現在已經有些經驗了。」因為「太空發射碎片」的關係，美國聯邦航空總署（FAA）對邁阿密、勞德岱堡（Fort Lauderdale）、棕櫚灘（Palm Beach）和奧蘭多等多座機場發布停飛令，至少到美東時間晚間8時。這次失敗是SpaceX星艦開發計畫的又一次挫折。SpaceX執行長馬斯克（Elon Musk）一直在推動星艦火箭在2025年快速發展。這次任務是自星艦今年1月測試時在加勒比海上空爆炸以來的首次試飛，任務失敗對馬斯克的開發願景造成打擊。他的目標是打造一枚能將更多衛星送入太空、將人類送上月球和火星的火箭。',\n",
       " '國科會今天指出，第5屆「尋找資安女婕思活動」正式啟動，今年延續資訊安全主軸，並擴展至晶片、機器人、無人機和太空等多元應用領域，盼鼓勵女婕思創新與整合能力，打造台灣多元韌性。國科會今天發布新聞稿表示，副主委蘇振綱、奧義智慧科技共同創辦人吳明蔚、教育部資訊及科技教育司副司長邱仁杰等人，今天為「2025 GiCS尋找資安女婕思」系列活動揭開序幕。國科會指出，第5屆女婕思競賽今年新增機器人與晶片應用議題，緊扣科技發展趨勢，鼓勵女同學積極參與，競賽分為高中職及大專校院組，並有「資安闖天關」及「創意發想賽」2項賽事。蘇振綱致詞表示，女婕思既是「Girls in Cybersecurity」、亦可為「Girls in Creative Society」，鼓勵女婕思開展創新、整合的能力。今年延續過往資訊安全競賽主軸，並擴展至晶片、機器人、無人機、太空等多元應用領域。蘇振綱表示，女婕思將成為促進女性人才永續力的正向活動，國科會也將建構晶片台灣隊，打造安全且具韌性的供應鏈，讓台灣在國際上成為民主供應鏈要角，人才政策配套是關鍵環節。國科會指出，女婕思活動目標是培育包含非理工領域在內的女性科技人才，結合女性特有的細膩思維，以跨界跨域的養成，創造台灣的多元韌性。',\n",
       " '數據顯示，美國直覺機器公司的登陸器「雅典娜號」因雷射測距儀出現問題，導致今天登陸月球時傾倒、以側面著陸，與去年首度嘗試登月時發生相同窘境。法新社報導，總部位於德州休士頓的新創公司直覺機器公司（Intuitive Machines）去年2月締造歷史，成為第一個將太空載具送上月球的民間企業，不過當時執行任務的「奧德修斯號」（Odysseus）登月時傾倒、以側面著陸，導致那次創舉略為失色。在二度登月嘗試中，直覺機器公司派出六角形的「雅典娜號」（Athena）登陸器前往月球穆頓山（Mons Mouton），這個地點比之前的任何目標地點都更靠近月球南極。搭載11個酬載和科學儀器的雅典娜號，2月26日從佛羅里達州搭乘太空探索科技公司（SpaceX）火箭升空後，於月球南極附近約160公里處著陸。根據路透社報導，直覺機器公司執行長阿特姆斯（Steve Altemus）在記者會上表示：「我認為這次降落月球表面，再次未能以正確角度著陸。」直覺機器公司是獲得美國國家航空暨太空總署（NASA）支持、要幫助美國重返月球的民間企業之一。一般認為，更多民間企業參與是成本較低、但風險較高的太空旅行方式。阿特姆斯表示，雅典娜號向地球回傳一些數據顯示，它並未以直立狀態著陸。他指出，來自慣性測量單元（IMU）的數據顯示登陸器有些側翻。他補充說：「IMU的測量，是讓我們清楚掌握狀況的數據之一…所以我們認為情況就是如此。」阿特姆斯認為，登陸器的著陸姿勢使發電產生問題，可能意味任務結果「在預料之外或者不符預期」，他還說，用來測量精準距離的雷射測距儀遇到一些「挑戰」。阿特姆斯表示，可能延後原訂明年進行的第3次登月任務，先等待公司旗下一顆通訊衛星部署完成。直覺機器公司高層試圖對整個事態發展做出正面解讀。該公司技術長克雷恩（Tim Crain）形容說，這次飛往月球的過程順利，且公司開發了更聰明的隕石坑識別演算法，「比我們預期的效果提升近一個層次」。克雷恩指出：「直覺機器公司載運大量貨物登月的前景一片光明。」',\n",
       " '中國宣布擴大排放交易體系（ETS），允諾將更多產業納入碳市場，作為遏止溫室氣體汙染更廣泛努力的一環。中國規劃年底將鋼鐵、鋁和水泥等產業納入碳市場，提高碳排控制。中國全國政協、人大會議（兩會）於4、5日相繼開幕。國務院總理李強5日於人大會議開幕式進行政府工作報告時指出，中國將積極穩妥推進碳達峰並達成碳中和，加快構建碳排放雙控制度體系，擴大全國碳排放權交易市場行業覆蓋范圍。李強指出，中國將開展碳排放統計核算，建立產品碳足跡管理體系、碳標識認證制度。另加快建設「沙戈荒」（沙漠、戈壁、荒漠）新能源基地、發展海上風電，開展煤電低碳化改造試點示範，規劃「應對氣候變化一攬子重大工程」。碳產業新聞網站Carbon Herald報導，目前中國的碳市場僅涵蓋發電廠，且自2021年中國啟動碳市場以來雖然交易量有所增加，但價格仍低於歐洲，從而不利限制主要的碳排放源。中國政府現規劃到2025年底將鋼鐵、鋁和水泥等生產商納入碳市場，確保碳市場能吸納到更多的全國碳排量。',\n",
       " '拿下2024年木蘭聯賽總冠軍的高雄先鋒女足隊，母企業柏文健康事業今天加碼宣布，將響應FIFA的TDS計畫，今年成立女足B隊打造預備軍，讓具潛力的女足新秀有更多發展空間。國際足球總會（FIFA）近期積極推動「人才發展計劃（Talent Development Scheme，TDS）」，主要想增強青年與青少年的競技能力，同時加強中華民國足球協會與全台各地方足球委員會的連結。柏文健康事業（健身工廠）今天舉行春酒園遊會，他們所入主的高雄先鋒女足隊全員到齊，總經理林洵賢致詞時表示，「我們預計今年成立女足B隊，招募15歲到大學年齡層的球員，讓有潛力的女性年輕球員獲得更多發展機會。」林洵賢強調，成立預備軍不僅拓展高雄女子足球儲備人才，更可提前感受到職業球隊的訓練環境與競技氛圍，提升球員的技術水準與比賽經驗，選訓將於3月23日正式啟動報名。因此高雄市體育會足球委員會選擇與高雄先鋒女足合作，從今年起推動女子足球TDS計畫，針對台灣U15到U18的女足球員進行訓練，同時提升青少年與青年教練的發展，擬定為期6個月的培訓計畫。',\n",
       " '台灣職籃P.LEAGUE+台北富邦勇士當家球星「野獸」林志傑今天傷癒歸隊，攻下15分，加上洋將金恩拿下生涯新高36分，率隊以114比110擊退獵鷹，收下2連勝。勇士上季無緣季後賽後，本季再度面臨考驗，「選秀狀元」莫巴耶去年10月底開幕戰傷退，當家球星「野獸」林志傑則在去年12月底對戰桃園璞園領航猿一役，轟下個人本季新高28分後，因膝傷高掛免戰牌，所幸2人都在今天歸隊，為勇士力拚季後賽增添利多。獵鷹今天在主場成功大學迎戰勇士，開賽從外圍發起攻勢，靠著4記三分球取得16比10領先，勇士的石博恩、賴廷恩隨即在外圍還以顏色。兩隊首節戰成30比30平手，勇士莫巴耶次節連續灌籃，帶動球隊進攻，半場結束率隊以55比53超前。獵鷹第3節一度取得6分領先，勇士靠著金恩（Nicholas King）撐起進攻端火力，加上林志傑挺身而出，第3節尾聲大轉身上籃，以及與陳又瑋後續4罰全中，幫助追球隊追成80比81。勇士的林志傑、洪楷傑決勝節連續命中三分，拉出一波8比0攻勢，重新取得領先，林志傑隨後更在倒數3分54秒補上一記打板三分球，將分差擴大至雙位數，而獵鷹洋將飛雷神（Branden Frazier）儘管後續連續在外線開火，最終仍無力回天。談到睽違2個多月重返賽場，林志傑接受轉播單位訪問時表示，還是有點不太熟悉，還需透過比賽持續找感覺。勇士在擊敗獵鷹後，戰績8勝8敗，重回5成勝率，林志傑認為，不只對戰獵鷹比賽，3月每場賽事對於球隊而言都很重要。勇士今天以金恩表現最佳，攻下生涯新高36分，外加8籃板，林志傑斬獲15分，同樣是復出首戰的莫巴耶也有11分入袋。至於獵鷹的鉑金（Nick Perkins）、飛雷神各得29分、21分。',\n",
       " 'HBL高中籃球聯賽衛冕軍北一女中今天靠著4人得分達雙位數，在4強首戰以79比75力退淡水商工，取得冠軍戰門票，同時終結淡商在小巨蛋12連勝。本季將挑戰校史首度連霸的北一女，今天在4強首戰面對重返台北小巨蛋的昔日霸主淡商，雙方上演激戰，北一女雖然在首節打完陷入小幅度落後，不過第2節隨即逆轉比分，帶著4分領先進入中場休息。易籃後，北一女仍維持領先位置，即便第4節遭遇對手強勢反撲，但依舊沒有自亂陣腳，靠著張善筑、彭郁榛輪番挺身而出，最後以4分之差取得比賽勝利，不僅如願搶下冠軍戰門票、有望力拚衛冕，同時斬斷淡商在小巨蛋12連勝。此役北一女共有4名球員得分達到雙位數，其中以王若妍攻下15分、8籃板、4抄截表現為最佳，隊長潘陳家姍挹注13分、7籃板、4抄截、3阻攻，有機會問鼎新人后的陳柔安貢獻12分，而關鍵時刻跳出來的彭郁榛則拿下10分。北一女教練駱燕萍賽後接受媒體聯訪時表示，8強階段球隊處於調整期、整體狀態不是很好，近期一直朝著自己心目中冠軍球隊模樣來帶隊，「雖然今天還是有一些不好的過程，但與8強不同的是，大家沒有讓分數快速流失，而且拚命搶防守籃板。」無緣爭冠的淡商此役團隊發生多達31次失誤，成為落敗主因，教練陳美莉也認為失誤是勝負的分水嶺，「可能球員太緊張，失誤太多也多給對手很多進攻機會。」',\n",
       " '松山高中今天在HBL總決賽男子組4強賽事中，以64比62擊敗光復高中，成功挺進冠軍戰。後衛劉程恩在關鍵時刻展現大心臟，靠著穩定罰球幫助球隊逆轉取勝。他笑說：「感謝隊友幫忙，沒有因為我的失誤而輸球。」高三的劉程恩這場比賽出賽39分鐘，繳出19分、9籃板、5助攻、5抄截全能表現。雖然全場19次出手僅命中4球，命中率僅21%，但他在罰球線上8罰7中，唯一的失誤甚至是故意不進。在賽後接受訪問時，劉程恩坦言開賽後投籃手感不佳，「但很感謝教練和隊友的信任，加上全隊防守表現出色，才讓我們有機會緊咬比分，最終完成逆轉。」比賽第4節還剩38秒時，光復高中因違反運動道德犯規，劉程恩獲得兩次罰球機會都穩穩罰進，將比分追近至1分差。然而，隨後他發生失誤讓光復獲得快攻機會，所幸對手未能把握。緊接著劉廷寬站上罰球線，兩罰全中助松山反超比數。終場前僅剩2.8秒，光復高中祭出犯規戰術，劉程恩再次站上罰球線，第一罰穩穩命中，第二罰則故意不進，成功讓對手無法進行最後一擊。劉程恩開心地回憶道：「教練和我對自己的罰球都很有信心，也成功穩穩罰進。沒想到當時出現一次失誤，讓對手有快攻機會，幸好隊友們不放棄，守住了局面。不然，那時候我跪在地上，真的以為會因為自己的失誤輸球。」松山順利挺進冠軍戰，劉程恩最後強調：「既然已經拼到這裡，明天無論對手是誰，我們都會全力以赴，把冠軍盃留在松山。」']"
      ]
     },
     "execution_count": 23,
     "metadata": {},
     "output_type": "execute_result"
    }
   ],
   "source": [
    "contents"
   ]
  },
  {
   "cell_type": "code",
   "execution_count": 24,
   "metadata": {},
   "outputs": [
    {
     "data": {
      "text/plain": [
       "['aipl_20250308_1',\n",
       " 'aipl_20250308_2',\n",
       " 'aipl_20250308_3',\n",
       " 'aipl_20250308_4',\n",
       " 'ait_20250307_1',\n",
       " 'ait_20250308_2',\n",
       " 'ait_20250307_3',\n",
       " 'ait_20250307_4',\n",
       " 'aspt_20250308_1',\n",
       " 'aspt_20250308_2',\n",
       " 'aspt_20250308_3',\n",
       " 'aspt_20250308_4']"
      ]
     },
     "execution_count": 24,
     "metadata": {},
     "output_type": "execute_result"
    }
   ],
   "source": [
    "item_id"
   ]
  },
  {
   "cell_type": "markdown",
   "metadata": {},
   "source": [
    "# Save data"
   ]
  },
  {
   "cell_type": "code",
   "execution_count": 25,
   "metadata": {},
   "outputs": [],
   "source": [
    "data = zip(item_id, dates, categories, titles, contents, links, photo_links)\n",
    "df = pd.DataFrame(list(data), columns=['item_id','date','category','title','content','link','photo_link'])"
   ]
  },
  {
   "cell_type": "code",
   "execution_count": 26,
   "metadata": {},
   "outputs": [
    {
     "data": {
      "text/html": [
       "<div>\n",
       "<style scoped>\n",
       "    .dataframe tbody tr th:only-of-type {\n",
       "        vertical-align: middle;\n",
       "    }\n",
       "\n",
       "    .dataframe tbody tr th {\n",
       "        vertical-align: top;\n",
       "    }\n",
       "\n",
       "    .dataframe thead th {\n",
       "        text-align: right;\n",
       "    }\n",
       "</style>\n",
       "<table border=\"1\" class=\"dataframe\">\n",
       "  <thead>\n",
       "    <tr style=\"text-align: right;\">\n",
       "      <th></th>\n",
       "      <th>item_id</th>\n",
       "      <th>date</th>\n",
       "      <th>category</th>\n",
       "      <th>title</th>\n",
       "      <th>content</th>\n",
       "      <th>link</th>\n",
       "      <th>photo_link</th>\n",
       "    </tr>\n",
       "  </thead>\n",
       "  <tbody>\n",
       "    <tr>\n",
       "      <th>0</th>\n",
       "      <td>aipl_20250308_1</td>\n",
       "      <td>2025-03-08</td>\n",
       "      <td>政治</td>\n",
       "      <td>美國務院指中國曲解聯大2758號決議 外交部誠摯感謝</td>\n",
       "      <td>美國國務院昨天指出，中國刻意濫用和扭曲聯大2758決議，是中國施壓行動的一環，意在將台灣孤立...</td>\n",
       "      <td>/news/aipl/202503080218.aspx</td>\n",
       "      <td>https://imgcdn.cna.com.tw/www/WebPhotos/200/20...</td>\n",
       "    </tr>\n",
       "    <tr>\n",
       "      <th>1</th>\n",
       "      <td>aipl_20250308_2</td>\n",
       "      <td>2025-03-08</td>\n",
       "      <td>政治</td>\n",
       "      <td>解析川普「4R」 林佳龍：台灣是非紅供應鏈關鍵角色</td>\n",
       "      <td>外交部長林佳龍指出，美國總統川普的性格特質可透過「4R」來理解，包括Reciprocity（...</td>\n",
       "      <td>/news/aipl/202503080214.aspx</td>\n",
       "      <td>https://imgcdn.cna.com.tw/www/WebPhotos/200/20...</td>\n",
       "    </tr>\n",
       "  </tbody>\n",
       "</table>\n",
       "</div>"
      ],
      "text/plain": [
       "           item_id        date category                       title  \\\n",
       "0  aipl_20250308_1  2025-03-08       政治  美國務院指中國曲解聯大2758號決議 外交部誠摯感謝   \n",
       "1  aipl_20250308_2  2025-03-08       政治   解析川普「4R」 林佳龍：台灣是非紅供應鏈關鍵角色   \n",
       "\n",
       "                                             content  \\\n",
       "0  美國國務院昨天指出，中國刻意濫用和扭曲聯大2758決議，是中國施壓行動的一環，意在將台灣孤立...   \n",
       "1  外交部長林佳龍指出，美國總統川普的性格特質可透過「4R」來理解，包括Reciprocity（...   \n",
       "\n",
       "                           link  \\\n",
       "0  /news/aipl/202503080218.aspx   \n",
       "1  /news/aipl/202503080214.aspx   \n",
       "\n",
       "                                          photo_link  \n",
       "0  https://imgcdn.cna.com.tw/www/WebPhotos/200/20...  \n",
       "1  https://imgcdn.cna.com.tw/www/WebPhotos/200/20...  "
      ]
     },
     "execution_count": 26,
     "metadata": {},
     "output_type": "execute_result"
    }
   ],
   "source": [
    "df.head(2)"
   ]
  },
  {
   "cell_type": "code",
   "execution_count": 27,
   "metadata": {},
   "outputs": [
    {
     "data": {
      "text/plain": [
       "(12, 7)"
      ]
     },
     "execution_count": 27,
     "metadata": {},
     "output_type": "execute_result"
    }
   ],
   "source": [
    "df.shape"
   ]
  },
  {
   "cell_type": "code",
   "execution_count": 28,
   "metadata": {},
   "outputs": [
    {
     "data": {
      "text/plain": [
       "'美國國務院昨天指出，中國刻意濫用和扭曲聯大2758決議，是中國施壓行動的一環，意在將台灣孤立於國際社會。外交部今天表示，美國充分彰顯歷來對此議題所採取的一貫堅定立場，對此表達誠摯感謝。中國外交部長王毅7日稱，聯合國大會第2758號決議已徹底解決包括台灣在內全中國在聯合國的代表權問題，台灣在聯合國的唯一稱謂就是「中國台灣省」，台灣從來不是一個國家，過去不是，今後更絕無可能。美國國務院一名發言人美東時間7日對中央社指出，刻意誤用和曲解聯合國大會第2758號決議，是中國施壓行動一環，目的是使台灣孤立於國際社會。外交部表示，聯大第2758號決議僅決定中國在聯合國代表權的歸屬，全文未曾提及台灣，也未認定台灣是中華人民共和國的一部分，更未授權中華人民共和國在聯合國代表台灣。外交部指出，部長林佳龍已多次在各種不同場合強調前述客觀事實，尤其指出聯大第2758號決議並未涉及或排除台灣參加國際組織的權利，這也是許多民主國家的共識；除美國外，英國、瑞典、荷蘭、澳大利亞、加拿大、匈牙利、比利時、瓜地馬拉等國的行政或立法部門，以及歐盟執委會與歐洲議會等，都已公開表示相同的立場，並力挺台灣。外交部呼籲中方認清現實，台灣是主權獨立國家，與中華人民共和國互不隸屬，有權與各國交往，更何況參與國際組織是全體台灣人民的正當權利，中國無權置喙。外交部指出，對於中國企圖將台灣問題「內政化」，片面改變台海現狀，為其未來武力犯台建構法理基礎的野心，予以嚴正譴責，並呼籲國際社會持續以具體行動加以反制，駁斥中國所謂「一中原則」已是國際共識的謬論，台灣將繼續與理念相近國家共同合作，維護台海及印太地區的和平、穩定及繁榮。'"
      ]
     },
     "execution_count": 28,
     "metadata": {},
     "output_type": "execute_result"
    }
   ],
   "source": [
    "df.content[0]"
   ]
  },
  {
   "cell_type": "code",
   "execution_count": 29,
   "metadata": {},
   "outputs": [],
   "source": [
    "df.to_csv(\"cna_category_news.csv\", sep=\"|\", index=False)"
   ]
  },
  {
   "cell_type": "code",
   "execution_count": 30,
   "metadata": {},
   "outputs": [
    {
     "data": {
      "text/plain": [
       "['https://imgcdn.cna.com.tw/www/WebPhotos/200/20250308/1200x744_236214943764.jpg',\n",
       " 'https://imgcdn.cna.com.tw/www/WebPhotos/200/20250308/1200x775_265738111916.jpg',\n",
       " 'https://imgcdn.cna.com.tw/www/WebPhotos/200/20240419/1984x1488_wmky_27799879179_0.jpg',\n",
       " 'https://imgcdn.cna.com.tw/www/WebPhotos/200/20250308/1152x768_wmkn_0_C20250308000154.jpg',\n",
       " 'https://imgcdn.cna.com.tw/www/webphotos/WebCover/420/20250307/800x600_689221744159.jpg',\n",
       " '',\n",
       " '',\n",
       " '',\n",
       " 'https://imgcdn.cna.com.tw/www/WebPhotos/200/20250308/1426x768_wmkn_0_C20250308000173.jpg',\n",
       " 'https://imgcdn.cna.com.tw/www/WebPhotos/200/20250308/1024x768_wmkn_0_C20250308000157.jpg',\n",
       " 'https://imgcdn.cna.com.tw/www/WebPhotos/200/20250308/1200x837_wmky_936923128254_202503080150000000.jpg',\n",
       " 'https://imgcdn.cna.com.tw/www/WebPhotos/200/20250308/1200x981_wmky_959023812487_202503080120000000.jpg']"
      ]
     },
     "execution_count": 30,
     "metadata": {},
     "output_type": "execute_result"
    }
   ],
   "source": [
    "photo_links"
   ]
  },
  {
   "cell_type": "code",
   "execution_count": null,
   "metadata": {},
   "outputs": [],
   "source": []
  }
 ],
 "metadata": {
  "kernelspec": {
   "display_name": "base",
   "language": "python",
   "name": "python3"
  },
  "language_info": {
   "codemirror_mode": {
    "name": "ipython",
    "version": 3
   },
   "file_extension": ".py",
   "mimetype": "text/x-python",
   "name": "python",
   "nbconvert_exporter": "python",
   "pygments_lexer": "ipython3",
   "version": "3.9.18"
  },
  "toc": {
   "base_numbering": 1,
   "nav_menu": {},
   "number_sections": true,
   "sideBar": true,
   "skip_h1_title": false,
   "title_cell": "Table of Contents",
   "title_sidebar": "Contents",
   "toc_cell": false,
   "toc_position": {},
   "toc_section_display": true,
   "toc_window_display": false
  }
 },
 "nbformat": 4,
 "nbformat_minor": 2
}
