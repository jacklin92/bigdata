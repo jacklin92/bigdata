{
 "cells": [
  {
   "cell_type": "markdown",
   "metadata": {},
   "source": [
    "# Full text search and keyword association analysis\n",
    "\n",
    "全文檢索與關聯分析"
   ]
  },
  {
   "cell_type": "markdown",
   "metadata": {},
   "source": [
    "# Load preprocessed news dataset"
   ]
  },
  {
   "cell_type": "code",
   "execution_count": 1,
   "metadata": {},
   "outputs": [],
   "source": [
    "import pandas as pd"
   ]
  },
  {
   "cell_type": "code",
   "execution_count": 2,
   "metadata": {},
   "outputs": [],
   "source": [
    "df = pd.read_csv('cna_news_preprocessed.csv',sep='|')"
   ]
  },
  {
   "cell_type": "code",
   "execution_count": 3,
   "metadata": {},
   "outputs": [
    {
     "data": {
      "text/html": [
       "<div>\n",
       "<style scoped>\n",
       "    .dataframe tbody tr th:only-of-type {\n",
       "        vertical-align: middle;\n",
       "    }\n",
       "\n",
       "    .dataframe tbody tr th {\n",
       "        vertical-align: top;\n",
       "    }\n",
       "\n",
       "    .dataframe thead th {\n",
       "        text-align: right;\n",
       "    }\n",
       "</style>\n",
       "<table border=\"1\" class=\"dataframe\">\n",
       "  <thead>\n",
       "    <tr style=\"text-align: right;\">\n",
       "      <th></th>\n",
       "      <th>item_id</th>\n",
       "      <th>date</th>\n",
       "      <th>category</th>\n",
       "      <th>title</th>\n",
       "      <th>content</th>\n",
       "      <th>sentiment</th>\n",
       "      <th>summary</th>\n",
       "      <th>top_key_freq</th>\n",
       "      <th>tokens</th>\n",
       "      <th>tokens_v2</th>\n",
       "      <th>entities</th>\n",
       "      <th>token_pos</th>\n",
       "      <th>link</th>\n",
       "      <th>photo_link</th>\n",
       "    </tr>\n",
       "  </thead>\n",
       "  <tbody>\n",
       "    <tr>\n",
       "      <th>0</th>\n",
       "      <td>aipl_20220314_1</td>\n",
       "      <td>2022-03-14</td>\n",
       "      <td>政治</td>\n",
       "      <td>外交部援烏物資已募4000箱 吳釗燮感謝捐贈民眾</td>\n",
       "      <td>民眾捐贈烏克蘭的愛心物資持續湧入外交部，截至今天傍晚累計已收到約4000箱，外交部長吳釗燮中...</td>\n",
       "      <td>0.01</td>\n",
       "      <td>['外交部除感謝熱心民眾踴躍捐贈援助烏克蘭人道物資外', '親赴外交部捐贈物資的民眾約173...</td>\n",
       "      <td>[('外交部', 14), ('民眾', 7), ('物資', 7), ('烏克蘭', 5)...</td>\n",
       "      <td>['民眾', '捐贈', '烏克蘭', '的', '愛心', '物資', '持續', '湧入...</td>\n",
       "      <td>['民眾', '烏克蘭', '愛心', '物資', '外交部', '收到', '外交部長',...</td>\n",
       "      <td>[NerToken(word='烏克蘭', ner='GPE', idx=(4, 7)), ...</td>\n",
       "      <td>[('民眾', 'Na'), ('捐贈', 'VD'), ('烏克蘭', 'Nc'), ('...</td>\n",
       "      <td>https://www.cna.com.tw/news/aipl/202203140364....</td>\n",
       "      <td>https://imgcdn.cna.com.tw/www/WebPhotos/200/20...</td>\n",
       "    </tr>\n",
       "  </tbody>\n",
       "</table>\n",
       "</div>"
      ],
      "text/plain": [
       "           item_id        date category                     title  \\\n",
       "0  aipl_20220314_1  2022-03-14       政治  外交部援烏物資已募4000箱 吳釗燮感謝捐贈民眾   \n",
       "\n",
       "                                             content  sentiment  \\\n",
       "0  民眾捐贈烏克蘭的愛心物資持續湧入外交部，截至今天傍晚累計已收到約4000箱，外交部長吳釗燮中...       0.01   \n",
       "\n",
       "                                             summary  \\\n",
       "0  ['外交部除感謝熱心民眾踴躍捐贈援助烏克蘭人道物資外', '親赴外交部捐贈物資的民眾約173...   \n",
       "\n",
       "                                        top_key_freq  \\\n",
       "0  [('外交部', 14), ('民眾', 7), ('物資', 7), ('烏克蘭', 5)...   \n",
       "\n",
       "                                              tokens  \\\n",
       "0  ['民眾', '捐贈', '烏克蘭', '的', '愛心', '物資', '持續', '湧入...   \n",
       "\n",
       "                                           tokens_v2  \\\n",
       "0  ['民眾', '烏克蘭', '愛心', '物資', '外交部', '收到', '外交部長',...   \n",
       "\n",
       "                                            entities  \\\n",
       "0  [NerToken(word='烏克蘭', ner='GPE', idx=(4, 7)), ...   \n",
       "\n",
       "                                           token_pos  \\\n",
       "0  [('民眾', 'Na'), ('捐贈', 'VD'), ('烏克蘭', 'Nc'), ('...   \n",
       "\n",
       "                                                link  \\\n",
       "0  https://www.cna.com.tw/news/aipl/202203140364....   \n",
       "\n",
       "                                          photo_link  \n",
       "0  https://imgcdn.cna.com.tw/www/WebPhotos/200/20...  "
      ]
     },
     "execution_count": 3,
     "metadata": {},
     "output_type": "execute_result"
    }
   ],
   "source": [
    "df.head(1)"
   ]
  },
  {
   "cell_type": "markdown",
   "metadata": {},
   "source": [
    "# Filter data by searching keywords from \"content\" column"
   ]
  },
  {
   "cell_type": "markdown",
   "metadata": {},
   "source": [
    "## \"in\" is very powerful"
   ]
  },
  {
   "cell_type": "code",
   "execution_count": 4,
   "metadata": {},
   "outputs": [
    {
     "data": {
      "text/plain": [
       "'民眾捐贈烏克蘭的愛心物資持續湧入外交部，截至今天傍晚累計已收到約4000箱，外交部長吳釗燮中午親自到現場為協助整理物資的志工加油，並對捐贈民眾表達感謝。外交部晚間發布新聞稿指出，外交部從7日開始向民間募集捐贈烏克蘭難民的物資，獲得熱烈響應，親赴外交部捐贈物資的民眾約1730人，加上郵寄包裹，目前約已收到4000箱物資，品項以醫療口罩、毛毯、女性衛生用品、尿片、餅乾等為主，募集活動將持續到18日。外交部表示，為了感謝捐贈民眾，與在現場辛苦分類整理的志工、外交部人員，吳釗燮今天中午特別前往外交部西側門地下停車場視察，吳釗燮與在場的慈濟等民間慈善組織志工，以及其他自發到場幫忙的善心人士親切互動，對於也有烏克蘭旅台人士自願擔任義工在現場協助，吳釗燮特別致意慰問。根據外交部提供的照片，到場幫忙的烏克蘭志工是極為關心家鄉情勢的網紅佳娜。外交部再度提醒有意捐贈物資的民眾，捐贈物品請依照外交部網站所公布的清單為限，切勿捐贈或郵寄二手物品或衣物。送到外交部的捐贈物品務必為全新物品、未拆封包裝、有效期至少6個月以上，以免造成整理及後續轉運捐贈的困擾。募集截止時間是3月18日下午5時以前，民眾可以用面送或郵寄清單所列的20類物品及 14 類藥品至外交部。外交部除感謝熱心民眾踴躍捐贈援助烏克蘭人道物資外，也感謝許多志工義務幫忙、貢獻己力。外交部對各界人士奉獻時間與精神投入國際人道援助，表達最高的敬意。'"
      ]
     },
     "execution_count": 4,
     "metadata": {},
     "output_type": "execute_result"
    }
   ],
   "source": [
    "df.content[0]"
   ]
  },
  {
   "cell_type": "code",
   "execution_count": 5,
   "metadata": {},
   "outputs": [
    {
     "data": {
      "text/plain": [
       "True"
      ]
     },
     "execution_count": 5,
     "metadata": {},
     "output_type": "execute_result"
    }
   ],
   "source": [
    "qk = '外交部長吳釗燮'\n",
    "text = df.content[0]\n",
    "qk in text"
   ]
  },
  {
   "cell_type": "code",
   "execution_count": 6,
   "metadata": {},
   "outputs": [
    {
     "data": {
      "text/plain": [
       "False"
      ]
     },
     "execution_count": 6,
     "metadata": {},
     "output_type": "execute_result"
    }
   ],
   "source": [
    "qk = '居家自主健康管理'\n",
    "text = df.content[0]\n",
    "qk in text"
   ]
  },
  {
   "cell_type": "code",
   "execution_count": 7,
   "metadata": {},
   "outputs": [
    {
     "data": {
      "text/plain": [
       "True"
      ]
     },
     "execution_count": 7,
     "metadata": {},
     "output_type": "execute_result"
    }
   ],
   "source": [
    "qk = '捐贈烏克蘭'\n",
    "text = df.content[0]\n",
    "qk in text"
   ]
  },
  {
   "cell_type": "code",
   "execution_count": 8,
   "metadata": {},
   "outputs": [
    {
     "data": {
      "text/plain": [
       "True"
      ]
     },
     "execution_count": 8,
     "metadata": {},
     "output_type": "execute_result"
    }
   ],
   "source": [
    "qk = '外交部'\n",
    "text = df.content[0]\n",
    "qk in text"
   ]
  },
  {
   "cell_type": "markdown",
   "metadata": {},
   "source": [
    "### all() any()"
   ]
  },
  {
   "cell_type": "code",
   "execution_count": 9,
   "metadata": {},
   "outputs": [
    {
     "data": {
      "text/plain": [
       "True"
      ]
     },
     "execution_count": 9,
     "metadata": {},
     "output_type": "execute_result"
    }
   ],
   "source": [
    "user_keywords = ['捐贈烏克蘭','外交部']\n",
    "text = df.content[0]\n",
    "all((qk in text) for qk in user_keywords)"
   ]
  },
  {
   "cell_type": "code",
   "execution_count": 10,
   "metadata": {},
   "outputs": [
    {
     "data": {
      "text/plain": [
       "False"
      ]
     },
     "execution_count": 10,
     "metadata": {},
     "output_type": "execute_result"
    }
   ],
   "source": [
    "user_keywords = ['肺炎疫情全球延燒','居家自主健康管理']\n",
    "text = df.content[0]\n",
    "any((qk in text) for qk in user_keywords)"
   ]
  },
  {
   "cell_type": "code",
   "execution_count": 11,
   "metadata": {},
   "outputs": [
    {
     "data": {
      "text/plain": [
       "True"
      ]
     },
     "execution_count": 11,
     "metadata": {},
     "output_type": "execute_result"
    }
   ],
   "source": [
    "user_keywords = ['烏克蘭戰爭','外交部']\n",
    "text = df.content[0]\n",
    "any((qk in text) for qk in user_keywords)"
   ]
  },
  {
   "cell_type": "markdown",
   "metadata": {},
   "source": [
    "### Using apply() and lambda function"
   ]
  },
  {
   "cell_type": "code",
   "execution_count": 12,
   "metadata": {},
   "outputs": [
    {
     "data": {
      "text/plain": [
       "0       True\n",
       "1      False\n",
       "2      False\n",
       "3      False\n",
       "4      False\n",
       "       ...  \n",
       "208    False\n",
       "209    False\n",
       "210    False\n",
       "211    False\n",
       "212    False\n",
       "Name: content, Length: 213, dtype: bool"
      ]
     },
     "execution_count": 12,
     "metadata": {},
     "output_type": "execute_result"
    }
   ],
   "source": [
    "# Use apply() and lambda function\n",
    "user_keywords = ['捐贈烏克蘭','外交部']\n",
    "df.content.apply(lambda text: all((qk in text) for qk in user_keywords))"
   ]
  },
  {
   "cell_type": "code",
   "execution_count": null,
   "metadata": {},
   "outputs": [],
   "source": []
  },
  {
   "cell_type": "markdown",
   "metadata": {},
   "source": [
    "# Filter data using the following function"
   ]
  },
  {
   "cell_type": "code",
   "execution_count": 13,
   "metadata": {},
   "outputs": [],
   "source": [
    "from datetime import datetime, timedelta"
   ]
  },
  {
   "cell_type": "code",
   "execution_count": 14,
   "metadata": {},
   "outputs": [],
   "source": [
    "from datetime import datetime, timedelta\n",
    "# Searching keywords from \"content\" column\n",
    "# Here this function uses df.content column, while filter_dataFrame() uses df.tokens_v2\n",
    "def filter_dataFrame_fullText(user_keywords, cond, cate, weeks):\n",
    "\n",
    "    # end date: the date of the latest record of news\n",
    "    end_date = df.date.max()\n",
    "    \n",
    "    # start date\n",
    "    start_date = (datetime.strptime(end_date, '%Y-%m-%d').date() - timedelta(weeks=weeks)).strftime('%Y-%m-%d')\n",
    "\n",
    "    # (1) proceed filtering: a duration of a period of time\n",
    "    # 期間條件\n",
    "    period_condition = (df.date >= start_date) & (df.date <= end_date) \n",
    "    \n",
    "    # (2) proceed filtering: news category\n",
    "    # 新聞類別條件\n",
    "    if (cate == \"全部\"):\n",
    "        condition = period_condition  # \"全部\"類別不必過濾新聞種類\n",
    "    else:\n",
    "        # category新聞類別條件\n",
    "        condition = period_condition & (df.category == cate)\n",
    "\n",
    "    # (3) proceed filtering: keywords \n",
    "    # and or 條件\n",
    "    if (cond == 'and'):\n",
    "        # query keywords condition使用者輸入關鍵字條件and\n",
    "        condition = condition & df.content.apply(lambda text: all((qk in text) for qk in user_keywords)) #寫法:all()\n",
    "    elif (cond == 'or'):\n",
    "        # query keywords condition使用者輸入關鍵字條件\n",
    "        condition = condition & df.content.apply(lambda text: any((qk in text) for qk in user_keywords)) #寫法:any()\n",
    "    # condiction is a list of True or False boolean value\n",
    "    df_query = df[condition]\n",
    "\n",
    "    return df_query\n"
   ]
  },
  {
   "cell_type": "code",
   "execution_count": 15,
   "metadata": {},
   "outputs": [],
   "source": [
    "# Searching keywords from \"content\" column\n",
    "# Here this function uses df.content column, while filter_dataFrame() uses df.tokens_v2\n",
    "def filter_dataFrame_fullText_v0(user_keywords, cond, cate, weeks):\n",
    "\n",
    "    # end date: the date of the latest record of news\n",
    "    end_date = df.date.max()\n",
    "    \n",
    "    # start date\n",
    "    start_date = (datetime.strptime(end_date, '%Y-%m-%d').date() - timedelta(weeks=weeks)).strftime('%Y-%m-%d')\n",
    "\n",
    "    # proceed filtering\n",
    "    if (cate == \"全部\") & (cond == 'and'):\n",
    "        df_query = df[(df.date >= start_date) & (df.date <= end_date) \n",
    "            & df.content.apply(lambda text: all((qk in text) for qk in user_keywords))]\n",
    "    elif (cate == \"全部\") & (cond == 'or'):\n",
    "        df_query = df[(df['date'] >= start_date) & (df['date'] <= end_date) \n",
    "            & df.content.apply(lambda text: any((qk in text) for qk in user_keywords))]\n",
    "    elif (cond == 'and'):\n",
    "        df_query = df[(df.category == cate) \n",
    "            & (df.date >= start_date) & (df.date <= end_date) \n",
    "            & df.content.apply(lambda text: all((qk in text) for qk in user_keywords))]\n",
    "    elif (cond == 'or'):\n",
    "        df_query = df[(df.category == cate) \n",
    "            & (df['date'] >= start_date) & (df['date'] <= end_date) \n",
    "            & df.content.apply(lambda text: any((qk in text) for qk in user_keywords))]\n",
    "\n",
    "    return df_query"
   ]
  },
  {
   "cell_type": "code",
   "execution_count": 16,
   "metadata": {},
   "outputs": [
    {
     "data": {
      "text/plain": [
       "(1, 14)"
      ]
     },
     "execution_count": 16,
     "metadata": {},
     "output_type": "execute_result"
    }
   ],
   "source": [
    "user_keywords = ['捐贈烏克蘭','外交部']\n",
    "cond='and'\n",
    "cate='全部'\n",
    "weeks=2\n",
    "\n",
    "df_query = filter_dataFrame_fullText(user_keywords, cond, cate,weeks)\n",
    "df_query.shape"
   ]
  },
  {
   "cell_type": "code",
   "execution_count": 17,
   "metadata": {},
   "outputs": [
    {
     "data": {
      "text/plain": [
       "(23, 14)"
      ]
     },
     "execution_count": 17,
     "metadata": {},
     "output_type": "execute_result"
    }
   ],
   "source": [
    "user_keywords = ['烏克蘭']\n",
    "cond='and'\n",
    "cate='全部'\n",
    "weeks=2\n",
    "\n",
    "df_query = filter_dataFrame_fullText(user_keywords, cond, cate,weeks)\n",
    "df_query.shape"
   ]
  },
  {
   "cell_type": "markdown",
   "metadata": {
    "toc-hr-collapsed": true
   },
   "source": [
    "# Get news title, category, and link"
   ]
  },
  {
   "cell_type": "code",
   "execution_count": 18,
   "metadata": {},
   "outputs": [
    {
     "data": {
      "text/plain": [
       "6"
      ]
     },
     "execution_count": 18,
     "metadata": {},
     "output_type": "execute_result"
    }
   ],
   "source": [
    "user_keywords = ['疫情','疫苗']\n",
    "cond='and'\n",
    "cate='全部'\n",
    "weeks=2\n",
    "df_query = filter_dataFrame_fullText(user_keywords, cond, cate, weeks)\n",
    "len(df_query)"
   ]
  },
  {
   "cell_type": "code",
   "execution_count": 19,
   "metadata": {},
   "outputs": [
    {
     "data": {
      "text/html": [
       "<div>\n",
       "<style scoped>\n",
       "    .dataframe tbody tr th:only-of-type {\n",
       "        vertical-align: middle;\n",
       "    }\n",
       "\n",
       "    .dataframe tbody tr th {\n",
       "        vertical-align: top;\n",
       "    }\n",
       "\n",
       "    .dataframe thead th {\n",
       "        text-align: right;\n",
       "    }\n",
       "</style>\n",
       "<table border=\"1\" class=\"dataframe\">\n",
       "  <thead>\n",
       "    <tr style=\"text-align: right;\">\n",
       "      <th></th>\n",
       "      <th>item_id</th>\n",
       "      <th>date</th>\n",
       "      <th>category</th>\n",
       "      <th>title</th>\n",
       "      <th>content</th>\n",
       "      <th>sentiment</th>\n",
       "      <th>summary</th>\n",
       "      <th>top_key_freq</th>\n",
       "      <th>tokens</th>\n",
       "      <th>tokens_v2</th>\n",
       "      <th>entities</th>\n",
       "      <th>token_pos</th>\n",
       "      <th>link</th>\n",
       "      <th>photo_link</th>\n",
       "    </tr>\n",
       "  </thead>\n",
       "  <tbody>\n",
       "    <tr>\n",
       "      <th>137</th>\n",
       "      <td>ahel_20220314_18</td>\n",
       "      <td>2022-03-14</td>\n",
       "      <td>生活</td>\n",
       "      <td>陳時中：國門解封戒慎不恐懼  檢疫10天應該安全</td>\n",
       "      <td>邊境管制3月7日起鬆綁，指揮中心指揮官陳時中今天說，入境檢疫10天應該安全，現在談全面解封言...</td>\n",
       "      <td>0.0</td>\n",
       "      <td>['台灣3月7日起將入境檢疫期縮短至10天', '中央流行疫情指揮中心指揮官陳時中今天在記者...</td>\n",
       "      <td>[('陳時中', 7), ('解封', 5), ('疫情', 4), ('檢疫期', 3),...</td>\n",
       "      <td>['邊境', '管制', '3月', '7日', '起', '鬆綁', '，', '指揮',...</td>\n",
       "      <td>['邊境', '鬆綁', '指揮', '中心', '指揮官', '陳時中', '入境', '...</td>\n",
       "      <td>[NerToken(word='3月7日', ner='DATE', idx=(4, 8))...</td>\n",
       "      <td>[('邊境', 'Nc'), ('管制', 'Nv'), ('3月', 'Nd'), ('7...</td>\n",
       "      <td>https://www.cna.com.tw/news/ahel/202203140235....</td>\n",
       "      <td>NaN</td>\n",
       "    </tr>\n",
       "    <tr>\n",
       "      <th>197</th>\n",
       "      <td>acn_20220314_5</td>\n",
       "      <td>2022-03-14</td>\n",
       "      <td>兩岸</td>\n",
       "      <td>香港確診增2.7萬例 本波死亡人數逾4千</td>\n",
       "      <td>香港今天新增COVID-19陽性病例2萬6908例，其中核酸確診1萬2040例，其餘1萬48...</td>\n",
       "      <td>1.0</td>\n",
       "      <td>['其中默沙東藥廠的口服藥已開始處方給指定診所及安老院患者等', '首批輝瑞口服藥也會於今日...</td>\n",
       "      <td>[('香港', 6), ('疫情', 6), ('死亡率', 6), ('疫苗', 5), ...</td>\n",
       "      <td>['香港', '今天', '新增', 'COVID-19', '陽性', '病例', '2萬...</td>\n",
       "      <td>['香港', '陽性', '病例', '核酸', '確診', '快篩', '陽性', '疫情...</td>\n",
       "      <td>[NerToken(word='香港', ner='GPE', idx=(0, 2)), N...</td>\n",
       "      <td>[('香港', 'Nc'), ('今天', 'Nd'), ('新增', 'VJ'), ('C...</td>\n",
       "      <td>https://www.cna.com.tw/news/acn/202203140291.aspx</td>\n",
       "      <td>NaN</td>\n",
       "    </tr>\n",
       "    <tr>\n",
       "      <th>202</th>\n",
       "      <td>acn_20220314_10</td>\n",
       "      <td>2022-03-14</td>\n",
       "      <td>兩岸</td>\n",
       "      <td>香港疫情死亡率超英美韓星 專家：可預見的悲劇</td>\n",
       "      <td>香港第5波疫情死亡率超越英美韓星。香港大學專家分析，香港居住環境擠迫、無法將安老院與社區分隔...</td>\n",
       "      <td>1.0</td>\n",
       "      <td>['香港居住環境擠迫、無法將安老院與社區分隔、長者疫苗接種率低及公營醫療資源不足', '但可...</td>\n",
       "      <td>[('香港', 16), ('疫情', 10), ('長者', 9), ('死亡率', 7)...</td>\n",
       "      <td>['香港', '第5', '波', '疫情', '死亡率', '超越', '英', '美',...</td>\n",
       "      <td>['香港', '疫情', '死亡率', '超越', '韓星', '香港', '大學', '專...</td>\n",
       "      <td>[NerToken(word='第5', ner='ORDINAL', idx=(2, 4)...</td>\n",
       "      <td>[('香港', 'Nc'), ('第5', 'Neu'), ('波', 'Nf'), ('疫...</td>\n",
       "      <td>https://www.cna.com.tw/news/acn/202203140181.aspx</td>\n",
       "      <td>NaN</td>\n",
       "    </tr>\n",
       "    <tr>\n",
       "      <th>206</th>\n",
       "      <td>acn_20220314_14</td>\n",
       "      <td>2022-03-14</td>\n",
       "      <td>兩岸</td>\n",
       "      <td>專家：香港疫情再橫行2至3週 清零有難度</td>\n",
       "      <td>香港最近的COVID-19單日確診仍處於約3萬例的高點，香港中文大學專家今天說，推算疫情會於...</td>\n",
       "      <td>0.0</td>\n",
       "      <td>['5月底至6月初每天確診病例才有望回落至約1000例', '5月底至6月每天確診病例才有望...</td>\n",
       "      <td>[('香港', 5), ('疫情', 4), ('確診', 4), ('病例', 4), (...</td>\n",
       "      <td>['香港', '最近', '的', 'COVID-19', '單日', '確診', '仍',...</td>\n",
       "      <td>['香港', '高點', '香港', '中文', '大學', '專家', '推算', '疫情...</td>\n",
       "      <td>[NerToken(word='香港', ner='GPE', idx=(0, 2)), N...</td>\n",
       "      <td>[('香港', 'Nc'), ('最近', 'Nd'), ('的', 'DE'), ('CO...</td>\n",
       "      <td>https://www.cna.com.tw/news/acn/202203140112.aspx</td>\n",
       "      <td>NaN</td>\n",
       "    </tr>\n",
       "    <tr>\n",
       "      <th>209</th>\n",
       "      <td>acn_20220314_17</td>\n",
       "      <td>2022-03-14</td>\n",
       "      <td>兩岸</td>\n",
       "      <td>阻疫情 香港擬上門為長者殘障人士施打疫苗</td>\n",
       "      <td>香港的COVID-19（2019冠狀病毒疾病）疫情嚴峻，官員表示，考慮擴大家居接種服務，上門...</td>\n",
       "      <td>0.0</td>\n",
       "      <td>['估計約有5萬名獨居長者或殘障人士需要家居接種服務', '本月下旬將上門為不曾接種疫苗的居...</td>\n",
       "      <td>[('香港', 7), ('人士', 6), ('施打', 6), ('疫苗', 6), (...</td>\n",
       "      <td>['香港', '的', 'COVID-19', '（', '2019', '冠狀病毒', '...</td>\n",
       "      <td>['香港', '冠狀病毒', '疾病', '疫情', '官員', '擴大', '接種', '...</td>\n",
       "      <td>[NerToken(word='香港', ner='GPE', idx=(0, 2)), N...</td>\n",
       "      <td>[('香港', 'Nc'), ('的', 'DE'), ('COVID-19', 'FW')...</td>\n",
       "      <td>https://www.cna.com.tw/news/acn/202203140064.aspx</td>\n",
       "      <td>NaN</td>\n",
       "    </tr>\n",
       "    <tr>\n",
       "      <th>211</th>\n",
       "      <td>acn_20220314_19</td>\n",
       "      <td>2022-03-14</td>\n",
       "      <td>兩岸</td>\n",
       "      <td>中國為何堅持疫情清零  專家指醫療資源不足不均</td>\n",
       "      <td>中國抗疫專家張文宏解釋為何中國當前對疫情仍須堅持「社會面清零」，因為各地無論是心理上還是社會...</td>\n",
       "      <td>0.0</td>\n",
       "      <td>['為何中國人已經接種了這沒多疫苗還不能「躺平」（放任不管）', '「但是有事的絕大多數都是...</td>\n",
       "      <td>[('中國', 14), ('疫苗', 13), ('接種', 7), ('疫情', 6),...</td>\n",
       "      <td>['中國', '抗疫', '專家', '張文宏', '解釋', '為何', '中國', '當...</td>\n",
       "      <td>['中國', '專家', '張文宏', '中國', '疫情', '社會面', '心理', '...</td>\n",
       "      <td>[NerToken(word='中國', ner='GPE', idx=(0, 2)), N...</td>\n",
       "      <td>[('中國', 'Nc'), ('抗疫', 'VJ'), ('專家', 'Na'), ('張...</td>\n",
       "      <td>https://www.cna.com.tw/news/acn/202203140027.aspx</td>\n",
       "      <td>NaN</td>\n",
       "    </tr>\n",
       "  </tbody>\n",
       "</table>\n",
       "</div>"
      ],
      "text/plain": [
       "              item_id        date category                     title  \\\n",
       "137  ahel_20220314_18  2022-03-14       生活  陳時中：國門解封戒慎不恐懼  檢疫10天應該安全   \n",
       "197    acn_20220314_5  2022-03-14       兩岸      香港確診增2.7萬例 本波死亡人數逾4千   \n",
       "202   acn_20220314_10  2022-03-14       兩岸    香港疫情死亡率超英美韓星 專家：可預見的悲劇   \n",
       "206   acn_20220314_14  2022-03-14       兩岸      專家：香港疫情再橫行2至3週 清零有難度   \n",
       "209   acn_20220314_17  2022-03-14       兩岸      阻疫情 香港擬上門為長者殘障人士施打疫苗   \n",
       "211   acn_20220314_19  2022-03-14       兩岸   中國為何堅持疫情清零  專家指醫療資源不足不均   \n",
       "\n",
       "                                               content  sentiment  \\\n",
       "137  邊境管制3月7日起鬆綁，指揮中心指揮官陳時中今天說，入境檢疫10天應該安全，現在談全面解封言...        0.0   \n",
       "197  香港今天新增COVID-19陽性病例2萬6908例，其中核酸確診1萬2040例，其餘1萬48...        1.0   \n",
       "202  香港第5波疫情死亡率超越英美韓星。香港大學專家分析，香港居住環境擠迫、無法將安老院與社區分隔...        1.0   \n",
       "206  香港最近的COVID-19單日確診仍處於約3萬例的高點，香港中文大學專家今天說，推算疫情會於...        0.0   \n",
       "209  香港的COVID-19（2019冠狀病毒疾病）疫情嚴峻，官員表示，考慮擴大家居接種服務，上門...        0.0   \n",
       "211  中國抗疫專家張文宏解釋為何中國當前對疫情仍須堅持「社會面清零」，因為各地無論是心理上還是社會...        0.0   \n",
       "\n",
       "                                               summary  \\\n",
       "137  ['台灣3月7日起將入境檢疫期縮短至10天', '中央流行疫情指揮中心指揮官陳時中今天在記者...   \n",
       "197  ['其中默沙東藥廠的口服藥已開始處方給指定診所及安老院患者等', '首批輝瑞口服藥也會於今日...   \n",
       "202  ['香港居住環境擠迫、無法將安老院與社區分隔、長者疫苗接種率低及公營醫療資源不足', '但可...   \n",
       "206  ['5月底至6月初每天確診病例才有望回落至約1000例', '5月底至6月每天確診病例才有望...   \n",
       "209  ['估計約有5萬名獨居長者或殘障人士需要家居接種服務', '本月下旬將上門為不曾接種疫苗的居...   \n",
       "211  ['為何中國人已經接種了這沒多疫苗還不能「躺平」（放任不管）', '「但是有事的絕大多數都是...   \n",
       "\n",
       "                                          top_key_freq  \\\n",
       "137  [('陳時中', 7), ('解封', 5), ('疫情', 4), ('檢疫期', 3),...   \n",
       "197  [('香港', 6), ('疫情', 6), ('死亡率', 6), ('疫苗', 5), ...   \n",
       "202  [('香港', 16), ('疫情', 10), ('長者', 9), ('死亡率', 7)...   \n",
       "206  [('香港', 5), ('疫情', 4), ('確診', 4), ('病例', 4), (...   \n",
       "209  [('香港', 7), ('人士', 6), ('施打', 6), ('疫苗', 6), (...   \n",
       "211  [('中國', 14), ('疫苗', 13), ('接種', 7), ('疫情', 6),...   \n",
       "\n",
       "                                                tokens  \\\n",
       "137  ['邊境', '管制', '3月', '7日', '起', '鬆綁', '，', '指揮',...   \n",
       "197  ['香港', '今天', '新增', 'COVID-19', '陽性', '病例', '2萬...   \n",
       "202  ['香港', '第5', '波', '疫情', '死亡率', '超越', '英', '美',...   \n",
       "206  ['香港', '最近', '的', 'COVID-19', '單日', '確診', '仍',...   \n",
       "209  ['香港', '的', 'COVID-19', '（', '2019', '冠狀病毒', '...   \n",
       "211  ['中國', '抗疫', '專家', '張文宏', '解釋', '為何', '中國', '當...   \n",
       "\n",
       "                                             tokens_v2  \\\n",
       "137  ['邊境', '鬆綁', '指揮', '中心', '指揮官', '陳時中', '入境', '...   \n",
       "197  ['香港', '陽性', '病例', '核酸', '確診', '快篩', '陽性', '疫情...   \n",
       "202  ['香港', '疫情', '死亡率', '超越', '韓星', '香港', '大學', '專...   \n",
       "206  ['香港', '高點', '香港', '中文', '大學', '專家', '推算', '疫情...   \n",
       "209  ['香港', '冠狀病毒', '疾病', '疫情', '官員', '擴大', '接種', '...   \n",
       "211  ['中國', '專家', '張文宏', '中國', '疫情', '社會面', '心理', '...   \n",
       "\n",
       "                                              entities  \\\n",
       "137  [NerToken(word='3月7日', ner='DATE', idx=(4, 8))...   \n",
       "197  [NerToken(word='香港', ner='GPE', idx=(0, 2)), N...   \n",
       "202  [NerToken(word='第5', ner='ORDINAL', idx=(2, 4)...   \n",
       "206  [NerToken(word='香港', ner='GPE', idx=(0, 2)), N...   \n",
       "209  [NerToken(word='香港', ner='GPE', idx=(0, 2)), N...   \n",
       "211  [NerToken(word='中國', ner='GPE', idx=(0, 2)), N...   \n",
       "\n",
       "                                             token_pos  \\\n",
       "137  [('邊境', 'Nc'), ('管制', 'Nv'), ('3月', 'Nd'), ('7...   \n",
       "197  [('香港', 'Nc'), ('今天', 'Nd'), ('新增', 'VJ'), ('C...   \n",
       "202  [('香港', 'Nc'), ('第5', 'Neu'), ('波', 'Nf'), ('疫...   \n",
       "206  [('香港', 'Nc'), ('最近', 'Nd'), ('的', 'DE'), ('CO...   \n",
       "209  [('香港', 'Nc'), ('的', 'DE'), ('COVID-19', 'FW')...   \n",
       "211  [('中國', 'Nc'), ('抗疫', 'VJ'), ('專家', 'Na'), ('張...   \n",
       "\n",
       "                                                  link photo_link  \n",
       "137  https://www.cna.com.tw/news/ahel/202203140235....        NaN  \n",
       "197  https://www.cna.com.tw/news/acn/202203140291.aspx        NaN  \n",
       "202  https://www.cna.com.tw/news/acn/202203140181.aspx        NaN  \n",
       "206  https://www.cna.com.tw/news/acn/202203140112.aspx        NaN  \n",
       "209  https://www.cna.com.tw/news/acn/202203140064.aspx        NaN  \n",
       "211  https://www.cna.com.tw/news/acn/202203140027.aspx        NaN  "
      ]
     },
     "execution_count": 19,
     "metadata": {},
     "output_type": "execute_result"
    }
   ],
   "source": [
    "df_query"
   ]
  },
  {
   "cell_type": "code",
   "execution_count": 20,
   "metadata": {},
   "outputs": [
    {
     "name": "stdout",
     "output_type": "stream",
     "text": [
      "0\n",
      "生活\n",
      "陳時中：國門解封戒慎不恐懼  檢疫10天應該安全\n",
      "https://www.cna.com.tw/news/ahel/202203140235.aspx\n",
      "nan\n",
      "1\n",
      "兩岸\n",
      "香港確診增2.7萬例 本波死亡人數逾4千\n",
      "https://www.cna.com.tw/news/acn/202203140291.aspx\n",
      "nan\n",
      "2\n",
      "兩岸\n",
      "香港疫情死亡率超英美韓星 專家：可預見的悲劇\n",
      "https://www.cna.com.tw/news/acn/202203140181.aspx\n",
      "nan\n"
     ]
    }
   ],
   "source": [
    "for i in range(3):   \n",
    "    print(i)\n",
    "    print(df_query.iloc[i]['category'])\n",
    "    print(df_query.iloc[i]['title'])\n",
    "    print(df_query.iloc[i].link)\n",
    "    print(df_query.iloc[i].photo_link)"
   ]
  },
  {
   "cell_type": "code",
   "execution_count": 21,
   "metadata": {},
   "outputs": [
    {
     "data": {
      "text/html": [
       "<div>\n",
       "<style scoped>\n",
       "    .dataframe tbody tr th:only-of-type {\n",
       "        vertical-align: middle;\n",
       "    }\n",
       "\n",
       "    .dataframe tbody tr th {\n",
       "        vertical-align: top;\n",
       "    }\n",
       "\n",
       "    .dataframe thead th {\n",
       "        text-align: right;\n",
       "    }\n",
       "</style>\n",
       "<table border=\"1\" class=\"dataframe\">\n",
       "  <thead>\n",
       "    <tr style=\"text-align: right;\">\n",
       "      <th></th>\n",
       "      <th>item_id</th>\n",
       "      <th>date</th>\n",
       "      <th>category</th>\n",
       "      <th>title</th>\n",
       "      <th>content</th>\n",
       "      <th>sentiment</th>\n",
       "      <th>summary</th>\n",
       "      <th>top_key_freq</th>\n",
       "      <th>tokens</th>\n",
       "      <th>tokens_v2</th>\n",
       "      <th>entities</th>\n",
       "      <th>token_pos</th>\n",
       "      <th>link</th>\n",
       "      <th>photo_link</th>\n",
       "    </tr>\n",
       "  </thead>\n",
       "  <tbody>\n",
       "    <tr>\n",
       "      <th>137</th>\n",
       "      <td>ahel_20220314_18</td>\n",
       "      <td>2022-03-14</td>\n",
       "      <td>生活</td>\n",
       "      <td>陳時中：國門解封戒慎不恐懼  檢疫10天應該安全</td>\n",
       "      <td>邊境管制3月7日起鬆綁，指揮中心指揮官陳時中今天說，入境檢疫10天應該安全，現在談全面解封言...</td>\n",
       "      <td>0.0</td>\n",
       "      <td>['台灣3月7日起將入境檢疫期縮短至10天', '中央流行疫情指揮中心指揮官陳時中今天在記者...</td>\n",
       "      <td>[('陳時中', 7), ('解封', 5), ('疫情', 4), ('檢疫期', 3),...</td>\n",
       "      <td>['邊境', '管制', '3月', '7日', '起', '鬆綁', '，', '指揮',...</td>\n",
       "      <td>['邊境', '鬆綁', '指揮', '中心', '指揮官', '陳時中', '入境', '...</td>\n",
       "      <td>[NerToken(word='3月7日', ner='DATE', idx=(4, 8))...</td>\n",
       "      <td>[('邊境', 'Nc'), ('管制', 'Nv'), ('3月', 'Nd'), ('7...</td>\n",
       "      <td>https://www.cna.com.tw/news/ahel/202203140235....</td>\n",
       "      <td>NaN</td>\n",
       "    </tr>\n",
       "  </tbody>\n",
       "</table>\n",
       "</div>"
      ],
      "text/plain": [
       "              item_id        date category                     title  \\\n",
       "137  ahel_20220314_18  2022-03-14       生活  陳時中：國門解封戒慎不恐懼  檢疫10天應該安全   \n",
       "\n",
       "                                               content  sentiment  \\\n",
       "137  邊境管制3月7日起鬆綁，指揮中心指揮官陳時中今天說，入境檢疫10天應該安全，現在談全面解封言...        0.0   \n",
       "\n",
       "                                               summary  \\\n",
       "137  ['台灣3月7日起將入境檢疫期縮短至10天', '中央流行疫情指揮中心指揮官陳時中今天在記者...   \n",
       "\n",
       "                                          top_key_freq  \\\n",
       "137  [('陳時中', 7), ('解封', 5), ('疫情', 4), ('檢疫期', 3),...   \n",
       "\n",
       "                                                tokens  \\\n",
       "137  ['邊境', '管制', '3月', '7日', '起', '鬆綁', '，', '指揮',...   \n",
       "\n",
       "                                             tokens_v2  \\\n",
       "137  ['邊境', '鬆綁', '指揮', '中心', '指揮官', '陳時中', '入境', '...   \n",
       "\n",
       "                                              entities  \\\n",
       "137  [NerToken(word='3月7日', ner='DATE', idx=(4, 8))...   \n",
       "\n",
       "                                             token_pos  \\\n",
       "137  [('邊境', 'Nc'), ('管制', 'Nv'), ('3月', 'Nd'), ('7...   \n",
       "\n",
       "                                                  link photo_link  \n",
       "137  https://www.cna.com.tw/news/ahel/202203140235....        NaN  "
      ]
     },
     "execution_count": 21,
     "metadata": {},
     "output_type": "execute_result"
    }
   ],
   "source": [
    "df_query.head(1)"
   ]
  },
  {
   "cell_type": "markdown",
   "metadata": {},
   "source": []
  },
  {
   "cell_type": "markdown",
   "metadata": {},
   "source": [
    "## All-in-one function to return category, title, link, and photo_link\n",
    "\n",
    "\"photo_link\" will be use in the next app"
   ]
  },
  {
   "cell_type": "code",
   "execution_count": 22,
   "metadata": {},
   "outputs": [],
   "source": [
    "user_keywords = ['疫情','疫苗']\n",
    "cond='and'\n",
    "cate='全部'\n",
    "weeks=2\n",
    "df_query = filter_dataFrame_fullText(user_keywords, cond, cate, weeks)"
   ]
  },
  {
   "cell_type": "code",
   "execution_count": 23,
   "metadata": {},
   "outputs": [
    {
     "data": {
      "text/plain": [
       "6"
      ]
     },
     "execution_count": 23,
     "metadata": {},
     "output_type": "execute_result"
    }
   ],
   "source": [
    "len(df_query)"
   ]
  },
  {
   "cell_type": "code",
   "execution_count": 24,
   "metadata": {},
   "outputs": [],
   "source": [
    "# get titles and links from k pieces of news \n",
    "def get_title_link_topk(df_query, k=5):\n",
    "    items = []\n",
    "    for i in range( len(df_query[0:k]) ): # show only 5 articles\n",
    "        category = df_query.iloc[i]['category']\n",
    "        title = df_query.iloc[i]['title']\n",
    "        link = df_query.iloc[i]['link']\n",
    "        photo_link = df_query.iloc[i]['photo_link']\n",
    "        # if photo_link value is NaN, replace it with empty string \n",
    "        if pd.isna(photo_link):\n",
    "            photo_link='' # 若沒圖片，就設定為空字串，在前端網頁解讀json格式時才不會錯誤\n",
    "        \n",
    "        item_info = {\n",
    "            'category': category, \n",
    "            'title': title, \n",
    "            'link': link, \n",
    "            'photo_link': photo_link\n",
    "        }\n",
    "\n",
    "        items.append(item_info)\n",
    "    return items "
   ]
  },
  {
   "cell_type": "code",
   "execution_count": 25,
   "metadata": {},
   "outputs": [
    {
     "data": {
      "text/plain": [
       "[{'category': '生活',\n",
       "  'title': '陳時中：國門解封戒慎不恐懼  檢疫10天應該安全',\n",
       "  'link': 'https://www.cna.com.tw/news/ahel/202203140235.aspx',\n",
       "  'photo_link': ''},\n",
       " {'category': '兩岸',\n",
       "  'title': '香港確診增2.7萬例 本波死亡人數逾4千',\n",
       "  'link': 'https://www.cna.com.tw/news/acn/202203140291.aspx',\n",
       "  'photo_link': ''},\n",
       " {'category': '兩岸',\n",
       "  'title': '香港疫情死亡率超英美韓星 專家：可預見的悲劇',\n",
       "  'link': 'https://www.cna.com.tw/news/acn/202203140181.aspx',\n",
       "  'photo_link': ''}]"
      ]
     },
     "execution_count": 25,
     "metadata": {},
     "output_type": "execute_result"
    }
   ],
   "source": [
    "get_title_link_topk(df_query, 3)"
   ]
  },
  {
   "cell_type": "code",
   "execution_count": null,
   "metadata": {},
   "outputs": [],
   "source": []
  },
  {
   "cell_type": "markdown",
   "metadata": {},
   "source": [
    "### Some photo_links are \"NaN\". \n",
    "\n",
    "If the photo_link value is 'nan', it will be a problem when converted to json format on Django!\n",
    "\n",
    "    \"NaN\" cannot be converted to a JSON string. "
   ]
  },
  {
   "cell_type": "code",
   "execution_count": 26,
   "metadata": {},
   "outputs": [
    {
     "data": {
      "text/plain": [
       "nan"
      ]
     },
     "execution_count": 26,
     "metadata": {},
     "output_type": "execute_result"
    }
   ],
   "source": [
    "df_query.iloc[0]['photo_link']"
   ]
  },
  {
   "cell_type": "markdown",
   "metadata": {},
   "source": [
    "### Test the photo_link is NaN or not and replace it with empty string\n",
    "    How to do?\n",
    "    You can test a variable is \"NaN\" or not by using pd, np or math."
   ]
  },
  {
   "cell_type": "code",
   "execution_count": 27,
   "metadata": {},
   "outputs": [
    {
     "name": "stdout",
     "output_type": "stream",
     "text": [
      "It's pd.isna  : True\n",
      "It's np.isnan  : True\n",
      "It's math.isnan : True\n"
     ]
    }
   ],
   "source": [
    "import pandas as pd\n",
    "import numpy as np\n",
    "import math\n",
    "\n",
    "# we can use pandas, numpy or math to check if photo_link is NaN\n",
    "x = float(\"nan\")\n",
    "\n",
    "print(f\"It's pd.isna  : {pd.isna(x)}\")\n",
    "print(f\"It's np.isnan  : {np.isnan(x)}\")\n",
    "print(f\"It's math.isnan : {math.isnan(x)}\")"
   ]
  },
  {
   "cell_type": "code",
   "execution_count": 28,
   "metadata": {},
   "outputs": [
    {
     "data": {
      "text/plain": [
       "nan"
      ]
     },
     "execution_count": 28,
     "metadata": {},
     "output_type": "execute_result"
    }
   ],
   "source": [
    "df_query.iloc[0]['photo_link']"
   ]
  },
  {
   "cell_type": "code",
   "execution_count": 29,
   "metadata": {},
   "outputs": [],
   "source": [
    "photo_link = df_query.iloc[0]['photo_link']\n",
    "# if photo_link value is NaN, replace it with empty string \n",
    "if pd.isna(photo_link):\n",
    "    photo_link='' # "
   ]
  },
  {
   "cell_type": "code",
   "execution_count": 30,
   "metadata": {},
   "outputs": [
    {
     "data": {
      "text/plain": [
       "''"
      ]
     },
     "execution_count": 30,
     "metadata": {},
     "output_type": "execute_result"
    }
   ],
   "source": [
    "photo_link"
   ]
  },
  {
   "cell_type": "markdown",
   "metadata": {
    "toc-hr-collapsed": true
   },
   "source": [
    "# Find some related keywords\n",
    "\n",
    "    Find related words from the top_key_freq column\n",
    "    相關詞有哪一些? 找出各篇文章的topk關鍵詞?"
   ]
  },
  {
   "cell_type": "markdown",
   "metadata": {},
   "source": [
    "## All-in-one function: Get related keywords"
   ]
  },
  {
   "cell_type": "code",
   "execution_count": 31,
   "metadata": {},
   "outputs": [],
   "source": [
    "from collections import Counter\n",
    "# 相關詞有哪一些?找出各篇文章的topk關鍵詞加以彙整計算\n",
    "# 不能用 \"get_related_keys\"當函數名稱，因為這是Django系統用的名稱\n",
    "def get_related_words(df_query):\n",
    "    counter=Counter() # this counter is for all articles\n",
    "    for idx in range(len(df_query)):\n",
    "        pair_dict = dict(eval(df_query.iloc[idx].top_key_freq))\n",
    "        counter += Counter(pair_dict)\n",
    "    return counter.most_common(20) #return list format"
   ]
  },
  {
   "cell_type": "code",
   "execution_count": 32,
   "metadata": {},
   "outputs": [],
   "source": [
    "# This version is for reference\n",
    "def get_related_words_v0(df_query):\n",
    "    all_pairs={}\n",
    "    for idx in range(len(df_query)):\n",
    "        row = df_query.iloc[idx].top_key_freq\n",
    "        pairs = eval(row)\n",
    "        for pair in pairs:\n",
    "            w,f = pair\n",
    "            if w in all_pairs:\n",
    "                all_pairs[w]+= f\n",
    "            else:\n",
    "                all_pairs[w] = f\n",
    "\n",
    "    counter = Counter(all_pairs)\n",
    "    return counter.most_common(20) #return list format\n",
    "    #return dict(counter.most_common(20)) #return dict format"
   ]
  },
  {
   "cell_type": "code",
   "execution_count": 33,
   "metadata": {},
   "outputs": [],
   "source": [
    "user_keywords = ['疫情','疫苗']\n",
    "cond='and'\n",
    "cate='全部'\n",
    "weeks=2\n",
    "df_query = filter_dataFrame_fullText(user_keywords, cond, cate, weeks)"
   ]
  },
  {
   "cell_type": "code",
   "execution_count": 34,
   "metadata": {},
   "outputs": [
    {
     "data": {
      "text/plain": [
       "(6, 14)"
      ]
     },
     "execution_count": 34,
     "metadata": {},
     "output_type": "execute_result"
    }
   ],
   "source": [
    "df_query.shape"
   ]
  },
  {
   "cell_type": "code",
   "execution_count": 35,
   "metadata": {
    "scrolled": true
   },
   "outputs": [
    {
     "data": {
      "text/plain": [
       "[('香港', 39),\n",
       " ('疫情', 34),\n",
       " ('疫苗', 32),\n",
       " ('接種', 20),\n",
       " ('中國', 16),\n",
       " ('長者', 15),\n",
       " ('死亡率', 13),\n",
       " ('病例', 12),\n",
       " ('確診', 8),\n",
       " ('病毒', 8),\n",
       " ('醫療', 8),\n",
       " ('陳時中', 7),\n",
       " ('安老院', 7),\n",
       " ('人士', 7),\n",
       " ('大學', 7),\n",
       " ('資源', 7),\n",
       " ('薛達', 6),\n",
       " ('施打', 6),\n",
       " ('解封', 5),\n",
       " ('開放', 5)]"
      ]
     },
     "execution_count": 35,
     "metadata": {},
     "output_type": "execute_result"
    }
   ],
   "source": [
    "get_related_words(df_query)"
   ]
  },
  {
   "cell_type": "code",
   "execution_count": 36,
   "metadata": {
    "scrolled": true
   },
   "outputs": [],
   "source": [
    "# get_related_words_v1(df_query)"
   ]
  },
  {
   "cell_type": "markdown",
   "metadata": {},
   "source": [
    "## A Step by step demonstration (do it yourself)"
   ]
  },
  {
   "cell_type": "code",
   "execution_count": 37,
   "metadata": {},
   "outputs": [],
   "source": [
    "user_keywords = ['疫情','疫苗']\n",
    "cond='and'\n",
    "cate='全部'\n",
    "weeks=2\n",
    "df_query = filter_dataFrame_fullText(user_keywords, cond, cate, weeks)"
   ]
  },
  {
   "cell_type": "code",
   "execution_count": 38,
   "metadata": {},
   "outputs": [
    {
     "data": {
      "text/html": [
       "<div>\n",
       "<style scoped>\n",
       "    .dataframe tbody tr th:only-of-type {\n",
       "        vertical-align: middle;\n",
       "    }\n",
       "\n",
       "    .dataframe tbody tr th {\n",
       "        vertical-align: top;\n",
       "    }\n",
       "\n",
       "    .dataframe thead th {\n",
       "        text-align: right;\n",
       "    }\n",
       "</style>\n",
       "<table border=\"1\" class=\"dataframe\">\n",
       "  <thead>\n",
       "    <tr style=\"text-align: right;\">\n",
       "      <th></th>\n",
       "      <th>item_id</th>\n",
       "      <th>date</th>\n",
       "      <th>category</th>\n",
       "      <th>title</th>\n",
       "      <th>content</th>\n",
       "      <th>sentiment</th>\n",
       "      <th>summary</th>\n",
       "      <th>top_key_freq</th>\n",
       "      <th>tokens</th>\n",
       "      <th>tokens_v2</th>\n",
       "      <th>entities</th>\n",
       "      <th>token_pos</th>\n",
       "      <th>link</th>\n",
       "      <th>photo_link</th>\n",
       "    </tr>\n",
       "  </thead>\n",
       "  <tbody>\n",
       "    <tr>\n",
       "      <th>137</th>\n",
       "      <td>ahel_20220314_18</td>\n",
       "      <td>2022-03-14</td>\n",
       "      <td>生活</td>\n",
       "      <td>陳時中：國門解封戒慎不恐懼  檢疫10天應該安全</td>\n",
       "      <td>邊境管制3月7日起鬆綁，指揮中心指揮官陳時中今天說，入境檢疫10天應該安全，現在談全面解封言...</td>\n",
       "      <td>0.0</td>\n",
       "      <td>['台灣3月7日起將入境檢疫期縮短至10天', '中央流行疫情指揮中心指揮官陳時中今天在記者...</td>\n",
       "      <td>[('陳時中', 7), ('解封', 5), ('疫情', 4), ('檢疫期', 3),...</td>\n",
       "      <td>['邊境', '管制', '3月', '7日', '起', '鬆綁', '，', '指揮',...</td>\n",
       "      <td>['邊境', '鬆綁', '指揮', '中心', '指揮官', '陳時中', '入境', '...</td>\n",
       "      <td>[NerToken(word='3月7日', ner='DATE', idx=(4, 8))...</td>\n",
       "      <td>[('邊境', 'Nc'), ('管制', 'Nv'), ('3月', 'Nd'), ('7...</td>\n",
       "      <td>https://www.cna.com.tw/news/ahel/202203140235....</td>\n",
       "      <td>NaN</td>\n",
       "    </tr>\n",
       "    <tr>\n",
       "      <th>197</th>\n",
       "      <td>acn_20220314_5</td>\n",
       "      <td>2022-03-14</td>\n",
       "      <td>兩岸</td>\n",
       "      <td>香港確診增2.7萬例 本波死亡人數逾4千</td>\n",
       "      <td>香港今天新增COVID-19陽性病例2萬6908例，其中核酸確診1萬2040例，其餘1萬48...</td>\n",
       "      <td>1.0</td>\n",
       "      <td>['其中默沙東藥廠的口服藥已開始處方給指定診所及安老院患者等', '首批輝瑞口服藥也會於今日...</td>\n",
       "      <td>[('香港', 6), ('疫情', 6), ('死亡率', 6), ('疫苗', 5), ...</td>\n",
       "      <td>['香港', '今天', '新增', 'COVID-19', '陽性', '病例', '2萬...</td>\n",
       "      <td>['香港', '陽性', '病例', '核酸', '確診', '快篩', '陽性', '疫情...</td>\n",
       "      <td>[NerToken(word='香港', ner='GPE', idx=(0, 2)), N...</td>\n",
       "      <td>[('香港', 'Nc'), ('今天', 'Nd'), ('新增', 'VJ'), ('C...</td>\n",
       "      <td>https://www.cna.com.tw/news/acn/202203140291.aspx</td>\n",
       "      <td>NaN</td>\n",
       "    </tr>\n",
       "  </tbody>\n",
       "</table>\n",
       "</div>"
      ],
      "text/plain": [
       "              item_id        date category                     title  \\\n",
       "137  ahel_20220314_18  2022-03-14       生活  陳時中：國門解封戒慎不恐懼  檢疫10天應該安全   \n",
       "197    acn_20220314_5  2022-03-14       兩岸      香港確診增2.7萬例 本波死亡人數逾4千   \n",
       "\n",
       "                                               content  sentiment  \\\n",
       "137  邊境管制3月7日起鬆綁，指揮中心指揮官陳時中今天說，入境檢疫10天應該安全，現在談全面解封言...        0.0   \n",
       "197  香港今天新增COVID-19陽性病例2萬6908例，其中核酸確診1萬2040例，其餘1萬48...        1.0   \n",
       "\n",
       "                                               summary  \\\n",
       "137  ['台灣3月7日起將入境檢疫期縮短至10天', '中央流行疫情指揮中心指揮官陳時中今天在記者...   \n",
       "197  ['其中默沙東藥廠的口服藥已開始處方給指定診所及安老院患者等', '首批輝瑞口服藥也會於今日...   \n",
       "\n",
       "                                          top_key_freq  \\\n",
       "137  [('陳時中', 7), ('解封', 5), ('疫情', 4), ('檢疫期', 3),...   \n",
       "197  [('香港', 6), ('疫情', 6), ('死亡率', 6), ('疫苗', 5), ...   \n",
       "\n",
       "                                                tokens  \\\n",
       "137  ['邊境', '管制', '3月', '7日', '起', '鬆綁', '，', '指揮',...   \n",
       "197  ['香港', '今天', '新增', 'COVID-19', '陽性', '病例', '2萬...   \n",
       "\n",
       "                                             tokens_v2  \\\n",
       "137  ['邊境', '鬆綁', '指揮', '中心', '指揮官', '陳時中', '入境', '...   \n",
       "197  ['香港', '陽性', '病例', '核酸', '確診', '快篩', '陽性', '疫情...   \n",
       "\n",
       "                                              entities  \\\n",
       "137  [NerToken(word='3月7日', ner='DATE', idx=(4, 8))...   \n",
       "197  [NerToken(word='香港', ner='GPE', idx=(0, 2)), N...   \n",
       "\n",
       "                                             token_pos  \\\n",
       "137  [('邊境', 'Nc'), ('管制', 'Nv'), ('3月', 'Nd'), ('7...   \n",
       "197  [('香港', 'Nc'), ('今天', 'Nd'), ('新增', 'VJ'), ('C...   \n",
       "\n",
       "                                                  link photo_link  \n",
       "137  https://www.cna.com.tw/news/ahel/202203140235....        NaN  \n",
       "197  https://www.cna.com.tw/news/acn/202203140291.aspx        NaN  "
      ]
     },
     "execution_count": 38,
     "metadata": {},
     "output_type": "execute_result"
    }
   ],
   "source": [
    "df_query.head(2)"
   ]
  },
  {
   "cell_type": "code",
   "execution_count": 39,
   "metadata": {
    "scrolled": true
   },
   "outputs": [
    {
     "data": {
      "text/plain": [
       "137    [('陳時中', 7), ('解封', 5), ('疫情', 4), ('檢疫期', 3),...\n",
       "197    [('香港', 6), ('疫情', 6), ('死亡率', 6), ('疫苗', 5), ...\n",
       "202    [('香港', 16), ('疫情', 10), ('長者', 9), ('死亡率', 7)...\n",
       "206    [('香港', 5), ('疫情', 4), ('確診', 4), ('病例', 4), (...\n",
       "209    [('香港', 7), ('人士', 6), ('施打', 6), ('疫苗', 6), (...\n",
       "211    [('中國', 14), ('疫苗', 13), ('接種', 7), ('疫情', 6),...\n",
       "Name: top_key_freq, dtype: object"
      ]
     },
     "execution_count": 39,
     "metadata": {},
     "output_type": "execute_result"
    }
   ],
   "source": [
    "df_query.top_key_freq"
   ]
  },
  {
   "cell_type": "markdown",
   "metadata": {},
   "source": [
    "### From the word_freq pairs, we sum frequency for each word\n",
    "\n",
    "    How? \n",
    "    The best way is to use dict. Here is a simple example."
   ]
  },
  {
   "cell_type": "code",
   "execution_count": 40,
   "metadata": {},
   "outputs": [
    {
     "data": {
      "text/plain": [
       "[('陳時中', 7), ('解封', 5), ('疫情', 4), ('檢疫期', 3)]"
      ]
     },
     "execution_count": 40,
     "metadata": {},
     "output_type": "execute_result"
    }
   ],
   "source": [
    "[('陳時中', 7), ('解封', 5), ('疫情', 4), ('檢疫期', 3)]"
   ]
  },
  {
   "cell_type": "code",
   "execution_count": 41,
   "metadata": {},
   "outputs": [
    {
     "data": {
      "text/plain": [
       "{'陳時中': 7, '解封': 5, '疫情': 4, '檢疫期': 3}"
      ]
     },
     "execution_count": 41,
     "metadata": {},
     "output_type": "execute_result"
    }
   ],
   "source": [
    "'''\n",
    "{'陳時中': 7,\n",
    " '解封': 5,\n",
    " '疫情': 10,\n",
    " '檢疫期': 3}\n",
    "\n",
    " (key, value) key can't be duplicated.鍵值不能重複，轉成dict時不處理重複的，會被丟棄\n",
    "'''\n",
    "\n",
    "dict([('陳時中', 7), ('解封', 5), ('疫情', 4), ('檢疫期', 3)])"
   ]
  },
  {
   "cell_type": "code",
   "execution_count": 42,
   "metadata": {},
   "outputs": [
    {
     "data": {
      "text/plain": [
       "{'王金平': 2, '吳敦義': 5}"
      ]
     },
     "execution_count": 42,
     "metadata": {},
     "output_type": "execute_result"
    }
   ],
   "source": [
    "#  (key, value) key can't be duplicated.鍵值不能重複，轉成dict時不處理重複的，會被丟棄\n",
    "dict([('王金平', 2), ('吳敦義', 7), ('吳敦義', 5)])"
   ]
  },
  {
   "cell_type": "code",
   "execution_count": 43,
   "metadata": {},
   "outputs": [],
   "source": [
    "c1 = Counter(dict([('陳時中', 7), ('解封', 5), ('疫情', 4), ('檢疫期', 3)]))"
   ]
  },
  {
   "cell_type": "code",
   "execution_count": 44,
   "metadata": {},
   "outputs": [
    {
     "data": {
      "text/plain": [
       "Counter({'陳時中': 7, '解封': 5, '疫情': 4, '檢疫期': 3})"
      ]
     },
     "execution_count": 44,
     "metadata": {},
     "output_type": "execute_result"
    }
   ],
   "source": [
    "c1"
   ]
  },
  {
   "cell_type": "code",
   "execution_count": 45,
   "metadata": {},
   "outputs": [],
   "source": [
    "c2 = Counter(dict([('馬英九', 2), ('陳時中', 7), ('蔡英文', 20)]))"
   ]
  },
  {
   "cell_type": "code",
   "execution_count": 46,
   "metadata": {},
   "outputs": [
    {
     "data": {
      "text/plain": [
       "Counter({'蔡英文': 20, '陳時中': 7, '馬英九': 2})"
      ]
     },
     "execution_count": 46,
     "metadata": {},
     "output_type": "execute_result"
    }
   ],
   "source": [
    "c2"
   ]
  },
  {
   "cell_type": "code",
   "execution_count": 47,
   "metadata": {},
   "outputs": [
    {
     "data": {
      "text/plain": [
       "Counter({'蔡英文': 20, '陳時中': 14, '解封': 5, '疫情': 4, '檢疫期': 3, '馬英九': 2})"
      ]
     },
     "execution_count": 47,
     "metadata": {},
     "output_type": "execute_result"
    }
   ],
   "source": [
    "c1+c2"
   ]
  },
  {
   "cell_type": "code",
   "execution_count": null,
   "metadata": {},
   "outputs": [],
   "source": []
  },
  {
   "cell_type": "code",
   "execution_count": 48,
   "metadata": {},
   "outputs": [
    {
     "data": {
      "text/plain": [
       "\"[('陳時中', 7), ('解封', 5), ('疫情', 4), ('檢疫期', 3), ('狀態', 3), ('指揮', 2), ('中心', 2), ('指揮官', 2), ('景點', 2), ('規模', 2), ('人流', 2), ('台灣', 2), ('縮短', 2), ('參選', 2), ('邊境', 1), ('管制', 1), ('重啟', 1), ('國門', 1), ('開放', 1), ('商務客', 1), ('國際', 1), ('冠狀病毒', 1), ('疾病', 1), ('香港', 1), ('人數', 1), ('中國', 1), ('深圳市', 1), ('東莞市', 1), ('封城', 1), ('學者', 1), ('專家', 1), ('政府', 1), ('訂定', 1), ('階段', 1), ('措施', 1), ('基準', 1), ('準備', 1), ('中央', 1), ('記者', 1), ('媒體', 1), ('預訂', 1), ('時程', 1), ('檢視', 1), ('能力', 1), ('疫苗', 1), ('涵蓋率', 1), ('國內外', 1), ('狀況', 1), ('規範', 1), ('整體', 1), ('社區', 1), ('風險', 1), ('期間', 1), ('台北', 1), ('市長', 1), ('柯文哲', 1), ('確診', 1), ('自由時報', 1), ('縣市長', 1), ('選舉', 1), ('民進黨', 1), ('政務官', 1), ('出戰', 1), ('台北市', 1), ('桃園市', 1), ('布局', 1), ('彈性', 1), ('發展', 1), ('回應', 1)]\""
      ]
     },
     "execution_count": 48,
     "metadata": {},
     "output_type": "execute_result"
    }
   ],
   "source": [
    "### Now we can start to cout frequency from our word_freq pairs\n",
    "df_query.iloc[0].top_key_freq"
   ]
  },
  {
   "cell_type": "code",
   "execution_count": 49,
   "metadata": {},
   "outputs": [
    {
     "data": {
      "text/plain": [
       "{'陳時中': 7,\n",
       " '解封': 5,\n",
       " '疫情': 4,\n",
       " '檢疫期': 3,\n",
       " '狀態': 3,\n",
       " '指揮': 2,\n",
       " '中心': 2,\n",
       " '指揮官': 2,\n",
       " '景點': 2,\n",
       " '規模': 2,\n",
       " '人流': 2,\n",
       " '台灣': 2,\n",
       " '縮短': 2,\n",
       " '參選': 2,\n",
       " '邊境': 1,\n",
       " '管制': 1,\n",
       " '重啟': 1,\n",
       " '國門': 1,\n",
       " '開放': 1,\n",
       " '商務客': 1,\n",
       " '國際': 1,\n",
       " '冠狀病毒': 1,\n",
       " '疾病': 1,\n",
       " '香港': 1,\n",
       " '人數': 1,\n",
       " '中國': 1,\n",
       " '深圳市': 1,\n",
       " '東莞市': 1,\n",
       " '封城': 1,\n",
       " '學者': 1,\n",
       " '專家': 1,\n",
       " '政府': 1,\n",
       " '訂定': 1,\n",
       " '階段': 1,\n",
       " '措施': 1,\n",
       " '基準': 1,\n",
       " '準備': 1,\n",
       " '中央': 1,\n",
       " '記者': 1,\n",
       " '媒體': 1,\n",
       " '預訂': 1,\n",
       " '時程': 1,\n",
       " '檢視': 1,\n",
       " '能力': 1,\n",
       " '疫苗': 1,\n",
       " '涵蓋率': 1,\n",
       " '國內外': 1,\n",
       " '狀況': 1,\n",
       " '規範': 1,\n",
       " '整體': 1,\n",
       " '社區': 1,\n",
       " '風險': 1,\n",
       " '期間': 1,\n",
       " '台北': 1,\n",
       " '市長': 1,\n",
       " '柯文哲': 1,\n",
       " '確診': 1,\n",
       " '自由時報': 1,\n",
       " '縣市長': 1,\n",
       " '選舉': 1,\n",
       " '民進黨': 1,\n",
       " '政務官': 1,\n",
       " '出戰': 1,\n",
       " '台北市': 1,\n",
       " '桃園市': 1,\n",
       " '布局': 1,\n",
       " '彈性': 1,\n",
       " '發展': 1,\n",
       " '回應': 1}"
      ]
     },
     "execution_count": 49,
     "metadata": {},
     "output_type": "execute_result"
    }
   ],
   "source": [
    "# Convert to dictionary\n",
    "dict(eval(df_query.iloc[0].top_key_freq))"
   ]
  },
  {
   "cell_type": "code",
   "execution_count": 50,
   "metadata": {},
   "outputs": [
    {
     "data": {
      "text/plain": [
       "[('陳時中', 7),\n",
       " ('解封', 5),\n",
       " ('疫情', 4),\n",
       " ('檢疫期', 3),\n",
       " ('狀態', 3),\n",
       " ('指揮', 2),\n",
       " ('中心', 2),\n",
       " ('指揮官', 2),\n",
       " ('景點', 2),\n",
       " ('規模', 2)]"
      ]
     },
     "execution_count": 50,
     "metadata": {},
     "output_type": "execute_result"
    }
   ],
   "source": [
    "c1 = Counter(dict(eval(df_query.iloc[0].top_key_freq)))\n",
    "c1.most_common(10)"
   ]
  },
  {
   "cell_type": "code",
   "execution_count": 51,
   "metadata": {},
   "outputs": [
    {
     "data": {
      "text/plain": [
       "[('香港', 6),\n",
       " ('疫情', 6),\n",
       " ('死亡率', 6),\n",
       " ('疫苗', 5),\n",
       " ('接種', 4),\n",
       " ('安老院', 3),\n",
       " ('默沙東', 3),\n",
       " ('口服藥', 3),\n",
       " ('陽性', 2),\n",
       " ('病例', 2)]"
      ]
     },
     "execution_count": 51,
     "metadata": {},
     "output_type": "execute_result"
    }
   ],
   "source": [
    "c2 = Counter(dict(eval(df_query.iloc[1].top_key_freq)))\n",
    "c2.most_common(10)"
   ]
  },
  {
   "cell_type": "code",
   "execution_count": 52,
   "metadata": {},
   "outputs": [
    {
     "data": {
      "text/plain": [
       "[('疫情', 10),\n",
       " ('陳時中', 7),\n",
       " ('香港', 7),\n",
       " ('疫苗', 6),\n",
       " ('死亡率', 6),\n",
       " ('解封', 5),\n",
       " ('接種', 4),\n",
       " ('檢疫期', 3),\n",
       " ('狀態', 3),\n",
       " ('中心', 3)]"
      ]
     },
     "execution_count": 52,
     "metadata": {},
     "output_type": "execute_result"
    }
   ],
   "source": [
    "counter = c1+c2\n",
    "counter.most_common(10)"
   ]
  },
  {
   "cell_type": "code",
   "execution_count": 53,
   "metadata": {},
   "outputs": [],
   "source": [
    "# Advance operation for reference\n",
    "# Using the itertools.groupby approach, you are summing the sorted groups based on first tuple elements.\n",
    "\n",
    "# from itertools import groupby\n",
    "# from operator import itemgetter\n",
    "\n",
    "# my_list = [('a',2),('a',3),('b',3),('c',2),('b',4)]\n",
    "# first = itemgetter(0)\n",
    "# sums = [(k, sum(item[1] for item in tups_to_sum))\n",
    "#         for k, tups_to_sum in groupby(sorted(my_list, key=first), key=first)]\n",
    "# Outputs:\n",
    "\n",
    "# [('a', 5), ('b', 7), ('c', 2)]"
   ]
  },
  {
   "cell_type": "markdown",
   "metadata": {},
   "source": [
    "## Prepare wordcloud data"
   ]
  },
  {
   "cell_type": "code",
   "execution_count": 54,
   "metadata": {},
   "outputs": [],
   "source": [
    "# Get related keywords by counting the top keywords of each news.\n",
    "# Notice:  do not name function as  \"get_related_keys\",\n",
    "# because this name is used in Django\n",
    "def get_related_word_clouddata(df_query):\n",
    "\n",
    "    # (1) Get wf_pairs by calling get_related_words().\n",
    "    wf_pairs = get_related_words(df_query)\n",
    "    \n",
    "    # (2) cloud chart data\n",
    "    # the minimum and maximum frequency of top words\n",
    "    min_ = wf_pairs[-1][1]  # the last line is smaller\n",
    "    max_ = wf_pairs[0][1]\n",
    "    # text size based on the value of word frequency for drawing cloud chart\n",
    "    textSizeMin = 20 # 最小字\n",
    "    textSizeMax = 120 # 最大字\n",
    "    # Scaling frequency value into an interval of from 20 to 120.\n",
    "    clouddata = [{'text': w, 'size': int(textSizeMin + (f - min_) / (max_ - min_) * (textSizeMax - textSizeMin))}\n",
    "                 for w, f in wf_pairs]\n",
    "\n",
    "    return   wf_pairs, clouddata "
   ]
  },
  {
   "cell_type": "code",
   "execution_count": 55,
   "metadata": {},
   "outputs": [
    {
     "data": {
      "text/plain": [
       "([('香港', 39),\n",
       "  ('疫情', 34),\n",
       "  ('疫苗', 32),\n",
       "  ('接種', 20),\n",
       "  ('中國', 16),\n",
       "  ('長者', 15),\n",
       "  ('死亡率', 13),\n",
       "  ('病例', 12),\n",
       "  ('確診', 8),\n",
       "  ('病毒', 8),\n",
       "  ('醫療', 8),\n",
       "  ('陳時中', 7),\n",
       "  ('安老院', 7),\n",
       "  ('人士', 7),\n",
       "  ('大學', 7),\n",
       "  ('資源', 7),\n",
       "  ('薛達', 6),\n",
       "  ('施打', 6),\n",
       "  ('解封', 5),\n",
       "  ('開放', 5)],\n",
       " [{'text': '香港', 'size': 120},\n",
       "  {'text': '疫情', 'size': 105},\n",
       "  {'text': '疫苗', 'size': 99},\n",
       "  {'text': '接種', 'size': 64},\n",
       "  {'text': '中國', 'size': 52},\n",
       "  {'text': '長者', 'size': 49},\n",
       "  {'text': '死亡率', 'size': 43},\n",
       "  {'text': '病例', 'size': 40},\n",
       "  {'text': '確診', 'size': 28},\n",
       "  {'text': '病毒', 'size': 28},\n",
       "  {'text': '醫療', 'size': 28},\n",
       "  {'text': '陳時中', 'size': 25},\n",
       "  {'text': '安老院', 'size': 25},\n",
       "  {'text': '人士', 'size': 25},\n",
       "  {'text': '大學', 'size': 25},\n",
       "  {'text': '資源', 'size': 25},\n",
       "  {'text': '薛達', 'size': 22},\n",
       "  {'text': '施打', 'size': 22},\n",
       "  {'text': '解封', 'size': 20},\n",
       "  {'text': '開放', 'size': 20}])"
      ]
     },
     "execution_count": 55,
     "metadata": {},
     "output_type": "execute_result"
    }
   ],
   "source": [
    "user_keywords = ['疫情','疫苗']\n",
    "cond='and'\n",
    "cate='全部'\n",
    "weeks=2\n",
    "df_query = filter_dataFrame_fullText(user_keywords, cond, cate, weeks)\n",
    "\n",
    "get_related_word_clouddata(df_query)"
   ]
  },
  {
   "cell_type": "code",
   "execution_count": null,
   "metadata": {},
   "outputs": [],
   "source": []
  },
  {
   "cell_type": "markdown",
   "metadata": {
    "toc-hr-collapsed": true
   },
   "source": [
    "# Find paragraphs containing the keywords. \n",
    "\n",
    "    There may be too many related paragraphs, so we display only some of them on our Django website\n",
    "    一一比對文章段落，找出關鍵詞所在的段落"
   ]
  },
  {
   "cell_type": "markdown",
   "metadata": {},
   "source": [
    "## All-in-one function: Find related paragraphs"
   ]
  },
  {
   "cell_type": "code",
   "execution_count": 56,
   "metadata": {},
   "outputs": [],
   "source": [
    "import re\n",
    "\n",
    "# Step1: split paragraphs in text 先將文章切成一個段落一個段落\n",
    "def cut_paragraph(text):\n",
    "    paragraphs = text.split('。')  # 遇到句號就切開\n",
    "    #paragraphs = re.split('。', text) # 遇到句號就切開\n",
    "    #paragraphs = re.split('[。！!？?]', text) # 遇到句號(也納入問號、驚嘆號、分號等)就切開\n",
    "    paragraphs = list(filter(None, paragraphs))\n",
    "    return paragraphs\n",
    "\n",
    "\n",
    "import re\n",
    "# Find out all paragraphs where multiple keywords occur.\n",
    "def get_same_para(df_query, user_keywords, cond, k=30):\n",
    "    same_para=[]\n",
    "    for text in df_query.content:\n",
    "        #print(text)\n",
    "        paragraphs = cut_paragraph(text)\n",
    "        for para in paragraphs:\n",
    "            para += \"。\"  # 在每段落文字後面加一個句號。\n",
    "            # 判斷每個段落文字是否包含該關鍵字，and or分開判斷\n",
    "            if cond == 'and':\n",
    "                if all([kw in para for kw in user_keywords]):\n",
    "                    same_para.append(para)  # 符合條件的段落para保存起來\n",
    "            elif cond == 'or':\n",
    "                if any([kw in para for kw in user_keywords]):\n",
    "                    same_para.append(para)  # 符合條件的段落para保存起來\n",
    "    return same_para[0:k]\n",
    "\n",
    "\n",
    "\n",
    "# Step2: Select all paragraphs where multiple keywords occur.\n",
    "def get_same_para(df_query, user_keywords, cond, k=30):\n",
    "    same_para=[]\n",
    "    for text in df_query.content:\n",
    "        #print(text)\n",
    "        paragraphs = cut_paragraph(text)\n",
    "        for para in paragraphs:\n",
    "            para += \"。\"\n",
    "            if cond=='and':\n",
    "                if all([re.search(kw, para) for kw in user_keywords]):\n",
    "                    same_para.append(para)\n",
    "            elif cond=='or':\n",
    "                if any([re.search(kw, para) for kw in user_keywords]):\n",
    "                    same_para.append(para)\n",
    "    return same_para[0:k]\n"
   ]
  },
  {
   "cell_type": "code",
   "execution_count": 57,
   "metadata": {},
   "outputs": [],
   "source": [
    "user_keywords = ['疫情','疫苗','香港']\n",
    "cond='and'\n",
    "cate='全部'\n",
    "weeks=2\n",
    "df_query = filter_dataFrame_fullText(user_keywords, cond, cate, weeks)"
   ]
  },
  {
   "cell_type": "code",
   "execution_count": 58,
   "metadata": {},
   "outputs": [
    {
     "data": {
      "text/plain": [
       "6"
      ]
     },
     "execution_count": 58,
     "metadata": {},
     "output_type": "execute_result"
    }
   ],
   "source": [
    "len(df_query)"
   ]
  },
  {
   "cell_type": "code",
   "execution_count": 59,
   "metadata": {},
   "outputs": [
    {
     "data": {
      "text/plain": [
       "['但可惜香港長者疫情接種率低，至今只有54.6%的80歲以上長者已接種1劑或以上疫苗。',\n",
       " '香港有超過90%染疫死者未完成接種2劑疫苗，而絕大部份人之前沒有感染過COVID-19病毒，所以在第5波疫情中沒有交叉保護作用。',\n",
       " '香港的COVID-19（2019冠狀病毒疾病）疫情嚴峻，官員表示，考慮擴大家居接種服務，上門為獨居或行動不便的長者和殘障人士施打疫苗。']"
      ]
     },
     "execution_count": 59,
     "metadata": {},
     "output_type": "execute_result"
    }
   ],
   "source": [
    "get_same_para(df_query, user_keywords, 'and', k=10)"
   ]
  },
  {
   "cell_type": "code",
   "execution_count": null,
   "metadata": {},
   "outputs": [],
   "source": []
  },
  {
   "cell_type": "markdown",
   "metadata": {},
   "source": [
    "## A Step by step demonstration"
   ]
  },
  {
   "cell_type": "markdown",
   "metadata": {},
   "source": [
    "## Step1: cut_paragraph() function"
   ]
  },
  {
   "cell_type": "code",
   "execution_count": 60,
   "metadata": {},
   "outputs": [
    {
     "data": {
      "text/html": [
       "<div>\n",
       "<style scoped>\n",
       "    .dataframe tbody tr th:only-of-type {\n",
       "        vertical-align: middle;\n",
       "    }\n",
       "\n",
       "    .dataframe tbody tr th {\n",
       "        vertical-align: top;\n",
       "    }\n",
       "\n",
       "    .dataframe thead th {\n",
       "        text-align: right;\n",
       "    }\n",
       "</style>\n",
       "<table border=\"1\" class=\"dataframe\">\n",
       "  <thead>\n",
       "    <tr style=\"text-align: right;\">\n",
       "      <th></th>\n",
       "      <th>item_id</th>\n",
       "      <th>date</th>\n",
       "      <th>category</th>\n",
       "      <th>title</th>\n",
       "      <th>content</th>\n",
       "      <th>sentiment</th>\n",
       "      <th>summary</th>\n",
       "      <th>top_key_freq</th>\n",
       "      <th>tokens</th>\n",
       "      <th>tokens_v2</th>\n",
       "      <th>entities</th>\n",
       "      <th>token_pos</th>\n",
       "      <th>link</th>\n",
       "      <th>photo_link</th>\n",
       "    </tr>\n",
       "  </thead>\n",
       "  <tbody>\n",
       "    <tr>\n",
       "      <th>0</th>\n",
       "      <td>aipl_20220314_1</td>\n",
       "      <td>2022-03-14</td>\n",
       "      <td>政治</td>\n",
       "      <td>外交部援烏物資已募4000箱 吳釗燮感謝捐贈民眾</td>\n",
       "      <td>民眾捐贈烏克蘭的愛心物資持續湧入外交部，截至今天傍晚累計已收到約4000箱，外交部長吳釗燮中...</td>\n",
       "      <td>0.01</td>\n",
       "      <td>['外交部除感謝熱心民眾踴躍捐贈援助烏克蘭人道物資外', '親赴外交部捐贈物資的民眾約173...</td>\n",
       "      <td>[('外交部', 14), ('民眾', 7), ('物資', 7), ('烏克蘭', 5)...</td>\n",
       "      <td>['民眾', '捐贈', '烏克蘭', '的', '愛心', '物資', '持續', '湧入...</td>\n",
       "      <td>['民眾', '烏克蘭', '愛心', '物資', '外交部', '收到', '外交部長',...</td>\n",
       "      <td>[NerToken(word='烏克蘭', ner='GPE', idx=(4, 7)), ...</td>\n",
       "      <td>[('民眾', 'Na'), ('捐贈', 'VD'), ('烏克蘭', 'Nc'), ('...</td>\n",
       "      <td>https://www.cna.com.tw/news/aipl/202203140364....</td>\n",
       "      <td>https://imgcdn.cna.com.tw/www/WebPhotos/200/20...</td>\n",
       "    </tr>\n",
       "  </tbody>\n",
       "</table>\n",
       "</div>"
      ],
      "text/plain": [
       "           item_id        date category                     title  \\\n",
       "0  aipl_20220314_1  2022-03-14       政治  外交部援烏物資已募4000箱 吳釗燮感謝捐贈民眾   \n",
       "\n",
       "                                             content  sentiment  \\\n",
       "0  民眾捐贈烏克蘭的愛心物資持續湧入外交部，截至今天傍晚累計已收到約4000箱，外交部長吳釗燮中...       0.01   \n",
       "\n",
       "                                             summary  \\\n",
       "0  ['外交部除感謝熱心民眾踴躍捐贈援助烏克蘭人道物資外', '親赴外交部捐贈物資的民眾約173...   \n",
       "\n",
       "                                        top_key_freq  \\\n",
       "0  [('外交部', 14), ('民眾', 7), ('物資', 7), ('烏克蘭', 5)...   \n",
       "\n",
       "                                              tokens  \\\n",
       "0  ['民眾', '捐贈', '烏克蘭', '的', '愛心', '物資', '持續', '湧入...   \n",
       "\n",
       "                                           tokens_v2  \\\n",
       "0  ['民眾', '烏克蘭', '愛心', '物資', '外交部', '收到', '外交部長',...   \n",
       "\n",
       "                                            entities  \\\n",
       "0  [NerToken(word='烏克蘭', ner='GPE', idx=(4, 7)), ...   \n",
       "\n",
       "                                           token_pos  \\\n",
       "0  [('民眾', 'Na'), ('捐贈', 'VD'), ('烏克蘭', 'Nc'), ('...   \n",
       "\n",
       "                                                link  \\\n",
       "0  https://www.cna.com.tw/news/aipl/202203140364....   \n",
       "\n",
       "                                          photo_link  \n",
       "0  https://imgcdn.cna.com.tw/www/WebPhotos/200/20...  "
      ]
     },
     "execution_count": 60,
     "metadata": {},
     "output_type": "execute_result"
    }
   ],
   "source": [
    "df.head(1)"
   ]
  },
  {
   "cell_type": "code",
   "execution_count": 61,
   "metadata": {},
   "outputs": [
    {
     "data": {
      "text/plain": [
       "'民眾捐贈烏克蘭的愛心物資持續湧入外交部，截至今天傍晚累計已收到約4000箱，外交部長吳釗燮中午親自到現場為協助整理物資的志工加油，並對捐贈民眾表達感謝。外交部晚間發布新聞稿指出，外交部從7日開始向民間募集捐贈烏克蘭難民的物資，獲得熱烈響應，親赴外交部捐贈物資的民眾約1730人，加上郵寄包裹，目前約已收到4000箱物資，品項以醫療口罩、毛毯、女性衛生用品、尿片、餅乾等為主，募集活動將持續到18日。外交部表示，為了感謝捐贈民眾，與在現場辛苦分類整理的志工、外交部人員，吳釗燮今天中午特別前往外交部西側門地下停車場視察，吳釗燮與在場的慈濟等民間慈善組織志工，以及其他自發到場幫忙的善心人士親切互動，對於也有烏克蘭旅台人士自願擔任義工在現場協助，吳釗燮特別致意慰問。根據外交部提供的照片，到場幫忙的烏克蘭志工是極為關心家鄉情勢的網紅佳娜。外交部再度提醒有意捐贈物資的民眾，捐贈物品請依照外交部網站所公布的清單為限，切勿捐贈或郵寄二手物品或衣物。送到外交部的捐贈物品務必為全新物品、未拆封包裝、有效期至少6個月以上，以免造成整理及後續轉運捐贈的困擾。募集截止時間是3月18日下午5時以前，民眾可以用面送或郵寄清單所列的20類物品及 14 類藥品至外交部。外交部除感謝熱心民眾踴躍捐贈援助烏克蘭人道物資外，也感謝許多志工義務幫忙、貢獻己力。外交部對各界人士奉獻時間與精神投入國際人道援助，表達最高的敬意。'"
      ]
     },
     "execution_count": 61,
     "metadata": {},
     "output_type": "execute_result"
    }
   ],
   "source": [
    "text = df.content[0]\n",
    "text"
   ]
  },
  {
   "cell_type": "code",
   "execution_count": 62,
   "metadata": {},
   "outputs": [],
   "source": [
    "# Step1: split paragraphs in text 先將文章切成一個段落一個段落\n",
    "def cut_paragraph(text):\n",
    "    paragraphs = text.split('。')  # 遇到句號就切開\n",
    "    #paragraphs = re.split('。', text) # 遇到句號就切開\n",
    "    #paragraphs = re.split('[。！!？?]', text) # 遇到句號(也納入問號、驚嘆號、分號等)就切開\n",
    "    paragraphs = list(filter(None, paragraphs))\n",
    "    return paragraphs\n"
   ]
  },
  {
   "cell_type": "code",
   "execution_count": 63,
   "metadata": {},
   "outputs": [
    {
     "data": {
      "text/plain": [
       "['民眾捐贈烏克蘭的愛心物資持續湧入外交部，截至今天傍晚累計已收到約4000箱，外交部長吳釗燮中午親自到現場為協助整理物資的志工加油，並對捐贈民眾表達感謝',\n",
       " '外交部晚間發布新聞稿指出，外交部從7日開始向民間募集捐贈烏克蘭難民的物資，獲得熱烈響應，親赴外交部捐贈物資的民眾約1730人，加上郵寄包裹，目前約已收到4000箱物資，品項以醫療口罩、毛毯、女性衛生用品、尿片、餅乾等為主，募集活動將持續到18日',\n",
       " '外交部表示，為了感謝捐贈民眾，與在現場辛苦分類整理的志工、外交部人員，吳釗燮今天中午特別前往外交部西側門地下停車場視察，吳釗燮與在場的慈濟等民間慈善組織志工，以及其他自發到場幫忙的善心人士親切互動，對於也有烏克蘭旅台人士自願擔任義工在現場協助，吳釗燮特別致意慰問',\n",
       " '根據外交部提供的照片，到場幫忙的烏克蘭志工是極為關心家鄉情勢的網紅佳娜',\n",
       " '外交部再度提醒有意捐贈物資的民眾，捐贈物品請依照外交部網站所公布的清單為限，切勿捐贈或郵寄二手物品或衣物',\n",
       " '送到外交部的捐贈物品務必為全新物品、未拆封包裝、有效期至少6個月以上，以免造成整理及後續轉運捐贈的困擾',\n",
       " '募集截止時間是3月18日下午5時以前，民眾可以用面送或郵寄清單所列的20類物品及 14 類藥品至外交部',\n",
       " '外交部除感謝熱心民眾踴躍捐贈援助烏克蘭人道物資外，也感謝許多志工義務幫忙、貢獻己力',\n",
       " '外交部對各界人士奉獻時間與精神投入國際人道援助，表達最高的敬意']"
      ]
     },
     "execution_count": 63,
     "metadata": {},
     "output_type": "execute_result"
    }
   ],
   "source": [
    "paragraphs = cut_paragraph(text)\n",
    "paragraphs"
   ]
  },
  {
   "cell_type": "code",
   "execution_count": 64,
   "metadata": {},
   "outputs": [
    {
     "data": {
      "text/plain": [
       "'民眾捐贈烏克蘭的愛心物資持續湧入外交部，截至今天傍晚累計已收到約4000箱，外交部長吳釗燮中午親自到現場為協助整理物資的志工加油，並對捐贈民眾表達感謝。外交部晚間發布新聞稿指出，外交部從7日開始向民間募集捐贈烏克蘭難民的物資，獲得熱烈響應，親赴外交部捐贈物資的民眾約1730人，加上郵寄包裹，目前約已收到4000箱物資，品項以醫療口罩、毛毯、女性衛生用品、尿片、餅乾等為主，募集活動將持續到18日。外交部表示，為了感謝捐贈民眾，與在現場辛苦分類整理的志工、外交部人員，吳釗燮今天中午特別前往外交部西側門地下停車場視察，吳釗燮與在場的慈濟等民間慈善組織志工，以及其他自發到場幫忙的善心人士親切互動，對於也有烏克蘭旅台人士自願擔任義工在現場協助，吳釗燮特別致意慰問。根據外交部提供的照片，到場幫忙的烏克蘭志工是極為關心家鄉情勢的網紅佳娜。外交部再度提醒有意捐贈物資的民眾，捐贈物品請依照外交部網站所公布的清單為限，切勿捐贈或郵寄二手物品或衣物。送到外交部的捐贈物品務必為全新物品、未拆封包裝、有效期至少6個月以上，以免造成整理及後續轉運捐贈的困擾。募集截止時間是3月18日下午5時以前，民眾可以用面送或郵寄清單所列的20類物品及 14 類藥品至外交部。外交部除感謝熱心民眾踴躍捐贈援助烏克蘭人道物資外，也感謝許多志工義務幫忙、貢獻己力。外交部對各界人士奉獻時間與精神投入國際人道援助，表達最高的敬意。'"
      ]
     },
     "execution_count": 64,
     "metadata": {},
     "output_type": "execute_result"
    }
   ],
   "source": [
    "text"
   ]
  },
  {
   "cell_type": "code",
   "execution_count": 65,
   "metadata": {},
   "outputs": [
    {
     "data": {
      "text/plain": [
       "['民眾捐贈烏克蘭的愛心物資持續湧入外交部，截至今天傍晚累計已收到約4000箱，外交部長吳釗燮中午親自到現場為協助整理物資的志工加油，並對捐贈民眾表達感謝',\n",
       " '外交部晚間發布新聞稿指出，外交部從7日開始向民間募集捐贈烏克蘭難民的物資，獲得熱烈響應，親赴外交部捐贈物資的民眾約1730人，加上郵寄包裹，目前約已收到4000箱物資，品項以醫療口罩、毛毯、女性衛生用品、尿片、餅乾等為主，募集活動將持續到18日',\n",
       " '外交部表示，為了感謝捐贈民眾，與在現場辛苦分類整理的志工、外交部人員，吳釗燮今天中午特別前往外交部西側門地下停車場視察，吳釗燮與在場的慈濟等民間慈善組織志工，以及其他自發到場幫忙的善心人士親切互動，對於也有烏克蘭旅台人士自願擔任義工在現場協助，吳釗燮特別致意慰問',\n",
       " '根據外交部提供的照片，到場幫忙的烏克蘭志工是極為關心家鄉情勢的網紅佳娜',\n",
       " '外交部再度提醒有意捐贈物資的民眾，捐贈物品請依照外交部網站所公布的清單為限，切勿捐贈或郵寄二手物品或衣物',\n",
       " '送到外交部的捐贈物品務必為全新物品、未拆封包裝、有效期至少6個月以上，以免造成整理及後續轉運捐贈的困擾',\n",
       " '募集截止時間是3月18日下午5時以前，民眾可以用面送或郵寄清單所列的20類物品及 14 類藥品至外交部',\n",
       " '外交部除感謝熱心民眾踴躍捐贈援助烏克蘭人道物資外，也感謝許多志工義務幫忙、貢獻己力',\n",
       " '外交部對各界人士奉獻時間與精神投入國際人道援助，表達最高的敬意',\n",
       " '']"
      ]
     },
     "execution_count": 65,
     "metadata": {},
     "output_type": "execute_result"
    }
   ],
   "source": [
    "text.split('。')\n"
   ]
  },
  {
   "cell_type": "code",
   "execution_count": 66,
   "metadata": {},
   "outputs": [
    {
     "data": {
      "text/plain": [
       "['民眾捐贈烏克蘭的愛心物資持續湧入外交部，截至今天傍晚累計已收到約4000箱，外交部長吳釗燮中午親自到現場為協助整理物資的志工加油，並對捐贈民眾表達感謝',\n",
       " '外交部晚間發布新聞稿指出，外交部從7日開始向民間募集捐贈烏克蘭難民的物資，獲得熱烈響應，親赴外交部捐贈物資的民眾約1730人，加上郵寄包裹，目前約已收到4000箱物資，品項以醫療口罩、毛毯、女性衛生用品、尿片、餅乾等為主，募集活動將持續到18日',\n",
       " '外交部表示，為了感謝捐贈民眾，與在現場辛苦分類整理的志工、外交部人員，吳釗燮今天中午特別前往外交部西側門地下停車場視察，吳釗燮與在場的慈濟等民間慈善組織志工，以及其他自發到場幫忙的善心人士親切互動，對於也有烏克蘭旅台人士自願擔任義工在現場協助，吳釗燮特別致意慰問',\n",
       " '根據外交部提供的照片，到場幫忙的烏克蘭志工是極為關心家鄉情勢的網紅佳娜',\n",
       " '外交部再度提醒有意捐贈物資的民眾，捐贈物品請依照外交部網站所公布的清單為限，切勿捐贈或郵寄二手物品或衣物',\n",
       " '送到外交部的捐贈物品務必為全新物品、未拆封包裝、有效期至少6個月以上，以免造成整理及後續轉運捐贈的困擾',\n",
       " '募集截止時間是3月18日下午5時以前，民眾可以用面送或郵寄清單所列的20類物品及 14 類藥品至外交部',\n",
       " '外交部除感謝熱心民眾踴躍捐贈援助烏克蘭人道物資外，也感謝許多志工義務幫忙、貢獻己力',\n",
       " '外交部對各界人士奉獻時間與精神投入國際人道援助，表達最高的敬意']"
      ]
     },
     "execution_count": 66,
     "metadata": {},
     "output_type": "execute_result"
    }
   ],
   "source": [
    "paragraphs = text.split('。')\n",
    "list(filter(None, paragraphs))\n"
   ]
  },
  {
   "cell_type": "code",
   "execution_count": 67,
   "metadata": {},
   "outputs": [
    {
     "data": {
      "text/plain": [
       "['民眾捐贈烏克蘭的愛心物資持續湧入外交部，截至今天傍晚累計已收到約4000箱，外交部長吳釗燮中午親自到現場為協助整理物資的志工加油，並對捐贈民眾表達感謝',\n",
       " '外交部晚間發布新聞稿指出，外交部從7日開始向民間募集捐贈烏克蘭難民的物資，獲得熱烈響應，親赴外交部捐贈物資的民眾約1730人，加上郵寄包裹，目前約已收到4000箱物資，品項以醫療口罩、毛毯、女性衛生用品、尿片、餅乾等為主，募集活動將持續到18日',\n",
       " '外交部表示，為了感謝捐贈民眾，與在現場辛苦分類整理的志工、外交部人員，吳釗燮今天中午特別前往外交部西側門地下停車場視察，吳釗燮與在場的慈濟等民間慈善組織志工，以及其他自發到場幫忙的善心人士親切互動，對於也有烏克蘭旅台人士自願擔任義工在現場協助，吳釗燮特別致意慰問',\n",
       " '根據外交部提供的照片，到場幫忙的烏克蘭志工是極為關心家鄉情勢的網紅佳娜',\n",
       " '外交部再度提醒有意捐贈物資的民眾，捐贈物品請依照外交部網站所公布的清單為限，切勿捐贈或郵寄二手物品或衣物',\n",
       " '送到外交部的捐贈物品務必為全新物品、未拆封包裝、有效期至少6個月以上，以免造成整理及後續轉運捐贈的困擾',\n",
       " '募集截止時間是3月18日下午5時以前，民眾可以用面送或郵寄清單所列的20類物品及 14 類藥品至外交部',\n",
       " '外交部除感謝熱心民眾踴躍捐贈援助烏克蘭人道物資外，也感謝許多志工義務幫忙、貢獻己力',\n",
       " '外交部對各界人士奉獻時間與精神投入國際人道援助，表達最高的敬意',\n",
       " '']"
      ]
     },
     "execution_count": 67,
     "metadata": {},
     "output_type": "execute_result"
    }
   ],
   "source": [
    "re.split('[。！!？?]', text) # regular expression 正規式 正則式"
   ]
  },
  {
   "cell_type": "markdown",
   "metadata": {},
   "source": [
    "### How to cut paragraph? \n",
    "\n",
    "    (1) Approach 1:\n",
    "    string.split() (it does not support regex)\n",
    "\n",
    "    (2)Approach 2:\n",
    "    Use regular expression正規式 re.split() \n",
    "    re.split() works fine\n",
    "\n",
    "Simpe example to demonstrate the usage of re.split()"
   ]
  },
  {
   "cell_type": "code",
   "execution_count": 68,
   "metadata": {},
   "outputs": [
    {
     "data": {
      "text/plain": [
       "['這是第1句話', '這是第2句話?這是第3句話', '']"
      ]
     },
     "execution_count": 68,
     "metadata": {},
     "output_type": "execute_result"
    }
   ],
   "source": [
    "# Use string split().  It does not support regex.\n",
    "# Split stentence using delimiter or separator '。'\n",
    "\n",
    "text = '這是第1句話。這是第2句話?這是第3句話。'\n",
    "text.split('。')"
   ]
  },
  {
   "cell_type": "code",
   "execution_count": 69,
   "metadata": {},
   "outputs": [
    {
     "data": {
      "text/plain": [
       "['這是第1句話。這是第2句話?這是第3句話。']"
      ]
     },
     "execution_count": 69,
     "metadata": {},
     "output_type": "execute_result"
    }
   ],
   "source": [
    "# It doesn't work. string split() method does not support regex\n",
    "text.split('[。?]')"
   ]
  },
  {
   "cell_type": "code",
   "execution_count": 70,
   "metadata": {},
   "outputs": [],
   "source": [
    "import re"
   ]
  },
  {
   "cell_type": "code",
   "execution_count": 71,
   "metadata": {},
   "outputs": [
    {
     "data": {
      "text/plain": [
       "['這是第1句話', '這是，第2句話?這是--第3句話', '']"
      ]
     },
     "execution_count": 71,
     "metadata": {},
     "output_type": "execute_result"
    }
   ],
   "source": [
    "re.split('。', \"這是第1句話。這是，第2句話?這是--第3句話。\")"
   ]
  },
  {
   "cell_type": "code",
   "execution_count": 72,
   "metadata": {},
   "outputs": [],
   "source": [
    "# 如果納入多個符號去切割，必須用regular expression\n",
    "# Here, [abc] will match if the string you are trying to match contains any of the a, b or c . \n",
    "# You can also specify a range of characters using - inside square brackets. [a-e] is the same as [abcde] . [1-4] is the same as [1234] .\n"
   ]
  },
  {
   "cell_type": "code",
   "execution_count": 73,
   "metadata": {},
   "outputs": [
    {
     "data": {
      "text/plain": [
       "['這是第1句話', '這是，第2句話', '這是--第3句話', '']"
      ]
     },
     "execution_count": 73,
     "metadata": {},
     "output_type": "execute_result"
    }
   ],
   "source": [
    "# separator:。 ?\n",
    "re.split('[。?]', \"這是第1句話。這是，第2句話?這是--第3句話。\")"
   ]
  },
  {
   "cell_type": "code",
   "execution_count": 74,
   "metadata": {},
   "outputs": [
    {
     "data": {
      "text/plain": [
       "['這是第1句話', '這是，第2句話', '這是--第3句話', '']"
      ]
     },
     "execution_count": 74,
     "metadata": {},
     "output_type": "execute_result"
    }
   ],
   "source": [
    "# \"|\" means or 可以加上｜去分隔開來，特別適用於當切割符號是由多個字組成時。\n",
    "# separator:。 ?\n",
    "re.split(r'[。|?]', \"這是第1句話。這是，第2句話?這是--第3句話。\")"
   ]
  },
  {
   "cell_type": "code",
   "execution_count": 75,
   "metadata": {},
   "outputs": [
    {
     "data": {
      "text/plain": [
       "['這', '第1', '', '。這', '，第2', '', '?這', '--第3', '', '。']"
      ]
     },
     "execution_count": 75,
     "metadata": {},
     "output_type": "execute_result"
    }
   ],
   "source": [
    "# \"|\" means or\n",
    "# separator:。 ?\n",
    "re.split('[句話|是]', \"這是第1句話。這是，第2句話?這是--第3句話。\")"
   ]
  },
  {
   "cell_type": "markdown",
   "metadata": {},
   "source": [
    "#### How to remove the empty elements?"
   ]
  },
  {
   "cell_type": "code",
   "execution_count": 76,
   "metadata": {},
   "outputs": [],
   "source": [
    "# Do you notice the last element is an empty string?"
   ]
  },
  {
   "cell_type": "code",
   "execution_count": 77,
   "metadata": {},
   "outputs": [],
   "source": [
    "result = re.split(r'[。?]', \"這是第1句話。這是，第2句話?這是--第3句話。\")"
   ]
  },
  {
   "cell_type": "code",
   "execution_count": 78,
   "metadata": {},
   "outputs": [
    {
     "data": {
      "text/plain": [
       "<filter at 0x2d305504e50>"
      ]
     },
     "execution_count": 78,
     "metadata": {},
     "output_type": "execute_result"
    }
   ],
   "source": [
    "# Using Python filter function\n",
    "filter(None, result)"
   ]
  },
  {
   "cell_type": "code",
   "execution_count": 79,
   "metadata": {},
   "outputs": [
    {
     "data": {
      "text/plain": [
       "['這是第1句話', '這是，第2句話', '這是--第3句話']"
      ]
     },
     "execution_count": 79,
     "metadata": {},
     "output_type": "execute_result"
    }
   ],
   "source": [
    "list(filter(None, result))"
   ]
  },
  {
   "cell_type": "code",
   "execution_count": 80,
   "metadata": {},
   "outputs": [
    {
     "data": {
      "text/plain": [
       "['這是第1句話', '這是，第2句話', '這是--第3句話']"
      ]
     },
     "execution_count": 80,
     "metadata": {},
     "output_type": "execute_result"
    }
   ],
   "source": [
    "# An alternative way\n",
    "[item for item in result if item]"
   ]
  },
  {
   "cell_type": "code",
   "execution_count": null,
   "metadata": {},
   "outputs": [],
   "source": []
  },
  {
   "cell_type": "markdown",
   "metadata": {},
   "source": [
    "## Step 2: Find paragraphs containing keywords"
   ]
  },
  {
   "cell_type": "markdown",
   "metadata": {},
   "source": [
    "### All-in-one function"
   ]
  },
  {
   "cell_type": "code",
   "execution_count": 81,
   "metadata": {},
   "outputs": [],
   "source": [
    "import re\n",
    "# Find out all paragraphs where multiple keywords occur.\n",
    "def get_same_para(df_query, user_keywords, cond, k=30):\n",
    "    same_para=[]\n",
    "    for text in df_query.content:\n",
    "        #print(text)\n",
    "        paragraphs = cut_paragraph(text)\n",
    "        for para in paragraphs:\n",
    "            para += \"。\"  # 在每段落文字後面加一個句號。\n",
    "            # 判斷每個段落文字是否包含該關鍵字，and or分開判斷\n",
    "            if cond == 'and':\n",
    "                if all([kw in para for kw in user_keywords]):\n",
    "                    same_para.append(para)  # 符合條件的段落para保存起來\n",
    "            elif cond == 'or':\n",
    "                if any([kw in para for kw in user_keywords]):\n",
    "                    same_para.append(para)  # 符合條件的段落para保存起來\n",
    "    return same_para[0:k]\n"
   ]
  },
  {
   "cell_type": "code",
   "execution_count": 82,
   "metadata": {},
   "outputs": [],
   "source": [
    "user_keywords = ['疫情','疫苗']\n",
    "cond='and'\n",
    "cate='全部'\n",
    "weeks=2\n",
    "df_query = filter_dataFrame_fullText(user_keywords, cond, cate, weeks)"
   ]
  },
  {
   "cell_type": "code",
   "execution_count": 83,
   "metadata": {},
   "outputs": [
    {
     "data": {
      "text/plain": [
       "6"
      ]
     },
     "execution_count": 83,
     "metadata": {},
     "output_type": "execute_result"
    }
   ],
   "source": [
    "len(df_query)"
   ]
  },
  {
   "cell_type": "code",
   "execution_count": 84,
   "metadata": {},
   "outputs": [
    {
     "data": {
      "text/plain": [
       "['陳時中說，無法預訂全面解封時程，這需要檢視自主應變能力、疫苗涵蓋率、國內外疫情狀況等；但，防疫規範整體是朝鬆綁邁進。',\n",
       " '但可惜香港長者疫情接種率低，至今只有54.6%的80歲以上長者已接種1劑或以上疫苗。',\n",
       " '香港有超過90%染疫死者未完成接種2劑疫苗，而絕大部份人之前沒有感染過COVID-19病毒，所以在第5波疫情中沒有交叉保護作用。',\n",
       " '他擔心港人已習慣每天逾萬例確診，隨著愈來愈多市民染疫後康復以及接種疫苗人口增加，加上抗疫疲勞，市民可能鬆懈，隨時讓令疫情反彈。',\n",
       " '香港的COVID-19（2019冠狀病毒疾病）疫情嚴峻，官員表示，考慮擴大家居接種服務，上門為獨居或行動不便的長者和殘障人士施打疫苗。',\n",
       " '他認為這些接下來應該加強做的事包括：老年人普遍的第3針接種，以及「更好的疫苗」與疫苗接種策略；可以廣泛供給的口服藥物；可以負擔得起的廣泛提供的居家檢測試劑；得到有效訓練和預演的分級診療策略；未來居家隔離的流程，下一次更大規模輸入與本土疫情疊加時所需的完整防控體系和充足醫療資源的準備等。']"
      ]
     },
     "execution_count": 84,
     "metadata": {},
     "output_type": "execute_result"
    }
   ],
   "source": [
    "get_same_para(df_query, user_keywords, 'and', k=10)"
   ]
  },
  {
   "cell_type": "markdown",
   "metadata": {},
   "source": [
    "### Step by step demonstration"
   ]
  },
  {
   "cell_type": "code",
   "execution_count": 85,
   "metadata": {},
   "outputs": [
    {
     "data": {
      "text/html": [
       "<div>\n",
       "<style scoped>\n",
       "    .dataframe tbody tr th:only-of-type {\n",
       "        vertical-align: middle;\n",
       "    }\n",
       "\n",
       "    .dataframe tbody tr th {\n",
       "        vertical-align: top;\n",
       "    }\n",
       "\n",
       "    .dataframe thead th {\n",
       "        text-align: right;\n",
       "    }\n",
       "</style>\n",
       "<table border=\"1\" class=\"dataframe\">\n",
       "  <thead>\n",
       "    <tr style=\"text-align: right;\">\n",
       "      <th></th>\n",
       "      <th>item_id</th>\n",
       "      <th>date</th>\n",
       "      <th>category</th>\n",
       "      <th>title</th>\n",
       "      <th>content</th>\n",
       "      <th>sentiment</th>\n",
       "      <th>summary</th>\n",
       "      <th>top_key_freq</th>\n",
       "      <th>tokens</th>\n",
       "      <th>tokens_v2</th>\n",
       "      <th>entities</th>\n",
       "      <th>token_pos</th>\n",
       "      <th>link</th>\n",
       "      <th>photo_link</th>\n",
       "    </tr>\n",
       "  </thead>\n",
       "  <tbody>\n",
       "    <tr>\n",
       "      <th>137</th>\n",
       "      <td>ahel_20220314_18</td>\n",
       "      <td>2022-03-14</td>\n",
       "      <td>生活</td>\n",
       "      <td>陳時中：國門解封戒慎不恐懼  檢疫10天應該安全</td>\n",
       "      <td>邊境管制3月7日起鬆綁，指揮中心指揮官陳時中今天說，入境檢疫10天應該安全，現在談全面解封言...</td>\n",
       "      <td>0.0</td>\n",
       "      <td>['台灣3月7日起將入境檢疫期縮短至10天', '中央流行疫情指揮中心指揮官陳時中今天在記者...</td>\n",
       "      <td>[('陳時中', 7), ('解封', 5), ('疫情', 4), ('檢疫期', 3),...</td>\n",
       "      <td>['邊境', '管制', '3月', '7日', '起', '鬆綁', '，', '指揮',...</td>\n",
       "      <td>['邊境', '鬆綁', '指揮', '中心', '指揮官', '陳時中', '入境', '...</td>\n",
       "      <td>[NerToken(word='3月7日', ner='DATE', idx=(4, 8))...</td>\n",
       "      <td>[('邊境', 'Nc'), ('管制', 'Nv'), ('3月', 'Nd'), ('7...</td>\n",
       "      <td>https://www.cna.com.tw/news/ahel/202203140235....</td>\n",
       "      <td>NaN</td>\n",
       "    </tr>\n",
       "  </tbody>\n",
       "</table>\n",
       "</div>"
      ],
      "text/plain": [
       "              item_id        date category                     title  \\\n",
       "137  ahel_20220314_18  2022-03-14       生活  陳時中：國門解封戒慎不恐懼  檢疫10天應該安全   \n",
       "\n",
       "                                               content  sentiment  \\\n",
       "137  邊境管制3月7日起鬆綁，指揮中心指揮官陳時中今天說，入境檢疫10天應該安全，現在談全面解封言...        0.0   \n",
       "\n",
       "                                               summary  \\\n",
       "137  ['台灣3月7日起將入境檢疫期縮短至10天', '中央流行疫情指揮中心指揮官陳時中今天在記者...   \n",
       "\n",
       "                                          top_key_freq  \\\n",
       "137  [('陳時中', 7), ('解封', 5), ('疫情', 4), ('檢疫期', 3),...   \n",
       "\n",
       "                                                tokens  \\\n",
       "137  ['邊境', '管制', '3月', '7日', '起', '鬆綁', '，', '指揮',...   \n",
       "\n",
       "                                             tokens_v2  \\\n",
       "137  ['邊境', '鬆綁', '指揮', '中心', '指揮官', '陳時中', '入境', '...   \n",
       "\n",
       "                                              entities  \\\n",
       "137  [NerToken(word='3月7日', ner='DATE', idx=(4, 8))...   \n",
       "\n",
       "                                             token_pos  \\\n",
       "137  [('邊境', 'Nc'), ('管制', 'Nv'), ('3月', 'Nd'), ('7...   \n",
       "\n",
       "                                                  link photo_link  \n",
       "137  https://www.cna.com.tw/news/ahel/202203140235....        NaN  "
      ]
     },
     "execution_count": 85,
     "metadata": {},
     "output_type": "execute_result"
    }
   ],
   "source": [
    "df_query.head(1)"
   ]
  },
  {
   "cell_type": "code",
   "execution_count": 86,
   "metadata": {},
   "outputs": [
    {
     "data": {
      "text/plain": [
       "'邊境管制3月7日起鬆綁，指揮中心指揮官陳時中今天說，入境檢疫10天應該安全，現在談全面解封言之過早，清明節熱門景點不會有大規模管制，但適當人流管制仍屬必要。台灣3月7日起將入境檢疫期縮短至10天，重啟國門，先開放外籍商務客入境。國際間COVID-19（2019冠狀病毒疾病）疫情逐步趨緩；不過，香港染疫及死亡人數持續居高不下，中國繼深圳市後，東莞市今天起封城7天。最近台灣有學者專家建議，政府應及早訂定各階段防疫措施逐步解封的基準，為全面解封做準備，中央流行疫情指揮中心指揮官陳時中今天在記者回覆媒體時指出，陳時中說，目前談全面解封言之過早。陳時中說，無法預訂全面解封時程，這需要檢視自主應變能力、疫苗涵蓋率、國內外疫情狀況等；但，防疫規範整體是朝鬆綁邁進。目前社區仍有零星感染風險，他也說，清明連假期間，熱門景點雖然不會有大規模管制，但適當人流管制仍必要。對於台北市長柯文哲憂心3月7日起入境檢疫期縮短，17日開始會出現首波確診，陳時中表示，要戒慎不恐懼，一步一步來，檢疫期10天應該很安全。此外，據自由時報報導，今年年底縣市長選舉，不少民進黨政務官被點名出戰，陳時中被點名出征台北市、桃園市的布局彈性大，雖參選與否仍需視疫情發展而定，但已處於「備戰」狀態。陳時中對此回應，參選上並沒有在備戰狀態，但防疫一直都處於備戰狀態。'"
      ]
     },
     "execution_count": 86,
     "metadata": {},
     "output_type": "execute_result"
    }
   ],
   "source": [
    "text = df_query.content.iloc[0]\n",
    "text"
   ]
  },
  {
   "cell_type": "code",
   "execution_count": 87,
   "metadata": {},
   "outputs": [
    {
     "data": {
      "text/plain": [
       "['邊境管制3月7日起鬆綁，指揮中心指揮官陳時中今天說，入境檢疫10天應該安全，現在談全面解封言之過早，清明節熱門景點不會有大規模管制，但適當人流管制仍屬必要',\n",
       " '台灣3月7日起將入境檢疫期縮短至10天，重啟國門，先開放外籍商務客入境',\n",
       " '國際間COVID-19（2019冠狀病毒疾病）疫情逐步趨緩；不過，香港染疫及死亡人數持續居高不下，中國繼深圳市後，東莞市今天起封城7天',\n",
       " '最近台灣有學者專家建議，政府應及早訂定各階段防疫措施逐步解封的基準，為全面解封做準備，中央流行疫情指揮中心指揮官陳時中今天在記者回覆媒體時指出，陳時中說，目前談全面解封言之過早',\n",
       " '陳時中說，無法預訂全面解封時程，這需要檢視自主應變能力、疫苗涵蓋率、國內外疫情狀況等；但，防疫規範整體是朝鬆綁邁進',\n",
       " '目前社區仍有零星感染風險，他也說，清明連假期間，熱門景點雖然不會有大規模管制，但適當人流管制仍必要',\n",
       " '對於台北市長柯文哲憂心3月7日起入境檢疫期縮短，17日開始會出現首波確診，陳時中表示，要戒慎不恐懼，一步一步來，檢疫期10天應該很安全',\n",
       " '此外，據自由時報報導，今年年底縣市長選舉，不少民進黨政務官被點名出戰，陳時中被點名出征台北市、桃園市的布局彈性大，雖參選與否仍需視疫情發展而定，但已處於「備戰」狀態',\n",
       " '陳時中對此回應，參選上並沒有在備戰狀態，但防疫一直都處於備戰狀態']"
      ]
     },
     "execution_count": 87,
     "metadata": {},
     "output_type": "execute_result"
    }
   ],
   "source": [
    "paragraphs = cut_paragraph(text)\n",
    "paragraphs"
   ]
  },
  {
   "cell_type": "code",
   "execution_count": 88,
   "metadata": {},
   "outputs": [
    {
     "data": {
      "text/plain": [
       "['陳時中說，無法預訂全面解封時程，這需要檢視自主應變能力、疫苗涵蓋率、國內外疫情狀況等；但，防疫規範整體是朝鬆綁邁進。']"
      ]
     },
     "execution_count": 88,
     "metadata": {},
     "output_type": "execute_result"
    }
   ],
   "source": [
    "# Find out all paragraphs where multiple keywords occur.\n",
    "user_keywords = ['疫情','疫苗']\n",
    "cond='and'\n",
    "same_para=[] # 存放含有關鍵字的段落\n",
    "for para in paragraphs:\n",
    "    para += \"。\" # 在每段落文字後面加一個句號。\n",
    "    # 判斷每個段落文字是否包含該關鍵字，and or分開判斷\n",
    "    if cond=='and': \n",
    "        if all([kw in para for kw in user_keywords]):\n",
    "            same_para.append(para) # 符合條件的段落para保存起來\n",
    "    elif cond=='or':\n",
    "        if any([kw in para for kw in user_keywords]):\n",
    "            same_para.append(para)  # 符合條件的段落para保存起來\n",
    "same_para\n"
   ]
  },
  {
   "cell_type": "markdown",
   "metadata": {},
   "source": [
    "### multiple words in text (easier way)"
   ]
  },
  {
   "cell_type": "code",
   "execution_count": 89,
   "metadata": {},
   "outputs": [],
   "source": [
    "para = '民進黨重用派系、酬庸人事的部分，他不再贅述；不過，他也批評國民黨，前總統馬英九的「交通幫」，沒有解決桃園機場跑道和漏水的問題，馬政府有許多人害怕跟宋楚瑜多接觸，擔心因此被老闆換掉，同樣是小氣、沒有肚量。'"
   ]
  },
  {
   "cell_type": "code",
   "execution_count": 90,
   "metadata": {},
   "outputs": [],
   "source": [
    "user_keywords = ['馬英九','宋楚瑜']"
   ]
  },
  {
   "cell_type": "code",
   "execution_count": 91,
   "metadata": {},
   "outputs": [
    {
     "data": {
      "text/plain": [
       "True"
      ]
     },
     "execution_count": 91,
     "metadata": {},
     "output_type": "execute_result"
    }
   ],
   "source": [
    "any([kw in para for kw in user_keywords])\n"
   ]
  },
  {
   "cell_type": "code",
   "execution_count": 92,
   "metadata": {},
   "outputs": [
    {
     "data": {
      "text/plain": [
       "True"
      ]
     },
     "execution_count": 92,
     "metadata": {},
     "output_type": "execute_result"
    }
   ],
   "source": [
    "all([kw in para for kw in user_keywords])\n"
   ]
  },
  {
   "cell_type": "code",
   "execution_count": 93,
   "metadata": {},
   "outputs": [],
   "source": [
    "user_keywords = ['馬英九','蔡英文']"
   ]
  },
  {
   "cell_type": "code",
   "execution_count": 94,
   "metadata": {},
   "outputs": [
    {
     "data": {
      "text/plain": [
       "True"
      ]
     },
     "execution_count": 94,
     "metadata": {},
     "output_type": "execute_result"
    }
   ],
   "source": [
    "any([kw in para for kw in user_keywords])\n"
   ]
  },
  {
   "cell_type": "code",
   "execution_count": 95,
   "metadata": {},
   "outputs": [
    {
     "data": {
      "text/plain": [
       "False"
      ]
     },
     "execution_count": 95,
     "metadata": {},
     "output_type": "execute_result"
    }
   ],
   "source": [
    "all([kw in para for kw in user_keywords])\n"
   ]
  },
  {
   "cell_type": "markdown",
   "metadata": {},
   "source": [
    "### re.search(): An alternative way"
   ]
  },
  {
   "cell_type": "code",
   "execution_count": 96,
   "metadata": {},
   "outputs": [
    {
     "data": {
      "text/plain": [
       "['陳時中說，無法預訂全面解封時程，這需要檢視自主應變能力、疫苗涵蓋率、國內外疫情狀況等；但，防疫規範整體是朝鬆綁邁進。']"
      ]
     },
     "execution_count": 96,
     "metadata": {},
     "output_type": "execute_result"
    }
   ],
   "source": [
    "# An alternative way for advanced users: using re.seach()\n",
    "# Alternative approach using re.search() for reference\n",
    "user_keywords = ['疫情','疫苗']\n",
    "cond='and'\n",
    "same_para=[] # 存放含有關鍵字的段落\n",
    "for para in paragraphs:\n",
    "    para += \"。\"\n",
    "    if cond=='and':\n",
    "        if all([re.search(kw, para) for kw in user_keywords]):\n",
    "            same_para.append(para)\n",
    "    elif cond=='or':\n",
    "        if any([re.search(kw, para) for kw in user_keywords]):\n",
    "            same_para.append(para)\n",
    "same_para\n"
   ]
  },
  {
   "cell_type": "code",
   "execution_count": 97,
   "metadata": {},
   "outputs": [],
   "source": [
    "text = '民進黨重用派系、酬庸人事的部分，他不再贅述；不過，他也批評國民黨，前總統馬英九的「交通幫」，沒有解決桃園機場跑道和漏水的問題，馬政府有許多人害怕跟宋楚瑜多接觸，擔心因此被老闆換掉，同樣是小氣、沒有肚量。'"
   ]
  },
  {
   "cell_type": "code",
   "execution_count": 98,
   "metadata": {},
   "outputs": [],
   "source": [
    "key = ['馬英九','蔡英文']"
   ]
  },
  {
   "cell_type": "code",
   "execution_count": 99,
   "metadata": {},
   "outputs": [
    {
     "data": {
      "text/plain": [
       "False"
      ]
     },
     "execution_count": 99,
     "metadata": {},
     "output_type": "execute_result"
    }
   ],
   "source": [
    "any([re.search(kw, text) for kw in user_keywords])"
   ]
  },
  {
   "cell_type": "code",
   "execution_count": 100,
   "metadata": {},
   "outputs": [
    {
     "data": {
      "text/plain": [
       "False"
      ]
     },
     "execution_count": 100,
     "metadata": {},
     "output_type": "execute_result"
    }
   ],
   "source": [
    "all([re.search(kw, text) for kw in user_keywords])"
   ]
  },
  {
   "cell_type": "code",
   "execution_count": null,
   "metadata": {},
   "outputs": [],
   "source": []
  },
  {
   "cell_type": "markdown",
   "metadata": {},
   "source": [
    "# views.py in Django website"
   ]
  },
  {
   "cell_type": "markdown",
   "metadata": {},
   "source": [
    "To save memory, we just import df from the other app as follows.\n",
    "from app_user_keyword.views import df"
   ]
  },
  {
   "cell_type": "code",
   "execution_count": 101,
   "metadata": {},
   "outputs": [
    {
     "ename": "ModuleNotFoundError",
     "evalue": "No module named 'app_user_keyword'",
     "output_type": "error",
     "traceback": [
      "\u001b[1;31m---------------------------------------------------------------------------\u001b[0m",
      "\u001b[1;31mModuleNotFoundError\u001b[0m                       Traceback (most recent call last)",
      "Cell \u001b[1;32mIn[101], line 28\u001b[0m\n\u001b[0;32m     21\u001b[0m     df \u001b[38;5;241m=\u001b[39m pd\u001b[38;5;241m.\u001b[39mread_csv(\u001b[38;5;124m'\u001b[39m\u001b[38;5;124mapp_user_keyword/dataset/cna_news_preprocessed.csv\u001b[39m\u001b[38;5;124m'\u001b[39m, sep\u001b[38;5;241m=\u001b[39m\u001b[38;5;124m'\u001b[39m\u001b[38;5;124m|\u001b[39m\u001b[38;5;124m'\u001b[39m)\n\u001b[0;32m     23\u001b[0m \u001b[38;5;66;03m# (3) df can be import from app_user_keyword 隔壁app的變數\u001b[39;00m\n\u001b[0;32m     24\u001b[0m \u001b[38;5;66;03m# To save memory, we just import df from the other app as follows.\u001b[39;00m\n\u001b[0;32m     25\u001b[0m \u001b[38;5;66;03m# from app_user_keyword.views import df\u001b[39;00m\n\u001b[0;32m     26\u001b[0m \n\u001b[0;32m     27\u001b[0m \u001b[38;5;66;03m# (4) df can be import from app_user_keyword  隔壁app的變數\u001b[39;00m\n\u001b[1;32m---> 28\u001b[0m \u001b[38;5;28;01mimport\u001b[39;00m \u001b[38;5;21;01mapp_user_keyword\u001b[39;00m\u001b[38;5;21;01m.\u001b[39;00m\u001b[38;5;21;01mviews\u001b[39;00m \u001b[38;5;28;01mas\u001b[39;00m \u001b[38;5;21;01muserkeyword_views\u001b[39;00m\n\u001b[0;32m     29\u001b[0m \u001b[38;5;28;01mdef\u001b[39;00m \u001b[38;5;21mload_df_data\u001b[39m():\n\u001b[0;32m     30\u001b[0m     \u001b[38;5;66;03m# import and use df from app_user_keyword \u001b[39;00m\n\u001b[0;32m     31\u001b[0m     \u001b[38;5;28;01mglobal\u001b[39;00m df \u001b[38;5;66;03m# global variable\u001b[39;00m\n",
      "\u001b[1;31mModuleNotFoundError\u001b[0m: No module named 'app_user_keyword'"
     ]
    }
   ],
   "source": [
    "from django.shortcuts import render\n",
    "from django.views.decorators.csrf import csrf_exempt\n",
    "from django.http import JsonResponse\n",
    "\n",
    "from datetime import datetime, timedelta\n",
    "import pandas as pd\n",
    "import math\n",
    "import re\n",
    "from collections import Counter\n",
    "\n",
    "# (1) we can load data using read_csv() 自己app的csv檔案\n",
    "# global variable\n",
    "# df = pd.read_csv('dataset/cna_news_preprocessed.csv', sep='|')\n",
    "\n",
    "\n",
    "# (2) we can load data using reload_df_data() function 隔壁app的csv檔案\n",
    "# global variable\n",
    "def load_df_data_v1():\n",
    "    # global variable\n",
    "    global  df\n",
    "    df = pd.read_csv('app_user_keyword/dataset/cna_news_preprocessed.csv', sep='|')\n",
    "\n",
    "# (3) df can be import from app_user_keyword 隔壁app的變數\n",
    "# To save memory, we just import df from the other app as follows.\n",
    "# from app_user_keyword.views import df\n",
    "\n",
    "# (4) df can be import from app_user_keyword  隔壁app的變數\n",
    "import app_user_keyword.views as userkeyword_views\n",
    "def load_df_data():\n",
    "    # import and use df from app_user_keyword \n",
    "    global df # global variable\n",
    "    df = userkeyword_views.df\n",
    "\n",
    "load_df_data()\n",
    "\n",
    "\n",
    "# For the key association analysis\n",
    "def home(request):\n",
    "    return render(request, 'app_user_keyword_association/home.html')\n",
    "\n",
    "# df_query should be global\n",
    "@csrf_exempt\n",
    "def api_get_userkey_associate(request):\n",
    "\n",
    "    userkey = request.POST.get('userkey')\n",
    "    cate = request.POST['cate']  # This is an alternative way to get POST data.\n",
    "    cond = request.POST.get('cond')\n",
    "    weeks = int(request.POST.get('weeks'))\n",
    "    key = userkey.split()\n",
    "\n",
    "    #global  df_query # global variable It's not necessary.\n",
    "\n",
    "    df_query = filter_dataFrame_fullText(key, cond, cate, weeks)\n",
    "    #print(key)\n",
    "    print(len(df_query))\n",
    "\n",
    "    if len(df_query) != 0:  # df_query is not empty\n",
    "        newslinks = get_title_link_topk(df_query, k=25)\n",
    "        related_words, clouddata = get_related_word_clouddata(df_query)\n",
    "        same_paragraph = get_same_para(\n",
    "            df_query, key, cond, k=30)  # multiple keywords\n",
    "        num_articles=len(df_query) # total number of articles (stories, items)\n",
    "\n",
    "    else:\n",
    "        newslinks = []\n",
    "        related_words = []\n",
    "        same_paragraph = []\n",
    "        clouddata = []\n",
    "        num_articles=0\n",
    "\n",
    "    response = {\n",
    "        'num_articles': num_articles,\n",
    "        'newslinks': newslinks,\n",
    "        'related_words': related_words,\n",
    "        'same_paragraph': same_paragraph,\n",
    "        'clouddata': clouddata,\n",
    "    }\n",
    "    return JsonResponse(response)\n",
    "\n",
    "\n",
    "# Searching keywords from \"content\" column\n",
    "# Here this function uses df.content column, while filter_dataFrame() uses df.tokens_v2\n",
    "def filter_dataFrame_fullText(user_keywords, cond, cate, weeks):\n",
    "\n",
    "    # end date: the date of the latest record of news\n",
    "    end_date = df.date.max()\n",
    "\n",
    "    # start date\n",
    "    start_date = (datetime.strptime(end_date, '%Y-%m-%d').date() -\n",
    "                  timedelta(weeks=weeks)).strftime('%Y-%m-%d')\n",
    "\n",
    "    # (1) proceed filtering: a duration of a period of time\n",
    "    # 期間條件\n",
    "    period_condition = (df.date >= start_date) & (df.date <= end_date)\n",
    "\n",
    "    # (2) proceed filtering: news category\n",
    "    # 新聞類別條件\n",
    "    if (cate == \"全部\"):\n",
    "        condition = period_condition  # \"全部\"類別不必過濾新聞種類\n",
    "    else:\n",
    "        # category新聞類別條件\n",
    "        condition = period_condition & (df.category == cate)\n",
    "\n",
    "    # (3) proceed filtering: news category\n",
    "    # and or 條件\n",
    "    if (cond == 'and'):\n",
    "        # query keywords condition使用者輸入關鍵字條件and\n",
    "        condition = condition & df.content.apply(lambda text: all(\n",
    "            (qk in text) for qk in user_keywords))  # 寫法:all()\n",
    "    elif (cond == 'or'):\n",
    "        # query keywords condition使用者輸入關鍵字條件\n",
    "        condition = condition & df.content.apply(lambda text: any(\n",
    "            (qk in text) for qk in user_keywords))  # 寫法:any()\n",
    "    # condiction is a list of True or False boolean value\n",
    "    df_query = df[condition]\n",
    "\n",
    "    return df_query\n",
    "\n",
    "\n",
    "# get titles and links from k pieces of news \n",
    "def get_title_link_topk(df_query, k=25):\n",
    "    items = []\n",
    "    for i in range( len(df_query[0:k]) ): # show only 10 news\n",
    "        category = df_query.iloc[i]['category']\n",
    "        title = df_query.iloc[i]['title']\n",
    "        link = df_query.iloc[i]['link']\n",
    "        photo_link = df_query.iloc[i]['photo_link']\n",
    "        # if photo_link value is NaN, replace it with empty string \n",
    "        if pd.isna(photo_link):\n",
    "            photo_link=''\n",
    "        \n",
    "        item_info = {\n",
    "            'category': category, \n",
    "            'title': title, \n",
    "            'link': link, \n",
    "            'photo_link': photo_link\n",
    "        }\n",
    "\n",
    "        items.append(item_info)\n",
    "    return items \n",
    "\n",
    "# Get related keywords by counting the top keywords of each news.\n",
    "# Notice:  do not name function as  \"get_related_keys\",\n",
    "# because this name is used in Django\n",
    "def get_related_word_clouddata(df_query):\n",
    "\n",
    "    # wf_pairs = get_related_words(df_query)\n",
    "    # prepare wf pairs \n",
    "    counter=Counter()\n",
    "    for idx in range(len(df_query)):\n",
    "        pair_dict = dict(eval(df_query.iloc[idx].top_key_freq))\n",
    "        counter += Counter(pair_dict)\n",
    "    wf_pairs = counter.most_common(20) #return list format\n",
    "\n",
    "    # cloud chart data\n",
    "    # the minimum and maximum frequency of top words\n",
    "    min_ = wf_pairs[-1][1]  # the last line is smaller\n",
    "    max_ = wf_pairs[0][1]\n",
    "    # text size based on the value of word frequency for drawing cloud chart\n",
    "    textSizeMin = 20\n",
    "    textSizeMax = 120\n",
    "    # Scaling frequency value into an interval of from 20 to 120.\n",
    "    clouddata = [{'text': w, 'size': int(textSizeMin + (f - min_) / (max_ - min_) * (textSizeMax - textSizeMin))}\n",
    "                 for w, f in wf_pairs]\n",
    "\n",
    "    return   wf_pairs, clouddata \n",
    "\n",
    "\n",
    "# Step1: split paragraphs in text 先將文章切成一個段落一個段落\n",
    "def cut_paragraph(text):\n",
    "    paragraphs = text.split('。')  # 遇到句號就切開\n",
    "    #paragraphs = re.split('。', text) # 遇到句號就切開\n",
    "    #paragraphs = re.split('[。！!？?]', text) # 遇到句號(也納入問號、驚嘆號、分號等)就切開\n",
    "    paragraphs = list(filter(None, paragraphs))\n",
    "    return paragraphs\n",
    "\n",
    "# Step2: Select all paragraphs where multiple keywords occur.\n",
    "\n",
    "\n",
    "def get_same_para(df_query, user_keywords, cond, k=30):\n",
    "    same_para = []\n",
    "    for text in df_query.content:\n",
    "        #print(text)\n",
    "        paragraphs = cut_paragraph(text)\n",
    "        for para in paragraphs:\n",
    "            para += \"。\"\n",
    "            if cond == 'and':\n",
    "                if all([re.search(kw, para) for kw in user_keywords]):\n",
    "                    same_para.append(para)\n",
    "            elif cond == 'or':\n",
    "                if any([re.search(kw, para) for kw in user_keywords]):\n",
    "                    same_para.append(para)\n",
    "    return same_para[0:k]\n",
    "\n",
    "\n",
    "    \n",
    "print(\"app_user_keyword_association was loaded!\")\n"
   ]
  },
  {
   "cell_type": "code",
   "execution_count": null,
   "metadata": {},
   "outputs": [],
   "source": []
  },
  {
   "cell_type": "markdown",
   "metadata": {},
   "source": [
    "# For reference"
   ]
  },
  {
   "cell_type": "raw",
   "metadata": {},
   "source": [
    "# A more complex way to split paragraphs\n",
    "# reference: https://blog.csdn.net/blmoistawinde/article/details/82379256\n",
    "# cut paragraghes from a news 切開文章段落\n",
    "def cut_paragraph(para):\n",
    "    para = re.sub('([。！？\\?])([^”’])', r\"\\1\\n\\2\", para)  # 单字符断句符\n",
    "    para = re.sub('(\\.{6})([^”’])', r\"\\1\\n\\2\", para)  # 英文省略号\n",
    "    para = re.sub('(\\…{2})([^”’])', r\"\\1\\n\\2\", para)  # 中文省略号\n",
    "    para = re.sub('([。！？\\?][”’])([^，。！？\\?])', r'\\1\\n\\2', para)\n",
    "    # 如果雙引號前有終止符，那麼雙引號才是句子的終點，把分句符\\n放到雙引號後，注意前面的幾句都小心保留了雙引號\n",
    "    para = para.rstrip()  # 段尾如果有多余的\\n就去掉它\n",
    "    # 分号忽略不计，破折号、英文双引号等同样忽略\n",
    "    return para.split(\"\\n\")"
   ]
  },
  {
   "cell_type": "code",
   "execution_count": null,
   "metadata": {},
   "outputs": [],
   "source": []
  }
 ],
 "metadata": {
  "kernelspec": {
   "display_name": "base",
   "language": "python",
   "name": "python3"
  },
  "language_info": {
   "codemirror_mode": {
    "name": "ipython",
    "version": 3
   },
   "file_extension": ".py",
   "mimetype": "text/x-python",
   "name": "python",
   "nbconvert_exporter": "python",
   "pygments_lexer": "ipython3",
   "version": "3.9.18"
  },
  "toc": {
   "base_numbering": 1,
   "nav_menu": {},
   "number_sections": true,
   "sideBar": true,
   "skip_h1_title": false,
   "title_cell": "Table of Contents",
   "title_sidebar": "Contents",
   "toc_cell": false,
   "toc_position": {},
   "toc_section_display": true,
   "toc_window_display": true
  },
  "toc-autonumbering": true,
  "toc-showcode": false,
  "toc-showmarkdowntxt": false
 },
 "nbformat": 4,
 "nbformat_minor": 4
}
