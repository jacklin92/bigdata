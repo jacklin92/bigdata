{
 "cells": [
  {
   "attachments": {},
   "cell_type": "markdown",
   "metadata": {},
   "source": [
    "# 時中指數"
   ]
  },
  {
   "cell_type": "code",
   "execution_count": null,
   "metadata": {},
   "outputs": [],
   "source": []
  },
  {
   "cell_type": "code",
   "execution_count": null,
   "metadata": {},
   "outputs": [],
   "source": []
  },
  {
   "attachments": {},
   "cell_type": "markdown",
   "metadata": {},
   "source": [
    "# Load Data "
   ]
  },
  {
   "cell_type": "code",
   "execution_count": 1,
   "metadata": {},
   "outputs": [],
   "source": [
    "import pandas as pd\n",
    "from datetime import datetime, timedelta\n",
    "\n",
    "df = pd.read_csv('./news_dataset_preprocessed_for_django.csv',sep='|')"
   ]
  },
  {
   "cell_type": "code",
   "execution_count": 53,
   "metadata": {},
   "outputs": [
    {
     "data": {
      "text/html": [
       "<div>\n",
       "<style scoped>\n",
       "    .dataframe tbody tr th:only-of-type {\n",
       "        vertical-align: middle;\n",
       "    }\n",
       "\n",
       "    .dataframe tbody tr th {\n",
       "        vertical-align: top;\n",
       "    }\n",
       "\n",
       "    .dataframe thead th {\n",
       "        text-align: right;\n",
       "    }\n",
       "</style>\n",
       "<table border=\"1\" class=\"dataframe\">\n",
       "  <thead>\n",
       "    <tr style=\"text-align: right;\">\n",
       "      <th></th>\n",
       "      <th>item_id</th>\n",
       "      <th>title</th>\n",
       "      <th>category</th>\n",
       "      <th>content</th>\n",
       "      <th>link</th>\n",
       "      <th>date</th>\n",
       "      <th>photo_link</th>\n",
       "      <th>tokens_v2</th>\n",
       "      <th>top_keys_freq</th>\n",
       "      <th>summary</th>\n",
       "      <th>sentiment</th>\n",
       "    </tr>\n",
       "  </thead>\n",
       "  <tbody>\n",
       "    <tr>\n",
       "      <th>0</th>\n",
       "      <td>aipl_20220124_1001</td>\n",
       "      <td>殲16D首擾台 專家示警：國軍應強化電子作戰</td>\n",
       "      <td>政治</td>\n",
       "      <td>中共殲16D新型電戰機今天首次擾台，學者及退將分析，殲16D可能已量產並進行實戰化運用，國軍...</td>\n",
       "      <td>https://www.cna.com.tw/news/aipl/202201240357....</td>\n",
       "      <td>2022-01-24</td>\n",
       "      <td>https://imgcdn.cna.com.tw/www/WebPhotos/200/20...</td>\n",
       "      <td>['中共', '新型', '電戰機', '學者', '退將', '分析', '量產', '進...</td>\n",
       "      <td>[('中共', 7), ('台灣', 7), ('電子', 6), ('美軍', 6), (...</td>\n",
       "      <td>['其中殲16D新型電戰機為首次現蹤', '中共殲16D新型電戰機今天首次擾台', '13架...</td>\n",
       "      <td>0.96</td>\n",
       "    </tr>\n",
       "    <tr>\n",
       "      <th>1</th>\n",
       "      <td>aipl_20220124_1002</td>\n",
       "      <td>朝野協商總預算在促轉會卡關  25日拚三讀添變數</td>\n",
       "      <td>政治</td>\n",
       "      <td>立法院朝野黨團今天繼續協商總預算案，不過到促轉會的預算提案時，朝野為了蔣經國總統圖書館議題起...</td>\n",
       "      <td>https://www.cna.com.tw/news/aipl/202201240390....</td>\n",
       "      <td>2022-01-24</td>\n",
       "      <td>NaN</td>\n",
       "      <td>['立法院', '朝野', '黨團', '總預算案', '促轉會', '預算', '提案',...</td>\n",
       "      <td>[('預算', 7), ('提案', 7), ('黨團', 6), ('總統', 6), (...</td>\n",
       "      <td>['民進黨立法院黨團總召柯建銘說', '促轉會說這叫威權', '不過到促轉會的預算提案時',...</td>\n",
       "      <td>0.74</td>\n",
       "    </tr>\n",
       "    <tr>\n",
       "      <th>2</th>\n",
       "      <td>aipl_20220124_1003</td>\n",
       "      <td>朱立倫批修法打假球  民進黨：雙管齊下遏阻酒駕</td>\n",
       "      <td>政治</td>\n",
       "      <td>立法院今天三讀修正通過加重酒駕刑罰及行政罰的相關條文，國民黨主席朱立倫表示，酒駕零容忍，民進...</td>\n",
       "      <td>https://www.cna.com.tw/news/aipl/202201240374....</td>\n",
       "      <td>2022-01-24</td>\n",
       "      <td>NaN</td>\n",
       "      <td>['立法院', '三讀', '修正', '加重', '酒駕', '刑罰', '行政罰', '...</td>\n",
       "      <td>[('酒駕', 16), ('國民黨', 8), ('立法院', 4), ('修正', 4)...</td>\n",
       "      <td>['立法院臨時會院會今天三讀修正通過加重酒駕刑罰及行政罰的相關條文', '今天酒駕罰則加重的...</td>\n",
       "      <td>0.13</td>\n",
       "    </tr>\n",
       "  </tbody>\n",
       "</table>\n",
       "</div>"
      ],
      "text/plain": [
       "              item_id                     title category  \\\n",
       "0  aipl_20220124_1001    殲16D首擾台 專家示警：國軍應強化電子作戰       政治   \n",
       "1  aipl_20220124_1002  朝野協商總預算在促轉會卡關  25日拚三讀添變數       政治   \n",
       "2  aipl_20220124_1003   朱立倫批修法打假球  民進黨：雙管齊下遏阻酒駕       政治   \n",
       "\n",
       "                                             content  \\\n",
       "0  中共殲16D新型電戰機今天首次擾台，學者及退將分析，殲16D可能已量產並進行實戰化運用，國軍...   \n",
       "1  立法院朝野黨團今天繼續協商總預算案，不過到促轉會的預算提案時，朝野為了蔣經國總統圖書館議題起...   \n",
       "2  立法院今天三讀修正通過加重酒駕刑罰及行政罰的相關條文，國民黨主席朱立倫表示，酒駕零容忍，民進...   \n",
       "\n",
       "                                                link        date  \\\n",
       "0  https://www.cna.com.tw/news/aipl/202201240357....  2022-01-24   \n",
       "1  https://www.cna.com.tw/news/aipl/202201240390....  2022-01-24   \n",
       "2  https://www.cna.com.tw/news/aipl/202201240374....  2022-01-24   \n",
       "\n",
       "                                          photo_link  \\\n",
       "0  https://imgcdn.cna.com.tw/www/WebPhotos/200/20...   \n",
       "1                                                NaN   \n",
       "2                                                NaN   \n",
       "\n",
       "                                           tokens_v2  \\\n",
       "0  ['中共', '新型', '電戰機', '學者', '退將', '分析', '量產', '進...   \n",
       "1  ['立法院', '朝野', '黨團', '總預算案', '促轉會', '預算', '提案',...   \n",
       "2  ['立法院', '三讀', '修正', '加重', '酒駕', '刑罰', '行政罰', '...   \n",
       "\n",
       "                                       top_keys_freq  \\\n",
       "0  [('中共', 7), ('台灣', 7), ('電子', 6), ('美軍', 6), (...   \n",
       "1  [('預算', 7), ('提案', 7), ('黨團', 6), ('總統', 6), (...   \n",
       "2  [('酒駕', 16), ('國民黨', 8), ('立法院', 4), ('修正', 4)...   \n",
       "\n",
       "                                             summary  sentiment  \n",
       "0  ['其中殲16D新型電戰機為首次現蹤', '中共殲16D新型電戰機今天首次擾台', '13架...       0.96  \n",
       "1  ['民進黨立法院黨團總召柯建銘說', '促轉會說這叫威權', '不過到促轉會的預算提案時',...       0.74  \n",
       "2  ['立法院臨時會院會今天三讀修正通過加重酒駕刑罰及行政罰的相關條文', '今天酒駕罰則加重的...       0.13  "
      ]
     },
     "execution_count": 53,
     "metadata": {},
     "output_type": "execute_result"
    }
   ],
   "source": [
    "df.head(3)"
   ]
  },
  {
   "cell_type": "code",
   "execution_count": 3,
   "metadata": {},
   "outputs": [
    {
     "data": {
      "text/plain": [
       "(26179, 11)"
      ]
     },
     "execution_count": 3,
     "metadata": {},
     "output_type": "execute_result"
    }
   ],
   "source": [
    "df.shape"
   ]
  },
  {
   "attachments": {},
   "cell_type": "markdown",
   "metadata": {},
   "source": [
    "# Filter news for selected keywords"
   ]
  },
  {
   "cell_type": "code",
   "execution_count": 4,
   "metadata": {},
   "outputs": [],
   "source": [
    "import pandas as pd\n",
    "from datetime import datetime, timedelta\n",
    "import re\n",
    "\n",
    "# # Load Data \n",
    "# df = pd.read_csv('./news_dataset_preprocessed_for_django.csv',sep='|')\n",
    "# Step 0: Filter news articles using the following function\n",
    "# Searching keywords from \"content\" column\n",
    "def filter_df_via_content(df, query_keywords, cond, cate, weeks):\n",
    "\n",
    "    # end date: the date of the latest record of news\n",
    "    end_date = df.date.max()\n",
    "    \n",
    "    # start date\n",
    "    start_date_delta = (datetime.strptime(end_date, '%Y-%m-%d').date() - timedelta(weeks=weeks)).strftime('%Y-%m-%d')\n",
    "    start_date_min = df.date.min()\n",
    "    # set start_date as the larger one from the start_date_delta and start_date_min 開始時間選資料最早時間與周數:兩者較晚者\n",
    "    start_date = max(start_date_delta,   start_date_min)\n",
    "\n",
    "\n",
    "    # (1) proceed filtering: a duration of a period of time\n",
    "    # 期間條件\n",
    "    period_condition = (df.date >= start_date) & (df.date <= end_date) \n",
    "    \n",
    "    # (2) proceed filtering: news category\n",
    "    # 新聞類別條件\n",
    "    if (cate == \"全部\"):\n",
    "        condition = period_condition  # \"全部\"類別不必過濾新聞種類\n",
    "    else:\n",
    "        # 過濾category新聞類別條件\n",
    "        condition = period_condition & (df.category == cate)\n",
    "\n",
    "    # (3) proceed filtering: and or\n",
    "    # and or 條件\n",
    "    if (cond == 'and'):\n",
    "        # query keywords condition使用者輸入關鍵字條件and\n",
    "        condition = condition & df.content.apply(lambda text: all((qk in text) for qk in query_keywords)) #寫法:all()\n",
    "    elif (cond == 'or'):\n",
    "        # query keywords condition使用者輸入關鍵字條件\n",
    "        condition = condition & df.content.apply(lambda text: any((qk in text) for qk in query_keywords)) #寫法:any()\n",
    "    # condiction is a list of True or False boolean value\n",
    "    df_query = df[condition]\n",
    "\n",
    "    return df_query\n"
   ]
  },
  {
   "cell_type": "code",
   "execution_count": 5,
   "metadata": {},
   "outputs": [],
   "source": [
    "query_keywords = ['陳時中','時中阿伯'] #不要有子字串否則會重複計算 ['陳時中','時中'] 這樣沒有意義!\n",
    "weeks=4\n",
    "cond='or'\n",
    "cate='全部'\n",
    "df_query = filter_df_via_content(df, query_keywords, cond, cate, weeks)"
   ]
  },
  {
   "cell_type": "code",
   "execution_count": 6,
   "metadata": {},
   "outputs": [
    {
     "data": {
      "text/plain": [
       "368"
      ]
     },
     "execution_count": 6,
     "metadata": {},
     "output_type": "execute_result"
    }
   ],
   "source": [
    "len(df_query)"
   ]
  },
  {
   "attachments": {},
   "cell_type": "markdown",
   "metadata": {},
   "source": [
    "# Count how many pieces of news containing these keywords計算各類別多少篇文章提到該關鍵字\n",
    "\n",
    "# Count how many times these keywords were mentioned in each category計算各類別出現關鍵字次數"
   ]
  },
  {
   "cell_type": "code",
   "execution_count": 7,
   "metadata": {},
   "outputs": [],
   "source": [
    "# **計算各類別多少篇文章提到該關鍵字\n",
    "# **計算各類別出現關鍵字次數\n",
    "\n",
    "news_categories = ['政治', '科技', '運動', '證卷', '產經', '娛樂', '生活', '國際', '社會', '文化', '兩岸', '全部']\n",
    "\n",
    "def count_keyword(df_query, query_keywords):\n",
    "\n",
    "    cate_occurrence = {}\n",
    "    cate_freq = {}\n",
    "    \n",
    "    # 字典初始化\n",
    "    for cate in news_categories:\n",
    "        cate_occurrence[cate] = 0   # {'政治':0, '科技':0}\n",
    "        cate_freq[cate] = 0\n",
    "        \n",
    "\n",
    "    for idx, row in df_query.iterrows():\n",
    "        # count the number of articles各類別篇數統計\n",
    "        cate_occurrence[row.category] += 1  #   {'政治':+1, '科技':0}\n",
    "        cate_occurrence['全部'] += 1\n",
    "        \n",
    "        # count the keyword frequency各類別次數統計\n",
    "        # 計算這一篇文章的content中重複含有多少個這些關鍵字(頻率)\n",
    "        freq = sum([ len(re.findall(keyword, row.content, re.I)) for keyword in query_keywords]) \n",
    "        cate_freq[row.category] += freq # 在該新聞類別中累計頻率\n",
    "        cate_freq['全部'] += freq  # 在\"全部\"類別中累計頻率\n",
    "\n",
    "    total_articles = cate_occurrence['全部']  # len(df_query)\n",
    "    total_frequency = cate_freq['全部']\n",
    "    return cate_freq, cate_occurrence, total_articles, total_frequency\n"
   ]
  },
  {
   "cell_type": "code",
   "execution_count": 8,
   "metadata": {},
   "outputs": [
    {
     "data": {
      "text/plain": [
       "({'政治': 153,\n",
       "  '科技': 0,\n",
       "  '運動': 5,\n",
       "  '證卷': 1,\n",
       "  '產經': 4,\n",
       "  '娛樂': 1,\n",
       "  '生活': 1117,\n",
       "  '國際': 24,\n",
       "  '社會': 0,\n",
       "  '文化': 1,\n",
       "  '兩岸': 0,\n",
       "  '全部': 1306},\n",
       " {'政治': 49,\n",
       "  '科技': 0,\n",
       "  '運動': 2,\n",
       "  '證卷': 1,\n",
       "  '產經': 3,\n",
       "  '娛樂': 1,\n",
       "  '生活': 294,\n",
       "  '國際': 17,\n",
       "  '社會': 0,\n",
       "  '文化': 1,\n",
       "  '兩岸': 0,\n",
       "  '全部': 368},\n",
       " 368,\n",
       " 1306)"
      ]
     },
     "execution_count": 8,
     "metadata": {},
     "output_type": "execute_result"
    }
   ],
   "source": [
    "query_keywords = ['陳時中','時中阿伯'] #不要有子字串否則會重複計算 ['陳時中','時中'] 這樣沒有意義!\n",
    "weeks=4\n",
    "cond='or'\n",
    "cate='全部'\n",
    "df_query = filter_df_via_content(df, query_keywords, cond, cate, weeks)\n",
    "count_keyword(df_query, query_keywords)"
   ]
  },
  {
   "cell_type": "code",
   "execution_count": 9,
   "metadata": {},
   "outputs": [
    {
     "data": {
      "text/plain": [
       "({'政治': 308,\n",
       "  '科技': 0,\n",
       "  '運動': 10,\n",
       "  '證卷': 2,\n",
       "  '產經': 9,\n",
       "  '娛樂': 5,\n",
       "  '生活': 2241,\n",
       "  '國際': 52,\n",
       "  '社會': 1,\n",
       "  '文化': 2,\n",
       "  '兩岸': 3,\n",
       "  '全部': 2633},\n",
       " {'政治': 51,\n",
       "  '科技': 0,\n",
       "  '運動': 2,\n",
       "  '證卷': 1,\n",
       "  '產經': 4,\n",
       "  '娛樂': 3,\n",
       "  '生活': 300,\n",
       "  '國際': 21,\n",
       "  '社會': 1,\n",
       "  '文化': 1,\n",
       "  '兩岸': 3,\n",
       "  '全部': 387},\n",
       " 387,\n",
       " 2633)"
      ]
     },
     "execution_count": 9,
     "metadata": {},
     "output_type": "execute_result"
    }
   ],
   "source": [
    "query_keywords = ['陳時中','時中'] #不要有子字串否則會重複計算 ['陳時中','時中'] 這樣沒有意義!\n",
    "weeks=4\n",
    "cond='or'\n",
    "cate='全部'\n",
    "df_query = filter_df_via_content(df, query_keywords, cond, cate, weeks)\n",
    "count_keyword(df_query, query_keywords)"
   ]
  },
  {
   "cell_type": "code",
   "execution_count": 10,
   "metadata": {},
   "outputs": [],
   "source": [
    "import re"
   ]
  },
  {
   "cell_type": "code",
   "execution_count": 11,
   "metadata": {},
   "outputs": [
    {
     "data": {
      "text/plain": [
       "['陳時中', '陳時中', '陳時中']"
      ]
     },
     "execution_count": 11,
     "metadata": {},
     "output_type": "execute_result"
    }
   ],
   "source": [
    "content=\"陳時中,....，陳時中00，陳時中說，\"\n",
    "keyword=\"陳時中\"\n",
    "re.findall(keyword, content)"
   ]
  },
  {
   "cell_type": "code",
   "execution_count": 12,
   "metadata": {},
   "outputs": [
    {
     "data": {
      "text/plain": [
       "3"
      ]
     },
     "execution_count": 12,
     "metadata": {},
     "output_type": "execute_result"
    }
   ],
   "source": [
    "len(re.findall(keyword, content))"
   ]
  },
  {
   "cell_type": "code",
   "execution_count": 13,
   "metadata": {},
   "outputs": [
    {
     "data": {
      "text/plain": [
       "['時中', '時中', '時中']"
      ]
     },
     "execution_count": 13,
     "metadata": {},
     "output_type": "execute_result"
    }
   ],
   "source": [
    "keyword=\"時中\"\n",
    "re.findall(keyword, content)"
   ]
  },
  {
   "cell_type": "code",
   "execution_count": 14,
   "metadata": {},
   "outputs": [
    {
     "data": {
      "text/plain": [
       "[]"
      ]
     },
     "execution_count": 14,
     "metadata": {},
     "output_type": "execute_result"
    }
   ],
   "source": [
    "keyword=\"陳中\"\n",
    "re.findall(keyword, content)"
   ]
  },
  {
   "attachments": {},
   "cell_type": "markdown",
   "metadata": {},
   "source": [
    "# Caclulate date-based reported frequency of these keywords計算被報導的次數以時間為基礎"
   ]
  },
  {
   "cell_type": "code",
   "execution_count": 15,
   "metadata": {},
   "outputs": [],
   "source": [
    "def get_keyword_occurrence_time_series(df_query):\n",
    "    date_samples = df_query.date\n",
    "    query_freq = pd.DataFrame({'date_index': pd.to_datetime(date_samples), 'freq': [1 for _ in range(len(df_query))]})\n",
    "    data = query_freq.groupby(pd.Grouper(key='date_index', freq='D')).sum()\n",
    "    line_xy_data = []\n",
    "    for i, idx in enumerate(data.index):\n",
    "        row = {'x': idx.strftime('%Y-%m-%d'), 'y': int(data.iloc[i].freq)}\n",
    "        line_xy_data.append(row)\n",
    "    return line_xy_data"
   ]
  },
  {
   "cell_type": "code",
   "execution_count": 16,
   "metadata": {},
   "outputs": [
    {
     "data": {
      "text/plain": [
       "[{'x': '2022-03-26', 'y': 6},\n",
       " {'x': '2022-03-27', 'y': 11},\n",
       " {'x': '2022-03-28', 'y': 10},\n",
       " {'x': '2022-03-29', 'y': 7},\n",
       " {'x': '2022-03-30', 'y': 17},\n",
       " {'x': '2022-03-31', 'y': 9},\n",
       " {'x': '2022-04-01', 'y': 12},\n",
       " {'x': '2022-04-02', 'y': 11},\n",
       " {'x': '2022-04-03', 'y': 9},\n",
       " {'x': '2022-04-04', 'y': 11},\n",
       " {'x': '2022-04-05', 'y': 12},\n",
       " {'x': '2022-04-06', 'y': 17},\n",
       " {'x': '2022-04-07', 'y': 19},\n",
       " {'x': '2022-04-08', 'y': 13},\n",
       " {'x': '2022-04-09', 'y': 16},\n",
       " {'x': '2022-04-10', 'y': 8},\n",
       " {'x': '2022-04-11', 'y': 9},\n",
       " {'x': '2022-04-12', 'y': 16},\n",
       " {'x': '2022-04-13', 'y': 19},\n",
       " {'x': '2022-04-14', 'y': 20},\n",
       " {'x': '2022-04-15', 'y': 16},\n",
       " {'x': '2022-04-16', 'y': 12},\n",
       " {'x': '2022-04-17', 'y': 12},\n",
       " {'x': '2022-04-18', 'y': 17},\n",
       " {'x': '2022-04-19', 'y': 14},\n",
       " {'x': '2022-04-20', 'y': 13},\n",
       " {'x': '2022-04-21', 'y': 15},\n",
       " {'x': '2022-04-22', 'y': 18},\n",
       " {'x': '2022-04-23', 'y': 18}]"
      ]
     },
     "execution_count": 16,
     "metadata": {},
     "output_type": "execute_result"
    }
   ],
   "source": [
    "get_keyword_occurrence_time_series(df_query)"
   ]
  },
  {
   "attachments": {},
   "cell_type": "markdown",
   "metadata": {},
   "source": [
    "# Put them together"
   ]
  },
  {
   "cell_type": "code",
   "execution_count": 17,
   "metadata": {},
   "outputs": [],
   "source": [
    "\n",
    "query_keywords = ['陳時中','時中阿伯'] #不要有子字串否則會重複計算 ['陳時中','時中'] 這樣沒有意義!\n",
    "weeks=4\n",
    "cond='or'\n",
    "cate='全部'\n",
    "\n",
    "df_query = filter_df_via_content(df, query_keywords, cond, cate, weeks)\n",
    "cate_freq, cate_occurrence, total_articles, total_frequency = count_keyword(df_query, query_keywords)\n",
    "freqByDate = get_keyword_occurrence_time_series(df_query)\n",
    "\n",
    "\n",
    "selectedCategories = ['全部', '政治', '產經', '生活', '社會']\n",
    "# selectedCategories = ['政治', '產經', '生活', '國際', '社會', '兩岸','全部']\n",
    "\n",
    "freqByCate = [cate_occurrence[k] for k in selectedCategories]\n",
    "\n",
    "response =  {'freqByDate': freqByDate,\n",
    "           'freqByCate': freqByCate,\n",
    "           'category': selectedCategories,\n",
    "           'num_frequency': cate_freq['全部'], # 這關鍵字被提多少次\n",
    "           'num_occurrence': cate_occurrence['全部'] #多少篇提到這關鍵字\n",
    "           }"
   ]
  },
  {
   "cell_type": "code",
   "execution_count": 18,
   "metadata": {},
   "outputs": [
    {
     "data": {
      "text/plain": [
       "[368, 49, 3, 294, 0]"
      ]
     },
     "execution_count": 18,
     "metadata": {},
     "output_type": "execute_result"
    }
   ],
   "source": [
    "freqByCate"
   ]
  },
  {
   "cell_type": "code",
   "execution_count": 19,
   "metadata": {},
   "outputs": [
    {
     "data": {
      "text/plain": [
       "{'政治': 153,\n",
       " '科技': 0,\n",
       " '運動': 5,\n",
       " '證卷': 1,\n",
       " '產經': 4,\n",
       " '娛樂': 1,\n",
       " '生活': 1117,\n",
       " '國際': 24,\n",
       " '社會': 0,\n",
       " '文化': 1,\n",
       " '兩岸': 0,\n",
       " '全部': 1306}"
      ]
     },
     "execution_count": 19,
     "metadata": {},
     "output_type": "execute_result"
    }
   ],
   "source": [
    "cate_freq"
   ]
  },
  {
   "cell_type": "code",
   "execution_count": 20,
   "metadata": {},
   "outputs": [
    {
     "data": {
      "text/plain": [
       "{'政治': 49,\n",
       " '科技': 0,\n",
       " '運動': 2,\n",
       " '證卷': 1,\n",
       " '產經': 3,\n",
       " '娛樂': 1,\n",
       " '生活': 294,\n",
       " '國際': 17,\n",
       " '社會': 0,\n",
       " '文化': 1,\n",
       " '兩岸': 0,\n",
       " '全部': 368}"
      ]
     },
     "execution_count": 20,
     "metadata": {},
     "output_type": "execute_result"
    }
   ],
   "source": [
    "cate_occurrence"
   ]
  },
  {
   "cell_type": "code",
   "execution_count": 21,
   "metadata": {},
   "outputs": [
    {
     "data": {
      "text/plain": [
       "[{'x': '2022-03-26', 'y': 6},\n",
       " {'x': '2022-03-27', 'y': 11},\n",
       " {'x': '2022-03-28', 'y': 10},\n",
       " {'x': '2022-03-29', 'y': 7},\n",
       " {'x': '2022-03-30', 'y': 15},\n",
       " {'x': '2022-03-31', 'y': 9},\n",
       " {'x': '2022-04-01', 'y': 10},\n",
       " {'x': '2022-04-02', 'y': 11},\n",
       " {'x': '2022-04-03', 'y': 8},\n",
       " {'x': '2022-04-04', 'y': 10},\n",
       " {'x': '2022-04-05', 'y': 12},\n",
       " {'x': '2022-04-06', 'y': 13},\n",
       " {'x': '2022-04-07', 'y': 19},\n",
       " {'x': '2022-04-08', 'y': 13},\n",
       " {'x': '2022-04-09', 'y': 14},\n",
       " {'x': '2022-04-10', 'y': 7},\n",
       " {'x': '2022-04-11', 'y': 8},\n",
       " {'x': '2022-04-12', 'y': 16},\n",
       " {'x': '2022-04-13', 'y': 19},\n",
       " {'x': '2022-04-14', 'y': 18},\n",
       " {'x': '2022-04-15', 'y': 15},\n",
       " {'x': '2022-04-16', 'y': 12},\n",
       " {'x': '2022-04-17', 'y': 12},\n",
       " {'x': '2022-04-18', 'y': 17},\n",
       " {'x': '2022-04-19', 'y': 14},\n",
       " {'x': '2022-04-20', 'y': 12},\n",
       " {'x': '2022-04-21', 'y': 15},\n",
       " {'x': '2022-04-22', 'y': 17},\n",
       " {'x': '2022-04-23', 'y': 18}]"
      ]
     },
     "execution_count": 21,
     "metadata": {},
     "output_type": "execute_result"
    }
   ],
   "source": [
    "freqByDate"
   ]
  },
  {
   "cell_type": "code",
   "execution_count": 22,
   "metadata": {},
   "outputs": [
    {
     "data": {
      "text/plain": [
       "{'freqByDate': [{'x': '2022-03-26', 'y': 6},\n",
       "  {'x': '2022-03-27', 'y': 11},\n",
       "  {'x': '2022-03-28', 'y': 10},\n",
       "  {'x': '2022-03-29', 'y': 7},\n",
       "  {'x': '2022-03-30', 'y': 15},\n",
       "  {'x': '2022-03-31', 'y': 9},\n",
       "  {'x': '2022-04-01', 'y': 10},\n",
       "  {'x': '2022-04-02', 'y': 11},\n",
       "  {'x': '2022-04-03', 'y': 8},\n",
       "  {'x': '2022-04-04', 'y': 10},\n",
       "  {'x': '2022-04-05', 'y': 12},\n",
       "  {'x': '2022-04-06', 'y': 13},\n",
       "  {'x': '2022-04-07', 'y': 19},\n",
       "  {'x': '2022-04-08', 'y': 13},\n",
       "  {'x': '2022-04-09', 'y': 14},\n",
       "  {'x': '2022-04-10', 'y': 7},\n",
       "  {'x': '2022-04-11', 'y': 8},\n",
       "  {'x': '2022-04-12', 'y': 16},\n",
       "  {'x': '2022-04-13', 'y': 19},\n",
       "  {'x': '2022-04-14', 'y': 18},\n",
       "  {'x': '2022-04-15', 'y': 15},\n",
       "  {'x': '2022-04-16', 'y': 12},\n",
       "  {'x': '2022-04-17', 'y': 12},\n",
       "  {'x': '2022-04-18', 'y': 17},\n",
       "  {'x': '2022-04-19', 'y': 14},\n",
       "  {'x': '2022-04-20', 'y': 12},\n",
       "  {'x': '2022-04-21', 'y': 15},\n",
       "  {'x': '2022-04-22', 'y': 17},\n",
       "  {'x': '2022-04-23', 'y': 18}],\n",
       " 'freqByCate': [368, 49, 3, 294, 0],\n",
       " 'category': ['全部', '政治', '產經', '生活', '社會'],\n",
       " 'num_frequency': 1306,\n",
       " 'num_occurrence': 368}"
      ]
     },
     "execution_count": 22,
     "metadata": {},
     "output_type": "execute_result"
    }
   ],
   "source": [
    "response"
   ]
  },
  {
   "attachments": {},
   "cell_type": "markdown",
   "metadata": {},
   "source": [
    "## Save data to csv file"
   ]
  },
  {
   "cell_type": "code",
   "execution_count": 23,
   "metadata": {},
   "outputs": [],
   "source": [
    "df_data = pd.DataFrame(list(response.items()),columns=['name','value'])"
   ]
  },
  {
   "cell_type": "code",
   "execution_count": 24,
   "metadata": {},
   "outputs": [
    {
     "data": {
      "text/html": [
       "<div>\n",
       "<style scoped>\n",
       "    .dataframe tbody tr th:only-of-type {\n",
       "        vertical-align: middle;\n",
       "    }\n",
       "\n",
       "    .dataframe tbody tr th {\n",
       "        vertical-align: top;\n",
       "    }\n",
       "\n",
       "    .dataframe thead th {\n",
       "        text-align: right;\n",
       "    }\n",
       "</style>\n",
       "<table border=\"1\" class=\"dataframe\">\n",
       "  <thead>\n",
       "    <tr style=\"text-align: right;\">\n",
       "      <th></th>\n",
       "      <th>name</th>\n",
       "      <th>value</th>\n",
       "    </tr>\n",
       "  </thead>\n",
       "  <tbody>\n",
       "    <tr>\n",
       "      <th>0</th>\n",
       "      <td>freqByDate</td>\n",
       "      <td>[{'x': '2022-03-26', 'y': 6}, {'x': '2022-03-2...</td>\n",
       "    </tr>\n",
       "    <tr>\n",
       "      <th>1</th>\n",
       "      <td>freqByCate</td>\n",
       "      <td>[368, 49, 3, 294, 0]</td>\n",
       "    </tr>\n",
       "    <tr>\n",
       "      <th>2</th>\n",
       "      <td>category</td>\n",
       "      <td>[全部, 政治, 產經, 生活, 社會]</td>\n",
       "    </tr>\n",
       "    <tr>\n",
       "      <th>3</th>\n",
       "      <td>num_frequency</td>\n",
       "      <td>1306</td>\n",
       "    </tr>\n",
       "    <tr>\n",
       "      <th>4</th>\n",
       "      <td>num_occurrence</td>\n",
       "      <td>368</td>\n",
       "    </tr>\n",
       "  </tbody>\n",
       "</table>\n",
       "</div>"
      ],
      "text/plain": [
       "             name                                              value\n",
       "0      freqByDate  [{'x': '2022-03-26', 'y': 6}, {'x': '2022-03-2...\n",
       "1      freqByCate                               [368, 49, 3, 294, 0]\n",
       "2        category                               [全部, 政治, 產經, 生活, 社會]\n",
       "3   num_frequency                                               1306\n",
       "4  num_occurrence                                                368"
      ]
     },
     "execution_count": 24,
     "metadata": {},
     "output_type": "execute_result"
    }
   ],
   "source": [
    "df_data"
   ]
  },
  {
   "cell_type": "code",
   "execution_count": null,
   "metadata": {},
   "outputs": [],
   "source": []
  },
  {
   "cell_type": "code",
   "execution_count": 25,
   "metadata": {},
   "outputs": [],
   "source": [
    "## 存成csv格式檔案\n",
    "df_data.to_csv('chen_shih_chung_data.csv',sep=',', index=None)"
   ]
  },
  {
   "cell_type": "code",
   "execution_count": null,
   "metadata": {},
   "outputs": [],
   "source": []
  },
  {
   "attachments": {},
   "cell_type": "markdown",
   "metadata": {},
   "source": [
    "### Alternative way: using zip"
   ]
  },
  {
   "cell_type": "code",
   "execution_count": 26,
   "metadata": {},
   "outputs": [],
   "source": [
    "k=list(response.keys())\n",
    "v=list(response.values())"
   ]
  },
  {
   "cell_type": "code",
   "execution_count": 27,
   "metadata": {},
   "outputs": [],
   "source": [
    "#list(zip(k,v))"
   ]
  },
  {
   "cell_type": "code",
   "execution_count": 28,
   "metadata": {
    "scrolled": true
   },
   "outputs": [
    {
     "data": {
      "text/html": [
       "<div>\n",
       "<style scoped>\n",
       "    .dataframe tbody tr th:only-of-type {\n",
       "        vertical-align: middle;\n",
       "    }\n",
       "\n",
       "    .dataframe tbody tr th {\n",
       "        vertical-align: top;\n",
       "    }\n",
       "\n",
       "    .dataframe thead th {\n",
       "        text-align: right;\n",
       "    }\n",
       "</style>\n",
       "<table border=\"1\" class=\"dataframe\">\n",
       "  <thead>\n",
       "    <tr style=\"text-align: right;\">\n",
       "      <th></th>\n",
       "      <th>name</th>\n",
       "      <th>value</th>\n",
       "    </tr>\n",
       "  </thead>\n",
       "  <tbody>\n",
       "    <tr>\n",
       "      <th>0</th>\n",
       "      <td>freqByDate</td>\n",
       "      <td>[{'x': '2022-03-26', 'y': 6}, {'x': '2022-03-2...</td>\n",
       "    </tr>\n",
       "    <tr>\n",
       "      <th>1</th>\n",
       "      <td>freqByCate</td>\n",
       "      <td>[368, 49, 3, 294, 0]</td>\n",
       "    </tr>\n",
       "    <tr>\n",
       "      <th>2</th>\n",
       "      <td>category</td>\n",
       "      <td>[全部, 政治, 產經, 生活, 社會]</td>\n",
       "    </tr>\n",
       "    <tr>\n",
       "      <th>3</th>\n",
       "      <td>num_frequency</td>\n",
       "      <td>1306</td>\n",
       "    </tr>\n",
       "    <tr>\n",
       "      <th>4</th>\n",
       "      <td>num_occurrence</td>\n",
       "      <td>368</td>\n",
       "    </tr>\n",
       "  </tbody>\n",
       "</table>\n",
       "</div>"
      ],
      "text/plain": [
       "             name                                              value\n",
       "0      freqByDate  [{'x': '2022-03-26', 'y': 6}, {'x': '2022-03-2...\n",
       "1      freqByCate                               [368, 49, 3, 294, 0]\n",
       "2        category                               [全部, 政治, 產經, 生活, 社會]\n",
       "3   num_frequency                                               1306\n",
       "4  num_occurrence                                                368"
      ]
     },
     "execution_count": 28,
     "metadata": {},
     "output_type": "execute_result"
    }
   ],
   "source": [
    "df_data = pd.DataFrame(list(zip(k,v)),columns=['name','value'])\n",
    "df_data"
   ]
  },
  {
   "cell_type": "code",
   "execution_count": null,
   "metadata": {},
   "outputs": [],
   "source": []
  },
  {
   "attachments": {},
   "cell_type": "markdown",
   "metadata": {},
   "source": [
    "## Read csv file and convert to dict format"
   ]
  },
  {
   "cell_type": "code",
   "execution_count": 29,
   "metadata": {},
   "outputs": [],
   "source": [
    "df_data = pd.read_csv('chen_shih_chung_data.csv')"
   ]
  },
  {
   "cell_type": "code",
   "execution_count": 30,
   "metadata": {},
   "outputs": [
    {
     "data": {
      "text/html": [
       "<div>\n",
       "<style scoped>\n",
       "    .dataframe tbody tr th:only-of-type {\n",
       "        vertical-align: middle;\n",
       "    }\n",
       "\n",
       "    .dataframe tbody tr th {\n",
       "        vertical-align: top;\n",
       "    }\n",
       "\n",
       "    .dataframe thead th {\n",
       "        text-align: right;\n",
       "    }\n",
       "</style>\n",
       "<table border=\"1\" class=\"dataframe\">\n",
       "  <thead>\n",
       "    <tr style=\"text-align: right;\">\n",
       "      <th></th>\n",
       "      <th>name</th>\n",
       "      <th>value</th>\n",
       "    </tr>\n",
       "  </thead>\n",
       "  <tbody>\n",
       "    <tr>\n",
       "      <th>0</th>\n",
       "      <td>freqByDate</td>\n",
       "      <td>[{'x': '2022-03-26', 'y': 6}, {'x': '2022-03-2...</td>\n",
       "    </tr>\n",
       "    <tr>\n",
       "      <th>1</th>\n",
       "      <td>freqByCate</td>\n",
       "      <td>[368, 49, 3, 294, 0]</td>\n",
       "    </tr>\n",
       "    <tr>\n",
       "      <th>2</th>\n",
       "      <td>category</td>\n",
       "      <td>['全部', '政治', '產經', '生活', '社會']</td>\n",
       "    </tr>\n",
       "    <tr>\n",
       "      <th>3</th>\n",
       "      <td>num_frequency</td>\n",
       "      <td>1306</td>\n",
       "    </tr>\n",
       "    <tr>\n",
       "      <th>4</th>\n",
       "      <td>num_occurrence</td>\n",
       "      <td>368</td>\n",
       "    </tr>\n",
       "  </tbody>\n",
       "</table>\n",
       "</div>"
      ],
      "text/plain": [
       "             name                                              value\n",
       "0      freqByDate  [{'x': '2022-03-26', 'y': 6}, {'x': '2022-03-2...\n",
       "1      freqByCate                               [368, 49, 3, 294, 0]\n",
       "2        category                     ['全部', '政治', '產經', '生活', '社會']\n",
       "3   num_frequency                                               1306\n",
       "4  num_occurrence                                                368"
      ]
     },
     "execution_count": 30,
     "metadata": {},
     "output_type": "execute_result"
    }
   ],
   "source": [
    "df_data "
   ]
  },
  {
   "cell_type": "code",
   "execution_count": 31,
   "metadata": {},
   "outputs": [
    {
     "data": {
      "text/plain": [
       "{'freqByDate': \"[{'x': '2022-03-26', 'y': 6}, {'x': '2022-03-27', 'y': 11}, {'x': '2022-03-28', 'y': 10}, {'x': '2022-03-29', 'y': 7}, {'x': '2022-03-30', 'y': 15}, {'x': '2022-03-31', 'y': 9}, {'x': '2022-04-01', 'y': 10}, {'x': '2022-04-02', 'y': 11}, {'x': '2022-04-03', 'y': 8}, {'x': '2022-04-04', 'y': 10}, {'x': '2022-04-05', 'y': 12}, {'x': '2022-04-06', 'y': 13}, {'x': '2022-04-07', 'y': 19}, {'x': '2022-04-08', 'y': 13}, {'x': '2022-04-09', 'y': 14}, {'x': '2022-04-10', 'y': 7}, {'x': '2022-04-11', 'y': 8}, {'x': '2022-04-12', 'y': 16}, {'x': '2022-04-13', 'y': 19}, {'x': '2022-04-14', 'y': 18}, {'x': '2022-04-15', 'y': 15}, {'x': '2022-04-16', 'y': 12}, {'x': '2022-04-17', 'y': 12}, {'x': '2022-04-18', 'y': 17}, {'x': '2022-04-19', 'y': 14}, {'x': '2022-04-20', 'y': 12}, {'x': '2022-04-21', 'y': 15}, {'x': '2022-04-22', 'y': 17}, {'x': '2022-04-23', 'y': 18}]\",\n",
       " 'freqByCate': '[368, 49, 3, 294, 0]',\n",
       " 'category': \"['全部', '政治', '產經', '生活', '社會']\",\n",
       " 'num_frequency': '1306',\n",
       " 'num_occurrence': '368'}"
      ]
     },
     "execution_count": 31,
     "metadata": {},
     "output_type": "execute_result"
    }
   ],
   "source": [
    "# Convert to dictionary format\n",
    "dict(list(df_data.values))"
   ]
  },
  {
   "cell_type": "code",
   "execution_count": 32,
   "metadata": {},
   "outputs": [
    {
     "data": {
      "text/plain": [
       "[array(['freqByDate',\n",
       "        \"[{'x': '2022-03-26', 'y': 6}, {'x': '2022-03-27', 'y': 11}, {'x': '2022-03-28', 'y': 10}, {'x': '2022-03-29', 'y': 7}, {'x': '2022-03-30', 'y': 15}, {'x': '2022-03-31', 'y': 9}, {'x': '2022-04-01', 'y': 10}, {'x': '2022-04-02', 'y': 11}, {'x': '2022-04-03', 'y': 8}, {'x': '2022-04-04', 'y': 10}, {'x': '2022-04-05', 'y': 12}, {'x': '2022-04-06', 'y': 13}, {'x': '2022-04-07', 'y': 19}, {'x': '2022-04-08', 'y': 13}, {'x': '2022-04-09', 'y': 14}, {'x': '2022-04-10', 'y': 7}, {'x': '2022-04-11', 'y': 8}, {'x': '2022-04-12', 'y': 16}, {'x': '2022-04-13', 'y': 19}, {'x': '2022-04-14', 'y': 18}, {'x': '2022-04-15', 'y': 15}, {'x': '2022-04-16', 'y': 12}, {'x': '2022-04-17', 'y': 12}, {'x': '2022-04-18', 'y': 17}, {'x': '2022-04-19', 'y': 14}, {'x': '2022-04-20', 'y': 12}, {'x': '2022-04-21', 'y': 15}, {'x': '2022-04-22', 'y': 17}, {'x': '2022-04-23', 'y': 18}]\"],\n",
       "       dtype=object),\n",
       " array(['freqByCate', '[368, 49, 3, 294, 0]'], dtype=object),\n",
       " array(['category', \"['全部', '政治', '產經', '生活', '社會']\"], dtype=object),\n",
       " array(['num_frequency', '1306'], dtype=object),\n",
       " array(['num_occurrence', '368'], dtype=object)]"
      ]
     },
     "execution_count": 32,
     "metadata": {},
     "output_type": "execute_result"
    }
   ],
   "source": [
    "list(df_data.values)"
   ]
  },
  {
   "cell_type": "code",
   "execution_count": 33,
   "metadata": {},
   "outputs": [],
   "source": [
    "response = dict(list(df_data.values))\n"
   ]
  },
  {
   "cell_type": "code",
   "execution_count": 34,
   "metadata": {},
   "outputs": [
    {
     "data": {
      "text/plain": [
       "'368'"
      ]
     },
     "execution_count": 34,
     "metadata": {},
     "output_type": "execute_result"
    }
   ],
   "source": [
    "response['num_occurrence']"
   ]
  },
  {
   "cell_type": "code",
   "execution_count": 35,
   "metadata": {},
   "outputs": [
    {
     "data": {
      "text/plain": [
       "str"
      ]
     },
     "execution_count": 35,
     "metadata": {},
     "output_type": "execute_result"
    }
   ],
   "source": [
    "type(response['num_occurrence'])\n"
   ]
  },
  {
   "cell_type": "code",
   "execution_count": 36,
   "metadata": {},
   "outputs": [
    {
     "data": {
      "text/plain": [
       "str"
      ]
     },
     "execution_count": 36,
     "metadata": {},
     "output_type": "execute_result"
    }
   ],
   "source": [
    "type(response['freqByCate'])\n"
   ]
  },
  {
   "cell_type": "code",
   "execution_count": 37,
   "metadata": {},
   "outputs": [],
   "source": [
    "response['freqByCate'] = eval(response['freqByCate'])\n"
   ]
  },
  {
   "cell_type": "code",
   "execution_count": 38,
   "metadata": {},
   "outputs": [
    {
     "data": {
      "text/plain": [
       "{'freqByDate': \"[{'x': '2022-03-26', 'y': 6}, {'x': '2022-03-27', 'y': 11}, {'x': '2022-03-28', 'y': 10}, {'x': '2022-03-29', 'y': 7}, {'x': '2022-03-30', 'y': 15}, {'x': '2022-03-31', 'y': 9}, {'x': '2022-04-01', 'y': 10}, {'x': '2022-04-02', 'y': 11}, {'x': '2022-04-03', 'y': 8}, {'x': '2022-04-04', 'y': 10}, {'x': '2022-04-05', 'y': 12}, {'x': '2022-04-06', 'y': 13}, {'x': '2022-04-07', 'y': 19}, {'x': '2022-04-08', 'y': 13}, {'x': '2022-04-09', 'y': 14}, {'x': '2022-04-10', 'y': 7}, {'x': '2022-04-11', 'y': 8}, {'x': '2022-04-12', 'y': 16}, {'x': '2022-04-13', 'y': 19}, {'x': '2022-04-14', 'y': 18}, {'x': '2022-04-15', 'y': 15}, {'x': '2022-04-16', 'y': 12}, {'x': '2022-04-17', 'y': 12}, {'x': '2022-04-18', 'y': 17}, {'x': '2022-04-19', 'y': 14}, {'x': '2022-04-20', 'y': 12}, {'x': '2022-04-21', 'y': 15}, {'x': '2022-04-22', 'y': 17}, {'x': '2022-04-23', 'y': 18}]\",\n",
       " 'freqByCate': [368, 49, 3, 294, 0],\n",
       " 'category': \"['全部', '政治', '產經', '生活', '社會']\",\n",
       " 'num_frequency': '1306',\n",
       " 'num_occurrence': '368'}"
      ]
     },
     "execution_count": 38,
     "metadata": {},
     "output_type": "execute_result"
    }
   ],
   "source": [
    "response\n"
   ]
  },
  {
   "attachments": {},
   "cell_type": "markdown",
   "metadata": {},
   "source": [
    "### # How to convert a list into a dict?"
   ]
  },
  {
   "cell_type": "code",
   "execution_count": 39,
   "metadata": {},
   "outputs": [
    {
     "data": {
      "text/plain": [
       "[['one', [1, 2, 3]], ['two', 2]]"
      ]
     },
     "execution_count": 39,
     "metadata": {},
     "output_type": "execute_result"
    }
   ],
   "source": [
    "# How to convert a list into a dict?\n",
    "[['one',[1,2,3]], ['two',2]]"
   ]
  },
  {
   "cell_type": "code",
   "execution_count": 40,
   "metadata": {},
   "outputs": [
    {
     "data": {
      "text/plain": [
       "[['one', [1, 2, 3]], ['two', 2]]"
      ]
     },
     "execution_count": 40,
     "metadata": {},
     "output_type": "execute_result"
    }
   ],
   "source": [
    "# How to convert a list into a dict?\n",
    "[['one',[1,2,3]], ['two',2]]"
   ]
  },
  {
   "cell_type": "code",
   "execution_count": 41,
   "metadata": {},
   "outputs": [
    {
     "data": {
      "text/plain": [
       "{'one': [1, 2, 3], 'two': 2}"
      ]
     },
     "execution_count": 41,
     "metadata": {},
     "output_type": "execute_result"
    }
   ],
   "source": [
    "dict([['one',[1,2,3]], ['two',2]])"
   ]
  },
  {
   "attachments": {},
   "cell_type": "markdown",
   "metadata": {},
   "source": [
    "## All-in-one function"
   ]
  },
  {
   "cell_type": "code",
   "execution_count": 42,
   "metadata": {},
   "outputs": [],
   "source": [
    "# Load Data \n",
    "import pandas as pd\n",
    "from datetime import datetime, timedelta\n",
    "\n",
    "df = pd.read_csv('./news_dataset_preprocessed_for_django.csv',sep='|')"
   ]
  },
  {
   "cell_type": "code",
   "execution_count": 43,
   "metadata": {},
   "outputs": [],
   "source": [
    "\n",
    "\n",
    "def process_data_all_in_one(query_keywords, weeks):\n",
    "\n",
    "\n",
    "    cond='or'\n",
    "    cate='全部'\n",
    "\n",
    "    df_query = filter_df_via_content(df, query_keywords, cond, cate, weeks)\n",
    "    cate_freq, cate_occurrence, _, _ = count_keyword(df_query, query_keywords)\n",
    "    freqByDate = get_keyword_occurrence_time_series(df_query)\n",
    "\n",
    "\n",
    "    selectedCategories = ['全部', '政治', '生活', '社會']\n",
    "    # selectedCategories = ['全部', '政治', '產經', '生活', '社會']\n",
    "    # selectedCategories = ['全部', '政治', '兩岸', '產經', '生活', '社會']\n",
    "    # selectedCategories = ['政治', '產經', '生活', '國際', '社會', '兩岸','全部']\n",
    "\n",
    "    freqByCate = [cate_occurrence[k] for k in selectedCategories]\n",
    "\n",
    "    response =  {'freqByDate': freqByDate,\n",
    "            'freqByCate': freqByCate,\n",
    "            'category': selectedCategories,\n",
    "            'num_frequency': cate_freq['全部'], # 這關鍵字被提多少次\n",
    "            'num_occurrence': cate_occurrence['全部'] #多少篇提到這關鍵字\n",
    "            }\n",
    "\n",
    "    \n",
    "\n",
    "    return response"
   ]
  },
  {
   "cell_type": "code",
   "execution_count": 44,
   "metadata": {},
   "outputs": [],
   "source": [
    "query_keywords = ['陳時中','時中阿伯'] #不要有子字串否則會重複計算 ['陳時中','時中'] 這樣沒有意義!\n",
    "weeks=4\n",
    "data_response = process_data_all_in_one(query_keywords, weeks)"
   ]
  },
  {
   "cell_type": "code",
   "execution_count": 45,
   "metadata": {},
   "outputs": [],
   "source": [
    "df_data = pd.DataFrame(list(data_response.items()),columns=['name','value'])\n",
    "## 存成csv格式檔案\n",
    "df_data.to_csv('chen_shih_chung_data.csv',sep=',', index=None)"
   ]
  },
  {
   "cell_type": "code",
   "execution_count": 46,
   "metadata": {},
   "outputs": [],
   "source": [
    "df_data = pd.read_csv('chen_shih_chung_data.csv')"
   ]
  },
  {
   "cell_type": "code",
   "execution_count": 47,
   "metadata": {},
   "outputs": [
    {
     "data": {
      "text/html": [
       "<div>\n",
       "<style scoped>\n",
       "    .dataframe tbody tr th:only-of-type {\n",
       "        vertical-align: middle;\n",
       "    }\n",
       "\n",
       "    .dataframe tbody tr th {\n",
       "        vertical-align: top;\n",
       "    }\n",
       "\n",
       "    .dataframe thead th {\n",
       "        text-align: right;\n",
       "    }\n",
       "</style>\n",
       "<table border=\"1\" class=\"dataframe\">\n",
       "  <thead>\n",
       "    <tr style=\"text-align: right;\">\n",
       "      <th></th>\n",
       "      <th>name</th>\n",
       "      <th>value</th>\n",
       "    </tr>\n",
       "  </thead>\n",
       "  <tbody>\n",
       "    <tr>\n",
       "      <th>0</th>\n",
       "      <td>freqByDate</td>\n",
       "      <td>[{'x': '2022-03-26', 'y': 6}, {'x': '2022-03-2...</td>\n",
       "    </tr>\n",
       "    <tr>\n",
       "      <th>1</th>\n",
       "      <td>freqByCate</td>\n",
       "      <td>[368, 49, 294, 0]</td>\n",
       "    </tr>\n",
       "    <tr>\n",
       "      <th>2</th>\n",
       "      <td>category</td>\n",
       "      <td>['全部', '政治', '生活', '社會']</td>\n",
       "    </tr>\n",
       "    <tr>\n",
       "      <th>3</th>\n",
       "      <td>num_frequency</td>\n",
       "      <td>1306</td>\n",
       "    </tr>\n",
       "    <tr>\n",
       "      <th>4</th>\n",
       "      <td>num_occurrence</td>\n",
       "      <td>368</td>\n",
       "    </tr>\n",
       "  </tbody>\n",
       "</table>\n",
       "</div>"
      ],
      "text/plain": [
       "             name                                              value\n",
       "0      freqByDate  [{'x': '2022-03-26', 'y': 6}, {'x': '2022-03-2...\n",
       "1      freqByCate                                  [368, 49, 294, 0]\n",
       "2        category                           ['全部', '政治', '生活', '社會']\n",
       "3   num_frequency                                               1306\n",
       "4  num_occurrence                                                368"
      ]
     },
     "execution_count": 47,
     "metadata": {},
     "output_type": "execute_result"
    }
   ],
   "source": [
    "df_data "
   ]
  },
  {
   "cell_type": "code",
   "execution_count": null,
   "metadata": {},
   "outputs": [],
   "source": []
  },
  {
   "attachments": {},
   "cell_type": "markdown",
   "metadata": {},
   "source": [
    "# This is your featured app"
   ]
  },
  {
   "cell_type": "code",
   "execution_count": 48,
   "metadata": {},
   "outputs": [],
   "source": [
    "query_keywords = ['蔡英文','小英'] #不要有子字串否則會重複計算 ['陳時中','時中'] 這樣沒有意義!\n",
    "#query_keywords = ['柯文哲','柯P','柯p'] #不要有子字串否則會重複計算 \n",
    "#query_keywords = ['蘋果','Apple','ipad','iphone','imac'] #不要有子字串否則會重複計算 \n",
    "weeks=4\n",
    "data_response = process_data_all_in_one(query_keywords, weeks)"
   ]
  },
  {
   "cell_type": "code",
   "execution_count": 49,
   "metadata": {},
   "outputs": [
    {
     "data": {
      "text/plain": [
       "{'freqByDate': [{'x': '2022-03-26', 'y': 8},\n",
       "  {'x': '2022-03-27', 'y': 4},\n",
       "  {'x': '2022-03-28', 'y': 5},\n",
       "  {'x': '2022-03-29', 'y': 14},\n",
       "  {'x': '2022-03-30', 'y': 13},\n",
       "  {'x': '2022-03-31', 'y': 7},\n",
       "  {'x': '2022-04-01', 'y': 14},\n",
       "  {'x': '2022-04-02', 'y': 4},\n",
       "  {'x': '2022-04-03', 'y': 6},\n",
       "  {'x': '2022-04-04', 'y': 5},\n",
       "  {'x': '2022-04-05', 'y': 6},\n",
       "  {'x': '2022-04-06', 'y': 4},\n",
       "  {'x': '2022-04-07', 'y': 13},\n",
       "  {'x': '2022-04-08', 'y': 22},\n",
       "  {'x': '2022-04-09', 'y': 9},\n",
       "  {'x': '2022-04-10', 'y': 6},\n",
       "  {'x': '2022-04-11', 'y': 10},\n",
       "  {'x': '2022-04-12', 'y': 8},\n",
       "  {'x': '2022-04-13', 'y': 6},\n",
       "  {'x': '2022-04-14', 'y': 13},\n",
       "  {'x': '2022-04-15', 'y': 10},\n",
       "  {'x': '2022-04-16', 'y': 6},\n",
       "  {'x': '2022-04-17', 'y': 3},\n",
       "  {'x': '2022-04-18', 'y': 4},\n",
       "  {'x': '2022-04-19', 'y': 7},\n",
       "  {'x': '2022-04-20', 'y': 10},\n",
       "  {'x': '2022-04-21', 'y': 3},\n",
       "  {'x': '2022-04-22', 'y': 18},\n",
       "  {'x': '2022-04-23', 'y': 7}],\n",
       " 'freqByCate': [245, 184, 27, 8],\n",
       " 'category': ['全部', '政治', '生活', '社會'],\n",
       " 'num_frequency': 336,\n",
       " 'num_occurrence': 245}"
      ]
     },
     "execution_count": 49,
     "metadata": {},
     "output_type": "execute_result"
    }
   ],
   "source": [
    "data_response"
   ]
  },
  {
   "cell_type": "code",
   "execution_count": 50,
   "metadata": {},
   "outputs": [],
   "source": [
    "query_keywords = ['疫情','新冠'] #不要有子字串否則會重複計算 ['陳時中','時中'] 這樣沒有意義!\n",
    "weeks=4\n",
    "data_response = process_data_all_in_one(query_keywords, weeks)"
   ]
  },
  {
   "cell_type": "code",
   "execution_count": 51,
   "metadata": {},
   "outputs": [
    {
     "data": {
      "text/plain": [
       "{'freqByDate': [{'x': '2022-03-26', 'y': 46},\n",
       "  {'x': '2022-03-27', 'y': 60},\n",
       "  {'x': '2022-03-28', 'y': 99},\n",
       "  {'x': '2022-03-29', 'y': 74},\n",
       "  {'x': '2022-03-30', 'y': 104},\n",
       "  {'x': '2022-03-31', 'y': 98},\n",
       "  {'x': '2022-04-01', 'y': 75},\n",
       "  {'x': '2022-04-02', 'y': 52},\n",
       "  {'x': '2022-04-03', 'y': 57},\n",
       "  {'x': '2022-04-04', 'y': 64},\n",
       "  {'x': '2022-04-05', 'y': 70},\n",
       "  {'x': '2022-04-06', 'y': 97},\n",
       "  {'x': '2022-04-07', 'y': 119},\n",
       "  {'x': '2022-04-08', 'y': 98},\n",
       "  {'x': '2022-04-09', 'y': 74},\n",
       "  {'x': '2022-04-10', 'y': 57},\n",
       "  {'x': '2022-04-11', 'y': 103},\n",
       "  {'x': '2022-04-12', 'y': 120},\n",
       "  {'x': '2022-04-13', 'y': 150},\n",
       "  {'x': '2022-04-14', 'y': 105},\n",
       "  {'x': '2022-04-15', 'y': 94},\n",
       "  {'x': '2022-04-16', 'y': 69},\n",
       "  {'x': '2022-04-17', 'y': 71},\n",
       "  {'x': '2022-04-18', 'y': 101},\n",
       "  {'x': '2022-04-19', 'y': 122},\n",
       "  {'x': '2022-04-20', 'y': 114},\n",
       "  {'x': '2022-04-21', 'y': 116},\n",
       "  {'x': '2022-04-22', 'y': 87},\n",
       "  {'x': '2022-04-23', 'y': 56}],\n",
       " 'freqByCate': [2552, 210, 1023, 38],\n",
       " 'category': ['全部', '政治', '生活', '社會'],\n",
       " 'num_frequency': 7100,\n",
       " 'num_occurrence': 2552}"
      ]
     },
     "execution_count": 51,
     "metadata": {},
     "output_type": "execute_result"
    }
   ],
   "source": [
    "data_response"
   ]
  },
  {
   "attachments": {},
   "cell_type": "markdown",
   "metadata": {},
   "source": [
    "# views.py in Django"
   ]
  },
  {
   "cell_type": "code",
   "execution_count": 52,
   "metadata": {},
   "outputs": [
    {
     "ename": "FileNotFoundError",
     "evalue": "[Errno 2] No such file or directory: 'app_scchen/dataset/chen_shih_chung_data.csv'",
     "output_type": "error",
     "traceback": [
      "\u001b[1;31m---------------------------------------------------------------------------\u001b[0m",
      "\u001b[1;31mFileNotFoundError\u001b[0m                         Traceback (most recent call last)",
      "Cell \u001b[1;32mIn[52], line 13\u001b[0m\n\u001b[0;32m     10\u001b[0m     \u001b[38;5;28;01mdel\u001b[39;00m df_data\n\u001b[0;32m     12\u001b[0m \u001b[38;5;66;03m# load pk data\u001b[39;00m\n\u001b[1;32m---> 13\u001b[0m \u001b[43mload_data_scchen\u001b[49m\u001b[43m(\u001b[49m\u001b[43m)\u001b[49m\n\u001b[0;32m     15\u001b[0m \u001b[38;5;28;01mdef\u001b[39;00m \u001b[38;5;21mhome\u001b[39m(request):\n\u001b[0;32m     16\u001b[0m     \u001b[38;5;28;01mreturn\u001b[39;00m render(request,\u001b[38;5;124m'\u001b[39m\u001b[38;5;124mapp_scchen/home.html\u001b[39m\u001b[38;5;124m'\u001b[39m, response)\n",
      "Cell \u001b[1;32mIn[52], line 7\u001b[0m, in \u001b[0;36mload_data_scchen\u001b[1;34m()\u001b[0m\n\u001b[0;32m      5\u001b[0m \u001b[38;5;28;01mdef\u001b[39;00m \u001b[38;5;21mload_data_scchen\u001b[39m():\n\u001b[0;32m      6\u001b[0m     \u001b[38;5;66;03m# Read data from csv file\u001b[39;00m\n\u001b[1;32m----> 7\u001b[0m     df_data \u001b[38;5;241m=\u001b[39m \u001b[43mpd\u001b[49m\u001b[38;5;241;43m.\u001b[39;49m\u001b[43mread_csv\u001b[49m\u001b[43m(\u001b[49m\u001b[38;5;124;43m'\u001b[39;49m\u001b[38;5;124;43mapp_scchen/dataset/chen_shih_chung_data.csv\u001b[39;49m\u001b[38;5;124;43m'\u001b[39;49m\u001b[43m,\u001b[49m\u001b[43msep\u001b[49m\u001b[38;5;241;43m=\u001b[39;49m\u001b[38;5;124;43m'\u001b[39;49m\u001b[38;5;124;43m,\u001b[39;49m\u001b[38;5;124;43m'\u001b[39;49m\u001b[43m)\u001b[49m\n\u001b[0;32m      8\u001b[0m     \u001b[38;5;28;01mglobal\u001b[39;00m response\n\u001b[0;32m      9\u001b[0m     response \u001b[38;5;241m=\u001b[39m \u001b[38;5;28mdict\u001b[39m(\u001b[38;5;28mlist\u001b[39m(df_data\u001b[38;5;241m.\u001b[39mvalues))\n",
      "File \u001b[1;32mc:\\Users\\jackl\\anaconda3\\lib\\site-packages\\pandas\\io\\parsers\\readers.py:948\u001b[0m, in \u001b[0;36mread_csv\u001b[1;34m(filepath_or_buffer, sep, delimiter, header, names, index_col, usecols, dtype, engine, converters, true_values, false_values, skipinitialspace, skiprows, skipfooter, nrows, na_values, keep_default_na, na_filter, verbose, skip_blank_lines, parse_dates, infer_datetime_format, keep_date_col, date_parser, date_format, dayfirst, cache_dates, iterator, chunksize, compression, thousands, decimal, lineterminator, quotechar, quoting, doublequote, escapechar, comment, encoding, encoding_errors, dialect, on_bad_lines, delim_whitespace, low_memory, memory_map, float_precision, storage_options, dtype_backend)\u001b[0m\n\u001b[0;32m    935\u001b[0m kwds_defaults \u001b[38;5;241m=\u001b[39m _refine_defaults_read(\n\u001b[0;32m    936\u001b[0m     dialect,\n\u001b[0;32m    937\u001b[0m     delimiter,\n\u001b[1;32m   (...)\u001b[0m\n\u001b[0;32m    944\u001b[0m     dtype_backend\u001b[38;5;241m=\u001b[39mdtype_backend,\n\u001b[0;32m    945\u001b[0m )\n\u001b[0;32m    946\u001b[0m kwds\u001b[38;5;241m.\u001b[39mupdate(kwds_defaults)\n\u001b[1;32m--> 948\u001b[0m \u001b[38;5;28;01mreturn\u001b[39;00m \u001b[43m_read\u001b[49m\u001b[43m(\u001b[49m\u001b[43mfilepath_or_buffer\u001b[49m\u001b[43m,\u001b[49m\u001b[43m \u001b[49m\u001b[43mkwds\u001b[49m\u001b[43m)\u001b[49m\n",
      "File \u001b[1;32mc:\\Users\\jackl\\anaconda3\\lib\\site-packages\\pandas\\io\\parsers\\readers.py:611\u001b[0m, in \u001b[0;36m_read\u001b[1;34m(filepath_or_buffer, kwds)\u001b[0m\n\u001b[0;32m    608\u001b[0m _validate_names(kwds\u001b[38;5;241m.\u001b[39mget(\u001b[38;5;124m\"\u001b[39m\u001b[38;5;124mnames\u001b[39m\u001b[38;5;124m\"\u001b[39m, \u001b[38;5;28;01mNone\u001b[39;00m))\n\u001b[0;32m    610\u001b[0m \u001b[38;5;66;03m# Create the parser.\u001b[39;00m\n\u001b[1;32m--> 611\u001b[0m parser \u001b[38;5;241m=\u001b[39m TextFileReader(filepath_or_buffer, \u001b[38;5;241m*\u001b[39m\u001b[38;5;241m*\u001b[39mkwds)\n\u001b[0;32m    613\u001b[0m \u001b[38;5;28;01mif\u001b[39;00m chunksize \u001b[38;5;129;01mor\u001b[39;00m iterator:\n\u001b[0;32m    614\u001b[0m     \u001b[38;5;28;01mreturn\u001b[39;00m parser\n",
      "File \u001b[1;32mc:\\Users\\jackl\\anaconda3\\lib\\site-packages\\pandas\\io\\parsers\\readers.py:1448\u001b[0m, in \u001b[0;36mTextFileReader.__init__\u001b[1;34m(self, f, engine, **kwds)\u001b[0m\n\u001b[0;32m   1445\u001b[0m     \u001b[38;5;28mself\u001b[39m\u001b[38;5;241m.\u001b[39moptions[\u001b[38;5;124m\"\u001b[39m\u001b[38;5;124mhas_index_names\u001b[39m\u001b[38;5;124m\"\u001b[39m] \u001b[38;5;241m=\u001b[39m kwds[\u001b[38;5;124m\"\u001b[39m\u001b[38;5;124mhas_index_names\u001b[39m\u001b[38;5;124m\"\u001b[39m]\n\u001b[0;32m   1447\u001b[0m \u001b[38;5;28mself\u001b[39m\u001b[38;5;241m.\u001b[39mhandles: IOHandles \u001b[38;5;241m|\u001b[39m \u001b[38;5;28;01mNone\u001b[39;00m \u001b[38;5;241m=\u001b[39m \u001b[38;5;28;01mNone\u001b[39;00m\n\u001b[1;32m-> 1448\u001b[0m \u001b[38;5;28mself\u001b[39m\u001b[38;5;241m.\u001b[39m_engine \u001b[38;5;241m=\u001b[39m \u001b[38;5;28;43mself\u001b[39;49m\u001b[38;5;241;43m.\u001b[39;49m\u001b[43m_make_engine\u001b[49m\u001b[43m(\u001b[49m\u001b[43mf\u001b[49m\u001b[43m,\u001b[49m\u001b[43m \u001b[49m\u001b[38;5;28;43mself\u001b[39;49m\u001b[38;5;241;43m.\u001b[39;49m\u001b[43mengine\u001b[49m\u001b[43m)\u001b[49m\n",
      "File \u001b[1;32mc:\\Users\\jackl\\anaconda3\\lib\\site-packages\\pandas\\io\\parsers\\readers.py:1705\u001b[0m, in \u001b[0;36mTextFileReader._make_engine\u001b[1;34m(self, f, engine)\u001b[0m\n\u001b[0;32m   1703\u001b[0m     \u001b[38;5;28;01mif\u001b[39;00m \u001b[38;5;124m\"\u001b[39m\u001b[38;5;124mb\u001b[39m\u001b[38;5;124m\"\u001b[39m \u001b[38;5;129;01mnot\u001b[39;00m \u001b[38;5;129;01min\u001b[39;00m mode:\n\u001b[0;32m   1704\u001b[0m         mode \u001b[38;5;241m+\u001b[39m\u001b[38;5;241m=\u001b[39m \u001b[38;5;124m\"\u001b[39m\u001b[38;5;124mb\u001b[39m\u001b[38;5;124m\"\u001b[39m\n\u001b[1;32m-> 1705\u001b[0m \u001b[38;5;28mself\u001b[39m\u001b[38;5;241m.\u001b[39mhandles \u001b[38;5;241m=\u001b[39m \u001b[43mget_handle\u001b[49m\u001b[43m(\u001b[49m\n\u001b[0;32m   1706\u001b[0m \u001b[43m    \u001b[49m\u001b[43mf\u001b[49m\u001b[43m,\u001b[49m\n\u001b[0;32m   1707\u001b[0m \u001b[43m    \u001b[49m\u001b[43mmode\u001b[49m\u001b[43m,\u001b[49m\n\u001b[0;32m   1708\u001b[0m \u001b[43m    \u001b[49m\u001b[43mencoding\u001b[49m\u001b[38;5;241;43m=\u001b[39;49m\u001b[38;5;28;43mself\u001b[39;49m\u001b[38;5;241;43m.\u001b[39;49m\u001b[43moptions\u001b[49m\u001b[38;5;241;43m.\u001b[39;49m\u001b[43mget\u001b[49m\u001b[43m(\u001b[49m\u001b[38;5;124;43m\"\u001b[39;49m\u001b[38;5;124;43mencoding\u001b[39;49m\u001b[38;5;124;43m\"\u001b[39;49m\u001b[43m,\u001b[49m\u001b[43m \u001b[49m\u001b[38;5;28;43;01mNone\u001b[39;49;00m\u001b[43m)\u001b[49m\u001b[43m,\u001b[49m\n\u001b[0;32m   1709\u001b[0m \u001b[43m    \u001b[49m\u001b[43mcompression\u001b[49m\u001b[38;5;241;43m=\u001b[39;49m\u001b[38;5;28;43mself\u001b[39;49m\u001b[38;5;241;43m.\u001b[39;49m\u001b[43moptions\u001b[49m\u001b[38;5;241;43m.\u001b[39;49m\u001b[43mget\u001b[49m\u001b[43m(\u001b[49m\u001b[38;5;124;43m\"\u001b[39;49m\u001b[38;5;124;43mcompression\u001b[39;49m\u001b[38;5;124;43m\"\u001b[39;49m\u001b[43m,\u001b[49m\u001b[43m \u001b[49m\u001b[38;5;28;43;01mNone\u001b[39;49;00m\u001b[43m)\u001b[49m\u001b[43m,\u001b[49m\n\u001b[0;32m   1710\u001b[0m \u001b[43m    \u001b[49m\u001b[43mmemory_map\u001b[49m\u001b[38;5;241;43m=\u001b[39;49m\u001b[38;5;28;43mself\u001b[39;49m\u001b[38;5;241;43m.\u001b[39;49m\u001b[43moptions\u001b[49m\u001b[38;5;241;43m.\u001b[39;49m\u001b[43mget\u001b[49m\u001b[43m(\u001b[49m\u001b[38;5;124;43m\"\u001b[39;49m\u001b[38;5;124;43mmemory_map\u001b[39;49m\u001b[38;5;124;43m\"\u001b[39;49m\u001b[43m,\u001b[49m\u001b[43m \u001b[49m\u001b[38;5;28;43;01mFalse\u001b[39;49;00m\u001b[43m)\u001b[49m\u001b[43m,\u001b[49m\n\u001b[0;32m   1711\u001b[0m \u001b[43m    \u001b[49m\u001b[43mis_text\u001b[49m\u001b[38;5;241;43m=\u001b[39;49m\u001b[43mis_text\u001b[49m\u001b[43m,\u001b[49m\n\u001b[0;32m   1712\u001b[0m \u001b[43m    \u001b[49m\u001b[43merrors\u001b[49m\u001b[38;5;241;43m=\u001b[39;49m\u001b[38;5;28;43mself\u001b[39;49m\u001b[38;5;241;43m.\u001b[39;49m\u001b[43moptions\u001b[49m\u001b[38;5;241;43m.\u001b[39;49m\u001b[43mget\u001b[49m\u001b[43m(\u001b[49m\u001b[38;5;124;43m\"\u001b[39;49m\u001b[38;5;124;43mencoding_errors\u001b[39;49m\u001b[38;5;124;43m\"\u001b[39;49m\u001b[43m,\u001b[49m\u001b[43m \u001b[49m\u001b[38;5;124;43m\"\u001b[39;49m\u001b[38;5;124;43mstrict\u001b[39;49m\u001b[38;5;124;43m\"\u001b[39;49m\u001b[43m)\u001b[49m\u001b[43m,\u001b[49m\n\u001b[0;32m   1713\u001b[0m \u001b[43m    \u001b[49m\u001b[43mstorage_options\u001b[49m\u001b[38;5;241;43m=\u001b[39;49m\u001b[38;5;28;43mself\u001b[39;49m\u001b[38;5;241;43m.\u001b[39;49m\u001b[43moptions\u001b[49m\u001b[38;5;241;43m.\u001b[39;49m\u001b[43mget\u001b[49m\u001b[43m(\u001b[49m\u001b[38;5;124;43m\"\u001b[39;49m\u001b[38;5;124;43mstorage_options\u001b[39;49m\u001b[38;5;124;43m\"\u001b[39;49m\u001b[43m,\u001b[49m\u001b[43m \u001b[49m\u001b[38;5;28;43;01mNone\u001b[39;49;00m\u001b[43m)\u001b[49m\u001b[43m,\u001b[49m\n\u001b[0;32m   1714\u001b[0m \u001b[43m\u001b[49m\u001b[43m)\u001b[49m\n\u001b[0;32m   1715\u001b[0m \u001b[38;5;28;01massert\u001b[39;00m \u001b[38;5;28mself\u001b[39m\u001b[38;5;241m.\u001b[39mhandles \u001b[38;5;129;01mis\u001b[39;00m \u001b[38;5;129;01mnot\u001b[39;00m \u001b[38;5;28;01mNone\u001b[39;00m\n\u001b[0;32m   1716\u001b[0m f \u001b[38;5;241m=\u001b[39m \u001b[38;5;28mself\u001b[39m\u001b[38;5;241m.\u001b[39mhandles\u001b[38;5;241m.\u001b[39mhandle\n",
      "File \u001b[1;32mc:\\Users\\jackl\\anaconda3\\lib\\site-packages\\pandas\\io\\common.py:863\u001b[0m, in \u001b[0;36mget_handle\u001b[1;34m(path_or_buf, mode, encoding, compression, memory_map, is_text, errors, storage_options)\u001b[0m\n\u001b[0;32m    858\u001b[0m \u001b[38;5;28;01melif\u001b[39;00m \u001b[38;5;28misinstance\u001b[39m(handle, \u001b[38;5;28mstr\u001b[39m):\n\u001b[0;32m    859\u001b[0m     \u001b[38;5;66;03m# Check whether the filename is to be opened in binary mode.\u001b[39;00m\n\u001b[0;32m    860\u001b[0m     \u001b[38;5;66;03m# Binary mode does not support 'encoding' and 'newline'.\u001b[39;00m\n\u001b[0;32m    861\u001b[0m     \u001b[38;5;28;01mif\u001b[39;00m ioargs\u001b[38;5;241m.\u001b[39mencoding \u001b[38;5;129;01mand\u001b[39;00m \u001b[38;5;124m\"\u001b[39m\u001b[38;5;124mb\u001b[39m\u001b[38;5;124m\"\u001b[39m \u001b[38;5;129;01mnot\u001b[39;00m \u001b[38;5;129;01min\u001b[39;00m ioargs\u001b[38;5;241m.\u001b[39mmode:\n\u001b[0;32m    862\u001b[0m         \u001b[38;5;66;03m# Encoding\u001b[39;00m\n\u001b[1;32m--> 863\u001b[0m         handle \u001b[38;5;241m=\u001b[39m \u001b[38;5;28;43mopen\u001b[39;49m\u001b[43m(\u001b[49m\n\u001b[0;32m    864\u001b[0m \u001b[43m            \u001b[49m\u001b[43mhandle\u001b[49m\u001b[43m,\u001b[49m\n\u001b[0;32m    865\u001b[0m \u001b[43m            \u001b[49m\u001b[43mioargs\u001b[49m\u001b[38;5;241;43m.\u001b[39;49m\u001b[43mmode\u001b[49m\u001b[43m,\u001b[49m\n\u001b[0;32m    866\u001b[0m \u001b[43m            \u001b[49m\u001b[43mencoding\u001b[49m\u001b[38;5;241;43m=\u001b[39;49m\u001b[43mioargs\u001b[49m\u001b[38;5;241;43m.\u001b[39;49m\u001b[43mencoding\u001b[49m\u001b[43m,\u001b[49m\n\u001b[0;32m    867\u001b[0m \u001b[43m            \u001b[49m\u001b[43merrors\u001b[49m\u001b[38;5;241;43m=\u001b[39;49m\u001b[43merrors\u001b[49m\u001b[43m,\u001b[49m\n\u001b[0;32m    868\u001b[0m \u001b[43m            \u001b[49m\u001b[43mnewline\u001b[49m\u001b[38;5;241;43m=\u001b[39;49m\u001b[38;5;124;43m\"\u001b[39;49m\u001b[38;5;124;43m\"\u001b[39;49m\u001b[43m,\u001b[49m\n\u001b[0;32m    869\u001b[0m \u001b[43m        \u001b[49m\u001b[43m)\u001b[49m\n\u001b[0;32m    870\u001b[0m     \u001b[38;5;28;01melse\u001b[39;00m:\n\u001b[0;32m    871\u001b[0m         \u001b[38;5;66;03m# Binary mode\u001b[39;00m\n\u001b[0;32m    872\u001b[0m         handle \u001b[38;5;241m=\u001b[39m \u001b[38;5;28mopen\u001b[39m(handle, ioargs\u001b[38;5;241m.\u001b[39mmode)\n",
      "\u001b[1;31mFileNotFoundError\u001b[0m: [Errno 2] No such file or directory: 'app_scchen/dataset/chen_shih_chung_data.csv'"
     ]
    }
   ],
   "source": [
    "from django.http import JsonResponse\n",
    "from django.shortcuts import render\n",
    "import pandas as pd\n",
    "\n",
    "def load_data_scchen():\n",
    "    # Read data from csv file\n",
    "    df_data = pd.read_csv('app_scchen/dataset/chen_shih_chung_data.csv',sep=',')\n",
    "    global response\n",
    "    response = dict(list(df_data.values))\n",
    "    del df_data\n",
    "\n",
    "# load pk data\n",
    "load_data_scchen()\n",
    "\n",
    "def home(request):\n",
    "    return render(request,'app_scchen/home.html', response)\n",
    "\n",
    "print('app_scchen was loaded!')"
   ]
  },
  {
   "cell_type": "code",
   "execution_count": null,
   "metadata": {},
   "outputs": [],
   "source": []
  },
  {
   "attachments": {},
   "cell_type": "markdown",
   "metadata": {},
   "source": [
    "        # Saving data with other file format\n",
    "\n",
    "        ## Save to text file\n",
    "        # Save data\n",
    "        f = open('pk_politician.txt','w')\n",
    "        f.write(str(data_pk))\n",
    "        f.close()\n",
    "\n",
    "        # Load data\n",
    "        f = open('pk_politician.txt','r')\n",
    "        data_pk = f.read()\n",
    "\n",
    "        # dictionary format\n",
    "        eval(data_pk)\n",
    "        ## Save to json file\n",
    "        import json\n",
    "\n",
    "        # Save data\n",
    "        with open('pk_politician.txt', 'w') as file:\n",
    "            json.dump( data_pk, file)\n",
    "\n",
    "        # Load data\n",
    "        with open('pk_politician.txt', 'r') as file:\n",
    "            data_pk = json.load(file)\n",
    "\n",
    "        # dictionary format\n",
    "        data_pk\n",
    "\n",
    "        ## save to mongoDb (A famous NoneSQL)\n",
    "        from pymongo import MongoClient\n",
    "\n",
    "        # Save data\n",
    "        client = MongoClient()\n",
    "        database = client[\"cnaNews\"]  # SQL: Database Name\n",
    "        table_KTH = database[\"pk_politicianTsaiHan\"]   # SQL: Table Name\n",
    "\n",
    "        table_KTH.drop()\n",
    "        table_KTH.insert_one(data)\n",
    "\n",
    "\n",
    "        # Load data\n",
    "        from pymongo import MongoClient\n",
    "        client = MongoClient()\n",
    "        database = client[\"cnaNews\"]  # SQL: Database Name\n",
    "        table_KTH  = database[\"pkData\"]   # SQL: Table Name\n",
    "\n",
    "        for x in table_KTH.find():\n",
    "            print(x)\n",
    "\n",
    "        list(table_KTH.find({}, {'_id': False}))\n"
   ]
  },
  {
   "cell_type": "code",
   "execution_count": null,
   "metadata": {},
   "outputs": [],
   "source": []
  }
 ],
 "metadata": {
  "kernelspec": {
   "display_name": "base",
   "language": "python",
   "name": "python3"
  },
  "language_info": {
   "codemirror_mode": {
    "name": "ipython",
    "version": 3
   },
   "file_extension": ".py",
   "mimetype": "text/x-python",
   "name": "python",
   "nbconvert_exporter": "python",
   "pygments_lexer": "ipython3",
   "version": "3.9.18"
  },
  "toc-autonumbering": true
 },
 "nbformat": 4,
 "nbformat_minor": 4
}
