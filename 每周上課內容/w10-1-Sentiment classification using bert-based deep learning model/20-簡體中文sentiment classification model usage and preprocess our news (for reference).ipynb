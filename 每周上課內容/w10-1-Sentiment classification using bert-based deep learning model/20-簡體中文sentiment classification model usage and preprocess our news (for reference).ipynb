{
 "cells": [
  {
   "cell_type": "markdown",
   "metadata": {
    "id": "n_liIQZPJVi4"
   },
   "source": [
    "# Sentiment Classification Using BERT\n",
    "\n",
    "情緒分類使用BERT神經網路\n",
    "\n",
    "    負面:0 正面:1\n",
    "\n",
    "    負面:0 正面:1 中立:2\n",
    "\n",
    "    負面:0 正面:1 中立:2 無情緒:3\n",
    "\n"
   ]
  },
  {
   "cell_type": "markdown",
   "metadata": {
    "id": "LZEjCr--JVi8"
   },
   "source": [
    "## What is Sentiment Analysis?\n",
    "\n",
    "    Sentiment Analysis is a process of extracting opinions that have different polarities.\n",
    "    \n",
    "    By polarities, we mean positive, negative or neutral.\n",
    "\n",
    "    It is also known as opinion mining and polarity detection.\n",
    "\n",
    "    With the help of sentiment analysis, you can find out the nature of opinion that is reflected in documents, websites, social media feed, etc.\n",
    "\n",
    "    Sentiment Analysis is a type of classification where the data is classified into different classes.\n",
    "\n",
    "    These classes can be binary in nature (positive or negative) or, they can have multiple classes (happy, sad, angry, etc.).\n",
    "\n",
    "\n",
    "    Google's and Microsoft's prediction API are two of the best sentiment analysis engines in the market and they keep improving.\n",
    "\n",
    "\n",
    "    Does it really work?\n",
    "    Sentiment Analysis works. It's not 100% reliable and it errs but even if you get sentiments with a confidence level of 70 or 80% it’s a lot more than nothing.\n"
   ]
  },
  {
   "cell_type": "markdown",
   "metadata": {
    "id": "_bhzsXFhSI2E"
   },
   "source": [
    "## Google NLP Services\n",
    "\n",
    "Take a look at the Google NLP services."
   ]
  },
  {
   "cell_type": "markdown",
   "metadata": {
    "id": "Y5RP4SFsSI2F"
   },
   "source": [
    "# Load model and tokenizer"
   ]
  },
  {
   "cell_type": "code",
   "execution_count": 5,
   "metadata": {
    "executionInfo": {
     "elapsed": 20925,
     "status": "ok",
     "timestamp": 1712656551937,
     "user": {
      "displayName": "dr.chenlung Huang",
      "userId": "01229192778301215745"
     },
     "user_tz": -480
    },
    "id": "YZ2GKkqiSI2F"
   },
   "outputs": [],
   "source": [
    "from transformers import AutoTokenizer, AutoModelForSequenceClassification, pipeline"
   ]
  },
  {
   "cell_type": "code",
   "execution_count": 6,
   "metadata": {},
   "outputs": [
    {
     "name": "stdout",
     "output_type": "stream",
     "text": [
      "Requirement already satisfied: opencc in c:\\users\\jackl\\anaconda3\\lib\\site-packages (1.1.9)\n"
     ]
    },
    {
     "name": "stderr",
     "output_type": "stream",
     "text": [
      "\n",
      "[notice] A new release of pip is available: 24.2 -> 25.0.1\n",
      "[notice] To update, run: python.exe -m pip install --upgrade pip\n"
     ]
    }
   ],
   "source": [
    "!pip install opencc"
   ]
  },
  {
   "cell_type": "code",
   "execution_count": 7,
   "metadata": {
    "id": "g1uyee2uSI2F"
   },
   "outputs": [],
   "source": [
    "from opencc import OpenCC\n",
    "s2t = OpenCC('s2t')  # convert from Simplified Chinese to Traditional Chinese\n",
    "t2s = OpenCC('t2s')  # convert from  Traditional Chinese to Simplified Chinese"
   ]
  },
  {
   "cell_type": "code",
   "execution_count": 8,
   "metadata": {
    "colab": {
     "base_uri": "https://localhost:8080/",
     "height": 185,
     "referenced_widgets": [
      "b89c261533f54957848fd88069524e16",
      "5504139e389c4244b24ac2e6b747f08a",
      "5363f8821be64671a339c60945540cd1",
      "f1c39c68b12d4356aba3176fd7e03cdd",
      "e2fe69ec11224fb68d800487cf066899",
      "7e12c3eb2ada4b19ab58aa145983d8fc",
      "76f14758d26b42cd9db77e8a5d5abf0b",
      "60f7e544a4a349639f0c67a4ebfaa712",
      "8337e027820e4ac29bd997ddc5e06f1d",
      "3cab46cdf0fd4183a2ba47572785986a",
      "3d0b529ba26144c2b3be3232da55f6fe",
      "44dc47704bbc409083e2046de2e99a76",
      "544c70f87de7454098f6e771786e93c5",
      "fc0514a857a34ae88e40c1edd5b2aeb7",
      "eab28f65581e45f5a48f7fa936896e93",
      "2455f8aef5e646de833a510a8beeb5e2",
      "9a10dfefd9de40c49fe1c7492f43af75",
      "5c25751ef7da44e08d90d4c1ded82e07",
      "242e8b9da8754bb3a5c54918baf53ec3",
      "32fb9cf5e00d415aa0c9ea9a672b3fb4",
      "fc0ec2b2bed74ab1b8a042118ee28265",
      "164ba92c85294f9eb40585b24d817fe6"
     ]
    },
    "executionInfo": {
     "elapsed": 27276,
     "status": "ok",
     "timestamp": 1712656585503,
     "user": {
      "displayName": "dr.chenlung Huang",
      "userId": "01229192778301215745"
     },
     "user_tz": -480
    },
    "id": "fBjG1G-CSI2F",
    "outputId": "a87b79bd-4454-4588-a899-2460b0dc9e48"
   },
   "outputs": [
    {
     "data": {
      "application/vnd.jupyter.widget-view+json": {
       "model_id": "84fab0da5ba24db3be947cbb56162369",
       "version_major": 2,
       "version_minor": 0
      },
      "text/plain": [
       "config.json:   0%|          | 0.00/612 [00:00<?, ?B/s]"
      ]
     },
     "metadata": {},
     "output_type": "display_data"
    },
    {
     "data": {
      "application/vnd.jupyter.widget-view+json": {
       "model_id": "866c61bb70e04474828d9a18a7a335e2",
       "version_major": 2,
       "version_minor": 0
      },
      "text/plain": [
       "pytorch_model.bin:   0%|          | 0.00/409M [00:00<?, ?B/s]"
      ]
     },
     "metadata": {},
     "output_type": "display_data"
    }
   ],
   "source": [
    "# You can download the best trained model from huggingface\n",
    "# https://huggingface.co/clhuang\n",
    "\n",
    "# (1) Load model from huggingface\n",
    "model = AutoModelForSequenceClassification.from_pretrained(\"uer/roberta-base-finetuned-dianping-chinese\")"
   ]
  },
  {
   "cell_type": "code",
   "execution_count": 9,
   "metadata": {
    "id": "azrrsIJCSI2F",
    "outputId": "2e0f5def-5ecc-46db-f248-33280ddc92f7"
   },
   "outputs": [
    {
     "data": {
      "text/plain": [
       "BertForSequenceClassification(\n",
       "  (bert): BertModel(\n",
       "    (embeddings): BertEmbeddings(\n",
       "      (word_embeddings): Embedding(21128, 768, padding_idx=0)\n",
       "      (position_embeddings): Embedding(512, 768)\n",
       "      (token_type_embeddings): Embedding(2, 768)\n",
       "      (LayerNorm): LayerNorm((768,), eps=1e-12, elementwise_affine=True)\n",
       "      (dropout): Dropout(p=0.1, inplace=False)\n",
       "    )\n",
       "    (encoder): BertEncoder(\n",
       "      (layer): ModuleList(\n",
       "        (0-11): 12 x BertLayer(\n",
       "          (attention): BertAttention(\n",
       "            (self): BertSdpaSelfAttention(\n",
       "              (query): Linear(in_features=768, out_features=768, bias=True)\n",
       "              (key): Linear(in_features=768, out_features=768, bias=True)\n",
       "              (value): Linear(in_features=768, out_features=768, bias=True)\n",
       "              (dropout): Dropout(p=0.1, inplace=False)\n",
       "            )\n",
       "            (output): BertSelfOutput(\n",
       "              (dense): Linear(in_features=768, out_features=768, bias=True)\n",
       "              (LayerNorm): LayerNorm((768,), eps=1e-12, elementwise_affine=True)\n",
       "              (dropout): Dropout(p=0.1, inplace=False)\n",
       "            )\n",
       "          )\n",
       "          (intermediate): BertIntermediate(\n",
       "            (dense): Linear(in_features=768, out_features=3072, bias=True)\n",
       "            (intermediate_act_fn): GELUActivation()\n",
       "          )\n",
       "          (output): BertOutput(\n",
       "            (dense): Linear(in_features=3072, out_features=768, bias=True)\n",
       "            (LayerNorm): LayerNorm((768,), eps=1e-12, elementwise_affine=True)\n",
       "            (dropout): Dropout(p=0.1, inplace=False)\n",
       "          )\n",
       "        )\n",
       "      )\n",
       "    )\n",
       "    (pooler): BertPooler(\n",
       "      (dense): Linear(in_features=768, out_features=768, bias=True)\n",
       "      (activation): Tanh()\n",
       "    )\n",
       "  )\n",
       "  (dropout): Dropout(p=0.1, inplace=False)\n",
       "  (classifier): Linear(in_features=768, out_features=2, bias=True)\n",
       ")"
      ]
     },
     "execution_count": 9,
     "metadata": {},
     "output_type": "execute_result"
    }
   ],
   "source": [
    "model"
   ]
  },
  {
   "cell_type": "code",
   "execution_count": 10,
   "metadata": {
    "colab": {
     "referenced_widgets": [
      "a3a8a37a99f4441a8d68b67598d1cb8d",
      "d43f6c9164a443d19e81e58e1e9cc91c",
      "3eb93b49c2cd4be88ecf8d1624eaa8df"
     ]
    },
    "id": "KXHXb7RYTARC",
    "outputId": "0a68e0c1-b108-4de8-f06f-52d9d1f35c4a"
   },
   "outputs": [
    {
     "data": {
      "application/vnd.jupyter.widget-view+json": {
       "model_id": "0bf47cb2b3cb4e68b8cbb1c6dfe51369",
       "version_major": 2,
       "version_minor": 0
      },
      "text/plain": [
       "tokenizer_config.json:   0%|          | 0.00/295 [00:00<?, ?B/s]"
      ]
     },
     "metadata": {},
     "output_type": "display_data"
    },
    {
     "data": {
      "application/vnd.jupyter.widget-view+json": {
       "model_id": "36ecec91895d49d68b5e537bef753add",
       "version_major": 2,
       "version_minor": 0
      },
      "text/plain": [
       "vocab.txt:   0%|          | 0.00/110k [00:00<?, ?B/s]"
      ]
     },
     "metadata": {},
     "output_type": "display_data"
    },
    {
     "data": {
      "application/vnd.jupyter.widget-view+json": {
       "model_id": "600aeb80f80e4c43a3da038bc0b5146f",
       "version_major": 2,
       "version_minor": 0
      },
      "text/plain": [
       "special_tokens_map.json:   0%|          | 0.00/112 [00:00<?, ?B/s]"
      ]
     },
     "metadata": {},
     "output_type": "display_data"
    },
    {
     "name": "stderr",
     "output_type": "stream",
     "text": [
      "c:\\Users\\jackl\\anaconda3\\lib\\site-packages\\transformers\\tokenization_utils_base.py:1601: FutureWarning: `clean_up_tokenization_spaces` was not set. It will be set to `True` by default. This behavior will be depracted in transformers v4.45, and will be then set to `False` by default. For more details check this issue: https://github.com/huggingface/transformers/issues/31884\n",
      "  warnings.warn(\n"
     ]
    }
   ],
   "source": [
    "# tokenizer\n",
    "tokenizer = AutoTokenizer.from_pretrained(\"uer/roberta-base-finetuned-dianping-chinese\") #from huggingface"
   ]
  },
  {
   "cell_type": "code",
   "execution_count": 11,
   "metadata": {
    "id": "roalfacESI2F",
    "outputId": "5c4b974a-d7ba-4cbe-a184-d84da56b45a4"
   },
   "outputs": [
    {
     "data": {
      "text/plain": [
       "21128"
      ]
     },
     "execution_count": 11,
     "metadata": {},
     "output_type": "execute_result"
    }
   ],
   "source": [
    "len(tokenizer)"
   ]
  },
  {
   "cell_type": "code",
   "execution_count": 12,
   "metadata": {
    "id": "0jhlKjYjSI2G",
    "outputId": "10e7208d-ca86-445e-d1d0-6a79858c8dba"
   },
   "outputs": [
    {
     "data": {
      "text/plain": [
       "{'##瞠': 17798,\n",
       " '##ari': 11172,\n",
       " '澳': 4078,\n",
       " '##旭': 16252,\n",
       " '內': 1058,\n",
       " '厥': 1335,\n",
       " '蔘': 5916,\n",
       " '潧': 4058,\n",
       " '##扁': 15850,\n",
       " '##漯': 17094,\n",
       " 'am': 8413,\n",
       " 'ucbug': 11374,\n",
       " 'ク': 600,\n",
       " 'fpx': 13285,\n",
       " '##瀰': 17173,\n",
       " '##淺': 16980,\n",
       " 'ら': 578,\n",
       " '##樣': 16621,\n",
       " '綬': 5203,\n",
       " '392': 12254,\n",
       " '##蹦': 19755,\n",
       " '婺': 2052,\n",
       " 'raid': 11044,\n",
       " '##韵': 20567,\n",
       " '##衿': 19201,\n",
       " '2015': 8119,\n",
       " '##af': 11472,\n",
       " 'akb48': 10521,\n",
       " '规': 6226,\n",
       " 'とは': 11556,\n",
       " '##walk': 12621,\n",
       " '##鯰': 20867,\n",
       " '##岛': 15327,\n",
       " '✪': 502,\n",
       " 'xp': 8766,\n",
       " '##anda': 13300,\n",
       " '##國': 14808,\n",
       " '##炮': 17209,\n",
       " 'job': 12539,\n",
       " '##憾': 15799,\n",
       " '##褔': 19246,\n",
       " '##綵': 18265,\n",
       " '##摺': 16102,\n",
       " '矣': 4760,\n",
       " '##re': 8358,\n",
       " '嘜': 1659,\n",
       " '##≦': 13547,\n",
       " '##礫': 17905,\n",
       " '铨': 7205,\n",
       " '##val': 9957,\n",
       " '##‥': 13500,\n",
       " '磕': 4833,\n",
       " '酬': 6992,\n",
       " '##mp': 9085,\n",
       " '盆': 4658,\n",
       " '各': 1392,\n",
       " 'siri': 10309,\n",
       " 'f3': 11651,\n",
       " 'l1': 12421,\n",
       " '##赏': 19662,\n",
       " '簷': 5085,\n",
       " '##崇': 15357,\n",
       " '##您': 15701,\n",
       " '##book': 8874,\n",
       " '##浇': 16899,\n",
       " '##给': 18371,\n",
       " '##侏': 13950,\n",
       " '##対': 15251,\n",
       " '##静': 20531,\n",
       " '##叼': 14445,\n",
       " '##碴': 17881,\n",
       " '仲': 815,\n",
       " '##能': 18600,\n",
       " '##蝶': 19136,\n",
       " '##麋': 20981,\n",
       " '鑰': 7145,\n",
       " '##認': 19348,\n",
       " '睬': 4725,\n",
       " '耍': 5446,\n",
       " '闵': 7314,\n",
       " '##歡': 16688,\n",
       " '##踊': 19727,\n",
       " '清': 3926,\n",
       " '▲topmar': 10172,\n",
       " '1902': 11487,\n",
       " 'b3': 12790,\n",
       " '##si': 9182,\n",
       " '##洗': 16876,\n",
       " '佚': 866,\n",
       " '##慫': 15775,\n",
       " '##恻': 15686,\n",
       " ',': 117,\n",
       " '##忽': 15632,\n",
       " '嵩': 2319,\n",
       " '昙': 3214,\n",
       " '铮': 7209,\n",
       " '窑': 4965,\n",
       " '138': 9209,\n",
       " '仅': 788,\n",
       " '惴': 2683,\n",
       " '##抡': 15899,\n",
       " '369': 11844,\n",
       " '##耀': 18495,\n",
       " '##隸': 20463,\n",
       " '##匹': 14333,\n",
       " '##堤': 14894,\n",
       " '##磷': 17897,\n",
       " '藜': 5970,\n",
       " '##憨': 15793,\n",
       " '##賭': 19608,\n",
       " '剛': 1190,\n",
       " '##桨': 16501,\n",
       " '250': 8401,\n",
       " '站': 4991,\n",
       " '张': 2476,\n",
       " '##the': 11334,\n",
       " '##し': 8733,\n",
       " '##樊': 16614,\n",
       " 'v5': 11133,\n",
       " '##tl': 12305,\n",
       " '糙': 5133,\n",
       " '餞': 7629,\n",
       " 'bbe': 12517,\n",
       " '##a5': 12540,\n",
       " '##ews': 13024,\n",
       " '##鹏': 20962,\n",
       " '##レ': 10416,\n",
       " '##mmy': 12137,\n",
       " '##price': 13087,\n",
       " '##カ': 9770,\n",
       " '##餓': 20682,\n",
       " '##続': 18254,\n",
       " '##竭': 18055,\n",
       " '470': 10658,\n",
       " '##阪': 20398,\n",
       " '##009': 11219,\n",
       " '九': 736,\n",
       " '遷': 6907,\n",
       " '321': 9883,\n",
       " 'ubuntu': 8889,\n",
       " '袁': 6145,\n",
       " '##ics': 9034,\n",
       " '##梳': 16520,\n",
       " '疊': 4540,\n",
       " '##咣': 14539,\n",
       " '贍': 6559,\n",
       " '##余': 13922,\n",
       " '##┌': 13582,\n",
       " '焜': 4191,\n",
       " '##pl': 12569,\n",
       " '##旮': 16253,\n",
       " 'edu': 9827,\n",
       " '##銜': 20129,\n",
       " '臓': 5625,\n",
       " '##贺': 19647,\n",
       " '##;': 13333,\n",
       " '##ung': 9112,\n",
       " 'pure': 13179,\n",
       " '22': 8130,\n",
       " '陰': 7374,\n",
       " '厉': 1326,\n",
       " '##ign': 11558,\n",
       " '摧': 3039,\n",
       " '##命': 14519,\n",
       " '##摳': 16099,\n",
       " '魇': 7792,\n",
       " '毓': 3682,\n",
       " '##冊': 14141,\n",
       " 'ᆺ': 326,\n",
       " '##250': 12629,\n",
       " '陕': 7362,\n",
       " '##持': 15955,\n",
       " '##link': 9989,\n",
       " '58': 8255,\n",
       " '褓': 6188,\n",
       " '鐺': 7138,\n",
       " '斋': 3153,\n",
       " '##tina': 10584,\n",
       " '##⑩': 13565,\n",
       " '##閃': 20329,\n",
       " '##驶': 20781,\n",
       " '##元': 14096,\n",
       " '辅': 6774,\n",
       " '繃': 5247,\n",
       " '##桑': 16490,\n",
       " '##ink': 11119,\n",
       " '绿': 5344,\n",
       " 'かあります': 11163,\n",
       " '##爾': 17330,\n",
       " '妻': 1988,\n",
       " '##亨': 13830,\n",
       " 'auto': 11327,\n",
       " '叡': 1364,\n",
       " 'turbo': 12325,\n",
       " '##薩': 19015,\n",
       " '趺': 6643,\n",
       " 'pixnet': 8191,\n",
       " 'reader': 11453,\n",
       " '躉': 6710,\n",
       " 'pci': 10773,\n",
       " '☀': 479,\n",
       " '儼': 1035,\n",
       " '吩': 1418,\n",
       " '豹': 6501,\n",
       " 'five': 12706,\n",
       " '##飕': 20659,\n",
       " '##骤': 20809,\n",
       " '##荤': 18841,\n",
       " '##刮': 14224,\n",
       " '50cm': 11721,\n",
       " '##ge': 8441,\n",
       " '209': 10381,\n",
       " '點': 7953,\n",
       " '232': 9863,\n",
       " '##唸': 14608,\n",
       " '篡': 5070,\n",
       " '胸': 5541,\n",
       " '##斟': 16220,\n",
       " '##尺': 15280,\n",
       " '線': 5221,\n",
       " '惜': 2667,\n",
       " '鱈': 7818,\n",
       " '##昨': 16276,\n",
       " '##陶': 20435,\n",
       " '##絹': 18248,\n",
       " '##翘': 18483,\n",
       " '##mine': 12723,\n",
       " 'fun': 9575,\n",
       " '雅': 7414,\n",
       " '隸': 7406,\n",
       " '1867': 13042,\n",
       " '1893': 12927,\n",
       " '##螺': 19147,\n",
       " '##拈': 15917,\n",
       " '镰': 7266,\n",
       " '##sm': 10244,\n",
       " '##ん': 8814,\n",
       " '##ran': 10477,\n",
       " '##窖': 18026,\n",
       " '##ソ': 13687,\n",
       " '##酷': 20056,\n",
       " '冉': 1083,\n",
       " 'sports': 10646,\n",
       " '##噸': 14754,\n",
       " '##隽': 20466,\n",
       " '≧': 397,\n",
       " 'wii': 11372,\n",
       " '##霍': 20509,\n",
       " 'スホンサーサイト': 12314,\n",
       " '觞': 6236,\n",
       " '##槎': 16599,\n",
       " '##米': 18158,\n",
       " '嘆': 1647,\n",
       " '16g': 12823,\n",
       " '則': 1179,\n",
       " '##▽': 13613,\n",
       " '##睡': 17774,\n",
       " '##驸': 20783,\n",
       " '##芮': 18764,\n",
       " '##靜': 20534,\n",
       " '##晉': 16288,\n",
       " '浇': 3842,\n",
       " '##倉': 13999,\n",
       " '##钳': 20236,\n",
       " '##眈': 17747,\n",
       " '贪': 6576,\n",
       " '##wing': 13070,\n",
       " '带': 2372,\n",
       " '嚕': 1707,\n",
       " '##media': 10970,\n",
       " '##芾': 18773,\n",
       " '瘘': 4600,\n",
       " '##code': 10802,\n",
       " '會': 3298,\n",
       " '๑': 285,\n",
       " '冥': 1097,\n",
       " 'today': 11262,\n",
       " 'n2': 11832,\n",
       " '##俳': 13994,\n",
       " '肝': 5498,\n",
       " '栉': 3405,\n",
       " 'niusnews': 13212,\n",
       " 'netscape': 8691,\n",
       " '紜': 5161,\n",
       " '紀': 5145,\n",
       " '妾': 1989,\n",
       " '扰': 2817,\n",
       " '蹲': 6702,\n",
       " '##ql': 11083,\n",
       " '劏': 1211,\n",
       " '##鸵': 20950,\n",
       " '##譲': 19417,\n",
       " 'めて': 11967,\n",
       " '虔': 5992,\n",
       " '竺': 5002,\n",
       " '橋': 3578,\n",
       " '酯': 6994,\n",
       " '槭': 3549,\n",
       " '蹤': 6697,\n",
       " 'さんも': 11835,\n",
       " '姜': 2002,\n",
       " 'jordan': 9229,\n",
       " '##尧': 15273,\n",
       " '涧': 3884,\n",
       " '##椅': 16545,\n",
       " '##汴': 16802,\n",
       " '##漣': 17089,\n",
       " 'land': 11169,\n",
       " '##習': 18481,\n",
       " '甌': 4489,\n",
       " '##揩': 16054,\n",
       " '睿': 4729,\n",
       " '诣': 6419,\n",
       " '53': 8251,\n",
       " 'management': 10751,\n",
       " '##苁': 18774,\n",
       " '惊': 2661,\n",
       " '缙': 5358,\n",
       " '##袭': 19216,\n",
       " '##痒': 17630,\n",
       " 'wma': 9900,\n",
       " '##谧': 19530,\n",
       " '革': 7484,\n",
       " '眙': 4694,\n",
       " '##揆': 16043,\n",
       " '##欸': 16675,\n",
       " '幢': 2394,\n",
       " '##殞': 16717,\n",
       " '钢': 7167,\n",
       " '蜆': 6046,\n",
       " '##°': 8724,\n",
       " '##笈': 18064,\n",
       " '准': 1114,\n",
       " 's3': 10647,\n",
       " 'rcep': 12361,\n",
       " '怖': 2587,\n",
       " '溪': 3983,\n",
       " '舐': 5652,\n",
       " '鉀': 7054,\n",
       " '##2c': 11935,\n",
       " '谔': 6459,\n",
       " '##称': 17974,\n",
       " '芯': 5708,\n",
       " '17': 8126,\n",
       " '栋': 3406,\n",
       " '鏈': 7122,\n",
       " '亚': 762,\n",
       " '遥': 6898,\n",
       " \"'\": 112,\n",
       " '佔': 861,\n",
       " '輿': 6748,\n",
       " '浸': 3863,\n",
       " 'ﾞ': 8098,\n",
       " 'step3': 9434,\n",
       " 'スホンサー': 10948,\n",
       " '##啬': 14629,\n",
       " '242': 11056,\n",
       " '##嫡': 15129,\n",
       " '##幫': 15453,\n",
       " '##己': 15403,\n",
       " '##見': 19267,\n",
       " '箏': 5046,\n",
       " 'gpa': 12273,\n",
       " '##毆': 16733,\n",
       " '下': 678,\n",
       " '溟': 3979,\n",
       " '模': 3563,\n",
       " '洗': 3819,\n",
       " '萸': 5860,\n",
       " '##叨': 14427,\n",
       " '##ies': 8773,\n",
       " '##哨': 14580,\n",
       " '##氰': 16772,\n",
       " '##漳': 17097,\n",
       " 'master': 9261,\n",
       " '痛': 4578,\n",
       " '##そ': 10778,\n",
       " '偶': 981,\n",
       " '##祛': 17922,\n",
       " '##啲': 14633,\n",
       " '扇': 2794,\n",
       " '﹝': 8009,\n",
       " '授': 2956,\n",
       " '##ラ': 9210,\n",
       " '##ことて': 11178,\n",
       " '拚': 2874,\n",
       " '阿': 7350,\n",
       " '默': 7949,\n",
       " '训': 6378,\n",
       " '隋': 7387,\n",
       " '##ya': 8741,\n",
       " '247': 11128,\n",
       " 'cambridge': 11788,\n",
       " '##のに': 12813,\n",
       " '##伉': 13879,\n",
       " '##検': 16550,\n",
       " '##楨': 16566,\n",
       " '2m': 10725,\n",
       " '##妘': 15031,\n",
       " '##婿': 15110,\n",
       " '##急': 15650,\n",
       " '##糸': 18199,\n",
       " '##骶': 20815,\n",
       " '寛': 2172,\n",
       " 'profile': 11675,\n",
       " '欽': 3620,\n",
       " '瑪': 4454,\n",
       " '棘': 3475,\n",
       " 'angel': 9561,\n",
       " '填': 1856,\n",
       " '眦': 4698,\n",
       " '■': 459,\n",
       " '迩': 6831,\n",
       " '襟': 6199,\n",
       " '郝': 6950,\n",
       " '昴': 3223,\n",
       " '鍥': 7105,\n",
       " 'anti': 9204,\n",
       " 'booking': 9309,\n",
       " '悱': 2649,\n",
       " 'hktvmall': 9688,\n",
       " '箝': 5051,\n",
       " '〕': 527,\n",
       " '忱': 2572,\n",
       " 'へ': 565,\n",
       " '胰': 5536,\n",
       " '##ｄ': 9835,\n",
       " '佈': 854,\n",
       " '1914': 9837,\n",
       " '##dd': 9879,\n",
       " '##ties': 11199,\n",
       " '馍': 7670,\n",
       " '穌': 4947,\n",
       " '►': 467,\n",
       " 'まて': 9642,\n",
       " 'trackback': 11827,\n",
       " 'anna': 9779,\n",
       " 'echo': 11701,\n",
       " '##oot': 13187,\n",
       " '##≒': 13543,\n",
       " '##⌒': 13555,\n",
       " '儂': 1022,\n",
       " '董': 5869,\n",
       " 'f2': 9675,\n",
       " '##吕': 14463,\n",
       " 'ppp': 9230,\n",
       " '##痘': 17633,\n",
       " '1976': 8911,\n",
       " '##虾': 19064,\n",
       " '##跖': 19709,\n",
       " '樣': 3564,\n",
       " '##鸞': 20937,\n",
       " '炫': 4149,\n",
       " '##∟': 13534,\n",
       " '##缱': 18429,\n",
       " '琬': 4428,\n",
       " '##啷': 14636,\n",
       " '##幼': 15462,\n",
       " 'す': 548,\n",
       " '惇': 2660,\n",
       " '##ア': 9788,\n",
       " 'ならワークケートへ': 12154,\n",
       " 'change': 12319,\n",
       " '##绶': 18394,\n",
       " '翁': 5419,\n",
       " '##倭': 14020,\n",
       " '憲': 2740,\n",
       " '酶': 6998,\n",
       " '##峴': 15350,\n",
       " '舂': 5642,\n",
       " '##环': 17441,\n",
       " '##笆': 18063,\n",
       " '証': 6264,\n",
       " '##蔚': 18974,\n",
       " 'json': 12249,\n",
       " '飘': 7603,\n",
       " '旁': 3178,\n",
       " '##佝': 13926,\n",
       " '##鲛': 20887,\n",
       " '##愫': 15758,\n",
       " '##商': 14612,\n",
       " '##vel': 10588,\n",
       " '驶': 7724,\n",
       " '瞪': 4745,\n",
       " '縫': 5239,\n",
       " '##蔔': 18971,\n",
       " '448': 13078,\n",
       " '##lts': 12977,\n",
       " '兒': 1051,\n",
       " 'eva': 10154,\n",
       " 'エ': 595,\n",
       " '貪': 6517,\n",
       " 'lab': 11441,\n",
       " '##云': 13813,\n",
       " '##bo': 8820,\n",
       " '##噶': 14753,\n",
       " '##糅': 18184,\n",
       " '阜': 7338,\n",
       " 'arpg': 12701,\n",
       " '蟒': 6097,\n",
       " 'cook': 12703,\n",
       " 'field': 12594,\n",
       " '##笔': 18068,\n",
       " '琇': 4416,\n",
       " '##橘': 16637,\n",
       " '綏': 5193,\n",
       " '鎮': 7120,\n",
       " '##π': 13393,\n",
       " '搶': 3024,\n",
       " '閾': 7292,\n",
       " '##慑': 15766,\n",
       " '##祂': 17912,\n",
       " '##趴': 19697,\n",
       " '妹': 1987,\n",
       " '##😂': 21126,\n",
       " '×': 190,\n",
       " '##萤': 18908,\n",
       " '##悚': 15696,\n",
       " '##rma': 13156,\n",
       " 'docomo': 11358,\n",
       " '築': 5064,\n",
       " '##ม': 13445,\n",
       " '##易': 16268,\n",
       " '錢': 7092,\n",
       " '##搵': 16080,\n",
       " '##遂': 19933,\n",
       " '猪': 4343,\n",
       " 'take': 10985,\n",
       " '聘': 5470,\n",
       " '##ough': 11600,\n",
       " '377': 13222,\n",
       " '##骗': 20802,\n",
       " '##硅': 17852,\n",
       " '##呓': 14501,\n",
       " '##蝠': 19132,\n",
       " '承': 2824,\n",
       " '沥': 3769,\n",
       " '##em': 9736,\n",
       " '绢': 5322,\n",
       " '##蠍': 19162,\n",
       " '##詫': 19334,\n",
       " '圄': 1748,\n",
       " 'order': 11156,\n",
       " 'もちろん': 12868,\n",
       " 'ㄎ': 654,\n",
       " '##查': 16446,\n",
       " '葷': 5879,\n",
       " '303': 11068,\n",
       " 'pre': 11685,\n",
       " 'magazine': 10469,\n",
       " '##other': 11759,\n",
       " '仇': 790,\n",
       " '##yo': 10222,\n",
       " '##胍': 18578,\n",
       " '##举': 13772,\n",
       " 'kitchen': 11808,\n",
       " '鳅': 7844,\n",
       " '##囲': 14796,\n",
       " '〔': 526,\n",
       " '##輕': 19795,\n",
       " '##鲍': 20885,\n",
       " '赎': 6604,\n",
       " '熾': 4232,\n",
       " '##イト': 10516,\n",
       " '##west': 11887,\n",
       " '##埤': 14877,\n",
       " '讶': 6385,\n",
       " '##捆': 15985,\n",
       " 'rmb': 10887,\n",
       " '##熨': 17284,\n",
       " 'mb': 9499,\n",
       " '##虻': 19062,\n",
       " '##賀': 19588,\n",
       " '##醃': 20059,\n",
       " '##競': 18057,\n",
       " '絲': 5187,\n",
       " '挫': 2919,\n",
       " '##ton': 8626,\n",
       " '[UNK]': 100,\n",
       " '杠': 3339,\n",
       " '鱿': 7825,\n",
       " '00㎡': 9506,\n",
       " '##lmer': 12763,\n",
       " '32g': 13181,\n",
       " '##抹': 15908,\n",
       " '##熾': 17289,\n",
       " '##腓': 18635,\n",
       " '##韬': 20564,\n",
       " '乎': 725,\n",
       " '忠': 2566,\n",
       " '##县': 14401,\n",
       " '嬴': 2088,\n",
       " '啟': 1564,\n",
       " '邕': 6925,\n",
       " '厂': 1322,\n",
       " '8591': 12376,\n",
       " '##翹': 18492,\n",
       " '果': 3362,\n",
       " '薇': 5948,\n",
       " '##☆': 8994,\n",
       " '##sha': 12772,\n",
       " 'justin': 11889,\n",
       " '纳': 5287,\n",
       " '##諷': 19384,\n",
       " 'ide': 11319,\n",
       " '##荚': 18835,\n",
       " '姥': 2005,\n",
       " '鏞': 7126,\n",
       " '601': 12104,\n",
       " 'von': 12310,\n",
       " 'sars': 12390,\n",
       " '猎': 4333,\n",
       " '##府': 15481,\n",
       " 'cut': 12322,\n",
       " '##睽': 17784,\n",
       " '##矜': 17815,\n",
       " '女': 1957,\n",
       " '##策': 18089,\n",
       " '##鲷': 20897,\n",
       " '##ㄥ': 13721,\n",
       " '##鄂': 20021,\n",
       " '##忐': 15615,\n",
       " '俗': 921,\n",
       " '##賓': 19597,\n",
       " '##ation': 8794,\n",
       " 'ii': 8491,\n",
       " '##帥': 15428,\n",
       " 'photo': 9020,\n",
       " 'curve': 9357,\n",
       " '##匾': 14336,\n",
       " '##皈': 17698,\n",
       " '##糊': 18185,\n",
       " '大': 1920,\n",
       " '糗': 5132,\n",
       " '##菜': 18888,\n",
       " '##參': 14404,\n",
       " '説': 6304,\n",
       " '##las': 10113,\n",
       " '家': 2157,\n",
       " '瞭': 4747,\n",
       " '368': 11642,\n",
       " 'kymco': 11013,\n",
       " '##枱': 16428,\n",
       " '##矿': 17828,\n",
       " '柩': 3390,\n",
       " 'ak': 12825,\n",
       " '##谀': 19499,\n",
       " '匕': 1264,\n",
       " '##リア': 11989,\n",
       " '紂': 5146,\n",
       " '1922': 10209,\n",
       " 'いお': 11481,\n",
       " '##窘': 18028,\n",
       " '觐': 6233,\n",
       " '##撈': 16108,\n",
       " '##8': 8156,\n",
       " '##監': 17732,\n",
       " '##渐': 16990,\n",
       " '##脾': 18626,\n",
       " '##枢': 16421,\n",
       " '##熒': 17279,\n",
       " '嚮': 1712,\n",
       " '##诸': 19493,\n",
       " '##挽': 15981,\n",
       " 'face': 10656,\n",
       " '辗': 6786,\n",
       " '长': 7270,\n",
       " 'group': 9051,\n",
       " '##惇': 15717,\n",
       " '袱': 6160,\n",
       " '黄': 7942,\n",
       " '扭': 2814,\n",
       " 'close': 11239,\n",
       " '叹': 1386,\n",
       " 'ufo': 10012,\n",
       " '幕': 2391,\n",
       " '##儋': 14083,\n",
       " '囝': 1725,\n",
       " '漠': 4030,\n",
       " '##唄': 14590,\n",
       " '##訣': 19311,\n",
       " '良': 5679,\n",
       " 'α': 210,\n",
       " '##lee': 12448,\n",
       " '##洶': 16887,\n",
       " '嗲': 1640,\n",
       " '塑': 1848,\n",
       " '頻': 7536,\n",
       " 'sogo': 10275,\n",
       " 'cheese': 11387,\n",
       " 'boot': 13119,\n",
       " '讷': 6386,\n",
       " '##寬': 15241,\n",
       " '##擡': 16147,\n",
       " '##腿': 18654,\n",
       " '##煞': 17265,\n",
       " '##驯': 20776,\n",
       " '庸': 2435,\n",
       " 'しく': 9859,\n",
       " '##歌': 16682,\n",
       " '##至': 18692,\n",
       " '箴': 5057,\n",
       " 'ての': 9697,\n",
       " '鹞': 7910,\n",
       " 'wikipedia': 11850,\n",
       " '裘': 6169,\n",
       " '爭': 4261,\n",
       " '濠': 4090,\n",
       " '##肥': 18560,\n",
       " '邯': 6935,\n",
       " '##邱': 19994,\n",
       " '膑': 5602,\n",
       " '##遣': 19954,\n",
       " '诏': 6405,\n",
       " 'め': 570,\n",
       " '709': 12118,\n",
       " 'ncc': 8305,\n",
       " '##鮪': 20859,\n",
       " '稲': 4936,\n",
       " '邪': 6932,\n",
       " '潮': 4060,\n",
       " '筠': 5035,\n",
       " '景': 3250,\n",
       " '##芽': 18772,\n",
       " '422': 12721,\n",
       " '##乎': 13782,\n",
       " '##始': 15050,\n",
       " '鏘': 7125,\n",
       " '檐': 3592,\n",
       " '惰': 2680,\n",
       " '##労': 14285,\n",
       " '##耄': 18498,\n",
       " '犹': 4310,\n",
       " 'goods': 9028,\n",
       " '##ᵐ': 13493,\n",
       " '##仮': 13870,\n",
       " '##ハ': 12838,\n",
       " '##事': 13809,\n",
       " '##淚': 16964,\n",
       " '##禍': 17941,\n",
       " '##箐': 18104,\n",
       " 'ᵘ': 336,\n",
       " '础': 4794,\n",
       " '澈': 4069,\n",
       " 'hit': 10295,\n",
       " '##彤': 15559,\n",
       " '##極': 16570,\n",
       " '##恼': 15687,\n",
       " '##痨': 17642,\n",
       " '##挛': 15965,\n",
       " 'z': 168,\n",
       " '1982': 8687,\n",
       " '##创': 14215,\n",
       " '##伺': 13905,\n",
       " '##暹': 16333,\n",
       " '呲': 1455,\n",
       " '[unused39]': 39,\n",
       " '徐': 2528,\n",
       " '槌': 3540,\n",
       " '没': 3766,\n",
       " '词': 6404,\n",
       " 'overchicstoretvhome': 12450,\n",
       " '##檄': 16647,\n",
       " 'nick': 11243,\n",
       " '##旱': 16254,\n",
       " '##湄': 17013,\n",
       " '##瘩': 17666,\n",
       " '##雀': 20468,\n",
       " '谨': 6474,\n",
       " 'economy': 11250,\n",
       " '炸': 4156,\n",
       " '##ial': 9501,\n",
       " '##惭': 15734,\n",
       " '##as': 8576,\n",
       " '##￣': 21122,\n",
       " '仞': 805,\n",
       " '診': 6262,\n",
       " 'φ': 229,\n",
       " '野': 7029,\n",
       " '##箩': 18110,\n",
       " '##暢': 16325,\n",
       " '##诛': 19469,\n",
       " '瑯': 4455,\n",
       " 'the': 8174,\n",
       " '##坷': 14851,\n",
       " '##╚': 13588,\n",
       " '颐': 7573,\n",
       " '畴': 4533,\n",
       " '団': 1731,\n",
       " '64gb': 11432,\n",
       " '啄': 1554,\n",
       " '##嚟': 14765,\n",
       " 'ｯ': 8086,\n",
       " '##攻': 16179,\n",
       " '##択': 15896,\n",
       " '關': 7302,\n",
       " '##翻': 18493,\n",
       " 'omega': 11938,\n",
       " '蹋': 6691,\n",
       " '箱': 5056,\n",
       " '##褪': 19249,\n",
       " '##its': 11275,\n",
       " '##sol': 12257,\n",
       " '综': 5341,\n",
       " '😎': 8105,\n",
       " '##捶': 16005,\n",
       " '##辻': 19863,\n",
       " '##逼': 19930,\n",
       " '##訂': 19299,\n",
       " '##鋒': 20138,\n",
       " '价': 817,\n",
       " '罡': 5386,\n",
       " '舌': 5649,\n",
       " '案': 3428,\n",
       " '聚': 5471,\n",
       " '##↔': 13524,\n",
       " '417': 13038,\n",
       " '麾': 7940,\n",
       " '##\\u2028': 13502,\n",
       " '##钗': 20215,\n",
       " '哧': 1522,\n",
       " '贅': 6556,\n",
       " '##ⓔ': 13576,\n",
       " '##wood': 9730,\n",
       " '##▋': 13602,\n",
       " '##ント': 10002,\n",
       " '##┊': 13581,\n",
       " '##娇': 15076,\n",
       " '##化': 14322,\n",
       " '##閉': 20330,\n",
       " 'kate': 11058,\n",
       " '觊': 6231,\n",
       " '紺': 5172,\n",
       " '##嘩': 14723,\n",
       " '☕': 482,\n",
       " '块': 1779,\n",
       " '##life': 10359,\n",
       " '篠': 5069,\n",
       " '##擲': 16153,\n",
       " '##浒': 16905,\n",
       " '疲': 4558,\n",
       " '##劵': 14286,\n",
       " '##湾': 17025,\n",
       " 'le': 8983,\n",
       " '彦': 2504,\n",
       " 'about': 9053,\n",
       " '##呵': 14514,\n",
       " '##赡': 19673,\n",
       " '##祚': 17921,\n",
       " '##蒡': 18946,\n",
       " '猗': 4336,\n",
       " 'blog': 8309,\n",
       " '2012': 8151,\n",
       " '##鹜': 20966,\n",
       " '##悅': 15690,\n",
       " '##旺': 16257,\n",
       " '##張': 15541,\n",
       " '娆': 2018,\n",
       " '啫': 1571,\n",
       " '##濱': 17154,\n",
       " 'urban': 13101,\n",
       " 'iis': 11670,\n",
       " '##蝎': 19127,\n",
       " '1944': 9462,\n",
       " '##苜': 18787,\n",
       " 'aaa': 10876,\n",
       " '129': 8990,\n",
       " '##page': 11817,\n",
       " '葆': 5863,\n",
       " '##叱': 14436,\n",
       " 'sense': 12647,\n",
       " '##愜': 15753,\n",
       " '忧': 2569,\n",
       " '227': 10543,\n",
       " '吗': 1408,\n",
       " '##囑': 14777,\n",
       " '钓': 7157,\n",
       " 'qa': 10818,\n",
       " '##蚵': 19080,\n",
       " '337': 12129,\n",
       " '秆': 4902,\n",
       " '此': 3634,\n",
       " '铁': 7188,\n",
       " '##pd': 11693,\n",
       " '螯': 6088,\n",
       " 'gap': 10130,\n",
       " '##武': 16693,\n",
       " '绰': 5333,\n",
       " 'yang': 12086,\n",
       " '脘': 5557,\n",
       " '##掺': 16039,\n",
       " 'います': 9466,\n",
       " '##ch': 8370,\n",
       " 'capital': 10715,\n",
       " '5kg': 13183,\n",
       " 'fbi': 9711,\n",
       " '変': 1907,\n",
       " '245': 10325,\n",
       " '##梧': 16515,\n",
       " '##簇': 18134,\n",
       " '##‿': 13509,\n",
       " '缎': 5352,\n",
       " '昵': 3224,\n",
       " '##up': 8838,\n",
       " 'special': 9969,\n",
       " '##fi': 9864,\n",
       " '##烊': 17222,\n",
       " '##掙': 16021,\n",
       " '##uo': 9731,\n",
       " '阶': 7348,\n",
       " '貫': 6518,\n",
       " '##桅': 16483,\n",
       " '｛': 8077,\n",
       " '##逛': 19916,\n",
       " '耷': 5457,\n",
       " '2100': 10247,\n",
       " '##ター': 10848,\n",
       " '##咀': 14520,\n",
       " '署': 5392,\n",
       " '204': 10080,\n",
       " '##密': 15223,\n",
       " '楝': 3505,\n",
       " '##tions': 9652,\n",
       " '##廊': 15500,\n",
       " '##ella': 10311,\n",
       " '佼': 885,\n",
       " '顶': 7553,\n",
       " '河': 3777,\n",
       " '蚌': 6012,\n",
       " '鑫': 7144,\n",
       " '##寅': 15222,\n",
       " 'energy': 11939,\n",
       " '某': 3378,\n",
       " '囱': 1738,\n",
       " '瓷': 4487,\n",
       " 'oh': 9941,\n",
       " '##master': 12959,\n",
       " '愆': 2688,\n",
       " '##✰': 13639,\n",
       " '1978': 8774,\n",
       " '##ゆ': 13676,\n",
       " '樂': 3556,\n",
       " '荐': 5773,\n",
       " '蠹': 6115,\n",
       " '瘟': 4602,\n",
       " '芫': 5704,\n",
       " 'beach': 9983,\n",
       " '♪': 493,\n",
       " 'comhd': 12587,\n",
       " '##帖': 15422,\n",
       " '##悩': 15702,\n",
       " 'company': 10007,\n",
       " '##拆': 15915,\n",
       " '##り': 8506,\n",
       " '##sp': 10367,\n",
       " '丼': 713,\n",
       " '##uid': 12520,\n",
       " '1840': 12571,\n",
       " 'king': 9382,\n",
       " '##恕': 15666,\n",
       " '##日': 16246,\n",
       " '##湖': 17016,\n",
       " '##扶': 15877,\n",
       " '積': 4948,\n",
       " '##煌': 17259,\n",
       " '##遏': 19940,\n",
       " '爲': 4264,\n",
       " '##閱': 20345,\n",
       " '##兜': 14112,\n",
       " '##價': 14076,\n",
       " '##珐': 17456,\n",
       " '##駝': 20749,\n",
       " '浄': 3839,\n",
       " '##肤': 18559,\n",
       " '敛': 3137,\n",
       " '##舫': 18719,\n",
       " '驸': 7726,\n",
       " '##蒻': 18951,\n",
       " '##劫': 14280,\n",
       " '##燕': 17299,\n",
       " '蓉': 5900,\n",
       " 'vdc': 10888,\n",
       " '褫': 6193,\n",
       " '##汇': 16783,\n",
       " '确': 4802,\n",
       " '##镌': 20311,\n",
       " '##倍': 14002,\n",
       " '2011': 8163,\n",
       " '．': 8026,\n",
       " '##ka': 8693,\n",
       " '翔': 5425,\n",
       " '##匈': 14318,\n",
       " '##胀': 18572,\n",
       " '##鎂': 20167,\n",
       " '囧': 1733,\n",
       " '##bin': 10448,\n",
       " 'daniel': 9701,\n",
       " '##翼': 18494,\n",
       " '##和': 14526,\n",
       " 'offer': 10038,\n",
       " ...}"
      ]
     },
     "execution_count": 12,
     "metadata": {},
     "output_type": "execute_result"
    }
   ],
   "source": [
    "# tokenize can encode text to input_ids and decode input_ids to text\n",
    "tokenizer.get_vocab()"
   ]
  },
  {
   "cell_type": "code",
   "execution_count": 13,
   "metadata": {
    "id": "Ihf76CbaSI2G",
    "outputId": "aee0d6fc-0bfa-4d37-f3eb-c5d7c6dc7715"
   },
   "outputs": [
    {
     "data": {
      "text/plain": [
       "{'input_ids': [101, 2769, 1599, 3631, 102], 'token_type_ids': [0, 0, 0, 0, 0], 'attention_mask': [1, 1, 1, 1, 1]}"
      ]
     },
     "execution_count": 13,
     "metadata": {},
     "output_type": "execute_result"
    }
   ],
   "source": [
    "text=\"我喜歡\"\n",
    "# prepare our text into tokenized sequence\n",
    "inputs = tokenizer(text)\n",
    "inputs"
   ]
  },
  {
   "cell_type": "code",
   "execution_count": 14,
   "metadata": {
    "id": "mbpVTsiaSI2G",
    "outputId": "d7e5aa0a-7718-46be-fe7a-b21695d6d7dc"
   },
   "outputs": [
    {
     "data": {
      "text/plain": [
       "'[CLS] 我 喜 歡 [SEP]'"
      ]
     },
     "execution_count": 14,
     "metadata": {},
     "output_type": "execute_result"
    }
   ],
   "source": [
    "tokenizer.decode(inputs['input_ids'])"
   ]
  },
  {
   "cell_type": "code",
   "execution_count": null,
   "metadata": {
    "id": "LMrt5STiSI2G"
   },
   "outputs": [],
   "source": []
  },
  {
   "cell_type": "markdown",
   "metadata": {
    "id": "VNUPCp1hSI2G"
   },
   "source": [
    "# Predict or generate result using pipeline\n",
    "\n",
    "    可能的輸出結果如下:\n",
    "\n",
    "    [{'label': 'LABEL_1', 'score': 0.9885562062263489}]\n",
    "    [{'label': 'LABEL_0', 'score': 0.9052111506462097}]\n",
    "\n",
    "    因此需要用到if去判端label的值，才能決定score是正面還是負面。\n",
    "    若為:LABEL_1 就是正面的score\n",
    "    若為:LABEL_0 就是負面的score"
   ]
  },
  {
   "cell_type": "code",
   "execution_count": 15,
   "metadata": {
    "id": "OkMbVpM7SI2G"
   },
   "outputs": [],
   "source": [
    "sentiment_classify = pipeline('sentiment-analysis', model=model, tokenizer=tokenizer)"
   ]
  },
  {
   "cell_type": "code",
   "execution_count": 16,
   "metadata": {
    "id": "BJXoKOUpSI2H",
    "outputId": "07b2b88d-7278-45f5-c0e9-0180bc6c3665"
   },
   "outputs": [
    {
     "data": {
      "text/plain": [
       "[{'label': 'positive (stars 4 and 5)', 'score': 0.7087053060531616}]"
      ]
     },
     "execution_count": 16,
     "metadata": {},
     "output_type": "execute_result"
    }
   ],
   "source": [
    "new_text = '速度很快，昨天下單，今天上午就到啦，看著挺不錯。'\n",
    "sentiment_classify(new_text)"
   ]
  },
  {
   "cell_type": "code",
   "execution_count": 17,
   "metadata": {
    "id": "uxB-ljN6SI2H",
    "outputId": "0939a5a5-9e52-47c4-914c-2d0a5a58fde4"
   },
   "outputs": [
    {
     "data": {
      "text/plain": [
       "[{'label': 'positive (stars 4 and 5)', 'score': 0.6945704817771912}]"
      ]
     },
     "execution_count": 17,
     "metadata": {},
     "output_type": "execute_result"
    }
   ],
   "source": [
    "new_text = '速度很快，昨天下單，今天上午就到啦，看著挺不錯。'\n",
    "new_text = t2s.convert(new_text)\n",
    "sentiment_classify(new_text)"
   ]
  },
  {
   "cell_type": "code",
   "execution_count": 18,
   "metadata": {
    "id": "CqBD6cxBSI2H",
    "outputId": "df10d4c4-fe06-472f-9a00-bb1c825f7033"
   },
   "outputs": [
    {
     "data": {
      "text/plain": [
       "0.6945704817771912"
      ]
     },
     "execution_count": 18,
     "metadata": {},
     "output_type": "execute_result"
    }
   ],
   "source": [
    "outputs = sentiment_classify(new_text)\n",
    "outputs[0]['score']"
   ]
  },
  {
   "cell_type": "code",
   "execution_count": 19,
   "metadata": {
    "id": "zA7h4gNISI2H",
    "outputId": "e27885cd-3b53-4369-833f-8a409737ff85"
   },
   "outputs": [
    {
     "data": {
      "text/plain": [
       "float"
      ]
     },
     "execution_count": 19,
     "metadata": {},
     "output_type": "execute_result"
    }
   ],
   "source": [
    "type(outputs[0]['score'])"
   ]
  },
  {
   "cell_type": "code",
   "execution_count": 20,
   "metadata": {
    "id": "BpGFm-qnSI2H",
    "outputId": "62c09eb4-a261-41d5-9d72-a9f3c122b607"
   },
   "outputs": [
    {
     "data": {
      "text/plain": [
       "0.69"
      ]
     },
     "execution_count": 20,
     "metadata": {},
     "output_type": "execute_result"
    }
   ],
   "source": [
    "round(outputs[0]['score'],2)"
   ]
  },
  {
   "cell_type": "markdown",
   "metadata": {
    "id": "3cpSGYroSI2H"
   },
   "source": [
    "# Define prediction function using pipeline"
   ]
  },
  {
   "cell_type": "code",
   "execution_count": 21,
   "metadata": {
    "id": "23zU7zYhSI2H"
   },
   "outputs": [],
   "source": [
    "def get_sentiment_proba(text):\n",
    "    max_length = 300 # 最多字數 若超出模型訓練時的字數，以模型最大字數為依據\n",
    "    #max_length = 512 # 最多字數 若超出模型訓練時的字數，以模型最大字數為依據\n",
    "    outputs = sentiment_classify(text, padding=True, max_length=max_length, truncation=True)\n",
    "    if outputs[0]['label']=='LABEL_1':\n",
    "        # Get the positive score\n",
    "        prob_positive = round(outputs[0]['score'],2)\n",
    "        prob_negatitive = round(1 - prob_positive, 2)\n",
    "    else:\n",
    "        # Calculate the negative score\n",
    "        prob_negatitive = round(outputs[0]['score'],2)\n",
    "        prob_positive = round(1 - prob_negatitive, 2)\n",
    "\n",
    "    response = {'Negative':prob_negatitive, 'Positive': prob_positive}\n",
    "    return response"
   ]
  },
  {
   "cell_type": "markdown",
   "metadata": {
    "id": "IpHzwLe-SI2I"
   },
   "source": [
    "# Define prediction function using model or model.generate()"
   ]
  },
  {
   "cell_type": "code",
   "execution_count": 22,
   "metadata": {
    "id": "11MCK4kGSI2I"
   },
   "outputs": [],
   "source": [
    "## Pediction\n",
    "target_names=['Negative','Positive']\n",
    "max_length = 200 # 最多字數 若超出模型訓練時的字數，以模型最大字數為依據\n",
    "def get_sentiment_proba_from_model(text):\n",
    "    new_text = t2s.convert(text)\n",
    "    # prepare our text into tokenized sequence\n",
    "    inputs = tokenizer(text, padding=True, truncation=True, max_length=max_length, return_tensors=\"pt\")\n",
    "    # perform inference to our model\n",
    "    outputs = model(**inputs)\n",
    "    # get output probabilities by doing softmax\n",
    "    probs = outputs[0].softmax(1)\n",
    "\n",
    "    response = {'Negative': round(float(probs[0, 0]), 2), 'Positive': round(float(probs[0, 1]), 2)}\n",
    "    # executing argmax function to get the candidate label\n",
    "    #return probs.argmax()\n",
    "    return response"
   ]
  },
  {
   "cell_type": "code",
   "execution_count": null,
   "metadata": {
    "id": "0uc8N9xfSI2I"
   },
   "outputs": [],
   "source": []
  },
  {
   "cell_type": "code",
   "execution_count": 23,
   "metadata": {
    "colab": {
     "base_uri": "https://localhost:8080/"
    },
    "executionInfo": {
     "elapsed": 1167,
     "status": "ok",
     "timestamp": 1652359237634,
     "user": {
      "displayName": "黃承龍",
      "userId": "06333157108951882083"
     },
     "user_tz": -480
    },
    "id": "gsPJYfsjJVjc",
    "outputId": "3b01c341-3d1b-4402-f42e-5a21a4674adc"
   },
   "outputs": [
    {
     "data": {
      "text/plain": [
       "{'Negative': 0.71, 'Positive': 0.29}"
      ]
     },
     "execution_count": 23,
     "metadata": {},
     "output_type": "execute_result"
    }
   ],
   "source": [
    "new_text = '速度很快，昨天下單，今天上午就到啦，看著挺不錯。'\n",
    "get_sentiment_proba( new_text )"
   ]
  },
  {
   "cell_type": "code",
   "execution_count": 24,
   "metadata": {
    "colab": {
     "base_uri": "https://localhost:8080/"
    },
    "executionInfo": {
     "elapsed": 1160,
     "status": "ok",
     "timestamp": 1652359241651,
     "user": {
      "displayName": "黃承龍",
      "userId": "06333157108951882083"
     },
     "user_tz": -480
    },
    "id": "P1AXTT_2JVjc",
    "outputId": "4ab57cb9-36c6-4b5f-fc9a-79dad18dba8a"
   },
   "outputs": [
    {
     "data": {
      "text/plain": [
       "{'Negative': 0.94, 'Positive': 0.06}"
      ]
     },
     "execution_count": 24,
     "metadata": {},
     "output_type": "execute_result"
    }
   ],
   "source": [
    "new_text = '已經買了這種蘋果好多次了，寶寶喜歡上了這款蘋果，一直選擇這款'\n",
    "get_sentiment_proba( new_text )"
   ]
  },
  {
   "cell_type": "code",
   "execution_count": 25,
   "metadata": {
    "colab": {
     "base_uri": "https://localhost:8080/"
    },
    "executionInfo": {
     "elapsed": 1282,
     "status": "ok",
     "timestamp": 1652359249209,
     "user": {
      "displayName": "黃承龍",
      "userId": "06333157108951882083"
     },
     "user_tz": -480
    },
    "id": "sSToIW_aJVjc",
    "outputId": "9e520353-ec12-44bb-9a32-788676ed31ed"
   },
   "outputs": [
    {
     "data": {
      "text/plain": [
       "{'Negative': 1.0, 'Positive': 0.0}"
      ]
     },
     "execution_count": 25,
     "metadata": {},
     "output_type": "execute_result"
    }
   ],
   "source": [
    "new_text = '不喜歡這款產品'\n",
    "get_sentiment_proba( new_text )"
   ]
  },
  {
   "cell_type": "code",
   "execution_count": 26,
   "metadata": {
    "id": "pnK_k1PHSI2I",
    "outputId": "317ace8e-c2d1-4a41-d355-dea813c7a0ea"
   },
   "outputs": [
    {
     "data": {
      "text/plain": [
       "{'Negative': 1.0, 'Positive': 0.0}"
      ]
     },
     "execution_count": 26,
     "metadata": {},
     "output_type": "execute_result"
    }
   ],
   "source": [
    "new_text = '不喜歡這款產品'\n",
    "get_sentiment_proba_from_model( new_text )"
   ]
  },
  {
   "cell_type": "code",
   "execution_count": null,
   "metadata": {
    "id": "mJApU7NISI2J"
   },
   "outputs": [],
   "source": []
  },
  {
   "cell_type": "markdown",
   "metadata": {
    "id": "DVp4bDZgSI2J"
   },
   "source": [
    "# Step by step demonstration on model prediction and model.generate()"
   ]
  },
  {
   "cell_type": "code",
   "execution_count": 27,
   "metadata": {
    "id": "ZRN3XiMHJVjc"
   },
   "outputs": [],
   "source": [
    "text=\"我喜歡\"\n",
    "# prepare our text into tokenized sequence\n",
    "inputs = tokenizer(text, padding=True, truncation=True, max_length=max_length, return_tensors=\"pt\")\n"
   ]
  },
  {
   "cell_type": "code",
   "execution_count": 28,
   "metadata": {
    "id": "e-TnmW8_SI2J",
    "outputId": "bf673e3a-9b5f-49b2-e2cc-3ab6d8db7608"
   },
   "outputs": [
    {
     "data": {
      "text/plain": [
       "{'input_ids': tensor([[ 101, 2769, 1599, 3631,  102]]), 'token_type_ids': tensor([[0, 0, 0, 0, 0]]), 'attention_mask': tensor([[1, 1, 1, 1, 1]])}"
      ]
     },
     "execution_count": 28,
     "metadata": {},
     "output_type": "execute_result"
    }
   ],
   "source": [
    "inputs"
   ]
  },
  {
   "cell_type": "code",
   "execution_count": 29,
   "metadata": {
    "id": "lJ9g0w7GSI2J",
    "outputId": "3f7805c4-21e3-412e-c7c1-da805dc73ffe"
   },
   "outputs": [
    {
     "data": {
      "text/plain": [
       "tensor([[ 101, 2769, 1599, 3631,  102]])"
      ]
     },
     "execution_count": 29,
     "metadata": {},
     "output_type": "execute_result"
    }
   ],
   "source": [
    "inputs.input_ids"
   ]
  },
  {
   "cell_type": "code",
   "execution_count": 30,
   "metadata": {
    "id": "9lwcrq8XSI2J",
    "outputId": "c827d6dc-a213-424b-b89b-9e704424b5c1"
   },
   "outputs": [
    {
     "data": {
      "text/plain": [
       "'[CLS] 我 喜 歡 [SEP]'"
      ]
     },
     "execution_count": 30,
     "metadata": {},
     "output_type": "execute_result"
    }
   ],
   "source": [
    "tokenizer.decode(inputs.input_ids[0])"
   ]
  },
  {
   "cell_type": "code",
   "execution_count": 31,
   "metadata": {
    "id": "QiERktYtSI2K"
   },
   "outputs": [],
   "source": [
    "\n",
    "# perform inference to our model\n",
    "outputs = model(**inputs)\n"
   ]
  },
  {
   "cell_type": "code",
   "execution_count": 32,
   "metadata": {
    "id": "zBx8voeMSI2K",
    "outputId": "e980d328-3f24-4499-8d76-ffc937cc478c"
   },
   "outputs": [
    {
     "data": {
      "text/plain": [
       "SequenceClassifierOutput(loss=None, logits=tensor([[-1.0823,  1.0425]], grad_fn=<AddmmBackward0>), hidden_states=None, attentions=None)"
      ]
     },
     "execution_count": 32,
     "metadata": {},
     "output_type": "execute_result"
    }
   ],
   "source": [
    "outputs"
   ]
  },
  {
   "cell_type": "code",
   "execution_count": 33,
   "metadata": {
    "id": "h9hIplkMSI2K",
    "outputId": "9ad0e8a8-e199-44b2-c45d-496d7a58abfe"
   },
   "outputs": [
    {
     "data": {
      "text/plain": [
       "tensor([[-1.0823,  1.0425]], grad_fn=<AddmmBackward0>)"
      ]
     },
     "execution_count": 33,
     "metadata": {},
     "output_type": "execute_result"
    }
   ],
   "source": [
    "outputs[0]"
   ]
  },
  {
   "cell_type": "code",
   "execution_count": 34,
   "metadata": {
    "id": "exQnT8raSI2K",
    "outputId": "f45ee9b1-8cd1-43d5-a303-8319fa8d0384"
   },
   "outputs": [
    {
     "data": {
      "text/plain": [
       "tensor([[0.1067, 0.8933]], grad_fn=<SoftmaxBackward0>)"
      ]
     },
     "execution_count": 34,
     "metadata": {},
     "output_type": "execute_result"
    }
   ],
   "source": [
    "outputs[0].softmax(1)"
   ]
  },
  {
   "cell_type": "code",
   "execution_count": 35,
   "metadata": {
    "id": "dxX7c79ESI2K",
    "outputId": "1519885b-3a82-40e1-a6c4-27bf503776a5"
   },
   "outputs": [
    {
     "data": {
      "text/plain": [
       "tensor([[0.1067, 0.8933]], grad_fn=<SoftmaxBackward0>)"
      ]
     },
     "execution_count": 35,
     "metadata": {},
     "output_type": "execute_result"
    }
   ],
   "source": [
    "probs = outputs[0].softmax(1)\n",
    "probs"
   ]
  },
  {
   "cell_type": "code",
   "execution_count": 36,
   "metadata": {
    "id": "BaWFuzniSI2K",
    "outputId": "126d9482-2eb6-4576-eb34-6e3a6b78454f"
   },
   "outputs": [
    {
     "data": {
      "text/plain": [
       "tensor(0.1067, grad_fn=<SelectBackward0>)"
      ]
     },
     "execution_count": 36,
     "metadata": {},
     "output_type": "execute_result"
    }
   ],
   "source": [
    "probs[0, 0]"
   ]
  },
  {
   "cell_type": "code",
   "execution_count": 37,
   "metadata": {
    "id": "TouiNN5kSI2K",
    "outputId": "16fe0fc9-856e-4304-ea51-1b3fb81f7b6c"
   },
   "outputs": [
    {
     "data": {
      "text/plain": [
       "0.11"
      ]
     },
     "execution_count": 37,
     "metadata": {},
     "output_type": "execute_result"
    }
   ],
   "source": [
    "round(float(probs[0, 0]), 2)"
   ]
  },
  {
   "cell_type": "code",
   "execution_count": 38,
   "metadata": {
    "id": "TetXa_UTSI2K",
    "outputId": "57dcb536-20b9-4cf2-ceb0-0f619b984926"
   },
   "outputs": [
    {
     "data": {
      "text/plain": [
       "{'Negative': 0.11, 'Positive': 0.89}"
      ]
     },
     "execution_count": 38,
     "metadata": {},
     "output_type": "execute_result"
    }
   ],
   "source": [
    "{'Negative': round(float(probs[0, 0]), 2), 'Positive': round(float(probs[0, 1]), 2)}"
   ]
  },
  {
   "cell_type": "markdown",
   "metadata": {
    "id": "wHXz1W34SI2L"
   },
   "source": [
    "# Calculate news article sentiment score"
   ]
  },
  {
   "cell_type": "code",
   "execution_count": 39,
   "metadata": {
    "id": "1La6iO1lSI2L"
   },
   "outputs": [],
   "source": [
    "import pandas as pd"
   ]
  },
  {
   "cell_type": "code",
   "execution_count": 40,
   "metadata": {
    "id": "BltYHnRISI2L"
   },
   "outputs": [],
   "source": [
    "df = pd.read_csv('cna_news_200_preprocessed.csv', sep='|')"
   ]
  },
  {
   "cell_type": "code",
   "execution_count": 41,
   "metadata": {
    "id": "5ht5IudjSI2L",
    "outputId": "b04d3d48-bf4c-4060-dbdf-2825e2faaa3e"
   },
   "outputs": [
    {
     "data": {
      "text/html": [
       "<div>\n",
       "<style scoped>\n",
       "    .dataframe tbody tr th:only-of-type {\n",
       "        vertical-align: middle;\n",
       "    }\n",
       "\n",
       "    .dataframe tbody tr th {\n",
       "        vertical-align: top;\n",
       "    }\n",
       "\n",
       "    .dataframe thead th {\n",
       "        text-align: right;\n",
       "    }\n",
       "</style>\n",
       "<table border=\"1\" class=\"dataframe\">\n",
       "  <thead>\n",
       "    <tr style=\"text-align: right;\">\n",
       "      <th></th>\n",
       "      <th>item_id</th>\n",
       "      <th>date</th>\n",
       "      <th>category</th>\n",
       "      <th>title</th>\n",
       "      <th>content</th>\n",
       "      <th>sentiment</th>\n",
       "      <th>summary</th>\n",
       "      <th>top_key_freq</th>\n",
       "      <th>tokens</th>\n",
       "      <th>tokens_v2</th>\n",
       "      <th>entities</th>\n",
       "      <th>token_pos</th>\n",
       "      <th>link</th>\n",
       "      <th>photo_link</th>\n",
       "      <th>sentiment2</th>\n",
       "      <th>sentiment3</th>\n",
       "    </tr>\n",
       "  </thead>\n",
       "  <tbody>\n",
       "    <tr>\n",
       "      <th>0</th>\n",
       "      <td>aipl_20220314_1</td>\n",
       "      <td>2022-03-14</td>\n",
       "      <td>政治</td>\n",
       "      <td>外交部援烏物資已募4000箱 吳釗燮感謝捐贈民眾</td>\n",
       "      <td>民眾捐贈烏克蘭的愛心物資持續湧入外交部，截至今天傍晚累計已收到約4000箱，外交部長吳釗燮中...</td>\n",
       "      <td>0.96</td>\n",
       "      <td>['外交部除感謝熱心民眾踴躍捐贈援助烏克蘭人道物資外', '親赴外交部捐贈物資的民眾約173...</td>\n",
       "      <td>[('外交部', 14), ('民眾', 7), ('物資', 7), ('烏克蘭', 5)...</td>\n",
       "      <td>['民眾', '捐贈', '烏克蘭', '的', '愛心', '物資', '持續', '湧入...</td>\n",
       "      <td>['民眾', '烏克蘭', '愛心', '物資', '外交部', '收到', '外交部長',...</td>\n",
       "      <td>[NerToken(word='烏克蘭', ner='GPE', idx=(4, 7)), ...</td>\n",
       "      <td>[('民眾', 'Na'), ('捐贈', 'VD'), ('烏克蘭', 'Nc'), ('...</td>\n",
       "      <td>https://www.cna.com.tw/news/aipl/202203140364....</td>\n",
       "      <td>https://imgcdn.cna.com.tw/www/WebPhotos/200/20...</td>\n",
       "      <td>0.97</td>\n",
       "      <td>0.02</td>\n",
       "    </tr>\n",
       "  </tbody>\n",
       "</table>\n",
       "</div>"
      ],
      "text/plain": [
       "           item_id        date category                     title  \\\n",
       "0  aipl_20220314_1  2022-03-14       政治  外交部援烏物資已募4000箱 吳釗燮感謝捐贈民眾   \n",
       "\n",
       "                                             content  sentiment  \\\n",
       "0  民眾捐贈烏克蘭的愛心物資持續湧入外交部，截至今天傍晚累計已收到約4000箱，外交部長吳釗燮中...       0.96   \n",
       "\n",
       "                                             summary  \\\n",
       "0  ['外交部除感謝熱心民眾踴躍捐贈援助烏克蘭人道物資外', '親赴外交部捐贈物資的民眾約173...   \n",
       "\n",
       "                                        top_key_freq  \\\n",
       "0  [('外交部', 14), ('民眾', 7), ('物資', 7), ('烏克蘭', 5)...   \n",
       "\n",
       "                                              tokens  \\\n",
       "0  ['民眾', '捐贈', '烏克蘭', '的', '愛心', '物資', '持續', '湧入...   \n",
       "\n",
       "                                           tokens_v2  \\\n",
       "0  ['民眾', '烏克蘭', '愛心', '物資', '外交部', '收到', '外交部長',...   \n",
       "\n",
       "                                            entities  \\\n",
       "0  [NerToken(word='烏克蘭', ner='GPE', idx=(4, 7)), ...   \n",
       "\n",
       "                                           token_pos  \\\n",
       "0  [('民眾', 'Na'), ('捐贈', 'VD'), ('烏克蘭', 'Nc'), ('...   \n",
       "\n",
       "                                                link  \\\n",
       "0  https://www.cna.com.tw/news/aipl/202203140364....   \n",
       "\n",
       "                                          photo_link  sentiment2  sentiment3  \n",
       "0  https://imgcdn.cna.com.tw/www/WebPhotos/200/20...        0.97        0.02  "
      ]
     },
     "execution_count": 41,
     "metadata": {},
     "output_type": "execute_result"
    }
   ],
   "source": [
    "df.head(1)"
   ]
  },
  {
   "cell_type": "code",
   "execution_count": 42,
   "metadata": {
    "id": "iI72R8kjSI2L",
    "outputId": "2cd49ac4-9541-4142-eacd-f5e5450d91ce"
   },
   "outputs": [
    {
     "name": "stdout",
     "output_type": "stream",
     "text": [
      "CPU times: total: 4min 8s\n",
      "Wall time: 1min 10s\n"
     ]
    }
   ],
   "source": [
    "%%time\n",
    "sentiment_scores = []\n",
    "for text in df.content:\n",
    "    prob = get_sentiment_proba( text )['Positive']\n",
    "    sentiment_scores.append(prob)"
   ]
  },
  {
   "cell_type": "code",
   "execution_count": 43,
   "metadata": {
    "id": "5rIe3--eSI2L",
    "outputId": "2cb05eb0-942c-4e1e-a0da-aaf67b099521"
   },
   "outputs": [
    {
     "data": {
      "text/plain": [
       "[0.02,\n",
       " 0.41,\n",
       " 0.37,\n",
       " 0.16,\n",
       " 0.04,\n",
       " 0.16,\n",
       " 0.39,\n",
       " 0.11,\n",
       " 0.13,\n",
       " 0.03,\n",
       " 0.41,\n",
       " 0.43,\n",
       " 0.29,\n",
       " 0.34,\n",
       " 0.0,\n",
       " 0.02,\n",
       " 0.49,\n",
       " 0.32,\n",
       " 0.23,\n",
       " 0.1,\n",
       " 0.15,\n",
       " 0.16,\n",
       " 0.06,\n",
       " 0.04,\n",
       " 0.05,\n",
       " 0.06,\n",
       " 0.44,\n",
       " 0.02,\n",
       " 0.14,\n",
       " 0.02,\n",
       " 0.06,\n",
       " 0.03,\n",
       " 0.04,\n",
       " 0.02,\n",
       " 0.03,\n",
       " 0.12,\n",
       " 0.05,\n",
       " 0.38,\n",
       " 0.06,\n",
       " 0.01,\n",
       " 0.02,\n",
       " 0.04,\n",
       " 0.06,\n",
       " 0.24,\n",
       " 0.03,\n",
       " 0.31,\n",
       " 0.18,\n",
       " 0.45,\n",
       " 0.49,\n",
       " 0.17,\n",
       " 0.44,\n",
       " 0.1,\n",
       " 0.12,\n",
       " 0.04,\n",
       " 0.01,\n",
       " 0.09,\n",
       " 0.09,\n",
       " 0.12,\n",
       " 0.06,\n",
       " 0.04,\n",
       " 0.42,\n",
       " 0.37,\n",
       " 0.36,\n",
       " 0.38,\n",
       " 0.33,\n",
       " 0.24,\n",
       " 0.45,\n",
       " 0.37,\n",
       " 0.44,\n",
       " 0.49,\n",
       " 0.16,\n",
       " 0.12,\n",
       " 0.35,\n",
       " 0.05,\n",
       " 0.17,\n",
       " 0.29,\n",
       " 0.28,\n",
       " 0.13,\n",
       " 0.21,\n",
       " 0.14,\n",
       " 0.38,\n",
       " 0.08,\n",
       " 0.35,\n",
       " 0.05,\n",
       " 0.1,\n",
       " 0.01,\n",
       " 0.35,\n",
       " 0.13,\n",
       " 0.02,\n",
       " 0.24,\n",
       " 0.02,\n",
       " 0.48,\n",
       " 0.02,\n",
       " 0.11,\n",
       " 0.12,\n",
       " 0.01,\n",
       " 0.1,\n",
       " 0.31,\n",
       " 0.23,\n",
       " 0.3,\n",
       " 0.06,\n",
       " 0.1,\n",
       " 0.05,\n",
       " 0.01,\n",
       " 0.01,\n",
       " 0.0,\n",
       " 0.03,\n",
       " 0.02,\n",
       " 0.08,\n",
       " 0.02,\n",
       " 0.24,\n",
       " 0.15,\n",
       " 0.03,\n",
       " 0.01,\n",
       " 0.01,\n",
       " 0.47,\n",
       " 0.04,\n",
       " 0.05,\n",
       " 0.35,\n",
       " 0.12,\n",
       " 0.36,\n",
       " 0.47,\n",
       " 0.35,\n",
       " 0.3,\n",
       " 0.0,\n",
       " 0.26,\n",
       " 0.22,\n",
       " 0.32,\n",
       " 0.36,\n",
       " 0.5,\n",
       " 0.3,\n",
       " 0.27,\n",
       " 0.46,\n",
       " 0.0,\n",
       " 0.16,\n",
       " 0.01,\n",
       " 0.34,\n",
       " 0.3,\n",
       " 0.04,\n",
       " 0.37,\n",
       " 0.32,\n",
       " 0.03,\n",
       " 0.14,\n",
       " 0.3,\n",
       " 0.2,\n",
       " 0.44,\n",
       " 0.23,\n",
       " 0.25,\n",
       " 0.15,\n",
       " 0.04,\n",
       " 0.36,\n",
       " 0.07,\n",
       " 0.09,\n",
       " 0.11,\n",
       " 0.02,\n",
       " 0.19,\n",
       " 0.0,\n",
       " 0.46,\n",
       " 0.01,\n",
       " 0.05,\n",
       " 0.02,\n",
       " 0.0,\n",
       " 0.35,\n",
       " 0.0,\n",
       " 0.0,\n",
       " 0.12,\n",
       " 0.01,\n",
       " 0.24,\n",
       " 0.01,\n",
       " 0.13,\n",
       " 0.04,\n",
       " 0.06,\n",
       " 0.4,\n",
       " 0.01,\n",
       " 0.07,\n",
       " 0.07,\n",
       " 0.11,\n",
       " 0.02,\n",
       " 0.02,\n",
       " 0.08,\n",
       " 0.03,\n",
       " 0.2,\n",
       " 0.16,\n",
       " 0.01,\n",
       " 0.21,\n",
       " 0.01,\n",
       " 0.02,\n",
       " 0.02,\n",
       " 0.06,\n",
       " 0.13,\n",
       " 0.08,\n",
       " 0.01,\n",
       " 0.01,\n",
       " 0.13,\n",
       " 0.33,\n",
       " 0.01,\n",
       " 0.08,\n",
       " 0.31,\n",
       " 0.13,\n",
       " 0.02,\n",
       " 0.05,\n",
       " 0.08,\n",
       " 0.01,\n",
       " 0.02,\n",
       " 0.19,\n",
       " 0.36,\n",
       " 0.43,\n",
       " 0.0,\n",
       " 0.02,\n",
       " 0.13,\n",
       " 0.48,\n",
       " 0.33,\n",
       " 0.07]"
      ]
     },
     "execution_count": 43,
     "metadata": {},
     "output_type": "execute_result"
    }
   ],
   "source": [
    "sentiment_scores"
   ]
  },
  {
   "cell_type": "code",
   "execution_count": 44,
   "metadata": {
    "id": "LrRv0CfkSI2L"
   },
   "outputs": [],
   "source": [
    "df['sentiment3']=sentiment_scores"
   ]
  },
  {
   "cell_type": "code",
   "execution_count": 45,
   "metadata": {
    "id": "dRyZ7CLOSI2M",
    "outputId": "8f468b68-d6b2-4bf6-9c5b-d66b9dab9d30"
   },
   "outputs": [
    {
     "data": {
      "text/html": [
       "<div>\n",
       "<style scoped>\n",
       "    .dataframe tbody tr th:only-of-type {\n",
       "        vertical-align: middle;\n",
       "    }\n",
       "\n",
       "    .dataframe tbody tr th {\n",
       "        vertical-align: top;\n",
       "    }\n",
       "\n",
       "    .dataframe thead th {\n",
       "        text-align: right;\n",
       "    }\n",
       "</style>\n",
       "<table border=\"1\" class=\"dataframe\">\n",
       "  <thead>\n",
       "    <tr style=\"text-align: right;\">\n",
       "      <th></th>\n",
       "      <th>content</th>\n",
       "      <th>sentiment</th>\n",
       "      <th>sentiment2</th>\n",
       "      <th>sentiment3</th>\n",
       "    </tr>\n",
       "  </thead>\n",
       "  <tbody>\n",
       "    <tr>\n",
       "      <th>0</th>\n",
       "      <td>民眾捐贈烏克蘭的愛心物資持續湧入外交部，截至今天傍晚累計已收到約4000箱，外交部長吳釗燮中...</td>\n",
       "      <td>0.96</td>\n",
       "      <td>0.97</td>\n",
       "      <td>0.02</td>\n",
       "    </tr>\n",
       "    <tr>\n",
       "      <th>1</th>\n",
       "      <td>空軍一架幻象戰機今天失事，飛行員成功跳傘獲救，外界關注跳傘時機點。空軍表示，此次跳傘高度於幻...</td>\n",
       "      <td>0.23</td>\n",
       "      <td>0.64</td>\n",
       "      <td>0.41</td>\n",
       "    </tr>\n",
       "    <tr>\n",
       "      <th>2</th>\n",
       "      <td>幻象戰機今天失事，所幸飛官成功跳傘，由於法國製造的幻象戰機向來存有零附件取得不易問題，外界關...</td>\n",
       "      <td>0.85</td>\n",
       "      <td>0.72</td>\n",
       "      <td>0.37</td>\n",
       "    </tr>\n",
       "    <tr>\n",
       "      <th>3</th>\n",
       "      <td>針對近日行政院長蘇貞昌與國民黨立委蔣萬安的反質詢爭議，立法院長游錫堃今天透過幕僚告訴中央社記...</td>\n",
       "      <td>0.85</td>\n",
       "      <td>0.90</td>\n",
       "      <td>0.16</td>\n",
       "    </tr>\n",
       "    <tr>\n",
       "      <th>4</th>\n",
       "      <td>德國在台協會處長許佑格今天拜會高雄市長陳其邁，雙方就高雄市整體發展、智慧城市及住宅政策等議題...</td>\n",
       "      <td>0.99</td>\n",
       "      <td>0.99</td>\n",
       "      <td>0.04</td>\n",
       "    </tr>\n",
       "  </tbody>\n",
       "</table>\n",
       "</div>"
      ],
      "text/plain": [
       "                                             content  sentiment  sentiment2  \\\n",
       "0  民眾捐贈烏克蘭的愛心物資持續湧入外交部，截至今天傍晚累計已收到約4000箱，外交部長吳釗燮中...       0.96        0.97   \n",
       "1  空軍一架幻象戰機今天失事，飛行員成功跳傘獲救，外界關注跳傘時機點。空軍表示，此次跳傘高度於幻...       0.23        0.64   \n",
       "2  幻象戰機今天失事，所幸飛官成功跳傘，由於法國製造的幻象戰機向來存有零附件取得不易問題，外界關...       0.85        0.72   \n",
       "3  針對近日行政院長蘇貞昌與國民黨立委蔣萬安的反質詢爭議，立法院長游錫堃今天透過幕僚告訴中央社記...       0.85        0.90   \n",
       "4  德國在台協會處長許佑格今天拜會高雄市長陳其邁，雙方就高雄市整體發展、智慧城市及住宅政策等議題...       0.99        0.99   \n",
       "\n",
       "   sentiment3  \n",
       "0        0.02  \n",
       "1        0.41  \n",
       "2        0.37  \n",
       "3        0.16  \n",
       "4        0.04  "
      ]
     },
     "execution_count": 45,
     "metadata": {},
     "output_type": "execute_result"
    }
   ],
   "source": [
    "df[['content','sentiment','sentiment2','sentiment3']].head()"
   ]
  },
  {
   "cell_type": "code",
   "execution_count": 46,
   "metadata": {
    "id": "WuDR9vRhSI2M"
   },
   "outputs": [],
   "source": [
    "df.to_csv('cna_news_200_preprocessed.csv', sep='|',index=None)"
   ]
  },
  {
   "cell_type": "markdown",
   "metadata": {
    "id": "NFeuXoTaSI2M"
   },
   "source": [
    "# Put them all together for Django"
   ]
  },
  {
   "cell_type": "code",
   "execution_count": 47,
   "metadata": {
    "id": "QvLgDI_gSI2M"
   },
   "outputs": [
    {
     "ename": "OSError",
     "evalue": "app_sentiment_bert/best-model is not a local folder and is not a valid model identifier listed on 'https://huggingface.co/models'\nIf this is a private repository, make sure to pass a token having permission to this repo either by logging in with `huggingface-cli login` or by passing `token=<your_token>`",
     "output_type": "error",
     "traceback": [
      "\u001b[1;31m---------------------------------------------------------------------------\u001b[0m",
      "\u001b[1;31mHTTPError\u001b[0m                                 Traceback (most recent call last)",
      "File \u001b[1;32mc:\\Users\\jackl\\anaconda3\\lib\\site-packages\\huggingface_hub\\utils\\_errors.py:304\u001b[0m, in \u001b[0;36mhf_raise_for_status\u001b[1;34m(response, endpoint_name)\u001b[0m\n\u001b[0;32m    303\u001b[0m \u001b[38;5;28;01mtry\u001b[39;00m:\n\u001b[1;32m--> 304\u001b[0m     \u001b[43mresponse\u001b[49m\u001b[38;5;241;43m.\u001b[39;49m\u001b[43mraise_for_status\u001b[49m\u001b[43m(\u001b[49m\u001b[43m)\u001b[49m\n\u001b[0;32m    305\u001b[0m \u001b[38;5;28;01mexcept\u001b[39;00m HTTPError \u001b[38;5;28;01mas\u001b[39;00m e:\n",
      "File \u001b[1;32mc:\\Users\\jackl\\anaconda3\\lib\\site-packages\\requests\\models.py:1021\u001b[0m, in \u001b[0;36mResponse.raise_for_status\u001b[1;34m(self)\u001b[0m\n\u001b[0;32m   1020\u001b[0m \u001b[38;5;28;01mif\u001b[39;00m http_error_msg:\n\u001b[1;32m-> 1021\u001b[0m     \u001b[38;5;28;01mraise\u001b[39;00m HTTPError(http_error_msg, response\u001b[38;5;241m=\u001b[39m\u001b[38;5;28mself\u001b[39m)\n",
      "\u001b[1;31mHTTPError\u001b[0m: 401 Client Error: Unauthorized for url: https://huggingface.co/app_sentiment_bert/best-model/resolve/main/config.json",
      "\nThe above exception was the direct cause of the following exception:\n",
      "\u001b[1;31mRepositoryNotFoundError\u001b[0m                   Traceback (most recent call last)",
      "File \u001b[1;32mc:\\Users\\jackl\\anaconda3\\lib\\site-packages\\transformers\\utils\\hub.py:402\u001b[0m, in \u001b[0;36mcached_file\u001b[1;34m(path_or_repo_id, filename, cache_dir, force_download, resume_download, proxies, token, revision, local_files_only, subfolder, repo_type, user_agent, _raise_exceptions_for_gated_repo, _raise_exceptions_for_missing_entries, _raise_exceptions_for_connection_errors, _commit_hash, **deprecated_kwargs)\u001b[0m\n\u001b[0;32m    400\u001b[0m \u001b[38;5;28;01mtry\u001b[39;00m:\n\u001b[0;32m    401\u001b[0m     \u001b[38;5;66;03m# Load from URL or cache if already cached\u001b[39;00m\n\u001b[1;32m--> 402\u001b[0m     resolved_file \u001b[38;5;241m=\u001b[39m \u001b[43mhf_hub_download\u001b[49m\u001b[43m(\u001b[49m\n\u001b[0;32m    403\u001b[0m \u001b[43m        \u001b[49m\u001b[43mpath_or_repo_id\u001b[49m\u001b[43m,\u001b[49m\n\u001b[0;32m    404\u001b[0m \u001b[43m        \u001b[49m\u001b[43mfilename\u001b[49m\u001b[43m,\u001b[49m\n\u001b[0;32m    405\u001b[0m \u001b[43m        \u001b[49m\u001b[43msubfolder\u001b[49m\u001b[38;5;241;43m=\u001b[39;49m\u001b[38;5;28;43;01mNone\u001b[39;49;00m\u001b[43m \u001b[49m\u001b[38;5;28;43;01mif\u001b[39;49;00m\u001b[43m \u001b[49m\u001b[38;5;28;43mlen\u001b[39;49m\u001b[43m(\u001b[49m\u001b[43msubfolder\u001b[49m\u001b[43m)\u001b[49m\u001b[43m \u001b[49m\u001b[38;5;241;43m==\u001b[39;49m\u001b[43m \u001b[49m\u001b[38;5;241;43m0\u001b[39;49m\u001b[43m \u001b[49m\u001b[38;5;28;43;01melse\u001b[39;49;00m\u001b[43m \u001b[49m\u001b[43msubfolder\u001b[49m\u001b[43m,\u001b[49m\n\u001b[0;32m    406\u001b[0m \u001b[43m        \u001b[49m\u001b[43mrepo_type\u001b[49m\u001b[38;5;241;43m=\u001b[39;49m\u001b[43mrepo_type\u001b[49m\u001b[43m,\u001b[49m\n\u001b[0;32m    407\u001b[0m \u001b[43m        \u001b[49m\u001b[43mrevision\u001b[49m\u001b[38;5;241;43m=\u001b[39;49m\u001b[43mrevision\u001b[49m\u001b[43m,\u001b[49m\n\u001b[0;32m    408\u001b[0m \u001b[43m        \u001b[49m\u001b[43mcache_dir\u001b[49m\u001b[38;5;241;43m=\u001b[39;49m\u001b[43mcache_dir\u001b[49m\u001b[43m,\u001b[49m\n\u001b[0;32m    409\u001b[0m \u001b[43m        \u001b[49m\u001b[43muser_agent\u001b[49m\u001b[38;5;241;43m=\u001b[39;49m\u001b[43muser_agent\u001b[49m\u001b[43m,\u001b[49m\n\u001b[0;32m    410\u001b[0m \u001b[43m        \u001b[49m\u001b[43mforce_download\u001b[49m\u001b[38;5;241;43m=\u001b[39;49m\u001b[43mforce_download\u001b[49m\u001b[43m,\u001b[49m\n\u001b[0;32m    411\u001b[0m \u001b[43m        \u001b[49m\u001b[43mproxies\u001b[49m\u001b[38;5;241;43m=\u001b[39;49m\u001b[43mproxies\u001b[49m\u001b[43m,\u001b[49m\n\u001b[0;32m    412\u001b[0m \u001b[43m        \u001b[49m\u001b[43mresume_download\u001b[49m\u001b[38;5;241;43m=\u001b[39;49m\u001b[43mresume_download\u001b[49m\u001b[43m,\u001b[49m\n\u001b[0;32m    413\u001b[0m \u001b[43m        \u001b[49m\u001b[43mtoken\u001b[49m\u001b[38;5;241;43m=\u001b[39;49m\u001b[43mtoken\u001b[49m\u001b[43m,\u001b[49m\n\u001b[0;32m    414\u001b[0m \u001b[43m        \u001b[49m\u001b[43mlocal_files_only\u001b[49m\u001b[38;5;241;43m=\u001b[39;49m\u001b[43mlocal_files_only\u001b[49m\u001b[43m,\u001b[49m\n\u001b[0;32m    415\u001b[0m \u001b[43m    \u001b[49m\u001b[43m)\u001b[49m\n\u001b[0;32m    416\u001b[0m \u001b[38;5;28;01mexcept\u001b[39;00m GatedRepoError \u001b[38;5;28;01mas\u001b[39;00m e:\n",
      "File \u001b[1;32mc:\\Users\\jackl\\anaconda3\\lib\\site-packages\\huggingface_hub\\utils\\_deprecation.py:101\u001b[0m, in \u001b[0;36m_deprecate_arguments.<locals>._inner_deprecate_positional_args.<locals>.inner_f\u001b[1;34m(*args, **kwargs)\u001b[0m\n\u001b[0;32m    100\u001b[0m     warnings\u001b[38;5;241m.\u001b[39mwarn(message, \u001b[38;5;167;01mFutureWarning\u001b[39;00m)\n\u001b[1;32m--> 101\u001b[0m \u001b[38;5;28;01mreturn\u001b[39;00m f(\u001b[38;5;241m*\u001b[39margs, \u001b[38;5;241m*\u001b[39m\u001b[38;5;241m*\u001b[39mkwargs)\n",
      "File \u001b[1;32mc:\\Users\\jackl\\anaconda3\\lib\\site-packages\\huggingface_hub\\utils\\_validators.py:114\u001b[0m, in \u001b[0;36mvalidate_hf_hub_args.<locals>._inner_fn\u001b[1;34m(*args, **kwargs)\u001b[0m\n\u001b[0;32m    112\u001b[0m     kwargs \u001b[38;5;241m=\u001b[39m smoothly_deprecate_use_auth_token(fn_name\u001b[38;5;241m=\u001b[39mfn\u001b[38;5;241m.\u001b[39m\u001b[38;5;18m__name__\u001b[39m, has_token\u001b[38;5;241m=\u001b[39mhas_token, kwargs\u001b[38;5;241m=\u001b[39mkwargs)\n\u001b[1;32m--> 114\u001b[0m \u001b[38;5;28;01mreturn\u001b[39;00m fn(\u001b[38;5;241m*\u001b[39margs, \u001b[38;5;241m*\u001b[39m\u001b[38;5;241m*\u001b[39mkwargs)\n",
      "File \u001b[1;32mc:\\Users\\jackl\\anaconda3\\lib\\site-packages\\huggingface_hub\\file_download.py:1240\u001b[0m, in \u001b[0;36mhf_hub_download\u001b[1;34m(repo_id, filename, subfolder, repo_type, revision, library_name, library_version, cache_dir, local_dir, user_agent, force_download, proxies, etag_timeout, token, local_files_only, headers, endpoint, legacy_cache_layout, resume_download, force_filename, local_dir_use_symlinks)\u001b[0m\n\u001b[0;32m   1239\u001b[0m \u001b[38;5;28;01melse\u001b[39;00m:\n\u001b[1;32m-> 1240\u001b[0m     \u001b[38;5;28;01mreturn\u001b[39;00m \u001b[43m_hf_hub_download_to_cache_dir\u001b[49m\u001b[43m(\u001b[49m\n\u001b[0;32m   1241\u001b[0m \u001b[43m        \u001b[49m\u001b[38;5;66;43;03m# Destination\u001b[39;49;00m\n\u001b[0;32m   1242\u001b[0m \u001b[43m        \u001b[49m\u001b[43mcache_dir\u001b[49m\u001b[38;5;241;43m=\u001b[39;49m\u001b[43mcache_dir\u001b[49m\u001b[43m,\u001b[49m\n\u001b[0;32m   1243\u001b[0m \u001b[43m        \u001b[49m\u001b[38;5;66;43;03m# File info\u001b[39;49;00m\n\u001b[0;32m   1244\u001b[0m \u001b[43m        \u001b[49m\u001b[43mrepo_id\u001b[49m\u001b[38;5;241;43m=\u001b[39;49m\u001b[43mrepo_id\u001b[49m\u001b[43m,\u001b[49m\n\u001b[0;32m   1245\u001b[0m \u001b[43m        \u001b[49m\u001b[43mfilename\u001b[49m\u001b[38;5;241;43m=\u001b[39;49m\u001b[43mfilename\u001b[49m\u001b[43m,\u001b[49m\n\u001b[0;32m   1246\u001b[0m \u001b[43m        \u001b[49m\u001b[43mrepo_type\u001b[49m\u001b[38;5;241;43m=\u001b[39;49m\u001b[43mrepo_type\u001b[49m\u001b[43m,\u001b[49m\n\u001b[0;32m   1247\u001b[0m \u001b[43m        \u001b[49m\u001b[43mrevision\u001b[49m\u001b[38;5;241;43m=\u001b[39;49m\u001b[43mrevision\u001b[49m\u001b[43m,\u001b[49m\n\u001b[0;32m   1248\u001b[0m \u001b[43m        \u001b[49m\u001b[38;5;66;43;03m# HTTP info\u001b[39;49;00m\n\u001b[0;32m   1249\u001b[0m \u001b[43m        \u001b[49m\u001b[43mendpoint\u001b[49m\u001b[38;5;241;43m=\u001b[39;49m\u001b[43mendpoint\u001b[49m\u001b[43m,\u001b[49m\n\u001b[0;32m   1250\u001b[0m \u001b[43m        \u001b[49m\u001b[43metag_timeout\u001b[49m\u001b[38;5;241;43m=\u001b[39;49m\u001b[43metag_timeout\u001b[49m\u001b[43m,\u001b[49m\n\u001b[0;32m   1251\u001b[0m \u001b[43m        \u001b[49m\u001b[43mheaders\u001b[49m\u001b[38;5;241;43m=\u001b[39;49m\u001b[43mheaders\u001b[49m\u001b[43m,\u001b[49m\n\u001b[0;32m   1252\u001b[0m \u001b[43m        \u001b[49m\u001b[43mproxies\u001b[49m\u001b[38;5;241;43m=\u001b[39;49m\u001b[43mproxies\u001b[49m\u001b[43m,\u001b[49m\n\u001b[0;32m   1253\u001b[0m \u001b[43m        \u001b[49m\u001b[43mtoken\u001b[49m\u001b[38;5;241;43m=\u001b[39;49m\u001b[43mtoken\u001b[49m\u001b[43m,\u001b[49m\n\u001b[0;32m   1254\u001b[0m \u001b[43m        \u001b[49m\u001b[38;5;66;43;03m# Additional options\u001b[39;49;00m\n\u001b[0;32m   1255\u001b[0m \u001b[43m        \u001b[49m\u001b[43mlocal_files_only\u001b[49m\u001b[38;5;241;43m=\u001b[39;49m\u001b[43mlocal_files_only\u001b[49m\u001b[43m,\u001b[49m\n\u001b[0;32m   1256\u001b[0m \u001b[43m        \u001b[49m\u001b[43mforce_download\u001b[49m\u001b[38;5;241;43m=\u001b[39;49m\u001b[43mforce_download\u001b[49m\u001b[43m,\u001b[49m\n\u001b[0;32m   1257\u001b[0m \u001b[43m    \u001b[49m\u001b[43m)\u001b[49m\n",
      "File \u001b[1;32mc:\\Users\\jackl\\anaconda3\\lib\\site-packages\\huggingface_hub\\file_download.py:1347\u001b[0m, in \u001b[0;36m_hf_hub_download_to_cache_dir\u001b[1;34m(cache_dir, repo_id, filename, repo_type, revision, endpoint, etag_timeout, headers, proxies, token, local_files_only, force_download)\u001b[0m\n\u001b[0;32m   1346\u001b[0m     \u001b[38;5;66;03m# Otherwise, raise appropriate error\u001b[39;00m\n\u001b[1;32m-> 1347\u001b[0m     \u001b[43m_raise_on_head_call_error\u001b[49m\u001b[43m(\u001b[49m\u001b[43mhead_call_error\u001b[49m\u001b[43m,\u001b[49m\u001b[43m \u001b[49m\u001b[43mforce_download\u001b[49m\u001b[43m,\u001b[49m\u001b[43m \u001b[49m\u001b[43mlocal_files_only\u001b[49m\u001b[43m)\u001b[49m\n\u001b[0;32m   1349\u001b[0m \u001b[38;5;66;03m# From now on, etag, commit_hash, url and size are not None.\u001b[39;00m\n",
      "File \u001b[1;32mc:\\Users\\jackl\\anaconda3\\lib\\site-packages\\huggingface_hub\\file_download.py:1854\u001b[0m, in \u001b[0;36m_raise_on_head_call_error\u001b[1;34m(head_call_error, force_download, local_files_only)\u001b[0m\n\u001b[0;32m   1852\u001b[0m \u001b[38;5;28;01melif\u001b[39;00m \u001b[38;5;28misinstance\u001b[39m(head_call_error, RepositoryNotFoundError) \u001b[38;5;129;01mor\u001b[39;00m \u001b[38;5;28misinstance\u001b[39m(head_call_error, GatedRepoError):\n\u001b[0;32m   1853\u001b[0m     \u001b[38;5;66;03m# Repo not found or gated => let's raise the actual error\u001b[39;00m\n\u001b[1;32m-> 1854\u001b[0m     \u001b[38;5;28;01mraise\u001b[39;00m head_call_error\n\u001b[0;32m   1855\u001b[0m \u001b[38;5;28;01melse\u001b[39;00m:\n\u001b[0;32m   1856\u001b[0m     \u001b[38;5;66;03m# Otherwise: most likely a connection issue or Hub downtime => let's warn the user\u001b[39;00m\n",
      "File \u001b[1;32mc:\\Users\\jackl\\anaconda3\\lib\\site-packages\\huggingface_hub\\file_download.py:1751\u001b[0m, in \u001b[0;36m_get_metadata_or_catch_error\u001b[1;34m(repo_id, filename, repo_type, revision, endpoint, proxies, etag_timeout, headers, token, local_files_only, relative_filename, storage_folder)\u001b[0m\n\u001b[0;32m   1750\u001b[0m \u001b[38;5;28;01mtry\u001b[39;00m:\n\u001b[1;32m-> 1751\u001b[0m     metadata \u001b[38;5;241m=\u001b[39m \u001b[43mget_hf_file_metadata\u001b[49m\u001b[43m(\u001b[49m\n\u001b[0;32m   1752\u001b[0m \u001b[43m        \u001b[49m\u001b[43murl\u001b[49m\u001b[38;5;241;43m=\u001b[39;49m\u001b[43murl\u001b[49m\u001b[43m,\u001b[49m\u001b[43m \u001b[49m\u001b[43mproxies\u001b[49m\u001b[38;5;241;43m=\u001b[39;49m\u001b[43mproxies\u001b[49m\u001b[43m,\u001b[49m\u001b[43m \u001b[49m\u001b[43mtimeout\u001b[49m\u001b[38;5;241;43m=\u001b[39;49m\u001b[43metag_timeout\u001b[49m\u001b[43m,\u001b[49m\u001b[43m \u001b[49m\u001b[43mheaders\u001b[49m\u001b[38;5;241;43m=\u001b[39;49m\u001b[43mheaders\u001b[49m\u001b[43m,\u001b[49m\u001b[43m \u001b[49m\u001b[43mtoken\u001b[49m\u001b[38;5;241;43m=\u001b[39;49m\u001b[43mtoken\u001b[49m\n\u001b[0;32m   1753\u001b[0m \u001b[43m    \u001b[49m\u001b[43m)\u001b[49m\n\u001b[0;32m   1754\u001b[0m \u001b[38;5;28;01mexcept\u001b[39;00m EntryNotFoundError \u001b[38;5;28;01mas\u001b[39;00m http_error:\n",
      "File \u001b[1;32mc:\\Users\\jackl\\anaconda3\\lib\\site-packages\\huggingface_hub\\utils\\_validators.py:114\u001b[0m, in \u001b[0;36mvalidate_hf_hub_args.<locals>._inner_fn\u001b[1;34m(*args, **kwargs)\u001b[0m\n\u001b[0;32m    112\u001b[0m     kwargs \u001b[38;5;241m=\u001b[39m smoothly_deprecate_use_auth_token(fn_name\u001b[38;5;241m=\u001b[39mfn\u001b[38;5;241m.\u001b[39m\u001b[38;5;18m__name__\u001b[39m, has_token\u001b[38;5;241m=\u001b[39mhas_token, kwargs\u001b[38;5;241m=\u001b[39mkwargs)\n\u001b[1;32m--> 114\u001b[0m \u001b[38;5;28;01mreturn\u001b[39;00m fn(\u001b[38;5;241m*\u001b[39margs, \u001b[38;5;241m*\u001b[39m\u001b[38;5;241m*\u001b[39mkwargs)\n",
      "File \u001b[1;32mc:\\Users\\jackl\\anaconda3\\lib\\site-packages\\huggingface_hub\\file_download.py:1673\u001b[0m, in \u001b[0;36mget_hf_file_metadata\u001b[1;34m(url, token, proxies, timeout, library_name, library_version, user_agent, headers)\u001b[0m\n\u001b[0;32m   1672\u001b[0m \u001b[38;5;66;03m# Retrieve metadata\u001b[39;00m\n\u001b[1;32m-> 1673\u001b[0m r \u001b[38;5;241m=\u001b[39m \u001b[43m_request_wrapper\u001b[49m\u001b[43m(\u001b[49m\n\u001b[0;32m   1674\u001b[0m \u001b[43m    \u001b[49m\u001b[43mmethod\u001b[49m\u001b[38;5;241;43m=\u001b[39;49m\u001b[38;5;124;43m\"\u001b[39;49m\u001b[38;5;124;43mHEAD\u001b[39;49m\u001b[38;5;124;43m\"\u001b[39;49m\u001b[43m,\u001b[49m\n\u001b[0;32m   1675\u001b[0m \u001b[43m    \u001b[49m\u001b[43murl\u001b[49m\u001b[38;5;241;43m=\u001b[39;49m\u001b[43murl\u001b[49m\u001b[43m,\u001b[49m\n\u001b[0;32m   1676\u001b[0m \u001b[43m    \u001b[49m\u001b[43mheaders\u001b[49m\u001b[38;5;241;43m=\u001b[39;49m\u001b[43mheaders\u001b[49m\u001b[43m,\u001b[49m\n\u001b[0;32m   1677\u001b[0m \u001b[43m    \u001b[49m\u001b[43mallow_redirects\u001b[49m\u001b[38;5;241;43m=\u001b[39;49m\u001b[38;5;28;43;01mFalse\u001b[39;49;00m\u001b[43m,\u001b[49m\n\u001b[0;32m   1678\u001b[0m \u001b[43m    \u001b[49m\u001b[43mfollow_relative_redirects\u001b[49m\u001b[38;5;241;43m=\u001b[39;49m\u001b[38;5;28;43;01mTrue\u001b[39;49;00m\u001b[43m,\u001b[49m\n\u001b[0;32m   1679\u001b[0m \u001b[43m    \u001b[49m\u001b[43mproxies\u001b[49m\u001b[38;5;241;43m=\u001b[39;49m\u001b[43mproxies\u001b[49m\u001b[43m,\u001b[49m\n\u001b[0;32m   1680\u001b[0m \u001b[43m    \u001b[49m\u001b[43mtimeout\u001b[49m\u001b[38;5;241;43m=\u001b[39;49m\u001b[43mtimeout\u001b[49m\u001b[43m,\u001b[49m\n\u001b[0;32m   1681\u001b[0m \u001b[43m\u001b[49m\u001b[43m)\u001b[49m\n\u001b[0;32m   1682\u001b[0m hf_raise_for_status(r)\n",
      "File \u001b[1;32mc:\\Users\\jackl\\anaconda3\\lib\\site-packages\\huggingface_hub\\file_download.py:376\u001b[0m, in \u001b[0;36m_request_wrapper\u001b[1;34m(method, url, follow_relative_redirects, **params)\u001b[0m\n\u001b[0;32m    375\u001b[0m \u001b[38;5;28;01mif\u001b[39;00m follow_relative_redirects:\n\u001b[1;32m--> 376\u001b[0m     response \u001b[38;5;241m=\u001b[39m _request_wrapper(\n\u001b[0;32m    377\u001b[0m         method\u001b[38;5;241m=\u001b[39mmethod,\n\u001b[0;32m    378\u001b[0m         url\u001b[38;5;241m=\u001b[39murl,\n\u001b[0;32m    379\u001b[0m         follow_relative_redirects\u001b[38;5;241m=\u001b[39m\u001b[38;5;28;01mFalse\u001b[39;00m,\n\u001b[0;32m    380\u001b[0m         \u001b[38;5;241m*\u001b[39m\u001b[38;5;241m*\u001b[39mparams,\n\u001b[0;32m    381\u001b[0m     )\n\u001b[0;32m    383\u001b[0m     \u001b[38;5;66;03m# If redirection, we redirect only relative paths.\u001b[39;00m\n\u001b[0;32m    384\u001b[0m     \u001b[38;5;66;03m# This is useful in case of a renamed repository.\u001b[39;00m\n",
      "File \u001b[1;32mc:\\Users\\jackl\\anaconda3\\lib\\site-packages\\huggingface_hub\\file_download.py:400\u001b[0m, in \u001b[0;36m_request_wrapper\u001b[1;34m(method, url, follow_relative_redirects, **params)\u001b[0m\n\u001b[0;32m    399\u001b[0m response \u001b[38;5;241m=\u001b[39m get_session()\u001b[38;5;241m.\u001b[39mrequest(method\u001b[38;5;241m=\u001b[39mmethod, url\u001b[38;5;241m=\u001b[39murl, \u001b[38;5;241m*\u001b[39m\u001b[38;5;241m*\u001b[39mparams)\n\u001b[1;32m--> 400\u001b[0m \u001b[43mhf_raise_for_status\u001b[49m\u001b[43m(\u001b[49m\u001b[43mresponse\u001b[49m\u001b[43m)\u001b[49m\n\u001b[0;32m    401\u001b[0m \u001b[38;5;28;01mreturn\u001b[39;00m response\n",
      "File \u001b[1;32mc:\\Users\\jackl\\anaconda3\\lib\\site-packages\\huggingface_hub\\utils\\_errors.py:352\u001b[0m, in \u001b[0;36mhf_raise_for_status\u001b[1;34m(response, endpoint_name)\u001b[0m\n\u001b[0;32m    344\u001b[0m     message \u001b[38;5;241m=\u001b[39m (\n\u001b[0;32m    345\u001b[0m         \u001b[38;5;124mf\u001b[39m\u001b[38;5;124m\"\u001b[39m\u001b[38;5;132;01m{\u001b[39;00mresponse\u001b[38;5;241m.\u001b[39mstatus_code\u001b[38;5;132;01m}\u001b[39;00m\u001b[38;5;124m Client Error.\u001b[39m\u001b[38;5;124m\"\u001b[39m\n\u001b[0;32m    346\u001b[0m         \u001b[38;5;241m+\u001b[39m \u001b[38;5;124m\"\u001b[39m\u001b[38;5;130;01m\\n\u001b[39;00m\u001b[38;5;130;01m\\n\u001b[39;00m\u001b[38;5;124m\"\u001b[39m\n\u001b[1;32m   (...)\u001b[0m\n\u001b[0;32m    350\u001b[0m         \u001b[38;5;124m\"\u001b[39m\u001b[38;5;124m make sure you are authenticated.\u001b[39m\u001b[38;5;124m\"\u001b[39m\n\u001b[0;32m    351\u001b[0m     )\n\u001b[1;32m--> 352\u001b[0m     \u001b[38;5;28;01mraise\u001b[39;00m RepositoryNotFoundError(message, response) \u001b[38;5;28;01mfrom\u001b[39;00m \u001b[38;5;21;01me\u001b[39;00m\n\u001b[0;32m    354\u001b[0m \u001b[38;5;28;01melif\u001b[39;00m response\u001b[38;5;241m.\u001b[39mstatus_code \u001b[38;5;241m==\u001b[39m \u001b[38;5;241m400\u001b[39m:\n",
      "\u001b[1;31mRepositoryNotFoundError\u001b[0m: 401 Client Error. (Request ID: Root=1-680736f5-045b71a83f3b72461c7a817f;ffe302db-8b98-4e09-b28a-f3d936e86818)\n\nRepository Not Found for url: https://huggingface.co/app_sentiment_bert/best-model/resolve/main/config.json.\nPlease make sure you specified the correct `repo_id` and `repo_type`.\nIf you are trying to access a private or gated repo, make sure you are authenticated.\nInvalid username or password.",
      "\nThe above exception was the direct cause of the following exception:\n",
      "\u001b[1;31mOSError\u001b[0m                                   Traceback (most recent call last)",
      "Cell \u001b[1;32mIn[47], line 15\u001b[0m\n\u001b[0;32m      9\u001b[0m \u001b[38;5;66;03m# We don't use GPU\u001b[39;00m\n\u001b[0;32m     10\u001b[0m \u001b[38;5;66;03m#import os\u001b[39;00m\n\u001b[0;32m     11\u001b[0m \u001b[38;5;66;03m#os.environ['CUDA_VISIBLE_DEVICES'] = '-1'\u001b[39;00m\n\u001b[0;32m     12\u001b[0m \n\u001b[0;32m     13\u001b[0m \u001b[38;5;66;03m# Load model and tokenizer\u001b[39;00m\n\u001b[0;32m     14\u001b[0m model_path \u001b[38;5;241m=\u001b[39m \u001b[38;5;124m\"\u001b[39m\u001b[38;5;124mapp_sentiment_bert/best-model\u001b[39m\u001b[38;5;124m\"\u001b[39m\n\u001b[1;32m---> 15\u001b[0m model \u001b[38;5;241m=\u001b[39m \u001b[43mBertForSequenceClassification\u001b[49m\u001b[38;5;241;43m.\u001b[39;49m\u001b[43mfrom_pretrained\u001b[49m\u001b[43m(\u001b[49m\u001b[43mmodel_path\u001b[49m\u001b[43m,\u001b[49m\u001b[43m \u001b[49m\u001b[43mnum_labels\u001b[49m\u001b[38;5;241;43m=\u001b[39;49m\u001b[38;5;241;43m2\u001b[39;49m\u001b[43m)\u001b[49m\n\u001b[0;32m     16\u001b[0m \u001b[38;5;66;03m# reload our model/tokenizer. Optional, only usable when in Python files instead of notebooks\u001b[39;00m\n\u001b[0;32m     17\u001b[0m tokenizer \u001b[38;5;241m=\u001b[39m BertTokenizer\u001b[38;5;241m.\u001b[39mfrom_pretrained(model_path)\n",
      "File \u001b[1;32mc:\\Users\\jackl\\anaconda3\\lib\\site-packages\\transformers\\modeling_utils.py:3247\u001b[0m, in \u001b[0;36mPreTrainedModel.from_pretrained\u001b[1;34m(cls, pretrained_model_name_or_path, config, cache_dir, ignore_mismatched_sizes, force_download, local_files_only, token, revision, use_safetensors, *model_args, **kwargs)\u001b[0m\n\u001b[0;32m   3244\u001b[0m \u001b[38;5;28;01mif\u001b[39;00m commit_hash \u001b[38;5;129;01mis\u001b[39;00m \u001b[38;5;28;01mNone\u001b[39;00m:\n\u001b[0;32m   3245\u001b[0m     \u001b[38;5;28;01mif\u001b[39;00m \u001b[38;5;129;01mnot\u001b[39;00m \u001b[38;5;28misinstance\u001b[39m(config, PretrainedConfig):\n\u001b[0;32m   3246\u001b[0m         \u001b[38;5;66;03m# We make a call to the config file first (which may be absent) to get the commit hash as soon as possible\u001b[39;00m\n\u001b[1;32m-> 3247\u001b[0m         resolved_config_file \u001b[38;5;241m=\u001b[39m \u001b[43mcached_file\u001b[49m\u001b[43m(\u001b[49m\n\u001b[0;32m   3248\u001b[0m \u001b[43m            \u001b[49m\u001b[43mpretrained_model_name_or_path\u001b[49m\u001b[43m,\u001b[49m\n\u001b[0;32m   3249\u001b[0m \u001b[43m            \u001b[49m\u001b[43mCONFIG_NAME\u001b[49m\u001b[43m,\u001b[49m\n\u001b[0;32m   3250\u001b[0m \u001b[43m            \u001b[49m\u001b[43mcache_dir\u001b[49m\u001b[38;5;241;43m=\u001b[39;49m\u001b[43mcache_dir\u001b[49m\u001b[43m,\u001b[49m\n\u001b[0;32m   3251\u001b[0m \u001b[43m            \u001b[49m\u001b[43mforce_download\u001b[49m\u001b[38;5;241;43m=\u001b[39;49m\u001b[43mforce_download\u001b[49m\u001b[43m,\u001b[49m\n\u001b[0;32m   3252\u001b[0m \u001b[43m            \u001b[49m\u001b[43mresume_download\u001b[49m\u001b[38;5;241;43m=\u001b[39;49m\u001b[43mresume_download\u001b[49m\u001b[43m,\u001b[49m\n\u001b[0;32m   3253\u001b[0m \u001b[43m            \u001b[49m\u001b[43mproxies\u001b[49m\u001b[38;5;241;43m=\u001b[39;49m\u001b[43mproxies\u001b[49m\u001b[43m,\u001b[49m\n\u001b[0;32m   3254\u001b[0m \u001b[43m            \u001b[49m\u001b[43mlocal_files_only\u001b[49m\u001b[38;5;241;43m=\u001b[39;49m\u001b[43mlocal_files_only\u001b[49m\u001b[43m,\u001b[49m\n\u001b[0;32m   3255\u001b[0m \u001b[43m            \u001b[49m\u001b[43mtoken\u001b[49m\u001b[38;5;241;43m=\u001b[39;49m\u001b[43mtoken\u001b[49m\u001b[43m,\u001b[49m\n\u001b[0;32m   3256\u001b[0m \u001b[43m            \u001b[49m\u001b[43mrevision\u001b[49m\u001b[38;5;241;43m=\u001b[39;49m\u001b[43mrevision\u001b[49m\u001b[43m,\u001b[49m\n\u001b[0;32m   3257\u001b[0m \u001b[43m            \u001b[49m\u001b[43msubfolder\u001b[49m\u001b[38;5;241;43m=\u001b[39;49m\u001b[43msubfolder\u001b[49m\u001b[43m,\u001b[49m\n\u001b[0;32m   3258\u001b[0m \u001b[43m            \u001b[49m\u001b[43m_raise_exceptions_for_gated_repo\u001b[49m\u001b[38;5;241;43m=\u001b[39;49m\u001b[38;5;28;43;01mFalse\u001b[39;49;00m\u001b[43m,\u001b[49m\n\u001b[0;32m   3259\u001b[0m \u001b[43m            \u001b[49m\u001b[43m_raise_exceptions_for_missing_entries\u001b[49m\u001b[38;5;241;43m=\u001b[39;49m\u001b[38;5;28;43;01mFalse\u001b[39;49;00m\u001b[43m,\u001b[49m\n\u001b[0;32m   3260\u001b[0m \u001b[43m            \u001b[49m\u001b[43m_raise_exceptions_for_connection_errors\u001b[49m\u001b[38;5;241;43m=\u001b[39;49m\u001b[38;5;28;43;01mFalse\u001b[39;49;00m\u001b[43m,\u001b[49m\n\u001b[0;32m   3261\u001b[0m \u001b[43m        \u001b[49m\u001b[43m)\u001b[49m\n\u001b[0;32m   3262\u001b[0m         commit_hash \u001b[38;5;241m=\u001b[39m extract_commit_hash(resolved_config_file, commit_hash)\n\u001b[0;32m   3263\u001b[0m     \u001b[38;5;28;01melse\u001b[39;00m:\n",
      "File \u001b[1;32mc:\\Users\\jackl\\anaconda3\\lib\\site-packages\\transformers\\utils\\hub.py:425\u001b[0m, in \u001b[0;36mcached_file\u001b[1;34m(path_or_repo_id, filename, cache_dir, force_download, resume_download, proxies, token, revision, local_files_only, subfolder, repo_type, user_agent, _raise_exceptions_for_gated_repo, _raise_exceptions_for_missing_entries, _raise_exceptions_for_connection_errors, _commit_hash, **deprecated_kwargs)\u001b[0m\n\u001b[0;32m    420\u001b[0m     \u001b[38;5;28;01mraise\u001b[39;00m \u001b[38;5;167;01mEnvironmentError\u001b[39;00m(\n\u001b[0;32m    421\u001b[0m         \u001b[38;5;124m\"\u001b[39m\u001b[38;5;124mYou are trying to access a gated repo.\u001b[39m\u001b[38;5;130;01m\\n\u001b[39;00m\u001b[38;5;124mMake sure to have access to it at \u001b[39m\u001b[38;5;124m\"\u001b[39m\n\u001b[0;32m    422\u001b[0m         \u001b[38;5;124mf\u001b[39m\u001b[38;5;124m\"\u001b[39m\u001b[38;5;124mhttps://huggingface.co/\u001b[39m\u001b[38;5;132;01m{\u001b[39;00mpath_or_repo_id\u001b[38;5;132;01m}\u001b[39;00m\u001b[38;5;124m.\u001b[39m\u001b[38;5;130;01m\\n\u001b[39;00m\u001b[38;5;132;01m{\u001b[39;00m\u001b[38;5;28mstr\u001b[39m(e)\u001b[38;5;132;01m}\u001b[39;00m\u001b[38;5;124m\"\u001b[39m\n\u001b[0;32m    423\u001b[0m     ) \u001b[38;5;28;01mfrom\u001b[39;00m \u001b[38;5;21;01me\u001b[39;00m\n\u001b[0;32m    424\u001b[0m \u001b[38;5;28;01mexcept\u001b[39;00m RepositoryNotFoundError \u001b[38;5;28;01mas\u001b[39;00m e:\n\u001b[1;32m--> 425\u001b[0m     \u001b[38;5;28;01mraise\u001b[39;00m \u001b[38;5;167;01mEnvironmentError\u001b[39;00m(\n\u001b[0;32m    426\u001b[0m         \u001b[38;5;124mf\u001b[39m\u001b[38;5;124m\"\u001b[39m\u001b[38;5;132;01m{\u001b[39;00mpath_or_repo_id\u001b[38;5;132;01m}\u001b[39;00m\u001b[38;5;124m is not a local folder and is not a valid model identifier \u001b[39m\u001b[38;5;124m\"\u001b[39m\n\u001b[0;32m    427\u001b[0m         \u001b[38;5;124m\"\u001b[39m\u001b[38;5;124mlisted on \u001b[39m\u001b[38;5;124m'\u001b[39m\u001b[38;5;124mhttps://huggingface.co/models\u001b[39m\u001b[38;5;124m'\u001b[39m\u001b[38;5;130;01m\\n\u001b[39;00m\u001b[38;5;124mIf this is a private repository, make sure to pass a token \u001b[39m\u001b[38;5;124m\"\u001b[39m\n\u001b[0;32m    428\u001b[0m         \u001b[38;5;124m\"\u001b[39m\u001b[38;5;124mhaving permission to this repo either by logging in with `huggingface-cli login` or by passing \u001b[39m\u001b[38;5;124m\"\u001b[39m\n\u001b[0;32m    429\u001b[0m         \u001b[38;5;124m\"\u001b[39m\u001b[38;5;124m`token=<your_token>`\u001b[39m\u001b[38;5;124m\"\u001b[39m\n\u001b[0;32m    430\u001b[0m     ) \u001b[38;5;28;01mfrom\u001b[39;00m \u001b[38;5;21;01me\u001b[39;00m\n\u001b[0;32m    431\u001b[0m \u001b[38;5;28;01mexcept\u001b[39;00m RevisionNotFoundError \u001b[38;5;28;01mas\u001b[39;00m e:\n\u001b[0;32m    432\u001b[0m     \u001b[38;5;28;01mraise\u001b[39;00m \u001b[38;5;167;01mEnvironmentError\u001b[39;00m(\n\u001b[0;32m    433\u001b[0m         \u001b[38;5;124mf\u001b[39m\u001b[38;5;124m\"\u001b[39m\u001b[38;5;132;01m{\u001b[39;00mrevision\u001b[38;5;132;01m}\u001b[39;00m\u001b[38;5;124m is not a valid git identifier (branch name, tag name or commit id) that exists \u001b[39m\u001b[38;5;124m\"\u001b[39m\n\u001b[0;32m    434\u001b[0m         \u001b[38;5;124m\"\u001b[39m\u001b[38;5;124mfor this model name. Check the model page at \u001b[39m\u001b[38;5;124m\"\u001b[39m\n\u001b[0;32m    435\u001b[0m         \u001b[38;5;124mf\u001b[39m\u001b[38;5;124m\"\u001b[39m\u001b[38;5;124m'\u001b[39m\u001b[38;5;124mhttps://huggingface.co/\u001b[39m\u001b[38;5;132;01m{\u001b[39;00mpath_or_repo_id\u001b[38;5;132;01m}\u001b[39;00m\u001b[38;5;124m'\u001b[39m\u001b[38;5;124m for available revisions.\u001b[39m\u001b[38;5;124m\"\u001b[39m\n\u001b[0;32m    436\u001b[0m     ) \u001b[38;5;28;01mfrom\u001b[39;00m \u001b[38;5;21;01me\u001b[39;00m\n",
      "\u001b[1;31mOSError\u001b[0m: app_sentiment_bert/best-model is not a local folder and is not a valid model identifier listed on 'https://huggingface.co/models'\nIf this is a private repository, make sure to pass a token having permission to this repo either by logging in with `huggingface-cli login` or by passing `token=<your_token>`"
     ]
    }
   ],
   "source": [
    "from django.shortcuts import render\n",
    "from django.views.decorators.csrf import csrf_exempt\n",
    "from django.http import JsonResponse\n",
    "from transformers import BertTokenizer, BertForSequenceClassification\n",
    "from opencc import OpenCC\n",
    "s2t = OpenCC('s2t')  # convert from Simplified Chinese to Traditional Chinese\n",
    "t2s = OpenCC('t2s')  # convert from  Traditional Chinese to Simplified Chinese\n",
    "\n",
    "# We don't use GPU\n",
    "#import os\n",
    "#os.environ['CUDA_VISIBLE_DEVICES'] = '-1'\n",
    "\n",
    "# Load model and tokenizer\n",
    "model_path = \"app_sentiment_bert/best-model\"\n",
    "model = BertForSequenceClassification.from_pretrained(model_path, num_labels=2)\n",
    "# reload our model/tokenizer. Optional, only usable when in Python files instead of notebooks\n",
    "tokenizer = BertTokenizer.from_pretrained(model_path)\n",
    "\n",
    "# home\n",
    "def home(request):\n",
    "    return render(request, \"app_sentiment_bert/home.html\")\n",
    "\n",
    "# api get sentiment score\n",
    "@csrf_exempt\n",
    "def api_get_sentiment(request):\n",
    "\n",
    "    new_text = request.POST.get('input_text')\n",
    "    #new_text = request.POST['input_text']\n",
    "    print(new_text)\n",
    "\n",
    "    # See the content_type and body從前端送過來的資料格式\n",
    "    print(request.content_type)\n",
    "    print(request.body) # byte format\n",
    "\n",
    "    sentiment_prob = get_sentiment_proba(new_text)\n",
    "\n",
    "    return JsonResponse(sentiment_prob)\n",
    "\n",
    "# Define prediction function using pipeline\n",
    "def get_sentiment_proba(text):\n",
    "    max_length = 300 # 最多字數 若超出模型訓練時的字數，以模型最大字數為依據\n",
    "    #max_length = 512 # 最多字數 若超出模型訓練時的字數，以模型最大字數為依據\n",
    "    outputs = sentiment_classify(text, padding=True, max_length=max_length, truncation=True)\n",
    "    if outputs[0]['label']=='LABEL_1':\n",
    "        # Get the positive score\n",
    "        prob_positive = round(outputs[0]['score'],2)\n",
    "        prob_negatitive = round(1 - prob_positive, 2)\n",
    "    else:\n",
    "        # Calculate the negative score\n",
    "        prob_negatitive = round(outputs[0]['score'],2)\n",
    "        prob_positive = round(1 - prob_negatitive, 2)\n",
    "\n",
    "    response = {'Negative':prob_negatitive, 'Positive': prob_positive}\n",
    "    return response\n",
    "\n",
    "\n",
    "\n",
    "print(\"Loading app bert sentiment classification.\")\n"
   ]
  },
  {
   "cell_type": "code",
   "execution_count": null,
   "metadata": {
    "id": "3mS8e3nfSI2M"
   },
   "outputs": [],
   "source": []
  },
  {
   "cell_type": "code",
   "execution_count": null,
   "metadata": {
    "id": "KnTsQghqSI2M"
   },
   "outputs": [],
   "source": []
  }
 ],
 "metadata": {
  "anaconda-cloud": {},
  "colab": {
   "provenance": []
  },
  "kernelspec": {
   "display_name": "base",
   "language": "python",
   "name": "python3"
  },
  "language_info": {
   "codemirror_mode": {
    "name": "ipython",
    "version": 3
   },
   "file_extension": ".py",
   "mimetype": "text/x-python",
   "name": "python",
   "nbconvert_exporter": "python",
   "pygments_lexer": "ipython3",
   "version": "3.9.18"
  },
  "toc": {
   "base_numbering": 1,
   "nav_menu": {},
   "number_sections": true,
   "sideBar": true,
   "skip_h1_title": false,
   "title_cell": "Table of Contents",
   "title_sidebar": "Contents",
   "toc_cell": false,
   "toc_position": {
    "height": "calc(100% - 180px)",
    "left": "10px",
    "top": "150px",
    "width": "409.597px"
   },
   "toc_section_display": true,
   "toc_window_display": false
  },
  "toc-autonumbering": true,
  "widgets": {
   "application/vnd.jupyter.widget-state+json": {
    "164ba92c85294f9eb40585b24d817fe6": {
     "model_module": "@jupyter-widgets/controls",
     "model_module_version": "1.5.0",
     "model_name": "DescriptionStyleModel",
     "state": {
      "_model_module": "@jupyter-widgets/controls",
      "_model_module_version": "1.5.0",
      "_model_name": "DescriptionStyleModel",
      "_view_count": null,
      "_view_module": "@jupyter-widgets/base",
      "_view_module_version": "1.2.0",
      "_view_name": "StyleView",
      "description_width": ""
     }
    },
    "242e8b9da8754bb3a5c54918baf53ec3": {
     "model_module": "@jupyter-widgets/base",
     "model_module_version": "1.2.0",
     "model_name": "LayoutModel",
     "state": {
      "_model_module": "@jupyter-widgets/base",
      "_model_module_version": "1.2.0",
      "_model_name": "LayoutModel",
      "_view_count": null,
      "_view_module": "@jupyter-widgets/base",
      "_view_module_version": "1.2.0",
      "_view_name": "LayoutView",
      "align_content": null,
      "align_items": null,
      "align_self": null,
      "border": null,
      "bottom": null,
      "display": null,
      "flex": null,
      "flex_flow": null,
      "grid_area": null,
      "grid_auto_columns": null,
      "grid_auto_flow": null,
      "grid_auto_rows": null,
      "grid_column": null,
      "grid_gap": null,
      "grid_row": null,
      "grid_template_areas": null,
      "grid_template_columns": null,
      "grid_template_rows": null,
      "height": null,
      "justify_content": null,
      "justify_items": null,
      "left": null,
      "margin": null,
      "max_height": null,
      "max_width": null,
      "min_height": null,
      "min_width": null,
      "object_fit": null,
      "object_position": null,
      "order": null,
      "overflow": null,
      "overflow_x": null,
      "overflow_y": null,
      "padding": null,
      "right": null,
      "top": null,
      "visibility": null,
      "width": null
     }
    },
    "2455f8aef5e646de833a510a8beeb5e2": {
     "model_module": "@jupyter-widgets/base",
     "model_module_version": "1.2.0",
     "model_name": "LayoutModel",
     "state": {
      "_model_module": "@jupyter-widgets/base",
      "_model_module_version": "1.2.0",
      "_model_name": "LayoutModel",
      "_view_count": null,
      "_view_module": "@jupyter-widgets/base",
      "_view_module_version": "1.2.0",
      "_view_name": "LayoutView",
      "align_content": null,
      "align_items": null,
      "align_self": null,
      "border": null,
      "bottom": null,
      "display": null,
      "flex": null,
      "flex_flow": null,
      "grid_area": null,
      "grid_auto_columns": null,
      "grid_auto_flow": null,
      "grid_auto_rows": null,
      "grid_column": null,
      "grid_gap": null,
      "grid_row": null,
      "grid_template_areas": null,
      "grid_template_columns": null,
      "grid_template_rows": null,
      "height": null,
      "justify_content": null,
      "justify_items": null,
      "left": null,
      "margin": null,
      "max_height": null,
      "max_width": null,
      "min_height": null,
      "min_width": null,
      "object_fit": null,
      "object_position": null,
      "order": null,
      "overflow": null,
      "overflow_x": null,
      "overflow_y": null,
      "padding": null,
      "right": null,
      "top": null,
      "visibility": null,
      "width": null
     }
    },
    "32fb9cf5e00d415aa0c9ea9a672b3fb4": {
     "model_module": "@jupyter-widgets/controls",
     "model_module_version": "1.5.0",
     "model_name": "ProgressStyleModel",
     "state": {
      "_model_module": "@jupyter-widgets/controls",
      "_model_module_version": "1.5.0",
      "_model_name": "ProgressStyleModel",
      "_view_count": null,
      "_view_module": "@jupyter-widgets/base",
      "_view_module_version": "1.2.0",
      "_view_name": "StyleView",
      "bar_color": null,
      "description_width": ""
     }
    },
    "3cab46cdf0fd4183a2ba47572785986a": {
     "model_module": "@jupyter-widgets/base",
     "model_module_version": "1.2.0",
     "model_name": "LayoutModel",
     "state": {
      "_model_module": "@jupyter-widgets/base",
      "_model_module_version": "1.2.0",
      "_model_name": "LayoutModel",
      "_view_count": null,
      "_view_module": "@jupyter-widgets/base",
      "_view_module_version": "1.2.0",
      "_view_name": "LayoutView",
      "align_content": null,
      "align_items": null,
      "align_self": null,
      "border": null,
      "bottom": null,
      "display": null,
      "flex": null,
      "flex_flow": null,
      "grid_area": null,
      "grid_auto_columns": null,
      "grid_auto_flow": null,
      "grid_auto_rows": null,
      "grid_column": null,
      "grid_gap": null,
      "grid_row": null,
      "grid_template_areas": null,
      "grid_template_columns": null,
      "grid_template_rows": null,
      "height": null,
      "justify_content": null,
      "justify_items": null,
      "left": null,
      "margin": null,
      "max_height": null,
      "max_width": null,
      "min_height": null,
      "min_width": null,
      "object_fit": null,
      "object_position": null,
      "order": null,
      "overflow": null,
      "overflow_x": null,
      "overflow_y": null,
      "padding": null,
      "right": null,
      "top": null,
      "visibility": null,
      "width": null
     }
    },
    "3d0b529ba26144c2b3be3232da55f6fe": {
     "model_module": "@jupyter-widgets/controls",
     "model_module_version": "1.5.0",
     "model_name": "DescriptionStyleModel",
     "state": {
      "_model_module": "@jupyter-widgets/controls",
      "_model_module_version": "1.5.0",
      "_model_name": "DescriptionStyleModel",
      "_view_count": null,
      "_view_module": "@jupyter-widgets/base",
      "_view_module_version": "1.2.0",
      "_view_name": "StyleView",
      "description_width": ""
     }
    },
    "44dc47704bbc409083e2046de2e99a76": {
     "model_module": "@jupyter-widgets/controls",
     "model_module_version": "1.5.0",
     "model_name": "HBoxModel",
     "state": {
      "_dom_classes": [],
      "_model_module": "@jupyter-widgets/controls",
      "_model_module_version": "1.5.0",
      "_model_name": "HBoxModel",
      "_view_count": null,
      "_view_module": "@jupyter-widgets/controls",
      "_view_module_version": "1.5.0",
      "_view_name": "HBoxView",
      "box_style": "",
      "children": [
       "IPY_MODEL_544c70f87de7454098f6e771786e93c5",
       "IPY_MODEL_fc0514a857a34ae88e40c1edd5b2aeb7",
       "IPY_MODEL_eab28f65581e45f5a48f7fa936896e93"
      ],
      "layout": "IPY_MODEL_2455f8aef5e646de833a510a8beeb5e2"
     }
    },
    "5363f8821be64671a339c60945540cd1": {
     "model_module": "@jupyter-widgets/controls",
     "model_module_version": "1.5.0",
     "model_name": "FloatProgressModel",
     "state": {
      "_dom_classes": [],
      "_model_module": "@jupyter-widgets/controls",
      "_model_module_version": "1.5.0",
      "_model_name": "FloatProgressModel",
      "_view_count": null,
      "_view_module": "@jupyter-widgets/controls",
      "_view_module_version": "1.5.0",
      "_view_name": "ProgressView",
      "bar_style": "success",
      "description": "",
      "description_tooltip": null,
      "layout": "IPY_MODEL_60f7e544a4a349639f0c67a4ebfaa712",
      "max": 612,
      "min": 0,
      "orientation": "horizontal",
      "style": "IPY_MODEL_8337e027820e4ac29bd997ddc5e06f1d",
      "value": 612
     }
    },
    "544c70f87de7454098f6e771786e93c5": {
     "model_module": "@jupyter-widgets/controls",
     "model_module_version": "1.5.0",
     "model_name": "HTMLModel",
     "state": {
      "_dom_classes": [],
      "_model_module": "@jupyter-widgets/controls",
      "_model_module_version": "1.5.0",
      "_model_name": "HTMLModel",
      "_view_count": null,
      "_view_module": "@jupyter-widgets/controls",
      "_view_module_version": "1.5.0",
      "_view_name": "HTMLView",
      "description": "",
      "description_tooltip": null,
      "layout": "IPY_MODEL_9a10dfefd9de40c49fe1c7492f43af75",
      "placeholder": "​",
      "style": "IPY_MODEL_5c25751ef7da44e08d90d4c1ded82e07",
      "value": "pytorch_model.bin: 100%"
     }
    },
    "5504139e389c4244b24ac2e6b747f08a": {
     "model_module": "@jupyter-widgets/controls",
     "model_module_version": "1.5.0",
     "model_name": "HTMLModel",
     "state": {
      "_dom_classes": [],
      "_model_module": "@jupyter-widgets/controls",
      "_model_module_version": "1.5.0",
      "_model_name": "HTMLModel",
      "_view_count": null,
      "_view_module": "@jupyter-widgets/controls",
      "_view_module_version": "1.5.0",
      "_view_name": "HTMLView",
      "description": "",
      "description_tooltip": null,
      "layout": "IPY_MODEL_7e12c3eb2ada4b19ab58aa145983d8fc",
      "placeholder": "​",
      "style": "IPY_MODEL_76f14758d26b42cd9db77e8a5d5abf0b",
      "value": "config.json: 100%"
     }
    },
    "5c25751ef7da44e08d90d4c1ded82e07": {
     "model_module": "@jupyter-widgets/controls",
     "model_module_version": "1.5.0",
     "model_name": "DescriptionStyleModel",
     "state": {
      "_model_module": "@jupyter-widgets/controls",
      "_model_module_version": "1.5.0",
      "_model_name": "DescriptionStyleModel",
      "_view_count": null,
      "_view_module": "@jupyter-widgets/base",
      "_view_module_version": "1.2.0",
      "_view_name": "StyleView",
      "description_width": ""
     }
    },
    "60f7e544a4a349639f0c67a4ebfaa712": {
     "model_module": "@jupyter-widgets/base",
     "model_module_version": "1.2.0",
     "model_name": "LayoutModel",
     "state": {
      "_model_module": "@jupyter-widgets/base",
      "_model_module_version": "1.2.0",
      "_model_name": "LayoutModel",
      "_view_count": null,
      "_view_module": "@jupyter-widgets/base",
      "_view_module_version": "1.2.0",
      "_view_name": "LayoutView",
      "align_content": null,
      "align_items": null,
      "align_self": null,
      "border": null,
      "bottom": null,
      "display": null,
      "flex": null,
      "flex_flow": null,
      "grid_area": null,
      "grid_auto_columns": null,
      "grid_auto_flow": null,
      "grid_auto_rows": null,
      "grid_column": null,
      "grid_gap": null,
      "grid_row": null,
      "grid_template_areas": null,
      "grid_template_columns": null,
      "grid_template_rows": null,
      "height": null,
      "justify_content": null,
      "justify_items": null,
      "left": null,
      "margin": null,
      "max_height": null,
      "max_width": null,
      "min_height": null,
      "min_width": null,
      "object_fit": null,
      "object_position": null,
      "order": null,
      "overflow": null,
      "overflow_x": null,
      "overflow_y": null,
      "padding": null,
      "right": null,
      "top": null,
      "visibility": null,
      "width": null
     }
    },
    "76f14758d26b42cd9db77e8a5d5abf0b": {
     "model_module": "@jupyter-widgets/controls",
     "model_module_version": "1.5.0",
     "model_name": "DescriptionStyleModel",
     "state": {
      "_model_module": "@jupyter-widgets/controls",
      "_model_module_version": "1.5.0",
      "_model_name": "DescriptionStyleModel",
      "_view_count": null,
      "_view_module": "@jupyter-widgets/base",
      "_view_module_version": "1.2.0",
      "_view_name": "StyleView",
      "description_width": ""
     }
    },
    "7e12c3eb2ada4b19ab58aa145983d8fc": {
     "model_module": "@jupyter-widgets/base",
     "model_module_version": "1.2.0",
     "model_name": "LayoutModel",
     "state": {
      "_model_module": "@jupyter-widgets/base",
      "_model_module_version": "1.2.0",
      "_model_name": "LayoutModel",
      "_view_count": null,
      "_view_module": "@jupyter-widgets/base",
      "_view_module_version": "1.2.0",
      "_view_name": "LayoutView",
      "align_content": null,
      "align_items": null,
      "align_self": null,
      "border": null,
      "bottom": null,
      "display": null,
      "flex": null,
      "flex_flow": null,
      "grid_area": null,
      "grid_auto_columns": null,
      "grid_auto_flow": null,
      "grid_auto_rows": null,
      "grid_column": null,
      "grid_gap": null,
      "grid_row": null,
      "grid_template_areas": null,
      "grid_template_columns": null,
      "grid_template_rows": null,
      "height": null,
      "justify_content": null,
      "justify_items": null,
      "left": null,
      "margin": null,
      "max_height": null,
      "max_width": null,
      "min_height": null,
      "min_width": null,
      "object_fit": null,
      "object_position": null,
      "order": null,
      "overflow": null,
      "overflow_x": null,
      "overflow_y": null,
      "padding": null,
      "right": null,
      "top": null,
      "visibility": null,
      "width": null
     }
    },
    "8337e027820e4ac29bd997ddc5e06f1d": {
     "model_module": "@jupyter-widgets/controls",
     "model_module_version": "1.5.0",
     "model_name": "ProgressStyleModel",
     "state": {
      "_model_module": "@jupyter-widgets/controls",
      "_model_module_version": "1.5.0",
      "_model_name": "ProgressStyleModel",
      "_view_count": null,
      "_view_module": "@jupyter-widgets/base",
      "_view_module_version": "1.2.0",
      "_view_name": "StyleView",
      "bar_color": null,
      "description_width": ""
     }
    },
    "9a10dfefd9de40c49fe1c7492f43af75": {
     "model_module": "@jupyter-widgets/base",
     "model_module_version": "1.2.0",
     "model_name": "LayoutModel",
     "state": {
      "_model_module": "@jupyter-widgets/base",
      "_model_module_version": "1.2.0",
      "_model_name": "LayoutModel",
      "_view_count": null,
      "_view_module": "@jupyter-widgets/base",
      "_view_module_version": "1.2.0",
      "_view_name": "LayoutView",
      "align_content": null,
      "align_items": null,
      "align_self": null,
      "border": null,
      "bottom": null,
      "display": null,
      "flex": null,
      "flex_flow": null,
      "grid_area": null,
      "grid_auto_columns": null,
      "grid_auto_flow": null,
      "grid_auto_rows": null,
      "grid_column": null,
      "grid_gap": null,
      "grid_row": null,
      "grid_template_areas": null,
      "grid_template_columns": null,
      "grid_template_rows": null,
      "height": null,
      "justify_content": null,
      "justify_items": null,
      "left": null,
      "margin": null,
      "max_height": null,
      "max_width": null,
      "min_height": null,
      "min_width": null,
      "object_fit": null,
      "object_position": null,
      "order": null,
      "overflow": null,
      "overflow_x": null,
      "overflow_y": null,
      "padding": null,
      "right": null,
      "top": null,
      "visibility": null,
      "width": null
     }
    },
    "b89c261533f54957848fd88069524e16": {
     "model_module": "@jupyter-widgets/controls",
     "model_module_version": "1.5.0",
     "model_name": "HBoxModel",
     "state": {
      "_dom_classes": [],
      "_model_module": "@jupyter-widgets/controls",
      "_model_module_version": "1.5.0",
      "_model_name": "HBoxModel",
      "_view_count": null,
      "_view_module": "@jupyter-widgets/controls",
      "_view_module_version": "1.5.0",
      "_view_name": "HBoxView",
      "box_style": "",
      "children": [
       "IPY_MODEL_5504139e389c4244b24ac2e6b747f08a",
       "IPY_MODEL_5363f8821be64671a339c60945540cd1",
       "IPY_MODEL_f1c39c68b12d4356aba3176fd7e03cdd"
      ],
      "layout": "IPY_MODEL_e2fe69ec11224fb68d800487cf066899"
     }
    },
    "e2fe69ec11224fb68d800487cf066899": {
     "model_module": "@jupyter-widgets/base",
     "model_module_version": "1.2.0",
     "model_name": "LayoutModel",
     "state": {
      "_model_module": "@jupyter-widgets/base",
      "_model_module_version": "1.2.0",
      "_model_name": "LayoutModel",
      "_view_count": null,
      "_view_module": "@jupyter-widgets/base",
      "_view_module_version": "1.2.0",
      "_view_name": "LayoutView",
      "align_content": null,
      "align_items": null,
      "align_self": null,
      "border": null,
      "bottom": null,
      "display": null,
      "flex": null,
      "flex_flow": null,
      "grid_area": null,
      "grid_auto_columns": null,
      "grid_auto_flow": null,
      "grid_auto_rows": null,
      "grid_column": null,
      "grid_gap": null,
      "grid_row": null,
      "grid_template_areas": null,
      "grid_template_columns": null,
      "grid_template_rows": null,
      "height": null,
      "justify_content": null,
      "justify_items": null,
      "left": null,
      "margin": null,
      "max_height": null,
      "max_width": null,
      "min_height": null,
      "min_width": null,
      "object_fit": null,
      "object_position": null,
      "order": null,
      "overflow": null,
      "overflow_x": null,
      "overflow_y": null,
      "padding": null,
      "right": null,
      "top": null,
      "visibility": null,
      "width": null
     }
    },
    "eab28f65581e45f5a48f7fa936896e93": {
     "model_module": "@jupyter-widgets/controls",
     "model_module_version": "1.5.0",
     "model_name": "HTMLModel",
     "state": {
      "_dom_classes": [],
      "_model_module": "@jupyter-widgets/controls",
      "_model_module_version": "1.5.0",
      "_model_name": "HTMLModel",
      "_view_count": null,
      "_view_module": "@jupyter-widgets/controls",
      "_view_module_version": "1.5.0",
      "_view_name": "HTMLView",
      "description": "",
      "description_tooltip": null,
      "layout": "IPY_MODEL_fc0ec2b2bed74ab1b8a042118ee28265",
      "placeholder": "​",
      "style": "IPY_MODEL_164ba92c85294f9eb40585b24d817fe6",
      "value": " 409M/409M [00:21&lt;00:00, 19.5MB/s]"
     }
    },
    "f1c39c68b12d4356aba3176fd7e03cdd": {
     "model_module": "@jupyter-widgets/controls",
     "model_module_version": "1.5.0",
     "model_name": "HTMLModel",
     "state": {
      "_dom_classes": [],
      "_model_module": "@jupyter-widgets/controls",
      "_model_module_version": "1.5.0",
      "_model_name": "HTMLModel",
      "_view_count": null,
      "_view_module": "@jupyter-widgets/controls",
      "_view_module_version": "1.5.0",
      "_view_name": "HTMLView",
      "description": "",
      "description_tooltip": null,
      "layout": "IPY_MODEL_3cab46cdf0fd4183a2ba47572785986a",
      "placeholder": "​",
      "style": "IPY_MODEL_3d0b529ba26144c2b3be3232da55f6fe",
      "value": " 612/612 [00:00&lt;00:00, 13.8kB/s]"
     }
    },
    "fc0514a857a34ae88e40c1edd5b2aeb7": {
     "model_module": "@jupyter-widgets/controls",
     "model_module_version": "1.5.0",
     "model_name": "FloatProgressModel",
     "state": {
      "_dom_classes": [],
      "_model_module": "@jupyter-widgets/controls",
      "_model_module_version": "1.5.0",
      "_model_name": "FloatProgressModel",
      "_view_count": null,
      "_view_module": "@jupyter-widgets/controls",
      "_view_module_version": "1.5.0",
      "_view_name": "ProgressView",
      "bar_style": "success",
      "description": "",
      "description_tooltip": null,
      "layout": "IPY_MODEL_242e8b9da8754bb3a5c54918baf53ec3",
      "max": 409162879,
      "min": 0,
      "orientation": "horizontal",
      "style": "IPY_MODEL_32fb9cf5e00d415aa0c9ea9a672b3fb4",
      "value": 409162879
     }
    },
    "fc0ec2b2bed74ab1b8a042118ee28265": {
     "model_module": "@jupyter-widgets/base",
     "model_module_version": "1.2.0",
     "model_name": "LayoutModel",
     "state": {
      "_model_module": "@jupyter-widgets/base",
      "_model_module_version": "1.2.0",
      "_model_name": "LayoutModel",
      "_view_count": null,
      "_view_module": "@jupyter-widgets/base",
      "_view_module_version": "1.2.0",
      "_view_name": "LayoutView",
      "align_content": null,
      "align_items": null,
      "align_self": null,
      "border": null,
      "bottom": null,
      "display": null,
      "flex": null,
      "flex_flow": null,
      "grid_area": null,
      "grid_auto_columns": null,
      "grid_auto_flow": null,
      "grid_auto_rows": null,
      "grid_column": null,
      "grid_gap": null,
      "grid_row": null,
      "grid_template_areas": null,
      "grid_template_columns": null,
      "grid_template_rows": null,
      "height": null,
      "justify_content": null,
      "justify_items": null,
      "left": null,
      "margin": null,
      "max_height": null,
      "max_width": null,
      "min_height": null,
      "min_width": null,
      "object_fit": null,
      "object_position": null,
      "order": null,
      "overflow": null,
      "overflow_x": null,
      "overflow_y": null,
      "padding": null,
      "right": null,
      "top": null,
      "visibility": null,
      "width": null
     }
    }
   }
  }
 },
 "nbformat": 4,
 "nbformat_minor": 0
}
