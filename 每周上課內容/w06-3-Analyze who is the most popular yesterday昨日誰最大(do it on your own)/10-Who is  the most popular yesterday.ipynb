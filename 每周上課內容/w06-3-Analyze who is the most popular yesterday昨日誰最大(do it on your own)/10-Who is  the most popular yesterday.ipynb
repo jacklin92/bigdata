{
 "cells": [
  {
   "cell_type": "markdown",
   "metadata": {
    "collapsed": true
   },
   "source": [
    "# Count top 5 persons via NER\n",
    "\n",
    "We want to display yesterday's top persons.\n"
   ]
  },
  {
   "cell_type": "markdown",
   "metadata": {},
   "source": [
    "# Read data"
   ]
  },
  {
   "cell_type": "code",
   "execution_count": 1,
   "metadata": {},
   "outputs": [],
   "source": [
    "import pandas as pd"
   ]
  },
  {
   "cell_type": "code",
   "execution_count": 2,
   "metadata": {},
   "outputs": [],
   "source": [
    "df = pd.read_csv('cna_news_preprocessed.csv',sep='|')"
   ]
  },
  {
   "cell_type": "code",
   "execution_count": 3,
   "metadata": {},
   "outputs": [
    {
     "data": {
      "text/html": [
       "<div>\n",
       "<style scoped>\n",
       "    .dataframe tbody tr th:only-of-type {\n",
       "        vertical-align: middle;\n",
       "    }\n",
       "\n",
       "    .dataframe tbody tr th {\n",
       "        vertical-align: top;\n",
       "    }\n",
       "\n",
       "    .dataframe thead th {\n",
       "        text-align: right;\n",
       "    }\n",
       "</style>\n",
       "<table border=\"1\" class=\"dataframe\">\n",
       "  <thead>\n",
       "    <tr style=\"text-align: right;\">\n",
       "      <th></th>\n",
       "      <th>item_id</th>\n",
       "      <th>date</th>\n",
       "      <th>category</th>\n",
       "      <th>title</th>\n",
       "      <th>content</th>\n",
       "      <th>sentiment</th>\n",
       "      <th>summary</th>\n",
       "      <th>top_key_freq</th>\n",
       "      <th>tokens</th>\n",
       "      <th>tokens_v2</th>\n",
       "      <th>entities</th>\n",
       "      <th>token_pos</th>\n",
       "      <th>link</th>\n",
       "      <th>photo_link</th>\n",
       "    </tr>\n",
       "  </thead>\n",
       "  <tbody>\n",
       "    <tr>\n",
       "      <th>0</th>\n",
       "      <td>aipl_20220314_1</td>\n",
       "      <td>2022-03-14</td>\n",
       "      <td>政治</td>\n",
       "      <td>外交部援烏物資已募4000箱 吳釗燮感謝捐贈民眾</td>\n",
       "      <td>民眾捐贈烏克蘭的愛心物資持續湧入外交部，截至今天傍晚累計已收到約4000箱，外交部長吳釗燮中...</td>\n",
       "      <td>0.01</td>\n",
       "      <td>['外交部除感謝熱心民眾踴躍捐贈援助烏克蘭人道物資外', '親赴外交部捐贈物資的民眾約173...</td>\n",
       "      <td>[('外交部', 14), ('民眾', 7), ('物資', 7), ('烏克蘭', 5)...</td>\n",
       "      <td>['民眾', '捐贈', '烏克蘭', '的', '愛心', '物資', '持續', '湧入...</td>\n",
       "      <td>['民眾', '烏克蘭', '愛心', '物資', '外交部', '收到', '外交部長',...</td>\n",
       "      <td>[NerToken(word='烏克蘭', ner='GPE', idx=(4, 7)), ...</td>\n",
       "      <td>[('民眾', 'Na'), ('捐贈', 'VD'), ('烏克蘭', 'Nc'), ('...</td>\n",
       "      <td>https://www.cna.com.tw/news/aipl/202203140364....</td>\n",
       "      <td>https://imgcdn.cna.com.tw/www/WebPhotos/200/20...</td>\n",
       "    </tr>\n",
       "  </tbody>\n",
       "</table>\n",
       "</div>"
      ],
      "text/plain": [
       "           item_id        date category                     title  \\\n",
       "0  aipl_20220314_1  2022-03-14       政治  外交部援烏物資已募4000箱 吳釗燮感謝捐贈民眾   \n",
       "\n",
       "                                             content  sentiment  \\\n",
       "0  民眾捐贈烏克蘭的愛心物資持續湧入外交部，截至今天傍晚累計已收到約4000箱，外交部長吳釗燮中...       0.01   \n",
       "\n",
       "                                             summary  \\\n",
       "0  ['外交部除感謝熱心民眾踴躍捐贈援助烏克蘭人道物資外', '親赴外交部捐贈物資的民眾約173...   \n",
       "\n",
       "                                        top_key_freq  \\\n",
       "0  [('外交部', 14), ('民眾', 7), ('物資', 7), ('烏克蘭', 5)...   \n",
       "\n",
       "                                              tokens  \\\n",
       "0  ['民眾', '捐贈', '烏克蘭', '的', '愛心', '物資', '持續', '湧入...   \n",
       "\n",
       "                                           tokens_v2  \\\n",
       "0  ['民眾', '烏克蘭', '愛心', '物資', '外交部', '收到', '外交部長',...   \n",
       "\n",
       "                                            entities  \\\n",
       "0  [NerToken(word='烏克蘭', ner='GPE', idx=(4, 7)), ...   \n",
       "\n",
       "                                           token_pos  \\\n",
       "0  [('民眾', 'Na'), ('捐贈', 'VD'), ('烏克蘭', 'Nc'), ('...   \n",
       "\n",
       "                                                link  \\\n",
       "0  https://www.cna.com.tw/news/aipl/202203140364....   \n",
       "\n",
       "                                          photo_link  \n",
       "0  https://imgcdn.cna.com.tw/www/WebPhotos/200/20...  "
      ]
     },
     "execution_count": 3,
     "metadata": {},
     "output_type": "execute_result"
    }
   ],
   "source": [
    "df.head(1)"
   ]
  },
  {
   "cell_type": "code",
   "execution_count": null,
   "metadata": {},
   "outputs": [],
   "source": []
  },
  {
   "cell_type": "raw",
   "metadata": {},
   "source": [
    "\n",
    "Name\tDescription\n",
    "CARDINAL\t數字\n",
    "DATE\t日期\n",
    "EVENT\t事件\n",
    "FAC\t設施\n",
    "GPE\t行政區\n",
    "LANGUAGE\t語言\n",
    "LAW\t法律\n",
    "LOC\t地理區\n",
    "MONEY\t金錢\n",
    "NORP\t民族、宗教、政治團體\n",
    "ORDINAL\t序數\n",
    "ORG\t組織\n",
    "PERCENT\t百分比率\n",
    "PERSON\t人物\n",
    "PRODUCT\t產品\n",
    "QUANTITY\t數量\n",
    "TIME\t時間\n",
    "WORK_OF_ART\t作品"
   ]
  },
  {
   "cell_type": "code",
   "execution_count": 4,
   "metadata": {},
   "outputs": [
    {
     "data": {
      "text/plain": [
       "\"[NerToken(word='烏克蘭', ner='GPE', idx=(4, 7)), NerToken(word='外交部', ner='ORG', idx=(16, 19)), NerToken(word='傍晚', ner='TIME', idx=(24, 26)), NerToken(word='4000', ner='CARDINAL', idx=(32, 36)), NerToken(word='外交部長', ner='ORG', idx=(38, 42)), NerToken(word='吳釗燮', ner='PERSON', idx=(42, 45)), NerToken(word='中午', ner='TIME', idx=(45, 47)), NerToken(word='外交部', ner='ORG', idx=(76, 79)), NerToken(word='晚間', ner='TIME', idx=(79, 81)), NerToken(word='外交部', ner='ORG', idx=(89, 92)), NerToken(word='7日', ner='DATE', idx=(93, 95)), NerToken(word='烏克蘭', ner='NORP', idx=(104, 107)), NerToken(word='外交部', ner='ORG', idx=(122, 125)), NerToken(word='1730', ner='CARDINAL', idx=(133, 137)), NerToken(word='4000', ner='CARDINAL', idx=(152, 156)), NerToken(word='18日', ner='DATE', idx=(195, 198)), NerToken(word='外交部', ner='ORG', idx=(199, 202)), NerToken(word='外交部', ner='ORG', idx=(228, 231)), NerToken(word='吳釗燮', ner='PERSON', idx=(234, 237)), NerToken(word='今天', ner='DATE', idx=(237, 239)), NerToken(word='中午', ner='TIME', idx=(239, 241)), NerToken(word='外交部', ner='ORG', idx=(245, 248)), NerToken(word='吳釗燮', ner='PERSON', idx=(259, 262)), NerToken(word='慈濟', ner='ORG', idx=(266, 268)), NerToken(word='烏克蘭', ner='NORP', idx=(302, 305)), NerToken(word='吳釗燮', ner='PERSON', idx=(321, 324)), NerToken(word='外交部', ner='ORG', idx=(333, 336)), NerToken(word='烏克蘭', ner='NORP', idx=(347, 350)), NerToken(word='外交部', ner='ORG', idx=(367, 370)), NerToken(word='外交部', ner='ORG', idx=(391, 394)), NerToken(word='外交部', ner='ORG', idx=(422, 425)), NerToken(word='6個月', ner='DATE', idx=(449, 452)), NerToken(word='3月18日', ner='DATE', idx=(479, 484)), NerToken(word='下午', ner='TIME', idx=(484, 486)), NerToken(word='5時', ner='TIME', idx=(486, 488)), NerToken(word='20', ner='CARDINAL', idx=(506, 508)), NerToken(word='外交部', ner='ORG', idx=(520, 523)), NerToken(word='外交部', ner='ORG', idx=(524, 527)), NerToken(word='烏克蘭', ner='NORP', idx=(540, 543)), NerToken(word='外交部', ner='ORG', idx=(566, 569))]\""
      ]
     },
     "execution_count": 4,
     "metadata": {},
     "output_type": "execute_result"
    }
   ],
   "source": [
    "# Take a look at the named entities of the first news \n",
    "df.entities[0]"
   ]
  },
  {
   "cell_type": "code",
   "execution_count": 5,
   "metadata": {},
   "outputs": [],
   "source": [
    "# NerToken(word='烏克蘭', ner='GPE', idx=(4, 7))  # call function NerToken with three parameters: word, ner, and idx\n",
    "def NerToken(word, ner, idx):\n",
    "    # print(ner,word)\n",
    "    return ner,word\n"
   ]
  },
  {
   "cell_type": "code",
   "execution_count": 6,
   "metadata": {},
   "outputs": [
    {
     "data": {
      "text/plain": [
       "('GPE', '烏克蘭')"
      ]
     },
     "execution_count": 6,
     "metadata": {},
     "output_type": "execute_result"
    }
   ],
   "source": [
    "# call function NerToken with three parameters: word, ner, and idx\n",
    "NerToken(word='烏克蘭', ner='GPE', idx=(4, 7))"
   ]
  },
  {
   "cell_type": "code",
   "execution_count": 7,
   "metadata": {},
   "outputs": [
    {
     "data": {
      "text/plain": [
       "[('GPE', '烏克蘭'),\n",
       " ('ORG', '外交部'),\n",
       " ('TIME', '傍晚'),\n",
       " ('CARDINAL', '4000'),\n",
       " ('ORG', '外交部長'),\n",
       " ('PERSON', '吳釗燮'),\n",
       " ('TIME', '中午'),\n",
       " ('ORG', '外交部'),\n",
       " ('TIME', '晚間'),\n",
       " ('ORG', '外交部'),\n",
       " ('DATE', '7日'),\n",
       " ('NORP', '烏克蘭'),\n",
       " ('ORG', '外交部'),\n",
       " ('CARDINAL', '1730'),\n",
       " ('CARDINAL', '4000'),\n",
       " ('DATE', '18日'),\n",
       " ('ORG', '外交部'),\n",
       " ('ORG', '外交部'),\n",
       " ('PERSON', '吳釗燮'),\n",
       " ('DATE', '今天'),\n",
       " ('TIME', '中午'),\n",
       " ('ORG', '外交部'),\n",
       " ('PERSON', '吳釗燮'),\n",
       " ('ORG', '慈濟'),\n",
       " ('NORP', '烏克蘭'),\n",
       " ('PERSON', '吳釗燮'),\n",
       " ('ORG', '外交部'),\n",
       " ('NORP', '烏克蘭'),\n",
       " ('ORG', '外交部'),\n",
       " ('ORG', '外交部'),\n",
       " ('ORG', '外交部'),\n",
       " ('DATE', '6個月'),\n",
       " ('DATE', '3月18日'),\n",
       " ('TIME', '下午'),\n",
       " ('TIME', '5時'),\n",
       " ('CARDINAL', '20'),\n",
       " ('ORG', '外交部'),\n",
       " ('ORG', '外交部'),\n",
       " ('NORP', '烏克蘭'),\n",
       " ('ORG', '外交部')]"
      ]
     },
     "execution_count": 7,
     "metadata": {},
     "output_type": "execute_result"
    }
   ],
   "source": [
    "eval(df.entities[0])"
   ]
  },
  {
   "cell_type": "code",
   "execution_count": null,
   "metadata": {},
   "outputs": [],
   "source": []
  },
  {
   "cell_type": "code",
   "execution_count": 8,
   "metadata": {},
   "outputs": [
    {
     "name": "stdout",
     "output_type": "stream",
     "text": [
      "GPE 烏克蘭\n",
      "ORG 外交部\n",
      "TIME 傍晚\n",
      "CARDINAL 4000\n",
      "ORG 外交部長\n",
      "PERSON 吳釗燮\n",
      "TIME 中午\n",
      "ORG 外交部\n",
      "TIME 晚間\n",
      "ORG 外交部\n",
      "DATE 7日\n",
      "NORP 烏克蘭\n",
      "ORG 外交部\n",
      "CARDINAL 1730\n",
      "CARDINAL 4000\n",
      "DATE 18日\n",
      "ORG 外交部\n",
      "ORG 外交部\n",
      "PERSON 吳釗燮\n",
      "DATE 今天\n",
      "TIME 中午\n",
      "ORG 外交部\n",
      "PERSON 吳釗燮\n",
      "ORG 慈濟\n",
      "NORP 烏克蘭\n",
      "PERSON 吳釗燮\n",
      "ORG 外交部\n",
      "NORP 烏克蘭\n",
      "ORG 外交部\n",
      "ORG 外交部\n",
      "ORG 外交部\n",
      "DATE 6個月\n",
      "DATE 3月18日\n",
      "TIME 下午\n",
      "TIME 5時\n",
      "CARDINAL 20\n",
      "ORG 外交部\n",
      "ORG 外交部\n",
      "NORP 烏克蘭\n",
      "ORG 外交部\n"
     ]
    }
   ],
   "source": [
    "# We need the name and keyword\n",
    "for ner,key in eval(df.entities[0]):\n",
    "    print(ner,key)"
   ]
  },
  {
   "cell_type": "code",
   "execution_count": null,
   "metadata": {},
   "outputs": [],
   "source": []
  },
  {
   "cell_type": "code",
   "execution_count": 9,
   "metadata": {},
   "outputs": [],
   "source": [
    "from collections import Counter"
   ]
  },
  {
   "cell_type": "code",
   "execution_count": 10,
   "metadata": {},
   "outputs": [],
   "source": [
    "import pandas as pd\n",
    "from datetime import datetime, timedelta"
   ]
  },
  {
   "cell_type": "code",
   "execution_count": null,
   "metadata": {},
   "outputs": [],
   "source": []
  },
  {
   "cell_type": "markdown",
   "metadata": {},
   "source": [
    "# Find top persons for a cerain day or for a period of time\n",
    "\n",
    "    Why do we do this? \n",
    "    \n",
    "    For example, find yesterday's top keywords.昨日熱門 某日熱門 某周熱門 某月熱門\n",
    "\n",
    "    The format of \"date\" column here is string.\n",
    "\n",
    "    If it is datetime format, you should use datetime format such as datetime.date(2019,9,23)\n",
    "\n",
    "    df.query(\"date == '2020-03-14'\")\n",
    "\n",
    "    For a time period, we should calcalate the time period that is greater than the start date and less than the end date.\n",
    "\n",
    "    start_date = (datetime.strptime(end_date, '%Y-%m-%d').date() - timedelta(days=1)).strftime('%Y-%m-%d') # 昨日誰最大\n",
    "    start_date = (datetime.strptime(end_date, '%Y-%m-%d').date() - timedelta(days=7)).strftime('%Y-%m-%d') # 上週誰最大\n"
   ]
  },
  {
   "cell_type": "code",
   "execution_count": 11,
   "metadata": {},
   "outputs": [
    {
     "data": {
      "text/plain": [
       "'2022-03-14'"
      ]
     },
     "execution_count": 11,
     "metadata": {},
     "output_type": "execute_result"
    }
   ],
   "source": [
    "# maximum date time\n",
    "df.date.max()"
   ]
  },
  {
   "cell_type": "code",
   "execution_count": 12,
   "metadata": {},
   "outputs": [
    {
     "data": {
      "text/plain": [
       "'2022-03-03'"
      ]
     },
     "execution_count": 12,
     "metadata": {},
     "output_type": "execute_result"
    }
   ],
   "source": [
    "# minimum date time\n",
    "df.date.min()"
   ]
  },
  {
   "cell_type": "code",
   "execution_count": null,
   "metadata": {},
   "outputs": [],
   "source": []
  },
  {
   "cell_type": "markdown",
   "metadata": {},
   "source": [
    "## Filter news"
   ]
  },
  {
   "cell_type": "code",
   "execution_count": 13,
   "metadata": {},
   "outputs": [],
   "source": [
    "# Appraoch 1: Filter by time duration\n",
    "# end date: the date of the latest record of news\n",
    "end_date = df.date.max()\n",
    "# start date\n",
    "start_date = (datetime.strptime(end_date, '%Y-%m-%d').date() - timedelta(days=1)).strftime('%Y-%m-%d') # 昨日誰最大\n",
    "#start_date = (datetime.strptime(end_date, '%Y-%m-%d').date() - timedelta(days=7)).strftime('%Y-%m-%d') # 上週誰最大\n",
    "# Filter news\n",
    "query_df = df[(df.date >= start_date) & (df.date <= end_date)] "
   ]
  },
  {
   "cell_type": "code",
   "execution_count": 14,
   "metadata": {},
   "outputs": [],
   "source": [
    "# Approch 2:\n",
    "# query_df = df[df['date'] == end_date]\n",
    "# query_df = df[df['date'] == '2020-03-14']"
   ]
  },
  {
   "cell_type": "code",
   "execution_count": 15,
   "metadata": {},
   "outputs": [
    {
     "data": {
      "text/plain": [
       "(189, 14)"
      ]
     },
     "execution_count": 15,
     "metadata": {},
     "output_type": "execute_result"
    }
   ],
   "source": [
    "query_df.shape"
   ]
  },
  {
   "cell_type": "code",
   "execution_count": 16,
   "metadata": {},
   "outputs": [],
   "source": [
    "# Filter condition: two words and specified NE\n",
    "# 過濾條件:兩個字以上 特定的詞性\n",
    "allowedNE=['PERSON']"
   ]
  },
  {
   "cell_type": "code",
   "execution_count": 17,
   "metadata": {},
   "outputs": [],
   "source": [
    "filtered_words =[]\n",
    "for ner,word in eval(query_df.entities[0]):\n",
    "    if (len(word) >= 2) & (ner in allowedNE):\n",
    "        filtered_words.append(word)"
   ]
  },
  {
   "cell_type": "code",
   "execution_count": 18,
   "metadata": {},
   "outputs": [
    {
     "data": {
      "text/plain": [
       "['吳釗燮', '吳釗燮', '吳釗燮', '吳釗燮']"
      ]
     },
     "execution_count": 18,
     "metadata": {},
     "output_type": "execute_result"
    }
   ],
   "source": [
    "filtered_words"
   ]
  },
  {
   "cell_type": "code",
   "execution_count": 19,
   "metadata": {},
   "outputs": [
    {
     "data": {
      "text/plain": [
       "[('吳釗燮', 4)]"
      ]
     },
     "execution_count": 19,
     "metadata": {},
     "output_type": "execute_result"
    }
   ],
   "source": [
    "counter = Counter( filtered_words )\n",
    "counter.most_common( 5 )"
   ]
  },
  {
   "cell_type": "code",
   "execution_count": null,
   "metadata": {},
   "outputs": [],
   "source": []
  },
  {
   "cell_type": "markdown",
   "metadata": {},
   "source": [
    "# Define a function to count top 5 persons for a piece of news"
   ]
  },
  {
   "cell_type": "code",
   "execution_count": 20,
   "metadata": {},
   "outputs": [],
   "source": [
    "def ne_word_frequency( a_news_ne ):\n",
    "    filtered_words =[]\n",
    "    for ner,word in a_news_ne:\n",
    "        if (len(word) >= 2) & (ner in allowedNE):\n",
    "            filtered_words.append(word)\n",
    "    counter = Counter( filtered_words )\n",
    "    return counter.most_common( 5 )"
   ]
  },
  {
   "cell_type": "code",
   "execution_count": 21,
   "metadata": {
    "scrolled": true
   },
   "outputs": [
    {
     "data": {
      "text/plain": [
       "[('吳釗燮', 4)]"
      ]
     },
     "execution_count": 21,
     "metadata": {},
     "output_type": "execute_result"
    }
   ],
   "source": [
    "ne_word_frequency(eval(df.entities[0]))"
   ]
  },
  {
   "cell_type": "code",
   "execution_count": 22,
   "metadata": {
    "scrolled": true
   },
   "outputs": [
    {
     "data": {
      "text/plain": [
       "[('許邁德', 2), ('黃重凱', 1), ('柳惠千', 1), ('朱冠甍', 1)]"
      ]
     },
     "execution_count": 22,
     "metadata": {},
     "output_type": "execute_result"
    }
   ],
   "source": [
    "ne_word_frequency(eval(df.entities[1]))"
   ]
  },
  {
   "cell_type": "code",
   "execution_count": null,
   "metadata": {},
   "outputs": [],
   "source": []
  },
  {
   "cell_type": "markdown",
   "metadata": {},
   "source": [
    "## How to calculate frequency a couple of news?\n",
    "### Concatenate (add or combine) two lists"
   ]
  },
  {
   "cell_type": "code",
   "execution_count": 23,
   "metadata": {},
   "outputs": [],
   "source": [
    "# Let's define a empty list to store NEs of a news category\n",
    "ne_group=[]"
   ]
  },
  {
   "cell_type": "code",
   "execution_count": 24,
   "metadata": {},
   "outputs": [],
   "source": [
    "# concatenate the first NE list\n",
    "ne_group+=eval(query_df.entities[0]) "
   ]
  },
  {
   "cell_type": "code",
   "execution_count": 25,
   "metadata": {},
   "outputs": [
    {
     "data": {
      "text/plain": [
       "[('GPE', '烏克蘭'),\n",
       " ('ORG', '外交部'),\n",
       " ('TIME', '傍晚'),\n",
       " ('CARDINAL', '4000'),\n",
       " ('ORG', '外交部長'),\n",
       " ('PERSON', '吳釗燮'),\n",
       " ('TIME', '中午'),\n",
       " ('ORG', '外交部'),\n",
       " ('TIME', '晚間'),\n",
       " ('ORG', '外交部'),\n",
       " ('DATE', '7日'),\n",
       " ('NORP', '烏克蘭'),\n",
       " ('ORG', '外交部'),\n",
       " ('CARDINAL', '1730'),\n",
       " ('CARDINAL', '4000'),\n",
       " ('DATE', '18日'),\n",
       " ('ORG', '外交部'),\n",
       " ('ORG', '外交部'),\n",
       " ('PERSON', '吳釗燮'),\n",
       " ('DATE', '今天'),\n",
       " ('TIME', '中午'),\n",
       " ('ORG', '外交部'),\n",
       " ('PERSON', '吳釗燮'),\n",
       " ('ORG', '慈濟'),\n",
       " ('NORP', '烏克蘭'),\n",
       " ('PERSON', '吳釗燮'),\n",
       " ('ORG', '外交部'),\n",
       " ('NORP', '烏克蘭'),\n",
       " ('ORG', '外交部'),\n",
       " ('ORG', '外交部'),\n",
       " ('ORG', '外交部'),\n",
       " ('DATE', '6個月'),\n",
       " ('DATE', '3月18日'),\n",
       " ('TIME', '下午'),\n",
       " ('TIME', '5時'),\n",
       " ('CARDINAL', '20'),\n",
       " ('ORG', '外交部'),\n",
       " ('ORG', '外交部'),\n",
       " ('NORP', '烏克蘭'),\n",
       " ('ORG', '外交部')]"
      ]
     },
     "execution_count": 25,
     "metadata": {},
     "output_type": "execute_result"
    }
   ],
   "source": [
    "ne_group"
   ]
  },
  {
   "cell_type": "code",
   "execution_count": 26,
   "metadata": {},
   "outputs": [],
   "source": [
    "# concatenate the second NE list\n",
    "ne_group += eval(query_df.entities[1]) "
   ]
  },
  {
   "cell_type": "code",
   "execution_count": 27,
   "metadata": {},
   "outputs": [
    {
     "data": {
      "text/plain": [
       "[('GPE', '烏克蘭'),\n",
       " ('ORG', '外交部'),\n",
       " ('TIME', '傍晚'),\n",
       " ('CARDINAL', '4000'),\n",
       " ('ORG', '外交部長'),\n",
       " ('PERSON', '吳釗燮'),\n",
       " ('TIME', '中午'),\n",
       " ('ORG', '外交部'),\n",
       " ('TIME', '晚間'),\n",
       " ('ORG', '外交部'),\n",
       " ('DATE', '7日'),\n",
       " ('NORP', '烏克蘭'),\n",
       " ('ORG', '外交部'),\n",
       " ('CARDINAL', '1730'),\n",
       " ('CARDINAL', '4000'),\n",
       " ('DATE', '18日'),\n",
       " ('ORG', '外交部'),\n",
       " ('ORG', '外交部'),\n",
       " ('PERSON', '吳釗燮'),\n",
       " ('DATE', '今天'),\n",
       " ('TIME', '中午'),\n",
       " ('ORG', '外交部'),\n",
       " ('PERSON', '吳釗燮'),\n",
       " ('ORG', '慈濟'),\n",
       " ('NORP', '烏克蘭'),\n",
       " ('PERSON', '吳釗燮'),\n",
       " ('ORG', '外交部'),\n",
       " ('NORP', '烏克蘭'),\n",
       " ('ORG', '外交部'),\n",
       " ('ORG', '外交部'),\n",
       " ('ORG', '外交部'),\n",
       " ('DATE', '6個月'),\n",
       " ('DATE', '3月18日'),\n",
       " ('TIME', '下午'),\n",
       " ('TIME', '5時'),\n",
       " ('CARDINAL', '20'),\n",
       " ('ORG', '外交部'),\n",
       " ('ORG', '外交部'),\n",
       " ('NORP', '烏克蘭'),\n",
       " ('ORG', '外交部'),\n",
       " ('DATE', '今天'),\n",
       " ('QUANTITY', '2000呎'),\n",
       " ('FAC', '新竹空軍基地'),\n",
       " ('CARDINAL', '2000'),\n",
       " ('TIME', '上午'),\n",
       " ('GPE', '台東'),\n",
       " ('PERSON', '黃重凱'),\n",
       " ('PERSON', '柳惠千'),\n",
       " ('TIME', '下午'),\n",
       " ('QUANTITY', '2000呎'),\n",
       " ('QUANTITY', '2000呎'),\n",
       " ('PERSON', '朱冠甍'),\n",
       " ('DATE', '民國109年'),\n",
       " ('PERSON', '許邁德'),\n",
       " ('GPE', '英國'),\n",
       " ('GPE', '美國'),\n",
       " ('PERSON', '許邁德'),\n",
       " ('QUANTITY', '1500呎'),\n",
       " ('QUANTITY', '150浬')]"
      ]
     },
     "execution_count": 27,
     "metadata": {},
     "output_type": "execute_result"
    }
   ],
   "source": [
    "ne_group"
   ]
  },
  {
   "cell_type": "code",
   "execution_count": null,
   "metadata": {},
   "outputs": [],
   "source": []
  },
  {
   "cell_type": "code",
   "execution_count": null,
   "metadata": {},
   "outputs": [],
   "source": []
  },
  {
   "cell_type": "markdown",
   "metadata": {},
   "source": [
    "# Count top 5 persons for each category"
   ]
  },
  {
   "cell_type": "code",
   "execution_count": 28,
   "metadata": {},
   "outputs": [],
   "source": [
    "news_categories=['政治','科技','運動','證卷','產經','娛樂','生活','國際','社會','文化','兩岸']"
   ]
  },
  {
   "cell_type": "code",
   "execution_count": 29,
   "metadata": {},
   "outputs": [],
   "source": [
    "\n",
    "# The categorial word freqencies are keep in this dict. \n",
    "top_cate_ne_words={}\n",
    "\n",
    "# Define a empty list to store all NEs in all categories \"全部\"\n",
    "ne_all=[]\n",
    "\n",
    "for category in news_categories:\n",
    "    \n",
    "    df_group = query_df[query_df.category == category]\n",
    "    \n",
    "    # Define a empty list to store NEs of a news category\n",
    "    ne_group = []\n",
    "\n",
    "    # concatenate all NEs in a category\n",
    "    for ne in df_group.entities:\n",
    "        ne_group += eval(ne)\n",
    "\n",
    "    # concatenate all NEs for category \"全部\" (合併全部的詞不分類別)\n",
    "    ne_all += ne_group\n",
    "\n",
    "    # Calculate top words by calling ne_word_frequency() function\n",
    "    topwords = ne_word_frequency( ne_group )\n",
    "    \n",
    "    # Keep topwords into dict\n",
    "    top_cate_ne_words[category]=topwords\n",
    "\n",
    "# Calculate top words for category '全部'\n",
    "top_ne_all = ne_word_frequency(ne_all)\n",
    "# Add topwors of category '全部' into dict\n",
    "top_cate_ne_words['全部']=top_ne_all"
   ]
  },
  {
   "cell_type": "code",
   "execution_count": 30,
   "metadata": {},
   "outputs": [
    {
     "data": {
      "text/plain": [
       "{'政治': [('黃重凱', 24), ('柳惠千', 13), ('喬建中', 12), ('徐國勇', 11), ('季欽', 8)],\n",
       " '科技': [('王金燦', 2), ('王兆璋', 1), ('希塔拉姆', 1)],\n",
       " '運動': [('林昀儒', 24), ('鄭怡靜', 24), ('莊智淵', 17), ('陳將双', 12), ('潘武雄', 10)],\n",
       " '證卷': [('林耕億', 3), ('葉獻文', 2), ('李昌鴻', 2), ('黃水可', 1)],\n",
       " '產經': [('陳耀祥', 17), ('朱澤民', 9), ('曾博昇', 6), ('杜書全', 5), ('蘇松輝', 4)],\n",
       " '娛樂': [('唐川', 20), ('威廉赫特', 10), ('莊凱勛', 8), ('林暉閔', 7), ('納豆', 7)],\n",
       " '生活': [('陳時中', 13), ('彭佳偉', 13), ('黃恩鴻', 5), ('李宗宏', 3), ('江文全', 2)],\n",
       " '國際': [('蘇利文', 5), ('楊潔篪', 4), ('阿布拉莫維奇', 3), ('蒲亭', 3), ('米佐塔基斯', 3)],\n",
       " '社會': [('戴寧', 8), ('孫道存', 7), ('鄭文燦', 6), ('孫芸芸', 4), ('孫瑩瑩', 3)],\n",
       " '文化': [('吳密察', 15), ('平珩', 10), ('吳蠻', 7), ('潘孟安', 6), ('吳思瑤', 5)],\n",
       " '兩岸': [('薛達', 6), ('林鄭月娥', 5), ('劉兆佳', 5), ('雷正龍', 3), ('趙立堅', 3)],\n",
       " '全部': [('黃重凱', 24), ('林昀儒', 24), ('鄭怡靜', 24), ('唐川', 20), ('莊智淵', 17)]}"
      ]
     },
     "execution_count": 30,
     "metadata": {},
     "output_type": "execute_result"
    }
   ],
   "source": [
    "top_cate_ne_words"
   ]
  },
  {
   "cell_type": "code",
   "execution_count": 31,
   "metadata": {},
   "outputs": [
    {
     "data": {
      "text/plain": [
       "dict_items([('政治', [('黃重凱', 24), ('柳惠千', 13), ('喬建中', 12), ('徐國勇', 11), ('季欽', 8)]), ('科技', [('王金燦', 2), ('王兆璋', 1), ('希塔拉姆', 1)]), ('運動', [('林昀儒', 24), ('鄭怡靜', 24), ('莊智淵', 17), ('陳將双', 12), ('潘武雄', 10)]), ('證卷', [('林耕億', 3), ('葉獻文', 2), ('李昌鴻', 2), ('黃水可', 1)]), ('產經', [('陳耀祥', 17), ('朱澤民', 9), ('曾博昇', 6), ('杜書全', 5), ('蘇松輝', 4)]), ('娛樂', [('唐川', 20), ('威廉赫特', 10), ('莊凱勛', 8), ('林暉閔', 7), ('納豆', 7)]), ('生活', [('陳時中', 13), ('彭佳偉', 13), ('黃恩鴻', 5), ('李宗宏', 3), ('江文全', 2)]), ('國際', [('蘇利文', 5), ('楊潔篪', 4), ('阿布拉莫維奇', 3), ('蒲亭', 3), ('米佐塔基斯', 3)]), ('社會', [('戴寧', 8), ('孫道存', 7), ('鄭文燦', 6), ('孫芸芸', 4), ('孫瑩瑩', 3)]), ('文化', [('吳密察', 15), ('平珩', 10), ('吳蠻', 7), ('潘孟安', 6), ('吳思瑤', 5)]), ('兩岸', [('薛達', 6), ('林鄭月娥', 5), ('劉兆佳', 5), ('雷正龍', 3), ('趙立堅', 3)]), ('全部', [('黃重凱', 24), ('林昀儒', 24), ('鄭怡靜', 24), ('唐川', 20), ('莊智淵', 17)])])"
      ]
     },
     "execution_count": 31,
     "metadata": {},
     "output_type": "execute_result"
    }
   ],
   "source": [
    "top_cate_ne_words.items()"
   ]
  },
  {
   "cell_type": "markdown",
   "metadata": {},
   "source": [
    "### To conveniently save data using pandas, we should convert dict to list."
   ]
  },
  {
   "cell_type": "code",
   "execution_count": 32,
   "metadata": {},
   "outputs": [
    {
     "data": {
      "text/plain": [
       "[('政治', [('黃重凱', 24), ('柳惠千', 13), ('喬建中', 12), ('徐國勇', 11), ('季欽', 8)]),\n",
       " ('科技', [('王金燦', 2), ('王兆璋', 1), ('希塔拉姆', 1)]),\n",
       " ('運動', [('林昀儒', 24), ('鄭怡靜', 24), ('莊智淵', 17), ('陳將双', 12), ('潘武雄', 10)]),\n",
       " ('證卷', [('林耕億', 3), ('葉獻文', 2), ('李昌鴻', 2), ('黃水可', 1)]),\n",
       " ('產經', [('陳耀祥', 17), ('朱澤民', 9), ('曾博昇', 6), ('杜書全', 5), ('蘇松輝', 4)]),\n",
       " ('娛樂', [('唐川', 20), ('威廉赫特', 10), ('莊凱勛', 8), ('林暉閔', 7), ('納豆', 7)]),\n",
       " ('生活', [('陳時中', 13), ('彭佳偉', 13), ('黃恩鴻', 5), ('李宗宏', 3), ('江文全', 2)]),\n",
       " ('國際', [('蘇利文', 5), ('楊潔篪', 4), ('阿布拉莫維奇', 3), ('蒲亭', 3), ('米佐塔基斯', 3)]),\n",
       " ('社會', [('戴寧', 8), ('孫道存', 7), ('鄭文燦', 6), ('孫芸芸', 4), ('孫瑩瑩', 3)]),\n",
       " ('文化', [('吳密察', 15), ('平珩', 10), ('吳蠻', 7), ('潘孟安', 6), ('吳思瑤', 5)]),\n",
       " ('兩岸', [('薛達', 6), ('林鄭月娥', 5), ('劉兆佳', 5), ('雷正龍', 3), ('趙立堅', 3)]),\n",
       " ('全部', [('黃重凱', 24), ('林昀儒', 24), ('鄭怡靜', 24), ('唐川', 20), ('莊智淵', 17)])]"
      ]
     },
     "execution_count": 32,
     "metadata": {},
     "output_type": "execute_result"
    }
   ],
   "source": [
    "list(top_cate_ne_words.items())"
   ]
  },
  {
   "cell_type": "code",
   "execution_count": null,
   "metadata": {},
   "outputs": [],
   "source": []
  },
  {
   "cell_type": "markdown",
   "metadata": {},
   "source": [
    "# All-in-one function  for calculationg the most popular persons"
   ]
  },
  {
   "cell_type": "code",
   "execution_count": 33,
   "metadata": {},
   "outputs": [],
   "source": [
    "import pandas as pd\n",
    "from collections import Counter\n",
    "import pandas as pd\n",
    "from datetime import datetime, timedelta"
   ]
  },
  {
   "cell_type": "code",
   "execution_count": 34,
   "metadata": {},
   "outputs": [],
   "source": [
    "df = pd.read_csv('cna_news_200_preprocessed.csv',sep='|')"
   ]
  },
  {
   "cell_type": "code",
   "execution_count": 35,
   "metadata": {},
   "outputs": [],
   "source": [
    "## Filter news\n",
    "# Appraoch 1: Filter by time duration\n",
    "# end date: the date of the latest record of news\n",
    "end_date = df.date.max()\n",
    "# start date\n",
    "start_date = (datetime.strptime(end_date, '%Y-%m-%d').date() - timedelta(days=1)).strftime('%Y-%m-%d') # 昨日誰最大\n",
    "start_date = (datetime.strptime(end_date, '%Y-%m-%d').date() - timedelta(days=7)).strftime('%Y-%m-%d') # 上週誰最大\n",
    "# Filter news\n",
    "query_df = df[(df.date >= start_date) & (df.date <= end_date)] "
   ]
  },
  {
   "cell_type": "code",
   "execution_count": 36,
   "metadata": {},
   "outputs": [],
   "source": [
    "allowedNE=['PERSON']"
   ]
  },
  {
   "cell_type": "code",
   "execution_count": 37,
   "metadata": {},
   "outputs": [],
   "source": [
    "news_categories=['政治','科技','運動','證卷','產經','娛樂','生活','國際','社會','文化','兩岸']"
   ]
  },
  {
   "cell_type": "code",
   "execution_count": 38,
   "metadata": {},
   "outputs": [],
   "source": [
    "# NerToken(word='烏克蘭', ner='GPE', idx=(4, 7))  # call function NerToken with three parameters: word, ner, and idx\n",
    "def NerToken(word, ner, idx):\n",
    "    # print(ner,word)\n",
    "    return ner,word"
   ]
  },
  {
   "cell_type": "code",
   "execution_count": 39,
   "metadata": {},
   "outputs": [],
   "source": [
    "def ne_word_frequency( a_news_ne ):\n",
    "    filtered_words =[]\n",
    "    for ner,word in a_news_ne:\n",
    "        if (len(word) >= 2) & (ner in allowedNE):\n",
    "            filtered_words.append(word)\n",
    "    counter = Counter( filtered_words )\n",
    "    return counter.most_common( 5 )"
   ]
  },
  {
   "cell_type": "code",
   "execution_count": 40,
   "metadata": {},
   "outputs": [],
   "source": [
    "# All-in-one function\n",
    "def get_top_ner_words(query_df):\n",
    "    top_cate_ner_words={}\n",
    "    words_all=[]\n",
    "    for category in news_categories:\n",
    "        df_group = query_df[query_df.category == category]\n",
    "        words_group = []\n",
    "\n",
    "        # concatenate terms in a category\n",
    "        for row in df_group.entities:\n",
    "            words_group += eval(row)\n",
    "\n",
    "        # concatenate all terms\n",
    "        words_all += words_group\n",
    "\n",
    "        # Get top words by calling ne_word_frequency() function\n",
    "        topwords = ne_word_frequency( words_group )\n",
    "        top_cate_ner_words[category] = topwords\n",
    "\n",
    "    topwords_all = ne_word_frequency(words_all)\n",
    "    top_cate_ner_words['全部'] = topwords_all\n",
    "    \n",
    "    return list(top_cate_ner_words.items())\n",
    "    # return top_cate_ne_words"
   ]
  },
  {
   "cell_type": "code",
   "execution_count": 44,
   "metadata": {},
   "outputs": [
    {
     "name": "stdout",
     "output_type": "stream",
     "text": [
      "CPU times: total: 109 ms\n",
      "Wall time: 100 ms\n"
     ]
    }
   ],
   "source": [
    "%%time\n",
    "popularPersons = get_top_ner_words(query_df)"
   ]
  },
  {
   "cell_type": "code",
   "execution_count": 45,
   "metadata": {},
   "outputs": [
    {
     "data": {
      "text/plain": [
       "[('政治', [('黃重凱', 24), ('柳惠千', 13), ('喬建中', 12), ('徐國勇', 11), ('季欽', 8)]),\n",
       " ('科技', [('林柏亨', 6), ('吳偉仁', 5), ('包淳偉', 4), ('黃晨瑋', 4), ('廖俊智', 4)]),\n",
       " ('運動', [('林昀儒', 24), ('鄭怡靜', 24), ('莊智淵', 17), ('陳將双', 12), ('潘武雄', 10)]),\n",
       " ('證卷', [('林耕億', 3), ('葉獻文', 2), ('李昌鴻', 2), ('黃水可', 1)]),\n",
       " ('產經', [('陳耀祥', 17), ('朱澤民', 9), ('曾博昇', 6), ('杜書全', 5), ('蘇松輝', 4)]),\n",
       " ('娛樂', [('唐川', 20), ('歸亞蕾', 18), ('炎亞綸', 11), ('威廉赫特', 10), ('莊凱勛', 8)]),\n",
       " ('生活', [('陳時中', 13), ('彭佳偉', 13), ('黃恩鴻', 5), ('李宗宏', 3), ('江文全', 2)]),\n",
       " ('國際', [('蘇利文', 5), ('楊潔篪', 4), ('阿布拉莫維奇', 3), ('蒲亭', 3), ('米佐塔基斯', 3)]),\n",
       " ('社會', [('戴寧', 8), ('孫道存', 7), ('鄭文燦', 6), ('孫芸芸', 4), ('孫瑩瑩', 3)]),\n",
       " ('文化', [('吳密察', 15), ('平珩', 10), ('吳蠻', 7), ('潘孟安', 6), ('吳思瑤', 5)]),\n",
       " ('兩岸', [('薛達', 6), ('林鄭月娥', 5), ('劉兆佳', 5), ('雷正龍', 3), ('趙立堅', 3)]),\n",
       " ('全部', [('黃重凱', 24), ('林昀儒', 24), ('鄭怡靜', 24), ('唐川', 20), ('歸亞蕾', 18)])]"
      ]
     },
     "execution_count": 45,
     "metadata": {},
     "output_type": "execute_result"
    }
   ],
   "source": [
    "popularPersons"
   ]
  },
  {
   "cell_type": "markdown",
   "metadata": {},
   "source": [
    "## Save popular persons for future usage"
   ]
  },
  {
   "cell_type": "code",
   "execution_count": 46,
   "metadata": {},
   "outputs": [],
   "source": [
    "df_popularPersons = pd.DataFrame(popularPersons, columns = ['category','top_keys'])"
   ]
  },
  {
   "cell_type": "code",
   "execution_count": 47,
   "metadata": {
    "scrolled": false
   },
   "outputs": [
    {
     "data": {
      "text/html": [
       "<div>\n",
       "<style scoped>\n",
       "    .dataframe tbody tr th:only-of-type {\n",
       "        vertical-align: middle;\n",
       "    }\n",
       "\n",
       "    .dataframe tbody tr th {\n",
       "        vertical-align: top;\n",
       "    }\n",
       "\n",
       "    .dataframe thead th {\n",
       "        text-align: right;\n",
       "    }\n",
       "</style>\n",
       "<table border=\"1\" class=\"dataframe\">\n",
       "  <thead>\n",
       "    <tr style=\"text-align: right;\">\n",
       "      <th></th>\n",
       "      <th>category</th>\n",
       "      <th>top_keys</th>\n",
       "    </tr>\n",
       "  </thead>\n",
       "  <tbody>\n",
       "    <tr>\n",
       "      <th>0</th>\n",
       "      <td>政治</td>\n",
       "      <td>[(黃重凱, 24), (柳惠千, 13), (喬建中, 12), (徐國勇, 11), (...</td>\n",
       "    </tr>\n",
       "    <tr>\n",
       "      <th>1</th>\n",
       "      <td>科技</td>\n",
       "      <td>[(林柏亨, 6), (吳偉仁, 5), (包淳偉, 4), (黃晨瑋, 4), (廖俊智,...</td>\n",
       "    </tr>\n",
       "    <tr>\n",
       "      <th>2</th>\n",
       "      <td>運動</td>\n",
       "      <td>[(林昀儒, 24), (鄭怡靜, 24), (莊智淵, 17), (陳將双, 12), (...</td>\n",
       "    </tr>\n",
       "    <tr>\n",
       "      <th>3</th>\n",
       "      <td>證卷</td>\n",
       "      <td>[(林耕億, 3), (葉獻文, 2), (李昌鴻, 2), (黃水可, 1)]</td>\n",
       "    </tr>\n",
       "    <tr>\n",
       "      <th>4</th>\n",
       "      <td>產經</td>\n",
       "      <td>[(陳耀祥, 17), (朱澤民, 9), (曾博昇, 6), (杜書全, 5), (蘇松輝...</td>\n",
       "    </tr>\n",
       "    <tr>\n",
       "      <th>5</th>\n",
       "      <td>娛樂</td>\n",
       "      <td>[(唐川, 20), (歸亞蕾, 18), (炎亞綸, 11), (威廉赫特, 10), (...</td>\n",
       "    </tr>\n",
       "    <tr>\n",
       "      <th>6</th>\n",
       "      <td>生活</td>\n",
       "      <td>[(陳時中, 13), (彭佳偉, 13), (黃恩鴻, 5), (李宗宏, 3), (江文...</td>\n",
       "    </tr>\n",
       "    <tr>\n",
       "      <th>7</th>\n",
       "      <td>國際</td>\n",
       "      <td>[(蘇利文, 5), (楊潔篪, 4), (阿布拉莫維奇, 3), (蒲亭, 3), (米佐...</td>\n",
       "    </tr>\n",
       "    <tr>\n",
       "      <th>8</th>\n",
       "      <td>社會</td>\n",
       "      <td>[(戴寧, 8), (孫道存, 7), (鄭文燦, 6), (孫芸芸, 4), (孫瑩瑩, 3)]</td>\n",
       "    </tr>\n",
       "    <tr>\n",
       "      <th>9</th>\n",
       "      <td>文化</td>\n",
       "      <td>[(吳密察, 15), (平珩, 10), (吳蠻, 7), (潘孟安, 6), (吳思瑤,...</td>\n",
       "    </tr>\n",
       "    <tr>\n",
       "      <th>10</th>\n",
       "      <td>兩岸</td>\n",
       "      <td>[(薛達, 6), (林鄭月娥, 5), (劉兆佳, 5), (雷正龍, 3), (趙立堅,...</td>\n",
       "    </tr>\n",
       "    <tr>\n",
       "      <th>11</th>\n",
       "      <td>全部</td>\n",
       "      <td>[(黃重凱, 24), (林昀儒, 24), (鄭怡靜, 24), (唐川, 20), (歸...</td>\n",
       "    </tr>\n",
       "  </tbody>\n",
       "</table>\n",
       "</div>"
      ],
      "text/plain": [
       "   category                                           top_keys\n",
       "0        政治  [(黃重凱, 24), (柳惠千, 13), (喬建中, 12), (徐國勇, 11), (...\n",
       "1        科技  [(林柏亨, 6), (吳偉仁, 5), (包淳偉, 4), (黃晨瑋, 4), (廖俊智,...\n",
       "2        運動  [(林昀儒, 24), (鄭怡靜, 24), (莊智淵, 17), (陳將双, 12), (...\n",
       "3        證卷           [(林耕億, 3), (葉獻文, 2), (李昌鴻, 2), (黃水可, 1)]\n",
       "4        產經  [(陳耀祥, 17), (朱澤民, 9), (曾博昇, 6), (杜書全, 5), (蘇松輝...\n",
       "5        娛樂  [(唐川, 20), (歸亞蕾, 18), (炎亞綸, 11), (威廉赫特, 10), (...\n",
       "6        生活  [(陳時中, 13), (彭佳偉, 13), (黃恩鴻, 5), (李宗宏, 3), (江文...\n",
       "7        國際  [(蘇利文, 5), (楊潔篪, 4), (阿布拉莫維奇, 3), (蒲亭, 3), (米佐...\n",
       "8        社會  [(戴寧, 8), (孫道存, 7), (鄭文燦, 6), (孫芸芸, 4), (孫瑩瑩, 3)]\n",
       "9        文化  [(吳密察, 15), (平珩, 10), (吳蠻, 7), (潘孟安, 6), (吳思瑤,...\n",
       "10       兩岸  [(薛達, 6), (林鄭月娥, 5), (劉兆佳, 5), (雷正龍, 3), (趙立堅,...\n",
       "11       全部  [(黃重凱, 24), (林昀儒, 24), (鄭怡靜, 24), (唐川, 20), (歸..."
      ]
     },
     "execution_count": 47,
     "metadata": {},
     "output_type": "execute_result"
    }
   ],
   "source": [
    "df_popularPersons"
   ]
  },
  {
   "cell_type": "markdown",
   "metadata": {},
   "source": []
  },
  {
   "cell_type": "code",
   "execution_count": 48,
   "metadata": {},
   "outputs": [],
   "source": [
    "## Save the word frequecy \n",
    "df_popularPersons.to_csv('popular-persons-of-yesterday.csv', sep=',', index=False)"
   ]
  },
  {
   "cell_type": "code",
   "execution_count": null,
   "metadata": {},
   "outputs": [],
   "source": []
  },
  {
   "attachments": {},
   "cell_type": "markdown",
   "metadata": {},
   "source": [
    "# Piece them together"
   ]
  },
  {
   "cell_type": "code",
   "execution_count": 49,
   "metadata": {},
   "outputs": [],
   "source": [
    "# All-in-one function  for calculationg the most popular persons\n",
    "import pandas as pd\n",
    "from collections import Counter\n",
    "import pandas as pd\n",
    "from datetime import datetime, timedelta\n",
    "\n",
    "\n",
    "def process_yesterday_top_person():\n",
    "\n",
    "    df = pd.read_csv('cna_news_200_preprocessed.csv',sep='|')\n",
    "    # df = pd.read_csv('./dataset/news_dataset_preprocessed.csv', sep='|')\n",
    "    ## Filter news\n",
    "    # Appraoch 1: Filter by time duration\n",
    "    # end date: the date of the latest record of news\n",
    "    end_date = df.date.max()\n",
    "    # start date\n",
    "    start_date = (datetime.strptime(end_date, '%Y-%m-%d').date() - timedelta(days=1)).strftime('%Y-%m-%d') # 昨日誰最大\n",
    "    #start_date = (datetime.strptime(end_date, '%Y-%m-%d').date() - timedelta(days=7)).strftime('%Y-%m-%d') # 上週誰最大\n",
    "    # Filter news\n",
    "    query_df = df[(df.date >= start_date) & (df.date <= end_date)] \n",
    "    allowedNE=['PERSON']\n",
    "\n",
    "    news_categories=['政治','科技','運動','證卷','產經','娛樂','生活','國際','社會','文化','兩岸']\n",
    "\n",
    "\n",
    "\n",
    "    # NerToken(word='烏克蘭', ner='GPE', idx=(4, 7))  # call function NerToken with three parameters: word, ner, and idx\n",
    "    def NerToken(word, ner, idx):\n",
    "        # print(ner,word)\n",
    "        return ner,word\n",
    "    def ne_word_frequency( a_news_ne ):\n",
    "        filtered_words =[]\n",
    "        for ner,word in a_news_ne:\n",
    "            if (len(word) >= 2) & (ner in allowedNE):\n",
    "                filtered_words.append(word)\n",
    "        counter = Counter( filtered_words )\n",
    "        return counter.most_common( 5 )\n",
    "    # All-in-one function\n",
    "    def get_top_ner_words(query_df):\n",
    "        top_cate_ner_words={}\n",
    "        words_all=[]\n",
    "        for category in news_categories:\n",
    "            df_group = query_df[query_df.category == category]\n",
    "            words_group = []\n",
    "\n",
    "            # concatenate terms in a category\n",
    "            for row in df_group.entities:\n",
    "                words_group += eval(row)\n",
    "\n",
    "            # concatenate all terms\n",
    "            words_all += words_group\n",
    "\n",
    "            # Get top words by calling ne_word_frequency() function\n",
    "            topwords = ne_word_frequency( words_group )\n",
    "            top_cate_ner_words[category] = topwords\n",
    "\n",
    "        topwords_all = ne_word_frequency(words_all)\n",
    "        top_cate_ner_words['全部'] = topwords_all\n",
    "        \n",
    "        return list(top_cate_ner_words.items())\n",
    "        # return top_cate_ne_words\n",
    "    popularPersons = get_top_ner_words(query_df)\n",
    "\n",
    "    ## Save hot persons for future usage\n",
    "    df_hotPersons = pd.DataFrame(hotPersons, columns = ['category','top_keys'])\n",
    "\n",
    "    ## Save the word frequecy \n",
    "    df_hotPersons.to_csv('./hot-persons-of-yesterday.csv', sep=',', index=False)\n",
    "    #df_hotPersons.to_csv('./dataset/hot-persons-of-yesterday.csv', sep=',', index=False)\n"
   ]
  },
  {
   "cell_type": "code",
   "execution_count": 50,
   "metadata": {},
   "outputs": [],
   "source": [
    "process_yesterday_top_person()"
   ]
  },
  {
   "cell_type": "markdown",
   "metadata": {},
   "source": [
    "# For reference"
   ]
  },
  {
   "cell_type": "code",
   "execution_count": 51,
   "metadata": {},
   "outputs": [],
   "source": [
    "# All-in-one function\n",
    "def get_top_ner_words_v2(query_df):\n",
    "    \n",
    "    top_cate_ner_words={} # final result\n",
    "    counter_all = Counter() # counter for category '全部'\n",
    "    for category in news_categories:\n",
    "\n",
    "        df_group = query_df[query_df.category == category]\n",
    "\n",
    "        # concatenate all filtered words in the same category\n",
    "        words_group = []\n",
    "        for row in df_group.entities:\n",
    "\n",
    "            # filter words for each news\n",
    "            filtered_words =[]\n",
    "            for (ner, word) in eval(row):\n",
    "                if (len(word) >= 2) & (ner in allowedNE):\n",
    "                    filtered_words.append(word)\n",
    "\n",
    "            # concatenate filtered words  \n",
    "            words_group += filtered_words\n",
    "\n",
    "        # now we can count word frequency\n",
    "        counter = Counter( words_group )\n",
    "\n",
    "        # combine counter_all with conter\n",
    "        counter_all += counter\n",
    "        \n",
    "        # get a few most common items\n",
    "        topwords = counter.most_common(5)\n",
    "\n",
    "        # store topwords\n",
    "        top_cate_ner_words[category]= topwords\n",
    "\n",
    "    # Process category '全部'\n",
    "    top_cate_ner_words['全部'] = counter_all.most_common(5)\n",
    "    return list(top_cate_ner_words.items())"
   ]
  },
  {
   "cell_type": "code",
   "execution_count": null,
   "metadata": {},
   "outputs": [],
   "source": []
  }
 ],
 "metadata": {
  "kernelspec": {
   "display_name": "ai27",
   "language": "python",
   "name": "python3"
  },
  "language_info": {
   "codemirror_mode": {
    "name": "ipython",
    "version": 3
   },
   "file_extension": ".py",
   "mimetype": "text/x-python",
   "name": "python",
   "nbconvert_exporter": "python",
   "pygments_lexer": "ipython3",
   "version": "3.10.6"
  },
  "toc": {
   "base_numbering": 1,
   "nav_menu": {},
   "number_sections": true,
   "sideBar": true,
   "skip_h1_title": false,
   "title_cell": "Table of Contents",
   "title_sidebar": "Contents",
   "toc_cell": false,
   "toc_position": {},
   "toc_section_display": true,
   "toc_window_display": false
  },
  "vscode": {
   "interpreter": {
    "hash": "6b565590375e5fd6d7e0964426dc5c89d25ce8c4a0629d868572b1370a8952de"
   }
  }
 },
 "nbformat": 4,
 "nbformat_minor": 2
}
