{
 "cells": [
  {
   "cell_type": "markdown",
   "metadata": {},
   "source": [
    "# Count time-based keyword frequency\n",
    "\n",
    "To draw daily line chart on a web page, we need to count date-based frequency.\n",
    "\n",
    "    The data format for the line chart is as follows.\n",
    "\n",
    "    [{'x': '2020-03-05', 'y': 1},\n",
    "    {'x': '2020-03-06', 'y': 0},\n",
    "    {'x': '2020-03-07', 'y': 0},\n",
    "    {'x': '2020-03-08', 'y': 0},\n",
    "    {'x': '2020-03-09', 'y': 0},\n",
    "    {'x': '2020-03-10', 'y': 5},\n",
    "    {'x': '2020-03-11', 'y': 5},\n",
    "    {'x': '2020-03-12', 'y': 7},\n",
    "    {'x': '2020-03-13', 'y': 62},\n",
    "    {'x': '2020-03-14', 'y': 29}]"
   ]
  },
  {
   "cell_type": "markdown",
   "metadata": {},
   "source": [
    "# Load data"
   ]
  },
  {
   "cell_type": "code",
   "execution_count": 1,
   "metadata": {},
   "outputs": [],
   "source": [
    "import pandas as pd\n",
    "from datetime import datetime,timedelta"
   ]
  },
  {
   "cell_type": "code",
   "execution_count": 2,
   "metadata": {},
   "outputs": [],
   "source": [
    "df = pd.read_csv('./cna_news_preprocessed.csv',sep='|')"
   ]
  },
  {
   "cell_type": "code",
   "execution_count": 3,
   "metadata": {},
   "outputs": [
    {
     "data": {
      "text/html": [
       "<div>\n",
       "<style scoped>\n",
       "    .dataframe tbody tr th:only-of-type {\n",
       "        vertical-align: middle;\n",
       "    }\n",
       "\n",
       "    .dataframe tbody tr th {\n",
       "        vertical-align: top;\n",
       "    }\n",
       "\n",
       "    .dataframe thead th {\n",
       "        text-align: right;\n",
       "    }\n",
       "</style>\n",
       "<table border=\"1\" class=\"dataframe\">\n",
       "  <thead>\n",
       "    <tr style=\"text-align: right;\">\n",
       "      <th></th>\n",
       "      <th>item_id</th>\n",
       "      <th>date</th>\n",
       "      <th>category</th>\n",
       "      <th>title</th>\n",
       "      <th>content</th>\n",
       "      <th>sentiment</th>\n",
       "      <th>summary</th>\n",
       "      <th>top_key_freq</th>\n",
       "      <th>tokens</th>\n",
       "      <th>tokens_v2</th>\n",
       "      <th>entities</th>\n",
       "      <th>token_pos</th>\n",
       "      <th>link</th>\n",
       "      <th>photo_link</th>\n",
       "    </tr>\n",
       "  </thead>\n",
       "  <tbody>\n",
       "    <tr>\n",
       "      <th>0</th>\n",
       "      <td>aipl_20220314_1</td>\n",
       "      <td>2022-03-14</td>\n",
       "      <td>政治</td>\n",
       "      <td>外交部援烏物資已募4000箱 吳釗燮感謝捐贈民眾</td>\n",
       "      <td>民眾捐贈烏克蘭的愛心物資持續湧入外交部，截至今天傍晚累計已收到約4000箱，外交部長吳釗燮中...</td>\n",
       "      <td>0.01</td>\n",
       "      <td>['外交部除感謝熱心民眾踴躍捐贈援助烏克蘭人道物資外', '親赴外交部捐贈物資的民眾約173...</td>\n",
       "      <td>[('外交部', 14), ('民眾', 7), ('物資', 7), ('烏克蘭', 5)...</td>\n",
       "      <td>['民眾', '捐贈', '烏克蘭', '的', '愛心', '物資', '持續', '湧入...</td>\n",
       "      <td>['民眾', '烏克蘭', '愛心', '物資', '外交部', '收到', '外交部長',...</td>\n",
       "      <td>[NerToken(word='烏克蘭', ner='GPE', idx=(4, 7)), ...</td>\n",
       "      <td>[('民眾', 'Na'), ('捐贈', 'VD'), ('烏克蘭', 'Nc'), ('...</td>\n",
       "      <td>https://www.cna.com.tw/news/aipl/202203140364....</td>\n",
       "      <td>https://imgcdn.cna.com.tw/www/WebPhotos/200/20...</td>\n",
       "    </tr>\n",
       "  </tbody>\n",
       "</table>\n",
       "</div>"
      ],
      "text/plain": [
       "           item_id        date category                     title  \\\n",
       "0  aipl_20220314_1  2022-03-14       政治  外交部援烏物資已募4000箱 吳釗燮感謝捐贈民眾   \n",
       "\n",
       "                                             content  sentiment  \\\n",
       "0  民眾捐贈烏克蘭的愛心物資持續湧入外交部，截至今天傍晚累計已收到約4000箱，外交部長吳釗燮中...       0.01   \n",
       "\n",
       "                                             summary  \\\n",
       "0  ['外交部除感謝熱心民眾踴躍捐贈援助烏克蘭人道物資外', '親赴外交部捐贈物資的民眾約173...   \n",
       "\n",
       "                                        top_key_freq  \\\n",
       "0  [('外交部', 14), ('民眾', 7), ('物資', 7), ('烏克蘭', 5)...   \n",
       "\n",
       "                                              tokens  \\\n",
       "0  ['民眾', '捐贈', '烏克蘭', '的', '愛心', '物資', '持續', '湧入...   \n",
       "\n",
       "                                           tokens_v2  \\\n",
       "0  ['民眾', '烏克蘭', '愛心', '物資', '外交部', '收到', '外交部長',...   \n",
       "\n",
       "                                            entities  \\\n",
       "0  [NerToken(word='烏克蘭', ner='GPE', idx=(4, 7)), ...   \n",
       "\n",
       "                                           token_pos  \\\n",
       "0  [('民眾', 'Na'), ('捐贈', 'VD'), ('烏克蘭', 'Nc'), ('...   \n",
       "\n",
       "                                                link  \\\n",
       "0  https://www.cna.com.tw/news/aipl/202203140364....   \n",
       "\n",
       "                                          photo_link  \n",
       "0  https://imgcdn.cna.com.tw/www/WebPhotos/200/20...  "
      ]
     },
     "execution_count": 3,
     "metadata": {},
     "output_type": "execute_result"
    }
   ],
   "source": [
    "df.head(1)"
   ]
  },
  {
   "cell_type": "markdown",
   "metadata": {},
   "source": [
    "# Filter data using token_v2 or content column"
   ]
  },
  {
   "cell_type": "code",
   "execution_count": 4,
   "metadata": {},
   "outputs": [],
   "source": [
    "from datetime import datetime, timedelta\n",
    "# Searching keywords from \"content\" column\n",
    "# Here this function uses df.content column, while filter_dataFrame() uses df.tokens_v2\n",
    "def filter_dataFrame(user_keywords, cond, cate, weeks):\n",
    "\n",
    "    # end date: the date of the latest record of news\n",
    "    end_date = df.date.max()\n",
    "    \n",
    "    # start date\n",
    "    start_date = (datetime.strptime(end_date, '%Y-%m-%d').date() - timedelta(weeks=weeks)).strftime('%Y-%m-%d')\n",
    "\n",
    "    # (1) proceed filtering: a duration of a period of time\n",
    "    # 期間條件\n",
    "    period_condition = (df.date >= start_date) & (df.date <= end_date) \n",
    "    \n",
    "    # (2) proceed filtering: news category\n",
    "    # 新聞類別條件\n",
    "    if (cate == \"全部\"):\n",
    "        condition = period_condition  # \"全部\"類別不必過濾新聞種類\n",
    "    else:\n",
    "        # category新聞類別條件\n",
    "        condition = period_condition & (df.category == cate)\n",
    "\n",
    "    # (3) proceed filtering: keywords \n",
    "    # and or 條件\n",
    "    if (cond == 'and'):\n",
    "        # query keywords condition使用者輸入關鍵字條件and\n",
    "        condition = condition & df.content.apply(lambda text: all((qk in text) for qk in user_keywords)) #寫法:all()\n",
    "    elif (cond == 'or'):\n",
    "        # query keywords condition使用者輸入關鍵字條件\n",
    "        condition = condition & df.content.apply(lambda text: any((qk in text) for qk in user_keywords)) #寫法:any()\n",
    "    # condiction is a list of True or False boolean value\n",
    "    df_query = df[condition]\n",
    "\n",
    "    return df_query\n"
   ]
  },
  {
   "cell_type": "markdown",
   "metadata": {},
   "source": [
    "### Now we do filtering news"
   ]
  },
  {
   "cell_type": "code",
   "execution_count": 5,
   "metadata": {},
   "outputs": [],
   "source": [
    "# user_keywords=['肺炎','冠狀','疫情']\n",
    "# cond='and'\n",
    "# cate='全部'\n",
    "# weeks=4\n",
    "# df_query = filter_dataFrame(user_keywords, cond, cate, weeks)"
   ]
  },
  {
   "cell_type": "code",
   "execution_count": 6,
   "metadata": {},
   "outputs": [
    {
     "data": {
      "text/plain": [
       "26"
      ]
     },
     "execution_count": 6,
     "metadata": {},
     "output_type": "execute_result"
    }
   ],
   "source": [
    "user_keywords=['烏克蘭','俄羅斯']\n",
    "cond='or'\n",
    "cate='全部'\n",
    "weeks=4\n",
    "df_query = filter_dataFrame(user_keywords, cond, cate, weeks)\n",
    "len(df_query)"
   ]
  },
  {
   "cell_type": "code",
   "execution_count": 7,
   "metadata": {},
   "outputs": [
    {
     "data": {
      "text/html": [
       "<div>\n",
       "<style scoped>\n",
       "    .dataframe tbody tr th:only-of-type {\n",
       "        vertical-align: middle;\n",
       "    }\n",
       "\n",
       "    .dataframe tbody tr th {\n",
       "        vertical-align: top;\n",
       "    }\n",
       "\n",
       "    .dataframe thead th {\n",
       "        text-align: right;\n",
       "    }\n",
       "</style>\n",
       "<table border=\"1\" class=\"dataframe\">\n",
       "  <thead>\n",
       "    <tr style=\"text-align: right;\">\n",
       "      <th></th>\n",
       "      <th>item_id</th>\n",
       "      <th>date</th>\n",
       "      <th>category</th>\n",
       "      <th>title</th>\n",
       "      <th>content</th>\n",
       "      <th>sentiment</th>\n",
       "      <th>summary</th>\n",
       "      <th>top_key_freq</th>\n",
       "      <th>tokens</th>\n",
       "      <th>tokens_v2</th>\n",
       "      <th>entities</th>\n",
       "      <th>token_pos</th>\n",
       "      <th>link</th>\n",
       "      <th>photo_link</th>\n",
       "    </tr>\n",
       "  </thead>\n",
       "  <tbody>\n",
       "    <tr>\n",
       "      <th>0</th>\n",
       "      <td>aipl_20220314_1</td>\n",
       "      <td>2022-03-14</td>\n",
       "      <td>政治</td>\n",
       "      <td>外交部援烏物資已募4000箱 吳釗燮感謝捐贈民眾</td>\n",
       "      <td>民眾捐贈烏克蘭的愛心物資持續湧入外交部，截至今天傍晚累計已收到約4000箱，外交部長吳釗燮中...</td>\n",
       "      <td>0.01</td>\n",
       "      <td>['外交部除感謝熱心民眾踴躍捐贈援助烏克蘭人道物資外', '親赴外交部捐贈物資的民眾約173...</td>\n",
       "      <td>[('外交部', 14), ('民眾', 7), ('物資', 7), ('烏克蘭', 5)...</td>\n",
       "      <td>['民眾', '捐贈', '烏克蘭', '的', '愛心', '物資', '持續', '湧入...</td>\n",
       "      <td>['民眾', '烏克蘭', '愛心', '物資', '外交部', '收到', '外交部長',...</td>\n",
       "      <td>[NerToken(word='烏克蘭', ner='GPE', idx=(4, 7)), ...</td>\n",
       "      <td>[('民眾', 'Na'), ('捐贈', 'VD'), ('烏克蘭', 'Nc'), ('...</td>\n",
       "      <td>https://www.cna.com.tw/news/aipl/202203140364....</td>\n",
       "      <td>https://imgcdn.cna.com.tw/www/WebPhotos/200/20...</td>\n",
       "    </tr>\n",
       "  </tbody>\n",
       "</table>\n",
       "</div>"
      ],
      "text/plain": [
       "           item_id        date category                     title  \\\n",
       "0  aipl_20220314_1  2022-03-14       政治  外交部援烏物資已募4000箱 吳釗燮感謝捐贈民眾   \n",
       "\n",
       "                                             content  sentiment  \\\n",
       "0  民眾捐贈烏克蘭的愛心物資持續湧入外交部，截至今天傍晚累計已收到約4000箱，外交部長吳釗燮中...       0.01   \n",
       "\n",
       "                                             summary  \\\n",
       "0  ['外交部除感謝熱心民眾踴躍捐贈援助烏克蘭人道物資外', '親赴外交部捐贈物資的民眾約173...   \n",
       "\n",
       "                                        top_key_freq  \\\n",
       "0  [('外交部', 14), ('民眾', 7), ('物資', 7), ('烏克蘭', 5)...   \n",
       "\n",
       "                                              tokens  \\\n",
       "0  ['民眾', '捐贈', '烏克蘭', '的', '愛心', '物資', '持續', '湧入...   \n",
       "\n",
       "                                           tokens_v2  \\\n",
       "0  ['民眾', '烏克蘭', '愛心', '物資', '外交部', '收到', '外交部長',...   \n",
       "\n",
       "                                            entities  \\\n",
       "0  [NerToken(word='烏克蘭', ner='GPE', idx=(4, 7)), ...   \n",
       "\n",
       "                                           token_pos  \\\n",
       "0  [('民眾', 'Na'), ('捐贈', 'VD'), ('烏克蘭', 'Nc'), ('...   \n",
       "\n",
       "                                                link  \\\n",
       "0  https://www.cna.com.tw/news/aipl/202203140364....   \n",
       "\n",
       "                                          photo_link  \n",
       "0  https://imgcdn.cna.com.tw/www/WebPhotos/200/20...  "
      ]
     },
     "execution_count": 7,
     "metadata": {},
     "output_type": "execute_result"
    }
   ],
   "source": [
    "df_query.head(1)"
   ]
  },
  {
   "cell_type": "markdown",
   "metadata": {},
   "source": [
    "# All-in-one function: Get time-based keyword frequency"
   ]
  },
  {
   "cell_type": "code",
   "execution_count": 35,
   "metadata": {},
   "outputs": [],
   "source": [
    "def get_keyword_time_based_freq(df_query):\n",
    "    date_samples = df_query.date\n",
    "    query_freq = pd.DataFrame({'date_index':pd.to_datetime( date_samples ),'freq':[1 for _ in range(len(df_query))]})\n",
    "    data = query_freq.groupby(pd.Grouper(key='date_index',freq='D')).sum()\n",
    "    time_data=[]\n",
    "    for i, date_idx in enumerate(data.index):\n",
    "        row = {'x':date_idx.strftime('%Y-%m-%d'),'y':int(data.iloc[i].freq)}\n",
    "        time_data.append(row)\n",
    "    return time_data"
   ]
  },
  {
   "cell_type": "code",
   "execution_count": 36,
   "metadata": {},
   "outputs": [
    {
     "data": {
      "text/plain": [
       "26"
      ]
     },
     "execution_count": 36,
     "metadata": {},
     "output_type": "execute_result"
    }
   ],
   "source": [
    "user_keywords=['烏克蘭','俄羅斯']\n",
    "cond='or'\n",
    "cate='全部'\n",
    "weeks=4\n",
    "df_query = filter_dataFrame(user_keywords, cond, cate, weeks)\n",
    "len(df_query)"
   ]
  },
  {
   "cell_type": "code",
   "execution_count": 10,
   "metadata": {},
   "outputs": [],
   "source": [
    "result = get_keyword_time_based_freq(df_query)"
   ]
  },
  {
   "cell_type": "code",
   "execution_count": 37,
   "metadata": {},
   "outputs": [
    {
     "data": {
      "text/plain": [
       "[{'x': '2022-03-09', 'y': 1},\n",
       " {'x': '2022-03-10', 'y': 0},\n",
       " {'x': '2022-03-11', 'y': 1},\n",
       " {'x': '2022-03-12', 'y': 0},\n",
       " {'x': '2022-03-13', 'y': 2},\n",
       " {'x': '2022-03-14', 'y': 22}]"
      ]
     },
     "execution_count": 37,
     "metadata": {},
     "output_type": "execute_result"
    }
   ],
   "source": [
    "result"
   ]
  },
  {
   "cell_type": "code",
   "execution_count": 38,
   "metadata": {},
   "outputs": [
    {
     "data": {
      "text/plain": [
       "6"
      ]
     },
     "execution_count": 38,
     "metadata": {},
     "output_type": "execute_result"
    }
   ],
   "source": [
    "len(result)"
   ]
  },
  {
   "cell_type": "markdown",
   "metadata": {},
   "source": [
    "# Demonstration step by step"
   ]
  },
  {
   "cell_type": "markdown",
   "metadata": {},
   "source": [
    "# Time-based frequency\n",
    "\n",
    "    We need the daily frequency data:\n",
    "\n",
    "    [{'x': '2020-02-24', 'y': 1},\n",
    "    {'x': '2020-02-25', 'y': 0},\n",
    "    {'x': '2020-02-26', 'y': 1},\n",
    "    {'x': '2020-02-27', 'y': 1},\n",
    "    {'x': '2020-02-28', 'y': 0},\n",
    "    {'x': '2020-02-29', 'y': 0},\n",
    "    {'x': '2020-03-01', 'y': 0},\n",
    "    {'x': '2020-03-02', 'y': 2},\n",
    "    {'x': '2020-03-03', 'y': 1}]"
   ]
  },
  {
   "cell_type": "code",
   "execution_count": null,
   "metadata": {},
   "outputs": [],
   "source": []
  },
  {
   "cell_type": "markdown",
   "metadata": {},
   "source": [
    "## Assign frequency value of 1 to each news\n",
    "\n",
    "        date_index  freq\n",
    "    0\t2020-03-20\t1\n",
    "    1\t2020-03-20\t1\n",
    "    2\t2020-03-13\t1\n",
    "    3\t2020-03-19\t1\n",
    "    4\t2020-03-17\t1"
   ]
  },
  {
   "cell_type": "code",
   "execution_count": 39,
   "metadata": {},
   "outputs": [],
   "source": [
    "# done with one line:\n",
    "query_freq = pd.DataFrame({'date_index':pd.to_datetime( df_query.date ),'freq':[1 for _ in range(len(df_query))]})"
   ]
  },
  {
   "cell_type": "code",
   "execution_count": 40,
   "metadata": {},
   "outputs": [
    {
     "data": {
      "text/html": [
       "<div>\n",
       "<style scoped>\n",
       "    .dataframe tbody tr th:only-of-type {\n",
       "        vertical-align: middle;\n",
       "    }\n",
       "\n",
       "    .dataframe tbody tr th {\n",
       "        vertical-align: top;\n",
       "    }\n",
       "\n",
       "    .dataframe thead th {\n",
       "        text-align: right;\n",
       "    }\n",
       "</style>\n",
       "<table border=\"1\" class=\"dataframe\">\n",
       "  <thead>\n",
       "    <tr style=\"text-align: right;\">\n",
       "      <th></th>\n",
       "      <th>date_index</th>\n",
       "      <th>freq</th>\n",
       "    </tr>\n",
       "  </thead>\n",
       "  <tbody>\n",
       "    <tr>\n",
       "      <th>0</th>\n",
       "      <td>2022-03-14</td>\n",
       "      <td>1</td>\n",
       "    </tr>\n",
       "    <tr>\n",
       "      <th>11</th>\n",
       "      <td>2022-03-14</td>\n",
       "      <td>1</td>\n",
       "    </tr>\n",
       "    <tr>\n",
       "      <th>19</th>\n",
       "      <td>2022-03-14</td>\n",
       "      <td>1</td>\n",
       "    </tr>\n",
       "    <tr>\n",
       "      <th>22</th>\n",
       "      <td>2022-03-11</td>\n",
       "      <td>1</td>\n",
       "    </tr>\n",
       "    <tr>\n",
       "      <th>33</th>\n",
       "      <td>2022-03-09</td>\n",
       "      <td>1</td>\n",
       "    </tr>\n",
       "    <tr>\n",
       "      <th>56</th>\n",
       "      <td>2022-03-13</td>\n",
       "      <td>1</td>\n",
       "    </tr>\n",
       "    <tr>\n",
       "      <th>61</th>\n",
       "      <td>2022-03-14</td>\n",
       "      <td>1</td>\n",
       "    </tr>\n",
       "    <tr>\n",
       "      <th>75</th>\n",
       "      <td>2022-03-14</td>\n",
       "      <td>1</td>\n",
       "    </tr>\n",
       "    <tr>\n",
       "      <th>84</th>\n",
       "      <td>2022-03-14</td>\n",
       "      <td>1</td>\n",
       "    </tr>\n",
       "    <tr>\n",
       "      <th>88</th>\n",
       "      <td>2022-03-14</td>\n",
       "      <td>1</td>\n",
       "    </tr>\n",
       "    <tr>\n",
       "      <th>98</th>\n",
       "      <td>2022-03-14</td>\n",
       "      <td>1</td>\n",
       "    </tr>\n",
       "    <tr>\n",
       "      <th>107</th>\n",
       "      <td>2022-03-14</td>\n",
       "      <td>1</td>\n",
       "    </tr>\n",
       "    <tr>\n",
       "      <th>110</th>\n",
       "      <td>2022-03-14</td>\n",
       "      <td>1</td>\n",
       "    </tr>\n",
       "    <tr>\n",
       "      <th>140</th>\n",
       "      <td>2022-03-14</td>\n",
       "      <td>1</td>\n",
       "    </tr>\n",
       "    <tr>\n",
       "      <th>141</th>\n",
       "      <td>2022-03-14</td>\n",
       "      <td>1</td>\n",
       "    </tr>\n",
       "    <tr>\n",
       "      <th>142</th>\n",
       "      <td>2022-03-14</td>\n",
       "      <td>1</td>\n",
       "    </tr>\n",
       "    <tr>\n",
       "      <th>143</th>\n",
       "      <td>2022-03-14</td>\n",
       "      <td>1</td>\n",
       "    </tr>\n",
       "    <tr>\n",
       "      <th>144</th>\n",
       "      <td>2022-03-14</td>\n",
       "      <td>1</td>\n",
       "    </tr>\n",
       "    <tr>\n",
       "      <th>149</th>\n",
       "      <td>2022-03-14</td>\n",
       "      <td>1</td>\n",
       "    </tr>\n",
       "    <tr>\n",
       "      <th>151</th>\n",
       "      <td>2022-03-14</td>\n",
       "      <td>1</td>\n",
       "    </tr>\n",
       "    <tr>\n",
       "      <th>152</th>\n",
       "      <td>2022-03-14</td>\n",
       "      <td>1</td>\n",
       "    </tr>\n",
       "    <tr>\n",
       "      <th>179</th>\n",
       "      <td>2022-03-14</td>\n",
       "      <td>1</td>\n",
       "    </tr>\n",
       "    <tr>\n",
       "      <th>184</th>\n",
       "      <td>2022-03-14</td>\n",
       "      <td>1</td>\n",
       "    </tr>\n",
       "    <tr>\n",
       "      <th>191</th>\n",
       "      <td>2022-03-13</td>\n",
       "      <td>1</td>\n",
       "    </tr>\n",
       "    <tr>\n",
       "      <th>195</th>\n",
       "      <td>2022-03-14</td>\n",
       "      <td>1</td>\n",
       "    </tr>\n",
       "    <tr>\n",
       "      <th>204</th>\n",
       "      <td>2022-03-14</td>\n",
       "      <td>1</td>\n",
       "    </tr>\n",
       "  </tbody>\n",
       "</table>\n",
       "</div>"
      ],
      "text/plain": [
       "    date_index  freq\n",
       "0   2022-03-14     1\n",
       "11  2022-03-14     1\n",
       "19  2022-03-14     1\n",
       "22  2022-03-11     1\n",
       "33  2022-03-09     1\n",
       "56  2022-03-13     1\n",
       "61  2022-03-14     1\n",
       "75  2022-03-14     1\n",
       "84  2022-03-14     1\n",
       "88  2022-03-14     1\n",
       "98  2022-03-14     1\n",
       "107 2022-03-14     1\n",
       "110 2022-03-14     1\n",
       "140 2022-03-14     1\n",
       "141 2022-03-14     1\n",
       "142 2022-03-14     1\n",
       "143 2022-03-14     1\n",
       "144 2022-03-14     1\n",
       "149 2022-03-14     1\n",
       "151 2022-03-14     1\n",
       "152 2022-03-14     1\n",
       "179 2022-03-14     1\n",
       "184 2022-03-14     1\n",
       "191 2022-03-13     1\n",
       "195 2022-03-14     1\n",
       "204 2022-03-14     1"
      ]
     },
     "execution_count": 40,
     "metadata": {},
     "output_type": "execute_result"
    }
   ],
   "source": [
    "query_freq"
   ]
  },
  {
   "cell_type": "markdown",
   "metadata": {},
   "source": [
    "### How to make it?"
   ]
  },
  {
   "cell_type": "code",
   "execution_count": 15,
   "metadata": {},
   "outputs": [
    {
     "data": {
      "text/plain": [
       "{'key': ['one', 'two', 'three'], 'value': [1, 2, 3]}"
      ]
     },
     "execution_count": 15,
     "metadata": {},
     "output_type": "execute_result"
    }
   ],
   "source": [
    "{'key':['one','two','three'], 'value':[1,2,3]}"
   ]
  },
  {
   "cell_type": "code",
   "execution_count": 16,
   "metadata": {},
   "outputs": [
    {
     "data": {
      "text/html": [
       "<div>\n",
       "<style scoped>\n",
       "    .dataframe tbody tr th:only-of-type {\n",
       "        vertical-align: middle;\n",
       "    }\n",
       "\n",
       "    .dataframe tbody tr th {\n",
       "        vertical-align: top;\n",
       "    }\n",
       "\n",
       "    .dataframe thead th {\n",
       "        text-align: right;\n",
       "    }\n",
       "</style>\n",
       "<table border=\"1\" class=\"dataframe\">\n",
       "  <thead>\n",
       "    <tr style=\"text-align: right;\">\n",
       "      <th></th>\n",
       "      <th>key</th>\n",
       "      <th>value</th>\n",
       "    </tr>\n",
       "  </thead>\n",
       "  <tbody>\n",
       "    <tr>\n",
       "      <th>0</th>\n",
       "      <td>one</td>\n",
       "      <td>1</td>\n",
       "    </tr>\n",
       "    <tr>\n",
       "      <th>1</th>\n",
       "      <td>two</td>\n",
       "      <td>2</td>\n",
       "    </tr>\n",
       "    <tr>\n",
       "      <th>2</th>\n",
       "      <td>three</td>\n",
       "      <td>3</td>\n",
       "    </tr>\n",
       "  </tbody>\n",
       "</table>\n",
       "</div>"
      ],
      "text/plain": [
       "     key  value\n",
       "0    one      1\n",
       "1    two      2\n",
       "2  three      3"
      ]
     },
     "execution_count": 16,
     "metadata": {},
     "output_type": "execute_result"
    }
   ],
   "source": [
    "pd.DataFrame({'key':['one','two','three'], 'value':[1,2,3]})"
   ]
  },
  {
   "cell_type": "code",
   "execution_count": 17,
   "metadata": {},
   "outputs": [
    {
     "data": {
      "text/plain": [
       "{'date_index': 0     2022-03-14\n",
       " 11    2022-03-14\n",
       " 19    2022-03-14\n",
       " 22    2022-03-11\n",
       " 33    2022-03-09\n",
       " 56    2022-03-13\n",
       " 61    2022-03-14\n",
       " 75    2022-03-14\n",
       " 84    2022-03-14\n",
       " 88    2022-03-14\n",
       " 98    2022-03-14\n",
       " 107   2022-03-14\n",
       " 110   2022-03-14\n",
       " 140   2022-03-14\n",
       " 141   2022-03-14\n",
       " 142   2022-03-14\n",
       " 143   2022-03-14\n",
       " 144   2022-03-14\n",
       " 149   2022-03-14\n",
       " 151   2022-03-14\n",
       " 152   2022-03-14\n",
       " 179   2022-03-14\n",
       " 184   2022-03-14\n",
       " 191   2022-03-13\n",
       " 195   2022-03-14\n",
       " 204   2022-03-14\n",
       " Name: date, dtype: datetime64[ns],\n",
       " 'freq': [1,\n",
       "  1,\n",
       "  1,\n",
       "  1,\n",
       "  1,\n",
       "  1,\n",
       "  1,\n",
       "  1,\n",
       "  1,\n",
       "  1,\n",
       "  1,\n",
       "  1,\n",
       "  1,\n",
       "  1,\n",
       "  1,\n",
       "  1,\n",
       "  1,\n",
       "  1,\n",
       "  1,\n",
       "  1,\n",
       "  1,\n",
       "  1,\n",
       "  1,\n",
       "  1,\n",
       "  1,\n",
       "  1]}"
      ]
     },
     "execution_count": 17,
     "metadata": {},
     "output_type": "execute_result"
    }
   ],
   "source": [
    "{'date_index':pd.to_datetime( df_query.date ),'freq':[1 for _ in range(len(df_query))]}"
   ]
  },
  {
   "cell_type": "code",
   "execution_count": 18,
   "metadata": {
    "scrolled": true
   },
   "outputs": [
    {
     "data": {
      "text/plain": [
       "0      2022-03-14\n",
       "11     2022-03-14\n",
       "19     2022-03-14\n",
       "22     2022-03-11\n",
       "33     2022-03-09\n",
       "56     2022-03-13\n",
       "61     2022-03-14\n",
       "75     2022-03-14\n",
       "84     2022-03-14\n",
       "88     2022-03-14\n",
       "98     2022-03-14\n",
       "107    2022-03-14\n",
       "110    2022-03-14\n",
       "140    2022-03-14\n",
       "141    2022-03-14\n",
       "142    2022-03-14\n",
       "143    2022-03-14\n",
       "144    2022-03-14\n",
       "149    2022-03-14\n",
       "151    2022-03-14\n",
       "152    2022-03-14\n",
       "179    2022-03-14\n",
       "184    2022-03-14\n",
       "191    2022-03-13\n",
       "195    2022-03-14\n",
       "204    2022-03-14\n",
       "Name: date, dtype: object"
      ]
     },
     "execution_count": 18,
     "metadata": {},
     "output_type": "execute_result"
    }
   ],
   "source": [
    "df_query.date # date is string format"
   ]
  },
  {
   "cell_type": "code",
   "execution_count": 19,
   "metadata": {},
   "outputs": [
    {
     "data": {
      "text/plain": [
       "0     2022-03-14\n",
       "11    2022-03-14\n",
       "19    2022-03-14\n",
       "22    2022-03-11\n",
       "33    2022-03-09\n",
       "56    2022-03-13\n",
       "61    2022-03-14\n",
       "75    2022-03-14\n",
       "84    2022-03-14\n",
       "88    2022-03-14\n",
       "98    2022-03-14\n",
       "107   2022-03-14\n",
       "110   2022-03-14\n",
       "140   2022-03-14\n",
       "141   2022-03-14\n",
       "142   2022-03-14\n",
       "143   2022-03-14\n",
       "144   2022-03-14\n",
       "149   2022-03-14\n",
       "151   2022-03-14\n",
       "152   2022-03-14\n",
       "179   2022-03-14\n",
       "184   2022-03-14\n",
       "191   2022-03-13\n",
       "195   2022-03-14\n",
       "204   2022-03-14\n",
       "Name: date, dtype: datetime64[ns]"
      ]
     },
     "execution_count": 19,
     "metadata": {},
     "output_type": "execute_result"
    }
   ],
   "source": [
    "# convert to datetime format\n",
    "pd.to_datetime( df_query.date )"
   ]
  },
  {
   "cell_type": "code",
   "execution_count": 20,
   "metadata": {},
   "outputs": [
    {
     "data": {
      "text/plain": [
       "[1, 1, 1, 1, 1, 1, 1, 1, 1, 1, 1, 1, 1, 1, 1, 1, 1, 1, 1, 1, 1, 1, 1, 1, 1, 1]"
      ]
     },
     "execution_count": 20,
     "metadata": {},
     "output_type": "execute_result"
    }
   ],
   "source": [
    "[1 for _ in range(len(df_query))]"
   ]
  },
  {
   "cell_type": "code",
   "execution_count": 21,
   "metadata": {},
   "outputs": [
    {
     "data": {
      "text/plain": [
       "{'date_index': 0     2022-03-14\n",
       " 11    2022-03-14\n",
       " 19    2022-03-14\n",
       " 22    2022-03-11\n",
       " 33    2022-03-09\n",
       " 56    2022-03-13\n",
       " 61    2022-03-14\n",
       " 75    2022-03-14\n",
       " 84    2022-03-14\n",
       " 88    2022-03-14\n",
       " 98    2022-03-14\n",
       " 107   2022-03-14\n",
       " 110   2022-03-14\n",
       " 140   2022-03-14\n",
       " 141   2022-03-14\n",
       " 142   2022-03-14\n",
       " 143   2022-03-14\n",
       " 144   2022-03-14\n",
       " 149   2022-03-14\n",
       " 151   2022-03-14\n",
       " 152   2022-03-14\n",
       " 179   2022-03-14\n",
       " 184   2022-03-14\n",
       " 191   2022-03-13\n",
       " 195   2022-03-14\n",
       " 204   2022-03-14\n",
       " Name: date, dtype: datetime64[ns],\n",
       " 'freq': [1,\n",
       "  1,\n",
       "  1,\n",
       "  1,\n",
       "  1,\n",
       "  1,\n",
       "  1,\n",
       "  1,\n",
       "  1,\n",
       "  1,\n",
       "  1,\n",
       "  1,\n",
       "  1,\n",
       "  1,\n",
       "  1,\n",
       "  1,\n",
       "  1,\n",
       "  1,\n",
       "  1,\n",
       "  1,\n",
       "  1,\n",
       "  1,\n",
       "  1,\n",
       "  1,\n",
       "  1,\n",
       "  1]}"
      ]
     },
     "execution_count": 21,
     "metadata": {},
     "output_type": "execute_result"
    }
   ],
   "source": [
    "# dict format \n",
    "{'date_index':pd.to_datetime( df_query.date ),'freq':[1 for _ in range(len(df_query))]}"
   ]
  },
  {
   "cell_type": "code",
   "execution_count": 22,
   "metadata": {},
   "outputs": [
    {
     "data": {
      "text/html": [
       "<div>\n",
       "<style scoped>\n",
       "    .dataframe tbody tr th:only-of-type {\n",
       "        vertical-align: middle;\n",
       "    }\n",
       "\n",
       "    .dataframe tbody tr th {\n",
       "        vertical-align: top;\n",
       "    }\n",
       "\n",
       "    .dataframe thead th {\n",
       "        text-align: right;\n",
       "    }\n",
       "</style>\n",
       "<table border=\"1\" class=\"dataframe\">\n",
       "  <thead>\n",
       "    <tr style=\"text-align: right;\">\n",
       "      <th></th>\n",
       "      <th>date_index</th>\n",
       "      <th>freq</th>\n",
       "    </tr>\n",
       "  </thead>\n",
       "  <tbody>\n",
       "    <tr>\n",
       "      <th>0</th>\n",
       "      <td>2022-03-14</td>\n",
       "      <td>1</td>\n",
       "    </tr>\n",
       "    <tr>\n",
       "      <th>11</th>\n",
       "      <td>2022-03-14</td>\n",
       "      <td>1</td>\n",
       "    </tr>\n",
       "    <tr>\n",
       "      <th>19</th>\n",
       "      <td>2022-03-14</td>\n",
       "      <td>1</td>\n",
       "    </tr>\n",
       "    <tr>\n",
       "      <th>22</th>\n",
       "      <td>2022-03-11</td>\n",
       "      <td>1</td>\n",
       "    </tr>\n",
       "    <tr>\n",
       "      <th>33</th>\n",
       "      <td>2022-03-09</td>\n",
       "      <td>1</td>\n",
       "    </tr>\n",
       "    <tr>\n",
       "      <th>56</th>\n",
       "      <td>2022-03-13</td>\n",
       "      <td>1</td>\n",
       "    </tr>\n",
       "    <tr>\n",
       "      <th>61</th>\n",
       "      <td>2022-03-14</td>\n",
       "      <td>1</td>\n",
       "    </tr>\n",
       "    <tr>\n",
       "      <th>75</th>\n",
       "      <td>2022-03-14</td>\n",
       "      <td>1</td>\n",
       "    </tr>\n",
       "    <tr>\n",
       "      <th>84</th>\n",
       "      <td>2022-03-14</td>\n",
       "      <td>1</td>\n",
       "    </tr>\n",
       "    <tr>\n",
       "      <th>88</th>\n",
       "      <td>2022-03-14</td>\n",
       "      <td>1</td>\n",
       "    </tr>\n",
       "    <tr>\n",
       "      <th>98</th>\n",
       "      <td>2022-03-14</td>\n",
       "      <td>1</td>\n",
       "    </tr>\n",
       "    <tr>\n",
       "      <th>107</th>\n",
       "      <td>2022-03-14</td>\n",
       "      <td>1</td>\n",
       "    </tr>\n",
       "    <tr>\n",
       "      <th>110</th>\n",
       "      <td>2022-03-14</td>\n",
       "      <td>1</td>\n",
       "    </tr>\n",
       "    <tr>\n",
       "      <th>140</th>\n",
       "      <td>2022-03-14</td>\n",
       "      <td>1</td>\n",
       "    </tr>\n",
       "    <tr>\n",
       "      <th>141</th>\n",
       "      <td>2022-03-14</td>\n",
       "      <td>1</td>\n",
       "    </tr>\n",
       "    <tr>\n",
       "      <th>142</th>\n",
       "      <td>2022-03-14</td>\n",
       "      <td>1</td>\n",
       "    </tr>\n",
       "    <tr>\n",
       "      <th>143</th>\n",
       "      <td>2022-03-14</td>\n",
       "      <td>1</td>\n",
       "    </tr>\n",
       "    <tr>\n",
       "      <th>144</th>\n",
       "      <td>2022-03-14</td>\n",
       "      <td>1</td>\n",
       "    </tr>\n",
       "    <tr>\n",
       "      <th>149</th>\n",
       "      <td>2022-03-14</td>\n",
       "      <td>1</td>\n",
       "    </tr>\n",
       "    <tr>\n",
       "      <th>151</th>\n",
       "      <td>2022-03-14</td>\n",
       "      <td>1</td>\n",
       "    </tr>\n",
       "    <tr>\n",
       "      <th>152</th>\n",
       "      <td>2022-03-14</td>\n",
       "      <td>1</td>\n",
       "    </tr>\n",
       "    <tr>\n",
       "      <th>179</th>\n",
       "      <td>2022-03-14</td>\n",
       "      <td>1</td>\n",
       "    </tr>\n",
       "    <tr>\n",
       "      <th>184</th>\n",
       "      <td>2022-03-14</td>\n",
       "      <td>1</td>\n",
       "    </tr>\n",
       "    <tr>\n",
       "      <th>191</th>\n",
       "      <td>2022-03-13</td>\n",
       "      <td>1</td>\n",
       "    </tr>\n",
       "    <tr>\n",
       "      <th>195</th>\n",
       "      <td>2022-03-14</td>\n",
       "      <td>1</td>\n",
       "    </tr>\n",
       "    <tr>\n",
       "      <th>204</th>\n",
       "      <td>2022-03-14</td>\n",
       "      <td>1</td>\n",
       "    </tr>\n",
       "  </tbody>\n",
       "</table>\n",
       "</div>"
      ],
      "text/plain": [
       "    date_index  freq\n",
       "0   2022-03-14     1\n",
       "11  2022-03-14     1\n",
       "19  2022-03-14     1\n",
       "22  2022-03-11     1\n",
       "33  2022-03-09     1\n",
       "56  2022-03-13     1\n",
       "61  2022-03-14     1\n",
       "75  2022-03-14     1\n",
       "84  2022-03-14     1\n",
       "88  2022-03-14     1\n",
       "98  2022-03-14     1\n",
       "107 2022-03-14     1\n",
       "110 2022-03-14     1\n",
       "140 2022-03-14     1\n",
       "141 2022-03-14     1\n",
       "142 2022-03-14     1\n",
       "143 2022-03-14     1\n",
       "144 2022-03-14     1\n",
       "149 2022-03-14     1\n",
       "151 2022-03-14     1\n",
       "152 2022-03-14     1\n",
       "179 2022-03-14     1\n",
       "184 2022-03-14     1\n",
       "191 2022-03-13     1\n",
       "195 2022-03-14     1\n",
       "204 2022-03-14     1"
      ]
     },
     "execution_count": 22,
     "metadata": {},
     "output_type": "execute_result"
    }
   ],
   "source": [
    "# conver to dataframe\n",
    "pd.DataFrame({'date_index':pd.to_datetime( df_query.date ),'freq':[1 for _ in range(len(df_query))]})"
   ]
  },
  {
   "cell_type": "code",
   "execution_count": 23,
   "metadata": {},
   "outputs": [],
   "source": [
    "query_freq = pd.DataFrame({'date_index':pd.to_datetime( df_query.date ),'freq':[1 for _ in range(len(df_query))]})"
   ]
  },
  {
   "cell_type": "markdown",
   "metadata": {},
   "source": [
    "## Daily frequency"
   ]
  },
  {
   "cell_type": "markdown",
   "metadata": {},
   "source": [
    "### We use pd.Grouper(). It is very powerful."
   ]
  },
  {
   "cell_type": "code",
   "execution_count": 24,
   "metadata": {},
   "outputs": [
    {
     "data": {
      "text/html": [
       "<div>\n",
       "<style scoped>\n",
       "    .dataframe tbody tr th:only-of-type {\n",
       "        vertical-align: middle;\n",
       "    }\n",
       "\n",
       "    .dataframe tbody tr th {\n",
       "        vertical-align: top;\n",
       "    }\n",
       "\n",
       "    .dataframe thead th {\n",
       "        text-align: right;\n",
       "    }\n",
       "</style>\n",
       "<table border=\"1\" class=\"dataframe\">\n",
       "  <thead>\n",
       "    <tr style=\"text-align: right;\">\n",
       "      <th></th>\n",
       "      <th>freq</th>\n",
       "    </tr>\n",
       "    <tr>\n",
       "      <th>date_index</th>\n",
       "      <th></th>\n",
       "    </tr>\n",
       "  </thead>\n",
       "  <tbody>\n",
       "    <tr>\n",
       "      <th>2022-03-09</th>\n",
       "      <td>1</td>\n",
       "    </tr>\n",
       "    <tr>\n",
       "      <th>2022-03-10</th>\n",
       "      <td>0</td>\n",
       "    </tr>\n",
       "    <tr>\n",
       "      <th>2022-03-11</th>\n",
       "      <td>1</td>\n",
       "    </tr>\n",
       "    <tr>\n",
       "      <th>2022-03-12</th>\n",
       "      <td>0</td>\n",
       "    </tr>\n",
       "    <tr>\n",
       "      <th>2022-03-13</th>\n",
       "      <td>2</td>\n",
       "    </tr>\n",
       "    <tr>\n",
       "      <th>2022-03-14</th>\n",
       "      <td>22</td>\n",
       "    </tr>\n",
       "  </tbody>\n",
       "</table>\n",
       "</div>"
      ],
      "text/plain": [
       "            freq\n",
       "date_index      \n",
       "2022-03-09     1\n",
       "2022-03-10     0\n",
       "2022-03-11     1\n",
       "2022-03-12     0\n",
       "2022-03-13     2\n",
       "2022-03-14    22"
      ]
     },
     "execution_count": 24,
     "metadata": {},
     "output_type": "execute_result"
    }
   ],
   "source": [
    "query_freq.groupby(pd.Grouper(key='date_index',freq='D')).sum()"
   ]
  },
  {
   "cell_type": "code",
   "execution_count": 25,
   "metadata": {},
   "outputs": [
    {
     "data": {
      "text/plain": [
       "TimeGrouper(key='date_index', freq=<Day>, axis=0, sort=True, dropna=True, closed='left', label='left', how='mean', convention='e', origin='start_day')"
      ]
     },
     "execution_count": 25,
     "metadata": {},
     "output_type": "execute_result"
    }
   ],
   "source": [
    "pd.Grouper(key='date_index',freq='D')"
   ]
  },
  {
   "cell_type": "code",
   "execution_count": 42,
   "metadata": {},
   "outputs": [
    {
     "data": {
      "text/html": [
       "<div>\n",
       "<style scoped>\n",
       "    .dataframe tbody tr th:only-of-type {\n",
       "        vertical-align: middle;\n",
       "    }\n",
       "\n",
       "    .dataframe tbody tr th {\n",
       "        vertical-align: top;\n",
       "    }\n",
       "\n",
       "    .dataframe thead th {\n",
       "        text-align: right;\n",
       "    }\n",
       "</style>\n",
       "<table border=\"1\" class=\"dataframe\">\n",
       "  <thead>\n",
       "    <tr style=\"text-align: right;\">\n",
       "      <th></th>\n",
       "      <th>freq</th>\n",
       "    </tr>\n",
       "    <tr>\n",
       "      <th>date_index</th>\n",
       "      <th></th>\n",
       "    </tr>\n",
       "  </thead>\n",
       "  <tbody>\n",
       "    <tr>\n",
       "      <th>2022-03-13</th>\n",
       "      <td>4</td>\n",
       "    </tr>\n",
       "    <tr>\n",
       "      <th>2022-03-20</th>\n",
       "      <td>22</td>\n",
       "    </tr>\n",
       "  </tbody>\n",
       "</table>\n",
       "</div>"
      ],
      "text/plain": [
       "            freq\n",
       "date_index      \n",
       "2022-03-13     4\n",
       "2022-03-20    22"
      ]
     },
     "execution_count": 42,
     "metadata": {},
     "output_type": "execute_result"
    }
   ],
   "source": [
    "query_freq.groupby(pd.Grouper(key='date_index',freq='W')).sum()"
   ]
  },
  {
   "cell_type": "markdown",
   "metadata": {},
   "source": [
    "## Week-based frequency"
   ]
  },
  {
   "cell_type": "code",
   "execution_count": 26,
   "metadata": {},
   "outputs": [
    {
     "data": {
      "text/html": [
       "<div>\n",
       "<style scoped>\n",
       "    .dataframe tbody tr th:only-of-type {\n",
       "        vertical-align: middle;\n",
       "    }\n",
       "\n",
       "    .dataframe tbody tr th {\n",
       "        vertical-align: top;\n",
       "    }\n",
       "\n",
       "    .dataframe thead th {\n",
       "        text-align: right;\n",
       "    }\n",
       "</style>\n",
       "<table border=\"1\" class=\"dataframe\">\n",
       "  <thead>\n",
       "    <tr style=\"text-align: right;\">\n",
       "      <th></th>\n",
       "      <th>freq</th>\n",
       "    </tr>\n",
       "    <tr>\n",
       "      <th>date_index</th>\n",
       "      <th></th>\n",
       "    </tr>\n",
       "  </thead>\n",
       "  <tbody>\n",
       "    <tr>\n",
       "      <th>2022-03-13</th>\n",
       "      <td>4</td>\n",
       "    </tr>\n",
       "    <tr>\n",
       "      <th>2022-03-20</th>\n",
       "      <td>22</td>\n",
       "    </tr>\n",
       "  </tbody>\n",
       "</table>\n",
       "</div>"
      ],
      "text/plain": [
       "            freq\n",
       "date_index      \n",
       "2022-03-13     4\n",
       "2022-03-20    22"
      ]
     },
     "execution_count": 26,
     "metadata": {},
     "output_type": "execute_result"
    }
   ],
   "source": [
    "query_freq.groupby(pd.Grouper(key='date_index',freq='W')).sum()"
   ]
  },
  {
   "cell_type": "code",
   "execution_count": null,
   "metadata": {},
   "outputs": [],
   "source": []
  },
  {
   "cell_type": "markdown",
   "metadata": {},
   "source": [
    "## draw freqency line chart"
   ]
  },
  {
   "cell_type": "code",
   "execution_count": 27,
   "metadata": {},
   "outputs": [],
   "source": [
    "# data = query_freq.groupby(pd.Grouper(key='date_index',freq='D')).sum()[['freq']]\n",
    "data = query_freq.groupby(pd.Grouper(key='date_index',freq='D')).sum()[['freq']]"
   ]
  },
  {
   "cell_type": "code",
   "execution_count": 28,
   "metadata": {},
   "outputs": [
    {
     "data": {
      "text/html": [
       "<div>\n",
       "<style scoped>\n",
       "    .dataframe tbody tr th:only-of-type {\n",
       "        vertical-align: middle;\n",
       "    }\n",
       "\n",
       "    .dataframe tbody tr th {\n",
       "        vertical-align: top;\n",
       "    }\n",
       "\n",
       "    .dataframe thead th {\n",
       "        text-align: right;\n",
       "    }\n",
       "</style>\n",
       "<table border=\"1\" class=\"dataframe\">\n",
       "  <thead>\n",
       "    <tr style=\"text-align: right;\">\n",
       "      <th></th>\n",
       "      <th>freq</th>\n",
       "    </tr>\n",
       "    <tr>\n",
       "      <th>date_index</th>\n",
       "      <th></th>\n",
       "    </tr>\n",
       "  </thead>\n",
       "  <tbody>\n",
       "    <tr>\n",
       "      <th>2022-03-09</th>\n",
       "      <td>1</td>\n",
       "    </tr>\n",
       "    <tr>\n",
       "      <th>2022-03-10</th>\n",
       "      <td>0</td>\n",
       "    </tr>\n",
       "    <tr>\n",
       "      <th>2022-03-11</th>\n",
       "      <td>1</td>\n",
       "    </tr>\n",
       "    <tr>\n",
       "      <th>2022-03-12</th>\n",
       "      <td>0</td>\n",
       "    </tr>\n",
       "    <tr>\n",
       "      <th>2022-03-13</th>\n",
       "      <td>2</td>\n",
       "    </tr>\n",
       "    <tr>\n",
       "      <th>2022-03-14</th>\n",
       "      <td>22</td>\n",
       "    </tr>\n",
       "  </tbody>\n",
       "</table>\n",
       "</div>"
      ],
      "text/plain": [
       "            freq\n",
       "date_index      \n",
       "2022-03-09     1\n",
       "2022-03-10     0\n",
       "2022-03-11     1\n",
       "2022-03-12     0\n",
       "2022-03-13     2\n",
       "2022-03-14    22"
      ]
     },
     "execution_count": 28,
     "metadata": {},
     "output_type": "execute_result"
    }
   ],
   "source": [
    "data"
   ]
  },
  {
   "cell_type": "code",
   "execution_count": null,
   "metadata": {},
   "outputs": [],
   "source": []
  },
  {
   "cell_type": "code",
   "execution_count": 29,
   "metadata": {},
   "outputs": [
    {
     "data": {
      "text/plain": [
       "pandas.core.frame.DataFrame"
      ]
     },
     "execution_count": 29,
     "metadata": {},
     "output_type": "execute_result"
    }
   ],
   "source": [
    "type(data)"
   ]
  },
  {
   "cell_type": "code",
   "execution_count": 30,
   "metadata": {},
   "outputs": [],
   "source": [
    "%matplotlib inline\n",
    "import matplotlib.pyplot as plt"
   ]
  },
  {
   "cell_type": "code",
   "execution_count": 31,
   "metadata": {},
   "outputs": [
    {
     "data": {
      "text/plain": [
       "<Axes: xlabel='date_index'>"
      ]
     },
     "execution_count": 31,
     "metadata": {},
     "output_type": "execute_result"
    },
    {
     "data": {
      "image/png": "[encoded data removed]",
      "text/plain": [
       "<Figure size 640x480 with 1 Axes>"
      ]
     },
     "metadata": {},
     "output_type": "display_data"
    }
   ],
   "source": [
    "data.plot()"
   ]
  },
  {
   "cell_type": "code",
   "execution_count": null,
   "metadata": {},
   "outputs": [],
   "source": []
  },
  {
   "cell_type": "markdown",
   "metadata": {},
   "source": [
    "## Prepare data format for JavaScrip line chart on Django website"
   ]
  },
  {
   "cell_type": "code",
   "execution_count": 32,
   "metadata": {},
   "outputs": [
    {
     "data": {
      "text/html": [
       "<div>\n",
       "<style scoped>\n",
       "    .dataframe tbody tr th:only-of-type {\n",
       "        vertical-align: middle;\n",
       "    }\n",
       "\n",
       "    .dataframe tbody tr th {\n",
       "        vertical-align: top;\n",
       "    }\n",
       "\n",
       "    .dataframe thead th {\n",
       "        text-align: right;\n",
       "    }\n",
       "</style>\n",
       "<table border=\"1\" class=\"dataframe\">\n",
       "  <thead>\n",
       "    <tr style=\"text-align: right;\">\n",
       "      <th></th>\n",
       "      <th>freq</th>\n",
       "    </tr>\n",
       "    <tr>\n",
       "      <th>date_index</th>\n",
       "      <th></th>\n",
       "    </tr>\n",
       "  </thead>\n",
       "  <tbody>\n",
       "    <tr>\n",
       "      <th>2022-03-09</th>\n",
       "      <td>1</td>\n",
       "    </tr>\n",
       "    <tr>\n",
       "      <th>2022-03-10</th>\n",
       "      <td>0</td>\n",
       "    </tr>\n",
       "  </tbody>\n",
       "</table>\n",
       "</div>"
      ],
      "text/plain": [
       "            freq\n",
       "date_index      \n",
       "2022-03-09     1\n",
       "2022-03-10     0"
      ]
     },
     "execution_count": 32,
     "metadata": {},
     "output_type": "execute_result"
    }
   ],
   "source": [
    "data.head(2)"
   ]
  },
  {
   "cell_type": "code",
   "execution_count": 33,
   "metadata": {},
   "outputs": [],
   "source": [
    "time_data=[]\n",
    "for i, date_idx in enumerate(data.index):\n",
    "    row = {'x':date_idx.strftime('%Y-%m-%d'),'y':int(data.iloc[i].freq)}\n",
    "    time_data.append(row)"
   ]
  },
  {
   "cell_type": "code",
   "execution_count": 34,
   "metadata": {},
   "outputs": [
    {
     "data": {
      "text/plain": [
       "[{'x': '2022-03-09', 'y': 1},\n",
       " {'x': '2022-03-10', 'y': 0},\n",
       " {'x': '2022-03-11', 'y': 1},\n",
       " {'x': '2022-03-12', 'y': 0},\n",
       " {'x': '2022-03-13', 'y': 2},\n",
       " {'x': '2022-03-14', 'y': 22}]"
      ]
     },
     "execution_count": 34,
     "metadata": {},
     "output_type": "execute_result"
    }
   ],
   "source": [
    "time_data"
   ]
  },
  {
   "cell_type": "code",
   "execution_count": null,
   "metadata": {},
   "outputs": [],
   "source": []
  },
  {
   "cell_type": "code",
   "execution_count": null,
   "metadata": {},
   "outputs": [],
   "source": []
  },
  {
   "cell_type": "markdown",
   "metadata": {},
   "source": [
    "# All-in-one function: Get time-based keyword frequency"
   ]
  },
  {
   "cell_type": "code",
   "execution_count": null,
   "metadata": {},
   "outputs": [],
   "source": []
  },
  {
   "cell_type": "markdown",
   "metadata": {},
   "source": [
    "# views.py for app_user_keyword"
   ]
  },
  {
   "cell_type": "raw",
   "metadata": {
    "vscode": {
     "languageId": "raw"
    }
   },
   "source": [
    "from django.shortcuts import render\n",
    "import pandas as pd\n",
    "from django.http import JsonResponse\n",
    "from django.views.decorators.csrf import csrf_exempt\n",
    "from datetime import datetime, timedelta\n",
    "\n",
    "# (1) we can load data using read_csv()\n",
    "# df is a global variable\n",
    "# df = pd.read_csv('dataset/cna_news_preprocessed.csv', sep='|')\n",
    "\n",
    "# (2) we can load data using reload_df_data() function\n",
    "def reload_df_data():\n",
    "    # make df be a global variable\n",
    "    global  df\n",
    "    df = pd.read_csv('dataset/cna_news_preprocessed.csv', sep='|')\n",
    "\n",
    "# We should reload df when necessary\n",
    "reload_df_data() \n",
    "\n",
    "def home(request):\n",
    "    return render(request, 'app_user_keyword/home.html')\n",
    "\n",
    "# When POST is used, make this function be exempted from the csrf \n",
    "@csrf_exempt\n",
    "def api_get_top_userkey(request):\n",
    "    # (1) get keywords, category, condition, and weeks passed from frontend\n",
    "    userkey = request.POST['userkey']\n",
    "    cate = request.POST['cate']\n",
    "    cond = request.POST['cond']\n",
    "    weeks = int(request.POST['weeks'])\n",
    "    key = userkey.split()\n",
    "    \n",
    "    # (2) make df_query global, so it can be used by other functions\n",
    "    global  df_query \n",
    "\n",
    "    # (3) filter dataframe\n",
    "    df_query = filter_dataFrame(key, cond, cate,weeks)\n",
    "    #print(len(df_query))\n",
    "\n",
    "    # (4) get frequency data\n",
    "    key_freq_cat, key_occurrence_cat = count_keyword(df_query, key)\n",
    "    print(key_occurrence_cat)\n",
    "    \n",
    "    # (5) get line chart data\n",
    "    # key_time_freq = [\n",
    "    # '{\"x\": \"2019-03-07\", \"y\": 2}',\n",
    "    # '{\"x\": \"2019-03-08\", \"y\": 2}',\n",
    "    # '{\"x\": \"2019-03-09\", \"y\": 13}']\n",
    "    key_time_freq = get_keyword_time_based_freq(df_query)\n",
    "\n",
    "    # (6) response all data to frontend home page\n",
    "    response = {\n",
    "    'key_occurrence_cat': key_occurrence_cat,\n",
    "    'key_freq_cat': key_freq_cat,\n",
    "    'key_time_freq': key_time_freq, }\n",
    "\n",
    "    return JsonResponse(response)\n",
    "\n",
    "from datetime import datetime, timedelta\n",
    "# Searching keywords from \"content\" column\n",
    "# Here this function uses df.content column, while filter_dataFrame() uses df.tokens_v2\n",
    "def filter_dataFrame(user_keywords, cond, cate, weeks):\n",
    "\n",
    "    # end date: the date of the latest record of news\n",
    "    end_date = df.date.max()\n",
    "    \n",
    "    # start date\n",
    "    start_date = (datetime.strptime(end_date, '%Y-%m-%d').date() - timedelta(weeks=weeks)).strftime('%Y-%m-%d')\n",
    "\n",
    "    # (1) proceed filtering: a duration of a period of time\n",
    "    # 期間條件\n",
    "    period_condition = (df.date >= start_date) & (df.date <= end_date) \n",
    "    \n",
    "    # (2) proceed filtering: news category\n",
    "    # 新聞類別條件\n",
    "    if (cate == \"全部\"):\n",
    "        condition = period_condition  # \"全部\"類別不必過濾新聞種類\n",
    "    else:\n",
    "        # category新聞類別條件\n",
    "        condition = period_condition & (df.category == cate)\n",
    "\n",
    "    # (3) proceed filtering: keywords \n",
    "    # and or 條件\n",
    "    if (cond == 'and'):\n",
    "        # query keywords condition使用者輸入關鍵字條件and\n",
    "        condition = condition & df.content.apply(lambda text: all((qk in text) for qk in user_keywords)) #寫法:all()\n",
    "    elif (cond == 'or'):\n",
    "        # query keywords condition使用者輸入關鍵字條件\n",
    "        condition = condition & df.content.apply(lambda text: any((qk in text) for qk in user_keywords)) #寫法:any()\n",
    "    # condiction is a list of True or False boolean value\n",
    "    df_query = df[condition]\n",
    "\n",
    "    return df_query\n",
    "\n",
    "\n",
    "\n",
    "# ** How many pieces of news were the keyword(s) mentioned in?\n",
    "# ** How many times were the keyword(s) mentioned?\n",
    "\n",
    "# For the df_query, count the occurence and frequency for every category:\n",
    "# (1) cate_occurence={}  number of pieces containing the keywords\n",
    "# (2) cate_freq={}       number of times the keywords were mentioned\n",
    "\n",
    "news_categories = ['全部','政治', '科技', '運動', '證卷', '產經', '娛樂', '生活', '國際', '社會', '文化', '兩岸']\n",
    "\n",
    "def count_keyword(query_df, user_keywords):\n",
    "    cate_occurence={}\n",
    "    cate_freq={}\n",
    "\n",
    "    for cate in news_categories:\n",
    "        cate_occurence[cate]=0\n",
    "        cate_freq[cate]=0\n",
    "\n",
    "    for idx, row in query_df.iterrows():\n",
    "        # count number of news\n",
    "        cate_occurence[row.category] += 1\n",
    "        cate_occurence['全部'] += 1\n",
    "        \n",
    "        # count user keyword frequency by checking every word in tokens_v2\n",
    "        tokens = eval(row.tokens_v2)\n",
    "        freq =  len([word for word in tokens if (word in user_keywords)])\n",
    "        cate_freq[row.category] += freq\n",
    "        cate_freq['全部'] += freq\n",
    "        \n",
    "    return cate_freq, cate_occurence\n",
    "\n",
    "def get_keyword_time_based_freq(df_query):\n",
    "    date_samples = df_query.date\n",
    "    query_freq = pd.DataFrame({'date_index': pd.to_datetime(date_samples), 'freq': [1 for _ in range(len(df_query))]})\n",
    "    data = query_freq.groupby(pd.Grouper(key='date_index', freq='D')).sum()\n",
    "    time_data = []\n",
    "    for i, idx in enumerate(data.index):\n",
    "        row = {'x': idx.strftime('%Y-%m-%d'), 'y': int(data.iloc[i].freq)}\n",
    "        time_data.append(row)\n",
    "    return time_data\n",
    "\n",
    "print(\"app_user_keyword was loaded!\")\n",
    "\n"
   ]
  },
  {
   "cell_type": "code",
   "execution_count": null,
   "metadata": {},
   "outputs": [],
   "source": []
  },
  {
   "cell_type": "code",
   "execution_count": null,
   "metadata": {},
   "outputs": [],
   "source": []
  },
  {
   "cell_type": "code",
   "execution_count": null,
   "metadata": {},
   "outputs": [],
   "source": []
  },
  {
   "cell_type": "code",
   "execution_count": null,
   "metadata": {},
   "outputs": [],
   "source": []
  }
 ],
 "metadata": {
  "kernelspec": {
   "display_name": "base",
   "language": "python",
   "name": "python3"
  },
  "language_info": {
   "codemirror_mode": {
    "name": "ipython",
    "version": 3
   },
   "file_extension": ".py",
   "mimetype": "text/x-python",
   "name": "python",
   "nbconvert_exporter": "python",
   "pygments_lexer": "ipython3",
   "version": "3.9.18"
  },
  "toc": {
   "base_numbering": 1,
   "nav_menu": {},
   "number_sections": true,
   "sideBar": true,
   "skip_h1_title": false,
   "title_cell": "Table of Contents",
   "title_sidebar": "Contents",
   "toc_cell": false,
   "toc_position": {},
   "toc_section_display": true,
   "toc_window_display": true
  }
 },
 "nbformat": 4,
 "nbformat_minor": 2
}
