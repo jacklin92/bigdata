{
 "cells": [
  {
   "cell_type": "markdown",
   "metadata": {},
   "source": [
    "# Filter news by time period\n",
    "\n",
    "\n",
    "greater than the start date and less than the end date"
   ]
  },
  {
   "cell_type": "markdown",
   "metadata": {},
   "source": [
    "## Find max and min date time\n",
    "\n",
    "The format of \"date\" column here is string.\n",
    "\n",
    "If it is datetime format, you should use datetime format such as datetime.date(2019,9,23)"
   ]
  },
  {
   "cell_type": "code",
   "execution_count": 27,
   "metadata": {},
   "outputs": [],
   "source": [
    "import pandas as pd"
   ]
  },
  {
   "cell_type": "code",
   "execution_count": 28,
   "metadata": {},
   "outputs": [],
   "source": [
    "df = pd.read_csv('./cna_news_preprocessed.csv',sep='|')"
   ]
  },
  {
   "cell_type": "code",
   "execution_count": 79,
   "metadata": {},
   "outputs": [
    {
     "data": {
      "text/html": [
       "<div>\n",
       "<style scoped>\n",
       "    .dataframe tbody tr th:only-of-type {\n",
       "        vertical-align: middle;\n",
       "    }\n",
       "\n",
       "    .dataframe tbody tr th {\n",
       "        vertical-align: top;\n",
       "    }\n",
       "\n",
       "    .dataframe thead th {\n",
       "        text-align: right;\n",
       "    }\n",
       "</style>\n",
       "<table border=\"1\" class=\"dataframe\">\n",
       "  <thead>\n",
       "    <tr style=\"text-align: right;\">\n",
       "      <th></th>\n",
       "      <th>item_id</th>\n",
       "      <th>date</th>\n",
       "      <th>category</th>\n",
       "      <th>title</th>\n",
       "      <th>content</th>\n",
       "      <th>sentiment</th>\n",
       "      <th>summary</th>\n",
       "      <th>top_key_freq</th>\n",
       "      <th>tokens</th>\n",
       "      <th>tokens_v2</th>\n",
       "      <th>entities</th>\n",
       "      <th>token_pos</th>\n",
       "      <th>link</th>\n",
       "      <th>photo_link</th>\n",
       "    </tr>\n",
       "  </thead>\n",
       "  <tbody>\n",
       "    <tr>\n",
       "      <th>0</th>\n",
       "      <td>aipl_20220314_1</td>\n",
       "      <td>2022-03-14</td>\n",
       "      <td>政治</td>\n",
       "      <td>外交部援烏物資已募4000箱 吳釗燮感謝捐贈民眾</td>\n",
       "      <td>民眾捐贈烏克蘭的愛心物資持續湧入外交部，截至今天傍晚累計已收到約4000箱，外交部長吳釗燮中...</td>\n",
       "      <td>0.01</td>\n",
       "      <td>['外交部除感謝熱心民眾踴躍捐贈援助烏克蘭人道物資外', '親赴外交部捐贈物資的民眾約173...</td>\n",
       "      <td>[('外交部', 14), ('民眾', 7), ('物資', 7), ('烏克蘭', 5)...</td>\n",
       "      <td>['民眾', '捐贈', '烏克蘭', '的', '愛心', '物資', '持續', '湧入...</td>\n",
       "      <td>['民眾', '烏克蘭', '愛心', '物資', '外交部', '收到', '外交部長',...</td>\n",
       "      <td>[NerToken(word='烏克蘭', ner='GPE', idx=(4, 7)), ...</td>\n",
       "      <td>[('民眾', 'Na'), ('捐贈', 'VD'), ('烏克蘭', 'Nc'), ('...</td>\n",
       "      <td>https://www.cna.com.tw/news/aipl/202203140364....</td>\n",
       "      <td>https://imgcdn.cna.com.tw/www/WebPhotos/200/20...</td>\n",
       "    </tr>\n",
       "    <tr>\n",
       "      <th>1</th>\n",
       "      <td>aipl_20220314_2</td>\n",
       "      <td>2022-03-14</td>\n",
       "      <td>政治</td>\n",
       "      <td>幻象飛官獲救 空軍：掌握跳傘時機做出好示範</td>\n",
       "      <td>空軍一架幻象戰機今天失事，飛行員成功跳傘獲救，外界關注跳傘時機點。空軍表示，此次跳傘高度於幻...</td>\n",
       "      <td>0.00</td>\n",
       "      <td>['幻象機的建議跳傘高度是2000呎', '由於此次幻象飛官成功彈射', '外界關注跳傘時機...</td>\n",
       "      <td>[('戰機', 11), ('彈射', 9), ('高度', 7), ('飛官', 7), ...</td>\n",
       "      <td>['空軍', '一', '架', '幻象', '戰機', '今天', '失事', '，', ...</td>\n",
       "      <td>['空軍', '幻象', '戰機', '飛行員', '跳傘', '獲救', '時機點', '...</td>\n",
       "      <td>[NerToken(word='今天', ner='DATE', idx=(8, 10)),...</td>\n",
       "      <td>[('空軍', 'Nc'), ('一', 'Neu'), ('架', 'Nf'), ('幻象...</td>\n",
       "      <td>https://www.cna.com.tw/news/aipl/202203140354....</td>\n",
       "      <td>NaN</td>\n",
       "    </tr>\n",
       "    <tr>\n",
       "      <th>2</th>\n",
       "      <td>aipl_20220314_3</td>\n",
       "      <td>2022-03-14</td>\n",
       "      <td>政治</td>\n",
       "      <td>法製幻象零附件取得不易 空軍：妥善率沒問題</td>\n",
       "      <td>幻象戰機今天失事，所幸飛官成功跳傘，由於法國製造的幻象戰機向來存有零附件取得不易問題，外界關...</td>\n",
       "      <td>0.00</td>\n",
       "      <td>['由於法國製造的幻象戰機向來存有零附件取得不易問題', '對於幻象機隊的整體妥善率供需沒有...</td>\n",
       "      <td>[('幻象', 13), ('戰機', 10), ('零附件', 8), ('空軍', 8)...</td>\n",
       "      <td>['幻象', '戰機', '今天', '失事', '，', '所幸', '飛官', '成功'...</td>\n",
       "      <td>['幻象', '戰機', '飛官', '跳傘', '法國', '製造', '幻象', '戰機...</td>\n",
       "      <td>[NerToken(word='今天', ner='DATE', idx=(4, 6)), ...</td>\n",
       "      <td>[('幻象', 'Na'), ('戰機', 'Na'), ('今天', 'Nd'), ('失...</td>\n",
       "      <td>https://www.cna.com.tw/news/aipl/202203140341....</td>\n",
       "      <td>NaN</td>\n",
       "    </tr>\n",
       "  </tbody>\n",
       "</table>\n",
       "</div>"
      ],
      "text/plain": [
       "           item_id        date category                     title  \\\n",
       "0  aipl_20220314_1  2022-03-14       政治  外交部援烏物資已募4000箱 吳釗燮感謝捐贈民眾   \n",
       "1  aipl_20220314_2  2022-03-14       政治     幻象飛官獲救 空軍：掌握跳傘時機做出好示範   \n",
       "2  aipl_20220314_3  2022-03-14       政治     法製幻象零附件取得不易 空軍：妥善率沒問題   \n",
       "\n",
       "                                             content  sentiment  \\\n",
       "0  民眾捐贈烏克蘭的愛心物資持續湧入外交部，截至今天傍晚累計已收到約4000箱，外交部長吳釗燮中...       0.01   \n",
       "1  空軍一架幻象戰機今天失事，飛行員成功跳傘獲救，外界關注跳傘時機點。空軍表示，此次跳傘高度於幻...       0.00   \n",
       "2  幻象戰機今天失事，所幸飛官成功跳傘，由於法國製造的幻象戰機向來存有零附件取得不易問題，外界關...       0.00   \n",
       "\n",
       "                                             summary  \\\n",
       "0  ['外交部除感謝熱心民眾踴躍捐贈援助烏克蘭人道物資外', '親赴外交部捐贈物資的民眾約173...   \n",
       "1  ['幻象機的建議跳傘高度是2000呎', '由於此次幻象飛官成功彈射', '外界關注跳傘時機...   \n",
       "2  ['由於法國製造的幻象戰機向來存有零附件取得不易問題', '對於幻象機隊的整體妥善率供需沒有...   \n",
       "\n",
       "                                        top_key_freq  \\\n",
       "0  [('外交部', 14), ('民眾', 7), ('物資', 7), ('烏克蘭', 5)...   \n",
       "1  [('戰機', 11), ('彈射', 9), ('高度', 7), ('飛官', 7), ...   \n",
       "2  [('幻象', 13), ('戰機', 10), ('零附件', 8), ('空軍', 8)...   \n",
       "\n",
       "                                              tokens  \\\n",
       "0  ['民眾', '捐贈', '烏克蘭', '的', '愛心', '物資', '持續', '湧入...   \n",
       "1  ['空軍', '一', '架', '幻象', '戰機', '今天', '失事', '，', ...   \n",
       "2  ['幻象', '戰機', '今天', '失事', '，', '所幸', '飛官', '成功'...   \n",
       "\n",
       "                                           tokens_v2  \\\n",
       "0  ['民眾', '烏克蘭', '愛心', '物資', '外交部', '收到', '外交部長',...   \n",
       "1  ['空軍', '幻象', '戰機', '飛行員', '跳傘', '獲救', '時機點', '...   \n",
       "2  ['幻象', '戰機', '飛官', '跳傘', '法國', '製造', '幻象', '戰機...   \n",
       "\n",
       "                                            entities  \\\n",
       "0  [NerToken(word='烏克蘭', ner='GPE', idx=(4, 7)), ...   \n",
       "1  [NerToken(word='今天', ner='DATE', idx=(8, 10)),...   \n",
       "2  [NerToken(word='今天', ner='DATE', idx=(4, 6)), ...   \n",
       "\n",
       "                                           token_pos  \\\n",
       "0  [('民眾', 'Na'), ('捐贈', 'VD'), ('烏克蘭', 'Nc'), ('...   \n",
       "1  [('空軍', 'Nc'), ('一', 'Neu'), ('架', 'Nf'), ('幻象...   \n",
       "2  [('幻象', 'Na'), ('戰機', 'Na'), ('今天', 'Nd'), ('失...   \n",
       "\n",
       "                                                link  \\\n",
       "0  https://www.cna.com.tw/news/aipl/202203140364....   \n",
       "1  https://www.cna.com.tw/news/aipl/202203140354....   \n",
       "2  https://www.cna.com.tw/news/aipl/202203140341....   \n",
       "\n",
       "                                          photo_link  \n",
       "0  https://imgcdn.cna.com.tw/www/WebPhotos/200/20...  \n",
       "1                                                NaN  \n",
       "2                                                NaN  "
      ]
     },
     "execution_count": 79,
     "metadata": {},
     "output_type": "execute_result"
    }
   ],
   "source": [
    "df.head(3)"
   ]
  },
  {
   "cell_type": "code",
   "execution_count": 29,
   "metadata": {},
   "outputs": [
    {
     "data": {
      "text/plain": [
       "'2022-03-14'"
      ]
     },
     "execution_count": 29,
     "metadata": {},
     "output_type": "execute_result"
    }
   ],
   "source": [
    "# maximum date time\n",
    "df.date.max()"
   ]
  },
  {
   "cell_type": "code",
   "execution_count": 30,
   "metadata": {},
   "outputs": [
    {
     "data": {
      "text/plain": [
       "'2022-03-03'"
      ]
     },
     "execution_count": 30,
     "metadata": {},
     "output_type": "execute_result"
    }
   ],
   "source": [
    "# minimum date time\n",
    "df.date.min()"
   ]
  },
  {
   "cell_type": "code",
   "execution_count": null,
   "metadata": {},
   "outputs": [],
   "source": []
  },
  {
   "cell_type": "code",
   "execution_count": 31,
   "metadata": {},
   "outputs": [
    {
     "data": {
      "text/plain": [
       "'2022-03-14'"
      ]
     },
     "execution_count": 31,
     "metadata": {},
     "output_type": "execute_result"
    }
   ],
   "source": [
    "df.iloc[0].date"
   ]
  },
  {
   "cell_type": "code",
   "execution_count": 32,
   "metadata": {},
   "outputs": [
    {
     "data": {
      "text/plain": [
       "212    2022-03-13\n",
       "Name: date, dtype: object"
      ]
     },
     "execution_count": 32,
     "metadata": {},
     "output_type": "execute_result"
    }
   ],
   "source": [
    "df.tail(1).date"
   ]
  },
  {
   "cell_type": "code",
   "execution_count": 33,
   "metadata": {
    "scrolled": true
   },
   "outputs": [
    {
     "data": {
      "text/plain": [
       "'2022-03-13'"
      ]
     },
     "execution_count": 33,
     "metadata": {},
     "output_type": "execute_result"
    }
   ],
   "source": [
    "df.iloc[-1].date"
   ]
  },
  {
   "cell_type": "markdown",
   "metadata": {},
   "source": [
    "## Find news with a specified date"
   ]
  },
  {
   "cell_type": "markdown",
   "metadata": {},
   "source": [
    "### Using query command"
   ]
  },
  {
   "cell_type": "code",
   "execution_count": 80,
   "metadata": {},
   "outputs": [
    {
     "data": {
      "text/html": [
       "<div>\n",
       "<style scoped>\n",
       "    .dataframe tbody tr th:only-of-type {\n",
       "        vertical-align: middle;\n",
       "    }\n",
       "\n",
       "    .dataframe tbody tr th {\n",
       "        vertical-align: top;\n",
       "    }\n",
       "\n",
       "    .dataframe thead th {\n",
       "        text-align: right;\n",
       "    }\n",
       "</style>\n",
       "<table border=\"1\" class=\"dataframe\">\n",
       "  <thead>\n",
       "    <tr style=\"text-align: right;\">\n",
       "      <th></th>\n",
       "      <th>item_id</th>\n",
       "      <th>date</th>\n",
       "      <th>category</th>\n",
       "      <th>title</th>\n",
       "      <th>content</th>\n",
       "      <th>sentiment</th>\n",
       "      <th>summary</th>\n",
       "      <th>top_key_freq</th>\n",
       "      <th>tokens</th>\n",
       "      <th>tokens_v2</th>\n",
       "      <th>entities</th>\n",
       "      <th>token_pos</th>\n",
       "      <th>link</th>\n",
       "      <th>photo_link</th>\n",
       "    </tr>\n",
       "  </thead>\n",
       "  <tbody>\n",
       "    <tr>\n",
       "      <th>0</th>\n",
       "      <td>aipl_20220314_1</td>\n",
       "      <td>2022-03-14</td>\n",
       "      <td>政治</td>\n",
       "      <td>外交部援烏物資已募4000箱 吳釗燮感謝捐贈民眾</td>\n",
       "      <td>民眾捐贈烏克蘭的愛心物資持續湧入外交部，截至今天傍晚累計已收到約4000箱，外交部長吳釗燮中...</td>\n",
       "      <td>0.01</td>\n",
       "      <td>['外交部除感謝熱心民眾踴躍捐贈援助烏克蘭人道物資外', '親赴外交部捐贈物資的民眾約173...</td>\n",
       "      <td>[('外交部', 14), ('民眾', 7), ('物資', 7), ('烏克蘭', 5)...</td>\n",
       "      <td>['民眾', '捐贈', '烏克蘭', '的', '愛心', '物資', '持續', '湧入...</td>\n",
       "      <td>['民眾', '烏克蘭', '愛心', '物資', '外交部', '收到', '外交部長',...</td>\n",
       "      <td>[NerToken(word='烏克蘭', ner='GPE', idx=(4, 7)), ...</td>\n",
       "      <td>[('民眾', 'Na'), ('捐贈', 'VD'), ('烏克蘭', 'Nc'), ('...</td>\n",
       "      <td>https://www.cna.com.tw/news/aipl/202203140364....</td>\n",
       "      <td>https://imgcdn.cna.com.tw/www/WebPhotos/200/20...</td>\n",
       "    </tr>\n",
       "    <tr>\n",
       "      <th>1</th>\n",
       "      <td>aipl_20220314_2</td>\n",
       "      <td>2022-03-14</td>\n",
       "      <td>政治</td>\n",
       "      <td>幻象飛官獲救 空軍：掌握跳傘時機做出好示範</td>\n",
       "      <td>空軍一架幻象戰機今天失事，飛行員成功跳傘獲救，外界關注跳傘時機點。空軍表示，此次跳傘高度於幻...</td>\n",
       "      <td>0.00</td>\n",
       "      <td>['幻象機的建議跳傘高度是2000呎', '由於此次幻象飛官成功彈射', '外界關注跳傘時機...</td>\n",
       "      <td>[('戰機', 11), ('彈射', 9), ('高度', 7), ('飛官', 7), ...</td>\n",
       "      <td>['空軍', '一', '架', '幻象', '戰機', '今天', '失事', '，', ...</td>\n",
       "      <td>['空軍', '幻象', '戰機', '飛行員', '跳傘', '獲救', '時機點', '...</td>\n",
       "      <td>[NerToken(word='今天', ner='DATE', idx=(8, 10)),...</td>\n",
       "      <td>[('空軍', 'Nc'), ('一', 'Neu'), ('架', 'Nf'), ('幻象...</td>\n",
       "      <td>https://www.cna.com.tw/news/aipl/202203140354....</td>\n",
       "      <td>NaN</td>\n",
       "    </tr>\n",
       "  </tbody>\n",
       "</table>\n",
       "</div>"
      ],
      "text/plain": [
       "           item_id        date category                     title  \\\n",
       "0  aipl_20220314_1  2022-03-14       政治  外交部援烏物資已募4000箱 吳釗燮感謝捐贈民眾   \n",
       "1  aipl_20220314_2  2022-03-14       政治     幻象飛官獲救 空軍：掌握跳傘時機做出好示範   \n",
       "\n",
       "                                             content  sentiment  \\\n",
       "0  民眾捐贈烏克蘭的愛心物資持續湧入外交部，截至今天傍晚累計已收到約4000箱，外交部長吳釗燮中...       0.01   \n",
       "1  空軍一架幻象戰機今天失事，飛行員成功跳傘獲救，外界關注跳傘時機點。空軍表示，此次跳傘高度於幻...       0.00   \n",
       "\n",
       "                                             summary  \\\n",
       "0  ['外交部除感謝熱心民眾踴躍捐贈援助烏克蘭人道物資外', '親赴外交部捐贈物資的民眾約173...   \n",
       "1  ['幻象機的建議跳傘高度是2000呎', '由於此次幻象飛官成功彈射', '外界關注跳傘時機...   \n",
       "\n",
       "                                        top_key_freq  \\\n",
       "0  [('外交部', 14), ('民眾', 7), ('物資', 7), ('烏克蘭', 5)...   \n",
       "1  [('戰機', 11), ('彈射', 9), ('高度', 7), ('飛官', 7), ...   \n",
       "\n",
       "                                              tokens  \\\n",
       "0  ['民眾', '捐贈', '烏克蘭', '的', '愛心', '物資', '持續', '湧入...   \n",
       "1  ['空軍', '一', '架', '幻象', '戰機', '今天', '失事', '，', ...   \n",
       "\n",
       "                                           tokens_v2  \\\n",
       "0  ['民眾', '烏克蘭', '愛心', '物資', '外交部', '收到', '外交部長',...   \n",
       "1  ['空軍', '幻象', '戰機', '飛行員', '跳傘', '獲救', '時機點', '...   \n",
       "\n",
       "                                            entities  \\\n",
       "0  [NerToken(word='烏克蘭', ner='GPE', idx=(4, 7)), ...   \n",
       "1  [NerToken(word='今天', ner='DATE', idx=(8, 10)),...   \n",
       "\n",
       "                                           token_pos  \\\n",
       "0  [('民眾', 'Na'), ('捐贈', 'VD'), ('烏克蘭', 'Nc'), ('...   \n",
       "1  [('空軍', 'Nc'), ('一', 'Neu'), ('架', 'Nf'), ('幻象...   \n",
       "\n",
       "                                                link  \\\n",
       "0  https://www.cna.com.tw/news/aipl/202203140364....   \n",
       "1  https://www.cna.com.tw/news/aipl/202203140354....   \n",
       "\n",
       "                                          photo_link  \n",
       "0  https://imgcdn.cna.com.tw/www/WebPhotos/200/20...  \n",
       "1                                                NaN  "
      ]
     },
     "execution_count": 80,
     "metadata": {},
     "output_type": "execute_result"
    }
   ],
   "source": [
    "df.query(\"date == '2022-03-14'\")[0:2]"
   ]
  },
  {
   "cell_type": "markdown",
   "metadata": {},
   "source": [
    "### Using column value"
   ]
  },
  {
   "cell_type": "code",
   "execution_count": 81,
   "metadata": {},
   "outputs": [
    {
     "data": {
      "text/html": [
       "<div>\n",
       "<style scoped>\n",
       "    .dataframe tbody tr th:only-of-type {\n",
       "        vertical-align: middle;\n",
       "    }\n",
       "\n",
       "    .dataframe tbody tr th {\n",
       "        vertical-align: top;\n",
       "    }\n",
       "\n",
       "    .dataframe thead th {\n",
       "        text-align: right;\n",
       "    }\n",
       "</style>\n",
       "<table border=\"1\" class=\"dataframe\">\n",
       "  <thead>\n",
       "    <tr style=\"text-align: right;\">\n",
       "      <th></th>\n",
       "      <th>item_id</th>\n",
       "      <th>date</th>\n",
       "      <th>category</th>\n",
       "      <th>title</th>\n",
       "      <th>content</th>\n",
       "      <th>sentiment</th>\n",
       "      <th>summary</th>\n",
       "      <th>top_key_freq</th>\n",
       "      <th>tokens</th>\n",
       "      <th>tokens_v2</th>\n",
       "      <th>entities</th>\n",
       "      <th>token_pos</th>\n",
       "      <th>link</th>\n",
       "      <th>photo_link</th>\n",
       "    </tr>\n",
       "  </thead>\n",
       "  <tbody>\n",
       "    <tr>\n",
       "      <th>0</th>\n",
       "      <td>aipl_20220314_1</td>\n",
       "      <td>2022-03-14</td>\n",
       "      <td>政治</td>\n",
       "      <td>外交部援烏物資已募4000箱 吳釗燮感謝捐贈民眾</td>\n",
       "      <td>民眾捐贈烏克蘭的愛心物資持續湧入外交部，截至今天傍晚累計已收到約4000箱，外交部長吳釗燮中...</td>\n",
       "      <td>0.01</td>\n",
       "      <td>['外交部除感謝熱心民眾踴躍捐贈援助烏克蘭人道物資外', '親赴外交部捐贈物資的民眾約173...</td>\n",
       "      <td>[('外交部', 14), ('民眾', 7), ('物資', 7), ('烏克蘭', 5)...</td>\n",
       "      <td>['民眾', '捐贈', '烏克蘭', '的', '愛心', '物資', '持續', '湧入...</td>\n",
       "      <td>['民眾', '烏克蘭', '愛心', '物資', '外交部', '收到', '外交部長',...</td>\n",
       "      <td>[NerToken(word='烏克蘭', ner='GPE', idx=(4, 7)), ...</td>\n",
       "      <td>[('民眾', 'Na'), ('捐贈', 'VD'), ('烏克蘭', 'Nc'), ('...</td>\n",
       "      <td>https://www.cna.com.tw/news/aipl/202203140364....</td>\n",
       "      <td>https://imgcdn.cna.com.tw/www/WebPhotos/200/20...</td>\n",
       "    </tr>\n",
       "    <tr>\n",
       "      <th>1</th>\n",
       "      <td>aipl_20220314_2</td>\n",
       "      <td>2022-03-14</td>\n",
       "      <td>政治</td>\n",
       "      <td>幻象飛官獲救 空軍：掌握跳傘時機做出好示範</td>\n",
       "      <td>空軍一架幻象戰機今天失事，飛行員成功跳傘獲救，外界關注跳傘時機點。空軍表示，此次跳傘高度於幻...</td>\n",
       "      <td>0.00</td>\n",
       "      <td>['幻象機的建議跳傘高度是2000呎', '由於此次幻象飛官成功彈射', '外界關注跳傘時機...</td>\n",
       "      <td>[('戰機', 11), ('彈射', 9), ('高度', 7), ('飛官', 7), ...</td>\n",
       "      <td>['空軍', '一', '架', '幻象', '戰機', '今天', '失事', '，', ...</td>\n",
       "      <td>['空軍', '幻象', '戰機', '飛行員', '跳傘', '獲救', '時機點', '...</td>\n",
       "      <td>[NerToken(word='今天', ner='DATE', idx=(8, 10)),...</td>\n",
       "      <td>[('空軍', 'Nc'), ('一', 'Neu'), ('架', 'Nf'), ('幻象...</td>\n",
       "      <td>https://www.cna.com.tw/news/aipl/202203140354....</td>\n",
       "      <td>NaN</td>\n",
       "    </tr>\n",
       "  </tbody>\n",
       "</table>\n",
       "</div>"
      ],
      "text/plain": [
       "           item_id        date category                     title  \\\n",
       "0  aipl_20220314_1  2022-03-14       政治  外交部援烏物資已募4000箱 吳釗燮感謝捐贈民眾   \n",
       "1  aipl_20220314_2  2022-03-14       政治     幻象飛官獲救 空軍：掌握跳傘時機做出好示範   \n",
       "\n",
       "                                             content  sentiment  \\\n",
       "0  民眾捐贈烏克蘭的愛心物資持續湧入外交部，截至今天傍晚累計已收到約4000箱，外交部長吳釗燮中...       0.01   \n",
       "1  空軍一架幻象戰機今天失事，飛行員成功跳傘獲救，外界關注跳傘時機點。空軍表示，此次跳傘高度於幻...       0.00   \n",
       "\n",
       "                                             summary  \\\n",
       "0  ['外交部除感謝熱心民眾踴躍捐贈援助烏克蘭人道物資外', '親赴外交部捐贈物資的民眾約173...   \n",
       "1  ['幻象機的建議跳傘高度是2000呎', '由於此次幻象飛官成功彈射', '外界關注跳傘時機...   \n",
       "\n",
       "                                        top_key_freq  \\\n",
       "0  [('外交部', 14), ('民眾', 7), ('物資', 7), ('烏克蘭', 5)...   \n",
       "1  [('戰機', 11), ('彈射', 9), ('高度', 7), ('飛官', 7), ...   \n",
       "\n",
       "                                              tokens  \\\n",
       "0  ['民眾', '捐贈', '烏克蘭', '的', '愛心', '物資', '持續', '湧入...   \n",
       "1  ['空軍', '一', '架', '幻象', '戰機', '今天', '失事', '，', ...   \n",
       "\n",
       "                                           tokens_v2  \\\n",
       "0  ['民眾', '烏克蘭', '愛心', '物資', '外交部', '收到', '外交部長',...   \n",
       "1  ['空軍', '幻象', '戰機', '飛行員', '跳傘', '獲救', '時機點', '...   \n",
       "\n",
       "                                            entities  \\\n",
       "0  [NerToken(word='烏克蘭', ner='GPE', idx=(4, 7)), ...   \n",
       "1  [NerToken(word='今天', ner='DATE', idx=(8, 10)),...   \n",
       "\n",
       "                                           token_pos  \\\n",
       "0  [('民眾', 'Na'), ('捐贈', 'VD'), ('烏克蘭', 'Nc'), ('...   \n",
       "1  [('空軍', 'Nc'), ('一', 'Neu'), ('架', 'Nf'), ('幻象...   \n",
       "\n",
       "                                                link  \\\n",
       "0  https://www.cna.com.tw/news/aipl/202203140364....   \n",
       "1  https://www.cna.com.tw/news/aipl/202203140354....   \n",
       "\n",
       "                                          photo_link  \n",
       "0  https://imgcdn.cna.com.tw/www/WebPhotos/200/20...  \n",
       "1                                                NaN  "
      ]
     },
     "execution_count": 81,
     "metadata": {},
     "output_type": "execute_result"
    }
   ],
   "source": [
    "df[df['date'] == '2022-03-14'][0:2]"
   ]
  },
  {
   "cell_type": "code",
   "execution_count": null,
   "metadata": {},
   "outputs": [],
   "source": []
  },
  {
   "cell_type": "code",
   "execution_count": 82,
   "metadata": {
    "scrolled": true
   },
   "outputs": [
    {
     "data": {
      "text/plain": [
       "175"
      ]
     },
     "execution_count": 82,
     "metadata": {},
     "output_type": "execute_result"
    }
   ],
   "source": [
    "# number of pieces\n",
    "len(df[df['date'] == '2022-03-14'])"
   ]
  },
  {
   "cell_type": "code",
   "execution_count": 83,
   "metadata": {
    "scrolled": true
   },
   "outputs": [
    {
     "data": {
      "text/plain": [
       "14"
      ]
     },
     "execution_count": 83,
     "metadata": {},
     "output_type": "execute_result"
    }
   ],
   "source": [
    "# number of pieces\n",
    "len(df[df['date'] == '2022-03-13'])"
   ]
  },
  {
   "cell_type": "code",
   "execution_count": 84,
   "metadata": {
    "scrolled": true
   },
   "outputs": [
    {
     "data": {
      "text/plain": [
       "4"
      ]
     },
     "execution_count": 84,
     "metadata": {},
     "output_type": "execute_result"
    }
   ],
   "source": [
    "# number of pieces\n",
    "len(df[df['date'] == '2022-03-12'])"
   ]
  },
  {
   "cell_type": "code",
   "execution_count": 85,
   "metadata": {},
   "outputs": [
    {
     "data": {
      "text/plain": [
       "0      False\n",
       "1      False\n",
       "2      False\n",
       "3      False\n",
       "4      False\n",
       "       ...  \n",
       "208    False\n",
       "209    False\n",
       "210    False\n",
       "211    False\n",
       "212    False\n",
       "Name: date, Length: 213, dtype: bool"
      ]
     },
     "execution_count": 85,
     "metadata": {},
     "output_type": "execute_result"
    }
   ],
   "source": [
    "df['date'] == '2022-03-12'"
   ]
  },
  {
   "cell_type": "code",
   "execution_count": 40,
   "metadata": {},
   "outputs": [
    {
     "data": {
      "text/html": [
       "<div>\n",
       "<style scoped>\n",
       "    .dataframe tbody tr th:only-of-type {\n",
       "        vertical-align: middle;\n",
       "    }\n",
       "\n",
       "    .dataframe tbody tr th {\n",
       "        vertical-align: top;\n",
       "    }\n",
       "\n",
       "    .dataframe thead th {\n",
       "        text-align: right;\n",
       "    }\n",
       "</style>\n",
       "<table border=\"1\" class=\"dataframe\">\n",
       "  <thead>\n",
       "    <tr style=\"text-align: right;\">\n",
       "      <th></th>\n",
       "      <th>item_id</th>\n",
       "      <th>date</th>\n",
       "      <th>category</th>\n",
       "      <th>title</th>\n",
       "      <th>content</th>\n",
       "      <th>sentiment</th>\n",
       "      <th>summary</th>\n",
       "      <th>top_key_freq</th>\n",
       "      <th>tokens</th>\n",
       "      <th>tokens_v2</th>\n",
       "      <th>entities</th>\n",
       "      <th>token_pos</th>\n",
       "      <th>link</th>\n",
       "      <th>photo_link</th>\n",
       "    </tr>\n",
       "  </thead>\n",
       "  <tbody>\n",
       "    <tr>\n",
       "      <th>114</th>\n",
       "      <td>amov_20220312_15</td>\n",
       "      <td>2022-03-12</td>\n",
       "      <td>娛樂</td>\n",
       "      <td>歸亞蕾新作飆50年演技精華 導演讚夢幻演員</td>\n",
       "      <td>演藝生涯50多年、演過200多個角色的金馬影后歸亞蕾在美國推出電影新作，導演楊藜大讚歸亞蕾硬...</td>\n",
       "      <td>1.0</td>\n",
       "      <td>['演藝生涯50多年、演過200多個角色的金馬影后歸亞蕾在美國推出電影新作', '但歸亞蕾表...</td>\n",
       "      <td>[('電影', 10), ('導演', 10), ('歸亞蕾', 10), ('楊藜', 8...</td>\n",
       "      <td>['演藝', '生涯', '50', '多', '年', '、', '演', '過', '2...</td>\n",
       "      <td>['生涯', '角色', '金馬', '影后', '美國', '推出', '電影', '新作...</td>\n",
       "      <td>[NerToken(word='50多年', ner='DATE', idx=(4, 8))...</td>\n",
       "      <td>[('演藝', 'A'), ('生涯', 'Na'), ('50', 'Neu'), ('多...</td>\n",
       "      <td>https://www.cna.com.tw/news/amov/202203120224....</td>\n",
       "      <td>https://imgcdn.cna.com.tw/www/WebPhotos/200/20...</td>\n",
       "    </tr>\n",
       "    <tr>\n",
       "      <th>115</th>\n",
       "      <td>amov_20220312_16</td>\n",
       "      <td>2022-03-12</td>\n",
       "      <td>娛樂</td>\n",
       "      <td>初擁劇組意外釀2死 百白揭飆車趕戲嘆玩命</td>\n",
       "      <td>「初擁」2名工作人員昨天因意外墜谷不治，引發各界關注。演員百白在臉書分享劇組曾因趕戲飆車，或...</td>\n",
       "      <td>1.0</td>\n",
       "      <td>['她感嘆拍戲像在「玩命」', '「讓大家都有一個安全無虞的的工作環境', '演員百白在臉書...</td>\n",
       "      <td>[('演員', 6), ('工作', 4), ('拍攝', 4), ('百白', 3), (...</td>\n",
       "      <td>['「', '初擁', '」', '2', '名', '工作', '人員', '昨天', '...</td>\n",
       "      <td>['工作', '人員', '墜谷', '引發', '各界', '演員', '百白', '臉書...</td>\n",
       "      <td>[NerToken(word='2', ner='CARDINAL', idx=(4, 5)...</td>\n",
       "      <td>[('「', 'PARENTHESISCATEGORY'), ('初擁', 'D'), ('...</td>\n",
       "      <td>https://www.cna.com.tw/news/amov/202203120162....</td>\n",
       "      <td>NaN</td>\n",
       "    </tr>\n",
       "    <tr>\n",
       "      <th>116</th>\n",
       "      <td>amov_20220312_17</td>\n",
       "      <td>2022-03-12</td>\n",
       "      <td>娛樂</td>\n",
       "      <td>神仙谷意外釀兩死 炎亞綸新戲「初擁」停拍</td>\n",
       "      <td>藝人炎亞綸主演的影集「初擁」，昨天發生2名工作人員跌落溪谷死亡意外。製作公司多曼尼今天發布聲...</td>\n",
       "      <td>0.0</td>\n",
       "      <td>['多曼尼製作公司拍攝影集「初擁」2月開鏡', '因此劇組將全面停拍', '藝人炎亞綸主演的...</td>\n",
       "      <td>[('多曼尼', 5), ('拍攝', 4), ('主演', 3), ('溪谷', 3), ...</td>\n",
       "      <td>['藝人', '炎亞綸', '主演', '的', '影集', '「', '初擁', '」',...</td>\n",
       "      <td>['藝人', '炎亞綸', '主演', '影集', '工作', '人員', '跌落', '溪...</td>\n",
       "      <td>[NerToken(word='炎亞綸', ner='PERSON', idx=(2, 5)...</td>\n",
       "      <td>[('藝人', 'Na'), ('炎亞綸', 'Nb'), ('主演', 'VC'), ('...</td>\n",
       "      <td>https://www.cna.com.tw/news/amov/202203125002....</td>\n",
       "      <td>https://imgcdn.cna.com.tw/www/WebPhotos/200/20...</td>\n",
       "    </tr>\n",
       "    <tr>\n",
       "      <th>117</th>\n",
       "      <td>amov_20220312_18</td>\n",
       "      <td>2022-03-12</td>\n",
       "      <td>娛樂</td>\n",
       "      <td>「初擁」工作人員墜谷不治 炎亞綸停工盼提升台劇環境</td>\n",
       "      <td>多曼尼製作公司昨天拍攝影集「初擁」發生意外，攝影師與攝影助理不慎跌落溪谷宣告不治。炎亞綸深夜...</td>\n",
       "      <td>0.0</td>\n",
       "      <td>['炎亞綸深夜表示直到製作單位能給予工作人員正確安全措施與合理工時前', '炎亞綸說自己雖不...</td>\n",
       "      <td>[('製作', 7), ('炎亞綸', 6), ('公司', 5), ('多曼尼', 4),...</td>\n",
       "      <td>['多曼尼', '製作', '公司', '昨天', '拍攝', '影集', '「', '初擁...</td>\n",
       "      <td>['多曼尼', '製作', '公司', '拍攝', '影集', '意外', '攝影師', '...</td>\n",
       "      <td>[NerToken(word='曼尼製作公司', ner='ORG', idx=(1, 7)...</td>\n",
       "      <td>[('多曼尼', 'Nb'), ('製作', 'VC'), ('公司', 'Nc'), ('...</td>\n",
       "      <td>https://www.cna.com.tw/news/amov/202203120006....</td>\n",
       "      <td>https://imgcdn.cna.com.tw/www/webphotos/WebCov...</td>\n",
       "    </tr>\n",
       "  </tbody>\n",
       "</table>\n",
       "</div>"
      ],
      "text/plain": [
       "              item_id        date category                      title  \\\n",
       "114  amov_20220312_15  2022-03-12       娛樂      歸亞蕾新作飆50年演技精華 導演讚夢幻演員   \n",
       "115  amov_20220312_16  2022-03-12       娛樂       初擁劇組意外釀2死 百白揭飆車趕戲嘆玩命   \n",
       "116  amov_20220312_17  2022-03-12       娛樂       神仙谷意外釀兩死 炎亞綸新戲「初擁」停拍   \n",
       "117  amov_20220312_18  2022-03-12       娛樂  「初擁」工作人員墜谷不治 炎亞綸停工盼提升台劇環境   \n",
       "\n",
       "                                               content  sentiment  \\\n",
       "114  演藝生涯50多年、演過200多個角色的金馬影后歸亞蕾在美國推出電影新作，導演楊藜大讚歸亞蕾硬...        1.0   \n",
       "115  「初擁」2名工作人員昨天因意外墜谷不治，引發各界關注。演員百白在臉書分享劇組曾因趕戲飆車，或...        1.0   \n",
       "116  藝人炎亞綸主演的影集「初擁」，昨天發生2名工作人員跌落溪谷死亡意外。製作公司多曼尼今天發布聲...        0.0   \n",
       "117  多曼尼製作公司昨天拍攝影集「初擁」發生意外，攝影師與攝影助理不慎跌落溪谷宣告不治。炎亞綸深夜...        0.0   \n",
       "\n",
       "                                               summary  \\\n",
       "114  ['演藝生涯50多年、演過200多個角色的金馬影后歸亞蕾在美國推出電影新作', '但歸亞蕾表...   \n",
       "115  ['她感嘆拍戲像在「玩命」', '「讓大家都有一個安全無虞的的工作環境', '演員百白在臉書...   \n",
       "116  ['多曼尼製作公司拍攝影集「初擁」2月開鏡', '因此劇組將全面停拍', '藝人炎亞綸主演的...   \n",
       "117  ['炎亞綸深夜表示直到製作單位能給予工作人員正確安全措施與合理工時前', '炎亞綸說自己雖不...   \n",
       "\n",
       "                                          top_key_freq  \\\n",
       "114  [('電影', 10), ('導演', 10), ('歸亞蕾', 10), ('楊藜', 8...   \n",
       "115  [('演員', 6), ('工作', 4), ('拍攝', 4), ('百白', 3), (...   \n",
       "116  [('多曼尼', 5), ('拍攝', 4), ('主演', 3), ('溪谷', 3), ...   \n",
       "117  [('製作', 7), ('炎亞綸', 6), ('公司', 5), ('多曼尼', 4),...   \n",
       "\n",
       "                                                tokens  \\\n",
       "114  ['演藝', '生涯', '50', '多', '年', '、', '演', '過', '2...   \n",
       "115  ['「', '初擁', '」', '2', '名', '工作', '人員', '昨天', '...   \n",
       "116  ['藝人', '炎亞綸', '主演', '的', '影集', '「', '初擁', '」',...   \n",
       "117  ['多曼尼', '製作', '公司', '昨天', '拍攝', '影集', '「', '初擁...   \n",
       "\n",
       "                                             tokens_v2  \\\n",
       "114  ['生涯', '角色', '金馬', '影后', '美國', '推出', '電影', '新作...   \n",
       "115  ['工作', '人員', '墜谷', '引發', '各界', '演員', '百白', '臉書...   \n",
       "116  ['藝人', '炎亞綸', '主演', '影集', '工作', '人員', '跌落', '溪...   \n",
       "117  ['多曼尼', '製作', '公司', '拍攝', '影集', '意外', '攝影師', '...   \n",
       "\n",
       "                                              entities  \\\n",
       "114  [NerToken(word='50多年', ner='DATE', idx=(4, 8))...   \n",
       "115  [NerToken(word='2', ner='CARDINAL', idx=(4, 5)...   \n",
       "116  [NerToken(word='炎亞綸', ner='PERSON', idx=(2, 5)...   \n",
       "117  [NerToken(word='曼尼製作公司', ner='ORG', idx=(1, 7)...   \n",
       "\n",
       "                                             token_pos  \\\n",
       "114  [('演藝', 'A'), ('生涯', 'Na'), ('50', 'Neu'), ('多...   \n",
       "115  [('「', 'PARENTHESISCATEGORY'), ('初擁', 'D'), ('...   \n",
       "116  [('藝人', 'Na'), ('炎亞綸', 'Nb'), ('主演', 'VC'), ('...   \n",
       "117  [('多曼尼', 'Nb'), ('製作', 'VC'), ('公司', 'Nc'), ('...   \n",
       "\n",
       "                                                  link  \\\n",
       "114  https://www.cna.com.tw/news/amov/202203120224....   \n",
       "115  https://www.cna.com.tw/news/amov/202203120162....   \n",
       "116  https://www.cna.com.tw/news/amov/202203125002....   \n",
       "117  https://www.cna.com.tw/news/amov/202203120006....   \n",
       "\n",
       "                                            photo_link  \n",
       "114  https://imgcdn.cna.com.tw/www/WebPhotos/200/20...  \n",
       "115                                                NaN  \n",
       "116  https://imgcdn.cna.com.tw/www/WebPhotos/200/20...  \n",
       "117  https://imgcdn.cna.com.tw/www/webphotos/WebCov...  "
      ]
     },
     "execution_count": 40,
     "metadata": {},
     "output_type": "execute_result"
    }
   ],
   "source": [
    "df[df['date'] == '2022-03-12']"
   ]
  },
  {
   "cell_type": "code",
   "execution_count": 41,
   "metadata": {},
   "outputs": [
    {
     "data": {
      "text/plain": [
       "4"
      ]
     },
     "execution_count": 41,
     "metadata": {},
     "output_type": "execute_result"
    }
   ],
   "source": [
    "len(df[df['date'] == '2022-03-12'])"
   ]
  },
  {
   "cell_type": "code",
   "execution_count": null,
   "metadata": {},
   "outputs": [],
   "source": []
  },
  {
   "cell_type": "markdown",
   "metadata": {},
   "source": [
    "### Find news with date greater than the start date and less than the end date"
   ]
  },
  {
   "cell_type": "code",
   "execution_count": 42,
   "metadata": {},
   "outputs": [
    {
     "data": {
      "text/plain": [
       "24"
      ]
     },
     "execution_count": 42,
     "metadata": {},
     "output_type": "execute_result"
    }
   ],
   "source": [
    "df_interval = df[(df['date'] >= '2022-03-10') & (df['date'] <= '2022-03-13')]\n",
    "len(df_interval )"
   ]
  },
  {
   "cell_type": "code",
   "execution_count": 86,
   "metadata": {},
   "outputs": [
    {
     "data": {
      "text/plain": [
       "24"
      ]
     },
     "execution_count": 86,
     "metadata": {},
     "output_type": "execute_result"
    }
   ],
   "source": [
    "# same result using query\n",
    "df_interval = df.query(\"date >= '2022-03-10' & date <= '2022-03-13'\")\n",
    "len(df_interval )"
   ]
  },
  {
   "cell_type": "code",
   "execution_count": null,
   "metadata": {},
   "outputs": [],
   "source": []
  },
  {
   "cell_type": "markdown",
   "metadata": {},
   "source": [
    "# date time"
   ]
  },
  {
   "cell_type": "code",
   "execution_count": 44,
   "metadata": {},
   "outputs": [],
   "source": [
    "from datetime import datetime, timedelta, date"
   ]
  },
  {
   "cell_type": "markdown",
   "metadata": {},
   "source": [
    "### datetime and  timedelta"
   ]
  },
  {
   "cell_type": "code",
   "execution_count": 45,
   "metadata": {},
   "outputs": [],
   "source": [
    "# You can assign a specific end_date as you like."
   ]
  },
  {
   "cell_type": "code",
   "execution_count": 93,
   "metadata": {},
   "outputs": [],
   "source": [
    "end_date = date(2022,4,20)"
   ]
  },
  {
   "cell_type": "code",
   "execution_count": 94,
   "metadata": {},
   "outputs": [
    {
     "data": {
      "text/plain": [
       "datetime.date(2022, 4, 20)"
      ]
     },
     "execution_count": 94,
     "metadata": {},
     "output_type": "execute_result"
    }
   ],
   "source": [
    "end_date "
   ]
  },
  {
   "cell_type": "code",
   "execution_count": 95,
   "metadata": {},
   "outputs": [
    {
     "data": {
      "text/plain": [
       "datetime.timedelta(days=10)"
      ]
     },
     "execution_count": 95,
     "metadata": {},
     "output_type": "execute_result"
    }
   ],
   "source": [
    "timedelta(weeks=1,days=3)#算天數"
   ]
  },
  {
   "cell_type": "code",
   "execution_count": 96,
   "metadata": {},
   "outputs": [
    {
     "data": {
      "text/plain": [
       "datetime.timedelta(days=3)"
      ]
     },
     "execution_count": 96,
     "metadata": {},
     "output_type": "execute_result"
    }
   ],
   "source": [
    "timedelta(days=3)"
   ]
  },
  {
   "cell_type": "code",
   "execution_count": 97,
   "metadata": {},
   "outputs": [],
   "source": [
    "# Calculate the start date "
   ]
  },
  {
   "cell_type": "code",
   "execution_count": 98,
   "metadata": {},
   "outputs": [],
   "source": [
    "start_date = end_date  - timedelta(weeks=1,days=3)"
   ]
  },
  {
   "cell_type": "code",
   "execution_count": 99,
   "metadata": {},
   "outputs": [
    {
     "data": {
      "text/plain": [
       "datetime.date(2022, 4, 10)"
      ]
     },
     "execution_count": 99,
     "metadata": {},
     "output_type": "execute_result"
    }
   ],
   "source": [
    "start_date "
   ]
  },
  {
   "cell_type": "code",
   "execution_count": 53,
   "metadata": {},
   "outputs": [],
   "source": [
    "# convert date format into string format"
   ]
  },
  {
   "cell_type": "code",
   "execution_count": 100,
   "metadata": {},
   "outputs": [],
   "source": [
    "start_date = start_date.strftime('%Y-%m-%d')"
   ]
  },
  {
   "cell_type": "code",
   "execution_count": 55,
   "metadata": {},
   "outputs": [
    {
     "data": {
      "text/plain": [
       "'2022-04-10'"
      ]
     },
     "execution_count": 55,
     "metadata": {},
     "output_type": "execute_result"
    }
   ],
   "source": [
    "start_date "
   ]
  },
  {
   "cell_type": "code",
   "execution_count": null,
   "metadata": {},
   "outputs": [],
   "source": []
  },
  {
   "cell_type": "code",
   "execution_count": null,
   "metadata": {},
   "outputs": [],
   "source": []
  },
  {
   "cell_type": "code",
   "execution_count": 56,
   "metadata": {},
   "outputs": [],
   "source": [
    "# end_date can be today."
   ]
  },
  {
   "cell_type": "code",
   "execution_count": 102,
   "metadata": {},
   "outputs": [
    {
     "data": {
      "text/plain": [
       "datetime.date(2025, 3, 25)"
      ]
     },
     "execution_count": 102,
     "metadata": {},
     "output_type": "execute_result"
    }
   ],
   "source": [
    "date.today()"
   ]
  },
  {
   "cell_type": "code",
   "execution_count": 103,
   "metadata": {},
   "outputs": [],
   "source": [
    "end_date = date.today()"
   ]
  },
  {
   "cell_type": "code",
   "execution_count": 104,
   "metadata": {},
   "outputs": [],
   "source": [
    "start_date = date.today() - timedelta(weeks=2,days=5)"
   ]
  },
  {
   "cell_type": "code",
   "execution_count": 105,
   "metadata": {},
   "outputs": [
    {
     "data": {
      "text/plain": [
       "datetime.date(2025, 3, 6)"
      ]
     },
     "execution_count": 105,
     "metadata": {},
     "output_type": "execute_result"
    }
   ],
   "source": [
    "start_date"
   ]
  },
  {
   "cell_type": "code",
   "execution_count": 106,
   "metadata": {},
   "outputs": [
    {
     "data": {
      "text/plain": [
       "datetime.date(2025, 2, 13)"
      ]
     },
     "execution_count": 106,
     "metadata": {},
     "output_type": "execute_result"
    }
   ],
   "source": [
    "start_date = date.today() - timedelta(weeks=5,days=5)\n",
    "start_date"
   ]
  },
  {
   "cell_type": "code",
   "execution_count": null,
   "metadata": {},
   "outputs": [],
   "source": []
  },
  {
   "cell_type": "markdown",
   "metadata": {},
   "source": [
    "### How to calculate the date of previous 2 weeks"
   ]
  },
  {
   "cell_type": "code",
   "execution_count": 109,
   "metadata": {},
   "outputs": [
    {
     "data": {
      "text/plain": [
       "datetime.timedelta(days=14)"
      ]
     },
     "execution_count": 109,
     "metadata": {},
     "output_type": "execute_result"
    }
   ],
   "source": [
    "timedelta(weeks=2)"
   ]
  },
  {
   "cell_type": "code",
   "execution_count": 110,
   "metadata": {},
   "outputs": [],
   "source": [
    "# end date: the date of the latest record of news\n",
    "end_date = df.date.max()"
   ]
  },
  {
   "cell_type": "code",
   "execution_count": 111,
   "metadata": {},
   "outputs": [
    {
     "data": {
      "text/plain": [
       "'2022-03-14'"
      ]
     },
     "execution_count": 111,
     "metadata": {},
     "output_type": "execute_result"
    }
   ],
   "source": [
    "end_date"
   ]
  },
  {
   "cell_type": "code",
   "execution_count": 112,
   "metadata": {},
   "outputs": [
    {
     "data": {
      "text/plain": [
       "datetime.datetime(2022, 3, 14, 0, 0)"
      ]
     },
     "execution_count": 112,
     "metadata": {},
     "output_type": "execute_result"
    }
   ],
   "source": [
    "datetime.strptime( end_date , '%Y-%m-%d')"
   ]
  },
  {
   "cell_type": "code",
   "execution_count": 113,
   "metadata": {},
   "outputs": [
    {
     "data": {
      "text/plain": [
       "datetime.date(2022, 3, 14)"
      ]
     },
     "execution_count": 113,
     "metadata": {},
     "output_type": "execute_result"
    }
   ],
   "source": [
    "datetime.strptime( end_date , '%Y-%m-%d').date() "
   ]
  },
  {
   "cell_type": "code",
   "execution_count": 114,
   "metadata": {},
   "outputs": [
    {
     "data": {
      "text/plain": [
       "datetime.date(2022, 2, 28)"
      ]
     },
     "execution_count": 114,
     "metadata": {},
     "output_type": "execute_result"
    }
   ],
   "source": [
    "weeks=2\n",
    "datetime.strptime( end_date , '%Y-%m-%d').date() - timedelta(weeks=weeks)"
   ]
  },
  {
   "cell_type": "code",
   "execution_count": 115,
   "metadata": {},
   "outputs": [],
   "source": [
    "# start date\n",
    "start_date = (datetime.strptime( end_date , '%Y-%m-%d').date() - timedelta(weeks=weeks)).strftime('%Y-%m-%d')"
   ]
  },
  {
   "cell_type": "code",
   "execution_count": 116,
   "metadata": {},
   "outputs": [
    {
     "data": {
      "text/plain": [
       "datetime.date(2022, 2, 28)"
      ]
     },
     "execution_count": 116,
     "metadata": {},
     "output_type": "execute_result"
    }
   ],
   "source": [
    "datetime.strptime( end_date , '%Y-%m-%d').date() - timedelta(weeks=weeks)"
   ]
  },
  {
   "cell_type": "code",
   "execution_count": 70,
   "metadata": {},
   "outputs": [
    {
     "data": {
      "text/plain": [
       "'2022-02-28'"
      ]
     },
     "execution_count": 70,
     "metadata": {},
     "output_type": "execute_result"
    }
   ],
   "source": [
    "(datetime.strptime( end_date , '%Y-%m-%d').date() - timedelta(weeks=weeks)).strftime('%Y-%m-%d')"
   ]
  },
  {
   "cell_type": "code",
   "execution_count": null,
   "metadata": {},
   "outputs": [],
   "source": []
  },
  {
   "cell_type": "markdown",
   "metadata": {},
   "source": [
    "# Calculate time duration of news dataset\n",
    "\n",
    "the duration of data"
   ]
  },
  {
   "cell_type": "code",
   "execution_count": 117,
   "metadata": {},
   "outputs": [
    {
     "data": {
      "text/plain": [
       "'2022-03-03'"
      ]
     },
     "execution_count": 117,
     "metadata": {},
     "output_type": "execute_result"
    }
   ],
   "source": [
    "df.date.min()"
   ]
  },
  {
   "cell_type": "code",
   "execution_count": 118,
   "metadata": {},
   "outputs": [
    {
     "data": {
      "text/plain": [
       "'2022-03-14'"
      ]
     },
     "execution_count": 118,
     "metadata": {},
     "output_type": "execute_result"
    }
   ],
   "source": [
    "df.date.max()"
   ]
  },
  {
   "cell_type": "code",
   "execution_count": null,
   "metadata": {},
   "outputs": [],
   "source": []
  },
  {
   "cell_type": "code",
   "execution_count": 119,
   "metadata": {},
   "outputs": [],
   "source": [
    "d1 = datetime.strptime(str(df.date.min()), '%Y-%m-%d')\n",
    "d2 = datetime.strptime(str(df.date.max()), '%Y-%m-%d')"
   ]
  },
  {
   "cell_type": "code",
   "execution_count": 120,
   "metadata": {},
   "outputs": [
    {
     "data": {
      "text/plain": [
       "datetime.datetime(2022, 3, 3, 0, 0)"
      ]
     },
     "execution_count": 120,
     "metadata": {},
     "output_type": "execute_result"
    }
   ],
   "source": [
    "d1"
   ]
  },
  {
   "cell_type": "code",
   "execution_count": 121,
   "metadata": {},
   "outputs": [],
   "source": [
    "date_num = d2 - d1"
   ]
  },
  {
   "cell_type": "code",
   "execution_count": 122,
   "metadata": {},
   "outputs": [
    {
     "data": {
      "text/plain": [
       "datetime.timedelta(days=11)"
      ]
     },
     "execution_count": 122,
     "metadata": {},
     "output_type": "execute_result"
    }
   ],
   "source": [
    "date_num"
   ]
  },
  {
   "cell_type": "code",
   "execution_count": 123,
   "metadata": {
    "scrolled": true
   },
   "outputs": [
    {
     "data": {
      "text/plain": [
       "11"
      ]
     },
     "execution_count": 123,
     "metadata": {},
     "output_type": "execute_result"
    }
   ],
   "source": [
    "date_num.days"
   ]
  },
  {
   "cell_type": "code",
   "execution_count": null,
   "metadata": {},
   "outputs": [],
   "source": []
  },
  {
   "cell_type": "code",
   "execution_count": null,
   "metadata": {},
   "outputs": [],
   "source": []
  },
  {
   "cell_type": "code",
   "execution_count": null,
   "metadata": {},
   "outputs": [],
   "source": []
  }
 ],
 "metadata": {
  "kernelspec": {
   "display_name": "base",
   "language": "python",
   "name": "python3"
  },
  "language_info": {
   "codemirror_mode": {
    "name": "ipython",
    "version": 3
   },
   "file_extension": ".py",
   "mimetype": "text/x-python",
   "name": "python",
   "nbconvert_exporter": "python",
   "pygments_lexer": "ipython3",
   "version": "3.9.18"
  },
  "toc": {
   "base_numbering": 1,
   "nav_menu": {},
   "number_sections": true,
   "sideBar": true,
   "skip_h1_title": false,
   "title_cell": "Table of Contents",
   "title_sidebar": "Contents",
   "toc_cell": false,
   "toc_position": {},
   "toc_section_display": true,
   "toc_window_display": false
  }
 },
 "nbformat": 4,
 "nbformat_minor": 2
}
