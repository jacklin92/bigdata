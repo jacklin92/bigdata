{
 "cells": [
  {
   "attachments": {},
   "cell_type": "markdown",
   "metadata": {},
   "source": [
    "# User keyword query\n",
    "\n",
    "    Input 1: user query keywords\n",
    "    Input 2: condition--and, or\n",
    "\n",
    "    Output: frequency of the keywords\n",
    "    (1): How many times are the keywords mentioned? 這個關鍵字被提到多少次?\n",
    "    (2): How many pieces of news contain (mention) the keywords?  有幾篇新聞提到這個關鍵字?\n",
    "\n",
    "    First article: ['肺炎','疫情', '肺炎']\n",
    "    Second article:['陳時中','指揮中心','肺炎','陳時中']\n",
    "\n",
    "    肺炎: \n",
    "    (1) '肺炎' are mentioned three times.  ==> frequency is 3\n",
    "    (2) Two pieces of news mention '肺炎'. ==> occurrence is 2\n",
    "\n",
    "    陳時中: \n",
    "    (1) '陳時中' are mentioned two times.  ==> frequency is 2\n",
    "    (2) One pieces of news mention '陳時中'. ==> occurrence is 1\n",
    "    \n"
   ]
  },
  {
   "cell_type": "markdown",
   "metadata": {},
   "source": [
    "# Step 0: Load preprocessed news dataset"
   ]
  },
  {
   "cell_type": "code",
   "execution_count": 17,
   "metadata": {},
   "outputs": [],
   "source": [
    "import pandas as pd\n",
    "from datetime import datetime, timedelta"
   ]
  },
  {
   "cell_type": "code",
   "execution_count": 18,
   "metadata": {},
   "outputs": [],
   "source": [
    "df = pd.read_csv('./cna_news_preprocessed.csv',sep='|')"
   ]
  },
  {
   "cell_type": "code",
   "execution_count": 19,
   "metadata": {},
   "outputs": [
    {
     "data": {
      "text/html": [
       "<div>\n",
       "<style scoped>\n",
       "    .dataframe tbody tr th:only-of-type {\n",
       "        vertical-align: middle;\n",
       "    }\n",
       "\n",
       "    .dataframe tbody tr th {\n",
       "        vertical-align: top;\n",
       "    }\n",
       "\n",
       "    .dataframe thead th {\n",
       "        text-align: right;\n",
       "    }\n",
       "</style>\n",
       "<table border=\"1\" class=\"dataframe\">\n",
       "  <thead>\n",
       "    <tr style=\"text-align: right;\">\n",
       "      <th></th>\n",
       "      <th>item_id</th>\n",
       "      <th>date</th>\n",
       "      <th>category</th>\n",
       "      <th>title</th>\n",
       "      <th>content</th>\n",
       "      <th>sentiment</th>\n",
       "      <th>summary</th>\n",
       "      <th>top_key_freq</th>\n",
       "      <th>tokens</th>\n",
       "      <th>tokens_v2</th>\n",
       "      <th>entities</th>\n",
       "      <th>token_pos</th>\n",
       "      <th>link</th>\n",
       "      <th>photo_link</th>\n",
       "    </tr>\n",
       "  </thead>\n",
       "  <tbody>\n",
       "    <tr>\n",
       "      <th>0</th>\n",
       "      <td>aipl_20220314_1</td>\n",
       "      <td>2022-03-14</td>\n",
       "      <td>政治</td>\n",
       "      <td>外交部援烏物資已募4000箱 吳釗燮感謝捐贈民眾</td>\n",
       "      <td>民眾捐贈烏克蘭的愛心物資持續湧入外交部，截至今天傍晚累計已收到約4000箱，外交部長吳釗燮中...</td>\n",
       "      <td>0.01</td>\n",
       "      <td>['外交部除感謝熱心民眾踴躍捐贈援助烏克蘭人道物資外', '親赴外交部捐贈物資的民眾約173...</td>\n",
       "      <td>[('外交部', 14), ('民眾', 7), ('物資', 7), ('烏克蘭', 5)...</td>\n",
       "      <td>['民眾', '捐贈', '烏克蘭', '的', '愛心', '物資', '持續', '湧入...</td>\n",
       "      <td>['民眾', '烏克蘭', '愛心', '物資', '外交部', '收到', '外交部長',...</td>\n",
       "      <td>[NerToken(word='烏克蘭', ner='GPE', idx=(4, 7)), ...</td>\n",
       "      <td>[('民眾', 'Na'), ('捐贈', 'VD'), ('烏克蘭', 'Nc'), ('...</td>\n",
       "      <td>https://www.cna.com.tw/news/aipl/202203140364....</td>\n",
       "      <td>https://imgcdn.cna.com.tw/www/WebPhotos/200/20...</td>\n",
       "    </tr>\n",
       "  </tbody>\n",
       "</table>\n",
       "</div>"
      ],
      "text/plain": [
       "           item_id        date category                     title  \\\n",
       "0  aipl_20220314_1  2022-03-14       政治  外交部援烏物資已募4000箱 吳釗燮感謝捐贈民眾   \n",
       "\n",
       "                                             content  sentiment  \\\n",
       "0  民眾捐贈烏克蘭的愛心物資持續湧入外交部，截至今天傍晚累計已收到約4000箱，外交部長吳釗燮中...       0.01   \n",
       "\n",
       "                                             summary  \\\n",
       "0  ['外交部除感謝熱心民眾踴躍捐贈援助烏克蘭人道物資外', '親赴外交部捐贈物資的民眾約173...   \n",
       "\n",
       "                                        top_key_freq  \\\n",
       "0  [('外交部', 14), ('民眾', 7), ('物資', 7), ('烏克蘭', 5)...   \n",
       "\n",
       "                                              tokens  \\\n",
       "0  ['民眾', '捐贈', '烏克蘭', '的', '愛心', '物資', '持續', '湧入...   \n",
       "\n",
       "                                           tokens_v2  \\\n",
       "0  ['民眾', '烏克蘭', '愛心', '物資', '外交部', '收到', '外交部長',...   \n",
       "\n",
       "                                            entities  \\\n",
       "0  [NerToken(word='烏克蘭', ner='GPE', idx=(4, 7)), ...   \n",
       "\n",
       "                                           token_pos  \\\n",
       "0  [('民眾', 'Na'), ('捐贈', 'VD'), ('烏克蘭', 'Nc'), ('...   \n",
       "\n",
       "                                                link  \\\n",
       "0  https://www.cna.com.tw/news/aipl/202203140364....   \n",
       "\n",
       "                                          photo_link  \n",
       "0  https://imgcdn.cna.com.tw/www/WebPhotos/200/20...  "
      ]
     },
     "execution_count": 19,
     "metadata": {},
     "output_type": "execute_result"
    }
   ],
   "source": [
    "df.head(1)"
   ]
  },
  {
   "cell_type": "markdown",
   "metadata": {},
   "source": [
    "# Step 1: Select news with user input keywords, category, duration"
   ]
  },
  {
   "cell_type": "markdown",
   "metadata": {},
   "source": [
    "## (1)Improved Search from \"content\" column"
   ]
  },
  {
   "cell_type": "code",
   "execution_count": 20,
   "metadata": {},
   "outputs": [],
   "source": [
    "from datetime import datetime, timedelta\n",
    "# Searching keywords from \"content\" column\n",
    "# Here this function uses df.content column, while filter_dataFrame() uses df.tokens_v2\n",
    "def filter_dataFrame(user_keywords, cond, cate, weeks):#關鍵字、and、or、分類、週數\n",
    "\n",
    "    # end date: the date of the latest record of news\n",
    "    end_date = df.date.max()\n",
    "    \n",
    "    # start date\n",
    "    start_date = (datetime.strptime(end_date, '%Y-%m-%d').date() - timedelta(weeks=weeks)).strftime('%Y-%m-%d')\n",
    "\n",
    "    # (1) proceed filtering: a duration of a period of time\n",
    "    # 期間條件\n",
    "    period_condition = (df.date >= start_date) & (df.date <= end_date) \n",
    "    \n",
    "    # (2) proceed filtering: news category\n",
    "    # 新聞類別條件\n",
    "    if (cate == \"全部\"):\n",
    "        condition = period_condition  # \"全部\"類別不必過濾新聞種類\n",
    "    else:\n",
    "        # category新聞類別條件\n",
    "        condition = period_condition & (df.category == cate)\n",
    "\n",
    "    # (3) proceed filtering: keywords \n",
    "    # and or 條件\n",
    "    if (cond == 'and'):\n",
    "        # query keywords condition使用者輸入關鍵字條件and\n",
    "        condition = condition & df.content.apply(lambda text: all((qk in text) for qk in user_keywords)) #寫法:all()\n",
    "    elif (cond == 'or'):\n",
    "        # query keywords condition使用者輸入關鍵字條件\n",
    "        condition = condition & df.content.apply(lambda text: any((qk in text) for qk in user_keywords)) #寫法:any()\n",
    "    # condiction is a list of True or False boolean value\n",
    "    df_query = df[condition]\n",
    "\n",
    "    return df_query\n"
   ]
  },
  {
   "cell_type": "markdown",
   "metadata": {},
   "source": [
    "## (2)Search keywords from \"content\" column (Another way)"
   ]
  },
  {
   "cell_type": "code",
   "execution_count": 21,
   "metadata": {},
   "outputs": [],
   "source": [
    "# Searching keywords from \"content\" column\n",
    "# Here this function uses df.content column, while filter_dataFrame() uses df.tokens_v2\n",
    "def filter_dataFrame_fullText_v0(user_keywords, cond, cate, weeks):\n",
    "\n",
    "    # end date: the date of the latest record of news\n",
    "    end_date = df.date.max()\n",
    "    \n",
    "    # start date\n",
    "    start_date = (datetime.strptime(end_date, '%Y-%m-%d').date() - timedelta(weeks=weeks)).strftime('%Y-%m-%d')\n",
    "\n",
    "    # proceed filtering\n",
    "    if (cate == \"全部\") & (cond == 'and'):\n",
    "        df_query = df[(df.date >= start_date) & (df.date <= end_date) \n",
    "            & df.content.apply(lambda text: all((qk in text) for qk in user_keywords))]\n",
    "    elif (cate == \"全部\") & (cond == 'or'):\n",
    "        df_query = df[(df['date'] >= start_date) & (df['date'] <= end_date) \n",
    "            & df.content.apply(lambda text: any((qk in text) for qk in user_keywords))]\n",
    "    elif (cond == 'and'):\n",
    "        df_query = df[(df.category == cate) \n",
    "            & (df.date >= start_date) & (df.date <= end_date) \n",
    "            & df.content.apply(lambda text: all((qk in text) for qk in user_keywords))]\n",
    "    elif (cond == 'or'):\n",
    "        df_query = df[(df.category == cate) \n",
    "            & (df['date'] >= start_date) & (df['date'] <= end_date) \n",
    "            & df.content.apply(lambda text: any((qk in text) for qk in user_keywords))]\n",
    "\n",
    "    return df_query"
   ]
  },
  {
   "cell_type": "markdown",
   "metadata": {},
   "source": [
    "\n",
    "## (3) Search from token_v2 (Another way)"
   ]
  },
  {
   "cell_type": "code",
   "execution_count": 22,
   "metadata": {},
   "outputs": [],
   "source": [
    "# Searching keywords from \"token_v2\" column\n",
    "def filter_dataFrame_v0(user_keywords, cond, cate, weeks):\n",
    "\n",
    "    # end date: the date of the latest record of news\n",
    "    end_date = df.date.max()\n",
    "    \n",
    "    # start date\n",
    "    start_date = (datetime.strptime(end_date, '%Y-%m-%d').date() - timedelta(weeks=weeks)).strftime('%Y-%m-%d')\n",
    "\n",
    "    # proceed filtering\n",
    "    if (cate == \"全部\") & (cond == 'and'):\n",
    "        query_df = df[(df.date >= start_date) & (df.date <= end_date) \n",
    "            & df.tokens_v2.apply(lambda text: all((qk in text) for qk in user_keywords))]\n",
    "    elif (cate == \"全部\") & (cond == 'or'):\n",
    "        query_df = df[(df['date'] >= start_date) & (df['date'] <= end_date) \n",
    "            & df.tokens_v2.apply(lambda text: any((qk in text) for qk in user_keywords))]\n",
    "    elif (cond == 'and'):\n",
    "        query_df = df[(df.category == cate) \n",
    "            & (df.date >= start_date) & (df.date <= end_date) \n",
    "            & df.tokens_v2.apply(lambda text: all((qk in text) for qk in user_keywords))]\n",
    "    elif (cond == 'or'):\n",
    "        query_df = df[(df.category == cate) \n",
    "            & (df['date'] >= start_date) & (df['date'] <= end_date) \n",
    "            & df.tokens_v2.apply(lambda text: any((qk in text) for qk in user_keywords))]\n",
    "    return query_df"
   ]
  },
  {
   "cell_type": "code",
   "execution_count": 23,
   "metadata": {},
   "outputs": [
    {
     "data": {
      "text/plain": [
       "17"
      ]
     },
     "execution_count": 23,
     "metadata": {},
     "output_type": "execute_result"
    }
   ],
   "source": [
    "user_keywords=['烏克蘭','俄羅斯']\n",
    "cond='and'\n",
    "cate='全部'\n",
    "weeks=4\n",
    "df_query = filter_dataFrame(user_keywords, cond, cate, weeks)\n",
    "len(df_query)"
   ]
  },
  {
   "cell_type": "code",
   "execution_count": 24,
   "metadata": {},
   "outputs": [
    {
     "data": {
      "text/plain": [
       "8"
      ]
     },
     "execution_count": 24,
     "metadata": {},
     "output_type": "execute_result"
    }
   ],
   "source": [
    "user_keywords=['烏克蘭','俄羅斯']\n",
    "cond='and'\n",
    "cate='國際'\n",
    "weeks=4\n",
    "df_query = filter_dataFrame(user_keywords, cond, cate, weeks)\n",
    "len(df_query)"
   ]
  },
  {
   "cell_type": "code",
   "execution_count": 25,
   "metadata": {},
   "outputs": [
    {
     "data": {
      "text/plain": [
       "3"
      ]
     },
     "execution_count": 25,
     "metadata": {},
     "output_type": "execute_result"
    }
   ],
   "source": [
    "user_keywords=['烏克蘭','俄羅斯']\n",
    "cond='or'\n",
    "cate='政治'\n",
    "weeks=4\n",
    "df_query = filter_dataFrame(user_keywords, cond, cate, weeks)\n",
    "len(df_query)"
   ]
  },
  {
   "cell_type": "code",
   "execution_count": 26,
   "metadata": {},
   "outputs": [
    {
     "data": {
      "text/html": [
       "<div>\n",
       "<style scoped>\n",
       "    .dataframe tbody tr th:only-of-type {\n",
       "        vertical-align: middle;\n",
       "    }\n",
       "\n",
       "    .dataframe tbody tr th {\n",
       "        vertical-align: top;\n",
       "    }\n",
       "\n",
       "    .dataframe thead th {\n",
       "        text-align: right;\n",
       "    }\n",
       "</style>\n",
       "<table border=\"1\" class=\"dataframe\">\n",
       "  <thead>\n",
       "    <tr style=\"text-align: right;\">\n",
       "      <th></th>\n",
       "      <th>item_id</th>\n",
       "      <th>date</th>\n",
       "      <th>category</th>\n",
       "      <th>title</th>\n",
       "      <th>content</th>\n",
       "      <th>sentiment</th>\n",
       "      <th>summary</th>\n",
       "      <th>top_key_freq</th>\n",
       "      <th>tokens</th>\n",
       "      <th>tokens_v2</th>\n",
       "      <th>entities</th>\n",
       "      <th>token_pos</th>\n",
       "      <th>link</th>\n",
       "      <th>photo_link</th>\n",
       "    </tr>\n",
       "  </thead>\n",
       "  <tbody>\n",
       "    <tr>\n",
       "      <th>0</th>\n",
       "      <td>aipl_20220314_1</td>\n",
       "      <td>2022-03-14</td>\n",
       "      <td>政治</td>\n",
       "      <td>外交部援烏物資已募4000箱 吳釗燮感謝捐贈民眾</td>\n",
       "      <td>民眾捐贈烏克蘭的愛心物資持續湧入外交部，截至今天傍晚累計已收到約4000箱，外交部長吳釗燮中...</td>\n",
       "      <td>0.01</td>\n",
       "      <td>['外交部除感謝熱心民眾踴躍捐贈援助烏克蘭人道物資外', '親赴外交部捐贈物資的民眾約173...</td>\n",
       "      <td>[('外交部', 14), ('民眾', 7), ('物資', 7), ('烏克蘭', 5)...</td>\n",
       "      <td>['民眾', '捐贈', '烏克蘭', '的', '愛心', '物資', '持續', '湧入...</td>\n",
       "      <td>['民眾', '烏克蘭', '愛心', '物資', '外交部', '收到', '外交部長',...</td>\n",
       "      <td>[NerToken(word='烏克蘭', ner='GPE', idx=(4, 7)), ...</td>\n",
       "      <td>[('民眾', 'Na'), ('捐贈', 'VD'), ('烏克蘭', 'Nc'), ('...</td>\n",
       "      <td>https://www.cna.com.tw/news/aipl/202203140364....</td>\n",
       "      <td>https://imgcdn.cna.com.tw/www/WebPhotos/200/20...</td>\n",
       "    </tr>\n",
       "    <tr>\n",
       "      <th>11</th>\n",
       "      <td>aipl_20220314_12</td>\n",
       "      <td>2022-03-14</td>\n",
       "      <td>政治</td>\n",
       "      <td>賑濟烏克蘭善款 累計突破6億元</td>\n",
       "      <td>財團法人賑災基金會今天表示，賑濟烏克蘭專戶開設到今天下午4時10分，累計收到善款已突破新台幣...</td>\n",
       "      <td>0.00</td>\n",
       "      <td>['收到紐約台灣商會捐入一筆3萬5703美元、折合新台幣約101萬元的捐款', '外交部2日...</td>\n",
       "      <td>[('基金會', 6), ('烏克蘭', 6), ('收到', 4), ('新台幣', 4)...</td>\n",
       "      <td>['財團', '法人', '賑災', '基金會', '今天', '表示', '，', '賑濟...</td>\n",
       "      <td>['財團', '法人', '賑災', '基金會', '賑濟', '烏克蘭', '專戶', '...</td>\n",
       "      <td>[NerToken(word='今天', ner='DATE', idx=(9, 11)),...</td>\n",
       "      <td>[('財團', 'Na'), ('法人', 'Na'), ('賑災', 'VA'), ('基...</td>\n",
       "      <td>https://www.cna.com.tw/news/aipl/202203140241....</td>\n",
       "      <td>https://imgcdn.cna.com.tw/www/webphotos/WebCov...</td>\n",
       "    </tr>\n",
       "    <tr>\n",
       "      <th>19</th>\n",
       "      <td>aipl_20220314_20</td>\n",
       "      <td>2022-03-14</td>\n",
       "      <td>政治</td>\n",
       "      <td>徐國勇：個人贊成延長役期  花點時間讓國家永續安全</td>\n",
       "      <td>烏克蘭情勢讓台灣4個月軍事訓練役的討論浮上檯面。內政部長徐國勇今天說，這牽涉國家兵役政策，應...</td>\n",
       "      <td>0.00</td>\n",
       "      <td>['徐國勇答詢時說', '內政部長徐國勇今天說', '「一年、幾個月（役期）時間又算什麼',...</td>\n",
       "      <td>[('徐國勇', 6), ('國家', 6), ('戰爭', 4), ('延長', 3), ...</td>\n",
       "      <td>['烏克蘭', '情勢', '讓', '台灣', '4', '個', '月', '軍事', ...</td>\n",
       "      <td>['烏克蘭', '情勢', '台灣', '軍事', '訓練', '檯面', '內政部長', ...</td>\n",
       "      <td>[NerToken(word='烏克蘭', ner='GPE', idx=(0, 3)), ...</td>\n",
       "      <td>[('烏克蘭', 'Nc'), ('情勢', 'Na'), ('讓', 'VL'), ('台...</td>\n",
       "      <td>https://www.cna.com.tw/news/aipl/202203140174....</td>\n",
       "      <td>NaN</td>\n",
       "    </tr>\n",
       "  </tbody>\n",
       "</table>\n",
       "</div>"
      ],
      "text/plain": [
       "             item_id        date category                      title  \\\n",
       "0    aipl_20220314_1  2022-03-14       政治   外交部援烏物資已募4000箱 吳釗燮感謝捐贈民眾   \n",
       "11  aipl_20220314_12  2022-03-14       政治            賑濟烏克蘭善款 累計突破6億元   \n",
       "19  aipl_20220314_20  2022-03-14       政治  徐國勇：個人贊成延長役期  花點時間讓國家永續安全   \n",
       "\n",
       "                                              content  sentiment  \\\n",
       "0   民眾捐贈烏克蘭的愛心物資持續湧入外交部，截至今天傍晚累計已收到約4000箱，外交部長吳釗燮中...       0.01   \n",
       "11  財團法人賑災基金會今天表示，賑濟烏克蘭專戶開設到今天下午4時10分，累計收到善款已突破新台幣...       0.00   \n",
       "19  烏克蘭情勢讓台灣4個月軍事訓練役的討論浮上檯面。內政部長徐國勇今天說，這牽涉國家兵役政策，應...       0.00   \n",
       "\n",
       "                                              summary  \\\n",
       "0   ['外交部除感謝熱心民眾踴躍捐贈援助烏克蘭人道物資外', '親赴外交部捐贈物資的民眾約173...   \n",
       "11  ['收到紐約台灣商會捐入一筆3萬5703美元、折合新台幣約101萬元的捐款', '外交部2日...   \n",
       "19  ['徐國勇答詢時說', '內政部長徐國勇今天說', '「一年、幾個月（役期）時間又算什麼',...   \n",
       "\n",
       "                                         top_key_freq  \\\n",
       "0   [('外交部', 14), ('民眾', 7), ('物資', 7), ('烏克蘭', 5)...   \n",
       "11  [('基金會', 6), ('烏克蘭', 6), ('收到', 4), ('新台幣', 4)...   \n",
       "19  [('徐國勇', 6), ('國家', 6), ('戰爭', 4), ('延長', 3), ...   \n",
       "\n",
       "                                               tokens  \\\n",
       "0   ['民眾', '捐贈', '烏克蘭', '的', '愛心', '物資', '持續', '湧入...   \n",
       "11  ['財團', '法人', '賑災', '基金會', '今天', '表示', '，', '賑濟...   \n",
       "19  ['烏克蘭', '情勢', '讓', '台灣', '4', '個', '月', '軍事', ...   \n",
       "\n",
       "                                            tokens_v2  \\\n",
       "0   ['民眾', '烏克蘭', '愛心', '物資', '外交部', '收到', '外交部長',...   \n",
       "11  ['財團', '法人', '賑災', '基金會', '賑濟', '烏克蘭', '專戶', '...   \n",
       "19  ['烏克蘭', '情勢', '台灣', '軍事', '訓練', '檯面', '內政部長', ...   \n",
       "\n",
       "                                             entities  \\\n",
       "0   [NerToken(word='烏克蘭', ner='GPE', idx=(4, 7)), ...   \n",
       "11  [NerToken(word='今天', ner='DATE', idx=(9, 11)),...   \n",
       "19  [NerToken(word='烏克蘭', ner='GPE', idx=(0, 3)), ...   \n",
       "\n",
       "                                            token_pos  \\\n",
       "0   [('民眾', 'Na'), ('捐贈', 'VD'), ('烏克蘭', 'Nc'), ('...   \n",
       "11  [('財團', 'Na'), ('法人', 'Na'), ('賑災', 'VA'), ('基...   \n",
       "19  [('烏克蘭', 'Nc'), ('情勢', 'Na'), ('讓', 'VL'), ('台...   \n",
       "\n",
       "                                                 link  \\\n",
       "0   https://www.cna.com.tw/news/aipl/202203140364....   \n",
       "11  https://www.cna.com.tw/news/aipl/202203140241....   \n",
       "19  https://www.cna.com.tw/news/aipl/202203140174....   \n",
       "\n",
       "                                           photo_link  \n",
       "0   https://imgcdn.cna.com.tw/www/WebPhotos/200/20...  \n",
       "11  https://imgcdn.cna.com.tw/www/webphotos/WebCov...  \n",
       "19                                                NaN  "
      ]
     },
     "execution_count": 26,
     "metadata": {},
     "output_type": "execute_result"
    }
   ],
   "source": [
    "df_query.head()"
   ]
  },
  {
   "cell_type": "code",
   "execution_count": null,
   "metadata": {},
   "outputs": [],
   "source": []
  },
  {
   "cell_type": "markdown",
   "metadata": {},
   "source": [
    "# Step 2: calculate frequency and occurence"
   ]
  },
  {
   "cell_type": "code",
   "execution_count": 27,
   "metadata": {},
   "outputs": [],
   "source": [
    "# For the query_df, count the occurence and frequency for each category.\n",
    "\n",
    "# (1) cate_occurence={}  被多少篇新聞報導 How many pieces of news contain the keywords.\n",
    "# (2) cate_freq={}       被提到多少次? How many times are the keywords mentioned\n",
    "\n",
    "\n",
    "news_categories = ['政治', '科技', '運動', '證卷', '產經', '娛樂', '生活', '國際', '社會', '文化', '兩岸', '全部']\n",
    "\n",
    "def count_keyword(query_df, user_keywords):\n",
    "    cate_occurence={}\n",
    "    cate_freq={}\n",
    "\n",
    "    for cate in news_categories:\n",
    "        cate_occurence[cate]=0\n",
    "        cate_freq[cate]=0\n",
    "\n",
    "    for idx, row in query_df.iterrows():\n",
    "        # count number of news\n",
    "        cate_occurence[row.category] += 1\n",
    "        cate_occurence['全部'] += 1\n",
    "        \n",
    "        # count user keyword frequency by checking every word in tokens_v2\n",
    "        tokens = eval(row.tokens_v2)\n",
    "        freq =  len([word for word in tokens if (word in user_keywords)])\n",
    "        cate_freq[row.category] += freq\n",
    "        cate_freq['全部'] += freq\n",
    "        \n",
    "    return cate_freq, cate_occurence"
   ]
  },
  {
   "cell_type": "code",
   "execution_count": 28,
   "metadata": {},
   "outputs": [
    {
     "data": {
      "text/plain": [
       "({'政治': 13,\n",
       "  '科技': 21,\n",
       "  '運動': 3,\n",
       "  '證卷': 2,\n",
       "  '產經': 15,\n",
       "  '娛樂': 4,\n",
       "  '生活': 0,\n",
       "  '國際': 46,\n",
       "  '社會': 0,\n",
       "  '文化': 14,\n",
       "  '兩岸': 24,\n",
       "  '全部': 142},\n",
       " {'政治': 3,\n",
       "  '科技': 2,\n",
       "  '運動': 1,\n",
       "  '證卷': 2,\n",
       "  '產經': 3,\n",
       "  '娛樂': 2,\n",
       "  '生活': 0,\n",
       "  '國際': 8,\n",
       "  '社會': 0,\n",
       "  '文化': 3,\n",
       "  '兩岸': 2,\n",
       "  '全部': 26})"
      ]
     },
     "execution_count": 28,
     "metadata": {},
     "output_type": "execute_result"
    }
   ],
   "source": [
    "user_keywords=['烏克蘭','俄羅斯']\n",
    "cond='or'\n",
    "cate='全部'\n",
    "weeks=4\n",
    "# Step 1 fitering data\n",
    "df_query = filter_dataFrame(user_keywords, cond, cate, weeks)\n",
    "len(df_query)\n",
    "\n",
    "# Step 2: calculating frequency and occurence\n",
    "count_keyword(df_query, user_keywords)"
   ]
  },
  {
   "cell_type": "code",
   "execution_count": 29,
   "metadata": {},
   "outputs": [
    {
     "data": {
      "text/plain": [
       "26"
      ]
     },
     "execution_count": 29,
     "metadata": {},
     "output_type": "execute_result"
    }
   ],
   "source": [
    "len(df_query)"
   ]
  },
  {
   "cell_type": "markdown",
   "metadata": {
    "_cell_guid": "f338bfd0-8985-6edf-95c0-ac529ce73d69"
   },
   "source": [
    "# Demonstrate step by step\n",
    "\n",
    "How many news are related to \"烏克蘭\" ?\n",
    "\n",
    "    How many pieces of news mentioned \"烏克蘭\"\n",
    "    How many pieces of news are related to \"烏克蘭\"?\n",
    "\n",
    "    You can calculate and get the answer from the following fields: tokens, tokens_v2, or content. (Get very similar results)\n",
    "\n",
    "    We use \"tokens_v2\" because it contains only some important keywords which were selected in the pre-process step.\n",
    "\n",
    "    \n",
    "A flexible appraoch for And OR condiction\n",
    "\n",
    "        User all()  any()\n",
    "        df = pd.DataFrame({'col': [\"apple is delicious\",\n",
    "                                \"banana is delicious\",\n",
    "                                \"apple and banana both are delicious\"]})\n",
    "\n",
    "        targets = ['apple', 'banana']\n",
    "\n",
    "        # Any word from `targets` are present in sentence.\n",
    "        >>> df.col.apply(lambda sentence: any(word in sentence for word in targets))\n",
    "        0    True\n",
    "        1    True\n",
    "        2    True\n",
    "        Name: col, dtype: bool\n",
    "\n",
    "        # All words from `targets` are present in sentence.\n",
    "        >>> df.col.apply(lambda sentence: all(word in sentence for word in targets))\n",
    "        0    False\n",
    "        1    False\n",
    "        2     True\n",
    "        Name: col, dtype: bool"
   ]
  },
  {
   "cell_type": "code",
   "execution_count": null,
   "metadata": {},
   "outputs": [],
   "source": []
  },
  {
   "cell_type": "markdown",
   "metadata": {},
   "source": [
    "## and &, or | "
   ]
  },
  {
   "cell_type": "code",
   "execution_count": 30,
   "metadata": {},
   "outputs": [
    {
     "data": {
      "text/plain": [
       "True"
      ]
     },
     "execution_count": 30,
     "metadata": {},
     "output_type": "execute_result"
    }
   ],
   "source": [
    "True & True"
   ]
  },
  {
   "cell_type": "code",
   "execution_count": 31,
   "metadata": {},
   "outputs": [
    {
     "data": {
      "text/plain": [
       "False"
      ]
     },
     "execution_count": 31,
     "metadata": {},
     "output_type": "execute_result"
    }
   ],
   "source": [
    "True & False"
   ]
  },
  {
   "cell_type": "code",
   "execution_count": 32,
   "metadata": {},
   "outputs": [
    {
     "data": {
      "text/plain": [
       "True"
      ]
     },
     "execution_count": 32,
     "metadata": {},
     "output_type": "execute_result"
    }
   ],
   "source": [
    "True | True"
   ]
  },
  {
   "cell_type": "code",
   "execution_count": 33,
   "metadata": {},
   "outputs": [
    {
     "data": {
      "text/plain": [
       "True"
      ]
     },
     "execution_count": 33,
     "metadata": {},
     "output_type": "execute_result"
    }
   ],
   "source": [
    "True | False"
   ]
  },
  {
   "cell_type": "markdown",
   "metadata": {},
   "source": [
    "## \"in\" is very powerful in Python!"
   ]
  },
  {
   "cell_type": "markdown",
   "metadata": {},
   "source": [
    "#### in a string"
   ]
  },
  {
   "cell_type": "code",
   "execution_count": 34,
   "metadata": {},
   "outputs": [],
   "source": [
    "text = '武漢烏克蘭疫情全球延燒，國防部2月針對29個疫情高風險國家地區勸阻官兵前往（包括過境）。'"
   ]
  },
  {
   "cell_type": "code",
   "execution_count": 35,
   "metadata": {},
   "outputs": [
    {
     "data": {
      "text/plain": [
       "True"
      ]
     },
     "execution_count": 35,
     "metadata": {},
     "output_type": "execute_result"
    }
   ],
   "source": [
    "'勸阻官兵' in text"
   ]
  },
  {
   "cell_type": "code",
   "execution_count": 36,
   "metadata": {},
   "outputs": [
    {
     "data": {
      "text/plain": [
       "True"
      ]
     },
     "execution_count": 36,
     "metadata": {},
     "output_type": "execute_result"
    }
   ],
   "source": [
    "'延燒，國防部' in text"
   ]
  },
  {
   "cell_type": "code",
   "execution_count": 37,
   "metadata": {},
   "outputs": [
    {
     "data": {
      "text/plain": [
       "False"
      ]
     },
     "execution_count": 37,
     "metadata": {},
     "output_type": "execute_result"
    }
   ],
   "source": [
    "'台灣' in text"
   ]
  },
  {
   "cell_type": "code",
   "execution_count": 38,
   "metadata": {},
   "outputs": [
    {
     "data": {
      "text/plain": [
       "True"
      ]
     },
     "execution_count": 38,
     "metadata": {},
     "output_type": "execute_result"
    }
   ],
   "source": [
    "'烏克蘭' in text"
   ]
  },
  {
   "cell_type": "code",
   "execution_count": 39,
   "metadata": {
    "scrolled": true
   },
   "outputs": [
    {
     "data": {
      "text/plain": [
       "False"
      ]
     },
     "execution_count": 39,
     "metadata": {},
     "output_type": "execute_result"
    }
   ],
   "source": [
    "# & and\n",
    "('台灣' in text)  & ('烏克蘭' in text)"
   ]
  },
  {
   "cell_type": "code",
   "execution_count": 40,
   "metadata": {
    "scrolled": true
   },
   "outputs": [
    {
     "data": {
      "text/plain": [
       "False"
      ]
     },
     "execution_count": 40,
     "metadata": {},
     "output_type": "execute_result"
    }
   ],
   "source": [
    "# & and\n",
    "('台灣' in text) and ('烏克蘭' in text)"
   ]
  },
  {
   "cell_type": "code",
   "execution_count": 41,
   "metadata": {},
   "outputs": [
    {
     "data": {
      "text/plain": [
       "True"
      ]
     },
     "execution_count": 41,
     "metadata": {},
     "output_type": "execute_result"
    }
   ],
   "source": [
    "('台灣' in text)  | ('烏克蘭' in text)"
   ]
  },
  {
   "cell_type": "code",
   "execution_count": 42,
   "metadata": {},
   "outputs": [
    {
     "data": {
      "text/plain": [
       "True"
      ]
     },
     "execution_count": 42,
     "metadata": {},
     "output_type": "execute_result"
    }
   ],
   "source": [
    "('台灣' in text)  or ('烏克蘭' in text)"
   ]
  },
  {
   "cell_type": "code",
   "execution_count": 43,
   "metadata": {},
   "outputs": [],
   "source": [
    "# This is also a string.\n",
    "text = \"['武漢', '烏克蘭', '疫情', '全球', '延燒', '國防部', '疫情', '高風險', '國家', '地區', '官兵', '過境', '國防部', '政策', '全球', '國家', '地區', '轄下', '單位']\""
   ]
  },
  {
   "cell_type": "code",
   "execution_count": 44,
   "metadata": {},
   "outputs": [
    {
     "data": {
      "text/plain": [
       "True"
      ]
     },
     "execution_count": 44,
     "metadata": {},
     "output_type": "execute_result"
    }
   ],
   "source": [
    "'烏克蘭' in text"
   ]
  },
  {
   "cell_type": "code",
   "execution_count": 45,
   "metadata": {},
   "outputs": [
    {
     "data": {
      "text/plain": [
       "False"
      ]
     },
     "execution_count": 45,
     "metadata": {},
     "output_type": "execute_result"
    }
   ],
   "source": [
    "'台灣' in text"
   ]
  },
  {
   "cell_type": "code",
   "execution_count": 46,
   "metadata": {
    "scrolled": true
   },
   "outputs": [
    {
     "data": {
      "text/plain": [
       "False"
      ]
     },
     "execution_count": 46,
     "metadata": {},
     "output_type": "execute_result"
    }
   ],
   "source": [
    "('台灣' in text)  & ('烏克蘭' in text)"
   ]
  },
  {
   "cell_type": "code",
   "execution_count": 47,
   "metadata": {},
   "outputs": [
    {
     "data": {
      "text/plain": [
       "True"
      ]
     },
     "execution_count": 47,
     "metadata": {},
     "output_type": "execute_result"
    }
   ],
   "source": [
    "('台灣' in text)  | ('烏克蘭' in text)"
   ]
  },
  {
   "cell_type": "markdown",
   "metadata": {},
   "source": [
    "#### in a list"
   ]
  },
  {
   "cell_type": "code",
   "execution_count": 48,
   "metadata": {},
   "outputs": [
    {
     "data": {
      "text/plain": [
       "True"
      ]
     },
     "execution_count": 48,
     "metadata": {},
     "output_type": "execute_result"
    }
   ],
   "source": [
    "user_keyword=['烏克蘭','台灣']\n",
    "'烏克蘭' in user_keyword"
   ]
  },
  {
   "cell_type": "code",
   "execution_count": null,
   "metadata": {},
   "outputs": [],
   "source": []
  },
  {
   "cell_type": "code",
   "execution_count": 49,
   "metadata": {},
   "outputs": [
    {
     "data": {
      "text/plain": [
       "'民眾捐贈烏克蘭的愛心物資持續湧入外交部，截至今天傍晚累計已收到約4000箱，外交部長吳釗燮中午親自到現場為協助整理物資的志工加油，並對捐贈民眾表達感謝。外交部晚間發布新聞稿指出，外交部從7日開始向民間募集捐贈烏克蘭難民的物資，獲得熱烈響應，親赴外交部捐贈物資的民眾約1730人，加上郵寄包裹，目前約已收到4000箱物資，品項以醫療口罩、毛毯、女性衛生用品、尿片、餅乾等為主，募集活動將持續到18日。外交部表示，為了感謝捐贈民眾，與在現場辛苦分類整理的志工、外交部人員，吳釗燮今天中午特別前往外交部西側門地下停車場視察，吳釗燮與在場的慈濟等民間慈善組織志工，以及其他自發到場幫忙的善心人士親切互動，對於也有烏克蘭旅台人士自願擔任義工在現場協助，吳釗燮特別致意慰問。根據外交部提供的照片，到場幫忙的烏克蘭志工是極為關心家鄉情勢的網紅佳娜。外交部再度提醒有意捐贈物資的民眾，捐贈物品請依照外交部網站所公布的清單為限，切勿捐贈或郵寄二手物品或衣物。送到外交部的捐贈物品務必為全新物品、未拆封包裝、有效期至少6個月以上，以免造成整理及後續轉運捐贈的困擾。募集截止時間是3月18日下午5時以前，民眾可以用面送或郵寄清單所列的20類物品及 14 類藥品至外交部。外交部除感謝熱心民眾踴躍捐贈援助烏克蘭人道物資外，也感謝許多志工義務幫忙、貢獻己力。外交部對各界人士奉獻時間與精神投入國際人道援助，表達最高的敬意。'"
      ]
     },
     "execution_count": 49,
     "metadata": {},
     "output_type": "execute_result"
    }
   ],
   "source": [
    "# Check out the first news\n",
    "df.content[0]"
   ]
  },
  {
   "cell_type": "code",
   "execution_count": 50,
   "metadata": {},
   "outputs": [
    {
     "data": {
      "text/plain": [
       "True"
      ]
     },
     "execution_count": 50,
     "metadata": {},
     "output_type": "execute_result"
    }
   ],
   "source": [
    "qk = '烏克蘭'\n",
    "text = df.content[0]\n",
    "qk in text"
   ]
  },
  {
   "cell_type": "code",
   "execution_count": 51,
   "metadata": {},
   "outputs": [
    {
     "data": {
      "text/plain": [
       "True"
      ]
     },
     "execution_count": 51,
     "metadata": {},
     "output_type": "execute_result"
    }
   ],
   "source": [
    "qk = '外交部'\n",
    "text = df.content[0]\n",
    "qk in text"
   ]
  },
  {
   "cell_type": "code",
   "execution_count": 52,
   "metadata": {},
   "outputs": [
    {
     "data": {
      "text/plain": [
       "False"
      ]
     },
     "execution_count": 52,
     "metadata": {},
     "output_type": "execute_result"
    }
   ],
   "source": [
    "qk = '台灣'\n",
    "text = df.content[0]\n",
    "qk in text"
   ]
  },
  {
   "cell_type": "code",
   "execution_count": 53,
   "metadata": {},
   "outputs": [
    {
     "data": {
      "text/plain": [
       "True"
      ]
     },
     "execution_count": 53,
     "metadata": {},
     "output_type": "execute_result"
    }
   ],
   "source": [
    "text = df.content[0]\n",
    "('烏克蘭' in text) & ('外交部' in text )"
   ]
  },
  {
   "cell_type": "markdown",
   "metadata": {},
   "source": [
    "### Another \"in\" in Python. It is used for \"for\" loop."
   ]
  },
  {
   "cell_type": "code",
   "execution_count": 54,
   "metadata": {},
   "outputs": [
    {
     "data": {
      "text/plain": [
       "[True, True]"
      ]
     },
     "execution_count": 54,
     "metadata": {},
     "output_type": "execute_result"
    }
   ],
   "source": [
    "user_keywords = ['烏克蘭','外交部']\n",
    "text = df.content[0]\n",
    "[(qk in text) for qk in user_keywords]"
   ]
  },
  {
   "cell_type": "code",
   "execution_count": 55,
   "metadata": {},
   "outputs": [
    {
     "data": {
      "text/plain": [
       "[True, False]"
      ]
     },
     "execution_count": 55,
     "metadata": {},
     "output_type": "execute_result"
    }
   ],
   "source": [
    "user_keywords = ['烏克蘭','台灣']\n",
    "text = df.content[0]\n",
    "[(qk in text) for qk in user_keywords]"
   ]
  },
  {
   "cell_type": "code",
   "execution_count": null,
   "metadata": {},
   "outputs": [],
   "source": []
  },
  {
   "cell_type": "markdown",
   "metadata": {},
   "source": [
    "### all() any() \n",
    "\n",
    "    How to perform logical opertion with several conditions? 如何針對很多項去做邏輯運算?\n",
    "\n",
    "    all(): perform \"and\" logical opertion \n",
    "    any(): perform \"or\" logical opertion"
   ]
  },
  {
   "cell_type": "code",
   "execution_count": 56,
   "metadata": {},
   "outputs": [
    {
     "data": {
      "text/plain": [
       "True"
      ]
     },
     "execution_count": 56,
     "metadata": {},
     "output_type": "execute_result"
    }
   ],
   "source": [
    "all( [True, True, True] ) #　True & True"
   ]
  },
  {
   "cell_type": "code",
   "execution_count": 57,
   "metadata": {},
   "outputs": [
    {
     "data": {
      "text/plain": [
       "True"
      ]
     },
     "execution_count": 57,
     "metadata": {},
     "output_type": "execute_result"
    }
   ],
   "source": [
    "any( [True, True] )"
   ]
  },
  {
   "cell_type": "code",
   "execution_count": 58,
   "metadata": {},
   "outputs": [
    {
     "data": {
      "text/plain": [
       "False"
      ]
     },
     "execution_count": 58,
     "metadata": {},
     "output_type": "execute_result"
    }
   ],
   "source": [
    "all( [True, False] )"
   ]
  },
  {
   "cell_type": "code",
   "execution_count": 59,
   "metadata": {},
   "outputs": [
    {
     "data": {
      "text/plain": [
       "True"
      ]
     },
     "execution_count": 59,
     "metadata": {},
     "output_type": "execute_result"
    }
   ],
   "source": [
    "any( [True, False] )"
   ]
  },
  {
   "cell_type": "code",
   "execution_count": null,
   "metadata": {},
   "outputs": [],
   "source": []
  },
  {
   "cell_type": "code",
   "execution_count": 60,
   "metadata": {},
   "outputs": [
    {
     "data": {
      "text/plain": [
       "['烏克蘭', '國防部']"
      ]
     },
     "execution_count": 60,
     "metadata": {},
     "output_type": "execute_result"
    }
   ],
   "source": [
    "user_keywords = ['烏克蘭','國防部']\n",
    "[word for word in user_keywords]"
   ]
  },
  {
   "cell_type": "code",
   "execution_count": 61,
   "metadata": {},
   "outputs": [
    {
     "data": {
      "text/plain": [
       "[True, True]"
      ]
     },
     "execution_count": 61,
     "metadata": {},
     "output_type": "execute_result"
    }
   ],
   "source": [
    "user_keywords=['烏克蘭','國防部']\n",
    "text = '武漢烏克蘭疫情全球延燒，國防部2月針對29個疫情高風險國家地區勸阻官兵前往（包括過境）。'\n",
    "[(word in text) for word in user_keywords]"
   ]
  },
  {
   "cell_type": "code",
   "execution_count": 62,
   "metadata": {},
   "outputs": [
    {
     "data": {
      "text/plain": [
       "[True, True]"
      ]
     },
     "execution_count": 62,
     "metadata": {},
     "output_type": "execute_result"
    }
   ],
   "source": [
    "user_keywords=['烏克蘭','國防部']\n",
    "text = '武漢烏克蘭疫情全球延燒，國防部2月針對29個疫情高風險國家地區勸阻官兵前往（包括過境）。'\n",
    "[word in text for word in user_keywords] # () can be removed"
   ]
  },
  {
   "cell_type": "code",
   "execution_count": 63,
   "metadata": {},
   "outputs": [
    {
     "data": {
      "text/plain": [
       "True"
      ]
     },
     "execution_count": 63,
     "metadata": {},
     "output_type": "execute_result"
    }
   ],
   "source": [
    "user_keywords=['烏克蘭','國防部']\n",
    "text = '武漢烏克蘭疫情全球延燒，國防部2月針對29個疫情高風險國家地區勸阻官兵前往（包括過境）。'\n",
    "all([word in text for word in user_keywords])"
   ]
  },
  {
   "cell_type": "code",
   "execution_count": 64,
   "metadata": {},
   "outputs": [
    {
     "data": {
      "text/plain": [
       "True"
      ]
     },
     "execution_count": 64,
     "metadata": {},
     "output_type": "execute_result"
    }
   ],
   "source": [
    "user_keywords=['烏克蘭','國防部']\n",
    "text = '武漢烏克蘭疫情全球延燒，國防部2月針對29個疫情高風險國家地區勸阻官兵前往（包括過境）。'\n",
    "all(word in text for word in user_keywords) # square brackets [] can be removed"
   ]
  },
  {
   "cell_type": "code",
   "execution_count": null,
   "metadata": {},
   "outputs": [],
   "source": []
  },
  {
   "cell_type": "code",
   "execution_count": 65,
   "metadata": {},
   "outputs": [
    {
     "name": "stdout",
     "output_type": "stream",
     "text": [
      "[True, True]\n"
     ]
    },
    {
     "data": {
      "text/plain": [
       "True"
      ]
     },
     "execution_count": 65,
     "metadata": {},
     "output_type": "execute_result"
    }
   ],
   "source": [
    "# Check out the first news\n",
    "user_keywords = ['烏克蘭','外交部']\n",
    "text = df.content[0]\n",
    "print([(qk in text) for qk in user_keywords])\n",
    "all((qk in text) for qk in user_keywords)"
   ]
  },
  {
   "cell_type": "code",
   "execution_count": 66,
   "metadata": {},
   "outputs": [
    {
     "data": {
      "text/plain": [
       "True"
      ]
     },
     "execution_count": 66,
     "metadata": {},
     "output_type": "execute_result"
    }
   ],
   "source": [
    "user_keywords = ['烏克蘭','外交部']\n",
    "text = df.content[0]\n",
    "any((qk in text) for qk in user_keywords)"
   ]
  },
  {
   "cell_type": "code",
   "execution_count": 67,
   "metadata": {},
   "outputs": [
    {
     "data": {
      "text/plain": [
       "[True, False]"
      ]
     },
     "execution_count": 67,
     "metadata": {},
     "output_type": "execute_result"
    }
   ],
   "source": [
    "user_keywords = ['烏克蘭','台灣']\n",
    "text = df.content[0]\n",
    "[(qk in text) for qk in user_keywords]"
   ]
  },
  {
   "cell_type": "code",
   "execution_count": 68,
   "metadata": {},
   "outputs": [
    {
     "data": {
      "text/plain": [
       "False"
      ]
     },
     "execution_count": 68,
     "metadata": {},
     "output_type": "execute_result"
    }
   ],
   "source": [
    "user_keywords = ['烏克蘭','台灣']\n",
    "text = df.content[0]\n",
    "all((qk in text) for qk in user_keywords)"
   ]
  },
  {
   "cell_type": "code",
   "execution_count": 69,
   "metadata": {},
   "outputs": [
    {
     "data": {
      "text/plain": [
       "True"
      ]
     },
     "execution_count": 69,
     "metadata": {},
     "output_type": "execute_result"
    }
   ],
   "source": [
    "user_keywords = ['烏克蘭','台灣']\n",
    "text = df.content[0]\n",
    "any((qk in text) for qk in user_keywords)"
   ]
  },
  {
   "cell_type": "markdown",
   "metadata": {},
   "source": [
    "## Using apply() and lambda function\n",
    "\n",
    "How to check out keyword occurency for every news?"
   ]
  },
  {
   "cell_type": "code",
   "execution_count": 70,
   "metadata": {},
   "outputs": [
    {
     "data": {
      "text/plain": [
       "0       True\n",
       "1      False\n",
       "2      False\n",
       "3      False\n",
       "4      False\n",
       "       ...  \n",
       "208    False\n",
       "209    False\n",
       "210    False\n",
       "211    False\n",
       "212    False\n",
       "Name: content, Length: 213, dtype: bool"
      ]
     },
     "execution_count": 70,
     "metadata": {},
     "output_type": "execute_result"
    }
   ],
   "source": [
    "# Use apply() and lambda function\n",
    "user_keywords = ['烏克蘭','外交部']\n",
    "df.content.apply(lambda text: all([(qk in text) for qk in user_keywords]))"
   ]
  },
  {
   "cell_type": "code",
   "execution_count": 71,
   "metadata": {},
   "outputs": [],
   "source": [
    "user_keywords = ['烏克蘭','外交部']"
   ]
  },
  {
   "cell_type": "code",
   "execution_count": 72,
   "metadata": {},
   "outputs": [
    {
     "data": {
      "text/plain": [
       "['烏克蘭', '外交部']"
      ]
     },
     "execution_count": 72,
     "metadata": {},
     "output_type": "execute_result"
    }
   ],
   "source": [
    "[qk for qk in user_keywords]"
   ]
  },
  {
   "cell_type": "code",
   "execution_count": 73,
   "metadata": {},
   "outputs": [
    {
     "data": {
      "text/plain": [
       "'民眾捐贈烏克蘭的愛心物資持續湧入外交部，截至今天傍晚累計已收到約4000箱，外交部長吳釗燮中午親自到現場為協助整理物資的志工加油，並對捐贈民眾表達感謝。外交部晚間發布新聞稿指出，外交部從7日開始向民間募集捐贈烏克蘭難民的物資，獲得熱烈響應，親赴外交部捐贈物資的民眾約1730人，加上郵寄包裹，目前約已收到4000箱物資，品項以醫療口罩、毛毯、女性衛生用品、尿片、餅乾等為主，募集活動將持續到18日。外交部表示，為了感謝捐贈民眾，與在現場辛苦分類整理的志工、外交部人員，吳釗燮今天中午特別前往外交部西側門地下停車場視察，吳釗燮與在場的慈濟等民間慈善組織志工，以及其他自發到場幫忙的善心人士親切互動，對於也有烏克蘭旅台人士自願擔任義工在現場協助，吳釗燮特別致意慰問。根據外交部提供的照片，到場幫忙的烏克蘭志工是極為關心家鄉情勢的網紅佳娜。外交部再度提醒有意捐贈物資的民眾，捐贈物品請依照外交部網站所公布的清單為限，切勿捐贈或郵寄二手物品或衣物。送到外交部的捐贈物品務必為全新物品、未拆封包裝、有效期至少6個月以上，以免造成整理及後續轉運捐贈的困擾。募集截止時間是3月18日下午5時以前，民眾可以用面送或郵寄清單所列的20類物品及 14 類藥品至外交部。外交部除感謝熱心民眾踴躍捐贈援助烏克蘭人道物資外，也感謝許多志工義務幫忙、貢獻己力。外交部對各界人士奉獻時間與精神投入國際人道援助，表達最高的敬意。'"
      ]
     },
     "execution_count": 73,
     "metadata": {},
     "output_type": "execute_result"
    }
   ],
   "source": [
    "text = df.content[0]\n",
    "text"
   ]
  },
  {
   "cell_type": "code",
   "execution_count": 74,
   "metadata": {},
   "outputs": [
    {
     "data": {
      "text/plain": [
       "[True, True]"
      ]
     },
     "execution_count": 74,
     "metadata": {},
     "output_type": "execute_result"
    }
   ],
   "source": [
    "[(qk in text) for qk in user_keywords]"
   ]
  },
  {
   "cell_type": "code",
   "execution_count": 75,
   "metadata": {},
   "outputs": [
    {
     "data": {
      "text/plain": [
       "True"
      ]
     },
     "execution_count": 75,
     "metadata": {},
     "output_type": "execute_result"
    }
   ],
   "source": [
    "# \n",
    "all([(qk in text) for qk in user_keywords])"
   ]
  },
  {
   "cell_type": "code",
   "execution_count": 76,
   "metadata": {},
   "outputs": [
    {
     "data": {
      "text/plain": [
       "True"
      ]
     },
     "execution_count": 76,
     "metadata": {},
     "output_type": "execute_result"
    }
   ],
   "source": [
    "# Square brackets can be removed\n",
    "all((qk in text) for qk in user_keywords)"
   ]
  },
  {
   "cell_type": "code",
   "execution_count": 77,
   "metadata": {},
   "outputs": [
    {
     "data": {
      "text/html": [
       "<div>\n",
       "<style scoped>\n",
       "    .dataframe tbody tr th:only-of-type {\n",
       "        vertical-align: middle;\n",
       "    }\n",
       "\n",
       "    .dataframe tbody tr th {\n",
       "        vertical-align: top;\n",
       "    }\n",
       "\n",
       "    .dataframe thead th {\n",
       "        text-align: right;\n",
       "    }\n",
       "</style>\n",
       "<table border=\"1\" class=\"dataframe\">\n",
       "  <thead>\n",
       "    <tr style=\"text-align: right;\">\n",
       "      <th></th>\n",
       "      <th>item_id</th>\n",
       "      <th>date</th>\n",
       "      <th>category</th>\n",
       "      <th>title</th>\n",
       "      <th>content</th>\n",
       "      <th>sentiment</th>\n",
       "      <th>summary</th>\n",
       "      <th>top_key_freq</th>\n",
       "      <th>tokens</th>\n",
       "      <th>tokens_v2</th>\n",
       "      <th>entities</th>\n",
       "      <th>token_pos</th>\n",
       "      <th>link</th>\n",
       "      <th>photo_link</th>\n",
       "    </tr>\n",
       "  </thead>\n",
       "  <tbody>\n",
       "    <tr>\n",
       "      <th>11</th>\n",
       "      <td>aipl_20220314_12</td>\n",
       "      <td>2022-03-14</td>\n",
       "      <td>政治</td>\n",
       "      <td>賑濟烏克蘭善款 累計突破6億元</td>\n",
       "      <td>財團法人賑災基金會今天表示，賑濟烏克蘭專戶開設到今天下午4時10分，累計收到善款已突破新台幣...</td>\n",
       "      <td>0.0</td>\n",
       "      <td>['收到紐約台灣商會捐入一筆3萬5703美元、折合新台幣約101萬元的捐款', '外交部2日...</td>\n",
       "      <td>[('基金會', 6), ('烏克蘭', 6), ('收到', 4), ('新台幣', 4)...</td>\n",
       "      <td>['財團', '法人', '賑災', '基金會', '今天', '表示', '，', '賑濟...</td>\n",
       "      <td>['財團', '法人', '賑災', '基金會', '賑濟', '烏克蘭', '專戶', '...</td>\n",
       "      <td>[NerToken(word='今天', ner='DATE', idx=(9, 11)),...</td>\n",
       "      <td>[('財團', 'Na'), ('法人', 'Na'), ('賑災', 'VA'), ('基...</td>\n",
       "      <td>https://www.cna.com.tw/news/aipl/202203140241....</td>\n",
       "      <td>https://imgcdn.cna.com.tw/www/webphotos/WebCov...</td>\n",
       "    </tr>\n",
       "    <tr>\n",
       "      <th>19</th>\n",
       "      <td>aipl_20220314_20</td>\n",
       "      <td>2022-03-14</td>\n",
       "      <td>政治</td>\n",
       "      <td>徐國勇：個人贊成延長役期  花點時間讓國家永續安全</td>\n",
       "      <td>烏克蘭情勢讓台灣4個月軍事訓練役的討論浮上檯面。內政部長徐國勇今天說，這牽涉國家兵役政策，應...</td>\n",
       "      <td>0.0</td>\n",
       "      <td>['徐國勇答詢時說', '內政部長徐國勇今天說', '「一年、幾個月（役期）時間又算什麼',...</td>\n",
       "      <td>[('徐國勇', 6), ('國家', 6), ('戰爭', 4), ('延長', 3), ...</td>\n",
       "      <td>['烏克蘭', '情勢', '讓', '台灣', '4', '個', '月', '軍事', ...</td>\n",
       "      <td>['烏克蘭', '情勢', '台灣', '軍事', '訓練', '檯面', '內政部長', ...</td>\n",
       "      <td>[NerToken(word='烏克蘭', ner='GPE', idx=(0, 3)), ...</td>\n",
       "      <td>[('烏克蘭', 'Nc'), ('情勢', 'Na'), ('讓', 'VL'), ('台...</td>\n",
       "      <td>https://www.cna.com.tw/news/aipl/202203140174....</td>\n",
       "      <td>NaN</td>\n",
       "    </tr>\n",
       "    <tr>\n",
       "      <th>33</th>\n",
       "      <td>ait_20220309_14</td>\n",
       "      <td>2022-03-09</td>\n",
       "      <td>科技</td>\n",
       "      <td>Apple新品一次看 iPhone SE售1萬3900元起iPad Air有5色[影]</td>\n",
       "      <td>蘋果公司（Apple）今天舉行線上春季發表會，平價版的iPhone SE和iPad Air將...</td>\n",
       "      <td>0.0</td>\n",
       "      <td>['新iPad Air搭載iPad Pro上的M1晶片', 'iPad Air則搭載蘋果為筆...</td>\n",
       "      <td>[('蘋果', 15), ('晶片', 15), ('搭載', 10), ('售價', 8)...</td>\n",
       "      <td>['蘋果', '公司', '（', 'Apple', '）', '今天', '舉行', '線...</td>\n",
       "      <td>['蘋果', '公司', '舉行', '線上', '發表會', '平價版', '支援', '...</td>\n",
       "      <td>[NerToken(word='今天', ner='DATE', idx=(11, 13))...</td>\n",
       "      <td>[('蘋果', 'Na'), ('公司', 'Nc'), ('（', 'PARENTHESI...</td>\n",
       "      <td>https://www.cna.com.tw/news/ait/202203090006.aspx</td>\n",
       "      <td>https://imgcdn.cna.com.tw/www/webphotos/WebCov...</td>\n",
       "    </tr>\n",
       "    <tr>\n",
       "      <th>61</th>\n",
       "      <td>asc_20220314_2</td>\n",
       "      <td>2022-03-14</td>\n",
       "      <td>證卷</td>\n",
       "      <td>俄烏戰火不止 法人：台股短線恐震盪整理</td>\n",
       "      <td>俄烏戰火持續影響全球股市，法人表示，在俄烏停火前，短線台股震盪整理機會大；但由於台股基本面具...</td>\n",
       "      <td>0.0</td>\n",
       "      <td>['不會改變股市的長期走勢', '台股本週觀察重點在於美國聯準會公開市場操作委員會（FOMC...</td>\n",
       "      <td>[('台股', 9), ('市場', 6), ('俄烏', 4), ('影響', 4), (...</td>\n",
       "      <td>['俄烏', '戰火', '持續', '影響', '全球', '股市', '，', '法人'...</td>\n",
       "      <td>['俄烏', '戰火', '影響', '全球', '股市', '法人', '俄烏', '短線...</td>\n",
       "      <td>[NerToken(word='烏', ner='GPE', idx=(20, 21)), ...</td>\n",
       "      <td>[('俄烏', 'Nc'), ('戰火', 'Na'), ('持續', 'VL'), ('影...</td>\n",
       "      <td>https://www.cna.com.tw/news/afe/202203140355.aspx</td>\n",
       "      <td>NaN</td>\n",
       "    </tr>\n",
       "    <tr>\n",
       "      <th>98</th>\n",
       "      <td>aie_20220314_19</td>\n",
       "      <td>2022-03-14</td>\n",
       "      <td>產經</td>\n",
       "      <td>油價若續漲 朱澤民：今年CPI有可能超過2%</td>\n",
       "      <td>立委質詢關切俄烏戰事對台灣經濟與民生影響，行政院主計總處主計長朱澤民今天指出，原本估計第1季...</td>\n",
       "      <td>0.0</td>\n",
       "      <td>['立委質詢關切俄烏戰事對台灣經濟與民生影響', '國民黨立委林德福擔心國際油價上漲會衝擊民...</td>\n",
       "      <td>[('朱澤民', 9), ('油價', 7), ('影響', 5), ('立委', 4), ...</td>\n",
       "      <td>['立委', '質詢', '關切', '俄烏', '戰事', '對', '台灣', '經濟'...</td>\n",
       "      <td>['立委', '俄烏', '戰事', '台灣', '經濟', '民生', '影響', '行政...</td>\n",
       "      <td>[NerToken(word='台灣', ner='GPE', idx=(11, 13)),...</td>\n",
       "      <td>[('立委', 'Na'), ('質詢', 'VE'), ('關切', 'VJ'), ('俄...</td>\n",
       "      <td>https://www.cna.com.tw/news/afe/202203140204.aspx</td>\n",
       "      <td>NaN</td>\n",
       "    </tr>\n",
       "    <tr>\n",
       "      <th>149</th>\n",
       "      <td>aopl_20220314_10</td>\n",
       "      <td>2022-03-14</td>\n",
       "      <td>國際</td>\n",
       "      <td>路透社：美中高層已在羅馬會晤</td>\n",
       "      <td>路透社引述中國中央電視台報導，中共中央外事工作委員會辦公室主任楊潔篪今天在義大利羅馬，與白宮...</td>\n",
       "      <td>0.0</td>\n",
       "      <td>['蘇利文當時在會中也表達美方對中國在人權、新疆、香港、南海以及台灣行動的關切', '也將討...</td>\n",
       "      <td>[('會晤', 7), ('蘇利文', 5), ('中國', 4), ('楊潔篪', 4),...</td>\n",
       "      <td>['路透社', '引述', '中國', '中央', '電視台', '報導', '，', '中...</td>\n",
       "      <td>['路透社', '引述', '中國', '中央', '電視台', '中共', '中央', '...</td>\n",
       "      <td>[NerToken(word='路透社', ner='ORG', idx=(0, 3)), ...</td>\n",
       "      <td>[('路透社', 'Nc'), ('引述', 'VC'), ('中國', 'Nc'), ('...</td>\n",
       "      <td>https://www.cna.com.tw/news/aopl/202203140309....</td>\n",
       "      <td>https://imgcdn.cna.com.tw/www/webphotos/WebCov...</td>\n",
       "    </tr>\n",
       "    <tr>\n",
       "      <th>179</th>\n",
       "      <td>acul_20220314_7</td>\n",
       "      <td>2022-03-14</td>\n",
       "      <td>文化</td>\n",
       "      <td>國際博物館協會發聲拒絕戰爭 吳思瑤籲故宮跟進</td>\n",
       "      <td>俄羅斯入侵烏克蘭戰事未歇，國際博物館協會（ICOM）呼籲應拒絕戰爭並搶救文物。立委吳思瑤今天...</td>\n",
       "      <td>0.0</td>\n",
       "      <td>['民進黨籍立委吳思瑤以國際博物館協會於2月24日針對烏克蘭戰事發布的聲明指出', '故宮同...</td>\n",
       "      <td>[('博物館', 9), ('烏克蘭', 8), ('故宮', 8), ('國際', 5),...</td>\n",
       "      <td>['俄羅斯', '入侵', '烏克蘭', '戰事', '未', '歇', '，', '國際'...</td>\n",
       "      <td>['俄羅斯', '烏克蘭', '戰事', '國際', '博物館', '協會', '戰爭', ...</td>\n",
       "      <td>[NerToken(word='俄羅斯', ner='GPE', idx=(0, 3)), ...</td>\n",
       "      <td>[('俄羅斯', 'Nc'), ('入侵', 'VCL'), ('烏克蘭', 'Nc'), ...</td>\n",
       "      <td>https://www.cna.com.tw/news/acul/202203140198....</td>\n",
       "      <td>NaN</td>\n",
       "    </tr>\n",
       "  </tbody>\n",
       "</table>\n",
       "</div>"
      ],
      "text/plain": [
       "              item_id        date category  \\\n",
       "11   aipl_20220314_12  2022-03-14       政治   \n",
       "19   aipl_20220314_20  2022-03-14       政治   \n",
       "33    ait_20220309_14  2022-03-09       科技   \n",
       "61     asc_20220314_2  2022-03-14       證卷   \n",
       "98    aie_20220314_19  2022-03-14       產經   \n",
       "149  aopl_20220314_10  2022-03-14       國際   \n",
       "179   acul_20220314_7  2022-03-14       文化   \n",
       "\n",
       "                                           title  \\\n",
       "11                               賑濟烏克蘭善款 累計突破6億元   \n",
       "19                     徐國勇：個人贊成延長役期  花點時間讓國家永續安全   \n",
       "33   Apple新品一次看 iPhone SE售1萬3900元起iPad Air有5色[影]   \n",
       "61                           俄烏戰火不止 法人：台股短線恐震盪整理   \n",
       "98                        油價若續漲 朱澤民：今年CPI有可能超過2%   \n",
       "149                               路透社：美中高層已在羅馬會晤   \n",
       "179                       國際博物館協會發聲拒絕戰爭 吳思瑤籲故宮跟進   \n",
       "\n",
       "                                               content  sentiment  \\\n",
       "11   財團法人賑災基金會今天表示，賑濟烏克蘭專戶開設到今天下午4時10分，累計收到善款已突破新台幣...        0.0   \n",
       "19   烏克蘭情勢讓台灣4個月軍事訓練役的討論浮上檯面。內政部長徐國勇今天說，這牽涉國家兵役政策，應...        0.0   \n",
       "33   蘋果公司（Apple）今天舉行線上春季發表會，平價版的iPhone SE和iPad Air將...        0.0   \n",
       "61   俄烏戰火持續影響全球股市，法人表示，在俄烏停火前，短線台股震盪整理機會大；但由於台股基本面具...        0.0   \n",
       "98   立委質詢關切俄烏戰事對台灣經濟與民生影響，行政院主計總處主計長朱澤民今天指出，原本估計第1季...        0.0   \n",
       "149  路透社引述中國中央電視台報導，中共中央外事工作委員會辦公室主任楊潔篪今天在義大利羅馬，與白宮...        0.0   \n",
       "179  俄羅斯入侵烏克蘭戰事未歇，國際博物館協會（ICOM）呼籲應拒絕戰爭並搶救文物。立委吳思瑤今天...        0.0   \n",
       "\n",
       "                                               summary  \\\n",
       "11   ['收到紐約台灣商會捐入一筆3萬5703美元、折合新台幣約101萬元的捐款', '外交部2日...   \n",
       "19   ['徐國勇答詢時說', '內政部長徐國勇今天說', '「一年、幾個月（役期）時間又算什麼',...   \n",
       "33   ['新iPad Air搭載iPad Pro上的M1晶片', 'iPad Air則搭載蘋果為筆...   \n",
       "61   ['不會改變股市的長期走勢', '台股本週觀察重點在於美國聯準會公開市場操作委員會（FOMC...   \n",
       "98   ['立委質詢關切俄烏戰事對台灣經濟與民生影響', '國民黨立委林德福擔心國際油價上漲會衝擊民...   \n",
       "149  ['蘇利文當時在會中也表達美方對中國在人權、新疆、香港、南海以及台灣行動的關切', '也將討...   \n",
       "179  ['民進黨籍立委吳思瑤以國際博物館協會於2月24日針對烏克蘭戰事發布的聲明指出', '故宮同...   \n",
       "\n",
       "                                          top_key_freq  \\\n",
       "11   [('基金會', 6), ('烏克蘭', 6), ('收到', 4), ('新台幣', 4)...   \n",
       "19   [('徐國勇', 6), ('國家', 6), ('戰爭', 4), ('延長', 3), ...   \n",
       "33   [('蘋果', 15), ('晶片', 15), ('搭載', 10), ('售價', 8)...   \n",
       "61   [('台股', 9), ('市場', 6), ('俄烏', 4), ('影響', 4), (...   \n",
       "98   [('朱澤民', 9), ('油價', 7), ('影響', 5), ('立委', 4), ...   \n",
       "149  [('會晤', 7), ('蘇利文', 5), ('中國', 4), ('楊潔篪', 4),...   \n",
       "179  [('博物館', 9), ('烏克蘭', 8), ('故宮', 8), ('國際', 5),...   \n",
       "\n",
       "                                                tokens  \\\n",
       "11   ['財團', '法人', '賑災', '基金會', '今天', '表示', '，', '賑濟...   \n",
       "19   ['烏克蘭', '情勢', '讓', '台灣', '4', '個', '月', '軍事', ...   \n",
       "33   ['蘋果', '公司', '（', 'Apple', '）', '今天', '舉行', '線...   \n",
       "61   ['俄烏', '戰火', '持續', '影響', '全球', '股市', '，', '法人'...   \n",
       "98   ['立委', '質詢', '關切', '俄烏', '戰事', '對', '台灣', '經濟'...   \n",
       "149  ['路透社', '引述', '中國', '中央', '電視台', '報導', '，', '中...   \n",
       "179  ['俄羅斯', '入侵', '烏克蘭', '戰事', '未', '歇', '，', '國際'...   \n",
       "\n",
       "                                             tokens_v2  \\\n",
       "11   ['財團', '法人', '賑災', '基金會', '賑濟', '烏克蘭', '專戶', '...   \n",
       "19   ['烏克蘭', '情勢', '台灣', '軍事', '訓練', '檯面', '內政部長', ...   \n",
       "33   ['蘋果', '公司', '舉行', '線上', '發表會', '平價版', '支援', '...   \n",
       "61   ['俄烏', '戰火', '影響', '全球', '股市', '法人', '俄烏', '短線...   \n",
       "98   ['立委', '俄烏', '戰事', '台灣', '經濟', '民生', '影響', '行政...   \n",
       "149  ['路透社', '引述', '中國', '中央', '電視台', '中共', '中央', '...   \n",
       "179  ['俄羅斯', '烏克蘭', '戰事', '國際', '博物館', '協會', '戰爭', ...   \n",
       "\n",
       "                                              entities  \\\n",
       "11   [NerToken(word='今天', ner='DATE', idx=(9, 11)),...   \n",
       "19   [NerToken(word='烏克蘭', ner='GPE', idx=(0, 3)), ...   \n",
       "33   [NerToken(word='今天', ner='DATE', idx=(11, 13))...   \n",
       "61   [NerToken(word='烏', ner='GPE', idx=(20, 21)), ...   \n",
       "98   [NerToken(word='台灣', ner='GPE', idx=(11, 13)),...   \n",
       "149  [NerToken(word='路透社', ner='ORG', idx=(0, 3)), ...   \n",
       "179  [NerToken(word='俄羅斯', ner='GPE', idx=(0, 3)), ...   \n",
       "\n",
       "                                             token_pos  \\\n",
       "11   [('財團', 'Na'), ('法人', 'Na'), ('賑災', 'VA'), ('基...   \n",
       "19   [('烏克蘭', 'Nc'), ('情勢', 'Na'), ('讓', 'VL'), ('台...   \n",
       "33   [('蘋果', 'Na'), ('公司', 'Nc'), ('（', 'PARENTHESI...   \n",
       "61   [('俄烏', 'Nc'), ('戰火', 'Na'), ('持續', 'VL'), ('影...   \n",
       "98   [('立委', 'Na'), ('質詢', 'VE'), ('關切', 'VJ'), ('俄...   \n",
       "149  [('路透社', 'Nc'), ('引述', 'VC'), ('中國', 'Nc'), ('...   \n",
       "179  [('俄羅斯', 'Nc'), ('入侵', 'VCL'), ('烏克蘭', 'Nc'), ...   \n",
       "\n",
       "                                                  link  \\\n",
       "11   https://www.cna.com.tw/news/aipl/202203140241....   \n",
       "19   https://www.cna.com.tw/news/aipl/202203140174....   \n",
       "33   https://www.cna.com.tw/news/ait/202203090006.aspx   \n",
       "61   https://www.cna.com.tw/news/afe/202203140355.aspx   \n",
       "98   https://www.cna.com.tw/news/afe/202203140204.aspx   \n",
       "149  https://www.cna.com.tw/news/aopl/202203140309....   \n",
       "179  https://www.cna.com.tw/news/acul/202203140198....   \n",
       "\n",
       "                                            photo_link  \n",
       "11   https://imgcdn.cna.com.tw/www/webphotos/WebCov...  \n",
       "19                                                 NaN  \n",
       "33   https://imgcdn.cna.com.tw/www/webphotos/WebCov...  \n",
       "61                                                 NaN  \n",
       "98                                                 NaN  \n",
       "149  https://imgcdn.cna.com.tw/www/webphotos/WebCov...  \n",
       "179                                                NaN  "
      ]
     },
     "execution_count": 77,
     "metadata": {},
     "output_type": "execute_result"
    }
   ],
   "source": [
    "df[df.tokens_v2.apply(lambda text: all([word in text for word in user_keyword]))]"
   ]
  },
  {
   "cell_type": "code",
   "execution_count": 78,
   "metadata": {},
   "outputs": [
    {
     "data": {
      "text/plain": [
       "7"
      ]
     },
     "execution_count": 78,
     "metadata": {},
     "output_type": "execute_result"
    }
   ],
   "source": [
    "len(df[df.tokens_v2.apply(lambda text: all([word in text for word in user_keyword]))])"
   ]
  },
  {
   "cell_type": "markdown",
   "metadata": {},
   "source": [
    "### lambda: how does it work?\n",
    "lambda is a function with only one line"
   ]
  },
  {
   "cell_type": "code",
   "execution_count": 79,
   "metadata": {},
   "outputs": [],
   "source": [
    "func = lambda x: x+5  # parameters函數的參數   func(55, 175)  func(x) -> x+5"
   ]
  },
  {
   "cell_type": "code",
   "execution_count": 80,
   "metadata": {},
   "outputs": [
    {
     "data": {
      "text/plain": [
       "7"
      ]
     },
     "execution_count": 80,
     "metadata": {},
     "output_type": "execute_result"
    }
   ],
   "source": [
    "func(2)"
   ]
  },
  {
   "cell_type": "code",
   "execution_count": 81,
   "metadata": {},
   "outputs": [],
   "source": [
    "numbers=[1,2,3]"
   ]
  },
  {
   "cell_type": "code",
   "execution_count": 82,
   "metadata": {},
   "outputs": [
    {
     "data": {
      "text/plain": [
       "[6, 7, 8]"
      ]
     },
     "execution_count": 82,
     "metadata": {},
     "output_type": "execute_result"
    }
   ],
   "source": [
    "[func(x) for x in numbers]"
   ]
  },
  {
   "cell_type": "code",
   "execution_count": null,
   "metadata": {},
   "outputs": [],
   "source": []
  },
  {
   "cell_type": "code",
   "execution_count": 83,
   "metadata": {},
   "outputs": [
    {
     "data": {
      "text/plain": [
       "[6, 7, 8]"
      ]
     },
     "execution_count": 83,
     "metadata": {},
     "output_type": "execute_result"
    }
   ],
   "source": [
    "numbers=[1,2,3]\n",
    "list(map(func, numbers))"
   ]
  },
  {
   "cell_type": "code",
   "execution_count": 84,
   "metadata": {},
   "outputs": [
    {
     "data": {
      "text/plain": [
       "[6, 7, 8]"
      ]
     },
     "execution_count": 84,
     "metadata": {},
     "output_type": "execute_result"
    }
   ],
   "source": [
    "numbers=[1,2,3]\n",
    "list(map(lambda x: x+5, numbers))"
   ]
  },
  {
   "cell_type": "code",
   "execution_count": 85,
   "metadata": {},
   "outputs": [
    {
     "data": {
      "text/plain": [
       "[11, 12, 13]"
      ]
     },
     "execution_count": 85,
     "metadata": {},
     "output_type": "execute_result"
    }
   ],
   "source": [
    "def func2(x):\n",
    "    return x+10\n",
    "\n",
    "numbers=[1,2,3]\n",
    "list(map(func2, numbers))"
   ]
  },
  {
   "cell_type": "markdown",
   "metadata": {},
   "source": [
    "### How to use pandas apply()?"
   ]
  },
  {
   "cell_type": "code",
   "execution_count": 86,
   "metadata": {},
   "outputs": [],
   "source": [
    "df_test = pd.DataFrame([1,2,3], columns=['number'])"
   ]
  },
  {
   "cell_type": "code",
   "execution_count": 87,
   "metadata": {},
   "outputs": [
    {
     "data": {
      "text/html": [
       "<div>\n",
       "<style scoped>\n",
       "    .dataframe tbody tr th:only-of-type {\n",
       "        vertical-align: middle;\n",
       "    }\n",
       "\n",
       "    .dataframe tbody tr th {\n",
       "        vertical-align: top;\n",
       "    }\n",
       "\n",
       "    .dataframe thead th {\n",
       "        text-align: right;\n",
       "    }\n",
       "</style>\n",
       "<table border=\"1\" class=\"dataframe\">\n",
       "  <thead>\n",
       "    <tr style=\"text-align: right;\">\n",
       "      <th></th>\n",
       "      <th>number</th>\n",
       "    </tr>\n",
       "  </thead>\n",
       "  <tbody>\n",
       "    <tr>\n",
       "      <th>0</th>\n",
       "      <td>1</td>\n",
       "    </tr>\n",
       "    <tr>\n",
       "      <th>1</th>\n",
       "      <td>2</td>\n",
       "    </tr>\n",
       "    <tr>\n",
       "      <th>2</th>\n",
       "      <td>3</td>\n",
       "    </tr>\n",
       "  </tbody>\n",
       "</table>\n",
       "</div>"
      ],
      "text/plain": [
       "   number\n",
       "0       1\n",
       "1       2\n",
       "2       3"
      ]
     },
     "execution_count": 87,
     "metadata": {},
     "output_type": "execute_result"
    }
   ],
   "source": [
    "df_test"
   ]
  },
  {
   "cell_type": "code",
   "execution_count": 88,
   "metadata": {},
   "outputs": [
    {
     "data": {
      "text/plain": [
       "0    6\n",
       "1    7\n",
       "2    8\n",
       "Name: number, dtype: int64"
      ]
     },
     "execution_count": 88,
     "metadata": {},
     "output_type": "execute_result"
    }
   ],
   "source": [
    "df_test.number.apply(lambda x: x+5) # add 5 for each element in df_test.number"
   ]
  },
  {
   "cell_type": "code",
   "execution_count": 89,
   "metadata": {},
   "outputs": [
    {
     "data": {
      "text/plain": [
       "0      False\n",
       "1      False\n",
       "2      False\n",
       "3      False\n",
       "4      False\n",
       "       ...  \n",
       "208    False\n",
       "209    False\n",
       "210    False\n",
       "211    False\n",
       "212    False\n",
       "Name: tokens_v2, Length: 213, dtype: bool"
      ]
     },
     "execution_count": 89,
     "metadata": {},
     "output_type": "execute_result"
    }
   ],
   "source": [
    "df.tokens_v2.apply(lambda text: all([word in text for word in user_keyword]))"
   ]
  },
  {
   "cell_type": "code",
   "execution_count": 90,
   "metadata": {},
   "outputs": [
    {
     "data": {
      "text/plain": [
       "0      False\n",
       "1      False\n",
       "2      False\n",
       "3      False\n",
       "4      False\n",
       "       ...  \n",
       "208    False\n",
       "209    False\n",
       "210    False\n",
       "211    False\n",
       "212    False\n",
       "Name: content, Length: 213, dtype: bool"
      ]
     },
     "execution_count": 90,
     "metadata": {},
     "output_type": "execute_result"
    }
   ],
   "source": [
    "df.content.apply(lambda text: all([word in text for word in user_keyword]))"
   ]
  },
  {
   "cell_type": "code",
   "execution_count": 91,
   "metadata": {},
   "outputs": [
    {
     "data": {
      "text/plain": [
       "0      False\n",
       "1      False\n",
       "2      False\n",
       "3      False\n",
       "4      False\n",
       "       ...  \n",
       "208    False\n",
       "209    False\n",
       "210    False\n",
       "211    False\n",
       "212    False\n",
       "Name: content, Length: 213, dtype: bool"
      ]
     },
     "execution_count": 91,
     "metadata": {},
     "output_type": "execute_result"
    }
   ],
   "source": [
    "user_keywords = ['烏克蘭','外交部']\n",
    "def func3(text): \n",
    "    return all([word in text for word in user_keyword])\n",
    "\n",
    "df.content.apply(func3)"
   ]
  },
  {
   "attachments": {},
   "cell_type": "markdown",
   "metadata": {},
   "source": [
    "# Function of fitering news\n",
    "\n",
    "Put them all together!"
   ]
  },
  {
   "cell_type": "code",
   "execution_count": 92,
   "metadata": {},
   "outputs": [],
   "source": [
    "# Searching keywords from \"token_v2\" column\n",
    "def filter_dataFrame(user_keywords, cond, cate, weeks):\n",
    "\n",
    "    # end date: the date of the latest record of news\n",
    "    end_date = df.date.max()\n",
    "    \n",
    "    # start date\n",
    "    start_date = (datetime.strptime(end_date, '%Y-%m-%d').date() - timedelta(weeks=weeks)).strftime('%Y-%m-%d')\n",
    "\n",
    "    # proceed filtering\n",
    "    if (cate == \"全部\") & (cond == 'and'):\n",
    "        query_df = df[(df.date >= start_date) & (df.date <= end_date) \n",
    "            & df.tokens_v2.apply(lambda text: all((qk in text) for qk in user_keywords))]\n",
    "    elif (cate == \"全部\") & (cond == 'or'):\n",
    "        query_df = df[(df['date'] >= start_date) & (df['date'] <= end_date) \n",
    "            & df.tokens_v2.apply(lambda text: any((qk in text) for qk in user_keywords))]\n",
    "    elif (cond == 'and'):\n",
    "        query_df = df[(df.category == cate) \n",
    "            & (df.date >= start_date) & (df.date <= end_date) \n",
    "            & df.tokens_v2.apply(lambda text: all((qk in text) for qk in user_keywords))]\n",
    "    elif (cond == 'or'):\n",
    "        query_df = df[(df.category == cate) \n",
    "            & (df['date'] >= start_date) & (df['date'] <= end_date) \n",
    "            & df.tokens_v2.apply(lambda text: any((qk in text) for qk in user_keywords))]\n",
    "    return query_df"
   ]
  },
  {
   "cell_type": "markdown",
   "metadata": {},
   "source": [
    "### For \"politics\" category 政治類"
   ]
  },
  {
   "cell_type": "code",
   "execution_count": 93,
   "metadata": {},
   "outputs": [],
   "source": [
    "user_keywords=['烏克蘭','台灣']\n",
    "cond='and'\n",
    "cate='政治'\n",
    "weeks=2\n",
    "df_query = filter_dataFrame(user_keywords, cond, cate, weeks)"
   ]
  },
  {
   "cell_type": "code",
   "execution_count": 94,
   "metadata": {},
   "outputs": [],
   "source": [
    "# end date: the date of the latest record of news\n",
    "end_date = df.date.max()\n",
    "\n",
    "# start date\n",
    "start_date = (datetime.strptime(end_date, '%Y-%m-%d').date() - timedelta(weeks=weeks)).strftime('%Y-%m-%d')"
   ]
  },
  {
   "cell_type": "code",
   "execution_count": 95,
   "metadata": {},
   "outputs": [],
   "source": [
    "user_keywords=['烏克蘭','台灣']\n",
    "cond='and'\n",
    "cate='政治'\n",
    "weeks=2"
   ]
  },
  {
   "cell_type": "code",
   "execution_count": 96,
   "metadata": {},
   "outputs": [
    {
     "data": {
      "text/plain": [
       "0       True\n",
       "1      False\n",
       "2      False\n",
       "3      False\n",
       "4       True\n",
       "       ...  \n",
       "208    False\n",
       "209    False\n",
       "210    False\n",
       "211    False\n",
       "212    False\n",
       "Length: 213, dtype: bool"
      ]
     },
     "execution_count": 96,
     "metadata": {},
     "output_type": "execute_result"
    }
   ],
   "source": [
    "(df.category == cate) & ( (df['date'] >= start_date) & (df['date'] <= end_date)  ) & df.tokens_v2.apply(lambda text: any((qk in text) for qk in user_keywords))"
   ]
  },
  {
   "cell_type": "code",
   "execution_count": 97,
   "metadata": {},
   "outputs": [
    {
     "data": {
      "text/plain": [
       "2"
      ]
     },
     "execution_count": 97,
     "metadata": {},
     "output_type": "execute_result"
    }
   ],
   "source": [
    "query_df = df[(\n",
    "    df.category == cate)   # category\n",
    "    & (df.date >= start_date) & (df.date <= end_date) # duration\n",
    "    & df.tokens_v2.apply(lambda row: all((qk in row) for qk in user_keywords)) # user keywords\n",
    "    ]\n",
    "len(query_df)"
   ]
  },
  {
   "cell_type": "code",
   "execution_count": 98,
   "metadata": {},
   "outputs": [
    {
     "data": {
      "text/html": [
       "<div>\n",
       "<style scoped>\n",
       "    .dataframe tbody tr th:only-of-type {\n",
       "        vertical-align: middle;\n",
       "    }\n",
       "\n",
       "    .dataframe tbody tr th {\n",
       "        vertical-align: top;\n",
       "    }\n",
       "\n",
       "    .dataframe thead th {\n",
       "        text-align: right;\n",
       "    }\n",
       "</style>\n",
       "<table border=\"1\" class=\"dataframe\">\n",
       "  <thead>\n",
       "    <tr style=\"text-align: right;\">\n",
       "      <th></th>\n",
       "      <th>item_id</th>\n",
       "      <th>date</th>\n",
       "      <th>category</th>\n",
       "      <th>title</th>\n",
       "      <th>content</th>\n",
       "      <th>sentiment</th>\n",
       "      <th>summary</th>\n",
       "      <th>top_key_freq</th>\n",
       "      <th>tokens</th>\n",
       "      <th>tokens_v2</th>\n",
       "      <th>entities</th>\n",
       "      <th>token_pos</th>\n",
       "      <th>link</th>\n",
       "      <th>photo_link</th>\n",
       "    </tr>\n",
       "  </thead>\n",
       "  <tbody>\n",
       "    <tr>\n",
       "      <th>11</th>\n",
       "      <td>aipl_20220314_12</td>\n",
       "      <td>2022-03-14</td>\n",
       "      <td>政治</td>\n",
       "      <td>賑濟烏克蘭善款 累計突破6億元</td>\n",
       "      <td>財團法人賑災基金會今天表示，賑濟烏克蘭專戶開設到今天下午4時10分，累計收到善款已突破新台幣...</td>\n",
       "      <td>0.0</td>\n",
       "      <td>['收到紐約台灣商會捐入一筆3萬5703美元、折合新台幣約101萬元的捐款', '外交部2日...</td>\n",
       "      <td>[('基金會', 6), ('烏克蘭', 6), ('收到', 4), ('新台幣', 4)...</td>\n",
       "      <td>['財團', '法人', '賑災', '基金會', '今天', '表示', '，', '賑濟...</td>\n",
       "      <td>['財團', '法人', '賑災', '基金會', '賑濟', '烏克蘭', '專戶', '...</td>\n",
       "      <td>[NerToken(word='今天', ner='DATE', idx=(9, 11)),...</td>\n",
       "      <td>[('財團', 'Na'), ('法人', 'Na'), ('賑災', 'VA'), ('基...</td>\n",
       "      <td>https://www.cna.com.tw/news/aipl/202203140241....</td>\n",
       "      <td>https://imgcdn.cna.com.tw/www/webphotos/WebCov...</td>\n",
       "    </tr>\n",
       "    <tr>\n",
       "      <th>19</th>\n",
       "      <td>aipl_20220314_20</td>\n",
       "      <td>2022-03-14</td>\n",
       "      <td>政治</td>\n",
       "      <td>徐國勇：個人贊成延長役期  花點時間讓國家永續安全</td>\n",
       "      <td>烏克蘭情勢讓台灣4個月軍事訓練役的討論浮上檯面。內政部長徐國勇今天說，這牽涉國家兵役政策，應...</td>\n",
       "      <td>0.0</td>\n",
       "      <td>['徐國勇答詢時說', '內政部長徐國勇今天說', '「一年、幾個月（役期）時間又算什麼',...</td>\n",
       "      <td>[('徐國勇', 6), ('國家', 6), ('戰爭', 4), ('延長', 3), ...</td>\n",
       "      <td>['烏克蘭', '情勢', '讓', '台灣', '4', '個', '月', '軍事', ...</td>\n",
       "      <td>['烏克蘭', '情勢', '台灣', '軍事', '訓練', '檯面', '內政部長', ...</td>\n",
       "      <td>[NerToken(word='烏克蘭', ner='GPE', idx=(0, 3)), ...</td>\n",
       "      <td>[('烏克蘭', 'Nc'), ('情勢', 'Na'), ('讓', 'VL'), ('台...</td>\n",
       "      <td>https://www.cna.com.tw/news/aipl/202203140174....</td>\n",
       "      <td>NaN</td>\n",
       "    </tr>\n",
       "  </tbody>\n",
       "</table>\n",
       "</div>"
      ],
      "text/plain": [
       "             item_id        date category                      title  \\\n",
       "11  aipl_20220314_12  2022-03-14       政治            賑濟烏克蘭善款 累計突破6億元   \n",
       "19  aipl_20220314_20  2022-03-14       政治  徐國勇：個人贊成延長役期  花點時間讓國家永續安全   \n",
       "\n",
       "                                              content  sentiment  \\\n",
       "11  財團法人賑災基金會今天表示，賑濟烏克蘭專戶開設到今天下午4時10分，累計收到善款已突破新台幣...        0.0   \n",
       "19  烏克蘭情勢讓台灣4個月軍事訓練役的討論浮上檯面。內政部長徐國勇今天說，這牽涉國家兵役政策，應...        0.0   \n",
       "\n",
       "                                              summary  \\\n",
       "11  ['收到紐約台灣商會捐入一筆3萬5703美元、折合新台幣約101萬元的捐款', '外交部2日...   \n",
       "19  ['徐國勇答詢時說', '內政部長徐國勇今天說', '「一年、幾個月（役期）時間又算什麼',...   \n",
       "\n",
       "                                         top_key_freq  \\\n",
       "11  [('基金會', 6), ('烏克蘭', 6), ('收到', 4), ('新台幣', 4)...   \n",
       "19  [('徐國勇', 6), ('國家', 6), ('戰爭', 4), ('延長', 3), ...   \n",
       "\n",
       "                                               tokens  \\\n",
       "11  ['財團', '法人', '賑災', '基金會', '今天', '表示', '，', '賑濟...   \n",
       "19  ['烏克蘭', '情勢', '讓', '台灣', '4', '個', '月', '軍事', ...   \n",
       "\n",
       "                                            tokens_v2  \\\n",
       "11  ['財團', '法人', '賑災', '基金會', '賑濟', '烏克蘭', '專戶', '...   \n",
       "19  ['烏克蘭', '情勢', '台灣', '軍事', '訓練', '檯面', '內政部長', ...   \n",
       "\n",
       "                                             entities  \\\n",
       "11  [NerToken(word='今天', ner='DATE', idx=(9, 11)),...   \n",
       "19  [NerToken(word='烏克蘭', ner='GPE', idx=(0, 3)), ...   \n",
       "\n",
       "                                            token_pos  \\\n",
       "11  [('財團', 'Na'), ('法人', 'Na'), ('賑災', 'VA'), ('基...   \n",
       "19  [('烏克蘭', 'Nc'), ('情勢', 'Na'), ('讓', 'VL'), ('台...   \n",
       "\n",
       "                                                 link  \\\n",
       "11  https://www.cna.com.tw/news/aipl/202203140241....   \n",
       "19  https://www.cna.com.tw/news/aipl/202203140174....   \n",
       "\n",
       "                                           photo_link  \n",
       "11  https://imgcdn.cna.com.tw/www/webphotos/WebCov...  \n",
       "19                                                NaN  "
      ]
     },
     "execution_count": 98,
     "metadata": {},
     "output_type": "execute_result"
    }
   ],
   "source": [
    "query_df"
   ]
  },
  {
   "attachments": {},
   "cell_type": "markdown",
   "metadata": {},
   "source": [
    "### For \"全部\"\"All\" category (不必篩選類別!)"
   ]
  },
  {
   "cell_type": "code",
   "execution_count": 99,
   "metadata": {},
   "outputs": [],
   "source": [
    "user_keywords=['烏克蘭','台灣']\n",
    "cond='and'\n",
    "cate='全部'\n",
    "weeks=2"
   ]
  },
  {
   "cell_type": "code",
   "execution_count": 100,
   "metadata": {},
   "outputs": [],
   "source": [
    "if (cate == \"全部\") & (cond == 'and'):\n",
    "    query_df = df[\n",
    "        (df.date >= start_date) & (df.date <= end_date) \n",
    "        & df.tokens_v2.apply(lambda row: all((qk in row) for qk in user_keywords))\n",
    "        ]\n",
    "elif (cate == \"全部\") & (cond == 'or'):\n",
    "    query_df = df[\n",
    "        (df['date'] >= start_date) & (df['date'] <= end_date) \n",
    "        & df.tokens_v2.apply(lambda row: any((qk in row) for qk in user_keywords))]"
   ]
  },
  {
   "cell_type": "code",
   "execution_count": 101,
   "metadata": {},
   "outputs": [
    {
     "data": {
      "text/plain": [
       "7"
      ]
     },
     "execution_count": 101,
     "metadata": {},
     "output_type": "execute_result"
    }
   ],
   "source": [
    "len(query_df)"
   ]
  },
  {
   "cell_type": "markdown",
   "metadata": {},
   "source": [
    "# Function of count_keyword() to calculate frequency and occurence"
   ]
  },
  {
   "cell_type": "code",
   "execution_count": 102,
   "metadata": {},
   "outputs": [],
   "source": [
    "# For the query_df, count the occurence and frequency for each category.\n",
    "\n",
    "# (1) cate_occurence={}  被多少篇新聞報導\n",
    "# (2) cate_freq={}       被提到多少次?How many times were the keywords mentioned\n",
    "\n",
    "\n",
    "news_categories = ['政治', '科技', '運動', '證卷', '產經', '娛樂', '生活', '國際', '社會', '文化', '兩岸', '全部']\n",
    "\n",
    "def count_keyword(query_df, user_keywords):\n",
    "    cate_occurence={}\n",
    "    cate_freq={}\n",
    "\n",
    "    for cate in news_categories:\n",
    "        cate_occurence[cate]=0\n",
    "        cate_freq[cate]=0\n",
    "\n",
    "    for idx, row in query_df.iterrows():\n",
    "        # count number of news\n",
    "        cate_occurence[row.category] += 1 # add 1 to its category's occurence\n",
    "        cate_occurence['全部'] += 1\n",
    "        \n",
    "        # count user keyword frequency by checking every word in tokens_v2\n",
    "        tokens = eval(row.tokens_v2) # count frequency\n",
    "        freq =  len([word for word in tokens if (word in user_keywords)]) # how manay times?\n",
    "        cate_freq[row.category] += freq\n",
    "        cate_freq['全部'] += freq\n",
    "        \n",
    "    return cate_freq, cate_occurence"
   ]
  },
  {
   "cell_type": "code",
   "execution_count": 103,
   "metadata": {},
   "outputs": [
    {
     "data": {
      "text/plain": [
       "({'政治': 14,\n",
       "  '科技': 0,\n",
       "  '運動': 0,\n",
       "  '證卷': 0,\n",
       "  '產經': 0,\n",
       "  '娛樂': 0,\n",
       "  '生活': 0,\n",
       "  '國際': 0,\n",
       "  '社會': 0,\n",
       "  '文化': 0,\n",
       "  '兩岸': 0,\n",
       "  '全部': 14},\n",
       " {'政治': 2,\n",
       "  '科技': 0,\n",
       "  '運動': 0,\n",
       "  '證卷': 0,\n",
       "  '產經': 0,\n",
       "  '娛樂': 0,\n",
       "  '生活': 0,\n",
       "  '國際': 0,\n",
       "  '社會': 0,\n",
       "  '文化': 0,\n",
       "  '兩岸': 0,\n",
       "  '全部': 2})"
      ]
     },
     "execution_count": 103,
     "metadata": {},
     "output_type": "execute_result"
    }
   ],
   "source": [
    "user_keywords=['烏克蘭','台灣']\n",
    "count_keyword(df_query, user_keywords)"
   ]
  },
  {
   "attachments": {},
   "cell_type": "markdown",
   "metadata": {},
   "source": [
    "## Show it step by step by yourself"
   ]
  },
  {
   "cell_type": "code",
   "execution_count": 104,
   "metadata": {},
   "outputs": [],
   "source": [
    "user_keywords=['烏克蘭','外交部']\n",
    "cond='and'\n",
    "cate='全部'\n",
    "weeks=2\n",
    "df_query = filter_dataFrame(user_keywords, cond, cate, weeks)\n",
    "\n",
    "# count user keyword frequency by checking every word in tokens_v2\n",
    "tokens = eval(df_query.tokens_v2[0]) # count frequency\n",
    "freq =  len([word for word in tokens if (word in user_keywords)]) # how manay times?"
   ]
  },
  {
   "cell_type": "code",
   "execution_count": 105,
   "metadata": {},
   "outputs": [
    {
     "data": {
      "text/html": [
       "<div>\n",
       "<style scoped>\n",
       "    .dataframe tbody tr th:only-of-type {\n",
       "        vertical-align: middle;\n",
       "    }\n",
       "\n",
       "    .dataframe tbody tr th {\n",
       "        vertical-align: top;\n",
       "    }\n",
       "\n",
       "    .dataframe thead th {\n",
       "        text-align: right;\n",
       "    }\n",
       "</style>\n",
       "<table border=\"1\" class=\"dataframe\">\n",
       "  <thead>\n",
       "    <tr style=\"text-align: right;\">\n",
       "      <th></th>\n",
       "      <th>item_id</th>\n",
       "      <th>date</th>\n",
       "      <th>category</th>\n",
       "      <th>title</th>\n",
       "      <th>content</th>\n",
       "      <th>sentiment</th>\n",
       "      <th>summary</th>\n",
       "      <th>top_key_freq</th>\n",
       "      <th>tokens</th>\n",
       "      <th>tokens_v2</th>\n",
       "      <th>entities</th>\n",
       "      <th>token_pos</th>\n",
       "      <th>link</th>\n",
       "      <th>photo_link</th>\n",
       "    </tr>\n",
       "  </thead>\n",
       "  <tbody>\n",
       "    <tr>\n",
       "      <th>0</th>\n",
       "      <td>aipl_20220314_1</td>\n",
       "      <td>2022-03-14</td>\n",
       "      <td>政治</td>\n",
       "      <td>外交部援烏物資已募4000箱 吳釗燮感謝捐贈民眾</td>\n",
       "      <td>民眾捐贈烏克蘭的愛心物資持續湧入外交部，截至今天傍晚累計已收到約4000箱，外交部長吳釗燮中...</td>\n",
       "      <td>0.01</td>\n",
       "      <td>['外交部除感謝熱心民眾踴躍捐贈援助烏克蘭人道物資外', '親赴外交部捐贈物資的民眾約173...</td>\n",
       "      <td>[('外交部', 14), ('民眾', 7), ('物資', 7), ('烏克蘭', 5)...</td>\n",
       "      <td>['民眾', '捐贈', '烏克蘭', '的', '愛心', '物資', '持續', '湧入...</td>\n",
       "      <td>['民眾', '烏克蘭', '愛心', '物資', '外交部', '收到', '外交部長',...</td>\n",
       "      <td>[NerToken(word='烏克蘭', ner='GPE', idx=(4, 7)), ...</td>\n",
       "      <td>[('民眾', 'Na'), ('捐贈', 'VD'), ('烏克蘭', 'Nc'), ('...</td>\n",
       "      <td>https://www.cna.com.tw/news/aipl/202203140364....</td>\n",
       "      <td>https://imgcdn.cna.com.tw/www/WebPhotos/200/20...</td>\n",
       "    </tr>\n",
       "    <tr>\n",
       "      <th>11</th>\n",
       "      <td>aipl_20220314_12</td>\n",
       "      <td>2022-03-14</td>\n",
       "      <td>政治</td>\n",
       "      <td>賑濟烏克蘭善款 累計突破6億元</td>\n",
       "      <td>財團法人賑災基金會今天表示，賑濟烏克蘭專戶開設到今天下午4時10分，累計收到善款已突破新台幣...</td>\n",
       "      <td>0.00</td>\n",
       "      <td>['收到紐約台灣商會捐入一筆3萬5703美元、折合新台幣約101萬元的捐款', '外交部2日...</td>\n",
       "      <td>[('基金會', 6), ('烏克蘭', 6), ('收到', 4), ('新台幣', 4)...</td>\n",
       "      <td>['財團', '法人', '賑災', '基金會', '今天', '表示', '，', '賑濟...</td>\n",
       "      <td>['財團', '法人', '賑災', '基金會', '賑濟', '烏克蘭', '專戶', '...</td>\n",
       "      <td>[NerToken(word='今天', ner='DATE', idx=(9, 11)),...</td>\n",
       "      <td>[('財團', 'Na'), ('法人', 'Na'), ('賑災', 'VA'), ('基...</td>\n",
       "      <td>https://www.cna.com.tw/news/aipl/202203140241....</td>\n",
       "      <td>https://imgcdn.cna.com.tw/www/webphotos/WebCov...</td>\n",
       "    </tr>\n",
       "    <tr>\n",
       "      <th>140</th>\n",
       "      <td>aopl_20220314_1</td>\n",
       "      <td>2022-03-14</td>\n",
       "      <td>國際</td>\n",
       "      <td>澳洲擴大制裁俄羅斯 歐盟要凍結切爾西老闆資產</td>\n",
       "      <td>（中央社雪梨/布魯塞爾14日綜合外電報導）澳洲為懲罰俄羅斯侵略烏克蘭，今天再將33名俄國寡頭...</td>\n",
       "      <td>0.00</td>\n",
       "      <td>['將阿布拉莫維奇加入制裁的俄羅斯富豪名單', '而歐盟各國代表將在今天開會通過這項措施',...</td>\n",
       "      <td>[('制裁', 8), ('俄羅斯', 7), ('俄國', 7), ('歐盟', 5), ...</td>\n",
       "      <td>['（', '中央社', '雪梨', '/', '布魯塞爾', '14日', '綜合', '...</td>\n",
       "      <td>['中央社', '雪梨', '布魯塞爾', '綜合', '外電', '澳洲', '懲罰', ...</td>\n",
       "      <td>[NerToken(word='中央社', ner='ORG', idx=(1, 4)), ...</td>\n",
       "      <td>[('（', 'PARENTHESISCATEGORY'), ('中央社', 'Nc'), ...</td>\n",
       "      <td>https://www.cna.com.tw/news/aopl/202203140376....</td>\n",
       "      <td>NaN</td>\n",
       "    </tr>\n",
       "    <tr>\n",
       "      <th>141</th>\n",
       "      <td>aopl_20220314_2</td>\n",
       "      <td>2022-03-14</td>\n",
       "      <td>國際</td>\n",
       "      <td>俄羅斯提核協議新要求 伊朗外長將赴莫斯科討論</td>\n",
       "      <td>關於伊朗核子協議的談判，數天前因為俄羅斯提出新要求而觸礁，伊朗外交部長阿布杜拉希安15日將赴...</td>\n",
       "      <td>0.00</td>\n",
       "      <td>['他已與俄羅斯外長拉夫羅夫（Sergei Lavrov）討論了正在奧地利維也納進行的伊朗核...</td>\n",
       "      <td>[('伊朗', 11), ('協議', 9), ('談判', 6), ('外長', 6), ...</td>\n",
       "      <td>['關於', '伊朗', '核子', '協議', '的', '談判', '，', '數', ...</td>\n",
       "      <td>['伊朗', '核子', '協議', '談判', '俄羅斯', '提出', '要求', '伊...</td>\n",
       "      <td>[NerToken(word='伊朗', ner='GPE', idx=(2, 4)), N...</td>\n",
       "      <td>[('關於', 'P'), ('伊朗', 'Nc'), ('核子', 'Na'), ('協議...</td>\n",
       "      <td>https://www.cna.com.tw/news/aopl/202203140361....</td>\n",
       "      <td>NaN</td>\n",
       "    </tr>\n",
       "  </tbody>\n",
       "</table>\n",
       "</div>"
      ],
      "text/plain": [
       "              item_id        date category                     title  \\\n",
       "0     aipl_20220314_1  2022-03-14       政治  外交部援烏物資已募4000箱 吳釗燮感謝捐贈民眾   \n",
       "11   aipl_20220314_12  2022-03-14       政治           賑濟烏克蘭善款 累計突破6億元   \n",
       "140   aopl_20220314_1  2022-03-14       國際    澳洲擴大制裁俄羅斯 歐盟要凍結切爾西老闆資產   \n",
       "141   aopl_20220314_2  2022-03-14       國際    俄羅斯提核協議新要求 伊朗外長將赴莫斯科討論   \n",
       "\n",
       "                                               content  sentiment  \\\n",
       "0    民眾捐贈烏克蘭的愛心物資持續湧入外交部，截至今天傍晚累計已收到約4000箱，外交部長吳釗燮中...       0.01   \n",
       "11   財團法人賑災基金會今天表示，賑濟烏克蘭專戶開設到今天下午4時10分，累計收到善款已突破新台幣...       0.00   \n",
       "140  （中央社雪梨/布魯塞爾14日綜合外電報導）澳洲為懲罰俄羅斯侵略烏克蘭，今天再將33名俄國寡頭...       0.00   \n",
       "141  關於伊朗核子協議的談判，數天前因為俄羅斯提出新要求而觸礁，伊朗外交部長阿布杜拉希安15日將赴...       0.00   \n",
       "\n",
       "                                               summary  \\\n",
       "0    ['外交部除感謝熱心民眾踴躍捐贈援助烏克蘭人道物資外', '親赴外交部捐贈物資的民眾約173...   \n",
       "11   ['收到紐約台灣商會捐入一筆3萬5703美元、折合新台幣約101萬元的捐款', '外交部2日...   \n",
       "140  ['將阿布拉莫維奇加入制裁的俄羅斯富豪名單', '而歐盟各國代表將在今天開會通過這項措施',...   \n",
       "141  ['他已與俄羅斯外長拉夫羅夫（Sergei Lavrov）討論了正在奧地利維也納進行的伊朗核...   \n",
       "\n",
       "                                          top_key_freq  \\\n",
       "0    [('外交部', 14), ('民眾', 7), ('物資', 7), ('烏克蘭', 5)...   \n",
       "11   [('基金會', 6), ('烏克蘭', 6), ('收到', 4), ('新台幣', 4)...   \n",
       "140  [('制裁', 8), ('俄羅斯', 7), ('俄國', 7), ('歐盟', 5), ...   \n",
       "141  [('伊朗', 11), ('協議', 9), ('談判', 6), ('外長', 6), ...   \n",
       "\n",
       "                                                tokens  \\\n",
       "0    ['民眾', '捐贈', '烏克蘭', '的', '愛心', '物資', '持續', '湧入...   \n",
       "11   ['財團', '法人', '賑災', '基金會', '今天', '表示', '，', '賑濟...   \n",
       "140  ['（', '中央社', '雪梨', '/', '布魯塞爾', '14日', '綜合', '...   \n",
       "141  ['關於', '伊朗', '核子', '協議', '的', '談判', '，', '數', ...   \n",
       "\n",
       "                                             tokens_v2  \\\n",
       "0    ['民眾', '烏克蘭', '愛心', '物資', '外交部', '收到', '外交部長',...   \n",
       "11   ['財團', '法人', '賑災', '基金會', '賑濟', '烏克蘭', '專戶', '...   \n",
       "140  ['中央社', '雪梨', '布魯塞爾', '綜合', '外電', '澳洲', '懲罰', ...   \n",
       "141  ['伊朗', '核子', '協議', '談判', '俄羅斯', '提出', '要求', '伊...   \n",
       "\n",
       "                                              entities  \\\n",
       "0    [NerToken(word='烏克蘭', ner='GPE', idx=(4, 7)), ...   \n",
       "11   [NerToken(word='今天', ner='DATE', idx=(9, 11)),...   \n",
       "140  [NerToken(word='中央社', ner='ORG', idx=(1, 4)), ...   \n",
       "141  [NerToken(word='伊朗', ner='GPE', idx=(2, 4)), N...   \n",
       "\n",
       "                                             token_pos  \\\n",
       "0    [('民眾', 'Na'), ('捐贈', 'VD'), ('烏克蘭', 'Nc'), ('...   \n",
       "11   [('財團', 'Na'), ('法人', 'Na'), ('賑災', 'VA'), ('基...   \n",
       "140  [('（', 'PARENTHESISCATEGORY'), ('中央社', 'Nc'), ...   \n",
       "141  [('關於', 'P'), ('伊朗', 'Nc'), ('核子', 'Na'), ('協議...   \n",
       "\n",
       "                                                  link  \\\n",
       "0    https://www.cna.com.tw/news/aipl/202203140364....   \n",
       "11   https://www.cna.com.tw/news/aipl/202203140241....   \n",
       "140  https://www.cna.com.tw/news/aopl/202203140376....   \n",
       "141  https://www.cna.com.tw/news/aopl/202203140361....   \n",
       "\n",
       "                                            photo_link  \n",
       "0    https://imgcdn.cna.com.tw/www/WebPhotos/200/20...  \n",
       "11   https://imgcdn.cna.com.tw/www/webphotos/WebCov...  \n",
       "140                                                NaN  \n",
       "141                                                NaN  "
      ]
     },
     "execution_count": 105,
     "metadata": {},
     "output_type": "execute_result"
    }
   ],
   "source": [
    "df_query"
   ]
  },
  {
   "cell_type": "code",
   "execution_count": 106,
   "metadata": {},
   "outputs": [
    {
     "data": {
      "text/plain": [
       "item_id                                           aipl_20220314_1\n",
       "date                                                   2022-03-14\n",
       "category                                                       政治\n",
       "title                                    外交部援烏物資已募4000箱 吳釗燮感謝捐贈民眾\n",
       "content         民眾捐贈烏克蘭的愛心物資持續湧入外交部，截至今天傍晚累計已收到約4000箱，外交部長吳釗燮中...\n",
       "sentiment                                                    0.01\n",
       "summary         ['外交部除感謝熱心民眾踴躍捐贈援助烏克蘭人道物資外', '親赴外交部捐贈物資的民眾約173...\n",
       "top_key_freq    [('外交部', 14), ('民眾', 7), ('物資', 7), ('烏克蘭', 5)...\n",
       "tokens          ['民眾', '捐贈', '烏克蘭', '的', '愛心', '物資', '持續', '湧入...\n",
       "tokens_v2       ['民眾', '烏克蘭', '愛心', '物資', '外交部', '收到', '外交部長',...\n",
       "entities        [NerToken(word='烏克蘭', ner='GPE', idx=(4, 7)), ...\n",
       "token_pos       [('民眾', 'Na'), ('捐贈', 'VD'), ('烏克蘭', 'Nc'), ('...\n",
       "link            https://www.cna.com.tw/news/aipl/202203140364....\n",
       "photo_link      https://imgcdn.cna.com.tw/www/WebPhotos/200/20...\n",
       "Name: 0, dtype: object"
      ]
     },
     "execution_count": 106,
     "metadata": {},
     "output_type": "execute_result"
    }
   ],
   "source": [
    "df_query.iloc[0]"
   ]
  },
  {
   "cell_type": "code",
   "execution_count": 107,
   "metadata": {},
   "outputs": [],
   "source": [
    "row = df_query.iloc[0]"
   ]
  },
  {
   "cell_type": "code",
   "execution_count": 108,
   "metadata": {},
   "outputs": [
    {
     "data": {
      "text/plain": [
       "\"['民眾', '烏克蘭', '愛心', '物資', '外交部', '收到', '外交部長', '吳釗燮', '現場', '協助', '整理', '物資', '志工', '加油', '民眾', '表達', '外交部', '發布', '新聞稿', '外交部', '民間', '募集', '烏克蘭', '難民', '物資', '響應', '外交部', '物資', '民眾', '包裹', '收到', '物資', '品項', '醫療', '口罩', '毛毯', '女性', '衛生', '用品', '尿片', '餅乾', '募集', '活動', '外交部', '民眾', '現場', '分類', '整理', '志工', '外交部', '人員', '吳釗燮', '外交部', '地下', '停車場', '吳釗燮', '在場', '慈濟', '民間', '組織', '志工', '自發', '到場', '幫忙', '善心', '人士', '互動', '烏克蘭', '人士', '義工', '現場', '協助', '吳釗燮', '致意', '慰問', '外交部', '照片', '到場', '幫忙', '烏克蘭', '志工', '家鄉', '情勢', '網紅佳娜', '外交部', '物資', '民眾', '物品', '外交部', '網站', '清單', '物品', '衣物', '外交部', '物品', '物品', '拆封', '包裝', '有效期', '整理', '轉運', '困擾', '時間', '民眾', '清單', '藥品', '外交部', '外交部', '民眾', '援助', '烏克蘭', '人道', '物資', '志工', '幫忙', '貢獻', '外交部', '各界', '人士', '時間', '精神', '投入', '國際', '人道', '援助', '表達', '敬意']\""
      ]
     },
     "execution_count": 108,
     "metadata": {},
     "output_type": "execute_result"
    }
   ],
   "source": [
    "row.tokens_v2"
   ]
  },
  {
   "cell_type": "code",
   "execution_count": null,
   "metadata": {},
   "outputs": [],
   "source": []
  },
  {
   "cell_type": "code",
   "execution_count": 109,
   "metadata": {},
   "outputs": [
    {
     "data": {
      "text/plain": [
       "['民眾',\n",
       " '烏克蘭',\n",
       " '愛心',\n",
       " '物資',\n",
       " '外交部',\n",
       " '收到',\n",
       " '外交部長',\n",
       " '吳釗燮',\n",
       " '現場',\n",
       " '協助',\n",
       " '整理',\n",
       " '物資',\n",
       " '志工',\n",
       " '加油',\n",
       " '民眾',\n",
       " '表達',\n",
       " '外交部',\n",
       " '發布',\n",
       " '新聞稿',\n",
       " '外交部',\n",
       " '民間',\n",
       " '募集',\n",
       " '烏克蘭',\n",
       " '難民',\n",
       " '物資',\n",
       " '響應',\n",
       " '外交部',\n",
       " '物資',\n",
       " '民眾',\n",
       " '包裹',\n",
       " '收到',\n",
       " '物資',\n",
       " '品項',\n",
       " '醫療',\n",
       " '口罩',\n",
       " '毛毯',\n",
       " '女性',\n",
       " '衛生',\n",
       " '用品',\n",
       " '尿片',\n",
       " '餅乾',\n",
       " '募集',\n",
       " '活動',\n",
       " '外交部',\n",
       " '民眾',\n",
       " '現場',\n",
       " '分類',\n",
       " '整理',\n",
       " '志工',\n",
       " '外交部',\n",
       " '人員',\n",
       " '吳釗燮',\n",
       " '外交部',\n",
       " '地下',\n",
       " '停車場',\n",
       " '吳釗燮',\n",
       " '在場',\n",
       " '慈濟',\n",
       " '民間',\n",
       " '組織',\n",
       " '志工',\n",
       " '自發',\n",
       " '到場',\n",
       " '幫忙',\n",
       " '善心',\n",
       " '人士',\n",
       " '互動',\n",
       " '烏克蘭',\n",
       " '人士',\n",
       " '義工',\n",
       " '現場',\n",
       " '協助',\n",
       " '吳釗燮',\n",
       " '致意',\n",
       " '慰問',\n",
       " '外交部',\n",
       " '照片',\n",
       " '到場',\n",
       " '幫忙',\n",
       " '烏克蘭',\n",
       " '志工',\n",
       " '家鄉',\n",
       " '情勢',\n",
       " '網紅佳娜',\n",
       " '外交部',\n",
       " '物資',\n",
       " '民眾',\n",
       " '物品',\n",
       " '外交部',\n",
       " '網站',\n",
       " '清單',\n",
       " '物品',\n",
       " '衣物',\n",
       " '外交部',\n",
       " '物品',\n",
       " '物品',\n",
       " '拆封',\n",
       " '包裝',\n",
       " '有效期',\n",
       " '整理',\n",
       " '轉運',\n",
       " '困擾',\n",
       " '時間',\n",
       " '民眾',\n",
       " '清單',\n",
       " '藥品',\n",
       " '外交部',\n",
       " '外交部',\n",
       " '民眾',\n",
       " '援助',\n",
       " '烏克蘭',\n",
       " '人道',\n",
       " '物資',\n",
       " '志工',\n",
       " '幫忙',\n",
       " '貢獻',\n",
       " '外交部',\n",
       " '各界',\n",
       " '人士',\n",
       " '時間',\n",
       " '精神',\n",
       " '投入',\n",
       " '國際',\n",
       " '人道',\n",
       " '援助',\n",
       " '表達',\n",
       " '敬意']"
      ]
     },
     "execution_count": 109,
     "metadata": {},
     "output_type": "execute_result"
    }
   ],
   "source": [
    "eval(row.tokens_v2)"
   ]
  },
  {
   "cell_type": "code",
   "execution_count": 110,
   "metadata": {},
   "outputs": [
    {
     "data": {
      "text/plain": [
       "['民眾',\n",
       " '烏克蘭',\n",
       " '愛心',\n",
       " '物資',\n",
       " '外交部',\n",
       " '收到',\n",
       " '外交部長',\n",
       " '吳釗燮',\n",
       " '現場',\n",
       " '協助',\n",
       " '整理',\n",
       " '物資',\n",
       " '志工',\n",
       " '加油',\n",
       " '民眾',\n",
       " '表達',\n",
       " '外交部',\n",
       " '發布',\n",
       " '新聞稿',\n",
       " '外交部',\n",
       " '民間',\n",
       " '募集',\n",
       " '烏克蘭',\n",
       " '難民',\n",
       " '物資',\n",
       " '響應',\n",
       " '外交部',\n",
       " '物資',\n",
       " '民眾',\n",
       " '包裹',\n",
       " '收到',\n",
       " '物資',\n",
       " '品項',\n",
       " '醫療',\n",
       " '口罩',\n",
       " '毛毯',\n",
       " '女性',\n",
       " '衛生',\n",
       " '用品',\n",
       " '尿片',\n",
       " '餅乾',\n",
       " '募集',\n",
       " '活動',\n",
       " '外交部',\n",
       " '民眾',\n",
       " '現場',\n",
       " '分類',\n",
       " '整理',\n",
       " '志工',\n",
       " '外交部',\n",
       " '人員',\n",
       " '吳釗燮',\n",
       " '外交部',\n",
       " '地下',\n",
       " '停車場',\n",
       " '吳釗燮',\n",
       " '在場',\n",
       " '慈濟',\n",
       " '民間',\n",
       " '組織',\n",
       " '志工',\n",
       " '自發',\n",
       " '到場',\n",
       " '幫忙',\n",
       " '善心',\n",
       " '人士',\n",
       " '互動',\n",
       " '烏克蘭',\n",
       " '人士',\n",
       " '義工',\n",
       " '現場',\n",
       " '協助',\n",
       " '吳釗燮',\n",
       " '致意',\n",
       " '慰問',\n",
       " '外交部',\n",
       " '照片',\n",
       " '到場',\n",
       " '幫忙',\n",
       " '烏克蘭',\n",
       " '志工',\n",
       " '家鄉',\n",
       " '情勢',\n",
       " '網紅佳娜',\n",
       " '外交部',\n",
       " '物資',\n",
       " '民眾',\n",
       " '物品',\n",
       " '外交部',\n",
       " '網站',\n",
       " '清單',\n",
       " '物品',\n",
       " '衣物',\n",
       " '外交部',\n",
       " '物品',\n",
       " '物品',\n",
       " '拆封',\n",
       " '包裝',\n",
       " '有效期',\n",
       " '整理',\n",
       " '轉運',\n",
       " '困擾',\n",
       " '時間',\n",
       " '民眾',\n",
       " '清單',\n",
       " '藥品',\n",
       " '外交部',\n",
       " '外交部',\n",
       " '民眾',\n",
       " '援助',\n",
       " '烏克蘭',\n",
       " '人道',\n",
       " '物資',\n",
       " '志工',\n",
       " '幫忙',\n",
       " '貢獻',\n",
       " '外交部',\n",
       " '各界',\n",
       " '人士',\n",
       " '時間',\n",
       " '精神',\n",
       " '投入',\n",
       " '國際',\n",
       " '人道',\n",
       " '援助',\n",
       " '表達',\n",
       " '敬意']"
      ]
     },
     "execution_count": 110,
     "metadata": {},
     "output_type": "execute_result"
    }
   ],
   "source": [
    "tokens"
   ]
  },
  {
   "cell_type": "code",
   "execution_count": 111,
   "metadata": {},
   "outputs": [
    {
     "data": {
      "text/plain": [
       "['烏克蘭',\n",
       " '外交部',\n",
       " '外交部',\n",
       " '外交部',\n",
       " '烏克蘭',\n",
       " '外交部',\n",
       " '外交部',\n",
       " '外交部',\n",
       " '外交部',\n",
       " '烏克蘭',\n",
       " '外交部',\n",
       " '烏克蘭',\n",
       " '外交部',\n",
       " '外交部',\n",
       " '外交部',\n",
       " '外交部',\n",
       " '外交部',\n",
       " '烏克蘭',\n",
       " '外交部']"
      ]
     },
     "execution_count": 111,
     "metadata": {},
     "output_type": "execute_result"
    }
   ],
   "source": [
    "[word for word in tokens if (word in user_keywords)]"
   ]
  },
  {
   "cell_type": "code",
   "execution_count": 112,
   "metadata": {},
   "outputs": [
    {
     "data": {
      "text/plain": [
       "19"
      ]
     },
     "execution_count": 112,
     "metadata": {},
     "output_type": "execute_result"
    }
   ],
   "source": [
    "len([word for word in tokens if (word in user_keywords)])"
   ]
  },
  {
   "cell_type": "code",
   "execution_count": 113,
   "metadata": {},
   "outputs": [
    {
     "data": {
      "text/plain": [
       "19"
      ]
     },
     "execution_count": 113,
     "metadata": {},
     "output_type": "execute_result"
    }
   ],
   "source": [
    "freq"
   ]
  },
  {
   "cell_type": "code",
   "execution_count": 114,
   "metadata": {},
   "outputs": [],
   "source": [
    "cate_occurence={}\n",
    "cate_freq={}"
   ]
  },
  {
   "cell_type": "code",
   "execution_count": 115,
   "metadata": {},
   "outputs": [
    {
     "data": {
      "text/plain": [
       "{}"
      ]
     },
     "execution_count": 115,
     "metadata": {},
     "output_type": "execute_result"
    }
   ],
   "source": [
    "cate_occurence"
   ]
  },
  {
   "cell_type": "code",
   "execution_count": 116,
   "metadata": {},
   "outputs": [],
   "source": [
    "for cate in news_categories:\n",
    "    cate_occurence[cate]=0\n",
    "    cate_freq[cate]=0"
   ]
  },
  {
   "cell_type": "code",
   "execution_count": 117,
   "metadata": {},
   "outputs": [
    {
     "data": {
      "text/plain": [
       "{'政治': 0,\n",
       " '科技': 0,\n",
       " '運動': 0,\n",
       " '證卷': 0,\n",
       " '產經': 0,\n",
       " '娛樂': 0,\n",
       " '生活': 0,\n",
       " '國際': 0,\n",
       " '社會': 0,\n",
       " '文化': 0,\n",
       " '兩岸': 0,\n",
       " '全部': 0}"
      ]
     },
     "execution_count": 117,
     "metadata": {},
     "output_type": "execute_result"
    }
   ],
   "source": [
    "cate_occurence"
   ]
  },
  {
   "cell_type": "code",
   "execution_count": 118,
   "metadata": {},
   "outputs": [
    {
     "data": {
      "text/plain": [
       "{'政治': 0,\n",
       " '科技': 0,\n",
       " '運動': 0,\n",
       " '證卷': 0,\n",
       " '產經': 0,\n",
       " '娛樂': 0,\n",
       " '生活': 0,\n",
       " '國際': 0,\n",
       " '社會': 0,\n",
       " '文化': 0,\n",
       " '兩岸': 0,\n",
       " '全部': 0}"
      ]
     },
     "execution_count": 118,
     "metadata": {},
     "output_type": "execute_result"
    }
   ],
   "source": [
    "cate_freq"
   ]
  },
  {
   "cell_type": "code",
   "execution_count": 119,
   "metadata": {},
   "outputs": [],
   "source": [
    "cate_freq[row.category] += freq\n",
    "cate_freq['全部'] += freq"
   ]
  },
  {
   "cell_type": "code",
   "execution_count": 120,
   "metadata": {},
   "outputs": [
    {
     "data": {
      "text/plain": [
       "{'政治': 19,\n",
       " '科技': 0,\n",
       " '運動': 0,\n",
       " '證卷': 0,\n",
       " '產經': 0,\n",
       " '娛樂': 0,\n",
       " '生活': 0,\n",
       " '國際': 0,\n",
       " '社會': 0,\n",
       " '文化': 0,\n",
       " '兩岸': 0,\n",
       " '全部': 19}"
      ]
     },
     "execution_count": 120,
     "metadata": {},
     "output_type": "execute_result"
    }
   ],
   "source": [
    "cate_freq"
   ]
  },
  {
   "cell_type": "code",
   "execution_count": 121,
   "metadata": {},
   "outputs": [],
   "source": [
    "# count number of news\n",
    "cate_occurence[row.category] += 1 # add 1 to its category's occurence\n",
    "cate_occurence['全部'] += 1"
   ]
  },
  {
   "cell_type": "code",
   "execution_count": 122,
   "metadata": {},
   "outputs": [
    {
     "data": {
      "text/plain": [
       "{'政治': 1,\n",
       " '科技': 0,\n",
       " '運動': 0,\n",
       " '證卷': 0,\n",
       " '產經': 0,\n",
       " '娛樂': 0,\n",
       " '生活': 0,\n",
       " '國際': 0,\n",
       " '社會': 0,\n",
       " '文化': 0,\n",
       " '兩岸': 0,\n",
       " '全部': 1}"
      ]
     },
     "execution_count": 122,
     "metadata": {},
     "output_type": "execute_result"
    }
   ],
   "source": [
    "cate_occurence"
   ]
  },
  {
   "cell_type": "markdown",
   "metadata": {},
   "source": [
    "## Now we can conveniently call those functions"
   ]
  },
  {
   "cell_type": "code",
   "execution_count": 123,
   "metadata": {},
   "outputs": [],
   "source": [
    "user_keywords=['烏克蘭','台灣']\n",
    "cond='or'\n",
    "cate='全部'\n",
    "weeks=2\n",
    "df_query = filter_dataFrame(user_keywords, cond, cate, weeks)"
   ]
  },
  {
   "cell_type": "code",
   "execution_count": 124,
   "metadata": {},
   "outputs": [
    {
     "data": {
      "text/plain": [
       "91"
      ]
     },
     "execution_count": 124,
     "metadata": {},
     "output_type": "execute_result"
    }
   ],
   "source": [
    "len(df_query)"
   ]
  },
  {
   "cell_type": "code",
   "execution_count": 125,
   "metadata": {},
   "outputs": [
    {
     "data": {
      "text/plain": [
       "({'政治': 50,\n",
       "  '科技': 37,\n",
       "  '運動': 14,\n",
       "  '證卷': 27,\n",
       "  '產經': 34,\n",
       "  '娛樂': 16,\n",
       "  '生活': 7,\n",
       "  '國際': 32,\n",
       "  '社會': 8,\n",
       "  '文化': 51,\n",
       "  '兩岸': 11,\n",
       "  '全部': 287},\n",
       " {'政治': 10,\n",
       "  '科技': 11,\n",
       "  '運動': 10,\n",
       "  '證卷': 7,\n",
       "  '產經': 9,\n",
       "  '娛樂': 8,\n",
       "  '生活': 5,\n",
       "  '國際': 9,\n",
       "  '社會': 5,\n",
       "  '文化': 14,\n",
       "  '兩岸': 3,\n",
       "  '全部': 91})"
      ]
     },
     "execution_count": 125,
     "metadata": {},
     "output_type": "execute_result"
    }
   ],
   "source": [
    "count_keyword(df_query, user_keywords)"
   ]
  },
  {
   "cell_type": "code",
   "execution_count": 126,
   "metadata": {},
   "outputs": [],
   "source": [
    "user_keywords=['烏克蘭','台灣']\n",
    "cond='and'\n",
    "cate='政治'\n",
    "weeks=2\n",
    "df_query = filter_dataFrame(user_keywords, cond, cate, weeks)"
   ]
  },
  {
   "cell_type": "code",
   "execution_count": 127,
   "metadata": {},
   "outputs": [
    {
     "data": {
      "text/plain": [
       "2"
      ]
     },
     "execution_count": 127,
     "metadata": {},
     "output_type": "execute_result"
    }
   ],
   "source": [
    "len(df_query)"
   ]
  },
  {
   "cell_type": "code",
   "execution_count": 128,
   "metadata": {},
   "outputs": [
    {
     "data": {
      "text/plain": [
       "({'政治': 14,\n",
       "  '科技': 0,\n",
       "  '運動': 0,\n",
       "  '證卷': 0,\n",
       "  '產經': 0,\n",
       "  '娛樂': 0,\n",
       "  '生活': 0,\n",
       "  '國際': 0,\n",
       "  '社會': 0,\n",
       "  '文化': 0,\n",
       "  '兩岸': 0,\n",
       "  '全部': 14},\n",
       " {'政治': 2,\n",
       "  '科技': 0,\n",
       "  '運動': 0,\n",
       "  '證卷': 0,\n",
       "  '產經': 0,\n",
       "  '娛樂': 0,\n",
       "  '生活': 0,\n",
       "  '國際': 0,\n",
       "  '社會': 0,\n",
       "  '文化': 0,\n",
       "  '兩岸': 0,\n",
       "  '全部': 2})"
      ]
     },
     "execution_count": 128,
     "metadata": {},
     "output_type": "execute_result"
    }
   ],
   "source": [
    "count_keyword(df_query, user_keyword)"
   ]
  },
  {
   "cell_type": "code",
   "execution_count": null,
   "metadata": {},
   "outputs": [],
   "source": []
  },
  {
   "cell_type": "markdown",
   "metadata": {},
   "source": [
    "## Usage of apply, map (For reference)"
   ]
  },
  {
   "cell_type": "code",
   "execution_count": 129,
   "metadata": {},
   "outputs": [
    {
     "data": {
      "text/html": [
       "<div>\n",
       "<style scoped>\n",
       "    .dataframe tbody tr th:only-of-type {\n",
       "        vertical-align: middle;\n",
       "    }\n",
       "\n",
       "    .dataframe tbody tr th {\n",
       "        vertical-align: top;\n",
       "    }\n",
       "\n",
       "    .dataframe thead th {\n",
       "        text-align: right;\n",
       "    }\n",
       "</style>\n",
       "<table border=\"1\" class=\"dataframe\">\n",
       "  <thead>\n",
       "    <tr style=\"text-align: right;\">\n",
       "      <th></th>\n",
       "      <th>Col 1</th>\n",
       "      <th>Col 2</th>\n",
       "      <th>Col 3</th>\n",
       "    </tr>\n",
       "  </thead>\n",
       "  <tbody>\n",
       "    <tr>\n",
       "      <th>A</th>\n",
       "      <td>3</td>\n",
       "      <td>2</td>\n",
       "      <td>8</td>\n",
       "    </tr>\n",
       "    <tr>\n",
       "      <th>B</th>\n",
       "      <td>4</td>\n",
       "      <td>3</td>\n",
       "      <td>8</td>\n",
       "    </tr>\n",
       "    <tr>\n",
       "      <th>C</th>\n",
       "      <td>5</td>\n",
       "      <td>6</td>\n",
       "      <td>9</td>\n",
       "    </tr>\n",
       "    <tr>\n",
       "      <th>D</th>\n",
       "      <td>6</td>\n",
       "      <td>4</td>\n",
       "      <td>8</td>\n",
       "    </tr>\n",
       "  </tbody>\n",
       "</table>\n",
       "</div>"
      ],
      "text/plain": [
       "   Col 1  Col 2  Col 3\n",
       "A      3      2      8\n",
       "B      4      3      8\n",
       "C      5      6      9\n",
       "D      6      4      8"
      ]
     },
     "execution_count": 129,
     "metadata": {},
     "output_type": "execute_result"
    }
   ],
   "source": [
    "# apply usage\n",
    "import pandas as pd\n",
    "\n",
    "sample_df = pd.DataFrame({\n",
    "    'Col 1': [3,4,5,6],\n",
    "    'Col 2': [2,3,6,4],\n",
    "    'Col 3': [8,8,9,8],\n",
    "\n",
    "},index=[\"A\",\"B\",\"C\",\"D\"])\n",
    "sample_df"
   ]
  },
  {
   "cell_type": "code",
   "execution_count": 130,
   "metadata": {},
   "outputs": [
    {
     "data": {
      "text/html": [
       "<div>\n",
       "<style scoped>\n",
       "    .dataframe tbody tr th:only-of-type {\n",
       "        vertical-align: middle;\n",
       "    }\n",
       "\n",
       "    .dataframe tbody tr th {\n",
       "        vertical-align: top;\n",
       "    }\n",
       "\n",
       "    .dataframe thead th {\n",
       "        text-align: right;\n",
       "    }\n",
       "</style>\n",
       "<table border=\"1\" class=\"dataframe\">\n",
       "  <thead>\n",
       "    <tr style=\"text-align: right;\">\n",
       "      <th></th>\n",
       "      <th>Col 1</th>\n",
       "      <th>Col 2</th>\n",
       "      <th>Col 3</th>\n",
       "    </tr>\n",
       "  </thead>\n",
       "  <tbody>\n",
       "    <tr>\n",
       "      <th>A</th>\n",
       "      <td>13</td>\n",
       "      <td>12</td>\n",
       "      <td>18</td>\n",
       "    </tr>\n",
       "    <tr>\n",
       "      <th>B</th>\n",
       "      <td>14</td>\n",
       "      <td>13</td>\n",
       "      <td>18</td>\n",
       "    </tr>\n",
       "    <tr>\n",
       "      <th>C</th>\n",
       "      <td>15</td>\n",
       "      <td>16</td>\n",
       "      <td>19</td>\n",
       "    </tr>\n",
       "    <tr>\n",
       "      <th>D</th>\n",
       "      <td>16</td>\n",
       "      <td>14</td>\n",
       "      <td>18</td>\n",
       "    </tr>\n",
       "  </tbody>\n",
       "</table>\n",
       "</div>"
      ],
      "text/plain": [
       "   Col 1  Col 2  Col 3\n",
       "A     13     12     18\n",
       "B     14     13     18\n",
       "C     15     16     19\n",
       "D     16     14     18"
      ]
     },
     "execution_count": 130,
     "metadata": {},
     "output_type": "execute_result"
    }
   ],
   "source": [
    "sample_df=sample_df.apply(lambda x: x+10)\n",
    "sample_df"
   ]
  },
  {
   "cell_type": "code",
   "execution_count": 131,
   "metadata": {},
   "outputs": [
    {
     "data": {
      "text/html": [
       "<div>\n",
       "<style scoped>\n",
       "    .dataframe tbody tr th:only-of-type {\n",
       "        vertical-align: middle;\n",
       "    }\n",
       "\n",
       "    .dataframe tbody tr th {\n",
       "        vertical-align: top;\n",
       "    }\n",
       "\n",
       "    .dataframe thead th {\n",
       "        text-align: right;\n",
       "    }\n",
       "</style>\n",
       "<table border=\"1\" class=\"dataframe\">\n",
       "  <thead>\n",
       "    <tr style=\"text-align: right;\">\n",
       "      <th></th>\n",
       "      <th>Col 1</th>\n",
       "      <th>Col 2</th>\n",
       "      <th>Col 3</th>\n",
       "    </tr>\n",
       "  </thead>\n",
       "  <tbody>\n",
       "    <tr>\n",
       "      <th>A</th>\n",
       "      <td>3</td>\n",
       "      <td>12</td>\n",
       "      <td>18</td>\n",
       "    </tr>\n",
       "    <tr>\n",
       "      <th>B</th>\n",
       "      <td>4</td>\n",
       "      <td>13</td>\n",
       "      <td>18</td>\n",
       "    </tr>\n",
       "    <tr>\n",
       "      <th>C</th>\n",
       "      <td>5</td>\n",
       "      <td>16</td>\n",
       "      <td>19</td>\n",
       "    </tr>\n",
       "    <tr>\n",
       "      <th>D</th>\n",
       "      <td>6</td>\n",
       "      <td>14</td>\n",
       "      <td>18</td>\n",
       "    </tr>\n",
       "  </tbody>\n",
       "</table>\n",
       "</div>"
      ],
      "text/plain": [
       "   Col 1  Col 2  Col 3\n",
       "A      3     12     18\n",
       "B      4     13     18\n",
       "C      5     16     19\n",
       "D      6     14     18"
      ]
     },
     "execution_count": 131,
     "metadata": {},
     "output_type": "execute_result"
    }
   ],
   "source": [
    "sample_df[\"Col 1\"]=sample_df[\"Col 1\"].apply(lambda x: x-10)\n",
    "sample_df"
   ]
  }
 ],
 "metadata": {
  "kernelspec": {
   "display_name": "base",
   "language": "python",
   "name": "python3"
  },
  "language_info": {
   "codemirror_mode": {
    "name": "ipython",
    "version": 3
   },
   "file_extension": ".py",
   "mimetype": "text/x-python",
   "name": "python",
   "nbconvert_exporter": "python",
   "pygments_lexer": "ipython3",
   "version": "3.9.18"
  },
  "toc": {
   "base_numbering": 1,
   "nav_menu": {},
   "number_sections": true,
   "sideBar": true,
   "skip_h1_title": false,
   "title_cell": "Table of Contents",
   "title_sidebar": "Contents",
   "toc_cell": false,
   "toc_position": {},
   "toc_section_display": true,
   "toc_window_display": true
  }
 },
 "nbformat": 4,
 "nbformat_minor": 2
}
