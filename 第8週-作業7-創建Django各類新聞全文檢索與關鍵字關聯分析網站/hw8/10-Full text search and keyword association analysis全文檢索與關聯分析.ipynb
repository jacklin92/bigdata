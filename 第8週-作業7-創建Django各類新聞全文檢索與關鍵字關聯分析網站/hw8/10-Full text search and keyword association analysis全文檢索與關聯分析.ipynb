{
 "cells": [
  {
   "cell_type": "markdown",
   "metadata": {},
   "source": [
    "# Full text search and keyword association analysis\n",
    "\n",
    "全文檢索與關聯分析"
   ]
  },
  {
   "cell_type": "markdown",
   "metadata": {},
   "source": [
    "# Load preprocessed news dataset"
   ]
  },
  {
   "cell_type": "code",
   "execution_count": 213,
   "metadata": {},
   "outputs": [],
   "source": [
    "import pandas as pd"
   ]
  },
  {
   "cell_type": "code",
   "execution_count": 214,
   "metadata": {},
   "outputs": [],
   "source": [
    "df = pd.read_csv('news.csv',sep='|')"
   ]
  },
  {
   "cell_type": "code",
   "execution_count": 215,
   "metadata": {},
   "outputs": [
    {
     "data": {
      "text/html": [
       "<div>\n",
       "<style scoped>\n",
       "    .dataframe tbody tr th:only-of-type {\n",
       "        vertical-align: middle;\n",
       "    }\n",
       "\n",
       "    .dataframe tbody tr th {\n",
       "        vertical-align: top;\n",
       "    }\n",
       "\n",
       "    .dataframe thead th {\n",
       "        text-align: right;\n",
       "    }\n",
       "</style>\n",
       "<table border=\"1\" class=\"dataframe\">\n",
       "  <thead>\n",
       "    <tr style=\"text-align: right;\">\n",
       "      <th></th>\n",
       "      <th>item_id</th>\n",
       "      <th>date</th>\n",
       "      <th>category</th>\n",
       "      <th>title</th>\n",
       "      <th>content</th>\n",
       "      <th>sentiment</th>\n",
       "      <th>summary</th>\n",
       "      <th>top_key_freq</th>\n",
       "      <th>tokens</th>\n",
       "      <th>tokens_v2</th>\n",
       "      <th>entities</th>\n",
       "      <th>token_pos</th>\n",
       "      <th>link</th>\n",
       "      <th>photo_link</th>\n",
       "    </tr>\n",
       "  </thead>\n",
       "  <tbody>\n",
       "    <tr>\n",
       "      <th>0</th>\n",
       "      <td>_20250327_1</td>\n",
       "      <td>2025-03-27</td>\n",
       "      <td>焦點</td>\n",
       "      <td>台股重挫308點 失守22000關卡</td>\n",
       "      <td>美國總統川普準備徵收汽車關稅，美股主要指數全數下跌，台積電重挫4.09%，台積電台北現股今日...</td>\n",
       "      <td>暫無</td>\n",
       "      <td>暫無</td>\n",
       "      <td>[('台積電', 4), ('指數', 3), ('月線', 3), ('美國', 2), ...</td>\n",
       "      <td>['美國', '總統', '川普', '準備', '徵收', '汽車', '關稅', '，'...</td>\n",
       "      <td>['美國', '總統', '川普', '汽車', '關稅', '美股', '指數', '台積...</td>\n",
       "      <td>[NerToken(word='美國', ner='GPE', idx=(0, 2)), N...</td>\n",
       "      <td>[('美國', 'Nc'), ('總統', 'Na'), ('川普', 'Nb'), ('準...</td>\n",
       "      <td>https://tw.news.yahoo.com/https://tw.stock.yah...</td>\n",
       "      <td>https://s.yimg.com/ny/api/res/1.2/3qEveVGKp070...</td>\n",
       "    </tr>\n",
       "  </tbody>\n",
       "</table>\n",
       "</div>"
      ],
      "text/plain": [
       "       item_id        date category               title  \\\n",
       "0  _20250327_1  2025-03-27       焦點  台股重挫308點 失守22000關卡   \n",
       "\n",
       "                                             content sentiment summary  \\\n",
       "0  美國總統川普準備徵收汽車關稅，美股主要指數全數下跌，台積電重挫4.09%，台積電台北現股今日...        暫無      暫無   \n",
       "\n",
       "                                        top_key_freq  \\\n",
       "0  [('台積電', 4), ('指數', 3), ('月線', 3), ('美國', 2), ...   \n",
       "\n",
       "                                              tokens  \\\n",
       "0  ['美國', '總統', '川普', '準備', '徵收', '汽車', '關稅', '，'...   \n",
       "\n",
       "                                           tokens_v2  \\\n",
       "0  ['美國', '總統', '川普', '汽車', '關稅', '美股', '指數', '台積...   \n",
       "\n",
       "                                            entities  \\\n",
       "0  [NerToken(word='美國', ner='GPE', idx=(0, 2)), N...   \n",
       "\n",
       "                                           token_pos  \\\n",
       "0  [('美國', 'Nc'), ('總統', 'Na'), ('川普', 'Nb'), ('準...   \n",
       "\n",
       "                                                link  \\\n",
       "0  https://tw.news.yahoo.com/https://tw.stock.yah...   \n",
       "\n",
       "                                          photo_link  \n",
       "0  https://s.yimg.com/ny/api/res/1.2/3qEveVGKp070...  "
      ]
     },
     "execution_count": 215,
     "metadata": {},
     "output_type": "execute_result"
    }
   ],
   "source": [
    "df.head(1)"
   ]
  },
  {
   "cell_type": "markdown",
   "metadata": {},
   "source": [
    "# Filter data by searching keywords from \"content\" column"
   ]
  },
  {
   "cell_type": "markdown",
   "metadata": {},
   "source": [
    "## \"in\" is very powerful"
   ]
  },
  {
   "cell_type": "code",
   "execution_count": 216,
   "metadata": {},
   "outputs": [
    {
     "data": {
      "text/plain": [
       "'美國總統川普準備徵收汽車關稅，美股主要指數全數下跌，台積電重挫4.09%，台積電台北現股今日早盤以961元開出後失守960價位，終場收在958元，下跌22元或2.24%；台股以22093點開出後失守22000關卡，收盤以21951點作收，下跌308點。川普已經正式宣布，將對所有不在美國製造的汽車徵收25%的進口稅，美股四大指數下跌，費城半導體指數下滑3.27%，台積電ADR收盤大跌4.09%，報每股173.50美元，換算並折合台幣後是每股1,148.15元，較台北交易股票溢價率為17.16%。台股今早盤以22093點開出後，盤中失守22000點關卡，最低觸及21919點，收盤以21951點作收，下跌308點；台積電以961元開出，盤中最低觸及958元，終場以958元作收，下跌22元或2.24％。凱基投顧報告指出，周三大盤高點持續逼近月線壓力，但買盤仍無力追價，成交量急凍至近年新低水準，導致再度挑戰月線未果，不過，盤面上漲家數約占三分之二，有別前一日下跌家數約占七成，顯示盤面籌碼趨於穩定，而且盤中拉回尚能力守短期均線，技術面呈現價穩量縮走勢，有利短線持續挑戰月線，站上月線後就有機會進一步往上挑戰3月13日長黑高點22552點，站上22552點後就能完成底部型態，使反彈走勢進一步延伸。凱基投顧表示，目前盤面類股輪動快速，因此，操作上仍不宜過度追價，但大盤底部型態持續醞釀，部分個股開始率先表態強攻，選股可優先聚焦具利多題材以及股價轉強收復均線壓力之強勢個股。'"
      ]
     },
     "execution_count": 216,
     "metadata": {},
     "output_type": "execute_result"
    }
   ],
   "source": [
    "df.content[0]"
   ]
  },
  {
   "cell_type": "code",
   "execution_count": 217,
   "metadata": {},
   "outputs": [
    {
     "data": {
      "text/plain": [
       "True"
      ]
     },
     "execution_count": 217,
     "metadata": {},
     "output_type": "execute_result"
    }
   ],
   "source": [
    "qk = '美國總統川普'\n",
    "text = df.content[0]\n",
    "qk in text"
   ]
  },
  {
   "cell_type": "code",
   "execution_count": 218,
   "metadata": {},
   "outputs": [
    {
     "data": {
      "text/plain": [
       "True"
      ]
     },
     "execution_count": 218,
     "metadata": {},
     "output_type": "execute_result"
    }
   ],
   "source": [
    "qk = '個股'\n",
    "text = df.content[0]\n",
    "qk in text"
   ]
  },
  {
   "cell_type": "code",
   "execution_count": 219,
   "metadata": {},
   "outputs": [
    {
     "data": {
      "text/plain": [
       "False"
      ]
     },
     "execution_count": 219,
     "metadata": {},
     "output_type": "execute_result"
    }
   ],
   "source": [
    "qk = '上漲趨勢'\n",
    "text = df.content[0]\n",
    "qk in text"
   ]
  },
  {
   "cell_type": "code",
   "execution_count": 220,
   "metadata": {},
   "outputs": [
    {
     "data": {
      "text/plain": [
       "True"
      ]
     },
     "execution_count": 220,
     "metadata": {},
     "output_type": "execute_result"
    }
   ],
   "source": [
    "qk = '上漲'\n",
    "text = df.content[0]\n",
    "qk in text"
   ]
  },
  {
   "cell_type": "markdown",
   "metadata": {},
   "source": [
    "### all() any()"
   ]
  },
  {
   "cell_type": "code",
   "execution_count": 221,
   "metadata": {},
   "outputs": [
    {
     "data": {
      "text/plain": [
       "True"
      ]
     },
     "execution_count": 221,
     "metadata": {},
     "output_type": "execute_result"
    }
   ],
   "source": [
    "user_keywords = ['上漲','下跌']\n",
    "text = df.content[0]\n",
    "all((qk in text) for qk in user_keywords)"
   ]
  },
  {
   "cell_type": "code",
   "execution_count": 222,
   "metadata": {},
   "outputs": [
    {
     "data": {
      "text/plain": [
       "True"
      ]
     },
     "execution_count": 222,
     "metadata": {},
     "output_type": "execute_result"
    }
   ],
   "source": [
    "user_keywords = ['台股下跌','指數']\n",
    "text = df.content[0]\n",
    "any((qk in text) for qk in user_keywords)"
   ]
  },
  {
   "cell_type": "code",
   "execution_count": 223,
   "metadata": {},
   "outputs": [
    {
     "data": {
      "text/plain": [
       "True"
      ]
     },
     "execution_count": 223,
     "metadata": {},
     "output_type": "execute_result"
    }
   ],
   "source": [
    "user_keywords = ['美股','上漲']\n",
    "text = df.content[0]\n",
    "any((qk in text) for qk in user_keywords)"
   ]
  },
  {
   "cell_type": "markdown",
   "metadata": {},
   "source": [
    "### Using apply() and lambda function"
   ]
  },
  {
   "cell_type": "code",
   "execution_count": 224,
   "metadata": {},
   "outputs": [
    {
     "data": {
      "text/plain": [
       "0       True\n",
       "1      False\n",
       "2      False\n",
       "3      False\n",
       "4      False\n",
       "       ...  \n",
       "211    False\n",
       "212    False\n",
       "213    False\n",
       "214    False\n",
       "215    False\n",
       "Name: content, Length: 216, dtype: bool"
      ]
     },
     "execution_count": 224,
     "metadata": {},
     "output_type": "execute_result"
    }
   ],
   "source": [
    "# Use apply() and lambda function\n",
    "user_keywords = ['下跌','上漲']\n",
    "df.content.apply(lambda text: all((qk in text) for qk in user_keywords))"
   ]
  },
  {
   "cell_type": "code",
   "execution_count": null,
   "metadata": {},
   "outputs": [],
   "source": []
  },
  {
   "cell_type": "markdown",
   "metadata": {},
   "source": [
    "# Filter data using the following function"
   ]
  },
  {
   "cell_type": "code",
   "execution_count": 225,
   "metadata": {},
   "outputs": [],
   "source": [
    "from datetime import datetime, timedelta"
   ]
  },
  {
   "cell_type": "code",
   "execution_count": 226,
   "metadata": {},
   "outputs": [],
   "source": [
    "from datetime import datetime, timedelta\n",
    "# Searching keywords from \"content\" column\n",
    "# Here this function uses df.content column, while filter_dataFrame() uses df.tokens_v2\n",
    "def filter_dataFrame_fullText(user_keywords, cond, cate, weeks):\n",
    "\n",
    "    # end date: the date of the latest record of news\n",
    "    end_date = df.date.max()\n",
    "    \n",
    "    # start date\n",
    "    start_date = (datetime.strptime(end_date, '%Y-%m-%d').date() - timedelta(weeks=weeks)).strftime('%Y-%m-%d')\n",
    "\n",
    "    # (1) proceed filtering: a duration of a period of time\n",
    "    # 期間條件\n",
    "    period_condition = (df.date >= start_date) & (df.date <= end_date) \n",
    "    \n",
    "    # (2) proceed filtering: news category\n",
    "    # 新聞類別條件\n",
    "    if (cate == \"全部\"):\n",
    "        condition = period_condition  # \"全部\"類別不必過濾新聞種類\n",
    "    else:\n",
    "        # category新聞類別條件\n",
    "        condition = period_condition & (df.category == cate)\n",
    "\n",
    "    # (3) proceed filtering: keywords \n",
    "    # and or 條件\n",
    "    if (cond == 'and'):\n",
    "        # query keywords condition使用者輸入關鍵字條件and\n",
    "        condition = condition & df.content.apply(lambda text: all((qk in text) for qk in user_keywords)) #寫法:all()\n",
    "    elif (cond == 'or'):\n",
    "        # query keywords condition使用者輸入關鍵字條件\n",
    "        condition = condition & df.content.apply(lambda text: any((qk in text) for qk in user_keywords)) #寫法:any()\n",
    "    # condiction is a list of True or False boolean value\n",
    "    df_query = df[condition]\n",
    "\n",
    "    return df_query\n"
   ]
  },
  {
   "cell_type": "code",
   "execution_count": 227,
   "metadata": {},
   "outputs": [],
   "source": [
    "# Searching keywords from \"content\" column\n",
    "# Here this function uses df.content column, while filter_dataFrame() uses df.tokens_v2\n",
    "def filter_dataFrame_fullText_v0(user_keywords, cond, cate, weeks):\n",
    "\n",
    "    # end date: the date of the latest record of news\n",
    "    end_date = df.date.max()\n",
    "    \n",
    "    # start date\n",
    "    start_date = (datetime.strptime(end_date, '%Y-%m-%d').date() - timedelta(weeks=weeks)).strftime('%Y-%m-%d')\n",
    "\n",
    "    # proceed filtering\n",
    "    if (cate == \"全部\") & (cond == 'and'):\n",
    "        df_query = df[(df.date >= start_date) & (df.date <= end_date) \n",
    "            & df.content.apply(lambda text: all((qk in text) for qk in user_keywords))]\n",
    "    elif (cate == \"全部\") & (cond == 'or'):\n",
    "        df_query = df[(df['date'] >= start_date) & (df['date'] <= end_date) \n",
    "            & df.content.apply(lambda text: any((qk in text) for qk in user_keywords))]\n",
    "    elif (cond == 'and'):\n",
    "        df_query = df[(df.category == cate) \n",
    "            & (df.date >= start_date) & (df.date <= end_date) \n",
    "            & df.content.apply(lambda text: all((qk in text) for qk in user_keywords))]\n",
    "    elif (cond == 'or'):\n",
    "        df_query = df[(df.category == cate) \n",
    "            & (df['date'] >= start_date) & (df['date'] <= end_date) \n",
    "            & df.content.apply(lambda text: any((qk in text) for qk in user_keywords))]\n",
    "\n",
    "    return df_query"
   ]
  },
  {
   "cell_type": "code",
   "execution_count": 228,
   "metadata": {},
   "outputs": [
    {
     "data": {
      "text/plain": [
       "(3, 14)"
      ]
     },
     "execution_count": 228,
     "metadata": {},
     "output_type": "execute_result"
    }
   ],
   "source": [
    "user_keywords = ['台股','美股']\n",
    "cond='and'\n",
    "cate='全部'\n",
    "weeks=2\n",
    "\n",
    "df_query = filter_dataFrame_fullText(user_keywords, cond, cate,weeks)\n",
    "df_query.shape"
   ]
  },
  {
   "cell_type": "code",
   "execution_count": 229,
   "metadata": {},
   "outputs": [
    {
     "data": {
      "text/plain": [
       "(106, 14)"
      ]
     },
     "execution_count": 229,
     "metadata": {},
     "output_type": "execute_result"
    }
   ],
   "source": [
    "user_keywords = ['台灣']\n",
    "cond='and'\n",
    "cate='全部'\n",
    "weeks=2\n",
    "\n",
    "df_query = filter_dataFrame_fullText(user_keywords, cond, cate,weeks)\n",
    "df_query.shape"
   ]
  },
  {
   "cell_type": "markdown",
   "metadata": {
    "toc-hr-collapsed": true
   },
   "source": [
    "# Get news title, category, and link"
   ]
  },
  {
   "cell_type": "code",
   "execution_count": 230,
   "metadata": {},
   "outputs": [
    {
     "data": {
      "text/plain": [
       "3"
      ]
     },
     "execution_count": 230,
     "metadata": {},
     "output_type": "execute_result"
    }
   ],
   "source": [
    "user_keywords = ['股票','指數']\n",
    "cond='and'\n",
    "cate='全部'\n",
    "weeks=2\n",
    "df_query = filter_dataFrame_fullText(user_keywords, cond, cate, weeks)\n",
    "len(df_query)"
   ]
  },
  {
   "cell_type": "code",
   "execution_count": 231,
   "metadata": {},
   "outputs": [
    {
     "data": {
      "text/html": [
       "<div>\n",
       "<style scoped>\n",
       "    .dataframe tbody tr th:only-of-type {\n",
       "        vertical-align: middle;\n",
       "    }\n",
       "\n",
       "    .dataframe tbody tr th {\n",
       "        vertical-align: top;\n",
       "    }\n",
       "\n",
       "    .dataframe thead th {\n",
       "        text-align: right;\n",
       "    }\n",
       "</style>\n",
       "<table border=\"1\" class=\"dataframe\">\n",
       "  <thead>\n",
       "    <tr style=\"text-align: right;\">\n",
       "      <th></th>\n",
       "      <th>item_id</th>\n",
       "      <th>date</th>\n",
       "      <th>category</th>\n",
       "      <th>title</th>\n",
       "      <th>content</th>\n",
       "      <th>sentiment</th>\n",
       "      <th>summary</th>\n",
       "      <th>top_key_freq</th>\n",
       "      <th>tokens</th>\n",
       "      <th>tokens_v2</th>\n",
       "      <th>entities</th>\n",
       "      <th>token_pos</th>\n",
       "      <th>link</th>\n",
       "      <th>photo_link</th>\n",
       "    </tr>\n",
       "  </thead>\n",
       "  <tbody>\n",
       "    <tr>\n",
       "      <th>0</th>\n",
       "      <td>_20250327_1</td>\n",
       "      <td>2025-03-27</td>\n",
       "      <td>焦點</td>\n",
       "      <td>台股重挫308點 失守22000關卡</td>\n",
       "      <td>美國總統川普準備徵收汽車關稅，美股主要指數全數下跌，台積電重挫4.09%，台積電台北現股今日...</td>\n",
       "      <td>暫無</td>\n",
       "      <td>暫無</td>\n",
       "      <td>[('台積電', 4), ('指數', 3), ('月線', 3), ('美國', 2), ...</td>\n",
       "      <td>['美國', '總統', '川普', '準備', '徵收', '汽車', '關稅', '，'...</td>\n",
       "      <td>['美國', '總統', '川普', '汽車', '關稅', '美股', '指數', '台積...</td>\n",
       "      <td>[NerToken(word='美國', ner='GPE', idx=(0, 2)), N...</td>\n",
       "      <td>[('美國', 'Nc'), ('總統', 'Na'), ('川普', 'Nb'), ('準...</td>\n",
       "      <td>https://tw.news.yahoo.com/https://tw.stock.yah...</td>\n",
       "      <td>https://s.yimg.com/ny/api/res/1.2/3qEveVGKp070...</td>\n",
       "    </tr>\n",
       "    <tr>\n",
       "      <th>126</th>\n",
       "      <td>finance_20250324_7</td>\n",
       "      <td>2025-03-24</td>\n",
       "      <td>財經</td>\n",
       "      <td>股市一直跌誰最慘？「1類人」恐成海嘯第一排　專家曝3方法降低風險三立新聞網 setn.com...</td>\n",
       "      <td>財經中心／彭淇昀報導市場對川普政府政策可能導致經濟衰退的擔憂加劇，標普500指數在2月19日...</td>\n",
       "      <td>暫無</td>\n",
       "      <td>暫無</td>\n",
       "      <td>[('市場', 4), ('股市', 4), ('嬰兒潮', 4), ('世代', 4), ...</td>\n",
       "      <td>['財經', '中心', '／', '彭淇昀', '報導', '市場', '對', '川普'...</td>\n",
       "      <td>['財經', '中心', '彭淇昀', '市場', '川普', '政府', '政策', '經...</td>\n",
       "      <td>[NerToken(word='彭淇昀', ner='PERSON', idx=(5, 8)...</td>\n",
       "      <td>[('財經', 'Na'), ('中心', 'Nc'), ('／', 'FW'), ('彭淇...</td>\n",
       "      <td>https://tw.news.yahoo.com//%E6%94%94%E6%9F%A5%...</td>\n",
       "      <td>https://s.yimg.com/ny/api/res/1.2/nMW1g5vNXghG...</td>\n",
       "    </tr>\n",
       "    <tr>\n",
       "      <th>132</th>\n",
       "      <td>finance_20250327_13</td>\n",
       "      <td>2025-03-27</td>\n",
       "      <td>財經</td>\n",
       "      <td>【清明節變盤2】 川普關稅風暴避風港！ 5名師點名3族群抱股過節Yahoo奇摩股市15 則留...</td>\n",
       "      <td>4月3日至6日為清明連假，適逢美國總統川普預定4月2日實施對等關稅，雖然他近日鬆口對於進口商...</td>\n",
       "      <td>暫無</td>\n",
       "      <td>暫無</td>\n",
       "      <td>[('關稅', 33), ('台股', 25), ('美國', 17), ('市場', 16...</td>\n",
       "      <td>['4月', '3日', '至', '6日', '為', '清明', '連假', '，', ...</td>\n",
       "      <td>['美國', '總統', '川普', '關稅', '商品', '關稅', '國家', '汽車...</td>\n",
       "      <td>[NerToken(word='4月3日至6日', ner='DATE', idx=(0, ...</td>\n",
       "      <td>[('4月', 'Nd'), ('3日', 'Nd'), ('至', 'Caa'), ('6...</td>\n",
       "      <td>https://tw.news.yahoo.com//%E4%B8%AD%E5%9C%8B%...</td>\n",
       "      <td>https://s.yimg.com/ny/api/res/1.2/1FcXAGsHow02...</td>\n",
       "    </tr>\n",
       "  </tbody>\n",
       "</table>\n",
       "</div>"
      ],
      "text/plain": [
       "                 item_id        date category  \\\n",
       "0            _20250327_1  2025-03-27       焦點   \n",
       "126   finance_20250324_7  2025-03-24       財經   \n",
       "132  finance_20250327_13  2025-03-27       財經   \n",
       "\n",
       "                                                 title  \\\n",
       "0                                   台股重挫308點 失守22000關卡   \n",
       "126  股市一直跌誰最慘？「1類人」恐成海嘯第一排　專家曝3方法降低風險三立新聞網 setn.com...   \n",
       "132  【清明節變盤2】 川普關稅風暴避風港！ 5名師點名3族群抱股過節Yahoo奇摩股市15 則留...   \n",
       "\n",
       "                                               content sentiment summary  \\\n",
       "0    美國總統川普準備徵收汽車關稅，美股主要指數全數下跌，台積電重挫4.09%，台積電台北現股今日...        暫無      暫無   \n",
       "126  財經中心／彭淇昀報導市場對川普政府政策可能導致經濟衰退的擔憂加劇，標普500指數在2月19日...        暫無      暫無   \n",
       "132  4月3日至6日為清明連假，適逢美國總統川普預定4月2日實施對等關稅，雖然他近日鬆口對於進口商...        暫無      暫無   \n",
       "\n",
       "                                          top_key_freq  \\\n",
       "0    [('台積電', 4), ('指數', 3), ('月線', 3), ('美國', 2), ...   \n",
       "126  [('市場', 4), ('股市', 4), ('嬰兒潮', 4), ('世代', 4), ...   \n",
       "132  [('關稅', 33), ('台股', 25), ('美國', 17), ('市場', 16...   \n",
       "\n",
       "                                                tokens  \\\n",
       "0    ['美國', '總統', '川普', '準備', '徵收', '汽車', '關稅', '，'...   \n",
       "126  ['財經', '中心', '／', '彭淇昀', '報導', '市場', '對', '川普'...   \n",
       "132  ['4月', '3日', '至', '6日', '為', '清明', '連假', '，', ...   \n",
       "\n",
       "                                             tokens_v2  \\\n",
       "0    ['美國', '總統', '川普', '汽車', '關稅', '美股', '指數', '台積...   \n",
       "126  ['財經', '中心', '彭淇昀', '市場', '川普', '政府', '政策', '經...   \n",
       "132  ['美國', '總統', '川普', '關稅', '商品', '關稅', '國家', '汽車...   \n",
       "\n",
       "                                              entities  \\\n",
       "0    [NerToken(word='美國', ner='GPE', idx=(0, 2)), N...   \n",
       "126  [NerToken(word='彭淇昀', ner='PERSON', idx=(5, 8)...   \n",
       "132  [NerToken(word='4月3日至6日', ner='DATE', idx=(0, ...   \n",
       "\n",
       "                                             token_pos  \\\n",
       "0    [('美國', 'Nc'), ('總統', 'Na'), ('川普', 'Nb'), ('準...   \n",
       "126  [('財經', 'Na'), ('中心', 'Nc'), ('／', 'FW'), ('彭淇...   \n",
       "132  [('4月', 'Nd'), ('3日', 'Nd'), ('至', 'Caa'), ('6...   \n",
       "\n",
       "                                                  link  \\\n",
       "0    https://tw.news.yahoo.com/https://tw.stock.yah...   \n",
       "126  https://tw.news.yahoo.com//%E6%94%94%E6%9F%A5%...   \n",
       "132  https://tw.news.yahoo.com//%E4%B8%AD%E5%9C%8B%...   \n",
       "\n",
       "                                            photo_link  \n",
       "0    https://s.yimg.com/ny/api/res/1.2/3qEveVGKp070...  \n",
       "126  https://s.yimg.com/ny/api/res/1.2/nMW1g5vNXghG...  \n",
       "132  https://s.yimg.com/ny/api/res/1.2/1FcXAGsHow02...  "
      ]
     },
     "execution_count": 231,
     "metadata": {},
     "output_type": "execute_result"
    }
   ],
   "source": [
    "df_query"
   ]
  },
  {
   "cell_type": "code",
   "execution_count": 232,
   "metadata": {},
   "outputs": [
    {
     "name": "stdout",
     "output_type": "stream",
     "text": [
      "0\n",
      "焦點\n",
      "台股重挫308點 失守22000關卡\n",
      "https://tw.news.yahoo.com/https://tw.stock.yahoo.com/news/%E5%B7%9D%E6%99%AE%E8%A6%81%E6%94%B6%E6%B1%BD%E8%BB%8A%E9%97%9C%E7%A8%85%EF%BC%81-%E5%8F%B0%E8%82%A1%E6%94%B6%E8%B7%8C308%E9%BB%9E%E3%80%81%E5%8F%B0%E7%A9%8D%E9%9B%BB%E6%8C%AB22%E5%85%83%E8%87%B3958%E5%85%83-010329005.html\n",
      "https://s.yimg.com/ny/api/res/1.2/3qEveVGKp0705iucq1UPTw--/YXBwaWQ9aGlnaGxhbmRlcjt3PTY0MDtoPTQyNw--/https://s.yimg.com/os/creatr-uploaded-images/2024-10/83267440-8445-11ef-b675-1135712e37b5\n",
      "1\n",
      "財經\n",
      "股市一直跌誰最慘？「1類人」恐成海嘯第一排　專家曝3方法降低風險三立新聞網 setn.com15 則留言3 天前\n",
      "https://tw.news.yahoo.com//%E6%94%94%E6%9F%A5%E9%81%95%E5%81%9C%E6%84%8F%E5%A4%96%E8%B5%B7%E7%8D%B2%E6%A7%8D%E6%AF%92-%E6%96%B0%E8%8E%8A%E8%AD%A6%E9%80%AE1%E7%94%B7%E9%80%81%E8%BE%A6-064723625.html\n",
      "https://s.yimg.com/ny/api/res/1.2/nMW1g5vNXghGOuG_fqWFWw--/YXBwaWQ9aGlnaGxhbmRlcjt3PTY0MDtoPTM2MA--/https://media.zenfs.com/zh-tw/setn.com.tw/e351d8b5dc1a1b283dcff2fe94ef2b01\n",
      "2\n",
      "財經\n",
      "【清明節變盤2】 川普關稅風暴避風港！ 5名師點名3族群抱股過節Yahoo奇摩股市15 則留言5 小時前\n",
      "https://tw.news.yahoo.com//%E4%B8%AD%E5%9C%8B%E6%B5%B7%E9%97%9C%E7%B3%BB%E7%B5%B1%E5%8F%8D%E8%85%90%E9%A2%A8%E6%9A%B4%E4%B8%8D%E6%AD%A2-%E5%89%8D%E5%89%AF%E7%BD%B2%E9%95%B7%E5%AD%AB%E7%8E%89%E5%AF%A7%E6%B6%89%E8%B2%AA%E8%A2%AB%E6%8D%95-063840002.html\n",
      "https://s.yimg.com/ny/api/res/1.2/1FcXAGsHow02162I3uzyTg--/YXBwaWQ9aGlnaGxhbmRlcjt3PTk2MDtoPTY0MA--/https://s.yimg.com/os/creatr-uploaded-images/2025-03/626f1600-08dc-11f0-bf8f-cf9db78bdd9f\n"
     ]
    }
   ],
   "source": [
    "for i in range(3):   \n",
    "    print(i)\n",
    "    print(df_query.iloc[i]['category'])\n",
    "    print(df_query.iloc[i]['title'])\n",
    "    print(df_query.iloc[i].link)\n",
    "    print(df_query.iloc[i].photo_link)"
   ]
  },
  {
   "cell_type": "code",
   "execution_count": 233,
   "metadata": {},
   "outputs": [
    {
     "data": {
      "text/html": [
       "<div>\n",
       "<style scoped>\n",
       "    .dataframe tbody tr th:only-of-type {\n",
       "        vertical-align: middle;\n",
       "    }\n",
       "\n",
       "    .dataframe tbody tr th {\n",
       "        vertical-align: top;\n",
       "    }\n",
       "\n",
       "    .dataframe thead th {\n",
       "        text-align: right;\n",
       "    }\n",
       "</style>\n",
       "<table border=\"1\" class=\"dataframe\">\n",
       "  <thead>\n",
       "    <tr style=\"text-align: right;\">\n",
       "      <th></th>\n",
       "      <th>item_id</th>\n",
       "      <th>date</th>\n",
       "      <th>category</th>\n",
       "      <th>title</th>\n",
       "      <th>content</th>\n",
       "      <th>sentiment</th>\n",
       "      <th>summary</th>\n",
       "      <th>top_key_freq</th>\n",
       "      <th>tokens</th>\n",
       "      <th>tokens_v2</th>\n",
       "      <th>entities</th>\n",
       "      <th>token_pos</th>\n",
       "      <th>link</th>\n",
       "      <th>photo_link</th>\n",
       "    </tr>\n",
       "  </thead>\n",
       "  <tbody>\n",
       "    <tr>\n",
       "      <th>0</th>\n",
       "      <td>_20250327_1</td>\n",
       "      <td>2025-03-27</td>\n",
       "      <td>焦點</td>\n",
       "      <td>台股重挫308點 失守22000關卡</td>\n",
       "      <td>美國總統川普準備徵收汽車關稅，美股主要指數全數下跌，台積電重挫4.09%，台積電台北現股今日...</td>\n",
       "      <td>暫無</td>\n",
       "      <td>暫無</td>\n",
       "      <td>[('台積電', 4), ('指數', 3), ('月線', 3), ('美國', 2), ...</td>\n",
       "      <td>['美國', '總統', '川普', '準備', '徵收', '汽車', '關稅', '，'...</td>\n",
       "      <td>['美國', '總統', '川普', '汽車', '關稅', '美股', '指數', '台積...</td>\n",
       "      <td>[NerToken(word='美國', ner='GPE', idx=(0, 2)), N...</td>\n",
       "      <td>[('美國', 'Nc'), ('總統', 'Na'), ('川普', 'Nb'), ('準...</td>\n",
       "      <td>https://tw.news.yahoo.com/https://tw.stock.yah...</td>\n",
       "      <td>https://s.yimg.com/ny/api/res/1.2/3qEveVGKp070...</td>\n",
       "    </tr>\n",
       "  </tbody>\n",
       "</table>\n",
       "</div>"
      ],
      "text/plain": [
       "       item_id        date category               title  \\\n",
       "0  _20250327_1  2025-03-27       焦點  台股重挫308點 失守22000關卡   \n",
       "\n",
       "                                             content sentiment summary  \\\n",
       "0  美國總統川普準備徵收汽車關稅，美股主要指數全數下跌，台積電重挫4.09%，台積電台北現股今日...        暫無      暫無   \n",
       "\n",
       "                                        top_key_freq  \\\n",
       "0  [('台積電', 4), ('指數', 3), ('月線', 3), ('美國', 2), ...   \n",
       "\n",
       "                                              tokens  \\\n",
       "0  ['美國', '總統', '川普', '準備', '徵收', '汽車', '關稅', '，'...   \n",
       "\n",
       "                                           tokens_v2  \\\n",
       "0  ['美國', '總統', '川普', '汽車', '關稅', '美股', '指數', '台積...   \n",
       "\n",
       "                                            entities  \\\n",
       "0  [NerToken(word='美國', ner='GPE', idx=(0, 2)), N...   \n",
       "\n",
       "                                           token_pos  \\\n",
       "0  [('美國', 'Nc'), ('總統', 'Na'), ('川普', 'Nb'), ('準...   \n",
       "\n",
       "                                                link  \\\n",
       "0  https://tw.news.yahoo.com/https://tw.stock.yah...   \n",
       "\n",
       "                                          photo_link  \n",
       "0  https://s.yimg.com/ny/api/res/1.2/3qEveVGKp070...  "
      ]
     },
     "execution_count": 233,
     "metadata": {},
     "output_type": "execute_result"
    }
   ],
   "source": [
    "df_query.head(1)"
   ]
  },
  {
   "cell_type": "markdown",
   "metadata": {},
   "source": []
  },
  {
   "cell_type": "markdown",
   "metadata": {},
   "source": [
    "## All-in-one function to return category, title, link, and photo_link\n",
    "\n",
    "\"photo_link\" will be use in the next app"
   ]
  },
  {
   "cell_type": "code",
   "execution_count": 234,
   "metadata": {},
   "outputs": [],
   "source": [
    "user_keywords = ['上漲','下跌']\n",
    "cond='and'\n",
    "cate='全部'\n",
    "weeks=2\n",
    "df_query = filter_dataFrame_fullText(user_keywords, cond, cate, weeks)"
   ]
  },
  {
   "cell_type": "code",
   "execution_count": 235,
   "metadata": {},
   "outputs": [
    {
     "data": {
      "text/plain": [
       "5"
      ]
     },
     "execution_count": 235,
     "metadata": {},
     "output_type": "execute_result"
    }
   ],
   "source": [
    "len(df_query)"
   ]
  },
  {
   "cell_type": "code",
   "execution_count": 236,
   "metadata": {},
   "outputs": [],
   "source": [
    "# get titles and links from k pieces of news \n",
    "def get_title_link_topk(df_query, k=5):\n",
    "    items = []\n",
    "    for i in range( len(df_query[0:k]) ): # show only 5 articles\n",
    "        category = df_query.iloc[i]['category']\n",
    "        title = df_query.iloc[i]['title']\n",
    "        link = df_query.iloc[i]['link']\n",
    "        photo_link = df_query.iloc[i]['photo_link']\n",
    "        # if photo_link value is NaN, replace it with empty string \n",
    "        if pd.isna(photo_link):\n",
    "            photo_link='' # 若沒圖片，就設定為空字串，在前端網頁解讀json格式時才不會錯誤\n",
    "        \n",
    "        item_info = {\n",
    "            'category': category, \n",
    "            'title': title, \n",
    "            'link': link, \n",
    "            'photo_link': photo_link\n",
    "        }\n",
    "\n",
    "        items.append(item_info)\n",
    "    return items "
   ]
  },
  {
   "cell_type": "code",
   "execution_count": 237,
   "metadata": {},
   "outputs": [
    {
     "data": {
      "text/plain": [
       "[{'category': '焦點',\n",
       "  'title': '台股重挫308點 失守22000關卡',\n",
       "  'link': 'https://tw.news.yahoo.com/https://tw.stock.yahoo.com/news/%E5%B7%9D%E6%99%AE%E8%A6%81%E6%94%B6%E6%B1%BD%E8%BB%8A%E9%97%9C%E7%A8%85%EF%BC%81-%E5%8F%B0%E8%82%A1%E6%94%B6%E8%B7%8C308%E9%BB%9E%E3%80%81%E5%8F%B0%E7%A9%8D%E9%9B%BB%E6%8C%AB22%E5%85%83%E8%87%B3958%E5%85%83-010329005.html',\n",
       "  'photo_link': 'https://s.yimg.com/ny/api/res/1.2/3qEveVGKp0705iucq1UPTw--/YXBwaWQ9aGlnaGxhbmRlcjt3PTY0MDtoPTQyNw--/https://s.yimg.com/os/creatr-uploaded-images/2024-10/83267440-8445-11ef-b675-1135712e37b5'},\n",
       " {'category': '焦點',\n",
       "  'title': '美國經濟衰退危機將至？巴菲特示警散戶快做5件事：當別人貪婪時要恐懼',\n",
       "  'link': 'https://tw.news.yahoo.com/%E5%8F%B0%E5%8D%97%E9%80%A3%E9%8E%96%E7%89%9B%E6%8E%92%E5%BA%97%E7%94%A8%E9%A4%90-5%E6%AD%B2%E7%AB%A5-%E6%80%8E%E9%BA%BC%E7%A1%AC%E7%A1%AC%E7%9A%84-%E4%BB%96%E5%90%90%E5%87%BA-%E7%99%BC%E9%BB%91%E8%9E%BA%E7%B5%B2-065600607.html',\n",
       "  'photo_link': 'https://s.yimg.com/ny/api/res/1.2/eaVvc8.Hhr6Wk7SVnme59Q--/YXBwaWQ9aGlnaGxhbmRlcjt3PTY0MDtoPTQyNw--/https://media.zenfs.com/ko/stormmediagroup.com/c3a5ecef1bb850145c24be4695753553'},\n",
       " {'category': '財經',\n",
       "  'title': '最大交屋潮來了！ 葉凌棋估「多殺多區」跌15%：出7折買不到EBC東森財經新聞35 則留言2 天前',\n",
       "  'link': 'https://tw.news.yahoo.com//2%E5%A5%B3%E9%97%96%E8%BE%A6%E5%85%AC%E5%AE%A4%E9%80%BC%E8%B2%BC-%E7%A6%81%E8%8F%B8%E8%B2%BC%E7%B4%99-kimiko%E8%80%81%E5%B8%AB%E5%9A%87%E5%A3%9E%E9%8E%96%E9%96%80-%E8%A1%9B%E7%94%9F%E5%B1%80%E5%9B%9E%E6%87%89%E4%BA%86-043154925.html',\n",
       "  'photo_link': 'https://s.yimg.com/ny/api/res/1.2/wxgp_oF2HUSgOLI4SsS_Bw--/YXBwaWQ9aGlnaGxhbmRlcjt3PTY0MDtoPTM2MA--/https://media.zenfs.com/ko/ebc__387/4dda940bb9875a53ed2cc940ee56a5be'}]"
      ]
     },
     "execution_count": 237,
     "metadata": {},
     "output_type": "execute_result"
    }
   ],
   "source": [
    "get_title_link_topk(df_query, 3)"
   ]
  },
  {
   "cell_type": "code",
   "execution_count": null,
   "metadata": {},
   "outputs": [],
   "source": []
  },
  {
   "cell_type": "markdown",
   "metadata": {},
   "source": [
    "### Some photo_links are \"NaN\". \n",
    "\n",
    "If the photo_link value is 'nan', it will be a problem when converted to json format on Django!\n",
    "\n",
    "    \"NaN\" cannot be converted to a JSON string. "
   ]
  },
  {
   "cell_type": "code",
   "execution_count": 238,
   "metadata": {},
   "outputs": [
    {
     "data": {
      "text/plain": [
       "'https://s.yimg.com/ny/api/res/1.2/3qEveVGKp0705iucq1UPTw--/YXBwaWQ9aGlnaGxhbmRlcjt3PTY0MDtoPTQyNw--/https://s.yimg.com/os/creatr-uploaded-images/2024-10/83267440-8445-11ef-b675-1135712e37b5'"
      ]
     },
     "execution_count": 238,
     "metadata": {},
     "output_type": "execute_result"
    }
   ],
   "source": [
    "df_query.iloc[0]['photo_link']"
   ]
  },
  {
   "cell_type": "markdown",
   "metadata": {},
   "source": [
    "### Test the photo_link is NaN or not and replace it with empty string\n",
    "    How to do?\n",
    "    You can test a variable is \"NaN\" or not by using pd, np or math."
   ]
  },
  {
   "cell_type": "code",
   "execution_count": 239,
   "metadata": {},
   "outputs": [
    {
     "name": "stdout",
     "output_type": "stream",
     "text": [
      "It's pd.isna  : True\n",
      "It's np.isnan  : True\n",
      "It's math.isnan : True\n"
     ]
    }
   ],
   "source": [
    "import pandas as pd\n",
    "import numpy as np\n",
    "import math\n",
    "\n",
    "# we can use pandas, numpy or math to check if photo_link is NaN\n",
    "x = float(\"nan\")\n",
    "\n",
    "print(f\"It's pd.isna  : {pd.isna(x)}\")\n",
    "print(f\"It's np.isnan  : {np.isnan(x)}\")\n",
    "print(f\"It's math.isnan : {math.isnan(x)}\")"
   ]
  },
  {
   "cell_type": "code",
   "execution_count": 240,
   "metadata": {},
   "outputs": [
    {
     "data": {
      "text/plain": [
       "'https://s.yimg.com/ny/api/res/1.2/3qEveVGKp0705iucq1UPTw--/YXBwaWQ9aGlnaGxhbmRlcjt3PTY0MDtoPTQyNw--/https://s.yimg.com/os/creatr-uploaded-images/2024-10/83267440-8445-11ef-b675-1135712e37b5'"
      ]
     },
     "execution_count": 240,
     "metadata": {},
     "output_type": "execute_result"
    }
   ],
   "source": [
    "df_query.iloc[0]['photo_link']"
   ]
  },
  {
   "cell_type": "code",
   "execution_count": 241,
   "metadata": {},
   "outputs": [],
   "source": [
    "photo_link = df_query.iloc[0]['photo_link']\n",
    "# if photo_link value is NaN, replace it with empty string \n",
    "if pd.isna(photo_link):\n",
    "    photo_link='' # "
   ]
  },
  {
   "cell_type": "code",
   "execution_count": 242,
   "metadata": {},
   "outputs": [
    {
     "data": {
      "text/plain": [
       "'https://s.yimg.com/ny/api/res/1.2/3qEveVGKp0705iucq1UPTw--/YXBwaWQ9aGlnaGxhbmRlcjt3PTY0MDtoPTQyNw--/https://s.yimg.com/os/creatr-uploaded-images/2024-10/83267440-8445-11ef-b675-1135712e37b5'"
      ]
     },
     "execution_count": 242,
     "metadata": {},
     "output_type": "execute_result"
    }
   ],
   "source": [
    "photo_link"
   ]
  },
  {
   "cell_type": "markdown",
   "metadata": {
    "toc-hr-collapsed": true
   },
   "source": [
    "# Find some related keywords\n",
    "\n",
    "    Find related words from the top_key_freq column\n",
    "    相關詞有哪一些? 找出各篇文章的topk關鍵詞?"
   ]
  },
  {
   "cell_type": "markdown",
   "metadata": {},
   "source": [
    "## All-in-one function: Get related keywords"
   ]
  },
  {
   "cell_type": "code",
   "execution_count": 243,
   "metadata": {},
   "outputs": [],
   "source": [
    "from collections import Counter\n",
    "# 相關詞有哪一些?找出各篇文章的topk關鍵詞加以彙整計算\n",
    "# 不能用 \"get_related_keys\"當函數名稱，因為這是Django系統用的名稱\n",
    "def get_related_words(df_query):\n",
    "    counter=Counter() # this counter is for all articles\n",
    "    for idx in range(len(df_query)):\n",
    "        pair_dict = dict(eval(df_query.iloc[idx].top_key_freq))\n",
    "        counter += Counter(pair_dict)\n",
    "    return counter.most_common(20) #return list format"
   ]
  },
  {
   "cell_type": "code",
   "execution_count": 244,
   "metadata": {},
   "outputs": [],
   "source": [
    "# This version is for reference\n",
    "def get_related_words_v0(df_query):\n",
    "    all_pairs={}\n",
    "    for idx in range(len(df_query)):\n",
    "        row = df_query.iloc[idx].top_key_freq\n",
    "        pairs = eval(row)\n",
    "        for pair in pairs:\n",
    "            w,f = pair\n",
    "            if w in all_pairs:\n",
    "                all_pairs[w]+= f\n",
    "            else:\n",
    "                all_pairs[w] = f\n",
    "\n",
    "    counter = Counter(all_pairs)\n",
    "    return counter.most_common(20) #return list format\n",
    "    #return dict(counter.most_common(20)) #return dict format"
   ]
  },
  {
   "cell_type": "code",
   "execution_count": 245,
   "metadata": {},
   "outputs": [],
   "source": [
    "user_keywords = ['美股','台股']\n",
    "cond='and'\n",
    "cate='全部'\n",
    "weeks=2\n",
    "df_query = filter_dataFrame_fullText(user_keywords, cond, cate, weeks)"
   ]
  },
  {
   "cell_type": "code",
   "execution_count": 246,
   "metadata": {},
   "outputs": [
    {
     "data": {
      "text/plain": [
       "(3, 14)"
      ]
     },
     "execution_count": 246,
     "metadata": {},
     "output_type": "execute_result"
    }
   ],
   "source": [
    "df_query.shape"
   ]
  },
  {
   "cell_type": "code",
   "execution_count": 247,
   "metadata": {
    "scrolled": true
   },
   "outputs": [
    {
     "data": {
      "text/plain": [
       "[('關稅', 34),\n",
       " ('台股', 32),\n",
       " ('市場', 23),\n",
       " ('美國', 21),\n",
       " ('指數', 18),\n",
       " ('川普', 17),\n",
       " ('汽車', 14),\n",
       " ('族群', 12),\n",
       " ('政策', 10),\n",
       " ('全球', 8),\n",
       " ('股市', 7),\n",
       " ('新聞網', 6),\n",
       " ('房屋', 6),\n",
       " ('股價', 6),\n",
       " ('終場', 5),\n",
       " ('機會', 5),\n",
       " ('資金', 5),\n",
       " ('記者', 5),\n",
       " ('建築', 5),\n",
       " ('工廠', 5)]"
      ]
     },
     "execution_count": 247,
     "metadata": {},
     "output_type": "execute_result"
    }
   ],
   "source": [
    "get_related_words(df_query)"
   ]
  },
  {
   "cell_type": "code",
   "execution_count": 248,
   "metadata": {
    "scrolled": true
   },
   "outputs": [],
   "source": [
    "# get_related_words_v1(df_query)"
   ]
  },
  {
   "cell_type": "markdown",
   "metadata": {},
   "source": [
    "## A Step by step demonstration (do it yourself)"
   ]
  },
  {
   "cell_type": "code",
   "execution_count": 249,
   "metadata": {},
   "outputs": [],
   "source": [
    "user_keywords = ['台股','美股']\n",
    "cond='and'\n",
    "cate='全部'\n",
    "weeks=2\n",
    "df_query = filter_dataFrame_fullText(user_keywords, cond, cate, weeks)"
   ]
  },
  {
   "cell_type": "code",
   "execution_count": 250,
   "metadata": {},
   "outputs": [
    {
     "data": {
      "text/html": [
       "<div>\n",
       "<style scoped>\n",
       "    .dataframe tbody tr th:only-of-type {\n",
       "        vertical-align: middle;\n",
       "    }\n",
       "\n",
       "    .dataframe tbody tr th {\n",
       "        vertical-align: top;\n",
       "    }\n",
       "\n",
       "    .dataframe thead th {\n",
       "        text-align: right;\n",
       "    }\n",
       "</style>\n",
       "<table border=\"1\" class=\"dataframe\">\n",
       "  <thead>\n",
       "    <tr style=\"text-align: right;\">\n",
       "      <th></th>\n",
       "      <th>item_id</th>\n",
       "      <th>date</th>\n",
       "      <th>category</th>\n",
       "      <th>title</th>\n",
       "      <th>content</th>\n",
       "      <th>sentiment</th>\n",
       "      <th>summary</th>\n",
       "      <th>top_key_freq</th>\n",
       "      <th>tokens</th>\n",
       "      <th>tokens_v2</th>\n",
       "      <th>entities</th>\n",
       "      <th>token_pos</th>\n",
       "      <th>link</th>\n",
       "      <th>photo_link</th>\n",
       "    </tr>\n",
       "  </thead>\n",
       "  <tbody>\n",
       "    <tr>\n",
       "      <th>0</th>\n",
       "      <td>_20250327_1</td>\n",
       "      <td>2025-03-27</td>\n",
       "      <td>焦點</td>\n",
       "      <td>台股重挫308點 失守22000關卡</td>\n",
       "      <td>美國總統川普準備徵收汽車關稅，美股主要指數全數下跌，台積電重挫4.09%，台積電台北現股今日...</td>\n",
       "      <td>暫無</td>\n",
       "      <td>暫無</td>\n",
       "      <td>[('台積電', 4), ('指數', 3), ('月線', 3), ('美國', 2), ...</td>\n",
       "      <td>['美國', '總統', '川普', '準備', '徵收', '汽車', '關稅', '，'...</td>\n",
       "      <td>['美國', '總統', '川普', '汽車', '關稅', '美股', '指數', '台積...</td>\n",
       "      <td>[NerToken(word='美國', ner='GPE', idx=(0, 2)), N...</td>\n",
       "      <td>[('美國', 'Nc'), ('總統', 'Na'), ('川普', 'Nb'), ('準...</td>\n",
       "      <td>https://tw.news.yahoo.com/https://tw.stock.yah...</td>\n",
       "      <td>https://s.yimg.com/ny/api/res/1.2/3qEveVGKp070...</td>\n",
       "    </tr>\n",
       "    <tr>\n",
       "      <th>132</th>\n",
       "      <td>finance_20250327_13</td>\n",
       "      <td>2025-03-27</td>\n",
       "      <td>財經</td>\n",
       "      <td>【清明節變盤2】 川普關稅風暴避風港！ 5名師點名3族群抱股過節Yahoo奇摩股市15 則留...</td>\n",
       "      <td>4月3日至6日為清明連假，適逢美國總統川普預定4月2日實施對等關稅，雖然他近日鬆口對於進口商...</td>\n",
       "      <td>暫無</td>\n",
       "      <td>暫無</td>\n",
       "      <td>[('關稅', 33), ('台股', 25), ('美國', 17), ('市場', 16...</td>\n",
       "      <td>['4月', '3日', '至', '6日', '為', '清明', '連假', '，', ...</td>\n",
       "      <td>['美國', '總統', '川普', '關稅', '商品', '關稅', '國家', '汽車...</td>\n",
       "      <td>[NerToken(word='4月3日至6日', ner='DATE', idx=(0, ...</td>\n",
       "      <td>[('4月', 'Nd'), ('3日', 'Nd'), ('至', 'Caa'), ('6...</td>\n",
       "      <td>https://tw.news.yahoo.com//%E4%B8%AD%E5%9C%8B%...</td>\n",
       "      <td>https://s.yimg.com/ny/api/res/1.2/1FcXAGsHow02...</td>\n",
       "    </tr>\n",
       "  </tbody>\n",
       "</table>\n",
       "</div>"
      ],
      "text/plain": [
       "                 item_id        date category  \\\n",
       "0            _20250327_1  2025-03-27       焦點   \n",
       "132  finance_20250327_13  2025-03-27       財經   \n",
       "\n",
       "                                                 title  \\\n",
       "0                                   台股重挫308點 失守22000關卡   \n",
       "132  【清明節變盤2】 川普關稅風暴避風港！ 5名師點名3族群抱股過節Yahoo奇摩股市15 則留...   \n",
       "\n",
       "                                               content sentiment summary  \\\n",
       "0    美國總統川普準備徵收汽車關稅，美股主要指數全數下跌，台積電重挫4.09%，台積電台北現股今日...        暫無      暫無   \n",
       "132  4月3日至6日為清明連假，適逢美國總統川普預定4月2日實施對等關稅，雖然他近日鬆口對於進口商...        暫無      暫無   \n",
       "\n",
       "                                          top_key_freq  \\\n",
       "0    [('台積電', 4), ('指數', 3), ('月線', 3), ('美國', 2), ...   \n",
       "132  [('關稅', 33), ('台股', 25), ('美國', 17), ('市場', 16...   \n",
       "\n",
       "                                                tokens  \\\n",
       "0    ['美國', '總統', '川普', '準備', '徵收', '汽車', '關稅', '，'...   \n",
       "132  ['4月', '3日', '至', '6日', '為', '清明', '連假', '，', ...   \n",
       "\n",
       "                                             tokens_v2  \\\n",
       "0    ['美國', '總統', '川普', '汽車', '關稅', '美股', '指數', '台積...   \n",
       "132  ['美國', '總統', '川普', '關稅', '商品', '關稅', '國家', '汽車...   \n",
       "\n",
       "                                              entities  \\\n",
       "0    [NerToken(word='美國', ner='GPE', idx=(0, 2)), N...   \n",
       "132  [NerToken(word='4月3日至6日', ner='DATE', idx=(0, ...   \n",
       "\n",
       "                                             token_pos  \\\n",
       "0    [('美國', 'Nc'), ('總統', 'Na'), ('川普', 'Nb'), ('準...   \n",
       "132  [('4月', 'Nd'), ('3日', 'Nd'), ('至', 'Caa'), ('6...   \n",
       "\n",
       "                                                  link  \\\n",
       "0    https://tw.news.yahoo.com/https://tw.stock.yah...   \n",
       "132  https://tw.news.yahoo.com//%E4%B8%AD%E5%9C%8B%...   \n",
       "\n",
       "                                            photo_link  \n",
       "0    https://s.yimg.com/ny/api/res/1.2/3qEveVGKp070...  \n",
       "132  https://s.yimg.com/ny/api/res/1.2/1FcXAGsHow02...  "
      ]
     },
     "execution_count": 250,
     "metadata": {},
     "output_type": "execute_result"
    }
   ],
   "source": [
    "df_query.head(2)"
   ]
  },
  {
   "cell_type": "code",
   "execution_count": 251,
   "metadata": {
    "scrolled": true
   },
   "outputs": [
    {
     "data": {
      "text/plain": [
       "0      [('台積電', 4), ('指數', 3), ('月線', 3), ('美國', 2), ...\n",
       "132    [('關稅', 33), ('台股', 25), ('美國', 17), ('市場', 16...\n",
       "137    [('市場', 7), ('股價', 6), ('台股', 5), ('指數', 4), (...\n",
       "Name: top_key_freq, dtype: object"
      ]
     },
     "execution_count": 251,
     "metadata": {},
     "output_type": "execute_result"
    }
   ],
   "source": [
    "df_query.top_key_freq"
   ]
  },
  {
   "cell_type": "markdown",
   "metadata": {},
   "source": [
    "### From the word_freq pairs, we sum frequency for each word\n",
    "\n",
    "    How? \n",
    "    The best way is to use dict. Here is a simple example."
   ]
  },
  {
   "cell_type": "code",
   "execution_count": 252,
   "metadata": {},
   "outputs": [
    {
     "data": {
      "text/plain": [
       "[('關稅', 33), ('台股', 25), ('美國', 17), ('市場', 16)]"
      ]
     },
     "execution_count": 252,
     "metadata": {},
     "output_type": "execute_result"
    }
   ],
   "source": [
    "[('關稅', 33), ('台股', 25), ('美國', 17), ('市場', 16)]"
   ]
  },
  {
   "cell_type": "code",
   "execution_count": 253,
   "metadata": {},
   "outputs": [
    {
     "data": {
      "text/plain": [
       "{'關稅': 33, '台股': 25, '美國': 17, '市場': 16}"
      ]
     },
     "execution_count": 253,
     "metadata": {},
     "output_type": "execute_result"
    }
   ],
   "source": [
    "'''\n",
    "{'陳時中': 7,\n",
    " '解封': 5,\n",
    " '疫情': 10,\n",
    " '檢疫期': 3}\n",
    "\n",
    " (key, value) key can't be duplicated.鍵值不能重複，轉成dict時不處理重複的，會被丟棄\n",
    "'''\n",
    "\n",
    "dict([('關稅', 33), ('台股', 25), ('美國', 17), ('市場', 16)])"
   ]
  },
  {
   "cell_type": "code",
   "execution_count": 254,
   "metadata": {},
   "outputs": [
    {
     "data": {
      "text/plain": [
       "{'美股': 30, '台股': 25}"
      ]
     },
     "execution_count": 254,
     "metadata": {},
     "output_type": "execute_result"
    }
   ],
   "source": [
    "#  (key, value) key can't be duplicated.鍵值不能重複，轉成dict時不處理重複的，會被丟棄\n",
    "dict([('美股', 33), ('台股', 25), ('美股', 30)])"
   ]
  },
  {
   "cell_type": "code",
   "execution_count": 255,
   "metadata": {},
   "outputs": [],
   "source": [
    "c1 = Counter(dict([('關稅', 33), ('台股', 25), ('美國', 17), ('市場', 16)]))"
   ]
  },
  {
   "cell_type": "code",
   "execution_count": 256,
   "metadata": {},
   "outputs": [
    {
     "data": {
      "text/plain": [
       "Counter({'關稅': 33, '台股': 25, '美國': 17, '市場': 16})"
      ]
     },
     "execution_count": 256,
     "metadata": {},
     "output_type": "execute_result"
    }
   ],
   "source": [
    "c1"
   ]
  },
  {
   "cell_type": "code",
   "execution_count": 257,
   "metadata": {},
   "outputs": [],
   "source": [
    "c2 = Counter(dict([('市場', 7), ('股價', 6), ('台股', 5)]))"
   ]
  },
  {
   "cell_type": "code",
   "execution_count": 258,
   "metadata": {},
   "outputs": [
    {
     "data": {
      "text/plain": [
       "Counter({'市場': 7, '股價': 6, '台股': 5})"
      ]
     },
     "execution_count": 258,
     "metadata": {},
     "output_type": "execute_result"
    }
   ],
   "source": [
    "c2"
   ]
  },
  {
   "cell_type": "code",
   "execution_count": 259,
   "metadata": {},
   "outputs": [
    {
     "data": {
      "text/plain": [
       "Counter({'關稅': 33, '台股': 30, '市場': 23, '美國': 17, '股價': 6})"
      ]
     },
     "execution_count": 259,
     "metadata": {},
     "output_type": "execute_result"
    }
   ],
   "source": [
    "c1+c2"
   ]
  },
  {
   "cell_type": "code",
   "execution_count": null,
   "metadata": {},
   "outputs": [],
   "source": []
  },
  {
   "cell_type": "code",
   "execution_count": 260,
   "metadata": {},
   "outputs": [
    {
     "data": {
      "text/plain": [
       "\"[('台積電', 4), ('指數', 3), ('月線', 3), ('美國', 2), ('川普', 2), ('汽車', 2), ('美股', 2), ('台北', 2), ('終場', 2), ('台股', 2), ('關卡', 2), ('大盤', 2), ('壓力', 2), ('均線', 2), ('型態', 2), ('個股', 2), ('總統', 1), ('關稅', 1), ('現股', 1), ('早盤', 1)]\""
      ]
     },
     "execution_count": 260,
     "metadata": {},
     "output_type": "execute_result"
    }
   ],
   "source": [
    "### Now we can start to cout frequency from our word_freq pairs\n",
    "df_query.iloc[0].top_key_freq"
   ]
  },
  {
   "cell_type": "code",
   "execution_count": 261,
   "metadata": {},
   "outputs": [
    {
     "data": {
      "text/plain": [
       "{'台積電': 4,\n",
       " '指數': 3,\n",
       " '月線': 3,\n",
       " '美國': 2,\n",
       " '川普': 2,\n",
       " '汽車': 2,\n",
       " '美股': 2,\n",
       " '台北': 2,\n",
       " '終場': 2,\n",
       " '台股': 2,\n",
       " '關卡': 2,\n",
       " '大盤': 2,\n",
       " '壓力': 2,\n",
       " '均線': 2,\n",
       " '型態': 2,\n",
       " '個股': 2,\n",
       " '總統': 1,\n",
       " '關稅': 1,\n",
       " '現股': 1,\n",
       " '早盤': 1}"
      ]
     },
     "execution_count": 261,
     "metadata": {},
     "output_type": "execute_result"
    }
   ],
   "source": [
    "# Convert to dictionary\n",
    "dict(eval(df_query.iloc[0].top_key_freq))"
   ]
  },
  {
   "cell_type": "code",
   "execution_count": 262,
   "metadata": {},
   "outputs": [
    {
     "data": {
      "text/plain": [
       "[('台積電', 4),\n",
       " ('指數', 3),\n",
       " ('月線', 3),\n",
       " ('美國', 2),\n",
       " ('川普', 2),\n",
       " ('汽車', 2),\n",
       " ('美股', 2),\n",
       " ('台北', 2),\n",
       " ('終場', 2),\n",
       " ('台股', 2)]"
      ]
     },
     "execution_count": 262,
     "metadata": {},
     "output_type": "execute_result"
    }
   ],
   "source": [
    "c1 = Counter(dict(eval(df_query.iloc[0].top_key_freq)))\n",
    "c1.most_common(10)"
   ]
  },
  {
   "cell_type": "code",
   "execution_count": 263,
   "metadata": {},
   "outputs": [
    {
     "data": {
      "text/plain": [
       "[('關稅', 33),\n",
       " ('台股', 25),\n",
       " ('美國', 17),\n",
       " ('市場', 16),\n",
       " ('川普', 15),\n",
       " ('汽車', 12),\n",
       " ('指數', 11),\n",
       " ('政策', 10),\n",
       " ('族群', 8),\n",
       " ('全球', 8)]"
      ]
     },
     "execution_count": 263,
     "metadata": {},
     "output_type": "execute_result"
    }
   ],
   "source": [
    "c2 = Counter(dict(eval(df_query.iloc[1].top_key_freq)))\n",
    "c2.most_common(10)"
   ]
  },
  {
   "cell_type": "code",
   "execution_count": 264,
   "metadata": {},
   "outputs": [
    {
     "data": {
      "text/plain": [
       "[('關稅', 34),\n",
       " ('台股', 27),\n",
       " ('美國', 19),\n",
       " ('川普', 17),\n",
       " ('市場', 16),\n",
       " ('指數', 14),\n",
       " ('汽車', 14),\n",
       " ('政策', 10),\n",
       " ('族群', 8),\n",
       " ('全球', 8)]"
      ]
     },
     "execution_count": 264,
     "metadata": {},
     "output_type": "execute_result"
    }
   ],
   "source": [
    "counter = c1+c2\n",
    "counter.most_common(10)"
   ]
  },
  {
   "cell_type": "code",
   "execution_count": 265,
   "metadata": {},
   "outputs": [],
   "source": [
    "# Advance operation for reference\n",
    "# Using the itertools.groupby approach, you are summing the sorted groups based on first tuple elements.\n",
    "\n",
    "# from itertools import groupby\n",
    "# from operator import itemgetter\n",
    "\n",
    "# my_list = [('a',2),('a',3),('b',3),('c',2),('b',4)]\n",
    "# first = itemgetter(0)\n",
    "# sums = [(k, sum(item[1] for item in tups_to_sum))\n",
    "#         for k, tups_to_sum in groupby(sorted(my_list, key=first), key=first)]\n",
    "# Outputs:\n",
    "\n",
    "# [('a', 5), ('b', 7), ('c', 2)]"
   ]
  },
  {
   "cell_type": "markdown",
   "metadata": {},
   "source": [
    "## Prepare wordcloud data"
   ]
  },
  {
   "cell_type": "code",
   "execution_count": 266,
   "metadata": {},
   "outputs": [],
   "source": [
    "# Get related keywords by counting the top keywords of each news.\n",
    "# Notice:  do not name function as  \"get_related_keys\",\n",
    "# because this name is used in Django\n",
    "def get_related_word_clouddata(df_query):\n",
    "\n",
    "    # (1) Get wf_pairs by calling get_related_words().\n",
    "    wf_pairs = get_related_words(df_query)\n",
    "    \n",
    "    # (2) cloud chart data\n",
    "    # the minimum and maximum frequency of top words\n",
    "    min_ = wf_pairs[-1][1]  # the last line is smaller\n",
    "    max_ = wf_pairs[0][1]\n",
    "    # text size based on the value of word frequency for drawing cloud chart\n",
    "    textSizeMin = 20 # 最小字\n",
    "    textSizeMax = 120 # 最大字\n",
    "    # Scaling frequency value into an interval of from 20 to 120.\n",
    "    clouddata = [{'text': w, 'size': int(textSizeMin + (f - min_) / (max_ - min_) * (textSizeMax - textSizeMin))}\n",
    "                 for w, f in wf_pairs]\n",
    "\n",
    "    return   wf_pairs, clouddata "
   ]
  },
  {
   "cell_type": "code",
   "execution_count": 267,
   "metadata": {},
   "outputs": [
    {
     "data": {
      "text/plain": [
       "([('關稅', 34),\n",
       "  ('台股', 32),\n",
       "  ('市場', 23),\n",
       "  ('美國', 21),\n",
       "  ('指數', 18),\n",
       "  ('川普', 17),\n",
       "  ('汽車', 14),\n",
       "  ('族群', 12),\n",
       "  ('政策', 10),\n",
       "  ('全球', 8),\n",
       "  ('股市', 7),\n",
       "  ('新聞網', 6),\n",
       "  ('房屋', 6),\n",
       "  ('股價', 6),\n",
       "  ('終場', 5),\n",
       "  ('機會', 5),\n",
       "  ('資金', 5),\n",
       "  ('記者', 5),\n",
       "  ('建築', 5),\n",
       "  ('工廠', 5)],\n",
       " [{'text': '關稅', 'size': 120},\n",
       "  {'text': '台股', 'size': 113},\n",
       "  {'text': '市場', 'size': 82},\n",
       "  {'text': '美國', 'size': 75},\n",
       "  {'text': '指數', 'size': 64},\n",
       "  {'text': '川普', 'size': 61},\n",
       "  {'text': '汽車', 'size': 51},\n",
       "  {'text': '族群', 'size': 44},\n",
       "  {'text': '政策', 'size': 37},\n",
       "  {'text': '全球', 'size': 30},\n",
       "  {'text': '股市', 'size': 26},\n",
       "  {'text': '新聞網', 'size': 23},\n",
       "  {'text': '房屋', 'size': 23},\n",
       "  {'text': '股價', 'size': 23},\n",
       "  {'text': '終場', 'size': 20},\n",
       "  {'text': '機會', 'size': 20},\n",
       "  {'text': '資金', 'size': 20},\n",
       "  {'text': '記者', 'size': 20},\n",
       "  {'text': '建築', 'size': 20},\n",
       "  {'text': '工廠', 'size': 20}])"
      ]
     },
     "execution_count": 267,
     "metadata": {},
     "output_type": "execute_result"
    }
   ],
   "source": [
    "user_keywords = ['台股','美股']\n",
    "cond='and'\n",
    "cate='全部'\n",
    "weeks=2\n",
    "df_query = filter_dataFrame_fullText(user_keywords, cond, cate, weeks)\n",
    "\n",
    "get_related_word_clouddata(df_query)"
   ]
  },
  {
   "cell_type": "code",
   "execution_count": null,
   "metadata": {},
   "outputs": [],
   "source": []
  },
  {
   "cell_type": "markdown",
   "metadata": {
    "toc-hr-collapsed": true
   },
   "source": [
    "# Find paragraphs containing the keywords. \n",
    "\n",
    "    There may be too many related paragraphs, so we display only some of them on our Django website\n",
    "    一一比對文章段落，找出關鍵詞所在的段落"
   ]
  },
  {
   "cell_type": "markdown",
   "metadata": {},
   "source": [
    "## All-in-one function: Find related paragraphs"
   ]
  },
  {
   "cell_type": "code",
   "execution_count": 268,
   "metadata": {},
   "outputs": [],
   "source": [
    "import re\n",
    "\n",
    "# Step1: split paragraphs in text 先將文章切成一個段落一個段落\n",
    "def cut_paragraph(text):\n",
    "    paragraphs = text.split('。')  # 遇到句號就切開\n",
    "    #paragraphs = re.split('。', text) # 遇到句號就切開\n",
    "    #paragraphs = re.split('[。！!？?]', text) # 遇到句號(也納入問號、驚嘆號、分號等)就切開\n",
    "    paragraphs = list(filter(None, paragraphs))\n",
    "    return paragraphs\n",
    "\n",
    "\n",
    "import re\n",
    "# Find out all paragraphs where multiple keywords occur.\n",
    "def get_same_para(df_query, user_keywords, cond, k=30):\n",
    "    same_para=[]\n",
    "    for text in df_query.content:\n",
    "        #print(text)\n",
    "        paragraphs = cut_paragraph(text)\n",
    "        for para in paragraphs:\n",
    "            para += \"。\"  # 在每段落文字後面加一個句號。\n",
    "            # 判斷每個段落文字是否包含該關鍵字，and or分開判斷\n",
    "            if cond == 'and':\n",
    "                if all([kw in para for kw in user_keywords]):\n",
    "                    same_para.append(para)  # 符合條件的段落para保存起來\n",
    "            elif cond == 'or':\n",
    "                if any([kw in para for kw in user_keywords]):\n",
    "                    same_para.append(para)  # 符合條件的段落para保存起來\n",
    "    return same_para[0:k]\n",
    "\n",
    "\n",
    "\n",
    "# Step2: Select all paragraphs where multiple keywords occur.\n",
    "def get_same_para(df_query, user_keywords, cond, k=30):\n",
    "    same_para=[]\n",
    "    for text in df_query.content:\n",
    "        #print(text)\n",
    "        paragraphs = cut_paragraph(text)\n",
    "        for para in paragraphs:\n",
    "            para += \"。\"\n",
    "            if cond=='and':\n",
    "                if all([re.search(kw, para) for kw in user_keywords]):\n",
    "                    same_para.append(para)\n",
    "            elif cond=='or':\n",
    "                if any([re.search(kw, para) for kw in user_keywords]):\n",
    "                    same_para.append(para)\n",
    "    return same_para[0:k]\n"
   ]
  },
  {
   "cell_type": "code",
   "execution_count": 269,
   "metadata": {},
   "outputs": [],
   "source": [
    "user_keywords = ['台灣','美國','股市']\n",
    "cond='and'\n",
    "cate='全部'\n",
    "weeks=2\n",
    "df_query = filter_dataFrame_fullText(user_keywords, cond, cate, weeks)"
   ]
  },
  {
   "cell_type": "code",
   "execution_count": 270,
   "metadata": {},
   "outputs": [
    {
     "data": {
      "text/plain": [
       "9"
      ]
     },
     "execution_count": 270,
     "metadata": {},
     "output_type": "execute_result"
    }
   ],
   "source": [
    "len(df_query)"
   ]
  },
  {
   "cell_type": "code",
   "execution_count": 271,
   "metadata": {},
   "outputs": [
    {
     "data": {
      "text/plain": [
       "['李鴻基表示，台積電目前占台灣加權指數權值達35%，自2016年8月以來，在台積電驅動下，台灣股市總市值與GDP佔比達284%，遠高於美國(194%)與日本(150%)等地資本市場，突顯台積電在全球半導體市場中的主導地位，以及對台灣經濟穩定增長貢獻。']"
      ]
     },
     "execution_count": 271,
     "metadata": {},
     "output_type": "execute_result"
    }
   ],
   "source": [
    "get_same_para(df_query, user_keywords, 'and', k=10)"
   ]
  },
  {
   "cell_type": "code",
   "execution_count": null,
   "metadata": {},
   "outputs": [],
   "source": []
  },
  {
   "cell_type": "markdown",
   "metadata": {},
   "source": [
    "## A Step by step demonstration"
   ]
  },
  {
   "cell_type": "markdown",
   "metadata": {},
   "source": [
    "## Step1: cut_paragraph() function"
   ]
  },
  {
   "cell_type": "code",
   "execution_count": 272,
   "metadata": {},
   "outputs": [
    {
     "data": {
      "text/html": [
       "<div>\n",
       "<style scoped>\n",
       "    .dataframe tbody tr th:only-of-type {\n",
       "        vertical-align: middle;\n",
       "    }\n",
       "\n",
       "    .dataframe tbody tr th {\n",
       "        vertical-align: top;\n",
       "    }\n",
       "\n",
       "    .dataframe thead th {\n",
       "        text-align: right;\n",
       "    }\n",
       "</style>\n",
       "<table border=\"1\" class=\"dataframe\">\n",
       "  <thead>\n",
       "    <tr style=\"text-align: right;\">\n",
       "      <th></th>\n",
       "      <th>item_id</th>\n",
       "      <th>date</th>\n",
       "      <th>category</th>\n",
       "      <th>title</th>\n",
       "      <th>content</th>\n",
       "      <th>sentiment</th>\n",
       "      <th>summary</th>\n",
       "      <th>top_key_freq</th>\n",
       "      <th>tokens</th>\n",
       "      <th>tokens_v2</th>\n",
       "      <th>entities</th>\n",
       "      <th>token_pos</th>\n",
       "      <th>link</th>\n",
       "      <th>photo_link</th>\n",
       "    </tr>\n",
       "  </thead>\n",
       "  <tbody>\n",
       "    <tr>\n",
       "      <th>0</th>\n",
       "      <td>_20250327_1</td>\n",
       "      <td>2025-03-27</td>\n",
       "      <td>焦點</td>\n",
       "      <td>台股重挫308點 失守22000關卡</td>\n",
       "      <td>美國總統川普準備徵收汽車關稅，美股主要指數全數下跌，台積電重挫4.09%，台積電台北現股今日...</td>\n",
       "      <td>暫無</td>\n",
       "      <td>暫無</td>\n",
       "      <td>[('台積電', 4), ('指數', 3), ('月線', 3), ('美國', 2), ...</td>\n",
       "      <td>['美國', '總統', '川普', '準備', '徵收', '汽車', '關稅', '，'...</td>\n",
       "      <td>['美國', '總統', '川普', '汽車', '關稅', '美股', '指數', '台積...</td>\n",
       "      <td>[NerToken(word='美國', ner='GPE', idx=(0, 2)), N...</td>\n",
       "      <td>[('美國', 'Nc'), ('總統', 'Na'), ('川普', 'Nb'), ('準...</td>\n",
       "      <td>https://tw.news.yahoo.com/https://tw.stock.yah...</td>\n",
       "      <td>https://s.yimg.com/ny/api/res/1.2/3qEveVGKp070...</td>\n",
       "    </tr>\n",
       "  </tbody>\n",
       "</table>\n",
       "</div>"
      ],
      "text/plain": [
       "       item_id        date category               title  \\\n",
       "0  _20250327_1  2025-03-27       焦點  台股重挫308點 失守22000關卡   \n",
       "\n",
       "                                             content sentiment summary  \\\n",
       "0  美國總統川普準備徵收汽車關稅，美股主要指數全數下跌，台積電重挫4.09%，台積電台北現股今日...        暫無      暫無   \n",
       "\n",
       "                                        top_key_freq  \\\n",
       "0  [('台積電', 4), ('指數', 3), ('月線', 3), ('美國', 2), ...   \n",
       "\n",
       "                                              tokens  \\\n",
       "0  ['美國', '總統', '川普', '準備', '徵收', '汽車', '關稅', '，'...   \n",
       "\n",
       "                                           tokens_v2  \\\n",
       "0  ['美國', '總統', '川普', '汽車', '關稅', '美股', '指數', '台積...   \n",
       "\n",
       "                                            entities  \\\n",
       "0  [NerToken(word='美國', ner='GPE', idx=(0, 2)), N...   \n",
       "\n",
       "                                           token_pos  \\\n",
       "0  [('美國', 'Nc'), ('總統', 'Na'), ('川普', 'Nb'), ('準...   \n",
       "\n",
       "                                                link  \\\n",
       "0  https://tw.news.yahoo.com/https://tw.stock.yah...   \n",
       "\n",
       "                                          photo_link  \n",
       "0  https://s.yimg.com/ny/api/res/1.2/3qEveVGKp070...  "
      ]
     },
     "execution_count": 272,
     "metadata": {},
     "output_type": "execute_result"
    }
   ],
   "source": [
    "df.head(1)"
   ]
  },
  {
   "cell_type": "code",
   "execution_count": 273,
   "metadata": {},
   "outputs": [
    {
     "data": {
      "text/plain": [
       "'美國總統川普準備徵收汽車關稅，美股主要指數全數下跌，台積電重挫4.09%，台積電台北現股今日早盤以961元開出後失守960價位，終場收在958元，下跌22元或2.24%；台股以22093點開出後失守22000關卡，收盤以21951點作收，下跌308點。川普已經正式宣布，將對所有不在美國製造的汽車徵收25%的進口稅，美股四大指數下跌，費城半導體指數下滑3.27%，台積電ADR收盤大跌4.09%，報每股173.50美元，換算並折合台幣後是每股1,148.15元，較台北交易股票溢價率為17.16%。台股今早盤以22093點開出後，盤中失守22000點關卡，最低觸及21919點，收盤以21951點作收，下跌308點；台積電以961元開出，盤中最低觸及958元，終場以958元作收，下跌22元或2.24％。凱基投顧報告指出，周三大盤高點持續逼近月線壓力，但買盤仍無力追價，成交量急凍至近年新低水準，導致再度挑戰月線未果，不過，盤面上漲家數約占三分之二，有別前一日下跌家數約占七成，顯示盤面籌碼趨於穩定，而且盤中拉回尚能力守短期均線，技術面呈現價穩量縮走勢，有利短線持續挑戰月線，站上月線後就有機會進一步往上挑戰3月13日長黑高點22552點，站上22552點後就能完成底部型態，使反彈走勢進一步延伸。凱基投顧表示，目前盤面類股輪動快速，因此，操作上仍不宜過度追價，但大盤底部型態持續醞釀，部分個股開始率先表態強攻，選股可優先聚焦具利多題材以及股價轉強收復均線壓力之強勢個股。'"
      ]
     },
     "execution_count": 273,
     "metadata": {},
     "output_type": "execute_result"
    }
   ],
   "source": [
    "text = df.content[0]\n",
    "text"
   ]
  },
  {
   "cell_type": "code",
   "execution_count": 274,
   "metadata": {},
   "outputs": [],
   "source": [
    "# Step1: split paragraphs in text 先將文章切成一個段落一個段落\n",
    "def cut_paragraph(text):\n",
    "    paragraphs = text.split('。')  # 遇到句號就切開\n",
    "    #paragraphs = re.split('。', text) # 遇到句號就切開\n",
    "    #paragraphs = re.split('[。！!？?]', text) # 遇到句號(也納入問號、驚嘆號、分號等)就切開\n",
    "    paragraphs = list(filter(None, paragraphs))\n",
    "    return paragraphs\n"
   ]
  },
  {
   "cell_type": "code",
   "execution_count": 275,
   "metadata": {},
   "outputs": [
    {
     "data": {
      "text/plain": [
       "['美國總統川普準備徵收汽車關稅，美股主要指數全數下跌，台積電重挫4.09%，台積電台北現股今日早盤以961元開出後失守960價位，終場收在958元，下跌22元或2.24%；台股以22093點開出後失守22000關卡，收盤以21951點作收，下跌308點',\n",
       " '川普已經正式宣布，將對所有不在美國製造的汽車徵收25%的進口稅，美股四大指數下跌，費城半導體指數下滑3.27%，台積電ADR收盤大跌4.09%，報每股173.50美元，換算並折合台幣後是每股1,148.15元，較台北交易股票溢價率為17.16%',\n",
       " '台股今早盤以22093點開出後，盤中失守22000點關卡，最低觸及21919點，收盤以21951點作收，下跌308點；台積電以961元開出，盤中最低觸及958元，終場以958元作收，下跌22元或2.24％',\n",
       " '凱基投顧報告指出，周三大盤高點持續逼近月線壓力，但買盤仍無力追價，成交量急凍至近年新低水準，導致再度挑戰月線未果，不過，盤面上漲家數約占三分之二，有別前一日下跌家數約占七成，顯示盤面籌碼趨於穩定，而且盤中拉回尚能力守短期均線，技術面呈現價穩量縮走勢，有利短線持續挑戰月線，站上月線後就有機會進一步往上挑戰3月13日長黑高點22552點，站上22552點後就能完成底部型態，使反彈走勢進一步延伸',\n",
       " '凱基投顧表示，目前盤面類股輪動快速，因此，操作上仍不宜過度追價，但大盤底部型態持續醞釀，部分個股開始率先表態強攻，選股可優先聚焦具利多題材以及股價轉強收復均線壓力之強勢個股']"
      ]
     },
     "execution_count": 275,
     "metadata": {},
     "output_type": "execute_result"
    }
   ],
   "source": [
    "paragraphs = cut_paragraph(text)\n",
    "paragraphs"
   ]
  },
  {
   "cell_type": "code",
   "execution_count": 276,
   "metadata": {},
   "outputs": [
    {
     "data": {
      "text/plain": [
       "'美國總統川普準備徵收汽車關稅，美股主要指數全數下跌，台積電重挫4.09%，台積電台北現股今日早盤以961元開出後失守960價位，終場收在958元，下跌22元或2.24%；台股以22093點開出後失守22000關卡，收盤以21951點作收，下跌308點。川普已經正式宣布，將對所有不在美國製造的汽車徵收25%的進口稅，美股四大指數下跌，費城半導體指數下滑3.27%，台積電ADR收盤大跌4.09%，報每股173.50美元，換算並折合台幣後是每股1,148.15元，較台北交易股票溢價率為17.16%。台股今早盤以22093點開出後，盤中失守22000點關卡，最低觸及21919點，收盤以21951點作收，下跌308點；台積電以961元開出，盤中最低觸及958元，終場以958元作收，下跌22元或2.24％。凱基投顧報告指出，周三大盤高點持續逼近月線壓力，但買盤仍無力追價，成交量急凍至近年新低水準，導致再度挑戰月線未果，不過，盤面上漲家數約占三分之二，有別前一日下跌家數約占七成，顯示盤面籌碼趨於穩定，而且盤中拉回尚能力守短期均線，技術面呈現價穩量縮走勢，有利短線持續挑戰月線，站上月線後就有機會進一步往上挑戰3月13日長黑高點22552點，站上22552點後就能完成底部型態，使反彈走勢進一步延伸。凱基投顧表示，目前盤面類股輪動快速，因此，操作上仍不宜過度追價，但大盤底部型態持續醞釀，部分個股開始率先表態強攻，選股可優先聚焦具利多題材以及股價轉強收復均線壓力之強勢個股。'"
      ]
     },
     "execution_count": 276,
     "metadata": {},
     "output_type": "execute_result"
    }
   ],
   "source": [
    "text"
   ]
  },
  {
   "cell_type": "code",
   "execution_count": 277,
   "metadata": {},
   "outputs": [
    {
     "data": {
      "text/plain": [
       "['美國總統川普準備徵收汽車關稅，美股主要指數全數下跌，台積電重挫4.09%，台積電台北現股今日早盤以961元開出後失守960價位，終場收在958元，下跌22元或2.24%；台股以22093點開出後失守22000關卡，收盤以21951點作收，下跌308點',\n",
       " '川普已經正式宣布，將對所有不在美國製造的汽車徵收25%的進口稅，美股四大指數下跌，費城半導體指數下滑3.27%，台積電ADR收盤大跌4.09%，報每股173.50美元，換算並折合台幣後是每股1,148.15元，較台北交易股票溢價率為17.16%',\n",
       " '台股今早盤以22093點開出後，盤中失守22000點關卡，最低觸及21919點，收盤以21951點作收，下跌308點；台積電以961元開出，盤中最低觸及958元，終場以958元作收，下跌22元或2.24％',\n",
       " '凱基投顧報告指出，周三大盤高點持續逼近月線壓力，但買盤仍無力追價，成交量急凍至近年新低水準，導致再度挑戰月線未果，不過，盤面上漲家數約占三分之二，有別前一日下跌家數約占七成，顯示盤面籌碼趨於穩定，而且盤中拉回尚能力守短期均線，技術面呈現價穩量縮走勢，有利短線持續挑戰月線，站上月線後就有機會進一步往上挑戰3月13日長黑高點22552點，站上22552點後就能完成底部型態，使反彈走勢進一步延伸',\n",
       " '凱基投顧表示，目前盤面類股輪動快速，因此，操作上仍不宜過度追價，但大盤底部型態持續醞釀，部分個股開始率先表態強攻，選股可優先聚焦具利多題材以及股價轉強收復均線壓力之強勢個股',\n",
       " '']"
      ]
     },
     "execution_count": 277,
     "metadata": {},
     "output_type": "execute_result"
    }
   ],
   "source": [
    "text.split('。')\n"
   ]
  },
  {
   "cell_type": "code",
   "execution_count": 278,
   "metadata": {},
   "outputs": [
    {
     "data": {
      "text/plain": [
       "['美國總統川普準備徵收汽車關稅，美股主要指數全數下跌，台積電重挫4.09%，台積電台北現股今日早盤以961元開出後失守960價位，終場收在958元，下跌22元或2.24%；台股以22093點開出後失守22000關卡，收盤以21951點作收，下跌308點',\n",
       " '川普已經正式宣布，將對所有不在美國製造的汽車徵收25%的進口稅，美股四大指數下跌，費城半導體指數下滑3.27%，台積電ADR收盤大跌4.09%，報每股173.50美元，換算並折合台幣後是每股1,148.15元，較台北交易股票溢價率為17.16%',\n",
       " '台股今早盤以22093點開出後，盤中失守22000點關卡，最低觸及21919點，收盤以21951點作收，下跌308點；台積電以961元開出，盤中最低觸及958元，終場以958元作收，下跌22元或2.24％',\n",
       " '凱基投顧報告指出，周三大盤高點持續逼近月線壓力，但買盤仍無力追價，成交量急凍至近年新低水準，導致再度挑戰月線未果，不過，盤面上漲家數約占三分之二，有別前一日下跌家數約占七成，顯示盤面籌碼趨於穩定，而且盤中拉回尚能力守短期均線，技術面呈現價穩量縮走勢，有利短線持續挑戰月線，站上月線後就有機會進一步往上挑戰3月13日長黑高點22552點，站上22552點後就能完成底部型態，使反彈走勢進一步延伸',\n",
       " '凱基投顧表示，目前盤面類股輪動快速，因此，操作上仍不宜過度追價，但大盤底部型態持續醞釀，部分個股開始率先表態強攻，選股可優先聚焦具利多題材以及股價轉強收復均線壓力之強勢個股']"
      ]
     },
     "execution_count": 278,
     "metadata": {},
     "output_type": "execute_result"
    }
   ],
   "source": [
    "paragraphs = text.split('。')\n",
    "list(filter(None, paragraphs))\n"
   ]
  },
  {
   "cell_type": "code",
   "execution_count": 279,
   "metadata": {},
   "outputs": [
    {
     "data": {
      "text/plain": [
       "['美國總統川普準備徵收汽車關稅，美股主要指數全數下跌，台積電重挫4.09%，台積電台北現股今日早盤以961元開出後失守960價位，終場收在958元，下跌22元或2.24%；台股以22093點開出後失守22000關卡，收盤以21951點作收，下跌308點',\n",
       " '川普已經正式宣布，將對所有不在美國製造的汽車徵收25%的進口稅，美股四大指數下跌，費城半導體指數下滑3.27%，台積電ADR收盤大跌4.09%，報每股173.50美元，換算並折合台幣後是每股1,148.15元，較台北交易股票溢價率為17.16%',\n",
       " '台股今早盤以22093點開出後，盤中失守22000點關卡，最低觸及21919點，收盤以21951點作收，下跌308點；台積電以961元開出，盤中最低觸及958元，終場以958元作收，下跌22元或2.24％',\n",
       " '凱基投顧報告指出，周三大盤高點持續逼近月線壓力，但買盤仍無力追價，成交量急凍至近年新低水準，導致再度挑戰月線未果，不過，盤面上漲家數約占三分之二，有別前一日下跌家數約占七成，顯示盤面籌碼趨於穩定，而且盤中拉回尚能力守短期均線，技術面呈現價穩量縮走勢，有利短線持續挑戰月線，站上月線後就有機會進一步往上挑戰3月13日長黑高點22552點，站上22552點後就能完成底部型態，使反彈走勢進一步延伸',\n",
       " '凱基投顧表示，目前盤面類股輪動快速，因此，操作上仍不宜過度追價，但大盤底部型態持續醞釀，部分個股開始率先表態強攻，選股可優先聚焦具利多題材以及股價轉強收復均線壓力之強勢個股',\n",
       " '']"
      ]
     },
     "execution_count": 279,
     "metadata": {},
     "output_type": "execute_result"
    }
   ],
   "source": [
    "re.split('[。！!？?]', text) # regular expression 正規式 正則式"
   ]
  },
  {
   "cell_type": "markdown",
   "metadata": {},
   "source": [
    "### How to cut paragraph? \n",
    "\n",
    "    (1) Approach 1:\n",
    "    string.split() (it does not support regex)\n",
    "\n",
    "    (2)Approach 2:\n",
    "    Use regular expression正規式 re.split() \n",
    "    re.split() works fine\n",
    "\n",
    "Simpe example to demonstrate the usage of re.split()"
   ]
  },
  {
   "cell_type": "code",
   "execution_count": 280,
   "metadata": {},
   "outputs": [
    {
     "data": {
      "text/plain": [
       "['這是第1句話', '這是第2句話?這是第3句話', '']"
      ]
     },
     "execution_count": 280,
     "metadata": {},
     "output_type": "execute_result"
    }
   ],
   "source": [
    "# Use string split().  It does not support regex.\n",
    "# Split stentence using delimiter or separator '。'\n",
    "\n",
    "text = '這是第1句話。這是第2句話?這是第3句話。'\n",
    "text.split('。')"
   ]
  },
  {
   "cell_type": "code",
   "execution_count": 281,
   "metadata": {},
   "outputs": [
    {
     "data": {
      "text/plain": [
       "['這是第1句話。這是第2句話?這是第3句話。']"
      ]
     },
     "execution_count": 281,
     "metadata": {},
     "output_type": "execute_result"
    }
   ],
   "source": [
    "# It doesn't work. string split() method does not support regex\n",
    "text.split('[。?]')"
   ]
  },
  {
   "cell_type": "code",
   "execution_count": 282,
   "metadata": {},
   "outputs": [],
   "source": [
    "import re"
   ]
  },
  {
   "cell_type": "code",
   "execution_count": 283,
   "metadata": {},
   "outputs": [
    {
     "data": {
      "text/plain": [
       "['這是第1句話', '這是，第2句話?這是--第3句話', '']"
      ]
     },
     "execution_count": 283,
     "metadata": {},
     "output_type": "execute_result"
    }
   ],
   "source": [
    "re.split('。', \"這是第1句話。這是，第2句話?這是--第3句話。\")"
   ]
  },
  {
   "cell_type": "code",
   "execution_count": 284,
   "metadata": {},
   "outputs": [],
   "source": [
    "# 如果納入多個符號去切割，必須用regular expression\n",
    "# Here, [abc] will match if the string you are trying to match contains any of the a, b or c . \n",
    "# You can also specify a range of characters using - inside square brackets. [a-e] is the same as [abcde] . [1-4] is the same as [1234] .\n"
   ]
  },
  {
   "cell_type": "code",
   "execution_count": 285,
   "metadata": {},
   "outputs": [
    {
     "data": {
      "text/plain": [
       "['這是第1句話', '這是，第2句話', '這是--第3句話', '']"
      ]
     },
     "execution_count": 285,
     "metadata": {},
     "output_type": "execute_result"
    }
   ],
   "source": [
    "# separator:。 ?\n",
    "re.split('[。?]', \"這是第1句話。這是，第2句話?這是--第3句話。\")"
   ]
  },
  {
   "cell_type": "code",
   "execution_count": 286,
   "metadata": {},
   "outputs": [
    {
     "data": {
      "text/plain": [
       "['這是第1句話', '這是，第2句話', '這是--第3句話', '']"
      ]
     },
     "execution_count": 286,
     "metadata": {},
     "output_type": "execute_result"
    }
   ],
   "source": [
    "# \"|\" means or 可以加上｜去分隔開來，特別適用於當切割符號是由多個字組成時。\n",
    "# separator:。 ?\n",
    "re.split(r'[。|?]', \"這是第1句話。這是，第2句話?這是--第3句話。\")"
   ]
  },
  {
   "cell_type": "code",
   "execution_count": 287,
   "metadata": {},
   "outputs": [
    {
     "data": {
      "text/plain": [
       "['這', '第1', '', '。這', '，第2', '', '?這', '--第3', '', '。']"
      ]
     },
     "execution_count": 287,
     "metadata": {},
     "output_type": "execute_result"
    }
   ],
   "source": [
    "# \"|\" means or\n",
    "# separator:。 ?\n",
    "re.split('[句話|是]', \"這是第1句話。這是，第2句話?這是--第3句話。\")"
   ]
  },
  {
   "cell_type": "markdown",
   "metadata": {},
   "source": [
    "#### How to remove the empty elements?"
   ]
  },
  {
   "cell_type": "code",
   "execution_count": 288,
   "metadata": {},
   "outputs": [],
   "source": [
    "# Do you notice the last element is an empty string?"
   ]
  },
  {
   "cell_type": "code",
   "execution_count": 289,
   "metadata": {},
   "outputs": [],
   "source": [
    "result = re.split(r'[。?]', \"這是第1句話。這是，第2句話?這是--第3句話。\")"
   ]
  },
  {
   "cell_type": "code",
   "execution_count": 290,
   "metadata": {},
   "outputs": [
    {
     "data": {
      "text/plain": [
       "<filter at 0x2ab85d7c310>"
      ]
     },
     "execution_count": 290,
     "metadata": {},
     "output_type": "execute_result"
    }
   ],
   "source": [
    "# Using Python filter function\n",
    "filter(None, result)"
   ]
  },
  {
   "cell_type": "code",
   "execution_count": 291,
   "metadata": {},
   "outputs": [
    {
     "data": {
      "text/plain": [
       "['這是第1句話', '這是，第2句話', '這是--第3句話']"
      ]
     },
     "execution_count": 291,
     "metadata": {},
     "output_type": "execute_result"
    }
   ],
   "source": [
    "list(filter(None, result))"
   ]
  },
  {
   "cell_type": "code",
   "execution_count": 292,
   "metadata": {},
   "outputs": [
    {
     "data": {
      "text/plain": [
       "['這是第1句話', '這是，第2句話', '這是--第3句話']"
      ]
     },
     "execution_count": 292,
     "metadata": {},
     "output_type": "execute_result"
    }
   ],
   "source": [
    "# An alternative way\n",
    "[item for item in result if item]"
   ]
  },
  {
   "cell_type": "code",
   "execution_count": null,
   "metadata": {},
   "outputs": [],
   "source": []
  },
  {
   "cell_type": "markdown",
   "metadata": {},
   "source": [
    "## Step 2: Find paragraphs containing keywords"
   ]
  },
  {
   "cell_type": "markdown",
   "metadata": {},
   "source": [
    "### All-in-one function"
   ]
  },
  {
   "cell_type": "code",
   "execution_count": 293,
   "metadata": {},
   "outputs": [],
   "source": [
    "import re\n",
    "# Find out all paragraphs where multiple keywords occur.\n",
    "def get_same_para(df_query, user_keywords, cond, k=30):\n",
    "    same_para=[]\n",
    "    for text in df_query.content:\n",
    "        #print(text)\n",
    "        paragraphs = cut_paragraph(text)\n",
    "        for para in paragraphs:\n",
    "            para += \"。\"  # 在每段落文字後面加一個句號。\n",
    "            # 判斷每個段落文字是否包含該關鍵字，and or分開判斷\n",
    "            if cond == 'and':\n",
    "                if all([kw in para for kw in user_keywords]):\n",
    "                    same_para.append(para)  # 符合條件的段落para保存起來\n",
    "            elif cond == 'or':\n",
    "                if any([kw in para for kw in user_keywords]):\n",
    "                    same_para.append(para)  # 符合條件的段落para保存起來\n",
    "    return same_para[0:k]\n"
   ]
  },
  {
   "cell_type": "code",
   "execution_count": 294,
   "metadata": {},
   "outputs": [],
   "source": [
    "user_keywords = ['美股','台股']\n",
    "cond='and'\n",
    "cate='全部'\n",
    "weeks=2\n",
    "df_query = filter_dataFrame_fullText(user_keywords, cond, cate, weeks)"
   ]
  },
  {
   "cell_type": "code",
   "execution_count": 295,
   "metadata": {},
   "outputs": [
    {
     "data": {
      "text/plain": [
       "3"
      ]
     },
     "execution_count": 295,
     "metadata": {},
     "output_type": "execute_result"
    }
   ],
   "source": [
    "len(df_query)"
   ]
  },
  {
   "cell_type": "code",
   "execution_count": 296,
   "metadata": {},
   "outputs": [
    {
     "data": {
      "text/plain": [
       "['美國總統川普準備徵收汽車關稅，美股主要指數全數下跌，台積電重挫4.09%，台積電台北現股今日早盤以961元開出後失守960價位，終場收在958元，下跌22元或2.24%；台股以22093點開出後失守22000關卡，收盤以21951點作收，下跌308點。',\n",
       " '蘇皓毅強調，川普政策反覆，投資人不要輕易受市場過度悲觀或樂觀情緒左右，在經濟維持一定韌性下，股市回檔，反而是入場門票，而台股自3月11日跌破年線後，目前仍在挑戰年線關卡，短期台股亦將受美股牽動而呈現震盪徘徊走勢。',\n",
       " '蘇皓毅提到，今年投資主流仍是受惠AI題材的台股、美股兩大市場，台股不論是上游晶片、中游組裝到下游應用等AI相關供應鏈皆持續看好；而由輝達領軍帶動AI革命的美股，則預期標普500將由以往的七巨頭領漲擴散至更多相關產業個股。',\n",
       " '摩爾證券投顧分析師林漢偉表示，今日台股跳空下跌反映美股昨日重挫，算是合理表現，量能因賣壓回溫，約落在2700億元，不過今日開低走高難度高，若能留住150點的下影線就非常強勢了。']"
      ]
     },
     "execution_count": 296,
     "metadata": {},
     "output_type": "execute_result"
    }
   ],
   "source": [
    "get_same_para(df_query, user_keywords, 'and', k=10)"
   ]
  },
  {
   "cell_type": "markdown",
   "metadata": {},
   "source": [
    "### Step by step demonstration"
   ]
  },
  {
   "cell_type": "code",
   "execution_count": 297,
   "metadata": {},
   "outputs": [
    {
     "data": {
      "text/html": [
       "<div>\n",
       "<style scoped>\n",
       "    .dataframe tbody tr th:only-of-type {\n",
       "        vertical-align: middle;\n",
       "    }\n",
       "\n",
       "    .dataframe tbody tr th {\n",
       "        vertical-align: top;\n",
       "    }\n",
       "\n",
       "    .dataframe thead th {\n",
       "        text-align: right;\n",
       "    }\n",
       "</style>\n",
       "<table border=\"1\" class=\"dataframe\">\n",
       "  <thead>\n",
       "    <tr style=\"text-align: right;\">\n",
       "      <th></th>\n",
       "      <th>item_id</th>\n",
       "      <th>date</th>\n",
       "      <th>category</th>\n",
       "      <th>title</th>\n",
       "      <th>content</th>\n",
       "      <th>sentiment</th>\n",
       "      <th>summary</th>\n",
       "      <th>top_key_freq</th>\n",
       "      <th>tokens</th>\n",
       "      <th>tokens_v2</th>\n",
       "      <th>entities</th>\n",
       "      <th>token_pos</th>\n",
       "      <th>link</th>\n",
       "      <th>photo_link</th>\n",
       "    </tr>\n",
       "  </thead>\n",
       "  <tbody>\n",
       "    <tr>\n",
       "      <th>0</th>\n",
       "      <td>_20250327_1</td>\n",
       "      <td>2025-03-27</td>\n",
       "      <td>焦點</td>\n",
       "      <td>台股重挫308點 失守22000關卡</td>\n",
       "      <td>美國總統川普準備徵收汽車關稅，美股主要指數全數下跌，台積電重挫4.09%，台積電台北現股今日...</td>\n",
       "      <td>暫無</td>\n",
       "      <td>暫無</td>\n",
       "      <td>[('台積電', 4), ('指數', 3), ('月線', 3), ('美國', 2), ...</td>\n",
       "      <td>['美國', '總統', '川普', '準備', '徵收', '汽車', '關稅', '，'...</td>\n",
       "      <td>['美國', '總統', '川普', '汽車', '關稅', '美股', '指數', '台積...</td>\n",
       "      <td>[NerToken(word='美國', ner='GPE', idx=(0, 2)), N...</td>\n",
       "      <td>[('美國', 'Nc'), ('總統', 'Na'), ('川普', 'Nb'), ('準...</td>\n",
       "      <td>https://tw.news.yahoo.com/https://tw.stock.yah...</td>\n",
       "      <td>https://s.yimg.com/ny/api/res/1.2/3qEveVGKp070...</td>\n",
       "    </tr>\n",
       "  </tbody>\n",
       "</table>\n",
       "</div>"
      ],
      "text/plain": [
       "       item_id        date category               title  \\\n",
       "0  _20250327_1  2025-03-27       焦點  台股重挫308點 失守22000關卡   \n",
       "\n",
       "                                             content sentiment summary  \\\n",
       "0  美國總統川普準備徵收汽車關稅，美股主要指數全數下跌，台積電重挫4.09%，台積電台北現股今日...        暫無      暫無   \n",
       "\n",
       "                                        top_key_freq  \\\n",
       "0  [('台積電', 4), ('指數', 3), ('月線', 3), ('美國', 2), ...   \n",
       "\n",
       "                                              tokens  \\\n",
       "0  ['美國', '總統', '川普', '準備', '徵收', '汽車', '關稅', '，'...   \n",
       "\n",
       "                                           tokens_v2  \\\n",
       "0  ['美國', '總統', '川普', '汽車', '關稅', '美股', '指數', '台積...   \n",
       "\n",
       "                                            entities  \\\n",
       "0  [NerToken(word='美國', ner='GPE', idx=(0, 2)), N...   \n",
       "\n",
       "                                           token_pos  \\\n",
       "0  [('美國', 'Nc'), ('總統', 'Na'), ('川普', 'Nb'), ('準...   \n",
       "\n",
       "                                                link  \\\n",
       "0  https://tw.news.yahoo.com/https://tw.stock.yah...   \n",
       "\n",
       "                                          photo_link  \n",
       "0  https://s.yimg.com/ny/api/res/1.2/3qEveVGKp070...  "
      ]
     },
     "execution_count": 297,
     "metadata": {},
     "output_type": "execute_result"
    }
   ],
   "source": [
    "df_query.head(1)"
   ]
  },
  {
   "cell_type": "code",
   "execution_count": 298,
   "metadata": {},
   "outputs": [
    {
     "data": {
      "text/plain": [
       "'美國總統川普準備徵收汽車關稅，美股主要指數全數下跌，台積電重挫4.09%，台積電台北現股今日早盤以961元開出後失守960價位，終場收在958元，下跌22元或2.24%；台股以22093點開出後失守22000關卡，收盤以21951點作收，下跌308點。川普已經正式宣布，將對所有不在美國製造的汽車徵收25%的進口稅，美股四大指數下跌，費城半導體指數下滑3.27%，台積電ADR收盤大跌4.09%，報每股173.50美元，換算並折合台幣後是每股1,148.15元，較台北交易股票溢價率為17.16%。台股今早盤以22093點開出後，盤中失守22000點關卡，最低觸及21919點，收盤以21951點作收，下跌308點；台積電以961元開出，盤中最低觸及958元，終場以958元作收，下跌22元或2.24％。凱基投顧報告指出，周三大盤高點持續逼近月線壓力，但買盤仍無力追價，成交量急凍至近年新低水準，導致再度挑戰月線未果，不過，盤面上漲家數約占三分之二，有別前一日下跌家數約占七成，顯示盤面籌碼趨於穩定，而且盤中拉回尚能力守短期均線，技術面呈現價穩量縮走勢，有利短線持續挑戰月線，站上月線後就有機會進一步往上挑戰3月13日長黑高點22552點，站上22552點後就能完成底部型態，使反彈走勢進一步延伸。凱基投顧表示，目前盤面類股輪動快速，因此，操作上仍不宜過度追價，但大盤底部型態持續醞釀，部分個股開始率先表態強攻，選股可優先聚焦具利多題材以及股價轉強收復均線壓力之強勢個股。'"
      ]
     },
     "execution_count": 298,
     "metadata": {},
     "output_type": "execute_result"
    }
   ],
   "source": [
    "text = df_query.content.iloc[0]\n",
    "text"
   ]
  },
  {
   "cell_type": "code",
   "execution_count": 299,
   "metadata": {},
   "outputs": [
    {
     "data": {
      "text/plain": [
       "['美國總統川普準備徵收汽車關稅，美股主要指數全數下跌，台積電重挫4.09%，台積電台北現股今日早盤以961元開出後失守960價位，終場收在958元，下跌22元或2.24%；台股以22093點開出後失守22000關卡，收盤以21951點作收，下跌308點',\n",
       " '川普已經正式宣布，將對所有不在美國製造的汽車徵收25%的進口稅，美股四大指數下跌，費城半導體指數下滑3.27%，台積電ADR收盤大跌4.09%，報每股173.50美元，換算並折合台幣後是每股1,148.15元，較台北交易股票溢價率為17.16%',\n",
       " '台股今早盤以22093點開出後，盤中失守22000點關卡，最低觸及21919點，收盤以21951點作收，下跌308點；台積電以961元開出，盤中最低觸及958元，終場以958元作收，下跌22元或2.24％',\n",
       " '凱基投顧報告指出，周三大盤高點持續逼近月線壓力，但買盤仍無力追價，成交量急凍至近年新低水準，導致再度挑戰月線未果，不過，盤面上漲家數約占三分之二，有別前一日下跌家數約占七成，顯示盤面籌碼趨於穩定，而且盤中拉回尚能力守短期均線，技術面呈現價穩量縮走勢，有利短線持續挑戰月線，站上月線後就有機會進一步往上挑戰3月13日長黑高點22552點，站上22552點後就能完成底部型態，使反彈走勢進一步延伸',\n",
       " '凱基投顧表示，目前盤面類股輪動快速，因此，操作上仍不宜過度追價，但大盤底部型態持續醞釀，部分個股開始率先表態強攻，選股可優先聚焦具利多題材以及股價轉強收復均線壓力之強勢個股']"
      ]
     },
     "execution_count": 299,
     "metadata": {},
     "output_type": "execute_result"
    }
   ],
   "source": [
    "paragraphs = cut_paragraph(text)\n",
    "paragraphs"
   ]
  },
  {
   "cell_type": "code",
   "execution_count": 314,
   "metadata": {},
   "outputs": [
    {
     "data": {
      "text/plain": [
       "['美國總統川普準備徵收汽車關稅，美股主要指數全數下跌，台積電重挫4.09%，台積電台北現股今日早盤以961元開出後失守960價位，終場收在958元，下跌22元或2.24%；台股以22093點開出後失守22000關卡，收盤以21951點作收，下跌308點。']"
      ]
     },
     "execution_count": 314,
     "metadata": {},
     "output_type": "execute_result"
    }
   ],
   "source": [
    "# Find out all paragraphs where multiple keywords occur.\n",
    "user_keywords = ['美股','台股']\n",
    "cond='and'\n",
    "same_para=[] # 存放含有關鍵字的段落\n",
    "for para in paragraphs:\n",
    "    para += \"。\" # 在每段落文字後面加一個句號。\n",
    "    # 判斷每個段落文字是否包含該關鍵字，and or分開判斷\n",
    "    if cond=='and': \n",
    "        if all([kw in para for kw in user_keywords]):\n",
    "            same_para.append(para) # 符合條件的段落para保存起來\n",
    "    elif cond=='or':\n",
    "        if any([kw in para for kw in user_keywords]):\n",
    "            same_para.append(para)  # 符合條件的段落para保存起來\n",
    "same_para\n"
   ]
  },
  {
   "cell_type": "markdown",
   "metadata": {},
   "source": [
    "### multiple words in text (easier way)"
   ]
  },
  {
   "cell_type": "code",
   "execution_count": 321,
   "metadata": {},
   "outputs": [],
   "source": [
    "para = '美國總統川普準備徵收汽車關稅，美股主要指數全數下跌，台積電重挫4.09%，台積電台北現股今日早盤以961元開出後失守960價位，終場收在958元，下跌22元或2.24%；台股以22093點開出後失守22000關卡，收盤以21951點作收，下跌308點。'"
   ]
  },
  {
   "cell_type": "code",
   "execution_count": 322,
   "metadata": {},
   "outputs": [],
   "source": [
    "user_keywords = ['美股','台股']"
   ]
  },
  {
   "cell_type": "code",
   "execution_count": 323,
   "metadata": {},
   "outputs": [
    {
     "data": {
      "text/plain": [
       "True"
      ]
     },
     "execution_count": 323,
     "metadata": {},
     "output_type": "execute_result"
    }
   ],
   "source": [
    "any([kw in para for kw in user_keywords])\n"
   ]
  },
  {
   "cell_type": "code",
   "execution_count": 324,
   "metadata": {},
   "outputs": [
    {
     "data": {
      "text/plain": [
       "True"
      ]
     },
     "execution_count": 324,
     "metadata": {},
     "output_type": "execute_result"
    }
   ],
   "source": [
    "all([kw in para for kw in user_keywords])\n"
   ]
  },
  {
   "cell_type": "code",
   "execution_count": 325,
   "metadata": {},
   "outputs": [],
   "source": [
    "user_keywords = ['美國','川普']"
   ]
  },
  {
   "cell_type": "code",
   "execution_count": 326,
   "metadata": {},
   "outputs": [
    {
     "data": {
      "text/plain": [
       "True"
      ]
     },
     "execution_count": 326,
     "metadata": {},
     "output_type": "execute_result"
    }
   ],
   "source": [
    "any([kw in para for kw in user_keywords])\n"
   ]
  },
  {
   "cell_type": "code",
   "execution_count": 327,
   "metadata": {},
   "outputs": [
    {
     "data": {
      "text/plain": [
       "True"
      ]
     },
     "execution_count": 327,
     "metadata": {},
     "output_type": "execute_result"
    }
   ],
   "source": [
    "all([kw in para for kw in user_keywords])\n"
   ]
  },
  {
   "cell_type": "markdown",
   "metadata": {},
   "source": [
    "### re.search(): An alternative way"
   ]
  },
  {
   "cell_type": "code",
   "execution_count": 328,
   "metadata": {},
   "outputs": [
    {
     "data": {
      "text/plain": [
       "['美國總統川普準備徵收汽車關稅，美股主要指數全數下跌，台積電重挫4.09%，台積電台北現股今日早盤以961元開出後失守960價位，終場收在958元，下跌22元或2.24%；台股以22093點開出後失守22000關卡，收盤以21951點作收，下跌308點。']"
      ]
     },
     "execution_count": 328,
     "metadata": {},
     "output_type": "execute_result"
    }
   ],
   "source": [
    "# An alternative way for advanced users: using re.seach()\n",
    "# Alternative approach using re.search() for reference\n",
    "user_keywords = ['美股','台股']\n",
    "cond='and'\n",
    "same_para=[] # 存放含有關鍵字的段落\n",
    "for para in paragraphs:\n",
    "    para += \"。\"\n",
    "    if cond=='and':\n",
    "        if all([re.search(kw, para) for kw in user_keywords]):\n",
    "            same_para.append(para)\n",
    "    elif cond=='or':\n",
    "        if any([re.search(kw, para) for kw in user_keywords]):\n",
    "            same_para.append(para)\n",
    "same_para\n"
   ]
  },
  {
   "cell_type": "code",
   "execution_count": 332,
   "metadata": {},
   "outputs": [],
   "source": [
    "key = ['美股','台股']"
   ]
  },
  {
   "cell_type": "code",
   "execution_count": 333,
   "metadata": {},
   "outputs": [
    {
     "data": {
      "text/plain": [
       "False"
      ]
     },
     "execution_count": 333,
     "metadata": {},
     "output_type": "execute_result"
    }
   ],
   "source": [
    "any([re.search(kw, text) for kw in user_keywords])"
   ]
  },
  {
   "cell_type": "code",
   "execution_count": 312,
   "metadata": {},
   "outputs": [
    {
     "data": {
      "text/plain": [
       "False"
      ]
     },
     "execution_count": 312,
     "metadata": {},
     "output_type": "execute_result"
    }
   ],
   "source": [
    "all([re.search(kw, text) for kw in user_keywords])"
   ]
  },
  {
   "cell_type": "code",
   "execution_count": null,
   "metadata": {},
   "outputs": [],
   "source": []
  },
  {
   "cell_type": "markdown",
   "metadata": {},
   "source": [
    "# views.py in Django website"
   ]
  },
  {
   "cell_type": "markdown",
   "metadata": {},
   "source": [
    "To save memory, we just import df from the other app as follows.\n",
    "from app_user_keyword.views import df"
   ]
  },
  {
   "cell_type": "code",
   "execution_count": 313,
   "metadata": {},
   "outputs": [
    {
     "ename": "ModuleNotFoundError",
     "evalue": "No module named 'app_user_keyword'",
     "output_type": "error",
     "traceback": [
      "\u001b[1;31m---------------------------------------------------------------------------\u001b[0m",
      "\u001b[1;31mModuleNotFoundError\u001b[0m                       Traceback (most recent call last)",
      "Cell \u001b[1;32mIn[313], line 28\u001b[0m\n\u001b[0;32m     21\u001b[0m     df \u001b[38;5;241m=\u001b[39m pd\u001b[38;5;241m.\u001b[39mread_csv(\u001b[38;5;124m'\u001b[39m\u001b[38;5;124mapp_user_keyword/dataset/cna_news_preprocessed.csv\u001b[39m\u001b[38;5;124m'\u001b[39m, sep\u001b[38;5;241m=\u001b[39m\u001b[38;5;124m'\u001b[39m\u001b[38;5;124m|\u001b[39m\u001b[38;5;124m'\u001b[39m)\n\u001b[0;32m     23\u001b[0m \u001b[38;5;66;03m# (3) df can be import from app_user_keyword 隔壁app的變數\u001b[39;00m\n\u001b[0;32m     24\u001b[0m \u001b[38;5;66;03m# To save memory, we just import df from the other app as follows.\u001b[39;00m\n\u001b[0;32m     25\u001b[0m \u001b[38;5;66;03m# from app_user_keyword.views import df\u001b[39;00m\n\u001b[0;32m     26\u001b[0m \n\u001b[0;32m     27\u001b[0m \u001b[38;5;66;03m# (4) df can be import from app_user_keyword  隔壁app的變數\u001b[39;00m\n\u001b[1;32m---> 28\u001b[0m \u001b[38;5;28;01mimport\u001b[39;00m \u001b[38;5;21;01mapp_user_keyword\u001b[39;00m\u001b[38;5;21;01m.\u001b[39;00m\u001b[38;5;21;01mviews\u001b[39;00m \u001b[38;5;28;01mas\u001b[39;00m \u001b[38;5;21;01muserkeyword_views\u001b[39;00m\n\u001b[0;32m     29\u001b[0m \u001b[38;5;28;01mdef\u001b[39;00m \u001b[38;5;21mload_df_data\u001b[39m():\n\u001b[0;32m     30\u001b[0m     \u001b[38;5;66;03m# import and use df from app_user_keyword \u001b[39;00m\n\u001b[0;32m     31\u001b[0m     \u001b[38;5;28;01mglobal\u001b[39;00m df \u001b[38;5;66;03m# global variable\u001b[39;00m\n",
      "\u001b[1;31mModuleNotFoundError\u001b[0m: No module named 'app_user_keyword'"
     ]
    }
   ],
   "source": [
    "from django.shortcuts import render\n",
    "from django.views.decorators.csrf import csrf_exempt\n",
    "from django.http import JsonResponse\n",
    "\n",
    "from datetime import datetime, timedelta\n",
    "import pandas as pd\n",
    "import math\n",
    "import re\n",
    "from collections import Counter\n",
    "\n",
    "# (1) we can load data using read_csv() 自己app的csv檔案\n",
    "# global variable\n",
    "# df = pd.read_csv('dataset/cna_news_preprocessed.csv', sep='|')\n",
    "\n",
    "\n",
    "# (2) we can load data using reload_df_data() function 隔壁app的csv檔案\n",
    "# global variable\n",
    "def load_df_data_v1():\n",
    "    # global variable\n",
    "    global  df\n",
    "    df = pd.read_csv('app_user_keyword/dataset/cna_news_preprocessed.csv', sep='|')\n",
    "\n",
    "# (3) df can be import from app_user_keyword 隔壁app的變數\n",
    "# To save memory, we just import df from the other app as follows.\n",
    "# from app_user_keyword.views import df\n",
    "\n",
    "# (4) df can be import from app_user_keyword  隔壁app的變數\n",
    "import app_user_keyword.views as userkeyword_views\n",
    "def load_df_data():\n",
    "    # import and use df from app_user_keyword \n",
    "    global df # global variable\n",
    "    df = userkeyword_views.df\n",
    "\n",
    "load_df_data()\n",
    "\n",
    "\n",
    "# For the key association analysis\n",
    "def home(request):\n",
    "    return render(request, 'app_user_keyword_association/home.html')\n",
    "\n",
    "# df_query should be global\n",
    "@csrf_exempt\n",
    "def api_get_userkey_associate(request):\n",
    "\n",
    "    userkey = request.POST.get('userkey')\n",
    "    cate = request.POST['cate']  # This is an alternative way to get POST data.\n",
    "    cond = request.POST.get('cond')\n",
    "    weeks = int(request.POST.get('weeks'))\n",
    "    key = userkey.split()\n",
    "\n",
    "    #global  df_query # global variable It's not necessary.\n",
    "\n",
    "    df_query = filter_dataFrame_fullText(key, cond, cate, weeks)\n",
    "    #print(key)\n",
    "    print(len(df_query))\n",
    "\n",
    "    if len(df_query) != 0:  # df_query is not empty\n",
    "        newslinks = get_title_link_topk(df_query, k=25)\n",
    "        related_words, clouddata = get_related_word_clouddata(df_query)\n",
    "        same_paragraph = get_same_para(\n",
    "            df_query, key, cond, k=30)  # multiple keywords\n",
    "        num_articles=len(df_query) # total number of articles (stories, items)\n",
    "\n",
    "    else:\n",
    "        newslinks = []\n",
    "        related_words = []\n",
    "        same_paragraph = []\n",
    "        clouddata = []\n",
    "        num_articles=0\n",
    "\n",
    "    response = {\n",
    "        'num_articles': num_articles,\n",
    "        'newslinks': newslinks,\n",
    "        'related_words': related_words,\n",
    "        'same_paragraph': same_paragraph,\n",
    "        'clouddata': clouddata,\n",
    "    }\n",
    "    return JsonResponse(response)\n",
    "\n",
    "\n",
    "# Searching keywords from \"content\" column\n",
    "# Here this function uses df.content column, while filter_dataFrame() uses df.tokens_v2\n",
    "def filter_dataFrame_fullText(user_keywords, cond, cate, weeks):\n",
    "\n",
    "    # end date: the date of the latest record of news\n",
    "    end_date = df.date.max()\n",
    "\n",
    "    # start date\n",
    "    start_date = (datetime.strptime(end_date, '%Y-%m-%d').date() -\n",
    "                  timedelta(weeks=weeks)).strftime('%Y-%m-%d')\n",
    "\n",
    "    # (1) proceed filtering: a duration of a period of time\n",
    "    # 期間條件\n",
    "    period_condition = (df.date >= start_date) & (df.date <= end_date)\n",
    "\n",
    "    # (2) proceed filtering: news category\n",
    "    # 新聞類別條件\n",
    "    if (cate == \"全部\"):\n",
    "        condition = period_condition  # \"全部\"類別不必過濾新聞種類\n",
    "    else:\n",
    "        # category新聞類別條件\n",
    "        condition = period_condition & (df.category == cate)\n",
    "\n",
    "    # (3) proceed filtering: news category\n",
    "    # and or 條件\n",
    "    if (cond == 'and'):\n",
    "        # query keywords condition使用者輸入關鍵字條件and\n",
    "        condition = condition & df.content.apply(lambda text: all(\n",
    "            (qk in text) for qk in user_keywords))  # 寫法:all()\n",
    "    elif (cond == 'or'):\n",
    "        # query keywords condition使用者輸入關鍵字條件\n",
    "        condition = condition & df.content.apply(lambda text: any(\n",
    "            (qk in text) for qk in user_keywords))  # 寫法:any()\n",
    "    # condiction is a list of True or False boolean value\n",
    "    df_query = df[condition]\n",
    "\n",
    "    return df_query\n",
    "\n",
    "\n",
    "# get titles and links from k pieces of news \n",
    "def get_title_link_topk(df_query, k=25):\n",
    "    items = []\n",
    "    for i in range( len(df_query[0:k]) ): # show only 10 news\n",
    "        category = df_query.iloc[i]['category']\n",
    "        title = df_query.iloc[i]['title']\n",
    "        link = df_query.iloc[i]['link']\n",
    "        photo_link = df_query.iloc[i]['photo_link']\n",
    "        # if photo_link value is NaN, replace it with empty string \n",
    "        if pd.isna(photo_link):\n",
    "            photo_link=''\n",
    "        \n",
    "        item_info = {\n",
    "            'category': category, \n",
    "            'title': title, \n",
    "            'link': link, \n",
    "            'photo_link': photo_link\n",
    "        }\n",
    "\n",
    "        items.append(item_info)\n",
    "    return items \n",
    "\n",
    "# Get related keywords by counting the top keywords of each news.\n",
    "# Notice:  do not name function as  \"get_related_keys\",\n",
    "# because this name is used in Django\n",
    "def get_related_word_clouddata(df_query):\n",
    "\n",
    "    # wf_pairs = get_related_words(df_query)\n",
    "    # prepare wf pairs \n",
    "    counter=Counter()\n",
    "    for idx in range(len(df_query)):\n",
    "        pair_dict = dict(eval(df_query.iloc[idx].top_key_freq))\n",
    "        counter += Counter(pair_dict)\n",
    "    wf_pairs = counter.most_common(20) #return list format\n",
    "\n",
    "    # cloud chart data\n",
    "    # the minimum and maximum frequency of top words\n",
    "    min_ = wf_pairs[-1][1]  # the last line is smaller\n",
    "    max_ = wf_pairs[0][1]\n",
    "    # text size based on the value of word frequency for drawing cloud chart\n",
    "    textSizeMin = 20\n",
    "    textSizeMax = 120\n",
    "    # Scaling frequency value into an interval of from 20 to 120.\n",
    "    clouddata = [{'text': w, 'size': int(textSizeMin + (f - min_) / (max_ - min_) * (textSizeMax - textSizeMin))}\n",
    "                 for w, f in wf_pairs]\n",
    "\n",
    "    return   wf_pairs, clouddata \n",
    "\n",
    "\n",
    "# Step1: split paragraphs in text 先將文章切成一個段落一個段落\n",
    "def cut_paragraph(text):\n",
    "    paragraphs = text.split('。')  # 遇到句號就切開\n",
    "    #paragraphs = re.split('。', text) # 遇到句號就切開\n",
    "    #paragraphs = re.split('[。！!？?]', text) # 遇到句號(也納入問號、驚嘆號、分號等)就切開\n",
    "    paragraphs = list(filter(None, paragraphs))\n",
    "    return paragraphs\n",
    "\n",
    "# Step2: Select all paragraphs where multiple keywords occur.\n",
    "\n",
    "\n",
    "def get_same_para(df_query, user_keywords, cond, k=30):\n",
    "    same_para = []\n",
    "    for text in df_query.content:\n",
    "        #print(text)\n",
    "        paragraphs = cut_paragraph(text)\n",
    "        for para in paragraphs:\n",
    "            para += \"。\"\n",
    "            if cond == 'and':\n",
    "                if all([re.search(kw, para) for kw in user_keywords]):\n",
    "                    same_para.append(para)\n",
    "            elif cond == 'or':\n",
    "                if any([re.search(kw, para) for kw in user_keywords]):\n",
    "                    same_para.append(para)\n",
    "    return same_para[0:k]\n",
    "\n",
    "\n",
    "    \n",
    "print(\"app_user_keyword_association was loaded!\")\n"
   ]
  },
  {
   "cell_type": "code",
   "execution_count": null,
   "metadata": {},
   "outputs": [],
   "source": []
  },
  {
   "cell_type": "markdown",
   "metadata": {},
   "source": [
    "# For reference"
   ]
  },
  {
   "cell_type": "raw",
   "metadata": {},
   "source": [
    "# A more complex way to split paragraphs\n",
    "# reference: https://blog.csdn.net/blmoistawinde/article/details/82379256\n",
    "# cut paragraghes from a news 切開文章段落\n",
    "def cut_paragraph(para):\n",
    "    para = re.sub('([。！？\\?])([^”’])', r\"\\1\\n\\2\", para)  # 单字符断句符\n",
    "    para = re.sub('(\\.{6})([^”’])', r\"\\1\\n\\2\", para)  # 英文省略号\n",
    "    para = re.sub('(\\…{2})([^”’])', r\"\\1\\n\\2\", para)  # 中文省略号\n",
    "    para = re.sub('([。！？\\?][”’])([^，。！？\\?])', r'\\1\\n\\2', para)\n",
    "    # 如果雙引號前有終止符，那麼雙引號才是句子的終點，把分句符\\n放到雙引號後，注意前面的幾句都小心保留了雙引號\n",
    "    para = para.rstrip()  # 段尾如果有多余的\\n就去掉它\n",
    "    # 分号忽略不计，破折号、英文双引号等同样忽略\n",
    "    return para.split(\"\\n\")"
   ]
  },
  {
   "cell_type": "code",
   "execution_count": null,
   "metadata": {},
   "outputs": [],
   "source": []
  }
 ],
 "metadata": {
  "kernelspec": {
   "display_name": "base",
   "language": "python",
   "name": "python3"
  },
  "language_info": {
   "codemirror_mode": {
    "name": "ipython",
    "version": 3
   },
   "file_extension": ".py",
   "mimetype": "text/x-python",
   "name": "python",
   "nbconvert_exporter": "python",
   "pygments_lexer": "ipython3",
   "version": "3.9.18"
  },
  "toc": {
   "base_numbering": 1,
   "nav_menu": {},
   "number_sections": true,
   "sideBar": true,
   "skip_h1_title": false,
   "title_cell": "Table of Contents",
   "title_sidebar": "Contents",
   "toc_cell": false,
   "toc_position": {},
   "toc_section_display": true,
   "toc_window_display": true
  },
  "toc-autonumbering": true,
  "toc-showcode": false,
  "toc-showmarkdowntxt": false
 },
 "nbformat": 4,
 "nbformat_minor": 4
}
