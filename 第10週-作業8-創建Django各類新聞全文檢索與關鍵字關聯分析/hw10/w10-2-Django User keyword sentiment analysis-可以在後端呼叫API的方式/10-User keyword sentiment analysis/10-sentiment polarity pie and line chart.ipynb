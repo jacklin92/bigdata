{
 "cells": [
  {
   "cell_type": "markdown",
   "metadata": {},
   "source": [
    "# News Sentiment Infomation\n",
    "\n",
    "Display sentimental polarity pie chart and trend chart "
   ]
  },
  {
   "cell_type": "markdown",
   "metadata": {},
   "source": [
    "# Load Data"
   ]
  },
  {
   "cell_type": "code",
   "execution_count": 84,
   "metadata": {},
   "outputs": [],
   "source": [
    "import pandas as pd"
   ]
  },
  {
   "cell_type": "code",
   "execution_count": 85,
   "metadata": {},
   "outputs": [],
   "source": [
    "df = pd.read_csv('./news_for_django.csv',sep='|')"
   ]
  },
  {
   "cell_type": "code",
   "execution_count": 86,
   "metadata": {},
   "outputs": [
    {
     "data": {
      "text/html": [
       "<div>\n",
       "<style scoped>\n",
       "    .dataframe tbody tr th:only-of-type {\n",
       "        vertical-align: middle;\n",
       "    }\n",
       "\n",
       "    .dataframe tbody tr th {\n",
       "        vertical-align: top;\n",
       "    }\n",
       "\n",
       "    .dataframe thead th {\n",
       "        text-align: right;\n",
       "    }\n",
       "</style>\n",
       "<table border=\"1\" class=\"dataframe\">\n",
       "  <thead>\n",
       "    <tr style=\"text-align: right;\">\n",
       "      <th></th>\n",
       "      <th>Unnamed: 0</th>\n",
       "      <th>item_id</th>\n",
       "      <th>title</th>\n",
       "      <th>category</th>\n",
       "      <th>content</th>\n",
       "      <th>link</th>\n",
       "      <th>date</th>\n",
       "      <th>photo_link</th>\n",
       "      <th>tokens_v2</th>\n",
       "      <th>top_key_freq</th>\n",
       "      <th>summary</th>\n",
       "      <th>sentiment</th>\n",
       "    </tr>\n",
       "  </thead>\n",
       "  <tbody>\n",
       "    <tr>\n",
       "      <th>0</th>\n",
       "      <td>0</td>\n",
       "      <td>_20250327_1</td>\n",
       "      <td>台股重挫308點 失守22000關卡</td>\n",
       "      <td>焦點</td>\n",
       "      <td>美國總統川普準備徵收汽車關稅，美股主要指數全數下跌，台積電重挫4.09%，台積電台北現股今日...</td>\n",
       "      <td>https://tw.news.yahoo.com/https://tw.stock.yah...</td>\n",
       "      <td>2025-03-27</td>\n",
       "      <td>https://s.yimg.com/ny/api/res/1.2/3qEveVGKp070...</td>\n",
       "      <td>['美國', '總統', '川普', '汽車', '關稅', '美股', '指數', '台積...</td>\n",
       "      <td>[('台積電', 4), ('指數', 3), ('月線', 3), ('美國', 2), ...</td>\n",
       "      <td>暫無</td>\n",
       "      <td>0.36</td>\n",
       "    </tr>\n",
       "  </tbody>\n",
       "</table>\n",
       "</div>"
      ],
      "text/plain": [
       "   Unnamed: 0      item_id               title category  \\\n",
       "0           0  _20250327_1  台股重挫308點 失守22000關卡       焦點   \n",
       "\n",
       "                                             content  \\\n",
       "0  美國總統川普準備徵收汽車關稅，美股主要指數全數下跌，台積電重挫4.09%，台積電台北現股今日...   \n",
       "\n",
       "                                                link        date  \\\n",
       "0  https://tw.news.yahoo.com/https://tw.stock.yah...  2025-03-27   \n",
       "\n",
       "                                          photo_link  \\\n",
       "0  https://s.yimg.com/ny/api/res/1.2/3qEveVGKp070...   \n",
       "\n",
       "                                           tokens_v2  \\\n",
       "0  ['美國', '總統', '川普', '汽車', '關稅', '美股', '指數', '台積...   \n",
       "\n",
       "                                        top_key_freq summary  sentiment  \n",
       "0  [('台積電', 4), ('指數', 3), ('月線', 3), ('美國', 2), ...      暫無       0.36  "
      ]
     },
     "execution_count": 86,
     "metadata": {},
     "output_type": "execute_result"
    }
   ],
   "source": [
    "df.head(1)"
   ]
  },
  {
   "cell_type": "code",
   "execution_count": 87,
   "metadata": {},
   "outputs": [
    {
     "data": {
      "text/plain": [
       "(216, 12)"
      ]
     },
     "execution_count": 87,
     "metadata": {},
     "output_type": "execute_result"
    }
   ],
   "source": [
    "df.shape"
   ]
  },
  {
   "cell_type": "code",
   "execution_count": 88,
   "metadata": {},
   "outputs": [
    {
     "data": {
      "text/plain": [
       "'2025-03-27'"
      ]
     },
     "execution_count": 88,
     "metadata": {},
     "output_type": "execute_result"
    }
   ],
   "source": [
    "df.date.max()"
   ]
  },
  {
   "cell_type": "code",
   "execution_count": 89,
   "metadata": {},
   "outputs": [
    {
     "data": {
      "text/plain": [
       "'2025-03-23'"
      ]
     },
     "execution_count": 89,
     "metadata": {},
     "output_type": "execute_result"
    }
   ],
   "source": [
    "df.date.min()"
   ]
  },
  {
   "cell_type": "markdown",
   "metadata": {},
   "source": [
    "# Step 1: Filter news articles using the following function"
   ]
  },
  {
   "cell_type": "code",
   "execution_count": 90,
   "metadata": {},
   "outputs": [],
   "source": [
    "from datetime import datetime, timedelta"
   ]
  },
  {
   "cell_type": "code",
   "execution_count": 91,
   "metadata": {},
   "outputs": [],
   "source": [
    "from datetime import datetime, timedelta\n",
    "# Searching keywords from \"content\" column\n",
    "# Here this function uses df.content column, while filter_dataFrame() uses df.tokens_v2\n",
    "# It is the same as filter_dataFrame_fullText()此函數名稱之前是用filter_dataFrame_fullText()\n",
    "def filter_df_via_content(query_keywords, cond, cate, weeks):\n",
    "\n",
    "    # end date: the date of the latest record of news\n",
    "    end_date = df.date.max()\n",
    "    \n",
    "    # start date\n",
    "    start_date_delta = (datetime.strptime(end_date, '%Y-%m-%d').date() - timedelta(weeks=weeks)).strftime('%Y-%m-%d')\n",
    "    start_date_min = df.date.min()\n",
    "    # set start_date as the larger one from the start_date_delta and start_date_min 開始時間選資料最早時間與周數:兩者較晚者\n",
    "    start_date = max(start_date_delta,   start_date_min)\n",
    "\n",
    "\n",
    "    # (1) proceed filtering: a duration of a period of time\n",
    "    # 期間條件\n",
    "    period_condition = (df.date >= start_date) & (df.date <= end_date) \n",
    "    \n",
    "    # (2) proceed filtering: news category\n",
    "    # 新聞類別條件\n",
    "    if (cate == \"全部\"):\n",
    "        condition = period_condition  # \"全部\"類別不必過濾新聞種類\n",
    "    else:\n",
    "        # 過濾category新聞類別條件\n",
    "        condition = period_condition & (df.category == cate)\n",
    "\n",
    "    # (3) proceed filtering: and or\n",
    "    # and or 條件\n",
    "    if (cond == 'and'):\n",
    "        # query keywords condition使用者輸入關鍵字條件and\n",
    "        condition = condition & df.content.apply(lambda text: all((qk in text) for qk in query_keywords)) #寫法:all()\n",
    "    elif (cond == 'or'):\n",
    "        # query keywords condition使用者輸入關鍵字條件\n",
    "        condition = condition & df.content.apply(lambda text: any((qk in text) for qk in query_keywords)) #寫法:any()\n",
    "    # condiction is a list of True or False boolean value\n",
    "    df_query = df[condition]\n",
    "\n",
    "    return df_query\n"
   ]
  },
  {
   "cell_type": "markdown",
   "metadata": {},
   "source": [
    "# Step 2: Sentimental polarity score計算整體情緒分數(影響力)\n",
    "\n",
    "Count number of article with Positive, Negative, and Neutral polarity (objective polarity)\n",
    "\n",
    "0~1  "
   ]
  },
  {
   "cell_type": "code",
   "execution_count": 92,
   "metadata": {},
   "outputs": [],
   "source": [
    "# sentimental polarity score\n",
    "def get_article_sentiment(df_query):\n",
    "    # df_query = df[df['tokens'].str.contains(query_key)]\n",
    "    sentiCount = {'pos': 0, 'neg': 0, 'obj': 0} # count次數\n",
    "    sentiPercnt = {'pos': 0, 'neg': 0, 'obj': 0} # percentage百分比\n",
    "    numberOfArticle = len(df_query)\n",
    "    for senti in df_query.sentiment:\n",
    "        # 判斷文章的情緒極性\n",
    "        if senti >= 0.6: #大於0.6為正向 \n",
    "            sentiCount['pos'] += 1\n",
    "        elif senti <= 0.4: #小於0.4為負向\n",
    "            sentiCount['neg'] += 1\n",
    "        else:\n",
    "            sentiCount['obj'] += 1 #介於中間為中立\n",
    "    for polar in sentiCount :\n",
    "        try:\n",
    "            sentiPercnt[polar]=int(sentiCount[polar]/numberOfArticle*100)\n",
    "            # sentiPercnt[polar]=round(sentiCount[polar]/numberOfArticle,2) # 0.75\n",
    "        except:\n",
    "            sentiPercnt[polar] = 0 # 若分母 numberOfArticle=0會報錯\n",
    "    return sentiCount, sentiPercnt\n"
   ]
  },
  {
   "cell_type": "code",
   "execution_count": 93,
   "metadata": {},
   "outputs": [],
   "source": [
    "query_keywords = ['黃珊珊']\n",
    "cond='or'\n",
    "weeks=12\n",
    "cate='全部'\n",
    "df_query = filter_df_via_content(query_keywords, cond, cate, weeks)\n",
    "sentiCount, sentiPercnt = get_article_sentiment(df_query)"
   ]
  },
  {
   "cell_type": "code",
   "execution_count": 94,
   "metadata": {},
   "outputs": [
    {
     "data": {
      "text/plain": [
       "{'pos': 0, 'neg': 0, 'obj': 0}"
      ]
     },
     "execution_count": 94,
     "metadata": {},
     "output_type": "execute_result"
    }
   ],
   "source": [
    "sentiCount"
   ]
  },
  {
   "cell_type": "code",
   "execution_count": 95,
   "metadata": {},
   "outputs": [
    {
     "data": {
      "text/plain": [
       "{'pos': 0, 'neg': 0, 'obj': 0}"
      ]
     },
     "execution_count": 95,
     "metadata": {},
     "output_type": "execute_result"
    }
   ],
   "source": [
    "sentiPercnt"
   ]
  },
  {
   "cell_type": "code",
   "execution_count": 96,
   "metadata": {},
   "outputs": [
    {
     "data": {
      "text/plain": [
       "'正向:0%, 中立:0%, 負向:0%'"
      ]
     },
     "execution_count": 96,
     "metadata": {},
     "output_type": "execute_result"
    }
   ],
   "source": [
    "'正向:{}%, 中立:{}%, 負向:{}%'.format(str(sentiPercnt['pos']), str(sentiPercnt['obj']),str(sentiPercnt['neg']))"
   ]
  },
  {
   "cell_type": "code",
   "execution_count": 97,
   "metadata": {},
   "outputs": [
    {
     "data": {
      "text/plain": [
       "[0, 0, 0]"
      ]
     },
     "execution_count": 97,
     "metadata": {},
     "output_type": "execute_result"
    }
   ],
   "source": [
    "[sentiPercnt[p] for p in ['pos', 'obj', 'neg']]"
   ]
  },
  {
   "cell_type": "markdown",
   "metadata": {},
   "source": [
    "# Step 3: Count positive and negative articles and get line chart data\n",
    "\n",
    "The number of articles for positive and negative sentimental polarity.\n",
    "\n",
    "This is the data for drawing daily-basis line chart on homepage.\n",
    "\n",
    "    The data format for the line chart is as follows.\n",
    "\n",
    "    [{'x': '2020-03-05', 'y': 1},\n",
    "    {'x': '2020-03-06', 'y': 0},\n",
    "    {'x': '2020-03-07', 'y': 0},\n",
    "    {'x': '2020-03-08', 'y': 0},\n",
    "    {'x': '2020-03-09', 'y': 0},\n",
    "    {'x': '2020-03-10', 'y': 5},\n",
    "    {'x': '2020-03-11', 'y': 5},\n",
    "    {'x': '2020-03-12', 'y': 7},\n",
    "    {'x': '2020-03-13', 'y': 62},\n",
    "    {'x': '2020-03-14', 'y': 29}]"
   ]
  },
  {
   "cell_type": "code",
   "execution_count": 98,
   "metadata": {},
   "outputs": [],
   "source": [
    "def get_daily_basis_sentiment_count(df_query, sentiment_type='pos', freq_type='D'):\n",
    "\n",
    "    # 自訂正負向中立的標準，sentiment score是機率值，介於0~1之間\n",
    "    # Using lambda to determine if an article is postive or not.\n",
    "    if sentiment_type == 'pos':\n",
    "        lambda_function = lambda senti: 1 if senti >= 0.6 else 0 #大於0.6為正向 \n",
    "    elif sentiment_type == 'neg':\n",
    "        lambda_function = lambda senti: 1 if senti <= 0.4 else 0 #小於0.4為負向\n",
    "    elif sentiment_type == 'neutral':\n",
    "        lambda_function = lambda senti: 1 if senti > 0.4 & senti < 0.4 else 0 #介於中間為中立\n",
    "    else:\n",
    "        return None \n",
    "        \n",
    "    freq_df = pd.DataFrame({'date_index': pd.to_datetime(df_query.date),\n",
    "                             'frequency': [lambda_function(senti) for senti in df_query.sentiment]})\n",
    "    # Group rows by the date to the daily number of articles. 加總合併同一天新聞，篇數就被計算好了\n",
    "    freq_df_group = freq_df.groupby(pd.Grouper(key='date_index', freq=freq_type)).sum()\n",
    "    \n",
    "    # 'date_index'為index(索引)，將其變成欄位名稱，inplace=True表示原始檔案會被異動\n",
    "    freq_df_group = freq_df_group.reset_index()\n",
    "    #freq_df_group.reset_index(inplace=True)\n",
    "    \n",
    "    # x,y，用於畫趨勢線圖\n",
    "    xy_line_data = [{'x':date.strftime('%Y-%m-%d'),'y':freq} for date, freq in zip(freq_df_group.date_index,freq_df_group.frequency)]\n",
    "    return xy_line_data"
   ]
  },
  {
   "cell_type": "code",
   "execution_count": 99,
   "metadata": {},
   "outputs": [],
   "source": [
    "query_keywords = ['黃珊珊']\n",
    "cond='or'\n",
    "weeks=12\n",
    "cate='全部'\n",
    "df_query = filter_df_via_content(query_keywords, cond, cate, weeks)"
   ]
  },
  {
   "cell_type": "code",
   "execution_count": 100,
   "metadata": {},
   "outputs": [
    {
     "data": {
      "text/plain": [
       "(0, 12)"
      ]
     },
     "execution_count": 100,
     "metadata": {},
     "output_type": "execute_result"
    }
   ],
   "source": [
    "df_query.shape"
   ]
  },
  {
   "cell_type": "code",
   "execution_count": 101,
   "metadata": {},
   "outputs": [
    {
     "data": {
      "text/plain": [
       "[]"
      ]
     },
     "execution_count": 101,
     "metadata": {},
     "output_type": "execute_result"
    }
   ],
   "source": [
    "get_daily_basis_sentiment_count(df_query, sentiment_type='pos')"
   ]
  },
  {
   "cell_type": "code",
   "execution_count": 102,
   "metadata": {},
   "outputs": [
    {
     "data": {
      "text/plain": [
       "[]"
      ]
     },
     "execution_count": 102,
     "metadata": {},
     "output_type": "execute_result"
    }
   ],
   "source": [
    "get_daily_basis_sentiment_count(df_query, sentiment_type='neg')"
   ]
  },
  {
   "cell_type": "markdown",
   "metadata": {},
   "source": [
    "## How does this work?"
   ]
  },
  {
   "cell_type": "code",
   "execution_count": 103,
   "metadata": {},
   "outputs": [
    {
     "data": {
      "text/html": [
       "<div>\n",
       "<style scoped>\n",
       "    .dataframe tbody tr th:only-of-type {\n",
       "        vertical-align: middle;\n",
       "    }\n",
       "\n",
       "    .dataframe tbody tr th {\n",
       "        vertical-align: top;\n",
       "    }\n",
       "\n",
       "    .dataframe thead th {\n",
       "        text-align: right;\n",
       "    }\n",
       "</style>\n",
       "<table border=\"1\" class=\"dataframe\">\n",
       "  <thead>\n",
       "    <tr style=\"text-align: right;\">\n",
       "      <th></th>\n",
       "      <th>date_index</th>\n",
       "      <th>frequency</th>\n",
       "    </tr>\n",
       "  </thead>\n",
       "  <tbody>\n",
       "  </tbody>\n",
       "</table>\n",
       "</div>"
      ],
      "text/plain": [
       "Empty DataFrame\n",
       "Columns: [date_index, frequency]\n",
       "Index: []"
      ]
     },
     "execution_count": 103,
     "metadata": {},
     "output_type": "execute_result"
    }
   ],
   "source": [
    "# This is what we used to calculate daily frequency of keyword in our previous app\n",
    "pd.DataFrame({'date_index':pd.to_datetime( df_query.date ),'frequency':[1 for _ in range(len(df_query))]})"
   ]
  },
  {
   "cell_type": "code",
   "execution_count": 104,
   "metadata": {},
   "outputs": [
    {
     "data": {
      "text/html": [
       "<div>\n",
       "<style scoped>\n",
       "    .dataframe tbody tr th:only-of-type {\n",
       "        vertical-align: middle;\n",
       "    }\n",
       "\n",
       "    .dataframe tbody tr th {\n",
       "        vertical-align: top;\n",
       "    }\n",
       "\n",
       "    .dataframe thead th {\n",
       "        text-align: right;\n",
       "    }\n",
       "</style>\n",
       "<table border=\"1\" class=\"dataframe\">\n",
       "  <thead>\n",
       "    <tr style=\"text-align: right;\">\n",
       "      <th></th>\n",
       "      <th>date_index</th>\n",
       "      <th>frequency</th>\n",
       "    </tr>\n",
       "  </thead>\n",
       "  <tbody>\n",
       "  </tbody>\n",
       "</table>\n",
       "</div>"
      ],
      "text/plain": [
       "Empty DataFrame\n",
       "Columns: [date_index, frequency]\n",
       "Index: []"
      ]
     },
     "execution_count": 104,
     "metadata": {},
     "output_type": "execute_result"
    }
   ],
   "source": [
    "# Now we need to modify the above line as follows.\n",
    "# Using lambda to determine if an article is postive or not.\n",
    "pd.DataFrame({'date_index':pd.to_datetime( df_query.date ),'frequency':[ (lambda senti: 1 if senti >= 0.6 else 0)(senti) for senti in df_query.sentiment]})"
   ]
  },
  {
   "cell_type": "code",
   "execution_count": 105,
   "metadata": {},
   "outputs": [
    {
     "data": {
      "text/plain": [
       "[]"
      ]
     },
     "execution_count": 105,
     "metadata": {},
     "output_type": "execute_result"
    }
   ],
   "source": [
    "# What is the following lambda function? It is a little bite hard to understand.\n",
    "[ (lambda senti: 1 if senti >= 0.6 else 0)(senti) for senti in df_query.sentiment  ]"
   ]
  },
  {
   "cell_type": "code",
   "execution_count": null,
   "metadata": {
    "scrolled": true
   },
   "outputs": [],
   "source": []
  },
  {
   "cell_type": "code",
   "execution_count": 106,
   "metadata": {
    "scrolled": true
   },
   "outputs": [
    {
     "data": {
      "text/plain": [
       "<function __main__.<lambda>(x)>"
      ]
     },
     "execution_count": 106,
     "metadata": {},
     "output_type": "execute_result"
    }
   ],
   "source": [
    "lambda x: 1 if x >= 0.6 else 0"
   ]
  },
  {
   "cell_type": "code",
   "execution_count": 107,
   "metadata": {},
   "outputs": [
    {
     "data": {
      "text/plain": [
       "1"
      ]
     },
     "execution_count": 107,
     "metadata": {},
     "output_type": "execute_result"
    }
   ],
   "source": [
    "(lambda x: 1 if x >= 0.6 else 0)(0.9)  #  f(0.9)   f: lambda x: 1 if x >= 0.6  def f:"
   ]
  },
  {
   "cell_type": "code",
   "execution_count": 108,
   "metadata": {},
   "outputs": [
    {
     "data": {
      "text/plain": [
       "0"
      ]
     },
     "execution_count": 108,
     "metadata": {},
     "output_type": "execute_result"
    }
   ],
   "source": [
    "(lambda x: 1 if x >= 0.6 else 0)(0.2)"
   ]
  },
  {
   "cell_type": "code",
   "execution_count": 109,
   "metadata": {},
   "outputs": [
    {
     "data": {
      "text/plain": [
       "Series([], Name: date, dtype: datetime64[ns])"
      ]
     },
     "execution_count": 109,
     "metadata": {},
     "output_type": "execute_result"
    }
   ],
   "source": [
    "pd.to_datetime( df_query.date )"
   ]
  },
  {
   "cell_type": "code",
   "execution_count": 110,
   "metadata": {},
   "outputs": [
    {
     "data": {
      "text/plain": [
       "{'date_index': Series([], Name: date, dtype: datetime64[ns]), 'frequency': []}"
      ]
     },
     "execution_count": 110,
     "metadata": {},
     "output_type": "execute_result"
    }
   ],
   "source": [
    "{'date_index':pd.to_datetime( df_query.date ),'frequency':[ (lambda senti: 1 if senti >= 0.7 else 0)(senti) for senti in df_query.sentiment]}"
   ]
  },
  {
   "cell_type": "code",
   "execution_count": 111,
   "metadata": {},
   "outputs": [
    {
     "data": {
      "text/html": [
       "<div>\n",
       "<style scoped>\n",
       "    .dataframe tbody tr th:only-of-type {\n",
       "        vertical-align: middle;\n",
       "    }\n",
       "\n",
       "    .dataframe tbody tr th {\n",
       "        vertical-align: top;\n",
       "    }\n",
       "\n",
       "    .dataframe thead th {\n",
       "        text-align: right;\n",
       "    }\n",
       "</style>\n",
       "<table border=\"1\" class=\"dataframe\">\n",
       "  <thead>\n",
       "    <tr style=\"text-align: right;\">\n",
       "      <th></th>\n",
       "      <th>date_index</th>\n",
       "      <th>frequency</th>\n",
       "    </tr>\n",
       "  </thead>\n",
       "  <tbody>\n",
       "  </tbody>\n",
       "</table>\n",
       "</div>"
      ],
      "text/plain": [
       "Empty DataFrame\n",
       "Columns: [date_index, frequency]\n",
       "Index: []"
      ]
     },
     "execution_count": 111,
     "metadata": {},
     "output_type": "execute_result"
    }
   ],
   "source": [
    "pd.DataFrame({'date_index':pd.to_datetime( df_query.date ),'frequency':[ (lambda senti: 1 if senti >= 0.7 else 0)(senti) for senti in df_query.sentiment]})"
   ]
  },
  {
   "cell_type": "code",
   "execution_count": 112,
   "metadata": {},
   "outputs": [
    {
     "data": {
      "text/plain": [
       "{'date_index': Series([], Name: date, dtype: datetime64[ns]), 'frequency': []}"
      ]
     },
     "execution_count": 112,
     "metadata": {},
     "output_type": "execute_result"
    }
   ],
   "source": [
    "# a dict with 'date_index' key and 'frequency' value ==> A dict is consist of several (key, value) pairs.\n",
    "{'date_index':pd.to_datetime( df_query.date ),'frequency':[ (lambda senti: 1 if senti >= 0.6 else 0)(senti) for senti in df_query.sentiment]}"
   ]
  },
  {
   "cell_type": "code",
   "execution_count": 113,
   "metadata": {},
   "outputs": [],
   "source": [
    "# Convert the above dict into DataFrame and assign it to query_freq\n",
    "freq_df = pd.DataFrame({'date_index':pd.to_datetime( df_query.date ),'frequency':[ (lambda senti: 1 if senti >= 0.6 else 0)(senti) for senti in df_query.sentiment]})"
   ]
  },
  {
   "cell_type": "code",
   "execution_count": 114,
   "metadata": {},
   "outputs": [
    {
     "data": {
      "text/html": [
       "<div>\n",
       "<style scoped>\n",
       "    .dataframe tbody tr th:only-of-type {\n",
       "        vertical-align: middle;\n",
       "    }\n",
       "\n",
       "    .dataframe tbody tr th {\n",
       "        vertical-align: top;\n",
       "    }\n",
       "\n",
       "    .dataframe thead th {\n",
       "        text-align: right;\n",
       "    }\n",
       "</style>\n",
       "<table border=\"1\" class=\"dataframe\">\n",
       "  <thead>\n",
       "    <tr style=\"text-align: right;\">\n",
       "      <th></th>\n",
       "      <th>date_index</th>\n",
       "      <th>frequency</th>\n",
       "    </tr>\n",
       "  </thead>\n",
       "  <tbody>\n",
       "  </tbody>\n",
       "</table>\n",
       "</div>"
      ],
      "text/plain": [
       "Empty DataFrame\n",
       "Columns: [date_index, frequency]\n",
       "Index: []"
      ]
     },
     "execution_count": 114,
     "metadata": {},
     "output_type": "execute_result"
    }
   ],
   "source": [
    "freq_df"
   ]
  },
  {
   "cell_type": "code",
   "execution_count": 115,
   "metadata": {},
   "outputs": [],
   "source": [
    "# Group rows by the date to the daily number of articles. 加總合併同一天新聞，篇數就被計算好了\n",
    "freq_df_group = freq_df.groupby(pd.Grouper(key='date_index',freq='D')).sum()"
   ]
  },
  {
   "cell_type": "code",
   "execution_count": 116,
   "metadata": {},
   "outputs": [
    {
     "data": {
      "text/html": [
       "<div>\n",
       "<style scoped>\n",
       "    .dataframe tbody tr th:only-of-type {\n",
       "        vertical-align: middle;\n",
       "    }\n",
       "\n",
       "    .dataframe tbody tr th {\n",
       "        vertical-align: top;\n",
       "    }\n",
       "\n",
       "    .dataframe thead th {\n",
       "        text-align: right;\n",
       "    }\n",
       "</style>\n",
       "<table border=\"1\" class=\"dataframe\">\n",
       "  <thead>\n",
       "    <tr style=\"text-align: right;\">\n",
       "      <th></th>\n",
       "      <th>frequency</th>\n",
       "    </tr>\n",
       "    <tr>\n",
       "      <th>date_index</th>\n",
       "      <th></th>\n",
       "    </tr>\n",
       "  </thead>\n",
       "  <tbody>\n",
       "  </tbody>\n",
       "</table>\n",
       "</div>"
      ],
      "text/plain": [
       "Empty DataFrame\n",
       "Columns: [frequency]\n",
       "Index: []"
      ]
     },
     "execution_count": 116,
     "metadata": {},
     "output_type": "execute_result"
    }
   ],
   "source": [
    "freq_df_group"
   ]
  },
  {
   "cell_type": "code",
   "execution_count": 117,
   "metadata": {},
   "outputs": [],
   "source": [
    "# 'date_index'為index(索引)，將其變成欄位名稱，inplace=True表示原始檔案會被異動\n",
    "freq_df_group.reset_index(inplace=True)\n",
    "#freq_df_group = freq_df_group.reset_index() # 這樣也可以得到同樣結果\n"
   ]
  },
  {
   "cell_type": "code",
   "execution_count": 118,
   "metadata": {},
   "outputs": [
    {
     "data": {
      "text/html": [
       "<div>\n",
       "<style scoped>\n",
       "    .dataframe tbody tr th:only-of-type {\n",
       "        vertical-align: middle;\n",
       "    }\n",
       "\n",
       "    .dataframe tbody tr th {\n",
       "        vertical-align: top;\n",
       "    }\n",
       "\n",
       "    .dataframe thead th {\n",
       "        text-align: right;\n",
       "    }\n",
       "</style>\n",
       "<table border=\"1\" class=\"dataframe\">\n",
       "  <thead>\n",
       "    <tr style=\"text-align: right;\">\n",
       "      <th></th>\n",
       "      <th>date_index</th>\n",
       "      <th>frequency</th>\n",
       "    </tr>\n",
       "  </thead>\n",
       "  <tbody>\n",
       "  </tbody>\n",
       "</table>\n",
       "</div>"
      ],
      "text/plain": [
       "Empty DataFrame\n",
       "Columns: [date_index, frequency]\n",
       "Index: []"
      ]
     },
     "execution_count": 118,
     "metadata": {},
     "output_type": "execute_result"
    }
   ],
   "source": [
    "freq_df_group"
   ]
  },
  {
   "cell_type": "code",
   "execution_count": 119,
   "metadata": {},
   "outputs": [
    {
     "data": {
      "text/plain": [
       "[]"
      ]
     },
     "execution_count": 119,
     "metadata": {},
     "output_type": "execute_result"
    }
   ],
   "source": [
    "list(zip(freq_df_group.date_index,freq_df_group.frequency))"
   ]
  },
  {
   "cell_type": "code",
   "execution_count": 120,
   "metadata": {},
   "outputs": [],
   "source": [
    "\n",
    "# 有時間變數x,y，用於畫趨勢線圖\n",
    "line_xy_data = [{'x':date.strftime('%Y-%m-%d'),'y':freq} for date, freq in zip(freq_df_group.date_index,freq_df_group.frequency)]"
   ]
  },
  {
   "cell_type": "code",
   "execution_count": 121,
   "metadata": {},
   "outputs": [
    {
     "data": {
      "text/plain": [
       "[]"
      ]
     },
     "execution_count": 121,
     "metadata": {},
     "output_type": "execute_result"
    }
   ],
   "source": [
    "line_xy_data"
   ]
  },
  {
   "cell_type": "code",
   "execution_count": null,
   "metadata": {},
   "outputs": [],
   "source": []
  },
  {
   "cell_type": "markdown",
   "metadata": {},
   "source": [
    "# Step 4: Prepare the response data "
   ]
  },
  {
   "cell_type": "code",
   "execution_count": 122,
   "metadata": {},
   "outputs": [],
   "source": [
    "def prepare_for_response(query_keywords, cond, cate, weeks):\n",
    "\n",
    "    # Proceed filtering\n",
    "    df_query = filter_df_via_content(query_keywords, cond, cate, weeks)\n",
    "    \n",
    "    sentiCount, sentiPercnt = get_article_sentiment(df_query)\n",
    "\n",
    "    if weeks <= 4:\n",
    "        freq_type = 'D'\n",
    "    else:\n",
    "        freq_type = 'W' # weekly basis\n",
    "\n",
    "    line_data_pos = get_daily_basis_sentiment_count(df_query, sentiment_type='pos', freq_type=freq_type)\n",
    "    line_data_neg = get_daily_basis_sentiment_count(df_query, sentiment_type='neg', freq_type=freq_type)\n",
    "\n",
    "    response = {\n",
    "        'sentiCount': sentiCount,\n",
    "        'data_pos':line_data_pos,\n",
    "        'data_neg':line_data_neg,\n",
    "    }\n",
    "    return response"
   ]
  },
  {
   "cell_type": "code",
   "execution_count": null,
   "metadata": {},
   "outputs": [
    {
     "data": {
      "text/plain": [
       "{'sentiCount': {'pos': 0, 'neg': 0, 'obj': 0}, 'data_pos': [], 'data_neg': []}"
      ]
     },
     "execution_count": 123,
     "metadata": {},
     "output_type": "execute_result"
    },
    {
     "ename": "",
     "evalue": "",
     "output_type": "error",
     "traceback": [
      "\u001b[1;31mThe Kernel crashed while executing code in the current cell or a previous cell. \n",
      "\u001b[1;31mPlease review the code in the cell(s) to identify a possible cause of the failure. \n",
      "\u001b[1;31mClick <a href='https://aka.ms/vscodeJupyterKernelCrash'>here</a> for more info. \n",
      "\u001b[1;31mView Jupyter <a href='command:jupyter.viewOutput'>log</a> for further details."
     ]
    }
   ],
   "source": [
    "query_keywords = ['黃珊珊']\n",
    "cond='or'\n",
    "weeks=12\n",
    "cate='全部'\n",
    "prepare_for_response(query_keywords, cond, cate, weeks)"
   ]
  },
  {
   "cell_type": "markdown",
   "metadata": {},
   "source": [
    "# Step 5: Django views.py 請看示範專案APP 重複的模組要跟別人借用\n",
    "    (1)app name: app_userkey_sentiment\n",
    "    (2)namespace defined in urls.py: \n",
    "        app_name=\"namespace_userkey_sentiment\"  \n",
    "        or app_name=\"app_userkey_sentiment\"\n",
    "    (3) home.html\n",
    "\n",
    "\n"
   ]
  },
  {
   "cell_type": "code",
   "execution_count": null,
   "metadata": {},
   "outputs": [],
   "source": []
  },
  {
   "cell_type": "raw",
   "metadata": {
    "vscode": {
     "languageId": "raw"
    }
   },
   "source": [
    "from django.http import JsonResponse\n",
    "from django.shortcuts import render\n",
    "import pandas as pd\n",
    "from datetime import datetime, timedelta\n",
    "from django.views.decorators.csrf import csrf_exempt\n",
    "\n",
    "\n",
    "# (1) Load news data--approach 1 直接指定某個csv檔案\n",
    "def load_df_data_v1():\n",
    "    global df # global variable\n",
    "    # df = pd.read_csv('app_user_keyword/dataset/cna_news_200_preprocessed.csv',sep='|')\n",
    "    df = pd.read_csv('app_user_keyword_sentiment/dataset/news_dataset_preprocessed_for_django.csv',sep='|')\n",
    "\n",
    "# (2) Load news data--approach 2 跟隔壁的app借用df\n",
    "# import from app_user_keyword.views and use df later\n",
    "import app_user_keyword.views as userkeyword_views\n",
    "def load_df_data():\n",
    "    # import and use df from app_user_keyword \n",
    "    global df # global variable\n",
    "    df = userkeyword_views.df\n",
    "\n",
    "# call load data function when starting server\n",
    "load_df_data_v1()\n",
    "# load_df_data()\n",
    "\n",
    "def home(request):\n",
    "    return render(request, 'app_user_keyword_sentiment/home.html')\n",
    "\n",
    "# GET: csrf_exempt is not necessary\n",
    "# POST: csrf_exempt should be used\n",
    "@csrf_exempt\n",
    "def api_get_userkey_sentiment(request):\n",
    "\n",
    "    userkey = request.POST['userkey']\n",
    "    cate = request.POST['cate']\n",
    "    cond = request.POST['cond']\n",
    "    weeks = int(request.POST['weeks'])\n",
    "    print(weeks)\n",
    "\n",
    "    query_keywords = userkey.split()\n",
    "    response = prepare_for_response(query_keywords, cond, cate, weeks)\n",
    "  \n",
    "    return JsonResponse(response)\n",
    "\n",
    "def prepare_for_response(query_keywords, cond, cate, weeks):\n",
    "\n",
    "    # Proceed filtering\n",
    "    df_query = filter_df_via_content(query_keywords, cond, cate, weeks)\n",
    "    \n",
    "    sentiCount, sentiPercnt = get_article_sentiment(df_query)\n",
    "\n",
    "    if weeks <= 4:\n",
    "        freq_type = 'D'\n",
    "    else:\n",
    "        freq_type = 'W'\n",
    "\n",
    "    line_data_pos = get_daily_basis_sentiment_count(df_query, sentiment_type='pos', freq_type=freq_type)\n",
    "    line_data_neg = get_daily_basis_sentiment_count(df_query, sentiment_type='neg', freq_type=freq_type)\n",
    "\n",
    "    response = {\n",
    "        'sentiCount': sentiCount,\n",
    "        'data_pos':line_data_pos,\n",
    "        'data_neg':line_data_neg,\n",
    "    }\n",
    "    return response\n",
    "\n",
    "def get_article_sentiment(df_query):\n",
    "    sentiCount = {'Positive': 0, 'Negative': 0, 'Neutral': 0}\n",
    "    sentiPercnt = {'Positive': 0, 'Negative': 0, 'Neutral': 0}\n",
    "    numberOfArticle = len(df_query)\n",
    "    for senti in df_query.sentiment:\n",
    "        # determine sentimental polarity\n",
    "        if float(senti) >= 0.6:\n",
    "            sentiCount['Positive'] += 1\n",
    "        elif float(senti) <= 0.4:\n",
    "            sentiCount['Negative'] += 1\n",
    "        else:\n",
    "            sentiCount['Neutral'] += 1\n",
    "    for polar in sentiCount :\n",
    "        try:\n",
    "            sentiPercnt[polar]=int(sentiCount[polar]/numberOfArticle*100)\n",
    "        except:\n",
    "            sentiPercnt[polar] = 0 # 若分母 numberOfArticle=0會報錯\n",
    "    return sentiCount, sentiPercnt\n",
    "\n",
    "\n",
    "def get_daily_basis_sentiment_count(df_query, sentiment_type='pos', freq_type='D'):\n",
    "\n",
    "    # 自訂正負向中立的標準，sentiment score是機率值，介於0~1之間\n",
    "    # Using lambda to determine if an article is postive or not.\n",
    "    if sentiment_type == 'pos':\n",
    "        lambda_function = lambda senti: 1 if senti >= 0.6 else 0 #大於0.6為正向 \n",
    "    elif sentiment_type == 'neg':\n",
    "        lambda_function = lambda senti: 1 if senti <= 0.4 else 0 #小於0.4為負向\n",
    "    elif sentiment_type == 'neutral':\n",
    "        lambda_function = lambda senti: 1 if senti > 0.4 & senti < 0.4 else 0 #介於中間為中立\n",
    "    else:\n",
    "        return None \n",
    "        \n",
    "    freq_df = pd.DataFrame({'date_index': pd.to_datetime(df_query.date),\n",
    "                             'frequency': [lambda_function(senti) for senti in df_query.sentiment]})\n",
    "    # Group rows by the date to the daily number of articles. 加總合併同一天新聞，篇數就被計算好了\n",
    "    freq_df_group = freq_df.groupby(pd.Grouper(key='date_index',freq=freq_type)).sum()\n",
    "    \n",
    "    # 'date_index'為index(索引)，將其變成欄位名稱，inplace=True表示原始檔案會被異動\n",
    "    freq_df_group.reset_index(inplace=True)\n",
    "    \n",
    "    # x,y，用於畫趨勢線圖\n",
    "    xy_line_data = [{'x':date.strftime('%Y-%m-%d'),'y':freq} for date, freq in zip(freq_df_group.date_index,freq_df_group.frequency)]\n",
    "    return xy_line_data\n",
    "\n",
    "# Searching keywords from \"content\" column\n",
    "# Here this function uses df.content column, while filter_dataFrame() uses df.tokens_v2\n",
    "def filter_df_via_content(query_keywords, cond, cate, weeks):\n",
    "\n",
    "    # end date: the date of the latest record of news\n",
    "    end_date = df.date.max()\n",
    "    \n",
    "    # start date\n",
    "    start_date_delta = (datetime.strptime(end_date, '%Y-%m-%d').date() - timedelta(weeks=weeks)).strftime('%Y-%m-%d')\n",
    "    start_date_min = df.date.min()\n",
    "    # set start_date as the larger one from the start_date_delta and start_date_min 開始時間選資料最早時間與周數:兩者較晚者\n",
    "    start_date = max(start_date_delta,   start_date_min)\n",
    "\n",
    "\n",
    "    # (1) proceed filtering: a duration of a period of time\n",
    "    # 期間條件\n",
    "    period_condition = (df.date >= start_date) & (df.date <= end_date) \n",
    "    \n",
    "    # (2) proceed filtering: news category\n",
    "    # 新聞類別條件\n",
    "    if (cate == \"全部\"):\n",
    "        condition = period_condition  # \"全部\"類別不必過濾新聞種類\n",
    "    else:\n",
    "        # 過濾category新聞類別條件\n",
    "        condition = period_condition & (df.category == cate)\n",
    "\n",
    "    # (3) proceed filtering: and or\n",
    "    # and or 條件\n",
    "    if (cond == 'and'):\n",
    "        # query keywords condition使用者輸入關鍵字條件and\n",
    "        condition = condition & df.content.apply(lambda text: all((qk in text) for qk in query_keywords)) #寫法:all()\n",
    "    elif (cond == 'or'):\n",
    "        # query keywords condition使用者輸入關鍵字條件\n",
    "        condition = condition & df.content.apply(lambda text: any((qk in text) for qk in query_keywords)) #寫法:any()\n",
    "    # condiction is a list of True or False boolean value\n",
    "    df_query = df[condition]\n",
    "\n",
    "    return df_query\n",
    "\n",
    "\n",
    "print(\"app_userkey_sentiment was loaded!\")\n",
    "\n",
    "\n"
   ]
  },
  {
   "cell_type": "code",
   "execution_count": null,
   "metadata": {},
   "outputs": [],
   "source": []
  },
  {
   "cell_type": "code",
   "execution_count": null,
   "metadata": {},
   "outputs": [],
   "source": []
  }
 ],
 "metadata": {
  "kernelspec": {
   "display_name": "base",
   "language": "python",
   "name": "python3"
  },
  "language_info": {
   "codemirror_mode": {
    "name": "ipython",
    "version": 3
   },
   "file_extension": ".py",
   "mimetype": "text/x-python",
   "name": "python",
   "nbconvert_exporter": "python",
   "pygments_lexer": "ipython3",
   "version": "3.9.18"
  },
  "toc": {
   "base_numbering": 1,
   "nav_menu": {},
   "number_sections": true,
   "sideBar": true,
   "skip_h1_title": false,
   "title_cell": "Table of Contents",
   "title_sidebar": "Contents",
   "toc_cell": false,
   "toc_position": {},
   "toc_section_display": true,
   "toc_window_display": true
  }
 },
 "nbformat": 4,
 "nbformat_minor": 2
}
