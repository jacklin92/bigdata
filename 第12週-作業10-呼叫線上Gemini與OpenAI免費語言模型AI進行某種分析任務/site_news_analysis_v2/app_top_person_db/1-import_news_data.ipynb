{
 "cells": [
  {
   "cell_type": "code",
   "execution_count": 30,
   "id": "d42ac35f",
   "metadata": {},
   "outputs": [],
   "source": [
    "import os\n",
    "import sys\n",
    "import pandas as pd\n",
    "import argparse\n",
    "from datetime import datetime\n",
    "import pathlib\n",
    "\n",
    "# # Setup Django environment\n",
    "# # Alternative 1: Use absolute path construction\n",
    "# current_dir = os.path.abspath('')\n",
    "# parent_dir = os.path.dirname(current_dir)\n",
    "# sys.path.insert(0, parent_dir)\n",
    "\n",
    "# # Alternative 2: Use pathlib for more modern path handling\n",
    "# parent_path = pathlib.Path().absolute().parent\n",
    "# sys.path.insert(0, str(parent_path))\n",
    "\n",
    "# 新增：將上一層目錄加入 sys.path\n",
    "parent_path = pathlib.Path().absolute().parent\n",
    "sys.path.insert(0, str(parent_path))\n",
    "\n",
    "os.environ.setdefault('DJANGO_SETTINGS_MODULE', 'website_configs.settings')\n",
    "import django\n",
    "django.setup()\n",
    "# 重要：設定環境變數以允許在 Jupyter 的異步環境中執行同步操作\n",
    "os.environ[\"DJANGO_ALLOW_ASYNC_UNSAFE\"] = \"true\"\n",
    "\n",
    "# Now we can import Django models\n",
    "from app_top_person_db.models import TopPerson"
   ]
  },
  {
   "cell_type": "code",
   "execution_count": 31,
   "id": "cb2d9d28",
   "metadata": {},
   "outputs": [
    {
     "name": "stdout",
     "output_type": "stream",
     "text": [
      "Index(['category', 'top_keys'], dtype='object')\n"
     ]
    }
   ],
   "source": [
    "# Read CSV file\n",
    "csv_file_path = '../app_top_person/dataset/news_top_person_by_category_via_ner.csv'\n",
    "# csv_file_path = '../app_user_keyword/dataset/cna_news_preprocessed_12weeks.csv'\n",
    "df = pd.read_csv(csv_file_path, sep=',')\n",
    "print(df.columns)\n",
    "\n"
   ]
  },
  {
   "cell_type": "code",
   "execution_count": 26,
   "id": "954fa6c7",
   "metadata": {},
   "outputs": [],
   "source": [
    "df['category'] = df['category'].str.strip()\n",
    "\n"
   ]
  },
  {
   "cell_type": "code",
   "execution_count": 28,
   "id": "f730653a",
   "metadata": {},
   "outputs": [
    {
     "name": "stdout",
     "output_type": "stream",
     "text": [
      "0       即時\n",
      "1     娛樂影劇\n",
      "2       國際\n",
      "3       政治\n",
      "4     社會地方\n",
      "5       財經\n",
      "6       運動\n",
      "7       玩樂\n",
      "8       品味\n",
      "9     遊戲3C\n",
      "10      全部\n",
      "Name: category, dtype: object\n"
     ]
    }
   ],
   "source": [
    "print(df['category'])"
   ]
  },
  {
   "cell_type": "code",
   "execution_count": 35,
   "id": "22c9ec6b",
   "metadata": {},
   "outputs": [
    {
     "name": "stdout",
     "output_type": "stream",
     "text": [
      "Created new TopPerson object for category: 即時\n",
      "Created new TopPerson object for category: 娛樂影劇\n",
      "Created new TopPerson object for category: 國際\n",
      "Created new TopPerson object for category: 政治\n",
      "Created new TopPerson object for category: 社會地方\n",
      "Created new TopPerson object for category: 財經\n",
      "Updated existing TopPerson object for category: 運動\n",
      "Created new TopPerson object for category: 玩樂\n",
      "Created new TopPerson object for category: 品味\n",
      "Created new TopPerson object for category: 遊戲3C\n",
      "Created new TopPerson object for category: 全部\n"
     ]
    }
   ],
   "source": [
    "# Process each category separately\n",
    "for category in df['category'].unique():\n",
    "    # Filter the dataframe for the specific category\n",
    "    category_df = df[df['category'] == category]\n",
    "\n",
    "    try:\n",
    "        # Iterate through each row in the filtered category dataframe\n",
    "        for idx, row in category_df.iterrows():\n",
    "            # Create or update TopPerson object based on category\n",
    "            news_data, created = TopPerson.objects.update_or_create(\n",
    "                category=category,  # Ensure category is used as filter\n",
    "                defaults={\n",
    "                    'top_keys': row['top_keys'],\n",
    "                }\n",
    "            )\n",
    "            if created:\n",
    "                print(f\"Created new TopPerson object for category: {category}\")\n",
    "            else:\n",
    "                print(f\"Updated existing TopPerson object for category: {category}\")\n",
    "    except Exception as e:\n",
    "        print(f\"Error processing category {category} at row {idx}: {e}\")\n",
    "        print(row)\n"
   ]
  },
  {
   "cell_type": "code",
   "execution_count": 34,
   "id": "bea8f33c",
   "metadata": {},
   "outputs": [
    {
     "data": {
      "text/plain": [
       "False"
      ]
     },
     "execution_count": 34,
     "metadata": {},
     "output_type": "execute_result"
    }
   ],
   "source": [
    "created"
   ]
  },
  {
   "cell_type": "code",
   "execution_count": null,
   "id": "2e63a386",
   "metadata": {},
   "outputs": [],
   "source": []
  }
 ],
 "metadata": {
  "kernelspec": {
   "display_name": "base",
   "language": "python",
   "name": "python3"
  },
  "language_info": {
   "codemirror_mode": {
    "name": "ipython",
    "version": 3
   },
   "file_extension": ".py",
   "mimetype": "text/x-python",
   "name": "python",
   "nbconvert_exporter": "python",
   "pygments_lexer": "ipython3",
   "version": "3.9.18"
  }
 },
 "nbformat": 4,
 "nbformat_minor": 5
}
