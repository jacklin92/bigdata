{
 "cells": [
  {
   "cell_type": "markdown",
   "metadata": {},
   "source": [
    "# Craw a piece of CNA news: step by step using bs4\n",
    "# 學生爬取yahoo的遊戲3C相關新聞\n"
   ]
  },
  {
   "cell_type": "markdown",
   "metadata": {},
   "source": [
    "Beautiful Soup is a HTML/XML parser with Python\n",
    "Beautiful Soup是用Python寫的一個HTML/XML的解析器\n",
    "\n",
    "    find specified tag with the following appraoches:\n",
    "    尋找特定標籤或有著特定屬性的標籤Tag，有以下兩種方法\n",
    "\n",
    "    (1)find\n",
    "    find('article', {'class':\"article\"})\n",
    "    findAll('' , {})\n",
    "\n",
    "\n",
    "\n",
    "    (2)select \n",
    "    select_one()\n",
    "    select()\n",
    "\n",
    "\n",
    "    findAll():  find all 找到全部\n",
    "    find():    find one 找到一個就停止\n",
    "\n",
    "    連續查找:\n",
    "    find().find()\n",
    "\n",
    "Reference參考資料\n",
    "https://www.crummy.com/software/BeautifulSoup/bs3/documentation.html"
   ]
  },
  {
   "cell_type": "code",
   "execution_count": 1,
   "metadata": {},
   "outputs": [
    {
     "name": "stdout",
     "output_type": "stream",
     "text": [
      "Requirement already satisfied: fake_useragent in c:\\users\\jackl\\anaconda3\\lib\\site-packages (2.0.3)\n",
      "Requirement already satisfied: importlib-resources>=6.0 in c:\\users\\jackl\\anaconda3\\lib\\site-packages (from fake_useragent) (6.1.0)\n",
      "Requirement already satisfied: zipp>=3.1.0 in c:\\users\\jackl\\anaconda3\\lib\\site-packages (from importlib-resources>=6.0->fake_useragent) (3.11.0)\n"
     ]
    },
    {
     "name": "stderr",
     "output_type": "stream",
     "text": [
      "\n",
      "[notice] A new release of pip is available: 24.2 -> 25.0.1\n",
      "[notice] To update, run: python.exe -m pip install --upgrade pip\n"
     ]
    },
    {
     "name": "stdout",
     "output_type": "stream",
     "text": [
      "Requirement already satisfied: requests in c:\\users\\jackl\\anaconda3\\lib\\site-packages (2.31.0)\n",
      "Requirement already satisfied: charset-normalizer<4,>=2 in c:\\users\\jackl\\anaconda3\\lib\\site-packages (from requests) (2.0.4)\n",
      "Requirement already satisfied: idna<4,>=2.5 in c:\\users\\jackl\\anaconda3\\lib\\site-packages (from requests) (2.10)\n",
      "Requirement already satisfied: urllib3<3,>=1.21.1 in c:\\users\\jackl\\anaconda3\\lib\\site-packages (from requests) (1.26.18)\n",
      "Requirement already satisfied: certifi>=2017.4.17 in c:\\users\\jackl\\anaconda3\\lib\\site-packages (from requests) (2023.11.17)\n"
     ]
    },
    {
     "name": "stderr",
     "output_type": "stream",
     "text": [
      "\n",
      "[notice] A new release of pip is available: 24.2 -> 25.0.1\n",
      "[notice] To update, run: python.exe -m pip install --upgrade pip\n"
     ]
    },
    {
     "name": "stdout",
     "output_type": "stream",
     "text": [
      "Requirement already satisfied: BeautifulSoup4 in c:\\users\\jackl\\anaconda3\\lib\\site-packages (4.12.2)\n",
      "Requirement already satisfied: soupsieve>1.2 in c:\\users\\jackl\\anaconda3\\lib\\site-packages (from BeautifulSoup4) (2.5)\n"
     ]
    },
    {
     "name": "stderr",
     "output_type": "stream",
     "text": [
      "\n",
      "[notice] A new release of pip is available: 24.2 -> 25.0.1\n",
      "[notice] To update, run: python.exe -m pip install --upgrade pip\n"
     ]
    }
   ],
   "source": [
    "!pip install fake_useragent\n",
    "!pip install requests\n",
    "!pip install BeautifulSoup4"
   ]
  },
  {
   "cell_type": "code",
   "execution_count": 2,
   "metadata": {},
   "outputs": [],
   "source": [
    "import requests\n",
    "from bs4 import BeautifulSoup\n",
    "import re\n",
    "from fake_useragent import UserAgent"
   ]
  },
  {
   "cell_type": "code",
   "execution_count": 3,
   "metadata": {},
   "outputs": [],
   "source": [
    "\n",
    "user_agent = UserAgent()"
   ]
  },
  {
   "cell_type": "code",
   "execution_count": 4,
   "metadata": {},
   "outputs": [
    {
     "data": {
      "text/plain": [
       "'Mozilla/5.0 (Windows NT 10.0; Win64; x64) AppleWebKit/537.36 (KHTML, like Gecko) Chrome/129.0.0.0 Safari/537.36'"
      ]
     },
     "execution_count": 4,
     "metadata": {},
     "output_type": "execute_result"
    }
   ],
   "source": [
    "user_agent.random"
   ]
  },
  {
   "cell_type": "code",
   "execution_count": 5,
   "metadata": {},
   "outputs": [],
   "source": [
    "url = 'https://tw.news.yahoo.com/%E5%BE%AE%E8%BB%9F%E6%96%B0%E9%81%8A%E6%88%B2ai%E6%A8%A1%E5%9E%8B%E3%80%8Cmuse%E3%80%8D%E4%BA%AE%E7%9B%B8%EF%BC%81%E5%8D%B3%E6%99%82%E7%94%9F%E6%88%90%E9%81%8A%E6%88%B2%E7%95%AB%E9%9D%A2-%E5%8D%BB%E5%BC%95%E7%88%86%E7%8E%A9%E5%AE%B6%E6%AD%A3%E5%8F%8D%E8%AB%96%E6%88%B0-051114570.html'\n",
    "#req = requests.get( url )\n",
    "req = requests.get(url, headers={ 'user-agent': user_agent.random }, timeout=5)"
   ]
  },
  {
   "cell_type": "code",
   "execution_count": 6,
   "metadata": {},
   "outputs": [
    {
     "data": {
      "text/plain": [
       "'<!doctype html><html data-color-theme-enabled=true id=atomic class=\"NoJs Fz(62.5%) Pos(r) news      smartphone bktnews-TW-zh-Hant-TW-def ua-chrome mobile ua-131.0\" lang=zh-Hant-TW><head><script>\\n        window.performance.mark(\\'PageStart\\');\\n        (function(html){var c = document.documentElement.classList;c.add(\\'JsEnabled\\', \\'jsenabled\\');c.remove(\\'NoJs\\');})(document.documentElement);\\n        /**\\n        * Empty darlaOnready method, to avoid JS error.\\n        * This can happen when Async Darla JS file is loaded earlier than Darla Proxy JS.\\n        * This method will be overridden by Darla Proxy\\n        */\\n        window.darlaOnready = function() {};\\n        </script><title>微軟新遊戲AI模型「Muse」亮相！即時生成遊戲畫面 卻引爆玩家正反論戰</title><meta http-equiv=content-type content=\"text/html; charset=utf-8\"><meta http-equiv=x-dns-prefetch-control content=on><meta http-equiv=X-UA-Compatible content=chrome=1><meta name=\"oath:guce:consent-host\" content=\"guce.yahoo.com\"><meta name=\"viewport\" content=\"width=device-width, initial-scale=1\"><meta name=\"news_keywords\" content=\"AI, Muse, 微軟\" /><meta name=\"twitter:title\" content=\"&#x5FAE;&#x8EDF;&#x65B0;&#x904A;&#x6232;AI&#x6A21;&#x578B;&#x300C;Muse&#x300D;&#x4EAE;&#x76F8;&#xFF01;&#x5373;&#x6642;&#x751F;&#x6210;&#x904A;&#x6232;&#x756B;&#x9762; &#x537B;&#x5F15;&#x7206;&#x73A9;&#x5BB6;&#x6B63;&#x53CD;&#x8AD6;&#x6230;\" /><meta property=\"og:title\" content=\"&#x5FAE;&#x8EDF;&#x65B0;&#x904A;&#x6232;AI&#x6A21;&#x578B;&#x300C;Muse&#x300D;&#x4EAE;&#x76F8;&#xFF01;&#x5373;&#x6642;&#x751F;&#x6210;&#x904A;&#x6232;&#x756B;&#x9762; &#x537B;&#x5F15;&#x7206;&#x73A9;&#x5BB6;&#x6B63;&#x53CD;&#x8AD6;&#x6230;\" /><meta property=\"og:url\" content=\"https://tw.news.yahoo.com/%E5%BE%AE%E8%BB%9F%E6%96%B0%E9%81%8A%E6%88%B2ai%E6%A8%A1%E5%9E%8B%E3%80%8Cmuse%E3%80%8D%E4%BA%AE%E7%9B%B8%EF%BC%81%E5%8D%B3%E6%99%82%E7%94%9F%E6%88%90%E9%81%8A%E6%88%B2%E7%95%AB%E9%9D%A2-%E5%8D%BB%E5%BC%95%E7%88%86%E7%8E%A9%E5%AE%B6%E6%AD%A3%E5%8F%8D%E8%AB%96%E6%88%B0-051114570.html\" /><meta name=\"robots\" content=\"max-image-preview:large\"><meta property=\"al:android:url\" content=\"ysuper://story/微軟新遊戲ai模型「muse」亮相！即時生成遊戲畫面-卻引爆玩家正反論戰-051114570/3ef0db31-705c-4ff1-ae51-78c373071f7c\" /><meta name=\"apple-itunes-app\" content=\"app-id=1437216700,app-argument=ysuper://story/微軟新遊戲ai模型「muse」亮相！即時生成遊戲畫面-卻引爆玩家正反論戰-051114570/3ef0db31-705c-4ff1-ae51-78c373071f7c\" /><meta property=\"al:ios:url\" content=\"ysuper://story/微軟新遊戲ai模型「muse」亮相！即時生成遊戲畫面-卻引爆玩家正反論戰-051114570/3ef0db31-705c-4ff1-ae51-78c373071f7c\" /><meta name=\"twitter:description\" content=\"&#x8FD1;&#x5E7E;&#x5E74;&#x5404;&#x5927;&#x4F01;&#x696D;&#x767C;&#x5C55; AI &#x6280;&#x8853;&#xFF0C;&#x5C31;&#x9023;&#x904A;&#x6232;&#x7522;&#x696D;&#x90FD;&#x9678;&#x7E8C;&#x958B;&#x59CB;&#x61C9;&#x7528;&#x8207;&#x5C55;&#x793A;&#x6982;&#x5FF5;&#xFF0C;&#x50CF;&#x662F;&#x5FAE;&#x8EDF;&#x5728; 2024 &#x5E74; 5 &#x6708;&#xFF0C;&#x4EE5;&#x81EA;&#x5BB6;&#x300A;Minecraft&#x300B;&#x70BA;&#x4F8B;&#xFF0C;&#x5C55;&#x793A;&#x4E86;&#x53EF;&#x4EE5;&#x9032;&#x884C;&#x5373;&#x6642;&#x5C0D;&#x8A71;&#x8207;&#x53CD;&#x61C9;&#x7684; AI&#xFF0C;&#x63D0;&#x4F9B;&#x653B;&#x7565;&#x8207;&#x6307;&#x4EE4;&#x4F86;&#x5E6B;&#x52A9;&#x73A9;&#x5BB6;&#x3002;&#x800C;&#x65E5;&#x524D;&#xFF0C;&#x5FAE;&#x8EDF;&#x767C;&#x8868;&#x4E86;&#x4E00;&#x6B3E;&#x540D;&#x70BA;&#x300C;Muse&#x300D;&#x7684;&#x5168;&#x65B0; AI &#x6A21;&#x578B;&#xFF0C;&#x5C55;&#x793A;&#x4E86;&#x5B83;&#x80FD;&#x7528;&#x5728;&#x751F;&#x6210;&#x96FB;&#x5B50;&#x904A;&#x6232;&#x756B;&#x9762;&#x8207;&#x52D5;&#x4F5C;&#x7684;&#x5168;&#x65B0;&#x6280;&#x8853;&#xFF0C;&#x4F46;&#x516C;&#x958B;&#x5F8C;&#x793E;&#x7FA4;&#x8A55;&#x50F9;&#x5247;&#x662F;&#x5341;&#x5206;&#x5169;&#x6975;&#x5316;&#x3002;\" /><meta name=\"description\" content=\"&#x8FD1;&#x5E7E;&#x5E74;&#x5404;&#x5927;&#x4F01;&#x696D;&#x767C;&#x5C55; AI &#x6280;&#x8853;&#xFF0C;&#x5C31;&#x9023;&#x904A;&#x6232;&#x7522;&#x696D;&#x90FD;&#x9678;&#x7E8C;&#x958B;&#x59CB;&#x61C9;&#x7528;&#x8207;&#x5C55;&#x793A;&#x6982;&#x5FF5;&#xFF0C;&#x50CF;&#x662F;&#x5FAE;&#x8EDF;&#x5728; 2024 &#x5E74; 5 &#x6708;&#xFF0C;&#x4EE5;&#x81EA;&#x5BB6;&#x300A;Minecraft&#x300B;&#x70BA;&#x4F8B;&#xFF0C;&#x5C55;&#x793A;&#x4E86;&#x53EF;&#x4EE5;&#x9032;&#x884C;&#x5373;&#x6642;&#x5C0D;&#x8A71;&#x8207;&#x53CD;&#x61C9;&#x7684; AI&#xFF0C;&#x63D0;&#x4F9B;&#x653B;&#x7565;&#x8207;&#x6307;&#x4EE4;&#x4F86;&#x5E6B;&#x52A9;&#x73A9;&#x5BB6;&#x3002;&#x800C;&#x65E5;&#x524D;&#xFF0C;&#x5FAE;&#x8EDF;&#x767C;&#x8868;&#x4E86;&#x4E00;&#x6B3E;&#x540D;&#x70BA;&#x300C;Muse&#x300D;&#x7684;&#x5168;&#x65B0; AI &#x6A21;&#x578B;&#xFF0C;&#x5C55;&#x793A;&#x4E86;&#x5B83;&#x80FD;&#x7528;&#x5728;&#x751F;&#x6210;&#x96FB;&#x5B50;&#x904A;&#x6232;&#x756B;&#x9762;&#x8207;&#x52D5;&#x4F5C;&#x7684;&#x5168;&#x65B0;&#x6280;&#x8853;&#xFF0C;&#x4F46;&#x516C;&#x958B;&#x5F8C;&#x793E;&#x7FA4;&#x8A55;&#x50F9;&#x5247;&#x662F;&#x5341;&#x5206;&#x5169;&#x6975;&#x5316;&#x3002;\" /><meta property=\"og:description\" content=\"&#x8FD1;&#x5E7E;&#x5E74;&#x5404;&#x5927;&#x4F01;&#x696D;&#x767C;&#x5C55; AI &#x6280;&#x8853;&#xFF0C;&#x5C31;&#x9023;&#x904A;&#x6232;&#x7522;&#x696D;&#x90FD;&#x9678;&#x7E8C;&#x958B;&#x59CB;&#x61C9;&#x7528;&#x8207;&#x5C55;&#x793A;&#x6982;&#x5FF5;&#xFF0C;&#x50CF;&#x662F;&#x5FAE;&#x8EDF;&#x5728; 2024 &#x5E74; 5 &#x6708;&#xFF0C;&#x4EE5;&#x81EA;&#x5BB6;&#x300A;Minecraft&#x300B;&#x70BA;&#x4F8B;&#xFF0C;&#x5C55;&#x793A;&#x4E86;&#x53EF;&#x4EE5;&#x9032;&#x884C;&#x5373;&#x6642;&#x5C0D;&#x8A71;&#x8207;&#x53CD;&#x61C9;&#x7684; AI&#xFF0C;&#x63D0;&#x4F9B;&#x653B;&#x7565;&#x8207;&#x6307;&#x4EE4;&#x4F86;&#x5E6B;&#x52A9;&#x73A9;&#x5BB6;&#x3002;&#x800C;&#x65E5;&#x524D;&#xFF0C;&#x5FAE;&#x8EDF;&#x767C;&#x8868;&#x4E86;&#x4E00;&#x6B3E;&#x540D;&#x70BA;&#x300C;Muse&#x300D;&#x7684;&#x5168;&#x65B0; AI &#x6A21;&#x578B;&#xFF0C;&#x5C55;&#x793A;&#x4E86;&#x5B83;&#x80FD;&#x7528;&#x5728;&#x751F;&#x6210;&#x96FB;&#x5B50;&#x904A;&#x6232;&#x756B;&#x9762;&#x8207;&#x52D5;&#x4F5C;&#x7684;&#x5168;&#x65B0;&#x6280;&#x8853;&#xFF0C;&#x4F46;&#x516C;&#x958B;&#x5F8C;&#x793E;&#x7FA4;&#x8A55;&#x50F9;&#x5247;&#x662F;&#x5341;&#x5206;&#x5169;&#x6975;&#x5316;&#x3002;\" /><meta property=\"al:android:app_name\" content=\"Yahoo奇摩\" /><meta property=\"al:android:package\" content=\"com.yahoo.mobile.client.android.superapp\" /><meta property=\"al:ios:app_name\" content=\"Yahoo奇摩\" /><meta property=\"al:ios:app_store_id\" content=\"1437216700\" /><meta name=\"twitter:site\" content=\"@Yahoo\" /><meta name=\"twitter:dnt\" content=\"on\" /><meta property=\"og:type\" content=\"article\" /><meta property=\"og:site_name\" content=\"Yahoo News\" /><link rel=\"canonical\" href=\"https://tw.news.yahoo.com/%E5%BE%AE%E8%BB%9F%E6%96%B0%E9%81%8A%E6%88%B2ai%E6%A8%A1%E5%9E%8B%E3%80%8Cmuse%E3%80%8D%E4%BA%AE%E7%9B%B8%EF%BC%81%E5%8D%B3%E6%99%82%E7%94%9F%E6%88%90%E9%81%8A%E6%88%B2%E7%95%AB%E9%9D%A2-%E5%8D%BB%E5%BC%95%E7%88%86%E7%8E%A9%E5%AE%B6%E6%AD%A3%E5%8F%8D%E8%AB%96%E6%88%B0-051114570.html\" /><link rel=\"preload\" href=\"https://s.yimg.com/ny/api/res/1.2/X5yHcCES.IcZJwibXDdwsQ--/YXBwaWQ9aGlnaGxhbmRlcjt3PTY0MDtoPTM2MA--/https://s.yimg.com/os/creatr-uploaded-images/2025-02/6d26a160-f26d-11ef-b79b-0381b8da326e\" as=\"image\" /><meta name=\"twitter:image\" content=\"https://s.yimg.com/ny/api/res/1.2/19sArJLP3G6qUYsLn82HGQ--/YXBwaWQ9aGlnaGxhbmRlcjt3PTEyMDA7aD02NzU-/https://s.yimg.com/os/creatr-uploaded-images/2025-02/6d26a160-f26d-11ef-b79b-0381b8da326e\" /><meta name=\"twitter:image:src\" content=\"https://s.yimg.com/ny/api/res/1.2/19sArJLP3G6qUYsLn82HGQ--/YXBwaWQ9aGlnaGxhbmRlcjt3PTEyMDA7aD02NzU-/https://s.yimg.com/os/creatr-uploaded-images/2025-02/6d26a160-f26d-11ef-b79b-0381b8da326e\" /><meta property=\"og:image\" content=\"https://s.yimg.com/ny/api/res/1.2/19sArJLP3G6qUYsLn82HGQ--/YXBwaWQ9aGlnaGxhbmRlcjt3PTEyMDA7aD02NzU-/https://s.yimg.com/os/creatr-uploaded-images/2025-02/6d26a160-f26d-11ef-b79b-0381b8da326e\" /><meta property=\"og:image:width\" content=\"1200\" /><meta property=\"og:image:height\" content=\"675\" /><meta property=\"twitter:card\" content=\"summary_large_image\" /><link rel=\"shortcut icon\" href=\"https://s.yimg.com/rz/l/favicon.ico\"><link rel=\"preload\" href=\"https://s.yimg.com/cv/apiv2/ngy-fonts/YahooSans-VF-Web.woff2\" as=\"font\" type=\"font/woff2\" crossorigin><link rel=\"preload\" href=\"https://s.yimg.com/cv/apiv2/fonts/2019/YahooSansCond-XBold.woff2\" as=\"font\" type=\"font/woff2\" crossorigin><link rel=\"dns-prefetch\" href=\"//geo.yahoo.com\"><link rel=\"preconnect\" href=\"//geo.yahoo.com\"><link rel=\"dns-prefetch\" href=\"//geo.query.yahoo.com\"><link rel=\"preconnect\" href=\"//geo.query.yahoo.com\"><link rel=\"dns-prefetch\" href=\"//search.yahoo.com\"><link rel=\"preconnect\" href=\"//search.yahoo.com\"><link rel=\"dns-prefetch\" href=\"//udc.yahoo.com\"><link rel=\"preconnect\" href=\"//udc.yahoo.com\"><link rel=\"dns-prefetch\" href=\"//s.yimg.com\"><link rel=\"preconnect\" href=\"//s.yimg.com\"><link rel=\"stylesheet\" type=\"text/css\" href=\"https://s.yimg.com/dr/fp/css/fusion.atomic.07d1a672572192e28fef8fa96076828c.css\"><link rel=\"stylesheet\" type=\"text/css\" href=\"https://s.yimg.com/aaq/art/css/sdacontainer.7071768451db14ed357aca3116377c69.css\"><link rel=\"stylesheet\" type=\"text/css\" href=\"https://s.yimg.com/os/yc/css/bundle.c60a6d54.css\"><link rel=\"stylesheet\" type=\"text/css\" href=\"https://s.yimg.com/aaq/art/css/yahoosans.6263160197e55d64da3484ae09bd2851.css\"><link rel=\"stylesheet\" type=\"text/css\" href=\"https://s.yimg.com/aaq/art/css/mobileweb.1e671937353f707e1ba1b78c9894e938.css\"><link rel=\"stylesheet\" type=\"text/css\" href=\"https://s.yimg.com/aaq/fp/css/tdv2-wafer-adfeedback.custom.smartphone.892444a0239165161b3a5b8e7de0dd0f.css\"><link rel=\"stylesheet\" type=\"text/css\" href=\"https://s.yimg.com/aaq/art/css/darkmode.d7070f6aabdb9dea30c1eba10c43f263.css\"><link rel=\"stylesheet\" type=\"text/css\" href=\"https://s.yimg.com/aaq/art/css/topAdStickyStyle.d8bd335f910e8c18c62db8007571e6b5.css\"><link rel=\"stylesheet\" type=\"text/css\" href=\"https://s.yimg.com/aaq/cprops/colors_1.1.27.min.css\"><link rel=\"stylesheet\" type=\"text/css\" href=\"https://s.yimg.com/aaq/nel/css/tdv2-wafer-content-list.custom.888132cb49eb61157282573521d113fb.css\"><link rel=\"stylesheet\" type=\"text/css\" href=\"https://s.yimg.com/aaq/nel/css/tdv2-wafer-related-content.custom.ca56b2d35aebbdcbe7ca2079685379b1.css\"><link rel=\"stylesheet\" type=\"text/css\" href=\"https://s.yimg.com/aaq/nel/css/login-wall.customCoverAdWall.3b6719ddd8d727d684585ca119602f6f.css\"><link rel=\"stylesheet\" type=\"text/css\" href=\"https://s.yimg.com/br/tw_ms/css/react-wafer-apac-ad.custom.mobile.c019af6139bbb3d42aef277b5512c5d9.css\"><link rel=\"stylesheet\" type=\"text/css\" href=\"https://s.yimg.com/aaq/nel/css/tdv2-wafer-loyalty.article-challenge.1e572d223901f4b59e999cdfc9bf90a8.css\"><script type=\"text/javascript\" src=\"https://s.yimg.com/aaq/art/js/caas.40f4c8a2980af77c2ce9bdc2e53f50a5.js\" defer></script><script type=\"text/javascript\" src=\"https://s.yimg.com/aaq/wf/wf-loader-2.7.21-modern.js\" defer></script><script type=\"text/javascript\" src=\"https://s.yimg.com/aaq/yc/js/iframe-1.0.31.js\" defer></script><script type=\"text/javascript\" src=\"https://s.yimg.com/aaq/art/js/comments.0153199c435c205e1cebebab5b9ebf0a.js\" defer></script><script type=\"text/javascript\" src=\"https://s.yimg.com/ss/analytics-3.57.2.js\"></script><script type=\"text/javascript\">!function(){var e={1040:function(e){\"use strict\";function t(e){return(t=\"function\"==typeof Symbol&&\"symbol\"==typeof Symbol.iterator?function(e){return typeof e}:function(e){return e&&\"function\"==typeof Symbol&&e.constructor===Symbol&&e!==Symbol.prototype?\"symbol\":typeof e})(e)}e.exports=function(){for(var e,n,a=[],s=window,r=s;r;){try{if(r.frames.__tcfapiLocator){e=r;break}}catch(e){}if(r===s.top)break;r=r.parent}e||(function e(){var t=s.document,n=!!s.frames.__tcfapiLocator;if(!n)if(t.body){var a=t.createElement(\"iframe\");a.style.cssText=\"display:none\",a.name=\"__tcfapiLocator\",t.body.appendChild(a)}else setTimeout(e,5);return!n}(),s.__tcfapi=function(){for(var e=arguments.length,t=new Array(e),s=0;s<e;s++)t[s]=arguments[s];if(!t.length)return a;\"setGdprApplies\"===t[0]?t.length>3&&2===parseInt(t[1],10)&&\"boolean\"==typeof t[3]&&(n=t[3],\"function\"==typeof t[2]&&t[2](\"set\",!0)):\"ping\"===t[0]?\"function\"==typeof t[2]&&t[2]({gdprApplies:n,cmpLoaded:!1,cmpStatus:\"stub\"}):a.push(t)},s.addEventListener(\"message\",(function(e){var n=\"string\"==typeof e.data,a={};if(n)try{a=JSON.parse(e.data)}catch(e){}else a=e.data;var s=\"object\"===t(a)&&null!==a?a.__tcfapiCall:null;s&&window.__tcfapi(s.command,s.version,(function(t,a){var r={__tcfapiReturn:{returnValue:t,success:a,callId:s.callId}};e&&e.source&&e.source.postMessage&&e.source.postMessage(n?JSON.stringify(r):r,\"*\")}),s.parameter)}),!1))}},5385:function(){\"use strict\";window.__gpp_addFrame=function(e){if(!window.frames[e])if(document.body){var t=document.createElement(\"iframe\");t.style.cssText=\"display:none\",t.name=e,document.body.appendChild(t)}else window.setTimeout(window.__gpp_addFrame,10,e)},window.__gpp_stub=function(){var e=arguments;if(__gpp.queue=__gpp.queue||[],__gpp.events=__gpp.events||[],!e.length||1==e.length&&\"queue\"==e[0])return __gpp.queue;if(1==e.length&&\"events\"==e[0])return __gpp.events;var t=e[0],n=e.length>1?e[1]:null,a=e.length>2?e[2]:null;if(\"ping\"===t)n({gppVersion:\"1.1\",cmpStatus:\"stub\",cmpDisplayStatus:\"hidden\",signalStatus:\"not ready\",supportedAPIs:[\"2:tcfeuv2\",\"5:tcfcav1\",\"6:uspv1\",\"7:usnatv1\",\"8:uscav1\",\"9:usvav1\",\"10:uscov1\",\"11:usutv1\",\"12:usctv1\"],cmpId:0,sectionList:[],applicableSections:[],gppString:\"\",parsedSections:{}},!0);else if(\"addEventListener\"===t){\"lastId\"in __gpp||(__gpp.lastId=0),__gpp.lastId++;var s=__gpp.lastId;__gpp.events.push({id:s,callback:n,parameter:a}),n({eventName:\"listenerRegistered\",listenerId:s,data:!0,pingData:{gppVersion:\"1.1\",cmpStatus:\"stub\",cmpDisplayStatus:\"hidden\",signalStatus:\"not ready\",supportedAPIs:[\"2:tcfeuv2\",\"5:tcfcav1\",\"6:uspv1\",\"7:usnatv1\",\"8:uscav1\",\"9:usvav1\",\"10:uscov1\",\"11:usutv1\",\"12:usctv1\"],cmpId:0,sectionList:[],applicableSections:[],gppString:\"\",parsedSections:{}}},!0)}else if(\"removeEventListener\"===t){for(var r=!1,o=0;o<__gpp.events.length;o++)if(__gpp.events[o].id==a){__gpp.events.splice(o,1),r=!0;break}n({eventName:\"listenerRemoved\",listenerId:a,data:r,pingData:{gppVersion:\"1.1\",cmpStatus:\"stub\",cmpDisplayStatus:\"hidden\",signalStatus:\"not ready\",supportedAPIs:[\"2:tcfeuv2\",\"5:tcfcav1\",\"6:uspv1\",\"7:usnatv1\",\"8:uscav1\",\"9:usvav1\",\"10:uscov1\",\"11:usutv1\",\"12:usctv1\"],cmpId:0,sectionList:[],applicableSections:[],gppString:\"\",parsedSections:{}}},!0)}else\"hasSection\"===t?n(!1,!0):\"getSection\"===t||\"getField\"===t?n(null,!0):__gpp.queue.push([].slice.apply(e))},window.__gpp_msghandler=function(e){var t=\"string\"==typeof e.data;try{var n=t?JSON.parse(e.data):e.data}catch(e){n=null}if(\"object\"==typeof n&&null!==n&&\"__gppCall\"in n){var a=n.__gppCall;window.__gpp(a.command,(function(n,s){var r={__gppReturn:{returnValue:n,success:s,callId:a.callId}};e.source.postMessage(t?JSON.stringify(r):r,\"*\")}),\"parameter\"in a?a.parameter:null,\"version\"in a?a.version:\"1.1\")}},\"__gpp\"in window&&\"function\"==typeof window.__gpp||(window.__gpp=window.__gpp_stub,window.addEventListener(\"message\",window.__gpp_msghandler,!1),window.__gpp_addFrame(\"__gppLocator\"))},1007:function(e,t,n){\"use strict\";n.r(t);var a=n(1040);n.n(a)()()},9476:function(){!function(){for(var e,t=\"__uspapiLocator\",n=[],a=window;a;){try{if(a.frames[t]){e=a;break}}catch(e){}if(a===window.top)break;a=a.parent}e||(function e(){var n=window.document;if(!window.frames[t])if(n.body){var a=n.createElement(\"iframe\");a.style.cssText=\"display:none\",a.name=t,n.body.appendChild(a)}else setTimeout(e,5)}(),window.__uspapi=function(){for(var e=arguments.length,t=new Array(e),a=0;a<e;a++)t[a]=arguments[a];if(!t.length)return n;n.push(t)},window.addEventListener(\"message\",(function(e){var t=\"string\"==typeof e.data,n={};try{n=t?JSON.parse(e.data):e.data}catch(e){}var a=n.__uspapiCall;a&&window.__uspapi(a.command,a.version,(function(n,s){var r={__uspapiReturn:{returnValue:n,success:s,callId:a.callId}};t&&(r=JSON.stringify(r)),e&&e.source&&e.source.postMessage(r,\"*\")}),a.parameter)}),!1))}()}},t={};function n(a){var s=t[a];if(void 0!==s)return s.exports;var r=t[a]={exports:{}};return e[a](r,r.exports,n),r.exports}n.n=function(e){var t=e&&e.__esModule?function(){return e.default}:function(){return e};return n.d(t,{a:t}),t},n.d=function(e,t){for(var a in t)n.o(t,a)&&!n.o(e,a)&&Object.defineProperty(e,a,{enumerable:!0,get:t[a]})},n.o=function(e,t){return Object.prototype.hasOwnProperty.call(e,t)},n.r=function(e){\"undefined\"!=typeof Symbol&&Symbol.toStringTag&&Object.defineProperty(e,Symbol.toStringTag,{value:\"Module\"}),Object.defineProperty(e,\"__esModule\",{value:!0})},function(){\"use strict\";n(9476);!window.document.documentMode&&(n(1007),n(5385))}()}();</script><script type=\"text/javascript\" src=\"https://consent.cmp.oath.com/version/7.0.0/cmp.js\" async></script><script type=\"text/javascript\" src=\"https://s.yimg.com/aaq/vzm/cs_2.0.0.js\" async></script><script type=\"text/javascript\" src=\"https://s.yimg.com/aaq/nel/js/tdv2-wafer-utils.customErrorHandler.bcda778b736c3a054af62f437b536e78.js\" defer></script><script type=\"text/javascript\" src=\"https://s.yimg.com/oa/consent.js\" async></script><script type=\"text/javascript\" src=\"https://s.yimg.com/aaq/benji/benji-2.2.50.js\" async></script><script type=\"text/javascript\" src=\"https://s.yimg.com/aaq/wf/wf-fetch-1.19.1-modern.js\" defer></script><script type=\"text/javascript\" src=\"https://s.yimg.com/aaq/wf/wf-video-3.2.2-modern.js\" defer></script><script type=\"text/javascript\" src=\"https://s.yimg.com/aaq/wf/wf-beacon-1.3.4-modern.js\" defer></script><script type=\"text/javascript\" src=\"https://s.yimg.com/aaq/wf/wf-benji-1.2.0-modern.js\" defer></script><script type=\"text/javascript\" src=\"https://s.yimg.com/aaq/wf/wf-scrollview-2.23.3-modern.js\" defer></script><script type=\"text/javascript\" src=\"https://s.yimg.com/aaq/wf/wf-toggle-1.15.4-modern.js\" defer></script><script type=\"text/javascript\" src=\"https://s.yimg.com/aaq/wf/wf-form-1.34.5-modern.js\" defer></script><script type=\"text/javascript\" src=\"https://s.yimg.com/aaq/wf/wf-caas-1.36.6-modern.js\" defer></script><script type=\"text/javascript\" src=\"https://s.yimg.com/aaq/wf/wf-lightbox-1.10.6-modern.js\" defer></script><script type=\"text/javascript\" src=\"https://s.yimg.com/aaq/wf/wf-countdown-1.2.5-modern.js\" defer></script><script type=\"text/javascript\" src=\"https://s.yimg.com/aaq/wf/wf-image-1.4.0-modern.js\" defer></script><script type=\"text/javascript\" src=\"https://s.yimg.com/aaq/nel/js/tdv2-wafer-content-list.custom.c55065592f3316c637717d204a89a974.js\" defer></script><script type=\"text/javascript\" src=\"https://s.yimg.com/aaq/wf/wf-rapid-1.10.9-modern.js\" defer></script><script type=\"text/javascript\" src=\"https://s.yimg.com/aaq/nel/js/tdv2-wafer-related-content.custom.d24b60ff685760e3123fecffafdc66c7.js\" defer></script><script type=\"text/javascript\" src=\"https://s.yimg.com/aaq/nel/js/login-wall.customCoverAdWall.3668683fbdeb172dad54f16c770d0a6b.js\" defer></script><script type=\"text/javascript\" src=\"https://s.yimg.com/br/tw_ms/js/react-wafer-apac-ad.custom.mobile.ee3d417e5c88a9ad1150e593790f5a76.js\" defer></script><script type=\"text/javascript\" src=\"https://s.yimg.com/aaq/fp/js/react-wafer-featurebar.custom.modern.12732500bc8e47693f0d777bbe88001c.js\" defer></script><script type=\"text/javascript\" src=\"https://s.yimg.com/aaq/wf/wf-menu-1.3.5-modern.js\" defer></script><script type=\"text/javascript\" src=\"https://s.yimg.com/aaq/wf/wf-progress-loader-1.2.10-modern.js\" defer></script><script type=\"text/javascript\" src=\"https://s.yimg.com/aaq/nel/js/tdv2-wafer-loyalty.article-challenge.f25f7dfd729e10f34bce34e059a9393f.js\" defer></script><script type=\"text/javascript\" src=\"https://s.yimg.com/aaq/nel/js/app-drive.custom.ed924f12f9eef1817e2ce54d0a5e8d9d.js\" defer></script><link rel=\"stylesheet\" type=\"text/css\" href=\"https://s.yimg.com/aaq/c/f4ba610.caas-article2_mweb.dark.min.css\"><script>\\n\\n        (function () {\\n            var benjiConfig = {\"i13n\":{\"_rid\":\"1r634dljsv6bv\",\"abk\":\"\",\"colo\":\"tp2\",\"mrkt\":\"tw\",\"p_sec\":\"default\",\"partner\":\"none\",\"site\":\"news\",\"uh_vw\":0,\"navtype\":\"server\",\"p_cpos\":1,\"p_hosted\":\"hosted\",\"pcp\":\"MrSun\",\"pct\":\"story\",\"pd\":\"non_modal\",\"pstaid\":\"3ef0db31-705c-4ff1-ae51-78c373071f7c\",\"pstaid_p\":\"3ef0db31-705c-4ff1-ae51-78c373071f7c\",\"pstcat\":\"news\",\"pt\":\"content\",\"redirect\":\"\",\"ver\":\"article\",\"_vuid\":\"eit0E8Rqy95MpyMhr45jOA\",\"displayts\":1740373875000,\"tag\":\"Xbox, news, game, 遊戲, AI, AI, Muse, 微軟\",\"authed\":\"0\",\"ynet\":\"0\",\"ssl\":\"1\",\"spdy\":\"0\",\"ytee\":\"0\",\"mode\":\"normal\",\"tpConsent\":true,\"adblock\":\"0\",\"device\":\"smartphone\",\"bot\":\"0\",\"browser\":\"chrome mobile\",\"app\":\"unknown\",\"ecma\":\"modern\",\"environment\":\"prod\",\"gdpr\":false,\"lang\":\"zh-Hant-TW\",\"dir\":\"ltr\",\"network\":\"broadband\",\"os\":\"android\",\"region\":\"TW\",\"time\":1741658495128,\"tz\":\"Asia/Taipei\",\"usercountry\":\"TW\",\"intl\":\"tw\",\"bucket\":\"news-TW-zh-Hant-TW-def\",\"designtype\":\"default\",\"pageName\":\"deeplink\",\"apptype\":\"\",\"feature\":[\"enableGAMAds\",\"caasEnableSpaceIdMappingWithPath\",\"dotBeacon\",\"editorialUpsells\",\"enableAdditionalPageContextParams\",\"enableBodyAdsCharCount\",\"enableCommunityBarIframeComments\",\"enableDarkMode\",\"enableInArticleAd\",\"enableInArticleAdMetaSize\",\"enableIntlStreamCoview\",\"enablePlayerComparisonRedesign\",\"enableSmartBanner\",\"enableTaboolaAdsInArticle\",\"enableTopAdSticky\",\"enableXrayEntityAboutFacts\",\"filterNonGdprEmbeds\",\"getCommerceModulesFromRmp\",\"headerOnTopForVideoContent\",\"liveBlogPolling\",\"relatedVideosOnNcp\"],\"baseContentType\":\"story\",\"contentType\":\"story\",\"hashtag\":[\"news\",\"game\",\"ai\",\"遊戲\",\"xbox\"],\"lmsid\":\"a0V6T00000KBLWzUAP\",\"lpstaid\":\"3ef0db31-705c-4ff1-ae51-78c373071f7c\",\"lu\":\"0\",\"spaceid\":\"964316273\"},\"prebidSetting\":{\"pbConfig\":{\"prebid\":{\"adUnits\":{\"tw_ynews_main_mw_btm_sticky\":{\"pos\":1,\"formats\":{\"banner\":{\"sizes\":[[320,50]]}},\"bidders\":{\"yahooPrebidServer\":{},\"yahooAds\":{\"pos\":\"tw_ynews_main_mw_btm_sticky\"},\"pubmatic\":{},\"rubicon\":{\"siteId\":\"525144\",\"zoneId\":\"3634842\"},\"ix\":{\"siteId\":\"1172788\"},\"taboola\":{\"tagId\":\"Yahoo News - Main - Mobile Web - Btm_Sticky\"},\"openx\":{\"unit\":\"561471026\"},\"triplelift\":{\"inventoryCode\":\"Yahoo_News_APAC_HDX_C2S\"},\"medianet\":{\"crid\":\"450138834\"},\"yieldmo\":{\"placementId\":\"3514741046091129763\"},\"kueezrtb\":{}}},\"tw_ynews_main_mw_mid_center\":{\"pos\":3,\"formats\":{\"banner\":{\"sizes\":[[300,250]]}},\"bidders\":{\"yahooPrebidServer\":{},\"yahooAds\":{\"pos\":\"tw_ynews_main_mw_mid_center\"},\"pubmatic\":{},\"rubicon\":{\"siteId\":\"525146\",\"zoneId\":\"3166576\"},\"ix\":{\"siteId\":\"1057677\"},\"taboola\":{\"tagId\":\"Yahoo News - Main - Mobile Web - Mid_Center\"},\"openx\":{\"unit\":\"560633163\"},\"triplelift\":{\"inventoryCode\":\"yahoo_all_300x250_APAC_pb\"},\"medianet\":{\"crid\":\"955202419\"},\"yieldmo\":{\"placementId\":\"3514741046091129763\"},\"criteo\":{},\"kueezrtb\":{}}},\"tw_ynews_main_mw_top_center\":{\"pos\":1,\"formats\":{\"banner\":{\"sizes\":[[320,50]]}},\"bidders\":{\"yahooPrebidServer\":{},\"yahooAds\":{\"pos\":\"tw_ynews_main_mw_top_center\"},\"pubmatic\":{},\"rubicon\":{\"siteId\":\"525146\",\"zoneId\":\"3166578\"},\"ix\":{\"siteId\":\"1057678\"},\"taboola\":{\"tagId\":\"Yahoo News - Main - Mobile Web - Top_Center\"},\"openx\":{\"unit\":\"560633166\"},\"triplelift\":{\"inventoryCode\":\"yahoo_all_HDX_APAC_pb\"},\"medianet\":{\"crid\":\"712471330\"},\"yieldmo\":{\"placementId\":\"3514741046091129763\"},\"criteo\":{},\"kueezrtb\":{}}},\"tw_ynews_ros_mw_btm_center\":{\"pos\":3,\"formats\":{\"banner\":{\"sizes\":[[300,250]]}},\"bidders\":{\"yahooPrebidServer\":{},\"yahooAds\":{\"pos\":\"tw_ynews_ros_mw_btm_center\"},\"pubmatic\":{},\"rubicon\":{\"siteId\":\"525146\",\"zoneId\":\"3166580\"},\"ix\":{\"siteId\":\"1057689\"},\"taboola\":{\"tagId\":\"Yahoo News - ROS - Mobile Web - Btm_Center\"},\"openx\":{\"unit\":\"560633173\"},\"triplelift\":{\"inventoryCode\":\"yahoo_all_300x250_APAC_pb\"},\"medianet\":{\"crid\":\"644067373\"},\"yieldmo\":{\"placementId\":\"3514741047064208296\"},\"kueezrtb\":{}}},\"tw_ynews_ros_mw_btm_sticky\":{\"pos\":1,\"formats\":{\"banner\":{\"sizes\":[[320,50]]}},\"bidders\":{\"yahooPrebidServer\":{},\"yahooAds\":{\"pos\":\"tw_ynews_ros_mw_btm_sticky\"},\"pubmatic\":{},\"rubicon\":{\"siteId\":\"525144\",\"zoneId\":\"3634834\"},\"ix\":{\"siteId\":\"1172764\"},\"taboola\":{\"tagId\":\"Yahoo News - ROS - Mobile Web - Btm_Sticky\"},\"openx\":{\"unit\":\"561471022\"},\"triplelift\":{\"inventoryCode\":\"Yahoo_News_APAC_HDX_C2S\"},\"medianet\":{\"crid\":\"488742448\"},\"yieldmo\":{\"placementId\":\"3514741047064208296\"},\"kueezrtb\":{}}},\"tw_ynews_ros_mw_mid_center\":{\"pos\":3,\"formats\":{\"banner\":{\"sizes\":[[300,250],[320,50],[320,100]]}},\"bidders\":{\"yahooPrebidServer\":{},\"yahooAds\":{\"pos\":\"tw_ynews_ros_mw_mid_center\"},\"pubmatic\":{},\"rubicon\":{\"siteId\":\"525146\",\"zoneId\":\"3166582\"},\"ix\":{\"siteId\":\"1057690\"},\"taboola\":{\"tagId\":\"Yahoo News - ROS - Mobile Web - Mid_Center\"},\"openx\":{\"unit\":\"560633176\"},\"triplelift\":{\"inventoryCode\":\"yahoo_all_300x250_APAC_pb\"},\"medianet\":{\"crid\":\"472436659\"},\"yieldmo\":{\"placementId\":\"3514741047064208296\"},\"criteo\":{},\"kueezrtb\":{}}},\"tw_ynews_ros_mw_mid_center_card\":{\"pos\":1,\"formats\":{\"banner\":{\"sizes\":[[300,250],[300,600]]}},\"bidders\":{\"yahooPrebidServer\":{},\"yahooAds\":{\"pos\":\"tw_ynews_ros_mw_mid_center_card\"},\"pubmatic\":{},\"rubicon\":{\"siteId\":\"525144\",\"zoneId\":\"3694270\"},\"ix\":{\"siteId\":\"1172887\"},\"openx\":{\"unit\":\"561943040\"},\"triplelift\":{\"inventoryCode\":\"Yahoo_News_AUNZ_300x600_C2S\"},\"medianet\":{\"crid\":\"943972565\"},\"yieldmo\":{\"placementId\":\"3514741047064208296\"},\"kueezrtb\":{}}},\"tw_ynews_ros_mw_top_center\":{\"pos\":1,\"formats\":{\"banner\":{\"sizes\":[[320,50],[320,100]]}},\"bidders\":{\"yahooPrebidServer\":{},\"yahooAds\":{\"pos\":\"tw_ynews_ros_mw_top_center\"},\"pubmatic\":{},\"rubicon\":{\"siteId\":\"525146\",\"zoneId\":\"3166584\"},\"ix\":{\"siteId\":\"1057691\"},\"taboola\":{\"tagId\":\"Yahoo News - ROS - Mobile Web - Top_Center\"},\"openx\":{\"unit\":\"560633179\"},\"triplelift\":{\"inventoryCode\":\"yahoo_all_HDX_APAC_pb\"},\"medianet\":{\"crid\":\"768341455\"},\"yieldmo\":{\"placementId\":\"3514741047064208296\"},\"criteo\":{},\"kueezrtb\":{}}},\"tw_ynews_ros_mw_top_center_mi\":{\"pos\":1,\"formats\":{\"banner\":{\"sizes\":[[320,480]]}},\"bidders\":{\"yahooPrebidServer\":{},\"yahooAds\":{\"pos\":\"tw_ynews_ros_mw_top_center_mi\"},\"pubmatic\":{},\"ix\":{\"siteId\":\"1172746\"},\"triplelift\":{\"inventoryCode\":\"Yahoo_News_APAC_320x480_C2S\"},\"kueezrtb\":{}}}},\"setConfig\":{\"debug\":false,\"enableSendAllBids\":false,\"targetingControls\":{\"alwaysIncludeDeals\":true,\"allowTargetingKeys\":[\"BIDDER\",\"AD_ID\",\"PRICE_BUCKET\",\"SIZE\",\"FORMAT\",\"DEAL\",\"SOURCE\",\"ADOMAIN\",\"CRID\",\"SEATID\",\"DEAL_TYPE\",\"CACHE_REGION\",\"PRICE_HUNDERED\",\"RESPONSIVE\"]},\"bidderTimeout\":2000,\"priceGranularity\":{\"buckets\":[{\"max\":10000,\"increment\":0.01}]},\"useBidCache\":true,\"minBidCacheTTL\":300,\"eventHistoryTTL\":60,\"auctionOptions\":{\"suppressStaleRender\":true},\"consentManagement\":{\"gpp\":{\"cmpApi\":\"iab\",\"timeout\":30000},\"gdpr\":{\"cmpApi\":\"iab\",\"timeout\":30000,\"rules\":[{\"purpose\":\"storage\",\"enforcePurpose\":true,\"enforceVendor\":true,\"vendorExceptions\":[\"yahooPrebidServer\"]},{\"purpose\":\"basicAds\",\"enforcePurpose\":true,\"enforceVendor\":true,\"vendorExceptions\":[\"yahooPrebidServer\"]},{\"purpose\":\"measurement\",\"enforcePurpose\":true,\"enforceVendor\":true,\"vendorExceptions\":[\"yahooPrebidServer\"]}]},\"usp\":{\"cmpApi\":\"iab\"}},\"userSync\":{\"filterSettings\":{\"iframe\":{\"bidders\":\"*\",\"filter\":\"include\"},\"image\":{\"bidders\":\"*\",\"filter\":\"include\"}}},\"s2sConfig\":{\"adapter\":\"prebidServer\",\"enabled\":true,\"endpoint\":\"https://pbs.yahoo.com/openrtb2/auction\",\"syncEndpoint\":\"https://pbs.yahoo.com/cookie_sync\",\"lrSyncEndpoint\":\"https://pbs.yahoo.com/lr_sync\",\"timeout\":2000,\"accountId\":\"yahoo\",\"allowUnknownBidderCodes\":true,\"bidders\":[\"yahooPrebidServer\"],\"extPrebid\":{\"storedrequest\":{\"id\":\"display_mobileweb\"}}},\"yahooAds\":{\"endpoint\":\"https://c2shb-oao.ssp.yahoo.com/admax/bid/partners/YPBJS\"},\"floors\":{\"data\":{\"schema\":{\"fields\":[\"gamPath\"]},\"default\":0,\"values\":{\"tw_ynews_main_mw_btm_sticky\":0,\"tw_ynews_main_mw_mid_center\":0.02,\"tw_ynews_main_mw_top_center\":0.03,\"tw_ynews_ros_mw_btm_center\":0,\"tw_ynews_ros_mw_btm_sticky\":0,\"tw_ynews_ros_mw_mid_center\":0.07,\"tw_ynews_ros_mw_mid_center_card\":0,\"tw_ynews_ros_mw_top_center\":0.02,\"tw_ynews_ros_mw_top_center_mi\":0.02}},\"enforcement\":{\"enforceJS\":true,\"enforcePBS\":true},\"floorMin\":0,\"floorMinCur\":\"USD\"},\"yahooAnalyticsAdapter\":{\"sampling\":0.1}},\"regionCountries\":{\"EU\":[\"AT\",\"BE\",\"BG\",\"CY\",\"CZ\",\"DE\",\"DK\",\"EE\",\"ES\",\"FI\",\"FR\",\"GR\",\"HR\",\"HU\",\"IE\",\"IT\",\"LT\",\"LU\",\"LV\",\"MT\",\"NL\",\"PL\",\"PT\",\"RO\",\"SE\",\"SI\",\"SK\"],\"EFTA\":[\"CH\",\"IS\",\"LI\",\"NO\"]},\"filters\":{\"bidders\":{\"yahooPrebidServer\":{\"allowList\":{\"userCountry\":\"*\"}},\"yahooAds\":{\"allowList\":{\"userCountry\":\"*\"}},\"yieldmo\":{\"allowList\":{\"userCountry\":\"*\"}},\"medianet\":{\"allowList\":{\"userCountry\":\"*\"}},\"taboola\":{\"allowList\":{\"userCountry\":\"*\"}},\"seedtag\":{\"allowList\":{\"userCountry\":\"*\"}},\"kueezrtb\":{\"allowList\":{\"userCountry\":[\"US\",\"CA\",\"MX\",\"GB\",\"BR\",\"DE\",\"FR\",\"ES\",\"AR\",\"AU\",\"IT\",\"JP\",\"CL\",\"PH\",\"CO\",\"TR\",\"ZA\",\"NL\",\"PE\",\"NZ\",\"CH\",\"HK\",\"AT\",\"SE\",\"SG\",\"HU\",\"AE\",\"PR\",\"SA\",\"PT\",\"IE\",\"DK\",\"CR\",\"IL\",\"CZ\",\"FI\",\"BG\",\"HN\",\"MD\",\"LV\"]}},\"ayPrebidServer\":{\"allowList\":{\"userCountry\":[\"US\"]}},\"DEFAULT\":{\"blockList\":{\"userCountry\":[\"GB\",\"BR\"],\"userRegion\":[\"EU\",\"EFTA\"]}}}},\"bidders\":{\"yahooPrebidServer\":{},\"yahooAds\":{\"dcn\":\"8a9694a10187874cb8228063ca7600a8\"},\"pubmatic\":{\"publisherId\":\"133799\",\"adSlot\":\"6033108\"},\"rubicon\":{\"accountId\":\"17250\"},\"ix\":{},\"taboola\":{\"publisherId\":\"1635765\"},\"openx\":{\"delDomain\":\"yahoo-bidout-d.openx.net\"},\"triplelift\":{},\"medianet\":{\"cid\":\"8CU2K123F\"},\"yieldmo\":{},\"kueezrtb\":{\"cId\":\"67bed80f84665be32757713d\",\"pId\":\"65lk7c192882r0011813fn9\"},\"criteo\":{\"networkId\":\"12131\",\"pubid\":\"12131\"}}}},\"pbjs\":{}},\"positions\":{\"sda-MOMENTS\":{\"customSizeConfig\":{\"Lighthouse\":true,\"Spotlight\":true},\"id\":\"sda-MOMENTS\",\"kvs\":{\"loc\":\"mid_center\"},\"ntsFallBack\":{\"position\":\"INBODYLREC\"},\"path\":\"/22888152279/tw/ynews/ros/mw/tw_ynews_ros_mw_mid_center\",\"region\":\"index\",\"size\":[[300,250],[2,2],[3,2]]},\"sda-WFPAD-iframe\":{\"customSizeConfig\":{\"Horizon\":true},\"id\":\"sda-WFPAD-iframe\",\"kvs\":{\"loc\":\"top_center\"},\"region\":\"index\",\"size\":[[320,50],[3,1],[320,100]],\"path\":\"/22888152279/tw/ynews/ros/mw/tw_ynews_ros_mw_top_center\"},\"sda-LREC2-iframe\":{\"id\":\"sda-LREC2-iframe\",\"kvs\":{\"loc\":\"mid_center_10\"},\"region\":\"index\",\"size\":[[300,250],[3,2]],\"path\":\"/22888152279/tw/ynews/ros/mw/tw_ynews_ros_mw_mid_center\",\"customSizeConfig\":{\"Spotlight\":true}},\"sda-LREC3-iframe\":{\"id\":\"sda-LREC3-iframe\",\"kvs\":{\"loc\":\"mid_center_11\"},\"region\":\"index\",\"size\":[[300,250]],\"path\":\"/22888152279/tw/ynews/ros/mw/tw_ynews_ros_mw_mid_center\"},\"sda-LREC4-iframe\":{\"id\":\"sda-LREC4-iframe\",\"kvs\":{\"loc\":\"mid_center_12\"},\"region\":\"index\",\"size\":[[300,250]],\"path\":\"/22888152279/tw/ynews/ros/mw/tw_ynews_ros_mw_mid_center\"}},\"setting\":{\"refresh\":{\"duration\":30,\"requireUserAction\":true,\"sameSizeRefresh\":true,\"tabFocus\":{\"outOfFocusDuration\":3},\"reserved\":{\"duration\":60},\"limit\":100},\"tracking\":{\"debug\":true,\"metrics\":true,\"performance\":true},\"lazyLoad\":{\"lazyFetch\":{\"taboola\":{\"offset\":300}}},\"taboolaSetting\":{\"pageType\":\"article\",\"publisherId\":\"yahootwhk-network\"}},\"feature\":{\"enableEdgeToEdge\":true,\"enableLazyFetch\":true}};\\n            var locationContext = {\"region\":\"TW\",\"usercountry\":\"TW\",\"gdpr\":false};\\n\\n            benjiConfig.setting = {\\n                ...benjiConfig.setting,\\n                consent: {\\n                    allowFirstPartyAds: true,\\n                    allowOnlyLimitedAds: false,\\n                    allowOnlyNonPersonalizedAds: false,\\n                },\\n            };\\n\\n            benjiConfig.i13n = {\\n                ...locationContext,\\n                ...benjiConfig.i13n,\\n                bka: \\'0\\',\\n                bkg: \\'\\',\\n            };\\n\\n            if (typeof window.benji !== \\'undefined\\') {\\n                    window.benji.start(benjiConfig);\\n            } else {\\n                window.benji = {\\n                    config: benjiConfig,\\n                };\\n            }\\n            \\n        })();\\n    </script></head><body dir=ltr><noscript><img alt class=D(n) src=/_td_api/beacon/info?beaconType=noJSenabled&bucket=news-TW-zh-Hant-TW-def&code=pageRender&device=smartphone&lang=zh-Hant-TW&pageName=deeplink&region=TW&rid=1r634dljsv6bv&site=news&t=1741658495406></noscript> <script id=wafer-db-config type=application/json>\\n            {\\n                \"name\": \"article-server\",\\n                \"version\": 1\\n            }\\n        </script><script id=wafer-video-config type=application/json>\\n            {\"playerScript\":\"https://s.yimg.com/rx/ev/builds/1.10.20/evplayer.js\",\"config\":{\"useEVPlayer\":true}}\\n        </script><script type=application/json class=wafer-state>\\n            {\\n                \"colorTheme\": \"\",\\n                \"dedupUuids\": \"3ef0db31-705c-4ff1-ae51-78c373071f7c\",\\n                \"geminiAds\": {\\n                    \"geminiDedupeToken\": \"PHToken\"\\n                },\\n                \"publisherBlobPageContext\": \"%7B%22lu%22%3A%220%22%2C%22pageType%22%3A%22content%22%2C%22site%22%3A%22news%22%2C%22appName%22%3A%22article%22%2C%22pageDesign%22%3A%22non_modal%22%2C%22pageContentType%22%3A%22story%22%2C%22hashtag%22%3A%22news%3Bgame%3Bai%3B%E9%81%8A%E6%88%B2%3Bxbox%22%2C%22lmsid%22%3A%22a0V6T00000KBLWzUAP%22%2C%22revsp%22%3A%22yahoo__374%22%2C%22lpstaid%22%3A%223ef0db31-705c-4ff1-ae51-78c373071f7c%22%2C%22bucket%22%3A%22news-TW-zh-Hant-TW-def%22%7D\"\\n            }\\n        </script><script type=text/javascript>\\n    (function() {\\n        \\nwindow.YAHOO = window.YAHOO || {};\\nwindow.YAHOO.context = {\\n    \"apptype\": \"\",\\n    \"authed\": \"0\",\\n    \"browserName\": \"chrome mobile\",\\n    \"browserVersion\": \"131.0\",\\n    \"bucket\": \"news-TW-zh-Hant-TW-def\",\\n    \"contentSite\": \"\",\\n    \"device\": \"smartphone\",\\n    \"errBeaconConfig\": {\\n        \"beaconPath\": \"_td_api/beacon/error\",\\n        \"site\": \"news\"\\n    },\\n    \"feature\": [\\n        \"enableGAMAds\",\\n        \"caasEnableSpaceIdMappingWithPath\",\\n        \"dotBeacon\",\\n        \"editorialUpsells\",\\n        \"enableAdditionalPageContextParams\",\\n        \"enableBodyAdsCharCount\",\\n        \"enableCommunityBarIframeComments\",\\n        \"enableDarkMode\",\\n        \"enableInArticleAd\",\\n        \"enableInArticleAdMetaSize\",\\n        \"enableIntlStreamCoview\",\\n        \"enablePlayerComparisonRedesign\",\\n        \"enableSmartBanner\",\\n        \"enableTaboolaAdsInArticle\",\\n        \"enableTopAdSticky\",\\n        \"enableXrayEntityAboutFacts\",\\n        \"filterNonGdprEmbeds\",\\n        \"getCommerceModulesFromRmp\",\\n        \"headerOnTopForVideoContent\",\\n        \"liveBlogPolling\",\\n        \"relatedVideosOnNcp\"\\n    ],\\n    \"guid\": \"\",\\n    \"intl\": \"tw\",\\n    \"lang\": \"zh-Hant-TW\",\\n    \"meta\": {\\n        \"categoryLabel\": \"News\",\\n        \"commentsAllowed\": true,\\n        \"commentsCount\": 0,\\n        \"contentType\": \"story\",\\n        \"messageId\": \"\",\\n        \"replyId\": \"\",\\n        \"siteAttribute\": \"hashtag=\\\\\"news;game;ai;遊戲;xbox\\\\\" rs=\\\\\"lmsid:a0V6T00000KBLWzUAP;revsp:yahoo__374;lpstaid:3ef0db31-705c-4ff1-ae51-78c373071f7c;lu:0;pct:story\\\\\"\",\\n        \"tags\": \"AI, Muse, 微軟\",\\n        \"title\": \"微軟新遊戲AI模型「Muse」亮相！即時生成遊戲畫面 卻引爆玩家正反論戰\",\\n        \"url\": \"https://tw.news.yahoo.com/%E5%BE%AE%E8%BB%9F%E6%96%B0%E9%81%8A%E6%88%B2ai%E6%A8%A1%E5%9E%8B%E3%80%8Cmuse%E3%80%8D%E4%BA%AE%E7%9B%B8%EF%BC%81%E5%8D%B3%E6%99%82%E7%94%9F%E6%88%90%E9%81%8A%E6%88%B2%E7%95%AB%E9%9D%A2-%E5%8D%BB%E5%BC%95%E7%88%86%E7%8E%A9%E5%AE%B6%E6%AD%A3%E5%8F%8D%E8%AB%96%E6%88%B0-051114570.html\",\\n        \"uuid\": \"3ef0db31-705c-4ff1-ae51-78c373071f7c\",\\n        \"xhrPathPrefix\": \"/nel_ms/_rcv/remote\"\\n    },\\n    \"mode\": \"normal\",\\n    \"osName\": \"android\",\\n    \"osVersion\": \"10\",\\n    \"partner\": \"none\",\\n    \"region\": \"TW\",\\n    \"rid\": \"1r634dljsv6bv\",\\n    \"site\": \"news\",\\n    \"tpConsent\": true,\\n    \"ynet\": \"0\"\\n};\\n\\n\\n    }());\\n</script><header id=Header class=\"T(0) W(100%) Reader-open Pos(f) Z(4)\"><div id=module-featurebar class=wafer-rapid-module><script>\\n                    window.performance.mark(\\'featurebar\\');\\n                    window.performance.measure(\\'featurebarDone\\',\\'PageStart\\',\\'featurebar\\');\\n                    </script></div><div id=module-appPromoBanner class=wafer-rapid-module><div id=\"wafer-app-promo-banner\" class=\"D(n) Pos(r)\"><div class=\"Bgc($c-fuji-charcoal) D(f)  Pos(f) B(56px) Start(0) End(0) Z(3) Mih(82px)\"><button class=\"wafer-toggle Bgc(t) Bd(n) P(0) Pos(a) T(50%) TranslateY(-50%) Start(5px) W(24px) H(24px)\" aria-label=\"close tooltip\" data-wf-toggle-target=\"#wafer-app-promo-banner\" data-wf-toggle-class=\"click:add:D(n)\"><svg class=\"Cur(p) Va(b) Cur(p)\" width=\"24\" style=\"fill:#fff;stroke:#fff;stroke-width:0;vertical-align:bottom\" height=\"24\" viewBox=\"0 0 48 48\" data-icon=\"close\" pointer-events=\"none\"><path d=\"M37.98 34.827l-9.9-9.9 9.9-9.898c.78-.782.78-2.05 0-2.83-.78-.78-2.047-.78-2.828 0l-9.9 9.9-9.898-9.9c-.78-.78-2.048-.78-2.828 0-.78.78-.78 2.047 0 2.828l9.9 9.9-9.9 9.898c-.78.78-.78 2.047 0 2.828.78.78 2.047.78 2.828 0l9.9-9.9 9.898 9.9c.78.78 2.048.78 2.828 0 .782-.78.782-2.047 0-2.827z\"></path></svg></button><a href=\"https://go.onelink.me/WAkg?pid=smartbanner&amp;c=TW_Acquisition_YMktg_Q3promo_sb_&amp;af_sub1=Acquisition&amp;af_sub2=TW_YMktg&amp;af_sub3=&amp;af_sub4=&amp;af_sub5=sb__Banner_\" rel=\"noopener noreferrer\" target=\"_blank\" data-ylk=\"itc:0;pos:1;sec:sb-download;g:3ef0db31-705c-4ff1-ae51-78c373071f7c\" class=\"D(f) W(100%) Bxz(bb) Py(12px) Pstart(36px) Pend(16px) Td(n) C(#fff) Ai(c) Fz(14px) Lh(1)\"><div class=\"Mend(8px) W(48px) H(48px)\"><img class=\"Bdrs(15px) W(48px) H(48px)\" src=\"https://s.yimg.com/cv/apiv2/twmobi/icons/superApp/content/2022-superapp@2x.png\" alt=\"Yahoo奇摩APP\"/></div><div class=\"Fxg(1) Ov(h)\"><div class=\"Mb(8px) Tov(e) Ov(h) Whs(nw) Fw(500)\">Yahoo奇摩APP</div><div class=\"Tov(e) Ov(h) Whs(nw)\">切換至APP版本</div></div><div class=\"Bd Bdc(#fff) Bdrs(100px) Px(12px) Py(5px) Fw(500) Tov(e) Ov(h) Whs(nw) H(14px) Fxs(0)\">立即下載</div></a></div><script type=\"text/javascript\" nonce=\"d2d3faa78794b67192a4bec459d27a81fa5ab8509da9812f69eebd8b7abd0efb\">\\n                        function initCode () {\\n                            if (typeof localStorage !== \\'undefined\\') {\\n                                try {\\n                                    var lsData = JSON.parse(localStorage.getItem(\\'appPromoBanner\\')) || {};\\n                                    var lastView = lsData[\\'twSuperApp\\'];\\n                                    var canView = !lastView || lastView  < (new Date().getTime() - 86400000);\\n\\n                                    if (canView) {\\n                                        // remove D(n) class to show the banner\\n                                        window.document.getElementById(\\'wafer-app-promo-banner\\').className = \\'Pos(r)\\';\\n                                        lsData[\\'twSuperApp\\'] = new Date().getTime();\\n                                        localStorage.setItem(\\'appPromoBanner\\', JSON.stringify(lsData));\\n                                    }\\n                                } catch(e) {}\\n                            }\\n                        }\\n                        if (document.readyState !== \\'loading\\' ) {\\n                            initCode();\\n                        } else {\\n                            document.addEventListener(\\'DOMContentLoaded\\', function () {\\n                                initCode();\\n                            });\\n                        }\\n                    </script></div><script>\\n                    window.performance.mark(\\'appPromoBanner\\');\\n                    window.performance.measure(\\'appPromoBannerDone\\',\\'PageStart\\',\\'appPromoBanner\\');\\n                    </script></div><div id=module-header class=wafer-rapid-module><div id=\"header-wrapper\" class=\"Bgc(#fff) Bdbc($c-fuji-grey-d) Bdbs(s) Bdbw(1px) D(tb) Pos(r) W(100%)\"><div class=\"D(tbr)\"><a id=\"header-back-button\" class=\"Z(2) D(n) H(100%) Pos(a) Reader-open_D(ib) wafer-toggle W(a)\" data-wf-toggle-class=\"click:remove:Reader-open\" data-wf-toggle-target=\"body\" data-ylk=\"elm:itm;itc:0;sec:hl-viewer;slk:back\" href=\"https://tw.news.yahoo.com\" aria-label=\"回上頁\" title=\"回上頁\"><svg class=\"Bdrs(50%) Pb(16px) Pstart(14px) Pend(10px) Pt(19px) header-back-icon Cur(p)\" width=\"18\" style=\"fill:#7d2eff;stroke:#7d2eff;stroke-width:0;vertical-align:bottom\" height=\"18\" viewBox=\"0 0 32 32\" data-icon=\"CoreArrowLeft\"><path d=\"M22.72.665c-.886-.887-2.323-.887-3.21 0L4.175 16 19.51 31.335c.442.443 1.023.665 1.604.665s1.162-.222 1.605-.665c.886-.887.886-2.324 0-3.21L10.596 16 22.72 3.876c.887-.887.887-2.324 0-3.21z\"></path></svg></a><div class=\"D(tbc) Va(m)\"><h1 class=\"Fz(0) Mb(13px) Mend(-5px) Mt(14px) Pstart(10px) Trs($logoTransition) Reader-open_Pstart(40px)\"><a id=\"header-logo\" href=\"https://tw.news.yahoo.com\" class=\"Bgi(n)! D(b) Pos(r)\" data-ylk=\"elm:img;elmt:logo;sec:hd;slk:logo\"><img src=\"https://s.yimg.com/cv/apiv2/twnews/logo2024/Mobile/Yahoo_News_m@2x.png\" height=\"25px\" width=\"123px\" alt=\"News\" title=\"News\"/></a></h1></div><a href=\"https://go.onelink.me/WAkg?pid=smartbanner&amp;c=TW_Acquisition_YMktg_Q3internal_highlanderheader_&amp;af_sub1=Acquisition&amp;af_sub2=TW_YMktg&amp;af_sub3=&amp;af_sub4=&amp;af_sub5=header__Banner_&amp;af_force_deeplink=true&amp;af_dp=ysuper://story/ymedia-alias:shadow=%e5%be%ae%e8%bb%9f%e6%96%b0%e9%81%8a%e6%88%b2ai%e6%a8%a1%e5%9e%8b%e3%80%8cmuse%e3%80%8d%e4%ba%ae%e7%9b%b8%ef%bc%81%e5%8d%b3%e6%99%82%e7%94%9f%e6%88%90%e9%81%8a%e6%88%b2%e7%95%ab%e9%9d%a2-%e5%8d%bb%e5%bc%95%e7%88%86%e7%8e%a9%e5%ae%b6%e6%ad%a3%e5%8f%8d%e8%ab%96%e6%88%b0-051114570/3ef0db31-705c-4ff1-ae51-78c373071f7c?ref_src=mobi_header\" id=\"app-promo\" class=\"app-promo W(26%) Maw(26%) H(30px) Pos(a) End(4px) T(12px) D(b) Z(2)\" data-ylk=\"elm:hdrbtn;itc:0;sec:uh;slk:GetApp;subsec:appBanner\"><img class=\"Maw(100%) Mah(100%)\" src=\"https://s.yimg.com/cv/apiv2/twmobi/newarticle/button/btn_news_header_getapp@2x.png\" alt=\"getApp\"/></a></div></div><script>\\n                    window.performance.mark(\\'header\\');\\n                    window.performance.measure(\\'headerDone\\',\\'PageStart\\',\\'header\\');\\n                    </script></div><style type=text/css>.progress-loader-bar-wrapper {\\n    bottom: 0;\\n    height: 2px;\\n    left: 0;\\n    position: absolute;\\n    width: 100%;\\n}\\n\\n.progress-loader {\\n    width: 100%;\\n    height: 100%;\\n    line-height: 0px;\\n}\\n\\n.progress-loader canvas {\\n    vertical-align: top;\\n}</style><div class=progress-loader-bar-wrapper><div class=\"progress-loader wafer-progress-loader\" data-wf-stroke-color=#430297 data-wf-darkmode-stroke-color=#7759ff data-wf-type=rectangle data-wf-iteration-count=infinite data-wf-direction=both data-wf-scroll-height-container=#module-article></div></div></header><div id=HeadlineSection class=\"Z(3) Pos(r) Pos(st)! Bgc(--white) Mb(52px) T(52px)\"><div id=\"sda-WFPAD-iframe\" class=\"  enable-gam-ads W(320px) Mx(a)\" data-content=\"廣告\"><div class=\"sdaLite_D(n) D(f) Ai(c) Jc(c) Bgc(#f5f8fa) Fz(12px) C(#6e7780) H(70px) Mx(a) Miw(100%)\">廣告</div></div></div><div id=Masterwrap class=\"W(100%) Pos(r) Op(1)\"><div id=Page class=\"Z(2) Pos(r)\"><main class=\"W(100%) \" role=main><div class=content-articles-wrapper><div id=preArticle></div><div id=caas-content-body><div class=\"\" id=content-wrapper><div><div id=module-article><div class=\"caas caas-cc darkmode editorialUpsells enableAdSlotsForTWHK enableAdsMon enableBodyAdsCharCount enableGAMAds enableGAMEdgeToEdge enableGAMMomentsAds enableInArticleAd enablePlayerComparisonRedesign enableSpaceIdMappingWithPath enableXrayEntityAboutFacts filterNonGdprEmbeds getCommerceModulesFromRmp liveBlogPolling noRapidClickClass outStream news\" data-assets=\\'[{\"asset\":{\"value\":\"https:\\\\u002F\\\\u002Fs.yimg.com\\\\u002Fzq\\\\u002F_assets\\\\u002Fcss\\\\u002Fcommerce-content-caas.tailwind.57e8602ca105e8f0c72e981e9352b46b.css\",\"name\":\"commerce-content-caas.tailwind\"},\"type\":\"css\"},{\"asset\":{\"value\":\"https:\\\\u002F\\\\u002Fs.yimg.com\\\\u002Fzq\\\\u002F_assets\\\\u002Fcss\\\\u002Fcommerce-content-caas.overwriteCaas.a110378c301d04b4c47de5b90dc99484.css\",\"name\":\"commerce-content-caas.overwriteCaas\"},\"type\":\"css\"},{\"asset\":{\"value\":\"https:\\\\u002F\\\\u002Fs.yimg.com\\\\u002Fzq\\\\u002F_assets\\\\u002Fjs\\\\u002Fcommerce-content-caas.copy.2100ef09c6cd71ed58154fed0fe86908.js\",\"name\":\"commerce-content-caas.copy\"},\"type\":\"dynamic-js\"},{\"asset\":{\"value\":\"https:\\\\u002F\\\\u002Fs.yimg.com\\\\u002Fzq\\\\u002F_assets\\\\u002Fjs\\\\u002Fcommerce-content-caas.quickOverview.53e94ae1674d5814b037f11cef71ecaa.js\",\"name\":\"commerce-content-caas.quickOverview\"},\"type\":\"dynamic-js\"},{\"asset\":{\"value\":\"https:\\\\u002F\\\\u002Fs.yimg.com\\\\u002Fzq\\\\u002F_assets\\\\u002Fjs\\\\u002Fcommerce-content-caas.score.4c442ba67a8df7c209915f86f44b2f3c.js\",\"name\":\"commerce-content-caas.score\"},\"type\":\"dynamic-js\"}]\\' data-device=smartphone data-i18n=\\'{\"{date} at {time}\":\"{date}於{time}\",\"{0} hr ago\":\"{0} 小時前\",\"{0} min ago\":\"{0} 分鐘前\",\"{0} mins ago\":\"{0} 分鐘前\",\"{0} Views\":\"{0} 次瀏覽\",\"INLINE_CONSENT_BLOCKED_3P_BUTTON_ALLOW\":\"允許\",\"LESS\":\"較少\",\"LIVE_IS_OVER\":\"直播報導已經結束\",\"LOADING\":\"載入中\",\"MORE\":\"更多\",\"NEW_UPDATE\":\"最新更新\",\"NEW_UPDATES\":\"最新更新\",\"JUST_NOW\":\"剛剛\",\"RELOAD\":\"按一下即可重新載入最新更新\",\"SEE {0} MORE\":\"查看另外\\xa0{0}\\xa0項\",\"SEE_LESS\":\"查看較少內容\",\"SEE_MORE\":\"顯示更多\",\"SHOW_MORE\":\"顯示更多更新\",\"TODAY\":\"今天\",\"UPDATE\":\"更新\",\"UPDATES\":\"更新\",\"VIDEO_A11Y_DISABLE_FULLSCREEN\":\"全螢幕、按鈕、停用功能，暫時無法供螢幕閱讀程式使用者使用\"}\\' data-lang=zh-Hant-TW data-tz=Asia/Taipei data-params=\\'{\"features\":{\"darkmode\":true,\"editorialUpsells\":true,\"enableAdSlotsForTWHK\":true,\"enableAdsMon\":true,\"enableBodyAdsCharCount\":true,\"enableGAMAds\":true,\"enableGAMEdgeToEdge\":true,\"enableGAMMomentsAds\":true,\"enableInArticleAd\":true,\"enablePlayerComparisonRedesign\":true,\"enableSpaceIdMappingWithPath\":true,\"enableXrayEntityAboutFacts\":true,\"filterNonGdprEmbeds\":true,\"getCommerceModulesFromRmp\":true,\"liveBlogPolling\":true,\"noRapidClickClass\":true,\"outStream\":true},\"config\":{\"authorBylineCollapseLineCount\":2,\"commerceQuickOverviewLimit\":5,\"freezeOnLinkClick\":true,\"lazyOffsetY\":900,\"livecoverage\":{\"defer\":false},\"imageCaptionCollapseLineCount\":3,\"slideshowCaptionCollapseLineCount\":2,\"uiShowPreviousButtonOnLoad\":false,\"prestigeScrollMarginTop\":-52}}\\' data-space-id=964316273 id=caas-art-3ef0db31-705c-4ff1-ae51-78c373071f7c><link rel=stylesheet type=text/css href=https://s.yimg.com/zq/_assets/css/commerce-content-caas.tailwind.57e8602ca105e8f0c72e981e9352b46b.css><link rel=stylesheet type=text/css href=https://s.yimg.com/zq/_assets/css/commerce-content-caas.overwriteCaas.a110378c301d04b4c47de5b90dc99484.css><article role=article tabindex=-1><script type=application/ld+json>\\n            {\"@context\":\"http://schema.org\",\"@type\":\"NewsArticle\",\"mainEntityOfPage\":\"https://tw.news.yahoo.com/%E5%BE%AE%E8%BB%9F%E6%96%B0%E9%81%8A%E6%88%B2ai%E6%A8%A1%E5%9E%8B%E3%80%8Cmuse%E3%80%8D%E4%BA%AE%E7%9B%B8%EF%BC%81%E5%8D%B3%E6%99%82%E7%94%9F%E6%88%90%E9%81%8A%E6%88%B2%E7%95%AB%E9%9D%A2-%E5%8D%BB%E5%BC%95%E7%88%86%E7%8E%A9%E5%AE%B6%E6%AD%A3%E5%8F%8D%E8%AB%96%E6%88%B0-051114570.html\",\"headline\":\"微軟新遊戲AI模型「Muse」亮相！即時生成遊戲畫面 卻引爆玩家正反論戰\",\"datePublished\":\"2025-02-24T05:11:15.000Z\",\"dateModified\":\"2025-02-24T05:11:15.000Z\",\"keywords\":[\"AI\",\"Muse\",\"微軟\"],\"description\":\"近幾年各大企業發展 AI 技術，就連遊戲產業都陸續開始應用與展示概念，像是微軟在 2024 年 5 月，以自家《Minecraft》為例，展示了可以進行即時對話與反應的 AI，提供攻略與指令來幫助玩家。而日前，微軟發表了一款名為「Muse」的全新 AI 模型，展示了它能用在生成電子遊戲畫面與動作的全新技術，但公開...\",\"publisher\":{\"@type\":\"Organization\",\"name\":\"Yahoo奇摩新聞\",\"logo\":{\"@type\":\"ImageObject\",\"url\":\"https://s.yimg.com/cv/apiv2/twmobi/icon/yahoo_tw_logo_structuredata_20200630.png\",\"width\":136,\"height\":60}},\"author\":{\"@type\":\"Person\",\"name\":\"MrSun\",\"url\":\"https://tw.news.yahoo.com/author/mrsun\",\"jobTitle\":\"Yahoo奇摩遊戲編輯\"},\"creator\":{\"@type\":\"Person\",\"name\":\"MrSun\",\"url\":\"https://tw.news.yahoo.com/author/mrsun\",\"jobTitle\":\"Yahoo奇摩遊戲編輯\"},\"provider\":{\"@type\":\"Organization\",\"name\":\"Yahoo奇摩遊戲編輯部\",\"url\":\"https://tw.yahoo.com/trendr/yahoo__374\",\"logo\":{\"@type\":\"ImageObject\",\"width\":3064,\"height\":619,\"url\":\"https://s.yimg.com/os/creatr-uploaded-images/2023-09/4a1b0f70-5f94-11ee-bfbe-d53c639cc273\"}},\"image\":{\"@type\":\"ImageObject\",\"url\":\"https://s.yimg.com/ny/api/res/1.2/19sArJLP3G6qUYsLn82HGQ--/YXBwaWQ9aGlnaGxhbmRlcjt3PTEyMDA7aD02NzU-/https://s.yimg.com/os/creatr-uploaded-images/2025-02/6d26a160-f26d-11ef-b79b-0381b8da326e\",\"width\":1200,\"height\":675},\"thumbnailUrl\":\"https://s.yimg.com/ny/api/res/1.2/19sArJLP3G6qUYsLn82HGQ--/YXBwaWQ9aGlnaGxhbmRlcjt3PTEyMDA7aD02NzU-/https://s.yimg.com/os/creatr-uploaded-images/2025-02/6d26a160-f26d-11ef-b79b-0381b8da326e\"}\\n        </script><script class=caas-yvideo-config type=application/json>\\n        {\"site\":\"news\"}\\n    </script><script class=caas-timezone-config type=application/json>\\n        {\"longForm\":{\"weekday\":\"short\",\"day\":\"numeric\",\"hour\":\"numeric\",\"hourCycle\":\"h12\",\"minute\":\"2-digit\",\"month\":\"long\",\"year\":\"numeric\"},\"shortForm\":{\"day\":\"numeric\",\"month\":\"long\",\"year\":\"numeric\"},\"postDateLongForm\":{\"weekday\":\"short\",\"day\":\"numeric\",\"hour\":\"numeric\",\"hourCycle\":\"h12\",\"minute\":\"2-digit\",\"month\":\"long\",\"year\":\"numeric\",\"timeZoneName\":\"short\"},\"postDateShortForm\":{\"hour\":\"numeric\",\"hourCycle\":\"h12\",\"minute\":\"2-digit\",\"timeZoneName\":\"short\"}}\\n    </script><script class=caas-embedded-config type=application/json>\\n        {\"twitter\":{\"timeout\":5000}}\\n    </script><header class=caas-header><div class=caas-logo><a class=\"link caas-attr-provider-logo\" href=https://tw.yahoo.com/trendr/yahoo__374 data-ylk=sec:logo-provider;elm:logo;slk:Yahoo奇摩遊戲編輯部;itc:0;g:3ef0db31-705c-4ff1-ae51-78c373071f7c><img class=\"caas-img caas-lazy\" alt=Yahoo奇摩遊戲編輯部 data-src=https://s.yimg.com/ny/api/res/1.2/M5GcMFtx5raEZlU.nI.ldA--/YXBwaWQ9aGlnaGxhbmRlcjt3PTE5ODtoPTQw/https://s.yimg.com/os/creatr-uploaded-images/2023-09/4a1b0f70-5f94-11ee-bfbe-d53c639cc273 data-dark-src=https://s.yimg.com/ny/api/res/1.2/LSr6g.N3QVLGkwhw8cHz1A--/YXBwaWQ9aGlnaGxhbmRlcjt3PTE5ODtoPTQw/https://s.yimg.com/os/creatr-uploaded-images/2023-09/5f9b5d00-5f94-11ee-bfa7-1c5f6e234a7e><noscript><img alt=Yahoo奇摩遊戲編輯部 src=https://s.yimg.com/ny/api/res/1.2/M5GcMFtx5raEZlU.nI.ldA--/YXBwaWQ9aGlnaGxhbmRlcjt3PTE5ODtoPTQw/https://s.yimg.com/os/creatr-uploaded-images/2023-09/4a1b0f70-5f94-11ee-bfbe-d53c639cc273 class=caas-img></noscript><span class=caas-logo-divider></span><span class=caas-attr-provider>Yahoo奇摩遊戲編輯部</span></a><span class=caas-logo-divider></span><div class=caas-follow><div class=wafer-fetch style=display:inline-block data-wf-credentials=include data-wf-replace=1 data-wf-trigger=onLoad data-wf-url=/nel_ms/_rcv/remote?m_mode=json&m_id=follow&ctrl=Follow&lang=zh-Hant-TW&site=news&id=c1fa5a02-766c-33b2-8bad-24bbbfd47f15&name=Yahoo%E5%A5%87%E6%91%A9%E9%81%8A%E6%88%B2%E7%B7%A8%E8%BC%AF%E9%83%A8></div></div></div><div class=caas-title-wrapper><h1 id=caas-lead-header-3ef0db31-705c-4ff1-ae51-78c373071f7c data-test-locator=headline>微軟新遊戲AI模型「Muse」亮相！即時生成遊戲畫面 卻引爆玩家正反論戰</h1></div></header><div class=\"caas-attr author\"><a class=\"link caas-attr-logo\" href=https://tw.news.yahoo.com/author/mrsun data-ylk=elm:author;slk:MrSun;itc:0><img class=caas-img alt=MrSun src=https://s.yimg.com/ny/api/res/1.2/M3nAq02jjpQ7g5U_Y4E3TA--/YXBwaWQ9aGlnaGxhbmRlcjt3PTgwO2g9ODA-/https://o.aolcdn.com/images/dims?image_uri=https%3A%2F%2Fo.aolcdn.com%2Fimages%2Fdims%3Fimage_uri%3Dhttps%253A%252F%252Fo.aolcdn.com%252Fimages%252Fdims%253Fimage_uri%253Dhttps%25253A%25252F%25252Fs.yimg.com%25252Fos%25252Fcreatr-uploaded-images%25252F2018-12%25252F5af6dc60-feba-11e8-9d6f-a9a029c638fa%2526compress%253D1%2526progressive%253D1%2526quality%253D75%2526client%253Dhawkeye%2526signature%253D7a6b9eb28ebecddeb9ead023fb6ee7d6b77f00a6%26compress%3D1%26progressive%3D1%26quality%3D75%26client%3Dhawkeye%26signature%3D1a5d303a7a7a06038fe0217c312bde5d653e272b&compress=1&progressive=1&quality=75&client=hawkeye&signature=c619869d35c3acd9158ec77b7311e1ead56ab51a data-src=https://s.yimg.com/ny/api/res/1.2/M3nAq02jjpQ7g5U_Y4E3TA--/YXBwaWQ9aGlnaGxhbmRlcjt3PTgwO2g9ODA-/https://o.aolcdn.com/images/dims?image_uri=https%3A%2F%2Fo.aolcdn.com%2Fimages%2Fdims%3Fimage_uri%3Dhttps%253A%252F%252Fo.aolcdn.com%252Fimages%252Fdims%253Fimage_uri%253Dhttps%25253A%25252F%25252Fs.yimg.com%25252Fos%25252Fcreatr-uploaded-images%25252F2018-12%25252F5af6dc60-feba-11e8-9d6f-a9a029c638fa%2526compress%253D1%2526progressive%253D1%2526quality%253D75%2526client%253Dhawkeye%2526signature%253D7a6b9eb28ebecddeb9ead023fb6ee7d6b77f00a6%26compress%3D1%26progressive%3D1%26quality%3D75%26client%3Dhawkeye%26signature%3D1a5d303a7a7a06038fe0217c312bde5d653e272b&compress=1&progressive=1&quality=75&client=hawkeye&signature=c619869d35c3acd9158ec77b7311e1ead56ab51a></a><div class=caas-attr-meta><div class=caas-attr-item-author><span class=caas-author-byline-collapse><a class=link href=https://tw.news.yahoo.com/author/mrsun data-ylk=elm:author;slk:MrSun;itc:0>MrSun</a></span></div><div class=caas-attr-time-style><span>更新時間： </span><time class=caas-attr-meta-time dateTime=2025-02-24T05:11:15.000Z>2025年2月24日 下午1:11</time></div></div></div><div class=caas-body><p>近幾年各大企業發展 AI 技術，就連遊戲產業都陸續開始應用與展示概念，<a data-i13n=\"cpos:1;pos:1\" href=\"https://tw.news.yahoo.com/%E5%8F%96%E4%BB%A3%E5%82%B3%E7%B5%B1%E6%94%BB%E7%95%A5%EF%BC%81%E5%BE%AE%E8%BB%9F%E7%94%A8%E3%80%8Aminecraft%E3%80%8B%E5%B1%95%E7%A4%BAai%E5%8D%94%E5%8A%A9%E9%81%8A%E6%88%B2%EF%BC%8C%E8%83%BD%E7%9C%8B%E8%A6%8B%E3%80%81%E8%81%BD%E8%A6%8B%E3%80%81%E6%8F%90%E4%BE%9B%E5%B9%AB%E5%8A%A9-042528008.html\" data-ylk=\"slk:像是微軟在 2024 年 5 月，以自家《Minecraft》為例;cpos:1;pos:1;elm:context_link;itc:0;sec:content-canvas;outcm:mb_qualified_link;_E:mb_qualified_link;ct:story;\" class=\"link  yahoo-link\">像是微軟在 2024 年 5 月，以自家《Minecraft》為例</a>，展示了可以進行即時對話與反應的 AI，提供攻略與指令來幫助玩家。而日前，微軟發表了一款名為「Muse」的全新 AI 模型，展示了它能用在生成電子遊戲畫面與動作的全新技術，但公開後社群評價則是十分兩極化。</p><figure class=caas-figure><div class=caas-figure-with-pb style=\"max-height: 360px\"><div class=caas-img-fullbleed-container><div class=\"caas-img-container caas-img-loader\" style=padding-bottom:56%><img class=\"caas-img caas-lazy has-preview\" alt=&#x00ff08;&#x005716;&#x006e90;&#x00ff1a;Xbox&#x00ff09; data-src=https://s.yimg.com/ny/api/res/1.2/X5yHcCES.IcZJwibXDdwsQ--/YXBwaWQ9aGlnaGxhbmRlcjt3PTY0MDtoPTM2MA--/https://s.yimg.com/os/creatr-uploaded-images/2025-02/6d26a160-f26d-11ef-b79b-0381b8da326e><noscript><img alt=&#x00ff08;&#x005716;&#x006e90;&#x00ff1a;Xbox&#x00ff09; src=https://s.yimg.com/ny/api/res/1.2/X5yHcCES.IcZJwibXDdwsQ--/YXBwaWQ9aGlnaGxhbmRlcjt3PTY0MDtoPTM2MA--/https://s.yimg.com/os/creatr-uploaded-images/2025-02/6d26a160-f26d-11ef-b79b-0381b8da326e class=caas-img></noscript></div></div></div><div class=\"caption-wrapper caption-aligned-with-image\"><figcaption class=caption-collapse>（圖源：Xbox）</figcaption></div></figure><p>知名遊戲媒體人 Geoff Keighley 日前在社群平台 X 上分享了一段由 Muse 生成的遊戲畫面，雖然看上去仍有些模糊，距離實際應用仍有一段距離，但已可清楚辨識角色動作、招式及敵人等，皆由 AI 運算而成。這些展示影片內容，AI 都是以 Ninja Theory 開發的多人對戰遊戲《嗜血邊緣》（Bleeding Edge）作為訓練素材。</p><div class=twitter-tweet-wrapper data-embed-anchor=6de9d57d-fc74-528c-a916-0e3ca6e5d619><blockquote placeholder data-theme=dark class=twitter-tweet><div class=\"caas-card-loader small fixed-height\"></div><p>Microsoft has announced &quot;Muse,&quot; a generative AI model of a video game built by Microsoft in collaboration with Ninja Theory. <br><br>This video shows entirely new sequences of Bleeding Edge gameplay created under human guidance. <br><br>More here: <a href=\"https://t.co/AkM5JXtIeM\" rel=\"nofollow noopener\" target=\"_blank\" data-ylk=\"slk:https://t.co/AkM5JXtIeM;elm:context_link;itc:0;sec:content-canvas\" class=\"link \">https://t.co/AkM5JXtIeM</a> <a href=\"https://t.co/eSTbKXlleR\" rel=\"nofollow noopener\" target=\"_blank\" data-ylk=\"slk:pic.twitter.com/eSTbKXlleR;elm:context_link;itc:0;sec:content-canvas\" class=\"link \">pic.twitter.com/eSTbKXlleR</a></p><p>— Geoff Keighley (@geoffkeighley) <a href=\"https://twitter.com/geoffkeighley/status/1892351575802147200?ref_src=twsrc%5Etfw\" rel=\"nofollow noopener\" target=\"_blank\" data-ylk=\"slk:February 19, 2025;elm:context_link;itc:0;sec:content-canvas\" class=\"link \">February 19, 2025</a></p></blockquote></div><p><a data-i13n=\"cpos:2;pos:1\" href=\"https://news.xbox.com/en-us/2025/02/19/muse-ai-xbox-empowering-creators-and-players/\" rel=\"nofollow noopener\" target=\"_blank\" data-ylk=\"slk:微軟遊戲 AI 部門副總裁 Fatima Kardar 表示：;cpos:2;pos:1;elm:context_link;itc:0;sec:content-canvas\" class=\"link \">微軟遊戲 AI 部門副總裁 Fatima Kardar 表示：</a>「我們已將 Muse 應用於開發即時可玩的 AI 模型，且這項技術在未來有望同時造福玩家與遊戲開發者。」微軟也透露，Muse 目前仍處於早期開發階段，更多相關細節預計於 2025 年的遊戲開發者大會（GDC）上公布。</p><div class=caas-iframe-wrapper data-embed-anchor=91424f5b-da83-52d8-8b8c-761026807c8f><div class=\"caas-iframe youtube\" style=padding-bottom:56% data-type=youtube><blockquote data-src=https://www.youtube.com/embed/c15vxDHJ2lU?rel=0 allowfullscreen scrolling=no><div class=caas-card-loader></div><noscript><iframe src=https://www.youtube.com/embed/c15vxDHJ2lU?rel=0 allowfullscreen></iframe></noscript></blockquote></div></div><p>對於 AI 生成遊戲，社群反應不一。支持者認為，這有助於中小型團隊甚至獨立開發者減輕負擔，只需專注於程式碼、玩法設計等核心元素，其餘畫面與動作可交由 AI 生成，若價格合理，將大幅降低開發風險。</p><p>然而，反對者認為目前 Muse 展示的畫面缺乏靈魂，並擔憂可能取代大量遊戲美術與動畫師的工作。有玩家表示：「微軟只是想用 AI 取代開發人員」、「為什麼微軟不『生成』一些第一方獨佔遊戲」、「乾脆讓 AI 取代高層」、「科技公司正試圖抹煞藝術中的人性」、「這畫面看起來比獨立開發者 24 小時內做出的 Game Jam 作品還糟」。</p></div></article></div></div><script type=text/javascript>\\n    (function(w) {\\n        var adsConfig = {\\n            clientPositionMeta: undefined,\\n            clientViewportAdFetchYOffset: undefined,\\n            clusterPositionMeta: {\"addAutoEvent\":true,\"positions\":[],\"siteAttributes\":\"LREC=\\\\\"300x250;1x1\\\\\" LREC2=\\\\\"300x250;1x1\\\\\" MON=\\\\\"300x600;1x1\\\\\" geminifed=1\"},\\n            enableAdSlugText: undefined,\\n            enableAdditionalPageContextParams: undefined,\\n            enableGAMAds: undefined,\\n            enableGAMAdsCtrl: undefined,\\n            enableJac: undefined,\\n            pencilAdSections: {},\\n            positions: {\"BTNA\":{\"meta\":{\"clean\":\"sda-BTN\",\"dest\":\"sda-BTN-iframe\",\"fdb\":1,\"h\":60,\"id\":\"BTNA\",\"metaSize\":true,\"w\":120},\"sfoptin\":1},\"BTNB\":{\"meta\":{\"clean\":\"sda-BTN-1\",\"dest\":\"sda-BTN-1-iframe\",\"fdb\":1,\"h\":60,\"id\":\"BTNB\",\"metaSize\":true,\"w\":120},\"sfoptin\":1},\"BTNC\":{\"meta\":{\"clean\":\"sda-BTN-2\",\"dest\":\"sda-BTN-2-iframe\",\"fdb\":1,\"h\":60,\"id\":\"BTNC\",\"metaSize\":true,\"w\":120},\"sfoptin\":1},\"BTND\":{\"meta\":{\"clean\":\"sda-BTN-3\",\"dest\":\"sda-BTN-3-iframe\",\"fdb\":1,\"h\":60,\"id\":\"BTND\",\"metaSize\":true,\"w\":120},\"sfoptin\":1},\"COMMENTSWFPAD\":{\"meta\":{\"clean\":\"sda-COMMENTSWFPAD\",\"dest\":\"sda-COMMENTSWFPAD-iframe\",\"h\":50,\"id\":\"COMMENTSWFPAD\",\"metaSize\":true,\"pos\":\"COMMENTSWFPAD\",\"supports\":{\"exp-ovr\":1,\"exp-push\":1,\"lyr\":1,\"resize-to\":1},\"w\":320}},\"FSRVY\":{\"meta\":{\"clean\":\"sda-FSRVY\",\"dest\":\"sda-FSRVY-iframe\",\"fr\":\"expIfr_exp\",\"id\":\"FSRVY\",\"supports\":{\"lyr\":1}}},\"HPSPON\":{\"filtered\":1,\"sfoptin\":0},\"INARTICLE\":{\"meta\":{\"clean\":\"sda-INARTICLE-base\",\"dest\":\"sda-INARTICLE\",\"fdb\":1,\"flex\":{\"h\":{\"min\":10},\"ratio\":\"1.78x1\",\"w\":{\"min\":10}},\"h\":211,\"id\":\"INARTICLE\",\"supports\":{\"exp-ovr\":1,\"exp-push\":1,\"lyr\":0},\"w\":375,\"metaSize\":true},\"sfoptin\":1},\"INBODYLDRB-1\":{\"meta\":{\"clean\":\"wafer-darla-clean-INBODYLDRB-1\",\"dest\":\"wafer-darla-INBODYLDRB-1\",\"fdb\":1,\"h\":90,\"id\":\"INBODYLDRB-1\",\"metaSize\":true,\"pos\":\"LDRB\",\"supports\":{\"exp-ovr\":1,\"exp-push\":1,\"lyr\":0},\"w\":728},\"sfoptin\":1},\"INBODYLDRB-DISPLAY-PH\":{\"meta\":{\"clean\":\"sda-placeholder\",\"dest\":\"sda-placeholder-iframe\",\"fdb\":1,\"h\":90,\"id\":\"LDRB\",\"metaSize\":true,\"pos\":\"LDRB\",\"supports\":{\"exp-ovr\":1,\"exp-push\":1,\"lyr\":0},\"w\":728}},\"INBODYLDRB-NATIVE-PH\":{\"meta\":{\"clean\":\"sda-placeholder\",\"dest\":\"sda-placeholder-iframe\",\"fdb\":1,\"h\":90,\"id\":\"LDRB\",\"metaSize\":true,\"pos\":\"LDRB\",\"supports\":{\"exp-ovr\":1,\"exp-push\":1,\"lyr\":0},\"w\":728,\"doubleBuffering\":false}},\"INBODYLDRB2-DISPLAY-PH\":{\"meta\":{\"clean\":\"sda-placeholder\",\"dest\":\"sda-placeholder-iframe\",\"fdb\":1,\"h\":90,\"id\":\"LDRB\",\"metaSize\":true,\"pos\":\"LDRB\",\"supports\":{\"exp-ovr\":1,\"exp-push\":1,\"lyr\":0},\"w\":728}},\"INBODYLDRB2-NATIVE-PH\":{\"meta\":{\"clean\":\"sda-placeholder\",\"dest\":\"sda-placeholder-iframe\",\"fdb\":1,\"h\":90,\"id\":\"LDRB\",\"metaSize\":true,\"pos\":\"LDRB\",\"supports\":{\"exp-ovr\":1,\"exp-push\":1,\"lyr\":0},\"w\":728,\"doubleBuffering\":false}},\"INBODYLDRB3-DISPLAY-PH\":{\"meta\":{\"clean\":\"sda-placeholder\",\"dest\":\"sda-placeholder-iframe\",\"fdb\":1,\"h\":90,\"id\":\"LDRB\",\"metaSize\":true,\"pos\":\"LDRB\",\"supports\":{\"exp-ovr\":1,\"exp-push\":1,\"lyr\":0},\"w\":728}},\"INBODYLDRB3-NATIVE-PH\":{\"meta\":{\"clean\":\"sda-placeholder\",\"dest\":\"sda-placeholder-iframe\",\"fdb\":1,\"h\":90,\"id\":\"LDRB\",\"metaSize\":true,\"pos\":\"LDRB\",\"supports\":{\"exp-ovr\":1,\"exp-push\":1,\"lyr\":0},\"w\":728,\"doubleBuffering\":false}},\"INBODYLDRB4-DISPLAY-PH\":{\"meta\":{\"clean\":\"sda-placeholder\",\"dest\":\"sda-placeholder-iframe\",\"fdb\":1,\"h\":90,\"id\":\"LDRB\",\"metaSize\":true,\"pos\":\"LDRB\",\"supports\":{\"exp-ovr\":1,\"exp-push\":1,\"lyr\":0},\"w\":728}},\"INBODYLDRB4-NATIVE-PH\":{\"meta\":{\"clean\":\"sda-placeholder\",\"dest\":\"sda-placeholder-iframe\",\"fdb\":1,\"h\":90,\"id\":\"LDRB\",\"metaSize\":true,\"pos\":\"LDRB\",\"supports\":{\"exp-ovr\":1,\"exp-push\":1,\"lyr\":0},\"w\":728,\"doubleBuffering\":false}},\"INBODYLREC-1\":{\"meta\":{\"clean\":\"wafer-darla-clean-INBODYLREC-1\",\"dest\":\"wafer-darla-INBODYLREC-1\",\"fdb\":1,\"h\":250,\"id\":\"INBODYLREC-1\",\"metaSize\":true,\"pos\":\"LREC\",\"supports\":{\"exp-ovr\":0,\"exp-push\":1,\"lyr\":0},\"w\":300},\"sfoptin\":1},\"INBODYLREC-DISPLAY-PH\":{\"meta\":{\"clean\":\"sda-placeholder\",\"dest\":\"sda-placeholder-iframe\",\"fdb\":1,\"h\":250,\"id\":\"LREC\",\"metaSize\":true,\"pos\":\"LREC\",\"supports\":{\"exp-ovr\":0,\"exp-push\":1,\"lyr\":0},\"w\":300}},\"INBODYLREC-NATIVE-PH\":{\"meta\":{\"clean\":\"sda-placeholder\",\"dest\":\"sda-placeholder-iframe\",\"fdb\":1,\"h\":300,\"id\":\"LREC\",\"metaSize\":false,\"pos\":\"LREC\",\"supports\":{\"exp-ovr\":0,\"exp-push\":1,\"lyr\":0},\"w\":300,\"doubleBuffering\":false,\"flex\":{\"w\":{\"max\":375}}}},\"INBODYLREC2-DISPLAY-PH\":{\"meta\":{\"clean\":\"sda-placeholder\",\"dest\":\"sda-placeholder-iframe\",\"fdb\":1,\"h\":250,\"id\":\"LREC\",\"metaSize\":true,\"pos\":\"LREC\",\"supports\":{\"exp-ovr\":0,\"exp-push\":1,\"lyr\":0},\"w\":300}},\"INBODYLREC2-NATIVE-PH\":{\"meta\":{\"clean\":\"sda-placeholder\",\"dest\":\"sda-placeholder-iframe\",\"fdb\":1,\"h\":300,\"id\":\"LREC\",\"metaSize\":false,\"pos\":\"LREC\",\"supports\":{\"exp-ovr\":0,\"exp-push\":1,\"lyr\":0},\"w\":300,\"doubleBuffering\":false,\"flex\":{\"w\":{\"max\":375}}}},\"INBODYLREC3-DISPLAY-PH\":{\"meta\":{\"clean\":\"sda-placeholder\",\"dest\":\"sda-placeholder-iframe\",\"fdb\":1,\"h\":250,\"id\":\"LREC\",\"metaSize\":true,\"pos\":\"LREC\",\"supports\":{\"exp-ovr\":0,\"exp-push\":1,\"lyr\":0},\"w\":300}},\"INBODYLREC3-NATIVE-PH\":{\"meta\":{\"clean\":\"sda-placeholder\",\"dest\":\"sda-placeholder-iframe\",\"fdb\":1,\"h\":300,\"id\":\"LREC\",\"metaSize\":false,\"pos\":\"LREC\",\"supports\":{\"exp-ovr\":0,\"exp-push\":1,\"lyr\":0},\"w\":300,\"doubleBuffering\":false,\"flex\":{\"w\":{\"max\":375}}}},\"INBODYLREC4-DISPLAY-PH\":{\"meta\":{\"clean\":\"sda-placeholder\",\"dest\":\"sda-placeholder-iframe\",\"fdb\":1,\"h\":250,\"id\":\"LREC\",\"metaSize\":true,\"pos\":\"LREC\",\"supports\":{\"exp-ovr\":0,\"exp-push\":1,\"lyr\":0},\"w\":300}},\"INBODYLREC4-NATIVE-PH\":{\"meta\":{\"clean\":\"sda-placeholder\",\"dest\":\"sda-placeholder-iframe\",\"fdb\":1,\"h\":300,\"id\":\"LREC\",\"metaSize\":false,\"pos\":\"LREC\",\"supports\":{\"exp-ovr\":0,\"exp-push\":1,\"lyr\":0},\"w\":300,\"doubleBuffering\":false,\"flex\":{\"w\":{\"max\":375}}}},\"INBODYMAST-1\":{\"meta\":{\"clean\":\"wafer-darla-clean-INBODYMAST-1\",\"dest\":\"wafer-darla-INBODYMAST-1\",\"fdb\":1,\"h\":250,\"id\":\"INBODYMAST-1\",\"metaSize\":true,\"pos\":\"MAST\",\"supports\":{\"exp-ovr\":1,\"exp-push\":1,\"lyr\":0,\"resize-to\":1},\"w\":970},\"sfoptin\":1},\"INBODYMAST-DISPLAY-PH\":{\"meta\":{\"clean\":\"sda-placeholder\",\"dest\":\"sda-placeholder-iframe\",\"fdb\":1,\"h\":250,\"id\":\"MAST\",\"metaSize\":true,\"pos\":\"MAST\",\"supports\":{\"exp-ovr\":1,\"exp-push\":1,\"lyr\":0,\"resize-to\":1},\"w\":970}},\"INBODYMAST-NATIVE-PH\":{\"meta\":{\"clean\":\"sda-placeholder\",\"dest\":\"sda-placeholder-iframe\",\"fdb\":1,\"h\":250,\"id\":\"MAST\",\"metaSize\":true,\"pos\":\"MAST\",\"supports\":{\"exp-ovr\":1,\"exp-push\":1,\"lyr\":0,\"resize-to\":1},\"w\":970,\"doubleBuffering\":false,\"flex\":{\"w\":{\"max\":1220,\"min\":960}}}},\"INBODYMAST2-DISPLAY-PH\":{\"meta\":{\"clean\":\"sda-placeholder\",\"dest\":\"sda-placeholder-iframe\",\"fdb\":1,\"h\":250,\"id\":\"MAST\",\"metaSize\":true,\"pos\":\"MAST\",\"supports\":{\"exp-ovr\":1,\"exp-push\":1,\"lyr\":0,\"resize-to\":1},\"w\":970}},\"INBODYMAST2-NATIVE-PH\":{\"meta\":{\"clean\":\"sda-placeholder\",\"dest\":\"sda-placeholder-iframe\",\"fdb\":1,\"h\":250,\"id\":\"MAST\",\"metaSize\":true,\"pos\":\"MAST\",\"supports\":{\"exp-ovr\":1,\"exp-push\":1,\"lyr\":0,\"resize-to\":1},\"w\":970,\"doubleBuffering\":false,\"flex\":{\"w\":{\"max\":1220,\"min\":960}}}},\"INBODYMAST3-DISPLAY-PH\":{\"meta\":{\"clean\":\"sda-placeholder\",\"dest\":\"sda-placeholder-iframe\",\"fdb\":1,\"h\":250,\"id\":\"MAST\",\"metaSize\":true,\"pos\":\"MAST\",\"supports\":{\"exp-ovr\":1,\"exp-push\":1,\"lyr\":0,\"resize-to\":1},\"w\":970}},\"INBODYMAST3-NATIVE-PH\":{\"meta\":{\"clean\":\"sda-placeholder\",\"dest\":\"sda-placeholder-iframe\",\"fdb\":1,\"h\":250,\"id\":\"MAST\",\"metaSize\":true,\"pos\":\"MAST\",\"supports\":{\"exp-ovr\":1,\"exp-push\":1,\"lyr\":0,\"resize-to\":1},\"w\":970,\"doubleBuffering\":false,\"flex\":{\"w\":{\"max\":1220,\"min\":960}}}},\"INBODYMAST4-DISPLAY-PH\":{\"meta\":{\"clean\":\"sda-placeholder\",\"dest\":\"sda-placeholder-iframe\",\"fdb\":1,\"h\":250,\"id\":\"MAST\",\"metaSize\":true,\"pos\":\"MAST\",\"supports\":{\"exp-ovr\":1,\"exp-push\":1,\"lyr\":0,\"resize-to\":1},\"w\":970}},\"INBODYMAST4-NATIVE-PH\":{\"meta\":{\"clean\":\"sda-placeholder\",\"dest\":\"sda-placeholder-iframe\",\"fdb\":1,\"h\":250,\"id\":\"MAST\",\"metaSize\":true,\"pos\":\"MAST\",\"supports\":{\"exp-ovr\":1,\"exp-push\":1,\"lyr\":0,\"resize-to\":1},\"w\":970,\"doubleBuffering\":false,\"flex\":{\"w\":{\"max\":1220,\"min\":960}}}},\"LDRB\":{\"meta\":{\"clean\":\"sda-LDRB\",\"dest\":\"sda-LDRB-iframe\",\"fdb\":1,\"h\":90,\"id\":\"LDRB\",\"metaSize\":true,\"pos\":\"LDRB\",\"supports\":{\"exp-ovr\":1,\"exp-push\":1,\"lyr\":0},\"w\":728},\"sfoptin\":1},\"LDRB2\":{\"meta\":{\"clean\":\"sda-LDRB2\",\"dest\":\"sda-LDRB2-iframe\",\"fdb\":1,\"h\":90,\"id\":\"LDRB2\",\"metaSize\":true,\"pos\":\"LDRB2\",\"supports\":{\"exp-ovr\":1,\"exp-push\":1,\"lyr\":0},\"w\":728},\"sfoptin\":1},\"LDRB2-9\":{\"meta\":{\"clean\":\"sda-LDRB2-9\",\"dest\":\"sda-LDRB2-9-iframe\",\"fdb\":1,\"h\":90,\"id\":\"LDRB2-9\",\"metaSize\":true,\"pos\":\"LDRB2-9\",\"supports\":{\"exp-ovr\":1,\"exp-push\":1,\"lyr\":0},\"w\":728},\"sfoptin\":1},\"LREC\":{\"meta\":{\"clean\":null,\"dest\":\"sda-LREC-iframe\",\"fdb\":1,\"h\":250,\"id\":\"LREC\",\"metaSize\":true,\"pos\":\"LREC\",\"supports\":{\"exp-ovr\":0,\"exp-push\":1,\"lyr\":0},\"w\":300},\"sfoptin\":1},\"LREC2\":{\"meta\":{\"clean\":null,\"dest\":\"sda-LREC2-iframe\",\"fdb\":1,\"h\":250,\"id\":\"LREC2\",\"metaSize\":true,\"pos\":\"LREC2\",\"supports\":{\"exp-ovr\":0,\"exp-push\":1,\"lyr\":0},\"w\":300},\"sfoptin\":1},\"LREC3\":{\"meta\":{\"clean\":\"sda-LREC-3\",\"dest\":\"sda-LREC-3-iframe\",\"fdb\":1,\"h\":250,\"id\":\"LREC3\",\"metaSize\":true,\"pos\":\"LREC3\",\"supports\":{\"exp-ovr\":0,\"exp-push\":1,\"lyr\":0},\"w\":300},\"sfoptin\":1},\"LREC3-DISPLAY-PH\":{\"meta\":{\"clean\":\"sda-LREC\",\"dest\":\"sda-LREC-iframe\",\"fdb\":1,\"h\":250,\"id\":\"LREC\",\"metaSize\":true,\"pos\":\"LREC\",\"supports\":{\"exp-ovr\":0,\"exp-push\":1,\"lyr\":0},\"w\":300}},\"LREC3-NATIVE-PH\":{\"meta\":{\"clean\":\"sda-LREC\",\"dest\":\"sda-LREC-iframe\",\"fdb\":1,\"h\":250,\"id\":\"LREC\",\"metaSize\":true,\"pos\":\"LREC\",\"supports\":{\"exp-ovr\":0,\"exp-push\":1,\"lyr\":0},\"w\":300,\"doubleBuffering\":false,\"flex\":{\"h\":{\"max\":312,\"min\":250},\"ratio\":\"1.2x1\",\"w\":{\"align\":\"center\",\"max\":375,\"min\":300}}},\"sfoptin\":1},\"LREC4\":{\"meta\":{\"clean\":\"sda-LREC-4\",\"dest\":\"sda-LREC-4-iframe\",\"fdb\":1,\"h\":250,\"id\":\"LREC4\",\"metaSize\":true,\"pos\":\"LREC4\",\"supports\":{\"exp-ovr\":0,\"exp-push\":1,\"lyr\":0},\"w\":300},\"sfoptin\":1},\"LREC5\":{\"meta\":{\"clean\":\"sda-LREC5\",\"dest\":\"sda-LREC5-iframe\",\"fdb\":1,\"h\":250,\"id\":\"LREC5\",\"metaSize\":true,\"pos\":\"LREC5\",\"supports\":{\"exp-ovr\":0,\"exp-push\":1,\"lyr\":0},\"w\":300},\"sfoptin\":1},\"MAST\":{\"meta\":{\"clean\":\"sda-MAST\",\"dest\":\"sda-MAST-iframe\",\"fdb\":1,\"h\":250,\"id\":\"MAST\",\"metaSize\":true,\"pos\":\"MAST\",\"supports\":{\"exp-ovr\":1,\"exp-push\":1,\"lyr\":0,\"resize-to\":1},\"w\":970},\"sfoptin\":1},\"MAST-DISPLAY-PH\":{\"meta\":{\"clean\":\"sda-MAST-DISPLAY\",\"dest\":\"sda-MAST-DISPLAY\",\"fdb\":1,\"h\":250,\"id\":\"MAST\",\"metaSize\":true,\"pos\":\"MAST\",\"supports\":{\"exp-ovr\":1,\"exp-push\":1,\"lyr\":0,\"resize-to\":1},\"w\":970},\"sfoptin\":1},\"MAST-NATIVE-PH\":{\"meta\":{\"clean\":\"sda-MAST-NATIVE\",\"dest\":\"sda-MAST-NATIVE\",\"fdb\":1,\"h\":250,\"id\":\"MAST\",\"metaSize\":true,\"pos\":\"MAST\",\"supports\":{\"exp-ovr\":1,\"exp-push\":1,\"lyr\":0,\"resize-to\":1},\"w\":970,\"doubleBuffering\":false,\"flex\":{\"w\":{\"max\":1220,\"min\":960}}},\"sfoptin\":1},\"MAST2\":{\"meta\":{\"clean\":\"sda-MAST2\",\"dest\":\"sda-MAST2-iframe\",\"fdb\":1,\"h\":250,\"id\":\"MAST\",\"metaSize\":true,\"pos\":\"MAST\",\"supports\":{\"exp-ovr\":0,\"exp-push\":1,\"lyr\":0,\"resize-to\":1},\"w\":970}},\"MAST2-DISPLAY-PH\":{\"meta\":{\"clean\":\"sda-MAST2-DISPLAY\",\"dest\":\"sda-MAST2-DISPLAY\",\"fdb\":1,\"h\":250,\"id\":\"MAST\",\"metaSize\":true,\"pos\":\"MAST\",\"supports\":{\"exp-ovr\":0,\"exp-push\":1,\"lyr\":0,\"resize-to\":1},\"w\":970},\"sfoptin\":1},\"MAST2-NATIVE-PH\":{\"meta\":{\"clean\":\"sda-MAST2-NATIVE\",\"dest\":\"sda-MAST2-NATIVE\",\"fdb\":1,\"h\":250,\"id\":\"MAST\",\"metaSize\":true,\"pos\":\"MAST\",\"supports\":{\"exp-ovr\":0,\"exp-push\":1,\"lyr\":0,\"resize-to\":1},\"w\":970,\"doubleBuffering\":false,\"flex\":{\"w\":{\"max\":1220,\"min\":960}}},\"sfoptin\":1},\"MOMENTS\":{\"meta\":{\"clean\":\"sda-MOMENTS-base\",\"dest\":\"defaultdestMOMENTS\",\"fdb\":1,\"flex\":{\"h\":{\"min\":568},\"ratio\":\"1x1.78\",\"w\":{\"min\":320}},\"fr\":\"expIfr_exp\",\"h\":667,\"id\":\"MOMENTS\",\"supports\":{\"exp-ovr\":1,\"exp-push\":1,\"resize-to\":1},\"w\":375,\"z\":3}},\"MON\":{\"meta\":{\"clean\":\"sda-MON\",\"dest\":\"sda-MON-iframe\",\"fdb\":1,\"h\":600,\"id\":\"MON\",\"metaSize\":true,\"pos\":\"MON\",\"supports\":{\"exp-ovr\":1,\"exp-push\":1,\"lyr\":0,\"resize-to\":1},\"w\":300},\"sfoptin\":1},\"MON2\":{\"meta\":{\"clean\":\"sda-MON2\",\"dest\":\"sda-MON2-iframe\",\"fdb\":1,\"h\":600,\"id\":\"MON2\",\"metaSize\":true,\"pos\":\"MON2\",\"supports\":{\"exp-ovr\":1,\"exp-push\":1,\"lyr\":0,\"resize-to\":1},\"w\":300}},\"NE1\":{\"meta\":{\"clean\":\"sda-NE1\",\"dest\":\"sda-NE1-iframe\",\"fr\":\"expIfr_exp\",\"h\":35,\"id\":\"NE1\",\"metaSize\":false,\"pos\":\"NE1\",\"staticLayout\":true,\"supports\":{\"exp-ovr\":1,\"exp-push\":1,\"lyr\":1},\"w\":970,\"z\":9}},\"UMU\":{\"meta\":{\"clean\":\"sda-UMU\",\"dest\":\"sda-UMU-iframe\",\"fr\":\"expIfr_exp\",\"h\":32,\"id\":\"UMU\",\"metaSize\":false,\"pos\":\"UMU\",\"staticLayout\":true,\"supports\":{\"exp-ovr\":1,\"exp-push\":1,\"lyr\":1},\"w\":1220,\"z\":1000}},\"WFPAD\":{\"meta\":{\"clean\":\"sda-WFPAD\",\"dest\":\"sda-WFPAD-iframe\",\"h\":50,\"id\":\"WFPAD\",\"metaSize\":true,\"pos\":\"WFPAD\",\"supports\":{\"exp-ovr\":1,\"exp-push\":1,\"lyr\":1,\"resize-to\":1},\"w\":320},\"sfoptin\":0},\"WFPAD-DISPLAY-PH\":{\"meta\":{\"clean\":\"sda-WFPAD-DISPLAY\",\"dest\":\"sda-WFPAD-DISPLAY\",\"h\":50,\"id\":\"WFPAD\",\"metaSize\":true,\"pos\":\"WFPAD\",\"supports\":{\"exp-ovr\":1,\"exp-push\":1,\"lyr\":1,\"resize-to\":1},\"w\":320,\"flex\":{\"h\":{\"min\":50}}},\"sfoptin\":0},\"WFPAD-NATIVE-PH\":{\"meta\":{\"clean\":\"sda-WFPAD-NATIVE\",\"dest\":\"sda-WFPAD-NATIVE\",\"h\":50,\"id\":\"WFPAD\",\"metaSize\":true,\"pos\":\"WFPAD\",\"supports\":{\"exp-ovr\":1,\"exp-push\":1,\"lyr\":1,\"resize-to\":1},\"w\":320,\"doubleBuffering\":false,\"flex\":{\"h\":{\"max\":100,\"min\":80},\"w\":{\"max\":800,\"min\":300}}},\"sfoptin\":0},\"WFPAD2\":{\"meta\":{\"clean\":\"sda-WFPAD2\",\"dest\":\"sda-WFPAD2-iframe\",\"h\":50,\"id\":\"WFPAD2\",\"metaSize\":true,\"pos\":\"WFPAD2\",\"supports\":{\"exp-ovr\":1,\"exp-push\":1,\"lyr\":1,\"resize-to\":1},\"w\":320}},\"WIDGET\":{\"meta\":{\"clean\":\"sda-WIDGET\",\"dest\":\"sda-WIDGET-iframe\",\"fdb\":1,\"h\":450,\"id\":\"WIDGET\",\"metaSize\":false,\"pos\":\"WIDGET\",\"supports\":{\"exp-ovr\":1,\"exp-push\":1,\"lyr\":0,\"resize-to\":1},\"w\":750},\"sfoptin\":1},\"WIDGETA\":{\"meta\":{\"clean\":\"sda-WIDGETA\",\"dest\":\"sda-WIDGETA-iframe\",\"fdb\":1,\"h\":310,\"id\":\"WIDGETA\",\"metaSize\":false,\"pos\":\"WIDGETA\",\"supports\":{\"exp-ovr\":1,\"exp-push\":1},\"w\":343},\"sfoptin\":1},\"XFPAD\":{\"filtered\":1,\"sfoptin\":0}},\\n            rotateIndexPageAds: undefined,\\n            rotation: {},\\n            strings: {\"advertisement\":\"廣告\"},\\n            videoPublisherBlob: \"lu:0;lpstaid:3ef0db31-705c-4ff1-ae51-78c373071f7c;bucket:news-TW-zh-Hant-TW-def;pt:content;ver:article;pd:non_modal;pct:story\",\\n            viewerEnableLRECForShowBodyAdsFalse: undefined,\\n            viewerGAMPositionMeta: undefined,\\n            viewerGeminiSMAdConfig: {},\\n            viewerGeminiSMAdEnabled: undefined,\\n            viewerPositionMeta: undefined,\\n            viewerResetAutoEventOnClose: undefined,\\n            viewerSMAdEnabled: undefined,\\n            viewerViewportAdFetch: {},\\n            viewerWfpad2AdEnabled: undefined,\\n            viewerWfpadAdEnabled: undefined,\\n            viewerWfpadInVideoEnabled: undefined,\\n        };\\n\\n        // expose adsConfig for homepage-viewer client\\n        if (!w.adsConfig) {\\n            w.adsConfig = adsConfig;\\n        }\\n    }(window));\\n</script><script id=wafer-caas-config type=application/json>{\\n  \"caasUrl\": \"https://news.yahoo.com/caas/content/article/\",\\n  \"contextParams\": \"device=smartphone&lang=zh-Hant-TW&region=TW&site=news&adidprefix=sda-&appid=article2_mweb&features=darkmode,editorialUpsells,enableAdSlotsForTWHK,enableAdsMon,enableBodyAdsCharCount,enableGAMAds,enableGAMEdgeToEdge,enableInArticleAd,enablePlayerComparisonRedesign,enableSpaceIdMappingWithPath,enableXrayEntityAboutFacts,filterNonGdprEmbeds,getCommerceModulesFromRmp,isSeamlessArticle,liveBlogPolling,noRapidClickClass,outStream&bucket=news-TW-zh-Hant-TW-def&bot=0&partner=none&hostname=tw.news.yahoo.com\"\\n}</script></div></div></div><div id=postArticle class=\"Mx(20px) Mb(24px) Mt(24px)\"><div id=\"module-articleChallenge\" class=\"wafer-rapid-module \"><div data-wf-body=\\'{\"m_id\":\"tdv2-wafer-loyalty\",\"ctrl\":\"ArticleChallenge\",\"m_mode\":\"json\",\"config\":{\"enableDarkMode\":true,\"xhrPathPrefix\":\"/nel_ms/_rcv/remote\",\"clientPageContext\":\"\",\"articleUuid\":\"3ef0db31-705c-4ff1-ae51-78c373071f7c\",\"challengeTags\":[],\"pageContext\":{\"lu\":\"0\",\"pageType\":\"content\",\"site\":\"news\",\"appName\":\"article\",\"pageDesign\":\"non_modal\",\"pageContentType\":\"story\",\"hashtag\":\"news;game;ai;遊戲;xbox\",\"lmsid\":\"a0V6T00000KBLWzUAP\",\"revsp\":\"yahoo__374\",\"lpstaid\":\"3ef0db31-705c-4ff1-ae51-78c373071f7c\",\"bucket\":\"news-TW-zh-Hant-TW-def\"},\"ncpQueryParams\":{\"geminiDedupeToken\":\"\"}}}\\' id=wafer-articleChallenge class=\"wafer-fetch-container wafer-fetch\" data-wf-cache-strategy=networkFirst data-wf-replace=1 data-wf-retry-reset-for-state-change=2 data-wf-retry-count=2 data-wf-timeout=5000 data-wf-trigger=viewport data-wf-trigger-offset=\"600 0\" data-wf-url=/nel_ms/_rcv/remote?m_id=tdv2-wafer-loyalty&ctrl=ArticleChallenge&module=articleChallenge&site=news&device=smartphone&lang=zh-Hant-TW&region=TW&bucket=news-TW-zh-Hant-TW-def&rid=1r634dljsv6bv&m_mode=json><div class=\"pholder-bg wafer-fetch-error_D(n) grid\"><div class=pholder><div class=ph-title></div><div class=ph-block></div></div></div></div></div><div id=module-appDrive class=wafer-rapid-module><script>\\n                    window.performance.mark(\\'appDrive\\');\\n                    window.performance.measure(\\'appDriveDone\\',\\'PageStart\\',\\'appDrive\\');\\n                    </script></div><div id=module-mktIframe class=\"\"><iframe id=mktIframe src=\"https://tw.buy.yahoo.com/smartbanner/article?site=news&device=smartphone&bucketName=news-TW-zh-Hant-TW-def&spaceId=964316273&articleId=3ef0db31-705c-4ff1-ae51-78c373071f7c\" height=\"104px\" width=100% frameborder=0 scrolling=no></iframe></div></div><div id=module-view-comments class=\"caas-comment Mt(8px) Mx(20px) Mb(28px) H(24px) Fz(14px) Fw(700) Lh(1.71) C(varTitleColor) Ta(c) Pt(12px) Bdc($headerTitleTopBorderColorMobile) Bds(s) Bdw($headerTitleSolidTopBorderWidthCommentsMobile) \"><span class=\"D(ib) Mend(8px) Bg($commentBubbleImg) H(20px) W(20px) Va(m) Bgz(20px,20px)\"></span><span class=D(ib)>檢視留言</span><span data-id=3ef0db31-705c-4ff1-ae51-78c373071f7c data-type=commentsCount class=\"reactions-count caas-dynamic-count dynamic-count-updated\">0</span></div><div id=seamless-footer-wrapper class=\"wafer-fetch-container wafer-fetch Pos(r) Mih(1px) wafer-rapid-module My(24px)\" data-wf-timeout=5000 data-wf-retry-count=2 data-wf-trigger=viewport data-wf-cache-strategy=cacheFirst data-wf-cache-ttl=3600 data-wf-trigger-offset=\"600 0\" data-wf-url=/fp_ms/_rcv/remote?m_mode=json&ctrl=FooterMobileSeamless&m_id=react-wafer-footer&module=footer&site=news&device=smartphone&lang=zh-Hant-TW&region=TW&rid=1r634dljsv6bv></div><div class=col-1><div id=\"sda-LREC2-iframe\" class=\" Mx(20px) Mb(24px)  Ta(c) Mx(a)\" data-content=\"廣告\"><div class=\"sdaLite_D(n) D(f) Ai(c) Jc(c) Bgc(#f5f8fa) Fz(12px) C(#6e7780) H(270px) Mx(a)\">廣告</div></div><div id=\"module-originalContents\" class=\"wafer-rapid-module  Mx(20px) Mb(24px)\"><div data-wf-state-body=\\'{\"m_id\":\"tdv2-wafer-content-list\",\"ctrl\":\"TopicItems\",\"m_mode\":\"json\",\"config\":{\"ads\":{\"gemini\":{\"adsEnabled\":false}},\"categoryName\":\"recommendation\",\"extraListClasses\":\"List(n) My(0) W(100%)\",\"headerConfig\":{\"headerClasses\":\"C(varBatcave) Fxg(1) Pt(14px) Fz(20px) Tt(u) Bdc(varBatcave)\",\"headerIconClasses\":\"\",\"headerLinkClasses\":\"\",\"headerWrapperClasses\":\"D(f) Mb(24px)\",\"solidTopBorderClasses\":\"Bds(s) Bdc(headerTitleTopBorderColorMobile) Bdw(headerTitleSolidTopBorderWidthMobile)\",\"title\":\"RELATED_STORIES\"},\"i13n\":{\"elm\":\"hdln\",\"sec\":\"rel-original\",\"subsec\":\"\"},\"itemClasses\":{\"actionBarParticipantClasses\":\"C(varDolphin)\",\"actionBarRatingClasses\":\"C(varBatcave) Mend(12px)\",\"actionBarWrapperClasses\":\"action-bar D(f) Fld(r) Fxw(w) Jc(sb) Ai(c) Mih(19px) Mt(8px) W($topicItemsBarActionWidthMobileTW) Pos(a) B(0) End(0) Z(3)\",\"commentsIconClasses\":\"Mend(4px) Fill(varDolphin) reactions:h_Fill($titleHoverColor) Va(m)\",\"itemImgClasses\":\"W(92px) D(b) Mah(92px) Bdrs(8px)\",\"itemImgWrapperClasses\":\"Fl(start) Ov(h) Z(0) Or(minusOne) Mend(16px) Pos(r)\",\"itemLinkClasses\":\"LineClamp(2,60px) Mih(20px)\",\"itemProviderClasses\":\"C(varBatcave) Fw(600) Mb(4px)\",\"itemSummaryClasses\":\"D(n)\",\"itemTitleClasses\":\"C(varBatcave) Fw(700) Fz(16px) M(0) Lh(1.25em)\",\"originalContentTypeClasses\":\"D(ib) C(#5d5eff) Fz(12px) Fw(500)\"},\"itemConfig\":{\"showActionBar\":true,\"showComments\":false,\"showImgInside\":false,\"showImgOutside\":true,\"showParticipant\":true,\"showPlaceholderImage\":true,\"showPlayIcon\":false,\"showProviderLogo\":false,\"showRatingAndReleaseDate\":true,\"showShareButton\":false,\"showShareIcon\":false,\"showSummary\":false},\"itemWrapperClassNames\":\"W(100%) Mb(20px) Bxz(bb) Fl(start) H(92px) Pos(r)\",\"listId\":\"\",\"listItemComponent\":{\"sports\":\"OriginalContentSportsItem\"},\"mainItemsCount\":10,\"minItemCount\":0,\"ncpQueryParams\":{\"count\":10,\"date\":\"\",\"imageSizes\":\"114x114\",\"property\":\"TOPIC,PK,POLL,YBRAIN,MOVIE,SPORT\",\"snippetCount\":10,\"adsPublisherUrl\":\"https://tw.news.yahoo.com/%E5%BE%AE%E8%BB%9F%E6%96%B0%E9%81%8A%E6%88%B2ai%E6%A8%A1%E5%9E%8B%E3%80%8Cmuse%E3%80%8D%E4%BA%AE%E7%9B%B8%EF%BC%81%E5%8D%B3%E6%99%82%E7%94%9F%E6%88%90%E9%81%8A%E6%88%B2%E7%95%AB%E9%9D%A2-%E5%8D%BB%E5%BC%95%E7%88%86%E7%8E%A9%E5%AE%B6%E6%AD%A3%E5%8F%8D%E8%AB%96%E6%88%B0-051114570.html\",\"dedupUuids\":\"[state.dedupUuids]\",\"device\":\"smartphone\",\"spaceId\":\"964316273\",\"uuid\":\"3ef0db31-705c-4ff1-ae51-78c373071f7c\",\"geminiDedupeToken\":\"\"},\"originalContentEnabled\":true,\"xhrPathPrefix\":\"/nel_ms/_rcv/remote\",\"clientPageContext\":\"\",\"pageContext\":{\"lu\":\"0\",\"pageType\":\"content\",\"site\":\"news\",\"appName\":\"article\",\"pageDesign\":\"non_modal\",\"pageContentType\":\"story\",\"hashtag\":\"news;game;ai;遊戲;xbox\",\"lmsid\":\"a0V6T00000KBLWzUAP\",\"revsp\":\"yahoo__374\",\"lpstaid\":\"3ef0db31-705c-4ff1-ae51-78c373071f7c\",\"bucket\":\"news-TW-zh-Hant-TW-def\"}}}\\' id=wafer-originalContents class=\"wafer-fetch-container wafer-fetch\" data-wf-cache-strategy=networkFirst data-wf-replace=1 data-wf-retry-reset-for-state-change=2 data-wf-retry-count=2 data-wf-timeout=5000 data-wf-trigger=viewport data-wf-trigger-offset=\"600 0\" data-wf-url=/nel_ms/_rcv/remote?m_id=tdv2-wafer-content-list&ctrl=TopicItems&module=originalContents&site=news&device=smartphone&lang=zh-Hant-TW&region=TW&bucket=news-TW-zh-Hant-TW-def&rid=1r634dljsv6bv&m_mode=json><div class=\"pholder-bg wafer-fetch-error_D(n) grid\"><div class=pholder><div class=ph-title></div><div class=ph-block></div></div></div></div></div><div id=\"module-relatedStories\" class=\"wafer-rapid-module  Mx(20px) Mb(24px)\"><div data-wf-state-body=\\'{\"m_id\":\"tdv2-wafer-content-list\",\"ctrl\":\"TopicItems\",\"m_mode\":\"json\",\"config\":{\"adItemClasses\":{\"itemContentClasses\":\"Bdrs(8px) Mih(120px)\",\"itemImgWrapperClasses\":\"Pos(r) Ov(h) Fxs(0) Z(0) Bdrs(8px)\",\"itemProviderClasses\":\"C($c-fuji-grey-h) Pt(12px) Pb(11px) D(f) Ai(c) Fz(12px) Fw(600) Lh(15px) Z(2)\"},\"ads\":{\"gemini\":{\"adsFrequency\":2,\"adsMultiModuleDedupeEnabled\":true,\"adsType\":\"STRM,STRM_CONTENT\",\"adsStartIndex\":2,\"adsTimeout\":450,\"adsSectionId\":5413267,\"adsSlotsEnabled\":true,\"spaceId\":964316273}},\"categoryName\":\"relatedTopicContentTW\",\"configName\":\"TopicItems/componentTopicItemsTWDarkmode\",\"forceLoadImage\":false,\"isFirstModuleWithGemini\":true,\"itemClasses\":{\"itemProviderClasses\":\"C($providerColor) Mb(6px) Mt(14px) Fw(500) Fz(12px) Lts(0.5px)\",\"providerNameClasses\":\"D(ib) Mt(2px) Mb(4px)\"},\"itemConfig\":{\"showComments\":false,\"showPlayIcon\":true,\"showProviderLogo\":false},\"lazyLoadPubDate\":true,\"ncpQueryParams\":{\"configId\":\"contentsim-nrtcoview\",\"count\":4,\"snippetCount\":4,\"adsPublisherUrl\":\"https://tw.news.yahoo.com/%E5%BE%AE%E8%BB%9F%E6%96%B0%E9%81%8A%E6%88%B2ai%E6%A8%A1%E5%9E%8B%E3%80%8Cmuse%E3%80%8D%E4%BA%AE%E7%9B%B8%EF%BC%81%E5%8D%B3%E6%99%82%E7%94%9F%E6%88%90%E9%81%8A%E6%88%B2%E7%95%AB%E9%9D%A2-%E5%8D%BB%E5%BC%95%E7%88%86%E7%8E%A9%E5%AE%B6%E6%AD%A3%E5%8F%8D%E8%AB%96%E6%88%B0-051114570.html\",\"dedupUuids\":\"[state.dedupUuids]\",\"device\":\"smartphone\",\"spaceId\":\"964316273\",\"uuid\":\"3ef0db31-705c-4ff1-ae51-78c373071f7c\",\"geminiDedupeToken\":\"\"},\"useContentSite\":true,\"adMeta\":{\"adFeedbackToastTarget\":\"#adfeedback-article-toast\",\"enableAdDropdown\":false,\"enableAdFeedback\":false,\"enableAdFeedbackV2\":false,\"isArticlePage\":true,\"enableTaboolaAds\":true,\"taboolaPosition\":{\"mode\":\"stream-twhk-news-d\",\"placement\":\"taboola-stream1\",\"region\":\"index\",\"targetType\":\"mix\"},\"enableGeminiProvider\":false},\"columnAdItemClasses\":{\"itemProviderTitleClasses\":\"Fz(12px) Fw(500) C(varDolphin) Mb(4px)\"},\"columnItemConfig\":{\"playIconWrapperClasses\":\"Pos(a) Start(50%) T(50%) Translate(translate50PerNeg) Bgi(simpleListItemPlayIconBgGradient) Bxsh(simpleListItemPlayIconBoxShadow) P(10px) Bdrs(50%)\",\"providerNameClasses\":\"Fz(12px) Fw(500) C(varDolphin)\",\"showPlayIcon\":true,\"showProviderLogo\":false,\"showShareButton\":false},\"headerConfig\":{\"showProviderInTitle\":false,\"title\":\"ALSO_VIEW\"},\"i13n\":{\"subsec\":\"strm-main\"},\"columnItemClasses\":{\"itemImgWrapperClasses\":\"Fl(end) Ov(h) Z(0) Or(minusOne) Mend(16px) Pos(r)\"},\"originalContentEnabled\":false,\"xhrPathPrefix\":\"/nel_ms/_rcv/remote\",\"bucket\":\"news-TW-zh-Hant-TW-def\",\"clientPageContext\":\"\",\"pageContext\":{\"lu\":\"0\",\"pageType\":\"content\",\"site\":\"news\",\"appName\":\"article\",\"pageDesign\":\"non_modal\",\"pageContentType\":\"story\",\"hashtag\":\"news;game;ai;遊戲;xbox\",\"lmsid\":\"a0V6T00000KBLWzUAP\",\"revsp\":\"yahoo__374\",\"lpstaid\":\"3ef0db31-705c-4ff1-ae51-78c373071f7c\",\"bucket\":\"news-TW-zh-Hant-TW-def\"}}}\\' id=wafer-relatedStories class=\"wafer-fetch-container wafer-fetch\" data-wf-cache-strategy=networkFirst data-wf-replace=1 data-wf-retry-reset-for-state-change=2 data-wf-retry-count=2 data-wf-timeout=5000 data-wf-trigger=viewport data-wf-trigger-offset=\"600 0\" data-wf-url=/nel_ms/_rcv/remote?m_id=tdv2-wafer-content-list&ctrl=TopicItems&module=relatedStories&site=news&device=smartphone&lang=zh-Hant-TW&region=TW&bucket=news-TW-zh-Hant-TW-def&rid=1r634dljsv6bv&m_mode=json></div></div><div id=module-cluster class=\"Mx(0)! Mx(20px) Mb(24px)\"><ul id=\"related-content-wrapper\" class=\"M(0) P(0) Pos(r)\"><li id=\"related-article-container-1e4bdcb7-72a6-3d2f-bcbe-22eb18a4a77b\" class=\"List(n)\"><div class=\"wafer-caas\" data-comments-id=\"module-view-comments-1e4bdcb7-72a6-3d2f-bcbe-22eb18a4a77b\" data-wf-caas-load-assets=\"1\" data-wf-caas-timeout=\"4000\" data-wf-caas-trigger=\"viewportWithPrefetch\" data-wf-trigger-offset=\"300 0\" data-wf-caas-uuid=\"1e4bdcb7-72a6-3d2f-bcbe-22eb18a4a77b\" data-wf-caas-wrapper=\"related-content-wrapper\" data-wf-caas-target=\".related-content-inner\" id=\"related-article-0\"><div class=\"wafer-caas-wrapper D(n) wafer-caas-complete_D(b)\"><div class=\"separator Ai(c) D(n) wafer-caas-complete_D(f) My(32px) H(36px) Jc(c)\"><div class=\"D(ib) Bgc(varDolphin) W(70px) H(1px) Bd(0) Mx(0) My(25px)\"></div><div class=\"D(ib) C(varDolphin) Fz(14px) Fw(b) Px(10px) Tt(U)\">繼續閱讀下一則新聞</div><div class=\"D(ib) Bgc(varDolphin) W(70px) H(1px) Bd(0) Mx(0) My(25px)\"></div></div><div class=\"related-content-inner Mb(40px) Mih(500px)\"></div><div id=\"community-bar-1e4bdcb7-72a6-3d2f-bcbe-22eb18a4a77b\" class=\"caas-comment Pos(r) Start(75px)\"></div></div></div><div class=\"D(n) related-content-lazyload\"><div id=\"related-content-recirc-wrapper-1e4bdcb7-72a6-3d2f-bcbe-22eb18a4a77b\" class=\"recirc-wrapper Mx(20px) Mb(24px)\"><div class=\"wafer-fetch related-content-recirc\" data-wf-body=\"{&quot;ctrl&quot;:&quot;TopicItems&quot;,&quot;m_id&quot;:&quot;tdv2-wafer-content-list&quot;,&quot;m_mode&quot;:&quot;json&quot;,&quot;config&quot;:{&quot;configName&quot;:&quot;TopicItems/componentTopicItemsTWDarkmode&quot;,&quot;categoryName&quot;:&quot;relatedTopicContentTW&quot;,&quot;ads&quot;:{&quot;gemini&quot;:{&quot;adsFrequency&quot;:2,&quot;adsStartIndex&quot;:2,&quot;spaceId&quot;:&quot;964316273&quot;,&quot;adsSectionId&quot;:5413267,&quot;adsSlotsEnabled&quot;:true,&quot;adsTimeout&quot;:450}},&quot;adItemClasses&quot;:{&quot;itemContentClasses&quot;:&quot;Bdrs(8px) Mih(120px)&quot;,&quot;itemProviderClasses&quot;:&quot;C($c-fuji-grey-h) Pt(12px) Pb(11px) D(f) Ai(c) Fz(12px) Fw(600) Lh(15px) Z(2)&quot;,&quot;itemImgWrapperClasses&quot;:&quot;Pos(r) Ov(h) Fxs(0) Z(0) Bdrs(8px)&quot;},&quot;ncpQueryParams&quot;:{&quot;count&quot;:4,&quot;snippetCount&quot;:4,&quot;uuid&quot;:&quot;1e4bdcb7-72a6-3d2f-bcbe-22eb18a4a77b&quot;,&quot;dedupUuids&quot;:&quot;1e4bdcb7-72a6-3d2f-bcbe-22eb18a4a77b,67e9433f-38cd-3643-aa8c-fe63cd6a311d,e0748b11-0292-3996-9192-fc7c5a2c6ba3,c6205a96-f836-39a2-99ed-0fef93e0ac65,158821c4-4937-34eb-8ca2-c17d786afdd5,3ef0db31-705c-4ff1-ae51-78c373071f7c&quot;,&quot;spaceId&quot;:&quot;964316273&quot;,&quot;geminiDedupeToken&quot;:&quot;&quot;,&quot;device&quot;:&quot;smartphone&quot;,&quot;site&quot;:&quot;news&quot;},&quot;forceLoadImage&quot;:true,&quot;columnAdItemClasses&quot;:{&quot;itemProviderTitleClasses&quot;:&quot;Fz(12px) Fw(500) C(varDolphin) Mb(4px)&quot;},&quot;columnItemConfig&quot;:{&quot;playIconWrapperClasses&quot;:&quot;Pos(a) Start(50%) T(50%) Translate(translate50PerNeg) Bgi(simpleListItemPlayIconBgGradient) Bxsh(simpleListItemPlayIconBoxShadow) P(10px) Bdrs(50%)&quot;,&quot;providerNameClasses&quot;:&quot;Fz(12px) Fw(500) C(varDolphin)&quot;,&quot;showPlayIcon&quot;:true,&quot;showProviderLogo&quot;:false},&quot;adMeta&quot;:{&quot;enableGeminiProvider&quot;:false,&quot;enableTaboolaAds&quot;:true,&quot;taboolaPosition&quot;:{&quot;mode&quot;:&quot;stream-twhk-news-d&quot;,&quot;region&quot;:&quot;index&quot;,&quot;targetType&quot;:&quot;mix&quot;,&quot;placement&quot;:&quot;taboola-stream2&quot;}},&quot;bucket&quot;:&quot;news-TW-zh-Hant-TW-def&quot;}}\" data-wf-trigger=\"viewport\" data-wf-trigger-offset=\"300 0\" data-wf-replace=\"1\" data-wf-url=\"/nel_ms/_rcv/remote?m_id=tdv2-wafer-content-list&amp;ctrl=TopicItems&amp;site=news&amp;lang=zh-Hant-TW&amp;region=TW&amp;prid=1r634dljsv6bv&amp;bucket=&amp;m_mode=json\"></div></div><div id=\"LREC3-1e4bdcb7-72a6-3d2f-bcbe-22eb18a4a77b\" class=\"wafer-benji Ta(c) Mb(24px)\" data-wf-trigger=\"viewport\" data-wf-margin=\"400 0\" data-wf-benji-config=\"{&quot;positions&quot;:{&quot;LREC3-1e4bdcb7-72a6-3d2f-bcbe-22eb18a4a77b&quot;:{&quot;id&quot;:&quot;LREC3-1e4bdcb7-72a6-3d2f-bcbe-22eb18a4a77b&quot;,&quot;inView&quot;:&quot;onLoad&quot;,&quot;kvs&quot;:{&quot;loc&quot;:&quot;mid_center_11&quot;},&quot;region&quot;:&quot;index&quot;,&quot;size&quot;:[300,250],&quot;path&quot;:&quot;/22888152279/tw/ynews/ros/mw/tw_ynews_ros_mw_mid_center&quot;}}}\" data-wf-benji-page-context=\"{&quot;pt&quot;:&quot;content&quot;,&quot;hashtag&quot;:&quot;news;game;ai;遊戲;xbox&quot;,&quot;pd&quot;:&quot;non_modal&quot;,&quot;pct&quot;:&quot;story&quot;,&quot;spaceid&quot;:&quot;964316273&quot;}\"><div class=\"gam-placeholder sdaLite_D(n)\"> 廣告 </div></div></div></li><li id=\"related-article-container-67e9433f-38cd-3643-aa8c-fe63cd6a311d\" class=\"List(n)\"><div class=\"wafer-caas\" data-comments-id=\"module-view-comments-67e9433f-38cd-3643-aa8c-fe63cd6a311d\" data-wf-caas-load-assets=\"1\" data-wf-caas-timeout=\"4000\" data-wf-caas-trigger=\"viewportWithPrefetch\" data-wf-trigger-offset=\"300 0\" data-wf-caas-uuid=\"67e9433f-38cd-3643-aa8c-fe63cd6a311d\" data-wf-caas-wrapper=\"related-content-wrapper\" data-wf-caas-target=\".related-content-inner\" id=\"related-article-1\"><div class=\"wafer-caas-wrapper D(n) wafer-caas-complete_D(b)\"><div class=\"separator Ai(c) D(n) wafer-caas-complete_D(f) My(32px) H(36px) Jc(c)\"><div class=\"D(ib) Bgc(varDolphin) W(70px) H(1px) Bd(0) Mx(0) My(25px)\"></div><div class=\"D(ib) C(varDolphin) Fz(14px) Fw(b) Px(10px) Tt(U)\">繼續閱讀下一則新聞</div><div class=\"D(ib) Bgc(varDolphin) W(70px) H(1px) Bd(0) Mx(0) My(25px)\"></div></div><div class=\"related-content-inner Mb(40px) Mih(500px)\"></div><div id=\"community-bar-67e9433f-38cd-3643-aa8c-fe63cd6a311d\" class=\"caas-comment Pos(r) Start(75px)\"></div></div></div><div class=\"D(n) related-content-lazyload\"><div id=\"related-content-recirc-wrapper-67e9433f-38cd-3643-aa8c-fe63cd6a311d\" class=\"recirc-wrapper Mx(20px) Mb(24px)\"><div class=\"wafer-fetch related-content-recirc\" data-wf-body=\"{&quot;ctrl&quot;:&quot;TopicItems&quot;,&quot;m_id&quot;:&quot;tdv2-wafer-content-list&quot;,&quot;m_mode&quot;:&quot;json&quot;,&quot;config&quot;:{&quot;configName&quot;:&quot;TopicItems/componentTopicItemsTWDarkmode&quot;,&quot;categoryName&quot;:&quot;relatedTopicContentTW&quot;,&quot;ads&quot;:{&quot;gemini&quot;:{&quot;adsFrequency&quot;:2,&quot;adsStartIndex&quot;:2,&quot;spaceId&quot;:&quot;964316273&quot;,&quot;adsSectionId&quot;:5413267,&quot;adsSlotsEnabled&quot;:true,&quot;adsTimeout&quot;:450}},&quot;adItemClasses&quot;:{&quot;itemContentClasses&quot;:&quot;Bdrs(8px) Mih(120px)&quot;,&quot;itemProviderClasses&quot;:&quot;C($c-fuji-grey-h) Pt(12px) Pb(11px) D(f) Ai(c) Fz(12px) Fw(600) Lh(15px) Z(2)&quot;,&quot;itemImgWrapperClasses&quot;:&quot;Pos(r) Ov(h) Fxs(0) Z(0) Bdrs(8px)&quot;},&quot;ncpQueryParams&quot;:{&quot;count&quot;:4,&quot;snippetCount&quot;:4,&quot;uuid&quot;:&quot;67e9433f-38cd-3643-aa8c-fe63cd6a311d&quot;,&quot;dedupUuids&quot;:&quot;1e4bdcb7-72a6-3d2f-bcbe-22eb18a4a77b,67e9433f-38cd-3643-aa8c-fe63cd6a311d,e0748b11-0292-3996-9192-fc7c5a2c6ba3,c6205a96-f836-39a2-99ed-0fef93e0ac65,158821c4-4937-34eb-8ca2-c17d786afdd5,3ef0db31-705c-4ff1-ae51-78c373071f7c&quot;,&quot;spaceId&quot;:&quot;964316273&quot;,&quot;geminiDedupeToken&quot;:&quot;&quot;,&quot;device&quot;:&quot;smartphone&quot;,&quot;site&quot;:&quot;news&quot;},&quot;forceLoadImage&quot;:true,&quot;columnAdItemClasses&quot;:{&quot;itemProviderTitleClasses&quot;:&quot;Fz(12px) Fw(500) C(varDolphin) Mb(4px)&quot;},&quot;columnItemConfig&quot;:{&quot;playIconWrapperClasses&quot;:&quot;Pos(a) Start(50%) T(50%) Translate(translate50PerNeg) Bgi(simpleListItemPlayIconBgGradient) Bxsh(simpleListItemPlayIconBoxShadow) P(10px) Bdrs(50%)&quot;,&quot;providerNameClasses&quot;:&quot;Fz(12px) Fw(500) C(varDolphin)&quot;,&quot;showPlayIcon&quot;:true,&quot;showProviderLogo&quot;:false},&quot;adMeta&quot;:{&quot;enableGeminiProvider&quot;:false,&quot;enableTaboolaAds&quot;:true,&quot;taboolaPosition&quot;:{&quot;mode&quot;:&quot;stream-twhk-news-d&quot;,&quot;region&quot;:&quot;index&quot;,&quot;targetType&quot;:&quot;mix&quot;,&quot;placement&quot;:&quot;taboola-stream3&quot;}},&quot;bucket&quot;:&quot;news-TW-zh-Hant-TW-def&quot;}}\" data-wf-trigger=\"viewport\" data-wf-trigger-offset=\"300 0\" data-wf-replace=\"1\" data-wf-url=\"/nel_ms/_rcv/remote?m_id=tdv2-wafer-content-list&amp;ctrl=TopicItems&amp;site=news&amp;lang=zh-Hant-TW&amp;region=TW&amp;prid=1r634dljsv6bv&amp;bucket=&amp;m_mode=json\"></div></div><div id=\"LREC4-67e9433f-38cd-3643-aa8c-fe63cd6a311d\" class=\"wafer-benji Ta(c) Mb(24px)\" data-wf-trigger=\"viewport\" data-wf-margin=\"400 0\" data-wf-benji-config=\"{&quot;positions&quot;:{&quot;LREC4-67e9433f-38cd-3643-aa8c-fe63cd6a311d&quot;:{&quot;id&quot;:&quot;LREC4-67e9433f-38cd-3643-aa8c-fe63cd6a311d&quot;,&quot;inView&quot;:&quot;onLoad&quot;,&quot;kvs&quot;:{&quot;loc&quot;:&quot;mid_center_12&quot;},&quot;region&quot;:&quot;index&quot;,&quot;size&quot;:[300,250],&quot;path&quot;:&quot;/22888152279/tw/ynews/ros/mw/tw_ynews_ros_mw_mid_center&quot;}}}\" data-wf-benji-page-context=\"{&quot;pt&quot;:&quot;content&quot;,&quot;hashtag&quot;:&quot;news;game;ai;遊戲;xbox&quot;,&quot;pd&quot;:&quot;non_modal&quot;,&quot;pct&quot;:&quot;story&quot;,&quot;spaceid&quot;:&quot;964316273&quot;}\"><div class=\"gam-placeholder sdaLite_D(n)\"> 廣告 </div></div></div></li><li id=\"related-article-container-e0748b11-0292-3996-9192-fc7c5a2c6ba3\" class=\"List(n)\"><div class=\"wafer-caas\" data-comments-id=\"module-view-comments-e0748b11-0292-3996-9192-fc7c5a2c6ba3\" data-wf-caas-load-assets=\"1\" data-wf-caas-timeout=\"4000\" data-wf-caas-trigger=\"viewportWithPrefetch\" data-wf-trigger-offset=\"300 0\" data-wf-caas-uuid=\"e0748b11-0292-3996-9192-fc7c5a2c6ba3\" data-wf-caas-wrapper=\"related-content-wrapper\" data-wf-caas-target=\".related-content-inner\" id=\"related-article-2\"><div class=\"wafer-caas-wrapper D(n) wafer-caas-complete_D(b)\"><div class=\"separator Ai(c) D(n) wafer-caas-complete_D(f) My(32px) H(36px) Jc(c)\"><div class=\"D(ib) Bgc(varDolphin) W(70px) H(1px) Bd(0) Mx(0) My(25px)\"></div><div class=\"D(ib) C(varDolphin) Fz(14px) Fw(b) Px(10px) Tt(U)\">繼續閱讀下一則新聞</div><div class=\"D(ib) Bgc(varDolphin) W(70px) H(1px) Bd(0) Mx(0) My(25px)\"></div></div><div class=\"related-content-inner Mb(40px) Mih(500px)\"></div><div id=\"community-bar-e0748b11-0292-3996-9192-fc7c5a2c6ba3\" class=\"caas-comment Pos(r) Start(75px)\"></div></div></div><div class=\"D(n) related-content-lazyload\"><div id=\"related-content-recirc-wrapper-e0748b11-0292-3996-9192-fc7c5a2c6ba3\" class=\"recirc-wrapper Mx(20px) Mb(24px)\"><div class=\"wafer-fetch related-content-recirc\" data-wf-body=\"{&quot;ctrl&quot;:&quot;TopicItems&quot;,&quot;m_id&quot;:&quot;tdv2-wafer-content-list&quot;,&quot;m_mode&quot;:&quot;json&quot;,&quot;config&quot;:{&quot;configName&quot;:&quot;TopicItems/componentTopicItemsTWDarkmode&quot;,&quot;categoryName&quot;:&quot;relatedTopicContentTW&quot;,&quot;ads&quot;:{&quot;gemini&quot;:{&quot;adsFrequency&quot;:2,&quot;adsStartIndex&quot;:2,&quot;spaceId&quot;:&quot;964316273&quot;,&quot;adsSectionId&quot;:5413267,&quot;adsSlotsEnabled&quot;:true,&quot;adsTimeout&quot;:450}},&quot;adItemClasses&quot;:{&quot;itemContentClasses&quot;:&quot;Bdrs(8px) Mih(120px)&quot;,&quot;itemProviderClasses&quot;:&quot;C($c-fuji-grey-h) Pt(12px) Pb(11px) D(f) Ai(c) Fz(12px) Fw(600) Lh(15px) Z(2)&quot;,&quot;itemImgWrapperClasses&quot;:&quot;Pos(r) Ov(h) Fxs(0) Z(0) Bdrs(8px)&quot;},&quot;ncpQueryParams&quot;:{&quot;count&quot;:4,&quot;snippetCount&quot;:4,&quot;uuid&quot;:&quot;e0748b11-0292-3996-9192-fc7c5a2c6ba3&quot;,&quot;dedupUuids&quot;:&quot;1e4bdcb7-72a6-3d2f-bcbe-22eb18a4a77b,67e9433f-38cd-3643-aa8c-fe63cd6a311d,e0748b11-0292-3996-9192-fc7c5a2c6ba3,c6205a96-f836-39a2-99ed-0fef93e0ac65,158821c4-4937-34eb-8ca2-c17d786afdd5,3ef0db31-705c-4ff1-ae51-78c373071f7c&quot;,&quot;spaceId&quot;:&quot;964316273&quot;,&quot;geminiDedupeToken&quot;:&quot;&quot;,&quot;device&quot;:&quot;smartphone&quot;,&quot;site&quot;:&quot;news&quot;},&quot;forceLoadImage&quot;:true,&quot;columnAdItemClasses&quot;:{&quot;itemProviderTitleClasses&quot;:&quot;Fz(12px) Fw(500) C(varDolphin) Mb(4px)&quot;},&quot;columnItemConfig&quot;:{&quot;playIconWrapperClasses&quot;:&quot;Pos(a) Start(50%) T(50%) Translate(translate50PerNeg) Bgi(simpleListItemPlayIconBgGradient) Bxsh(simpleListItemPlayIconBoxShadow) P(10px) Bdrs(50%)&quot;,&quot;providerNameClasses&quot;:&quot;Fz(12px) Fw(500) C(varDolphin)&quot;,&quot;showPlayIcon&quot;:true,&quot;showProviderLogo&quot;:false},&quot;adMeta&quot;:{&quot;enableGeminiProvider&quot;:false,&quot;enableTaboolaAds&quot;:true,&quot;taboolaPosition&quot;:{&quot;mode&quot;:&quot;stream-twhk-news-d&quot;,&quot;region&quot;:&quot;index&quot;,&quot;targetType&quot;:&quot;mix&quot;,&quot;placement&quot;:&quot;taboola-stream4&quot;}},&quot;bucket&quot;:&quot;news-TW-zh-Hant-TW-def&quot;}}\" data-wf-trigger=\"viewport\" data-wf-trigger-offset=\"300 0\" data-wf-replace=\"1\" data-wf-url=\"/nel_ms/_rcv/remote?m_id=tdv2-wafer-content-list&amp;ctrl=TopicItems&amp;site=news&amp;lang=zh-Hant-TW&amp;region=TW&amp;prid=1r634dljsv6bv&amp;bucket=&amp;m_mode=json\"></div></div><div id=\"LREC5-e0748b11-0292-3996-9192-fc7c5a2c6ba3\" class=\"wafer-benji Ta(c) Mb(24px)\" data-wf-trigger=\"viewport\" data-wf-margin=\"400 0\" data-wf-benji-config=\"{&quot;positions&quot;:{&quot;LREC5-e0748b11-0292-3996-9192-fc7c5a2c6ba3&quot;:{&quot;id&quot;:&quot;LREC5-e0748b11-0292-3996-9192-fc7c5a2c6ba3&quot;,&quot;inView&quot;:&quot;onLoad&quot;,&quot;kvs&quot;:{&quot;loc&quot;:&quot;mid_center_13&quot;},&quot;region&quot;:&quot;index&quot;,&quot;size&quot;:[300,250],&quot;path&quot;:&quot;/22888152279/tw/ynews/ros/mw/tw_ynews_ros_mw_mid_center&quot;}}}\" data-wf-benji-page-context=\"{&quot;pt&quot;:&quot;content&quot;,&quot;hashtag&quot;:&quot;news;game;ai;遊戲;xbox&quot;,&quot;pd&quot;:&quot;non_modal&quot;,&quot;pct&quot;:&quot;story&quot;,&quot;spaceid&quot;:&quot;964316273&quot;}\"><div class=\"gam-placeholder sdaLite_D(n)\"> 廣告 </div></div></div></li><li id=\"related-article-container-c6205a96-f836-39a2-99ed-0fef93e0ac65\" class=\"List(n)\"><div class=\"wafer-caas\" data-comments-id=\"module-view-comments-c6205a96-f836-39a2-99ed-0fef93e0ac65\" data-wf-caas-load-assets=\"1\" data-wf-caas-timeout=\"4000\" data-wf-caas-trigger=\"viewportWithPrefetch\" data-wf-trigger-offset=\"300 0\" data-wf-caas-uuid=\"c6205a96-f836-39a2-99ed-0fef93e0ac65\" data-wf-caas-wrapper=\"related-content-wrapper\" data-wf-caas-target=\".related-content-inner\" id=\"related-article-3\"><div class=\"wafer-caas-wrapper D(n) wafer-caas-complete_D(b)\"><div class=\"separator Ai(c) D(n) wafer-caas-complete_D(f) My(32px) H(36px) Jc(c)\"><div class=\"D(ib) Bgc(varDolphin) W(70px) H(1px) Bd(0) Mx(0) My(25px)\"></div><div class=\"D(ib) C(varDolphin) Fz(14px) Fw(b) Px(10px) Tt(U)\">繼續閱讀下一則新聞</div><div class=\"D(ib) Bgc(varDolphin) W(70px) H(1px) Bd(0) Mx(0) My(25px)\"></div></div><div class=\"related-content-inner Mb(40px) Mih(500px)\"></div><div id=\"community-bar-c6205a96-f836-39a2-99ed-0fef93e0ac65\" class=\"caas-comment Pos(r) Start(75px)\"></div></div></div><div class=\"D(n) related-content-lazyload\"><div id=\"related-content-recirc-wrapper-c6205a96-f836-39a2-99ed-0fef93e0ac65\" class=\"recirc-wrapper Mx(20px) Mb(24px)\"><div class=\"wafer-fetch related-content-recirc\" data-wf-body=\"{&quot;ctrl&quot;:&quot;TopicItems&quot;,&quot;m_id&quot;:&quot;tdv2-wafer-content-list&quot;,&quot;m_mode&quot;:&quot;json&quot;,&quot;config&quot;:{&quot;configName&quot;:&quot;TopicItems/componentTopicItemsTWDarkmode&quot;,&quot;categoryName&quot;:&quot;relatedTopicContentTW&quot;,&quot;ads&quot;:{&quot;gemini&quot;:{&quot;adsFrequency&quot;:2,&quot;adsStartIndex&quot;:2,&quot;spaceId&quot;:&quot;964316273&quot;,&quot;adsSectionId&quot;:5413267,&quot;adsSlotsEnabled&quot;:true,&quot;adsTimeout&quot;:450}},&quot;adItemClasses&quot;:{&quot;itemContentClasses&quot;:&quot;Bdrs(8px) Mih(120px)&quot;,&quot;itemProviderClasses&quot;:&quot;C($c-fuji-grey-h) Pt(12px) Pb(11px) D(f) Ai(c) Fz(12px) Fw(600) Lh(15px) Z(2)&quot;,&quot;itemImgWrapperClasses&quot;:&quot;Pos(r) Ov(h) Fxs(0) Z(0) Bdrs(8px)&quot;},&quot;ncpQueryParams&quot;:{&quot;count&quot;:4,&quot;snippetCount&quot;:4,&quot;uuid&quot;:&quot;c6205a96-f836-39a2-99ed-0fef93e0ac65&quot;,&quot;dedupUuids&quot;:&quot;1e4bdcb7-72a6-3d2f-bcbe-22eb18a4a77b,67e9433f-38cd-3643-aa8c-fe63cd6a311d,e0748b11-0292-3996-9192-fc7c5a2c6ba3,c6205a96-f836-39a2-99ed-0fef93e0ac65,158821c4-4937-34eb-8ca2-c17d786afdd5,3ef0db31-705c-4ff1-ae51-78c373071f7c&quot;,&quot;spaceId&quot;:&quot;964316273&quot;,&quot;geminiDedupeToken&quot;:&quot;&quot;,&quot;device&quot;:&quot;smartphone&quot;,&quot;site&quot;:&quot;news&quot;},&quot;forceLoadImage&quot;:true,&quot;columnAdItemClasses&quot;:{&quot;itemProviderTitleClasses&quot;:&quot;Fz(12px) Fw(500) C(varDolphin) Mb(4px)&quot;},&quot;columnItemConfig&quot;:{&quot;playIconWrapperClasses&quot;:&quot;Pos(a) Start(50%) T(50%) Translate(translate50PerNeg) Bgi(simpleListItemPlayIconBgGradient) Bxsh(simpleListItemPlayIconBoxShadow) P(10px) Bdrs(50%)&quot;,&quot;providerNameClasses&quot;:&quot;Fz(12px) Fw(500) C(varDolphin)&quot;,&quot;showPlayIcon&quot;:true,&quot;showProviderLogo&quot;:false},&quot;adMeta&quot;:{&quot;enableGeminiProvider&quot;:false,&quot;enableTaboolaAds&quot;:true,&quot;taboolaPosition&quot;:{&quot;mode&quot;:&quot;stream-twhk-news-d&quot;,&quot;region&quot;:&quot;index&quot;,&quot;targetType&quot;:&quot;mix&quot;,&quot;placement&quot;:&quot;taboola-stream5&quot;}},&quot;bucket&quot;:&quot;news-TW-zh-Hant-TW-def&quot;}}\" data-wf-trigger=\"viewport\" data-wf-trigger-offset=\"300 0\" data-wf-replace=\"1\" data-wf-url=\"/nel_ms/_rcv/remote?m_id=tdv2-wafer-content-list&amp;ctrl=TopicItems&amp;site=news&amp;lang=zh-Hant-TW&amp;region=TW&amp;prid=1r634dljsv6bv&amp;bucket=&amp;m_mode=json\"></div></div><div id=\"LREC6-c6205a96-f836-39a2-99ed-0fef93e0ac65\" class=\"wafer-benji Ta(c) Mb(24px)\" data-wf-trigger=\"viewport\" data-wf-margin=\"400 0\" data-wf-benji-config=\"{&quot;positions&quot;:{&quot;LREC6-c6205a96-f836-39a2-99ed-0fef93e0ac65&quot;:{&quot;id&quot;:&quot;LREC6-c6205a96-f836-39a2-99ed-0fef93e0ac65&quot;,&quot;inView&quot;:&quot;onLoad&quot;,&quot;kvs&quot;:{&quot;loc&quot;:&quot;mid_center_14&quot;},&quot;region&quot;:&quot;index&quot;,&quot;size&quot;:[300,250],&quot;path&quot;:&quot;/22888152279/tw/ynews/ros/mw/tw_ynews_ros_mw_mid_center&quot;}}}\" data-wf-benji-page-context=\"{&quot;pt&quot;:&quot;content&quot;,&quot;hashtag&quot;:&quot;news;game;ai;遊戲;xbox&quot;,&quot;pd&quot;:&quot;non_modal&quot;,&quot;pct&quot;:&quot;story&quot;,&quot;spaceid&quot;:&quot;964316273&quot;}\"><div class=\"gam-placeholder sdaLite_D(n)\"> 廣告 </div></div></div></li><li id=\"related-article-container-158821c4-4937-34eb-8ca2-c17d786afdd5\" class=\"List(n)\"><div class=\"wafer-caas\" data-comments-id=\"module-view-comments-158821c4-4937-34eb-8ca2-c17d786afdd5\" data-wf-caas-load-assets=\"1\" data-wf-caas-timeout=\"4000\" data-wf-caas-trigger=\"viewportWithPrefetch\" data-wf-trigger-offset=\"300 0\" data-wf-caas-uuid=\"158821c4-4937-34eb-8ca2-c17d786afdd5\" data-wf-caas-wrapper=\"related-content-wrapper\" data-wf-caas-target=\".related-content-inner\" id=\"related-article-4\"><div class=\"wafer-caas-wrapper D(n) wafer-caas-complete_D(b)\"><div class=\"separator Ai(c) D(n) wafer-caas-complete_D(f) My(32px) H(36px) Jc(c)\"><div class=\"D(ib) Bgc(varDolphin) W(70px) H(1px) Bd(0) Mx(0) My(25px)\"></div><div class=\"D(ib) C(varDolphin) Fz(14px) Fw(b) Px(10px) Tt(U)\">繼續閱讀下一則新聞</div><div class=\"D(ib) Bgc(varDolphin) W(70px) H(1px) Bd(0) Mx(0) My(25px)\"></div></div><div class=\"related-content-inner Mb(40px) Mih(500px)\"></div><div id=\"community-bar-158821c4-4937-34eb-8ca2-c17d786afdd5\" class=\"caas-comment Pos(r) Start(75px)\"></div></div></div><div class=\"D(n) related-content-lazyload\"><div id=\"related-content-recirc-wrapper-158821c4-4937-34eb-8ca2-c17d786afdd5\" class=\"recirc-wrapper Mx(20px) Mb(24px)\"><div class=\"wafer-fetch related-content-recirc\" data-wf-body=\"{&quot;ctrl&quot;:&quot;TopicItems&quot;,&quot;m_id&quot;:&quot;tdv2-wafer-content-list&quot;,&quot;m_mode&quot;:&quot;json&quot;,&quot;config&quot;:{&quot;configName&quot;:&quot;TopicItems/componentTopicItemsTWDarkmode&quot;,&quot;categoryName&quot;:&quot;relatedTopicContentTW&quot;,&quot;ads&quot;:{&quot;gemini&quot;:{&quot;adsFrequency&quot;:2,&quot;adsStartIndex&quot;:2,&quot;spaceId&quot;:&quot;964316273&quot;,&quot;adsSectionId&quot;:5413267,&quot;adsSlotsEnabled&quot;:true,&quot;adsTimeout&quot;:450}},&quot;adItemClasses&quot;:{&quot;itemContentClasses&quot;:&quot;Bdrs(8px) Mih(120px)&quot;,&quot;itemProviderClasses&quot;:&quot;C($c-fuji-grey-h) Pt(12px) Pb(11px) D(f) Ai(c) Fz(12px) Fw(600) Lh(15px) Z(2)&quot;,&quot;itemImgWrapperClasses&quot;:&quot;Pos(r) Ov(h) Fxs(0) Z(0) Bdrs(8px)&quot;},&quot;ncpQueryParams&quot;:{&quot;count&quot;:4,&quot;snippetCount&quot;:4,&quot;uuid&quot;:&quot;158821c4-4937-34eb-8ca2-c17d786afdd5&quot;,&quot;dedupUuids&quot;:&quot;1e4bdcb7-72a6-3d2f-bcbe-22eb18a4a77b,67e9433f-38cd-3643-aa8c-fe63cd6a311d,e0748b11-0292-3996-9192-fc7c5a2c6ba3,c6205a96-f836-39a2-99ed-0fef93e0ac65,158821c4-4937-34eb-8ca2-c17d786afdd5,3ef0db31-705c-4ff1-ae51-78c373071f7c&quot;,&quot;spaceId&quot;:&quot;964316273&quot;,&quot;geminiDedupeToken&quot;:&quot;&quot;,&quot;device&quot;:&quot;smartphone&quot;,&quot;site&quot;:&quot;news&quot;},&quot;forceLoadImage&quot;:true,&quot;columnAdItemClasses&quot;:{&quot;itemProviderTitleClasses&quot;:&quot;Fz(12px) Fw(500) C(varDolphin) Mb(4px)&quot;},&quot;columnItemConfig&quot;:{&quot;playIconWrapperClasses&quot;:&quot;Pos(a) Start(50%) T(50%) Translate(translate50PerNeg) Bgi(simpleListItemPlayIconBgGradient) Bxsh(simpleListItemPlayIconBoxShadow) P(10px) Bdrs(50%)&quot;,&quot;providerNameClasses&quot;:&quot;Fz(12px) Fw(500) C(varDolphin)&quot;,&quot;showPlayIcon&quot;:true,&quot;showProviderLogo&quot;:false},&quot;adMeta&quot;:{&quot;enableGeminiProvider&quot;:false,&quot;enableTaboolaAds&quot;:true,&quot;taboolaPosition&quot;:{&quot;mode&quot;:&quot;stream-twhk-news-d&quot;,&quot;region&quot;:&quot;index&quot;,&quot;targetType&quot;:&quot;mix&quot;,&quot;placement&quot;:&quot;taboola-stream6&quot;}},&quot;bucket&quot;:&quot;news-TW-zh-Hant-TW-def&quot;}}\" data-wf-trigger=\"viewport\" data-wf-trigger-offset=\"300 0\" data-wf-replace=\"1\" data-wf-url=\"/nel_ms/_rcv/remote?m_id=tdv2-wafer-content-list&amp;ctrl=TopicItems&amp;site=news&amp;lang=zh-Hant-TW&amp;region=TW&amp;prid=1r634dljsv6bv&amp;bucket=&amp;m_mode=json\"></div></div><div id=\"LREC7-158821c4-4937-34eb-8ca2-c17d786afdd5\" class=\"wafer-benji Ta(c) Mb(24px)\" data-wf-trigger=\"viewport\" data-wf-margin=\"400 0\" data-wf-benji-config=\"{&quot;positions&quot;:{&quot;LREC7-158821c4-4937-34eb-8ca2-c17d786afdd5&quot;:{&quot;id&quot;:&quot;LREC7-158821c4-4937-34eb-8ca2-c17d786afdd5&quot;,&quot;inView&quot;:&quot;onLoad&quot;,&quot;kvs&quot;:{&quot;loc&quot;:&quot;mid_center_15&quot;},&quot;region&quot;:&quot;index&quot;,&quot;size&quot;:[300,250],&quot;path&quot;:&quot;/22888152279/tw/ynews/ros/mw/tw_ynews_ros_mw_mid_center&quot;}}}\" data-wf-benji-page-context=\"{&quot;pt&quot;:&quot;content&quot;,&quot;hashtag&quot;:&quot;news;game;ai;遊戲;xbox&quot;,&quot;pd&quot;:&quot;non_modal&quot;,&quot;pct&quot;:&quot;story&quot;,&quot;spaceid&quot;:&quot;964316273&quot;}\"><div class=\"gam-placeholder sdaLite_D(n)\"> 廣告 </div></div></div></li></ul><script>\\n                    window.performance.mark(\\'cluster\\');\\n                    window.performance.measure(\\'clusterDone\\',\\'PageStart\\',\\'cluster\\');\\n                    </script></div></div></div></main></div><div id=community-bar></div></div><footer id=Footer><div id=\"module-footer\" class=\"wafer-rapid-module fp-item-card\"><div data-wf-cache-ttl=3600 id=wafer-footer class=\"wafer-fetch-container wafer-fetch\" data-wf-cache-strategy=cacheFirst data-wf-replace=1 data-wf-retry-reset-for-state-change=2 data-wf-retry-count=2 data-wf-timeout=5000 data-wf-trigger=viewport data-wf-trigger-offset=\"600 0\" data-wf-url=/fp_ms/_rcv/remote?m_id=react-wafer-footer&ctrl=FooterMobileV2&module=footer&site=news&device=smartphone&lang=zh-Hant-TW&region=TW&bucket=news-TW-zh-Hant-TW-def&rid=1r634dljsv6bv&m_mode=json><div class=\"pholder-bg wafer-fetch-error_D(n) grid\"><div class=pholder><div class=ph-title></div><div class=ph-block></div></div></div></div></div><div id=module-coverAdWall class=\"wafer-rapid-module H(1px)\"><div class=\"coverAd-wall-wrapper wafer-benji Pos(f) Start(0) W(100%) H(100vh) Z(12) Bgc($bgCoverWall)\" data-reads-quota-limit=\"1\" data-expiry-period=\"86400000\" data-rapid-module-id=\"#module-coverAdWall\" data-wf-trigger=\"viewport\" data-wf-benji-config=\"{&quot;positions&quot;:{&quot;sda-MI-iframe&quot;:{&quot;customSizeConfig&quot;:{&quot;Lighthouse&quot;:true},&quot;disableRefresh&quot;:true,&quot;id&quot;:&quot;sda-MI-iframe&quot;,&quot;kvs&quot;:{&quot;loc&quot;:&quot;top_center_mi&quot;},&quot;path&quot;:&quot;/22888152279/tw/ynews/ros/mw/tw_ynews_ros_mw_top_center_mi&quot;,&quot;region&quot;:&quot;index&quot;,&quot;size&quot;:[[2,2]]}}}\"><div class=\"H(100%) D(f) Fxd(c) Ai(c) Jc(c)\"><div id=\"sda-MI-iframe\"></div><button class=\"close-button Pos(a) T(12px) End(12px) P(0) Bd(0)\" data-ylk-lazy=\"elm:btn;itc:1;sec:ad-fullpage;slk:closeAD;\"><svg width=\"40\" height=\"40\" viewBox=\"0 0 40 40\"><circle cx=\"20\" cy=\"20\" r=\"19.5\" fill=\"#000\" fill-opacity=\".6\" stroke=\"#fff\"></circle><path d=\"m20 18.235-6.623-6.622a1.25 1.25 0 0 0-1.76.005 1.24 1.24 0 0 0-.003 1.76L18.235 20l-6.621 6.621a1.25 1.25 0 0 0 .003 1.76 1.24 1.24 0 0 0 1.76.005L20 21.764l6.622 6.622a1.249 1.249 0 0 0 1.764-1.765l-6.621-6.62 6.621-6.623a1.25 1.25 0 0 0-.003-1.76 1.243 1.243 0 0 0-1.76-.005z\" fill=\"#fff\"></path></svg></button></div></div><script>\\n                    window.performance.mark(\\'coverAdWall\\');\\n                    window.performance.measure(\\'coverAdWallDone\\',\\'PageStart\\',\\'coverAdWall\\');\\n                    </script></div><div id=module-videoAd class=\"wafer-rapid-module videoAd Pos(f) B(57px) Start(0) W(100%) Z(11)\"><div class=\"video-ad-wrapper wafer-benji\" data-expiry-period=\"86400000\" data-enable-mock-video-ad=\"false\" data-wf-benji-config=\"{&quot;positions&quot;:{&quot;sda-MYTEST-iframe&quot;:{&quot;disableRefresh&quot;:true,&quot;id&quot;:&quot;sda-MYTEST-iframe&quot;,&quot;kvs&quot;:{&quot;loc&quot;:&quot;btm_center&quot;},&quot;path&quot;:&quot;/22888152279/tw/ynews/ros/mw/tw_ynews_ros_mw_btm_center&quot;,&quot;region&quot;:&quot;index&quot;,&quot;size&quot;:[[1,150]]}}}\" data-wf-trigger=\"viewport\"><div class=\"close-button D(f) Fxd(rr) Pend(4px) Pb(4px) Ov(h)\"><div><svg width=\"30\" height=\"30\" viewBox=\"0 0 30 30\" fill=\"none\" xmlns=\"http://www.w3.org/2000/svg\"><circle cx=\"15\" cy=\"15\" r=\"14.5\" fill=\"black\" fill-opacity=\"0.6\" stroke=\"white\"></circle><path d=\"M15 13.6764L10.0331 8.70949C9.67406 8.35043 9.07875 8.34762 8.71313 8.71324C8.34563 9.08168 8.34656 9.66949 8.71031 10.0332L13.6762 15.0001L8.71031 19.9661C8.35031 20.3261 8.34844 20.9204 8.71313 21.2861C9.08156 21.6545 9.67031 21.6536 10.0331 21.2898L15 16.3229L19.9669 21.2898C20.3259 21.6498 20.9212 21.6517 21.2869 21.2861C21.6544 20.9186 21.6534 20.3298 21.2897 19.9661L16.3238 15.0001L21.2897 10.0332C21.6497 9.67324 21.6516 9.07887 21.2869 8.71324C20.9184 8.34574 20.3297 8.34668 19.9669 8.70949L15 13.6764Z\" fill=\"white\"></path></svg></div></div><div class=\"W(100%) H(150px)\"><div id=\"sda-MYTEST-iframe\"></div></div></div><script>\\n                    window.performance.mark(\\'videoAd\\');\\n                    window.performance.measure(\\'videoAdDone\\',\\'PageStart\\',\\'videoAd\\');\\n                    </script></div></footer><div id=adfeedback-article-toast class=wafer-rapid-module></div><div id=overlay></div><script type=\"application/json\" id=\"wafer-config\">{\"assetsLoaded\":{\"/aaq/art/css/deeplink.atomic.ltr.b0ff72321580f501d711e99fc9aba8ad.css\":true,\"/aaq/art/css/sdacontainer.7071768451db14ed357aca3116377c69.css\":true,\"/os/yc/css/bundle.c60a6d54.css\":true,\"/aaq/art/css/yahoosans.6263160197e55d64da3484ae09bd2851.css\":true,\"/aaq/art/css/modules.atomic.ltr.77342269025b35c445c7e5b0eee11cbc.css\":true,\"/aaq/art/css/mobileweb.1e671937353f707e1ba1b78c9894e938.css\":true,\"/aaq/fp/css/tdv2-wafer-adfeedback.custom.smartphone.892444a0239165161b3a5b8e7de0dd0f.css\":true,\"/aaq/fp/css/tdv2-wafer-adfeedback.AdFeedbackAllComponents.atomic.ltr.1e4cfc1db874f628b48e19eb1c3df41c.min.css\":true,\"/aaq/art/css/darkmode.d7070f6aabdb9dea30c1eba10c43f263.css\":true,\"/aaq/art/css/topAdStickyStyle.d8bd335f910e8c18c62db8007571e6b5.css\":true,\"/aaq/cprops/colors_1.1.27.min.css\":true,\"/aaq/nel/css/tdv2-wafer-content-list.TopicItems.atomic.ltr.6438479f307e86e59802b5da8d6ba5e7.min.css\":true,\"/aaq/nel/css/tdv2-wafer-content-list.custom.888132cb49eb61157282573521d113fb.css\":true,\"/aaq/nel/css/tdv2-wafer-related-content.RelatedContent.atomic.ltr.2347c7bc62316cabb66df72e5811ad2a.min.css\":true,\"/aaq/nel/css/tdv2-wafer-related-content.custom.ca56b2d35aebbdcbe7ca2079685379b1.css\":true,\"/aaq/fp/css/react-wafer-footer.FooterMobileV2.atomic.ltr.75704a5636f1abae0847822e94ed3887.min.css\":true,\"/aaq/nel/css/login-wall.CoverAdWall.atomic.ltr.00484aed9c8491210396b44bbc1dc988.min.css\":true,\"/aaq/nel/css/login-wall.customCoverAdWall.3b6719ddd8d727d684585ca119602f6f.css\":true,\"/br/tw_ms/css/react-wafer-apac-ad.VideoAd.atomic.ltr.1149c8b64ece9ecf315822ae435932e1.min.css\":true,\"/br/tw_ms/css/react-wafer-apac-ad.custom.mobile.c019af6139bbb3d42aef277b5512c5d9.css\":true,\"/aaq/fp/css/react-wafer-featurebar.FeaturebarNew.atomic.ltr.1f38518fd23317c7e8f5c7313814f31b.min.css\":true,\"/aaq/fp/css/promos.AppPromoBanner.atomic.ltr.12c5b929fae4830c048e81dcad827ef2.min.css\":true,\"/br/tw_ms/css/react-wafer-apac-header.Header.atomic.ltr.5bee79e733e04f58b20a6956a9576fa4.min.css\":true,\"/aaq/nel/css/tdv2-wafer-loyalty.ArticleChallenge.atomic.ltr.ccdf81a014542857e8bd2482dafbf130.min.css\":true,\"/aaq/nel/css/tdv2-wafer-loyalty.article-challenge.1e572d223901f4b59e999cdfc9bf90a8.css\":true,\"/aaq/nel/css/app-drive.AppDrive.atomic.ltr.2afa0a29e0c3f26f1dc67b3693395616.min.css\":true,\"/aaq/art/js/caas.40f4c8a2980af77c2ce9bdc2e53f50a5.js\":true,\"/aaq/wf/wf-loader-2.7.21-modern.js\":true,\"/aaq/yc/js/iframe-1.0.31.js\":true,\"/aaq/art/js/comments.0153199c435c205e1cebebab5b9ebf0a.js\":true,\"/ss/analytics-3.57.2.js\":true,\"/version/7.0.0/cmp.js\":true,\"/aaq/vzm/cs_2.0.0.js\":true,\"/aaq/nel/js/tdv2-wafer-utils.customErrorHandler.bcda778b736c3a054af62f437b536e78.js\":true,\"/oa/consent.js\":true,\"/aaq/benji/benji-2.2.50.js\":true,\"/aaq/wf/wf-fetch-1.19.1-modern.js\":true,\"/aaq/wf/wf-video-3.2.2-modern.js\":true,\"/aaq/wf/wf-beacon-1.3.4-modern.js\":true,\"/aaq/wf/wf-benji-1.2.0-modern.js\":true,\"/aaq/wf/wf-scrollview-2.23.3-modern.js\":true,\"/aaq/wf/wf-toggle-1.15.4-modern.js\":true,\"/aaq/wf/wf-form-1.34.5-modern.js\":true,\"/aaq/wf/wf-caas-1.36.6-modern.js\":true,\"/aaq/wf/wf-lightbox-1.10.6-modern.js\":true,\"/aaq/wf/wf-countdown-1.2.5-modern.js\":true,\"/aaq/wf/wf-image-1.4.0-modern.js\":true,\"/aaq/nel/js/tdv2-wafer-content-list.custom.c55065592f3316c637717d204a89a974.js\":true,\"/aaq/wf/wf-rapid-1.10.9-modern.js\":true,\"/aaq/nel/js/tdv2-wafer-related-content.custom.d24b60ff685760e3123fecffafdc66c7.js\":true,\"/aaq/nel/js/login-wall.customCoverAdWall.3668683fbdeb172dad54f16c770d0a6b.js\":true,\"/br/tw_ms/js/react-wafer-apac-ad.custom.mobile.ee3d417e5c88a9ad1150e593790f5a76.js\":true,\"/aaq/fp/js/react-wafer-featurebar.custom.modern.12732500bc8e47693f0d777bbe88001c.js\":true,\"/aaq/wf/wf-menu-1.3.5-modern.js\":true,\"/aaq/wf/wf-progress-loader-1.2.10-modern.js\":true,\"/aaq/nel/js/tdv2-wafer-loyalty.article-challenge.f25f7dfd729e10f34bce34e059a9393f.js\":true,\"/aaq/nel/js/app-drive.custom.ed924f12f9eef1817e2ce54d0a5e8d9d.js\":true,\"/aaq/c/f4ba610.caas-article2_mweb.dark.min.css\":true,\"/aaq/wf/wf-core-1.65.1-modern.js\":true,\"/aaq/art/js/topAdSticky.ec7d3e65c96d1b5f4d9a97eca49068fd.js\":true,\"/aaq/c/c5dc227.caas-article2_mweb.min.js\":true}}</script><script type=\"text/javascript\" src=\"https://s.yimg.com/aaq/wf/wf-core-1.65.1-modern.js\"></script><script type=\"text/javascript\">\\n    (function(win) {\\n        win.addEventListener && win.addEventListener(\"DOMContentLoaded\", function () {\\n            var s = win.document.createElement(\"script\");\\n            s.async = true;\\n            s.defer = true;\\n            s.src = \"https://s.yimg.com/cx/pv/perf-vitals_3.5.0.js\";\\n            win.document.body.appendChild(s);\\n        });\\n    })(window);</script><script type=\"text/javascript\">\\n    (function(win) {\\n        win.addEventListener && win.addEventListener(\"DOMContentLoaded\", function () {\\n            var s = win.document.createElement(\"script\");\\n            s.async = true;\\n            s.src = \"https://s.yimg.com/aaq/vzm/dot-beacon_1.0.2.js\";\\n            win.document.body.appendChild(s);\\n        });\\n    })(window);</script><script type=\"text/javascript\" src=\"https://s.yimg.com/aaq/art/js/topAdSticky.ec7d3e65c96d1b5f4d9a97eca49068fd.js\"></script><script type=\"text/javascript\" src=\"https://s.yimg.com/aaq/c/c5dc227.caas-article2_mweb.min.js\"></script><script type=text/javascript>\\n    (function(w) {\\n        if (w.YAHOO && w.YAHOO.i13n && w.YAHOO.i13n.Rapid) {\\n            YAHOO.i13n.SPACEID = \\'964316273\\';\\n            var enableApvBeacon = true;\\n            var clientOnly = undefined;\\n            var rapidConfig = {\"click_timeout\":200,\"keys\":{\"_rid\":\"1r634dljsv6bv\",\"abk\":\"\",\"colo\":\"tp2\",\"mrkt\":\"tw\",\"p_sec\":\"default\",\"partner\":\"none\",\"site\":\"news\",\"uh_vw\":0,\"navtype\":\"server\",\"p_cpos\":1,\"p_hosted\":\"hosted\",\"pcp\":\"MrSun\",\"pct\":\"story\",\"pd\":\"non_modal\",\"pstaid\":\"3ef0db31-705c-4ff1-ae51-78c373071f7c\",\"pstaid_p\":\"3ef0db31-705c-4ff1-ae51-78c373071f7c\",\"pstcat\":\"news\",\"pt\":\"content\",\"redirect\":\"\",\"ver\":\"article\",\"_vuid\":\"eit0E8Rqy95MpyMhr45jOA\",\"displayts\":1740373875000,\"tag\":\"Xbox, news, game, 遊戲, AI, AI, Muse, 微軟\"},\"perf_navigationtime\":2,\"test_id\":\"news-TW-zh-Hant-TW-def\",\"tracked_mods_viewability\":{\"module-originalContents\":\"rel-original\",\"module-relatedStories\":\"rel-stories\",\"module-cluster\":\"rel-stories\",\"module-footer\":\"footer\",\"module-coverAdWall\":\"loginWall\",\"module-featurebar\":\"featurebar\",\"module-appPromoBanner\":\"appPromoBanner\",\"module-header\":\"hd\",\"module-articleChallenge\":\"article-challenge\",\"module-appDrive\":\"app-drive\",\"close-button-section\":\"close-button\",\"close-fauxdal\":\"close-button\",\"module-article\":\"content-canvas\",\"related-article-0\":\"content-canvas\",\"related-article-1\":\"content-canvas\",\"related-article-2\":\"content-canvas\",\"related-article-3\":\"content-canvas\",\"related-article-4\":\"content-canvas\",\"related-article-5\":\"content-canvas\",\"related-article-6\":\"content-canvas\",\"module-spotIm\":\"cmmts\"},\"viewability\":true,\"yql_host\":\"udc.yahoo.com\",\"yql_path\":\"/v2/public/yql\"};\\n            rapidConfig.spaceid = YAHOO.i13n.SPACEID;\\n\\n            if(typeof clientOnly !== \\'undefined\\') {\\n                rapidConfig.client_only = clientOnly;\\n            }\\n            // beacon apv for mobile web\\n            if (enableApvBeacon) {\\n                rapidConfig.apv_callback = function(apvObj) {\\n                    try {\\n                        if (\\'964316273\\' === YAHOO.i13n.SPACEID) {\\n                            var img = new Image();\\n                            img.src = \\'/_td_api/beacon/error?beaconType=apv&sp=\\' + YAHOO.i13n.SPACEID\\n                                + \\'&device=smartphone&intl=TW&pixel_pos=\\'\\n                                + apvObj.pixel_pos + \\'&scroll_dir=\\'\\n                                + apvObj.scroll_dir;\\n                        }\\n                    } catch (e) {}\\n                };\\n            }\\n\\n            // ensure webworker is loaded from yaho.com cdn path\\n            YAHOO.i13n.WEBWORKER_FILE = \\'/__rapid-worker-1.2.js\\';\\n\\n            // setup rapid instance\\n            YAHOO.i13n.rapidInstance = w.rapidInstance = w.YAHOO.i13n.Rapid(rapidConfig);\\n\\n            // expose rapid config for homepage-viewer client\\n            if (!w.rapidPageConfig) {\\n                w.rapidPageConfig = {\\n                    rapidConfig: rapidConfig\\n                }\\n            }\\n        }\\n    }(window));\\n</script><script>\\n        (function(w) {\\n            w.YAHOO = w.YAHOO || {};\\n            w.YAHOO.comscore = {\"c14\":-1,\"enableTracking\":true,\"cs_fpdm\":\"*null\"};\\n\\n            w._comscore = w._comscore || [];\\n            w._comscore.push({\"c1\":\"2\",\"c2\":\"7241469\",\"c5\":\"964316273\",\"c7\":\"https://tw.news.yahoo.com/%E5%BE%AE%E8%BB%9F%E6%96%B0%E9%81%8A%E6%88%B2ai%E6%A8%A1%E5%9E%8B%E3%80%8Cmuse%E3%80%8D%E4%BA%AE%E7%9B%B8%EF%BC%81%E5%8D%B3%E6%99%82%E7%94%9F%E6%88%90%E9%81%8A%E6%88%B2%E7%95%AB%E9%9D%A2-%E5%8D%BB%E5%BC%95%E7%88%86%E7%8E%A9%E5%AE%B6%E6%AD%A3%E5%8F%8D%E8%AB%96%E6%88%B0-051114570.html\",\"c14\":-1});\\n\\n            var s = document.createElement(\\'script\\');\\n            var el = document.getElementsByTagName(\\'script\\')[0];\\n            s.async = true;\\n            s.src = \\'https://s.yimg.com/aaq/vzm/cs_2.0.0.js\\';\\n            el.parentNode.insertBefore(s, el);\\n        }(window));\\n    </script><noscript><img src=\"https://sb.scorecardresearch.com/p?c1=2&c2=7241469&c5=964316273&c7=https%3A%2F%2Ftw.news.yahoo.com%2F%25E5%25BE%25AE%25E8%25BB%259F%25E6%2596%25B0%25E9%2581%258A%25E6%2588%25B2ai%25E6%25A8%25A1%25E5%259E%258B%25E3%2580%258Cmuse%25E3%2580%258D%25E4%25BA%25AE%25E7%259B%25B8%25EF%25BC%2581%25E5%258D%25B3%25E6%2599%2582%25E7%2594%259F%25E6%2588%2590%25E9%2581%258A%25E6%2588%25B2%25E7%2595%25AB%25E9%259D%25A2-%25E5%258D%25BB%25E5%25BC%2595%25E7%2588%2586%25E7%258E%25A9%25E5%25AE%25B6%25E6%25AD%25A3%25E5%258F%258D%25E8%25AB%2596%25E6%2588%25B0-051114570.html&c14=-1\"></noscript><script type=text/javascript src=https://s.yimg.com/nn/lib/metro/g/myy/advertisement_0.0.19.js></script><script type=text/javascript>\\n    (function(w) {\\n        var dabConfig = {\"cookieDurationInDays\":7,\"detectionTimeout\":300,\"enableABPDetection\":true,\"enableDetection\":true,\"enableUBDetection\":false,\"positions\":[\"sda-LDRB\",\"sda-MAST\"]};\\n        var cookieName = \\'thamba\\';\\n        var thamba = false;\\n        var shouldCheckPosition = true;\\n        var cookieDuration = 10080;\\n        var pixelDetectUrl = \"https://www.yahoo.com/px.gif\";\\n        var detectABP = function(daTrk) {\\n    var DPba=new function(){this.detect=function(px,callback){var detected=false;var checksRemain=2;var error1=false;var error2=false;if(typeof callback!=\"function\")return;px+=\"?ch=*&rn=*\";function beforeCheck(callback,timeout){if(checksRemain==0|| timeout>1E3)callback(checksRemain==0&&detected);else setTimeout(function(){beforeCheck(callback,timeout*2)},timeout*2)}function checkImages(){if(--checksRemain)return;detected=!error1&&error2}var random=Math.random()*11;var img1=new Image;img1.onload=checkImages;img1.onerror=function(){error1=true;checkImages()};img1.src=px.replace(/\\\\*/,1).replace(/\\\\*/,random);var img2=new Image;img2.onload=checkImages;img2.onerror=function(){error2=true;checkImages()};img2.src=px.replace(/\\\\*/,2).replace(/\\\\*/,random);beforeCheck(callback,250)}}; \\n    DPba.detect(pixelDetectUrl, function(usesABP) {\\n        if (usesABP) {\\n            var expires = new Date();\\n            expires.setMinutes(expires.getMinutes() + cookieDuration);\\n            daTrk = \\'2\\';\\n            w.wafer.utils.setCookie(cookieName, \\'2\\', {expires: expires, domain: location.hostname, path:\\'/\\'});\\n        }\\n\\n        // this fires rapid when we set cookie either 1 or 2\\n        if ((!thamba && daTrk !== \\'0\\') && w.rapidInstance && w.rapidInstance.beaconEvent) {\\n            w.rapidInstance.beaconEvent(\"datrk\", {pl1: daTrk});\\n        }\\n    });\\n};\\n\\nvar ubDetection = function() {\\n    // primary check: create node has sensitive id on the fly\\n    const decoyId = \\'my-ads\\';\\n    const decoyNode = document.createElement(\\'div\\');\\n    decoyNode.setAttribute(\\'id\\', decoyId);\\n    decoyNode.innerHTML = decoyId;\\n    document.body.appendChild(decoyNode);\\n    \\n    const decoyNodeIns = document.querySelector(`#${decoyId}`);\\n    if (decoyNodeIns && decoyNodeIns.offsetHeight === 0) {\\n        decoyNodeIns.remove();\\n        return true;\\n    }\\n    decoyNodeIns.remove();\\n    \\n    // additional check: check all necessary ad pos dimension\\n    if (shouldCheckPosition) {\\n        const { positions } = dabConfig;\\n        let adposNodeCount = 0;\\n        let hidenPosNodeCount = 0;\\n        \\n        for (const position of positions) {\\n            const adposNode = document.querySelector(`#${position}`);\\n            if (adposNode) {\\n                adposNodeCount += 1;\\n                if (adposNode.offsetHeight === 0) {\\n                    hidenPosNodeCount += 1;\\n                }\\n            }\\n        }\\n\\n        if (adposNodeCount > 0 && adposNodeCount === hidenPosNodeCount) {\\n            return true;\\n        }\\n    }\\n    return false;\\n}\\n\\nvar initABDetection = function() {\\n    var daTrk = \\'0\\';\\n    var cExpiry = 0;\\n    var expires = new Date();\\n\\n    /* General AB Check */\\n    var abSelector = document.getElementById(\\'advertisement-thamba\\');\\n    if (!abSelector) {\\n        daTrk = \\'1\\';\\n        cExpiry = cookieDuration;\\n    }\\n\\n    /* Specific AB Check */\\n    if (dabConfig.enableUBDetection) {\\n        const isUBActive = ubDetection();\\n        if (isUBActive) {\\n            daTrk = \\'1\\';\\n            cExpiry = cookieDuration;\\n        }\\n    }\\n\\n    expires.setMinutes(expires.getMinutes() + cExpiry);\\n\\n    // Sets cookie if we have to clear (block -> non-blocked state) OR\\n    // set with value (non-block -> block state)\\n    if ((thamba && daTrk === \\'0\\') || (!thamba && daTrk === \\'1\\')) {\\n        w.wafer.utils.setCookie(cookieName, daTrk, {expires: expires, domain: location.hostname, path:\\'/\\'});\\n    }\\n\\n    // if (dabConfig.enableABPDetection && daTrk === \\'1\\') { // will uncomment when we can detect container collapsed\\n    if (dabConfig.enableABPDetection) {\\n        detectABP(daTrk);\\n    }\\n};\\n\\nw.wafer && w.wafer.utils && w.wafer.ready  && w.wafer.ready(function () {\\n    setTimeout(initABDetection, dabConfig.detectionTimeout || 300);\\n});\\n    }(window));\\n</script><template id=wafer-lightbox-wrapper-template><div class=wafer-lightbox-wrapper tabindex=-1><div class=wafer-lightbox-content></div></div></template></body></html>'"
      ]
     },
     "execution_count": 6,
     "metadata": {},
     "output_type": "execute_result"
    }
   ],
   "source": [
    "req.text"
   ]
  },
  {
   "cell_type": "code",
   "execution_count": 7,
   "metadata": {},
   "outputs": [],
   "source": [
    "page = BeautifulSoup(req.text,'lxml')"
   ]
  },
  {
   "cell_type": "code",
   "execution_count": 8,
   "metadata": {},
   "outputs": [
    {
     "name": "stdout",
     "output_type": "stream",
     "text": [
      "<!DOCTYPE html>\n",
      "<html class=\"NoJs Fz(62.5%) Pos(r) news smartphone bktnews-TW-zh-Hant-TW-def ua-chrome mobile ua-131.0\" data-color-theme-enabled=\"true\" id=\"atomic\" lang=\"zh-Hant-TW\">\n",
      " <head>\n",
      "  <script>\n",
      "   window.performance.mark('PageStart');\n",
      "        (function(html){var c = document.documentElement.classList;c.add('JsEnabled', 'jsenabled');c.remove('NoJs');})(document.documentElement);\n",
      "        /**\n",
      "        * Empty darlaOnready method, to avoid JS error.\n",
      "        * This can happen when Async Darla JS file is loaded earlier than Darla Proxy JS.\n",
      "        * This method will be overridden by Darla Proxy\n",
      "        */\n",
      "        window.darlaOnready = function() {};\n",
      "  </script>\n",
      "  <title>\n",
      "   微軟新遊戲AI模型「Muse」亮相！即時生成遊戲畫面 卻引爆玩家正反論戰\n",
      "  </title>\n",
      "  <meta content=\"text/html; charset=utf-8\" http-equiv=\"content-type\"/>\n",
      "  <meta content=\"on\" http-equiv=\"x-dns-prefetch-control\"/>\n",
      "  <meta content=\"chrome=1\" http-equiv=\"X-UA-Compatible\"/>\n",
      "  <meta content=\"guce.yahoo.com\" name=\"oath:guce:consent-host\"/>\n",
      "  <meta content=\"width=device-width, initial-scale=1\" name=\"viewport\"/>\n",
      "  <meta content=\"AI, Muse, 微軟\" name=\"news_keywords\"/>\n",
      "  <meta content=\"微軟新遊戲AI模型「Muse」亮相！即時生成遊戲畫面 卻引爆玩家正反論戰\" name=\"twitter:title\"/>\n",
      "  <meta content=\"微軟新遊戲AI模型「Muse」亮相！即時生成遊戲畫面 卻引爆玩家正反論戰\" property=\"og:title\"/>\n",
      "  <meta content=\"https://tw.news.yahoo.com/%E5%BE%AE%E8%BB%9F%E6%96%B0%E9%81%8A%E6%88%B2ai%E6%A8%A1%E5%9E%8B%E3%80%8Cmuse%E3%80%8D%E4%BA%AE%E7%9B%B8%EF%BC%81%E5%8D%B3%E6%99%82%E7%94%9F%E6%88%90%E9%81%8A%E6%88%B2%E7%95%AB%E9%9D%A2-%E5%8D%BB%E5%BC%95%E7%88%86%E7%8E%A9%E5%AE%B6%E6%AD%A3%E5%8F%8D%E8%AB%96%E6%88%B0-051114570.html\" property=\"og:url\"/>\n",
      "  <meta content=\"max-image-preview:large\" name=\"robots\"/>\n",
      "  <meta content=\"ysuper://story/微軟新遊戲ai模型「muse」亮相！即時生成遊戲畫面-卻引爆玩家正反論戰-051114570/3ef0db31-705c-4ff1-ae51-78c373071f7c\" property=\"al:android:url\"/>\n",
      "  <meta content=\"app-id=1437216700,app-argument=ysuper://story/微軟新遊戲ai模型「muse」亮相！即時生成遊戲畫面-卻引爆玩家正反論戰-051114570/3ef0db31-705c-4ff1-ae51-78c373071f7c\" name=\"apple-itunes-app\"/>\n",
      "  <meta content=\"ysuper://story/微軟新遊戲ai模型「muse」亮相！即時生成遊戲畫面-卻引爆玩家正反論戰-051114570/3ef0db31-705c-4ff1-ae51-78c373071f7c\" property=\"al:ios:url\"/>\n",
      "  <meta content=\"近幾年各大企業發展 AI 技術，就連遊戲產業都陸續開始應用與展示概念，像是微軟在 2024 年 5 月，以自家《Minecraft》為例，展示了可以進行即時對話與反應的 AI，提供攻略與指令來幫助玩家。而日前，微軟發表了一款名為「Muse」的全新 AI 模型，展示了它能用在生成電子遊戲畫面與動作的全新技術，但公開後社群評價則是十分兩極化。\" name=\"twitter:description\"/>\n",
      "  <meta content=\"近幾年各大企業發展 AI 技術，就連遊戲產業都陸續開始應用與展示概念，像是微軟在 2024 年 5 月，以自家《Minecraft》為例，展示了可以進行即時對話與反應的 AI，提供攻略與指令來幫助玩家。而日前，微軟發表了一款名為「Muse」的全新 AI 模型，展示了它能用在生成電子遊戲畫面與動作的全新技術，但公開後社群評價則是十分兩極化。\" name=\"description\"/>\n",
      "  <meta content=\"近幾年各大企業發展 AI 技術，就連遊戲產業都陸續開始應用與展示概念，像是微軟在 2024 年 5 月，以自家《Minecraft》為例，展示了可以進行即時對話與反應的 AI，提供攻略與指令來幫助玩家。而日前，微軟發表了一款名為「Muse」的全新 AI 模型，展示了它能用在生成電子遊戲畫面與動作的全新技術，但公開後社群評價則是十分兩極化。\" property=\"og:description\"/>\n",
      "  <meta content=\"Yahoo奇摩\" property=\"al:android:app_name\"/>\n",
      "  <meta content=\"com.yahoo.mobile.client.android.superapp\" property=\"al:android:package\"/>\n",
      "  <meta content=\"Yahoo奇摩\" property=\"al:ios:app_name\"/>\n",
      "  <meta content=\"1437216700\" property=\"al:ios:app_store_id\"/>\n",
      "  <meta content=\"@Yahoo\" name=\"twitter:site\"/>\n",
      "  <meta content=\"on\" name=\"twitter:dnt\"/>\n",
      "  <meta content=\"article\" property=\"og:type\"/>\n",
      "  <meta content=\"Yahoo News\" property=\"og:site_name\"/>\n",
      "  <link href=\"https://tw.news.yahoo.com/%E5%BE%AE%E8%BB%9F%E6%96%B0%E9%81%8A%E6%88%B2ai%E6%A8%A1%E5%9E%8B%E3%80%8Cmuse%E3%80%8D%E4%BA%AE%E7%9B%B8%EF%BC%81%E5%8D%B3%E6%99%82%E7%94%9F%E6%88%90%E9%81%8A%E6%88%B2%E7%95%AB%E9%9D%A2-%E5%8D%BB%E5%BC%95%E7%88%86%E7%8E%A9%E5%AE%B6%E6%AD%A3%E5%8F%8D%E8%AB%96%E6%88%B0-051114570.html\" rel=\"canonical\"/>\n",
      "  <link as=\"image\" href=\"https://s.yimg.com/ny/api/res/1.2/X5yHcCES.IcZJwibXDdwsQ--/YXBwaWQ9aGlnaGxhbmRlcjt3PTY0MDtoPTM2MA--/https://s.yimg.com/os/creatr-uploaded-images/2025-02/6d26a160-f26d-11ef-b79b-0381b8da326e\" rel=\"preload\"/>\n",
      "  <meta content=\"https://s.yimg.com/ny/api/res/1.2/19sArJLP3G6qUYsLn82HGQ--/YXBwaWQ9aGlnaGxhbmRlcjt3PTEyMDA7aD02NzU-/https://s.yimg.com/os/creatr-uploaded-images/2025-02/6d26a160-f26d-11ef-b79b-0381b8da326e\" name=\"twitter:image\"/>\n",
      "  <meta content=\"https://s.yimg.com/ny/api/res/1.2/19sArJLP3G6qUYsLn82HGQ--/YXBwaWQ9aGlnaGxhbmRlcjt3PTEyMDA7aD02NzU-/https://s.yimg.com/os/creatr-uploaded-images/2025-02/6d26a160-f26d-11ef-b79b-0381b8da326e\" name=\"twitter:image:src\"/>\n",
      "  <meta content=\"https://s.yimg.com/ny/api/res/1.2/19sArJLP3G6qUYsLn82HGQ--/YXBwaWQ9aGlnaGxhbmRlcjt3PTEyMDA7aD02NzU-/https://s.yimg.com/os/creatr-uploaded-images/2025-02/6d26a160-f26d-11ef-b79b-0381b8da326e\" property=\"og:image\"/>\n",
      "  <meta content=\"1200\" property=\"og:image:width\"/>\n",
      "  <meta content=\"675\" property=\"og:image:height\"/>\n",
      "  <meta content=\"summary_large_image\" property=\"twitter:card\"/>\n",
      "  <link href=\"https://s.yimg.com/rz/l/favicon.ico\" rel=\"shortcut icon\"/>\n",
      "  <link as=\"font\" crossorigin=\"\" href=\"https://s.yimg.com/cv/apiv2/ngy-fonts/YahooSans-VF-Web.woff2\" rel=\"preload\" type=\"font/woff2\"/>\n",
      "  <link as=\"font\" crossorigin=\"\" href=\"https://s.yimg.com/cv/apiv2/fonts/2019/YahooSansCond-XBold.woff2\" rel=\"preload\" type=\"font/woff2\"/>\n",
      "  <link href=\"//geo.yahoo.com\" rel=\"dns-prefetch\"/>\n",
      "  <link href=\"//geo.yahoo.com\" rel=\"preconnect\"/>\n",
      "  <link href=\"//geo.query.yahoo.com\" rel=\"dns-prefetch\"/>\n",
      "  <link href=\"//geo.query.yahoo.com\" rel=\"preconnect\"/>\n",
      "  <link href=\"//search.yahoo.com\" rel=\"dns-prefetch\"/>\n",
      "  <link href=\"//search.yahoo.com\" rel=\"preconnect\"/>\n",
      "  <link href=\"//udc.yahoo.com\" rel=\"dns-prefetch\"/>\n",
      "  <link href=\"//udc.yahoo.com\" rel=\"preconnect\"/>\n",
      "  <link href=\"//s.yimg.com\" rel=\"dns-prefetch\"/>\n",
      "  <link href=\"//s.yimg.com\" rel=\"preconnect\"/>\n",
      "  <link href=\"https://s.yimg.com/dr/fp/css/fusion.atomic.07d1a672572192e28fef8fa96076828c.css\" rel=\"stylesheet\" type=\"text/css\"/>\n",
      "  <link href=\"https://s.yimg.com/aaq/art/css/sdacontainer.7071768451db14ed357aca3116377c69.css\" rel=\"stylesheet\" type=\"text/css\"/>\n",
      "  <link href=\"https://s.yimg.com/os/yc/css/bundle.c60a6d54.css\" rel=\"stylesheet\" type=\"text/css\"/>\n",
      "  <link href=\"https://s.yimg.com/aaq/art/css/yahoosans.6263160197e55d64da3484ae09bd2851.css\" rel=\"stylesheet\" type=\"text/css\"/>\n",
      "  <link href=\"https://s.yimg.com/aaq/art/css/mobileweb.1e671937353f707e1ba1b78c9894e938.css\" rel=\"stylesheet\" type=\"text/css\"/>\n",
      "  <link href=\"https://s.yimg.com/aaq/fp/css/tdv2-wafer-adfeedback.custom.smartphone.892444a0239165161b3a5b8e7de0dd0f.css\" rel=\"stylesheet\" type=\"text/css\"/>\n",
      "  <link href=\"https://s.yimg.com/aaq/art/css/darkmode.d7070f6aabdb9dea30c1eba10c43f263.css\" rel=\"stylesheet\" type=\"text/css\"/>\n",
      "  <link href=\"https://s.yimg.com/aaq/art/css/topAdStickyStyle.d8bd335f910e8c18c62db8007571e6b5.css\" rel=\"stylesheet\" type=\"text/css\"/>\n",
      "  <link href=\"https://s.yimg.com/aaq/cprops/colors_1.1.27.min.css\" rel=\"stylesheet\" type=\"text/css\"/>\n",
      "  <link href=\"https://s.yimg.com/aaq/nel/css/tdv2-wafer-content-list.custom.888132cb49eb61157282573521d113fb.css\" rel=\"stylesheet\" type=\"text/css\"/>\n",
      "  <link href=\"https://s.yimg.com/aaq/nel/css/tdv2-wafer-related-content.custom.ca56b2d35aebbdcbe7ca2079685379b1.css\" rel=\"stylesheet\" type=\"text/css\"/>\n",
      "  <link href=\"https://s.yimg.com/aaq/nel/css/login-wall.customCoverAdWall.3b6719ddd8d727d684585ca119602f6f.css\" rel=\"stylesheet\" type=\"text/css\"/>\n",
      "  <link href=\"https://s.yimg.com/br/tw_ms/css/react-wafer-apac-ad.custom.mobile.c019af6139bbb3d42aef277b5512c5d9.css\" rel=\"stylesheet\" type=\"text/css\"/>\n",
      "  <link href=\"https://s.yimg.com/aaq/nel/css/tdv2-wafer-loyalty.article-challenge.1e572d223901f4b59e999cdfc9bf90a8.css\" rel=\"stylesheet\" type=\"text/css\"/>\n",
      "  <script defer=\"\" src=\"https://s.yimg.com/aaq/art/js/caas.40f4c8a2980af77c2ce9bdc2e53f50a5.js\" type=\"text/javascript\">\n",
      "  </script>\n",
      "  <script defer=\"\" src=\"https://s.yimg.com/aaq/wf/wf-loader-2.7.21-modern.js\" type=\"text/javascript\">\n",
      "  </script>\n",
      "  <script defer=\"\" src=\"https://s.yimg.com/aaq/yc/js/iframe-1.0.31.js\" type=\"text/javascript\">\n",
      "  </script>\n",
      "  <script defer=\"\" src=\"https://s.yimg.com/aaq/art/js/comments.0153199c435c205e1cebebab5b9ebf0a.js\" type=\"text/javascript\">\n",
      "  </script>\n",
      "  <script src=\"https://s.yimg.com/ss/analytics-3.57.2.js\" type=\"text/javascript\">\n",
      "  </script>\n",
      "  <script type=\"text/javascript\">\n",
      "   !function(){var e={1040:function(e){\"use strict\";function t(e){return(t=\"function\"==typeof Symbol&&\"symbol\"==typeof Symbol.iterator?function(e){return typeof e}:function(e){return e&&\"function\"==typeof Symbol&&e.constructor===Symbol&&e!==Symbol.prototype?\"symbol\":typeof e})(e)}e.exports=function(){for(var e,n,a=[],s=window,r=s;r;){try{if(r.frames.__tcfapiLocator){e=r;break}}catch(e){}if(r===s.top)break;r=r.parent}e||(function e(){var t=s.document,n=!!s.frames.__tcfapiLocator;if(!n)if(t.body){var a=t.createElement(\"iframe\");a.style.cssText=\"display:none\",a.name=\"__tcfapiLocator\",t.body.appendChild(a)}else setTimeout(e,5);return!n}(),s.__tcfapi=function(){for(var e=arguments.length,t=new Array(e),s=0;s<e;s++)t[s]=arguments[s];if(!t.length)return a;\"setGdprApplies\"===t[0]?t.length>3&&2===parseInt(t[1],10)&&\"boolean\"==typeof t[3]&&(n=t[3],\"function\"==typeof t[2]&&t[2](\"set\",!0)):\"ping\"===t[0]?\"function\"==typeof t[2]&&t[2]({gdprApplies:n,cmpLoaded:!1,cmpStatus:\"stub\"}):a.push(t)},s.addEventListener(\"message\",(function(e){var n=\"string\"==typeof e.data,a={};if(n)try{a=JSON.parse(e.data)}catch(e){}else a=e.data;var s=\"object\"===t(a)&&null!==a?a.__tcfapiCall:null;s&&window.__tcfapi(s.command,s.version,(function(t,a){var r={__tcfapiReturn:{returnValue:t,success:a,callId:s.callId}};e&&e.source&&e.source.postMessage&&e.source.postMessage(n?JSON.stringify(r):r,\"*\")}),s.parameter)}),!1))}},5385:function(){\"use strict\";window.__gpp_addFrame=function(e){if(!window.frames[e])if(document.body){var t=document.createElement(\"iframe\");t.style.cssText=\"display:none\",t.name=e,document.body.appendChild(t)}else window.setTimeout(window.__gpp_addFrame,10,e)},window.__gpp_stub=function(){var e=arguments;if(__gpp.queue=__gpp.queue||[],__gpp.events=__gpp.events||[],!e.length||1==e.length&&\"queue\"==e[0])return __gpp.queue;if(1==e.length&&\"events\"==e[0])return __gpp.events;var t=e[0],n=e.length>1?e[1]:null,a=e.length>2?e[2]:null;if(\"ping\"===t)n({gppVersion:\"1.1\",cmpStatus:\"stub\",cmpDisplayStatus:\"hidden\",signalStatus:\"not ready\",supportedAPIs:[\"2:tcfeuv2\",\"5:tcfcav1\",\"6:uspv1\",\"7:usnatv1\",\"8:uscav1\",\"9:usvav1\",\"10:uscov1\",\"11:usutv1\",\"12:usctv1\"],cmpId:0,sectionList:[],applicableSections:[],gppString:\"\",parsedSections:{}},!0);else if(\"addEventListener\"===t){\"lastId\"in __gpp||(__gpp.lastId=0),__gpp.lastId++;var s=__gpp.lastId;__gpp.events.push({id:s,callback:n,parameter:a}),n({eventName:\"listenerRegistered\",listenerId:s,data:!0,pingData:{gppVersion:\"1.1\",cmpStatus:\"stub\",cmpDisplayStatus:\"hidden\",signalStatus:\"not ready\",supportedAPIs:[\"2:tcfeuv2\",\"5:tcfcav1\",\"6:uspv1\",\"7:usnatv1\",\"8:uscav1\",\"9:usvav1\",\"10:uscov1\",\"11:usutv1\",\"12:usctv1\"],cmpId:0,sectionList:[],applicableSections:[],gppString:\"\",parsedSections:{}}},!0)}else if(\"removeEventListener\"===t){for(var r=!1,o=0;o<__gpp.events.length;o++)if(__gpp.events[o].id==a){__gpp.events.splice(o,1),r=!0;break}n({eventName:\"listenerRemoved\",listenerId:a,data:r,pingData:{gppVersion:\"1.1\",cmpStatus:\"stub\",cmpDisplayStatus:\"hidden\",signalStatus:\"not ready\",supportedAPIs:[\"2:tcfeuv2\",\"5:tcfcav1\",\"6:uspv1\",\"7:usnatv1\",\"8:uscav1\",\"9:usvav1\",\"10:uscov1\",\"11:usutv1\",\"12:usctv1\"],cmpId:0,sectionList:[],applicableSections:[],gppString:\"\",parsedSections:{}}},!0)}else\"hasSection\"===t?n(!1,!0):\"getSection\"===t||\"getField\"===t?n(null,!0):__gpp.queue.push([].slice.apply(e))},window.__gpp_msghandler=function(e){var t=\"string\"==typeof e.data;try{var n=t?JSON.parse(e.data):e.data}catch(e){n=null}if(\"object\"==typeof n&&null!==n&&\"__gppCall\"in n){var a=n.__gppCall;window.__gpp(a.command,(function(n,s){var r={__gppReturn:{returnValue:n,success:s,callId:a.callId}};e.source.postMessage(t?JSON.stringify(r):r,\"*\")}),\"parameter\"in a?a.parameter:null,\"version\"in a?a.version:\"1.1\")}},\"__gpp\"in window&&\"function\"==typeof window.__gpp||(window.__gpp=window.__gpp_stub,window.addEventListener(\"message\",window.__gpp_msghandler,!1),window.__gpp_addFrame(\"__gppLocator\"))},1007:function(e,t,n){\"use strict\";n.r(t);var a=n(1040);n.n(a)()()},9476:function(){!function(){for(var e,t=\"__uspapiLocator\",n=[],a=window;a;){try{if(a.frames[t]){e=a;break}}catch(e){}if(a===window.top)break;a=a.parent}e||(function e(){var n=window.document;if(!window.frames[t])if(n.body){var a=n.createElement(\"iframe\");a.style.cssText=\"display:none\",a.name=t,n.body.appendChild(a)}else setTimeout(e,5)}(),window.__uspapi=function(){for(var e=arguments.length,t=new Array(e),a=0;a<e;a++)t[a]=arguments[a];if(!t.length)return n;n.push(t)},window.addEventListener(\"message\",(function(e){var t=\"string\"==typeof e.data,n={};try{n=t?JSON.parse(e.data):e.data}catch(e){}var a=n.__uspapiCall;a&&window.__uspapi(a.command,a.version,(function(n,s){var r={__uspapiReturn:{returnValue:n,success:s,callId:a.callId}};t&&(r=JSON.stringify(r)),e&&e.source&&e.source.postMessage(r,\"*\")}),a.parameter)}),!1))}()}},t={};function n(a){var s=t[a];if(void 0!==s)return s.exports;var r=t[a]={exports:{}};return e[a](r,r.exports,n),r.exports}n.n=function(e){var t=e&&e.__esModule?function(){return e.default}:function(){return e};return n.d(t,{a:t}),t},n.d=function(e,t){for(var a in t)n.o(t,a)&&!n.o(e,a)&&Object.defineProperty(e,a,{enumerable:!0,get:t[a]})},n.o=function(e,t){return Object.prototype.hasOwnProperty.call(e,t)},n.r=function(e){\"undefined\"!=typeof Symbol&&Symbol.toStringTag&&Object.defineProperty(e,Symbol.toStringTag,{value:\"Module\"}),Object.defineProperty(e,\"__esModule\",{value:!0})},function(){\"use strict\";n(9476);!window.document.documentMode&&(n(1007),n(5385))}()}();\n",
      "  </script>\n",
      "  <script async=\"\" src=\"https://consent.cmp.oath.com/version/7.0.0/cmp.js\" type=\"text/javascript\">\n",
      "  </script>\n",
      "  <script async=\"\" src=\"https://s.yimg.com/aaq/vzm/cs_2.0.0.js\" type=\"text/javascript\">\n",
      "  </script>\n",
      "  <script defer=\"\" src=\"https://s.yimg.com/aaq/nel/js/tdv2-wafer-utils.customErrorHandler.bcda778b736c3a054af62f437b536e78.js\" type=\"text/javascript\">\n",
      "  </script>\n",
      "  <script async=\"\" src=\"https://s.yimg.com/oa/consent.js\" type=\"text/javascript\">\n",
      "  </script>\n",
      "  <script async=\"\" src=\"https://s.yimg.com/aaq/benji/benji-2.2.50.js\" type=\"text/javascript\">\n",
      "  </script>\n",
      "  <script defer=\"\" src=\"https://s.yimg.com/aaq/wf/wf-fetch-1.19.1-modern.js\" type=\"text/javascript\">\n",
      "  </script>\n",
      "  <script defer=\"\" src=\"https://s.yimg.com/aaq/wf/wf-video-3.2.2-modern.js\" type=\"text/javascript\">\n",
      "  </script>\n",
      "  <script defer=\"\" src=\"https://s.yimg.com/aaq/wf/wf-beacon-1.3.4-modern.js\" type=\"text/javascript\">\n",
      "  </script>\n",
      "  <script defer=\"\" src=\"https://s.yimg.com/aaq/wf/wf-benji-1.2.0-modern.js\" type=\"text/javascript\">\n",
      "  </script>\n",
      "  <script defer=\"\" src=\"https://s.yimg.com/aaq/wf/wf-scrollview-2.23.3-modern.js\" type=\"text/javascript\">\n",
      "  </script>\n",
      "  <script defer=\"\" src=\"https://s.yimg.com/aaq/wf/wf-toggle-1.15.4-modern.js\" type=\"text/javascript\">\n",
      "  </script>\n",
      "  <script defer=\"\" src=\"https://s.yimg.com/aaq/wf/wf-form-1.34.5-modern.js\" type=\"text/javascript\">\n",
      "  </script>\n",
      "  <script defer=\"\" src=\"https://s.yimg.com/aaq/wf/wf-caas-1.36.6-modern.js\" type=\"text/javascript\">\n",
      "  </script>\n",
      "  <script defer=\"\" src=\"https://s.yimg.com/aaq/wf/wf-lightbox-1.10.6-modern.js\" type=\"text/javascript\">\n",
      "  </script>\n",
      "  <script defer=\"\" src=\"https://s.yimg.com/aaq/wf/wf-countdown-1.2.5-modern.js\" type=\"text/javascript\">\n",
      "  </script>\n",
      "  <script defer=\"\" src=\"https://s.yimg.com/aaq/wf/wf-image-1.4.0-modern.js\" type=\"text/javascript\">\n",
      "  </script>\n",
      "  <script defer=\"\" src=\"https://s.yimg.com/aaq/nel/js/tdv2-wafer-content-list.custom.c55065592f3316c637717d204a89a974.js\" type=\"text/javascript\">\n",
      "  </script>\n",
      "  <script defer=\"\" src=\"https://s.yimg.com/aaq/wf/wf-rapid-1.10.9-modern.js\" type=\"text/javascript\">\n",
      "  </script>\n",
      "  <script defer=\"\" src=\"https://s.yimg.com/aaq/nel/js/tdv2-wafer-related-content.custom.d24b60ff685760e3123fecffafdc66c7.js\" type=\"text/javascript\">\n",
      "  </script>\n",
      "  <script defer=\"\" src=\"https://s.yimg.com/aaq/nel/js/login-wall.customCoverAdWall.3668683fbdeb172dad54f16c770d0a6b.js\" type=\"text/javascript\">\n",
      "  </script>\n",
      "  <script defer=\"\" src=\"https://s.yimg.com/br/tw_ms/js/react-wafer-apac-ad.custom.mobile.ee3d417e5c88a9ad1150e593790f5a76.js\" type=\"text/javascript\">\n",
      "  </script>\n",
      "  <script defer=\"\" src=\"https://s.yimg.com/aaq/fp/js/react-wafer-featurebar.custom.modern.12732500bc8e47693f0d777bbe88001c.js\" type=\"text/javascript\">\n",
      "  </script>\n",
      "  <script defer=\"\" src=\"https://s.yimg.com/aaq/wf/wf-menu-1.3.5-modern.js\" type=\"text/javascript\">\n",
      "  </script>\n",
      "  <script defer=\"\" src=\"https://s.yimg.com/aaq/wf/wf-progress-loader-1.2.10-modern.js\" type=\"text/javascript\">\n",
      "  </script>\n",
      "  <script defer=\"\" src=\"https://s.yimg.com/aaq/nel/js/tdv2-wafer-loyalty.article-challenge.f25f7dfd729e10f34bce34e059a9393f.js\" type=\"text/javascript\">\n",
      "  </script>\n",
      "  <script defer=\"\" src=\"https://s.yimg.com/aaq/nel/js/app-drive.custom.ed924f12f9eef1817e2ce54d0a5e8d9d.js\" type=\"text/javascript\">\n",
      "  </script>\n",
      "  <link href=\"https://s.yimg.com/aaq/c/f4ba610.caas-article2_mweb.dark.min.css\" rel=\"stylesheet\" type=\"text/css\"/>\n",
      "  <script>\n",
      "   (function () {\n",
      "            var benjiConfig = {\"i13n\":{\"_rid\":\"1r634dljsv6bv\",\"abk\":\"\",\"colo\":\"tp2\",\"mrkt\":\"tw\",\"p_sec\":\"default\",\"partner\":\"none\",\"site\":\"news\",\"uh_vw\":0,\"navtype\":\"server\",\"p_cpos\":1,\"p_hosted\":\"hosted\",\"pcp\":\"MrSun\",\"pct\":\"story\",\"pd\":\"non_modal\",\"pstaid\":\"3ef0db31-705c-4ff1-ae51-78c373071f7c\",\"pstaid_p\":\"3ef0db31-705c-4ff1-ae51-78c373071f7c\",\"pstcat\":\"news\",\"pt\":\"content\",\"redirect\":\"\",\"ver\":\"article\",\"_vuid\":\"eit0E8Rqy95MpyMhr45jOA\",\"displayts\":1740373875000,\"tag\":\"Xbox, news, game, 遊戲, AI, AI, Muse, 微軟\",\"authed\":\"0\",\"ynet\":\"0\",\"ssl\":\"1\",\"spdy\":\"0\",\"ytee\":\"0\",\"mode\":\"normal\",\"tpConsent\":true,\"adblock\":\"0\",\"device\":\"smartphone\",\"bot\":\"0\",\"browser\":\"chrome mobile\",\"app\":\"unknown\",\"ecma\":\"modern\",\"environment\":\"prod\",\"gdpr\":false,\"lang\":\"zh-Hant-TW\",\"dir\":\"ltr\",\"network\":\"broadband\",\"os\":\"android\",\"region\":\"TW\",\"time\":1741658495128,\"tz\":\"Asia/Taipei\",\"usercountry\":\"TW\",\"intl\":\"tw\",\"bucket\":\"news-TW-zh-Hant-TW-def\",\"designtype\":\"default\",\"pageName\":\"deeplink\",\"apptype\":\"\",\"feature\":[\"enableGAMAds\",\"caasEnableSpaceIdMappingWithPath\",\"dotBeacon\",\"editorialUpsells\",\"enableAdditionalPageContextParams\",\"enableBodyAdsCharCount\",\"enableCommunityBarIframeComments\",\"enableDarkMode\",\"enableInArticleAd\",\"enableInArticleAdMetaSize\",\"enableIntlStreamCoview\",\"enablePlayerComparisonRedesign\",\"enableSmartBanner\",\"enableTaboolaAdsInArticle\",\"enableTopAdSticky\",\"enableXrayEntityAboutFacts\",\"filterNonGdprEmbeds\",\"getCommerceModulesFromRmp\",\"headerOnTopForVideoContent\",\"liveBlogPolling\",\"relatedVideosOnNcp\"],\"baseContentType\":\"story\",\"contentType\":\"story\",\"hashtag\":[\"news\",\"game\",\"ai\",\"遊戲\",\"xbox\"],\"lmsid\":\"a0V6T00000KBLWzUAP\",\"lpstaid\":\"3ef0db31-705c-4ff1-ae51-78c373071f7c\",\"lu\":\"0\",\"spaceid\":\"964316273\"},\"prebidSetting\":{\"pbConfig\":{\"prebid\":{\"adUnits\":{\"tw_ynews_main_mw_btm_sticky\":{\"pos\":1,\"formats\":{\"banner\":{\"sizes\":[[320,50]]}},\"bidders\":{\"yahooPrebidServer\":{},\"yahooAds\":{\"pos\":\"tw_ynews_main_mw_btm_sticky\"},\"pubmatic\":{},\"rubicon\":{\"siteId\":\"525144\",\"zoneId\":\"3634842\"},\"ix\":{\"siteId\":\"1172788\"},\"taboola\":{\"tagId\":\"Yahoo News - Main - Mobile Web - Btm_Sticky\"},\"openx\":{\"unit\":\"561471026\"},\"triplelift\":{\"inventoryCode\":\"Yahoo_News_APAC_HDX_C2S\"},\"medianet\":{\"crid\":\"450138834\"},\"yieldmo\":{\"placementId\":\"3514741046091129763\"},\"kueezrtb\":{}}},\"tw_ynews_main_mw_mid_center\":{\"pos\":3,\"formats\":{\"banner\":{\"sizes\":[[300,250]]}},\"bidders\":{\"yahooPrebidServer\":{},\"yahooAds\":{\"pos\":\"tw_ynews_main_mw_mid_center\"},\"pubmatic\":{},\"rubicon\":{\"siteId\":\"525146\",\"zoneId\":\"3166576\"},\"ix\":{\"siteId\":\"1057677\"},\"taboola\":{\"tagId\":\"Yahoo News - Main - Mobile Web - Mid_Center\"},\"openx\":{\"unit\":\"560633163\"},\"triplelift\":{\"inventoryCode\":\"yahoo_all_300x250_APAC_pb\"},\"medianet\":{\"crid\":\"955202419\"},\"yieldmo\":{\"placementId\":\"3514741046091129763\"},\"criteo\":{},\"kueezrtb\":{}}},\"tw_ynews_main_mw_top_center\":{\"pos\":1,\"formats\":{\"banner\":{\"sizes\":[[320,50]]}},\"bidders\":{\"yahooPrebidServer\":{},\"yahooAds\":{\"pos\":\"tw_ynews_main_mw_top_center\"},\"pubmatic\":{},\"rubicon\":{\"siteId\":\"525146\",\"zoneId\":\"3166578\"},\"ix\":{\"siteId\":\"1057678\"},\"taboola\":{\"tagId\":\"Yahoo News - Main - Mobile Web - Top_Center\"},\"openx\":{\"unit\":\"560633166\"},\"triplelift\":{\"inventoryCode\":\"yahoo_all_HDX_APAC_pb\"},\"medianet\":{\"crid\":\"712471330\"},\"yieldmo\":{\"placementId\":\"3514741046091129763\"},\"criteo\":{},\"kueezrtb\":{}}},\"tw_ynews_ros_mw_btm_center\":{\"pos\":3,\"formats\":{\"banner\":{\"sizes\":[[300,250]]}},\"bidders\":{\"yahooPrebidServer\":{},\"yahooAds\":{\"pos\":\"tw_ynews_ros_mw_btm_center\"},\"pubmatic\":{},\"rubicon\":{\"siteId\":\"525146\",\"zoneId\":\"3166580\"},\"ix\":{\"siteId\":\"1057689\"},\"taboola\":{\"tagId\":\"Yahoo News - ROS - Mobile Web - Btm_Center\"},\"openx\":{\"unit\":\"560633173\"},\"triplelift\":{\"inventoryCode\":\"yahoo_all_300x250_APAC_pb\"},\"medianet\":{\"crid\":\"644067373\"},\"yieldmo\":{\"placementId\":\"3514741047064208296\"},\"kueezrtb\":{}}},\"tw_ynews_ros_mw_btm_sticky\":{\"pos\":1,\"formats\":{\"banner\":{\"sizes\":[[320,50]]}},\"bidders\":{\"yahooPrebidServer\":{},\"yahooAds\":{\"pos\":\"tw_ynews_ros_mw_btm_sticky\"},\"pubmatic\":{},\"rubicon\":{\"siteId\":\"525144\",\"zoneId\":\"3634834\"},\"ix\":{\"siteId\":\"1172764\"},\"taboola\":{\"tagId\":\"Yahoo News - ROS - Mobile Web - Btm_Sticky\"},\"openx\":{\"unit\":\"561471022\"},\"triplelift\":{\"inventoryCode\":\"Yahoo_News_APAC_HDX_C2S\"},\"medianet\":{\"crid\":\"488742448\"},\"yieldmo\":{\"placementId\":\"3514741047064208296\"},\"kueezrtb\":{}}},\"tw_ynews_ros_mw_mid_center\":{\"pos\":3,\"formats\":{\"banner\":{\"sizes\":[[300,250],[320,50],[320,100]]}},\"bidders\":{\"yahooPrebidServer\":{},\"yahooAds\":{\"pos\":\"tw_ynews_ros_mw_mid_center\"},\"pubmatic\":{},\"rubicon\":{\"siteId\":\"525146\",\"zoneId\":\"3166582\"},\"ix\":{\"siteId\":\"1057690\"},\"taboola\":{\"tagId\":\"Yahoo News - ROS - Mobile Web - Mid_Center\"},\"openx\":{\"unit\":\"560633176\"},\"triplelift\":{\"inventoryCode\":\"yahoo_all_300x250_APAC_pb\"},\"medianet\":{\"crid\":\"472436659\"},\"yieldmo\":{\"placementId\":\"3514741047064208296\"},\"criteo\":{},\"kueezrtb\":{}}},\"tw_ynews_ros_mw_mid_center_card\":{\"pos\":1,\"formats\":{\"banner\":{\"sizes\":[[300,250],[300,600]]}},\"bidders\":{\"yahooPrebidServer\":{},\"yahooAds\":{\"pos\":\"tw_ynews_ros_mw_mid_center_card\"},\"pubmatic\":{},\"rubicon\":{\"siteId\":\"525144\",\"zoneId\":\"3694270\"},\"ix\":{\"siteId\":\"1172887\"},\"openx\":{\"unit\":\"561943040\"},\"triplelift\":{\"inventoryCode\":\"Yahoo_News_AUNZ_300x600_C2S\"},\"medianet\":{\"crid\":\"943972565\"},\"yieldmo\":{\"placementId\":\"3514741047064208296\"},\"kueezrtb\":{}}},\"tw_ynews_ros_mw_top_center\":{\"pos\":1,\"formats\":{\"banner\":{\"sizes\":[[320,50],[320,100]]}},\"bidders\":{\"yahooPrebidServer\":{},\"yahooAds\":{\"pos\":\"tw_ynews_ros_mw_top_center\"},\"pubmatic\":{},\"rubicon\":{\"siteId\":\"525146\",\"zoneId\":\"3166584\"},\"ix\":{\"siteId\":\"1057691\"},\"taboola\":{\"tagId\":\"Yahoo News - ROS - Mobile Web - Top_Center\"},\"openx\":{\"unit\":\"560633179\"},\"triplelift\":{\"inventoryCode\":\"yahoo_all_HDX_APAC_pb\"},\"medianet\":{\"crid\":\"768341455\"},\"yieldmo\":{\"placementId\":\"3514741047064208296\"},\"criteo\":{},\"kueezrtb\":{}}},\"tw_ynews_ros_mw_top_center_mi\":{\"pos\":1,\"formats\":{\"banner\":{\"sizes\":[[320,480]]}},\"bidders\":{\"yahooPrebidServer\":{},\"yahooAds\":{\"pos\":\"tw_ynews_ros_mw_top_center_mi\"},\"pubmatic\":{},\"ix\":{\"siteId\":\"1172746\"},\"triplelift\":{\"inventoryCode\":\"Yahoo_News_APAC_320x480_C2S\"},\"kueezrtb\":{}}}},\"setConfig\":{\"debug\":false,\"enableSendAllBids\":false,\"targetingControls\":{\"alwaysIncludeDeals\":true,\"allowTargetingKeys\":[\"BIDDER\",\"AD_ID\",\"PRICE_BUCKET\",\"SIZE\",\"FORMAT\",\"DEAL\",\"SOURCE\",\"ADOMAIN\",\"CRID\",\"SEATID\",\"DEAL_TYPE\",\"CACHE_REGION\",\"PRICE_HUNDERED\",\"RESPONSIVE\"]},\"bidderTimeout\":2000,\"priceGranularity\":{\"buckets\":[{\"max\":10000,\"increment\":0.01}]},\"useBidCache\":true,\"minBidCacheTTL\":300,\"eventHistoryTTL\":60,\"auctionOptions\":{\"suppressStaleRender\":true},\"consentManagement\":{\"gpp\":{\"cmpApi\":\"iab\",\"timeout\":30000},\"gdpr\":{\"cmpApi\":\"iab\",\"timeout\":30000,\"rules\":[{\"purpose\":\"storage\",\"enforcePurpose\":true,\"enforceVendor\":true,\"vendorExceptions\":[\"yahooPrebidServer\"]},{\"purpose\":\"basicAds\",\"enforcePurpose\":true,\"enforceVendor\":true,\"vendorExceptions\":[\"yahooPrebidServer\"]},{\"purpose\":\"measurement\",\"enforcePurpose\":true,\"enforceVendor\":true,\"vendorExceptions\":[\"yahooPrebidServer\"]}]},\"usp\":{\"cmpApi\":\"iab\"}},\"userSync\":{\"filterSettings\":{\"iframe\":{\"bidders\":\"*\",\"filter\":\"include\"},\"image\":{\"bidders\":\"*\",\"filter\":\"include\"}}},\"s2sConfig\":{\"adapter\":\"prebidServer\",\"enabled\":true,\"endpoint\":\"https://pbs.yahoo.com/openrtb2/auction\",\"syncEndpoint\":\"https://pbs.yahoo.com/cookie_sync\",\"lrSyncEndpoint\":\"https://pbs.yahoo.com/lr_sync\",\"timeout\":2000,\"accountId\":\"yahoo\",\"allowUnknownBidderCodes\":true,\"bidders\":[\"yahooPrebidServer\"],\"extPrebid\":{\"storedrequest\":{\"id\":\"display_mobileweb\"}}},\"yahooAds\":{\"endpoint\":\"https://c2shb-oao.ssp.yahoo.com/admax/bid/partners/YPBJS\"},\"floors\":{\"data\":{\"schema\":{\"fields\":[\"gamPath\"]},\"default\":0,\"values\":{\"tw_ynews_main_mw_btm_sticky\":0,\"tw_ynews_main_mw_mid_center\":0.02,\"tw_ynews_main_mw_top_center\":0.03,\"tw_ynews_ros_mw_btm_center\":0,\"tw_ynews_ros_mw_btm_sticky\":0,\"tw_ynews_ros_mw_mid_center\":0.07,\"tw_ynews_ros_mw_mid_center_card\":0,\"tw_ynews_ros_mw_top_center\":0.02,\"tw_ynews_ros_mw_top_center_mi\":0.02}},\"enforcement\":{\"enforceJS\":true,\"enforcePBS\":true},\"floorMin\":0,\"floorMinCur\":\"USD\"},\"yahooAnalyticsAdapter\":{\"sampling\":0.1}},\"regionCountries\":{\"EU\":[\"AT\",\"BE\",\"BG\",\"CY\",\"CZ\",\"DE\",\"DK\",\"EE\",\"ES\",\"FI\",\"FR\",\"GR\",\"HR\",\"HU\",\"IE\",\"IT\",\"LT\",\"LU\",\"LV\",\"MT\",\"NL\",\"PL\",\"PT\",\"RO\",\"SE\",\"SI\",\"SK\"],\"EFTA\":[\"CH\",\"IS\",\"LI\",\"NO\"]},\"filters\":{\"bidders\":{\"yahooPrebidServer\":{\"allowList\":{\"userCountry\":\"*\"}},\"yahooAds\":{\"allowList\":{\"userCountry\":\"*\"}},\"yieldmo\":{\"allowList\":{\"userCountry\":\"*\"}},\"medianet\":{\"allowList\":{\"userCountry\":\"*\"}},\"taboola\":{\"allowList\":{\"userCountry\":\"*\"}},\"seedtag\":{\"allowList\":{\"userCountry\":\"*\"}},\"kueezrtb\":{\"allowList\":{\"userCountry\":[\"US\",\"CA\",\"MX\",\"GB\",\"BR\",\"DE\",\"FR\",\"ES\",\"AR\",\"AU\",\"IT\",\"JP\",\"CL\",\"PH\",\"CO\",\"TR\",\"ZA\",\"NL\",\"PE\",\"NZ\",\"CH\",\"HK\",\"AT\",\"SE\",\"SG\",\"HU\",\"AE\",\"PR\",\"SA\",\"PT\",\"IE\",\"DK\",\"CR\",\"IL\",\"CZ\",\"FI\",\"BG\",\"HN\",\"MD\",\"LV\"]}},\"ayPrebidServer\":{\"allowList\":{\"userCountry\":[\"US\"]}},\"DEFAULT\":{\"blockList\":{\"userCountry\":[\"GB\",\"BR\"],\"userRegion\":[\"EU\",\"EFTA\"]}}}},\"bidders\":{\"yahooPrebidServer\":{},\"yahooAds\":{\"dcn\":\"8a9694a10187874cb8228063ca7600a8\"},\"pubmatic\":{\"publisherId\":\"133799\",\"adSlot\":\"6033108\"},\"rubicon\":{\"accountId\":\"17250\"},\"ix\":{},\"taboola\":{\"publisherId\":\"1635765\"},\"openx\":{\"delDomain\":\"yahoo-bidout-d.openx.net\"},\"triplelift\":{},\"medianet\":{\"cid\":\"8CU2K123F\"},\"yieldmo\":{},\"kueezrtb\":{\"cId\":\"67bed80f84665be32757713d\",\"pId\":\"65lk7c192882r0011813fn9\"},\"criteo\":{\"networkId\":\"12131\",\"pubid\":\"12131\"}}}},\"pbjs\":{}},\"positions\":{\"sda-MOMENTS\":{\"customSizeConfig\":{\"Lighthouse\":true,\"Spotlight\":true},\"id\":\"sda-MOMENTS\",\"kvs\":{\"loc\":\"mid_center\"},\"ntsFallBack\":{\"position\":\"INBODYLREC\"},\"path\":\"/22888152279/tw/ynews/ros/mw/tw_ynews_ros_mw_mid_center\",\"region\":\"index\",\"size\":[[300,250],[2,2],[3,2]]},\"sda-WFPAD-iframe\":{\"customSizeConfig\":{\"Horizon\":true},\"id\":\"sda-WFPAD-iframe\",\"kvs\":{\"loc\":\"top_center\"},\"region\":\"index\",\"size\":[[320,50],[3,1],[320,100]],\"path\":\"/22888152279/tw/ynews/ros/mw/tw_ynews_ros_mw_top_center\"},\"sda-LREC2-iframe\":{\"id\":\"sda-LREC2-iframe\",\"kvs\":{\"loc\":\"mid_center_10\"},\"region\":\"index\",\"size\":[[300,250],[3,2]],\"path\":\"/22888152279/tw/ynews/ros/mw/tw_ynews_ros_mw_mid_center\",\"customSizeConfig\":{\"Spotlight\":true}},\"sda-LREC3-iframe\":{\"id\":\"sda-LREC3-iframe\",\"kvs\":{\"loc\":\"mid_center_11\"},\"region\":\"index\",\"size\":[[300,250]],\"path\":\"/22888152279/tw/ynews/ros/mw/tw_ynews_ros_mw_mid_center\"},\"sda-LREC4-iframe\":{\"id\":\"sda-LREC4-iframe\",\"kvs\":{\"loc\":\"mid_center_12\"},\"region\":\"index\",\"size\":[[300,250]],\"path\":\"/22888152279/tw/ynews/ros/mw/tw_ynews_ros_mw_mid_center\"}},\"setting\":{\"refresh\":{\"duration\":30,\"requireUserAction\":true,\"sameSizeRefresh\":true,\"tabFocus\":{\"outOfFocusDuration\":3},\"reserved\":{\"duration\":60},\"limit\":100},\"tracking\":{\"debug\":true,\"metrics\":true,\"performance\":true},\"lazyLoad\":{\"lazyFetch\":{\"taboola\":{\"offset\":300}}},\"taboolaSetting\":{\"pageType\":\"article\",\"publisherId\":\"yahootwhk-network\"}},\"feature\":{\"enableEdgeToEdge\":true,\"enableLazyFetch\":true}};\n",
      "            var locationContext = {\"region\":\"TW\",\"usercountry\":\"TW\",\"gdpr\":false};\n",
      "\n",
      "            benjiConfig.setting = {\n",
      "                ...benjiConfig.setting,\n",
      "                consent: {\n",
      "                    allowFirstPartyAds: true,\n",
      "                    allowOnlyLimitedAds: false,\n",
      "                    allowOnlyNonPersonalizedAds: false,\n",
      "                },\n",
      "            };\n",
      "\n",
      "            benjiConfig.i13n = {\n",
      "                ...locationContext,\n",
      "                ...benjiConfig.i13n,\n",
      "                bka: '0',\n",
      "                bkg: '',\n",
      "            };\n",
      "\n",
      "            if (typeof window.benji !== 'undefined') {\n",
      "                    window.benji.start(benjiConfig);\n",
      "            } else {\n",
      "                window.benji = {\n",
      "                    config: benjiConfig,\n",
      "                };\n",
      "            }\n",
      "            \n",
      "        })();\n",
      "  </script>\n",
      " </head>\n",
      " <body dir=\"ltr\">\n",
      "  <noscript>\n",
      "   <img alt=\"\" class=\"D(n)\" src=\"/_td_api/beacon/info?beaconType=noJSenabled&amp;bucket=news-TW-zh-Hant-TW-def&amp;code=pageRender&amp;device=smartphone&amp;lang=zh-Hant-TW&amp;pageName=deeplink&amp;region=TW&amp;rid=1r634dljsv6bv&amp;site=news&amp;t=1741658495406\"/>\n",
      "  </noscript>\n",
      "  <script id=\"wafer-db-config\" type=\"application/json\">\n",
      "   {\n",
      "                \"name\": \"article-server\",\n",
      "                \"version\": 1\n",
      "            }\n",
      "  </script>\n",
      "  <script id=\"wafer-video-config\" type=\"application/json\">\n",
      "   {\"playerScript\":\"https://s.yimg.com/rx/ev/builds/1.10.20/evplayer.js\",\"config\":{\"useEVPlayer\":true}}\n",
      "  </script>\n",
      "  <script class=\"wafer-state\" type=\"application/json\">\n",
      "   {\n",
      "                \"colorTheme\": \"\",\n",
      "                \"dedupUuids\": \"3ef0db31-705c-4ff1-ae51-78c373071f7c\",\n",
      "                \"geminiAds\": {\n",
      "                    \"geminiDedupeToken\": \"PHToken\"\n",
      "                },\n",
      "                \"publisherBlobPageContext\": \"%7B%22lu%22%3A%220%22%2C%22pageType%22%3A%22content%22%2C%22site%22%3A%22news%22%2C%22appName%22%3A%22article%22%2C%22pageDesign%22%3A%22non_modal%22%2C%22pageContentType%22%3A%22story%22%2C%22hashtag%22%3A%22news%3Bgame%3Bai%3B%E9%81%8A%E6%88%B2%3Bxbox%22%2C%22lmsid%22%3A%22a0V6T00000KBLWzUAP%22%2C%22revsp%22%3A%22yahoo__374%22%2C%22lpstaid%22%3A%223ef0db31-705c-4ff1-ae51-78c373071f7c%22%2C%22bucket%22%3A%22news-TW-zh-Hant-TW-def%22%7D\"\n",
      "            }\n",
      "  </script>\n",
      "  <script type=\"text/javascript\">\n",
      "   (function() {\n",
      "        \n",
      "window.YAHOO = window.YAHOO || {};\n",
      "window.YAHOO.context = {\n",
      "    \"apptype\": \"\",\n",
      "    \"authed\": \"0\",\n",
      "    \"browserName\": \"chrome mobile\",\n",
      "    \"browserVersion\": \"131.0\",\n",
      "    \"bucket\": \"news-TW-zh-Hant-TW-def\",\n",
      "    \"contentSite\": \"\",\n",
      "    \"device\": \"smartphone\",\n",
      "    \"errBeaconConfig\": {\n",
      "        \"beaconPath\": \"_td_api/beacon/error\",\n",
      "        \"site\": \"news\"\n",
      "    },\n",
      "    \"feature\": [\n",
      "        \"enableGAMAds\",\n",
      "        \"caasEnableSpaceIdMappingWithPath\",\n",
      "        \"dotBeacon\",\n",
      "        \"editorialUpsells\",\n",
      "        \"enableAdditionalPageContextParams\",\n",
      "        \"enableBodyAdsCharCount\",\n",
      "        \"enableCommunityBarIframeComments\",\n",
      "        \"enableDarkMode\",\n",
      "        \"enableInArticleAd\",\n",
      "        \"enableInArticleAdMetaSize\",\n",
      "        \"enableIntlStreamCoview\",\n",
      "        \"enablePlayerComparisonRedesign\",\n",
      "        \"enableSmartBanner\",\n",
      "        \"enableTaboolaAdsInArticle\",\n",
      "        \"enableTopAdSticky\",\n",
      "        \"enableXrayEntityAboutFacts\",\n",
      "        \"filterNonGdprEmbeds\",\n",
      "        \"getCommerceModulesFromRmp\",\n",
      "        \"headerOnTopForVideoContent\",\n",
      "        \"liveBlogPolling\",\n",
      "        \"relatedVideosOnNcp\"\n",
      "    ],\n",
      "    \"guid\": \"\",\n",
      "    \"intl\": \"tw\",\n",
      "    \"lang\": \"zh-Hant-TW\",\n",
      "    \"meta\": {\n",
      "        \"categoryLabel\": \"News\",\n",
      "        \"commentsAllowed\": true,\n",
      "        \"commentsCount\": 0,\n",
      "        \"contentType\": \"story\",\n",
      "        \"messageId\": \"\",\n",
      "        \"replyId\": \"\",\n",
      "        \"siteAttribute\": \"hashtag=\\\"news;game;ai;遊戲;xbox\\\" rs=\\\"lmsid:a0V6T00000KBLWzUAP;revsp:yahoo__374;lpstaid:3ef0db31-705c-4ff1-ae51-78c373071f7c;lu:0;pct:story\\\"\",\n",
      "        \"tags\": \"AI, Muse, 微軟\",\n",
      "        \"title\": \"微軟新遊戲AI模型「Muse」亮相！即時生成遊戲畫面 卻引爆玩家正反論戰\",\n",
      "        \"url\": \"https://tw.news.yahoo.com/%E5%BE%AE%E8%BB%9F%E6%96%B0%E9%81%8A%E6%88%B2ai%E6%A8%A1%E5%9E%8B%E3%80%8Cmuse%E3%80%8D%E4%BA%AE%E7%9B%B8%EF%BC%81%E5%8D%B3%E6%99%82%E7%94%9F%E6%88%90%E9%81%8A%E6%88%B2%E7%95%AB%E9%9D%A2-%E5%8D%BB%E5%BC%95%E7%88%86%E7%8E%A9%E5%AE%B6%E6%AD%A3%E5%8F%8D%E8%AB%96%E6%88%B0-051114570.html\",\n",
      "        \"uuid\": \"3ef0db31-705c-4ff1-ae51-78c373071f7c\",\n",
      "        \"xhrPathPrefix\": \"/nel_ms/_rcv/remote\"\n",
      "    },\n",
      "    \"mode\": \"normal\",\n",
      "    \"osName\": \"android\",\n",
      "    \"osVersion\": \"10\",\n",
      "    \"partner\": \"none\",\n",
      "    \"region\": \"TW\",\n",
      "    \"rid\": \"1r634dljsv6bv\",\n",
      "    \"site\": \"news\",\n",
      "    \"tpConsent\": true,\n",
      "    \"ynet\": \"0\"\n",
      "};\n",
      "\n",
      "\n",
      "    }());\n",
      "  </script>\n",
      "  <header class=\"T(0) W(100%) Reader-open Pos(f) Z(4)\" id=\"Header\">\n",
      "   <div class=\"wafer-rapid-module\" id=\"module-featurebar\">\n",
      "    <script>\n",
      "     window.performance.mark('featurebar');\n",
      "                    window.performance.measure('featurebarDone','PageStart','featurebar');\n",
      "    </script>\n",
      "   </div>\n",
      "   <div class=\"wafer-rapid-module\" id=\"module-appPromoBanner\">\n",
      "    <div class=\"D(n) Pos(r)\" id=\"wafer-app-promo-banner\">\n",
      "     <div class=\"Bgc($c-fuji-charcoal) D(f) Pos(f) B(56px) Start(0) End(0) Z(3) Mih(82px)\">\n",
      "      <button aria-label=\"close tooltip\" class=\"wafer-toggle Bgc(t) Bd(n) P(0) Pos(a) T(50%) TranslateY(-50%) Start(5px) W(24px) H(24px)\" data-wf-toggle-class=\"click:add:D(n)\" data-wf-toggle-target=\"#wafer-app-promo-banner\">\n",
      "       <svg class=\"Cur(p) Va(b) Cur(p)\" data-icon=\"close\" height=\"24\" pointer-events=\"none\" style=\"fill:#fff;stroke:#fff;stroke-width:0;vertical-align:bottom\" viewbox=\"0 0 48 48\" width=\"24\">\n",
      "        <path d=\"M37.98 34.827l-9.9-9.9 9.9-9.898c.78-.782.78-2.05 0-2.83-.78-.78-2.047-.78-2.828 0l-9.9 9.9-9.898-9.9c-.78-.78-2.048-.78-2.828 0-.78.78-.78 2.047 0 2.828l9.9 9.9-9.9 9.898c-.78.78-.78 2.047 0 2.828.78.78 2.047.78 2.828 0l9.9-9.9 9.898 9.9c.78.78 2.048.78 2.828 0 .782-.78.782-2.047 0-2.827z\">\n",
      "        </path>\n",
      "       </svg>\n",
      "      </button>\n",
      "      <a class=\"D(f) W(100%) Bxz(bb) Py(12px) Pstart(36px) Pend(16px) Td(n) C(#fff) Ai(c) Fz(14px) Lh(1)\" data-ylk=\"itc:0;pos:1;sec:sb-download;g:3ef0db31-705c-4ff1-ae51-78c373071f7c\" href=\"https://go.onelink.me/WAkg?pid=smartbanner&amp;c=TW_Acquisition_YMktg_Q3promo_sb_&amp;af_sub1=Acquisition&amp;af_sub2=TW_YMktg&amp;af_sub3=&amp;af_sub4=&amp;af_sub5=sb__Banner_\" rel=\"noopener noreferrer\" target=\"_blank\">\n",
      "       <div class=\"Mend(8px) W(48px) H(48px)\">\n",
      "        <img alt=\"Yahoo奇摩APP\" class=\"Bdrs(15px) W(48px) H(48px)\" src=\"https://s.yimg.com/cv/apiv2/twmobi/icons/superApp/content/2022-superapp@2x.png\"/>\n",
      "       </div>\n",
      "       <div class=\"Fxg(1) Ov(h)\">\n",
      "        <div class=\"Mb(8px) Tov(e) Ov(h) Whs(nw) Fw(500)\">\n",
      "         Yahoo奇摩APP\n",
      "        </div>\n",
      "        <div class=\"Tov(e) Ov(h) Whs(nw)\">\n",
      "         切換至APP版本\n",
      "        </div>\n",
      "       </div>\n",
      "       <div class=\"Bd Bdc(#fff) Bdrs(100px) Px(12px) Py(5px) Fw(500) Tov(e) Ov(h) Whs(nw) H(14px) Fxs(0)\">\n",
      "        立即下載\n",
      "       </div>\n",
      "      </a>\n",
      "     </div>\n",
      "     <script nonce=\"d2d3faa78794b67192a4bec459d27a81fa5ab8509da9812f69eebd8b7abd0efb\" type=\"text/javascript\">\n",
      "      function initCode () {\n",
      "                            if (typeof localStorage !== 'undefined') {\n",
      "                                try {\n",
      "                                    var lsData = JSON.parse(localStorage.getItem('appPromoBanner')) || {};\n",
      "                                    var lastView = lsData['twSuperApp'];\n",
      "                                    var canView = !lastView || lastView  < (new Date().getTime() - 86400000);\n",
      "\n",
      "                                    if (canView) {\n",
      "                                        // remove D(n) class to show the banner\n",
      "                                        window.document.getElementById('wafer-app-promo-banner').className = 'Pos(r)';\n",
      "                                        lsData['twSuperApp'] = new Date().getTime();\n",
      "                                        localStorage.setItem('appPromoBanner', JSON.stringify(lsData));\n",
      "                                    }\n",
      "                                } catch(e) {}\n",
      "                            }\n",
      "                        }\n",
      "                        if (document.readyState !== 'loading' ) {\n",
      "                            initCode();\n",
      "                        } else {\n",
      "                            document.addEventListener('DOMContentLoaded', function () {\n",
      "                                initCode();\n",
      "                            });\n",
      "                        }\n",
      "     </script>\n",
      "    </div>\n",
      "    <script>\n",
      "     window.performance.mark('appPromoBanner');\n",
      "                    window.performance.measure('appPromoBannerDone','PageStart','appPromoBanner');\n",
      "    </script>\n",
      "   </div>\n",
      "   <div class=\"wafer-rapid-module\" id=\"module-header\">\n",
      "    <div class=\"Bgc(#fff) Bdbc($c-fuji-grey-d) Bdbs(s) Bdbw(1px) D(tb) Pos(r) W(100%)\" id=\"header-wrapper\">\n",
      "     <div class=\"D(tbr)\">\n",
      "      <a aria-label=\"回上頁\" class=\"Z(2) D(n) H(100%) Pos(a) Reader-open_D(ib) wafer-toggle W(a)\" data-wf-toggle-class=\"click:remove:Reader-open\" data-wf-toggle-target=\"body\" data-ylk=\"elm:itm;itc:0;sec:hl-viewer;slk:back\" href=\"https://tw.news.yahoo.com\" id=\"header-back-button\" title=\"回上頁\">\n",
      "       <svg class=\"Bdrs(50%) Pb(16px) Pstart(14px) Pend(10px) Pt(19px) header-back-icon Cur(p)\" data-icon=\"CoreArrowLeft\" height=\"18\" style=\"fill:#7d2eff;stroke:#7d2eff;stroke-width:0;vertical-align:bottom\" viewbox=\"0 0 32 32\" width=\"18\">\n",
      "        <path d=\"M22.72.665c-.886-.887-2.323-.887-3.21 0L4.175 16 19.51 31.335c.442.443 1.023.665 1.604.665s1.162-.222 1.605-.665c.886-.887.886-2.324 0-3.21L10.596 16 22.72 3.876c.887-.887.887-2.324 0-3.21z\">\n",
      "        </path>\n",
      "       </svg>\n",
      "      </a>\n",
      "      <div class=\"D(tbc) Va(m)\">\n",
      "       <h1 class=\"Fz(0) Mb(13px) Mend(-5px) Mt(14px) Pstart(10px) Trs($logoTransition) Reader-open_Pstart(40px)\">\n",
      "        <a class=\"Bgi(n)! D(b) Pos(r)\" data-ylk=\"elm:img;elmt:logo;sec:hd;slk:logo\" href=\"https://tw.news.yahoo.com\" id=\"header-logo\">\n",
      "         <img alt=\"News\" height=\"25px\" src=\"https://s.yimg.com/cv/apiv2/twnews/logo2024/Mobile/Yahoo_News_m@2x.png\" title=\"News\" width=\"123px\"/>\n",
      "        </a>\n",
      "       </h1>\n",
      "      </div>\n",
      "      <a class=\"app-promo W(26%) Maw(26%) H(30px) Pos(a) End(4px) T(12px) D(b) Z(2)\" data-ylk=\"elm:hdrbtn;itc:0;sec:uh;slk:GetApp;subsec:appBanner\" href=\"https://go.onelink.me/WAkg?pid=smartbanner&amp;c=TW_Acquisition_YMktg_Q3internal_highlanderheader_&amp;af_sub1=Acquisition&amp;af_sub2=TW_YMktg&amp;af_sub3=&amp;af_sub4=&amp;af_sub5=header__Banner_&amp;af_force_deeplink=true&amp;af_dp=ysuper://story/ymedia-alias:shadow=%e5%be%ae%e8%bb%9f%e6%96%b0%e9%81%8a%e6%88%b2ai%e6%a8%a1%e5%9e%8b%e3%80%8cmuse%e3%80%8d%e4%ba%ae%e7%9b%b8%ef%bc%81%e5%8d%b3%e6%99%82%e7%94%9f%e6%88%90%e9%81%8a%e6%88%b2%e7%95%ab%e9%9d%a2-%e5%8d%bb%e5%bc%95%e7%88%86%e7%8e%a9%e5%ae%b6%e6%ad%a3%e5%8f%8d%e8%ab%96%e6%88%b0-051114570/3ef0db31-705c-4ff1-ae51-78c373071f7c?ref_src=mobi_header\" id=\"app-promo\">\n",
      "       <img alt=\"getApp\" class=\"Maw(100%) Mah(100%)\" src=\"https://s.yimg.com/cv/apiv2/twmobi/newarticle/button/btn_news_header_getapp@2x.png\"/>\n",
      "      </a>\n",
      "     </div>\n",
      "    </div>\n",
      "    <script>\n",
      "     window.performance.mark('header');\n",
      "                    window.performance.measure('headerDone','PageStart','header');\n",
      "    </script>\n",
      "   </div>\n",
      "   <style type=\"text/css\">\n",
      "    .progress-loader-bar-wrapper {\n",
      "    bottom: 0;\n",
      "    height: 2px;\n",
      "    left: 0;\n",
      "    position: absolute;\n",
      "    width: 100%;\n",
      "}\n",
      "\n",
      ".progress-loader {\n",
      "    width: 100%;\n",
      "    height: 100%;\n",
      "    line-height: 0px;\n",
      "}\n",
      "\n",
      ".progress-loader canvas {\n",
      "    vertical-align: top;\n",
      "}\n",
      "   </style>\n",
      "   <div class=\"progress-loader-bar-wrapper\">\n",
      "    <div class=\"progress-loader wafer-progress-loader\" data-wf-darkmode-stroke-color=\"#7759ff\" data-wf-direction=\"both\" data-wf-iteration-count=\"infinite\" data-wf-scroll-height-container=\"#module-article\" data-wf-stroke-color=\"#430297\" data-wf-type=\"rectangle\">\n",
      "    </div>\n",
      "   </div>\n",
      "  </header>\n",
      "  <div class=\"Z(3) Pos(r) Pos(st)! Bgc(--white) Mb(52px) T(52px)\" id=\"HeadlineSection\">\n",
      "   <div class=\"enable-gam-ads W(320px) Mx(a)\" data-content=\"廣告\" id=\"sda-WFPAD-iframe\">\n",
      "    <div class=\"sdaLite_D(n) D(f) Ai(c) Jc(c) Bgc(#f5f8fa) Fz(12px) C(#6e7780) H(70px) Mx(a) Miw(100%)\">\n",
      "     廣告\n",
      "    </div>\n",
      "   </div>\n",
      "  </div>\n",
      "  <div class=\"W(100%) Pos(r) Op(1)\" id=\"Masterwrap\">\n",
      "   <div class=\"Z(2) Pos(r)\" id=\"Page\">\n",
      "    <main class=\"W(100%)\" role=\"main\">\n",
      "     <div class=\"content-articles-wrapper\">\n",
      "      <div id=\"preArticle\">\n",
      "      </div>\n",
      "      <div id=\"caas-content-body\">\n",
      "       <div class=\"\" id=\"content-wrapper\">\n",
      "        <div>\n",
      "         <div id=\"module-article\">\n",
      "          <div class=\"caas caas-cc darkmode editorialUpsells enableAdSlotsForTWHK enableAdsMon enableBodyAdsCharCount enableGAMAds enableGAMEdgeToEdge enableGAMMomentsAds enableInArticleAd enablePlayerComparisonRedesign enableSpaceIdMappingWithPath enableXrayEntityAboutFacts filterNonGdprEmbeds getCommerceModulesFromRmp liveBlogPolling noRapidClickClass outStream news\" data-assets='[{\"asset\":{\"value\":\"https:\\u002F\\u002Fs.yimg.com\\u002Fzq\\u002F_assets\\u002Fcss\\u002Fcommerce-content-caas.tailwind.57e8602ca105e8f0c72e981e9352b46b.css\",\"name\":\"commerce-content-caas.tailwind\"},\"type\":\"css\"},{\"asset\":{\"value\":\"https:\\u002F\\u002Fs.yimg.com\\u002Fzq\\u002F_assets\\u002Fcss\\u002Fcommerce-content-caas.overwriteCaas.a110378c301d04b4c47de5b90dc99484.css\",\"name\":\"commerce-content-caas.overwriteCaas\"},\"type\":\"css\"},{\"asset\":{\"value\":\"https:\\u002F\\u002Fs.yimg.com\\u002Fzq\\u002F_assets\\u002Fjs\\u002Fcommerce-content-caas.copy.2100ef09c6cd71ed58154fed0fe86908.js\",\"name\":\"commerce-content-caas.copy\"},\"type\":\"dynamic-js\"},{\"asset\":{\"value\":\"https:\\u002F\\u002Fs.yimg.com\\u002Fzq\\u002F_assets\\u002Fjs\\u002Fcommerce-content-caas.quickOverview.53e94ae1674d5814b037f11cef71ecaa.js\",\"name\":\"commerce-content-caas.quickOverview\"},\"type\":\"dynamic-js\"},{\"asset\":{\"value\":\"https:\\u002F\\u002Fs.yimg.com\\u002Fzq\\u002F_assets\\u002Fjs\\u002Fcommerce-content-caas.score.4c442ba67a8df7c209915f86f44b2f3c.js\",\"name\":\"commerce-content-caas.score\"},\"type\":\"dynamic-js\"}]' data-device=\"smartphone\" data-i18n='{\"{date} at {time}\":\"{date}於{time}\",\"{0} hr ago\":\"{0} 小時前\",\"{0} min ago\":\"{0} 分鐘前\",\"{0} mins ago\":\"{0} 分鐘前\",\"{0} Views\":\"{0} 次瀏覽\",\"INLINE_CONSENT_BLOCKED_3P_BUTTON_ALLOW\":\"允許\",\"LESS\":\"較少\",\"LIVE_IS_OVER\":\"直播報導已經結束\",\"LOADING\":\"載入中\",\"MORE\":\"更多\",\"NEW_UPDATE\":\"最新更新\",\"NEW_UPDATES\":\"最新更新\",\"JUST_NOW\":\"剛剛\",\"RELOAD\":\"按一下即可重新載入最新更新\",\"SEE {0} MORE\":\"查看另外 {0} 項\",\"SEE_LESS\":\"查看較少內容\",\"SEE_MORE\":\"顯示更多\",\"SHOW_MORE\":\"顯示更多更新\",\"TODAY\":\"今天\",\"UPDATE\":\"更新\",\"UPDATES\":\"更新\",\"VIDEO_A11Y_DISABLE_FULLSCREEN\":\"全螢幕、按鈕、停用功能，暫時無法供螢幕閱讀程式使用者使用\"}' data-lang=\"zh-Hant-TW\" data-params='{\"features\":{\"darkmode\":true,\"editorialUpsells\":true,\"enableAdSlotsForTWHK\":true,\"enableAdsMon\":true,\"enableBodyAdsCharCount\":true,\"enableGAMAds\":true,\"enableGAMEdgeToEdge\":true,\"enableGAMMomentsAds\":true,\"enableInArticleAd\":true,\"enablePlayerComparisonRedesign\":true,\"enableSpaceIdMappingWithPath\":true,\"enableXrayEntityAboutFacts\":true,\"filterNonGdprEmbeds\":true,\"getCommerceModulesFromRmp\":true,\"liveBlogPolling\":true,\"noRapidClickClass\":true,\"outStream\":true},\"config\":{\"authorBylineCollapseLineCount\":2,\"commerceQuickOverviewLimit\":5,\"freezeOnLinkClick\":true,\"lazyOffsetY\":900,\"livecoverage\":{\"defer\":false},\"imageCaptionCollapseLineCount\":3,\"slideshowCaptionCollapseLineCount\":2,\"uiShowPreviousButtonOnLoad\":false,\"prestigeScrollMarginTop\":-52}}' data-space-id=\"964316273\" data-tz=\"Asia/Taipei\" id=\"caas-art-3ef0db31-705c-4ff1-ae51-78c373071f7c\">\n",
      "           <link href=\"https://s.yimg.com/zq/_assets/css/commerce-content-caas.tailwind.57e8602ca105e8f0c72e981e9352b46b.css\" rel=\"stylesheet\" type=\"text/css\"/>\n",
      "           <link href=\"https://s.yimg.com/zq/_assets/css/commerce-content-caas.overwriteCaas.a110378c301d04b4c47de5b90dc99484.css\" rel=\"stylesheet\" type=\"text/css\"/>\n",
      "           <article role=\"article\" tabindex=\"-1\">\n",
      "            <script type=\"application/ld+json\">\n",
      "             {\"@context\":\"http://schema.org\",\"@type\":\"NewsArticle\",\"mainEntityOfPage\":\"https://tw.news.yahoo.com/%E5%BE%AE%E8%BB%9F%E6%96%B0%E9%81%8A%E6%88%B2ai%E6%A8%A1%E5%9E%8B%E3%80%8Cmuse%E3%80%8D%E4%BA%AE%E7%9B%B8%EF%BC%81%E5%8D%B3%E6%99%82%E7%94%9F%E6%88%90%E9%81%8A%E6%88%B2%E7%95%AB%E9%9D%A2-%E5%8D%BB%E5%BC%95%E7%88%86%E7%8E%A9%E5%AE%B6%E6%AD%A3%E5%8F%8D%E8%AB%96%E6%88%B0-051114570.html\",\"headline\":\"微軟新遊戲AI模型「Muse」亮相！即時生成遊戲畫面 卻引爆玩家正反論戰\",\"datePublished\":\"2025-02-24T05:11:15.000Z\",\"dateModified\":\"2025-02-24T05:11:15.000Z\",\"keywords\":[\"AI\",\"Muse\",\"微軟\"],\"description\":\"近幾年各大企業發展 AI 技術，就連遊戲產業都陸續開始應用與展示概念，像是微軟在 2024 年 5 月，以自家《Minecraft》為例，展示了可以進行即時對話與反應的 AI，提供攻略與指令來幫助玩家。而日前，微軟發表了一款名為「Muse」的全新 AI 模型，展示了它能用在生成電子遊戲畫面與動作的全新技術，但公開...\",\"publisher\":{\"@type\":\"Organization\",\"name\":\"Yahoo奇摩新聞\",\"logo\":{\"@type\":\"ImageObject\",\"url\":\"https://s.yimg.com/cv/apiv2/twmobi/icon/yahoo_tw_logo_structuredata_20200630.png\",\"width\":136,\"height\":60}},\"author\":{\"@type\":\"Person\",\"name\":\"MrSun\",\"url\":\"https://tw.news.yahoo.com/author/mrsun\",\"jobTitle\":\"Yahoo奇摩遊戲編輯\"},\"creator\":{\"@type\":\"Person\",\"name\":\"MrSun\",\"url\":\"https://tw.news.yahoo.com/author/mrsun\",\"jobTitle\":\"Yahoo奇摩遊戲編輯\"},\"provider\":{\"@type\":\"Organization\",\"name\":\"Yahoo奇摩遊戲編輯部\",\"url\":\"https://tw.yahoo.com/trendr/yahoo__374\",\"logo\":{\"@type\":\"ImageObject\",\"width\":3064,\"height\":619,\"url\":\"https://s.yimg.com/os/creatr-uploaded-images/2023-09/4a1b0f70-5f94-11ee-bfbe-d53c639cc273\"}},\"image\":{\"@type\":\"ImageObject\",\"url\":\"https://s.yimg.com/ny/api/res/1.2/19sArJLP3G6qUYsLn82HGQ--/YXBwaWQ9aGlnaGxhbmRlcjt3PTEyMDA7aD02NzU-/https://s.yimg.com/os/creatr-uploaded-images/2025-02/6d26a160-f26d-11ef-b79b-0381b8da326e\",\"width\":1200,\"height\":675},\"thumbnailUrl\":\"https://s.yimg.com/ny/api/res/1.2/19sArJLP3G6qUYsLn82HGQ--/YXBwaWQ9aGlnaGxhbmRlcjt3PTEyMDA7aD02NzU-/https://s.yimg.com/os/creatr-uploaded-images/2025-02/6d26a160-f26d-11ef-b79b-0381b8da326e\"}\n",
      "            </script>\n",
      "            <script class=\"caas-yvideo-config\" type=\"application/json\">\n",
      "             {\"site\":\"news\"}\n",
      "            </script>\n",
      "            <script class=\"caas-timezone-config\" type=\"application/json\">\n",
      "             {\"longForm\":{\"weekday\":\"short\",\"day\":\"numeric\",\"hour\":\"numeric\",\"hourCycle\":\"h12\",\"minute\":\"2-digit\",\"month\":\"long\",\"year\":\"numeric\"},\"shortForm\":{\"day\":\"numeric\",\"month\":\"long\",\"year\":\"numeric\"},\"postDateLongForm\":{\"weekday\":\"short\",\"day\":\"numeric\",\"hour\":\"numeric\",\"hourCycle\":\"h12\",\"minute\":\"2-digit\",\"month\":\"long\",\"year\":\"numeric\",\"timeZoneName\":\"short\"},\"postDateShortForm\":{\"hour\":\"numeric\",\"hourCycle\":\"h12\",\"minute\":\"2-digit\",\"timeZoneName\":\"short\"}}\n",
      "            </script>\n",
      "            <script class=\"caas-embedded-config\" type=\"application/json\">\n",
      "             {\"twitter\":{\"timeout\":5000}}\n",
      "            </script>\n",
      "            <header class=\"caas-header\">\n",
      "             <div class=\"caas-logo\">\n",
      "              <a class=\"link caas-attr-provider-logo\" data-ylk=\"sec:logo-provider;elm:logo;slk:Yahoo奇摩遊戲編輯部;itc:0;g:3ef0db31-705c-4ff1-ae51-78c373071f7c\" href=\"https://tw.yahoo.com/trendr/yahoo__374\">\n",
      "               <img alt=\"Yahoo奇摩遊戲編輯部\" class=\"caas-img caas-lazy\" data-dark-src=\"https://s.yimg.com/ny/api/res/1.2/LSr6g.N3QVLGkwhw8cHz1A--/YXBwaWQ9aGlnaGxhbmRlcjt3PTE5ODtoPTQw/https://s.yimg.com/os/creatr-uploaded-images/2023-09/5f9b5d00-5f94-11ee-bfa7-1c5f6e234a7e\" data-src=\"https://s.yimg.com/ny/api/res/1.2/M5GcMFtx5raEZlU.nI.ldA--/YXBwaWQ9aGlnaGxhbmRlcjt3PTE5ODtoPTQw/https://s.yimg.com/os/creatr-uploaded-images/2023-09/4a1b0f70-5f94-11ee-bfbe-d53c639cc273\"/>\n",
      "               <noscript>\n",
      "                <img alt=\"Yahoo奇摩遊戲編輯部\" class=\"caas-img\" src=\"https://s.yimg.com/ny/api/res/1.2/M5GcMFtx5raEZlU.nI.ldA--/YXBwaWQ9aGlnaGxhbmRlcjt3PTE5ODtoPTQw/https://s.yimg.com/os/creatr-uploaded-images/2023-09/4a1b0f70-5f94-11ee-bfbe-d53c639cc273\"/>\n",
      "               </noscript>\n",
      "               <span class=\"caas-logo-divider\">\n",
      "               </span>\n",
      "               <span class=\"caas-attr-provider\">\n",
      "                Yahoo奇摩遊戲編輯部\n",
      "               </span>\n",
      "              </a>\n",
      "              <span class=\"caas-logo-divider\">\n",
      "              </span>\n",
      "              <div class=\"caas-follow\">\n",
      "               <div class=\"wafer-fetch\" data-wf-credentials=\"include\" data-wf-replace=\"1\" data-wf-trigger=\"onLoad\" data-wf-url=\"/nel_ms/_rcv/remote?m_mode=json&amp;m_id=follow&amp;ctrl=Follow&amp;lang=zh-Hant-TW&amp;site=news&amp;id=c1fa5a02-766c-33b2-8bad-24bbbfd47f15&amp;name=Yahoo%E5%A5%87%E6%91%A9%E9%81%8A%E6%88%B2%E7%B7%A8%E8%BC%AF%E9%83%A8\" style=\"display:inline-block\">\n",
      "               </div>\n",
      "              </div>\n",
      "             </div>\n",
      "             <div class=\"caas-title-wrapper\">\n",
      "              <h1 data-test-locator=\"headline\" id=\"caas-lead-header-3ef0db31-705c-4ff1-ae51-78c373071f7c\">\n",
      "               微軟新遊戲AI模型「Muse」亮相！即時生成遊戲畫面 卻引爆玩家正反論戰\n",
      "              </h1>\n",
      "             </div>\n",
      "            </header>\n",
      "            <div class=\"caas-attr author\">\n",
      "             <a class=\"link caas-attr-logo\" data-ylk=\"elm:author;slk:MrSun;itc:0\" href=\"https://tw.news.yahoo.com/author/mrsun\">\n",
      "              <img alt=\"MrSun\" class=\"caas-img\" data-src=\"https://s.yimg.com/ny/api/res/1.2/M3nAq02jjpQ7g5U_Y4E3TA--/YXBwaWQ9aGlnaGxhbmRlcjt3PTgwO2g9ODA-/https://o.aolcdn.com/images/dims?image_uri=https%3A%2F%2Fo.aolcdn.com%2Fimages%2Fdims%3Fimage_uri%3Dhttps%253A%252F%252Fo.aolcdn.com%252Fimages%252Fdims%253Fimage_uri%253Dhttps%25253A%25252F%25252Fs.yimg.com%25252Fos%25252Fcreatr-uploaded-images%25252F2018-12%25252F5af6dc60-feba-11e8-9d6f-a9a029c638fa%2526compress%253D1%2526progressive%253D1%2526quality%253D75%2526client%253Dhawkeye%2526signature%253D7a6b9eb28ebecddeb9ead023fb6ee7d6b77f00a6%26compress%3D1%26progressive%3D1%26quality%3D75%26client%3Dhawkeye%26signature%3D1a5d303a7a7a06038fe0217c312bde5d653e272b&amp;compress=1&amp;progressive=1&amp;quality=75&amp;client=hawkeye&amp;signature=c619869d35c3acd9158ec77b7311e1ead56ab51a\" src=\"https://s.yimg.com/ny/api/res/1.2/M3nAq02jjpQ7g5U_Y4E3TA--/YXBwaWQ9aGlnaGxhbmRlcjt3PTgwO2g9ODA-/https://o.aolcdn.com/images/dims?image_uri=https%3A%2F%2Fo.aolcdn.com%2Fimages%2Fdims%3Fimage_uri%3Dhttps%253A%252F%252Fo.aolcdn.com%252Fimages%252Fdims%253Fimage_uri%253Dhttps%25253A%25252F%25252Fs.yimg.com%25252Fos%25252Fcreatr-uploaded-images%25252F2018-12%25252F5af6dc60-feba-11e8-9d6f-a9a029c638fa%2526compress%253D1%2526progressive%253D1%2526quality%253D75%2526client%253Dhawkeye%2526signature%253D7a6b9eb28ebecddeb9ead023fb6ee7d6b77f00a6%26compress%3D1%26progressive%3D1%26quality%3D75%26client%3Dhawkeye%26signature%3D1a5d303a7a7a06038fe0217c312bde5d653e272b&amp;compress=1&amp;progressive=1&amp;quality=75&amp;client=hawkeye&amp;signature=c619869d35c3acd9158ec77b7311e1ead56ab51a\"/>\n",
      "             </a>\n",
      "             <div class=\"caas-attr-meta\">\n",
      "              <div class=\"caas-attr-item-author\">\n",
      "               <span class=\"caas-author-byline-collapse\">\n",
      "                <a class=\"link\" data-ylk=\"elm:author;slk:MrSun;itc:0\" href=\"https://tw.news.yahoo.com/author/mrsun\">\n",
      "                 MrSun\n",
      "                </a>\n",
      "               </span>\n",
      "              </div>\n",
      "              <div class=\"caas-attr-time-style\">\n",
      "               <span>\n",
      "                更新時間：\n",
      "               </span>\n",
      "               <time class=\"caas-attr-meta-time\" datetime=\"2025-02-24T05:11:15.000Z\">\n",
      "                2025年2月24日 下午1:11\n",
      "               </time>\n",
      "              </div>\n",
      "             </div>\n",
      "            </div>\n",
      "            <div class=\"caas-body\">\n",
      "             <p>\n",
      "              近幾年各大企業發展 AI 技術，就連遊戲產業都陸續開始應用與展示概念，\n",
      "              <a class=\"link yahoo-link\" data-i13n=\"cpos:1;pos:1\" data-ylk=\"slk:像是微軟在 2024 年 5 月，以自家《Minecraft》為例;cpos:1;pos:1;elm:context_link;itc:0;sec:content-canvas;outcm:mb_qualified_link;_E:mb_qualified_link;ct:story;\" href=\"https://tw.news.yahoo.com/%E5%8F%96%E4%BB%A3%E5%82%B3%E7%B5%B1%E6%94%BB%E7%95%A5%EF%BC%81%E5%BE%AE%E8%BB%9F%E7%94%A8%E3%80%8Aminecraft%E3%80%8B%E5%B1%95%E7%A4%BAai%E5%8D%94%E5%8A%A9%E9%81%8A%E6%88%B2%EF%BC%8C%E8%83%BD%E7%9C%8B%E8%A6%8B%E3%80%81%E8%81%BD%E8%A6%8B%E3%80%81%E6%8F%90%E4%BE%9B%E5%B9%AB%E5%8A%A9-042528008.html\">\n",
      "               像是微軟在 2024 年 5 月，以自家《Minecraft》為例\n",
      "              </a>\n",
      "              ，展示了可以進行即時對話與反應的 AI，提供攻略與指令來幫助玩家。而日前，微軟發表了一款名為「Muse」的全新 AI 模型，展示了它能用在生成電子遊戲畫面與動作的全新技術，但公開後社群評價則是十分兩極化。\n",
      "             </p>\n",
      "             <figure class=\"caas-figure\">\n",
      "              <div class=\"caas-figure-with-pb\" style=\"max-height: 360px\">\n",
      "               <div class=\"caas-img-fullbleed-container\">\n",
      "                <div class=\"caas-img-container caas-img-loader\" style=\"padding-bottom:56%\">\n",
      "                 <img alt=\"（圖源：Xbox）\" class=\"caas-img caas-lazy has-preview\" data-src=\"https://s.yimg.com/ny/api/res/1.2/X5yHcCES.IcZJwibXDdwsQ--/YXBwaWQ9aGlnaGxhbmRlcjt3PTY0MDtoPTM2MA--/https://s.yimg.com/os/creatr-uploaded-images/2025-02/6d26a160-f26d-11ef-b79b-0381b8da326e\"/>\n",
      "                 <noscript>\n",
      "                  <img alt=\"（圖源：Xbox）\" class=\"caas-img\" src=\"https://s.yimg.com/ny/api/res/1.2/X5yHcCES.IcZJwibXDdwsQ--/YXBwaWQ9aGlnaGxhbmRlcjt3PTY0MDtoPTM2MA--/https://s.yimg.com/os/creatr-uploaded-images/2025-02/6d26a160-f26d-11ef-b79b-0381b8da326e\"/>\n",
      "                 </noscript>\n",
      "                </div>\n",
      "               </div>\n",
      "              </div>\n",
      "              <div class=\"caption-wrapper caption-aligned-with-image\">\n",
      "               <figcaption class=\"caption-collapse\">\n",
      "                （圖源：Xbox）\n",
      "               </figcaption>\n",
      "              </div>\n",
      "             </figure>\n",
      "             <p>\n",
      "              知名遊戲媒體人 Geoff Keighley 日前在社群平台 X 上分享了一段由 Muse 生成的遊戲畫面，雖然看上去仍有些模糊，距離實際應用仍有一段距離，但已可清楚辨識角色動作、招式及敵人等，皆由 AI 運算而成。這些展示影片內容，AI 都是以 Ninja Theory 開發的多人對戰遊戲《嗜血邊緣》（Bleeding Edge）作為訓練素材。\n",
      "             </p>\n",
      "             <div class=\"twitter-tweet-wrapper\" data-embed-anchor=\"6de9d57d-fc74-528c-a916-0e3ca6e5d619\">\n",
      "              <blockquote class=\"twitter-tweet\" data-theme=\"dark\" placeholder=\"\">\n",
      "               <div class=\"caas-card-loader small fixed-height\">\n",
      "               </div>\n",
      "               <p>\n",
      "                Microsoft has announced \"Muse,\" a generative AI model of a video game built by Microsoft in collaboration with Ninja Theory.\n",
      "                <br/>\n",
      "                <br/>\n",
      "                This video shows entirely new sequences of Bleeding Edge gameplay created under human guidance.\n",
      "                <br/>\n",
      "                <br/>\n",
      "                More here:\n",
      "                <a class=\"link\" data-ylk=\"slk:https://t.co/AkM5JXtIeM;elm:context_link;itc:0;sec:content-canvas\" href=\"https://t.co/AkM5JXtIeM\" rel=\"nofollow noopener\" target=\"_blank\">\n",
      "                 https://t.co/AkM5JXtIeM\n",
      "                </a>\n",
      "                <a class=\"link\" data-ylk=\"slk:pic.twitter.com/eSTbKXlleR;elm:context_link;itc:0;sec:content-canvas\" href=\"https://t.co/eSTbKXlleR\" rel=\"nofollow noopener\" target=\"_blank\">\n",
      "                 pic.twitter.com/eSTbKXlleR\n",
      "                </a>\n",
      "               </p>\n",
      "               <p>\n",
      "                — Geoff Keighley (@geoffkeighley)\n",
      "                <a class=\"link\" data-ylk=\"slk:February 19, 2025;elm:context_link;itc:0;sec:content-canvas\" href=\"https://twitter.com/geoffkeighley/status/1892351575802147200?ref_src=twsrc%5Etfw\" rel=\"nofollow noopener\" target=\"_blank\">\n",
      "                 February 19, 2025\n",
      "                </a>\n",
      "               </p>\n",
      "              </blockquote>\n",
      "             </div>\n",
      "             <p>\n",
      "              <a class=\"link\" data-i13n=\"cpos:2;pos:1\" data-ylk=\"slk:微軟遊戲 AI 部門副總裁 Fatima Kardar 表示：;cpos:2;pos:1;elm:context_link;itc:0;sec:content-canvas\" href=\"https://news.xbox.com/en-us/2025/02/19/muse-ai-xbox-empowering-creators-and-players/\" rel=\"nofollow noopener\" target=\"_blank\">\n",
      "               微軟遊戲 AI 部門副總裁 Fatima Kardar 表示：\n",
      "              </a>\n",
      "              「我們已將 Muse 應用於開發即時可玩的 AI 模型，且這項技術在未來有望同時造福玩家與遊戲開發者。」微軟也透露，Muse 目前仍處於早期開發階段，更多相關細節預計於 2025 年的遊戲開發者大會（GDC）上公布。\n",
      "             </p>\n",
      "             <div class=\"caas-iframe-wrapper\" data-embed-anchor=\"91424f5b-da83-52d8-8b8c-761026807c8f\">\n",
      "              <div class=\"caas-iframe youtube\" data-type=\"youtube\" style=\"padding-bottom:56%\">\n",
      "               <blockquote allowfullscreen=\"\" data-src=\"https://www.youtube.com/embed/c15vxDHJ2lU?rel=0\" scrolling=\"no\">\n",
      "                <div class=\"caas-card-loader\">\n",
      "                </div>\n",
      "                <noscript>\n",
      "                 <iframe allowfullscreen=\"\" src=\"https://www.youtube.com/embed/c15vxDHJ2lU?rel=0\">\n",
      "                 </iframe>\n",
      "                </noscript>\n",
      "               </blockquote>\n",
      "              </div>\n",
      "             </div>\n",
      "             <p>\n",
      "              對於 AI 生成遊戲，社群反應不一。支持者認為，這有助於中小型團隊甚至獨立開發者減輕負擔，只需專注於程式碼、玩法設計等核心元素，其餘畫面與動作可交由 AI 生成，若價格合理，將大幅降低開發風險。\n",
      "             </p>\n",
      "             <p>\n",
      "              然而，反對者認為目前 Muse 展示的畫面缺乏靈魂，並擔憂可能取代大量遊戲美術與動畫師的工作。有玩家表示：「微軟只是想用 AI 取代開發人員」、「為什麼微軟不『生成』一些第一方獨佔遊戲」、「乾脆讓 AI 取代高層」、「科技公司正試圖抹煞藝術中的人性」、「這畫面看起來比獨立開發者 24 小時內做出的 Game Jam 作品還糟」。\n",
      "             </p>\n",
      "            </div>\n",
      "           </article>\n",
      "          </div>\n",
      "         </div>\n",
      "         <script type=\"text/javascript\">\n",
      "          (function(w) {\n",
      "        var adsConfig = {\n",
      "            clientPositionMeta: undefined,\n",
      "            clientViewportAdFetchYOffset: undefined,\n",
      "            clusterPositionMeta: {\"addAutoEvent\":true,\"positions\":[],\"siteAttributes\":\"LREC=\\\"300x250;1x1\\\" LREC2=\\\"300x250;1x1\\\" MON=\\\"300x600;1x1\\\" geminifed=1\"},\n",
      "            enableAdSlugText: undefined,\n",
      "            enableAdditionalPageContextParams: undefined,\n",
      "            enableGAMAds: undefined,\n",
      "            enableGAMAdsCtrl: undefined,\n",
      "            enableJac: undefined,\n",
      "            pencilAdSections: {},\n",
      "            positions: {\"BTNA\":{\"meta\":{\"clean\":\"sda-BTN\",\"dest\":\"sda-BTN-iframe\",\"fdb\":1,\"h\":60,\"id\":\"BTNA\",\"metaSize\":true,\"w\":120},\"sfoptin\":1},\"BTNB\":{\"meta\":{\"clean\":\"sda-BTN-1\",\"dest\":\"sda-BTN-1-iframe\",\"fdb\":1,\"h\":60,\"id\":\"BTNB\",\"metaSize\":true,\"w\":120},\"sfoptin\":1},\"BTNC\":{\"meta\":{\"clean\":\"sda-BTN-2\",\"dest\":\"sda-BTN-2-iframe\",\"fdb\":1,\"h\":60,\"id\":\"BTNC\",\"metaSize\":true,\"w\":120},\"sfoptin\":1},\"BTND\":{\"meta\":{\"clean\":\"sda-BTN-3\",\"dest\":\"sda-BTN-3-iframe\",\"fdb\":1,\"h\":60,\"id\":\"BTND\",\"metaSize\":true,\"w\":120},\"sfoptin\":1},\"COMMENTSWFPAD\":{\"meta\":{\"clean\":\"sda-COMMENTSWFPAD\",\"dest\":\"sda-COMMENTSWFPAD-iframe\",\"h\":50,\"id\":\"COMMENTSWFPAD\",\"metaSize\":true,\"pos\":\"COMMENTSWFPAD\",\"supports\":{\"exp-ovr\":1,\"exp-push\":1,\"lyr\":1,\"resize-to\":1},\"w\":320}},\"FSRVY\":{\"meta\":{\"clean\":\"sda-FSRVY\",\"dest\":\"sda-FSRVY-iframe\",\"fr\":\"expIfr_exp\",\"id\":\"FSRVY\",\"supports\":{\"lyr\":1}}},\"HPSPON\":{\"filtered\":1,\"sfoptin\":0},\"INARTICLE\":{\"meta\":{\"clean\":\"sda-INARTICLE-base\",\"dest\":\"sda-INARTICLE\",\"fdb\":1,\"flex\":{\"h\":{\"min\":10},\"ratio\":\"1.78x1\",\"w\":{\"min\":10}},\"h\":211,\"id\":\"INARTICLE\",\"supports\":{\"exp-ovr\":1,\"exp-push\":1,\"lyr\":0},\"w\":375,\"metaSize\":true},\"sfoptin\":1},\"INBODYLDRB-1\":{\"meta\":{\"clean\":\"wafer-darla-clean-INBODYLDRB-1\",\"dest\":\"wafer-darla-INBODYLDRB-1\",\"fdb\":1,\"h\":90,\"id\":\"INBODYLDRB-1\",\"metaSize\":true,\"pos\":\"LDRB\",\"supports\":{\"exp-ovr\":1,\"exp-push\":1,\"lyr\":0},\"w\":728},\"sfoptin\":1},\"INBODYLDRB-DISPLAY-PH\":{\"meta\":{\"clean\":\"sda-placeholder\",\"dest\":\"sda-placeholder-iframe\",\"fdb\":1,\"h\":90,\"id\":\"LDRB\",\"metaSize\":true,\"pos\":\"LDRB\",\"supports\":{\"exp-ovr\":1,\"exp-push\":1,\"lyr\":0},\"w\":728}},\"INBODYLDRB-NATIVE-PH\":{\"meta\":{\"clean\":\"sda-placeholder\",\"dest\":\"sda-placeholder-iframe\",\"fdb\":1,\"h\":90,\"id\":\"LDRB\",\"metaSize\":true,\"pos\":\"LDRB\",\"supports\":{\"exp-ovr\":1,\"exp-push\":1,\"lyr\":0},\"w\":728,\"doubleBuffering\":false}},\"INBODYLDRB2-DISPLAY-PH\":{\"meta\":{\"clean\":\"sda-placeholder\",\"dest\":\"sda-placeholder-iframe\",\"fdb\":1,\"h\":90,\"id\":\"LDRB\",\"metaSize\":true,\"pos\":\"LDRB\",\"supports\":{\"exp-ovr\":1,\"exp-push\":1,\"lyr\":0},\"w\":728}},\"INBODYLDRB2-NATIVE-PH\":{\"meta\":{\"clean\":\"sda-placeholder\",\"dest\":\"sda-placeholder-iframe\",\"fdb\":1,\"h\":90,\"id\":\"LDRB\",\"metaSize\":true,\"pos\":\"LDRB\",\"supports\":{\"exp-ovr\":1,\"exp-push\":1,\"lyr\":0},\"w\":728,\"doubleBuffering\":false}},\"INBODYLDRB3-DISPLAY-PH\":{\"meta\":{\"clean\":\"sda-placeholder\",\"dest\":\"sda-placeholder-iframe\",\"fdb\":1,\"h\":90,\"id\":\"LDRB\",\"metaSize\":true,\"pos\":\"LDRB\",\"supports\":{\"exp-ovr\":1,\"exp-push\":1,\"lyr\":0},\"w\":728}},\"INBODYLDRB3-NATIVE-PH\":{\"meta\":{\"clean\":\"sda-placeholder\",\"dest\":\"sda-placeholder-iframe\",\"fdb\":1,\"h\":90,\"id\":\"LDRB\",\"metaSize\":true,\"pos\":\"LDRB\",\"supports\":{\"exp-ovr\":1,\"exp-push\":1,\"lyr\":0},\"w\":728,\"doubleBuffering\":false}},\"INBODYLDRB4-DISPLAY-PH\":{\"meta\":{\"clean\":\"sda-placeholder\",\"dest\":\"sda-placeholder-iframe\",\"fdb\":1,\"h\":90,\"id\":\"LDRB\",\"metaSize\":true,\"pos\":\"LDRB\",\"supports\":{\"exp-ovr\":1,\"exp-push\":1,\"lyr\":0},\"w\":728}},\"INBODYLDRB4-NATIVE-PH\":{\"meta\":{\"clean\":\"sda-placeholder\",\"dest\":\"sda-placeholder-iframe\",\"fdb\":1,\"h\":90,\"id\":\"LDRB\",\"metaSize\":true,\"pos\":\"LDRB\",\"supports\":{\"exp-ovr\":1,\"exp-push\":1,\"lyr\":0},\"w\":728,\"doubleBuffering\":false}},\"INBODYLREC-1\":{\"meta\":{\"clean\":\"wafer-darla-clean-INBODYLREC-1\",\"dest\":\"wafer-darla-INBODYLREC-1\",\"fdb\":1,\"h\":250,\"id\":\"INBODYLREC-1\",\"metaSize\":true,\"pos\":\"LREC\",\"supports\":{\"exp-ovr\":0,\"exp-push\":1,\"lyr\":0},\"w\":300},\"sfoptin\":1},\"INBODYLREC-DISPLAY-PH\":{\"meta\":{\"clean\":\"sda-placeholder\",\"dest\":\"sda-placeholder-iframe\",\"fdb\":1,\"h\":250,\"id\":\"LREC\",\"metaSize\":true,\"pos\":\"LREC\",\"supports\":{\"exp-ovr\":0,\"exp-push\":1,\"lyr\":0},\"w\":300}},\"INBODYLREC-NATIVE-PH\":{\"meta\":{\"clean\":\"sda-placeholder\",\"dest\":\"sda-placeholder-iframe\",\"fdb\":1,\"h\":300,\"id\":\"LREC\",\"metaSize\":false,\"pos\":\"LREC\",\"supports\":{\"exp-ovr\":0,\"exp-push\":1,\"lyr\":0},\"w\":300,\"doubleBuffering\":false,\"flex\":{\"w\":{\"max\":375}}}},\"INBODYLREC2-DISPLAY-PH\":{\"meta\":{\"clean\":\"sda-placeholder\",\"dest\":\"sda-placeholder-iframe\",\"fdb\":1,\"h\":250,\"id\":\"LREC\",\"metaSize\":true,\"pos\":\"LREC\",\"supports\":{\"exp-ovr\":0,\"exp-push\":1,\"lyr\":0},\"w\":300}},\"INBODYLREC2-NATIVE-PH\":{\"meta\":{\"clean\":\"sda-placeholder\",\"dest\":\"sda-placeholder-iframe\",\"fdb\":1,\"h\":300,\"id\":\"LREC\",\"metaSize\":false,\"pos\":\"LREC\",\"supports\":{\"exp-ovr\":0,\"exp-push\":1,\"lyr\":0},\"w\":300,\"doubleBuffering\":false,\"flex\":{\"w\":{\"max\":375}}}},\"INBODYLREC3-DISPLAY-PH\":{\"meta\":{\"clean\":\"sda-placeholder\",\"dest\":\"sda-placeholder-iframe\",\"fdb\":1,\"h\":250,\"id\":\"LREC\",\"metaSize\":true,\"pos\":\"LREC\",\"supports\":{\"exp-ovr\":0,\"exp-push\":1,\"lyr\":0},\"w\":300}},\"INBODYLREC3-NATIVE-PH\":{\"meta\":{\"clean\":\"sda-placeholder\",\"dest\":\"sda-placeholder-iframe\",\"fdb\":1,\"h\":300,\"id\":\"LREC\",\"metaSize\":false,\"pos\":\"LREC\",\"supports\":{\"exp-ovr\":0,\"exp-push\":1,\"lyr\":0},\"w\":300,\"doubleBuffering\":false,\"flex\":{\"w\":{\"max\":375}}}},\"INBODYLREC4-DISPLAY-PH\":{\"meta\":{\"clean\":\"sda-placeholder\",\"dest\":\"sda-placeholder-iframe\",\"fdb\":1,\"h\":250,\"id\":\"LREC\",\"metaSize\":true,\"pos\":\"LREC\",\"supports\":{\"exp-ovr\":0,\"exp-push\":1,\"lyr\":0},\"w\":300}},\"INBODYLREC4-NATIVE-PH\":{\"meta\":{\"clean\":\"sda-placeholder\",\"dest\":\"sda-placeholder-iframe\",\"fdb\":1,\"h\":300,\"id\":\"LREC\",\"metaSize\":false,\"pos\":\"LREC\",\"supports\":{\"exp-ovr\":0,\"exp-push\":1,\"lyr\":0},\"w\":300,\"doubleBuffering\":false,\"flex\":{\"w\":{\"max\":375}}}},\"INBODYMAST-1\":{\"meta\":{\"clean\":\"wafer-darla-clean-INBODYMAST-1\",\"dest\":\"wafer-darla-INBODYMAST-1\",\"fdb\":1,\"h\":250,\"id\":\"INBODYMAST-1\",\"metaSize\":true,\"pos\":\"MAST\",\"supports\":{\"exp-ovr\":1,\"exp-push\":1,\"lyr\":0,\"resize-to\":1},\"w\":970},\"sfoptin\":1},\"INBODYMAST-DISPLAY-PH\":{\"meta\":{\"clean\":\"sda-placeholder\",\"dest\":\"sda-placeholder-iframe\",\"fdb\":1,\"h\":250,\"id\":\"MAST\",\"metaSize\":true,\"pos\":\"MAST\",\"supports\":{\"exp-ovr\":1,\"exp-push\":1,\"lyr\":0,\"resize-to\":1},\"w\":970}},\"INBODYMAST-NATIVE-PH\":{\"meta\":{\"clean\":\"sda-placeholder\",\"dest\":\"sda-placeholder-iframe\",\"fdb\":1,\"h\":250,\"id\":\"MAST\",\"metaSize\":true,\"pos\":\"MAST\",\"supports\":{\"exp-ovr\":1,\"exp-push\":1,\"lyr\":0,\"resize-to\":1},\"w\":970,\"doubleBuffering\":false,\"flex\":{\"w\":{\"max\":1220,\"min\":960}}}},\"INBODYMAST2-DISPLAY-PH\":{\"meta\":{\"clean\":\"sda-placeholder\",\"dest\":\"sda-placeholder-iframe\",\"fdb\":1,\"h\":250,\"id\":\"MAST\",\"metaSize\":true,\"pos\":\"MAST\",\"supports\":{\"exp-ovr\":1,\"exp-push\":1,\"lyr\":0,\"resize-to\":1},\"w\":970}},\"INBODYMAST2-NATIVE-PH\":{\"meta\":{\"clean\":\"sda-placeholder\",\"dest\":\"sda-placeholder-iframe\",\"fdb\":1,\"h\":250,\"id\":\"MAST\",\"metaSize\":true,\"pos\":\"MAST\",\"supports\":{\"exp-ovr\":1,\"exp-push\":1,\"lyr\":0,\"resize-to\":1},\"w\":970,\"doubleBuffering\":false,\"flex\":{\"w\":{\"max\":1220,\"min\":960}}}},\"INBODYMAST3-DISPLAY-PH\":{\"meta\":{\"clean\":\"sda-placeholder\",\"dest\":\"sda-placeholder-iframe\",\"fdb\":1,\"h\":250,\"id\":\"MAST\",\"metaSize\":true,\"pos\":\"MAST\",\"supports\":{\"exp-ovr\":1,\"exp-push\":1,\"lyr\":0,\"resize-to\":1},\"w\":970}},\"INBODYMAST3-NATIVE-PH\":{\"meta\":{\"clean\":\"sda-placeholder\",\"dest\":\"sda-placeholder-iframe\",\"fdb\":1,\"h\":250,\"id\":\"MAST\",\"metaSize\":true,\"pos\":\"MAST\",\"supports\":{\"exp-ovr\":1,\"exp-push\":1,\"lyr\":0,\"resize-to\":1},\"w\":970,\"doubleBuffering\":false,\"flex\":{\"w\":{\"max\":1220,\"min\":960}}}},\"INBODYMAST4-DISPLAY-PH\":{\"meta\":{\"clean\":\"sda-placeholder\",\"dest\":\"sda-placeholder-iframe\",\"fdb\":1,\"h\":250,\"id\":\"MAST\",\"metaSize\":true,\"pos\":\"MAST\",\"supports\":{\"exp-ovr\":1,\"exp-push\":1,\"lyr\":0,\"resize-to\":1},\"w\":970}},\"INBODYMAST4-NATIVE-PH\":{\"meta\":{\"clean\":\"sda-placeholder\",\"dest\":\"sda-placeholder-iframe\",\"fdb\":1,\"h\":250,\"id\":\"MAST\",\"metaSize\":true,\"pos\":\"MAST\",\"supports\":{\"exp-ovr\":1,\"exp-push\":1,\"lyr\":0,\"resize-to\":1},\"w\":970,\"doubleBuffering\":false,\"flex\":{\"w\":{\"max\":1220,\"min\":960}}}},\"LDRB\":{\"meta\":{\"clean\":\"sda-LDRB\",\"dest\":\"sda-LDRB-iframe\",\"fdb\":1,\"h\":90,\"id\":\"LDRB\",\"metaSize\":true,\"pos\":\"LDRB\",\"supports\":{\"exp-ovr\":1,\"exp-push\":1,\"lyr\":0},\"w\":728},\"sfoptin\":1},\"LDRB2\":{\"meta\":{\"clean\":\"sda-LDRB2\",\"dest\":\"sda-LDRB2-iframe\",\"fdb\":1,\"h\":90,\"id\":\"LDRB2\",\"metaSize\":true,\"pos\":\"LDRB2\",\"supports\":{\"exp-ovr\":1,\"exp-push\":1,\"lyr\":0},\"w\":728},\"sfoptin\":1},\"LDRB2-9\":{\"meta\":{\"clean\":\"sda-LDRB2-9\",\"dest\":\"sda-LDRB2-9-iframe\",\"fdb\":1,\"h\":90,\"id\":\"LDRB2-9\",\"metaSize\":true,\"pos\":\"LDRB2-9\",\"supports\":{\"exp-ovr\":1,\"exp-push\":1,\"lyr\":0},\"w\":728},\"sfoptin\":1},\"LREC\":{\"meta\":{\"clean\":null,\"dest\":\"sda-LREC-iframe\",\"fdb\":1,\"h\":250,\"id\":\"LREC\",\"metaSize\":true,\"pos\":\"LREC\",\"supports\":{\"exp-ovr\":0,\"exp-push\":1,\"lyr\":0},\"w\":300},\"sfoptin\":1},\"LREC2\":{\"meta\":{\"clean\":null,\"dest\":\"sda-LREC2-iframe\",\"fdb\":1,\"h\":250,\"id\":\"LREC2\",\"metaSize\":true,\"pos\":\"LREC2\",\"supports\":{\"exp-ovr\":0,\"exp-push\":1,\"lyr\":0},\"w\":300},\"sfoptin\":1},\"LREC3\":{\"meta\":{\"clean\":\"sda-LREC-3\",\"dest\":\"sda-LREC-3-iframe\",\"fdb\":1,\"h\":250,\"id\":\"LREC3\",\"metaSize\":true,\"pos\":\"LREC3\",\"supports\":{\"exp-ovr\":0,\"exp-push\":1,\"lyr\":0},\"w\":300},\"sfoptin\":1},\"LREC3-DISPLAY-PH\":{\"meta\":{\"clean\":\"sda-LREC\",\"dest\":\"sda-LREC-iframe\",\"fdb\":1,\"h\":250,\"id\":\"LREC\",\"metaSize\":true,\"pos\":\"LREC\",\"supports\":{\"exp-ovr\":0,\"exp-push\":1,\"lyr\":0},\"w\":300}},\"LREC3-NATIVE-PH\":{\"meta\":{\"clean\":\"sda-LREC\",\"dest\":\"sda-LREC-iframe\",\"fdb\":1,\"h\":250,\"id\":\"LREC\",\"metaSize\":true,\"pos\":\"LREC\",\"supports\":{\"exp-ovr\":0,\"exp-push\":1,\"lyr\":0},\"w\":300,\"doubleBuffering\":false,\"flex\":{\"h\":{\"max\":312,\"min\":250},\"ratio\":\"1.2x1\",\"w\":{\"align\":\"center\",\"max\":375,\"min\":300}}},\"sfoptin\":1},\"LREC4\":{\"meta\":{\"clean\":\"sda-LREC-4\",\"dest\":\"sda-LREC-4-iframe\",\"fdb\":1,\"h\":250,\"id\":\"LREC4\",\"metaSize\":true,\"pos\":\"LREC4\",\"supports\":{\"exp-ovr\":0,\"exp-push\":1,\"lyr\":0},\"w\":300},\"sfoptin\":1},\"LREC5\":{\"meta\":{\"clean\":\"sda-LREC5\",\"dest\":\"sda-LREC5-iframe\",\"fdb\":1,\"h\":250,\"id\":\"LREC5\",\"metaSize\":true,\"pos\":\"LREC5\",\"supports\":{\"exp-ovr\":0,\"exp-push\":1,\"lyr\":0},\"w\":300},\"sfoptin\":1},\"MAST\":{\"meta\":{\"clean\":\"sda-MAST\",\"dest\":\"sda-MAST-iframe\",\"fdb\":1,\"h\":250,\"id\":\"MAST\",\"metaSize\":true,\"pos\":\"MAST\",\"supports\":{\"exp-ovr\":1,\"exp-push\":1,\"lyr\":0,\"resize-to\":1},\"w\":970},\"sfoptin\":1},\"MAST-DISPLAY-PH\":{\"meta\":{\"clean\":\"sda-MAST-DISPLAY\",\"dest\":\"sda-MAST-DISPLAY\",\"fdb\":1,\"h\":250,\"id\":\"MAST\",\"metaSize\":true,\"pos\":\"MAST\",\"supports\":{\"exp-ovr\":1,\"exp-push\":1,\"lyr\":0,\"resize-to\":1},\"w\":970},\"sfoptin\":1},\"MAST-NATIVE-PH\":{\"meta\":{\"clean\":\"sda-MAST-NATIVE\",\"dest\":\"sda-MAST-NATIVE\",\"fdb\":1,\"h\":250,\"id\":\"MAST\",\"metaSize\":true,\"pos\":\"MAST\",\"supports\":{\"exp-ovr\":1,\"exp-push\":1,\"lyr\":0,\"resize-to\":1},\"w\":970,\"doubleBuffering\":false,\"flex\":{\"w\":{\"max\":1220,\"min\":960}}},\"sfoptin\":1},\"MAST2\":{\"meta\":{\"clean\":\"sda-MAST2\",\"dest\":\"sda-MAST2-iframe\",\"fdb\":1,\"h\":250,\"id\":\"MAST\",\"metaSize\":true,\"pos\":\"MAST\",\"supports\":{\"exp-ovr\":0,\"exp-push\":1,\"lyr\":0,\"resize-to\":1},\"w\":970}},\"MAST2-DISPLAY-PH\":{\"meta\":{\"clean\":\"sda-MAST2-DISPLAY\",\"dest\":\"sda-MAST2-DISPLAY\",\"fdb\":1,\"h\":250,\"id\":\"MAST\",\"metaSize\":true,\"pos\":\"MAST\",\"supports\":{\"exp-ovr\":0,\"exp-push\":1,\"lyr\":0,\"resize-to\":1},\"w\":970},\"sfoptin\":1},\"MAST2-NATIVE-PH\":{\"meta\":{\"clean\":\"sda-MAST2-NATIVE\",\"dest\":\"sda-MAST2-NATIVE\",\"fdb\":1,\"h\":250,\"id\":\"MAST\",\"metaSize\":true,\"pos\":\"MAST\",\"supports\":{\"exp-ovr\":0,\"exp-push\":1,\"lyr\":0,\"resize-to\":1},\"w\":970,\"doubleBuffering\":false,\"flex\":{\"w\":{\"max\":1220,\"min\":960}}},\"sfoptin\":1},\"MOMENTS\":{\"meta\":{\"clean\":\"sda-MOMENTS-base\",\"dest\":\"defaultdestMOMENTS\",\"fdb\":1,\"flex\":{\"h\":{\"min\":568},\"ratio\":\"1x1.78\",\"w\":{\"min\":320}},\"fr\":\"expIfr_exp\",\"h\":667,\"id\":\"MOMENTS\",\"supports\":{\"exp-ovr\":1,\"exp-push\":1,\"resize-to\":1},\"w\":375,\"z\":3}},\"MON\":{\"meta\":{\"clean\":\"sda-MON\",\"dest\":\"sda-MON-iframe\",\"fdb\":1,\"h\":600,\"id\":\"MON\",\"metaSize\":true,\"pos\":\"MON\",\"supports\":{\"exp-ovr\":1,\"exp-push\":1,\"lyr\":0,\"resize-to\":1},\"w\":300},\"sfoptin\":1},\"MON2\":{\"meta\":{\"clean\":\"sda-MON2\",\"dest\":\"sda-MON2-iframe\",\"fdb\":1,\"h\":600,\"id\":\"MON2\",\"metaSize\":true,\"pos\":\"MON2\",\"supports\":{\"exp-ovr\":1,\"exp-push\":1,\"lyr\":0,\"resize-to\":1},\"w\":300}},\"NE1\":{\"meta\":{\"clean\":\"sda-NE1\",\"dest\":\"sda-NE1-iframe\",\"fr\":\"expIfr_exp\",\"h\":35,\"id\":\"NE1\",\"metaSize\":false,\"pos\":\"NE1\",\"staticLayout\":true,\"supports\":{\"exp-ovr\":1,\"exp-push\":1,\"lyr\":1},\"w\":970,\"z\":9}},\"UMU\":{\"meta\":{\"clean\":\"sda-UMU\",\"dest\":\"sda-UMU-iframe\",\"fr\":\"expIfr_exp\",\"h\":32,\"id\":\"UMU\",\"metaSize\":false,\"pos\":\"UMU\",\"staticLayout\":true,\"supports\":{\"exp-ovr\":1,\"exp-push\":1,\"lyr\":1},\"w\":1220,\"z\":1000}},\"WFPAD\":{\"meta\":{\"clean\":\"sda-WFPAD\",\"dest\":\"sda-WFPAD-iframe\",\"h\":50,\"id\":\"WFPAD\",\"metaSize\":true,\"pos\":\"WFPAD\",\"supports\":{\"exp-ovr\":1,\"exp-push\":1,\"lyr\":1,\"resize-to\":1},\"w\":320},\"sfoptin\":0},\"WFPAD-DISPLAY-PH\":{\"meta\":{\"clean\":\"sda-WFPAD-DISPLAY\",\"dest\":\"sda-WFPAD-DISPLAY\",\"h\":50,\"id\":\"WFPAD\",\"metaSize\":true,\"pos\":\"WFPAD\",\"supports\":{\"exp-ovr\":1,\"exp-push\":1,\"lyr\":1,\"resize-to\":1},\"w\":320,\"flex\":{\"h\":{\"min\":50}}},\"sfoptin\":0},\"WFPAD-NATIVE-PH\":{\"meta\":{\"clean\":\"sda-WFPAD-NATIVE\",\"dest\":\"sda-WFPAD-NATIVE\",\"h\":50,\"id\":\"WFPAD\",\"metaSize\":true,\"pos\":\"WFPAD\",\"supports\":{\"exp-ovr\":1,\"exp-push\":1,\"lyr\":1,\"resize-to\":1},\"w\":320,\"doubleBuffering\":false,\"flex\":{\"h\":{\"max\":100,\"min\":80},\"w\":{\"max\":800,\"min\":300}}},\"sfoptin\":0},\"WFPAD2\":{\"meta\":{\"clean\":\"sda-WFPAD2\",\"dest\":\"sda-WFPAD2-iframe\",\"h\":50,\"id\":\"WFPAD2\",\"metaSize\":true,\"pos\":\"WFPAD2\",\"supports\":{\"exp-ovr\":1,\"exp-push\":1,\"lyr\":1,\"resize-to\":1},\"w\":320}},\"WIDGET\":{\"meta\":{\"clean\":\"sda-WIDGET\",\"dest\":\"sda-WIDGET-iframe\",\"fdb\":1,\"h\":450,\"id\":\"WIDGET\",\"metaSize\":false,\"pos\":\"WIDGET\",\"supports\":{\"exp-ovr\":1,\"exp-push\":1,\"lyr\":0,\"resize-to\":1},\"w\":750},\"sfoptin\":1},\"WIDGETA\":{\"meta\":{\"clean\":\"sda-WIDGETA\",\"dest\":\"sda-WIDGETA-iframe\",\"fdb\":1,\"h\":310,\"id\":\"WIDGETA\",\"metaSize\":false,\"pos\":\"WIDGETA\",\"supports\":{\"exp-ovr\":1,\"exp-push\":1},\"w\":343},\"sfoptin\":1},\"XFPAD\":{\"filtered\":1,\"sfoptin\":0}},\n",
      "            rotateIndexPageAds: undefined,\n",
      "            rotation: {},\n",
      "            strings: {\"advertisement\":\"廣告\"},\n",
      "            videoPublisherBlob: \"lu:0;lpstaid:3ef0db31-705c-4ff1-ae51-78c373071f7c;bucket:news-TW-zh-Hant-TW-def;pt:content;ver:article;pd:non_modal;pct:story\",\n",
      "            viewerEnableLRECForShowBodyAdsFalse: undefined,\n",
      "            viewerGAMPositionMeta: undefined,\n",
      "            viewerGeminiSMAdConfig: {},\n",
      "            viewerGeminiSMAdEnabled: undefined,\n",
      "            viewerPositionMeta: undefined,\n",
      "            viewerResetAutoEventOnClose: undefined,\n",
      "            viewerSMAdEnabled: undefined,\n",
      "            viewerViewportAdFetch: {},\n",
      "            viewerWfpad2AdEnabled: undefined,\n",
      "            viewerWfpadAdEnabled: undefined,\n",
      "            viewerWfpadInVideoEnabled: undefined,\n",
      "        };\n",
      "\n",
      "        // expose adsConfig for homepage-viewer client\n",
      "        if (!w.adsConfig) {\n",
      "            w.adsConfig = adsConfig;\n",
      "        }\n",
      "    }(window));\n",
      "         </script>\n",
      "         <script id=\"wafer-caas-config\" type=\"application/json\">\n",
      "          {\n",
      "  \"caasUrl\": \"https://news.yahoo.com/caas/content/article/\",\n",
      "  \"contextParams\": \"device=smartphone&lang=zh-Hant-TW&region=TW&site=news&adidprefix=sda-&appid=article2_mweb&features=darkmode,editorialUpsells,enableAdSlotsForTWHK,enableAdsMon,enableBodyAdsCharCount,enableGAMAds,enableGAMEdgeToEdge,enableInArticleAd,enablePlayerComparisonRedesign,enableSpaceIdMappingWithPath,enableXrayEntityAboutFacts,filterNonGdprEmbeds,getCommerceModulesFromRmp,isSeamlessArticle,liveBlogPolling,noRapidClickClass,outStream&bucket=news-TW-zh-Hant-TW-def&bot=0&partner=none&hostname=tw.news.yahoo.com\"\n",
      "}\n",
      "         </script>\n",
      "        </div>\n",
      "       </div>\n",
      "      </div>\n",
      "      <div class=\"Mx(20px) Mb(24px) Mt(24px)\" id=\"postArticle\">\n",
      "       <div class=\"wafer-rapid-module\" id=\"module-articleChallenge\">\n",
      "        <div class=\"wafer-fetch-container wafer-fetch\" data-wf-body='{\"m_id\":\"tdv2-wafer-loyalty\",\"ctrl\":\"ArticleChallenge\",\"m_mode\":\"json\",\"config\":{\"enableDarkMode\":true,\"xhrPathPrefix\":\"/nel_ms/_rcv/remote\",\"clientPageContext\":\"\",\"articleUuid\":\"3ef0db31-705c-4ff1-ae51-78c373071f7c\",\"challengeTags\":[],\"pageContext\":{\"lu\":\"0\",\"pageType\":\"content\",\"site\":\"news\",\"appName\":\"article\",\"pageDesign\":\"non_modal\",\"pageContentType\":\"story\",\"hashtag\":\"news;game;ai;遊戲;xbox\",\"lmsid\":\"a0V6T00000KBLWzUAP\",\"revsp\":\"yahoo__374\",\"lpstaid\":\"3ef0db31-705c-4ff1-ae51-78c373071f7c\",\"bucket\":\"news-TW-zh-Hant-TW-def\"},\"ncpQueryParams\":{\"geminiDedupeToken\":\"\"}}}' data-wf-cache-strategy=\"networkFirst\" data-wf-replace=\"1\" data-wf-retry-count=\"2\" data-wf-retry-reset-for-state-change=\"2\" data-wf-timeout=\"5000\" data-wf-trigger=\"viewport\" data-wf-trigger-offset=\"600 0\" data-wf-url=\"/nel_ms/_rcv/remote?m_id=tdv2-wafer-loyalty&amp;ctrl=ArticleChallenge&amp;module=articleChallenge&amp;site=news&amp;device=smartphone&amp;lang=zh-Hant-TW&amp;region=TW&amp;bucket=news-TW-zh-Hant-TW-def&amp;rid=1r634dljsv6bv&amp;m_mode=json\" id=\"wafer-articleChallenge\">\n",
      "         <div class=\"pholder-bg wafer-fetch-error_D(n) grid\">\n",
      "          <div class=\"pholder\">\n",
      "           <div class=\"ph-title\">\n",
      "           </div>\n",
      "           <div class=\"ph-block\">\n",
      "           </div>\n",
      "          </div>\n",
      "         </div>\n",
      "        </div>\n",
      "       </div>\n",
      "       <div class=\"wafer-rapid-module\" id=\"module-appDrive\">\n",
      "        <script>\n",
      "         window.performance.mark('appDrive');\n",
      "                    window.performance.measure('appDriveDone','PageStart','appDrive');\n",
      "        </script>\n",
      "       </div>\n",
      "       <div class=\"\" id=\"module-mktIframe\">\n",
      "        <iframe frameborder=\"0\" height=\"104px\" id=\"mktIframe\" scrolling=\"no\" src=\"https://tw.buy.yahoo.com/smartbanner/article?site=news&amp;device=smartphone&amp;bucketName=news-TW-zh-Hant-TW-def&amp;spaceId=964316273&amp;articleId=3ef0db31-705c-4ff1-ae51-78c373071f7c\" width=\"100%\">\n",
      "        </iframe>\n",
      "       </div>\n",
      "      </div>\n",
      "      <div class=\"caas-comment Mt(8px) Mx(20px) Mb(28px) H(24px) Fz(14px) Fw(700) Lh(1.71) C(varTitleColor) Ta(c) Pt(12px) Bdc($headerTitleTopBorderColorMobile) Bds(s) Bdw($headerTitleSolidTopBorderWidthCommentsMobile)\" id=\"module-view-comments\">\n",
      "       <span class=\"D(ib) Mend(8px) Bg($commentBubbleImg) H(20px) W(20px) Va(m) Bgz(20px,20px)\">\n",
      "       </span>\n",
      "       <span class=\"D(ib)\">\n",
      "        檢視留言\n",
      "       </span>\n",
      "       <span class=\"reactions-count caas-dynamic-count dynamic-count-updated\" data-id=\"3ef0db31-705c-4ff1-ae51-78c373071f7c\" data-type=\"commentsCount\">\n",
      "        0\n",
      "       </span>\n",
      "      </div>\n",
      "      <div class=\"wafer-fetch-container wafer-fetch Pos(r) Mih(1px) wafer-rapid-module My(24px)\" data-wf-cache-strategy=\"cacheFirst\" data-wf-cache-ttl=\"3600\" data-wf-retry-count=\"2\" data-wf-timeout=\"5000\" data-wf-trigger=\"viewport\" data-wf-trigger-offset=\"600 0\" data-wf-url=\"/fp_ms/_rcv/remote?m_mode=json&amp;ctrl=FooterMobileSeamless&amp;m_id=react-wafer-footer&amp;module=footer&amp;site=news&amp;device=smartphone&amp;lang=zh-Hant-TW&amp;region=TW&amp;rid=1r634dljsv6bv\" id=\"seamless-footer-wrapper\">\n",
      "      </div>\n",
      "      <div class=\"col-1\">\n",
      "       <div class=\"Mx(20px) Mb(24px) Ta(c) Mx(a)\" data-content=\"廣告\" id=\"sda-LREC2-iframe\">\n",
      "        <div class=\"sdaLite_D(n) D(f) Ai(c) Jc(c) Bgc(#f5f8fa) Fz(12px) C(#6e7780) H(270px) Mx(a)\">\n",
      "         廣告\n",
      "        </div>\n",
      "       </div>\n",
      "       <div class=\"wafer-rapid-module Mx(20px) Mb(24px)\" id=\"module-originalContents\">\n",
      "        <div class=\"wafer-fetch-container wafer-fetch\" data-wf-cache-strategy=\"networkFirst\" data-wf-replace=\"1\" data-wf-retry-count=\"2\" data-wf-retry-reset-for-state-change=\"2\" data-wf-state-body='{\"m_id\":\"tdv2-wafer-content-list\",\"ctrl\":\"TopicItems\",\"m_mode\":\"json\",\"config\":{\"ads\":{\"gemini\":{\"adsEnabled\":false}},\"categoryName\":\"recommendation\",\"extraListClasses\":\"List(n) My(0) W(100%)\",\"headerConfig\":{\"headerClasses\":\"C(varBatcave) Fxg(1) Pt(14px) Fz(20px) Tt(u) Bdc(varBatcave)\",\"headerIconClasses\":\"\",\"headerLinkClasses\":\"\",\"headerWrapperClasses\":\"D(f) Mb(24px)\",\"solidTopBorderClasses\":\"Bds(s) Bdc(headerTitleTopBorderColorMobile) Bdw(headerTitleSolidTopBorderWidthMobile)\",\"title\":\"RELATED_STORIES\"},\"i13n\":{\"elm\":\"hdln\",\"sec\":\"rel-original\",\"subsec\":\"\"},\"itemClasses\":{\"actionBarParticipantClasses\":\"C(varDolphin)\",\"actionBarRatingClasses\":\"C(varBatcave) Mend(12px)\",\"actionBarWrapperClasses\":\"action-bar D(f) Fld(r) Fxw(w) Jc(sb) Ai(c) Mih(19px) Mt(8px) W($topicItemsBarActionWidthMobileTW) Pos(a) B(0) End(0) Z(3)\",\"commentsIconClasses\":\"Mend(4px) Fill(varDolphin) reactions:h_Fill($titleHoverColor) Va(m)\",\"itemImgClasses\":\"W(92px) D(b) Mah(92px) Bdrs(8px)\",\"itemImgWrapperClasses\":\"Fl(start) Ov(h) Z(0) Or(minusOne) Mend(16px) Pos(r)\",\"itemLinkClasses\":\"LineClamp(2,60px) Mih(20px)\",\"itemProviderClasses\":\"C(varBatcave) Fw(600) Mb(4px)\",\"itemSummaryClasses\":\"D(n)\",\"itemTitleClasses\":\"C(varBatcave) Fw(700) Fz(16px) M(0) Lh(1.25em)\",\"originalContentTypeClasses\":\"D(ib) C(#5d5eff) Fz(12px) Fw(500)\"},\"itemConfig\":{\"showActionBar\":true,\"showComments\":false,\"showImgInside\":false,\"showImgOutside\":true,\"showParticipant\":true,\"showPlaceholderImage\":true,\"showPlayIcon\":false,\"showProviderLogo\":false,\"showRatingAndReleaseDate\":true,\"showShareButton\":false,\"showShareIcon\":false,\"showSummary\":false},\"itemWrapperClassNames\":\"W(100%) Mb(20px) Bxz(bb) Fl(start) H(92px) Pos(r)\",\"listId\":\"\",\"listItemComponent\":{\"sports\":\"OriginalContentSportsItem\"},\"mainItemsCount\":10,\"minItemCount\":0,\"ncpQueryParams\":{\"count\":10,\"date\":\"\",\"imageSizes\":\"114x114\",\"property\":\"TOPIC,PK,POLL,YBRAIN,MOVIE,SPORT\",\"snippetCount\":10,\"adsPublisherUrl\":\"https://tw.news.yahoo.com/%E5%BE%AE%E8%BB%9F%E6%96%B0%E9%81%8A%E6%88%B2ai%E6%A8%A1%E5%9E%8B%E3%80%8Cmuse%E3%80%8D%E4%BA%AE%E7%9B%B8%EF%BC%81%E5%8D%B3%E6%99%82%E7%94%9F%E6%88%90%E9%81%8A%E6%88%B2%E7%95%AB%E9%9D%A2-%E5%8D%BB%E5%BC%95%E7%88%86%E7%8E%A9%E5%AE%B6%E6%AD%A3%E5%8F%8D%E8%AB%96%E6%88%B0-051114570.html\",\"dedupUuids\":\"[state.dedupUuids]\",\"device\":\"smartphone\",\"spaceId\":\"964316273\",\"uuid\":\"3ef0db31-705c-4ff1-ae51-78c373071f7c\",\"geminiDedupeToken\":\"\"},\"originalContentEnabled\":true,\"xhrPathPrefix\":\"/nel_ms/_rcv/remote\",\"clientPageContext\":\"\",\"pageContext\":{\"lu\":\"0\",\"pageType\":\"content\",\"site\":\"news\",\"appName\":\"article\",\"pageDesign\":\"non_modal\",\"pageContentType\":\"story\",\"hashtag\":\"news;game;ai;遊戲;xbox\",\"lmsid\":\"a0V6T00000KBLWzUAP\",\"revsp\":\"yahoo__374\",\"lpstaid\":\"3ef0db31-705c-4ff1-ae51-78c373071f7c\",\"bucket\":\"news-TW-zh-Hant-TW-def\"}}}' data-wf-timeout=\"5000\" data-wf-trigger=\"viewport\" data-wf-trigger-offset=\"600 0\" data-wf-url=\"/nel_ms/_rcv/remote?m_id=tdv2-wafer-content-list&amp;ctrl=TopicItems&amp;module=originalContents&amp;site=news&amp;device=smartphone&amp;lang=zh-Hant-TW&amp;region=TW&amp;bucket=news-TW-zh-Hant-TW-def&amp;rid=1r634dljsv6bv&amp;m_mode=json\" id=\"wafer-originalContents\">\n",
      "         <div class=\"pholder-bg wafer-fetch-error_D(n) grid\">\n",
      "          <div class=\"pholder\">\n",
      "           <div class=\"ph-title\">\n",
      "           </div>\n",
      "           <div class=\"ph-block\">\n",
      "           </div>\n",
      "          </div>\n",
      "         </div>\n",
      "        </div>\n",
      "       </div>\n",
      "       <div class=\"wafer-rapid-module Mx(20px) Mb(24px)\" id=\"module-relatedStories\">\n",
      "        <div class=\"wafer-fetch-container wafer-fetch\" data-wf-cache-strategy=\"networkFirst\" data-wf-replace=\"1\" data-wf-retry-count=\"2\" data-wf-retry-reset-for-state-change=\"2\" data-wf-state-body='{\"m_id\":\"tdv2-wafer-content-list\",\"ctrl\":\"TopicItems\",\"m_mode\":\"json\",\"config\":{\"adItemClasses\":{\"itemContentClasses\":\"Bdrs(8px) Mih(120px)\",\"itemImgWrapperClasses\":\"Pos(r) Ov(h) Fxs(0) Z(0) Bdrs(8px)\",\"itemProviderClasses\":\"C($c-fuji-grey-h) Pt(12px) Pb(11px) D(f) Ai(c) Fz(12px) Fw(600) Lh(15px) Z(2)\"},\"ads\":{\"gemini\":{\"adsFrequency\":2,\"adsMultiModuleDedupeEnabled\":true,\"adsType\":\"STRM,STRM_CONTENT\",\"adsStartIndex\":2,\"adsTimeout\":450,\"adsSectionId\":5413267,\"adsSlotsEnabled\":true,\"spaceId\":964316273}},\"categoryName\":\"relatedTopicContentTW\",\"configName\":\"TopicItems/componentTopicItemsTWDarkmode\",\"forceLoadImage\":false,\"isFirstModuleWithGemini\":true,\"itemClasses\":{\"itemProviderClasses\":\"C($providerColor) Mb(6px) Mt(14px) Fw(500) Fz(12px) Lts(0.5px)\",\"providerNameClasses\":\"D(ib) Mt(2px) Mb(4px)\"},\"itemConfig\":{\"showComments\":false,\"showPlayIcon\":true,\"showProviderLogo\":false},\"lazyLoadPubDate\":true,\"ncpQueryParams\":{\"configId\":\"contentsim-nrtcoview\",\"count\":4,\"snippetCount\":4,\"adsPublisherUrl\":\"https://tw.news.yahoo.com/%E5%BE%AE%E8%BB%9F%E6%96%B0%E9%81%8A%E6%88%B2ai%E6%A8%A1%E5%9E%8B%E3%80%8Cmuse%E3%80%8D%E4%BA%AE%E7%9B%B8%EF%BC%81%E5%8D%B3%E6%99%82%E7%94%9F%E6%88%90%E9%81%8A%E6%88%B2%E7%95%AB%E9%9D%A2-%E5%8D%BB%E5%BC%95%E7%88%86%E7%8E%A9%E5%AE%B6%E6%AD%A3%E5%8F%8D%E8%AB%96%E6%88%B0-051114570.html\",\"dedupUuids\":\"[state.dedupUuids]\",\"device\":\"smartphone\",\"spaceId\":\"964316273\",\"uuid\":\"3ef0db31-705c-4ff1-ae51-78c373071f7c\",\"geminiDedupeToken\":\"\"},\"useContentSite\":true,\"adMeta\":{\"adFeedbackToastTarget\":\"#adfeedback-article-toast\",\"enableAdDropdown\":false,\"enableAdFeedback\":false,\"enableAdFeedbackV2\":false,\"isArticlePage\":true,\"enableTaboolaAds\":true,\"taboolaPosition\":{\"mode\":\"stream-twhk-news-d\",\"placement\":\"taboola-stream1\",\"region\":\"index\",\"targetType\":\"mix\"},\"enableGeminiProvider\":false},\"columnAdItemClasses\":{\"itemProviderTitleClasses\":\"Fz(12px) Fw(500) C(varDolphin) Mb(4px)\"},\"columnItemConfig\":{\"playIconWrapperClasses\":\"Pos(a) Start(50%) T(50%) Translate(translate50PerNeg) Bgi(simpleListItemPlayIconBgGradient) Bxsh(simpleListItemPlayIconBoxShadow) P(10px) Bdrs(50%)\",\"providerNameClasses\":\"Fz(12px) Fw(500) C(varDolphin)\",\"showPlayIcon\":true,\"showProviderLogo\":false,\"showShareButton\":false},\"headerConfig\":{\"showProviderInTitle\":false,\"title\":\"ALSO_VIEW\"},\"i13n\":{\"subsec\":\"strm-main\"},\"columnItemClasses\":{\"itemImgWrapperClasses\":\"Fl(end) Ov(h) Z(0) Or(minusOne) Mend(16px) Pos(r)\"},\"originalContentEnabled\":false,\"xhrPathPrefix\":\"/nel_ms/_rcv/remote\",\"bucket\":\"news-TW-zh-Hant-TW-def\",\"clientPageContext\":\"\",\"pageContext\":{\"lu\":\"0\",\"pageType\":\"content\",\"site\":\"news\",\"appName\":\"article\",\"pageDesign\":\"non_modal\",\"pageContentType\":\"story\",\"hashtag\":\"news;game;ai;遊戲;xbox\",\"lmsid\":\"a0V6T00000KBLWzUAP\",\"revsp\":\"yahoo__374\",\"lpstaid\":\"3ef0db31-705c-4ff1-ae51-78c373071f7c\",\"bucket\":\"news-TW-zh-Hant-TW-def\"}}}' data-wf-timeout=\"5000\" data-wf-trigger=\"viewport\" data-wf-trigger-offset=\"600 0\" data-wf-url=\"/nel_ms/_rcv/remote?m_id=tdv2-wafer-content-list&amp;ctrl=TopicItems&amp;module=relatedStories&amp;site=news&amp;device=smartphone&amp;lang=zh-Hant-TW&amp;region=TW&amp;bucket=news-TW-zh-Hant-TW-def&amp;rid=1r634dljsv6bv&amp;m_mode=json\" id=\"wafer-relatedStories\">\n",
      "        </div>\n",
      "       </div>\n",
      "       <div class=\"Mx(0)! Mx(20px) Mb(24px)\" id=\"module-cluster\">\n",
      "        <ul class=\"M(0) P(0) Pos(r)\" id=\"related-content-wrapper\">\n",
      "         <li class=\"List(n)\" id=\"related-article-container-1e4bdcb7-72a6-3d2f-bcbe-22eb18a4a77b\">\n",
      "          <div class=\"wafer-caas\" data-comments-id=\"module-view-comments-1e4bdcb7-72a6-3d2f-bcbe-22eb18a4a77b\" data-wf-caas-load-assets=\"1\" data-wf-caas-target=\".related-content-inner\" data-wf-caas-timeout=\"4000\" data-wf-caas-trigger=\"viewportWithPrefetch\" data-wf-caas-uuid=\"1e4bdcb7-72a6-3d2f-bcbe-22eb18a4a77b\" data-wf-caas-wrapper=\"related-content-wrapper\" data-wf-trigger-offset=\"300 0\" id=\"related-article-0\">\n",
      "           <div class=\"wafer-caas-wrapper D(n) wafer-caas-complete_D(b)\">\n",
      "            <div class=\"separator Ai(c) D(n) wafer-caas-complete_D(f) My(32px) H(36px) Jc(c)\">\n",
      "             <div class=\"D(ib) Bgc(varDolphin) W(70px) H(1px) Bd(0) Mx(0) My(25px)\">\n",
      "             </div>\n",
      "             <div class=\"D(ib) C(varDolphin) Fz(14px) Fw(b) Px(10px) Tt(U)\">\n",
      "              繼續閱讀下一則新聞\n",
      "             </div>\n",
      "             <div class=\"D(ib) Bgc(varDolphin) W(70px) H(1px) Bd(0) Mx(0) My(25px)\">\n",
      "             </div>\n",
      "            </div>\n",
      "            <div class=\"related-content-inner Mb(40px) Mih(500px)\">\n",
      "            </div>\n",
      "            <div class=\"caas-comment Pos(r) Start(75px)\" id=\"community-bar-1e4bdcb7-72a6-3d2f-bcbe-22eb18a4a77b\">\n",
      "            </div>\n",
      "           </div>\n",
      "          </div>\n",
      "          <div class=\"D(n) related-content-lazyload\">\n",
      "           <div class=\"recirc-wrapper Mx(20px) Mb(24px)\" id=\"related-content-recirc-wrapper-1e4bdcb7-72a6-3d2f-bcbe-22eb18a4a77b\">\n",
      "            <div class=\"wafer-fetch related-content-recirc\" data-wf-body='{\"ctrl\":\"TopicItems\",\"m_id\":\"tdv2-wafer-content-list\",\"m_mode\":\"json\",\"config\":{\"configName\":\"TopicItems/componentTopicItemsTWDarkmode\",\"categoryName\":\"relatedTopicContentTW\",\"ads\":{\"gemini\":{\"adsFrequency\":2,\"adsStartIndex\":2,\"spaceId\":\"964316273\",\"adsSectionId\":5413267,\"adsSlotsEnabled\":true,\"adsTimeout\":450}},\"adItemClasses\":{\"itemContentClasses\":\"Bdrs(8px) Mih(120px)\",\"itemProviderClasses\":\"C($c-fuji-grey-h) Pt(12px) Pb(11px) D(f) Ai(c) Fz(12px) Fw(600) Lh(15px) Z(2)\",\"itemImgWrapperClasses\":\"Pos(r) Ov(h) Fxs(0) Z(0) Bdrs(8px)\"},\"ncpQueryParams\":{\"count\":4,\"snippetCount\":4,\"uuid\":\"1e4bdcb7-72a6-3d2f-bcbe-22eb18a4a77b\",\"dedupUuids\":\"1e4bdcb7-72a6-3d2f-bcbe-22eb18a4a77b,67e9433f-38cd-3643-aa8c-fe63cd6a311d,e0748b11-0292-3996-9192-fc7c5a2c6ba3,c6205a96-f836-39a2-99ed-0fef93e0ac65,158821c4-4937-34eb-8ca2-c17d786afdd5,3ef0db31-705c-4ff1-ae51-78c373071f7c\",\"spaceId\":\"964316273\",\"geminiDedupeToken\":\"\",\"device\":\"smartphone\",\"site\":\"news\"},\"forceLoadImage\":true,\"columnAdItemClasses\":{\"itemProviderTitleClasses\":\"Fz(12px) Fw(500) C(varDolphin) Mb(4px)\"},\"columnItemConfig\":{\"playIconWrapperClasses\":\"Pos(a) Start(50%) T(50%) Translate(translate50PerNeg) Bgi(simpleListItemPlayIconBgGradient) Bxsh(simpleListItemPlayIconBoxShadow) P(10px) Bdrs(50%)\",\"providerNameClasses\":\"Fz(12px) Fw(500) C(varDolphin)\",\"showPlayIcon\":true,\"showProviderLogo\":false},\"adMeta\":{\"enableGeminiProvider\":false,\"enableTaboolaAds\":true,\"taboolaPosition\":{\"mode\":\"stream-twhk-news-d\",\"region\":\"index\",\"targetType\":\"mix\",\"placement\":\"taboola-stream2\"}},\"bucket\":\"news-TW-zh-Hant-TW-def\"}}' data-wf-replace=\"1\" data-wf-trigger=\"viewport\" data-wf-trigger-offset=\"300 0\" data-wf-url=\"/nel_ms/_rcv/remote?m_id=tdv2-wafer-content-list&amp;ctrl=TopicItems&amp;site=news&amp;lang=zh-Hant-TW&amp;region=TW&amp;prid=1r634dljsv6bv&amp;bucket=&amp;m_mode=json\">\n",
      "            </div>\n",
      "           </div>\n",
      "           <div class=\"wafer-benji Ta(c) Mb(24px)\" data-wf-benji-config='{\"positions\":{\"LREC3-1e4bdcb7-72a6-3d2f-bcbe-22eb18a4a77b\":{\"id\":\"LREC3-1e4bdcb7-72a6-3d2f-bcbe-22eb18a4a77b\",\"inView\":\"onLoad\",\"kvs\":{\"loc\":\"mid_center_11\"},\"region\":\"index\",\"size\":[300,250],\"path\":\"/22888152279/tw/ynews/ros/mw/tw_ynews_ros_mw_mid_center\"}}}' data-wf-benji-page-context='{\"pt\":\"content\",\"hashtag\":\"news;game;ai;遊戲;xbox\",\"pd\":\"non_modal\",\"pct\":\"story\",\"spaceid\":\"964316273\"}' data-wf-margin=\"400 0\" data-wf-trigger=\"viewport\" id=\"LREC3-1e4bdcb7-72a6-3d2f-bcbe-22eb18a4a77b\">\n",
      "            <div class=\"gam-placeholder sdaLite_D(n)\">\n",
      "             廣告\n",
      "            </div>\n",
      "           </div>\n",
      "          </div>\n",
      "         </li>\n",
      "         <li class=\"List(n)\" id=\"related-article-container-67e9433f-38cd-3643-aa8c-fe63cd6a311d\">\n",
      "          <div class=\"wafer-caas\" data-comments-id=\"module-view-comments-67e9433f-38cd-3643-aa8c-fe63cd6a311d\" data-wf-caas-load-assets=\"1\" data-wf-caas-target=\".related-content-inner\" data-wf-caas-timeout=\"4000\" data-wf-caas-trigger=\"viewportWithPrefetch\" data-wf-caas-uuid=\"67e9433f-38cd-3643-aa8c-fe63cd6a311d\" data-wf-caas-wrapper=\"related-content-wrapper\" data-wf-trigger-offset=\"300 0\" id=\"related-article-1\">\n",
      "           <div class=\"wafer-caas-wrapper D(n) wafer-caas-complete_D(b)\">\n",
      "            <div class=\"separator Ai(c) D(n) wafer-caas-complete_D(f) My(32px) H(36px) Jc(c)\">\n",
      "             <div class=\"D(ib) Bgc(varDolphin) W(70px) H(1px) Bd(0) Mx(0) My(25px)\">\n",
      "             </div>\n",
      "             <div class=\"D(ib) C(varDolphin) Fz(14px) Fw(b) Px(10px) Tt(U)\">\n",
      "              繼續閱讀下一則新聞\n",
      "             </div>\n",
      "             <div class=\"D(ib) Bgc(varDolphin) W(70px) H(1px) Bd(0) Mx(0) My(25px)\">\n",
      "             </div>\n",
      "            </div>\n",
      "            <div class=\"related-content-inner Mb(40px) Mih(500px)\">\n",
      "            </div>\n",
      "            <div class=\"caas-comment Pos(r) Start(75px)\" id=\"community-bar-67e9433f-38cd-3643-aa8c-fe63cd6a311d\">\n",
      "            </div>\n",
      "           </div>\n",
      "          </div>\n",
      "          <div class=\"D(n) related-content-lazyload\">\n",
      "           <div class=\"recirc-wrapper Mx(20px) Mb(24px)\" id=\"related-content-recirc-wrapper-67e9433f-38cd-3643-aa8c-fe63cd6a311d\">\n",
      "            <div class=\"wafer-fetch related-content-recirc\" data-wf-body='{\"ctrl\":\"TopicItems\",\"m_id\":\"tdv2-wafer-content-list\",\"m_mode\":\"json\",\"config\":{\"configName\":\"TopicItems/componentTopicItemsTWDarkmode\",\"categoryName\":\"relatedTopicContentTW\",\"ads\":{\"gemini\":{\"adsFrequency\":2,\"adsStartIndex\":2,\"spaceId\":\"964316273\",\"adsSectionId\":5413267,\"adsSlotsEnabled\":true,\"adsTimeout\":450}},\"adItemClasses\":{\"itemContentClasses\":\"Bdrs(8px) Mih(120px)\",\"itemProviderClasses\":\"C($c-fuji-grey-h) Pt(12px) Pb(11px) D(f) Ai(c) Fz(12px) Fw(600) Lh(15px) Z(2)\",\"itemImgWrapperClasses\":\"Pos(r) Ov(h) Fxs(0) Z(0) Bdrs(8px)\"},\"ncpQueryParams\":{\"count\":4,\"snippetCount\":4,\"uuid\":\"67e9433f-38cd-3643-aa8c-fe63cd6a311d\",\"dedupUuids\":\"1e4bdcb7-72a6-3d2f-bcbe-22eb18a4a77b,67e9433f-38cd-3643-aa8c-fe63cd6a311d,e0748b11-0292-3996-9192-fc7c5a2c6ba3,c6205a96-f836-39a2-99ed-0fef93e0ac65,158821c4-4937-34eb-8ca2-c17d786afdd5,3ef0db31-705c-4ff1-ae51-78c373071f7c\",\"spaceId\":\"964316273\",\"geminiDedupeToken\":\"\",\"device\":\"smartphone\",\"site\":\"news\"},\"forceLoadImage\":true,\"columnAdItemClasses\":{\"itemProviderTitleClasses\":\"Fz(12px) Fw(500) C(varDolphin) Mb(4px)\"},\"columnItemConfig\":{\"playIconWrapperClasses\":\"Pos(a) Start(50%) T(50%) Translate(translate50PerNeg) Bgi(simpleListItemPlayIconBgGradient) Bxsh(simpleListItemPlayIconBoxShadow) P(10px) Bdrs(50%)\",\"providerNameClasses\":\"Fz(12px) Fw(500) C(varDolphin)\",\"showPlayIcon\":true,\"showProviderLogo\":false},\"adMeta\":{\"enableGeminiProvider\":false,\"enableTaboolaAds\":true,\"taboolaPosition\":{\"mode\":\"stream-twhk-news-d\",\"region\":\"index\",\"targetType\":\"mix\",\"placement\":\"taboola-stream3\"}},\"bucket\":\"news-TW-zh-Hant-TW-def\"}}' data-wf-replace=\"1\" data-wf-trigger=\"viewport\" data-wf-trigger-offset=\"300 0\" data-wf-url=\"/nel_ms/_rcv/remote?m_id=tdv2-wafer-content-list&amp;ctrl=TopicItems&amp;site=news&amp;lang=zh-Hant-TW&amp;region=TW&amp;prid=1r634dljsv6bv&amp;bucket=&amp;m_mode=json\">\n",
      "            </div>\n",
      "           </div>\n",
      "           <div class=\"wafer-benji Ta(c) Mb(24px)\" data-wf-benji-config='{\"positions\":{\"LREC4-67e9433f-38cd-3643-aa8c-fe63cd6a311d\":{\"id\":\"LREC4-67e9433f-38cd-3643-aa8c-fe63cd6a311d\",\"inView\":\"onLoad\",\"kvs\":{\"loc\":\"mid_center_12\"},\"region\":\"index\",\"size\":[300,250],\"path\":\"/22888152279/tw/ynews/ros/mw/tw_ynews_ros_mw_mid_center\"}}}' data-wf-benji-page-context='{\"pt\":\"content\",\"hashtag\":\"news;game;ai;遊戲;xbox\",\"pd\":\"non_modal\",\"pct\":\"story\",\"spaceid\":\"964316273\"}' data-wf-margin=\"400 0\" data-wf-trigger=\"viewport\" id=\"LREC4-67e9433f-38cd-3643-aa8c-fe63cd6a311d\">\n",
      "            <div class=\"gam-placeholder sdaLite_D(n)\">\n",
      "             廣告\n",
      "            </div>\n",
      "           </div>\n",
      "          </div>\n",
      "         </li>\n",
      "         <li class=\"List(n)\" id=\"related-article-container-e0748b11-0292-3996-9192-fc7c5a2c6ba3\">\n",
      "          <div class=\"wafer-caas\" data-comments-id=\"module-view-comments-e0748b11-0292-3996-9192-fc7c5a2c6ba3\" data-wf-caas-load-assets=\"1\" data-wf-caas-target=\".related-content-inner\" data-wf-caas-timeout=\"4000\" data-wf-caas-trigger=\"viewportWithPrefetch\" data-wf-caas-uuid=\"e0748b11-0292-3996-9192-fc7c5a2c6ba3\" data-wf-caas-wrapper=\"related-content-wrapper\" data-wf-trigger-offset=\"300 0\" id=\"related-article-2\">\n",
      "           <div class=\"wafer-caas-wrapper D(n) wafer-caas-complete_D(b)\">\n",
      "            <div class=\"separator Ai(c) D(n) wafer-caas-complete_D(f) My(32px) H(36px) Jc(c)\">\n",
      "             <div class=\"D(ib) Bgc(varDolphin) W(70px) H(1px) Bd(0) Mx(0) My(25px)\">\n",
      "             </div>\n",
      "             <div class=\"D(ib) C(varDolphin) Fz(14px) Fw(b) Px(10px) Tt(U)\">\n",
      "              繼續閱讀下一則新聞\n",
      "             </div>\n",
      "             <div class=\"D(ib) Bgc(varDolphin) W(70px) H(1px) Bd(0) Mx(0) My(25px)\">\n",
      "             </div>\n",
      "            </div>\n",
      "            <div class=\"related-content-inner Mb(40px) Mih(500px)\">\n",
      "            </div>\n",
      "            <div class=\"caas-comment Pos(r) Start(75px)\" id=\"community-bar-e0748b11-0292-3996-9192-fc7c5a2c6ba3\">\n",
      "            </div>\n",
      "           </div>\n",
      "          </div>\n",
      "          <div class=\"D(n) related-content-lazyload\">\n",
      "           <div class=\"recirc-wrapper Mx(20px) Mb(24px)\" id=\"related-content-recirc-wrapper-e0748b11-0292-3996-9192-fc7c5a2c6ba3\">\n",
      "            <div class=\"wafer-fetch related-content-recirc\" data-wf-body='{\"ctrl\":\"TopicItems\",\"m_id\":\"tdv2-wafer-content-list\",\"m_mode\":\"json\",\"config\":{\"configName\":\"TopicItems/componentTopicItemsTWDarkmode\",\"categoryName\":\"relatedTopicContentTW\",\"ads\":{\"gemini\":{\"adsFrequency\":2,\"adsStartIndex\":2,\"spaceId\":\"964316273\",\"adsSectionId\":5413267,\"adsSlotsEnabled\":true,\"adsTimeout\":450}},\"adItemClasses\":{\"itemContentClasses\":\"Bdrs(8px) Mih(120px)\",\"itemProviderClasses\":\"C($c-fuji-grey-h) Pt(12px) Pb(11px) D(f) Ai(c) Fz(12px) Fw(600) Lh(15px) Z(2)\",\"itemImgWrapperClasses\":\"Pos(r) Ov(h) Fxs(0) Z(0) Bdrs(8px)\"},\"ncpQueryParams\":{\"count\":4,\"snippetCount\":4,\"uuid\":\"e0748b11-0292-3996-9192-fc7c5a2c6ba3\",\"dedupUuids\":\"1e4bdcb7-72a6-3d2f-bcbe-22eb18a4a77b,67e9433f-38cd-3643-aa8c-fe63cd6a311d,e0748b11-0292-3996-9192-fc7c5a2c6ba3,c6205a96-f836-39a2-99ed-0fef93e0ac65,158821c4-4937-34eb-8ca2-c17d786afdd5,3ef0db31-705c-4ff1-ae51-78c373071f7c\",\"spaceId\":\"964316273\",\"geminiDedupeToken\":\"\",\"device\":\"smartphone\",\"site\":\"news\"},\"forceLoadImage\":true,\"columnAdItemClasses\":{\"itemProviderTitleClasses\":\"Fz(12px) Fw(500) C(varDolphin) Mb(4px)\"},\"columnItemConfig\":{\"playIconWrapperClasses\":\"Pos(a) Start(50%) T(50%) Translate(translate50PerNeg) Bgi(simpleListItemPlayIconBgGradient) Bxsh(simpleListItemPlayIconBoxShadow) P(10px) Bdrs(50%)\",\"providerNameClasses\":\"Fz(12px) Fw(500) C(varDolphin)\",\"showPlayIcon\":true,\"showProviderLogo\":false},\"adMeta\":{\"enableGeminiProvider\":false,\"enableTaboolaAds\":true,\"taboolaPosition\":{\"mode\":\"stream-twhk-news-d\",\"region\":\"index\",\"targetType\":\"mix\",\"placement\":\"taboola-stream4\"}},\"bucket\":\"news-TW-zh-Hant-TW-def\"}}' data-wf-replace=\"1\" data-wf-trigger=\"viewport\" data-wf-trigger-offset=\"300 0\" data-wf-url=\"/nel_ms/_rcv/remote?m_id=tdv2-wafer-content-list&amp;ctrl=TopicItems&amp;site=news&amp;lang=zh-Hant-TW&amp;region=TW&amp;prid=1r634dljsv6bv&amp;bucket=&amp;m_mode=json\">\n",
      "            </div>\n",
      "           </div>\n",
      "           <div class=\"wafer-benji Ta(c) Mb(24px)\" data-wf-benji-config='{\"positions\":{\"LREC5-e0748b11-0292-3996-9192-fc7c5a2c6ba3\":{\"id\":\"LREC5-e0748b11-0292-3996-9192-fc7c5a2c6ba3\",\"inView\":\"onLoad\",\"kvs\":{\"loc\":\"mid_center_13\"},\"region\":\"index\",\"size\":[300,250],\"path\":\"/22888152279/tw/ynews/ros/mw/tw_ynews_ros_mw_mid_center\"}}}' data-wf-benji-page-context='{\"pt\":\"content\",\"hashtag\":\"news;game;ai;遊戲;xbox\",\"pd\":\"non_modal\",\"pct\":\"story\",\"spaceid\":\"964316273\"}' data-wf-margin=\"400 0\" data-wf-trigger=\"viewport\" id=\"LREC5-e0748b11-0292-3996-9192-fc7c5a2c6ba3\">\n",
      "            <div class=\"gam-placeholder sdaLite_D(n)\">\n",
      "             廣告\n",
      "            </div>\n",
      "           </div>\n",
      "          </div>\n",
      "         </li>\n",
      "         <li class=\"List(n)\" id=\"related-article-container-c6205a96-f836-39a2-99ed-0fef93e0ac65\">\n",
      "          <div class=\"wafer-caas\" data-comments-id=\"module-view-comments-c6205a96-f836-39a2-99ed-0fef93e0ac65\" data-wf-caas-load-assets=\"1\" data-wf-caas-target=\".related-content-inner\" data-wf-caas-timeout=\"4000\" data-wf-caas-trigger=\"viewportWithPrefetch\" data-wf-caas-uuid=\"c6205a96-f836-39a2-99ed-0fef93e0ac65\" data-wf-caas-wrapper=\"related-content-wrapper\" data-wf-trigger-offset=\"300 0\" id=\"related-article-3\">\n",
      "           <div class=\"wafer-caas-wrapper D(n) wafer-caas-complete_D(b)\">\n",
      "            <div class=\"separator Ai(c) D(n) wafer-caas-complete_D(f) My(32px) H(36px) Jc(c)\">\n",
      "             <div class=\"D(ib) Bgc(varDolphin) W(70px) H(1px) Bd(0) Mx(0) My(25px)\">\n",
      "             </div>\n",
      "             <div class=\"D(ib) C(varDolphin) Fz(14px) Fw(b) Px(10px) Tt(U)\">\n",
      "              繼續閱讀下一則新聞\n",
      "             </div>\n",
      "             <div class=\"D(ib) Bgc(varDolphin) W(70px) H(1px) Bd(0) Mx(0) My(25px)\">\n",
      "             </div>\n",
      "            </div>\n",
      "            <div class=\"related-content-inner Mb(40px) Mih(500px)\">\n",
      "            </div>\n",
      "            <div class=\"caas-comment Pos(r) Start(75px)\" id=\"community-bar-c6205a96-f836-39a2-99ed-0fef93e0ac65\">\n",
      "            </div>\n",
      "           </div>\n",
      "          </div>\n",
      "          <div class=\"D(n) related-content-lazyload\">\n",
      "           <div class=\"recirc-wrapper Mx(20px) Mb(24px)\" id=\"related-content-recirc-wrapper-c6205a96-f836-39a2-99ed-0fef93e0ac65\">\n",
      "            <div class=\"wafer-fetch related-content-recirc\" data-wf-body='{\"ctrl\":\"TopicItems\",\"m_id\":\"tdv2-wafer-content-list\",\"m_mode\":\"json\",\"config\":{\"configName\":\"TopicItems/componentTopicItemsTWDarkmode\",\"categoryName\":\"relatedTopicContentTW\",\"ads\":{\"gemini\":{\"adsFrequency\":2,\"adsStartIndex\":2,\"spaceId\":\"964316273\",\"adsSectionId\":5413267,\"adsSlotsEnabled\":true,\"adsTimeout\":450}},\"adItemClasses\":{\"itemContentClasses\":\"Bdrs(8px) Mih(120px)\",\"itemProviderClasses\":\"C($c-fuji-grey-h) Pt(12px) Pb(11px) D(f) Ai(c) Fz(12px) Fw(600) Lh(15px) Z(2)\",\"itemImgWrapperClasses\":\"Pos(r) Ov(h) Fxs(0) Z(0) Bdrs(8px)\"},\"ncpQueryParams\":{\"count\":4,\"snippetCount\":4,\"uuid\":\"c6205a96-f836-39a2-99ed-0fef93e0ac65\",\"dedupUuids\":\"1e4bdcb7-72a6-3d2f-bcbe-22eb18a4a77b,67e9433f-38cd-3643-aa8c-fe63cd6a311d,e0748b11-0292-3996-9192-fc7c5a2c6ba3,c6205a96-f836-39a2-99ed-0fef93e0ac65,158821c4-4937-34eb-8ca2-c17d786afdd5,3ef0db31-705c-4ff1-ae51-78c373071f7c\",\"spaceId\":\"964316273\",\"geminiDedupeToken\":\"\",\"device\":\"smartphone\",\"site\":\"news\"},\"forceLoadImage\":true,\"columnAdItemClasses\":{\"itemProviderTitleClasses\":\"Fz(12px) Fw(500) C(varDolphin) Mb(4px)\"},\"columnItemConfig\":{\"playIconWrapperClasses\":\"Pos(a) Start(50%) T(50%) Translate(translate50PerNeg) Bgi(simpleListItemPlayIconBgGradient) Bxsh(simpleListItemPlayIconBoxShadow) P(10px) Bdrs(50%)\",\"providerNameClasses\":\"Fz(12px) Fw(500) C(varDolphin)\",\"showPlayIcon\":true,\"showProviderLogo\":false},\"adMeta\":{\"enableGeminiProvider\":false,\"enableTaboolaAds\":true,\"taboolaPosition\":{\"mode\":\"stream-twhk-news-d\",\"region\":\"index\",\"targetType\":\"mix\",\"placement\":\"taboola-stream5\"}},\"bucket\":\"news-TW-zh-Hant-TW-def\"}}' data-wf-replace=\"1\" data-wf-trigger=\"viewport\" data-wf-trigger-offset=\"300 0\" data-wf-url=\"/nel_ms/_rcv/remote?m_id=tdv2-wafer-content-list&amp;ctrl=TopicItems&amp;site=news&amp;lang=zh-Hant-TW&amp;region=TW&amp;prid=1r634dljsv6bv&amp;bucket=&amp;m_mode=json\">\n",
      "            </div>\n",
      "           </div>\n",
      "           <div class=\"wafer-benji Ta(c) Mb(24px)\" data-wf-benji-config='{\"positions\":{\"LREC6-c6205a96-f836-39a2-99ed-0fef93e0ac65\":{\"id\":\"LREC6-c6205a96-f836-39a2-99ed-0fef93e0ac65\",\"inView\":\"onLoad\",\"kvs\":{\"loc\":\"mid_center_14\"},\"region\":\"index\",\"size\":[300,250],\"path\":\"/22888152279/tw/ynews/ros/mw/tw_ynews_ros_mw_mid_center\"}}}' data-wf-benji-page-context='{\"pt\":\"content\",\"hashtag\":\"news;game;ai;遊戲;xbox\",\"pd\":\"non_modal\",\"pct\":\"story\",\"spaceid\":\"964316273\"}' data-wf-margin=\"400 0\" data-wf-trigger=\"viewport\" id=\"LREC6-c6205a96-f836-39a2-99ed-0fef93e0ac65\">\n",
      "            <div class=\"gam-placeholder sdaLite_D(n)\">\n",
      "             廣告\n",
      "            </div>\n",
      "           </div>\n",
      "          </div>\n",
      "         </li>\n",
      "         <li class=\"List(n)\" id=\"related-article-container-158821c4-4937-34eb-8ca2-c17d786afdd5\">\n",
      "          <div class=\"wafer-caas\" data-comments-id=\"module-view-comments-158821c4-4937-34eb-8ca2-c17d786afdd5\" data-wf-caas-load-assets=\"1\" data-wf-caas-target=\".related-content-inner\" data-wf-caas-timeout=\"4000\" data-wf-caas-trigger=\"viewportWithPrefetch\" data-wf-caas-uuid=\"158821c4-4937-34eb-8ca2-c17d786afdd5\" data-wf-caas-wrapper=\"related-content-wrapper\" data-wf-trigger-offset=\"300 0\" id=\"related-article-4\">\n",
      "           <div class=\"wafer-caas-wrapper D(n) wafer-caas-complete_D(b)\">\n",
      "            <div class=\"separator Ai(c) D(n) wafer-caas-complete_D(f) My(32px) H(36px) Jc(c)\">\n",
      "             <div class=\"D(ib) Bgc(varDolphin) W(70px) H(1px) Bd(0) Mx(0) My(25px)\">\n",
      "             </div>\n",
      "             <div class=\"D(ib) C(varDolphin) Fz(14px) Fw(b) Px(10px) Tt(U)\">\n",
      "              繼續閱讀下一則新聞\n",
      "             </div>\n",
      "             <div class=\"D(ib) Bgc(varDolphin) W(70px) H(1px) Bd(0) Mx(0) My(25px)\">\n",
      "             </div>\n",
      "            </div>\n",
      "            <div class=\"related-content-inner Mb(40px) Mih(500px)\">\n",
      "            </div>\n",
      "            <div class=\"caas-comment Pos(r) Start(75px)\" id=\"community-bar-158821c4-4937-34eb-8ca2-c17d786afdd5\">\n",
      "            </div>\n",
      "           </div>\n",
      "          </div>\n",
      "          <div class=\"D(n) related-content-lazyload\">\n",
      "           <div class=\"recirc-wrapper Mx(20px) Mb(24px)\" id=\"related-content-recirc-wrapper-158821c4-4937-34eb-8ca2-c17d786afdd5\">\n",
      "            <div class=\"wafer-fetch related-content-recirc\" data-wf-body='{\"ctrl\":\"TopicItems\",\"m_id\":\"tdv2-wafer-content-list\",\"m_mode\":\"json\",\"config\":{\"configName\":\"TopicItems/componentTopicItemsTWDarkmode\",\"categoryName\":\"relatedTopicContentTW\",\"ads\":{\"gemini\":{\"adsFrequency\":2,\"adsStartIndex\":2,\"spaceId\":\"964316273\",\"adsSectionId\":5413267,\"adsSlotsEnabled\":true,\"adsTimeout\":450}},\"adItemClasses\":{\"itemContentClasses\":\"Bdrs(8px) Mih(120px)\",\"itemProviderClasses\":\"C($c-fuji-grey-h) Pt(12px) Pb(11px) D(f) Ai(c) Fz(12px) Fw(600) Lh(15px) Z(2)\",\"itemImgWrapperClasses\":\"Pos(r) Ov(h) Fxs(0) Z(0) Bdrs(8px)\"},\"ncpQueryParams\":{\"count\":4,\"snippetCount\":4,\"uuid\":\"158821c4-4937-34eb-8ca2-c17d786afdd5\",\"dedupUuids\":\"1e4bdcb7-72a6-3d2f-bcbe-22eb18a4a77b,67e9433f-38cd-3643-aa8c-fe63cd6a311d,e0748b11-0292-3996-9192-fc7c5a2c6ba3,c6205a96-f836-39a2-99ed-0fef93e0ac65,158821c4-4937-34eb-8ca2-c17d786afdd5,3ef0db31-705c-4ff1-ae51-78c373071f7c\",\"spaceId\":\"964316273\",\"geminiDedupeToken\":\"\",\"device\":\"smartphone\",\"site\":\"news\"},\"forceLoadImage\":true,\"columnAdItemClasses\":{\"itemProviderTitleClasses\":\"Fz(12px) Fw(500) C(varDolphin) Mb(4px)\"},\"columnItemConfig\":{\"playIconWrapperClasses\":\"Pos(a) Start(50%) T(50%) Translate(translate50PerNeg) Bgi(simpleListItemPlayIconBgGradient) Bxsh(simpleListItemPlayIconBoxShadow) P(10px) Bdrs(50%)\",\"providerNameClasses\":\"Fz(12px) Fw(500) C(varDolphin)\",\"showPlayIcon\":true,\"showProviderLogo\":false},\"adMeta\":{\"enableGeminiProvider\":false,\"enableTaboolaAds\":true,\"taboolaPosition\":{\"mode\":\"stream-twhk-news-d\",\"region\":\"index\",\"targetType\":\"mix\",\"placement\":\"taboola-stream6\"}},\"bucket\":\"news-TW-zh-Hant-TW-def\"}}' data-wf-replace=\"1\" data-wf-trigger=\"viewport\" data-wf-trigger-offset=\"300 0\" data-wf-url=\"/nel_ms/_rcv/remote?m_id=tdv2-wafer-content-list&amp;ctrl=TopicItems&amp;site=news&amp;lang=zh-Hant-TW&amp;region=TW&amp;prid=1r634dljsv6bv&amp;bucket=&amp;m_mode=json\">\n",
      "            </div>\n",
      "           </div>\n",
      "           <div class=\"wafer-benji Ta(c) Mb(24px)\" data-wf-benji-config='{\"positions\":{\"LREC7-158821c4-4937-34eb-8ca2-c17d786afdd5\":{\"id\":\"LREC7-158821c4-4937-34eb-8ca2-c17d786afdd5\",\"inView\":\"onLoad\",\"kvs\":{\"loc\":\"mid_center_15\"},\"region\":\"index\",\"size\":[300,250],\"path\":\"/22888152279/tw/ynews/ros/mw/tw_ynews_ros_mw_mid_center\"}}}' data-wf-benji-page-context='{\"pt\":\"content\",\"hashtag\":\"news;game;ai;遊戲;xbox\",\"pd\":\"non_modal\",\"pct\":\"story\",\"spaceid\":\"964316273\"}' data-wf-margin=\"400 0\" data-wf-trigger=\"viewport\" id=\"LREC7-158821c4-4937-34eb-8ca2-c17d786afdd5\">\n",
      "            <div class=\"gam-placeholder sdaLite_D(n)\">\n",
      "             廣告\n",
      "            </div>\n",
      "           </div>\n",
      "          </div>\n",
      "         </li>\n",
      "        </ul>\n",
      "        <script>\n",
      "         window.performance.mark('cluster');\n",
      "                    window.performance.measure('clusterDone','PageStart','cluster');\n",
      "        </script>\n",
      "       </div>\n",
      "      </div>\n",
      "     </div>\n",
      "    </main>\n",
      "   </div>\n",
      "   <div id=\"community-bar\">\n",
      "   </div>\n",
      "  </div>\n",
      "  <footer id=\"Footer\">\n",
      "   <div class=\"wafer-rapid-module fp-item-card\" id=\"module-footer\">\n",
      "    <div class=\"wafer-fetch-container wafer-fetch\" data-wf-cache-strategy=\"cacheFirst\" data-wf-cache-ttl=\"3600\" data-wf-replace=\"1\" data-wf-retry-count=\"2\" data-wf-retry-reset-for-state-change=\"2\" data-wf-timeout=\"5000\" data-wf-trigger=\"viewport\" data-wf-trigger-offset=\"600 0\" data-wf-url=\"/fp_ms/_rcv/remote?m_id=react-wafer-footer&amp;ctrl=FooterMobileV2&amp;module=footer&amp;site=news&amp;device=smartphone&amp;lang=zh-Hant-TW&amp;region=TW&amp;bucket=news-TW-zh-Hant-TW-def&amp;rid=1r634dljsv6bv&amp;m_mode=json\" id=\"wafer-footer\">\n",
      "     <div class=\"pholder-bg wafer-fetch-error_D(n) grid\">\n",
      "      <div class=\"pholder\">\n",
      "       <div class=\"ph-title\">\n",
      "       </div>\n",
      "       <div class=\"ph-block\">\n",
      "       </div>\n",
      "      </div>\n",
      "     </div>\n",
      "    </div>\n",
      "   </div>\n",
      "   <div class=\"wafer-rapid-module H(1px)\" id=\"module-coverAdWall\">\n",
      "    <div class=\"coverAd-wall-wrapper wafer-benji Pos(f) Start(0) W(100%) H(100vh) Z(12) Bgc($bgCoverWall)\" data-expiry-period=\"86400000\" data-rapid-module-id=\"#module-coverAdWall\" data-reads-quota-limit=\"1\" data-wf-benji-config='{\"positions\":{\"sda-MI-iframe\":{\"customSizeConfig\":{\"Lighthouse\":true},\"disableRefresh\":true,\"id\":\"sda-MI-iframe\",\"kvs\":{\"loc\":\"top_center_mi\"},\"path\":\"/22888152279/tw/ynews/ros/mw/tw_ynews_ros_mw_top_center_mi\",\"region\":\"index\",\"size\":[[2,2]]}}}' data-wf-trigger=\"viewport\">\n",
      "     <div class=\"H(100%) D(f) Fxd(c) Ai(c) Jc(c)\">\n",
      "      <div id=\"sda-MI-iframe\">\n",
      "      </div>\n",
      "      <button class=\"close-button Pos(a) T(12px) End(12px) P(0) Bd(0)\" data-ylk-lazy=\"elm:btn;itc:1;sec:ad-fullpage;slk:closeAD;\">\n",
      "       <svg height=\"40\" viewbox=\"0 0 40 40\" width=\"40\">\n",
      "        <circle cx=\"20\" cy=\"20\" fill=\"#000\" fill-opacity=\".6\" r=\"19.5\" stroke=\"#fff\">\n",
      "        </circle>\n",
      "        <path d=\"m20 18.235-6.623-6.622a1.25 1.25 0 0 0-1.76.005 1.24 1.24 0 0 0-.003 1.76L18.235 20l-6.621 6.621a1.25 1.25 0 0 0 .003 1.76 1.24 1.24 0 0 0 1.76.005L20 21.764l6.622 6.622a1.249 1.249 0 0 0 1.764-1.765l-6.621-6.62 6.621-6.623a1.25 1.25 0 0 0-.003-1.76 1.243 1.243 0 0 0-1.76-.005z\" fill=\"#fff\">\n",
      "        </path>\n",
      "       </svg>\n",
      "      </button>\n",
      "     </div>\n",
      "    </div>\n",
      "    <script>\n",
      "     window.performance.mark('coverAdWall');\n",
      "                    window.performance.measure('coverAdWallDone','PageStart','coverAdWall');\n",
      "    </script>\n",
      "   </div>\n",
      "   <div class=\"wafer-rapid-module videoAd Pos(f) B(57px) Start(0) W(100%) Z(11)\" id=\"module-videoAd\">\n",
      "    <div class=\"video-ad-wrapper wafer-benji\" data-enable-mock-video-ad=\"false\" data-expiry-period=\"86400000\" data-wf-benji-config='{\"positions\":{\"sda-MYTEST-iframe\":{\"disableRefresh\":true,\"id\":\"sda-MYTEST-iframe\",\"kvs\":{\"loc\":\"btm_center\"},\"path\":\"/22888152279/tw/ynews/ros/mw/tw_ynews_ros_mw_btm_center\",\"region\":\"index\",\"size\":[[1,150]]}}}' data-wf-trigger=\"viewport\">\n",
      "     <div class=\"close-button D(f) Fxd(rr) Pend(4px) Pb(4px) Ov(h)\">\n",
      "      <div>\n",
      "       <svg fill=\"none\" height=\"30\" viewbox=\"0 0 30 30\" width=\"30\" xmlns=\"http://www.w3.org/2000/svg\">\n",
      "        <circle cx=\"15\" cy=\"15\" fill=\"black\" fill-opacity=\"0.6\" r=\"14.5\" stroke=\"white\">\n",
      "        </circle>\n",
      "        <path d=\"M15 13.6764L10.0331 8.70949C9.67406 8.35043 9.07875 8.34762 8.71313 8.71324C8.34563 9.08168 8.34656 9.66949 8.71031 10.0332L13.6762 15.0001L8.71031 19.9661C8.35031 20.3261 8.34844 20.9204 8.71313 21.2861C9.08156 21.6545 9.67031 21.6536 10.0331 21.2898L15 16.3229L19.9669 21.2898C20.3259 21.6498 20.9212 21.6517 21.2869 21.2861C21.6544 20.9186 21.6534 20.3298 21.2897 19.9661L16.3238 15.0001L21.2897 10.0332C21.6497 9.67324 21.6516 9.07887 21.2869 8.71324C20.9184 8.34574 20.3297 8.34668 19.9669 8.70949L15 13.6764Z\" fill=\"white\">\n",
      "        </path>\n",
      "       </svg>\n",
      "      </div>\n",
      "     </div>\n",
      "     <div class=\"W(100%) H(150px)\">\n",
      "      <div id=\"sda-MYTEST-iframe\">\n",
      "      </div>\n",
      "     </div>\n",
      "    </div>\n",
      "    <script>\n",
      "     window.performance.mark('videoAd');\n",
      "                    window.performance.measure('videoAdDone','PageStart','videoAd');\n",
      "    </script>\n",
      "   </div>\n",
      "  </footer>\n",
      "  <div class=\"wafer-rapid-module\" id=\"adfeedback-article-toast\">\n",
      "  </div>\n",
      "  <div id=\"overlay\">\n",
      "  </div>\n",
      "  <script id=\"wafer-config\" type=\"application/json\">\n",
      "   {\"assetsLoaded\":{\"/aaq/art/css/deeplink.atomic.ltr.b0ff72321580f501d711e99fc9aba8ad.css\":true,\"/aaq/art/css/sdacontainer.7071768451db14ed357aca3116377c69.css\":true,\"/os/yc/css/bundle.c60a6d54.css\":true,\"/aaq/art/css/yahoosans.6263160197e55d64da3484ae09bd2851.css\":true,\"/aaq/art/css/modules.atomic.ltr.77342269025b35c445c7e5b0eee11cbc.css\":true,\"/aaq/art/css/mobileweb.1e671937353f707e1ba1b78c9894e938.css\":true,\"/aaq/fp/css/tdv2-wafer-adfeedback.custom.smartphone.892444a0239165161b3a5b8e7de0dd0f.css\":true,\"/aaq/fp/css/tdv2-wafer-adfeedback.AdFeedbackAllComponents.atomic.ltr.1e4cfc1db874f628b48e19eb1c3df41c.min.css\":true,\"/aaq/art/css/darkmode.d7070f6aabdb9dea30c1eba10c43f263.css\":true,\"/aaq/art/css/topAdStickyStyle.d8bd335f910e8c18c62db8007571e6b5.css\":true,\"/aaq/cprops/colors_1.1.27.min.css\":true,\"/aaq/nel/css/tdv2-wafer-content-list.TopicItems.atomic.ltr.6438479f307e86e59802b5da8d6ba5e7.min.css\":true,\"/aaq/nel/css/tdv2-wafer-content-list.custom.888132cb49eb61157282573521d113fb.css\":true,\"/aaq/nel/css/tdv2-wafer-related-content.RelatedContent.atomic.ltr.2347c7bc62316cabb66df72e5811ad2a.min.css\":true,\"/aaq/nel/css/tdv2-wafer-related-content.custom.ca56b2d35aebbdcbe7ca2079685379b1.css\":true,\"/aaq/fp/css/react-wafer-footer.FooterMobileV2.atomic.ltr.75704a5636f1abae0847822e94ed3887.min.css\":true,\"/aaq/nel/css/login-wall.CoverAdWall.atomic.ltr.00484aed9c8491210396b44bbc1dc988.min.css\":true,\"/aaq/nel/css/login-wall.customCoverAdWall.3b6719ddd8d727d684585ca119602f6f.css\":true,\"/br/tw_ms/css/react-wafer-apac-ad.VideoAd.atomic.ltr.1149c8b64ece9ecf315822ae435932e1.min.css\":true,\"/br/tw_ms/css/react-wafer-apac-ad.custom.mobile.c019af6139bbb3d42aef277b5512c5d9.css\":true,\"/aaq/fp/css/react-wafer-featurebar.FeaturebarNew.atomic.ltr.1f38518fd23317c7e8f5c7313814f31b.min.css\":true,\"/aaq/fp/css/promos.AppPromoBanner.atomic.ltr.12c5b929fae4830c048e81dcad827ef2.min.css\":true,\"/br/tw_ms/css/react-wafer-apac-header.Header.atomic.ltr.5bee79e733e04f58b20a6956a9576fa4.min.css\":true,\"/aaq/nel/css/tdv2-wafer-loyalty.ArticleChallenge.atomic.ltr.ccdf81a014542857e8bd2482dafbf130.min.css\":true,\"/aaq/nel/css/tdv2-wafer-loyalty.article-challenge.1e572d223901f4b59e999cdfc9bf90a8.css\":true,\"/aaq/nel/css/app-drive.AppDrive.atomic.ltr.2afa0a29e0c3f26f1dc67b3693395616.min.css\":true,\"/aaq/art/js/caas.40f4c8a2980af77c2ce9bdc2e53f50a5.js\":true,\"/aaq/wf/wf-loader-2.7.21-modern.js\":true,\"/aaq/yc/js/iframe-1.0.31.js\":true,\"/aaq/art/js/comments.0153199c435c205e1cebebab5b9ebf0a.js\":true,\"/ss/analytics-3.57.2.js\":true,\"/version/7.0.0/cmp.js\":true,\"/aaq/vzm/cs_2.0.0.js\":true,\"/aaq/nel/js/tdv2-wafer-utils.customErrorHandler.bcda778b736c3a054af62f437b536e78.js\":true,\"/oa/consent.js\":true,\"/aaq/benji/benji-2.2.50.js\":true,\"/aaq/wf/wf-fetch-1.19.1-modern.js\":true,\"/aaq/wf/wf-video-3.2.2-modern.js\":true,\"/aaq/wf/wf-beacon-1.3.4-modern.js\":true,\"/aaq/wf/wf-benji-1.2.0-modern.js\":true,\"/aaq/wf/wf-scrollview-2.23.3-modern.js\":true,\"/aaq/wf/wf-toggle-1.15.4-modern.js\":true,\"/aaq/wf/wf-form-1.34.5-modern.js\":true,\"/aaq/wf/wf-caas-1.36.6-modern.js\":true,\"/aaq/wf/wf-lightbox-1.10.6-modern.js\":true,\"/aaq/wf/wf-countdown-1.2.5-modern.js\":true,\"/aaq/wf/wf-image-1.4.0-modern.js\":true,\"/aaq/nel/js/tdv2-wafer-content-list.custom.c55065592f3316c637717d204a89a974.js\":true,\"/aaq/wf/wf-rapid-1.10.9-modern.js\":true,\"/aaq/nel/js/tdv2-wafer-related-content.custom.d24b60ff685760e3123fecffafdc66c7.js\":true,\"/aaq/nel/js/login-wall.customCoverAdWall.3668683fbdeb172dad54f16c770d0a6b.js\":true,\"/br/tw_ms/js/react-wafer-apac-ad.custom.mobile.ee3d417e5c88a9ad1150e593790f5a76.js\":true,\"/aaq/fp/js/react-wafer-featurebar.custom.modern.12732500bc8e47693f0d777bbe88001c.js\":true,\"/aaq/wf/wf-menu-1.3.5-modern.js\":true,\"/aaq/wf/wf-progress-loader-1.2.10-modern.js\":true,\"/aaq/nel/js/tdv2-wafer-loyalty.article-challenge.f25f7dfd729e10f34bce34e059a9393f.js\":true,\"/aaq/nel/js/app-drive.custom.ed924f12f9eef1817e2ce54d0a5e8d9d.js\":true,\"/aaq/c/f4ba610.caas-article2_mweb.dark.min.css\":true,\"/aaq/wf/wf-core-1.65.1-modern.js\":true,\"/aaq/art/js/topAdSticky.ec7d3e65c96d1b5f4d9a97eca49068fd.js\":true,\"/aaq/c/c5dc227.caas-article2_mweb.min.js\":true}}\n",
      "  </script>\n",
      "  <script src=\"https://s.yimg.com/aaq/wf/wf-core-1.65.1-modern.js\" type=\"text/javascript\">\n",
      "  </script>\n",
      "  <script type=\"text/javascript\">\n",
      "   (function(win) {\n",
      "        win.addEventListener && win.addEventListener(\"DOMContentLoaded\", function () {\n",
      "            var s = win.document.createElement(\"script\");\n",
      "            s.async = true;\n",
      "            s.defer = true;\n",
      "            s.src = \"https://s.yimg.com/cx/pv/perf-vitals_3.5.0.js\";\n",
      "            win.document.body.appendChild(s);\n",
      "        });\n",
      "    })(window);\n",
      "  </script>\n",
      "  <script type=\"text/javascript\">\n",
      "   (function(win) {\n",
      "        win.addEventListener && win.addEventListener(\"DOMContentLoaded\", function () {\n",
      "            var s = win.document.createElement(\"script\");\n",
      "            s.async = true;\n",
      "            s.src = \"https://s.yimg.com/aaq/vzm/dot-beacon_1.0.2.js\";\n",
      "            win.document.body.appendChild(s);\n",
      "        });\n",
      "    })(window);\n",
      "  </script>\n",
      "  <script src=\"https://s.yimg.com/aaq/art/js/topAdSticky.ec7d3e65c96d1b5f4d9a97eca49068fd.js\" type=\"text/javascript\">\n",
      "  </script>\n",
      "  <script src=\"https://s.yimg.com/aaq/c/c5dc227.caas-article2_mweb.min.js\" type=\"text/javascript\">\n",
      "  </script>\n",
      "  <script type=\"text/javascript\">\n",
      "   (function(w) {\n",
      "        if (w.YAHOO && w.YAHOO.i13n && w.YAHOO.i13n.Rapid) {\n",
      "            YAHOO.i13n.SPACEID = '964316273';\n",
      "            var enableApvBeacon = true;\n",
      "            var clientOnly = undefined;\n",
      "            var rapidConfig = {\"click_timeout\":200,\"keys\":{\"_rid\":\"1r634dljsv6bv\",\"abk\":\"\",\"colo\":\"tp2\",\"mrkt\":\"tw\",\"p_sec\":\"default\",\"partner\":\"none\",\"site\":\"news\",\"uh_vw\":0,\"navtype\":\"server\",\"p_cpos\":1,\"p_hosted\":\"hosted\",\"pcp\":\"MrSun\",\"pct\":\"story\",\"pd\":\"non_modal\",\"pstaid\":\"3ef0db31-705c-4ff1-ae51-78c373071f7c\",\"pstaid_p\":\"3ef0db31-705c-4ff1-ae51-78c373071f7c\",\"pstcat\":\"news\",\"pt\":\"content\",\"redirect\":\"\",\"ver\":\"article\",\"_vuid\":\"eit0E8Rqy95MpyMhr45jOA\",\"displayts\":1740373875000,\"tag\":\"Xbox, news, game, 遊戲, AI, AI, Muse, 微軟\"},\"perf_navigationtime\":2,\"test_id\":\"news-TW-zh-Hant-TW-def\",\"tracked_mods_viewability\":{\"module-originalContents\":\"rel-original\",\"module-relatedStories\":\"rel-stories\",\"module-cluster\":\"rel-stories\",\"module-footer\":\"footer\",\"module-coverAdWall\":\"loginWall\",\"module-featurebar\":\"featurebar\",\"module-appPromoBanner\":\"appPromoBanner\",\"module-header\":\"hd\",\"module-articleChallenge\":\"article-challenge\",\"module-appDrive\":\"app-drive\",\"close-button-section\":\"close-button\",\"close-fauxdal\":\"close-button\",\"module-article\":\"content-canvas\",\"related-article-0\":\"content-canvas\",\"related-article-1\":\"content-canvas\",\"related-article-2\":\"content-canvas\",\"related-article-3\":\"content-canvas\",\"related-article-4\":\"content-canvas\",\"related-article-5\":\"content-canvas\",\"related-article-6\":\"content-canvas\",\"module-spotIm\":\"cmmts\"},\"viewability\":true,\"yql_host\":\"udc.yahoo.com\",\"yql_path\":\"/v2/public/yql\"};\n",
      "            rapidConfig.spaceid = YAHOO.i13n.SPACEID;\n",
      "\n",
      "            if(typeof clientOnly !== 'undefined') {\n",
      "                rapidConfig.client_only = clientOnly;\n",
      "            }\n",
      "            // beacon apv for mobile web\n",
      "            if (enableApvBeacon) {\n",
      "                rapidConfig.apv_callback = function(apvObj) {\n",
      "                    try {\n",
      "                        if ('964316273' === YAHOO.i13n.SPACEID) {\n",
      "                            var img = new Image();\n",
      "                            img.src = '/_td_api/beacon/error?beaconType=apv&sp=' + YAHOO.i13n.SPACEID\n",
      "                                + '&device=smartphone&intl=TW&pixel_pos='\n",
      "                                + apvObj.pixel_pos + '&scroll_dir='\n",
      "                                + apvObj.scroll_dir;\n",
      "                        }\n",
      "                    } catch (e) {}\n",
      "                };\n",
      "            }\n",
      "\n",
      "            // ensure webworker is loaded from yaho.com cdn path\n",
      "            YAHOO.i13n.WEBWORKER_FILE = '/__rapid-worker-1.2.js';\n",
      "\n",
      "            // setup rapid instance\n",
      "            YAHOO.i13n.rapidInstance = w.rapidInstance = w.YAHOO.i13n.Rapid(rapidConfig);\n",
      "\n",
      "            // expose rapid config for homepage-viewer client\n",
      "            if (!w.rapidPageConfig) {\n",
      "                w.rapidPageConfig = {\n",
      "                    rapidConfig: rapidConfig\n",
      "                }\n",
      "            }\n",
      "        }\n",
      "    }(window));\n",
      "  </script>\n",
      "  <script>\n",
      "   (function(w) {\n",
      "            w.YAHOO = w.YAHOO || {};\n",
      "            w.YAHOO.comscore = {\"c14\":-1,\"enableTracking\":true,\"cs_fpdm\":\"*null\"};\n",
      "\n",
      "            w._comscore = w._comscore || [];\n",
      "            w._comscore.push({\"c1\":\"2\",\"c2\":\"7241469\",\"c5\":\"964316273\",\"c7\":\"https://tw.news.yahoo.com/%E5%BE%AE%E8%BB%9F%E6%96%B0%E9%81%8A%E6%88%B2ai%E6%A8%A1%E5%9E%8B%E3%80%8Cmuse%E3%80%8D%E4%BA%AE%E7%9B%B8%EF%BC%81%E5%8D%B3%E6%99%82%E7%94%9F%E6%88%90%E9%81%8A%E6%88%B2%E7%95%AB%E9%9D%A2-%E5%8D%BB%E5%BC%95%E7%88%86%E7%8E%A9%E5%AE%B6%E6%AD%A3%E5%8F%8D%E8%AB%96%E6%88%B0-051114570.html\",\"c14\":-1});\n",
      "\n",
      "            var s = document.createElement('script');\n",
      "            var el = document.getElementsByTagName('script')[0];\n",
      "            s.async = true;\n",
      "            s.src = 'https://s.yimg.com/aaq/vzm/cs_2.0.0.js';\n",
      "            el.parentNode.insertBefore(s, el);\n",
      "        }(window));\n",
      "  </script>\n",
      "  <noscript>\n",
      "   <img src=\"https://sb.scorecardresearch.com/p?c1=2&amp;c2=7241469&amp;c5=964316273&amp;c7=https%3A%2F%2Ftw.news.yahoo.com%2F%25E5%25BE%25AE%25E8%25BB%259F%25E6%2596%25B0%25E9%2581%258A%25E6%2588%25B2ai%25E6%25A8%25A1%25E5%259E%258B%25E3%2580%258Cmuse%25E3%2580%258D%25E4%25BA%25AE%25E7%259B%25B8%25EF%25BC%2581%25E5%258D%25B3%25E6%2599%2582%25E7%2594%259F%25E6%2588%2590%25E9%2581%258A%25E6%2588%25B2%25E7%2595%25AB%25E9%259D%25A2-%25E5%258D%25BB%25E5%25BC%2595%25E7%2588%2586%25E7%258E%25A9%25E5%25AE%25B6%25E6%25AD%25A3%25E5%258F%258D%25E8%25AB%2596%25E6%2588%25B0-051114570.html&amp;c14=-1\"/>\n",
      "  </noscript>\n",
      "  <script src=\"https://s.yimg.com/nn/lib/metro/g/myy/advertisement_0.0.19.js\" type=\"text/javascript\">\n",
      "  </script>\n",
      "  <script type=\"text/javascript\">\n",
      "   (function(w) {\n",
      "        var dabConfig = {\"cookieDurationInDays\":7,\"detectionTimeout\":300,\"enableABPDetection\":true,\"enableDetection\":true,\"enableUBDetection\":false,\"positions\":[\"sda-LDRB\",\"sda-MAST\"]};\n",
      "        var cookieName = 'thamba';\n",
      "        var thamba = false;\n",
      "        var shouldCheckPosition = true;\n",
      "        var cookieDuration = 10080;\n",
      "        var pixelDetectUrl = \"https://www.yahoo.com/px.gif\";\n",
      "        var detectABP = function(daTrk) {\n",
      "    var DPba=new function(){this.detect=function(px,callback){var detected=false;var checksRemain=2;var error1=false;var error2=false;if(typeof callback!=\"function\")return;px+=\"?ch=*&rn=*\";function beforeCheck(callback,timeout){if(checksRemain==0|| timeout>1E3)callback(checksRemain==0&&detected);else setTimeout(function(){beforeCheck(callback,timeout*2)},timeout*2)}function checkImages(){if(--checksRemain)return;detected=!error1&&error2}var random=Math.random()*11;var img1=new Image;img1.onload=checkImages;img1.onerror=function(){error1=true;checkImages()};img1.src=px.replace(/\\*/,1).replace(/\\*/,random);var img2=new Image;img2.onload=checkImages;img2.onerror=function(){error2=true;checkImages()};img2.src=px.replace(/\\*/,2).replace(/\\*/,random);beforeCheck(callback,250)}}; \n",
      "    DPba.detect(pixelDetectUrl, function(usesABP) {\n",
      "        if (usesABP) {\n",
      "            var expires = new Date();\n",
      "            expires.setMinutes(expires.getMinutes() + cookieDuration);\n",
      "            daTrk = '2';\n",
      "            w.wafer.utils.setCookie(cookieName, '2', {expires: expires, domain: location.hostname, path:'/'});\n",
      "        }\n",
      "\n",
      "        // this fires rapid when we set cookie either 1 or 2\n",
      "        if ((!thamba && daTrk !== '0') && w.rapidInstance && w.rapidInstance.beaconEvent) {\n",
      "            w.rapidInstance.beaconEvent(\"datrk\", {pl1: daTrk});\n",
      "        }\n",
      "    });\n",
      "};\n",
      "\n",
      "var ubDetection = function() {\n",
      "    // primary check: create node has sensitive id on the fly\n",
      "    const decoyId = 'my-ads';\n",
      "    const decoyNode = document.createElement('div');\n",
      "    decoyNode.setAttribute('id', decoyId);\n",
      "    decoyNode.innerHTML = decoyId;\n",
      "    document.body.appendChild(decoyNode);\n",
      "    \n",
      "    const decoyNodeIns = document.querySelector(`#${decoyId}`);\n",
      "    if (decoyNodeIns && decoyNodeIns.offsetHeight === 0) {\n",
      "        decoyNodeIns.remove();\n",
      "        return true;\n",
      "    }\n",
      "    decoyNodeIns.remove();\n",
      "    \n",
      "    // additional check: check all necessary ad pos dimension\n",
      "    if (shouldCheckPosition) {\n",
      "        const { positions } = dabConfig;\n",
      "        let adposNodeCount = 0;\n",
      "        let hidenPosNodeCount = 0;\n",
      "        \n",
      "        for (const position of positions) {\n",
      "            const adposNode = document.querySelector(`#${position}`);\n",
      "            if (adposNode) {\n",
      "                adposNodeCount += 1;\n",
      "                if (adposNode.offsetHeight === 0) {\n",
      "                    hidenPosNodeCount += 1;\n",
      "                }\n",
      "            }\n",
      "        }\n",
      "\n",
      "        if (adposNodeCount > 0 && adposNodeCount === hidenPosNodeCount) {\n",
      "            return true;\n",
      "        }\n",
      "    }\n",
      "    return false;\n",
      "}\n",
      "\n",
      "var initABDetection = function() {\n",
      "    var daTrk = '0';\n",
      "    var cExpiry = 0;\n",
      "    var expires = new Date();\n",
      "\n",
      "    /* General AB Check */\n",
      "    var abSelector = document.getElementById('advertisement-thamba');\n",
      "    if (!abSelector) {\n",
      "        daTrk = '1';\n",
      "        cExpiry = cookieDuration;\n",
      "    }\n",
      "\n",
      "    /* Specific AB Check */\n",
      "    if (dabConfig.enableUBDetection) {\n",
      "        const isUBActive = ubDetection();\n",
      "        if (isUBActive) {\n",
      "            daTrk = '1';\n",
      "            cExpiry = cookieDuration;\n",
      "        }\n",
      "    }\n",
      "\n",
      "    expires.setMinutes(expires.getMinutes() + cExpiry);\n",
      "\n",
      "    // Sets cookie if we have to clear (block -> non-blocked state) OR\n",
      "    // set with value (non-block -> block state)\n",
      "    if ((thamba && daTrk === '0') || (!thamba && daTrk === '1')) {\n",
      "        w.wafer.utils.setCookie(cookieName, daTrk, {expires: expires, domain: location.hostname, path:'/'});\n",
      "    }\n",
      "\n",
      "    // if (dabConfig.enableABPDetection && daTrk === '1') { // will uncomment when we can detect container collapsed\n",
      "    if (dabConfig.enableABPDetection) {\n",
      "        detectABP(daTrk);\n",
      "    }\n",
      "};\n",
      "\n",
      "w.wafer && w.wafer.utils && w.wafer.ready  && w.wafer.ready(function () {\n",
      "    setTimeout(initABDetection, dabConfig.detectionTimeout || 300);\n",
      "});\n",
      "    }(window));\n",
      "  </script>\n",
      "  <template id=\"wafer-lightbox-wrapper-template\">\n",
      "   <div class=\"wafer-lightbox-wrapper\" tabindex=\"-1\">\n",
      "    <div class=\"wafer-lightbox-content\">\n",
      "    </div>\n",
      "   </div>\n",
      "  </template>\n",
      " </body>\n",
      "</html>\n",
      "\n"
     ]
    }
   ],
   "source": [
    "print(page.prettify())"
   ]
  },
  {
   "cell_type": "markdown",
   "metadata": {},
   "source": [
    "# How to read html? Right click mouse and select \"檢查\"\n",
    "\n",
    "You will find the HTML format of this page.\n",
    "* Read page on Vscode or any other text editor such as Notpade++, sublime\n",
    "* Read page via F12 on Chrome browser\n",
    "\n",
    "\n",
    "    You can easily find a specific string.\n",
    "\n"
   ]
  },
  {
   "attachments": {},
   "cell_type": "markdown",
   "metadata": {},
   "source": [
    "# Find news title"
   ]
  },
  {
   "cell_type": "code",
   "execution_count": 9,
   "metadata": {},
   "outputs": [],
   "source": [
    "page.find('title', {'class':\"title\"})"
   ]
  },
  {
   "cell_type": "code",
   "execution_count": 10,
   "metadata": {},
   "outputs": [
    {
     "data": {
      "text/plain": [
       "'微軟新遊戲AI模型「Muse」亮相！即時生成遊戲畫面 卻引爆玩家正反論戰'"
      ]
     },
     "execution_count": 10,
     "metadata": {},
     "output_type": "execute_result"
    }
   ],
   "source": [
    "page.find('title').text\n"
   ]
  },
  {
   "cell_type": "markdown",
   "metadata": {},
   "source": [
    "# Find news content"
   ]
  },
  {
   "cell_type": "code",
   "execution_count": 11,
   "metadata": {},
   "outputs": [
    {
     "data": {
      "text/plain": [
       "[<p>近幾年各大企業發展 AI 技術，就連遊戲產業都陸續開始應用與展示概念，<a class=\"link yahoo-link\" data-i13n=\"cpos:1;pos:1\" data-ylk=\"slk:像是微軟在 2024 年 5 月，以自家《Minecraft》為例;cpos:1;pos:1;elm:context_link;itc:0;sec:content-canvas;outcm:mb_qualified_link;_E:mb_qualified_link;ct:story;\" href=\"https://tw.news.yahoo.com/%E5%8F%96%E4%BB%A3%E5%82%B3%E7%B5%B1%E6%94%BB%E7%95%A5%EF%BC%81%E5%BE%AE%E8%BB%9F%E7%94%A8%E3%80%8Aminecraft%E3%80%8B%E5%B1%95%E7%A4%BAai%E5%8D%94%E5%8A%A9%E9%81%8A%E6%88%B2%EF%BC%8C%E8%83%BD%E7%9C%8B%E8%A6%8B%E3%80%81%E8%81%BD%E8%A6%8B%E3%80%81%E6%8F%90%E4%BE%9B%E5%B9%AB%E5%8A%A9-042528008.html\">像是微軟在 2024 年 5 月，以自家《Minecraft》為例</a>，展示了可以進行即時對話與反應的 AI，提供攻略與指令來幫助玩家。而日前，微軟發表了一款名為「Muse」的全新 AI 模型，展示了它能用在生成電子遊戲畫面與動作的全新技術，但公開後社群評價則是十分兩極化。</p>,\n",
       " <p>知名遊戲媒體人 Geoff Keighley 日前在社群平台 X 上分享了一段由 Muse 生成的遊戲畫面，雖然看上去仍有些模糊，距離實際應用仍有一段距離，但已可清楚辨識角色動作、招式及敵人等，皆由 AI 運算而成。這些展示影片內容，AI 都是以 Ninja Theory 開發的多人對戰遊戲《嗜血邊緣》（Bleeding Edge）作為訓練素材。</p>,\n",
       " <p>Microsoft has announced \"Muse,\" a generative AI model of a video game built by Microsoft in collaboration with Ninja Theory. <br/><br/>This video shows entirely new sequences of Bleeding Edge gameplay created under human guidance. <br/><br/>More here: <a class=\"link\" data-ylk=\"slk:https://t.co/AkM5JXtIeM;elm:context_link;itc:0;sec:content-canvas\" href=\"https://t.co/AkM5JXtIeM\" rel=\"nofollow noopener\" target=\"_blank\">https://t.co/AkM5JXtIeM</a> <a class=\"link\" data-ylk=\"slk:pic.twitter.com/eSTbKXlleR;elm:context_link;itc:0;sec:content-canvas\" href=\"https://t.co/eSTbKXlleR\" rel=\"nofollow noopener\" target=\"_blank\">pic.twitter.com/eSTbKXlleR</a></p>,\n",
       " <p>— Geoff Keighley (@geoffkeighley) <a class=\"link\" data-ylk=\"slk:February 19, 2025;elm:context_link;itc:0;sec:content-canvas\" href=\"https://twitter.com/geoffkeighley/status/1892351575802147200?ref_src=twsrc%5Etfw\" rel=\"nofollow noopener\" target=\"_blank\">February 19, 2025</a></p>,\n",
       " <p><a class=\"link\" data-i13n=\"cpos:2;pos:1\" data-ylk=\"slk:微軟遊戲 AI 部門副總裁 Fatima Kardar 表示：;cpos:2;pos:1;elm:context_link;itc:0;sec:content-canvas\" href=\"https://news.xbox.com/en-us/2025/02/19/muse-ai-xbox-empowering-creators-and-players/\" rel=\"nofollow noopener\" target=\"_blank\">微軟遊戲 AI 部門副總裁 Fatima Kardar 表示：</a>「我們已將 Muse 應用於開發即時可玩的 AI 模型，且這項技術在未來有望同時造福玩家與遊戲開發者。」微軟也透露，Muse 目前仍處於早期開發階段，更多相關細節預計於 2025 年的遊戲開發者大會（GDC）上公布。</p>,\n",
       " <p>對於 AI 生成遊戲，社群反應不一。支持者認為，這有助於中小型團隊甚至獨立開發者減輕負擔，只需專注於程式碼、玩法設計等核心元素，其餘畫面與動作可交由 AI 生成，若價格合理，將大幅降低開發風險。</p>,\n",
       " <p>然而，反對者認為目前 Muse 展示的畫面缺乏靈魂，並擔憂可能取代大量遊戲美術與動畫師的工作。有玩家表示：「微軟只是想用 AI 取代開發人員」、「為什麼微軟不『生成』一些第一方獨佔遊戲」、「乾脆讓 AI 取代高層」、「科技公司正試圖抹煞藝術中的人性」、「這畫面看起來比獨立開發者 24 小時內做出的 Game Jam 作品還糟」。</p>]"
      ]
     },
     "execution_count": 11,
     "metadata": {},
     "output_type": "execute_result"
    }
   ],
   "source": [
    "page.findAll('p')"
   ]
  },
  {
   "cell_type": "code",
   "execution_count": 12,
   "metadata": {},
   "outputs": [
    {
     "name": "stdout",
     "output_type": "stream",
     "text": [
      "https://s.yimg.com/aaq/art/js/caas.40f4c8a2980af77c2ce9bdc2e53f50a5.js\n",
      "https://s.yimg.com/aaq/art/js/caas.40f4c8a2980af77c2ce9bdc2e53f50a5.js\n",
      "https://s.yimg.com/aaq/art/js/caas.40f4c8a2980af77c2ce9bdc2e53f50a5.js\n",
      "https://s.yimg.com/aaq/art/js/caas.40f4c8a2980af77c2ce9bdc2e53f50a5.js\n",
      "https://s.yimg.com/aaq/art/js/caas.40f4c8a2980af77c2ce9bdc2e53f50a5.js\n",
      "https://s.yimg.com/aaq/art/js/caas.40f4c8a2980af77c2ce9bdc2e53f50a5.js\n",
      "https://s.yimg.com/aaq/art/js/caas.40f4c8a2980af77c2ce9bdc2e53f50a5.js\n",
      "https://s.yimg.com/aaq/art/js/caas.40f4c8a2980af77c2ce9bdc2e53f50a5.js\n",
      "https://s.yimg.com/aaq/art/js/caas.40f4c8a2980af77c2ce9bdc2e53f50a5.js\n",
      "https://s.yimg.com/aaq/art/js/caas.40f4c8a2980af77c2ce9bdc2e53f50a5.js\n",
      "https://s.yimg.com/aaq/art/js/caas.40f4c8a2980af77c2ce9bdc2e53f50a5.js\n",
      "https://s.yimg.com/aaq/art/js/caas.40f4c8a2980af77c2ce9bdc2e53f50a5.js\n",
      "https://s.yimg.com/aaq/art/js/caas.40f4c8a2980af77c2ce9bdc2e53f50a5.js\n",
      "https://s.yimg.com/aaq/art/js/caas.40f4c8a2980af77c2ce9bdc2e53f50a5.js\n",
      "https://s.yimg.com/aaq/art/js/caas.40f4c8a2980af77c2ce9bdc2e53f50a5.js\n",
      "https://s.yimg.com/aaq/art/js/caas.40f4c8a2980af77c2ce9bdc2e53f50a5.js\n",
      "https://s.yimg.com/aaq/art/js/caas.40f4c8a2980af77c2ce9bdc2e53f50a5.js\n",
      "https://s.yimg.com/aaq/art/js/caas.40f4c8a2980af77c2ce9bdc2e53f50a5.js\n",
      "https://s.yimg.com/aaq/art/js/caas.40f4c8a2980af77c2ce9bdc2e53f50a5.js\n",
      "https://s.yimg.com/aaq/art/js/caas.40f4c8a2980af77c2ce9bdc2e53f50a5.js\n",
      "https://s.yimg.com/aaq/art/js/caas.40f4c8a2980af77c2ce9bdc2e53f50a5.js\n",
      "https://s.yimg.com/aaq/art/js/caas.40f4c8a2980af77c2ce9bdc2e53f50a5.js\n",
      "https://s.yimg.com/aaq/art/js/caas.40f4c8a2980af77c2ce9bdc2e53f50a5.js\n",
      "https://s.yimg.com/aaq/art/js/caas.40f4c8a2980af77c2ce9bdc2e53f50a5.js\n",
      "https://s.yimg.com/aaq/art/js/caas.40f4c8a2980af77c2ce9bdc2e53f50a5.js\n",
      "https://s.yimg.com/aaq/art/js/caas.40f4c8a2980af77c2ce9bdc2e53f50a5.js\n",
      "https://s.yimg.com/aaq/art/js/caas.40f4c8a2980af77c2ce9bdc2e53f50a5.js\n",
      "https://s.yimg.com/aaq/art/js/caas.40f4c8a2980af77c2ce9bdc2e53f50a5.js\n",
      "https://s.yimg.com/aaq/art/js/caas.40f4c8a2980af77c2ce9bdc2e53f50a5.js\n",
      "https://s.yimg.com/aaq/art/js/caas.40f4c8a2980af77c2ce9bdc2e53f50a5.js\n",
      "https://s.yimg.com/aaq/art/js/caas.40f4c8a2980af77c2ce9bdc2e53f50a5.js\n",
      "https://s.yimg.com/aaq/art/js/caas.40f4c8a2980af77c2ce9bdc2e53f50a5.js\n",
      "https://s.yimg.com/aaq/art/js/caas.40f4c8a2980af77c2ce9bdc2e53f50a5.js\n",
      "https://s.yimg.com/aaq/art/js/caas.40f4c8a2980af77c2ce9bdc2e53f50a5.js\n",
      "https://s.yimg.com/aaq/art/js/caas.40f4c8a2980af77c2ce9bdc2e53f50a5.js\n",
      "https://s.yimg.com/aaq/art/js/caas.40f4c8a2980af77c2ce9bdc2e53f50a5.js\n",
      "https://s.yimg.com/aaq/art/js/caas.40f4c8a2980af77c2ce9bdc2e53f50a5.js\n",
      "https://s.yimg.com/aaq/art/js/caas.40f4c8a2980af77c2ce9bdc2e53f50a5.js\n",
      "https://s.yimg.com/aaq/art/js/caas.40f4c8a2980af77c2ce9bdc2e53f50a5.js\n",
      "https://s.yimg.com/aaq/art/js/caas.40f4c8a2980af77c2ce9bdc2e53f50a5.js\n",
      "https://s.yimg.com/aaq/art/js/caas.40f4c8a2980af77c2ce9bdc2e53f50a5.js\n",
      "https://s.yimg.com/aaq/art/js/caas.40f4c8a2980af77c2ce9bdc2e53f50a5.js\n",
      "https://s.yimg.com/aaq/art/js/caas.40f4c8a2980af77c2ce9bdc2e53f50a5.js\n"
     ]
    }
   ],
   "source": [
    "data=page.findAll('script',{'type':\"text/javascript\"})\n",
    "for i in data:\n",
    "    result = page.find('script',{'type':\"text/javascript\"})['src']\n",
    "    print(result)"
   ]
  },
  {
   "cell_type": "markdown",
   "metadata": {},
   "source": [
    "# Find date"
   ]
  },
  {
   "cell_type": "code",
   "execution_count": 13,
   "metadata": {},
   "outputs": [
    {
     "data": {
      "text/plain": [
       "'2025年2月24日 下午1:11'"
      ]
     },
     "execution_count": 13,
     "metadata": {},
     "output_type": "execute_result"
    }
   ],
   "source": [
    "page.find('time',{'class':\"caas-attr-meta-time\"}).text"
   ]
  },
  {
   "cell_type": "markdown",
   "metadata": {},
   "source": [
    "### convert string to python date time with custome format"
   ]
  },
  {
   "cell_type": "code",
   "execution_count": 14,
   "metadata": {},
   "outputs": [],
   "source": [
    "from datetime import datetime"
   ]
  },
  {
   "cell_type": "code",
   "execution_count": 15,
   "metadata": {},
   "outputs": [],
   "source": [
    "dt = page.find('time',{'class':\"caas-attr-meta-time\"}).text"
   ]
  },
  {
   "cell_type": "code",
   "execution_count": 16,
   "metadata": {},
   "outputs": [
    {
     "data": {
      "text/plain": [
       "'2025年2月24日 下午1:11'"
      ]
     },
     "execution_count": 16,
     "metadata": {},
     "output_type": "execute_result"
    }
   ],
   "source": [
    "dt"
   ]
  },
  {
   "cell_type": "code",
   "execution_count": 17,
   "metadata": {},
   "outputs": [],
   "source": [
    "dt=re.sub('下午','', dt)\n"
   ]
  },
  {
   "cell_type": "code",
   "execution_count": 18,
   "metadata": {},
   "outputs": [
    {
     "data": {
      "text/plain": [
       "'2025年2月24日 1:11'"
      ]
     },
     "execution_count": 18,
     "metadata": {},
     "output_type": "execute_result"
    }
   ],
   "source": [
    "dt"
   ]
  },
  {
   "cell_type": "code",
   "execution_count": 19,
   "metadata": {},
   "outputs": [],
   "source": [
    "idt = datetime.strptime(dt, '%Y年%m月%d日 %H:%M')\n",
    "idt = idt.strftime('%Y/%m/%d %H:%M')"
   ]
  },
  {
   "cell_type": "code",
   "execution_count": 20,
   "metadata": {},
   "outputs": [
    {
     "data": {
      "text/plain": [
       "'2025/02/24 01:11'"
      ]
     },
     "execution_count": 20,
     "metadata": {},
     "output_type": "execute_result"
    }
   ],
   "source": [
    "idt"
   ]
  },
  {
   "cell_type": "code",
   "execution_count": 21,
   "metadata": {},
   "outputs": [
    {
     "data": {
      "text/plain": [
       "'2025年2月24日 1:11'"
      ]
     },
     "execution_count": 21,
     "metadata": {},
     "output_type": "execute_result"
    }
   ],
   "source": [
    "dt"
   ]
  },
  {
   "cell_type": "code",
   "execution_count": 22,
   "metadata": {},
   "outputs": [
    {
     "data": {
      "text/plain": [
       "datetime.datetime(2025, 2, 24, 1, 11)"
      ]
     },
     "execution_count": 22,
     "metadata": {},
     "output_type": "execute_result"
    }
   ],
   "source": [
    "datetime.strptime(idt, '%Y/%m/%d %H:%M')"
   ]
  },
  {
   "cell_type": "code",
   "execution_count": 23,
   "metadata": {},
   "outputs": [],
   "source": [
    "date_time = datetime.strptime(idt, '%Y/%m/%d %H:%M')"
   ]
  },
  {
   "cell_type": "code",
   "execution_count": 24,
   "metadata": {},
   "outputs": [
    {
     "data": {
      "text/plain": [
       "datetime.date(2025, 2, 24)"
      ]
     },
     "execution_count": 24,
     "metadata": {},
     "output_type": "execute_result"
    }
   ],
   "source": [
    "date_time.date()"
   ]
  },
  {
   "cell_type": "code",
   "execution_count": 25,
   "metadata": {},
   "outputs": [
    {
     "data": {
      "text/plain": [
       "datetime.time(1, 11)"
      ]
     },
     "execution_count": 25,
     "metadata": {},
     "output_type": "execute_result"
    }
   ],
   "source": [
    "date_time.time()"
   ]
  },
  {
   "cell_type": "code",
   "execution_count": 26,
   "metadata": {},
   "outputs": [
    {
     "data": {
      "text/plain": [
       "'20250224'"
      ]
     },
     "execution_count": 26,
     "metadata": {},
     "output_type": "execute_result"
    }
   ],
   "source": [
    "date_time.strftime(\"%Y%m%d\")"
   ]
  },
  {
   "cell_type": "code",
   "execution_count": 27,
   "metadata": {},
   "outputs": [
    {
     "data": {
      "text/plain": [
       "'2025-02-24'"
      ]
     },
     "execution_count": 27,
     "metadata": {},
     "output_type": "execute_result"
    }
   ],
   "source": [
    "# We will save this date format in a csv file later.\n",
    "date_time.strftime(\"%Y-%m-%d\")"
   ]
  },
  {
   "cell_type": "code",
   "execution_count": 28,
   "metadata": {},
   "outputs": [
    {
     "data": {
      "text/plain": [
       "'2025/02/24'"
      ]
     },
     "execution_count": 28,
     "metadata": {},
     "output_type": "execute_result"
    }
   ],
   "source": [
    "date_time.strftime(\"%Y/%m/%d\")"
   ]
  },
  {
   "cell_type": "markdown",
   "metadata": {},
   "source": [
    "# Find image link\n",
    "    <div class=\"floatImg center\"><div class=\"wrap\"><img src=\"https://imgcdn.cna.com.tw/www/WebPhotos/1024/20210313/2000x1333_0656311277803.jpg\" alt=\"媒體報導國造雲豹8輪甲車底盤魚眼軸承防塵套破裂、漏油。國防部回應，甲車上的防塵保護套因長期使用破損，屬於正常現象，已列定期更換項目。（中央社檔案照片）\"></div><div class=\"picinfo\">媒體報導國造雲豹8輪甲車底盤魚眼軸承防塵套破裂、漏油。國防部回應，甲車上的防塵保護套因長期使用破損，屬於正常現象，已列定期更換項目。（中央社檔案照片）</div></div>"
   ]
  },
  {
   "cell_type": "code",
   "execution_count": 29,
   "metadata": {},
   "outputs": [],
   "source": [
    "page = BeautifulSoup(req.text,'lxml')"
   ]
  },
  {
   "cell_type": "code",
   "execution_count": 30,
   "metadata": {},
   "outputs": [
    {
     "data": {
      "text/plain": [
       "<div class=\"caas-img-container caas-img-loader\" style=\"padding-bottom:56%\"><img alt=\"（圖源：Xbox）\" class=\"caas-img caas-lazy has-preview\" data-src=\"https://s.yimg.com/ny/api/res/1.2/X5yHcCES.IcZJwibXDdwsQ--/YXBwaWQ9aGlnaGxhbmRlcjt3PTY0MDtoPTM2MA--/https://s.yimg.com/os/creatr-uploaded-images/2025-02/6d26a160-f26d-11ef-b79b-0381b8da326e\"/><noscript><img alt=\"（圖源：Xbox）\" class=\"caas-img\" src=\"https://s.yimg.com/ny/api/res/1.2/X5yHcCES.IcZJwibXDdwsQ--/YXBwaWQ9aGlnaGxhbmRlcjt3PTY0MDtoPTM2MA--/https://s.yimg.com/os/creatr-uploaded-images/2025-02/6d26a160-f26d-11ef-b79b-0381b8da326e\"/></noscript></div>"
      ]
     },
     "execution_count": 30,
     "metadata": {},
     "output_type": "execute_result"
    }
   ],
   "source": [
    "page.find('div',{'class':\"caas-img-container\"})"
   ]
  },
  {
   "cell_type": "code",
   "execution_count": 31,
   "metadata": {},
   "outputs": [
    {
     "data": {
      "text/plain": [
       "<img alt=\"（圖源：Xbox）\" class=\"caas-img caas-lazy has-preview\" data-src=\"https://s.yimg.com/ny/api/res/1.2/X5yHcCES.IcZJwibXDdwsQ--/YXBwaWQ9aGlnaGxhbmRlcjt3PTY0MDtoPTM2MA--/https://s.yimg.com/os/creatr-uploaded-images/2025-02/6d26a160-f26d-11ef-b79b-0381b8da326e\"/>"
      ]
     },
     "execution_count": 31,
     "metadata": {},
     "output_type": "execute_result"
    }
   ],
   "source": [
    "page.find('div',{'class':\"caas-img-container\"}).find('img')"
   ]
  },
  {
   "cell_type": "code",
   "execution_count": 32,
   "metadata": {},
   "outputs": [
    {
     "data": {
      "text/plain": [
       "'https://s.yimg.com/ny/api/res/1.2/X5yHcCES.IcZJwibXDdwsQ--/YXBwaWQ9aGlnaGxhbmRlcjt3PTY0MDtoPTM2MA--/https://s.yimg.com/os/creatr-uploaded-images/2025-02/6d26a160-f26d-11ef-b79b-0381b8da326e'"
      ]
     },
     "execution_count": 32,
     "metadata": {},
     "output_type": "execute_result"
    }
   ],
   "source": [
    "page.find('div',{'class':\"caas-img-container\"}).find('img')['data-src']"
   ]
  },
  {
   "cell_type": "markdown",
   "metadata": {},
   "source": [
    "## using try except to set empty photo_link if there is no photo link"
   ]
  },
  {
   "cell_type": "code",
   "execution_count": 33,
   "metadata": {},
   "outputs": [],
   "source": [
    "try:\n",
    "    photo_link = page.find('figure',{'class':\"floatImg center\"}).find('img').get('src')\n",
    "except:\n",
    "    photo_link = ''"
   ]
  },
  {
   "cell_type": "code",
   "execution_count": 35,
   "metadata": {},
   "outputs": [
    {
     "name": "stdout",
     "output_type": "stream",
     "text": [
      "/_td_api/beacon/info?beaconType=noJSenabled&bucket=news-TW-zh-Hant-TW-def&code=pageRender&device=smartphone&lang=zh-Hant-TW&pageName=deeplink&region=TW&rid=1r634dljsv6bv&site=news&t=1741658495406\n"
     ]
    }
   ],
   "source": [
    "img_src = page.find('img')\n",
    "try:\n",
    "    if img_src.has_attr('data-src'):\n",
    "        photo_link = img_src.get('data-src')\n",
    "    else:\n",
    "        photo_link = img_src.get('src')\n",
    "except:\n",
    "    photo_link = ''\n",
    "print(photo_link)"
   ]
  },
  {
   "cell_type": "markdown",
   "metadata": {},
   "source": [
    "## Remove unnecessary element using decompose()"
   ]
  },
  {
   "cell_type": "code",
   "execution_count": 39,
   "metadata": {},
   "outputs": [],
   "source": [
    "content = page.findAll('p', {'class':\"\"})"
   ]
  },
  {
   "cell_type": "code",
   "execution_count": 40,
   "metadata": {},
   "outputs": [
    {
     "data": {
      "text/plain": [
       "[<p>近幾年各大企業發展 AI 技術，就連遊戲產業都陸續開始應用與展示概念，<a class=\"link yahoo-link\" data-i13n=\"cpos:1;pos:1\" data-ylk=\"slk:像是微軟在 2024 年 5 月，以自家《Minecraft》為例;cpos:1;pos:1;elm:context_link;itc:0;sec:content-canvas;outcm:mb_qualified_link;_E:mb_qualified_link;ct:story;\" href=\"https://tw.news.yahoo.com/%E5%8F%96%E4%BB%A3%E5%82%B3%E7%B5%B1%E6%94%BB%E7%95%A5%EF%BC%81%E5%BE%AE%E8%BB%9F%E7%94%A8%E3%80%8Aminecraft%E3%80%8B%E5%B1%95%E7%A4%BAai%E5%8D%94%E5%8A%A9%E9%81%8A%E6%88%B2%EF%BC%8C%E8%83%BD%E7%9C%8B%E8%A6%8B%E3%80%81%E8%81%BD%E8%A6%8B%E3%80%81%E6%8F%90%E4%BE%9B%E5%B9%AB%E5%8A%A9-042528008.html\">像是微軟在 2024 年 5 月，以自家《Minecraft》為例</a>，展示了可以進行即時對話與反應的 AI，提供攻略與指令來幫助玩家。而日前，微軟發表了一款名為「Muse」的全新 AI 模型，展示了它能用在生成電子遊戲畫面與動作的全新技術，但公開後社群評價則是十分兩極化。</p>,\n",
       " <p>知名遊戲媒體人 Geoff Keighley 日前在社群平台 X 上分享了一段由 Muse 生成的遊戲畫面，雖然看上去仍有些模糊，距離實際應用仍有一段距離，但已可清楚辨識角色動作、招式及敵人等，皆由 AI 運算而成。這些展示影片內容，AI 都是以 Ninja Theory 開發的多人對戰遊戲《嗜血邊緣》（Bleeding Edge）作為訓練素材。</p>,\n",
       " <p>Microsoft has announced \"Muse,\" a generative AI model of a video game built by Microsoft in collaboration with Ninja Theory. <br/><br/>This video shows entirely new sequences of Bleeding Edge gameplay created under human guidance. <br/><br/>More here: <a class=\"link\" data-ylk=\"slk:https://t.co/AkM5JXtIeM;elm:context_link;itc:0;sec:content-canvas\" href=\"https://t.co/AkM5JXtIeM\" rel=\"nofollow noopener\" target=\"_blank\">https://t.co/AkM5JXtIeM</a> <a class=\"link\" data-ylk=\"slk:pic.twitter.com/eSTbKXlleR;elm:context_link;itc:0;sec:content-canvas\" href=\"https://t.co/eSTbKXlleR\" rel=\"nofollow noopener\" target=\"_blank\">pic.twitter.com/eSTbKXlleR</a></p>,\n",
       " <p>— Geoff Keighley (@geoffkeighley) <a class=\"link\" data-ylk=\"slk:February 19, 2025;elm:context_link;itc:0;sec:content-canvas\" href=\"https://twitter.com/geoffkeighley/status/1892351575802147200?ref_src=twsrc%5Etfw\" rel=\"nofollow noopener\" target=\"_blank\">February 19, 2025</a></p>,\n",
       " <p><a class=\"link\" data-i13n=\"cpos:2;pos:1\" data-ylk=\"slk:微軟遊戲 AI 部門副總裁 Fatima Kardar 表示：;cpos:2;pos:1;elm:context_link;itc:0;sec:content-canvas\" href=\"https://news.xbox.com/en-us/2025/02/19/muse-ai-xbox-empowering-creators-and-players/\" rel=\"nofollow noopener\" target=\"_blank\">微軟遊戲 AI 部門副總裁 Fatima Kardar 表示：</a>「我們已將 Muse 應用於開發即時可玩的 AI 模型，且這項技術在未來有望同時造福玩家與遊戲開發者。」微軟也透露，Muse 目前仍處於早期開發階段，更多相關細節預計於 2025 年的遊戲開發者大會（GDC）上公布。</p>,\n",
       " <p>對於 AI 生成遊戲，社群反應不一。支持者認為，這有助於中小型團隊甚至獨立開發者減輕負擔，只需專注於程式碼、玩法設計等核心元素，其餘畫面與動作可交由 AI 生成，若價格合理，將大幅降低開發風險。</p>,\n",
       " <p>然而，反對者認為目前 Muse 展示的畫面缺乏靈魂，並擔憂可能取代大量遊戲美術與動畫師的工作。有玩家表示：「微軟只是想用 AI 取代開發人員」、「為什麼微軟不『生成』一些第一方獨佔遊戲」、「乾脆讓 AI 取代高層」、「科技公司正試圖抹煞藝術中的人性」、「這畫面看起來比獨立開發者 24 小時內做出的 Game Jam 作品還糟」。</p>]"
      ]
     },
     "execution_count": 40,
     "metadata": {},
     "output_type": "execute_result"
    }
   ],
   "source": [
    "content "
   ]
  },
  {
   "cell_type": "markdown",
   "metadata": {},
   "source": [
    "### Remove \"透過 Google News追蹤中央社\"\n",
    "(學生爬取網站並無此類div)"
   ]
  },
  {
   "cell_type": "code",
   "execution_count": null,
   "metadata": {},
   "outputs": [],
   "source": [
    "# content.find('div', {'class':\"gmailNews\"})"
   ]
  },
  {
   "cell_type": "code",
   "execution_count": null,
   "metadata": {},
   "outputs": [
    {
     "ename": "AttributeError",
     "evalue": "'NoneType' object has no attribute 'decompose'",
     "output_type": "error",
     "traceback": [
      "\u001b[1;31m---------------------------------------------------------------------------\u001b[0m",
      "\u001b[1;31mAttributeError\u001b[0m                            Traceback (most recent call last)",
      "Cell \u001b[1;32mIn[159], line 1\u001b[0m\n\u001b[1;32m----> 1\u001b[0m \u001b[43mcontent\u001b[49m\u001b[38;5;241;43m.\u001b[39;49m\u001b[43mfind\u001b[49m\u001b[43m(\u001b[49m\u001b[38;5;124;43m'\u001b[39;49m\u001b[38;5;124;43mdiv\u001b[39;49m\u001b[38;5;124;43m'\u001b[39;49m\u001b[43m,\u001b[49m\u001b[43m \u001b[49m\u001b[43m{\u001b[49m\u001b[38;5;124;43m'\u001b[39;49m\u001b[38;5;124;43mclass\u001b[39;49m\u001b[38;5;124;43m'\u001b[39;49m\u001b[43m:\u001b[49m\u001b[38;5;124;43m\"\u001b[39;49m\u001b[38;5;124;43mgmailNews\u001b[39;49m\u001b[38;5;124;43m\"\u001b[39;49m\u001b[43m}\u001b[49m\u001b[43m)\u001b[49m\u001b[38;5;241;43m.\u001b[39;49m\u001b[43mdecompose\u001b[49m()\n",
      "\u001b[1;31mAttributeError\u001b[0m: 'NoneType' object has no attribute 'decompose'"
     ]
    }
   ],
   "source": [
    "# content.find('div', {'class':\"gmailNews\"}).decompose()"
   ]
  },
  {
   "cell_type": "markdown",
   "metadata": {},
   "source": [
    "### Remove \"訂閱《早安世界》電子報\""
   ]
  },
  {
   "cell_type": "code",
   "execution_count": null,
   "metadata": {},
   "outputs": [
    {
     "data": {
      "text/plain": [
       "<div class=\"subscriInnTitle\">訂閱《早安世界》電子報 每天3分鐘掌握10件天下事</div>"
      ]
     },
     "execution_count": 160,
     "metadata": {},
     "output_type": "execute_result"
    }
   ],
   "source": [
    "content.find('div', {'class':\"subscriInnTitle\"})"
   ]
  },
  {
   "cell_type": "code",
   "execution_count": null,
   "metadata": {},
   "outputs": [],
   "source": [
    "content.find('div', {'class':\"subscriInnTitle\"}).decompose()"
   ]
  },
  {
   "cell_type": "code",
   "execution_count": null,
   "metadata": {},
   "outputs": [],
   "source": [
    "\n",
    "content = page.find('div',{'class':\"paragraph\"})\n",
    "\n",
    "# Remove unnecessary content\n",
    "\n",
    "# Remove \"透過 Google News追蹤中央社\"\n",
    "try:\n",
    "    content.find('div', {'class':\"gmailNews\"}).decompose()\n",
    "except:\n",
    "    pass\n",
    "\n",
    "# remove \"訂閱早安電子報\"\n",
    "try:\n",
    "    content.find('div', {'class':\"subscriInnTitle\"}).decompose()\n",
    "except:\n",
    "    pass\n",
    "\n",
    "# 額外插入的訂閱連結-->移除之\n",
    "try:\n",
    "    content.find('div', {'class':\"SubscriptionInner mySubscriptionInner\"}).decompose()\n",
    "except:\n",
    "    pass\n",
    "\n",
    "# 額外插入的延伸閱讀區塊-->移除之\n",
    "try:\n",
    "    content.find('div', {'class':\"paragraph moreArticle\"}).decompose()\n",
    "except:\n",
    "    pass\n",
    "\n",
    "# 額外插入的圖片與文字說明區塊-->移除之\n",
    "try:\n",
    "    for media in content.findAll('div', {'class':\"media\"}):\n",
    "        media.decompose()\n",
    "except:\n",
    "    pass"
   ]
  },
  {
   "cell_type": "code",
   "execution_count": 42,
   "metadata": {},
   "outputs": [],
   "source": [
    "content_list=[]\n",
    "for c in content:\n",
    "        text = c.get_text()  \n",
    "        content_list.append(text)"
   ]
  },
  {
   "cell_type": "code",
   "execution_count": 43,
   "metadata": {},
   "outputs": [
    {
     "data": {
      "text/plain": [
       "['近幾年各大企業發展 AI 技術，就連遊戲產業都陸續開始應用與展示概念，像是微軟在 2024 年 5 月，以自家《Minecraft》為例，展示了可以進行即時對話與反應的 AI，提供攻略與指令來幫助玩家。而日前，微軟發表了一款名為「Muse」的全新 AI 模型，展示了它能用在生成電子遊戲畫面與動作的全新技術，但公開後社群評價則是十分兩極化。',\n",
       " '知名遊戲媒體人 Geoff Keighley 日前在社群平台 X 上分享了一段由 Muse 生成的遊戲畫面，雖然看上去仍有些模糊，距離實際應用仍有一段距離，但已可清楚辨識角色動作、招式及敵人等，皆由 AI 運算而成。這些展示影片內容，AI 都是以 Ninja Theory 開發的多人對戰遊戲《嗜血邊緣》（Bleeding Edge）作為訓練素材。',\n",
       " 'Microsoft has announced \"Muse,\" a generative AI model of a video game built by Microsoft in collaboration with Ninja Theory. This video shows entirely new sequences of Bleeding Edge gameplay created under human guidance. More here: https://t.co/AkM5JXtIeM pic.twitter.com/eSTbKXlleR',\n",
       " '— Geoff Keighley (@geoffkeighley) February 19, 2025',\n",
       " '微軟遊戲 AI 部門副總裁 Fatima Kardar 表示：「我們已將 Muse 應用於開發即時可玩的 AI 模型，且這項技術在未來有望同時造福玩家與遊戲開發者。」微軟也透露，Muse 目前仍處於早期開發階段，更多相關細節預計於 2025 年的遊戲開發者大會（GDC）上公布。',\n",
       " '對於 AI 生成遊戲，社群反應不一。支持者認為，這有助於中小型團隊甚至獨立開發者減輕負擔，只需專注於程式碼、玩法設計等核心元素，其餘畫面與動作可交由 AI 生成，若價格合理，將大幅降低開發風險。',\n",
       " '然而，反對者認為目前 Muse 展示的畫面缺乏靈魂，並擔憂可能取代大量遊戲美術與動畫師的工作。有玩家表示：「微軟只是想用 AI 取代開發人員」、「為什麼微軟不『生成』一些第一方獨佔遊戲」、「乾脆讓 AI 取代高層」、「科技公司正試圖抹煞藝術中的人性」、「這畫面看起來比獨立開發者 24 小時內做出的 Game Jam 作品還糟」。']"
      ]
     },
     "execution_count": 43,
     "metadata": {},
     "output_type": "execute_result"
    }
   ],
   "source": [
    "content_list"
   ]
  },
  {
   "cell_type": "markdown",
   "metadata": {},
   "source": [
    "# Remove some unnecessary words in content ssing re"
   ]
  },
  {
   "cell_type": "code",
   "execution_count": null,
   "metadata": {},
   "outputs": [],
   "source": [
    "content=\"\"\n",
    "for p in page.findAll('p'):\n",
    "    content+=p.text+\"\\n\"\n"
   ]
  },
  {
   "cell_type": "code",
   "execution_count": null,
   "metadata": {},
   "outputs": [
    {
     "name": "stdout",
     "output_type": "stream",
     "text": [
      "近幾年各大企業發展 AI 技術，就連遊戲產業都陸續開始應用與展示概念，像是微軟在 2024 年 5 月，以自家《Minecraft》為例，展示了可以進行即時對話與反應的 AI，提供攻略與指令來幫助玩家。而日前，微軟發表了一款名為「Muse」的全新 AI 模型，展示了它能用在生成電子遊戲畫面與動作的全新技術，但公開後社群評價則是十分兩極化。\n",
      "知名遊戲媒體人 Geoff Keighley 日前在社群平台 X 上分享了一段由 Muse 生成的遊戲畫面，雖然看上去仍有些模糊，距離實際應用仍有一段距離，但已可清楚辨識角色動作、招式及敵人等，皆由 AI 運算而成。這些展示影片內容，AI 都是以 Ninja Theory 開發的多人對戰遊戲《嗜血邊緣》（Bleeding Edge）作為訓練素材。\n",
      "Microsoft has announced \"Muse,\" a generative AI model of a video game built by Microsoft in collaboration with Ninja Theory. This video shows entirely new sequences of Bleeding Edge gameplay created under human guidance. More here: https://t.co/AkM5JXtIeM pic.twitter.com/eSTbKXlleR\n",
      "— Geoff Keighley (@geoffkeighley) February 19, 2025\n",
      "微軟遊戲 AI 部門副總裁 Fatima Kardar 表示：「我們已將 Muse 應用於開發即時可玩的 AI 模型，且這項技術在未來有望同時造福玩家與遊戲開發者。」微軟也透露，Muse 目前仍處於早期開發階段，更多相關細節預計於 2025 年的遊戲開發者大會（GDC）上公布。\n",
      "對於 AI 生成遊戲，社群反應不一。支持者認為，這有助於中小型團隊甚至獨立開發者減輕負擔，只需專注於程式碼、玩法設計等核心元素，其餘畫面與動作可交由 AI 生成，若價格合理，將大幅降低開發風險。\n",
      "然而，反對者認為目前 Muse 展示的畫面缺乏靈魂，並擔憂可能取代大量遊戲美術與動畫師的工作。有玩家表示：「微軟只是想用 AI 取代開發人員」、「為什麼微軟不『生成』一些第一方獨佔遊戲」、「乾脆讓 AI 取代高層」、「科技公司正試圖抹煞藝術中的人性」、「這畫面看起來比獨立開發者 24 小時內做出的 Game Jam 作品還糟」。\n",
      "\n"
     ]
    }
   ],
   "source": [
    "print(content)"
   ]
  },
  {
   "cell_type": "markdown",
   "metadata": {},
   "source": [
    "## How to remove string by regular expression"
   ]
  },
  {
   "cell_type": "code",
   "execution_count": null,
   "metadata": {},
   "outputs": [
    {
     "data": {
      "text/plain": [
       "'近幾年各大企業發展 AI 技術，就連遊戲產業都陸續開始應用與展示概念，像是微軟在 2024 年 5 月，以自家《Minecraft》為例，展示了可以進行即時對話與反應的 AI，提供攻略與指令來幫助玩家。而日前，微軟發表了一款名為「Muse」的全新 AI 模型，展示了它能用在生成電子遊戲畫面與動作的全新技術，但公開後社群評價則是十分兩極化。\\n知名遊戲媒體人 Geoff Keighley 日前在社群平台 X 上分享了一段由 Muse 生成的遊戲畫面，雖然看上去仍有些模糊，距離實際應用仍有一段距離，但已可清楚辨識角色動作、招式及敵人等，皆由 AI 運算而成。這些展示影片內容，AI 都是以 Ninja Theory 開發的多人對戰遊戲《嗜血邊緣》（Bleeding Edge）作為訓練素材。\\nMicrosoft has announced \"Muse,\" a generative AI model of a video game built by Microsoft in collaboration with Ninja Theory. This video shows entirely new sequences of Bleeding Edge gameplay created under human guidance. More here: https://t.co/AkM5JXtIeM pic.twitter.com/eSTbKXlleR\\n— Geoff Keighley (@geoffkeighley) February 19, 2025\\n微軟遊戲 AI 部門副總裁 Fatima Kardar 表示：「我們已將 Muse 應用於開發即時可玩的 AI 模型，且這項技術在未來有望同時造福玩家與遊戲開發者。」微軟也透露，Muse 目前仍處於早期開發階段，更多相關細節預計於 2025 年的遊戲開發者大會（GDC）上公布。\\n對於 AI 生成遊戲，社群反應不一。支持者認為，這有助於中小型團隊甚至獨立開發者減輕負擔，只需專注於程式碼、玩法設計等核心元素，其餘畫面與動作可交由 AI 生成，若價格合理，將大幅降低開發風險。\\n然而，反對者認為目前 Muse 展示的畫面缺乏靈魂，並擔憂可能取代大量遊戲美術與動畫師的工作。有玩家表示：「微軟只是想用 AI 取代開發人員」、「為什麼微軟不『生成』一些第一方獨佔遊戲」、「乾脆讓 AI 取代高層」、「科技公司正試圖抹煞藝術中的人性」、「這畫面看起來比獨立開發者 24 小時內做出的 Game Jam 作品還糟」。\\n'"
      ]
     },
     "execution_count": 84,
     "metadata": {},
     "output_type": "execute_result"
    }
   ],
   "source": [
    "content"
   ]
  },
  {
   "cell_type": "code",
   "execution_count": null,
   "metadata": {},
   "outputs": [
    {
     "name": "stdout",
     "output_type": "stream",
     "text": [
      "近幾年各大企業發展 AI 技術，就連遊戲產業都陸續開始應用與展示概念，像是微軟在 2024 年 5 月，以自家《Minecraft》為例，展示了可以進行即時對話與反應的 AI，提供攻略與指令來幫助玩家。而日前，微軟發表了一款名為「Muse」的全新 AI 模型，展示了它能用在生成電子遊戲畫面與動作的全新技術，但公開後社群評價則是十分兩極化。\n",
      "知名遊戲媒體人 Geoff Keighley 日前在社群平台 X 上分享了一段由 Muse 生成的遊戲畫面，雖然看上去仍有些模糊，距離實際應用仍有一段距離，但已可清楚辨識角色動作、招式及敵人等，皆由 AI 運算而成。這些展示影片內容，AI 都是以 Ninja Theory 開發的多人對戰遊戲《嗜血邊緣》（Bleeding Edge）作為訓練素材。\n",
      "Microsoft has announced \"Muse,\" a generative AI model of a video game built by Microsoft in collaboration with Ninja Theory. This video shows entirely new sequences of Bleeding Edge gameplay created under human guidance. More here: https://t.co/AkM5JXtIeM pic.twitter.com/eSTbKXlleR\n",
      "— Geoff Keighley () February 19, 2025\n",
      "微軟遊戲 AI 部門副總裁 Fatima Kardar 表示：「我們已將 Muse 應用於開發即時可玩的 AI 模型，且這項技術在未來有望同時造福玩家與遊戲開發者。」微軟也透露，Muse 目前仍處於早期開發階段，更多相關細節預計於 2025 年的遊戲開發者大會（GDC）上公布。\n",
      "對於 AI 生成遊戲，社群反應不一。支持者認為，這有助於中小型團隊甚至獨立開發者減輕負擔，只需專注於程式碼、玩法設計等核心元素，其餘畫面與動作可交由 AI 生成，若價格合理，將大幅降低開發風險。\n",
      "然而，反對者認為目前 Muse 展示的畫面缺乏靈魂，並擔憂可能取代大量遊戲美術與動畫師的工作。有玩家表示：「微軟只是想用 AI 取代開發人員」、「為什麼微軟不『生成』一些第一方獨佔遊戲」、「乾脆讓 AI 取代高層」、「科技公司正試圖抹煞藝術中的人性」、「這畫面看起來比獨立開發者 24 小時內做出的 Game Jam 作品還糟」。\n",
      "\n"
     ]
    }
   ],
   "source": [
    "# ?表示 Non greedy模式，第一次符合即停止\n",
    "print(re.sub('(@geoffkeighley)','', content))"
   ]
  },
  {
   "cell_type": "code",
   "execution_count": null,
   "metadata": {},
   "outputs": [
    {
     "name": "stdout",
     "output_type": "stream",
     "text": [
      "近幾年各大企業發展 AI 技術，就連遊戲產業都陸續開始應用與展示概念，像是微軟在 2024 年 5 月，以自家《Minecraft》為例，展示了可以進行即時對話與反應的 AI，提供攻略與指令來幫助玩家。而日前，微軟發表了一款名為「Muse」的全新 AI 模型，展示了它能用在生成電子遊戲畫面與動作的全新技術，但公開後社群評價則是十分兩極化。\n",
      "知名遊戲媒體人 Geoff Keighley 日前在社群平台 X 上分享了一段由 Muse 生成的遊戲畫面，雖然看上去仍有些模糊，距離實際應用仍有一段距離，但已可清楚辨識角色動作、招式及敵人等，皆由 AI 運算而成。這些展示影片內容，AI 都是以 Ninja Theory 開發的多人對戰遊戲《嗜血邊緣》（Bleeding Edge）作為訓練素材。\n",
      "Microsoft has announced \"Muse,\" a generative AI model of a video game built by Microsoft in collaboration with Ninja Theory. This video shows entirely new sequences of Bleeding Edge gameplay created under human guidance. More here: https://t.co/AkM5JXtIeM pic.twitter.com/eSTbKXlleR\n",
      "— Geoff Keighley \n",
      "微軟遊戲 AI 部門副總裁 Fatima Kardar 表示：「我們已將 Muse 應用於開發即時可玩的 AI 模型，且這項技術在未來有望同時造福玩家與遊戲開發者。」微軟也透露，Muse 目前仍處於早期開發階段，更多相關細節預計於 2025 年的遊戲開發者大會（GDC）上公布。\n",
      "對於 AI 生成遊戲，社群反應不一。支持者認為，這有助於中小型團隊甚至獨立開發者減輕負擔，只需專注於程式碼、玩法設計等核心元素，其餘畫面與動作可交由 AI 生成，若價格合理，將大幅降低開發風險。\n",
      "然而，反對者認為目前 Muse 展示的畫面缺乏靈魂，並擔憂可能取代大量遊戲美術與動畫師的工作。有玩家表示：「微軟只是想用 AI 取代開發人員」、「為什麼微軟不『生成』一些第一方獨佔遊戲」、「乾脆讓 AI 取代高層」、「科技公司正試圖抹煞藝術中的人性」、「這畫面看起來比獨立開發者 24 小時內做出的 Game Jam 作品還糟」。\n",
      "\n"
     ]
    }
   ],
   "source": [
    "# remove（編輯：郭無患）1100313\n",
    "print(re.sub(r'\\(@[\\w]+\\)\\s+[A-Za-z]+\\s+\\d{1,2},\\s+\\d{4}', '', content))"
   ]
  },
  {
   "cell_type": "markdown",
   "metadata": {},
   "source": [
    "## How to use re? Another example"
   ]
  },
  {
   "cell_type": "code",
   "execution_count": null,
   "metadata": {},
   "outputs": [],
   "source": [
    "import re"
   ]
  },
  {
   "cell_type": "code",
   "execution_count": null,
   "metadata": {},
   "outputs": [],
   "source": [
    "# Another example\n",
    "text = '''近幾年各大企業發展 AI 技術，就連遊戲產業都陸續開始應用與展示概念，像是微軟在 2024 年 5 月，以自家《Minecraft》為例，展示了可以進行即時對話與反應的 AI，提供攻略與指令來幫助玩家。而日前，微軟發表了一款名為「Muse」的全新 AI 模型，展示了它能用在生成電子遊戲畫面與動作的全新技術，但公開後社群評價則是十分兩極化。\n",
    "知名遊戲媒體人 Geoff Keighley 日前在社群平台 X 上分享了一段由 Muse 生成的遊戲畫面，雖然看上去仍有些模糊，距離實際應用仍有一段距離，但已可清楚辨識角色動作、招式及敵人等，皆由 AI 運算而成。這些展示影片內容，AI 都是以 Ninja Theory 開發的多人對戰遊戲《嗜血邊緣》（Bleeding Edge）作為訓練素材。\n",
    "Microsoft has announced \"Muse,\" a generative AI model of a video game built by Microsoft in collaboration with Ninja Theory. This video shows entirely new sequences of Bleeding Edge gameplay created under human guidance. More here: https://t.co/AkM5JXtIeM pic.twitter.com/eSTbKXlleR\n",
    "— Geoff Keighley \n",
    "微軟遊戲 AI 部門副總裁 Fatima Kardar 表示：「我們已將 Muse 應用於開發即時可玩的 AI 模型，且這項技術在未來有望同時造福玩家與遊戲開發者。」微軟也透露，Muse 目前仍處於早期開發階段，更多相關細節預計於 2025 年的遊戲開發者大會（GDC）上公布。\n",
    "對於 AI 生成遊戲，社群反應不一。支持者認為，這有助於中小型團隊甚至獨立開發者減輕負擔，只需專注於程式碼、玩法設計等核心元素，其餘畫面與動作可交由 AI 生成，若價格合理，將大幅降低開發風險。\n",
    "然而，反對者認為目前 Muse 展示的畫面缺乏靈魂，並擔憂可能取代大量遊戲美術與動畫師的工作。有玩家表示：「微軟只是想用 AI 取代開發人員」、「為什麼微軟不『生成』一些第一方獨佔遊戲」、「乾脆讓 AI 取代高層」、「科技公司正試圖抹煞藝術中的人性」、「這畫面看起來比獨立開發者 24 小時內做出的 Game Jam 作品還糟」。'''"
   ]
  },
  {
   "cell_type": "code",
   "execution_count": null,
   "metadata": {},
   "outputs": [],
   "source": [
    "text = re.sub(\n",
    "    r'Microsoft has announced\\s*\"Muse,\".*?More here:\\s*https?://t\\.co/\\S+\\s*pic\\.twitter\\.com/\\S+\\s*—', \n",
    "    '', \n",
    "    text, \n",
    ")\n"
   ]
  },
  {
   "cell_type": "code",
   "execution_count": null,
   "metadata": {},
   "outputs": [
    {
     "name": "stdout",
     "output_type": "stream",
     "text": [
      "近幾年各大企業發展 AI 技術，就連遊戲產業都陸續開始應用與展示概念，像是微軟在 2024 年 5 月，以自家《Minecraft》為例，展示了可以進行即時對話與反應的 AI，提供攻略與指令來幫助玩家。而日前，微軟發表了一款名為「Muse」的全新 AI 模型，展示了它能用在生成電子遊戲畫面與動作的全新技術，但公開後社群評價則是十分兩極化。\n",
      "知名遊戲媒體人 Geoff Keighley 日前在社群平台 X 上分享了一段由 Muse 生成的遊戲畫面，雖然看上去仍有些模糊，距離實際應用仍有一段距離，但已可清楚辨識角色動作、招式及敵人等，皆由 AI 運算而成。這些展示影片內容，AI 都是以 Ninja Theory 開發的多人對戰遊戲《嗜血邊緣》（Bleeding Edge）作為訓練素材。\n",
      " Geoff Keighley \n",
      "微軟遊戲 AI 部門副總裁 Fatima Kardar 表示：「我們已將 Muse 應用於開發即時可玩的 AI 模型，且這項技術在未來有望同時造福玩家與遊戲開發者。」微軟也透露，Muse 目前仍處於早期開發階段，更多相關細節預計於 2025 年的遊戲開發者大會（GDC）上公布。\n",
      "對於 AI 生成遊戲，社群反應不一。支持者認為，這有助於中小型團隊甚至獨立開發者減輕負擔，只需專注於程式碼、玩法設計等核心元素，其餘畫面與動作可交由 AI 生成，若價格合理，將大幅降低開發風險。\n",
      "然而，反對者認為目前 Muse 展示的畫面缺乏靈魂，並擔憂可能取代大量遊戲美術與動畫師的工作。有玩家表示：「微軟只是想用 AI 取代開發人員」、「為什麼微軟不『生成』一些第一方獨佔遊戲」、「乾脆讓 AI 取代高層」、「科技公司正試圖抹煞藝術中的人性」、「這畫面看起來比獨立開發者 24 小時內做出的 Game Jam 作品還糟」。\n"
     ]
    }
   ],
   "source": [
    "print(text)"
   ]
  },
  {
   "cell_type": "code",
   "execution_count": null,
   "metadata": {},
   "outputs": [
    {
     "data": {
      "text/plain": [
       "'近幾年各大企業發展 AI 技術，就連遊戲產業都陸續開始應用與展示概念，像是微軟在 2024 年 5 月，以自家《Minecraft》為例，展示了可以進行即時對話與反應的 AI，提供攻略與指令來幫助玩家。而日前，微軟發表了一款名為「Muse」的全新 AI 模型，展示了它能用在生成電子遊戲畫面與動作的全新技術，但公開後社群評價則是十分兩極化。知名遊戲媒體人 Geoff Keighley 日前在社群平台 X 上分享了一段由 Muse 生成的遊戲畫面，雖然看上去仍有些模糊，距離實際應用仍有一段距離，但已可清楚辨識角色動作、招式及敵人等，皆由 AI 運算而成。這些展示影片內容，AI 都是以 Ninja Theory 開發的多人對戰遊戲《嗜血邊緣》（Bleeding Edge）作為訓練素材。 Geoff Keighley 微軟遊戲 AI 部門副總裁 Fatima Kardar 表示：「我們已將 Muse 應用於開發即時可玩的 AI 模型，且這項技術在未來有望同時造福玩家與遊戲開發者。」微軟也透露，Muse 目前仍處於早期開發階段，更多相關細節預計於 2025 年的遊戲開發者大會（GDC）上公布。對於 AI 生成遊戲，社群反應不一。支持者認為，這有助於中小型團隊甚至獨立開發者減輕負擔，只需專注於程式碼、玩法設計等核心元素，其餘畫面與動作可交由 AI 生成，若價格合理，將大幅降低開發風險。然而，反對者認為目前 Muse 展示的畫面缺乏靈魂，並擔憂可能取代大量遊戲美術與動畫師的工作。有玩家表示：「微軟只是想用 AI 取代開發人員」、「為什麼微軟不『生成』一些第一方獨佔遊戲」、「乾脆讓 AI 取代高層」、「科技公司正試圖抹煞藝術中的人性」、「這畫面看起來比獨立開發者 24 小時內做出的 Game Jam 作品還糟」。'"
      ]
     },
     "execution_count": 36,
     "metadata": {},
     "output_type": "execute_result"
    }
   ],
   "source": [
    "# 去除換行符號\n",
    "re.sub('\\\\n','', text)"
   ]
  },
  {
   "cell_type": "markdown",
   "metadata": {},
   "source": [
    "## Using re.findall to find a specific string pattern"
   ]
  },
  {
   "cell_type": "code",
   "execution_count": null,
   "metadata": {},
   "outputs": [],
   "source": [
    "import re"
   ]
  },
  {
   "cell_type": "code",
   "execution_count": null,
   "metadata": {},
   "outputs": [],
   "source": [
    "# Another example\n",
    "text = '''近幾年各大企業發展 AI 技術，就連遊戲產業都陸續開始應用與展示概念，像是微軟在 2024 年 5 月，以自家《Minecraft》為例，展示了可以進行即時對話與反應的 AI，提供攻略與指令來幫助玩家。而日前，微軟發表了一款名為「Muse」的全新 AI 模型，展示了它能用在生成電子遊戲畫面與動作的全新技術，但公開後社群評價則是十分兩極化。\n",
    "知名遊戲媒體人 Geoff Keighley 日前在社群平台 X 上分享了一段由 Muse 生成的遊戲畫面，雖然看上去仍有些模糊，距離實際應用仍有一段距離，但已可清楚辨識角色動作、招式及敵人等，皆由 AI 運算而成。這些展示影片內容，AI 都是以 Ninja Theory 開發的多人對戰遊戲《嗜血邊緣》（Bleeding Edge）作為訓練素材。\n",
    "Microsoft has announced \"Muse,\" a generative AI model of a video game built by Microsoft in collaboration with Ninja Theory. This video shows entirely new sequences of Bleeding Edge gameplay created under human guidance. More here: https://t.co/AkM5JXtIeM pic.twitter.com/eSTbKXlleR\n",
    "— Geoff Keighley \n",
    "微軟遊戲 AI 部門副總裁 Fatima Kardar 表示：「我們已將 Muse 應用於開發即時可玩的 AI 模型，且這項技術在未來有望同時造福玩家與遊戲開發者。」微軟也透露，Muse 目前仍處於早期開發階段，更多相關細節預計於 2025 年的遊戲開發者大會（GDC）上公布。\n",
    "對於 AI 生成遊戲，社群反應不一。支持者認為，這有助於中小型團隊甚至獨立開發者減輕負擔，只需專注於程式碼、玩法設計等核心元素，其餘畫面與動作可交由 AI 生成，若價格合理，將大幅降低開發風險。\n",
    "然而，反對者認為目前 Muse 展示的畫面缺乏靈魂，並擔憂可能取代大量遊戲美術與動畫師的工作。有玩家表示：「微軟只是想用 AI 取代開發人員」、「為什麼微軟不『生成』一些第一方獨佔遊戲」、「乾脆讓 AI 取代高層」、「科技公司正試圖抹煞藝術中的人性」、「這畫面看起來比獨立開發者 24 小時內做出的 Game Jam 作品還糟」。'''"
   ]
  },
  {
   "cell_type": "code",
   "execution_count": null,
   "metadata": {},
   "outputs": [
    {
     "data": {
      "text/plain": [
       "['「Muse」',\n",
       " '「我們已將 Muse 應用於開發即時可玩的 AI 模型，且這項技術在未來有望同時造福玩家與遊戲開發者。」',\n",
       " '「微軟只是想用 AI 取代開發人員」',\n",
       " '「為什麼微軟不『生成』一些第一方獨佔遊戲」',\n",
       " '「乾脆讓 AI 取代高層」',\n",
       " '「科技公司正試圖抹煞藝術中的人性」',\n",
       " '「這畫面看起來比獨立開發者 24 小時內做出的 Game Jam 作品還糟」']"
      ]
     },
     "execution_count": 66,
     "metadata": {},
     "output_type": "execute_result"
    }
   ],
   "source": [
    "re.findall('「.*?」',text)"
   ]
  },
  {
   "cell_type": "code",
   "execution_count": null,
   "metadata": {},
   "outputs": [
    {
     "data": {
      "text/plain": [
       "['AI 技術',\n",
       " 'AI 模型',\n",
       " 'AI 運算',\n",
       " 'AI 都是',\n",
       " 'AI 部門',\n",
       " 'AI 模型',\n",
       " 'AI 生成',\n",
       " 'AI 生成',\n",
       " 'AI 取代',\n",
       " 'AI 取代']"
      ]
     },
     "execution_count": 63,
     "metadata": {},
     "output_type": "execute_result"
    }
   ],
   "source": [
    "re.findall(r'AI\\s[\\u4e00-\\u9fff]{2}', text)"
   ]
  },
  {
   "cell_type": "code",
   "execution_count": null,
   "metadata": {},
   "outputs": [],
   "source": []
  },
  {
   "cell_type": "code",
   "execution_count": null,
   "metadata": {},
   "outputs": [],
   "source": [
    "date_time_str = '2024/05/19 00:00:00  2025/02/25'"
   ]
  },
  {
   "cell_type": "code",
   "execution_count": null,
   "metadata": {},
   "outputs": [
    {
     "data": {
      "text/plain": [
       "['2024/05/19', '2025/02/25']"
      ]
     },
     "execution_count": 70,
     "metadata": {},
     "output_type": "execute_result"
    }
   ],
   "source": [
    "re.findall(\"(\\d+/\\d+/\\d+)\",date_time_str)"
   ]
  },
  {
   "cell_type": "code",
   "execution_count": null,
   "metadata": {},
   "outputs": [],
   "source": []
  }
 ],
 "metadata": {
  "kernelspec": {
   "display_name": "base",
   "language": "python",
   "name": "python3"
  },
  "language_info": {
   "codemirror_mode": {
    "name": "ipython",
    "version": 3
   },
   "file_extension": ".py",
   "mimetype": "text/x-python",
   "name": "python",
   "nbconvert_exporter": "python",
   "pygments_lexer": "ipython3",
   "version": "3.9.18"
  },
  "toc": {
   "base_numbering": 1,
   "nav_menu": {},
   "number_sections": true,
   "sideBar": true,
   "skip_h1_title": false,
   "title_cell": "Table of Contents",
   "title_sidebar": "Contents",
   "toc_cell": false,
   "toc_position": {},
   "toc_section_display": true,
   "toc_window_display": false
  }
 },
 "nbformat": 4,
 "nbformat_minor": 2
}
