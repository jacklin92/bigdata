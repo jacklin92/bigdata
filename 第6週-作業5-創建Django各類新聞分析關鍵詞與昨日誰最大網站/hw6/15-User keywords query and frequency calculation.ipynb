{
 "cells": [
  {
   "attachments": {},
   "cell_type": "markdown",
   "metadata": {},
   "source": [
    "# User keyword query\n",
    "\n",
    "    Input 1: user query keywords\n",
    "    Input 2: condition--and, or\n",
    "\n",
    "    Output: frequency of the keywords\n",
    "    (1): How many times are the keywords mentioned? 這個關鍵字被提到多少次?\n",
    "    (2): How many pieces of news contain (mention) the keywords?  有幾篇新聞提到這個關鍵字?\n",
    "\n",
    "    First article: ['肺炎','疫情', '肺炎']\n",
    "    Second article:['陳時中','指揮中心','肺炎','陳時中']\n",
    "\n",
    "    肺炎: \n",
    "    (1) '肺炎' are mentioned three times.  ==> frequency is 3\n",
    "    (2) Two pieces of news mention '肺炎'. ==> occurrence is 2\n",
    "\n",
    "    陳時中: \n",
    "    (1) '陳時中' are mentioned two times.  ==> frequency is 2\n",
    "    (2) One pieces of news mention '陳時中'. ==> occurrence is 1\n",
    "    \n"
   ]
  },
  {
   "cell_type": "markdown",
   "metadata": {},
   "source": [
    "# Step 0: Load preprocessed news dataset"
   ]
  },
  {
   "cell_type": "code",
   "execution_count": 475,
   "metadata": {},
   "outputs": [],
   "source": [
    "import pandas as pd\n",
    "from datetime import datetime, timedelta"
   ]
  },
  {
   "cell_type": "code",
   "execution_count": 476,
   "metadata": {},
   "outputs": [],
   "source": [
    "df = pd.read_csv('./yahoo_news_preprocessed.csv',sep='|')"
   ]
  },
  {
   "cell_type": "code",
   "execution_count": 477,
   "metadata": {},
   "outputs": [
    {
     "data": {
      "text/html": [
       "<div>\n",
       "<style scoped>\n",
       "    .dataframe tbody tr th:only-of-type {\n",
       "        vertical-align: middle;\n",
       "    }\n",
       "\n",
       "    .dataframe tbody tr th {\n",
       "        vertical-align: top;\n",
       "    }\n",
       "\n",
       "    .dataframe thead th {\n",
       "        text-align: right;\n",
       "    }\n",
       "</style>\n",
       "<table border=\"1\" class=\"dataframe\">\n",
       "  <thead>\n",
       "    <tr style=\"text-align: right;\">\n",
       "      <th></th>\n",
       "      <th>item_id</th>\n",
       "      <th>date</th>\n",
       "      <th>category</th>\n",
       "      <th>title</th>\n",
       "      <th>content</th>\n",
       "      <th>sentiment</th>\n",
       "      <th>summary</th>\n",
       "      <th>top_key_freq</th>\n",
       "      <th>tokens</th>\n",
       "      <th>tokens_v2</th>\n",
       "      <th>entities</th>\n",
       "      <th>token_pos</th>\n",
       "      <th>link</th>\n",
       "      <th>photo_link</th>\n",
       "    </tr>\n",
       "  </thead>\n",
       "  <tbody>\n",
       "    <tr>\n",
       "      <th>0</th>\n",
       "      <td>_20250327_1</td>\n",
       "      <td>2025-03-27</td>\n",
       "      <td>焦點</td>\n",
       "      <td>台股重挫308點 失守22000關卡</td>\n",
       "      <td>美國總統川普準備徵收汽車關稅，美股主要指數全數下跌，台積電重挫4.09%，台積電台北現股今日...</td>\n",
       "      <td>暫無</td>\n",
       "      <td>暫無</td>\n",
       "      <td>[('台積電', 4), ('指數', 3), ('月線', 3), ('美國', 2), ...</td>\n",
       "      <td>['美國', '總統', '川普', '準備', '徵收', '汽車', '關稅', '，'...</td>\n",
       "      <td>['美國', '總統', '川普', '汽車', '關稅', '美股', '指數', '台積...</td>\n",
       "      <td>[NerToken(word='美國', ner='GPE', idx=(0, 2)), N...</td>\n",
       "      <td>[('美國', 'Nc'), ('總統', 'Na'), ('川普', 'Nb'), ('準...</td>\n",
       "      <td>https://tw.news.yahoo.com/https://tw.stock.yah...</td>\n",
       "      <td>https://s.yimg.com/ny/api/res/1.2/3qEveVGKp070...</td>\n",
       "    </tr>\n",
       "  </tbody>\n",
       "</table>\n",
       "</div>"
      ],
      "text/plain": [
       "       item_id        date category               title  \\\n",
       "0  _20250327_1  2025-03-27       焦點  台股重挫308點 失守22000關卡   \n",
       "\n",
       "                                             content sentiment summary  \\\n",
       "0  美國總統川普準備徵收汽車關稅，美股主要指數全數下跌，台積電重挫4.09%，台積電台北現股今日...        暫無      暫無   \n",
       "\n",
       "                                        top_key_freq  \\\n",
       "0  [('台積電', 4), ('指數', 3), ('月線', 3), ('美國', 2), ...   \n",
       "\n",
       "                                              tokens  \\\n",
       "0  ['美國', '總統', '川普', '準備', '徵收', '汽車', '關稅', '，'...   \n",
       "\n",
       "                                           tokens_v2  \\\n",
       "0  ['美國', '總統', '川普', '汽車', '關稅', '美股', '指數', '台積...   \n",
       "\n",
       "                                            entities  \\\n",
       "0  [NerToken(word='美國', ner='GPE', idx=(0, 2)), N...   \n",
       "\n",
       "                                           token_pos  \\\n",
       "0  [('美國', 'Nc'), ('總統', 'Na'), ('川普', 'Nb'), ('準...   \n",
       "\n",
       "                                                link  \\\n",
       "0  https://tw.news.yahoo.com/https://tw.stock.yah...   \n",
       "\n",
       "                                          photo_link  \n",
       "0  https://s.yimg.com/ny/api/res/1.2/3qEveVGKp070...  "
      ]
     },
     "execution_count": 477,
     "metadata": {},
     "output_type": "execute_result"
    }
   ],
   "source": [
    "df.head(1)"
   ]
  },
  {
   "cell_type": "markdown",
   "metadata": {},
   "source": [
    "# Step 1: Select news with user input keywords, category, duration"
   ]
  },
  {
   "cell_type": "markdown",
   "metadata": {},
   "source": [
    "## (1)Improved Search from \"content\" column"
   ]
  },
  {
   "cell_type": "code",
   "execution_count": 478,
   "metadata": {},
   "outputs": [],
   "source": [
    "from datetime import datetime, timedelta\n",
    "# Searching keywords from \"content\" column\n",
    "# Here this function uses df.content column, while filter_dataFrame() uses df.tokens_v2\n",
    "def filter_dataFrame(user_keywords, cond, cate, weeks):#關鍵字、and、or、分類、週數\n",
    "\n",
    "    # end date: the date of the latest record of news\n",
    "    end_date = df.date.max()\n",
    "    \n",
    "    # start date\n",
    "    start_date = (datetime.strptime(end_date, '%Y-%m-%d').date() - timedelta(weeks=weeks)).strftime('%Y-%m-%d')\n",
    "\n",
    "    # (1) proceed filtering: a duration of a period of time\n",
    "    # 期間條件\n",
    "    period_condition = (df.date >= start_date) & (df.date <= end_date) \n",
    "    \n",
    "    # (2) proceed filtering: news category\n",
    "    # 新聞類別條件\n",
    "    if (cate == \"全部\"):\n",
    "        condition = period_condition  # \"全部\"類別不必過濾新聞種類\n",
    "    else:\n",
    "        # category新聞類別條件\n",
    "        condition = period_condition & (df.category == cate)\n",
    "\n",
    "    # (3) proceed filtering: keywords \n",
    "    # and or 條件\n",
    "    if (cond == 'and'):\n",
    "        # query keywords condition使用者輸入關鍵字條件and\n",
    "        condition = condition & df.content.apply(lambda text: all((qk in text) for qk in user_keywords)) #寫法:all()\n",
    "    elif (cond == 'or'):\n",
    "        # query keywords condition使用者輸入關鍵字條件\n",
    "        condition = condition & df.content.apply(lambda text: any((qk in text) for qk in user_keywords)) #寫法:any()\n",
    "    # condiction is a list of True or False boolean value\n",
    "    df_query = df[condition]\n",
    "\n",
    "    return df_query\n"
   ]
  },
  {
   "cell_type": "markdown",
   "metadata": {},
   "source": [
    "## (2)Search keywords from \"content\" column (Another way)"
   ]
  },
  {
   "cell_type": "code",
   "execution_count": 479,
   "metadata": {},
   "outputs": [],
   "source": [
    "# Searching keywords from \"content\" column\n",
    "# Here this function uses df.content column, while filter_dataFrame() uses df.tokens_v2\n",
    "def filter_dataFrame_fullText_v0(user_keywords, cond, cate, weeks):\n",
    "\n",
    "    # end date: the date of the latest record of news\n",
    "    end_date = df.date.max()\n",
    "    \n",
    "    # start date\n",
    "    start_date = (datetime.strptime(end_date, '%Y-%m-%d').date() - timedelta(weeks=weeks)).strftime('%Y-%m-%d')\n",
    "\n",
    "    # proceed filtering\n",
    "    if (cate == \"全部\") & (cond == 'and'):\n",
    "        df_query = df[(df.date >= start_date) & (df.date <= end_date) \n",
    "            & df.content.apply(lambda text: all((qk in text) for qk in user_keywords))]\n",
    "    elif (cate == \"全部\") & (cond == 'or'):\n",
    "        df_query = df[(df['date'] >= start_date) & (df['date'] <= end_date) \n",
    "            & df.content.apply(lambda text: any((qk in text) for qk in user_keywords))]\n",
    "    elif (cond == 'and'):\n",
    "        df_query = df[(df.category == cate) \n",
    "            & (df.date >= start_date) & (df.date <= end_date) \n",
    "            & df.content.apply(lambda text: all((qk in text) for qk in user_keywords))]\n",
    "    elif (cond == 'or'):\n",
    "        df_query = df[(df.category == cate) \n",
    "            & (df['date'] >= start_date) & (df['date'] <= end_date) \n",
    "            & df.content.apply(lambda text: any((qk in text) for qk in user_keywords))]\n",
    "\n",
    "    return df_query"
   ]
  },
  {
   "cell_type": "markdown",
   "metadata": {},
   "source": [
    "\n",
    "## (3) Search from token_v2 (Another way)"
   ]
  },
  {
   "cell_type": "code",
   "execution_count": 480,
   "metadata": {},
   "outputs": [],
   "source": [
    "# Searching keywords from \"token_v2\" column\n",
    "def filter_dataFrame_v0(user_keywords, cond, cate, weeks):\n",
    "\n",
    "    # end date: the date of the latest record of news\n",
    "    end_date = df.date.max()\n",
    "    \n",
    "    # start date\n",
    "    start_date = (datetime.strptime(end_date, '%Y-%m-%d').date() - timedelta(weeks=weeks)).strftime('%Y-%m-%d')\n",
    "\n",
    "    # proceed filtering\n",
    "    if (cate == \"全部\") & (cond == 'and'):\n",
    "        query_df = df[(df.date >= start_date) & (df.date <= end_date) \n",
    "            & df.tokens_v2.apply(lambda text: all((qk in text) for qk in user_keywords))]\n",
    "    elif (cate == \"全部\") & (cond == 'or'):\n",
    "        query_df = df[(df['date'] >= start_date) & (df['date'] <= end_date) \n",
    "            & df.tokens_v2.apply(lambda text: any((qk in text) for qk in user_keywords))]\n",
    "    elif (cond == 'and'):\n",
    "        query_df = df[(df.category == cate) \n",
    "            & (df.date >= start_date) & (df.date <= end_date) \n",
    "            & df.tokens_v2.apply(lambda text: all((qk in text) for qk in user_keywords))]\n",
    "    elif (cond == 'or'):\n",
    "        query_df = df[(df.category == cate) \n",
    "            & (df['date'] >= start_date) & (df['date'] <= end_date) \n",
    "            & df.tokens_v2.apply(lambda text: any((qk in text) for qk in user_keywords))]\n",
    "    return query_df"
   ]
  },
  {
   "cell_type": "code",
   "execution_count": 481,
   "metadata": {},
   "outputs": [
    {
     "data": {
      "text/plain": [
       "23"
      ]
     },
     "execution_count": 481,
     "metadata": {},
     "output_type": "execute_result"
    }
   ],
   "source": [
    "user_keywords=['總統','川普']\n",
    "cond='and'\n",
    "cate='全部'\n",
    "weeks=4\n",
    "df_query = filter_dataFrame(user_keywords, cond, cate, weeks)\n",
    "len(df_query)"
   ]
  },
  {
   "cell_type": "code",
   "execution_count": 482,
   "metadata": {},
   "outputs": [
    {
     "data": {
      "text/plain": [
       "3"
      ]
     },
     "execution_count": 482,
     "metadata": {},
     "output_type": "execute_result"
    }
   ],
   "source": [
    "user_keywords=['總統','川普']\n",
    "cond='and'\n",
    "cate='國際'\n",
    "weeks=4\n",
    "df_query = filter_dataFrame(user_keywords, cond, cate, weeks)\n",
    "len(df_query)"
   ]
  },
  {
   "cell_type": "code",
   "execution_count": 483,
   "metadata": {},
   "outputs": [
    {
     "data": {
      "text/plain": [
       "8"
      ]
     },
     "execution_count": 483,
     "metadata": {},
     "output_type": "execute_result"
    }
   ],
   "source": [
    "user_keywords=['總統','川普']\n",
    "cond='or'\n",
    "cate='政治'\n",
    "weeks=4\n",
    "df_query = filter_dataFrame(user_keywords, cond, cate, weeks)\n",
    "len(df_query)"
   ]
  },
  {
   "cell_type": "code",
   "execution_count": 484,
   "metadata": {},
   "outputs": [
    {
     "data": {
      "text/html": [
       "<div>\n",
       "<style scoped>\n",
       "    .dataframe tbody tr th:only-of-type {\n",
       "        vertical-align: middle;\n",
       "    }\n",
       "\n",
       "    .dataframe tbody tr th {\n",
       "        vertical-align: top;\n",
       "    }\n",
       "\n",
       "    .dataframe thead th {\n",
       "        text-align: right;\n",
       "    }\n",
       "</style>\n",
       "<table border=\"1\" class=\"dataframe\">\n",
       "  <thead>\n",
       "    <tr style=\"text-align: right;\">\n",
       "      <th></th>\n",
       "      <th>item_id</th>\n",
       "      <th>date</th>\n",
       "      <th>category</th>\n",
       "      <th>title</th>\n",
       "      <th>content</th>\n",
       "      <th>sentiment</th>\n",
       "      <th>summary</th>\n",
       "      <th>top_key_freq</th>\n",
       "      <th>tokens</th>\n",
       "      <th>tokens_v2</th>\n",
       "      <th>entities</th>\n",
       "      <th>token_pos</th>\n",
       "      <th>link</th>\n",
       "      <th>photo_link</th>\n",
       "    </tr>\n",
       "  </thead>\n",
       "  <tbody>\n",
       "    <tr>\n",
       "      <th>86</th>\n",
       "      <td>politics_20250327_1</td>\n",
       "      <td>2025-03-27</td>\n",
       "      <td>政治</td>\n",
       "      <td>北一女教師登《央視》大罵賴清德！教育局出手了民視472 則留言6 小時前</td>\n",
       "      <td>政治中心／楊佩怡報導北一女教師區桂芝過去因不滿108課綱刪除顧炎武的「廉恥」等古文，而批10...</td>\n",
       "      <td>暫無</td>\n",
       "      <td>暫無</td>\n",
       "      <td>[('區桂芝', 8), ('教育局', 8), ('北一女', 7), ('中國', 6)...</td>\n",
       "      <td>['政治', '中心', '／', '楊佩怡', '報導', '北一女', '教師', '區...</td>\n",
       "      <td>['政治', '中心', '楊佩怡', '北一女', '教師', '區桂芝', '課綱', ...</td>\n",
       "      <td>[NerToken(word='楊佩', ner='PERSON', idx=(5, 7))...</td>\n",
       "      <td>[('政治', 'Na'), ('中心', 'Nc'), ('／', 'FW'), ('楊佩...</td>\n",
       "      <td>https://tw.news.yahoo.com//%E5%8C%97%E4%BA%AC%...</td>\n",
       "      <td>https://s.yimg.com/ny/api/res/1.2/XH2fYGZl08No...</td>\n",
       "    </tr>\n",
       "    <tr>\n",
       "      <th>89</th>\n",
       "      <td>politics_20250327_4</td>\n",
       "      <td>2025-03-27</td>\n",
       "      <td>政治</td>\n",
       "      <td>75學者挺亞亞！律師翻出「3年前反戰聲明」　比對連署名單驚人結果曝光三立新聞網 setn.c...</td>\n",
       "      <td>政治中心／陳慈鈴報導【3/27 09:25 發稿｜09:50 更新：完整連署名單】▲亞亞遭限...</td>\n",
       "      <td>暫無</td>\n",
       "      <td>暫無</td>\n",
       "      <td>[('台灣', 15), ('言論', 7), ('名單', 5), ('陳培哲', 5),...</td>\n",
       "      <td>['政治', '中心', '／', '陳慈鈴', '報導', '【3/27 09:25 ',...</td>\n",
       "      <td>['政治', '中心', '陳慈鈴', '名單', '亞亞', '松山', '機場', '中...</td>\n",
       "      <td>[NerToken(word='亞亞', ner='PERSON', idx=(42, 44...</td>\n",
       "      <td>[('政治', 'Na'), ('中心', 'Nc'), ('／', 'FW'), ('陳慈...</td>\n",
       "      <td>https://tw.news.yahoo.com//%E9%82%81%E9%98%BF%...</td>\n",
       "      <td>https://s.yimg.com/ny/api/res/1.2/wdF8W4i_dhn0...</td>\n",
       "    </tr>\n",
       "    <tr>\n",
       "      <th>90</th>\n",
       "      <td>politics_20250327_5</td>\n",
       "      <td>2025-03-27</td>\n",
       "      <td>政治</td>\n",
       "      <td>躲不過川普「汽車關稅」！新車價格喊漲　驚人數字曝光壹蘋新聞網2 則留言30 分鐘前</td>\n",
       "      <td>【國際中心／綜合報導】美國總統川普今天宣布對所有海外進口車輛一律課徵25%關稅，4月2日正式...</td>\n",
       "      <td>暫無</td>\n",
       "      <td>暫無</td>\n",
       "      <td>[('汽車', 12), ('美國', 7), ('關稅', 6), ('日本', 4), ...</td>\n",
       "      <td>['【', '國際', '中心', '／', '綜合', '報導', '】', '美國', ...</td>\n",
       "      <td>['國際', '中心', '美國', '總統', '川普', '海外', '車輛', '關稅...</td>\n",
       "      <td>[NerToken(word='美國', ner='GPE', idx=(11, 13)),...</td>\n",
       "      <td>[('【', 'PARENTHESISCATEGORY'), ('國際', 'Nc'), (...</td>\n",
       "      <td>https://tw.news.yahoo.com//%E7%9A%87%E5%90%8E%...</td>\n",
       "      <td>https://s.yimg.com/ny/api/res/1.2/HJyhfoBkXApj...</td>\n",
       "    </tr>\n",
       "    <tr>\n",
       "      <th>91</th>\n",
       "      <td>politics_20250327_6</td>\n",
       "      <td>2025-03-27</td>\n",
       "      <td>政治</td>\n",
       "      <td>堅持挺亞亞！律師怒：國家安全這麼脆弱？今日新聞NOWnews283 則留言6 小時前</td>\n",
       "      <td>[NOWnews今日新聞] 中配「亞亞」因發布支持武統言論，遭內政部廢止居留許可，她雖不斷喊...</td>\n",
       "      <td>暫無</td>\n",
       "      <td>暫無</td>\n",
       "      <td>[('言論', 27), ('台灣', 24), ('中國', 10), ('亞亞', 8)...</td>\n",
       "      <td>['[NOWnews', '今日', '新聞', '] ', '中', '配', '「', ...</td>\n",
       "      <td>['新聞', '亞亞', '武統', '言論', '內政部', '期限', '亞亞', '律...</td>\n",
       "      <td>[NerToken(word='內政部', ner='ORG', idx=(31, 34))...</td>\n",
       "      <td>[('[NOWnews', 'PARENTHESISCATEGORY'), ('今日', '...</td>\n",
       "      <td>https://tw.news.yahoo.com//%E5%85%A5%E5%A2%83%...</td>\n",
       "      <td>https://s.yimg.com/ny/api/res/1.2/Gf_DKwCILDHM...</td>\n",
       "    </tr>\n",
       "    <tr>\n",
       "      <th>98</th>\n",
       "      <td>politics_20250326_13</td>\n",
       "      <td>2025-03-26</td>\n",
       "      <td>政治</td>\n",
       "      <td>民進黨與罷團首次開會出現裂痕？與會人士還原經過　曹興誠將親操刀2計畫風傳媒189 則留言23...</td>\n",
       "      <td>民進黨宣布投入大罷免，民進黨政高層24日與全台35個罷團首次會面，加上線上至少有4、50個人...</td>\n",
       "      <td>暫無</td>\n",
       "      <td>暫無</td>\n",
       "      <td>[('民進黨', 17), ('會議', 8), ('人士', 7), ('縣市', 7),...</td>\n",
       "      <td>['民進黨', '宣布', '投入', '大罷免', '，', '民進黨政', '高層', ...</td>\n",
       "      <td>['民進黨', '民進黨政', '高層', '人士', '會議', '現場', '民進黨',...</td>\n",
       "      <td>[NerToken(word='民進黨', ner='ORG', idx=(0, 3)), ...</td>\n",
       "      <td>[('民進黨', 'Nb'), ('宣布', 'VC'), ('投入', 'VC'), ('...</td>\n",
       "      <td>https://tw.news.yahoo.com//%E7%BE%8E%E5%9C%8B4...</td>\n",
       "      <td>https://s.yimg.com/ny/api/res/1.2/9LY79yyfj6wi...</td>\n",
       "    </tr>\n",
       "  </tbody>\n",
       "</table>\n",
       "</div>"
      ],
      "text/plain": [
       "                 item_id        date category  \\\n",
       "86   politics_20250327_1  2025-03-27       政治   \n",
       "89   politics_20250327_4  2025-03-27       政治   \n",
       "90   politics_20250327_5  2025-03-27       政治   \n",
       "91   politics_20250327_6  2025-03-27       政治   \n",
       "98  politics_20250326_13  2025-03-26       政治   \n",
       "\n",
       "                                                title  \\\n",
       "86               北一女教師登《央視》大罵賴清德！教育局出手了民視472 則留言6 小時前   \n",
       "89  75學者挺亞亞！律師翻出「3年前反戰聲明」　比對連署名單驚人結果曝光三立新聞網 setn.c...   \n",
       "90          躲不過川普「汽車關稅」！新車價格喊漲　驚人數字曝光壹蘋新聞網2 則留言30 分鐘前   \n",
       "91         堅持挺亞亞！律師怒：國家安全這麼脆弱？今日新聞NOWnews283 則留言6 小時前   \n",
       "98  民進黨與罷團首次開會出現裂痕？與會人士還原經過　曹興誠將親操刀2計畫風傳媒189 則留言23...   \n",
       "\n",
       "                                              content sentiment summary  \\\n",
       "86  政治中心／楊佩怡報導北一女教師區桂芝過去因不滿108課綱刪除顧炎武的「廉恥」等古文，而批10...        暫無      暫無   \n",
       "89  政治中心／陳慈鈴報導【3/27 09:25 發稿｜09:50 更新：完整連署名單】▲亞亞遭限...        暫無      暫無   \n",
       "90  【國際中心／綜合報導】美國總統川普今天宣布對所有海外進口車輛一律課徵25%關稅，4月2日正式...        暫無      暫無   \n",
       "91  [NOWnews今日新聞] 中配「亞亞」因發布支持武統言論，遭內政部廢止居留許可，她雖不斷喊...        暫無      暫無   \n",
       "98  民進黨宣布投入大罷免，民進黨政高層24日與全台35個罷團首次會面，加上線上至少有4、50個人...        暫無      暫無   \n",
       "\n",
       "                                         top_key_freq  \\\n",
       "86  [('區桂芝', 8), ('教育局', 8), ('北一女', 7), ('中國', 6)...   \n",
       "89  [('台灣', 15), ('言論', 7), ('名單', 5), ('陳培哲', 5),...   \n",
       "90  [('汽車', 12), ('美國', 7), ('關稅', 6), ('日本', 4), ...   \n",
       "91  [('言論', 27), ('台灣', 24), ('中國', 10), ('亞亞', 8)...   \n",
       "98  [('民進黨', 17), ('會議', 8), ('人士', 7), ('縣市', 7),...   \n",
       "\n",
       "                                               tokens  \\\n",
       "86  ['政治', '中心', '／', '楊佩怡', '報導', '北一女', '教師', '區...   \n",
       "89  ['政治', '中心', '／', '陳慈鈴', '報導', '【3/27 09:25 ',...   \n",
       "90  ['【', '國際', '中心', '／', '綜合', '報導', '】', '美國', ...   \n",
       "91  ['[NOWnews', '今日', '新聞', '] ', '中', '配', '「', ...   \n",
       "98  ['民進黨', '宣布', '投入', '大罷免', '，', '民進黨政', '高層', ...   \n",
       "\n",
       "                                            tokens_v2  \\\n",
       "86  ['政治', '中心', '楊佩怡', '北一女', '教師', '區桂芝', '課綱', ...   \n",
       "89  ['政治', '中心', '陳慈鈴', '名單', '亞亞', '松山', '機場', '中...   \n",
       "90  ['國際', '中心', '美國', '總統', '川普', '海外', '車輛', '關稅...   \n",
       "91  ['新聞', '亞亞', '武統', '言論', '內政部', '期限', '亞亞', '律...   \n",
       "98  ['民進黨', '民進黨政', '高層', '人士', '會議', '現場', '民進黨',...   \n",
       "\n",
       "                                             entities  \\\n",
       "86  [NerToken(word='楊佩', ner='PERSON', idx=(5, 7))...   \n",
       "89  [NerToken(word='亞亞', ner='PERSON', idx=(42, 44...   \n",
       "90  [NerToken(word='美國', ner='GPE', idx=(11, 13)),...   \n",
       "91  [NerToken(word='內政部', ner='ORG', idx=(31, 34))...   \n",
       "98  [NerToken(word='民進黨', ner='ORG', idx=(0, 3)), ...   \n",
       "\n",
       "                                            token_pos  \\\n",
       "86  [('政治', 'Na'), ('中心', 'Nc'), ('／', 'FW'), ('楊佩...   \n",
       "89  [('政治', 'Na'), ('中心', 'Nc'), ('／', 'FW'), ('陳慈...   \n",
       "90  [('【', 'PARENTHESISCATEGORY'), ('國際', 'Nc'), (...   \n",
       "91  [('[NOWnews', 'PARENTHESISCATEGORY'), ('今日', '...   \n",
       "98  [('民進黨', 'Nb'), ('宣布', 'VC'), ('投入', 'VC'), ('...   \n",
       "\n",
       "                                                 link  \\\n",
       "86  https://tw.news.yahoo.com//%E5%8C%97%E4%BA%AC%...   \n",
       "89  https://tw.news.yahoo.com//%E9%82%81%E9%98%BF%...   \n",
       "90  https://tw.news.yahoo.com//%E7%9A%87%E5%90%8E%...   \n",
       "91  https://tw.news.yahoo.com//%E5%85%A5%E5%A2%83%...   \n",
       "98  https://tw.news.yahoo.com//%E7%BE%8E%E5%9C%8B4...   \n",
       "\n",
       "                                           photo_link  \n",
       "86  https://s.yimg.com/ny/api/res/1.2/XH2fYGZl08No...  \n",
       "89  https://s.yimg.com/ny/api/res/1.2/wdF8W4i_dhn0...  \n",
       "90  https://s.yimg.com/ny/api/res/1.2/HJyhfoBkXApj...  \n",
       "91  https://s.yimg.com/ny/api/res/1.2/Gf_DKwCILDHM...  \n",
       "98  https://s.yimg.com/ny/api/res/1.2/9LY79yyfj6wi...  "
      ]
     },
     "execution_count": 484,
     "metadata": {},
     "output_type": "execute_result"
    }
   ],
   "source": [
    "df_query.head()"
   ]
  },
  {
   "cell_type": "code",
   "execution_count": null,
   "metadata": {},
   "outputs": [],
   "source": []
  },
  {
   "cell_type": "markdown",
   "metadata": {},
   "source": [
    "# Step 2: calculate frequency and occurence"
   ]
  },
  {
   "cell_type": "code",
   "execution_count": 485,
   "metadata": {},
   "outputs": [],
   "source": [
    "# For the query_df, count the occurence and frequency for each category.\n",
    "\n",
    "# (1) cate_occurence={}  被多少篇新聞報導 How many pieces of news contain the keywords.\n",
    "# (2) cate_freq={}       被提到多少次? How many times are the keywords mentioned\n",
    "\n",
    "\n",
    "news_categories=['全部','焦點','娛樂影劇','國際','政治','社會地方','財經','運動','玩樂','品味','遊戲3C']\n",
    "\n",
    "def count_keyword(query_df, user_keywords):\n",
    "    cate_occurence={}\n",
    "    cate_freq={}\n",
    "\n",
    "    for cate in news_categories:\n",
    "        cate_occurence[cate]=0\n",
    "        cate_freq[cate]=0\n",
    "\n",
    "    for idx, row in query_df.iterrows():\n",
    "        # count number of news\n",
    "        cate_occurence[row.category] += 1\n",
    "        cate_occurence['全部'] += 1\n",
    "        \n",
    "        # count user keyword frequency by checking every word in tokens_v2\n",
    "        tokens = eval(row.tokens_v2)\n",
    "        freq =  len([word for word in tokens if (word in user_keywords)])\n",
    "        cate_freq[row.category] += freq\n",
    "        cate_freq['全部'] += freq\n",
    "        \n",
    "    return cate_freq, cate_occurence"
   ]
  },
  {
   "cell_type": "code",
   "execution_count": 486,
   "metadata": {},
   "outputs": [
    {
     "data": {
      "text/plain": [
       "({'全部': 202,\n",
       "  '焦點': 67,\n",
       "  '娛樂影劇': 0,\n",
       "  '國際': 46,\n",
       "  '政治': 16,\n",
       "  '社會地方': 7,\n",
       "  '財經': 49,\n",
       "  '運動': 9,\n",
       "  '玩樂': 2,\n",
       "  '品味': 1,\n",
       "  '遊戲3C': 5},\n",
       " {'全部': 58,\n",
       "  '焦點': 24,\n",
       "  '娛樂影劇': 0,\n",
       "  '國際': 9,\n",
       "  '政治': 8,\n",
       "  '社會地方': 2,\n",
       "  '財經': 8,\n",
       "  '運動': 3,\n",
       "  '玩樂': 1,\n",
       "  '品味': 1,\n",
       "  '遊戲3C': 2})"
      ]
     },
     "execution_count": 486,
     "metadata": {},
     "output_type": "execute_result"
    }
   ],
   "source": [
    "user_keywords=['川普','總統']\n",
    "cond='or'\n",
    "cate='全部'\n",
    "weeks=4\n",
    "# Step 1 fitering data\n",
    "df_query = filter_dataFrame(user_keywords, cond, cate, weeks)\n",
    "len(df_query)\n",
    "\n",
    "# Step 2: calculating frequency and occurence\n",
    "count_keyword(df_query, user_keywords)"
   ]
  },
  {
   "cell_type": "code",
   "execution_count": 487,
   "metadata": {},
   "outputs": [
    {
     "data": {
      "text/plain": [
       "58"
      ]
     },
     "execution_count": 487,
     "metadata": {},
     "output_type": "execute_result"
    }
   ],
   "source": [
    "len(df_query)"
   ]
  },
  {
   "cell_type": "markdown",
   "metadata": {
    "_cell_guid": "f338bfd0-8985-6edf-95c0-ac529ce73d69"
   },
   "source": [
    "# Demonstrate step by step\n",
    "\n",
    "How many news are related to \"烏克蘭\" ?\n",
    "\n",
    "    How many pieces of news mentioned \"烏克蘭\"\n",
    "    How many pieces of news are related to \"烏克蘭\"?\n",
    "\n",
    "    You can calculate and get the answer from the following fields: tokens, tokens_v2, or content. (Get very similar results)\n",
    "\n",
    "    We use \"tokens_v2\" because it contains only some important keywords which were selected in the pre-process step.\n",
    "\n",
    "    \n",
    "A flexible appraoch for And OR condiction\n",
    "\n",
    "        User all()  any()\n",
    "        df = pd.DataFrame({'col': [\"apple is delicious\",\n",
    "                                \"banana is delicious\",\n",
    "                                \"apple and banana both are delicious\"]})\n",
    "\n",
    "        targets = ['apple', 'banana']\n",
    "\n",
    "        # Any word from `targets` are present in sentence.\n",
    "        >>> df.col.apply(lambda sentence: any(word in sentence for word in targets))\n",
    "        0    True\n",
    "        1    True\n",
    "        2    True\n",
    "        Name: col, dtype: bool\n",
    "\n",
    "        # All words from `targets` are present in sentence.\n",
    "        >>> df.col.apply(lambda sentence: all(word in sentence for word in targets))\n",
    "        0    False\n",
    "        1    False\n",
    "        2     True\n",
    "        Name: col, dtype: bool"
   ]
  },
  {
   "cell_type": "code",
   "execution_count": null,
   "metadata": {},
   "outputs": [],
   "source": []
  },
  {
   "cell_type": "markdown",
   "metadata": {},
   "source": [
    "## and &, or | "
   ]
  },
  {
   "cell_type": "code",
   "execution_count": 488,
   "metadata": {},
   "outputs": [
    {
     "data": {
      "text/plain": [
       "True"
      ]
     },
     "execution_count": 488,
     "metadata": {},
     "output_type": "execute_result"
    }
   ],
   "source": [
    "True & True"
   ]
  },
  {
   "cell_type": "code",
   "execution_count": 489,
   "metadata": {},
   "outputs": [
    {
     "data": {
      "text/plain": [
       "False"
      ]
     },
     "execution_count": 489,
     "metadata": {},
     "output_type": "execute_result"
    }
   ],
   "source": [
    "True & False"
   ]
  },
  {
   "cell_type": "code",
   "execution_count": 490,
   "metadata": {},
   "outputs": [
    {
     "data": {
      "text/plain": [
       "True"
      ]
     },
     "execution_count": 490,
     "metadata": {},
     "output_type": "execute_result"
    }
   ],
   "source": [
    "True | True"
   ]
  },
  {
   "cell_type": "code",
   "execution_count": 491,
   "metadata": {},
   "outputs": [
    {
     "data": {
      "text/plain": [
       "True"
      ]
     },
     "execution_count": 491,
     "metadata": {},
     "output_type": "execute_result"
    }
   ],
   "source": [
    "True | False"
   ]
  },
  {
   "cell_type": "markdown",
   "metadata": {},
   "source": [
    "## \"in\" is very powerful in Python!"
   ]
  },
  {
   "cell_type": "markdown",
   "metadata": {},
   "source": [
    "#### in a string"
   ]
  },
  {
   "cell_type": "code",
   "execution_count": 492,
   "metadata": {},
   "outputs": [],
   "source": [
    "text = '武漢烏克蘭疫情全球延燒，國防部2月針對29個疫情高風險國家地區勸阻官兵前往（包括過境）。'"
   ]
  },
  {
   "cell_type": "code",
   "execution_count": 493,
   "metadata": {},
   "outputs": [
    {
     "data": {
      "text/plain": [
       "True"
      ]
     },
     "execution_count": 493,
     "metadata": {},
     "output_type": "execute_result"
    }
   ],
   "source": [
    "'勸阻官兵' in text"
   ]
  },
  {
   "cell_type": "code",
   "execution_count": 494,
   "metadata": {},
   "outputs": [
    {
     "data": {
      "text/plain": [
       "True"
      ]
     },
     "execution_count": 494,
     "metadata": {},
     "output_type": "execute_result"
    }
   ],
   "source": [
    "'延燒，國防部' in text"
   ]
  },
  {
   "cell_type": "code",
   "execution_count": 495,
   "metadata": {},
   "outputs": [
    {
     "data": {
      "text/plain": [
       "False"
      ]
     },
     "execution_count": 495,
     "metadata": {},
     "output_type": "execute_result"
    }
   ],
   "source": [
    "'台灣' in text"
   ]
  },
  {
   "cell_type": "code",
   "execution_count": 496,
   "metadata": {},
   "outputs": [
    {
     "data": {
      "text/plain": [
       "True"
      ]
     },
     "execution_count": 496,
     "metadata": {},
     "output_type": "execute_result"
    }
   ],
   "source": [
    "'烏克蘭' in text"
   ]
  },
  {
   "cell_type": "code",
   "execution_count": 497,
   "metadata": {
    "scrolled": true
   },
   "outputs": [
    {
     "data": {
      "text/plain": [
       "False"
      ]
     },
     "execution_count": 497,
     "metadata": {},
     "output_type": "execute_result"
    }
   ],
   "source": [
    "# & and\n",
    "('台灣' in text)  & ('烏克蘭' in text)"
   ]
  },
  {
   "cell_type": "code",
   "execution_count": 498,
   "metadata": {
    "scrolled": true
   },
   "outputs": [
    {
     "data": {
      "text/plain": [
       "False"
      ]
     },
     "execution_count": 498,
     "metadata": {},
     "output_type": "execute_result"
    }
   ],
   "source": [
    "# & and\n",
    "('台灣' in text) and ('烏克蘭' in text)"
   ]
  },
  {
   "cell_type": "code",
   "execution_count": 499,
   "metadata": {},
   "outputs": [
    {
     "data": {
      "text/plain": [
       "True"
      ]
     },
     "execution_count": 499,
     "metadata": {},
     "output_type": "execute_result"
    }
   ],
   "source": [
    "('台灣' in text)  | ('烏克蘭' in text)"
   ]
  },
  {
   "cell_type": "code",
   "execution_count": 500,
   "metadata": {},
   "outputs": [
    {
     "data": {
      "text/plain": [
       "True"
      ]
     },
     "execution_count": 500,
     "metadata": {},
     "output_type": "execute_result"
    }
   ],
   "source": [
    "('台灣' in text)  or ('烏克蘭' in text)"
   ]
  },
  {
   "cell_type": "code",
   "execution_count": 501,
   "metadata": {},
   "outputs": [],
   "source": [
    "# This is also a string.\n",
    "text = \"['武漢', '烏克蘭', '疫情', '全球', '延燒', '國防部', '疫情', '高風險', '國家', '地區', '官兵', '過境', '國防部', '政策', '全球', '國家', '地區', '轄下', '單位']\""
   ]
  },
  {
   "cell_type": "code",
   "execution_count": 502,
   "metadata": {},
   "outputs": [
    {
     "data": {
      "text/plain": [
       "True"
      ]
     },
     "execution_count": 502,
     "metadata": {},
     "output_type": "execute_result"
    }
   ],
   "source": [
    "'烏克蘭' in text"
   ]
  },
  {
   "cell_type": "code",
   "execution_count": 503,
   "metadata": {},
   "outputs": [
    {
     "data": {
      "text/plain": [
       "False"
      ]
     },
     "execution_count": 503,
     "metadata": {},
     "output_type": "execute_result"
    }
   ],
   "source": [
    "'台灣' in text"
   ]
  },
  {
   "cell_type": "code",
   "execution_count": 504,
   "metadata": {
    "scrolled": true
   },
   "outputs": [
    {
     "data": {
      "text/plain": [
       "False"
      ]
     },
     "execution_count": 504,
     "metadata": {},
     "output_type": "execute_result"
    }
   ],
   "source": [
    "('台灣' in text)  & ('烏克蘭' in text)"
   ]
  },
  {
   "cell_type": "code",
   "execution_count": 505,
   "metadata": {},
   "outputs": [
    {
     "data": {
      "text/plain": [
       "True"
      ]
     },
     "execution_count": 505,
     "metadata": {},
     "output_type": "execute_result"
    }
   ],
   "source": [
    "('台灣' in text)  | ('烏克蘭' in text)"
   ]
  },
  {
   "cell_type": "markdown",
   "metadata": {},
   "source": [
    "#### in a list"
   ]
  },
  {
   "cell_type": "code",
   "execution_count": 506,
   "metadata": {},
   "outputs": [
    {
     "data": {
      "text/plain": [
       "True"
      ]
     },
     "execution_count": 506,
     "metadata": {},
     "output_type": "execute_result"
    }
   ],
   "source": [
    "user_keyword=['烏克蘭','台灣']\n",
    "'烏克蘭' in user_keyword"
   ]
  },
  {
   "cell_type": "code",
   "execution_count": null,
   "metadata": {},
   "outputs": [],
   "source": []
  },
  {
   "cell_type": "code",
   "execution_count": 507,
   "metadata": {},
   "outputs": [
    {
     "data": {
      "text/plain": [
       "'美國總統川普準備徵收汽車關稅，美股主要指數全數下跌，台積電重挫4.09%，台積電台北現股今日早盤以961元開出後失守960價位，終場收在958元，下跌22元或2.24%；台股以22093點開出後失守22000關卡，收盤以21951點作收，下跌308點。川普已經正式宣布，將對所有不在美國製造的汽車徵收25%的進口稅，美股四大指數下跌，費城半導體指數下滑3.27%，台積電ADR收盤大跌4.09%，報每股173.50美元，換算並折合台幣後是每股1,148.15元，較台北交易股票溢價率為17.16%。台股今早盤以22093點開出後，盤中失守22000點關卡，最低觸及21919點，收盤以21951點作收，下跌308點；台積電以961元開出，盤中最低觸及958元，終場以958元作收，下跌22元或2.24％。凱基投顧報告指出，周三大盤高點持續逼近月線壓力，但買盤仍無力追價，成交量急凍至近年新低水準，導致再度挑戰月線未果，不過，盤面上漲家數約占三分之二，有別前一日下跌家數約占七成，顯示盤面籌碼趨於穩定，而且盤中拉回尚能力守短期均線，技術面呈現價穩量縮走勢，有利短線持續挑戰月線，站上月線後就有機會進一步往上挑戰3月13日長黑高點22552點，站上22552點後就能完成底部型態，使反彈走勢進一步延伸。凱基投顧表示，目前盤面類股輪動快速，因此，操作上仍不宜過度追價，但大盤底部型態持續醞釀，部分個股開始率先表態強攻，選股可優先聚焦具利多題材以及股價轉強收復均線壓力之強勢個股。'"
      ]
     },
     "execution_count": 507,
     "metadata": {},
     "output_type": "execute_result"
    }
   ],
   "source": [
    "# Check out the first news\n",
    "df.content[0]"
   ]
  },
  {
   "cell_type": "code",
   "execution_count": 508,
   "metadata": {},
   "outputs": [
    {
     "data": {
      "text/plain": [
       "True"
      ]
     },
     "execution_count": 508,
     "metadata": {},
     "output_type": "execute_result"
    }
   ],
   "source": [
    "qk = '川普'\n",
    "text = df.content[0]\n",
    "qk in text"
   ]
  },
  {
   "cell_type": "code",
   "execution_count": 509,
   "metadata": {},
   "outputs": [
    {
     "data": {
      "text/plain": [
       "False"
      ]
     },
     "execution_count": 509,
     "metadata": {},
     "output_type": "execute_result"
    }
   ],
   "source": [
    "qk = '外交部'\n",
    "text = df.content[0]\n",
    "qk in text"
   ]
  },
  {
   "cell_type": "code",
   "execution_count": 510,
   "metadata": {},
   "outputs": [
    {
     "data": {
      "text/plain": [
       "False"
      ]
     },
     "execution_count": 510,
     "metadata": {},
     "output_type": "execute_result"
    }
   ],
   "source": [
    "qk = '台灣'\n",
    "text = df.content[0]\n",
    "qk in text"
   ]
  },
  {
   "cell_type": "code",
   "execution_count": 511,
   "metadata": {},
   "outputs": [
    {
     "data": {
      "text/plain": [
       "True"
      ]
     },
     "execution_count": 511,
     "metadata": {},
     "output_type": "execute_result"
    }
   ],
   "source": [
    "text = df.content[0]\n",
    "('川普' in text) & ('總統' in text )"
   ]
  },
  {
   "cell_type": "markdown",
   "metadata": {},
   "source": [
    "### Another \"in\" in Python. It is used for \"for\" loop."
   ]
  },
  {
   "cell_type": "code",
   "execution_count": 512,
   "metadata": {},
   "outputs": [
    {
     "data": {
      "text/plain": [
       "[True, True]"
      ]
     },
     "execution_count": 512,
     "metadata": {},
     "output_type": "execute_result"
    }
   ],
   "source": [
    "user_keywords=['川普','總統']\n",
    "text = df.content[0]\n",
    "[(qk in text) for qk in user_keywords]"
   ]
  },
  {
   "cell_type": "code",
   "execution_count": 513,
   "metadata": {},
   "outputs": [
    {
     "data": {
      "text/plain": [
       "[True, True]"
      ]
     },
     "execution_count": 513,
     "metadata": {},
     "output_type": "execute_result"
    }
   ],
   "source": [
    "user_keywords=['川普','總統']\n",
    "text = df.content[0]\n",
    "[(qk in text) for qk in user_keywords]"
   ]
  },
  {
   "cell_type": "code",
   "execution_count": null,
   "metadata": {},
   "outputs": [],
   "source": []
  },
  {
   "cell_type": "markdown",
   "metadata": {},
   "source": [
    "### all() any() \n",
    "\n",
    "    How to perform logical opertion with several conditions? 如何針對很多項去做邏輯運算?\n",
    "\n",
    "    all(): perform \"and\" logical opertion \n",
    "    any(): perform \"or\" logical opertion"
   ]
  },
  {
   "cell_type": "code",
   "execution_count": 514,
   "metadata": {},
   "outputs": [
    {
     "data": {
      "text/plain": [
       "True"
      ]
     },
     "execution_count": 514,
     "metadata": {},
     "output_type": "execute_result"
    }
   ],
   "source": [
    "all( [True, True, True] ) #　True & True"
   ]
  },
  {
   "cell_type": "code",
   "execution_count": 515,
   "metadata": {},
   "outputs": [
    {
     "data": {
      "text/plain": [
       "True"
      ]
     },
     "execution_count": 515,
     "metadata": {},
     "output_type": "execute_result"
    }
   ],
   "source": [
    "any( [True, True] )"
   ]
  },
  {
   "cell_type": "code",
   "execution_count": 516,
   "metadata": {},
   "outputs": [
    {
     "data": {
      "text/plain": [
       "False"
      ]
     },
     "execution_count": 516,
     "metadata": {},
     "output_type": "execute_result"
    }
   ],
   "source": [
    "all( [True, False] )"
   ]
  },
  {
   "cell_type": "code",
   "execution_count": 517,
   "metadata": {},
   "outputs": [
    {
     "data": {
      "text/plain": [
       "True"
      ]
     },
     "execution_count": 517,
     "metadata": {},
     "output_type": "execute_result"
    }
   ],
   "source": [
    "any( [True, False] )"
   ]
  },
  {
   "cell_type": "code",
   "execution_count": null,
   "metadata": {},
   "outputs": [],
   "source": []
  },
  {
   "cell_type": "code",
   "execution_count": 518,
   "metadata": {},
   "outputs": [
    {
     "data": {
      "text/plain": [
       "['川普', '總統']"
      ]
     },
     "execution_count": 518,
     "metadata": {},
     "output_type": "execute_result"
    }
   ],
   "source": [
    "user_keywords=['川普','總統']\n",
    "[word for word in user_keywords]"
   ]
  },
  {
   "cell_type": "code",
   "execution_count": 519,
   "metadata": {},
   "outputs": [
    {
     "data": {
      "text/plain": [
       "[True, True]"
      ]
     },
     "execution_count": 519,
     "metadata": {},
     "output_type": "execute_result"
    }
   ],
   "source": [
    "user_keywords=['川普','總統']\n",
    "text = '美國總統川普準備徵收汽車關稅，美股主要指數全數下跌，台積電重挫4.09%，台積電台北現股今日早盤以961元開出後失守960價位，終場收在958元，下跌22元或2.24%'\n",
    "[(word in text) for word in user_keywords]"
   ]
  },
  {
   "cell_type": "code",
   "execution_count": 520,
   "metadata": {},
   "outputs": [
    {
     "data": {
      "text/plain": [
       "[True, True]"
      ]
     },
     "execution_count": 520,
     "metadata": {},
     "output_type": "execute_result"
    }
   ],
   "source": [
    "user_keywords=['川普','總統']\n",
    "text = '美國總統川普準備徵收汽車關稅，美股主要指數全數下跌，台積電重挫4.09%，台積電台北現股今日早盤以961元開出後失守960價位，終場收在958元，下跌22元或2.24%'\n",
    "[word in text for word in user_keywords] # () can be removed"
   ]
  },
  {
   "cell_type": "code",
   "execution_count": 521,
   "metadata": {},
   "outputs": [
    {
     "data": {
      "text/plain": [
       "True"
      ]
     },
     "execution_count": 521,
     "metadata": {},
     "output_type": "execute_result"
    }
   ],
   "source": [
    "user_keywords=['川普','總統']\n",
    "text = '美國總統川普準備徵收汽車關稅，美股主要指數全數下跌，台積電重挫4.09%，台積電台北現股今日早盤以961元開出後失守960價位，終場收在958元，下跌22元或2.24%'\n",
    "all([word in text for word in user_keywords])"
   ]
  },
  {
   "cell_type": "code",
   "execution_count": 522,
   "metadata": {},
   "outputs": [
    {
     "data": {
      "text/plain": [
       "True"
      ]
     },
     "execution_count": 522,
     "metadata": {},
     "output_type": "execute_result"
    }
   ],
   "source": [
    "user_keywords=['川普','總統']\n",
    "text = '美國總統川普準備徵收汽車關稅，美股主要指數全數下跌，台積電重挫4.09%，台積電台北現股今日早盤以961元開出後失守960價位，終場收在958元，下跌22元或2.24%'\n",
    "all(word in text for word in user_keywords) # square brackets [] can be removed"
   ]
  },
  {
   "cell_type": "code",
   "execution_count": null,
   "metadata": {},
   "outputs": [],
   "source": []
  },
  {
   "cell_type": "code",
   "execution_count": 523,
   "metadata": {},
   "outputs": [
    {
     "name": "stdout",
     "output_type": "stream",
     "text": [
      "[True, True]\n"
     ]
    },
    {
     "data": {
      "text/plain": [
       "True"
      ]
     },
     "execution_count": 523,
     "metadata": {},
     "output_type": "execute_result"
    }
   ],
   "source": [
    "# Check out the first news\n",
    "user_keywords=['川普','總統']\n",
    "text = df.content[0]\n",
    "print([(qk in text) for qk in user_keywords])\n",
    "all((qk in text) for qk in user_keywords)"
   ]
  },
  {
   "cell_type": "code",
   "execution_count": 524,
   "metadata": {},
   "outputs": [
    {
     "data": {
      "text/plain": [
       "True"
      ]
     },
     "execution_count": 524,
     "metadata": {},
     "output_type": "execute_result"
    }
   ],
   "source": [
    "user_keywords=['川普','總統']\n",
    "text = df.content[0]\n",
    "any((qk in text) for qk in user_keywords)"
   ]
  },
  {
   "cell_type": "code",
   "execution_count": 525,
   "metadata": {},
   "outputs": [
    {
     "data": {
      "text/plain": [
       "[True, True]"
      ]
     },
     "execution_count": 525,
     "metadata": {},
     "output_type": "execute_result"
    }
   ],
   "source": [
    "user_keywords=['川普','總統']\n",
    "text = df.content[0]\n",
    "[(qk in text) for qk in user_keywords]"
   ]
  },
  {
   "cell_type": "code",
   "execution_count": 526,
   "metadata": {},
   "outputs": [
    {
     "data": {
      "text/plain": [
       "True"
      ]
     },
     "execution_count": 526,
     "metadata": {},
     "output_type": "execute_result"
    }
   ],
   "source": [
    "user_keywords=['川普','總統']\n",
    "text = df.content[0]\n",
    "all((qk in text) for qk in user_keywords)"
   ]
  },
  {
   "cell_type": "code",
   "execution_count": 527,
   "metadata": {},
   "outputs": [
    {
     "data": {
      "text/plain": [
       "True"
      ]
     },
     "execution_count": 527,
     "metadata": {},
     "output_type": "execute_result"
    }
   ],
   "source": [
    "user_keywords=['川普','總統']\n",
    "text = df.content[0]\n",
    "any((qk in text) for qk in user_keywords)"
   ]
  },
  {
   "cell_type": "markdown",
   "metadata": {},
   "source": [
    "## Using apply() and lambda function\n",
    "\n",
    "How to check out keyword occurency for every news?"
   ]
  },
  {
   "cell_type": "code",
   "execution_count": 528,
   "metadata": {},
   "outputs": [
    {
     "data": {
      "text/plain": [
       "0       True\n",
       "1       True\n",
       "2      False\n",
       "3      False\n",
       "4      False\n",
       "       ...  \n",
       "211    False\n",
       "212    False\n",
       "213    False\n",
       "214    False\n",
       "215    False\n",
       "Name: content, Length: 216, dtype: bool"
      ]
     },
     "execution_count": 528,
     "metadata": {},
     "output_type": "execute_result"
    }
   ],
   "source": [
    "# Use apply() and lambda function\n",
    "user_keywords=['川普','總統']\n",
    "df.content.apply(lambda text: all([(qk in text) for qk in user_keywords]))"
   ]
  },
  {
   "cell_type": "code",
   "execution_count": 529,
   "metadata": {},
   "outputs": [],
   "source": [
    "user_keywords=['川普','總統']"
   ]
  },
  {
   "cell_type": "code",
   "execution_count": 530,
   "metadata": {},
   "outputs": [
    {
     "data": {
      "text/plain": [
       "['川普', '總統']"
      ]
     },
     "execution_count": 530,
     "metadata": {},
     "output_type": "execute_result"
    }
   ],
   "source": [
    "[qk for qk in user_keywords]"
   ]
  },
  {
   "cell_type": "code",
   "execution_count": 531,
   "metadata": {},
   "outputs": [
    {
     "data": {
      "text/plain": [
       "'美國總統川普準備徵收汽車關稅，美股主要指數全數下跌，台積電重挫4.09%，台積電台北現股今日早盤以961元開出後失守960價位，終場收在958元，下跌22元或2.24%；台股以22093點開出後失守22000關卡，收盤以21951點作收，下跌308點。川普已經正式宣布，將對所有不在美國製造的汽車徵收25%的進口稅，美股四大指數下跌，費城半導體指數下滑3.27%，台積電ADR收盤大跌4.09%，報每股173.50美元，換算並折合台幣後是每股1,148.15元，較台北交易股票溢價率為17.16%。台股今早盤以22093點開出後，盤中失守22000點關卡，最低觸及21919點，收盤以21951點作收，下跌308點；台積電以961元開出，盤中最低觸及958元，終場以958元作收，下跌22元或2.24％。凱基投顧報告指出，周三大盤高點持續逼近月線壓力，但買盤仍無力追價，成交量急凍至近年新低水準，導致再度挑戰月線未果，不過，盤面上漲家數約占三分之二，有別前一日下跌家數約占七成，顯示盤面籌碼趨於穩定，而且盤中拉回尚能力守短期均線，技術面呈現價穩量縮走勢，有利短線持續挑戰月線，站上月線後就有機會進一步往上挑戰3月13日長黑高點22552點，站上22552點後就能完成底部型態，使反彈走勢進一步延伸。凱基投顧表示，目前盤面類股輪動快速，因此，操作上仍不宜過度追價，但大盤底部型態持續醞釀，部分個股開始率先表態強攻，選股可優先聚焦具利多題材以及股價轉強收復均線壓力之強勢個股。'"
      ]
     },
     "execution_count": 531,
     "metadata": {},
     "output_type": "execute_result"
    }
   ],
   "source": [
    "text = df.content[0]\n",
    "text"
   ]
  },
  {
   "cell_type": "code",
   "execution_count": 532,
   "metadata": {},
   "outputs": [
    {
     "data": {
      "text/plain": [
       "[True, True]"
      ]
     },
     "execution_count": 532,
     "metadata": {},
     "output_type": "execute_result"
    }
   ],
   "source": [
    "[(qk in text) for qk in user_keywords]"
   ]
  },
  {
   "cell_type": "code",
   "execution_count": 533,
   "metadata": {},
   "outputs": [
    {
     "data": {
      "text/plain": [
       "True"
      ]
     },
     "execution_count": 533,
     "metadata": {},
     "output_type": "execute_result"
    }
   ],
   "source": [
    "# \n",
    "all([(qk in text) for qk in user_keywords])"
   ]
  },
  {
   "cell_type": "code",
   "execution_count": 534,
   "metadata": {},
   "outputs": [
    {
     "data": {
      "text/plain": [
       "True"
      ]
     },
     "execution_count": 534,
     "metadata": {},
     "output_type": "execute_result"
    }
   ],
   "source": [
    "# Square brackets can be removed\n",
    "all((qk in text) for qk in user_keywords)"
   ]
  },
  {
   "cell_type": "code",
   "execution_count": 535,
   "metadata": {},
   "outputs": [
    {
     "data": {
      "text/html": [
       "<div>\n",
       "<style scoped>\n",
       "    .dataframe tbody tr th:only-of-type {\n",
       "        vertical-align: middle;\n",
       "    }\n",
       "\n",
       "    .dataframe tbody tr th {\n",
       "        vertical-align: top;\n",
       "    }\n",
       "\n",
       "    .dataframe thead th {\n",
       "        text-align: right;\n",
       "    }\n",
       "</style>\n",
       "<table border=\"1\" class=\"dataframe\">\n",
       "  <thead>\n",
       "    <tr style=\"text-align: right;\">\n",
       "      <th></th>\n",
       "      <th>item_id</th>\n",
       "      <th>date</th>\n",
       "      <th>category</th>\n",
       "      <th>title</th>\n",
       "      <th>content</th>\n",
       "      <th>sentiment</th>\n",
       "      <th>summary</th>\n",
       "      <th>top_key_freq</th>\n",
       "      <th>tokens</th>\n",
       "      <th>tokens_v2</th>\n",
       "      <th>entities</th>\n",
       "      <th>token_pos</th>\n",
       "      <th>link</th>\n",
       "      <th>photo_link</th>\n",
       "    </tr>\n",
       "  </thead>\n",
       "  <tbody>\n",
       "    <tr>\n",
       "      <th>89</th>\n",
       "      <td>politics_20250327_4</td>\n",
       "      <td>2025-03-27</td>\n",
       "      <td>政治</td>\n",
       "      <td>75學者挺亞亞！律師翻出「3年前反戰聲明」　比對連署名單驚人結果曝光三立新聞網 setn.c...</td>\n",
       "      <td>政治中心／陳慈鈴報導【3/27 09:25 發稿｜09:50 更新：完整連署名單】▲亞亞遭限...</td>\n",
       "      <td>暫無</td>\n",
       "      <td>暫無</td>\n",
       "      <td>[('台灣', 15), ('言論', 7), ('名單', 5), ('陳培哲', 5),...</td>\n",
       "      <td>['政治', '中心', '／', '陳慈鈴', '報導', '【3/27 09:25 ',...</td>\n",
       "      <td>['政治', '中心', '陳慈鈴', '名單', '亞亞', '松山', '機場', '中...</td>\n",
       "      <td>[NerToken(word='亞亞', ner='PERSON', idx=(42, 44...</td>\n",
       "      <td>[('政治', 'Na'), ('中心', 'Nc'), ('／', 'FW'), ('陳慈...</td>\n",
       "      <td>https://tw.news.yahoo.com//%E9%82%81%E9%98%BF%...</td>\n",
       "      <td>https://s.yimg.com/ny/api/res/1.2/wdF8W4i_dhn0...</td>\n",
       "    </tr>\n",
       "  </tbody>\n",
       "</table>\n",
       "</div>"
      ],
      "text/plain": [
       "                item_id        date category  \\\n",
       "89  politics_20250327_4  2025-03-27       政治   \n",
       "\n",
       "                                                title  \\\n",
       "89  75學者挺亞亞！律師翻出「3年前反戰聲明」　比對連署名單驚人結果曝光三立新聞網 setn.c...   \n",
       "\n",
       "                                              content sentiment summary  \\\n",
       "89  政治中心／陳慈鈴報導【3/27 09:25 發稿｜09:50 更新：完整連署名單】▲亞亞遭限...        暫無      暫無   \n",
       "\n",
       "                                         top_key_freq  \\\n",
       "89  [('台灣', 15), ('言論', 7), ('名單', 5), ('陳培哲', 5),...   \n",
       "\n",
       "                                               tokens  \\\n",
       "89  ['政治', '中心', '／', '陳慈鈴', '報導', '【3/27 09:25 ',...   \n",
       "\n",
       "                                            tokens_v2  \\\n",
       "89  ['政治', '中心', '陳慈鈴', '名單', '亞亞', '松山', '機場', '中...   \n",
       "\n",
       "                                             entities  \\\n",
       "89  [NerToken(word='亞亞', ner='PERSON', idx=(42, 44...   \n",
       "\n",
       "                                            token_pos  \\\n",
       "89  [('政治', 'Na'), ('中心', 'Nc'), ('／', 'FW'), ('陳慈...   \n",
       "\n",
       "                                                 link  \\\n",
       "89  https://tw.news.yahoo.com//%E9%82%81%E9%98%BF%...   \n",
       "\n",
       "                                           photo_link  \n",
       "89  https://s.yimg.com/ny/api/res/1.2/wdF8W4i_dhn0...  "
      ]
     },
     "execution_count": 535,
     "metadata": {},
     "output_type": "execute_result"
    }
   ],
   "source": [
    "df[df.tokens_v2.apply(lambda text: all([word in text for word in user_keyword]))]"
   ]
  },
  {
   "cell_type": "code",
   "execution_count": 536,
   "metadata": {},
   "outputs": [
    {
     "data": {
      "text/plain": [
       "1"
      ]
     },
     "execution_count": 536,
     "metadata": {},
     "output_type": "execute_result"
    }
   ],
   "source": [
    "len(df[df.tokens_v2.apply(lambda text: all([word in text for word in user_keyword]))])"
   ]
  },
  {
   "cell_type": "markdown",
   "metadata": {},
   "source": [
    "### lambda: how does it work?\n",
    "lambda is a function with only one line"
   ]
  },
  {
   "cell_type": "code",
   "execution_count": 537,
   "metadata": {},
   "outputs": [],
   "source": [
    "func = lambda x: x+5  # parameters函數的參數   func(55, 175)  func(x) -> x+5"
   ]
  },
  {
   "cell_type": "code",
   "execution_count": 538,
   "metadata": {},
   "outputs": [
    {
     "data": {
      "text/plain": [
       "7"
      ]
     },
     "execution_count": 538,
     "metadata": {},
     "output_type": "execute_result"
    }
   ],
   "source": [
    "func(2)"
   ]
  },
  {
   "cell_type": "code",
   "execution_count": 539,
   "metadata": {},
   "outputs": [],
   "source": [
    "numbers=[1,2,3]"
   ]
  },
  {
   "cell_type": "code",
   "execution_count": 540,
   "metadata": {},
   "outputs": [
    {
     "data": {
      "text/plain": [
       "[6, 7, 8]"
      ]
     },
     "execution_count": 540,
     "metadata": {},
     "output_type": "execute_result"
    }
   ],
   "source": [
    "[func(x) for x in numbers]"
   ]
  },
  {
   "cell_type": "code",
   "execution_count": null,
   "metadata": {},
   "outputs": [],
   "source": []
  },
  {
   "cell_type": "code",
   "execution_count": 541,
   "metadata": {},
   "outputs": [
    {
     "data": {
      "text/plain": [
       "[6, 7, 8]"
      ]
     },
     "execution_count": 541,
     "metadata": {},
     "output_type": "execute_result"
    }
   ],
   "source": [
    "numbers=[1,2,3]\n",
    "list(map(func, numbers))"
   ]
  },
  {
   "cell_type": "code",
   "execution_count": 542,
   "metadata": {},
   "outputs": [
    {
     "data": {
      "text/plain": [
       "[6, 7, 8]"
      ]
     },
     "execution_count": 542,
     "metadata": {},
     "output_type": "execute_result"
    }
   ],
   "source": [
    "numbers=[1,2,3]\n",
    "list(map(lambda x: x+5, numbers))"
   ]
  },
  {
   "cell_type": "code",
   "execution_count": 543,
   "metadata": {},
   "outputs": [
    {
     "data": {
      "text/plain": [
       "[11, 12, 13]"
      ]
     },
     "execution_count": 543,
     "metadata": {},
     "output_type": "execute_result"
    }
   ],
   "source": [
    "def func2(x):\n",
    "    return x+10\n",
    "\n",
    "numbers=[1,2,3]\n",
    "list(map(func2, numbers))"
   ]
  },
  {
   "cell_type": "markdown",
   "metadata": {},
   "source": [
    "### How to use pandas apply()?"
   ]
  },
  {
   "cell_type": "code",
   "execution_count": 544,
   "metadata": {},
   "outputs": [],
   "source": [
    "df_test = pd.DataFrame([1,2,3], columns=['number'])"
   ]
  },
  {
   "cell_type": "code",
   "execution_count": 545,
   "metadata": {},
   "outputs": [
    {
     "data": {
      "text/html": [
       "<div>\n",
       "<style scoped>\n",
       "    .dataframe tbody tr th:only-of-type {\n",
       "        vertical-align: middle;\n",
       "    }\n",
       "\n",
       "    .dataframe tbody tr th {\n",
       "        vertical-align: top;\n",
       "    }\n",
       "\n",
       "    .dataframe thead th {\n",
       "        text-align: right;\n",
       "    }\n",
       "</style>\n",
       "<table border=\"1\" class=\"dataframe\">\n",
       "  <thead>\n",
       "    <tr style=\"text-align: right;\">\n",
       "      <th></th>\n",
       "      <th>number</th>\n",
       "    </tr>\n",
       "  </thead>\n",
       "  <tbody>\n",
       "    <tr>\n",
       "      <th>0</th>\n",
       "      <td>1</td>\n",
       "    </tr>\n",
       "    <tr>\n",
       "      <th>1</th>\n",
       "      <td>2</td>\n",
       "    </tr>\n",
       "    <tr>\n",
       "      <th>2</th>\n",
       "      <td>3</td>\n",
       "    </tr>\n",
       "  </tbody>\n",
       "</table>\n",
       "</div>"
      ],
      "text/plain": [
       "   number\n",
       "0       1\n",
       "1       2\n",
       "2       3"
      ]
     },
     "execution_count": 545,
     "metadata": {},
     "output_type": "execute_result"
    }
   ],
   "source": [
    "df_test"
   ]
  },
  {
   "cell_type": "code",
   "execution_count": 546,
   "metadata": {},
   "outputs": [
    {
     "data": {
      "text/plain": [
       "0    6\n",
       "1    7\n",
       "2    8\n",
       "Name: number, dtype: int64"
      ]
     },
     "execution_count": 546,
     "metadata": {},
     "output_type": "execute_result"
    }
   ],
   "source": [
    "df_test.number.apply(lambda x: x+5) # add 5 for each element in df_test.number"
   ]
  },
  {
   "cell_type": "code",
   "execution_count": 547,
   "metadata": {},
   "outputs": [],
   "source": [
    "user_keyword=['川普','總統']"
   ]
  },
  {
   "cell_type": "code",
   "execution_count": 548,
   "metadata": {},
   "outputs": [
    {
     "data": {
      "text/plain": [
       "0       True\n",
       "1       True\n",
       "2      False\n",
       "3      False\n",
       "4      False\n",
       "       ...  \n",
       "211    False\n",
       "212    False\n",
       "213    False\n",
       "214    False\n",
       "215    False\n",
       "Name: tokens_v2, Length: 216, dtype: bool"
      ]
     },
     "execution_count": 548,
     "metadata": {},
     "output_type": "execute_result"
    }
   ],
   "source": [
    "df.tokens_v2.apply(lambda text: all([word in text for word in user_keyword]))"
   ]
  },
  {
   "cell_type": "code",
   "execution_count": 549,
   "metadata": {},
   "outputs": [
    {
     "data": {
      "text/plain": [
       "0       True\n",
       "1       True\n",
       "2      False\n",
       "3      False\n",
       "4      False\n",
       "       ...  \n",
       "211    False\n",
       "212    False\n",
       "213    False\n",
       "214    False\n",
       "215    False\n",
       "Name: content, Length: 216, dtype: bool"
      ]
     },
     "execution_count": 549,
     "metadata": {},
     "output_type": "execute_result"
    }
   ],
   "source": [
    "df.content.apply(lambda text: all([word in text for word in user_keyword]))"
   ]
  },
  {
   "cell_type": "code",
   "execution_count": 550,
   "metadata": {},
   "outputs": [
    {
     "data": {
      "text/plain": [
       "0       True\n",
       "1       True\n",
       "2      False\n",
       "3      False\n",
       "4      False\n",
       "       ...  \n",
       "211    False\n",
       "212    False\n",
       "213    False\n",
       "214    False\n",
       "215    False\n",
       "Name: content, Length: 216, dtype: bool"
      ]
     },
     "execution_count": 550,
     "metadata": {},
     "output_type": "execute_result"
    }
   ],
   "source": [
    "user_keywords = ['川普','總統']\n",
    "def func3(text): \n",
    "    return all([word in text for word in user_keyword])\n",
    "\n",
    "df.content.apply(func3)"
   ]
  },
  {
   "attachments": {},
   "cell_type": "markdown",
   "metadata": {},
   "source": [
    "# Function of fitering news\n",
    "\n",
    "Put them all together!"
   ]
  },
  {
   "cell_type": "code",
   "execution_count": 551,
   "metadata": {},
   "outputs": [],
   "source": [
    "# Searching keywords from \"token_v2\" column\n",
    "def filter_dataFrame(user_keywords, cond, cate, weeks):\n",
    "\n",
    "    # end date: the date of the latest record of news\n",
    "    end_date = df.date.max()\n",
    "    \n",
    "    # start date\n",
    "    start_date = (datetime.strptime(end_date, '%Y-%m-%d').date() - timedelta(weeks=weeks)).strftime('%Y-%m-%d')\n",
    "\n",
    "    # proceed filtering\n",
    "    if (cate == \"全部\") & (cond == 'and'):\n",
    "        query_df = df[(df.date >= start_date) & (df.date <= end_date) \n",
    "            & df.tokens_v2.apply(lambda text: all((qk in text) for qk in user_keywords))]\n",
    "    elif (cate == \"全部\") & (cond == 'or'):\n",
    "        query_df = df[(df['date'] >= start_date) & (df['date'] <= end_date) \n",
    "            & df.tokens_v2.apply(lambda text: any((qk in text) for qk in user_keywords))]\n",
    "    elif (cond == 'and'):\n",
    "        query_df = df[(df.category == cate) \n",
    "            & (df.date >= start_date) & (df.date <= end_date) \n",
    "            & df.tokens_v2.apply(lambda text: all((qk in text) for qk in user_keywords))]\n",
    "    elif (cond == 'or'):\n",
    "        query_df = df[(df.category == cate) \n",
    "            & (df['date'] >= start_date) & (df['date'] <= end_date) \n",
    "            & df.tokens_v2.apply(lambda text: any((qk in text) for qk in user_keywords))]\n",
    "    return query_df"
   ]
  },
  {
   "cell_type": "markdown",
   "metadata": {},
   "source": [
    "### For \"politics\" category 政治類"
   ]
  },
  {
   "cell_type": "code",
   "execution_count": 552,
   "metadata": {},
   "outputs": [],
   "source": [
    "user_keyword=['川普','總統']\n",
    "cond='and'\n",
    "cate='政治'\n",
    "weeks=1\n",
    "df_query = filter_dataFrame(user_keywords, cond, cate, weeks)"
   ]
  },
  {
   "cell_type": "code",
   "execution_count": 553,
   "metadata": {},
   "outputs": [
    {
     "data": {
      "text/plain": [
       "'2025-03-20'"
      ]
     },
     "execution_count": 553,
     "metadata": {},
     "output_type": "execute_result"
    }
   ],
   "source": [
    "# end date: the date of the latest record of news\n",
    "end_date = df.date.max()\n",
    "\n",
    "# start date\n",
    "start_date = (datetime.strptime(end_date, '%Y-%m-%d').date() - timedelta(weeks=weeks)).strftime('%Y-%m-%d')\n",
    "start_date\n"
   ]
  },
  {
   "cell_type": "code",
   "execution_count": 554,
   "metadata": {},
   "outputs": [],
   "source": [
    "user_keyword=['川普','總統']\n",
    "cond='and'\n",
    "cate='政治'\n",
    "weeks=1"
   ]
  },
  {
   "cell_type": "code",
   "execution_count": 555,
   "metadata": {},
   "outputs": [
    {
     "data": {
      "text/plain": [
       "['川普', '總統']"
      ]
     },
     "execution_count": 555,
     "metadata": {},
     "output_type": "execute_result"
    }
   ],
   "source": [
    "user_keyword"
   ]
  },
  {
   "cell_type": "code",
   "execution_count": 556,
   "metadata": {},
   "outputs": [
    {
     "data": {
      "text/plain": [
       "'台灣'"
      ]
     },
     "execution_count": 556,
     "metadata": {},
     "output_type": "execute_result"
    }
   ],
   "source": [
    "qk"
   ]
  },
  {
   "cell_type": "code",
   "execution_count": 557,
   "metadata": {},
   "outputs": [
    {
     "data": {
      "text/plain": [
       "0      False\n",
       "1      False\n",
       "2      False\n",
       "3      False\n",
       "4      False\n",
       "       ...  \n",
       "211    False\n",
       "212    False\n",
       "213    False\n",
       "214    False\n",
       "215    False\n",
       "Length: 216, dtype: bool"
      ]
     },
     "execution_count": 557,
     "metadata": {},
     "output_type": "execute_result"
    }
   ],
   "source": [
    "(df.category == cate) & ( (df['date'] >= start_date) & (df['date'] <= end_date)  ) & df.tokens_v2.apply(lambda text: any((qk in text) for qk in user_keywords))"
   ]
  },
  {
   "cell_type": "code",
   "execution_count": 558,
   "metadata": {},
   "outputs": [
    {
     "data": {
      "text/plain": [
       "1"
      ]
     },
     "execution_count": 558,
     "metadata": {},
     "output_type": "execute_result"
    }
   ],
   "source": [
    "query_df = df[(\n",
    "    df.category == cate)   # category\n",
    "    & (df.date >= start_date) & (df.date <= end_date) # duration\n",
    "    & df.tokens_v2.apply(lambda row: all((qk in row) for qk in user_keywords)) # user keywords\n",
    "    ]\n",
    "len(query_df)"
   ]
  },
  {
   "cell_type": "code",
   "execution_count": 559,
   "metadata": {},
   "outputs": [
    {
     "data": {
      "text/html": [
       "<div>\n",
       "<style scoped>\n",
       "    .dataframe tbody tr th:only-of-type {\n",
       "        vertical-align: middle;\n",
       "    }\n",
       "\n",
       "    .dataframe tbody tr th {\n",
       "        vertical-align: top;\n",
       "    }\n",
       "\n",
       "    .dataframe thead th {\n",
       "        text-align: right;\n",
       "    }\n",
       "</style>\n",
       "<table border=\"1\" class=\"dataframe\">\n",
       "  <thead>\n",
       "    <tr style=\"text-align: right;\">\n",
       "      <th></th>\n",
       "      <th>item_id</th>\n",
       "      <th>date</th>\n",
       "      <th>category</th>\n",
       "      <th>title</th>\n",
       "      <th>content</th>\n",
       "      <th>sentiment</th>\n",
       "      <th>summary</th>\n",
       "      <th>top_key_freq</th>\n",
       "      <th>tokens</th>\n",
       "      <th>tokens_v2</th>\n",
       "      <th>entities</th>\n",
       "      <th>token_pos</th>\n",
       "      <th>link</th>\n",
       "      <th>photo_link</th>\n",
       "    </tr>\n",
       "  </thead>\n",
       "  <tbody>\n",
       "    <tr>\n",
       "      <th>90</th>\n",
       "      <td>politics_20250327_5</td>\n",
       "      <td>2025-03-27</td>\n",
       "      <td>政治</td>\n",
       "      <td>躲不過川普「汽車關稅」！新車價格喊漲　驚人數字曝光壹蘋新聞網2 則留言30 分鐘前</td>\n",
       "      <td>【國際中心／綜合報導】美國總統川普今天宣布對所有海外進口車輛一律課徵25%關稅，4月2日正式...</td>\n",
       "      <td>暫無</td>\n",
       "      <td>暫無</td>\n",
       "      <td>[('汽車', 12), ('美國', 7), ('關稅', 6), ('日本', 4), ...</td>\n",
       "      <td>['【', '國際', '中心', '／', '綜合', '報導', '】', '美國', ...</td>\n",
       "      <td>['國際', '中心', '美國', '總統', '川普', '海外', '車輛', '關稅...</td>\n",
       "      <td>[NerToken(word='美國', ner='GPE', idx=(11, 13)),...</td>\n",
       "      <td>[('【', 'PARENTHESISCATEGORY'), ('國際', 'Nc'), (...</td>\n",
       "      <td>https://tw.news.yahoo.com//%E7%9A%87%E5%90%8E%...</td>\n",
       "      <td>https://s.yimg.com/ny/api/res/1.2/HJyhfoBkXApj...</td>\n",
       "    </tr>\n",
       "  </tbody>\n",
       "</table>\n",
       "</div>"
      ],
      "text/plain": [
       "                item_id        date category  \\\n",
       "90  politics_20250327_5  2025-03-27       政治   \n",
       "\n",
       "                                        title  \\\n",
       "90  躲不過川普「汽車關稅」！新車價格喊漲　驚人數字曝光壹蘋新聞網2 則留言30 分鐘前   \n",
       "\n",
       "                                              content sentiment summary  \\\n",
       "90  【國際中心／綜合報導】美國總統川普今天宣布對所有海外進口車輛一律課徵25%關稅，4月2日正式...        暫無      暫無   \n",
       "\n",
       "                                         top_key_freq  \\\n",
       "90  [('汽車', 12), ('美國', 7), ('關稅', 6), ('日本', 4), ...   \n",
       "\n",
       "                                               tokens  \\\n",
       "90  ['【', '國際', '中心', '／', '綜合', '報導', '】', '美國', ...   \n",
       "\n",
       "                                            tokens_v2  \\\n",
       "90  ['國際', '中心', '美國', '總統', '川普', '海外', '車輛', '關稅...   \n",
       "\n",
       "                                             entities  \\\n",
       "90  [NerToken(word='美國', ner='GPE', idx=(11, 13)),...   \n",
       "\n",
       "                                            token_pos  \\\n",
       "90  [('【', 'PARENTHESISCATEGORY'), ('國際', 'Nc'), (...   \n",
       "\n",
       "                                                 link  \\\n",
       "90  https://tw.news.yahoo.com//%E7%9A%87%E5%90%8E%...   \n",
       "\n",
       "                                           photo_link  \n",
       "90  https://s.yimg.com/ny/api/res/1.2/HJyhfoBkXApj...  "
      ]
     },
     "execution_count": 559,
     "metadata": {},
     "output_type": "execute_result"
    }
   ],
   "source": [
    "query_df"
   ]
  },
  {
   "attachments": {},
   "cell_type": "markdown",
   "metadata": {},
   "source": [
    "### For \"全部\"\"All\" category (不必篩選類別!)"
   ]
  },
  {
   "cell_type": "code",
   "execution_count": 560,
   "metadata": {},
   "outputs": [],
   "source": [
    "user_keywords=['川普','美國']\n",
    "cond='and'\n",
    "cate='全部'\n",
    "weeks=2"
   ]
  },
  {
   "cell_type": "code",
   "execution_count": 561,
   "metadata": {},
   "outputs": [],
   "source": [
    "if (cate == \"全部\") & (cond == 'and'):\n",
    "    query_df = df[\n",
    "        (df.date >= start_date) & (df.date <= end_date) \n",
    "        & df.tokens_v2.apply(lambda row: all((qk in row) for qk in user_keywords))\n",
    "        ]\n",
    "elif (cate == \"全部\") & (cond == 'or'):\n",
    "    query_df = df[\n",
    "        (df['date'] >= start_date) & (df['date'] <= end_date) \n",
    "        & df.tokens_v2.apply(lambda row: any((qk in row) for qk in user_keywords))]"
   ]
  },
  {
   "cell_type": "code",
   "execution_count": 562,
   "metadata": {},
   "outputs": [
    {
     "data": {
      "text/plain": [
       "32"
      ]
     },
     "execution_count": 562,
     "metadata": {},
     "output_type": "execute_result"
    }
   ],
   "source": [
    "len(query_df)"
   ]
  },
  {
   "cell_type": "markdown",
   "metadata": {},
   "source": [
    "# Function of count_keyword() to calculate frequency and occurence"
   ]
  },
  {
   "cell_type": "code",
   "execution_count": 563,
   "metadata": {},
   "outputs": [],
   "source": [
    "# For the query_df, count the occurence and frequency for each category.\n",
    "\n",
    "# (1) cate_occurence={}  被多少篇新聞報導\n",
    "# (2) cate_freq={}       被提到多少次?How many times were the keywords mentioned\n",
    "\n",
    "\n",
    "news_categories=['全部','焦點','娛樂影劇','國際','政治','社會地方','財經','運動','玩樂','品味','遊戲3C']\n",
    "\n",
    "def count_keyword(query_df, user_keywords):\n",
    "    cate_occurence={}\n",
    "    cate_freq={}\n",
    "\n",
    "    for cate in news_categories:\n",
    "        cate_occurence[cate]=0\n",
    "        cate_freq[cate]=0\n",
    "\n",
    "    for idx, row in query_df.iterrows():\n",
    "        # count number of news\n",
    "        cate_occurence[row.category] += 1 # add 1 to its category's occurence\n",
    "        cate_occurence['全部'] += 1\n",
    "        \n",
    "        # count user keyword frequency by checking every word in tokens_v2\n",
    "        tokens = eval(row.tokens_v2) # count frequency\n",
    "        freq =  len([word for word in tokens if (word in user_keywords)]) # how manay times?\n",
    "        cate_freq[row.category] += freq\n",
    "        cate_freq['全部'] += freq\n",
    "        \n",
    "    return cate_freq, cate_occurence"
   ]
  },
  {
   "cell_type": "code",
   "execution_count": 564,
   "metadata": {},
   "outputs": [
    {
     "data": {
      "text/plain": [
       "({'全部': 9,\n",
       "  '焦點': 0,\n",
       "  '娛樂影劇': 0,\n",
       "  '國際': 0,\n",
       "  '政治': 9,\n",
       "  '社會地方': 0,\n",
       "  '財經': 0,\n",
       "  '運動': 0,\n",
       "  '玩樂': 0,\n",
       "  '品味': 0,\n",
       "  '遊戲3C': 0},\n",
       " {'全部': 1,\n",
       "  '焦點': 0,\n",
       "  '娛樂影劇': 0,\n",
       "  '國際': 0,\n",
       "  '政治': 1,\n",
       "  '社會地方': 0,\n",
       "  '財經': 0,\n",
       "  '運動': 0,\n",
       "  '玩樂': 0,\n",
       "  '品味': 0,\n",
       "  '遊戲3C': 0})"
      ]
     },
     "execution_count": 564,
     "metadata": {},
     "output_type": "execute_result"
    }
   ],
   "source": [
    "user_keywords=['川普','美國']\n",
    "count_keyword(df_query, user_keywords)"
   ]
  },
  {
   "attachments": {},
   "cell_type": "markdown",
   "metadata": {},
   "source": [
    "## Show it step by step by yourself"
   ]
  },
  {
   "cell_type": "code",
   "execution_count": 565,
   "metadata": {},
   "outputs": [],
   "source": [
    "user_keywords=['川普','美國']\n",
    "cond='and'\n",
    "cate='全部'\n",
    "weeks=2\n",
    "df_query = filter_dataFrame(user_keywords, cond, cate, weeks)\n",
    "\n",
    "# count user keyword frequency by checking every word in tokens_v2\n",
    "tokens = eval(df_query.tokens_v2[0]) # count frequency\n",
    "freq =  len([word for word in tokens if (word in user_keywords)]) # how manay times?"
   ]
  },
  {
   "cell_type": "code",
   "execution_count": 566,
   "metadata": {},
   "outputs": [
    {
     "data": {
      "text/html": [
       "<div>\n",
       "<style scoped>\n",
       "    .dataframe tbody tr th:only-of-type {\n",
       "        vertical-align: middle;\n",
       "    }\n",
       "\n",
       "    .dataframe tbody tr th {\n",
       "        vertical-align: top;\n",
       "    }\n",
       "\n",
       "    .dataframe thead th {\n",
       "        text-align: right;\n",
       "    }\n",
       "</style>\n",
       "<table border=\"1\" class=\"dataframe\">\n",
       "  <thead>\n",
       "    <tr style=\"text-align: right;\">\n",
       "      <th></th>\n",
       "      <th>item_id</th>\n",
       "      <th>date</th>\n",
       "      <th>category</th>\n",
       "      <th>title</th>\n",
       "      <th>content</th>\n",
       "      <th>sentiment</th>\n",
       "      <th>summary</th>\n",
       "      <th>top_key_freq</th>\n",
       "      <th>tokens</th>\n",
       "      <th>tokens_v2</th>\n",
       "      <th>entities</th>\n",
       "      <th>token_pos</th>\n",
       "      <th>link</th>\n",
       "      <th>photo_link</th>\n",
       "    </tr>\n",
       "  </thead>\n",
       "  <tbody>\n",
       "    <tr>\n",
       "      <th>0</th>\n",
       "      <td>_20250327_1</td>\n",
       "      <td>2025-03-27</td>\n",
       "      <td>焦點</td>\n",
       "      <td>台股重挫308點 失守22000關卡</td>\n",
       "      <td>美國總統川普準備徵收汽車關稅，美股主要指數全數下跌，台積電重挫4.09%，台積電台北現股今日...</td>\n",
       "      <td>暫無</td>\n",
       "      <td>暫無</td>\n",
       "      <td>[('台積電', 4), ('指數', 3), ('月線', 3), ('美國', 2), ...</td>\n",
       "      <td>['美國', '總統', '川普', '準備', '徵收', '汽車', '關稅', '，'...</td>\n",
       "      <td>['美國', '總統', '川普', '汽車', '關稅', '美股', '指數', '台積...</td>\n",
       "      <td>[NerToken(word='美國', ner='GPE', idx=(0, 2)), N...</td>\n",
       "      <td>[('美國', 'Nc'), ('總統', 'Na'), ('川普', 'Nb'), ('準...</td>\n",
       "      <td>https://tw.news.yahoo.com/https://tw.stock.yah...</td>\n",
       "      <td>https://s.yimg.com/ny/api/res/1.2/3qEveVGKp070...</td>\n",
       "    </tr>\n",
       "    <tr>\n",
       "      <th>1</th>\n",
       "      <td>_20250327_2</td>\n",
       "      <td>2025-03-27</td>\n",
       "      <td>焦點</td>\n",
       "      <td>賴士葆撞人畫面外流 警被起訴</td>\n",
       "      <td>去年7月間，國民黨立委賴士葆駕車行駛在台北市大安區時，不慎撞傷走在斑馬線上2位女性行人，沒想...</td>\n",
       "      <td>暫無</td>\n",
       "      <td>暫無</td>\n",
       "      <td>[('台灣', 10), ('賴士葆', 9), ('警員', 9), ('照片', 7),...</td>\n",
       "      <td>['去年', '7月', '間', '，', '國民黨', '立委', '賴士葆', '駕車...</td>\n",
       "      <td>['國民黨', '立委', '賴士葆', '台北市', '大安區', '斑馬線', '女性'...</td>\n",
       "      <td>[NerToken(word='去年7月', ner='DATE', idx=(0, 4))...</td>\n",
       "      <td>[('去年', 'Nd'), ('7月', 'Nd'), ('間', 'Ng'), ('，'...</td>\n",
       "      <td>https://tw.news.yahoo.com/%E8%B3%B4%E5%A3%AB%E...</td>\n",
       "      <td>https://s.yimg.com/ny/api/res/1.2/PPzJSVLdFBTm...</td>\n",
       "    </tr>\n",
       "    <tr>\n",
       "      <th>8</th>\n",
       "      <td>_20250327_9</td>\n",
       "      <td>2025-03-27</td>\n",
       "      <td>焦點</td>\n",
       "      <td>川普：對非美製汽車徵收25%關稅</td>\n",
       "      <td>美國總統川普26日宣布，將對所有在外國製造、進口到美國的車輛徵收25%關稅，於4月2日生效。...</td>\n",
       "      <td>暫無</td>\n",
       "      <td>暫無</td>\n",
       "      <td>[('美國', 18), ('汽車', 15), ('關稅', 13), ('川普', 9)...</td>\n",
       "      <td>['美國', '總統', '川普', '26日', '宣布', '，', '將', '對',...</td>\n",
       "      <td>['美國', '總統', '川普', '外國', '美國', '車輛', '關稅', '川普...</td>\n",
       "      <td>[NerToken(word='美國', ner='GPE', idx=(0, 2)), N...</td>\n",
       "      <td>[('美國', 'Nc'), ('總統', 'Na'), ('川普', 'Nb'), ('2...</td>\n",
       "      <td>https://tw.news.yahoo.com/%E5%B7%9D%E6%99%AE%E...</td>\n",
       "      <td>https://s.yimg.com/ny/api/res/1.2/a3q8Ypi2GpcT...</td>\n",
       "    </tr>\n",
       "    <tr>\n",
       "      <th>9</th>\n",
       "      <td>_20250327_10</td>\n",
       "      <td>2025-03-27</td>\n",
       "      <td>焦點</td>\n",
       "      <td>管制武統言論？法務部：有學者建議訂專法</td>\n",
       "      <td>大陸配偶「亞亞」劉振亞被內政部移民署認定在台發表「武統」言論，遭廢止其居留許可，驅逐出境。移...</td>\n",
       "      <td>暫無</td>\n",
       "      <td>暫無</td>\n",
       "      <td>[('言論', 14), ('法務部', 10), ('刑法', 8), ('仇恨', 7)...</td>\n",
       "      <td>['大陸', '配偶', '「', '亞亞', '」', '劉振亞', '被', '內政部'...</td>\n",
       "      <td>['大陸', '配偶', '亞亞', '劉振亞', '內政部', '移民署', '武統', ...</td>\n",
       "      <td>[NerToken(word='大陸', ner='GPE', idx=(0, 2)), N...</td>\n",
       "      <td>[('大陸', 'Nc'), ('配偶', 'Na'), ('「', 'PARENTHESI...</td>\n",
       "      <td>https://tw.news.yahoo.com/%E6%B3%95%E5%8B%99%E...</td>\n",
       "      <td>https://s.yimg.com/ny/api/res/1.2/N.rOQJyRrtcu...</td>\n",
       "    </tr>\n",
       "    <tr>\n",
       "      <th>22</th>\n",
       "      <td>_20250327_23</td>\n",
       "      <td>2025-03-27</td>\n",
       "      <td>焦點</td>\n",
       "      <td>北京正在主導國際經貿體系！前貿易代表坦承：美國已生活在中國建構的世界裡</td>\n",
       "      <td>[周刊王CTWANT] 川普今年1月20日上台後隨即對鋼鐵和鋁材徵收高額關稅，並限制對中國的...</td>\n",
       "      <td>暫無</td>\n",
       "      <td>暫無</td>\n",
       "      <td>[('中國', 47), ('美國', 40), ('經濟', 20), ('國家', 19...</td>\n",
       "      <td>['[周刊王', 'CTWANT', ']', ' ', '川普', '今年', '1月',...</td>\n",
       "      <td>['川普', '鋼鐵', '鋁材', '高額', '關稅', '中國', '投資', '歐巴...</td>\n",
       "      <td>[NerToken(word='川普', ner='PERSON', idx=(12, 14...</td>\n",
       "      <td>[('[周刊王', 'PARENTHESISCATEGORY'), ('CTWANT', '...</td>\n",
       "      <td>https://tw.news.yahoo.com/%E9%99%B3%E5%AD%9D%E...</td>\n",
       "      <td>https://s.yimg.com/ny/api/res/1.2/yCZUHuGPWx4S...</td>\n",
       "    </tr>\n",
       "    <tr>\n",
       "      <th>26</th>\n",
       "      <td>_20250327_27</td>\n",
       "      <td>2025-03-27</td>\n",
       "      <td>焦點</td>\n",
       "      <td>男子不停打嗝「持續2年多」！累到住院　血液檢查意外揪出病因</td>\n",
       "      <td>[周刊王CTWANT] 黎巴嫩一名93歲男子，從2年前開始就出現不斷打嗝的情況，不管嘗試什麼...</td>\n",
       "      <td>暫無</td>\n",
       "      <td>暫無</td>\n",
       "      <td>[('男子', 12), ('網友', 10), ('情況', 8), ('女兒', 5),...</td>\n",
       "      <td>['[', '周刊王', 'CTWANT', ']', ' ', '黎巴嫩', '一名', ...</td>\n",
       "      <td>['周刊王', '黎巴嫩', '男子', '情況', '情況', '醫院', '血液', '...</td>\n",
       "      <td>[NerToken(word='黎巴嫩', ner='GPE', idx=(12, 15))...</td>\n",
       "      <td>[('[', 'PARENTHESISCATEGORY'), ('周刊王', 'Nb'), ...</td>\n",
       "      <td>https://tw.news.yahoo.com/%E6%90%AD%E9%A3%9B%E...</td>\n",
       "      <td>https://s.yimg.com/ny/api/res/1.2/MIlRskTBfzno...</td>\n",
       "    </tr>\n",
       "    <tr>\n",
       "      <th>33</th>\n",
       "      <td>_20250327_34</td>\n",
       "      <td>2025-03-27</td>\n",
       "      <td>焦點</td>\n",
       "      <td>No title</td>\n",
       "      <td>美國政府的財政狀況持續惡化，預算赤字擴大、國債規模不斷攀升。國際信評機構穆迪在25日發布的報...</td>\n",
       "      <td>暫無</td>\n",
       "      <td>暫無</td>\n",
       "      <td>[('美國', 14), ('財政', 12), ('穆迪', 8), ('政府', 7),...</td>\n",
       "      <td>['美國', '政府', '的', '財政', '狀況', '持續', '惡化', '，',...</td>\n",
       "      <td>['美國', '政府', '財政', '狀況', '預算', '赤字', '國債', '規模...</td>\n",
       "      <td>[NerToken(word='美國', ner='GPE', idx=(0, 2)), N...</td>\n",
       "      <td>[('美國', 'Nc'), ('政府', 'Na'), ('的', 'DE'), ('財政...</td>\n",
       "      <td>https://tw.news.yahoo.com/https://tw.stock.yah...</td>\n",
       "      <td>https://s.yimg.com/ny/api/res/1.2/Snpin_i4HNIQ...</td>\n",
       "    </tr>\n",
       "    <tr>\n",
       "      <th>35</th>\n",
       "      <td>_20250327_36</td>\n",
       "      <td>2025-03-27</td>\n",
       "      <td>焦點</td>\n",
       "      <td>信評機構警告美國財政惡化　利息支出占收入的比率將從9％升至30％</td>\n",
       "      <td>美國政府的財政狀況持續惡化，預算赤字擴大、國債規模不斷攀升。國際信評機構穆迪在25日發布的報...</td>\n",
       "      <td>暫無</td>\n",
       "      <td>暫無</td>\n",
       "      <td>[('美國', 14), ('財政', 12), ('穆迪', 8), ('政府', 7),...</td>\n",
       "      <td>['美國', '政府', '的', '財政', '狀況', '持續', '惡化', '，',...</td>\n",
       "      <td>['美國', '政府', '財政', '狀況', '預算', '赤字', '國債', '規模...</td>\n",
       "      <td>[NerToken(word='美國', ner='GPE', idx=(0, 2)), N...</td>\n",
       "      <td>[('美國', 'Nc'), ('政府', 'Na'), ('的', 'DE'), ('財政...</td>\n",
       "      <td>https://tw.news.yahoo.com//%E9%BB%83%E5%AD%90%...</td>\n",
       "      <td>https://s.yimg.com/ny/api/res/1.2/Snpin_i4HNIQ...</td>\n",
       "    </tr>\n",
       "    <tr>\n",
       "      <th>36</th>\n",
       "      <td>_20250327_37</td>\n",
       "      <td>2025-03-27</td>\n",
       "      <td>焦點</td>\n",
       "      <td>保健食品關稅30%　財長：部分分年逐步調降</td>\n",
       "      <td>[NOWnews今日新聞] 立法院財政委員會今日邀請財政部、經濟部就「因應美國川普政府對等關...</td>\n",
       "      <td>暫無</td>\n",
       "      <td>暫無</td>\n",
       "      <td>[('關稅', 12), ('經濟部', 6), ('保健', 6), ('食品', 6),...</td>\n",
       "      <td>['[NO', 'Wnews', '今日', '新聞', ']', ' ', '立法院', ...</td>\n",
       "      <td>['新聞', '立法院', '財政', '委員會', '財政部', '經濟部', '美國',...</td>\n",
       "      <td>[NerToken(word='立法院財政委員會', ner='ORG', idx=(14,...</td>\n",
       "      <td>[('[NO', 'PARENTHESISCATEGORY'), ('Wnews', 'FW...</td>\n",
       "      <td>https://tw.news.yahoo.com//%E4%BF%A1%E8%A9%95%...</td>\n",
       "      <td>https://s.yimg.com/ny/api/res/1.2/xYsfze59VEId...</td>\n",
       "    </tr>\n",
       "    <tr>\n",
       "      <th>40</th>\n",
       "      <td>_20250327_41</td>\n",
       "      <td>2025-03-27</td>\n",
       "      <td>焦點</td>\n",
       "      <td>美國經濟衰退危機將至？巴菲特示警散戶快做5件事：當別人貪婪時要恐懼</td>\n",
       "      <td>美國總統川普上任後接連祭出關稅政策，讓全球經濟陷入重大隱憂，甚至有不少華爾街專家認為，美國經...</td>\n",
       "      <td>暫無</td>\n",
       "      <td>暫無</td>\n",
       "      <td>[('經濟', 13), ('巴菲特', 6), ('美國', 4), ('投資人', 4)...</td>\n",
       "      <td>['美國', '總統', '川普', '上任', '後', '接連', '祭出', '關稅'...</td>\n",
       "      <td>['美國', '總統', '川普', '關稅', '政策', '全球', '經濟', '隱憂...</td>\n",
       "      <td>[NerToken(word='美國', ner='GPE', idx=(0, 2)), N...</td>\n",
       "      <td>[('美國', 'Nc'), ('總統', 'Na'), ('川普', 'Nb'), ('上...</td>\n",
       "      <td>https://tw.news.yahoo.com/%E5%8F%B0%E5%8D%97%E...</td>\n",
       "      <td>https://s.yimg.com/ny/api/res/1.2/eaVvc8.Hhr6W...</td>\n",
       "    </tr>\n",
       "    <tr>\n",
       "      <th>42</th>\n",
       "      <td>_20250327_43</td>\n",
       "      <td>2025-03-27</td>\n",
       "      <td>焦點</td>\n",
       "      <td>2女闖辦公室逼貼「禁菸貼紙」！KIMIKO老師嚇壞鎖門　衛生局回應了</td>\n",
       "      <td>舞蹈老師KIMIKO發文指控，位於台北市的辦公室遭兩名女子闖入，還試圖要在門上貼貼紙，一連串...</td>\n",
       "      <td>暫無</td>\n",
       "      <td>暫無</td>\n",
       "      <td>[('志工', 9), ('網友', 7), ('老師', 6), ('辦公室', 6), ...</td>\n",
       "      <td>['舞蹈', '老師', 'KIMIKO', '發文', '指控', '，', '位於', ...</td>\n",
       "      <td>['舞蹈', '老師', '指控', '台北市', '辦公室', '女子', '貼紙', '...</td>\n",
       "      <td>[NerToken(word='台北市', ner='GPE', idx=(17, 20))...</td>\n",
       "      <td>[('舞蹈', 'Na'), ('老師', 'Na'), ('KIMIKO', 'FW'),...</td>\n",
       "      <td>https://tw.news.yahoo.com/%E8%BB%8A%E9%81%95%E...</td>\n",
       "      <td>https://s.yimg.com/ny/api/res/1.2/aX3Kiwaukggz...</td>\n",
       "    </tr>\n",
       "    <tr>\n",
       "      <th>73</th>\n",
       "      <td>world_20250327_1</td>\n",
       "      <td>2025-03-27</td>\n",
       "      <td>國際</td>\n",
       "      <td>白宮Signal門：《大西洋月刊》披露群聊全文，美國安團隊洩密事件六大疑點BBC NEWS ...</td>\n",
       "      <td>過去48小時裡，白宮高級官員一直面臨國會議員和媒體的質詢，他們質疑一名記者為何能加入有關即將...</td>\n",
       "      <td>暫無</td>\n",
       "      <td>暫無</td>\n",
       "      <td>[('特朗普', 15), ('美國', 15), ('總統', 14), ('政府', 1...</td>\n",
       "      <td>['過去', '48', '小時', '裡', '，', '白宮', '高級', '官員',...</td>\n",
       "      <td>['小時', '白宮', '官員', '國會', '議員', '媒體', '記者', '軍事...</td>\n",
       "      <td>[NerToken(word='白宮', ner='ORG', idx=(8, 10)), ...</td>\n",
       "      <td>[('過去', 'Nd'), ('48', 'Neu'), ('小時', 'Na'), ('...</td>\n",
       "      <td>https://tw.news.yahoo.com//%E5%BC%B5%E6%B8%85%...</td>\n",
       "      <td>https://s.yimg.com/ny/api/res/1.2/QOQe7cGsR9gp...</td>\n",
       "    </tr>\n",
       "    <tr>\n",
       "      <th>75</th>\n",
       "      <td>world_20250327_3</td>\n",
       "      <td>2025-03-27</td>\n",
       "      <td>國際</td>\n",
       "      <td>餐廳重設戶外餐區 華埠小商家因2原因對生意仍信心不足世界日報World Journal發起對...</td>\n",
       "      <td>紐約市運輸局(NYC DOT)提醒全市2600家獲批參加「戶外用餐計畫(Dining Out...</td>\n",
       "      <td>暫無</td>\n",
       "      <td>暫無</td>\n",
       "      <td>[('華埠', 9), ('戶外', 8), ('生意', 6), ('商家', 5), (...</td>\n",
       "      <td>['紐約市', '運輸局', '(', 'NYC DOT)', '提醒', '全', '市'...</td>\n",
       "      <td>['紐約市', '運輸局', '戶外', '用餐', '計畫', '餐廳', '戶外', '...</td>\n",
       "      <td>[NerToken(word='2600', ner='CARDINAL', idx=(19...</td>\n",
       "      <td>[('紐約市', 'Nc'), ('運輸局', 'Nc'), ('(', 'PARENTHE...</td>\n",
       "      <td>https://tw.news.yahoo.com//%E8%B6%99%E9%A7%BF%...</td>\n",
       "      <td>https://s.yimg.com/ny/api/res/1.2/ALnQmdsi4rd6...</td>\n",
       "    </tr>\n",
       "    <tr>\n",
       "      <th>76</th>\n",
       "      <td>world_20250327_4</td>\n",
       "      <td>2025-03-27</td>\n",
       "      <td>國際</td>\n",
       "      <td>北京正在主導國際經貿體系！前貿易代表坦承：美國已生活在中國建構的世界裡CTWANT3 則留言...</td>\n",
       "      <td>[周刊王CTWANT] 川普今年1月20日上台後隨即對鋼鐵和鋁材徵收高額關稅，並限制對中國的...</td>\n",
       "      <td>暫無</td>\n",
       "      <td>暫無</td>\n",
       "      <td>[('中國', 37), ('美國', 27), ('經濟', 13), ('政策', 11...</td>\n",
       "      <td>['[周刊王', 'CTWANT', ']', ' ', '川普', '今年', '1月',...</td>\n",
       "      <td>['川普', '鋼鐵', '鋁材', '高額', '關稅', '中國', '投資', '歐巴...</td>\n",
       "      <td>[NerToken(word='川普', ner='PERSON', idx=(12, 14...</td>\n",
       "      <td>[('[周刊王', 'PARENTHESISCATEGORY'), ('CTWANT', '...</td>\n",
       "      <td>https://tw.news.yahoo.com//%E5%B0%8F%E9%AC%BC%...</td>\n",
       "      <td>https://s.yimg.com/ny/api/res/1.2/rgX3blP9eelr...</td>\n",
       "    </tr>\n",
       "    <tr>\n",
       "      <th>81</th>\n",
       "      <td>world_20250327_9</td>\n",
       "      <td>2025-03-27</td>\n",
       "      <td>國際</td>\n",
       "      <td>4姊姊共同照顧「植物人弟」14年！竟被姪女告上法院　要求獨自繼承遺產CTWANT發起對話1 小時前</td>\n",
       "      <td>[周刊王CTWANT] 中國一名男子突然發病，變成植物人後，都是他的4名姊姊共同照顧他，就這...</td>\n",
       "      <td>暫無</td>\n",
       "      <td>暫無</td>\n",
       "      <td>[('劉男', 12), ('周刊王', 6), ('中國', 6), ('男子', 6),...</td>\n",
       "      <td>['[', '周刊王', 'CTWANT', ']', ' ', '中國', '一名', '...</td>\n",
       "      <td>['周刊王', '中國', '男子', '植物人', '姊姊', '弟弟', '姪女', '...</td>\n",
       "      <td>[NerToken(word='中國', ner='GPE', idx=(12, 14)),...</td>\n",
       "      <td>[('[', 'PARENTHESISCATEGORY'), ('周刊王', 'Nb'), ...</td>\n",
       "      <td>https://tw.news.yahoo.com//%E5%A9%86%E5%AE%B6%...</td>\n",
       "      <td>https://s.yimg.com/ny/api/res/1.2/CEUKc6QYrjY6...</td>\n",
       "    </tr>\n",
       "    <tr>\n",
       "      <th>82</th>\n",
       "      <td>world_20250327_10</td>\n",
       "      <td>2025-03-27</td>\n",
       "      <td>國際</td>\n",
       "      <td>美國安群洩密／美國防長群發訊息若非機密那是什麼？CIA局長支吾其詞三立新聞網 setn.co...</td>\n",
       "      <td>編譯連國程／綜合報導白宮洩密風波越演越烈，美國雜誌《大西洋月刊》總編輯高德柏格被拉進通訊軟體...</td>\n",
       "      <td>暫無</td>\n",
       "      <td>暫無</td>\n",
       "      <td>[('川普', 5), ('赫格塞斯', 4), ('情報', 4), ('美國', 3),...</td>\n",
       "      <td>['編譯', '連國程', '／', '綜合', '報導', '白宮', '洩密', '風波...</td>\n",
       "      <td>['白宮', '風波', '美國', '雜誌', '西洋', '月刊', '總編輯', '高...</td>\n",
       "      <td>[NerToken(word='白宮', ner='ORG', idx=(10, 12)),...</td>\n",
       "      <td>[('編譯', 'VC'), ('連國程', 'Cbb'), ('／', 'FW'), ('...</td>\n",
       "      <td>https://tw.news.yahoo.com//%E6%B3%95%E9%99%A2%...</td>\n",
       "      <td>https://s.yimg.com/ny/api/res/1.2/YDwYePzjzY8J...</td>\n",
       "    </tr>\n",
       "    <tr>\n",
       "      <th>84</th>\n",
       "      <td>world_20250327_12</td>\n",
       "      <td>2025-03-27</td>\n",
       "      <td>國際</td>\n",
       "      <td>美國安群洩密／白宮都忍不住用它溝通機密　Signal何方神聖？三立新聞網 setn.com發...</td>\n",
       "      <td>編譯連國程／綜合報導白宮洩密風波越演越烈，美國雜誌《大西洋月刊》總編輯高德柏格被拉進通訊軟體...</td>\n",
       "      <td>暫無</td>\n",
       "      <td>暫無</td>\n",
       "      <td>[('訊息', 10), ('美國', 6), ('軟體', 6), ('機密', 4), ...</td>\n",
       "      <td>['編譯', '連國程', '／', '綜合', '報導', '白宮', '洩密', '風波...</td>\n",
       "      <td>['白宮', '風波', '美國', '雜誌', '西洋', '月刊', '總編輯', '高...</td>\n",
       "      <td>[NerToken(word='連國程', ner='PERSON', idx=(2, 5)...</td>\n",
       "      <td>[('編譯', 'VC'), ('連國程', 'Cbb'), ('／', 'FW'), ('...</td>\n",
       "      <td>https://tw.news.yahoo.com//%E8%8F%AF%E4%BA%BA%...</td>\n",
       "      <td>https://s.yimg.com/ny/api/res/1.2/QrwcS3.X0E.3...</td>\n",
       "    </tr>\n",
       "    <tr>\n",
       "      <th>85</th>\n",
       "      <td>world_20250327_13</td>\n",
       "      <td>2025-03-27</td>\n",
       "      <td>國際</td>\n",
       "      <td>俄羅斯「假停火」真轟炸！烏城市遭戰爭以來最猛烈攻擊 烏、俄互控違約新頭殼1 則留言2 小時前</td>\n",
       "      <td>[Newtalk新聞]俄羅斯在高調宣布「能源設施停火」後，卻隨即發動攻擊。3 月 25 日晚...</td>\n",
       "      <td>暫無</td>\n",
       "      <td>暫無</td>\n",
       "      <td>[('設施', 8), ('俄羅斯', 7), ('能源', 7), ('烏克蘭', 6),...</td>\n",
       "      <td>['[', 'Newtalk新聞', ']', '俄羅斯', '在', '高調', '宣布'...</td>\n",
       "      <td>['俄羅斯', '高調', '能源', '設施', '烏克蘭', '城市', '克里沃羅格'...</td>\n",
       "      <td>[NerToken(word='俄羅斯', ner='GPE', idx=(11, 14))...</td>\n",
       "      <td>[('[', 'PARENTHESISCATEGORY'), ('Newtalk新聞', '...</td>\n",
       "      <td>https://tw.news.yahoo.com//%E9%A4%90%E5%BB%B3%...</td>\n",
       "      <td>https://s.yimg.com/ny/api/res/1.2/kSB92rGx2X71...</td>\n",
       "    </tr>\n",
       "    <tr>\n",
       "      <th>90</th>\n",
       "      <td>politics_20250327_5</td>\n",
       "      <td>2025-03-27</td>\n",
       "      <td>政治</td>\n",
       "      <td>躲不過川普「汽車關稅」！新車價格喊漲　驚人數字曝光壹蘋新聞網2 則留言30 分鐘前</td>\n",
       "      <td>【國際中心／綜合報導】美國總統川普今天宣布對所有海外進口車輛一律課徵25%關稅，4月2日正式...</td>\n",
       "      <td>暫無</td>\n",
       "      <td>暫無</td>\n",
       "      <td>[('汽車', 12), ('美國', 7), ('關稅', 6), ('日本', 4), ...</td>\n",
       "      <td>['【', '國際', '中心', '／', '綜合', '報導', '】', '美國', ...</td>\n",
       "      <td>['國際', '中心', '美國', '總統', '川普', '海外', '車輛', '關稅...</td>\n",
       "      <td>[NerToken(word='美國', ner='GPE', idx=(11, 13)),...</td>\n",
       "      <td>[('【', 'PARENTHESISCATEGORY'), ('國際', 'Nc'), (...</td>\n",
       "      <td>https://tw.news.yahoo.com//%E7%9A%87%E5%90%8E%...</td>\n",
       "      <td>https://s.yimg.com/ny/api/res/1.2/HJyhfoBkXApj...</td>\n",
       "    </tr>\n",
       "    <tr>\n",
       "      <th>112</th>\n",
       "      <td>society_20250327_7</td>\n",
       "      <td>2025-03-27</td>\n",
       "      <td>社會地方</td>\n",
       "      <td>眾院要砍法院預算報復! 川普新政又遭司法挑戰 上訴法院擋下移民驅逐令新頭殼發起對話20 分鐘前</td>\n",
       "      <td>[Newtalk新聞] 美國聯邦上訴法院於 26 日以 2 比 1 的表決結果，拒絕解除地區...</td>\n",
       "      <td>暫無</td>\n",
       "      <td>暫無</td>\n",
       "      <td>[('法院', 10), ('美國', 8), ('法官', 7), ('博斯伯格', 5)...</td>\n",
       "      <td>['[', 'Newtalk', '新聞', '] ', '美國', '聯邦', '上訴',...</td>\n",
       "      <td>['新聞', '美國', '聯邦', '法院', '結果', '地區', '法官', '詹姆...</td>\n",
       "      <td>[NerToken(word='美國聯邦上訴法院', ner='ORG', idx=(12,...</td>\n",
       "      <td>[('[', 'PARENTHESISCATEGORY'), ('Newtalk', 'FW...</td>\n",
       "      <td>https://tw.news.yahoo.com//%E8%AD%A6%E6%94%BF%...</td>\n",
       "      <td>https://s.yimg.com/ny/api/res/1.2/a1YXhvQ1h5DN...</td>\n",
       "    </tr>\n",
       "    <tr>\n",
       "      <th>125</th>\n",
       "      <td>finance_20250327_6</td>\n",
       "      <td>2025-03-27</td>\n",
       "      <td>財經</td>\n",
       "      <td>收盤／危險啊！權值股倒成一片　大盤跌破2萬2！三立新聞網 setn.com發起對話59 分鐘前</td>\n",
       "      <td>財經中心／余國棟報導▲台股今天受美關稅徵收消息面影響，大盤重挫308點。台股今日表現慘烈，加...</td>\n",
       "      <td>暫無</td>\n",
       "      <td>暫無</td>\n",
       "      <td>[('指數', 8), ('台股', 5), ('跌幅', 5), ('關稅', 4), (...</td>\n",
       "      <td>['財經', '中心', '／', '余國棟', '報導', '▲', '台股', '今天'...</td>\n",
       "      <td>['財經', '中心', '余國棟', '台股', '關稅', '消息面', '大盤', '...</td>\n",
       "      <td>[NerToken(word='余國棟', ner='PERSON', idx=(5, 8)...</td>\n",
       "      <td>[('財經', 'Na'), ('中心', 'Nc'), ('／', 'FW'), ('余國...</td>\n",
       "      <td>https://tw.news.yahoo.com//%E5%BF%AB%E8%A8%8A-...</td>\n",
       "      <td>https://s.yimg.com/ny/api/res/1.2/tQDCQbHX_Vas...</td>\n",
       "    </tr>\n",
       "    <tr>\n",
       "      <th>126</th>\n",
       "      <td>finance_20250324_7</td>\n",
       "      <td>2025-03-24</td>\n",
       "      <td>財經</td>\n",
       "      <td>股市一直跌誰最慘？「1類人」恐成海嘯第一排　專家曝3方法降低風險三立新聞網 setn.com...</td>\n",
       "      <td>財經中心／彭淇昀報導市場對川普政府政策可能導致經濟衰退的擔憂加劇，標普500指數在2月19日...</td>\n",
       "      <td>暫無</td>\n",
       "      <td>暫無</td>\n",
       "      <td>[('市場', 4), ('股市', 4), ('嬰兒潮', 4), ('世代', 4), ...</td>\n",
       "      <td>['財經', '中心', '／', '彭淇昀', '報導', '市場', '對', '川普'...</td>\n",
       "      <td>['財經', '中心', '彭淇昀', '市場', '川普', '政府', '政策', '經...</td>\n",
       "      <td>[NerToken(word='彭淇昀', ner='PERSON', idx=(5, 8)...</td>\n",
       "      <td>[('財經', 'Na'), ('中心', 'Nc'), ('／', 'FW'), ('彭淇...</td>\n",
       "      <td>https://tw.news.yahoo.com//%E6%94%94%E6%9F%A5%...</td>\n",
       "      <td>https://s.yimg.com/ny/api/res/1.2/nMW1g5vNXghG...</td>\n",
       "    </tr>\n",
       "    <tr>\n",
       "      <th>130</th>\n",
       "      <td>finance_20250327_11</td>\n",
       "      <td>2025-03-27</td>\n",
       "      <td>財經</td>\n",
       "      <td>美國經濟衰退危機將至？巴菲特示警散戶快做5件事：當別人貪婪時要恐懼風傳媒2 則留言12 分鐘前</td>\n",
       "      <td>美國總統川普上任後接連祭出關稅政策，讓全球經濟陷入重大隱憂，甚至有不少華爾街專家認為，美國經...</td>\n",
       "      <td>暫無</td>\n",
       "      <td>暫無</td>\n",
       "      <td>[('經濟', 13), ('巴菲特', 6), ('美國', 4), ('投資人', 4)...</td>\n",
       "      <td>['美國', '總統', '川普', '上任', '後', '接連', '祭出', '關稅'...</td>\n",
       "      <td>['美國', '總統', '川普', '關稅', '政策', '全球', '經濟', '隱憂...</td>\n",
       "      <td>[NerToken(word='美國', ner='GPE', idx=(0, 2)), N...</td>\n",
       "      <td>[('美國', 'Nc'), ('總統', 'Na'), ('川普', 'Nb'), ('上...</td>\n",
       "      <td>https://tw.news.yahoo.com//%E7%BF%81%E8%8C%82%...</td>\n",
       "      <td>https://s.yimg.com/ny/api/res/1.2/eaVvc8.Hhr6W...</td>\n",
       "    </tr>\n",
       "    <tr>\n",
       "      <th>131</th>\n",
       "      <td>finance_20250327_12</td>\n",
       "      <td>2025-03-27</td>\n",
       "      <td>財經</td>\n",
       "      <td>美對等關稅在即！謝金河：恐帶來很大後座力今日新聞NOWnews17 則留言7 小時前</td>\n",
       "      <td>[NOWnews今日新聞] 美國再度揮舞關稅大刀，美國總統川普將於4月2日實施對等關稅，市場...</td>\n",
       "      <td>暫無</td>\n",
       "      <td>暫無</td>\n",
       "      <td>[('美國', 13), ('謝金河', 10), ('川普', 9), ('國家', 7)...</td>\n",
       "      <td>['[NO', 'Wnews', '今日', '新聞', '] ', '美國', '再度',...</td>\n",
       "      <td>['新聞', '美國', '關稅', '大刀', '美國', '總統', '川普', '關稅...</td>\n",
       "      <td>[NerToken(word='美國', ner='GPE', idx=(14, 16)),...</td>\n",
       "      <td>[('[NO', 'PARENTHESISCATEGORY'), ('Wnews', 'FW...</td>\n",
       "      <td>https://tw.news.yahoo.com//%E6%A1%83%E6%A9%9F%...</td>\n",
       "      <td>https://s.yimg.com/ny/api/res/1.2/E.AoLTIVxtK3...</td>\n",
       "    </tr>\n",
       "    <tr>\n",
       "      <th>132</th>\n",
       "      <td>finance_20250327_13</td>\n",
       "      <td>2025-03-27</td>\n",
       "      <td>財經</td>\n",
       "      <td>【清明節變盤2】 川普關稅風暴避風港！ 5名師點名3族群抱股過節Yahoo奇摩股市15 則留...</td>\n",
       "      <td>4月3日至6日為清明連假，適逢美國總統川普預定4月2日實施對等關稅，雖然他近日鬆口對於進口商...</td>\n",
       "      <td>暫無</td>\n",
       "      <td>暫無</td>\n",
       "      <td>[('關稅', 33), ('台股', 25), ('美國', 17), ('市場', 16...</td>\n",
       "      <td>['4月', '3日', '至', '6日', '為', '清明', '連假', '，', ...</td>\n",
       "      <td>['美國', '總統', '川普', '關稅', '商品', '關稅', '國家', '汽車...</td>\n",
       "      <td>[NerToken(word='4月3日至6日', ner='DATE', idx=(0, ...</td>\n",
       "      <td>[('4月', 'Nd'), ('3日', 'Nd'), ('至', 'Caa'), ('6...</td>\n",
       "      <td>https://tw.news.yahoo.com//%E4%B8%AD%E5%9C%8B%...</td>\n",
       "      <td>https://s.yimg.com/ny/api/res/1.2/1FcXAGsHow02...</td>\n",
       "    </tr>\n",
       "    <tr>\n",
       "      <th>134</th>\n",
       "      <td>finance_20250327_15</td>\n",
       "      <td>2025-03-27</td>\n",
       "      <td>財經</td>\n",
       "      <td>4/2台股解放日　\\n成交量縮、外資賣不下去  利空逐漸消弭先探投資週刊1 則留言38 分鐘前</td>\n",
       "      <td>-【黃俊超╱先探2345期】聯準會主席鮑威爾談話過後，市場稍微恢復信心，股市也獲得喘息空間，...</td>\n",
       "      <td>暫無</td>\n",
       "      <td>暫無</td>\n",
       "      <td>[('美國', 15), ('台灣', 12), ('關稅', 11), ('川普', 8)...</td>\n",
       "      <td>['-', '【', '黃俊超', '╱', '先', '探', '2345', '期', ...</td>\n",
       "      <td>['黃俊超', '聯準會', '主席', '鮑威爾', '市場', '信心', '股市', ...</td>\n",
       "      <td>[NerToken(word='聯準會', ner='ORG', idx=(14, 17))...</td>\n",
       "      <td>[('-', 'DASHCATEGORY'), ('【', 'PARENTHESISCATE...</td>\n",
       "      <td>https://tw.news.yahoo.com//%E9%90%B5%E6%8D%B2%...</td>\n",
       "      <td>https://s.yimg.com/ny/api/res/1.2/jyNXCsy.bNRt...</td>\n",
       "    </tr>\n",
       "    <tr>\n",
       "      <th>137</th>\n",
       "      <td>finance_20250326_18</td>\n",
       "      <td>2025-03-26</td>\n",
       "      <td>財經</td>\n",
       "      <td>台積電「殺尾盤」遭甩賣6842張/資服股爆量「霸榜」兩樣情/鴻家軍台揚連8根跌停｜Yahoo...</td>\n",
       "      <td>市場持續關注AI需求與貿易戰風險，美股四大指數漲跌互見。科技龍頭股普遍漲逾1％，尤其特斯拉近...</td>\n",
       "      <td>暫無</td>\n",
       "      <td>暫無</td>\n",
       "      <td>[('市場', 7), ('股價', 6), ('台股', 5), ('指數', 4), (...</td>\n",
       "      <td>['市場', '持續', '關注', 'AI', '需求', '與', '貿易戰', '風險...</td>\n",
       "      <td>['市場', '需求', '貿易戰', '風險', '美股', '指數', '漲跌', '科...</td>\n",
       "      <td>[NerToken(word='四', ner='CARDINAL', idx=(19, 2...</td>\n",
       "      <td>[('市場', 'Nc'), ('持續', 'VL'), ('關注', 'VJ'), ('A...</td>\n",
       "      <td>https://tw.news.yahoo.com//%E6%B3%A1%E9%BA%B5%...</td>\n",
       "      <td>https://s.yimg.com/ny/api/res/1.2/GlkAWG7SqTUM...</td>\n",
       "    </tr>\n",
       "    <tr>\n",
       "      <th>138</th>\n",
       "      <td>finance_20250327_19</td>\n",
       "      <td>2025-03-27</td>\n",
       "      <td>財經</td>\n",
       "      <td>重理輕文6／起薪落後　文科生如何翻轉？今日新聞NOWnews2 則留言30 分鐘前</td>\n",
       "      <td>[NOWnews今日新聞] AI的崛起已成為科技業的一大趨勢，不但帶動產業轉型，人才需求也出...</td>\n",
       "      <td>暫無</td>\n",
       "      <td>暫無</td>\n",
       "      <td>[('學生', 14), ('文組', 11), ('大學', 10), ('陳坤平', 9...</td>\n",
       "      <td>['[NOWnews', '今日', '新聞', '] AI', '的', '崛起', '已...</td>\n",
       "      <td>['新聞', '科技業', '趨勢', '產業', '人才', '需求', '位移', '台...</td>\n",
       "      <td>[NerToken(word='台灣', ner='GPE', idx=(51, 53)),...</td>\n",
       "      <td>[('[NOWnews', 'PARENTHESISCATEGORY'), ('今日', '...</td>\n",
       "      <td>https://tw.news.yahoo.com//%E6%B3%95%E9%99%A2%...</td>\n",
       "      <td>https://s.yimg.com/ny/api/res/1.2/20MTtE41QtX4...</td>\n",
       "    </tr>\n",
       "    <tr>\n",
       "      <th>143</th>\n",
       "      <td>sports_20250327_5</td>\n",
       "      <td>2025-03-27</td>\n",
       "      <td>運動</td>\n",
       "      <td>世俱盃》國際足總公佈世俱盃獎金　冠軍最高可獲40.7億獎金麗台運動報發起對話31 分鐘前</td>\n",
       "      <td>國際足總今正式公佈了即將在美國舉行的首屆32隊世界俱樂部盃的獎金細節，冠軍將有機會獲得高達1...</td>\n",
       "      <td>暫無</td>\n",
       "      <td>暫無</td>\n",
       "      <td>[('台幣', 10), ('獎金', 7), ('球隊', 7), ('比賽', 4), ...</td>\n",
       "      <td>['國際', '足總', '今', '正式', '公佈', '了', '即將', '在', ...</td>\n",
       "      <td>['國際', '足總', '美國', '世界', '俱樂部盃', '獎金', '細節', '...</td>\n",
       "      <td>[NerToken(word='國際足', ner='ORG', idx=(0, 3)), ...</td>\n",
       "      <td>[('國際', 'Nc'), ('足總', 'Nc'), ('今', 'Nd'), ('正式...</td>\n",
       "      <td>https://tw.news.yahoo.com//%E9%BB%91%E7%99%BD%...</td>\n",
       "      <td>https://s.yimg.com/ny/api/res/1.2/290LDpcXp5xw...</td>\n",
       "    </tr>\n",
       "    <tr>\n",
       "      <th>154</th>\n",
       "      <td>sports_20250327_16</td>\n",
       "      <td>2025-03-27</td>\n",
       "      <td>運動</td>\n",
       "      <td>PLG》獵鷹、勇士誰當例行賽老二？　本周末賽果至關重要TSNA發起對話29 分鐘前</td>\n",
       "      <td>PLG賽季進入尾聲，富邦勇士在25日擊敗台鋼獵鷹後，雙方排名互換，勇士攀升至第二，獵鷹掉到第...</td>\n",
       "      <td>暫無</td>\n",
       "      <td>暫無</td>\n",
       "      <td>[('勇士', 11), ('獵鷹', 10), ('台灣', 8), ('天氣', 7),...</td>\n",
       "      <td>['PLG', '賽季', '進入', '尾聲', '，', '富邦', '勇士', '在'...</td>\n",
       "      <td>['尾聲', '富邦', '勇士', '台鋼', '獵鷹', '勇士', '獵鷹', '獵鷹...</td>\n",
       "      <td>[NerToken(word='PLG', ner='PRODUCT', idx=(0, 3...</td>\n",
       "      <td>[('PLG', 'FW'), ('賽季', 'Nd'), ('進入', 'VCL'), (...</td>\n",
       "      <td>https://tw.news.yahoo.com//%E3%80%90%E6%B8%85%...</td>\n",
       "      <td>https://s.yimg.com/ny/api/res/1.2/Ul1YZVOko1Oi...</td>\n",
       "    </tr>\n",
       "    <tr>\n",
       "      <th>168</th>\n",
       "      <td>fun_20250327_12</td>\n",
       "      <td>2025-03-27</td>\n",
       "      <td>玩樂</td>\n",
       "      <td>「阿樹」不是鄰家哥哥 是一間精品風格設計的國際旅店旅遊經發起對話7 小時前</td>\n",
       "      <td>阿樹國際旅店跳脫傳統飯店框架，以「樹、森林、動植物」為設計主軸，結合新古典線條與自然色調，整...</td>\n",
       "      <td>暫無</td>\n",
       "      <td>暫無</td>\n",
       "      <td>[('國際', 24), ('旅店', 19), ('阿樹', 17), ('護照', 17...</td>\n",
       "      <td>['阿樹', '國際', '旅店', '跳脫', '傳統', '飯店', '框架', '，'...</td>\n",
       "      <td>['阿樹', '國際', '旅店', '飯店', '框架', '森林', '動植物', '設...</td>\n",
       "      <td>[NerToken(word='阿樹國際旅店', ner='ORG', idx=(61, 6...</td>\n",
       "      <td>[('阿樹', 'Nb'), ('國際', 'Nc'), ('旅店', 'Nc'), ('跳...</td>\n",
       "      <td>https://tw.news.yahoo.com//%E5%A1%AB%E8%A3%9C%...</td>\n",
       "      <td>https://s.yimg.com/ny/api/res/1.2/D1RvAnYHQjTM...</td>\n",
       "    </tr>\n",
       "    <tr>\n",
       "      <th>204</th>\n",
       "      <td>game-3c_20250327_8</td>\n",
       "      <td>2025-03-27</td>\n",
       "      <td>遊戲3C</td>\n",
       "      <td>《血源詛咒》迎發售10周年，新人殺手「蓋斯柯恩神父」通關率仍未達五成Yahoo奇摩遊戲編輯部...</td>\n",
       "      <td>由索尼出資，FromSoftware 開發的《血源詛咒》在 3 月 24 日迎來發售 10 ...</td>\n",
       "      <td>暫無</td>\n",
       "      <td>暫無</td>\n",
       "      <td>[('遊戲', 8), ('玩家', 7), ('美國', 6), ('汽車', 5), (...</td>\n",
       "      <td>['由', '索尼', '出資', '，', 'FromSoftware ', '開發', ...</td>\n",
       "      <td>['索尼', '血源', '詛咒', '遊戲', '消息', '粉絲', '社群', '話題...</td>\n",
       "      <td>[NerToken(word='索尼', ner='PERSON', idx=(1, 3))...</td>\n",
       "      <td>[('由', 'P'), ('索尼', 'Nb'), ('出資', 'VC'), ('，',...</td>\n",
       "      <td>https://tw.news.yahoo.com//%E6%99%82%E8%A3%9D%...</td>\n",
       "      <td>https://s.yimg.com/ny/api/res/1.2/t5ZRtQQGoFdN...</td>\n",
       "    </tr>\n",
       "  </tbody>\n",
       "</table>\n",
       "</div>"
      ],
      "text/plain": [
       "                 item_id        date category  \\\n",
       "0            _20250327_1  2025-03-27       焦點   \n",
       "1            _20250327_2  2025-03-27       焦點   \n",
       "8            _20250327_9  2025-03-27       焦點   \n",
       "9           _20250327_10  2025-03-27       焦點   \n",
       "22          _20250327_23  2025-03-27       焦點   \n",
       "26          _20250327_27  2025-03-27       焦點   \n",
       "33          _20250327_34  2025-03-27       焦點   \n",
       "35          _20250327_36  2025-03-27       焦點   \n",
       "36          _20250327_37  2025-03-27       焦點   \n",
       "40          _20250327_41  2025-03-27       焦點   \n",
       "42          _20250327_43  2025-03-27       焦點   \n",
       "73      world_20250327_1  2025-03-27       國際   \n",
       "75      world_20250327_3  2025-03-27       國際   \n",
       "76      world_20250327_4  2025-03-27       國際   \n",
       "81      world_20250327_9  2025-03-27       國際   \n",
       "82     world_20250327_10  2025-03-27       國際   \n",
       "84     world_20250327_12  2025-03-27       國際   \n",
       "85     world_20250327_13  2025-03-27       國際   \n",
       "90   politics_20250327_5  2025-03-27       政治   \n",
       "112   society_20250327_7  2025-03-27     社會地方   \n",
       "125   finance_20250327_6  2025-03-27       財經   \n",
       "126   finance_20250324_7  2025-03-24       財經   \n",
       "130  finance_20250327_11  2025-03-27       財經   \n",
       "131  finance_20250327_12  2025-03-27       財經   \n",
       "132  finance_20250327_13  2025-03-27       財經   \n",
       "134  finance_20250327_15  2025-03-27       財經   \n",
       "137  finance_20250326_18  2025-03-26       財經   \n",
       "138  finance_20250327_19  2025-03-27       財經   \n",
       "143    sports_20250327_5  2025-03-27       運動   \n",
       "154   sports_20250327_16  2025-03-27       運動   \n",
       "168      fun_20250327_12  2025-03-27       玩樂   \n",
       "204   game-3c_20250327_8  2025-03-27     遊戲3C   \n",
       "\n",
       "                                                 title  \\\n",
       "0                                   台股重挫308點 失守22000關卡   \n",
       "1                                       賴士葆撞人畫面外流 警被起訴   \n",
       "8                                     川普：對非美製汽車徵收25%關稅   \n",
       "9                                  管制武統言論？法務部：有學者建議訂專法   \n",
       "22                 北京正在主導國際經貿體系！前貿易代表坦承：美國已生活在中國建構的世界裡   \n",
       "26                       男子不停打嗝「持續2年多」！累到住院　血液檢查意外揪出病因   \n",
       "33                                            No title   \n",
       "35                    信評機構警告美國財政惡化　利息支出占收入的比率將從9％升至30％   \n",
       "36                               保健食品關稅30%　財長：部分分年逐步調降   \n",
       "40                   美國經濟衰退危機將至？巴菲特示警散戶快做5件事：當別人貪婪時要恐懼   \n",
       "42                  2女闖辦公室逼貼「禁菸貼紙」！KIMIKO老師嚇壞鎖門　衛生局回應了   \n",
       "73   白宮Signal門：《大西洋月刊》披露群聊全文，美國安團隊洩密事件六大疑點BBC NEWS ...   \n",
       "75   餐廳重設戶外餐區 華埠小商家因2原因對生意仍信心不足世界日報World Journal發起對...   \n",
       "76   北京正在主導國際經貿體系！前貿易代表坦承：美國已生活在中國建構的世界裡CTWANT3 則留言...   \n",
       "81   4姊姊共同照顧「植物人弟」14年！竟被姪女告上法院　要求獨自繼承遺產CTWANT發起對話1 小時前   \n",
       "82   美國安群洩密／美國防長群發訊息若非機密那是什麼？CIA局長支吾其詞三立新聞網 setn.co...   \n",
       "84   美國安群洩密／白宮都忍不住用它溝通機密　Signal何方神聖？三立新聞網 setn.com發...   \n",
       "85      俄羅斯「假停火」真轟炸！烏城市遭戰爭以來最猛烈攻擊 烏、俄互控違約新頭殼1 則留言2 小時前   \n",
       "90           躲不過川普「汽車關稅」！新車價格喊漲　驚人數字曝光壹蘋新聞網2 則留言30 分鐘前   \n",
       "112    眾院要砍法院預算報復! 川普新政又遭司法挑戰 上訴法院擋下移民驅逐令新頭殼發起對話20 分鐘前   \n",
       "125    收盤／危險啊！權值股倒成一片　大盤跌破2萬2！三立新聞網 setn.com發起對話59 分鐘前   \n",
       "126  股市一直跌誰最慘？「1類人」恐成海嘯第一排　專家曝3方法降低風險三立新聞網 setn.com...   \n",
       "130    美國經濟衰退危機將至？巴菲特示警散戶快做5件事：當別人貪婪時要恐懼風傳媒2 則留言12 分鐘前   \n",
       "131         美對等關稅在即！謝金河：恐帶來很大後座力今日新聞NOWnews17 則留言7 小時前   \n",
       "132  【清明節變盤2】 川普關稅風暴避風港！ 5名師點名3族群抱股過節Yahoo奇摩股市15 則留...   \n",
       "134    4/2台股解放日　\\n成交量縮、外資賣不下去  利空逐漸消弭先探投資週刊1 則留言38 分鐘前   \n",
       "137  台積電「殺尾盤」遭甩賣6842張/資服股爆量「霸榜」兩樣情/鴻家軍台揚連8根跌停｜Yahoo...   \n",
       "138          重理輕文6／起薪落後　文科生如何翻轉？今日新聞NOWnews2 則留言30 分鐘前   \n",
       "143       世俱盃》國際足總公佈世俱盃獎金　冠軍最高可獲40.7億獎金麗台運動報發起對話31 分鐘前   \n",
       "154          PLG》獵鷹、勇士誰當例行賽老二？　本周末賽果至關重要TSNA發起對話29 分鐘前   \n",
       "168              「阿樹」不是鄰家哥哥 是一間精品風格設計的國際旅店旅遊經發起對話7 小時前   \n",
       "204  《血源詛咒》迎發售10周年，新人殺手「蓋斯柯恩神父」通關率仍未達五成Yahoo奇摩遊戲編輯部...   \n",
       "\n",
       "                                               content sentiment summary  \\\n",
       "0    美國總統川普準備徵收汽車關稅，美股主要指數全數下跌，台積電重挫4.09%，台積電台北現股今日...        暫無      暫無   \n",
       "1    去年7月間，國民黨立委賴士葆駕車行駛在台北市大安區時，不慎撞傷走在斑馬線上2位女性行人，沒想...        暫無      暫無   \n",
       "8    美國總統川普26日宣布，將對所有在外國製造、進口到美國的車輛徵收25%關稅，於4月2日生效。...        暫無      暫無   \n",
       "9    大陸配偶「亞亞」劉振亞被內政部移民署認定在台發表「武統」言論，遭廢止其居留許可，驅逐出境。移...        暫無      暫無   \n",
       "22   [周刊王CTWANT] 川普今年1月20日上台後隨即對鋼鐵和鋁材徵收高額關稅，並限制對中國的...        暫無      暫無   \n",
       "26   [周刊王CTWANT] 黎巴嫩一名93歲男子，從2年前開始就出現不斷打嗝的情況，不管嘗試什麼...        暫無      暫無   \n",
       "33   美國政府的財政狀況持續惡化，預算赤字擴大、國債規模不斷攀升。國際信評機構穆迪在25日發布的報...        暫無      暫無   \n",
       "35   美國政府的財政狀況持續惡化，預算赤字擴大、國債規模不斷攀升。國際信評機構穆迪在25日發布的報...        暫無      暫無   \n",
       "36   [NOWnews今日新聞] 立法院財政委員會今日邀請財政部、經濟部就「因應美國川普政府對等關...        暫無      暫無   \n",
       "40   美國總統川普上任後接連祭出關稅政策，讓全球經濟陷入重大隱憂，甚至有不少華爾街專家認為，美國經...        暫無      暫無   \n",
       "42   舞蹈老師KIMIKO發文指控，位於台北市的辦公室遭兩名女子闖入，還試圖要在門上貼貼紙，一連串...        暫無      暫無   \n",
       "73   過去48小時裡，白宮高級官員一直面臨國會議員和媒體的質詢，他們質疑一名記者為何能加入有關即將...        暫無      暫無   \n",
       "75   紐約市運輸局(NYC DOT)提醒全市2600家獲批參加「戶外用餐計畫(Dining Out...        暫無      暫無   \n",
       "76   [周刊王CTWANT] 川普今年1月20日上台後隨即對鋼鐵和鋁材徵收高額關稅，並限制對中國的...        暫無      暫無   \n",
       "81   [周刊王CTWANT] 中國一名男子突然發病，變成植物人後，都是他的4名姊姊共同照顧他，就這...        暫無      暫無   \n",
       "82   編譯連國程／綜合報導白宮洩密風波越演越烈，美國雜誌《大西洋月刊》總編輯高德柏格被拉進通訊軟體...        暫無      暫無   \n",
       "84   編譯連國程／綜合報導白宮洩密風波越演越烈，美國雜誌《大西洋月刊》總編輯高德柏格被拉進通訊軟體...        暫無      暫無   \n",
       "85   [Newtalk新聞]俄羅斯在高調宣布「能源設施停火」後，卻隨即發動攻擊。3 月 25 日晚...        暫無      暫無   \n",
       "90   【國際中心／綜合報導】美國總統川普今天宣布對所有海外進口車輛一律課徵25%關稅，4月2日正式...        暫無      暫無   \n",
       "112  [Newtalk新聞] 美國聯邦上訴法院於 26 日以 2 比 1 的表決結果，拒絕解除地區...        暫無      暫無   \n",
       "125  財經中心／余國棟報導▲台股今天受美關稅徵收消息面影響，大盤重挫308點。台股今日表現慘烈，加...        暫無      暫無   \n",
       "126  財經中心／彭淇昀報導市場對川普政府政策可能導致經濟衰退的擔憂加劇，標普500指數在2月19日...        暫無      暫無   \n",
       "130  美國總統川普上任後接連祭出關稅政策，讓全球經濟陷入重大隱憂，甚至有不少華爾街專家認為，美國經...        暫無      暫無   \n",
       "131  [NOWnews今日新聞] 美國再度揮舞關稅大刀，美國總統川普將於4月2日實施對等關稅，市場...        暫無      暫無   \n",
       "132  4月3日至6日為清明連假，適逢美國總統川普預定4月2日實施對等關稅，雖然他近日鬆口對於進口商...        暫無      暫無   \n",
       "134  -【黃俊超╱先探2345期】聯準會主席鮑威爾談話過後，市場稍微恢復信心，股市也獲得喘息空間，...        暫無      暫無   \n",
       "137  市場持續關注AI需求與貿易戰風險，美股四大指數漲跌互見。科技龍頭股普遍漲逾1％，尤其特斯拉近...        暫無      暫無   \n",
       "138  [NOWnews今日新聞] AI的崛起已成為科技業的一大趨勢，不但帶動產業轉型，人才需求也出...        暫無      暫無   \n",
       "143  國際足總今正式公佈了即將在美國舉行的首屆32隊世界俱樂部盃的獎金細節，冠軍將有機會獲得高達1...        暫無      暫無   \n",
       "154  PLG賽季進入尾聲，富邦勇士在25日擊敗台鋼獵鷹後，雙方排名互換，勇士攀升至第二，獵鷹掉到第...        暫無      暫無   \n",
       "168  阿樹國際旅店跳脫傳統飯店框架，以「樹、森林、動植物」為設計主軸，結合新古典線條與自然色調，整...        暫無      暫無   \n",
       "204  由索尼出資，FromSoftware 開發的《血源詛咒》在 3 月 24 日迎來發售 10 ...        暫無      暫無   \n",
       "\n",
       "                                          top_key_freq  \\\n",
       "0    [('台積電', 4), ('指數', 3), ('月線', 3), ('美國', 2), ...   \n",
       "1    [('台灣', 10), ('賴士葆', 9), ('警員', 9), ('照片', 7),...   \n",
       "8    [('美國', 18), ('汽車', 15), ('關稅', 13), ('川普', 9)...   \n",
       "9    [('言論', 14), ('法務部', 10), ('刑法', 8), ('仇恨', 7)...   \n",
       "22   [('中國', 47), ('美國', 40), ('經濟', 20), ('國家', 19...   \n",
       "26   [('男子', 12), ('網友', 10), ('情況', 8), ('女兒', 5),...   \n",
       "33   [('美國', 14), ('財政', 12), ('穆迪', 8), ('政府', 7),...   \n",
       "35   [('美國', 14), ('財政', 12), ('穆迪', 8), ('政府', 7),...   \n",
       "36   [('關稅', 12), ('經濟部', 6), ('保健', 6), ('食品', 6),...   \n",
       "40   [('經濟', 13), ('巴菲特', 6), ('美國', 4), ('投資人', 4)...   \n",
       "42   [('志工', 9), ('網友', 7), ('老師', 6), ('辦公室', 6), ...   \n",
       "73   [('特朗普', 15), ('美國', 15), ('總統', 14), ('政府', 1...   \n",
       "75   [('華埠', 9), ('戶外', 8), ('生意', 6), ('商家', 5), (...   \n",
       "76   [('中國', 37), ('美國', 27), ('經濟', 13), ('政策', 11...   \n",
       "81   [('劉男', 12), ('周刊王', 6), ('中國', 6), ('男子', 6),...   \n",
       "82   [('川普', 5), ('赫格塞斯', 4), ('情報', 4), ('美國', 3),...   \n",
       "84   [('訊息', 10), ('美國', 6), ('軟體', 6), ('機密', 4), ...   \n",
       "85   [('設施', 8), ('俄羅斯', 7), ('能源', 7), ('烏克蘭', 6),...   \n",
       "90   [('汽車', 12), ('美國', 7), ('關稅', 6), ('日本', 4), ...   \n",
       "112  [('法院', 10), ('美國', 8), ('法官', 7), ('博斯伯格', 5)...   \n",
       "125  [('指數', 8), ('台股', 5), ('跌幅', 5), ('關稅', 4), (...   \n",
       "126  [('市場', 4), ('股市', 4), ('嬰兒潮', 4), ('世代', 4), ...   \n",
       "130  [('經濟', 13), ('巴菲特', 6), ('美國', 4), ('投資人', 4)...   \n",
       "131  [('美國', 13), ('謝金河', 10), ('川普', 9), ('國家', 7)...   \n",
       "132  [('關稅', 33), ('台股', 25), ('美國', 17), ('市場', 16...   \n",
       "134  [('美國', 15), ('台灣', 12), ('關稅', 11), ('川普', 8)...   \n",
       "137  [('市場', 7), ('股價', 6), ('台股', 5), ('指數', 4), (...   \n",
       "138  [('學生', 14), ('文組', 11), ('大學', 10), ('陳坤平', 9...   \n",
       "143  [('台幣', 10), ('獎金', 7), ('球隊', 7), ('比賽', 4), ...   \n",
       "154  [('勇士', 11), ('獵鷹', 10), ('台灣', 8), ('天氣', 7),...   \n",
       "168  [('國際', 24), ('旅店', 19), ('阿樹', 17), ('護照', 17...   \n",
       "204  [('遊戲', 8), ('玩家', 7), ('美國', 6), ('汽車', 5), (...   \n",
       "\n",
       "                                                tokens  \\\n",
       "0    ['美國', '總統', '川普', '準備', '徵收', '汽車', '關稅', '，'...   \n",
       "1    ['去年', '7月', '間', '，', '國民黨', '立委', '賴士葆', '駕車...   \n",
       "8    ['美國', '總統', '川普', '26日', '宣布', '，', '將', '對',...   \n",
       "9    ['大陸', '配偶', '「', '亞亞', '」', '劉振亞', '被', '內政部'...   \n",
       "22   ['[周刊王', 'CTWANT', ']', ' ', '川普', '今年', '1月',...   \n",
       "26   ['[', '周刊王', 'CTWANT', ']', ' ', '黎巴嫩', '一名', ...   \n",
       "33   ['美國', '政府', '的', '財政', '狀況', '持續', '惡化', '，',...   \n",
       "35   ['美國', '政府', '的', '財政', '狀況', '持續', '惡化', '，',...   \n",
       "36   ['[NO', 'Wnews', '今日', '新聞', ']', ' ', '立法院', ...   \n",
       "40   ['美國', '總統', '川普', '上任', '後', '接連', '祭出', '關稅'...   \n",
       "42   ['舞蹈', '老師', 'KIMIKO', '發文', '指控', '，', '位於', ...   \n",
       "73   ['過去', '48', '小時', '裡', '，', '白宮', '高級', '官員',...   \n",
       "75   ['紐約市', '運輸局', '(', 'NYC DOT)', '提醒', '全', '市'...   \n",
       "76   ['[周刊王', 'CTWANT', ']', ' ', '川普', '今年', '1月',...   \n",
       "81   ['[', '周刊王', 'CTWANT', ']', ' ', '中國', '一名', '...   \n",
       "82   ['編譯', '連國程', '／', '綜合', '報導', '白宮', '洩密', '風波...   \n",
       "84   ['編譯', '連國程', '／', '綜合', '報導', '白宮', '洩密', '風波...   \n",
       "85   ['[', 'Newtalk新聞', ']', '俄羅斯', '在', '高調', '宣布'...   \n",
       "90   ['【', '國際', '中心', '／', '綜合', '報導', '】', '美國', ...   \n",
       "112  ['[', 'Newtalk', '新聞', '] ', '美國', '聯邦', '上訴',...   \n",
       "125  ['財經', '中心', '／', '余國棟', '報導', '▲', '台股', '今天'...   \n",
       "126  ['財經', '中心', '／', '彭淇昀', '報導', '市場', '對', '川普'...   \n",
       "130  ['美國', '總統', '川普', '上任', '後', '接連', '祭出', '關稅'...   \n",
       "131  ['[NO', 'Wnews', '今日', '新聞', '] ', '美國', '再度',...   \n",
       "132  ['4月', '3日', '至', '6日', '為', '清明', '連假', '，', ...   \n",
       "134  ['-', '【', '黃俊超', '╱', '先', '探', '2345', '期', ...   \n",
       "137  ['市場', '持續', '關注', 'AI', '需求', '與', '貿易戰', '風險...   \n",
       "138  ['[NOWnews', '今日', '新聞', '] AI', '的', '崛起', '已...   \n",
       "143  ['國際', '足總', '今', '正式', '公佈', '了', '即將', '在', ...   \n",
       "154  ['PLG', '賽季', '進入', '尾聲', '，', '富邦', '勇士', '在'...   \n",
       "168  ['阿樹', '國際', '旅店', '跳脫', '傳統', '飯店', '框架', '，'...   \n",
       "204  ['由', '索尼', '出資', '，', 'FromSoftware ', '開發', ...   \n",
       "\n",
       "                                             tokens_v2  \\\n",
       "0    ['美國', '總統', '川普', '汽車', '關稅', '美股', '指數', '台積...   \n",
       "1    ['國民黨', '立委', '賴士葆', '台北市', '大安區', '斑馬線', '女性'...   \n",
       "8    ['美國', '總統', '川普', '外國', '美國', '車輛', '關稅', '川普...   \n",
       "9    ['大陸', '配偶', '亞亞', '劉振亞', '內政部', '移民署', '武統', ...   \n",
       "22   ['川普', '鋼鐵', '鋁材', '高額', '關稅', '中國', '投資', '歐巴...   \n",
       "26   ['周刊王', '黎巴嫩', '男子', '情況', '情況', '醫院', '血液', '...   \n",
       "33   ['美國', '政府', '財政', '狀況', '預算', '赤字', '國債', '規模...   \n",
       "35   ['美國', '政府', '財政', '狀況', '預算', '赤字', '國債', '規模...   \n",
       "36   ['新聞', '立法院', '財政', '委員會', '財政部', '經濟部', '美國',...   \n",
       "40   ['美國', '總統', '川普', '關稅', '政策', '全球', '經濟', '隱憂...   \n",
       "42   ['舞蹈', '老師', '指控', '台北市', '辦公室', '女子', '貼紙', '...   \n",
       "73   ['小時', '白宮', '官員', '國會', '議員', '媒體', '記者', '軍事...   \n",
       "75   ['紐約市', '運輸局', '戶外', '用餐', '計畫', '餐廳', '戶外', '...   \n",
       "76   ['川普', '鋼鐵', '鋁材', '高額', '關稅', '中國', '投資', '歐巴...   \n",
       "81   ['周刊王', '中國', '男子', '植物人', '姊姊', '弟弟', '姪女', '...   \n",
       "82   ['白宮', '風波', '美國', '雜誌', '西洋', '月刊', '總編輯', '高...   \n",
       "84   ['白宮', '風波', '美國', '雜誌', '西洋', '月刊', '總編輯', '高...   \n",
       "85   ['俄羅斯', '高調', '能源', '設施', '烏克蘭', '城市', '克里沃羅格'...   \n",
       "90   ['國際', '中心', '美國', '總統', '川普', '海外', '車輛', '關稅...   \n",
       "112  ['新聞', '美國', '聯邦', '法院', '結果', '地區', '法官', '詹姆...   \n",
       "125  ['財經', '中心', '余國棟', '台股', '關稅', '消息面', '大盤', '...   \n",
       "126  ['財經', '中心', '彭淇昀', '市場', '川普', '政府', '政策', '經...   \n",
       "130  ['美國', '總統', '川普', '關稅', '政策', '全球', '經濟', '隱憂...   \n",
       "131  ['新聞', '美國', '關稅', '大刀', '美國', '總統', '川普', '關稅...   \n",
       "132  ['美國', '總統', '川普', '關稅', '商品', '關稅', '國家', '汽車...   \n",
       "134  ['黃俊超', '聯準會', '主席', '鮑威爾', '市場', '信心', '股市', ...   \n",
       "137  ['市場', '需求', '貿易戰', '風險', '美股', '指數', '漲跌', '科...   \n",
       "138  ['新聞', '科技業', '趨勢', '產業', '人才', '需求', '位移', '台...   \n",
       "143  ['國際', '足總', '美國', '世界', '俱樂部盃', '獎金', '細節', '...   \n",
       "154  ['尾聲', '富邦', '勇士', '台鋼', '獵鷹', '勇士', '獵鷹', '獵鷹...   \n",
       "168  ['阿樹', '國際', '旅店', '飯店', '框架', '森林', '動植物', '設...   \n",
       "204  ['索尼', '血源', '詛咒', '遊戲', '消息', '粉絲', '社群', '話題...   \n",
       "\n",
       "                                              entities  \\\n",
       "0    [NerToken(word='美國', ner='GPE', idx=(0, 2)), N...   \n",
       "1    [NerToken(word='去年7月', ner='DATE', idx=(0, 4))...   \n",
       "8    [NerToken(word='美國', ner='GPE', idx=(0, 2)), N...   \n",
       "9    [NerToken(word='大陸', ner='GPE', idx=(0, 2)), N...   \n",
       "22   [NerToken(word='川普', ner='PERSON', idx=(12, 14...   \n",
       "26   [NerToken(word='黎巴嫩', ner='GPE', idx=(12, 15))...   \n",
       "33   [NerToken(word='美國', ner='GPE', idx=(0, 2)), N...   \n",
       "35   [NerToken(word='美國', ner='GPE', idx=(0, 2)), N...   \n",
       "36   [NerToken(word='立法院財政委員會', ner='ORG', idx=(14,...   \n",
       "40   [NerToken(word='美國', ner='GPE', idx=(0, 2)), N...   \n",
       "42   [NerToken(word='台北市', ner='GPE', idx=(17, 20))...   \n",
       "73   [NerToken(word='白宮', ner='ORG', idx=(8, 10)), ...   \n",
       "75   [NerToken(word='2600', ner='CARDINAL', idx=(19...   \n",
       "76   [NerToken(word='川普', ner='PERSON', idx=(12, 14...   \n",
       "81   [NerToken(word='中國', ner='GPE', idx=(12, 14)),...   \n",
       "82   [NerToken(word='白宮', ner='ORG', idx=(10, 12)),...   \n",
       "84   [NerToken(word='連國程', ner='PERSON', idx=(2, 5)...   \n",
       "85   [NerToken(word='俄羅斯', ner='GPE', idx=(11, 14))...   \n",
       "90   [NerToken(word='美國', ner='GPE', idx=(11, 13)),...   \n",
       "112  [NerToken(word='美國聯邦上訴法院', ner='ORG', idx=(12,...   \n",
       "125  [NerToken(word='余國棟', ner='PERSON', idx=(5, 8)...   \n",
       "126  [NerToken(word='彭淇昀', ner='PERSON', idx=(5, 8)...   \n",
       "130  [NerToken(word='美國', ner='GPE', idx=(0, 2)), N...   \n",
       "131  [NerToken(word='美國', ner='GPE', idx=(14, 16)),...   \n",
       "132  [NerToken(word='4月3日至6日', ner='DATE', idx=(0, ...   \n",
       "134  [NerToken(word='聯準會', ner='ORG', idx=(14, 17))...   \n",
       "137  [NerToken(word='四', ner='CARDINAL', idx=(19, 2...   \n",
       "138  [NerToken(word='台灣', ner='GPE', idx=(51, 53)),...   \n",
       "143  [NerToken(word='國際足', ner='ORG', idx=(0, 3)), ...   \n",
       "154  [NerToken(word='PLG', ner='PRODUCT', idx=(0, 3...   \n",
       "168  [NerToken(word='阿樹國際旅店', ner='ORG', idx=(61, 6...   \n",
       "204  [NerToken(word='索尼', ner='PERSON', idx=(1, 3))...   \n",
       "\n",
       "                                             token_pos  \\\n",
       "0    [('美國', 'Nc'), ('總統', 'Na'), ('川普', 'Nb'), ('準...   \n",
       "1    [('去年', 'Nd'), ('7月', 'Nd'), ('間', 'Ng'), ('，'...   \n",
       "8    [('美國', 'Nc'), ('總統', 'Na'), ('川普', 'Nb'), ('2...   \n",
       "9    [('大陸', 'Nc'), ('配偶', 'Na'), ('「', 'PARENTHESI...   \n",
       "22   [('[周刊王', 'PARENTHESISCATEGORY'), ('CTWANT', '...   \n",
       "26   [('[', 'PARENTHESISCATEGORY'), ('周刊王', 'Nb'), ...   \n",
       "33   [('美國', 'Nc'), ('政府', 'Na'), ('的', 'DE'), ('財政...   \n",
       "35   [('美國', 'Nc'), ('政府', 'Na'), ('的', 'DE'), ('財政...   \n",
       "36   [('[NO', 'PARENTHESISCATEGORY'), ('Wnews', 'FW...   \n",
       "40   [('美國', 'Nc'), ('總統', 'Na'), ('川普', 'Nb'), ('上...   \n",
       "42   [('舞蹈', 'Na'), ('老師', 'Na'), ('KIMIKO', 'FW'),...   \n",
       "73   [('過去', 'Nd'), ('48', 'Neu'), ('小時', 'Na'), ('...   \n",
       "75   [('紐約市', 'Nc'), ('運輸局', 'Nc'), ('(', 'PARENTHE...   \n",
       "76   [('[周刊王', 'PARENTHESISCATEGORY'), ('CTWANT', '...   \n",
       "81   [('[', 'PARENTHESISCATEGORY'), ('周刊王', 'Nb'), ...   \n",
       "82   [('編譯', 'VC'), ('連國程', 'Cbb'), ('／', 'FW'), ('...   \n",
       "84   [('編譯', 'VC'), ('連國程', 'Cbb'), ('／', 'FW'), ('...   \n",
       "85   [('[', 'PARENTHESISCATEGORY'), ('Newtalk新聞', '...   \n",
       "90   [('【', 'PARENTHESISCATEGORY'), ('國際', 'Nc'), (...   \n",
       "112  [('[', 'PARENTHESISCATEGORY'), ('Newtalk', 'FW...   \n",
       "125  [('財經', 'Na'), ('中心', 'Nc'), ('／', 'FW'), ('余國...   \n",
       "126  [('財經', 'Na'), ('中心', 'Nc'), ('／', 'FW'), ('彭淇...   \n",
       "130  [('美國', 'Nc'), ('總統', 'Na'), ('川普', 'Nb'), ('上...   \n",
       "131  [('[NO', 'PARENTHESISCATEGORY'), ('Wnews', 'FW...   \n",
       "132  [('4月', 'Nd'), ('3日', 'Nd'), ('至', 'Caa'), ('6...   \n",
       "134  [('-', 'DASHCATEGORY'), ('【', 'PARENTHESISCATE...   \n",
       "137  [('市場', 'Nc'), ('持續', 'VL'), ('關注', 'VJ'), ('A...   \n",
       "138  [('[NOWnews', 'PARENTHESISCATEGORY'), ('今日', '...   \n",
       "143  [('國際', 'Nc'), ('足總', 'Nc'), ('今', 'Nd'), ('正式...   \n",
       "154  [('PLG', 'FW'), ('賽季', 'Nd'), ('進入', 'VCL'), (...   \n",
       "168  [('阿樹', 'Nb'), ('國際', 'Nc'), ('旅店', 'Nc'), ('跳...   \n",
       "204  [('由', 'P'), ('索尼', 'Nb'), ('出資', 'VC'), ('，',...   \n",
       "\n",
       "                                                  link  \\\n",
       "0    https://tw.news.yahoo.com/https://tw.stock.yah...   \n",
       "1    https://tw.news.yahoo.com/%E8%B3%B4%E5%A3%AB%E...   \n",
       "8    https://tw.news.yahoo.com/%E5%B7%9D%E6%99%AE%E...   \n",
       "9    https://tw.news.yahoo.com/%E6%B3%95%E5%8B%99%E...   \n",
       "22   https://tw.news.yahoo.com/%E9%99%B3%E5%AD%9D%E...   \n",
       "26   https://tw.news.yahoo.com/%E6%90%AD%E9%A3%9B%E...   \n",
       "33   https://tw.news.yahoo.com/https://tw.stock.yah...   \n",
       "35   https://tw.news.yahoo.com//%E9%BB%83%E5%AD%90%...   \n",
       "36   https://tw.news.yahoo.com//%E4%BF%A1%E8%A9%95%...   \n",
       "40   https://tw.news.yahoo.com/%E5%8F%B0%E5%8D%97%E...   \n",
       "42   https://tw.news.yahoo.com/%E8%BB%8A%E9%81%95%E...   \n",
       "73   https://tw.news.yahoo.com//%E5%BC%B5%E6%B8%85%...   \n",
       "75   https://tw.news.yahoo.com//%E8%B6%99%E9%A7%BF%...   \n",
       "76   https://tw.news.yahoo.com//%E5%B0%8F%E9%AC%BC%...   \n",
       "81   https://tw.news.yahoo.com//%E5%A9%86%E5%AE%B6%...   \n",
       "82   https://tw.news.yahoo.com//%E6%B3%95%E9%99%A2%...   \n",
       "84   https://tw.news.yahoo.com//%E8%8F%AF%E4%BA%BA%...   \n",
       "85   https://tw.news.yahoo.com//%E9%A4%90%E5%BB%B3%...   \n",
       "90   https://tw.news.yahoo.com//%E7%9A%87%E5%90%8E%...   \n",
       "112  https://tw.news.yahoo.com//%E8%AD%A6%E6%94%BF%...   \n",
       "125  https://tw.news.yahoo.com//%E5%BF%AB%E8%A8%8A-...   \n",
       "126  https://tw.news.yahoo.com//%E6%94%94%E6%9F%A5%...   \n",
       "130  https://tw.news.yahoo.com//%E7%BF%81%E8%8C%82%...   \n",
       "131  https://tw.news.yahoo.com//%E6%A1%83%E6%A9%9F%...   \n",
       "132  https://tw.news.yahoo.com//%E4%B8%AD%E5%9C%8B%...   \n",
       "134  https://tw.news.yahoo.com//%E9%90%B5%E6%8D%B2%...   \n",
       "137  https://tw.news.yahoo.com//%E6%B3%A1%E9%BA%B5%...   \n",
       "138  https://tw.news.yahoo.com//%E6%B3%95%E9%99%A2%...   \n",
       "143  https://tw.news.yahoo.com//%E9%BB%91%E7%99%BD%...   \n",
       "154  https://tw.news.yahoo.com//%E3%80%90%E6%B8%85%...   \n",
       "168  https://tw.news.yahoo.com//%E5%A1%AB%E8%A3%9C%...   \n",
       "204  https://tw.news.yahoo.com//%E6%99%82%E8%A3%9D%...   \n",
       "\n",
       "                                            photo_link  \n",
       "0    https://s.yimg.com/ny/api/res/1.2/3qEveVGKp070...  \n",
       "1    https://s.yimg.com/ny/api/res/1.2/PPzJSVLdFBTm...  \n",
       "8    https://s.yimg.com/ny/api/res/1.2/a3q8Ypi2GpcT...  \n",
       "9    https://s.yimg.com/ny/api/res/1.2/N.rOQJyRrtcu...  \n",
       "22   https://s.yimg.com/ny/api/res/1.2/yCZUHuGPWx4S...  \n",
       "26   https://s.yimg.com/ny/api/res/1.2/MIlRskTBfzno...  \n",
       "33   https://s.yimg.com/ny/api/res/1.2/Snpin_i4HNIQ...  \n",
       "35   https://s.yimg.com/ny/api/res/1.2/Snpin_i4HNIQ...  \n",
       "36   https://s.yimg.com/ny/api/res/1.2/xYsfze59VEId...  \n",
       "40   https://s.yimg.com/ny/api/res/1.2/eaVvc8.Hhr6W...  \n",
       "42   https://s.yimg.com/ny/api/res/1.2/aX3Kiwaukggz...  \n",
       "73   https://s.yimg.com/ny/api/res/1.2/QOQe7cGsR9gp...  \n",
       "75   https://s.yimg.com/ny/api/res/1.2/ALnQmdsi4rd6...  \n",
       "76   https://s.yimg.com/ny/api/res/1.2/rgX3blP9eelr...  \n",
       "81   https://s.yimg.com/ny/api/res/1.2/CEUKc6QYrjY6...  \n",
       "82   https://s.yimg.com/ny/api/res/1.2/YDwYePzjzY8J...  \n",
       "84   https://s.yimg.com/ny/api/res/1.2/QrwcS3.X0E.3...  \n",
       "85   https://s.yimg.com/ny/api/res/1.2/kSB92rGx2X71...  \n",
       "90   https://s.yimg.com/ny/api/res/1.2/HJyhfoBkXApj...  \n",
       "112  https://s.yimg.com/ny/api/res/1.2/a1YXhvQ1h5DN...  \n",
       "125  https://s.yimg.com/ny/api/res/1.2/tQDCQbHX_Vas...  \n",
       "126  https://s.yimg.com/ny/api/res/1.2/nMW1g5vNXghG...  \n",
       "130  https://s.yimg.com/ny/api/res/1.2/eaVvc8.Hhr6W...  \n",
       "131  https://s.yimg.com/ny/api/res/1.2/E.AoLTIVxtK3...  \n",
       "132  https://s.yimg.com/ny/api/res/1.2/1FcXAGsHow02...  \n",
       "134  https://s.yimg.com/ny/api/res/1.2/jyNXCsy.bNRt...  \n",
       "137  https://s.yimg.com/ny/api/res/1.2/GlkAWG7SqTUM...  \n",
       "138  https://s.yimg.com/ny/api/res/1.2/20MTtE41QtX4...  \n",
       "143  https://s.yimg.com/ny/api/res/1.2/290LDpcXp5xw...  \n",
       "154  https://s.yimg.com/ny/api/res/1.2/Ul1YZVOko1Oi...  \n",
       "168  https://s.yimg.com/ny/api/res/1.2/D1RvAnYHQjTM...  \n",
       "204  https://s.yimg.com/ny/api/res/1.2/t5ZRtQQGoFdN...  "
      ]
     },
     "execution_count": 566,
     "metadata": {},
     "output_type": "execute_result"
    }
   ],
   "source": [
    "df_query"
   ]
  },
  {
   "cell_type": "code",
   "execution_count": 567,
   "metadata": {},
   "outputs": [
    {
     "data": {
      "text/plain": [
       "item_id                                               _20250327_1\n",
       "date                                                   2025-03-27\n",
       "category                                                       焦點\n",
       "title                                          台股重挫308點 失守22000關卡\n",
       "content         美國總統川普準備徵收汽車關稅，美股主要指數全數下跌，台積電重挫4.09%，台積電台北現股今日...\n",
       "sentiment                                                      暫無\n",
       "summary                                                        暫無\n",
       "top_key_freq    [('台積電', 4), ('指數', 3), ('月線', 3), ('美國', 2), ...\n",
       "tokens          ['美國', '總統', '川普', '準備', '徵收', '汽車', '關稅', '，'...\n",
       "tokens_v2       ['美國', '總統', '川普', '汽車', '關稅', '美股', '指數', '台積...\n",
       "entities        [NerToken(word='美國', ner='GPE', idx=(0, 2)), N...\n",
       "token_pos       [('美國', 'Nc'), ('總統', 'Na'), ('川普', 'Nb'), ('準...\n",
       "link            https://tw.news.yahoo.com/https://tw.stock.yah...\n",
       "photo_link      https://s.yimg.com/ny/api/res/1.2/3qEveVGKp070...\n",
       "Name: 0, dtype: object"
      ]
     },
     "execution_count": 567,
     "metadata": {},
     "output_type": "execute_result"
    }
   ],
   "source": [
    "df_query.iloc[0]"
   ]
  },
  {
   "cell_type": "code",
   "execution_count": 568,
   "metadata": {},
   "outputs": [],
   "source": [
    "row = df_query.iloc[0]"
   ]
  },
  {
   "cell_type": "code",
   "execution_count": 569,
   "metadata": {},
   "outputs": [
    {
     "data": {
      "text/plain": [
       "\"['美國', '總統', '川普', '汽車', '關稅', '美股', '指數', '台積電', '台積電', '台北', '現股', '早盤', '終場', '台股', '關卡', '川普', '美國', '汽車', '進口稅', '美股', '指數', '費城', '半導體', '指數', '台積電', '台幣', '台北', '交易', '股票', '溢價率', '台股', '關卡', '台積電', '終場', '凱基投顧', '報告', '周三', '大盤', '高點', '月線', '壓力', '買盤', '成交量', '水準', '線未果', '盤面上漲家數', '跌家數', '籌碼', '均線', '技術面', '月線', '月線', '機會', '月13日', '型態', '走勢', '凱基', '盤面', '類股', '大盤', '型態', '個股', '題材', '股價', '均線', '壓力', '強勢', '個股']\""
      ]
     },
     "execution_count": 569,
     "metadata": {},
     "output_type": "execute_result"
    }
   ],
   "source": [
    "row.tokens_v2"
   ]
  },
  {
   "cell_type": "code",
   "execution_count": null,
   "metadata": {},
   "outputs": [],
   "source": []
  },
  {
   "cell_type": "code",
   "execution_count": 570,
   "metadata": {},
   "outputs": [
    {
     "data": {
      "text/plain": [
       "['美國',\n",
       " '總統',\n",
       " '川普',\n",
       " '汽車',\n",
       " '關稅',\n",
       " '美股',\n",
       " '指數',\n",
       " '台積電',\n",
       " '台積電',\n",
       " '台北',\n",
       " '現股',\n",
       " '早盤',\n",
       " '終場',\n",
       " '台股',\n",
       " '關卡',\n",
       " '川普',\n",
       " '美國',\n",
       " '汽車',\n",
       " '進口稅',\n",
       " '美股',\n",
       " '指數',\n",
       " '費城',\n",
       " '半導體',\n",
       " '指數',\n",
       " '台積電',\n",
       " '台幣',\n",
       " '台北',\n",
       " '交易',\n",
       " '股票',\n",
       " '溢價率',\n",
       " '台股',\n",
       " '關卡',\n",
       " '台積電',\n",
       " '終場',\n",
       " '凱基投顧',\n",
       " '報告',\n",
       " '周三',\n",
       " '大盤',\n",
       " '高點',\n",
       " '月線',\n",
       " '壓力',\n",
       " '買盤',\n",
       " '成交量',\n",
       " '水準',\n",
       " '線未果',\n",
       " '盤面上漲家數',\n",
       " '跌家數',\n",
       " '籌碼',\n",
       " '均線',\n",
       " '技術面',\n",
       " '月線',\n",
       " '月線',\n",
       " '機會',\n",
       " '月13日',\n",
       " '型態',\n",
       " '走勢',\n",
       " '凱基',\n",
       " '盤面',\n",
       " '類股',\n",
       " '大盤',\n",
       " '型態',\n",
       " '個股',\n",
       " '題材',\n",
       " '股價',\n",
       " '均線',\n",
       " '壓力',\n",
       " '強勢',\n",
       " '個股']"
      ]
     },
     "execution_count": 570,
     "metadata": {},
     "output_type": "execute_result"
    }
   ],
   "source": [
    "eval(row.tokens_v2)"
   ]
  },
  {
   "cell_type": "code",
   "execution_count": 571,
   "metadata": {},
   "outputs": [
    {
     "data": {
      "text/plain": [
       "['美國',\n",
       " '總統',\n",
       " '川普',\n",
       " '汽車',\n",
       " '關稅',\n",
       " '美股',\n",
       " '指數',\n",
       " '台積電',\n",
       " '台積電',\n",
       " '台北',\n",
       " '現股',\n",
       " '早盤',\n",
       " '終場',\n",
       " '台股',\n",
       " '關卡',\n",
       " '川普',\n",
       " '美國',\n",
       " '汽車',\n",
       " '進口稅',\n",
       " '美股',\n",
       " '指數',\n",
       " '費城',\n",
       " '半導體',\n",
       " '指數',\n",
       " '台積電',\n",
       " '台幣',\n",
       " '台北',\n",
       " '交易',\n",
       " '股票',\n",
       " '溢價率',\n",
       " '台股',\n",
       " '關卡',\n",
       " '台積電',\n",
       " '終場',\n",
       " '凱基投顧',\n",
       " '報告',\n",
       " '周三',\n",
       " '大盤',\n",
       " '高點',\n",
       " '月線',\n",
       " '壓力',\n",
       " '買盤',\n",
       " '成交量',\n",
       " '水準',\n",
       " '線未果',\n",
       " '盤面上漲家數',\n",
       " '跌家數',\n",
       " '籌碼',\n",
       " '均線',\n",
       " '技術面',\n",
       " '月線',\n",
       " '月線',\n",
       " '機會',\n",
       " '月13日',\n",
       " '型態',\n",
       " '走勢',\n",
       " '凱基',\n",
       " '盤面',\n",
       " '類股',\n",
       " '大盤',\n",
       " '型態',\n",
       " '個股',\n",
       " '題材',\n",
       " '股價',\n",
       " '均線',\n",
       " '壓力',\n",
       " '強勢',\n",
       " '個股']"
      ]
     },
     "execution_count": 571,
     "metadata": {},
     "output_type": "execute_result"
    }
   ],
   "source": [
    "tokens"
   ]
  },
  {
   "cell_type": "code",
   "execution_count": 572,
   "metadata": {},
   "outputs": [
    {
     "data": {
      "text/plain": [
       "['美國', '川普', '川普', '美國']"
      ]
     },
     "execution_count": 572,
     "metadata": {},
     "output_type": "execute_result"
    }
   ],
   "source": [
    "[word for word in tokens if (word in user_keywords)]"
   ]
  },
  {
   "cell_type": "code",
   "execution_count": 573,
   "metadata": {},
   "outputs": [
    {
     "data": {
      "text/plain": [
       "4"
      ]
     },
     "execution_count": 573,
     "metadata": {},
     "output_type": "execute_result"
    }
   ],
   "source": [
    "len([word for word in tokens if (word in user_keywords)])"
   ]
  },
  {
   "cell_type": "code",
   "execution_count": 574,
   "metadata": {},
   "outputs": [
    {
     "data": {
      "text/plain": [
       "4"
      ]
     },
     "execution_count": 574,
     "metadata": {},
     "output_type": "execute_result"
    }
   ],
   "source": [
    "freq"
   ]
  },
  {
   "cell_type": "code",
   "execution_count": 575,
   "metadata": {},
   "outputs": [],
   "source": [
    "cate_occurence={}\n",
    "cate_freq={}"
   ]
  },
  {
   "cell_type": "code",
   "execution_count": 576,
   "metadata": {},
   "outputs": [
    {
     "data": {
      "text/plain": [
       "{}"
      ]
     },
     "execution_count": 576,
     "metadata": {},
     "output_type": "execute_result"
    }
   ],
   "source": [
    "cate_occurence"
   ]
  },
  {
   "cell_type": "code",
   "execution_count": 577,
   "metadata": {},
   "outputs": [],
   "source": [
    "for cate in news_categories:\n",
    "    cate_occurence[cate]=0\n",
    "    cate_freq[cate]=0"
   ]
  },
  {
   "cell_type": "code",
   "execution_count": 578,
   "metadata": {},
   "outputs": [
    {
     "data": {
      "text/plain": [
       "{'全部': 0,\n",
       " '焦點': 0,\n",
       " '娛樂影劇': 0,\n",
       " '國際': 0,\n",
       " '政治': 0,\n",
       " '社會地方': 0,\n",
       " '財經': 0,\n",
       " '運動': 0,\n",
       " '玩樂': 0,\n",
       " '品味': 0,\n",
       " '遊戲3C': 0}"
      ]
     },
     "execution_count": 578,
     "metadata": {},
     "output_type": "execute_result"
    }
   ],
   "source": [
    "cate_occurence"
   ]
  },
  {
   "cell_type": "code",
   "execution_count": 579,
   "metadata": {},
   "outputs": [
    {
     "data": {
      "text/plain": [
       "{'全部': 0,\n",
       " '焦點': 0,\n",
       " '娛樂影劇': 0,\n",
       " '國際': 0,\n",
       " '政治': 0,\n",
       " '社會地方': 0,\n",
       " '財經': 0,\n",
       " '運動': 0,\n",
       " '玩樂': 0,\n",
       " '品味': 0,\n",
       " '遊戲3C': 0}"
      ]
     },
     "execution_count": 579,
     "metadata": {},
     "output_type": "execute_result"
    }
   ],
   "source": [
    "cate_freq"
   ]
  },
  {
   "cell_type": "code",
   "execution_count": 580,
   "metadata": {},
   "outputs": [],
   "source": [
    "cate_freq[row.category] += freq\n",
    "cate_freq['全部'] += freq"
   ]
  },
  {
   "cell_type": "code",
   "execution_count": 581,
   "metadata": {},
   "outputs": [
    {
     "data": {
      "text/plain": [
       "{'全部': 4,\n",
       " '焦點': 4,\n",
       " '娛樂影劇': 0,\n",
       " '國際': 0,\n",
       " '政治': 0,\n",
       " '社會地方': 0,\n",
       " '財經': 0,\n",
       " '運動': 0,\n",
       " '玩樂': 0,\n",
       " '品味': 0,\n",
       " '遊戲3C': 0}"
      ]
     },
     "execution_count": 581,
     "metadata": {},
     "output_type": "execute_result"
    }
   ],
   "source": [
    "cate_freq"
   ]
  },
  {
   "cell_type": "code",
   "execution_count": 582,
   "metadata": {},
   "outputs": [],
   "source": [
    "# count number of news\n",
    "cate_occurence[row.category] += 1 # add 1 to its category's occurence\n",
    "cate_occurence['全部'] += 1"
   ]
  },
  {
   "cell_type": "code",
   "execution_count": 583,
   "metadata": {},
   "outputs": [
    {
     "data": {
      "text/plain": [
       "{'全部': 1,\n",
       " '焦點': 1,\n",
       " '娛樂影劇': 0,\n",
       " '國際': 0,\n",
       " '政治': 0,\n",
       " '社會地方': 0,\n",
       " '財經': 0,\n",
       " '運動': 0,\n",
       " '玩樂': 0,\n",
       " '品味': 0,\n",
       " '遊戲3C': 0}"
      ]
     },
     "execution_count": 583,
     "metadata": {},
     "output_type": "execute_result"
    }
   ],
   "source": [
    "cate_occurence"
   ]
  },
  {
   "cell_type": "markdown",
   "metadata": {},
   "source": [
    "## Now we can conveniently call those functions"
   ]
  },
  {
   "cell_type": "code",
   "execution_count": 584,
   "metadata": {},
   "outputs": [],
   "source": [
    "user_keywords=['川普','美國']\n",
    "cond='or'\n",
    "cate='全部'\n",
    "weeks=2\n",
    "df_query = filter_dataFrame(user_keywords, cond, cate, weeks)"
   ]
  },
  {
   "cell_type": "code",
   "execution_count": 585,
   "metadata": {},
   "outputs": [
    {
     "data": {
      "text/plain": [
       "67"
      ]
     },
     "execution_count": 585,
     "metadata": {},
     "output_type": "execute_result"
    }
   ],
   "source": [
    "len(df_query)"
   ]
  },
  {
   "cell_type": "code",
   "execution_count": 586,
   "metadata": {},
   "outputs": [
    {
     "data": {
      "text/plain": [
       "({'全部': 422,\n",
       "  '焦點': 156,\n",
       "  '娛樂影劇': 5,\n",
       "  '國際': 86,\n",
       "  '政治': 14,\n",
       "  '社會地方': 14,\n",
       "  '財經': 103,\n",
       "  '運動': 19,\n",
       "  '玩樂': 8,\n",
       "  '品味': 4,\n",
       "  '遊戲3C': 13},\n",
       " {'全部': 67,\n",
       "  '焦點': 22,\n",
       "  '娛樂影劇': 3,\n",
       "  '國際': 10,\n",
       "  '政治': 3,\n",
       "  '社會地方': 2,\n",
       "  '財經': 9,\n",
       "  '運動': 8,\n",
       "  '玩樂': 2,\n",
       "  '品味': 3,\n",
       "  '遊戲3C': 5})"
      ]
     },
     "execution_count": 586,
     "metadata": {},
     "output_type": "execute_result"
    }
   ],
   "source": [
    "count_keyword(df_query, user_keywords)"
   ]
  },
  {
   "cell_type": "code",
   "execution_count": 587,
   "metadata": {},
   "outputs": [],
   "source": [
    "user_keywords=['川普','美國']\n",
    "cond='and'\n",
    "cate='政治'\n",
    "weeks=2\n",
    "df_query = filter_dataFrame(user_keywords, cond, cate, weeks)"
   ]
  },
  {
   "cell_type": "code",
   "execution_count": 588,
   "metadata": {},
   "outputs": [
    {
     "data": {
      "text/plain": [
       "1"
      ]
     },
     "execution_count": 588,
     "metadata": {},
     "output_type": "execute_result"
    }
   ],
   "source": [
    "len(df_query)"
   ]
  },
  {
   "cell_type": "code",
   "execution_count": 589,
   "metadata": {},
   "outputs": [
    {
     "data": {
      "text/plain": [
       "({'全部': 3,\n",
       "  '焦點': 0,\n",
       "  '娛樂影劇': 0,\n",
       "  '國際': 0,\n",
       "  '政治': 3,\n",
       "  '社會地方': 0,\n",
       "  '財經': 0,\n",
       "  '運動': 0,\n",
       "  '玩樂': 0,\n",
       "  '品味': 0,\n",
       "  '遊戲3C': 0},\n",
       " {'全部': 1,\n",
       "  '焦點': 0,\n",
       "  '娛樂影劇': 0,\n",
       "  '國際': 0,\n",
       "  '政治': 1,\n",
       "  '社會地方': 0,\n",
       "  '財經': 0,\n",
       "  '運動': 0,\n",
       "  '玩樂': 0,\n",
       "  '品味': 0,\n",
       "  '遊戲3C': 0})"
      ]
     },
     "execution_count": 589,
     "metadata": {},
     "output_type": "execute_result"
    }
   ],
   "source": [
    "count_keyword(df_query, user_keyword)"
   ]
  },
  {
   "cell_type": "code",
   "execution_count": null,
   "metadata": {},
   "outputs": [],
   "source": []
  },
  {
   "cell_type": "markdown",
   "metadata": {},
   "source": [
    "## Usage of apply, map (For reference)"
   ]
  },
  {
   "cell_type": "code",
   "execution_count": 590,
   "metadata": {},
   "outputs": [
    {
     "data": {
      "text/html": [
       "<div>\n",
       "<style scoped>\n",
       "    .dataframe tbody tr th:only-of-type {\n",
       "        vertical-align: middle;\n",
       "    }\n",
       "\n",
       "    .dataframe tbody tr th {\n",
       "        vertical-align: top;\n",
       "    }\n",
       "\n",
       "    .dataframe thead th {\n",
       "        text-align: right;\n",
       "    }\n",
       "</style>\n",
       "<table border=\"1\" class=\"dataframe\">\n",
       "  <thead>\n",
       "    <tr style=\"text-align: right;\">\n",
       "      <th></th>\n",
       "      <th>Col 1</th>\n",
       "      <th>Col 2</th>\n",
       "      <th>Col 3</th>\n",
       "    </tr>\n",
       "  </thead>\n",
       "  <tbody>\n",
       "    <tr>\n",
       "      <th>A</th>\n",
       "      <td>3</td>\n",
       "      <td>2</td>\n",
       "      <td>8</td>\n",
       "    </tr>\n",
       "    <tr>\n",
       "      <th>B</th>\n",
       "      <td>4</td>\n",
       "      <td>3</td>\n",
       "      <td>8</td>\n",
       "    </tr>\n",
       "    <tr>\n",
       "      <th>C</th>\n",
       "      <td>5</td>\n",
       "      <td>6</td>\n",
       "      <td>9</td>\n",
       "    </tr>\n",
       "    <tr>\n",
       "      <th>D</th>\n",
       "      <td>6</td>\n",
       "      <td>4</td>\n",
       "      <td>8</td>\n",
       "    </tr>\n",
       "  </tbody>\n",
       "</table>\n",
       "</div>"
      ],
      "text/plain": [
       "   Col 1  Col 2  Col 3\n",
       "A      3      2      8\n",
       "B      4      3      8\n",
       "C      5      6      9\n",
       "D      6      4      8"
      ]
     },
     "execution_count": 590,
     "metadata": {},
     "output_type": "execute_result"
    }
   ],
   "source": [
    "# apply usage\n",
    "import pandas as pd\n",
    "\n",
    "sample_df = pd.DataFrame({\n",
    "    'Col 1': [3,4,5,6],\n",
    "    'Col 2': [2,3,6,4],\n",
    "    'Col 3': [8,8,9,8],\n",
    "\n",
    "},index=[\"A\",\"B\",\"C\",\"D\"])\n",
    "sample_df"
   ]
  },
  {
   "cell_type": "code",
   "execution_count": 591,
   "metadata": {},
   "outputs": [
    {
     "data": {
      "text/html": [
       "<div>\n",
       "<style scoped>\n",
       "    .dataframe tbody tr th:only-of-type {\n",
       "        vertical-align: middle;\n",
       "    }\n",
       "\n",
       "    .dataframe tbody tr th {\n",
       "        vertical-align: top;\n",
       "    }\n",
       "\n",
       "    .dataframe thead th {\n",
       "        text-align: right;\n",
       "    }\n",
       "</style>\n",
       "<table border=\"1\" class=\"dataframe\">\n",
       "  <thead>\n",
       "    <tr style=\"text-align: right;\">\n",
       "      <th></th>\n",
       "      <th>Col 1</th>\n",
       "      <th>Col 2</th>\n",
       "      <th>Col 3</th>\n",
       "    </tr>\n",
       "  </thead>\n",
       "  <tbody>\n",
       "    <tr>\n",
       "      <th>A</th>\n",
       "      <td>13</td>\n",
       "      <td>12</td>\n",
       "      <td>18</td>\n",
       "    </tr>\n",
       "    <tr>\n",
       "      <th>B</th>\n",
       "      <td>14</td>\n",
       "      <td>13</td>\n",
       "      <td>18</td>\n",
       "    </tr>\n",
       "    <tr>\n",
       "      <th>C</th>\n",
       "      <td>15</td>\n",
       "      <td>16</td>\n",
       "      <td>19</td>\n",
       "    </tr>\n",
       "    <tr>\n",
       "      <th>D</th>\n",
       "      <td>16</td>\n",
       "      <td>14</td>\n",
       "      <td>18</td>\n",
       "    </tr>\n",
       "  </tbody>\n",
       "</table>\n",
       "</div>"
      ],
      "text/plain": [
       "   Col 1  Col 2  Col 3\n",
       "A     13     12     18\n",
       "B     14     13     18\n",
       "C     15     16     19\n",
       "D     16     14     18"
      ]
     },
     "execution_count": 591,
     "metadata": {},
     "output_type": "execute_result"
    }
   ],
   "source": [
    "sample_df=sample_df.apply(lambda x: x+10)\n",
    "sample_df"
   ]
  },
  {
   "cell_type": "code",
   "execution_count": 592,
   "metadata": {},
   "outputs": [
    {
     "data": {
      "text/html": [
       "<div>\n",
       "<style scoped>\n",
       "    .dataframe tbody tr th:only-of-type {\n",
       "        vertical-align: middle;\n",
       "    }\n",
       "\n",
       "    .dataframe tbody tr th {\n",
       "        vertical-align: top;\n",
       "    }\n",
       "\n",
       "    .dataframe thead th {\n",
       "        text-align: right;\n",
       "    }\n",
       "</style>\n",
       "<table border=\"1\" class=\"dataframe\">\n",
       "  <thead>\n",
       "    <tr style=\"text-align: right;\">\n",
       "      <th></th>\n",
       "      <th>Col 1</th>\n",
       "      <th>Col 2</th>\n",
       "      <th>Col 3</th>\n",
       "    </tr>\n",
       "  </thead>\n",
       "  <tbody>\n",
       "    <tr>\n",
       "      <th>A</th>\n",
       "      <td>3</td>\n",
       "      <td>12</td>\n",
       "      <td>18</td>\n",
       "    </tr>\n",
       "    <tr>\n",
       "      <th>B</th>\n",
       "      <td>4</td>\n",
       "      <td>13</td>\n",
       "      <td>18</td>\n",
       "    </tr>\n",
       "    <tr>\n",
       "      <th>C</th>\n",
       "      <td>5</td>\n",
       "      <td>16</td>\n",
       "      <td>19</td>\n",
       "    </tr>\n",
       "    <tr>\n",
       "      <th>D</th>\n",
       "      <td>6</td>\n",
       "      <td>14</td>\n",
       "      <td>18</td>\n",
       "    </tr>\n",
       "  </tbody>\n",
       "</table>\n",
       "</div>"
      ],
      "text/plain": [
       "   Col 1  Col 2  Col 3\n",
       "A      3     12     18\n",
       "B      4     13     18\n",
       "C      5     16     19\n",
       "D      6     14     18"
      ]
     },
     "execution_count": 592,
     "metadata": {},
     "output_type": "execute_result"
    }
   ],
   "source": [
    "sample_df[\"Col 1\"]=sample_df[\"Col 1\"].apply(lambda x: x-10)\n",
    "sample_df"
   ]
  }
 ],
 "metadata": {
  "kernelspec": {
   "display_name": "base",
   "language": "python",
   "name": "python3"
  },
  "language_info": {
   "codemirror_mode": {
    "name": "ipython",
    "version": 3
   },
   "file_extension": ".py",
   "mimetype": "text/x-python",
   "name": "python",
   "nbconvert_exporter": "python",
   "pygments_lexer": "ipython3",
   "version": "3.9.18"
  },
  "toc": {
   "base_numbering": 1,
   "nav_menu": {},
   "number_sections": true,
   "sideBar": true,
   "skip_h1_title": false,
   "title_cell": "Table of Contents",
   "title_sidebar": "Contents",
   "toc_cell": false,
   "toc_position": {},
   "toc_section_display": true,
   "toc_window_display": true
  }
 },
 "nbformat": 4,
 "nbformat_minor": 2
}
