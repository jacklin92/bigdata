{
 "cells": [
  {
   "cell_type": "markdown",
   "metadata": {},
   "source": [
    "# Filter news by time period\n",
    "\n",
    "\n",
    "greater than the start date and less than the end date"
   ]
  },
  {
   "cell_type": "markdown",
   "metadata": {},
   "source": [
    "## Find max and min date time\n",
    "\n",
    "The format of \"date\" column here is string.\n",
    "\n",
    "If it is datetime format, you should use datetime format such as datetime.date(2019,9,23)"
   ]
  },
  {
   "cell_type": "code",
   "execution_count": 78,
   "metadata": {},
   "outputs": [],
   "source": [
    "import pandas as pd"
   ]
  },
  {
   "cell_type": "code",
   "execution_count": 79,
   "metadata": {},
   "outputs": [],
   "source": [
    "df = pd.read_csv('./yahoo_news_preprocessed.csv',sep='|')"
   ]
  },
  {
   "cell_type": "code",
   "execution_count": 80,
   "metadata": {},
   "outputs": [
    {
     "data": {
      "text/html": [
       "<div>\n",
       "<style scoped>\n",
       "    .dataframe tbody tr th:only-of-type {\n",
       "        vertical-align: middle;\n",
       "    }\n",
       "\n",
       "    .dataframe tbody tr th {\n",
       "        vertical-align: top;\n",
       "    }\n",
       "\n",
       "    .dataframe thead th {\n",
       "        text-align: right;\n",
       "    }\n",
       "</style>\n",
       "<table border=\"1\" class=\"dataframe\">\n",
       "  <thead>\n",
       "    <tr style=\"text-align: right;\">\n",
       "      <th></th>\n",
       "      <th>item_id</th>\n",
       "      <th>date</th>\n",
       "      <th>category</th>\n",
       "      <th>title</th>\n",
       "      <th>content</th>\n",
       "      <th>sentiment</th>\n",
       "      <th>summary</th>\n",
       "      <th>top_key_freq</th>\n",
       "      <th>tokens</th>\n",
       "      <th>tokens_v2</th>\n",
       "      <th>entities</th>\n",
       "      <th>token_pos</th>\n",
       "      <th>link</th>\n",
       "      <th>photo_link</th>\n",
       "    </tr>\n",
       "  </thead>\n",
       "  <tbody>\n",
       "    <tr>\n",
       "      <th>0</th>\n",
       "      <td>_20250327_1</td>\n",
       "      <td>2025-03-27</td>\n",
       "      <td>焦點</td>\n",
       "      <td>台股重挫308點 失守22000關卡</td>\n",
       "      <td>美國總統川普準備徵收汽車關稅，美股主要指數全數下跌，台積電重挫4.09%，台積電台北現股今日...</td>\n",
       "      <td>暫無</td>\n",
       "      <td>暫無</td>\n",
       "      <td>[('台積電', 4), ('指數', 3), ('月線', 3), ('美國', 2), ...</td>\n",
       "      <td>['美國', '總統', '川普', '準備', '徵收', '汽車', '關稅', '，'...</td>\n",
       "      <td>['美國', '總統', '川普', '汽車', '關稅', '美股', '指數', '台積...</td>\n",
       "      <td>[NerToken(word='美國', ner='GPE', idx=(0, 2)), N...</td>\n",
       "      <td>[('美國', 'Nc'), ('總統', 'Na'), ('川普', 'Nb'), ('準...</td>\n",
       "      <td>https://tw.news.yahoo.com/https://tw.stock.yah...</td>\n",
       "      <td>https://s.yimg.com/ny/api/res/1.2/3qEveVGKp070...</td>\n",
       "    </tr>\n",
       "    <tr>\n",
       "      <th>1</th>\n",
       "      <td>_20250327_2</td>\n",
       "      <td>2025-03-27</td>\n",
       "      <td>焦點</td>\n",
       "      <td>賴士葆撞人畫面外流 警被起訴</td>\n",
       "      <td>去年7月間，國民黨立委賴士葆駕車行駛在台北市大安區時，不慎撞傷走在斑馬線上2位女性行人，沒想...</td>\n",
       "      <td>暫無</td>\n",
       "      <td>暫無</td>\n",
       "      <td>[('台灣', 10), ('賴士葆', 9), ('警員', 9), ('照片', 7),...</td>\n",
       "      <td>['去年', '7月', '間', '，', '國民黨', '立委', '賴士葆', '駕車...</td>\n",
       "      <td>['國民黨', '立委', '賴士葆', '台北市', '大安區', '斑馬線', '女性'...</td>\n",
       "      <td>[NerToken(word='去年7月', ner='DATE', idx=(0, 4))...</td>\n",
       "      <td>[('去年', 'Nd'), ('7月', 'Nd'), ('間', 'Ng'), ('，'...</td>\n",
       "      <td>https://tw.news.yahoo.com/%E8%B3%B4%E5%A3%AB%E...</td>\n",
       "      <td>https://s.yimg.com/ny/api/res/1.2/PPzJSVLdFBTm...</td>\n",
       "    </tr>\n",
       "    <tr>\n",
       "      <th>2</th>\n",
       "      <td>_20250327_3</td>\n",
       "      <td>2025-03-27</td>\n",
       "      <td>焦點</td>\n",
       "      <td>墾丁爆非法民宿飆價 署長說重話</td>\n",
       "      <td>台灣祭將於4月3日至5日登場，有民眾在社群平台反映，活動期間發現墾丁地區一間旅館哄抬價格。屏...</td>\n",
       "      <td>暫無</td>\n",
       "      <td>暫無</td>\n",
       "      <td>[('業者', 8), ('價格', 4), ('旅宿', 4), ('台灣祭', 3), ...</td>\n",
       "      <td>['台灣祭', '將', '於', '4月', '3日', '至', '5日', '登場',...</td>\n",
       "      <td>['台灣祭', '民眾', '社群', '平台', '活動', '期間', '墾丁', '地...</td>\n",
       "      <td>[NerToken(word='台灣祭', ner='EVENT', idx=(0, 3))...</td>\n",
       "      <td>[('台灣祭', 'Na'), ('將', 'D'), ('於', 'P'), ('4月',...</td>\n",
       "      <td>https://tw.news.yahoo.com/%E5%A2%BE%E4%B8%81%E...</td>\n",
       "      <td>https://s.yimg.com/ny/api/res/1.2/E9TwmMfRm0bQ...</td>\n",
       "    </tr>\n",
       "  </tbody>\n",
       "</table>\n",
       "</div>"
      ],
      "text/plain": [
       "       item_id        date category               title  \\\n",
       "0  _20250327_1  2025-03-27       焦點  台股重挫308點 失守22000關卡   \n",
       "1  _20250327_2  2025-03-27       焦點      賴士葆撞人畫面外流 警被起訴   \n",
       "2  _20250327_3  2025-03-27       焦點     墾丁爆非法民宿飆價 署長說重話   \n",
       "\n",
       "                                             content sentiment summary  \\\n",
       "0  美國總統川普準備徵收汽車關稅，美股主要指數全數下跌，台積電重挫4.09%，台積電台北現股今日...        暫無      暫無   \n",
       "1  去年7月間，國民黨立委賴士葆駕車行駛在台北市大安區時，不慎撞傷走在斑馬線上2位女性行人，沒想...        暫無      暫無   \n",
       "2  台灣祭將於4月3日至5日登場，有民眾在社群平台反映，活動期間發現墾丁地區一間旅館哄抬價格。屏...        暫無      暫無   \n",
       "\n",
       "                                        top_key_freq  \\\n",
       "0  [('台積電', 4), ('指數', 3), ('月線', 3), ('美國', 2), ...   \n",
       "1  [('台灣', 10), ('賴士葆', 9), ('警員', 9), ('照片', 7),...   \n",
       "2  [('業者', 8), ('價格', 4), ('旅宿', 4), ('台灣祭', 3), ...   \n",
       "\n",
       "                                              tokens  \\\n",
       "0  ['美國', '總統', '川普', '準備', '徵收', '汽車', '關稅', '，'...   \n",
       "1  ['去年', '7月', '間', '，', '國民黨', '立委', '賴士葆', '駕車...   \n",
       "2  ['台灣祭', '將', '於', '4月', '3日', '至', '5日', '登場',...   \n",
       "\n",
       "                                           tokens_v2  \\\n",
       "0  ['美國', '總統', '川普', '汽車', '關稅', '美股', '指數', '台積...   \n",
       "1  ['國民黨', '立委', '賴士葆', '台北市', '大安區', '斑馬線', '女性'...   \n",
       "2  ['台灣祭', '民眾', '社群', '平台', '活動', '期間', '墾丁', '地...   \n",
       "\n",
       "                                            entities  \\\n",
       "0  [NerToken(word='美國', ner='GPE', idx=(0, 2)), N...   \n",
       "1  [NerToken(word='去年7月', ner='DATE', idx=(0, 4))...   \n",
       "2  [NerToken(word='台灣祭', ner='EVENT', idx=(0, 3))...   \n",
       "\n",
       "                                           token_pos  \\\n",
       "0  [('美國', 'Nc'), ('總統', 'Na'), ('川普', 'Nb'), ('準...   \n",
       "1  [('去年', 'Nd'), ('7月', 'Nd'), ('間', 'Ng'), ('，'...   \n",
       "2  [('台灣祭', 'Na'), ('將', 'D'), ('於', 'P'), ('4月',...   \n",
       "\n",
       "                                                link  \\\n",
       "0  https://tw.news.yahoo.com/https://tw.stock.yah...   \n",
       "1  https://tw.news.yahoo.com/%E8%B3%B4%E5%A3%AB%E...   \n",
       "2  https://tw.news.yahoo.com/%E5%A2%BE%E4%B8%81%E...   \n",
       "\n",
       "                                          photo_link  \n",
       "0  https://s.yimg.com/ny/api/res/1.2/3qEveVGKp070...  \n",
       "1  https://s.yimg.com/ny/api/res/1.2/PPzJSVLdFBTm...  \n",
       "2  https://s.yimg.com/ny/api/res/1.2/E9TwmMfRm0bQ...  "
      ]
     },
     "execution_count": 80,
     "metadata": {},
     "output_type": "execute_result"
    }
   ],
   "source": [
    "df.head(3)"
   ]
  },
  {
   "cell_type": "code",
   "execution_count": 81,
   "metadata": {},
   "outputs": [
    {
     "data": {
      "text/plain": [
       "'2025-03-27'"
      ]
     },
     "execution_count": 81,
     "metadata": {},
     "output_type": "execute_result"
    }
   ],
   "source": [
    "# maximum date time\n",
    "df.date.max()"
   ]
  },
  {
   "cell_type": "code",
   "execution_count": 82,
   "metadata": {},
   "outputs": [
    {
     "data": {
      "text/plain": [
       "'2025-03-23'"
      ]
     },
     "execution_count": 82,
     "metadata": {},
     "output_type": "execute_result"
    }
   ],
   "source": [
    "# minimum date time\n",
    "df.date.min()"
   ]
  },
  {
   "cell_type": "code",
   "execution_count": null,
   "metadata": {},
   "outputs": [],
   "source": []
  },
  {
   "cell_type": "code",
   "execution_count": 83,
   "metadata": {},
   "outputs": [
    {
     "data": {
      "text/plain": [
       "'2025-03-27'"
      ]
     },
     "execution_count": 83,
     "metadata": {},
     "output_type": "execute_result"
    }
   ],
   "source": [
    "df.iloc[0].date"
   ]
  },
  {
   "cell_type": "code",
   "execution_count": 84,
   "metadata": {},
   "outputs": [
    {
     "data": {
      "text/plain": [
       "215    2025-03-27\n",
       "Name: date, dtype: object"
      ]
     },
     "execution_count": 84,
     "metadata": {},
     "output_type": "execute_result"
    }
   ],
   "source": [
    "df.tail(1).date"
   ]
  },
  {
   "cell_type": "code",
   "execution_count": 85,
   "metadata": {
    "scrolled": true
   },
   "outputs": [
    {
     "data": {
      "text/plain": [
       "'2025-03-27'"
      ]
     },
     "execution_count": 85,
     "metadata": {},
     "output_type": "execute_result"
    }
   ],
   "source": [
    "df.iloc[-1].date"
   ]
  },
  {
   "cell_type": "markdown",
   "metadata": {},
   "source": [
    "## Find news with a specified date"
   ]
  },
  {
   "cell_type": "markdown",
   "metadata": {},
   "source": [
    "### Using query command"
   ]
  },
  {
   "cell_type": "code",
   "execution_count": 86,
   "metadata": {},
   "outputs": [
    {
     "data": {
      "text/html": [
       "<div>\n",
       "<style scoped>\n",
       "    .dataframe tbody tr th:only-of-type {\n",
       "        vertical-align: middle;\n",
       "    }\n",
       "\n",
       "    .dataframe tbody tr th {\n",
       "        vertical-align: top;\n",
       "    }\n",
       "\n",
       "    .dataframe thead th {\n",
       "        text-align: right;\n",
       "    }\n",
       "</style>\n",
       "<table border=\"1\" class=\"dataframe\">\n",
       "  <thead>\n",
       "    <tr style=\"text-align: right;\">\n",
       "      <th></th>\n",
       "      <th>item_id</th>\n",
       "      <th>date</th>\n",
       "      <th>category</th>\n",
       "      <th>title</th>\n",
       "      <th>content</th>\n",
       "      <th>sentiment</th>\n",
       "      <th>summary</th>\n",
       "      <th>top_key_freq</th>\n",
       "      <th>tokens</th>\n",
       "      <th>tokens_v2</th>\n",
       "      <th>entities</th>\n",
       "      <th>token_pos</th>\n",
       "      <th>link</th>\n",
       "      <th>photo_link</th>\n",
       "    </tr>\n",
       "  </thead>\n",
       "  <tbody>\n",
       "    <tr>\n",
       "      <th>95</th>\n",
       "      <td>politics_20250325_10</td>\n",
       "      <td>2025-03-25</td>\n",
       "      <td>政治</td>\n",
       "      <td>柯文哲座車「現身大甲吃九尾雞」！四叉貓抓包：還特地躲進包廂吃三立新聞網 setn.com74...</td>\n",
       "      <td>政治中心／黃依婷報導▲民眾黨主席專車被發現連續5天都出勤，還到大甲吃九尾雞。民眾黨前主席柯文...</td>\n",
       "      <td>暫無</td>\n",
       "      <td>暫無</td>\n",
       "      <td>[('柯文哲', 8), ('陳佩琪', 5), ('四叉貓', 4), ('黨主席', 4...</td>\n",
       "      <td>['政治', '中心', '／', '黃依婷', '報導', '▲', '民眾黨主席', '...</td>\n",
       "      <td>['政治', '中心', '黃依婷', '民眾黨主席', '專車', '大甲', '九尾雞'...</td>\n",
       "      <td>[NerToken(word='黃依婷', ner='PERSON', idx=(5, 8)...</td>\n",
       "      <td>[('政治', 'Na'), ('中心', 'Nc'), ('／', 'FW'), ('黃依...</td>\n",
       "      <td>https://tw.news.yahoo.com//4%E5%A7%8A%E5%A7%8A...</td>\n",
       "      <td>https://s.yimg.com/ny/api/res/1.2/bH94t63YqB7O...</td>\n",
       "    </tr>\n",
       "    <tr>\n",
       "      <th>124</th>\n",
       "      <td>finance_20250325_5</td>\n",
       "      <td>2025-03-25</td>\n",
       "      <td>財經</td>\n",
       "      <td>最大交屋潮來了！ 葉凌棋估「多殺多區」跌15%：出7折買不到EBC東森財經新聞35 則留言2 天前</td>\n",
       "      <td>「央行政策未鬆綁、今年又是交屋量最大的一年，銀行放貸估計到年底都不會鬆！」永慶房產集團業務總...</td>\n",
       "      <td>暫無</td>\n",
       "      <td>暫無</td>\n",
       "      <td>[('房價', 14), ('葉凌棋', 6), ('交易', 5), ('價格', 4),...</td>\n",
       "      <td>['「', '央行', '政策', '未', '鬆綁', '、', '今年', '又', '...</td>\n",
       "      <td>['央行', '政策', '交屋量', '銀行', '永慶', '房產', '集團', '業...</td>\n",
       "      <td>[NerToken(word='今年', ner='DATE', idx=(9, 11)),...</td>\n",
       "      <td>[('「', 'PARENTHESISCATEGORY'), ('央行', 'Nc'), (...</td>\n",
       "      <td>https://tw.news.yahoo.com//2%E5%A5%B3%E9%97%96...</td>\n",
       "      <td>https://s.yimg.com/ny/api/res/1.2/wxgp_oF2HUSg...</td>\n",
       "    </tr>\n",
       "  </tbody>\n",
       "</table>\n",
       "</div>"
      ],
      "text/plain": [
       "                  item_id        date category  \\\n",
       "95   politics_20250325_10  2025-03-25       政治   \n",
       "124    finance_20250325_5  2025-03-25       財經   \n",
       "\n",
       "                                                 title  \\\n",
       "95   柯文哲座車「現身大甲吃九尾雞」！四叉貓抓包：還特地躲進包廂吃三立新聞網 setn.com74...   \n",
       "124  最大交屋潮來了！ 葉凌棋估「多殺多區」跌15%：出7折買不到EBC東森財經新聞35 則留言2 天前   \n",
       "\n",
       "                                               content sentiment summary  \\\n",
       "95   政治中心／黃依婷報導▲民眾黨主席專車被發現連續5天都出勤，還到大甲吃九尾雞。民眾黨前主席柯文...        暫無      暫無   \n",
       "124  「央行政策未鬆綁、今年又是交屋量最大的一年，銀行放貸估計到年底都不會鬆！」永慶房產集團業務總...        暫無      暫無   \n",
       "\n",
       "                                          top_key_freq  \\\n",
       "95   [('柯文哲', 8), ('陳佩琪', 5), ('四叉貓', 4), ('黨主席', 4...   \n",
       "124  [('房價', 14), ('葉凌棋', 6), ('交易', 5), ('價格', 4),...   \n",
       "\n",
       "                                                tokens  \\\n",
       "95   ['政治', '中心', '／', '黃依婷', '報導', '▲', '民眾黨主席', '...   \n",
       "124  ['「', '央行', '政策', '未', '鬆綁', '、', '今年', '又', '...   \n",
       "\n",
       "                                             tokens_v2  \\\n",
       "95   ['政治', '中心', '黃依婷', '民眾黨主席', '專車', '大甲', '九尾雞'...   \n",
       "124  ['央行', '政策', '交屋量', '銀行', '永慶', '房產', '集團', '業...   \n",
       "\n",
       "                                              entities  \\\n",
       "95   [NerToken(word='黃依婷', ner='PERSON', idx=(5, 8)...   \n",
       "124  [NerToken(word='今年', ner='DATE', idx=(9, 11)),...   \n",
       "\n",
       "                                             token_pos  \\\n",
       "95   [('政治', 'Na'), ('中心', 'Nc'), ('／', 'FW'), ('黃依...   \n",
       "124  [('「', 'PARENTHESISCATEGORY'), ('央行', 'Nc'), (...   \n",
       "\n",
       "                                                  link  \\\n",
       "95   https://tw.news.yahoo.com//4%E5%A7%8A%E5%A7%8A...   \n",
       "124  https://tw.news.yahoo.com//2%E5%A5%B3%E9%97%96...   \n",
       "\n",
       "                                            photo_link  \n",
       "95   https://s.yimg.com/ny/api/res/1.2/bH94t63YqB7O...  \n",
       "124  https://s.yimg.com/ny/api/res/1.2/wxgp_oF2HUSg...  "
      ]
     },
     "execution_count": 86,
     "metadata": {},
     "output_type": "execute_result"
    }
   ],
   "source": [
    "df.query(\"date == '2025-03-25'\")[0:2]"
   ]
  },
  {
   "cell_type": "markdown",
   "metadata": {},
   "source": [
    "### Using column value"
   ]
  },
  {
   "cell_type": "code",
   "execution_count": 87,
   "metadata": {},
   "outputs": [
    {
     "data": {
      "text/html": [
       "<div>\n",
       "<style scoped>\n",
       "    .dataframe tbody tr th:only-of-type {\n",
       "        vertical-align: middle;\n",
       "    }\n",
       "\n",
       "    .dataframe tbody tr th {\n",
       "        vertical-align: top;\n",
       "    }\n",
       "\n",
       "    .dataframe thead th {\n",
       "        text-align: right;\n",
       "    }\n",
       "</style>\n",
       "<table border=\"1\" class=\"dataframe\">\n",
       "  <thead>\n",
       "    <tr style=\"text-align: right;\">\n",
       "      <th></th>\n",
       "      <th>item_id</th>\n",
       "      <th>date</th>\n",
       "      <th>category</th>\n",
       "      <th>title</th>\n",
       "      <th>content</th>\n",
       "      <th>sentiment</th>\n",
       "      <th>summary</th>\n",
       "      <th>top_key_freq</th>\n",
       "      <th>tokens</th>\n",
       "      <th>tokens_v2</th>\n",
       "      <th>entities</th>\n",
       "      <th>token_pos</th>\n",
       "      <th>link</th>\n",
       "      <th>photo_link</th>\n",
       "    </tr>\n",
       "  </thead>\n",
       "  <tbody>\n",
       "    <tr>\n",
       "      <th>13</th>\n",
       "      <td>_20250326_14</td>\n",
       "      <td>2025-03-26</td>\n",
       "      <td>焦點</td>\n",
       "      <td>上影印店「單次就破萬」網揭賺錢之道</td>\n",
       "      <td>求學、工作時常會有影印的需求，有網友表示，影印費用不高，即使要印整本講義、論文，頻率也非常低...</td>\n",
       "      <td>暫無</td>\n",
       "      <td>暫無</td>\n",
       "      <td>[('影印店', 7), ('公司', 4), ('標案', 4), ('網友', 3), ...</td>\n",
       "      <td>['求學', '、', '工作', '時常', '會', '有', '影印', '的', '...</td>\n",
       "      <td>['需求', '網友', '費用', '講義', '論文', '頻率', '作業', '報告...</td>\n",
       "      <td>[NerToken(word='印', ner='GPE', idx=(31, 32)), ...</td>\n",
       "      <td>[('求學', 'VA'), ('、', 'PAUSECATEGORY'), ('工作', ...</td>\n",
       "      <td>https://tw.news.yahoo.com/%E9%9B%BB%E5%83%B9%E...</td>\n",
       "      <td>https://s.yimg.com/ny/api/res/1.2/.L_PI3i7WwEJ...</td>\n",
       "    </tr>\n",
       "    <tr>\n",
       "      <th>14</th>\n",
       "      <td>_20250326_15</td>\n",
       "      <td>2025-03-26</td>\n",
       "      <td>焦點</td>\n",
       "      <td>「學聰明了」提早掃墓避塞車 釣出一堆同類</td>\n",
       "      <td>清明節即將到來，不少民眾擔心連假會遇上返鄉車潮，乾脆選擇提前掃墓。有網友也好奇，大家會在三月...</td>\n",
       "      <td>暫無</td>\n",
       "      <td>暫無</td>\n",
       "      <td>[('網友', 5), ('環保', 3), ('垃圾袋', 3), ('單位', 3), ...</td>\n",
       "      <td>['清明節', '即將', '到來', '，', '不少', '民眾', '擔心', '連'...</td>\n",
       "      <td>['民眾', '車潮', '網友', '網友', '網友', '論壇', '行程', '網友...</td>\n",
       "      <td>[NerToken(word='清明節', ner='DATE', idx=(0, 3)),...</td>\n",
       "      <td>[('清明節', 'Nd'), ('即將', 'D'), ('到來', 'VA'), ('，...</td>\n",
       "      <td>https://tw.news.yahoo.com/%E7%92%B0%E5%9C%98%E...</td>\n",
       "      <td>https://s.yimg.com/ny/api/res/1.2/L8MpvqtRllpI...</td>\n",
       "    </tr>\n",
       "  </tbody>\n",
       "</table>\n",
       "</div>"
      ],
      "text/plain": [
       "         item_id        date category                 title  \\\n",
       "13  _20250326_14  2025-03-26       焦點     上影印店「單次就破萬」網揭賺錢之道   \n",
       "14  _20250326_15  2025-03-26       焦點  「學聰明了」提早掃墓避塞車 釣出一堆同類   \n",
       "\n",
       "                                              content sentiment summary  \\\n",
       "13  求學、工作時常會有影印的需求，有網友表示，影印費用不高，即使要印整本講義、論文，頻率也非常低...        暫無      暫無   \n",
       "14  清明節即將到來，不少民眾擔心連假會遇上返鄉車潮，乾脆選擇提前掃墓。有網友也好奇，大家會在三月...        暫無      暫無   \n",
       "\n",
       "                                         top_key_freq  \\\n",
       "13  [('影印店', 7), ('公司', 4), ('標案', 4), ('網友', 3), ...   \n",
       "14  [('網友', 5), ('環保', 3), ('垃圾袋', 3), ('單位', 3), ...   \n",
       "\n",
       "                                               tokens  \\\n",
       "13  ['求學', '、', '工作', '時常', '會', '有', '影印', '的', '...   \n",
       "14  ['清明節', '即將', '到來', '，', '不少', '民眾', '擔心', '連'...   \n",
       "\n",
       "                                            tokens_v2  \\\n",
       "13  ['需求', '網友', '費用', '講義', '論文', '頻率', '作業', '報告...   \n",
       "14  ['民眾', '車潮', '網友', '網友', '網友', '論壇', '行程', '網友...   \n",
       "\n",
       "                                             entities  \\\n",
       "13  [NerToken(word='印', ner='GPE', idx=(31, 32)), ...   \n",
       "14  [NerToken(word='清明節', ner='DATE', idx=(0, 3)),...   \n",
       "\n",
       "                                            token_pos  \\\n",
       "13  [('求學', 'VA'), ('、', 'PAUSECATEGORY'), ('工作', ...   \n",
       "14  [('清明節', 'Nd'), ('即將', 'D'), ('到來', 'VA'), ('，...   \n",
       "\n",
       "                                                 link  \\\n",
       "13  https://tw.news.yahoo.com/%E9%9B%BB%E5%83%B9%E...   \n",
       "14  https://tw.news.yahoo.com/%E7%92%B0%E5%9C%98%E...   \n",
       "\n",
       "                                           photo_link  \n",
       "13  https://s.yimg.com/ny/api/res/1.2/.L_PI3i7WwEJ...  \n",
       "14  https://s.yimg.com/ny/api/res/1.2/L8MpvqtRllpI...  "
      ]
     },
     "execution_count": 87,
     "metadata": {},
     "output_type": "execute_result"
    }
   ],
   "source": [
    "df[df['date'] == '2025-03-26'][0:2]"
   ]
  },
  {
   "cell_type": "code",
   "execution_count": null,
   "metadata": {},
   "outputs": [],
   "source": []
  },
  {
   "cell_type": "code",
   "execution_count": 88,
   "metadata": {
    "scrolled": true
   },
   "outputs": [
    {
     "data": {
      "text/plain": [
       "177"
      ]
     },
     "execution_count": 88,
     "metadata": {},
     "output_type": "execute_result"
    }
   ],
   "source": [
    "# number of pieces\n",
    "len(df[df['date'] == '2025-03-27'])"
   ]
  },
  {
   "cell_type": "code",
   "execution_count": 89,
   "metadata": {
    "scrolled": true
   },
   "outputs": [
    {
     "data": {
      "text/plain": [
       "31"
      ]
     },
     "execution_count": 89,
     "metadata": {},
     "output_type": "execute_result"
    }
   ],
   "source": [
    "# number of pieces\n",
    "len(df[df['date'] == '2025-03-26'])"
   ]
  },
  {
   "cell_type": "code",
   "execution_count": 90,
   "metadata": {
    "scrolled": true
   },
   "outputs": [
    {
     "data": {
      "text/plain": [
       "2"
      ]
     },
     "execution_count": 90,
     "metadata": {},
     "output_type": "execute_result"
    }
   ],
   "source": [
    "# number of pieces\n",
    "len(df[df['date'] == '2025-03-25'])"
   ]
  },
  {
   "cell_type": "code",
   "execution_count": 91,
   "metadata": {},
   "outputs": [
    {
     "data": {
      "text/plain": [
       "0      True\n",
       "1      True\n",
       "2      True\n",
       "3      True\n",
       "4      True\n",
       "       ... \n",
       "211    True\n",
       "212    True\n",
       "213    True\n",
       "214    True\n",
       "215    True\n",
       "Name: date, Length: 216, dtype: bool"
      ]
     },
     "execution_count": 91,
     "metadata": {},
     "output_type": "execute_result"
    }
   ],
   "source": [
    "df['date'] == '2025-03-27'"
   ]
  },
  {
   "cell_type": "code",
   "execution_count": 92,
   "metadata": {},
   "outputs": [
    {
     "data": {
      "text/html": [
       "<div>\n",
       "<style scoped>\n",
       "    .dataframe tbody tr th:only-of-type {\n",
       "        vertical-align: middle;\n",
       "    }\n",
       "\n",
       "    .dataframe tbody tr th {\n",
       "        vertical-align: top;\n",
       "    }\n",
       "\n",
       "    .dataframe thead th {\n",
       "        text-align: right;\n",
       "    }\n",
       "</style>\n",
       "<table border=\"1\" class=\"dataframe\">\n",
       "  <thead>\n",
       "    <tr style=\"text-align: right;\">\n",
       "      <th></th>\n",
       "      <th>item_id</th>\n",
       "      <th>date</th>\n",
       "      <th>category</th>\n",
       "      <th>title</th>\n",
       "      <th>content</th>\n",
       "      <th>sentiment</th>\n",
       "      <th>summary</th>\n",
       "      <th>top_key_freq</th>\n",
       "      <th>tokens</th>\n",
       "      <th>tokens_v2</th>\n",
       "      <th>entities</th>\n",
       "      <th>token_pos</th>\n",
       "      <th>link</th>\n",
       "      <th>photo_link</th>\n",
       "    </tr>\n",
       "  </thead>\n",
       "  <tbody>\n",
       "    <tr>\n",
       "      <th>0</th>\n",
       "      <td>_20250327_1</td>\n",
       "      <td>2025-03-27</td>\n",
       "      <td>焦點</td>\n",
       "      <td>台股重挫308點 失守22000關卡</td>\n",
       "      <td>美國總統川普準備徵收汽車關稅，美股主要指數全數下跌，台積電重挫4.09%，台積電台北現股今日...</td>\n",
       "      <td>暫無</td>\n",
       "      <td>暫無</td>\n",
       "      <td>[('台積電', 4), ('指數', 3), ('月線', 3), ('美國', 2), ...</td>\n",
       "      <td>['美國', '總統', '川普', '準備', '徵收', '汽車', '關稅', '，'...</td>\n",
       "      <td>['美國', '總統', '川普', '汽車', '關稅', '美股', '指數', '台積...</td>\n",
       "      <td>[NerToken(word='美國', ner='GPE', idx=(0, 2)), N...</td>\n",
       "      <td>[('美國', 'Nc'), ('總統', 'Na'), ('川普', 'Nb'), ('準...</td>\n",
       "      <td>https://tw.news.yahoo.com/https://tw.stock.yah...</td>\n",
       "      <td>https://s.yimg.com/ny/api/res/1.2/3qEveVGKp070...</td>\n",
       "    </tr>\n",
       "    <tr>\n",
       "      <th>1</th>\n",
       "      <td>_20250327_2</td>\n",
       "      <td>2025-03-27</td>\n",
       "      <td>焦點</td>\n",
       "      <td>賴士葆撞人畫面外流 警被起訴</td>\n",
       "      <td>去年7月間，國民黨立委賴士葆駕車行駛在台北市大安區時，不慎撞傷走在斑馬線上2位女性行人，沒想...</td>\n",
       "      <td>暫無</td>\n",
       "      <td>暫無</td>\n",
       "      <td>[('台灣', 10), ('賴士葆', 9), ('警員', 9), ('照片', 7),...</td>\n",
       "      <td>['去年', '7月', '間', '，', '國民黨', '立委', '賴士葆', '駕車...</td>\n",
       "      <td>['國民黨', '立委', '賴士葆', '台北市', '大安區', '斑馬線', '女性'...</td>\n",
       "      <td>[NerToken(word='去年7月', ner='DATE', idx=(0, 4))...</td>\n",
       "      <td>[('去年', 'Nd'), ('7月', 'Nd'), ('間', 'Ng'), ('，'...</td>\n",
       "      <td>https://tw.news.yahoo.com/%E8%B3%B4%E5%A3%AB%E...</td>\n",
       "      <td>https://s.yimg.com/ny/api/res/1.2/PPzJSVLdFBTm...</td>\n",
       "    </tr>\n",
       "    <tr>\n",
       "      <th>2</th>\n",
       "      <td>_20250327_3</td>\n",
       "      <td>2025-03-27</td>\n",
       "      <td>焦點</td>\n",
       "      <td>墾丁爆非法民宿飆價 署長說重話</td>\n",
       "      <td>台灣祭將於4月3日至5日登場，有民眾在社群平台反映，活動期間發現墾丁地區一間旅館哄抬價格。屏...</td>\n",
       "      <td>暫無</td>\n",
       "      <td>暫無</td>\n",
       "      <td>[('業者', 8), ('價格', 4), ('旅宿', 4), ('台灣祭', 3), ...</td>\n",
       "      <td>['台灣祭', '將', '於', '4月', '3日', '至', '5日', '登場',...</td>\n",
       "      <td>['台灣祭', '民眾', '社群', '平台', '活動', '期間', '墾丁', '地...</td>\n",
       "      <td>[NerToken(word='台灣祭', ner='EVENT', idx=(0, 3))...</td>\n",
       "      <td>[('台灣祭', 'Na'), ('將', 'D'), ('於', 'P'), ('4月',...</td>\n",
       "      <td>https://tw.news.yahoo.com/%E5%A2%BE%E4%B8%81%E...</td>\n",
       "      <td>https://s.yimg.com/ny/api/res/1.2/E9TwmMfRm0bQ...</td>\n",
       "    </tr>\n",
       "    <tr>\n",
       "      <th>3</th>\n",
       "      <td>_20250327_4</td>\n",
       "      <td>2025-03-27</td>\n",
       "      <td>焦點</td>\n",
       "      <td>我軍艦與陸漁船擦撞 海軍發聲</td>\n",
       "      <td>海軍今天表示，中和軍艦凌晨在台中港外海與中國籍漁船擦碰，雙方人員均無損傷，艦艇受損部分不影響...</td>\n",
       "      <td>暫無</td>\n",
       "      <td>暫無</td>\n",
       "      <td>[('海軍', 4), ('艦隊', 3), ('指揮部', 3), ('中和', 2), ...</td>\n",
       "      <td>['海軍', '今天', '表示', '，', '中和', '軍艦', '凌晨', '在',...</td>\n",
       "      <td>['海軍', '中和', '軍艦', '台中港', '外海', '中國籍', '漁船', '...</td>\n",
       "      <td>[NerToken(word='今天', ner='DATE', idx=(2, 4)), ...</td>\n",
       "      <td>[('海軍', 'Nc'), ('今天', 'Nd'), ('表示', 'VE'), ('，...</td>\n",
       "      <td>https://tw.news.yahoo.com/%E6%B5%B7%E8%BB%8D%E...</td>\n",
       "      <td>https://s.yimg.com/ny/api/res/1.2/_4BjyXb7OV7a...</td>\n",
       "    </tr>\n",
       "    <tr>\n",
       "      <th>4</th>\n",
       "      <td>_20250327_5</td>\n",
       "      <td>2025-03-27</td>\n",
       "      <td>焦點</td>\n",
       "      <td>受陸官媒訪問批賴 區桂芝被檢舉</td>\n",
       "      <td>北一女中教師區桂芝日前接受大陸官媒採訪，批評總統賴清德將中國定調為「境外敵對勢力」，遭民眾檢...</td>\n",
       "      <td>暫無</td>\n",
       "      <td>暫無</td>\n",
       "      <td>[('區桂芝', 5), ('大陸', 5), ('教育局', 5), ('中國', 4),...</td>\n",
       "      <td>['北一女中', '教師', '區桂芝', '日前', '接受', '大陸', '官媒', ...</td>\n",
       "      <td>['北一女中', '教師', '區桂芝', '大陸', '官媒', '總統', '賴清德',...</td>\n",
       "      <td>[NerToken(word='北一女中', ner='FAC', idx=(0, 4)),...</td>\n",
       "      <td>[('北一女中', 'Nc'), ('教師', 'Na'), ('區桂芝', 'Nb'), ...</td>\n",
       "      <td>https://tw.news.yahoo.com/%E5%8C%97%E4%B8%80%E...</td>\n",
       "      <td>https://s.yimg.com/ny/api/res/1.2/_FP1JJNJzanE...</td>\n",
       "    </tr>\n",
       "    <tr>\n",
       "      <th>...</th>\n",
       "      <td>...</td>\n",
       "      <td>...</td>\n",
       "      <td>...</td>\n",
       "      <td>...</td>\n",
       "      <td>...</td>\n",
       "      <td>...</td>\n",
       "      <td>...</td>\n",
       "      <td>...</td>\n",
       "      <td>...</td>\n",
       "      <td>...</td>\n",
       "      <td>...</td>\n",
       "      <td>...</td>\n",
       "      <td>...</td>\n",
       "      <td>...</td>\n",
       "    </tr>\n",
       "    <tr>\n",
       "      <th>211</th>\n",
       "      <td>game-3c_20250327_15</td>\n",
       "      <td>2025-03-27</td>\n",
       "      <td>遊戲3C</td>\n",
       "      <td>新諜照透露 Galaxy Tab S10 FE 和 FE+ 擁有更薄機身Yahoo Tech...</td>\n",
       "      <td>關於三星未發表的新平板Galaxy Tab S10 FE和 FE+ 今天evleaks又帶來...</td>\n",
       "      <td>暫無</td>\n",
       "      <td>暫無</td>\n",
       "      <td>[('三星', 2), ('諜照', 2), ('頻道', 2), ('平板', 1), (...</td>\n",
       "      <td>['關於', '三星', '未', '發表', '的', '新', '平板', 'Galax...</td>\n",
       "      <td>['三星', '平板', '消息', '諜照', '厚度', '圖裡', '螢幕', '尺寸...</td>\n",
       "      <td>[NerToken(word='alaxy Tab S10', ner='PRODUCT',...</td>\n",
       "      <td>[('關於', 'P'), ('三星', 'Nb'), ('未', 'D'), ('發表',...</td>\n",
       "      <td>https://tw.news.yahoo.com//10%E5%A5%97%E5%BE%B...</td>\n",
       "      <td>https://s.yimg.com/ny/api/res/1.2/SR2RPpAbBmTd...</td>\n",
       "    </tr>\n",
       "    <tr>\n",
       "      <th>212</th>\n",
       "      <td>game-3c_20250327_16</td>\n",
       "      <td>2025-03-27</td>\n",
       "      <td>遊戲3C</td>\n",
       "      <td>PS Plus免費遊戲｜《機器戰警：惡棍城市》領銜 4 月會員免費陣容Yahoo Tech發...</td>\n",
       "      <td>今日 Sony 公布了 PS Plus 的 4 月份會員免費遊戲陣容。這次的作品共有 3 款...</td>\n",
       "      <td>暫無</td>\n",
       "      <td>暫無</td>\n",
       "      <td>[('遊戲', 3), ('玩家', 2), ('會員', 1), ('陣容', 1), (...</td>\n",
       "      <td>['今日', ' Sony', ' ', '公布', '了', ' PS Plus', ' ...</td>\n",
       "      <td>['會員', '遊戲', '陣容', '作品', '機器', '戰警', '惡棍', '城市...</td>\n",
       "      <td>[NerToken(word='今日', ner='DATE', idx=(0, 2)), ...</td>\n",
       "      <td>[('今日', 'Nd'), (' Sony', 'FW'), (' ', 'WHITESP...</td>\n",
       "      <td>https://tw.news.yahoo.com//%E5%92%8C%E7%89%9B%...</td>\n",
       "      <td>https://s.yimg.com/ny/api/res/1.2/FjUjIxoPYKOg...</td>\n",
       "    </tr>\n",
       "    <tr>\n",
       "      <th>213</th>\n",
       "      <td>game-3c_20250327_17</td>\n",
       "      <td>2025-03-27</td>\n",
       "      <td>遊戲3C</td>\n",
       "      <td>hololive Bijou、Kobo等人玩《inZOI》捏寫實版角色！顏藝連發成為新迷因Y...</td>\n",
       "      <td>hololive EN 神話組的 Takanashi Kiara，日前在生活模擬新作《inZ...</td>\n",
       "      <td>暫無</td>\n",
       "      <td>暫無</td>\n",
       "      <td>[('動作', 3), ('生活', 2), ('角色', 2), ('功能', 2), (...</td>\n",
       "      <td>['hololive', ' EN ', '神話組', '的', ' Takanashi',...</td>\n",
       "      <td>['神話組', '生活', '新作', '角色', '功能', '動作', '觀眾', '觀...</td>\n",
       "      <td>[NerToken(word='日前', ner='DATE', idx=(33, 35))...</td>\n",
       "      <td>[('hololive', 'FW'), (' EN ', 'FW'), ('神話組', '...</td>\n",
       "      <td>https://tw.news.yahoo.com//%E5%AD%AB%E8%97%9D%...</td>\n",
       "      <td>https://s.yimg.com/ny/api/res/1.2/1crFN5a7Kpy6...</td>\n",
       "    </tr>\n",
       "    <tr>\n",
       "      <th>214</th>\n",
       "      <td>game-3c_20250327_18</td>\n",
       "      <td>2025-03-27</td>\n",
       "      <td>遊戲3C</td>\n",
       "      <td>iOS 19 設計疑似流出，但不同爆料人各執一詞Yahoo Tech發起對話3 小時前</td>\n",
       "      <td>WWDC 2025 的日期剛敲定，就有人跑出來給預定的當日主角 iOS 19 爆料了。此前曝...</td>\n",
       "      <td>暫無</td>\n",
       "      <td>暫無</td>\n",
       "      <td>[('蘋果', 3), ('設計', 2), ('視覺', 2), ('系統', 2), (...</td>\n",
       "      <td>['WWDC 2025 ', '的', '日期', '剛', '敲定', '，', '就',...</td>\n",
       "      <td>['日期', '主角', '爆料', '設計', '情報', '短片', '視覺', '風格...</td>\n",
       "      <td>[NerToken(word='新 iPhone', ner='ORG', idx=(48,...</td>\n",
       "      <td>[('WWDC 2025 ', 'FW'), ('的', 'DE'), ('日期', 'Na...</td>\n",
       "      <td>https://tw.news.yahoo.com//hanni-%E5%90%8C%E6%...</td>\n",
       "      <td>https://s.yimg.com/ny/api/res/1.2/yh1MKlEAae.1...</td>\n",
       "    </tr>\n",
       "    <tr>\n",
       "      <th>215</th>\n",
       "      <td>game-3c_20250327_19</td>\n",
       "      <td>2025-03-27</td>\n",
       "      <td>遊戲3C</td>\n",
       "      <td>​馬斯克的DOGE員工 曾「支援」犯罪集團涉黑客行動火報發起對話4 小時前</td>\n",
       "      <td>火報記者 陳銳/報導根據《路透》報導揭露，美國 DOGE 技術團隊核心成員 Edward C...</td>\n",
       "      <td>暫無</td>\n",
       "      <td>暫無</td>\n",
       "      <td>[('網路', 9), ('公司', 5), ('組織', 4), ('政府', 4), (...</td>\n",
       "      <td>['火報', '記者', ' ', '陳銳', '/', '報導', '根據', '《', ...</td>\n",
       "      <td>['火報', '記者', '陳銳', '路透', '美國', '技術', '團隊', '核心...</td>\n",
       "      <td>[NerToken(word=' 陳銳', ner='PERSON', idx=(4, 7)...</td>\n",
       "      <td>[('火報', 'Nb'), ('記者', 'Na'), (' ', 'WHITESPACE...</td>\n",
       "      <td>https://tw.news.yahoo.com//%E5%8F%B0%E4%B8%AD-...</td>\n",
       "      <td>https://s.yimg.com/ny/api/res/1.2/qr2mt0ykO0UO...</td>\n",
       "    </tr>\n",
       "  </tbody>\n",
       "</table>\n",
       "<p>177 rows × 14 columns</p>\n",
       "</div>"
      ],
      "text/plain": [
       "                 item_id        date category  \\\n",
       "0            _20250327_1  2025-03-27       焦點   \n",
       "1            _20250327_2  2025-03-27       焦點   \n",
       "2            _20250327_3  2025-03-27       焦點   \n",
       "3            _20250327_4  2025-03-27       焦點   \n",
       "4            _20250327_5  2025-03-27       焦點   \n",
       "..                   ...         ...      ...   \n",
       "211  game-3c_20250327_15  2025-03-27     遊戲3C   \n",
       "212  game-3c_20250327_16  2025-03-27     遊戲3C   \n",
       "213  game-3c_20250327_17  2025-03-27     遊戲3C   \n",
       "214  game-3c_20250327_18  2025-03-27     遊戲3C   \n",
       "215  game-3c_20250327_19  2025-03-27     遊戲3C   \n",
       "\n",
       "                                                 title  \\\n",
       "0                                   台股重挫308點 失守22000關卡   \n",
       "1                                       賴士葆撞人畫面外流 警被起訴   \n",
       "2                                      墾丁爆非法民宿飆價 署長說重話   \n",
       "3                                       我軍艦與陸漁船擦撞 海軍發聲   \n",
       "4                                      受陸官媒訪問批賴 區桂芝被檢舉   \n",
       "..                                                 ...   \n",
       "211  新諜照透露 Galaxy Tab S10 FE 和 FE+ 擁有更薄機身Yahoo Tech...   \n",
       "212  PS Plus免費遊戲｜《機器戰警：惡棍城市》領銜 4 月會員免費陣容Yahoo Tech發...   \n",
       "213  hololive Bijou、Kobo等人玩《inZOI》捏寫實版角色！顏藝連發成為新迷因Y...   \n",
       "214        iOS 19 設計疑似流出，但不同爆料人各執一詞Yahoo Tech發起對話3 小時前   \n",
       "215              ​馬斯克的DOGE員工 曾「支援」犯罪集團涉黑客行動火報發起對話4 小時前   \n",
       "\n",
       "                                               content sentiment summary  \\\n",
       "0    美國總統川普準備徵收汽車關稅，美股主要指數全數下跌，台積電重挫4.09%，台積電台北現股今日...        暫無      暫無   \n",
       "1    去年7月間，國民黨立委賴士葆駕車行駛在台北市大安區時，不慎撞傷走在斑馬線上2位女性行人，沒想...        暫無      暫無   \n",
       "2    台灣祭將於4月3日至5日登場，有民眾在社群平台反映，活動期間發現墾丁地區一間旅館哄抬價格。屏...        暫無      暫無   \n",
       "3    海軍今天表示，中和軍艦凌晨在台中港外海與中國籍漁船擦碰，雙方人員均無損傷，艦艇受損部分不影響...        暫無      暫無   \n",
       "4    北一女中教師區桂芝日前接受大陸官媒採訪，批評總統賴清德將中國定調為「境外敵對勢力」，遭民眾檢...        暫無      暫無   \n",
       "..                                                 ...       ...     ...   \n",
       "211  關於三星未發表的新平板Galaxy Tab S10 FE和 FE+ 今天evleaks又帶來...        暫無      暫無   \n",
       "212  今日 Sony 公布了 PS Plus 的 4 月份會員免費遊戲陣容。這次的作品共有 3 款...        暫無      暫無   \n",
       "213  hololive EN 神話組的 Takanashi Kiara，日前在生活模擬新作《inZ...        暫無      暫無   \n",
       "214  WWDC 2025 的日期剛敲定，就有人跑出來給預定的當日主角 iOS 19 爆料了。此前曝...        暫無      暫無   \n",
       "215  火報記者 陳銳/報導根據《路透》報導揭露，美國 DOGE 技術團隊核心成員 Edward C...        暫無      暫無   \n",
       "\n",
       "                                          top_key_freq  \\\n",
       "0    [('台積電', 4), ('指數', 3), ('月線', 3), ('美國', 2), ...   \n",
       "1    [('台灣', 10), ('賴士葆', 9), ('警員', 9), ('照片', 7),...   \n",
       "2    [('業者', 8), ('價格', 4), ('旅宿', 4), ('台灣祭', 3), ...   \n",
       "3    [('海軍', 4), ('艦隊', 3), ('指揮部', 3), ('中和', 2), ...   \n",
       "4    [('區桂芝', 5), ('大陸', 5), ('教育局', 5), ('中國', 4),...   \n",
       "..                                                 ...   \n",
       "211  [('三星', 2), ('諜照', 2), ('頻道', 2), ('平板', 1), (...   \n",
       "212  [('遊戲', 3), ('玩家', 2), ('會員', 1), ('陣容', 1), (...   \n",
       "213  [('動作', 3), ('生活', 2), ('角色', 2), ('功能', 2), (...   \n",
       "214  [('蘋果', 3), ('設計', 2), ('視覺', 2), ('系統', 2), (...   \n",
       "215  [('網路', 9), ('公司', 5), ('組織', 4), ('政府', 4), (...   \n",
       "\n",
       "                                                tokens  \\\n",
       "0    ['美國', '總統', '川普', '準備', '徵收', '汽車', '關稅', '，'...   \n",
       "1    ['去年', '7月', '間', '，', '國民黨', '立委', '賴士葆', '駕車...   \n",
       "2    ['台灣祭', '將', '於', '4月', '3日', '至', '5日', '登場',...   \n",
       "3    ['海軍', '今天', '表示', '，', '中和', '軍艦', '凌晨', '在',...   \n",
       "4    ['北一女中', '教師', '區桂芝', '日前', '接受', '大陸', '官媒', ...   \n",
       "..                                                 ...   \n",
       "211  ['關於', '三星', '未', '發表', '的', '新', '平板', 'Galax...   \n",
       "212  ['今日', ' Sony', ' ', '公布', '了', ' PS Plus', ' ...   \n",
       "213  ['hololive', ' EN ', '神話組', '的', ' Takanashi',...   \n",
       "214  ['WWDC 2025 ', '的', '日期', '剛', '敲定', '，', '就',...   \n",
       "215  ['火報', '記者', ' ', '陳銳', '/', '報導', '根據', '《', ...   \n",
       "\n",
       "                                             tokens_v2  \\\n",
       "0    ['美國', '總統', '川普', '汽車', '關稅', '美股', '指數', '台積...   \n",
       "1    ['國民黨', '立委', '賴士葆', '台北市', '大安區', '斑馬線', '女性'...   \n",
       "2    ['台灣祭', '民眾', '社群', '平台', '活動', '期間', '墾丁', '地...   \n",
       "3    ['海軍', '中和', '軍艦', '台中港', '外海', '中國籍', '漁船', '...   \n",
       "4    ['北一女中', '教師', '區桂芝', '大陸', '官媒', '總統', '賴清德',...   \n",
       "..                                                 ...   \n",
       "211  ['三星', '平板', '消息', '諜照', '厚度', '圖裡', '螢幕', '尺寸...   \n",
       "212  ['會員', '遊戲', '陣容', '作品', '機器', '戰警', '惡棍', '城市...   \n",
       "213  ['神話組', '生活', '新作', '角色', '功能', '動作', '觀眾', '觀...   \n",
       "214  ['日期', '主角', '爆料', '設計', '情報', '短片', '視覺', '風格...   \n",
       "215  ['火報', '記者', '陳銳', '路透', '美國', '技術', '團隊', '核心...   \n",
       "\n",
       "                                              entities  \\\n",
       "0    [NerToken(word='美國', ner='GPE', idx=(0, 2)), N...   \n",
       "1    [NerToken(word='去年7月', ner='DATE', idx=(0, 4))...   \n",
       "2    [NerToken(word='台灣祭', ner='EVENT', idx=(0, 3))...   \n",
       "3    [NerToken(word='今天', ner='DATE', idx=(2, 4)), ...   \n",
       "4    [NerToken(word='北一女中', ner='FAC', idx=(0, 4)),...   \n",
       "..                                                 ...   \n",
       "211  [NerToken(word='alaxy Tab S10', ner='PRODUCT',...   \n",
       "212  [NerToken(word='今日', ner='DATE', idx=(0, 2)), ...   \n",
       "213  [NerToken(word='日前', ner='DATE', idx=(33, 35))...   \n",
       "214  [NerToken(word='新 iPhone', ner='ORG', idx=(48,...   \n",
       "215  [NerToken(word=' 陳銳', ner='PERSON', idx=(4, 7)...   \n",
       "\n",
       "                                             token_pos  \\\n",
       "0    [('美國', 'Nc'), ('總統', 'Na'), ('川普', 'Nb'), ('準...   \n",
       "1    [('去年', 'Nd'), ('7月', 'Nd'), ('間', 'Ng'), ('，'...   \n",
       "2    [('台灣祭', 'Na'), ('將', 'D'), ('於', 'P'), ('4月',...   \n",
       "3    [('海軍', 'Nc'), ('今天', 'Nd'), ('表示', 'VE'), ('，...   \n",
       "4    [('北一女中', 'Nc'), ('教師', 'Na'), ('區桂芝', 'Nb'), ...   \n",
       "..                                                 ...   \n",
       "211  [('關於', 'P'), ('三星', 'Nb'), ('未', 'D'), ('發表',...   \n",
       "212  [('今日', 'Nd'), (' Sony', 'FW'), (' ', 'WHITESP...   \n",
       "213  [('hololive', 'FW'), (' EN ', 'FW'), ('神話組', '...   \n",
       "214  [('WWDC 2025 ', 'FW'), ('的', 'DE'), ('日期', 'Na...   \n",
       "215  [('火報', 'Nb'), ('記者', 'Na'), (' ', 'WHITESPACE...   \n",
       "\n",
       "                                                  link  \\\n",
       "0    https://tw.news.yahoo.com/https://tw.stock.yah...   \n",
       "1    https://tw.news.yahoo.com/%E8%B3%B4%E5%A3%AB%E...   \n",
       "2    https://tw.news.yahoo.com/%E5%A2%BE%E4%B8%81%E...   \n",
       "3    https://tw.news.yahoo.com/%E6%B5%B7%E8%BB%8D%E...   \n",
       "4    https://tw.news.yahoo.com/%E5%8C%97%E4%B8%80%E...   \n",
       "..                                                 ...   \n",
       "211  https://tw.news.yahoo.com//10%E5%A5%97%E5%BE%B...   \n",
       "212  https://tw.news.yahoo.com//%E5%92%8C%E7%89%9B%...   \n",
       "213  https://tw.news.yahoo.com//%E5%AD%AB%E8%97%9D%...   \n",
       "214  https://tw.news.yahoo.com//hanni-%E5%90%8C%E6%...   \n",
       "215  https://tw.news.yahoo.com//%E5%8F%B0%E4%B8%AD-...   \n",
       "\n",
       "                                            photo_link  \n",
       "0    https://s.yimg.com/ny/api/res/1.2/3qEveVGKp070...  \n",
       "1    https://s.yimg.com/ny/api/res/1.2/PPzJSVLdFBTm...  \n",
       "2    https://s.yimg.com/ny/api/res/1.2/E9TwmMfRm0bQ...  \n",
       "3    https://s.yimg.com/ny/api/res/1.2/_4BjyXb7OV7a...  \n",
       "4    https://s.yimg.com/ny/api/res/1.2/_FP1JJNJzanE...  \n",
       "..                                                 ...  \n",
       "211  https://s.yimg.com/ny/api/res/1.2/SR2RPpAbBmTd...  \n",
       "212  https://s.yimg.com/ny/api/res/1.2/FjUjIxoPYKOg...  \n",
       "213  https://s.yimg.com/ny/api/res/1.2/1crFN5a7Kpy6...  \n",
       "214  https://s.yimg.com/ny/api/res/1.2/yh1MKlEAae.1...  \n",
       "215  https://s.yimg.com/ny/api/res/1.2/qr2mt0ykO0UO...  \n",
       "\n",
       "[177 rows x 14 columns]"
      ]
     },
     "execution_count": 92,
     "metadata": {},
     "output_type": "execute_result"
    }
   ],
   "source": [
    "df[df['date'] == '2025-03-27']"
   ]
  },
  {
   "cell_type": "code",
   "execution_count": 93,
   "metadata": {},
   "outputs": [
    {
     "data": {
      "text/plain": [
       "177"
      ]
     },
     "execution_count": 93,
     "metadata": {},
     "output_type": "execute_result"
    }
   ],
   "source": [
    "len(df[df['date'] == '2025-03-27'])"
   ]
  },
  {
   "cell_type": "code",
   "execution_count": null,
   "metadata": {},
   "outputs": [],
   "source": []
  },
  {
   "cell_type": "markdown",
   "metadata": {},
   "source": [
    "### Find news with date greater than the start date and less than the end date"
   ]
  },
  {
   "cell_type": "code",
   "execution_count": 94,
   "metadata": {},
   "outputs": [
    {
     "data": {
      "text/plain": [
       "216"
      ]
     },
     "execution_count": 94,
     "metadata": {},
     "output_type": "execute_result"
    }
   ],
   "source": [
    "df_interval = df[(df['date'] >= '2025-03-21') & (df['date'] <= '2025-03-27')]\n",
    "len(df_interval )"
   ]
  },
  {
   "cell_type": "code",
   "execution_count": 95,
   "metadata": {},
   "outputs": [
    {
     "data": {
      "text/plain": [
       "8"
      ]
     },
     "execution_count": 95,
     "metadata": {},
     "output_type": "execute_result"
    }
   ],
   "source": [
    "# same result using query\n",
    "df_interval = df.query(\"date >= '2025-03-21' & date <= '2025-03-25'\")\n",
    "len(df_interval )"
   ]
  },
  {
   "cell_type": "code",
   "execution_count": null,
   "metadata": {},
   "outputs": [],
   "source": []
  },
  {
   "cell_type": "markdown",
   "metadata": {},
   "source": [
    "# date time"
   ]
  },
  {
   "cell_type": "code",
   "execution_count": 96,
   "metadata": {},
   "outputs": [],
   "source": [
    "from datetime import datetime, timedelta, date"
   ]
  },
  {
   "cell_type": "markdown",
   "metadata": {},
   "source": [
    "### datetime and  timedelta"
   ]
  },
  {
   "cell_type": "code",
   "execution_count": 97,
   "metadata": {},
   "outputs": [],
   "source": [
    "# You can assign a specific end_date as you like."
   ]
  },
  {
   "cell_type": "code",
   "execution_count": 98,
   "metadata": {},
   "outputs": [],
   "source": [
    "end_date = date(2025,4,1)"
   ]
  },
  {
   "cell_type": "code",
   "execution_count": 99,
   "metadata": {},
   "outputs": [
    {
     "data": {
      "text/plain": [
       "datetime.date(2025, 4, 1)"
      ]
     },
     "execution_count": 99,
     "metadata": {},
     "output_type": "execute_result"
    }
   ],
   "source": [
    "end_date "
   ]
  },
  {
   "cell_type": "code",
   "execution_count": 100,
   "metadata": {},
   "outputs": [
    {
     "data": {
      "text/plain": [
       "datetime.timedelta(days=10)"
      ]
     },
     "execution_count": 100,
     "metadata": {},
     "output_type": "execute_result"
    }
   ],
   "source": [
    "timedelta(weeks=1,days=3)#算天數"
   ]
  },
  {
   "cell_type": "code",
   "execution_count": 101,
   "metadata": {},
   "outputs": [
    {
     "data": {
      "text/plain": [
       "datetime.timedelta(days=3)"
      ]
     },
     "execution_count": 101,
     "metadata": {},
     "output_type": "execute_result"
    }
   ],
   "source": [
    "timedelta(days=3)"
   ]
  },
  {
   "cell_type": "code",
   "execution_count": 102,
   "metadata": {},
   "outputs": [],
   "source": [
    "# Calculate the start date "
   ]
  },
  {
   "cell_type": "code",
   "execution_count": 103,
   "metadata": {},
   "outputs": [],
   "source": [
    "start_date = end_date  - timedelta(weeks=1,days=3)"
   ]
  },
  {
   "cell_type": "code",
   "execution_count": 104,
   "metadata": {},
   "outputs": [
    {
     "data": {
      "text/plain": [
       "datetime.date(2025, 3, 22)"
      ]
     },
     "execution_count": 104,
     "metadata": {},
     "output_type": "execute_result"
    }
   ],
   "source": [
    "start_date "
   ]
  },
  {
   "cell_type": "code",
   "execution_count": 105,
   "metadata": {},
   "outputs": [],
   "source": [
    "# convert date format into string format"
   ]
  },
  {
   "cell_type": "code",
   "execution_count": 106,
   "metadata": {},
   "outputs": [],
   "source": [
    "start_date = start_date.strftime('%Y-%m-%d')"
   ]
  },
  {
   "cell_type": "code",
   "execution_count": 107,
   "metadata": {},
   "outputs": [
    {
     "data": {
      "text/plain": [
       "'2025-03-22'"
      ]
     },
     "execution_count": 107,
     "metadata": {},
     "output_type": "execute_result"
    }
   ],
   "source": [
    "start_date "
   ]
  },
  {
   "cell_type": "code",
   "execution_count": null,
   "metadata": {},
   "outputs": [],
   "source": []
  },
  {
   "cell_type": "code",
   "execution_count": null,
   "metadata": {},
   "outputs": [],
   "source": []
  },
  {
   "cell_type": "code",
   "execution_count": 108,
   "metadata": {},
   "outputs": [],
   "source": [
    "# end_date can be today."
   ]
  },
  {
   "cell_type": "code",
   "execution_count": 109,
   "metadata": {},
   "outputs": [
    {
     "data": {
      "text/plain": [
       "datetime.date(2025, 3, 31)"
      ]
     },
     "execution_count": 109,
     "metadata": {},
     "output_type": "execute_result"
    }
   ],
   "source": [
    "date.today()"
   ]
  },
  {
   "cell_type": "code",
   "execution_count": 110,
   "metadata": {},
   "outputs": [],
   "source": [
    "end_date = date.today()"
   ]
  },
  {
   "cell_type": "code",
   "execution_count": 111,
   "metadata": {},
   "outputs": [],
   "source": [
    "start_date = date.today() - timedelta(weeks=2,days=5)"
   ]
  },
  {
   "cell_type": "code",
   "execution_count": 112,
   "metadata": {},
   "outputs": [
    {
     "data": {
      "text/plain": [
       "datetime.date(2025, 3, 12)"
      ]
     },
     "execution_count": 112,
     "metadata": {},
     "output_type": "execute_result"
    }
   ],
   "source": [
    "start_date"
   ]
  },
  {
   "cell_type": "code",
   "execution_count": 113,
   "metadata": {},
   "outputs": [
    {
     "data": {
      "text/plain": [
       "datetime.date(2025, 2, 19)"
      ]
     },
     "execution_count": 113,
     "metadata": {},
     "output_type": "execute_result"
    }
   ],
   "source": [
    "start_date = date.today() - timedelta(weeks=5,days=5)\n",
    "start_date"
   ]
  },
  {
   "cell_type": "code",
   "execution_count": null,
   "metadata": {},
   "outputs": [],
   "source": []
  },
  {
   "cell_type": "markdown",
   "metadata": {},
   "source": [
    "### How to calculate the date of previous 2 weeks"
   ]
  },
  {
   "cell_type": "code",
   "execution_count": 114,
   "metadata": {},
   "outputs": [
    {
     "data": {
      "text/plain": [
       "datetime.timedelta(days=14)"
      ]
     },
     "execution_count": 114,
     "metadata": {},
     "output_type": "execute_result"
    }
   ],
   "source": [
    "timedelta(weeks=2)"
   ]
  },
  {
   "cell_type": "code",
   "execution_count": 115,
   "metadata": {},
   "outputs": [],
   "source": [
    "# end date: the date of the latest record of news\n",
    "end_date = df.date.max()"
   ]
  },
  {
   "cell_type": "code",
   "execution_count": 116,
   "metadata": {},
   "outputs": [
    {
     "data": {
      "text/plain": [
       "'2025-03-27'"
      ]
     },
     "execution_count": 116,
     "metadata": {},
     "output_type": "execute_result"
    }
   ],
   "source": [
    "end_date"
   ]
  },
  {
   "cell_type": "code",
   "execution_count": 117,
   "metadata": {},
   "outputs": [
    {
     "data": {
      "text/plain": [
       "datetime.datetime(2025, 3, 27, 0, 0)"
      ]
     },
     "execution_count": 117,
     "metadata": {},
     "output_type": "execute_result"
    }
   ],
   "source": [
    "datetime.strptime( end_date , '%Y-%m-%d')"
   ]
  },
  {
   "cell_type": "code",
   "execution_count": 118,
   "metadata": {},
   "outputs": [
    {
     "data": {
      "text/plain": [
       "datetime.date(2025, 3, 27)"
      ]
     },
     "execution_count": 118,
     "metadata": {},
     "output_type": "execute_result"
    }
   ],
   "source": [
    "datetime.strptime( end_date , '%Y-%m-%d').date() "
   ]
  },
  {
   "cell_type": "code",
   "execution_count": 119,
   "metadata": {},
   "outputs": [
    {
     "data": {
      "text/plain": [
       "datetime.date(2025, 3, 13)"
      ]
     },
     "execution_count": 119,
     "metadata": {},
     "output_type": "execute_result"
    }
   ],
   "source": [
    "weeks=2\n",
    "datetime.strptime( end_date , '%Y-%m-%d').date() - timedelta(weeks=weeks)"
   ]
  },
  {
   "cell_type": "code",
   "execution_count": 120,
   "metadata": {},
   "outputs": [],
   "source": [
    "# start date\n",
    "start_date = (datetime.strptime( end_date , '%Y-%m-%d').date() - timedelta(weeks=weeks)).strftime('%Y-%m-%d')"
   ]
  },
  {
   "cell_type": "code",
   "execution_count": 121,
   "metadata": {},
   "outputs": [
    {
     "data": {
      "text/plain": [
       "datetime.date(2025, 3, 13)"
      ]
     },
     "execution_count": 121,
     "metadata": {},
     "output_type": "execute_result"
    }
   ],
   "source": [
    "datetime.strptime( end_date , '%Y-%m-%d').date() - timedelta(weeks=weeks)"
   ]
  },
  {
   "cell_type": "code",
   "execution_count": 122,
   "metadata": {},
   "outputs": [
    {
     "data": {
      "text/plain": [
       "'2025-03-13'"
      ]
     },
     "execution_count": 122,
     "metadata": {},
     "output_type": "execute_result"
    }
   ],
   "source": [
    "(datetime.strptime( end_date , '%Y-%m-%d').date() - timedelta(weeks=weeks)).strftime('%Y-%m-%d')"
   ]
  },
  {
   "cell_type": "code",
   "execution_count": null,
   "metadata": {},
   "outputs": [],
   "source": []
  },
  {
   "cell_type": "markdown",
   "metadata": {},
   "source": [
    "# Calculate time duration of news dataset\n",
    "\n",
    "the duration of data"
   ]
  },
  {
   "cell_type": "code",
   "execution_count": 123,
   "metadata": {},
   "outputs": [
    {
     "data": {
      "text/plain": [
       "'2025-03-23'"
      ]
     },
     "execution_count": 123,
     "metadata": {},
     "output_type": "execute_result"
    }
   ],
   "source": [
    "df.date.min()"
   ]
  },
  {
   "cell_type": "code",
   "execution_count": 124,
   "metadata": {},
   "outputs": [
    {
     "data": {
      "text/plain": [
       "'2025-03-27'"
      ]
     },
     "execution_count": 124,
     "metadata": {},
     "output_type": "execute_result"
    }
   ],
   "source": [
    "df.date.max()"
   ]
  },
  {
   "cell_type": "code",
   "execution_count": null,
   "metadata": {},
   "outputs": [],
   "source": []
  },
  {
   "cell_type": "code",
   "execution_count": 125,
   "metadata": {},
   "outputs": [],
   "source": [
    "d1 = datetime.strptime(str(df.date.min()), '%Y-%m-%d')\n",
    "d2 = datetime.strptime(str(df.date.max()), '%Y-%m-%d')"
   ]
  },
  {
   "cell_type": "code",
   "execution_count": 126,
   "metadata": {},
   "outputs": [
    {
     "data": {
      "text/plain": [
       "datetime.datetime(2025, 3, 23, 0, 0)"
      ]
     },
     "execution_count": 126,
     "metadata": {},
     "output_type": "execute_result"
    }
   ],
   "source": [
    "d1"
   ]
  },
  {
   "cell_type": "code",
   "execution_count": 127,
   "metadata": {},
   "outputs": [],
   "source": [
    "date_num = d2 - d1"
   ]
  },
  {
   "cell_type": "code",
   "execution_count": 128,
   "metadata": {},
   "outputs": [
    {
     "data": {
      "text/plain": [
       "datetime.timedelta(days=4)"
      ]
     },
     "execution_count": 128,
     "metadata": {},
     "output_type": "execute_result"
    }
   ],
   "source": [
    "date_num"
   ]
  },
  {
   "cell_type": "code",
   "execution_count": 129,
   "metadata": {
    "scrolled": true
   },
   "outputs": [
    {
     "data": {
      "text/plain": [
       "4"
      ]
     },
     "execution_count": 129,
     "metadata": {},
     "output_type": "execute_result"
    }
   ],
   "source": [
    "date_num.days"
   ]
  },
  {
   "cell_type": "code",
   "execution_count": null,
   "metadata": {},
   "outputs": [],
   "source": []
  },
  {
   "cell_type": "code",
   "execution_count": null,
   "metadata": {},
   "outputs": [],
   "source": []
  },
  {
   "cell_type": "code",
   "execution_count": null,
   "metadata": {},
   "outputs": [],
   "source": []
  }
 ],
 "metadata": {
  "kernelspec": {
   "display_name": "base",
   "language": "python",
   "name": "python3"
  },
  "language_info": {
   "codemirror_mode": {
    "name": "ipython",
    "version": 3
   },
   "file_extension": ".py",
   "mimetype": "text/x-python",
   "name": "python",
   "nbconvert_exporter": "python",
   "pygments_lexer": "ipython3",
   "version": "3.9.18"
  },
  "toc": {
   "base_numbering": 1,
   "nav_menu": {},
   "number_sections": true,
   "sideBar": true,
   "skip_h1_title": false,
   "title_cell": "Table of Contents",
   "title_sidebar": "Contents",
   "toc_cell": false,
   "toc_position": {},
   "toc_section_display": true,
   "toc_window_display": false
  }
 },
 "nbformat": 4,
 "nbformat_minor": 2
}
